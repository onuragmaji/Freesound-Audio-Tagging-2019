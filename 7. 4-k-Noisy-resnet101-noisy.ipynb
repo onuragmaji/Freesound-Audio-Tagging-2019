{
 "cells": [
  {
   "cell_type": "code",
   "execution_count": 1,
   "metadata": {
    "_cell_guid": "b1076dfc-b9ad-4769-8c92-a6c4dae69d19",
    "_uuid": "8f2839f25d086af736a60e9eeb907d3b93b6e0e5",
    "execution": {
     "iopub.execute_input": "2020-10-04T17:25:10.534459Z",
     "iopub.status.busy": "2020-10-04T17:25:10.533376Z",
     "iopub.status.idle": "2020-10-04T17:25:10.536723Z",
     "shell.execute_reply": "2020-10-04T17:25:10.536135Z"
    },
    "papermill": {
     "duration": 0.061357,
     "end_time": "2020-10-04T17:25:10.536850",
     "exception": false,
     "start_time": "2020-10-04T17:25:10.475493",
     "status": "completed"
    },
    "tags": []
   },
   "outputs": [],
   "source": [
    "import numpy as np # linear algebra\n",
    "import pandas as pd # data processing, CSV file I/O (e.g. pd.read_csv)\n",
    "\n",
    "import os"
   ]
  },
  {
   "cell_type": "code",
   "execution_count": 2,
   "metadata": {
    "execution": {
     "iopub.execute_input": "2020-10-04T17:25:10.648290Z",
     "iopub.status.busy": "2020-10-04T17:25:10.647144Z",
     "iopub.status.idle": "2020-10-04T17:25:10.686832Z",
     "shell.execute_reply": "2020-10-04T17:25:10.685579Z"
    },
    "papermill": {
     "duration": 0.099515,
     "end_time": "2020-10-04T17:25:10.686972",
     "exception": false,
     "start_time": "2020-10-04T17:25:10.587457",
     "status": "completed"
    },
    "tags": []
   },
   "outputs": [],
   "source": [
    "traindf_noisy=pd.read_csv('../input/freesound-audio-tagging-2019/train_noisy.csv',dtype=str)\n",
    "\n",
    "traindf_curated=pd.read_csv('../input/freesound-audio-tagging-2019/train_curated.csv',dtype=str)"
   ]
  },
  {
   "cell_type": "code",
   "execution_count": 3,
   "metadata": {
    "execution": {
     "iopub.execute_input": "2020-10-04T17:25:10.805106Z",
     "iopub.status.busy": "2020-10-04T17:25:10.803999Z",
     "iopub.status.idle": "2020-10-04T17:25:10.813036Z",
     "shell.execute_reply": "2020-10-04T17:25:10.813678Z"
    },
    "papermill": {
     "duration": 0.076156,
     "end_time": "2020-10-04T17:25:10.813833",
     "exception": false,
     "start_time": "2020-10-04T17:25:10.737677",
     "status": "completed"
    },
    "tags": []
   },
   "outputs": [
    {
     "data": {
      "text/html": [
       "<div>\n",
       "<style scoped>\n",
       "    .dataframe tbody tr th:only-of-type {\n",
       "        vertical-align: middle;\n",
       "    }\n",
       "\n",
       "    .dataframe tbody tr th {\n",
       "        vertical-align: top;\n",
       "    }\n",
       "\n",
       "    .dataframe thead th {\n",
       "        text-align: right;\n",
       "    }\n",
       "</style>\n",
       "<table border=\"1\" class=\"dataframe\">\n",
       "  <thead>\n",
       "    <tr style=\"text-align: right;\">\n",
       "      <th></th>\n",
       "      <th>fname</th>\n",
       "      <th>labels</th>\n",
       "    </tr>\n",
       "  </thead>\n",
       "  <tbody>\n",
       "    <tr>\n",
       "      <th>0</th>\n",
       "      <td>00097e21.wav</td>\n",
       "      <td>Bathtub_(filling_or_washing)</td>\n",
       "    </tr>\n",
       "    <tr>\n",
       "      <th>1</th>\n",
       "      <td>000b6cfb.wav</td>\n",
       "      <td>Motorcycle</td>\n",
       "    </tr>\n",
       "    <tr>\n",
       "      <th>2</th>\n",
       "      <td>00116cd2.wav</td>\n",
       "      <td>Marimba_and_xylophone,Glockenspiel</td>\n",
       "    </tr>\n",
       "    <tr>\n",
       "      <th>3</th>\n",
       "      <td>00127d14.wav</td>\n",
       "      <td>Water_tap_and_faucet,Sink_(filling_or_washing)</td>\n",
       "    </tr>\n",
       "    <tr>\n",
       "      <th>4</th>\n",
       "      <td>0019adae.wav</td>\n",
       "      <td>Raindrop</td>\n",
       "    </tr>\n",
       "  </tbody>\n",
       "</table>\n",
       "</div>"
      ],
      "text/plain": [
       "          fname                                          labels\n",
       "0  00097e21.wav                    Bathtub_(filling_or_washing)\n",
       "1  000b6cfb.wav                                      Motorcycle\n",
       "2  00116cd2.wav              Marimba_and_xylophone,Glockenspiel\n",
       "3  00127d14.wav  Water_tap_and_faucet,Sink_(filling_or_washing)\n",
       "4  0019adae.wav                                        Raindrop"
      ]
     },
     "execution_count": 3,
     "metadata": {},
     "output_type": "execute_result"
    }
   ],
   "source": [
    "traindf_noisy.head()"
   ]
  },
  {
   "cell_type": "markdown",
   "metadata": {},
   "source": [
    "# Loading 4-K Fold Noisy Train, CV and Test data"
   ]
  },
  {
   "cell_type": "code",
   "execution_count": 4,
   "metadata": {
    "execution": {
     "iopub.execute_input": "2020-10-04T17:25:10.928379Z",
     "iopub.status.busy": "2020-10-04T17:25:10.927135Z",
     "iopub.status.idle": "2020-10-04T17:25:10.966676Z",
     "shell.execute_reply": "2020-10-04T17:25:10.965652Z"
    },
    "papermill": {
     "duration": 0.101055,
     "end_time": "2020-10-04T17:25:10.966821",
     "exception": false,
     "start_time": "2020-10-04T17:25:10.865766",
     "status": "completed"
    },
    "tags": []
   },
   "outputs": [
    {
     "data": {
      "text/html": [
       "<div>\n",
       "<style scoped>\n",
       "    .dataframe tbody tr th:only-of-type {\n",
       "        vertical-align: middle;\n",
       "    }\n",
       "\n",
       "    .dataframe tbody tr th {\n",
       "        vertical-align: top;\n",
       "    }\n",
       "\n",
       "    .dataframe thead th {\n",
       "        text-align: right;\n",
       "    }\n",
       "</style>\n",
       "<table border=\"1\" class=\"dataframe\">\n",
       "  <thead>\n",
       "    <tr style=\"text-align: right;\">\n",
       "      <th></th>\n",
       "      <th>fname</th>\n",
       "      <th>labels</th>\n",
       "    </tr>\n",
       "  </thead>\n",
       "  <tbody>\n",
       "    <tr>\n",
       "      <th>0</th>\n",
       "      <td>161d2bb8.jpg</td>\n",
       "      <td>Bus,Microwave_oven</td>\n",
       "    </tr>\n",
       "    <tr>\n",
       "      <th>1</th>\n",
       "      <td>abf3a850.jpg</td>\n",
       "      <td>Bus</td>\n",
       "    </tr>\n",
       "    <tr>\n",
       "      <th>2</th>\n",
       "      <td>fd802069.jpg</td>\n",
       "      <td>Cheering</td>\n",
       "    </tr>\n",
       "    <tr>\n",
       "      <th>3</th>\n",
       "      <td>0f69e008_aug.jpg</td>\n",
       "      <td>Purr</td>\n",
       "    </tr>\n",
       "    <tr>\n",
       "      <th>4</th>\n",
       "      <td>5c51827a.jpg</td>\n",
       "      <td>Applause</td>\n",
       "    </tr>\n",
       "  </tbody>\n",
       "</table>\n",
       "</div>"
      ],
      "text/plain": [
       "              fname              labels\n",
       "0      161d2bb8.jpg  Bus,Microwave_oven\n",
       "1      abf3a850.jpg                 Bus\n",
       "2      fd802069.jpg            Cheering\n",
       "3  0f69e008_aug.jpg                Purr\n",
       "4      5c51827a.jpg            Applause"
      ]
     },
     "execution_count": 4,
     "metadata": {},
     "output_type": "execute_result"
    }
   ],
   "source": [
    "train_df = pd.read_csv(\"../input/sc2-total-aug-noisy-data/K_fold_data/K_fold_data/Noisy/Noisy_train_4.csv\")\n",
    "train_df.head()"
   ]
  },
  {
   "cell_type": "code",
   "execution_count": 5,
   "metadata": {
    "execution": {
     "iopub.execute_input": "2020-10-04T17:25:11.076696Z",
     "iopub.status.busy": "2020-10-04T17:25:11.075635Z",
     "iopub.status.idle": "2020-10-04T17:25:11.080301Z",
     "shell.execute_reply": "2020-10-04T17:25:11.079598Z"
    },
    "papermill": {
     "duration": 0.062207,
     "end_time": "2020-10-04T17:25:11.080422",
     "exception": false,
     "start_time": "2020-10-04T17:25:11.018215",
     "status": "completed"
    },
    "tags": []
   },
   "outputs": [
    {
     "data": {
      "text/plain": [
       "(19449, 2)"
      ]
     },
     "execution_count": 5,
     "metadata": {},
     "output_type": "execute_result"
    }
   ],
   "source": [
    "train_df.shape"
   ]
  },
  {
   "cell_type": "code",
   "execution_count": 6,
   "metadata": {
    "execution": {
     "iopub.execute_input": "2020-10-04T17:25:11.193197Z",
     "iopub.status.busy": "2020-10-04T17:25:11.192147Z",
     "iopub.status.idle": "2020-10-04T17:25:11.205436Z",
     "shell.execute_reply": "2020-10-04T17:25:11.204780Z"
    },
    "papermill": {
     "duration": 0.071882,
     "end_time": "2020-10-04T17:25:11.205614",
     "exception": false,
     "start_time": "2020-10-04T17:25:11.133732",
     "status": "completed"
    },
    "tags": []
   },
   "outputs": [
    {
     "data": {
      "text/plain": [
       "(4862, 2)"
      ]
     },
     "execution_count": 6,
     "metadata": {},
     "output_type": "execute_result"
    }
   ],
   "source": [
    "cv_df = pd.read_csv(\"../input/sc2-total-aug-noisy-data/K_fold_data/K_fold_data/Noisy/Noisy_cv_4.csv\")\n",
    "cv_df.shape"
   ]
  },
  {
   "cell_type": "code",
   "execution_count": 7,
   "metadata": {
    "execution": {
     "iopub.execute_input": "2020-10-04T17:25:11.318296Z",
     "iopub.status.busy": "2020-10-04T17:25:11.317157Z",
     "iopub.status.idle": "2020-10-04T17:25:11.331550Z",
     "shell.execute_reply": "2020-10-04T17:25:11.332129Z"
    },
    "papermill": {
     "duration": 0.074025,
     "end_time": "2020-10-04T17:25:11.332283",
     "exception": false,
     "start_time": "2020-10-04T17:25:11.258258",
     "status": "completed"
    },
    "tags": []
   },
   "outputs": [
    {
     "data": {
      "text/plain": [
       "(6078, 2)"
      ]
     },
     "execution_count": 7,
     "metadata": {},
     "output_type": "execute_result"
    }
   ],
   "source": [
    "    \n",
    "test_df = pd.read_csv(\"../input/sc2-total-aug-noisy-data/K_fold_data/K_fold_data/Noisy/Noisy_test.csv\") \n",
    "test_df.shape"
   ]
  },
  {
   "cell_type": "markdown",
   "metadata": {},
   "source": [
    "# Sklearn MultiLabelBinarizer to One-hot encode the multilablles"
   ]
  },
  {
   "cell_type": "code",
   "execution_count": 8,
   "metadata": {
    "execution": {
     "iopub.execute_input": "2020-10-04T17:25:11.449033Z",
     "iopub.status.busy": "2020-10-04T17:25:11.448053Z",
     "iopub.status.idle": "2020-10-04T17:25:12.580472Z",
     "shell.execute_reply": "2020-10-04T17:25:12.579420Z"
    },
    "papermill": {
     "duration": 1.194781,
     "end_time": "2020-10-04T17:25:12.580661",
     "exception": false,
     "start_time": "2020-10-04T17:25:11.385880",
     "status": "completed"
    },
    "tags": []
   },
   "outputs": [],
   "source": [
    "from sklearn.preprocessing import MultiLabelBinarizer\n",
    "\n",
    "mlb_train = MultiLabelBinarizer()\n",
    "\n",
    "\n",
    "labels_train = mlb_train.fit_transform([ i.split(\",\") for i in list(train_df[\"labels\"])])\n",
    "\n",
    "\n",
    "labels_test = mlb_train.transform([ i.split(\",\") for i in list(test_df[\"labels\"])])\n",
    "\n",
    "\n",
    "#mlb_cv = MultiLabelBinarizer()\n",
    "labels_cv = mlb_train.transform([ i.split(\",\") for i in list(cv_df[\"labels\"])])\n"
   ]
  },
  {
   "cell_type": "code",
   "execution_count": 9,
   "metadata": {
    "execution": {
     "iopub.execute_input": "2020-10-04T17:25:12.698805Z",
     "iopub.status.busy": "2020-10-04T17:25:12.696766Z",
     "iopub.status.idle": "2020-10-04T17:25:12.701930Z",
     "shell.execute_reply": "2020-10-04T17:25:12.701269Z"
    },
    "papermill": {
     "duration": 0.067019,
     "end_time": "2020-10-04T17:25:12.702056",
     "exception": false,
     "start_time": "2020-10-04T17:25:12.635037",
     "status": "completed"
    },
    "tags": []
   },
   "outputs": [
    {
     "data": {
      "text/plain": [
       "(6078, 80)"
      ]
     },
     "execution_count": 9,
     "metadata": {},
     "output_type": "execute_result"
    }
   ],
   "source": [
    "labels_test.shape"
   ]
  },
  {
   "cell_type": "code",
   "execution_count": 10,
   "metadata": {
    "execution": {
     "iopub.execute_input": "2020-10-04T17:25:12.832228Z",
     "iopub.status.busy": "2020-10-04T17:25:12.831253Z",
     "iopub.status.idle": "2020-10-04T17:25:12.836144Z",
     "shell.execute_reply": "2020-10-04T17:25:12.835415Z"
    },
    "papermill": {
     "duration": 0.079616,
     "end_time": "2020-10-04T17:25:12.836290",
     "exception": false,
     "start_time": "2020-10-04T17:25:12.756674",
     "status": "completed"
    },
    "tags": []
   },
   "outputs": [],
   "source": [
    "trainmultidf=pd.DataFrame(data=labels_train,columns=list(mlb_train.classes_))\n",
    "trainmultidf[\"fname\"]=list(train_df[\"fname\"])\n",
    "\n",
    "testmultidf=pd.DataFrame(data=labels_test,columns=list(mlb_train.classes_))\n",
    "testmultidf[\"fname\"]=list(test_df[\"fname\"])\n",
    "\n",
    "\n",
    "cvmultidf=pd.DataFrame(data=labels_cv,columns=list(mlb_train.classes_))\n",
    "cvmultidf[\"fname\"]=list(cv_df[\"fname\"])\n"
   ]
  },
  {
   "cell_type": "markdown",
   "metadata": {},
   "source": [
    "# Loading Preprocessed Spectrogram Images via ImageDataGenerator and adding augumnetation to train data\n"
   ]
  },
  {
   "cell_type": "code",
   "execution_count": 11,
   "metadata": {
    "execution": {
     "iopub.execute_input": "2020-10-04T17:25:12.954059Z",
     "iopub.status.busy": "2020-10-04T17:25:12.953112Z",
     "iopub.status.idle": "2020-10-04T17:25:24.403850Z",
     "shell.execute_reply": "2020-10-04T17:25:24.402793Z"
    },
    "papermill": {
     "duration": 11.513829,
     "end_time": "2020-10-04T17:25:24.404025",
     "exception": false,
     "start_time": "2020-10-04T17:25:12.890196",
     "status": "completed"
    },
    "tags": []
   },
   "outputs": [
    {
     "name": "stdout",
     "output_type": "stream",
     "text": [
      "Found 19449 validated image filenames.\n"
     ]
    }
   ],
   "source": [
    "#We change the ids for the images in the csv files to reflect their new status as jpgs\n",
    "#https://medium.com/@vijayabhaskar96/tutorial-on-keras-flow-from-dataframe-1fd4493d237c\n",
    "from keras_preprocessing.image import ImageDataGenerator\n",
    "\n",
    "\n",
    "\n",
    "datagen=ImageDataGenerator(rescale=1./255.,zoom_range=[0.5,1.0],brightness_range=[0.8,1.4])\n",
    "\n",
    "\n",
    "train_generator=datagen.flow_from_dataframe(\n",
    "    dataframe=trainmultidf,\n",
    "    directory=\"../input/sc2-total-aug-noisy-data/Total Images bucket Noisy/Total Images bucket Noisy\",\n",
    "    x_col=\"fname\",\n",
    "    y_col=list(mlb_train.classes_),\n",
    "    subset=\"training\",\n",
    "    batch_size=64,\n",
    "    seed=42,\n",
    "    shuffle=False,\n",
    "    class_mode=\"raw\",\n",
    "    #color_mode=\"grayscale\",\n",
    "    target_size=(128,128))\n",
    "\n"
   ]
  },
  {
   "cell_type": "code",
   "execution_count": 12,
   "metadata": {
    "execution": {
     "iopub.execute_input": "2020-10-04T17:25:24.593930Z",
     "iopub.status.busy": "2020-10-04T17:25:24.592461Z",
     "iopub.status.idle": "2020-10-04T17:25:24.597766Z",
     "shell.execute_reply": "2020-10-04T17:25:24.594949Z"
    },
    "papermill": {
     "duration": 0.107244,
     "end_time": "2020-10-04T17:25:24.597942",
     "exception": false,
     "start_time": "2020-10-04T17:25:24.490698",
     "status": "completed"
    },
    "tags": []
   },
   "outputs": [
    {
     "data": {
      "text/plain": [
       "19449"
      ]
     },
     "execution_count": 12,
     "metadata": {},
     "output_type": "execute_result"
    }
   ],
   "source": [
    "train_generator.n"
   ]
  },
  {
   "cell_type": "code",
   "execution_count": 13,
   "metadata": {
    "execution": {
     "iopub.execute_input": "2020-10-04T17:25:24.794802Z",
     "iopub.status.busy": "2020-10-04T17:25:24.790778Z",
     "iopub.status.idle": "2020-10-04T17:25:24.798664Z",
     "shell.execute_reply": "2020-10-04T17:25:24.795927Z"
    },
    "papermill": {
     "duration": 0.10889,
     "end_time": "2020-10-04T17:25:24.798834",
     "exception": false,
     "start_time": "2020-10-04T17:25:24.689944",
     "status": "completed"
    },
    "tags": []
   },
   "outputs": [
    {
     "data": {
      "text/plain": [
       "(4862, 81)"
      ]
     },
     "execution_count": 13,
     "metadata": {},
     "output_type": "execute_result"
    }
   ],
   "source": [
    "cvmultidf.shape"
   ]
  },
  {
   "cell_type": "code",
   "execution_count": 14,
   "metadata": {
    "execution": {
     "iopub.execute_input": "2020-10-04T17:25:24.981466Z",
     "iopub.status.busy": "2020-10-04T17:25:24.980434Z",
     "iopub.status.idle": "2020-10-04T17:25:25.010925Z",
     "shell.execute_reply": "2020-10-04T17:25:25.011674Z"
    },
    "papermill": {
     "duration": 0.126148,
     "end_time": "2020-10-04T17:25:25.011892",
     "exception": false,
     "start_time": "2020-10-04T17:25:24.885744",
     "status": "completed"
    },
    "tags": []
   },
   "outputs": [
    {
     "data": {
      "text/html": [
       "<div>\n",
       "<style scoped>\n",
       "    .dataframe tbody tr th:only-of-type {\n",
       "        vertical-align: middle;\n",
       "    }\n",
       "\n",
       "    .dataframe tbody tr th {\n",
       "        vertical-align: top;\n",
       "    }\n",
       "\n",
       "    .dataframe thead th {\n",
       "        text-align: right;\n",
       "    }\n",
       "</style>\n",
       "<table border=\"1\" class=\"dataframe\">\n",
       "  <thead>\n",
       "    <tr style=\"text-align: right;\">\n",
       "      <th></th>\n",
       "      <th>Accelerating_and_revving_and_vroom</th>\n",
       "      <th>Accordion</th>\n",
       "      <th>Acoustic_guitar</th>\n",
       "      <th>Applause</th>\n",
       "      <th>Bark</th>\n",
       "      <th>Bass_drum</th>\n",
       "      <th>Bass_guitar</th>\n",
       "      <th>Bathtub_(filling_or_washing)</th>\n",
       "      <th>Bicycle_bell</th>\n",
       "      <th>Burping_and_eructation</th>\n",
       "      <th>...</th>\n",
       "      <th>Traffic_noise_and_roadway_noise</th>\n",
       "      <th>Trickle_and_dribble</th>\n",
       "      <th>Walk_and_footsteps</th>\n",
       "      <th>Water_tap_and_faucet</th>\n",
       "      <th>Waves_and_surf</th>\n",
       "      <th>Whispering</th>\n",
       "      <th>Writing</th>\n",
       "      <th>Yell</th>\n",
       "      <th>Zipper_(clothing)</th>\n",
       "      <th>fname</th>\n",
       "    </tr>\n",
       "  </thead>\n",
       "  <tbody>\n",
       "    <tr>\n",
       "      <th>0</th>\n",
       "      <td>0</td>\n",
       "      <td>0</td>\n",
       "      <td>0</td>\n",
       "      <td>0</td>\n",
       "      <td>0</td>\n",
       "      <td>0</td>\n",
       "      <td>0</td>\n",
       "      <td>0</td>\n",
       "      <td>0</td>\n",
       "      <td>0</td>\n",
       "      <td>...</td>\n",
       "      <td>0</td>\n",
       "      <td>0</td>\n",
       "      <td>0</td>\n",
       "      <td>0</td>\n",
       "      <td>0</td>\n",
       "      <td>0</td>\n",
       "      <td>0</td>\n",
       "      <td>0</td>\n",
       "      <td>0</td>\n",
       "      <td>663172d7.jpg</td>\n",
       "    </tr>\n",
       "    <tr>\n",
       "      <th>1</th>\n",
       "      <td>0</td>\n",
       "      <td>0</td>\n",
       "      <td>0</td>\n",
       "      <td>1</td>\n",
       "      <td>0</td>\n",
       "      <td>0</td>\n",
       "      <td>0</td>\n",
       "      <td>0</td>\n",
       "      <td>0</td>\n",
       "      <td>0</td>\n",
       "      <td>...</td>\n",
       "      <td>0</td>\n",
       "      <td>0</td>\n",
       "      <td>0</td>\n",
       "      <td>0</td>\n",
       "      <td>0</td>\n",
       "      <td>0</td>\n",
       "      <td>0</td>\n",
       "      <td>0</td>\n",
       "      <td>0</td>\n",
       "      <td>eaa46c62.jpg</td>\n",
       "    </tr>\n",
       "    <tr>\n",
       "      <th>2</th>\n",
       "      <td>0</td>\n",
       "      <td>0</td>\n",
       "      <td>0</td>\n",
       "      <td>0</td>\n",
       "      <td>0</td>\n",
       "      <td>0</td>\n",
       "      <td>0</td>\n",
       "      <td>0</td>\n",
       "      <td>0</td>\n",
       "      <td>0</td>\n",
       "      <td>...</td>\n",
       "      <td>0</td>\n",
       "      <td>0</td>\n",
       "      <td>0</td>\n",
       "      <td>0</td>\n",
       "      <td>0</td>\n",
       "      <td>0</td>\n",
       "      <td>0</td>\n",
       "      <td>0</td>\n",
       "      <td>0</td>\n",
       "      <td>7b5bcb5a_aug.jpg</td>\n",
       "    </tr>\n",
       "    <tr>\n",
       "      <th>3</th>\n",
       "      <td>0</td>\n",
       "      <td>0</td>\n",
       "      <td>0</td>\n",
       "      <td>0</td>\n",
       "      <td>0</td>\n",
       "      <td>0</td>\n",
       "      <td>1</td>\n",
       "      <td>0</td>\n",
       "      <td>0</td>\n",
       "      <td>0</td>\n",
       "      <td>...</td>\n",
       "      <td>0</td>\n",
       "      <td>0</td>\n",
       "      <td>0</td>\n",
       "      <td>0</td>\n",
       "      <td>0</td>\n",
       "      <td>0</td>\n",
       "      <td>0</td>\n",
       "      <td>0</td>\n",
       "      <td>0</td>\n",
       "      <td>deda9c42.jpg</td>\n",
       "    </tr>\n",
       "    <tr>\n",
       "      <th>4</th>\n",
       "      <td>0</td>\n",
       "      <td>0</td>\n",
       "      <td>0</td>\n",
       "      <td>0</td>\n",
       "      <td>0</td>\n",
       "      <td>0</td>\n",
       "      <td>0</td>\n",
       "      <td>0</td>\n",
       "      <td>0</td>\n",
       "      <td>0</td>\n",
       "      <td>...</td>\n",
       "      <td>0</td>\n",
       "      <td>0</td>\n",
       "      <td>0</td>\n",
       "      <td>0</td>\n",
       "      <td>0</td>\n",
       "      <td>0</td>\n",
       "      <td>0</td>\n",
       "      <td>0</td>\n",
       "      <td>0</td>\n",
       "      <td>9b85cccc_aug.jpg</td>\n",
       "    </tr>\n",
       "  </tbody>\n",
       "</table>\n",
       "<p>5 rows × 81 columns</p>\n",
       "</div>"
      ],
      "text/plain": [
       "   Accelerating_and_revving_and_vroom  Accordion  Acoustic_guitar  Applause  \\\n",
       "0                                   0          0                0         0   \n",
       "1                                   0          0                0         1   \n",
       "2                                   0          0                0         0   \n",
       "3                                   0          0                0         0   \n",
       "4                                   0          0                0         0   \n",
       "\n",
       "   Bark  Bass_drum  Bass_guitar  Bathtub_(filling_or_washing)  Bicycle_bell  \\\n",
       "0     0          0            0                             0             0   \n",
       "1     0          0            0                             0             0   \n",
       "2     0          0            0                             0             0   \n",
       "3     0          0            1                             0             0   \n",
       "4     0          0            0                             0             0   \n",
       "\n",
       "   Burping_and_eructation  ...  Traffic_noise_and_roadway_noise  \\\n",
       "0                       0  ...                                0   \n",
       "1                       0  ...                                0   \n",
       "2                       0  ...                                0   \n",
       "3                       0  ...                                0   \n",
       "4                       0  ...                                0   \n",
       "\n",
       "   Trickle_and_dribble  Walk_and_footsteps  Water_tap_and_faucet  \\\n",
       "0                    0                   0                     0   \n",
       "1                    0                   0                     0   \n",
       "2                    0                   0                     0   \n",
       "3                    0                   0                     0   \n",
       "4                    0                   0                     0   \n",
       "\n",
       "   Waves_and_surf  Whispering  Writing  Yell  Zipper_(clothing)  \\\n",
       "0               0           0        0     0                  0   \n",
       "1               0           0        0     0                  0   \n",
       "2               0           0        0     0                  0   \n",
       "3               0           0        0     0                  0   \n",
       "4               0           0        0     0                  0   \n",
       "\n",
       "              fname  \n",
       "0      663172d7.jpg  \n",
       "1      eaa46c62.jpg  \n",
       "2  7b5bcb5a_aug.jpg  \n",
       "3      deda9c42.jpg  \n",
       "4  9b85cccc_aug.jpg  \n",
       "\n",
       "[5 rows x 81 columns]"
      ]
     },
     "execution_count": 14,
     "metadata": {},
     "output_type": "execute_result"
    }
   ],
   "source": [
    "cvmultidf.head()"
   ]
  },
  {
   "cell_type": "code",
   "execution_count": 15,
   "metadata": {
    "execution": {
     "iopub.execute_input": "2020-10-04T17:25:25.196716Z",
     "iopub.status.busy": "2020-10-04T17:25:25.195762Z",
     "iopub.status.idle": "2020-10-04T17:25:26.850375Z",
     "shell.execute_reply": "2020-10-04T17:25:26.849579Z"
    },
    "papermill": {
     "duration": 1.742682,
     "end_time": "2020-10-04T17:25:26.850564",
     "exception": false,
     "start_time": "2020-10-04T17:25:25.107882",
     "status": "completed"
    },
    "tags": []
   },
   "outputs": [
    {
     "name": "stdout",
     "output_type": "stream",
     "text": [
      "Found 4862 validated image filenames.\n"
     ]
    }
   ],
   "source": [
    "\n",
    "valid_datagen=ImageDataGenerator(rescale=1./255.)\n",
    "\n",
    "valid_generator=valid_datagen.flow_from_dataframe(\n",
    "    dataframe=cvmultidf,\n",
    "    directory=\"../input/sc2-total-aug-noisy-data/Total Images bucket Noisy/Total Images bucket Noisy\",\n",
    "    x_col=\"fname\",\n",
    "    y_col=list(mlb_train.classes_),\n",
    "   # subset=\"validation\",\n",
    "    batch_size=64,\n",
    "    seed=42,\n",
    "    shuffle=False,\n",
    "    class_mode=\"raw\",\n",
    "    #color_mode=\"grayscale\",\n",
    "    target_size=(128,128))\n"
   ]
  },
  {
   "cell_type": "code",
   "execution_count": 16,
   "metadata": {
    "execution": {
     "iopub.execute_input": "2020-10-04T17:25:26.973133Z",
     "iopub.status.busy": "2020-10-04T17:25:26.971947Z",
     "iopub.status.idle": "2020-10-04T17:25:28.563986Z",
     "shell.execute_reply": "2020-10-04T17:25:28.564921Z"
    },
    "papermill": {
     "duration": 1.657564,
     "end_time": "2020-10-04T17:25:28.565127",
     "exception": false,
     "start_time": "2020-10-04T17:25:26.907563",
     "status": "completed"
    },
    "tags": []
   },
   "outputs": [
    {
     "name": "stdout",
     "output_type": "stream",
     "text": [
      "Found 6078 validated image filenames.\n"
     ]
    }
   ],
   "source": [
    "test_datagen=ImageDataGenerator(rescale=1./255.)\n",
    "test_generator=test_datagen.flow_from_dataframe(\n",
    "    dataframe=testmultidf,\n",
    "    directory=\"../input/sc2-total-aug-noisy-data/Total Images bucket Noisy/Total Images bucket Noisy\",\n",
    "    x_col=\"fname\",\n",
    "    y_col=None,\n",
    "    batch_size=64,\n",
    "    seed=42,\n",
    "    shuffle=False,\n",
    "    class_mode=None,\n",
    "   # color_mode=\"grayscale\",\n",
    "    target_size=(128,128))\n",
    "STEP_SIZE_TEST=test_generator.n//test_generator.batch_size"
   ]
  },
  {
   "cell_type": "markdown",
   "metadata": {},
   "source": [
    "# Loading Model and Training"
   ]
  },
  {
   "cell_type": "code",
   "execution_count": 17,
   "metadata": {
    "execution": {
     "iopub.execute_input": "2020-10-04T17:25:28.694856Z",
     "iopub.status.busy": "2020-10-04T17:25:28.694088Z",
     "iopub.status.idle": "2020-10-04T17:25:28.758332Z",
     "shell.execute_reply": "2020-10-04T17:25:28.757338Z"
    },
    "papermill": {
     "duration": 0.133148,
     "end_time": "2020-10-04T17:25:28.758462",
     "exception": false,
     "start_time": "2020-10-04T17:25:28.625314",
     "status": "completed"
    },
    "tags": []
   },
   "outputs": [],
   "source": [
    "from sklearn import model_selection\n",
    "from tensorflow.keras.preprocessing.text import Tokenizer\n",
    "from tensorflow.keras.utils import to_categorical\n",
    "from tensorflow.keras.preprocessing.sequence import pad_sequences\n",
    "\n",
    "from tensorflow.keras.optimizers import RMSprop\n",
    "from tensorflow.keras.models import Model\n",
    "from tensorflow.keras.models import load_model\n",
    "\n",
    "import numpy as np\n",
    "from tensorflow.keras.models import Sequential\n",
    "from tensorflow.keras.preprocessing import sequence\n",
    "\n",
    "\n",
    "\n",
    "import tensorflow as tf\n",
    "from tensorflow.keras import models, layers\n",
    "from tensorflow.keras.models import Model\n",
    "from tensorflow.keras.optimizers import Adam\n",
    "#from tensorflow.keras.callbacks import ModelCheckpoint,EarlyStopping \n",
    "from tensorflow.keras.layers import Dense, Flatten, LSTM, Conv2D, MaxPooling2D, Dropout, Activation, Input,BatchNormalization, AveragePooling2D,GlobalMaxPool2D,PReLU\n",
    "\n",
    "#from tensorflow.keras.applications.resnet101 import ResNet101\n",
    "\n",
    "from tensorflow.keras.callbacks import (ModelCheckpoint, LearningRateScheduler,\n",
    "                             EarlyStopping, ReduceLROnPlateau,CSVLogger)"
   ]
  },
  {
   "cell_type": "code",
   "execution_count": 18,
   "metadata": {
    "execution": {
     "iopub.execute_input": "2020-10-04T17:25:28.880069Z",
     "iopub.status.busy": "2020-10-04T17:25:28.879141Z",
     "iopub.status.idle": "2020-10-04T17:25:38.332592Z",
     "shell.execute_reply": "2020-10-04T17:25:38.331430Z"
    },
    "papermill": {
     "duration": 9.517673,
     "end_time": "2020-10-04T17:25:38.332740",
     "exception": false,
     "start_time": "2020-10-04T17:25:28.815067",
     "status": "completed"
    },
    "tags": []
   },
   "outputs": [
    {
     "name": "stdout",
     "output_type": "stream",
     "text": [
      "Downloading data from https://storage.googleapis.com/tensorflow/keras-applications/resnet/resnet101_weights_tf_dim_ordering_tf_kernels.h5\n",
      "179650560/179648224 [==============================] - 1s 0us/step\n"
     ]
    }
   ],
   "source": [
    "#last_layer = model.get_layer('avg_pool').output\n",
    "\n",
    "image_input = Input(shape=(128,128, 3))\n",
    "model = tf.keras.applications.ResNet101(input_tensor=image_input, include_top=True)\n",
    "last_layer = model.get_layer('avg_pool').output\n",
    "x= Flatten(name='flatten')(last_layer)\n",
    "#model=\n",
    "\n",
    "\n",
    "#output = Dense(80, activation='sigmoid', name='output_layer')(model.layers[-2].output)\n",
    "x= Dense(80)(x)\n",
    "output = Activation('sigmoid')(x)\n",
    "#out = Dense(num_classes, activation='softmax', name='output_layer')(x)"
   ]
  },
  {
   "cell_type": "code",
   "execution_count": 19,
   "metadata": {
    "execution": {
     "iopub.execute_input": "2020-10-04T17:25:38.476000Z",
     "iopub.status.busy": "2020-10-04T17:25:38.474442Z",
     "iopub.status.idle": "2020-10-04T17:25:38.479109Z",
     "shell.execute_reply": "2020-10-04T17:25:38.479626Z"
    },
    "papermill": {
     "duration": 0.080578,
     "end_time": "2020-10-04T17:25:38.479915",
     "exception": false,
     "start_time": "2020-10-04T17:25:38.399337",
     "status": "completed"
    },
    "tags": []
   },
   "outputs": [
    {
     "data": {
      "text/plain": [
       "[<tensorflow.python.keras.layers.merge.Add at 0x7f0efc04aed0>,\n",
       " <tensorflow.python.keras.layers.core.Activation at 0x7f0efc04add0>,\n",
       " <tensorflow.python.keras.layers.pooling.GlobalAveragePooling2D at 0x7f0f7c3c1590>,\n",
       " <tensorflow.python.keras.layers.core.Dense at 0x7f0efc0553d0>]"
      ]
     },
     "execution_count": 19,
     "metadata": {},
     "output_type": "execute_result"
    }
   ],
   "source": [
    "model.layers[-4:]"
   ]
  },
  {
   "cell_type": "code",
   "execution_count": 20,
   "metadata": {
    "execution": {
     "iopub.execute_input": "2020-10-04T17:25:38.622858Z",
     "iopub.status.busy": "2020-10-04T17:25:38.621974Z",
     "iopub.status.idle": "2020-10-04T17:25:38.629056Z",
     "shell.execute_reply": "2020-10-04T17:25:38.628439Z"
    },
    "papermill": {
     "duration": 0.080568,
     "end_time": "2020-10-04T17:25:38.629178",
     "exception": false,
     "start_time": "2020-10-04T17:25:38.548610",
     "status": "completed"
    },
    "tags": []
   },
   "outputs": [
    {
     "data": {
      "text/plain": [
       "[<tensorflow.python.keras.layers.merge.Add at 0x7f0efc04aed0>,\n",
       " <tensorflow.python.keras.layers.core.Activation at 0x7f0efc04add0>,\n",
       " <tensorflow.python.keras.layers.pooling.GlobalAveragePooling2D at 0x7f0f7c3c1590>,\n",
       " <tensorflow.python.keras.layers.core.Dense at 0x7f0efc0553d0>]"
      ]
     },
     "execution_count": 20,
     "metadata": {},
     "output_type": "execute_result"
    }
   ],
   "source": [
    "model.layers[-4:]"
   ]
  },
  {
   "cell_type": "code",
   "execution_count": 21,
   "metadata": {
    "execution": {
     "iopub.execute_input": "2020-10-04T17:25:38.774427Z",
     "iopub.status.busy": "2020-10-04T17:25:38.773346Z",
     "iopub.status.idle": "2020-10-04T17:25:38.970129Z",
     "shell.execute_reply": "2020-10-04T17:25:38.974274Z"
    },
    "papermill": {
     "duration": 0.276793,
     "end_time": "2020-10-04T17:25:38.974564",
     "exception": false,
     "start_time": "2020-10-04T17:25:38.697771",
     "status": "completed"
    },
    "tags": []
   },
   "outputs": [
    {
     "name": "stdout",
     "output_type": "stream",
     "text": [
      "Model: \"functional_1\"\n",
      "__________________________________________________________________________________________________\n",
      "Layer (type)                    Output Shape         Param #     Connected to                     \n",
      "==================================================================================================\n",
      "input_1 (InputLayer)            [(None, 128, 128, 3) 0                                            \n",
      "__________________________________________________________________________________________________\n",
      "conv1_pad (ZeroPadding2D)       (None, 134, 134, 3)  0           input_1[0][0]                    \n",
      "__________________________________________________________________________________________________\n",
      "conv1_conv (Conv2D)             (None, 64, 64, 64)   9472        conv1_pad[0][0]                  \n",
      "__________________________________________________________________________________________________\n",
      "conv1_bn (BatchNormalization)   (None, 64, 64, 64)   256         conv1_conv[0][0]                 \n",
      "__________________________________________________________________________________________________\n",
      "conv1_relu (Activation)         (None, 64, 64, 64)   0           conv1_bn[0][0]                   \n",
      "__________________________________________________________________________________________________\n",
      "pool1_pad (ZeroPadding2D)       (None, 66, 66, 64)   0           conv1_relu[0][0]                 \n",
      "__________________________________________________________________________________________________\n",
      "pool1_pool (MaxPooling2D)       (None, 32, 32, 64)   0           pool1_pad[0][0]                  \n",
      "__________________________________________________________________________________________________\n",
      "conv2_block1_1_conv (Conv2D)    (None, 32, 32, 64)   4160        pool1_pool[0][0]                 \n",
      "__________________________________________________________________________________________________\n",
      "conv2_block1_1_bn (BatchNormali (None, 32, 32, 64)   256         conv2_block1_1_conv[0][0]        \n",
      "__________________________________________________________________________________________________\n",
      "conv2_block1_1_relu (Activation (None, 32, 32, 64)   0           conv2_block1_1_bn[0][0]          \n",
      "__________________________________________________________________________________________________\n",
      "conv2_block1_2_conv (Conv2D)    (None, 32, 32, 64)   36928       conv2_block1_1_relu[0][0]        \n",
      "__________________________________________________________________________________________________\n",
      "conv2_block1_2_bn (BatchNormali (None, 32, 32, 64)   256         conv2_block1_2_conv[0][0]        \n",
      "__________________________________________________________________________________________________\n",
      "conv2_block1_2_relu (Activation (None, 32, 32, 64)   0           conv2_block1_2_bn[0][0]          \n",
      "__________________________________________________________________________________________________\n",
      "conv2_block1_0_conv (Conv2D)    (None, 32, 32, 256)  16640       pool1_pool[0][0]                 \n",
      "__________________________________________________________________________________________________\n",
      "conv2_block1_3_conv (Conv2D)    (None, 32, 32, 256)  16640       conv2_block1_2_relu[0][0]        \n",
      "__________________________________________________________________________________________________\n",
      "conv2_block1_0_bn (BatchNormali (None, 32, 32, 256)  1024        conv2_block1_0_conv[0][0]        \n",
      "__________________________________________________________________________________________________\n",
      "conv2_block1_3_bn (BatchNormali (None, 32, 32, 256)  1024        conv2_block1_3_conv[0][0]        \n",
      "__________________________________________________________________________________________________\n",
      "conv2_block1_add (Add)          (None, 32, 32, 256)  0           conv2_block1_0_bn[0][0]          \n",
      "                                                                 conv2_block1_3_bn[0][0]          \n",
      "__________________________________________________________________________________________________\n",
      "conv2_block1_out (Activation)   (None, 32, 32, 256)  0           conv2_block1_add[0][0]           \n",
      "__________________________________________________________________________________________________\n",
      "conv2_block2_1_conv (Conv2D)    (None, 32, 32, 64)   16448       conv2_block1_out[0][0]           \n",
      "__________________________________________________________________________________________________\n",
      "conv2_block2_1_bn (BatchNormali (None, 32, 32, 64)   256         conv2_block2_1_conv[0][0]        \n",
      "__________________________________________________________________________________________________\n",
      "conv2_block2_1_relu (Activation (None, 32, 32, 64)   0           conv2_block2_1_bn[0][0]          \n",
      "__________________________________________________________________________________________________\n",
      "conv2_block2_2_conv (Conv2D)    (None, 32, 32, 64)   36928       conv2_block2_1_relu[0][0]        \n",
      "__________________________________________________________________________________________________\n",
      "conv2_block2_2_bn (BatchNormali (None, 32, 32, 64)   256         conv2_block2_2_conv[0][0]        \n",
      "__________________________________________________________________________________________________\n",
      "conv2_block2_2_relu (Activation (None, 32, 32, 64)   0           conv2_block2_2_bn[0][0]          \n",
      "__________________________________________________________________________________________________\n",
      "conv2_block2_3_conv (Conv2D)    (None, 32, 32, 256)  16640       conv2_block2_2_relu[0][0]        \n",
      "__________________________________________________________________________________________________\n",
      "conv2_block2_3_bn (BatchNormali (None, 32, 32, 256)  1024        conv2_block2_3_conv[0][0]        \n",
      "__________________________________________________________________________________________________\n",
      "conv2_block2_add (Add)          (None, 32, 32, 256)  0           conv2_block1_out[0][0]           \n",
      "                                                                 conv2_block2_3_bn[0][0]          \n",
      "__________________________________________________________________________________________________\n",
      "conv2_block2_out (Activation)   (None, 32, 32, 256)  0           conv2_block2_add[0][0]           \n",
      "__________________________________________________________________________________________________\n",
      "conv2_block3_1_conv (Conv2D)    (None, 32, 32, 64)   16448       conv2_block2_out[0][0]           \n",
      "__________________________________________________________________________________________________\n",
      "conv2_block3_1_bn (BatchNormali (None, 32, 32, 64)   256         conv2_block3_1_conv[0][0]        \n",
      "__________________________________________________________________________________________________\n",
      "conv2_block3_1_relu (Activation (None, 32, 32, 64)   0           conv2_block3_1_bn[0][0]          \n",
      "__________________________________________________________________________________________________\n",
      "conv2_block3_2_conv (Conv2D)    (None, 32, 32, 64)   36928       conv2_block3_1_relu[0][0]        \n",
      "__________________________________________________________________________________________________\n",
      "conv2_block3_2_bn (BatchNormali (None, 32, 32, 64)   256         conv2_block3_2_conv[0][0]        \n",
      "__________________________________________________________________________________________________\n",
      "conv2_block3_2_relu (Activation (None, 32, 32, 64)   0           conv2_block3_2_bn[0][0]          \n",
      "__________________________________________________________________________________________________\n",
      "conv2_block3_3_conv (Conv2D)    (None, 32, 32, 256)  16640       conv2_block3_2_relu[0][0]        \n",
      "__________________________________________________________________________________________________\n",
      "conv2_block3_3_bn (BatchNormali (None, 32, 32, 256)  1024        conv2_block3_3_conv[0][0]        \n",
      "__________________________________________________________________________________________________\n",
      "conv2_block3_add (Add)          (None, 32, 32, 256)  0           conv2_block2_out[0][0]           \n",
      "                                                                 conv2_block3_3_bn[0][0]          \n",
      "__________________________________________________________________________________________________\n",
      "conv2_block3_out (Activation)   (None, 32, 32, 256)  0           conv2_block3_add[0][0]           \n",
      "__________________________________________________________________________________________________\n",
      "conv3_block1_1_conv (Conv2D)    (None, 16, 16, 128)  32896       conv2_block3_out[0][0]           \n",
      "__________________________________________________________________________________________________\n",
      "conv3_block1_1_bn (BatchNormali (None, 16, 16, 128)  512         conv3_block1_1_conv[0][0]        \n",
      "__________________________________________________________________________________________________\n",
      "conv3_block1_1_relu (Activation (None, 16, 16, 128)  0           conv3_block1_1_bn[0][0]          \n",
      "__________________________________________________________________________________________________\n",
      "conv3_block1_2_conv (Conv2D)    (None, 16, 16, 128)  147584      conv3_block1_1_relu[0][0]        \n",
      "__________________________________________________________________________________________________\n",
      "conv3_block1_2_bn (BatchNormali (None, 16, 16, 128)  512         conv3_block1_2_conv[0][0]        \n",
      "__________________________________________________________________________________________________\n",
      "conv3_block1_2_relu (Activation (None, 16, 16, 128)  0           conv3_block1_2_bn[0][0]          \n",
      "__________________________________________________________________________________________________\n",
      "conv3_block1_0_conv (Conv2D)    (None, 16, 16, 512)  131584      conv2_block3_out[0][0]           \n",
      "__________________________________________________________________________________________________\n",
      "conv3_block1_3_conv (Conv2D)    (None, 16, 16, 512)  66048       conv3_block1_2_relu[0][0]        \n",
      "__________________________________________________________________________________________________\n",
      "conv3_block1_0_bn (BatchNormali (None, 16, 16, 512)  2048        conv3_block1_0_conv[0][0]        \n",
      "__________________________________________________________________________________________________\n",
      "conv3_block1_3_bn (BatchNormali (None, 16, 16, 512)  2048        conv3_block1_3_conv[0][0]        \n",
      "__________________________________________________________________________________________________\n",
      "conv3_block1_add (Add)          (None, 16, 16, 512)  0           conv3_block1_0_bn[0][0]          \n",
      "                                                                 conv3_block1_3_bn[0][0]          \n",
      "__________________________________________________________________________________________________\n",
      "conv3_block1_out (Activation)   (None, 16, 16, 512)  0           conv3_block1_add[0][0]           \n",
      "__________________________________________________________________________________________________\n",
      "conv3_block2_1_conv (Conv2D)    (None, 16, 16, 128)  65664       conv3_block1_out[0][0]           \n",
      "__________________________________________________________________________________________________\n",
      "conv3_block2_1_bn (BatchNormali (None, 16, 16, 128)  512         conv3_block2_1_conv[0][0]        \n",
      "__________________________________________________________________________________________________\n",
      "conv3_block2_1_relu (Activation (None, 16, 16, 128)  0           conv3_block2_1_bn[0][0]          \n",
      "__________________________________________________________________________________________________\n",
      "conv3_block2_2_conv (Conv2D)    (None, 16, 16, 128)  147584      conv3_block2_1_relu[0][0]        \n",
      "__________________________________________________________________________________________________\n",
      "conv3_block2_2_bn (BatchNormali (None, 16, 16, 128)  512         conv3_block2_2_conv[0][0]        \n",
      "__________________________________________________________________________________________________\n",
      "conv3_block2_2_relu (Activation (None, 16, 16, 128)  0           conv3_block2_2_bn[0][0]          \n",
      "__________________________________________________________________________________________________\n",
      "conv3_block2_3_conv (Conv2D)    (None, 16, 16, 512)  66048       conv3_block2_2_relu[0][0]        \n",
      "__________________________________________________________________________________________________\n",
      "conv3_block2_3_bn (BatchNormali (None, 16, 16, 512)  2048        conv3_block2_3_conv[0][0]        \n",
      "__________________________________________________________________________________________________\n",
      "conv3_block2_add (Add)          (None, 16, 16, 512)  0           conv3_block1_out[0][0]           \n",
      "                                                                 conv3_block2_3_bn[0][0]          \n",
      "__________________________________________________________________________________________________\n",
      "conv3_block2_out (Activation)   (None, 16, 16, 512)  0           conv3_block2_add[0][0]           \n",
      "__________________________________________________________________________________________________\n",
      "conv3_block3_1_conv (Conv2D)    (None, 16, 16, 128)  65664       conv3_block2_out[0][0]           \n",
      "__________________________________________________________________________________________________\n",
      "conv3_block3_1_bn (BatchNormali (None, 16, 16, 128)  512         conv3_block3_1_conv[0][0]        \n",
      "__________________________________________________________________________________________________\n",
      "conv3_block3_1_relu (Activation (None, 16, 16, 128)  0           conv3_block3_1_bn[0][0]          \n",
      "__________________________________________________________________________________________________\n",
      "conv3_block3_2_conv (Conv2D)    (None, 16, 16, 128)  147584      conv3_block3_1_relu[0][0]        \n",
      "__________________________________________________________________________________________________\n",
      "conv3_block3_2_bn (BatchNormali (None, 16, 16, 128)  512         conv3_block3_2_conv[0][0]        \n",
      "__________________________________________________________________________________________________\n",
      "conv3_block3_2_relu (Activation (None, 16, 16, 128)  0           conv3_block3_2_bn[0][0]          \n",
      "__________________________________________________________________________________________________\n",
      "conv3_block3_3_conv (Conv2D)    (None, 16, 16, 512)  66048       conv3_block3_2_relu[0][0]        \n",
      "__________________________________________________________________________________________________\n",
      "conv3_block3_3_bn (BatchNormali (None, 16, 16, 512)  2048        conv3_block3_3_conv[0][0]        \n",
      "__________________________________________________________________________________________________\n",
      "conv3_block3_add (Add)          (None, 16, 16, 512)  0           conv3_block2_out[0][0]           \n",
      "                                                                 conv3_block3_3_bn[0][0]          \n",
      "__________________________________________________________________________________________________\n",
      "conv3_block3_out (Activation)   (None, 16, 16, 512)  0           conv3_block3_add[0][0]           \n",
      "__________________________________________________________________________________________________\n",
      "conv3_block4_1_conv (Conv2D)    (None, 16, 16, 128)  65664       conv3_block3_out[0][0]           \n",
      "__________________________________________________________________________________________________\n",
      "conv3_block4_1_bn (BatchNormali (None, 16, 16, 128)  512         conv3_block4_1_conv[0][0]        \n",
      "__________________________________________________________________________________________________\n",
      "conv3_block4_1_relu (Activation (None, 16, 16, 128)  0           conv3_block4_1_bn[0][0]          \n",
      "__________________________________________________________________________________________________\n",
      "conv3_block4_2_conv (Conv2D)    (None, 16, 16, 128)  147584      conv3_block4_1_relu[0][0]        \n",
      "__________________________________________________________________________________________________\n",
      "conv3_block4_2_bn (BatchNormali (None, 16, 16, 128)  512         conv3_block4_2_conv[0][0]        \n",
      "__________________________________________________________________________________________________\n",
      "conv3_block4_2_relu (Activation (None, 16, 16, 128)  0           conv3_block4_2_bn[0][0]          \n",
      "__________________________________________________________________________________________________\n",
      "conv3_block4_3_conv (Conv2D)    (None, 16, 16, 512)  66048       conv3_block4_2_relu[0][0]        \n",
      "__________________________________________________________________________________________________\n",
      "conv3_block4_3_bn (BatchNormali (None, 16, 16, 512)  2048        conv3_block4_3_conv[0][0]        \n",
      "__________________________________________________________________________________________________\n",
      "conv3_block4_add (Add)          (None, 16, 16, 512)  0           conv3_block3_out[0][0]           \n",
      "                                                                 conv3_block4_3_bn[0][0]          \n",
      "__________________________________________________________________________________________________\n",
      "conv3_block4_out (Activation)   (None, 16, 16, 512)  0           conv3_block4_add[0][0]           \n",
      "__________________________________________________________________________________________________\n",
      "conv4_block1_1_conv (Conv2D)    (None, 8, 8, 256)    131328      conv3_block4_out[0][0]           \n",
      "__________________________________________________________________________________________________\n",
      "conv4_block1_1_bn (BatchNormali (None, 8, 8, 256)    1024        conv4_block1_1_conv[0][0]        \n",
      "__________________________________________________________________________________________________\n",
      "conv4_block1_1_relu (Activation (None, 8, 8, 256)    0           conv4_block1_1_bn[0][0]          \n",
      "__________________________________________________________________________________________________\n",
      "conv4_block1_2_conv (Conv2D)    (None, 8, 8, 256)    590080      conv4_block1_1_relu[0][0]        \n",
      "__________________________________________________________________________________________________\n",
      "conv4_block1_2_bn (BatchNormali (None, 8, 8, 256)    1024        conv4_block1_2_conv[0][0]        \n",
      "__________________________________________________________________________________________________\n",
      "conv4_block1_2_relu (Activation (None, 8, 8, 256)    0           conv4_block1_2_bn[0][0]          \n",
      "__________________________________________________________________________________________________\n",
      "conv4_block1_0_conv (Conv2D)    (None, 8, 8, 1024)   525312      conv3_block4_out[0][0]           \n",
      "__________________________________________________________________________________________________\n",
      "conv4_block1_3_conv (Conv2D)    (None, 8, 8, 1024)   263168      conv4_block1_2_relu[0][0]        \n",
      "__________________________________________________________________________________________________\n",
      "conv4_block1_0_bn (BatchNormali (None, 8, 8, 1024)   4096        conv4_block1_0_conv[0][0]        \n",
      "__________________________________________________________________________________________________\n",
      "conv4_block1_3_bn (BatchNormali (None, 8, 8, 1024)   4096        conv4_block1_3_conv[0][0]        \n",
      "__________________________________________________________________________________________________\n",
      "conv4_block1_add (Add)          (None, 8, 8, 1024)   0           conv4_block1_0_bn[0][0]          \n",
      "                                                                 conv4_block1_3_bn[0][0]          \n",
      "__________________________________________________________________________________________________\n",
      "conv4_block1_out (Activation)   (None, 8, 8, 1024)   0           conv4_block1_add[0][0]           \n",
      "__________________________________________________________________________________________________\n",
      "conv4_block2_1_conv (Conv2D)    (None, 8, 8, 256)    262400      conv4_block1_out[0][0]           \n",
      "__________________________________________________________________________________________________\n",
      "conv4_block2_1_bn (BatchNormali (None, 8, 8, 256)    1024        conv4_block2_1_conv[0][0]        \n",
      "__________________________________________________________________________________________________\n",
      "conv4_block2_1_relu (Activation (None, 8, 8, 256)    0           conv4_block2_1_bn[0][0]          \n",
      "__________________________________________________________________________________________________\n",
      "conv4_block2_2_conv (Conv2D)    (None, 8, 8, 256)    590080      conv4_block2_1_relu[0][0]        \n",
      "__________________________________________________________________________________________________\n",
      "conv4_block2_2_bn (BatchNormali (None, 8, 8, 256)    1024        conv4_block2_2_conv[0][0]        \n",
      "__________________________________________________________________________________________________\n",
      "conv4_block2_2_relu (Activation (None, 8, 8, 256)    0           conv4_block2_2_bn[0][0]          \n",
      "__________________________________________________________________________________________________\n",
      "conv4_block2_3_conv (Conv2D)    (None, 8, 8, 1024)   263168      conv4_block2_2_relu[0][0]        \n",
      "__________________________________________________________________________________________________\n",
      "conv4_block2_3_bn (BatchNormali (None, 8, 8, 1024)   4096        conv4_block2_3_conv[0][0]        \n",
      "__________________________________________________________________________________________________\n",
      "conv4_block2_add (Add)          (None, 8, 8, 1024)   0           conv4_block1_out[0][0]           \n",
      "                                                                 conv4_block2_3_bn[0][0]          \n",
      "__________________________________________________________________________________________________\n",
      "conv4_block2_out (Activation)   (None, 8, 8, 1024)   0           conv4_block2_add[0][0]           \n",
      "__________________________________________________________________________________________________\n",
      "conv4_block3_1_conv (Conv2D)    (None, 8, 8, 256)    262400      conv4_block2_out[0][0]           \n",
      "__________________________________________________________________________________________________\n",
      "conv4_block3_1_bn (BatchNormali (None, 8, 8, 256)    1024        conv4_block3_1_conv[0][0]        \n",
      "__________________________________________________________________________________________________\n",
      "conv4_block3_1_relu (Activation (None, 8, 8, 256)    0           conv4_block3_1_bn[0][0]          \n",
      "__________________________________________________________________________________________________\n",
      "conv4_block3_2_conv (Conv2D)    (None, 8, 8, 256)    590080      conv4_block3_1_relu[0][0]        \n",
      "__________________________________________________________________________________________________\n",
      "conv4_block3_2_bn (BatchNormali (None, 8, 8, 256)    1024        conv4_block3_2_conv[0][0]        \n",
      "__________________________________________________________________________________________________\n",
      "conv4_block3_2_relu (Activation (None, 8, 8, 256)    0           conv4_block3_2_bn[0][0]          \n",
      "__________________________________________________________________________________________________\n",
      "conv4_block3_3_conv (Conv2D)    (None, 8, 8, 1024)   263168      conv4_block3_2_relu[0][0]        \n",
      "__________________________________________________________________________________________________\n",
      "conv4_block3_3_bn (BatchNormali (None, 8, 8, 1024)   4096        conv4_block3_3_conv[0][0]        \n",
      "__________________________________________________________________________________________________\n",
      "conv4_block3_add (Add)          (None, 8, 8, 1024)   0           conv4_block2_out[0][0]           \n",
      "                                                                 conv4_block3_3_bn[0][0]          \n",
      "__________________________________________________________________________________________________\n",
      "conv4_block3_out (Activation)   (None, 8, 8, 1024)   0           conv4_block3_add[0][0]           \n",
      "__________________________________________________________________________________________________\n",
      "conv4_block4_1_conv (Conv2D)    (None, 8, 8, 256)    262400      conv4_block3_out[0][0]           \n",
      "__________________________________________________________________________________________________\n",
      "conv4_block4_1_bn (BatchNormali (None, 8, 8, 256)    1024        conv4_block4_1_conv[0][0]        \n",
      "__________________________________________________________________________________________________\n",
      "conv4_block4_1_relu (Activation (None, 8, 8, 256)    0           conv4_block4_1_bn[0][0]          \n",
      "__________________________________________________________________________________________________\n",
      "conv4_block4_2_conv (Conv2D)    (None, 8, 8, 256)    590080      conv4_block4_1_relu[0][0]        \n",
      "__________________________________________________________________________________________________\n",
      "conv4_block4_2_bn (BatchNormali (None, 8, 8, 256)    1024        conv4_block4_2_conv[0][0]        \n",
      "__________________________________________________________________________________________________\n",
      "conv4_block4_2_relu (Activation (None, 8, 8, 256)    0           conv4_block4_2_bn[0][0]          \n",
      "__________________________________________________________________________________________________\n",
      "conv4_block4_3_conv (Conv2D)    (None, 8, 8, 1024)   263168      conv4_block4_2_relu[0][0]        \n",
      "__________________________________________________________________________________________________\n",
      "conv4_block4_3_bn (BatchNormali (None, 8, 8, 1024)   4096        conv4_block4_3_conv[0][0]        \n",
      "__________________________________________________________________________________________________\n",
      "conv4_block4_add (Add)          (None, 8, 8, 1024)   0           conv4_block3_out[0][0]           \n",
      "                                                                 conv4_block4_3_bn[0][0]          \n",
      "__________________________________________________________________________________________________\n",
      "conv4_block4_out (Activation)   (None, 8, 8, 1024)   0           conv4_block4_add[0][0]           \n",
      "__________________________________________________________________________________________________\n",
      "conv4_block5_1_conv (Conv2D)    (None, 8, 8, 256)    262400      conv4_block4_out[0][0]           \n",
      "__________________________________________________________________________________________________\n",
      "conv4_block5_1_bn (BatchNormali (None, 8, 8, 256)    1024        conv4_block5_1_conv[0][0]        \n",
      "__________________________________________________________________________________________________\n",
      "conv4_block5_1_relu (Activation (None, 8, 8, 256)    0           conv4_block5_1_bn[0][0]          \n",
      "__________________________________________________________________________________________________\n",
      "conv4_block5_2_conv (Conv2D)    (None, 8, 8, 256)    590080      conv4_block5_1_relu[0][0]        \n",
      "__________________________________________________________________________________________________\n",
      "conv4_block5_2_bn (BatchNormali (None, 8, 8, 256)    1024        conv4_block5_2_conv[0][0]        \n",
      "__________________________________________________________________________________________________\n",
      "conv4_block5_2_relu (Activation (None, 8, 8, 256)    0           conv4_block5_2_bn[0][0]          \n",
      "__________________________________________________________________________________________________\n",
      "conv4_block5_3_conv (Conv2D)    (None, 8, 8, 1024)   263168      conv4_block5_2_relu[0][0]        \n",
      "__________________________________________________________________________________________________\n",
      "conv4_block5_3_bn (BatchNormali (None, 8, 8, 1024)   4096        conv4_block5_3_conv[0][0]        \n",
      "__________________________________________________________________________________________________\n",
      "conv4_block5_add (Add)          (None, 8, 8, 1024)   0           conv4_block4_out[0][0]           \n",
      "                                                                 conv4_block5_3_bn[0][0]          \n",
      "__________________________________________________________________________________________________\n",
      "conv4_block5_out (Activation)   (None, 8, 8, 1024)   0           conv4_block5_add[0][0]           \n",
      "__________________________________________________________________________________________________\n",
      "conv4_block6_1_conv (Conv2D)    (None, 8, 8, 256)    262400      conv4_block5_out[0][0]           \n",
      "__________________________________________________________________________________________________\n",
      "conv4_block6_1_bn (BatchNormali (None, 8, 8, 256)    1024        conv4_block6_1_conv[0][0]        \n",
      "__________________________________________________________________________________________________\n",
      "conv4_block6_1_relu (Activation (None, 8, 8, 256)    0           conv4_block6_1_bn[0][0]          \n",
      "__________________________________________________________________________________________________\n",
      "conv4_block6_2_conv (Conv2D)    (None, 8, 8, 256)    590080      conv4_block6_1_relu[0][0]        \n",
      "__________________________________________________________________________________________________\n",
      "conv4_block6_2_bn (BatchNormali (None, 8, 8, 256)    1024        conv4_block6_2_conv[0][0]        \n",
      "__________________________________________________________________________________________________\n",
      "conv4_block6_2_relu (Activation (None, 8, 8, 256)    0           conv4_block6_2_bn[0][0]          \n",
      "__________________________________________________________________________________________________\n",
      "conv4_block6_3_conv (Conv2D)    (None, 8, 8, 1024)   263168      conv4_block6_2_relu[0][0]        \n",
      "__________________________________________________________________________________________________\n",
      "conv4_block6_3_bn (BatchNormali (None, 8, 8, 1024)   4096        conv4_block6_3_conv[0][0]        \n",
      "__________________________________________________________________________________________________\n",
      "conv4_block6_add (Add)          (None, 8, 8, 1024)   0           conv4_block5_out[0][0]           \n",
      "                                                                 conv4_block6_3_bn[0][0]          \n",
      "__________________________________________________________________________________________________\n",
      "conv4_block6_out (Activation)   (None, 8, 8, 1024)   0           conv4_block6_add[0][0]           \n",
      "__________________________________________________________________________________________________\n",
      "conv4_block7_1_conv (Conv2D)    (None, 8, 8, 256)    262400      conv4_block6_out[0][0]           \n",
      "__________________________________________________________________________________________________\n",
      "conv4_block7_1_bn (BatchNormali (None, 8, 8, 256)    1024        conv4_block7_1_conv[0][0]        \n",
      "__________________________________________________________________________________________________\n",
      "conv4_block7_1_relu (Activation (None, 8, 8, 256)    0           conv4_block7_1_bn[0][0]          \n",
      "__________________________________________________________________________________________________\n",
      "conv4_block7_2_conv (Conv2D)    (None, 8, 8, 256)    590080      conv4_block7_1_relu[0][0]        \n",
      "__________________________________________________________________________________________________\n",
      "conv4_block7_2_bn (BatchNormali (None, 8, 8, 256)    1024        conv4_block7_2_conv[0][0]        \n",
      "__________________________________________________________________________________________________\n",
      "conv4_block7_2_relu (Activation (None, 8, 8, 256)    0           conv4_block7_2_bn[0][0]          \n",
      "__________________________________________________________________________________________________\n",
      "conv4_block7_3_conv (Conv2D)    (None, 8, 8, 1024)   263168      conv4_block7_2_relu[0][0]        \n",
      "__________________________________________________________________________________________________\n",
      "conv4_block7_3_bn (BatchNormali (None, 8, 8, 1024)   4096        conv4_block7_3_conv[0][0]        \n",
      "__________________________________________________________________________________________________\n",
      "conv4_block7_add (Add)          (None, 8, 8, 1024)   0           conv4_block6_out[0][0]           \n",
      "                                                                 conv4_block7_3_bn[0][0]          \n",
      "__________________________________________________________________________________________________\n",
      "conv4_block7_out (Activation)   (None, 8, 8, 1024)   0           conv4_block7_add[0][0]           \n",
      "__________________________________________________________________________________________________\n",
      "conv4_block8_1_conv (Conv2D)    (None, 8, 8, 256)    262400      conv4_block7_out[0][0]           \n",
      "__________________________________________________________________________________________________\n",
      "conv4_block8_1_bn (BatchNormali (None, 8, 8, 256)    1024        conv4_block8_1_conv[0][0]        \n",
      "__________________________________________________________________________________________________\n",
      "conv4_block8_1_relu (Activation (None, 8, 8, 256)    0           conv4_block8_1_bn[0][0]          \n",
      "__________________________________________________________________________________________________\n",
      "conv4_block8_2_conv (Conv2D)    (None, 8, 8, 256)    590080      conv4_block8_1_relu[0][0]        \n",
      "__________________________________________________________________________________________________\n",
      "conv4_block8_2_bn (BatchNormali (None, 8, 8, 256)    1024        conv4_block8_2_conv[0][0]        \n",
      "__________________________________________________________________________________________________\n",
      "conv4_block8_2_relu (Activation (None, 8, 8, 256)    0           conv4_block8_2_bn[0][0]          \n",
      "__________________________________________________________________________________________________\n",
      "conv4_block8_3_conv (Conv2D)    (None, 8, 8, 1024)   263168      conv4_block8_2_relu[0][0]        \n",
      "__________________________________________________________________________________________________\n",
      "conv4_block8_3_bn (BatchNormali (None, 8, 8, 1024)   4096        conv4_block8_3_conv[0][0]        \n",
      "__________________________________________________________________________________________________\n",
      "conv4_block8_add (Add)          (None, 8, 8, 1024)   0           conv4_block7_out[0][0]           \n",
      "                                                                 conv4_block8_3_bn[0][0]          \n",
      "__________________________________________________________________________________________________\n",
      "conv4_block8_out (Activation)   (None, 8, 8, 1024)   0           conv4_block8_add[0][0]           \n",
      "__________________________________________________________________________________________________\n",
      "conv4_block9_1_conv (Conv2D)    (None, 8, 8, 256)    262400      conv4_block8_out[0][0]           \n",
      "__________________________________________________________________________________________________\n",
      "conv4_block9_1_bn (BatchNormali (None, 8, 8, 256)    1024        conv4_block9_1_conv[0][0]        \n",
      "__________________________________________________________________________________________________\n",
      "conv4_block9_1_relu (Activation (None, 8, 8, 256)    0           conv4_block9_1_bn[0][0]          \n",
      "__________________________________________________________________________________________________\n",
      "conv4_block9_2_conv (Conv2D)    (None, 8, 8, 256)    590080      conv4_block9_1_relu[0][0]        \n",
      "__________________________________________________________________________________________________\n",
      "conv4_block9_2_bn (BatchNormali (None, 8, 8, 256)    1024        conv4_block9_2_conv[0][0]        \n",
      "__________________________________________________________________________________________________\n",
      "conv4_block9_2_relu (Activation (None, 8, 8, 256)    0           conv4_block9_2_bn[0][0]          \n",
      "__________________________________________________________________________________________________\n",
      "conv4_block9_3_conv (Conv2D)    (None, 8, 8, 1024)   263168      conv4_block9_2_relu[0][0]        \n",
      "__________________________________________________________________________________________________\n",
      "conv4_block9_3_bn (BatchNormali (None, 8, 8, 1024)   4096        conv4_block9_3_conv[0][0]        \n",
      "__________________________________________________________________________________________________\n",
      "conv4_block9_add (Add)          (None, 8, 8, 1024)   0           conv4_block8_out[0][0]           \n",
      "                                                                 conv4_block9_3_bn[0][0]          \n",
      "__________________________________________________________________________________________________\n",
      "conv4_block9_out (Activation)   (None, 8, 8, 1024)   0           conv4_block9_add[0][0]           \n",
      "__________________________________________________________________________________________________\n",
      "conv4_block10_1_conv (Conv2D)   (None, 8, 8, 256)    262400      conv4_block9_out[0][0]           \n",
      "__________________________________________________________________________________________________\n",
      "conv4_block10_1_bn (BatchNormal (None, 8, 8, 256)    1024        conv4_block10_1_conv[0][0]       \n",
      "__________________________________________________________________________________________________\n",
      "conv4_block10_1_relu (Activatio (None, 8, 8, 256)    0           conv4_block10_1_bn[0][0]         \n",
      "__________________________________________________________________________________________________\n",
      "conv4_block10_2_conv (Conv2D)   (None, 8, 8, 256)    590080      conv4_block10_1_relu[0][0]       \n",
      "__________________________________________________________________________________________________\n",
      "conv4_block10_2_bn (BatchNormal (None, 8, 8, 256)    1024        conv4_block10_2_conv[0][0]       \n",
      "__________________________________________________________________________________________________\n",
      "conv4_block10_2_relu (Activatio (None, 8, 8, 256)    0           conv4_block10_2_bn[0][0]         \n",
      "__________________________________________________________________________________________________\n",
      "conv4_block10_3_conv (Conv2D)   (None, 8, 8, 1024)   263168      conv4_block10_2_relu[0][0]       \n",
      "__________________________________________________________________________________________________\n",
      "conv4_block10_3_bn (BatchNormal (None, 8, 8, 1024)   4096        conv4_block10_3_conv[0][0]       \n",
      "__________________________________________________________________________________________________\n",
      "conv4_block10_add (Add)         (None, 8, 8, 1024)   0           conv4_block9_out[0][0]           \n",
      "                                                                 conv4_block10_3_bn[0][0]         \n",
      "__________________________________________________________________________________________________\n",
      "conv4_block10_out (Activation)  (None, 8, 8, 1024)   0           conv4_block10_add[0][0]          \n",
      "__________________________________________________________________________________________________\n",
      "conv4_block11_1_conv (Conv2D)   (None, 8, 8, 256)    262400      conv4_block10_out[0][0]          \n",
      "__________________________________________________________________________________________________\n",
      "conv4_block11_1_bn (BatchNormal (None, 8, 8, 256)    1024        conv4_block11_1_conv[0][0]       \n",
      "__________________________________________________________________________________________________\n",
      "conv4_block11_1_relu (Activatio (None, 8, 8, 256)    0           conv4_block11_1_bn[0][0]         \n",
      "__________________________________________________________________________________________________\n",
      "conv4_block11_2_conv (Conv2D)   (None, 8, 8, 256)    590080      conv4_block11_1_relu[0][0]       \n",
      "__________________________________________________________________________________________________\n",
      "conv4_block11_2_bn (BatchNormal (None, 8, 8, 256)    1024        conv4_block11_2_conv[0][0]       \n",
      "__________________________________________________________________________________________________\n",
      "conv4_block11_2_relu (Activatio (None, 8, 8, 256)    0           conv4_block11_2_bn[0][0]         \n",
      "__________________________________________________________________________________________________\n",
      "conv4_block11_3_conv (Conv2D)   (None, 8, 8, 1024)   263168      conv4_block11_2_relu[0][0]       \n",
      "__________________________________________________________________________________________________\n",
      "conv4_block11_3_bn (BatchNormal (None, 8, 8, 1024)   4096        conv4_block11_3_conv[0][0]       \n",
      "__________________________________________________________________________________________________\n",
      "conv4_block11_add (Add)         (None, 8, 8, 1024)   0           conv4_block10_out[0][0]          \n",
      "                                                                 conv4_block11_3_bn[0][0]         \n",
      "__________________________________________________________________________________________________\n",
      "conv4_block11_out (Activation)  (None, 8, 8, 1024)   0           conv4_block11_add[0][0]          \n",
      "__________________________________________________________________________________________________\n",
      "conv4_block12_1_conv (Conv2D)   (None, 8, 8, 256)    262400      conv4_block11_out[0][0]          \n",
      "__________________________________________________________________________________________________\n",
      "conv4_block12_1_bn (BatchNormal (None, 8, 8, 256)    1024        conv4_block12_1_conv[0][0]       \n",
      "__________________________________________________________________________________________________\n",
      "conv4_block12_1_relu (Activatio (None, 8, 8, 256)    0           conv4_block12_1_bn[0][0]         \n",
      "__________________________________________________________________________________________________\n",
      "conv4_block12_2_conv (Conv2D)   (None, 8, 8, 256)    590080      conv4_block12_1_relu[0][0]       \n",
      "__________________________________________________________________________________________________\n",
      "conv4_block12_2_bn (BatchNormal (None, 8, 8, 256)    1024        conv4_block12_2_conv[0][0]       \n",
      "__________________________________________________________________________________________________\n",
      "conv4_block12_2_relu (Activatio (None, 8, 8, 256)    0           conv4_block12_2_bn[0][0]         \n",
      "__________________________________________________________________________________________________\n",
      "conv4_block12_3_conv (Conv2D)   (None, 8, 8, 1024)   263168      conv4_block12_2_relu[0][0]       \n",
      "__________________________________________________________________________________________________\n",
      "conv4_block12_3_bn (BatchNormal (None, 8, 8, 1024)   4096        conv4_block12_3_conv[0][0]       \n",
      "__________________________________________________________________________________________________\n",
      "conv4_block12_add (Add)         (None, 8, 8, 1024)   0           conv4_block11_out[0][0]          \n",
      "                                                                 conv4_block12_3_bn[0][0]         \n",
      "__________________________________________________________________________________________________\n",
      "conv4_block12_out (Activation)  (None, 8, 8, 1024)   0           conv4_block12_add[0][0]          \n",
      "__________________________________________________________________________________________________\n",
      "conv4_block13_1_conv (Conv2D)   (None, 8, 8, 256)    262400      conv4_block12_out[0][0]          \n",
      "__________________________________________________________________________________________________\n",
      "conv4_block13_1_bn (BatchNormal (None, 8, 8, 256)    1024        conv4_block13_1_conv[0][0]       \n",
      "__________________________________________________________________________________________________\n",
      "conv4_block13_1_relu (Activatio (None, 8, 8, 256)    0           conv4_block13_1_bn[0][0]         \n",
      "__________________________________________________________________________________________________\n",
      "conv4_block13_2_conv (Conv2D)   (None, 8, 8, 256)    590080      conv4_block13_1_relu[0][0]       \n",
      "__________________________________________________________________________________________________\n",
      "conv4_block13_2_bn (BatchNormal (None, 8, 8, 256)    1024        conv4_block13_2_conv[0][0]       \n",
      "__________________________________________________________________________________________________\n",
      "conv4_block13_2_relu (Activatio (None, 8, 8, 256)    0           conv4_block13_2_bn[0][0]         \n",
      "__________________________________________________________________________________________________\n",
      "conv4_block13_3_conv (Conv2D)   (None, 8, 8, 1024)   263168      conv4_block13_2_relu[0][0]       \n",
      "__________________________________________________________________________________________________\n",
      "conv4_block13_3_bn (BatchNormal (None, 8, 8, 1024)   4096        conv4_block13_3_conv[0][0]       \n",
      "__________________________________________________________________________________________________\n",
      "conv4_block13_add (Add)         (None, 8, 8, 1024)   0           conv4_block12_out[0][0]          \n",
      "                                                                 conv4_block13_3_bn[0][0]         \n",
      "__________________________________________________________________________________________________\n",
      "conv4_block13_out (Activation)  (None, 8, 8, 1024)   0           conv4_block13_add[0][0]          \n",
      "__________________________________________________________________________________________________\n",
      "conv4_block14_1_conv (Conv2D)   (None, 8, 8, 256)    262400      conv4_block13_out[0][0]          \n",
      "__________________________________________________________________________________________________\n",
      "conv4_block14_1_bn (BatchNormal (None, 8, 8, 256)    1024        conv4_block14_1_conv[0][0]       \n",
      "__________________________________________________________________________________________________\n",
      "conv4_block14_1_relu (Activatio (None, 8, 8, 256)    0           conv4_block14_1_bn[0][0]         \n",
      "__________________________________________________________________________________________________\n",
      "conv4_block14_2_conv (Conv2D)   (None, 8, 8, 256)    590080      conv4_block14_1_relu[0][0]       \n",
      "__________________________________________________________________________________________________\n",
      "conv4_block14_2_bn (BatchNormal (None, 8, 8, 256)    1024        conv4_block14_2_conv[0][0]       \n",
      "__________________________________________________________________________________________________\n",
      "conv4_block14_2_relu (Activatio (None, 8, 8, 256)    0           conv4_block14_2_bn[0][0]         \n",
      "__________________________________________________________________________________________________\n",
      "conv4_block14_3_conv (Conv2D)   (None, 8, 8, 1024)   263168      conv4_block14_2_relu[0][0]       \n",
      "__________________________________________________________________________________________________\n",
      "conv4_block14_3_bn (BatchNormal (None, 8, 8, 1024)   4096        conv4_block14_3_conv[0][0]       \n",
      "__________________________________________________________________________________________________\n",
      "conv4_block14_add (Add)         (None, 8, 8, 1024)   0           conv4_block13_out[0][0]          \n",
      "                                                                 conv4_block14_3_bn[0][0]         \n",
      "__________________________________________________________________________________________________\n",
      "conv4_block14_out (Activation)  (None, 8, 8, 1024)   0           conv4_block14_add[0][0]          \n",
      "__________________________________________________________________________________________________\n",
      "conv4_block15_1_conv (Conv2D)   (None, 8, 8, 256)    262400      conv4_block14_out[0][0]          \n",
      "__________________________________________________________________________________________________\n",
      "conv4_block15_1_bn (BatchNormal (None, 8, 8, 256)    1024        conv4_block15_1_conv[0][0]       \n",
      "__________________________________________________________________________________________________\n",
      "conv4_block15_1_relu (Activatio (None, 8, 8, 256)    0           conv4_block15_1_bn[0][0]         \n",
      "__________________________________________________________________________________________________\n",
      "conv4_block15_2_conv (Conv2D)   (None, 8, 8, 256)    590080      conv4_block15_1_relu[0][0]       \n",
      "__________________________________________________________________________________________________\n",
      "conv4_block15_2_bn (BatchNormal (None, 8, 8, 256)    1024        conv4_block15_2_conv[0][0]       \n",
      "__________________________________________________________________________________________________\n",
      "conv4_block15_2_relu (Activatio (None, 8, 8, 256)    0           conv4_block15_2_bn[0][0]         \n",
      "__________________________________________________________________________________________________\n",
      "conv4_block15_3_conv (Conv2D)   (None, 8, 8, 1024)   263168      conv4_block15_2_relu[0][0]       \n",
      "__________________________________________________________________________________________________\n",
      "conv4_block15_3_bn (BatchNormal (None, 8, 8, 1024)   4096        conv4_block15_3_conv[0][0]       \n",
      "__________________________________________________________________________________________________\n",
      "conv4_block15_add (Add)         (None, 8, 8, 1024)   0           conv4_block14_out[0][0]          \n",
      "                                                                 conv4_block15_3_bn[0][0]         \n",
      "__________________________________________________________________________________________________\n",
      "conv4_block15_out (Activation)  (None, 8, 8, 1024)   0           conv4_block15_add[0][0]          \n",
      "__________________________________________________________________________________________________\n",
      "conv4_block16_1_conv (Conv2D)   (None, 8, 8, 256)    262400      conv4_block15_out[0][0]          \n",
      "__________________________________________________________________________________________________\n",
      "conv4_block16_1_bn (BatchNormal (None, 8, 8, 256)    1024        conv4_block16_1_conv[0][0]       \n",
      "__________________________________________________________________________________________________\n",
      "conv4_block16_1_relu (Activatio (None, 8, 8, 256)    0           conv4_block16_1_bn[0][0]         \n",
      "__________________________________________________________________________________________________\n",
      "conv4_block16_2_conv (Conv2D)   (None, 8, 8, 256)    590080      conv4_block16_1_relu[0][0]       \n",
      "__________________________________________________________________________________________________\n",
      "conv4_block16_2_bn (BatchNormal (None, 8, 8, 256)    1024        conv4_block16_2_conv[0][0]       \n",
      "__________________________________________________________________________________________________\n",
      "conv4_block16_2_relu (Activatio (None, 8, 8, 256)    0           conv4_block16_2_bn[0][0]         \n",
      "__________________________________________________________________________________________________\n",
      "conv4_block16_3_conv (Conv2D)   (None, 8, 8, 1024)   263168      conv4_block16_2_relu[0][0]       \n",
      "__________________________________________________________________________________________________\n",
      "conv4_block16_3_bn (BatchNormal (None, 8, 8, 1024)   4096        conv4_block16_3_conv[0][0]       \n",
      "__________________________________________________________________________________________________\n",
      "conv4_block16_add (Add)         (None, 8, 8, 1024)   0           conv4_block15_out[0][0]          \n",
      "                                                                 conv4_block16_3_bn[0][0]         \n",
      "__________________________________________________________________________________________________\n",
      "conv4_block16_out (Activation)  (None, 8, 8, 1024)   0           conv4_block16_add[0][0]          \n",
      "__________________________________________________________________________________________________\n",
      "conv4_block17_1_conv (Conv2D)   (None, 8, 8, 256)    262400      conv4_block16_out[0][0]          \n",
      "__________________________________________________________________________________________________\n",
      "conv4_block17_1_bn (BatchNormal (None, 8, 8, 256)    1024        conv4_block17_1_conv[0][0]       \n",
      "__________________________________________________________________________________________________\n",
      "conv4_block17_1_relu (Activatio (None, 8, 8, 256)    0           conv4_block17_1_bn[0][0]         \n",
      "__________________________________________________________________________________________________\n",
      "conv4_block17_2_conv (Conv2D)   (None, 8, 8, 256)    590080      conv4_block17_1_relu[0][0]       \n",
      "__________________________________________________________________________________________________\n",
      "conv4_block17_2_bn (BatchNormal (None, 8, 8, 256)    1024        conv4_block17_2_conv[0][0]       \n",
      "__________________________________________________________________________________________________\n",
      "conv4_block17_2_relu (Activatio (None, 8, 8, 256)    0           conv4_block17_2_bn[0][0]         \n",
      "__________________________________________________________________________________________________\n",
      "conv4_block17_3_conv (Conv2D)   (None, 8, 8, 1024)   263168      conv4_block17_2_relu[0][0]       \n",
      "__________________________________________________________________________________________________\n",
      "conv4_block17_3_bn (BatchNormal (None, 8, 8, 1024)   4096        conv4_block17_3_conv[0][0]       \n",
      "__________________________________________________________________________________________________\n",
      "conv4_block17_add (Add)         (None, 8, 8, 1024)   0           conv4_block16_out[0][0]          \n",
      "                                                                 conv4_block17_3_bn[0][0]         \n",
      "__________________________________________________________________________________________________\n",
      "conv4_block17_out (Activation)  (None, 8, 8, 1024)   0           conv4_block17_add[0][0]          \n",
      "__________________________________________________________________________________________________\n",
      "conv4_block18_1_conv (Conv2D)   (None, 8, 8, 256)    262400      conv4_block17_out[0][0]          \n",
      "__________________________________________________________________________________________________\n",
      "conv4_block18_1_bn (BatchNormal (None, 8, 8, 256)    1024        conv4_block18_1_conv[0][0]       \n",
      "__________________________________________________________________________________________________\n",
      "conv4_block18_1_relu (Activatio (None, 8, 8, 256)    0           conv4_block18_1_bn[0][0]         \n",
      "__________________________________________________________________________________________________\n",
      "conv4_block18_2_conv (Conv2D)   (None, 8, 8, 256)    590080      conv4_block18_1_relu[0][0]       \n",
      "__________________________________________________________________________________________________\n",
      "conv4_block18_2_bn (BatchNormal (None, 8, 8, 256)    1024        conv4_block18_2_conv[0][0]       \n",
      "__________________________________________________________________________________________________\n",
      "conv4_block18_2_relu (Activatio (None, 8, 8, 256)    0           conv4_block18_2_bn[0][0]         \n",
      "__________________________________________________________________________________________________\n",
      "conv4_block18_3_conv (Conv2D)   (None, 8, 8, 1024)   263168      conv4_block18_2_relu[0][0]       \n",
      "__________________________________________________________________________________________________\n",
      "conv4_block18_3_bn (BatchNormal (None, 8, 8, 1024)   4096        conv4_block18_3_conv[0][0]       \n",
      "__________________________________________________________________________________________________\n",
      "conv4_block18_add (Add)         (None, 8, 8, 1024)   0           conv4_block17_out[0][0]          \n",
      "                                                                 conv4_block18_3_bn[0][0]         \n",
      "__________________________________________________________________________________________________\n",
      "conv4_block18_out (Activation)  (None, 8, 8, 1024)   0           conv4_block18_add[0][0]          \n",
      "__________________________________________________________________________________________________\n",
      "conv4_block19_1_conv (Conv2D)   (None, 8, 8, 256)    262400      conv4_block18_out[0][0]          \n",
      "__________________________________________________________________________________________________\n",
      "conv4_block19_1_bn (BatchNormal (None, 8, 8, 256)    1024        conv4_block19_1_conv[0][0]       \n",
      "__________________________________________________________________________________________________\n",
      "conv4_block19_1_relu (Activatio (None, 8, 8, 256)    0           conv4_block19_1_bn[0][0]         \n",
      "__________________________________________________________________________________________________\n",
      "conv4_block19_2_conv (Conv2D)   (None, 8, 8, 256)    590080      conv4_block19_1_relu[0][0]       \n",
      "__________________________________________________________________________________________________\n",
      "conv4_block19_2_bn (BatchNormal (None, 8, 8, 256)    1024        conv4_block19_2_conv[0][0]       \n",
      "__________________________________________________________________________________________________\n",
      "conv4_block19_2_relu (Activatio (None, 8, 8, 256)    0           conv4_block19_2_bn[0][0]         \n",
      "__________________________________________________________________________________________________\n",
      "conv4_block19_3_conv (Conv2D)   (None, 8, 8, 1024)   263168      conv4_block19_2_relu[0][0]       \n",
      "__________________________________________________________________________________________________\n",
      "conv4_block19_3_bn (BatchNormal (None, 8, 8, 1024)   4096        conv4_block19_3_conv[0][0]       \n",
      "__________________________________________________________________________________________________\n",
      "conv4_block19_add (Add)         (None, 8, 8, 1024)   0           conv4_block18_out[0][0]          \n",
      "                                                                 conv4_block19_3_bn[0][0]         \n",
      "__________________________________________________________________________________________________\n",
      "conv4_block19_out (Activation)  (None, 8, 8, 1024)   0           conv4_block19_add[0][0]          \n",
      "__________________________________________________________________________________________________\n",
      "conv4_block20_1_conv (Conv2D)   (None, 8, 8, 256)    262400      conv4_block19_out[0][0]          \n",
      "__________________________________________________________________________________________________\n",
      "conv4_block20_1_bn (BatchNormal (None, 8, 8, 256)    1024        conv4_block20_1_conv[0][0]       \n",
      "__________________________________________________________________________________________________\n",
      "conv4_block20_1_relu (Activatio (None, 8, 8, 256)    0           conv4_block20_1_bn[0][0]         \n",
      "__________________________________________________________________________________________________\n",
      "conv4_block20_2_conv (Conv2D)   (None, 8, 8, 256)    590080      conv4_block20_1_relu[0][0]       \n",
      "__________________________________________________________________________________________________\n",
      "conv4_block20_2_bn (BatchNormal (None, 8, 8, 256)    1024        conv4_block20_2_conv[0][0]       \n",
      "__________________________________________________________________________________________________\n",
      "conv4_block20_2_relu (Activatio (None, 8, 8, 256)    0           conv4_block20_2_bn[0][0]         \n",
      "__________________________________________________________________________________________________\n",
      "conv4_block20_3_conv (Conv2D)   (None, 8, 8, 1024)   263168      conv4_block20_2_relu[0][0]       \n",
      "__________________________________________________________________________________________________\n",
      "conv4_block20_3_bn (BatchNormal (None, 8, 8, 1024)   4096        conv4_block20_3_conv[0][0]       \n",
      "__________________________________________________________________________________________________\n",
      "conv4_block20_add (Add)         (None, 8, 8, 1024)   0           conv4_block19_out[0][0]          \n",
      "                                                                 conv4_block20_3_bn[0][0]         \n",
      "__________________________________________________________________________________________________\n",
      "conv4_block20_out (Activation)  (None, 8, 8, 1024)   0           conv4_block20_add[0][0]          \n",
      "__________________________________________________________________________________________________\n",
      "conv4_block21_1_conv (Conv2D)   (None, 8, 8, 256)    262400      conv4_block20_out[0][0]          \n",
      "__________________________________________________________________________________________________\n",
      "conv4_block21_1_bn (BatchNormal (None, 8, 8, 256)    1024        conv4_block21_1_conv[0][0]       \n",
      "__________________________________________________________________________________________________\n",
      "conv4_block21_1_relu (Activatio (None, 8, 8, 256)    0           conv4_block21_1_bn[0][0]         \n",
      "__________________________________________________________________________________________________\n",
      "conv4_block21_2_conv (Conv2D)   (None, 8, 8, 256)    590080      conv4_block21_1_relu[0][0]       \n",
      "__________________________________________________________________________________________________\n",
      "conv4_block21_2_bn (BatchNormal (None, 8, 8, 256)    1024        conv4_block21_2_conv[0][0]       \n",
      "__________________________________________________________________________________________________\n",
      "conv4_block21_2_relu (Activatio (None, 8, 8, 256)    0           conv4_block21_2_bn[0][0]         \n",
      "__________________________________________________________________________________________________\n",
      "conv4_block21_3_conv (Conv2D)   (None, 8, 8, 1024)   263168      conv4_block21_2_relu[0][0]       \n",
      "__________________________________________________________________________________________________\n",
      "conv4_block21_3_bn (BatchNormal (None, 8, 8, 1024)   4096        conv4_block21_3_conv[0][0]       \n",
      "__________________________________________________________________________________________________\n",
      "conv4_block21_add (Add)         (None, 8, 8, 1024)   0           conv4_block20_out[0][0]          \n",
      "                                                                 conv4_block21_3_bn[0][0]         \n",
      "__________________________________________________________________________________________________\n",
      "conv4_block21_out (Activation)  (None, 8, 8, 1024)   0           conv4_block21_add[0][0]          \n",
      "__________________________________________________________________________________________________\n",
      "conv4_block22_1_conv (Conv2D)   (None, 8, 8, 256)    262400      conv4_block21_out[0][0]          \n",
      "__________________________________________________________________________________________________\n",
      "conv4_block22_1_bn (BatchNormal (None, 8, 8, 256)    1024        conv4_block22_1_conv[0][0]       \n",
      "__________________________________________________________________________________________________\n",
      "conv4_block22_1_relu (Activatio (None, 8, 8, 256)    0           conv4_block22_1_bn[0][0]         \n",
      "__________________________________________________________________________________________________\n",
      "conv4_block22_2_conv (Conv2D)   (None, 8, 8, 256)    590080      conv4_block22_1_relu[0][0]       \n",
      "__________________________________________________________________________________________________\n",
      "conv4_block22_2_bn (BatchNormal (None, 8, 8, 256)    1024        conv4_block22_2_conv[0][0]       \n",
      "__________________________________________________________________________________________________\n",
      "conv4_block22_2_relu (Activatio (None, 8, 8, 256)    0           conv4_block22_2_bn[0][0]         \n",
      "__________________________________________________________________________________________________\n",
      "conv4_block22_3_conv (Conv2D)   (None, 8, 8, 1024)   263168      conv4_block22_2_relu[0][0]       \n",
      "__________________________________________________________________________________________________\n",
      "conv4_block22_3_bn (BatchNormal (None, 8, 8, 1024)   4096        conv4_block22_3_conv[0][0]       \n",
      "__________________________________________________________________________________________________\n",
      "conv4_block22_add (Add)         (None, 8, 8, 1024)   0           conv4_block21_out[0][0]          \n",
      "                                                                 conv4_block22_3_bn[0][0]         \n",
      "__________________________________________________________________________________________________\n",
      "conv4_block22_out (Activation)  (None, 8, 8, 1024)   0           conv4_block22_add[0][0]          \n",
      "__________________________________________________________________________________________________\n",
      "conv4_block23_1_conv (Conv2D)   (None, 8, 8, 256)    262400      conv4_block22_out[0][0]          \n",
      "__________________________________________________________________________________________________\n",
      "conv4_block23_1_bn (BatchNormal (None, 8, 8, 256)    1024        conv4_block23_1_conv[0][0]       \n",
      "__________________________________________________________________________________________________\n",
      "conv4_block23_1_relu (Activatio (None, 8, 8, 256)    0           conv4_block23_1_bn[0][0]         \n",
      "__________________________________________________________________________________________________\n",
      "conv4_block23_2_conv (Conv2D)   (None, 8, 8, 256)    590080      conv4_block23_1_relu[0][0]       \n",
      "__________________________________________________________________________________________________\n",
      "conv4_block23_2_bn (BatchNormal (None, 8, 8, 256)    1024        conv4_block23_2_conv[0][0]       \n",
      "__________________________________________________________________________________________________\n",
      "conv4_block23_2_relu (Activatio (None, 8, 8, 256)    0           conv4_block23_2_bn[0][0]         \n",
      "__________________________________________________________________________________________________\n",
      "conv4_block23_3_conv (Conv2D)   (None, 8, 8, 1024)   263168      conv4_block23_2_relu[0][0]       \n",
      "__________________________________________________________________________________________________\n",
      "conv4_block23_3_bn (BatchNormal (None, 8, 8, 1024)   4096        conv4_block23_3_conv[0][0]       \n",
      "__________________________________________________________________________________________________\n",
      "conv4_block23_add (Add)         (None, 8, 8, 1024)   0           conv4_block22_out[0][0]          \n",
      "                                                                 conv4_block23_3_bn[0][0]         \n",
      "__________________________________________________________________________________________________\n",
      "conv4_block23_out (Activation)  (None, 8, 8, 1024)   0           conv4_block23_add[0][0]          \n",
      "__________________________________________________________________________________________________\n",
      "conv5_block1_1_conv (Conv2D)    (None, 4, 4, 512)    524800      conv4_block23_out[0][0]          \n",
      "__________________________________________________________________________________________________\n",
      "conv5_block1_1_bn (BatchNormali (None, 4, 4, 512)    2048        conv5_block1_1_conv[0][0]        \n",
      "__________________________________________________________________________________________________\n",
      "conv5_block1_1_relu (Activation (None, 4, 4, 512)    0           conv5_block1_1_bn[0][0]          \n",
      "__________________________________________________________________________________________________\n",
      "conv5_block1_2_conv (Conv2D)    (None, 4, 4, 512)    2359808     conv5_block1_1_relu[0][0]        \n",
      "__________________________________________________________________________________________________\n",
      "conv5_block1_2_bn (BatchNormali (None, 4, 4, 512)    2048        conv5_block1_2_conv[0][0]        \n",
      "__________________________________________________________________________________________________\n",
      "conv5_block1_2_relu (Activation (None, 4, 4, 512)    0           conv5_block1_2_bn[0][0]          \n",
      "__________________________________________________________________________________________________\n",
      "conv5_block1_0_conv (Conv2D)    (None, 4, 4, 2048)   2099200     conv4_block23_out[0][0]          \n",
      "__________________________________________________________________________________________________\n",
      "conv5_block1_3_conv (Conv2D)    (None, 4, 4, 2048)   1050624     conv5_block1_2_relu[0][0]        \n",
      "__________________________________________________________________________________________________\n",
      "conv5_block1_0_bn (BatchNormali (None, 4, 4, 2048)   8192        conv5_block1_0_conv[0][0]        \n",
      "__________________________________________________________________________________________________\n",
      "conv5_block1_3_bn (BatchNormali (None, 4, 4, 2048)   8192        conv5_block1_3_conv[0][0]        \n",
      "__________________________________________________________________________________________________\n",
      "conv5_block1_add (Add)          (None, 4, 4, 2048)   0           conv5_block1_0_bn[0][0]          \n",
      "                                                                 conv5_block1_3_bn[0][0]          \n",
      "__________________________________________________________________________________________________\n",
      "conv5_block1_out (Activation)   (None, 4, 4, 2048)   0           conv5_block1_add[0][0]           \n",
      "__________________________________________________________________________________________________\n",
      "conv5_block2_1_conv (Conv2D)    (None, 4, 4, 512)    1049088     conv5_block1_out[0][0]           \n",
      "__________________________________________________________________________________________________\n",
      "conv5_block2_1_bn (BatchNormali (None, 4, 4, 512)    2048        conv5_block2_1_conv[0][0]        \n",
      "__________________________________________________________________________________________________\n",
      "conv5_block2_1_relu (Activation (None, 4, 4, 512)    0           conv5_block2_1_bn[0][0]          \n",
      "__________________________________________________________________________________________________\n",
      "conv5_block2_2_conv (Conv2D)    (None, 4, 4, 512)    2359808     conv5_block2_1_relu[0][0]        \n",
      "__________________________________________________________________________________________________\n",
      "conv5_block2_2_bn (BatchNormali (None, 4, 4, 512)    2048        conv5_block2_2_conv[0][0]        \n",
      "__________________________________________________________________________________________________\n",
      "conv5_block2_2_relu (Activation (None, 4, 4, 512)    0           conv5_block2_2_bn[0][0]          \n",
      "__________________________________________________________________________________________________\n",
      "conv5_block2_3_conv (Conv2D)    (None, 4, 4, 2048)   1050624     conv5_block2_2_relu[0][0]        \n",
      "__________________________________________________________________________________________________\n",
      "conv5_block2_3_bn (BatchNormali (None, 4, 4, 2048)   8192        conv5_block2_3_conv[0][0]        \n",
      "__________________________________________________________________________________________________\n",
      "conv5_block2_add (Add)          (None, 4, 4, 2048)   0           conv5_block1_out[0][0]           \n",
      "                                                                 conv5_block2_3_bn[0][0]          \n",
      "__________________________________________________________________________________________________\n",
      "conv5_block2_out (Activation)   (None, 4, 4, 2048)   0           conv5_block2_add[0][0]           \n",
      "__________________________________________________________________________________________________\n",
      "conv5_block3_1_conv (Conv2D)    (None, 4, 4, 512)    1049088     conv5_block2_out[0][0]           \n",
      "__________________________________________________________________________________________________\n",
      "conv5_block3_1_bn (BatchNormali (None, 4, 4, 512)    2048        conv5_block3_1_conv[0][0]        \n",
      "__________________________________________________________________________________________________\n",
      "conv5_block3_1_relu (Activation (None, 4, 4, 512)    0           conv5_block3_1_bn[0][0]          \n",
      "__________________________________________________________________________________________________\n",
      "conv5_block3_2_conv (Conv2D)    (None, 4, 4, 512)    2359808     conv5_block3_1_relu[0][0]        \n",
      "__________________________________________________________________________________________________\n",
      "conv5_block3_2_bn (BatchNormali (None, 4, 4, 512)    2048        conv5_block3_2_conv[0][0]        \n",
      "__________________________________________________________________________________________________\n",
      "conv5_block3_2_relu (Activation (None, 4, 4, 512)    0           conv5_block3_2_bn[0][0]          \n",
      "__________________________________________________________________________________________________\n",
      "conv5_block3_3_conv (Conv2D)    (None, 4, 4, 2048)   1050624     conv5_block3_2_relu[0][0]        \n",
      "__________________________________________________________________________________________________\n",
      "conv5_block3_3_bn (BatchNormali (None, 4, 4, 2048)   8192        conv5_block3_3_conv[0][0]        \n",
      "__________________________________________________________________________________________________\n",
      "conv5_block3_add (Add)          (None, 4, 4, 2048)   0           conv5_block2_out[0][0]           \n",
      "                                                                 conv5_block3_3_bn[0][0]          \n",
      "__________________________________________________________________________________________________\n",
      "conv5_block3_out (Activation)   (None, 4, 4, 2048)   0           conv5_block3_add[0][0]           \n",
      "__________________________________________________________________________________________________\n",
      "avg_pool (GlobalAveragePooling2 (None, 2048)         0           conv5_block3_out[0][0]           \n",
      "__________________________________________________________________________________________________\n",
      "flatten (Flatten)               (None, 2048)         0           avg_pool[0][0]                   \n",
      "__________________________________________________________________________________________________\n",
      "dense (Dense)                   (None, 80)           163920      flatten[0][0]                    \n",
      "__________________________________________________________________________________________________\n",
      "activation (Activation)         (None, 80)           0           dense[0][0]                      \n",
      "==================================================================================================\n",
      "Total params: 42,822,096\n",
      "Trainable params: 42,716,752\n",
      "Non-trainable params: 105,344\n",
      "__________________________________________________________________________________________________\n"
     ]
    }
   ],
   "source": [
    "custom_densenet169_model = Model(inputs=image_input,outputs= output)\n",
    "custom_densenet169_model.summary()"
   ]
  },
  {
   "cell_type": "code",
   "execution_count": 22,
   "metadata": {
    "execution": {
     "iopub.execute_input": "2020-10-04T17:25:39.153596Z",
     "iopub.status.busy": "2020-10-04T17:25:39.152395Z",
     "iopub.status.idle": "2020-10-04T17:25:39.157953Z",
     "shell.execute_reply": "2020-10-04T17:25:39.157339Z"
    },
    "papermill": {
     "duration": 0.083907,
     "end_time": "2020-10-04T17:25:39.158077",
     "exception": false,
     "start_time": "2020-10-04T17:25:39.074170",
     "status": "completed"
    },
    "tags": []
   },
   "outputs": [],
   "source": [
    "#from tensorflow.keras.utils import plot_model\n",
    "#plot_model(custom_densenet169_model, 'model_resnet50.png', show_shapes=True)"
   ]
  },
  {
   "cell_type": "code",
   "execution_count": 23,
   "metadata": {
    "execution": {
     "iopub.execute_input": "2020-10-04T17:25:39.324308Z",
     "iopub.status.busy": "2020-10-04T17:25:39.322329Z",
     "iopub.status.idle": "2020-10-04T17:25:39.335748Z",
     "shell.execute_reply": "2020-10-04T17:25:39.334283Z"
    },
    "papermill": {
     "duration": 0.107889,
     "end_time": "2020-10-04T17:25:39.335899",
     "exception": false,
     "start_time": "2020-10-04T17:25:39.228010",
     "status": "completed"
    },
    "tags": []
   },
   "outputs": [],
   "source": [
    "opt = tf.keras.optimizers.Adam(lr=0.0009)#tf.keras.optimizers.RMSprop(lr=0.3, decay=1e-6) \n",
    "#tf.keras.optimizers.Adam(lr=0.001)#RMSprop(lr=0.0001, decay=1e-6)\n",
    "\n",
    "# Let's train the model using RMSprop\n",
    "custom_densenet169_model.compile(loss=tf.keras.losses.BinaryCrossentropy(reduction=tf.keras.losses.Reduction.SUM),#,label_smoothing=0.7#'categorical_crossentropy',\n",
    "              optimizer=opt,\n",
    "               metrics=['categorical_accuracy'])"
   ]
  },
  {
   "cell_type": "code",
   "execution_count": 24,
   "metadata": {
    "execution": {
     "iopub.execute_input": "2020-10-04T17:25:39.484387Z",
     "iopub.status.busy": "2020-10-04T17:25:39.482205Z",
     "iopub.status.idle": "2020-10-04T17:25:39.485198Z",
     "shell.execute_reply": "2020-10-04T17:25:39.485762Z"
    },
    "papermill": {
     "duration": 0.080091,
     "end_time": "2020-10-04T17:25:39.485925",
     "exception": false,
     "start_time": "2020-10-04T17:25:39.405834",
     "status": "completed"
    },
    "tags": []
   },
   "outputs": [],
   "source": [
    "#Fitting keras model, no test gen for now\n",
    "STEP_SIZE_TRAIN=train_generator.n//train_generator.batch_size\n",
    "STEP_SIZE_VALID=valid_generator.n//valid_generator.batch_size\n",
    "#STEP_SIZE_TEST=test_generator.n//test_generator.batch_size"
   ]
  },
  {
   "cell_type": "code",
   "execution_count": 25,
   "metadata": {
    "execution": {
     "iopub.execute_input": "2020-10-04T17:25:39.636655Z",
     "iopub.status.busy": "2020-10-04T17:25:39.635026Z",
     "iopub.status.idle": "2020-10-04T17:25:39.640072Z",
     "shell.execute_reply": "2020-10-04T17:25:39.639447Z"
    },
    "papermill": {
     "duration": 0.08253,
     "end_time": "2020-10-04T17:25:39.640193",
     "exception": false,
     "start_time": "2020-10-04T17:25:39.557663",
     "status": "completed"
    },
    "tags": []
   },
   "outputs": [
    {
     "data": {
      "text/plain": [
       "303"
      ]
     },
     "execution_count": 25,
     "metadata": {},
     "output_type": "execute_result"
    }
   ],
   "source": [
    "STEP_SIZE_TRAIN"
   ]
  },
  {
   "cell_type": "code",
   "execution_count": 26,
   "metadata": {
    "execution": {
     "iopub.execute_input": "2020-10-04T17:25:39.793061Z",
     "iopub.status.busy": "2020-10-04T17:25:39.791920Z",
     "iopub.status.idle": "2020-10-04T17:25:39.795363Z",
     "shell.execute_reply": "2020-10-04T17:25:39.794791Z"
    },
    "papermill": {
     "duration": 0.083893,
     "end_time": "2020-10-04T17:25:39.795516",
     "exception": false,
     "start_time": "2020-10-04T17:25:39.711623",
     "status": "completed"
    },
    "tags": []
   },
   "outputs": [],
   "source": [
    "# simple early stopping\n",
    "#earlyStop = EarlyStopping(monitor='val_loss', mode='min', verbose=1, patience=100,)\n",
    "#https://machinelearningmastery.com/check-point-deep-learning-models-keras/\n",
    "\n",
    "\n",
    "#model_checkpoint = ModelCheckpoint('weights_cnn_lstm.best.hdf5', monitor='val_categorical_accuracy', mode='max', verbose=1, save_best_only=True)\n",
    "#filepath=\"weights-improvement-{epoch:02d}-{val_categorical_accuracy:.2f}.hdf5\"\n",
    "\n",
    "\n",
    "csv_logger = CSVLogger(filename='../working/training_log.csv',\n",
    "                       separator=',',\n",
    "                       append=True)\n",
    "#https://www.tensorflow.org/api_docs/python/tf/keras/callbacks/ReduceLROnPlateau\n",
    "reduceLROnPlat = ReduceLROnPlateau(monitor='val_categorical_accuracy', factor=0.6,\n",
    "                              patience=6, min_lr=0,verbose=1)\n",
    "\n",
    "\n",
    "model_checkpoint = ModelCheckpoint(\"ResNetNoisyTotal.best_weights-128.hdf5\", monitor='val_categorical_accuracy', mode='max', verbose=1, save_best_only=True)\n",
    "\n",
    "# fit model\n",
    "\n",
    "#es = tf.keras.callbacks.EarlyStopping(monitor='val_loss', mode='min', verbose=1, patience=20, min_delta=0.001 )\n",
    "es = tf.keras.callbacks.EarlyStopping(monitor='val_categorical_accuracy', mode='max', verbose=1, patience=30, min_delta=0.001 )\n",
    "\n",
    "callbacks_list = [model_checkpoint, csv_logger, reduceLROnPlat,es]"
   ]
  },
  {
   "cell_type": "code",
   "execution_count": 27,
   "metadata": {
    "execution": {
     "iopub.execute_input": "2020-10-04T17:25:39.942292Z",
     "iopub.status.busy": "2020-10-04T17:25:39.941455Z",
     "iopub.status.idle": "2020-10-04T17:25:39.946619Z",
     "shell.execute_reply": "2020-10-04T17:25:39.945939Z"
    },
    "papermill": {
     "duration": 0.080345,
     "end_time": "2020-10-04T17:25:39.946752",
     "exception": false,
     "start_time": "2020-10-04T17:25:39.866407",
     "status": "completed"
    },
    "tags": []
   },
   "outputs": [],
   "source": [
    "\n",
    "#custom_densenet169_model.load_weights(\"../input/sc2weights/total.best_weights.hdf5\")\n",
    "#custom_densenet169_model.load_weights(\"../input/sc2weights/total.best_weights_iter2.hdf5\")"
   ]
  },
  {
   "cell_type": "code",
   "execution_count": 28,
   "metadata": {
    "execution": {
     "iopub.execute_input": "2020-10-04T17:25:40.099316Z",
     "iopub.status.busy": "2020-10-04T17:25:40.098331Z",
     "iopub.status.idle": "2020-10-04T22:16:19.260763Z",
     "shell.execute_reply": "2020-10-04T22:16:19.259924Z"
    },
    "papermill": {
     "duration": 17439.243191,
     "end_time": "2020-10-04T22:16:19.260896",
     "exception": false,
     "start_time": "2020-10-04T17:25:40.017705",
     "status": "completed"
    },
    "tags": []
   },
   "outputs": [
    {
     "name": "stdout",
     "output_type": "stream",
     "text": [
      "Epoch 1/300\n",
      "303/303 [==============================] - ETA: 0s - loss: 4.7560 - categorical_accuracy: 0.0954\n",
      "Epoch 00001: val_categorical_accuracy improved from -inf to 0.01167, saving model to ResNetNoisyTotal.best_weights-128.hdf5\n",
      "303/303 [==============================] - 183s 603ms/step - loss: 4.7560 - categorical_accuracy: 0.0954 - val_loss: 5.6409 - val_categorical_accuracy: 0.0117\n",
      "Epoch 2/300\n",
      "303/303 [==============================] - ETA: 0s - loss: 3.9441 - categorical_accuracy: 0.1800\n",
      "Epoch 00002: val_categorical_accuracy improved from 0.01167 to 0.01333, saving model to ResNetNoisyTotal.best_weights-128.hdf5\n",
      "303/303 [==============================] - 170s 561ms/step - loss: 3.9441 - categorical_accuracy: 0.1800 - val_loss: 6.3545 - val_categorical_accuracy: 0.0133\n",
      "Epoch 3/300\n",
      "303/303 [==============================] - ETA: 0s - loss: 3.7302 - categorical_accuracy: 0.2214\n",
      "Epoch 00003: val_categorical_accuracy improved from 0.01333 to 0.09708, saving model to ResNetNoisyTotal.best_weights-128.hdf5\n",
      "303/303 [==============================] - 176s 582ms/step - loss: 3.7302 - categorical_accuracy: 0.2214 - val_loss: 4.6779 - val_categorical_accuracy: 0.0971\n",
      "Epoch 4/300\n",
      "303/303 [==============================] - ETA: 0s - loss: 3.5435 - categorical_accuracy: 0.2535\n",
      "Epoch 00004: val_categorical_accuracy improved from 0.09708 to 0.12292, saving model to ResNetNoisyTotal.best_weights-128.hdf5\n",
      "303/303 [==============================] - 179s 592ms/step - loss: 3.5435 - categorical_accuracy: 0.2535 - val_loss: 4.7623 - val_categorical_accuracy: 0.1229\n",
      "Epoch 5/300\n",
      "303/303 [==============================] - ETA: 0s - loss: 3.3764 - categorical_accuracy: 0.2907\n",
      "Epoch 00005: val_categorical_accuracy did not improve from 0.12292\n",
      "303/303 [==============================] - 177s 584ms/step - loss: 3.3764 - categorical_accuracy: 0.2907 - val_loss: 4.9779 - val_categorical_accuracy: 0.1125\n",
      "Epoch 6/300\n",
      "303/303 [==============================] - ETA: 0s - loss: 3.2350 - categorical_accuracy: 0.3165\n",
      "Epoch 00006: val_categorical_accuracy did not improve from 0.12292\n",
      "303/303 [==============================] - 174s 574ms/step - loss: 3.2350 - categorical_accuracy: 0.3165 - val_loss: 5.5047 - val_categorical_accuracy: 0.0835\n",
      "Epoch 7/300\n",
      "303/303 [==============================] - ETA: 0s - loss: 3.0888 - categorical_accuracy: 0.3442\n",
      "Epoch 00007: val_categorical_accuracy improved from 0.12292 to 0.16750, saving model to ResNetNoisyTotal.best_weights-128.hdf5\n",
      "303/303 [==============================] - 180s 593ms/step - loss: 3.0888 - categorical_accuracy: 0.3442 - val_loss: 4.2989 - val_categorical_accuracy: 0.1675\n",
      "Epoch 8/300\n",
      "303/303 [==============================] - ETA: 0s - loss: 2.9196 - categorical_accuracy: 0.3820\n",
      "Epoch 00008: val_categorical_accuracy did not improve from 0.16750\n",
      "303/303 [==============================] - 175s 578ms/step - loss: 2.9196 - categorical_accuracy: 0.3820 - val_loss: 5.0494 - val_categorical_accuracy: 0.1171\n",
      "Epoch 9/300\n",
      "303/303 [==============================] - ETA: 0s - loss: 2.7552 - categorical_accuracy: 0.4103\n",
      "Epoch 00009: val_categorical_accuracy did not improve from 0.16750\n",
      "303/303 [==============================] - 179s 592ms/step - loss: 2.7552 - categorical_accuracy: 0.4103 - val_loss: 4.7139 - val_categorical_accuracy: 0.1531\n",
      "Epoch 10/300\n",
      "303/303 [==============================] - ETA: 0s - loss: 2.5418 - categorical_accuracy: 0.4552\n",
      "Epoch 00010: val_categorical_accuracy improved from 0.16750 to 0.18542, saving model to ResNetNoisyTotal.best_weights-128.hdf5\n",
      "303/303 [==============================] - 186s 613ms/step - loss: 2.5418 - categorical_accuracy: 0.4552 - val_loss: 4.5571 - val_categorical_accuracy: 0.1854\n",
      "Epoch 11/300\n",
      "303/303 [==============================] - ETA: 0s - loss: 2.3285 - categorical_accuracy: 0.5014\n",
      "Epoch 00011: val_categorical_accuracy improved from 0.18542 to 0.24708, saving model to ResNetNoisyTotal.best_weights-128.hdf5\n",
      "303/303 [==============================] - 182s 599ms/step - loss: 2.3285 - categorical_accuracy: 0.5014 - val_loss: 4.0433 - val_categorical_accuracy: 0.2471\n",
      "Epoch 12/300\n",
      "303/303 [==============================] - ETA: 0s - loss: 2.1138 - categorical_accuracy: 0.5433\n",
      "Epoch 00012: val_categorical_accuracy improved from 0.24708 to 0.27646, saving model to ResNetNoisyTotal.best_weights-128.hdf5\n",
      "303/303 [==============================] - 181s 596ms/step - loss: 2.1138 - categorical_accuracy: 0.5433 - val_loss: 3.8505 - val_categorical_accuracy: 0.2765\n",
      "Epoch 13/300\n",
      "303/303 [==============================] - ETA: 0s - loss: 1.8888 - categorical_accuracy: 0.5927\n",
      "Epoch 00013: val_categorical_accuracy did not improve from 0.27646\n",
      "303/303 [==============================] - 169s 557ms/step - loss: 1.8888 - categorical_accuracy: 0.5927 - val_loss: 5.1293 - val_categorical_accuracy: 0.1752\n",
      "Epoch 14/300\n",
      "303/303 [==============================] - ETA: 0s - loss: 1.6551 - categorical_accuracy: 0.6410\n",
      "Epoch 00014: val_categorical_accuracy did not improve from 0.27646\n",
      "303/303 [==============================] - 166s 548ms/step - loss: 1.6551 - categorical_accuracy: 0.6410 - val_loss: 4.2337 - val_categorical_accuracy: 0.2423\n",
      "Epoch 15/300\n",
      "303/303 [==============================] - ETA: 0s - loss: 1.4076 - categorical_accuracy: 0.6958\n",
      "Epoch 00015: val_categorical_accuracy did not improve from 0.27646\n",
      "303/303 [==============================] - 169s 556ms/step - loss: 1.4076 - categorical_accuracy: 0.6958 - val_loss: 4.4760 - val_categorical_accuracy: 0.2577\n",
      "Epoch 16/300\n",
      "303/303 [==============================] - ETA: 0s - loss: 1.2025 - categorical_accuracy: 0.7355\n",
      "Epoch 00016: val_categorical_accuracy did not improve from 0.27646\n",
      "303/303 [==============================] - 174s 574ms/step - loss: 1.2025 - categorical_accuracy: 0.7355 - val_loss: 5.0533 - val_categorical_accuracy: 0.2133\n",
      "Epoch 17/300\n",
      "303/303 [==============================] - ETA: 0s - loss: 1.0384 - categorical_accuracy: 0.7743\n",
      "Epoch 00017: val_categorical_accuracy did not improve from 0.27646\n",
      "303/303 [==============================] - 173s 572ms/step - loss: 1.0384 - categorical_accuracy: 0.7743 - val_loss: 4.8042 - val_categorical_accuracy: 0.2537\n",
      "Epoch 18/300\n",
      "303/303 [==============================] - ETA: 0s - loss: 0.8702 - categorical_accuracy: 0.8051\n",
      "Epoch 00018: val_categorical_accuracy did not improve from 0.27646\n",
      "\n",
      "Epoch 00018: ReduceLROnPlateau reducing learning rate to 0.0005399999907240271.\n",
      "303/303 [==============================] - 173s 572ms/step - loss: 0.8702 - categorical_accuracy: 0.8051 - val_loss: 4.7414 - val_categorical_accuracy: 0.2667\n",
      "Epoch 19/300\n",
      "303/303 [==============================] - ETA: 0s - loss: 0.5092 - categorical_accuracy: 0.8636\n",
      "Epoch 00019: val_categorical_accuracy improved from 0.27646 to 0.34146, saving model to ResNetNoisyTotal.best_weights-128.hdf5\n",
      "303/303 [==============================] - 178s 589ms/step - loss: 0.5092 - categorical_accuracy: 0.8636 - val_loss: 4.1881 - val_categorical_accuracy: 0.3415\n",
      "Epoch 20/300\n",
      "303/303 [==============================] - ETA: 0s - loss: 0.3551 - categorical_accuracy: 0.8849\n",
      "Epoch 00020: val_categorical_accuracy improved from 0.34146 to 0.42875, saving model to ResNetNoisyTotal.best_weights-128.hdf5\n",
      "303/303 [==============================] - 178s 587ms/step - loss: 0.3551 - categorical_accuracy: 0.8849 - val_loss: 3.9112 - val_categorical_accuracy: 0.4288\n",
      "Epoch 21/300\n",
      "303/303 [==============================] - ETA: 0s - loss: 0.3039 - categorical_accuracy: 0.8901\n",
      "Epoch 00021: val_categorical_accuracy did not improve from 0.42875\n",
      "303/303 [==============================] - 177s 583ms/step - loss: 0.3039 - categorical_accuracy: 0.8901 - val_loss: 4.9025 - val_categorical_accuracy: 0.3458\n",
      "Epoch 22/300\n",
      "303/303 [==============================] - ETA: 0s - loss: 0.2796 - categorical_accuracy: 0.8919\n",
      "Epoch 00022: val_categorical_accuracy did not improve from 0.42875\n",
      "303/303 [==============================] - 180s 594ms/step - loss: 0.2796 - categorical_accuracy: 0.8919 - val_loss: 5.0877 - val_categorical_accuracy: 0.3198\n",
      "Epoch 23/300\n",
      "303/303 [==============================] - ETA: 0s - loss: 0.2790 - categorical_accuracy: 0.8913\n",
      "Epoch 00023: val_categorical_accuracy did not improve from 0.42875\n",
      "303/303 [==============================] - 179s 590ms/step - loss: 0.2790 - categorical_accuracy: 0.8913 - val_loss: 4.5593 - val_categorical_accuracy: 0.3792\n",
      "Epoch 24/300\n",
      "303/303 [==============================] - ETA: 0s - loss: 0.2514 - categorical_accuracy: 0.8948\n",
      "Epoch 00024: val_categorical_accuracy did not improve from 0.42875\n",
      "303/303 [==============================] - 176s 582ms/step - loss: 0.2514 - categorical_accuracy: 0.8948 - val_loss: 4.9197 - val_categorical_accuracy: 0.3729\n",
      "Epoch 25/300\n",
      "303/303 [==============================] - ETA: 0s - loss: 0.2233 - categorical_accuracy: 0.8988\n",
      "Epoch 00025: val_categorical_accuracy did not improve from 0.42875\n",
      "303/303 [==============================] - 180s 594ms/step - loss: 0.2233 - categorical_accuracy: 0.8988 - val_loss: 4.4621 - val_categorical_accuracy: 0.4085\n",
      "Epoch 26/300\n",
      "303/303 [==============================] - ETA: 0s - loss: 0.2277 - categorical_accuracy: 0.8967\n",
      "Epoch 00026: val_categorical_accuracy did not improve from 0.42875\n",
      "\n",
      "Epoch 00026: ReduceLROnPlateau reducing learning rate to 0.00032399998744949695.\n",
      "303/303 [==============================] - 179s 591ms/step - loss: 0.2277 - categorical_accuracy: 0.8967 - val_loss: 5.9011 - val_categorical_accuracy: 0.2775\n",
      "Epoch 27/300\n",
      "303/303 [==============================] - ETA: 0s - loss: 0.1312 - categorical_accuracy: 0.9055\n",
      "Epoch 00027: val_categorical_accuracy did not improve from 0.42875\n",
      "303/303 [==============================] - 185s 610ms/step - loss: 0.1312 - categorical_accuracy: 0.9055 - val_loss: 4.6375 - val_categorical_accuracy: 0.4256\n",
      "Epoch 28/300\n",
      "303/303 [==============================] - ETA: 0s - loss: 0.0968 - categorical_accuracy: 0.9090\n",
      "Epoch 00028: val_categorical_accuracy did not improve from 0.42875\n",
      "303/303 [==============================] - 188s 621ms/step - loss: 0.0968 - categorical_accuracy: 0.9090 - val_loss: 5.2913 - val_categorical_accuracy: 0.3717\n",
      "Epoch 29/300\n",
      "303/303 [==============================] - ETA: 0s - loss: 0.0867 - categorical_accuracy: 0.9121\n",
      "Epoch 00029: val_categorical_accuracy did not improve from 0.42875\n",
      "303/303 [==============================] - 191s 632ms/step - loss: 0.0867 - categorical_accuracy: 0.9121 - val_loss: 5.0907 - val_categorical_accuracy: 0.4071\n",
      "Epoch 30/300\n",
      "303/303 [==============================] - ETA: 0s - loss: 0.0787 - categorical_accuracy: 0.9085\n",
      "Epoch 00030: val_categorical_accuracy did not improve from 0.42875\n",
      "303/303 [==============================] - 188s 619ms/step - loss: 0.0787 - categorical_accuracy: 0.9085 - val_loss: 4.8614 - val_categorical_accuracy: 0.4206\n",
      "Epoch 31/300\n",
      "303/303 [==============================] - ETA: 0s - loss: 0.0768 - categorical_accuracy: 0.9079\n",
      "Epoch 00031: val_categorical_accuracy improved from 0.42875 to 0.43625, saving model to ResNetNoisyTotal.best_weights-128.hdf5\n",
      "303/303 [==============================] - 174s 575ms/step - loss: 0.0768 - categorical_accuracy: 0.9079 - val_loss: 4.8531 - val_categorical_accuracy: 0.4363\n",
      "Epoch 32/300\n",
      "303/303 [==============================] - ETA: 0s - loss: 0.0755 - categorical_accuracy: 0.9105\n",
      "Epoch 00032: val_categorical_accuracy did not improve from 0.43625\n",
      "303/303 [==============================] - 186s 613ms/step - loss: 0.0755 - categorical_accuracy: 0.9105 - val_loss: 6.0398 - val_categorical_accuracy: 0.3450\n",
      "Epoch 33/300\n",
      "303/303 [==============================] - ETA: 0s - loss: 0.0786 - categorical_accuracy: 0.9103\n",
      "Epoch 00033: val_categorical_accuracy did not improve from 0.43625\n",
      "303/303 [==============================] - 160s 528ms/step - loss: 0.0786 - categorical_accuracy: 0.9103 - val_loss: 5.1812 - val_categorical_accuracy: 0.4346\n",
      "Epoch 34/300\n",
      "303/303 [==============================] - ETA: 0s - loss: 0.0852 - categorical_accuracy: 0.9099\n",
      "Epoch 00034: val_categorical_accuracy did not improve from 0.43625\n",
      "303/303 [==============================] - 157s 519ms/step - loss: 0.0852 - categorical_accuracy: 0.9099 - val_loss: 5.3487 - val_categorical_accuracy: 0.3998\n",
      "Epoch 35/300\n",
      "303/303 [==============================] - ETA: 0s - loss: 0.0853 - categorical_accuracy: 0.9075\n",
      "Epoch 00035: val_categorical_accuracy did not improve from 0.43625\n",
      "303/303 [==============================] - 171s 563ms/step - loss: 0.0853 - categorical_accuracy: 0.9075 - val_loss: 5.4311 - val_categorical_accuracy: 0.4019\n",
      "Epoch 36/300\n",
      "303/303 [==============================] - ETA: 0s - loss: 0.0769 - categorical_accuracy: 0.9113\n",
      "Epoch 00036: val_categorical_accuracy did not improve from 0.43625\n",
      "303/303 [==============================] - 175s 577ms/step - loss: 0.0769 - categorical_accuracy: 0.9113 - val_loss: 5.6907 - val_categorical_accuracy: 0.3583\n",
      "Epoch 37/300\n",
      "303/303 [==============================] - ETA: 0s - loss: 0.0695 - categorical_accuracy: 0.9123\n",
      "Epoch 00037: val_categorical_accuracy did not improve from 0.43625\n",
      "\n",
      "Epoch 00037: ReduceLROnPlateau reducing learning rate to 0.00019439999596215785.\n",
      "303/303 [==============================] - 177s 586ms/step - loss: 0.0695 - categorical_accuracy: 0.9123 - val_loss: 5.2843 - val_categorical_accuracy: 0.4298\n",
      "Epoch 38/300\n",
      "303/303 [==============================] - ETA: 0s - loss: 0.0492 - categorical_accuracy: 0.9121\n",
      "Epoch 00038: val_categorical_accuracy improved from 0.43625 to 0.47167, saving model to ResNetNoisyTotal.best_weights-128.hdf5\n",
      "303/303 [==============================] - 178s 588ms/step - loss: 0.0492 - categorical_accuracy: 0.9121 - val_loss: 4.9325 - val_categorical_accuracy: 0.4717\n",
      "Epoch 39/300\n",
      "303/303 [==============================] - ETA: 0s - loss: 0.0313 - categorical_accuracy: 0.9112\n",
      "Epoch 00039: val_categorical_accuracy did not improve from 0.47167\n",
      "303/303 [==============================] - 178s 586ms/step - loss: 0.0313 - categorical_accuracy: 0.9112 - val_loss: 5.4314 - val_categorical_accuracy: 0.4146\n",
      "Epoch 40/300\n",
      "303/303 [==============================] - ETA: 0s - loss: 0.0273 - categorical_accuracy: 0.9116\n",
      "Epoch 00040: val_categorical_accuracy did not improve from 0.47167\n",
      "303/303 [==============================] - 180s 593ms/step - loss: 0.0273 - categorical_accuracy: 0.9116 - val_loss: 6.0036 - val_categorical_accuracy: 0.3781\n",
      "Epoch 41/300\n",
      "303/303 [==============================] - ETA: 0s - loss: 0.0272 - categorical_accuracy: 0.9147\n",
      "Epoch 00041: val_categorical_accuracy improved from 0.47167 to 0.48042, saving model to ResNetNoisyTotal.best_weights-128.hdf5\n",
      "303/303 [==============================] - 171s 565ms/step - loss: 0.0272 - categorical_accuracy: 0.9147 - val_loss: 5.0622 - val_categorical_accuracy: 0.4804\n",
      "Epoch 42/300\n",
      "303/303 [==============================] - ETA: 0s - loss: 0.0268 - categorical_accuracy: 0.9137\n",
      "Epoch 00042: val_categorical_accuracy did not improve from 0.48042\n",
      "303/303 [==============================] - 179s 591ms/step - loss: 0.0268 - categorical_accuracy: 0.9137 - val_loss: 5.3382 - val_categorical_accuracy: 0.4410\n",
      "Epoch 43/300\n",
      "303/303 [==============================] - ETA: 0s - loss: 0.0284 - categorical_accuracy: 0.9105\n",
      "Epoch 00043: val_categorical_accuracy did not improve from 0.48042\n",
      "303/303 [==============================] - 159s 526ms/step - loss: 0.0284 - categorical_accuracy: 0.9105 - val_loss: 7.7708 - val_categorical_accuracy: 0.3133\n",
      "Epoch 44/300\n",
      "303/303 [==============================] - ETA: 0s - loss: 0.0285 - categorical_accuracy: 0.9123\n",
      "Epoch 00044: val_categorical_accuracy did not improve from 0.48042\n",
      "303/303 [==============================] - 179s 590ms/step - loss: 0.0285 - categorical_accuracy: 0.9123 - val_loss: 6.8247 - val_categorical_accuracy: 0.3302\n",
      "Epoch 45/300\n",
      "303/303 [==============================] - ETA: 0s - loss: 0.0252 - categorical_accuracy: 0.9119\n",
      "Epoch 00045: val_categorical_accuracy did not improve from 0.48042\n",
      "303/303 [==============================] - 170s 563ms/step - loss: 0.0252 - categorical_accuracy: 0.9119 - val_loss: 5.6465 - val_categorical_accuracy: 0.4229\n",
      "Epoch 46/300\n",
      "303/303 [==============================] - ETA: 0s - loss: 0.0307 - categorical_accuracy: 0.9110\n",
      "Epoch 00046: val_categorical_accuracy did not improve from 0.48042\n",
      "303/303 [==============================] - 157s 519ms/step - loss: 0.0307 - categorical_accuracy: 0.9110 - val_loss: 6.3520 - val_categorical_accuracy: 0.3783\n",
      "Epoch 47/300\n",
      "303/303 [==============================] - ETA: 0s - loss: 0.0312 - categorical_accuracy: 0.9111\n",
      "Epoch 00047: val_categorical_accuracy did not improve from 0.48042\n",
      "\n",
      "Epoch 00047: ReduceLROnPlateau reducing learning rate to 0.0001166399975772947.\n",
      "303/303 [==============================] - 148s 488ms/step - loss: 0.0312 - categorical_accuracy: 0.9111 - val_loss: 5.7693 - val_categorical_accuracy: 0.4313\n",
      "Epoch 48/300\n",
      "303/303 [==============================] - ETA: 0s - loss: 0.0216 - categorical_accuracy: 0.9155\n",
      "Epoch 00048: val_categorical_accuracy did not improve from 0.48042\n",
      "303/303 [==============================] - 145s 478ms/step - loss: 0.0216 - categorical_accuracy: 0.9155 - val_loss: 5.3129 - val_categorical_accuracy: 0.4667\n",
      "Epoch 49/300\n",
      "303/303 [==============================] - ETA: 0s - loss: 0.0149 - categorical_accuracy: 0.9108\n",
      "Epoch 00049: val_categorical_accuracy improved from 0.48042 to 0.48792, saving model to ResNetNoisyTotal.best_weights-128.hdf5\n",
      "303/303 [==============================] - 147s 485ms/step - loss: 0.0149 - categorical_accuracy: 0.9108 - val_loss: 5.2567 - val_categorical_accuracy: 0.4879\n",
      "Epoch 50/300\n",
      "303/303 [==============================] - ETA: 0s - loss: 0.0126 - categorical_accuracy: 0.9104\n",
      "Epoch 00050: val_categorical_accuracy improved from 0.48792 to 0.50146, saving model to ResNetNoisyTotal.best_weights-128.hdf5\n",
      "303/303 [==============================] - 147s 484ms/step - loss: 0.0126 - categorical_accuracy: 0.9104 - val_loss: 5.1605 - val_categorical_accuracy: 0.5015\n",
      "Epoch 51/300\n",
      "303/303 [==============================] - ETA: 0s - loss: 0.0108 - categorical_accuracy: 0.9116\n",
      "Epoch 00051: val_categorical_accuracy did not improve from 0.50146\n",
      "303/303 [==============================] - 145s 479ms/step - loss: 0.0108 - categorical_accuracy: 0.9116 - val_loss: 5.4253 - val_categorical_accuracy: 0.4654\n",
      "Epoch 52/300\n",
      "303/303 [==============================] - ETA: 0s - loss: 0.0110 - categorical_accuracy: 0.9129\n",
      "Epoch 00052: val_categorical_accuracy improved from 0.50146 to 0.50250, saving model to ResNetNoisyTotal.best_weights-128.hdf5\n",
      "303/303 [==============================] - 147s 486ms/step - loss: 0.0110 - categorical_accuracy: 0.9129 - val_loss: 5.1749 - val_categorical_accuracy: 0.5025\n",
      "Epoch 53/300\n",
      "303/303 [==============================] - ETA: 0s - loss: 0.0138 - categorical_accuracy: 0.9113\n",
      "Epoch 00053: val_categorical_accuracy did not improve from 0.50250\n",
      "303/303 [==============================] - 146s 482ms/step - loss: 0.0138 - categorical_accuracy: 0.9113 - val_loss: 5.8787 - val_categorical_accuracy: 0.4323\n",
      "Epoch 54/300\n",
      "303/303 [==============================] - ETA: 0s - loss: 0.0107 - categorical_accuracy: 0.9133\n",
      "Epoch 00054: val_categorical_accuracy did not improve from 0.50250\n",
      "303/303 [==============================] - 146s 482ms/step - loss: 0.0107 - categorical_accuracy: 0.9133 - val_loss: 5.4050 - val_categorical_accuracy: 0.4917\n",
      "Epoch 55/300\n",
      "303/303 [==============================] - ETA: 0s - loss: 0.0093 - categorical_accuracy: 0.9147\n",
      "Epoch 00055: val_categorical_accuracy did not improve from 0.50250\n",
      "303/303 [==============================] - 145s 479ms/step - loss: 0.0093 - categorical_accuracy: 0.9147 - val_loss: 5.2669 - val_categorical_accuracy: 0.4896\n",
      "Epoch 56/300\n",
      "303/303 [==============================] - ETA: 0s - loss: 0.0112 - categorical_accuracy: 0.9137\n",
      "Epoch 00056: val_categorical_accuracy improved from 0.50250 to 0.51688, saving model to ResNetNoisyTotal.best_weights-128.hdf5\n",
      "303/303 [==============================] - 150s 494ms/step - loss: 0.0112 - categorical_accuracy: 0.9137 - val_loss: 5.0662 - val_categorical_accuracy: 0.5169\n",
      "Epoch 57/300\n",
      "303/303 [==============================] - ETA: 0s - loss: 0.0116 - categorical_accuracy: 0.9125\n",
      "Epoch 00057: val_categorical_accuracy did not improve from 0.51688\n",
      "303/303 [==============================] - 145s 478ms/step - loss: 0.0116 - categorical_accuracy: 0.9125 - val_loss: 5.4446 - val_categorical_accuracy: 0.4875\n",
      "Epoch 58/300\n",
      "303/303 [==============================] - ETA: 0s - loss: 0.0141 - categorical_accuracy: 0.9129\n",
      "Epoch 00058: val_categorical_accuracy did not improve from 0.51688\n",
      "303/303 [==============================] - 147s 485ms/step - loss: 0.0141 - categorical_accuracy: 0.9129 - val_loss: 6.2246 - val_categorical_accuracy: 0.4252\n",
      "Epoch 59/300\n",
      "303/303 [==============================] - ETA: 0s - loss: 0.0132 - categorical_accuracy: 0.9136\n",
      "Epoch 00059: val_categorical_accuracy did not improve from 0.51688\n",
      "303/303 [==============================] - 145s 479ms/step - loss: 0.0132 - categorical_accuracy: 0.9136 - val_loss: 5.3930 - val_categorical_accuracy: 0.4923\n",
      "Epoch 60/300\n",
      "303/303 [==============================] - ETA: 0s - loss: 0.0109 - categorical_accuracy: 0.9149\n",
      "Epoch 00060: val_categorical_accuracy did not improve from 0.51688\n",
      "303/303 [==============================] - 147s 484ms/step - loss: 0.0109 - categorical_accuracy: 0.9149 - val_loss: 5.9834 - val_categorical_accuracy: 0.4360\n",
      "Epoch 61/300\n",
      "303/303 [==============================] - ETA: 0s - loss: 0.0101 - categorical_accuracy: 0.9119\n",
      "Epoch 00061: val_categorical_accuracy did not improve from 0.51688\n",
      "303/303 [==============================] - 146s 482ms/step - loss: 0.0101 - categorical_accuracy: 0.9119 - val_loss: 5.8367 - val_categorical_accuracy: 0.4485\n",
      "Epoch 62/300\n",
      "303/303 [==============================] - ETA: 0s - loss: 0.0087 - categorical_accuracy: 0.9117\n",
      "Epoch 00062: val_categorical_accuracy did not improve from 0.51688\n",
      "\n",
      "Epoch 00062: ReduceLROnPlateau reducing learning rate to 6.998399767326191e-05.\n",
      "303/303 [==============================] - 146s 483ms/step - loss: 0.0087 - categorical_accuracy: 0.9117 - val_loss: 5.4016 - val_categorical_accuracy: 0.4873\n",
      "Epoch 63/300\n",
      "303/303 [==============================] - ETA: 0s - loss: 0.0078 - categorical_accuracy: 0.9104\n",
      "Epoch 00063: val_categorical_accuracy did not improve from 0.51688\n",
      "303/303 [==============================] - 147s 484ms/step - loss: 0.0078 - categorical_accuracy: 0.9104 - val_loss: 5.5068 - val_categorical_accuracy: 0.4942\n",
      "Epoch 64/300\n",
      "303/303 [==============================] - ETA: 0s - loss: 0.0067 - categorical_accuracy: 0.9143\n",
      "Epoch 00064: val_categorical_accuracy did not improve from 0.51688\n",
      "303/303 [==============================] - 146s 483ms/step - loss: 0.0067 - categorical_accuracy: 0.9143 - val_loss: 5.4566 - val_categorical_accuracy: 0.4958\n",
      "Epoch 65/300\n",
      "303/303 [==============================] - ETA: 0s - loss: 0.0054 - categorical_accuracy: 0.9097\n",
      "Epoch 00065: val_categorical_accuracy did not improve from 0.51688\n",
      "303/303 [==============================] - 147s 486ms/step - loss: 0.0054 - categorical_accuracy: 0.9097 - val_loss: 5.5413 - val_categorical_accuracy: 0.4960\n",
      "Epoch 66/300\n",
      "303/303 [==============================] - ETA: 0s - loss: 0.0058 - categorical_accuracy: 0.9072\n",
      "Epoch 00066: val_categorical_accuracy did not improve from 0.51688\n",
      "303/303 [==============================] - 147s 485ms/step - loss: 0.0058 - categorical_accuracy: 0.9072 - val_loss: 5.3527 - val_categorical_accuracy: 0.5075\n",
      "Epoch 67/300\n",
      "303/303 [==============================] - ETA: 0s - loss: 0.0053 - categorical_accuracy: 0.9095\n",
      "Epoch 00067: val_categorical_accuracy did not improve from 0.51688\n",
      "303/303 [==============================] - 147s 486ms/step - loss: 0.0053 - categorical_accuracy: 0.9095 - val_loss: 5.3128 - val_categorical_accuracy: 0.5090\n",
      "Epoch 68/300\n",
      "303/303 [==============================] - ETA: 0s - loss: 0.0051 - categorical_accuracy: 0.9098\n",
      "Epoch 00068: val_categorical_accuracy did not improve from 0.51688\n",
      "\n",
      "Epoch 00068: ReduceLROnPlateau reducing learning rate to 4.199039685772732e-05.\n",
      "303/303 [==============================] - 147s 484ms/step - loss: 0.0051 - categorical_accuracy: 0.9098 - val_loss: 5.5242 - val_categorical_accuracy: 0.4942\n",
      "Epoch 69/300\n",
      "303/303 [==============================] - ETA: 0s - loss: 0.0045 - categorical_accuracy: 0.9132\n",
      "Epoch 00069: val_categorical_accuracy did not improve from 0.51688\n",
      "303/303 [==============================] - 147s 485ms/step - loss: 0.0045 - categorical_accuracy: 0.9132 - val_loss: 5.4755 - val_categorical_accuracy: 0.5079\n",
      "Epoch 70/300\n",
      "303/303 [==============================] - ETA: 0s - loss: 0.0043 - categorical_accuracy: 0.9121\n",
      "Epoch 00070: val_categorical_accuracy did not improve from 0.51688\n",
      "303/303 [==============================] - 146s 482ms/step - loss: 0.0043 - categorical_accuracy: 0.9121 - val_loss: 5.4392 - val_categorical_accuracy: 0.5121\n",
      "Epoch 71/300\n",
      "303/303 [==============================] - ETA: 0s - loss: 0.0038 - categorical_accuracy: 0.9136\n",
      "Epoch 00071: val_categorical_accuracy improved from 0.51688 to 0.51729, saving model to ResNetNoisyTotal.best_weights-128.hdf5\n",
      "303/303 [==============================] - 151s 498ms/step - loss: 0.0038 - categorical_accuracy: 0.9136 - val_loss: 5.4220 - val_categorical_accuracy: 0.5173\n",
      "Epoch 72/300\n",
      "303/303 [==============================] - ETA: 0s - loss: 0.0035 - categorical_accuracy: 0.9110\n",
      "Epoch 00072: val_categorical_accuracy did not improve from 0.51729\n",
      "303/303 [==============================] - 147s 484ms/step - loss: 0.0035 - categorical_accuracy: 0.9110 - val_loss: 5.4071 - val_categorical_accuracy: 0.5146\n",
      "Epoch 73/300\n",
      "303/303 [==============================] - ETA: 0s - loss: 0.0033 - categorical_accuracy: 0.9108\n",
      "Epoch 00073: val_categorical_accuracy improved from 0.51729 to 0.52146, saving model to ResNetNoisyTotal.best_weights-128.hdf5\n",
      "303/303 [==============================] - 151s 497ms/step - loss: 0.0033 - categorical_accuracy: 0.9108 - val_loss: 5.4221 - val_categorical_accuracy: 0.5215\n",
      "Epoch 74/300\n",
      "303/303 [==============================] - ETA: 0s - loss: 0.0030 - categorical_accuracy: 0.9094\n",
      "Epoch 00074: val_categorical_accuracy did not improve from 0.52146\n",
      "303/303 [==============================] - 147s 485ms/step - loss: 0.0030 - categorical_accuracy: 0.9094 - val_loss: 5.7135 - val_categorical_accuracy: 0.4877\n",
      "Epoch 75/300\n",
      "303/303 [==============================] - ETA: 0s - loss: 0.0026 - categorical_accuracy: 0.9118\n",
      "Epoch 00075: val_categorical_accuracy did not improve from 0.52146\n",
      "303/303 [==============================] - 149s 491ms/step - loss: 0.0026 - categorical_accuracy: 0.9118 - val_loss: 5.6653 - val_categorical_accuracy: 0.5023\n",
      "Epoch 76/300\n",
      "303/303 [==============================] - ETA: 0s - loss: 0.0028 - categorical_accuracy: 0.9115\n",
      "Epoch 00076: val_categorical_accuracy did not improve from 0.52146\n",
      "303/303 [==============================] - 148s 487ms/step - loss: 0.0028 - categorical_accuracy: 0.9115 - val_loss: 5.6703 - val_categorical_accuracy: 0.5046\n",
      "Epoch 77/300\n",
      "303/303 [==============================] - ETA: 0s - loss: 0.0030 - categorical_accuracy: 0.9085\n",
      "Epoch 00077: val_categorical_accuracy did not improve from 0.52146\n",
      "303/303 [==============================] - 148s 490ms/step - loss: 0.0030 - categorical_accuracy: 0.9085 - val_loss: 5.4628 - val_categorical_accuracy: 0.5160\n",
      "Epoch 78/300\n",
      "303/303 [==============================] - ETA: 0s - loss: 0.0034 - categorical_accuracy: 0.9126\n",
      "Epoch 00078: val_categorical_accuracy did not improve from 0.52146\n",
      "303/303 [==============================] - 148s 488ms/step - loss: 0.0034 - categorical_accuracy: 0.9126 - val_loss: 5.5534 - val_categorical_accuracy: 0.5008\n",
      "Epoch 79/300\n",
      "303/303 [==============================] - ETA: 0s - loss: 0.0025 - categorical_accuracy: 0.9103\n",
      "Epoch 00079: val_categorical_accuracy improved from 0.52146 to 0.52625, saving model to ResNetNoisyTotal.best_weights-128.hdf5\n",
      "303/303 [==============================] - 151s 499ms/step - loss: 0.0025 - categorical_accuracy: 0.9103 - val_loss: 5.3981 - val_categorical_accuracy: 0.5263\n",
      "Epoch 80/300\n",
      "303/303 [==============================] - ETA: 0s - loss: 0.0028 - categorical_accuracy: 0.9132\n",
      "Epoch 00080: val_categorical_accuracy did not improve from 0.52625\n",
      "303/303 [==============================] - 147s 484ms/step - loss: 0.0028 - categorical_accuracy: 0.9132 - val_loss: 5.5512 - val_categorical_accuracy: 0.5152\n",
      "Epoch 81/300\n",
      "303/303 [==============================] - ETA: 0s - loss: 0.0026 - categorical_accuracy: 0.9124\n",
      "Epoch 00081: val_categorical_accuracy did not improve from 0.52625\n",
      "303/303 [==============================] - 149s 492ms/step - loss: 0.0026 - categorical_accuracy: 0.9124 - val_loss: 5.6180 - val_categorical_accuracy: 0.5094\n",
      "Epoch 82/300\n",
      "303/303 [==============================] - ETA: 0s - loss: 0.0021 - categorical_accuracy: 0.9146\n",
      "Epoch 00082: val_categorical_accuracy did not improve from 0.52625\n",
      "303/303 [==============================] - 148s 490ms/step - loss: 0.0021 - categorical_accuracy: 0.9146 - val_loss: 5.6447 - val_categorical_accuracy: 0.5058\n",
      "Epoch 83/300\n",
      "303/303 [==============================] - ETA: 0s - loss: 0.0021 - categorical_accuracy: 0.9138\n",
      "Epoch 00083: val_categorical_accuracy did not improve from 0.52625\n",
      "303/303 [==============================] - 150s 496ms/step - loss: 0.0021 - categorical_accuracy: 0.9138 - val_loss: 5.6030 - val_categorical_accuracy: 0.5094\n",
      "Epoch 84/300\n",
      "303/303 [==============================] - ETA: 0s - loss: 0.0023 - categorical_accuracy: 0.9120\n",
      "Epoch 00084: val_categorical_accuracy did not improve from 0.52625\n",
      "303/303 [==============================] - 148s 490ms/step - loss: 0.0023 - categorical_accuracy: 0.9120 - val_loss: 5.7897 - val_categorical_accuracy: 0.4983\n",
      "Epoch 85/300\n",
      "303/303 [==============================] - ETA: 0s - loss: 0.0019 - categorical_accuracy: 0.9132\n",
      "Epoch 00085: val_categorical_accuracy did not improve from 0.52625\n",
      "\n",
      "Epoch 00085: ReduceLROnPlateau reducing learning rate to 2.519423724152148e-05.\n",
      "303/303 [==============================] - 150s 496ms/step - loss: 0.0019 - categorical_accuracy: 0.9132 - val_loss: 5.5961 - val_categorical_accuracy: 0.5119\n",
      "Epoch 86/300\n",
      "303/303 [==============================] - ETA: 0s - loss: 0.0020 - categorical_accuracy: 0.9121\n",
      "Epoch 00086: val_categorical_accuracy did not improve from 0.52625\n",
      "303/303 [==============================] - 148s 489ms/step - loss: 0.0020 - categorical_accuracy: 0.9121 - val_loss: 5.5065 - val_categorical_accuracy: 0.5192\n",
      "Epoch 87/300\n",
      "303/303 [==============================] - ETA: 0s - loss: 0.0017 - categorical_accuracy: 0.9102\n",
      "Epoch 00087: val_categorical_accuracy did not improve from 0.52625\n",
      "303/303 [==============================] - 150s 495ms/step - loss: 0.0017 - categorical_accuracy: 0.9102 - val_loss: 5.5825 - val_categorical_accuracy: 0.5100\n",
      "Epoch 88/300\n",
      "303/303 [==============================] - ETA: 0s - loss: 0.0020 - categorical_accuracy: 0.9119\n",
      "Epoch 00088: val_categorical_accuracy did not improve from 0.52625\n",
      "303/303 [==============================] - 144s 475ms/step - loss: 0.0020 - categorical_accuracy: 0.9119 - val_loss: 5.6578 - val_categorical_accuracy: 0.5142\n",
      "Epoch 89/300\n",
      "303/303 [==============================] - ETA: 0s - loss: 0.0016 - categorical_accuracy: 0.9097\n",
      "Epoch 00089: val_categorical_accuracy did not improve from 0.52625\n",
      "303/303 [==============================] - 144s 476ms/step - loss: 0.0016 - categorical_accuracy: 0.9097 - val_loss: 5.5178 - val_categorical_accuracy: 0.5206\n",
      "Epoch 90/300\n",
      "303/303 [==============================] - ETA: 0s - loss: 0.0019 - categorical_accuracy: 0.9098\n",
      "Epoch 00090: val_categorical_accuracy did not improve from 0.52625\n",
      "303/303 [==============================] - 145s 477ms/step - loss: 0.0019 - categorical_accuracy: 0.9098 - val_loss: 5.6682 - val_categorical_accuracy: 0.5110\n",
      "Epoch 91/300\n",
      "303/303 [==============================] - ETA: 0s - loss: 0.0019 - categorical_accuracy: 0.9153\n",
      "Epoch 00091: val_categorical_accuracy did not improve from 0.52625\n",
      "\n",
      "Epoch 00091: ReduceLROnPlateau reducing learning rate to 1.511654190835543e-05.\n",
      "303/303 [==============================] - 144s 477ms/step - loss: 0.0019 - categorical_accuracy: 0.9153 - val_loss: 5.6739 - val_categorical_accuracy: 0.5052\n",
      "Epoch 92/300\n",
      "303/303 [==============================] - ETA: 0s - loss: 0.0020 - categorical_accuracy: 0.9132\n",
      "Epoch 00092: val_categorical_accuracy did not improve from 0.52625\n",
      "303/303 [==============================] - 145s 479ms/step - loss: 0.0020 - categorical_accuracy: 0.9132 - val_loss: 5.5976 - val_categorical_accuracy: 0.5142\n",
      "Epoch 93/300\n",
      "303/303 [==============================] - ETA: 0s - loss: 0.0014 - categorical_accuracy: 0.9103\n",
      "Epoch 00093: val_categorical_accuracy did not improve from 0.52625\n",
      "303/303 [==============================] - 144s 475ms/step - loss: 0.0014 - categorical_accuracy: 0.9103 - val_loss: 5.5312 - val_categorical_accuracy: 0.5196\n",
      "Epoch 94/300\n",
      "303/303 [==============================] - ETA: 0s - loss: 0.0016 - categorical_accuracy: 0.9125\n",
      "Epoch 00094: val_categorical_accuracy did not improve from 0.52625\n",
      "303/303 [==============================] - 145s 477ms/step - loss: 0.0016 - categorical_accuracy: 0.9125 - val_loss: 5.5973 - val_categorical_accuracy: 0.5142\n",
      "Epoch 95/300\n",
      "303/303 [==============================] - ETA: 0s - loss: 0.0016 - categorical_accuracy: 0.9133\n",
      "Epoch 00095: val_categorical_accuracy did not improve from 0.52625\n",
      "303/303 [==============================] - 148s 490ms/step - loss: 0.0016 - categorical_accuracy: 0.9133 - val_loss: 5.6645 - val_categorical_accuracy: 0.5138\n",
      "Epoch 96/300\n",
      "303/303 [==============================] - ETA: 0s - loss: 0.0014 - categorical_accuracy: 0.9132\n",
      "Epoch 00096: val_categorical_accuracy did not improve from 0.52625\n",
      "303/303 [==============================] - 146s 481ms/step - loss: 0.0014 - categorical_accuracy: 0.9132 - val_loss: 5.5593 - val_categorical_accuracy: 0.5198\n",
      "Epoch 97/300\n",
      "303/303 [==============================] - ETA: 0s - loss: 0.0014 - categorical_accuracy: 0.9141\n",
      "Epoch 00097: val_categorical_accuracy did not improve from 0.52625\n",
      "\n",
      "Epoch 00097: ReduceLROnPlateau reducing learning rate to 9.069925363291987e-06.\n",
      "303/303 [==============================] - 145s 480ms/step - loss: 0.0014 - categorical_accuracy: 0.9141 - val_loss: 5.5972 - val_categorical_accuracy: 0.5169\n",
      "Epoch 98/300\n",
      "303/303 [==============================] - ETA: 0s - loss: 0.0011 - categorical_accuracy: 0.9116\n",
      "Epoch 00098: val_categorical_accuracy did not improve from 0.52625\n",
      "303/303 [==============================] - 145s 477ms/step - loss: 0.0011 - categorical_accuracy: 0.9116 - val_loss: 5.5927 - val_categorical_accuracy: 0.5204\n",
      "Epoch 99/300\n",
      "303/303 [==============================] - ETA: 0s - loss: 0.0015 - categorical_accuracy: 0.9110\n",
      "Epoch 00099: val_categorical_accuracy did not improve from 0.52625\n",
      "303/303 [==============================] - 146s 482ms/step - loss: 0.0015 - categorical_accuracy: 0.9110 - val_loss: 5.6290 - val_categorical_accuracy: 0.5179\n",
      "Epoch 100/300\n",
      "303/303 [==============================] - ETA: 0s - loss: 0.0011 - categorical_accuracy: 0.9117\n",
      "Epoch 00100: val_categorical_accuracy did not improve from 0.52625\n",
      "303/303 [==============================] - 145s 479ms/step - loss: 0.0011 - categorical_accuracy: 0.9117 - val_loss: 5.6037 - val_categorical_accuracy: 0.5192\n",
      "Epoch 101/300\n",
      "303/303 [==============================] - ETA: 0s - loss: 0.0014 - categorical_accuracy: 0.9119\n",
      "Epoch 00101: val_categorical_accuracy did not improve from 0.52625\n",
      "303/303 [==============================] - 145s 479ms/step - loss: 0.0014 - categorical_accuracy: 0.9119 - val_loss: 5.5965 - val_categorical_accuracy: 0.5231\n",
      "Epoch 102/300\n",
      "303/303 [==============================] - ETA: 0s - loss: 0.0011 - categorical_accuracy: 0.9124\n",
      "Epoch 00102: val_categorical_accuracy did not improve from 0.52625\n",
      "303/303 [==============================] - 146s 481ms/step - loss: 0.0011 - categorical_accuracy: 0.9124 - val_loss: 5.6182 - val_categorical_accuracy: 0.5213\n",
      "Epoch 103/300\n",
      "303/303 [==============================] - ETA: 0s - loss: 0.0011 - categorical_accuracy: 0.9127\n",
      "Epoch 00103: val_categorical_accuracy did not improve from 0.52625\n",
      "\n",
      "Epoch 00103: ReduceLROnPlateau reducing learning rate to 5.441954999696463e-06.\n",
      "303/303 [==============================] - 144s 476ms/step - loss: 0.0011 - categorical_accuracy: 0.9127 - val_loss: 5.6057 - val_categorical_accuracy: 0.5213\n",
      "Epoch 104/300\n",
      "303/303 [==============================] - ETA: 0s - loss: 0.0013 - categorical_accuracy: 0.9125\n",
      "Epoch 00104: val_categorical_accuracy did not improve from 0.52625\n",
      "303/303 [==============================] - 145s 480ms/step - loss: 0.0013 - categorical_accuracy: 0.9125 - val_loss: 5.6156 - val_categorical_accuracy: 0.5215\n",
      "Epoch 105/300\n",
      "303/303 [==============================] - ETA: 0s - loss: 0.0012 - categorical_accuracy: 0.9099\n",
      "Epoch 00105: val_categorical_accuracy did not improve from 0.52625\n",
      "303/303 [==============================] - 144s 475ms/step - loss: 0.0012 - categorical_accuracy: 0.9099 - val_loss: 5.6146 - val_categorical_accuracy: 0.5235\n",
      "Epoch 106/300\n",
      "303/303 [==============================] - ETA: 0s - loss: 7.9931e-04 - categorical_accuracy: 0.9118\n",
      "Epoch 00106: val_categorical_accuracy did not improve from 0.52625\n",
      "303/303 [==============================] - 146s 481ms/step - loss: 7.9931e-04 - categorical_accuracy: 0.9118 - val_loss: 5.6181 - val_categorical_accuracy: 0.5229\n",
      "Epoch 107/300\n",
      "303/303 [==============================] - ETA: 0s - loss: 9.2093e-04 - categorical_accuracy: 0.9148\n",
      "Epoch 00107: val_categorical_accuracy did not improve from 0.52625\n",
      "303/303 [==============================] - 145s 479ms/step - loss: 9.2093e-04 - categorical_accuracy: 0.9148 - val_loss: 5.6304 - val_categorical_accuracy: 0.5250\n",
      "Epoch 108/300\n",
      "303/303 [==============================] - ETA: 0s - loss: 9.0658e-04 - categorical_accuracy: 0.9107\n",
      "Epoch 00108: val_categorical_accuracy did not improve from 0.52625\n",
      "303/303 [==============================] - 146s 481ms/step - loss: 9.0658e-04 - categorical_accuracy: 0.9107 - val_loss: 5.6279 - val_categorical_accuracy: 0.5227\n",
      "Epoch 109/300\n",
      "303/303 [==============================] - ETA: 0s - loss: 0.0011 - categorical_accuracy: 0.9108\n",
      "Epoch 00109: val_categorical_accuracy did not improve from 0.52625\n",
      "\n",
      "Epoch 00109: ReduceLROnPlateau reducing learning rate to 3.265173108957242e-06.\n",
      "303/303 [==============================] - 145s 478ms/step - loss: 0.0011 - categorical_accuracy: 0.9108 - val_loss: 5.6113 - val_categorical_accuracy: 0.5225\n",
      "Epoch 00109: early stopping\n"
     ]
    }
   ],
   "source": [
    "history=custom_densenet169_model.fit_generator(generator=train_generator,\n",
    "                    steps_per_epoch=STEP_SIZE_TRAIN,\n",
    "                    validation_data=valid_generator,\n",
    "                    validation_steps=STEP_SIZE_VALID,\n",
    "                    epochs=300,\n",
    "                    callbacks=callbacks_list\n",
    ")"
   ]
  },
  {
   "cell_type": "code",
   "execution_count": 29,
   "metadata": {
    "execution": {
     "iopub.execute_input": "2020-10-04T22:16:42.914860Z",
     "iopub.status.busy": "2020-10-04T22:16:42.912951Z",
     "iopub.status.idle": "2020-10-04T22:16:42.915522Z",
     "shell.execute_reply": "2020-10-04T22:16:42.915991Z"
    },
    "papermill": {
     "duration": 12.133502,
     "end_time": "2020-10-04T22:16:42.916117",
     "exception": false,
     "start_time": "2020-10-04T22:16:30.782615",
     "status": "completed"
    },
    "tags": []
   },
   "outputs": [],
   "source": [
    "#history.history"
   ]
  },
  {
   "cell_type": "code",
   "execution_count": 30,
   "metadata": {
    "execution": {
     "iopub.execute_input": "2020-10-04T22:17:06.864182Z",
     "iopub.status.busy": "2020-10-04T22:17:06.863212Z",
     "iopub.status.idle": "2020-10-04T22:17:07.099643Z",
     "shell.execute_reply": "2020-10-04T22:17:07.098712Z"
    },
    "papermill": {
     "duration": 11.847866,
     "end_time": "2020-10-04T22:17:07.099774",
     "exception": false,
     "start_time": "2020-10-04T22:16:55.251908",
     "status": "completed"
    },
    "tags": []
   },
   "outputs": [
    {
     "data": {
      "image/png": "[encoded data removed]",
      "text/plain": [
       "<Figure size 432x288 with 1 Axes>"
      ]
     },
     "metadata": {
      "needs_background": "light"
     },
     "output_type": "display_data"
    }
   ],
   "source": [
    "import matplotlib.pyplot as plt\n",
    "\n",
    "\n",
    "loss_train = history.history['loss']\n",
    "loss_val = history.history['val_loss']\n",
    "#epochs = np.range(1,1)\n",
    "plt.plot(loss_train, 'g', label='Training loss')\n",
    "plt.plot(loss_val, 'b', label='validation loss')\n",
    "plt.title('Training and Validation loss')\n",
    "plt.xlabel('Epochs')\n",
    "plt.ylabel('Loss')\n",
    "plt.legend()\n",
    "plt.show()"
   ]
  },
  {
   "cell_type": "code",
   "execution_count": 31,
   "metadata": {
    "execution": {
     "iopub.execute_input": "2020-10-04T22:17:30.522710Z",
     "iopub.status.busy": "2020-10-04T22:17:30.517143Z",
     "iopub.status.idle": "2020-10-04T22:17:30.667499Z",
     "shell.execute_reply": "2020-10-04T22:17:30.667990Z"
    },
    "papermill": {
     "duration": 11.822962,
     "end_time": "2020-10-04T22:17:30.668119",
     "exception": false,
     "start_time": "2020-10-04T22:17:18.845157",
     "status": "completed"
    },
    "tags": []
   },
   "outputs": [
    {
     "data": {
      "image/png": "[encoded data removed]",
      "text/plain": [
       "<Figure size 432x288 with 1 Axes>"
      ]
     },
     "metadata": {
      "needs_background": "light"
     },
     "output_type": "display_data"
    }
   ],
   "source": [
    "loss_train = history.history['categorical_accuracy']\n",
    "loss_val = history.history['val_categorical_accuracy']\n",
    "epochs = range(1,41)\n",
    "plt.plot(loss_train, 'g', label='Training accuracy')\n",
    "plt.plot(loss_val, 'b', label='validation accuracy')\n",
    "plt.title('Training and Validation accuracy')\n",
    "plt.xlabel('Epochs')\n",
    "plt.ylabel('Accuracy')\n",
    "plt.legend()\n",
    "plt.show()"
   ]
  },
  {
   "cell_type": "code",
   "execution_count": 32,
   "metadata": {
    "execution": {
     "iopub.execute_input": "2020-10-04T22:17:54.661133Z",
     "iopub.status.busy": "2020-10-04T22:17:54.659467Z",
     "iopub.status.idle": "2020-10-04T22:18:06.347037Z",
     "shell.execute_reply": "2020-10-04T22:18:06.346071Z"
    },
    "papermill": {
     "duration": 23.696313,
     "end_time": "2020-10-04T22:18:06.347152",
     "exception": false,
     "start_time": "2020-10-04T22:17:42.650839",
     "status": "completed"
    },
    "tags": []
   },
   "outputs": [
    {
     "name": "stdout",
     "output_type": "stream",
     "text": [
      "76/76 [==============================] - 10s 129ms/step\n"
     ]
    }
   ],
   "source": [
    "res = custom_densenet169_model.predict_generator(valid_generator, verbose=1)\n",
    "\n",
    "    "
   ]
  },
  {
   "cell_type": "code",
   "execution_count": 33,
   "metadata": {
    "execution": {
     "iopub.execute_input": "2020-10-04T22:18:29.913794Z",
     "iopub.status.busy": "2020-10-04T22:18:29.912202Z",
     "iopub.status.idle": "2020-10-04T22:18:52.339554Z",
     "shell.execute_reply": "2020-10-04T22:18:52.339009Z"
    },
    "papermill": {
     "duration": 34.113794,
     "end_time": "2020-10-04T22:18:52.339674",
     "exception": false,
     "start_time": "2020-10-04T22:18:18.225880",
     "status": "completed"
    },
    "tags": []
   },
   "outputs": [
    {
     "name": "stdout",
     "output_type": "stream",
     "text": [
      "95/95 [==============================] - 21s 216ms/step\n"
     ]
    }
   ],
   "source": [
    "test_generator.reset()\n",
    "res_test=custom_densenet169_model.predict_generator(test_generator,\n",
    "#steps=STEP_SIZE_TEST,\n",
    "verbose=1)"
   ]
  },
  {
   "cell_type": "code",
   "execution_count": 34,
   "metadata": {
    "execution": {
     "iopub.execute_input": "2020-10-04T22:19:15.866620Z",
     "iopub.status.busy": "2020-10-04T22:19:15.865968Z",
     "iopub.status.idle": "2020-10-04T22:19:25.543440Z",
     "shell.execute_reply": "2020-10-04T22:19:25.543919Z"
    },
    "papermill": {
     "duration": 21.593449,
     "end_time": "2020-10-04T22:19:25.544071",
     "exception": false,
     "start_time": "2020-10-04T22:19:03.950622",
     "status": "completed"
    },
    "tags": []
   },
   "outputs": [
    {
     "name": "stdout",
     "output_type": "stream",
     "text": [
      "76/76 [==============================] - 9s 124ms/step\n"
     ]
    }
   ],
   "source": [
    "valid_generator.reset()\n",
    "res_cv=custom_densenet169_model.predict_generator(valid_generator,\n",
    "#steps=STEP_SIZE_TEST,\n",
    "verbose=1)"
   ]
  },
  {
   "cell_type": "code",
   "execution_count": 35,
   "metadata": {
    "execution": {
     "iopub.execute_input": "2020-10-04T22:19:49.546542Z",
     "iopub.status.busy": "2020-10-04T22:19:49.545325Z",
     "iopub.status.idle": "2020-10-04T22:21:42.571951Z",
     "shell.execute_reply": "2020-10-04T22:21:42.570961Z"
    },
    "papermill": {
     "duration": 125.348742,
     "end_time": "2020-10-04T22:21:42.572079",
     "exception": false,
     "start_time": "2020-10-04T22:19:37.223337",
     "status": "completed"
    },
    "tags": []
   },
   "outputs": [
    {
     "name": "stdout",
     "output_type": "stream",
     "text": [
      "304/304 [==============================] - 112s 369ms/step\n"
     ]
    }
   ],
   "source": [
    "train_generator.reset()\n",
    "res_train=custom_densenet169_model.predict_generator(train_generator,\n",
    "#steps=STEP_SIZE_TEST,\n",
    "verbose=1)"
   ]
  },
  {
   "cell_type": "code",
   "execution_count": 36,
   "metadata": {
    "execution": {
     "iopub.execute_input": "2020-10-04T22:22:06.755686Z",
     "iopub.status.busy": "2020-10-04T22:22:06.753953Z",
     "iopub.status.idle": "2020-10-04T22:22:06.758059Z",
     "shell.execute_reply": "2020-10-04T22:22:06.757564Z"
    },
    "papermill": {
     "duration": 11.788213,
     "end_time": "2020-10-04T22:22:06.758156",
     "exception": false,
     "start_time": "2020-10-04T22:21:54.969943",
     "status": "completed"
    },
    "tags": []
   },
   "outputs": [
    {
     "data": {
      "text/plain": [
       "(6078, 80)"
      ]
     },
     "execution_count": 36,
     "metadata": {},
     "output_type": "execute_result"
    }
   ],
   "source": [
    "res_test.shape"
   ]
  },
  {
   "cell_type": "code",
   "execution_count": 37,
   "metadata": {
    "execution": {
     "iopub.execute_input": "2020-10-04T22:22:30.639057Z",
     "iopub.status.busy": "2020-10-04T22:22:30.638016Z",
     "iopub.status.idle": "2020-10-04T22:22:30.920770Z",
     "shell.execute_reply": "2020-10-04T22:22:30.919374Z"
    },
    "papermill": {
     "duration": 12.445991,
     "end_time": "2020-10-04T22:22:30.920892",
     "exception": false,
     "start_time": "2020-10-04T22:22:18.474901",
     "status": "completed"
    },
    "tags": []
   },
   "outputs": [],
   "source": [
    "# Converting taget and identity columns to booleans\n",
    "\n",
    "target_columns=list(trainmultidf.columns)[:-1]\n",
    "\n",
    "def convert_to_bool(df, col_name):\n",
    "    df[col_name] = np.where(df[col_name] >= 0.5, True, False)\n",
    "    \n",
    "def convert_dataframe_to_bool(df):\n",
    "    bool_df = df.copy()\n",
    "    for col in target_columns:\n",
    "        convert_to_bool(bool_df, col)\n",
    "    return bool_df\n",
    "\n",
    "test_bool = convert_dataframe_to_bool(testmultidf) \n",
    "test_lable_bool=test_bool[list(test_bool.columns)[:-1]].to_numpy()\n",
    "\n",
    "train_bool = convert_dataframe_to_bool(trainmultidf) \n",
    "train_lable_bool=train_bool[list(train_bool.columns)[:-1]].to_numpy()\n",
    "\n",
    "cv_bool = convert_dataframe_to_bool(cvmultidf) \n",
    "cv_lable_bool=cv_bool[list(cv_bool.columns)[:-1]].to_numpy()"
   ]
  },
  {
   "cell_type": "code",
   "execution_count": 38,
   "metadata": {
    "execution": {
     "iopub.execute_input": "2020-10-04T22:22:55.392442Z",
     "iopub.status.busy": "2020-10-04T22:22:55.391392Z",
     "iopub.status.idle": "2020-10-04T22:22:55.394469Z",
     "shell.execute_reply": "2020-10-04T22:22:55.394918Z"
    },
    "papermill": {
     "duration": 12.422557,
     "end_time": "2020-10-04T22:22:55.395049",
     "exception": false,
     "start_time": "2020-10-04T22:22:42.972492",
     "status": "completed"
    },
    "tags": []
   },
   "outputs": [
    {
     "data": {
      "text/plain": [
       "(4862, 80)"
      ]
     },
     "execution_count": 38,
     "metadata": {},
     "output_type": "execute_result"
    }
   ],
   "source": [
    "cv_lable_bool.shape"
   ]
  },
  {
   "cell_type": "markdown",
   "metadata": {
    "papermill": {
     "duration": 11.961909,
     "end_time": "2020-10-04T22:23:19.078627",
     "exception": false,
     "start_time": "2020-10-04T22:23:07.116718",
     "status": "completed"
    },
    "tags": []
   },
   "source": [
    "# Evaluation Metric"
   ]
  },
  {
   "cell_type": "code",
   "execution_count": 39,
   "metadata": {
    "execution": {
     "iopub.execute_input": "2020-10-04T22:23:43.307198Z",
     "iopub.status.busy": "2020-10-04T22:23:43.305363Z",
     "iopub.status.idle": "2020-10-04T22:23:43.307890Z",
     "shell.execute_reply": "2020-10-04T22:23:43.308370Z"
    },
    "papermill": {
     "duration": 12.085595,
     "end_time": "2020-10-04T22:23:43.308497",
     "exception": false,
     "start_time": "2020-10-04T22:23:31.222902",
     "status": "completed"
    },
    "tags": []
   },
   "outputs": [],
   "source": [
    "import numpy as np\n",
    "import sklearn.metrics"
   ]
  },
  {
   "cell_type": "code",
   "execution_count": 40,
   "metadata": {
    "execution": {
     "iopub.execute_input": "2020-10-04T22:24:07.438007Z",
     "iopub.status.busy": "2020-10-04T22:24:07.436147Z",
     "iopub.status.idle": "2020-10-04T22:24:07.438755Z",
     "shell.execute_reply": "2020-10-04T22:24:07.439228Z"
    },
    "papermill": {
     "duration": 12.007744,
     "end_time": "2020-10-04T22:24:07.439358",
     "exception": false,
     "start_time": "2020-10-04T22:23:55.431614",
     "status": "completed"
    },
    "tags": []
   },
   "outputs": [],
   "source": [
    "# Core calculation of label precisions for one test sample.\n",
    "\n",
    "def _one_sample_positive_class_precisions(scores, truth):\n",
    "  \"\"\"Calculate precisions for each true class for a single sample.\n",
    "  \n",
    "  Args:\n",
    "    scores: np.array of (num_classes,) giving the individual classifier scores.\n",
    "    truth: np.array of (num_classes,) bools indicating which classes are true.\n",
    "\n",
    "  Returns:\n",
    "    pos_class_indices: np.array of indices of the true classes for this sample.\n",
    "    pos_class_precisions: np.array of precisions corresponding to each of those\n",
    "      classes.\n",
    "  \"\"\"\n",
    "  num_classes = scores.shape[0]\n",
    "  pos_class_indices = np.flatnonzero(truth > 0)\n",
    "  # Only calculate precisions if there are some true classes.\n",
    "  if not len(pos_class_indices):\n",
    "    return pos_class_indices, np.zeros(0)\n",
    "  # Retrieval list of classes for this sample. \n",
    "  retrieved_classes = np.argsort(scores)[::-1]\n",
    "  # class_rankings[top_scoring_class_index] == 0 etc.\n",
    "  class_rankings = np.zeros(num_classes, dtype=np.int)\n",
    "  class_rankings[retrieved_classes] = range(num_classes)\n",
    "  # Which of these is a true label?\n",
    "  retrieved_class_true = np.zeros(num_classes, dtype=np.bool)\n",
    "  retrieved_class_true[class_rankings[pos_class_indices]] = True\n",
    "  # Num hits for every truncated retrieval list.\n",
    "  retrieved_cumulative_hits = np.cumsum(retrieved_class_true)\n",
    "  # Precision of retrieval list truncated at each hit, in order of pos_labels.\n",
    "  precision_at_hits = (\n",
    "      retrieved_cumulative_hits[class_rankings[pos_class_indices]] / \n",
    "      (1 + class_rankings[pos_class_indices].astype(np.float)))\n",
    "  return pos_class_indices, precision_at_hits\n"
   ]
  },
  {
   "cell_type": "code",
   "execution_count": 41,
   "metadata": {
    "execution": {
     "iopub.execute_input": "2020-10-04T22:24:31.256153Z",
     "iopub.status.busy": "2020-10-04T22:24:31.255369Z",
     "iopub.status.idle": "2020-10-04T22:24:31.259128Z",
     "shell.execute_reply": "2020-10-04T22:24:31.258655Z"
    },
    "papermill": {
     "duration": 11.982021,
     "end_time": "2020-10-04T22:24:31.259234",
     "exception": false,
     "start_time": "2020-10-04T22:24:19.277213",
     "status": "completed"
    },
    "tags": []
   },
   "outputs": [],
   "source": [
    "# All-in-one calculation of per-class lwlrap.\n",
    "\n",
    "def calculate_per_class_lwlrap(truth, scores):\n",
    "  \"\"\"Calculate label-weighted label-ranking average precision.\n",
    "  \n",
    "  Arguments:\n",
    "    truth: np.array of (num_samples, num_classes) giving boolean ground-truth\n",
    "      of presence of that class in that sample.\n",
    "    scores: np.array of (num_samples, num_classes) giving the classifier-under-\n",
    "      test's real-valued score for each class for each sample.\n",
    "  \n",
    "  Returns:\n",
    "    per_class_lwlrap: np.array of (num_classes,) giving the lwlrap for each \n",
    "      class.\n",
    "    weight_per_class: np.array of (num_classes,) giving the prior of each \n",
    "      class within the truth labels.  Then the overall unbalanced lwlrap is \n",
    "      simply np.sum(per_class_lwlrap * weight_per_class)\n",
    "  \"\"\"\n",
    "  assert truth.shape == scores.shape\n",
    "  num_samples, num_classes = scores.shape\n",
    "  # Space to store a distinct precision value for each class on each sample.\n",
    "  # Only the classes that are true for each sample will be filled in.\n",
    "  precisions_for_samples_by_classes = np.zeros((num_samples, num_classes))\n",
    "  for sample_num in range(num_samples):\n",
    "    pos_class_indices, precision_at_hits = (\n",
    "      _one_sample_positive_class_precisions(scores[sample_num, :], \n",
    "                                            truth[sample_num, :]))\n",
    "    precisions_for_samples_by_classes[sample_num, pos_class_indices] = (\n",
    "        precision_at_hits)\n",
    "  labels_per_class = np.sum(truth > 0, axis=0)\n",
    "  weight_per_class = labels_per_class / float(np.sum(labels_per_class))\n",
    "  # Form average of each column, i.e. all the precisions assigned to labels in\n",
    "  # a particular class.\n",
    "  per_class_lwlrap = (np.sum(precisions_for_samples_by_classes, axis=0) / \n",
    "                      np.maximum(1, labels_per_class))\n",
    "  # overall_lwlrap = simple average of all the actual per-class, per-sample precisions\n",
    "  #                = np.sum(precisions_for_samples_by_classes) / np.sum(precisions_for_samples_by_classes > 0)\n",
    "  #           also = weighted mean of per-class lwlraps, weighted by class label prior across samples\n",
    "  #                = np.sum(per_class_lwlrap * weight_per_class)\n",
    "  return per_class_lwlrap, weight_per_class"
   ]
  },
  {
   "cell_type": "code",
   "execution_count": 42,
   "metadata": {
    "execution": {
     "iopub.execute_input": "2020-10-04T22:24:55.576382Z",
     "iopub.status.busy": "2020-10-04T22:24:55.575423Z",
     "iopub.status.idle": "2020-10-04T22:24:55.577816Z",
     "shell.execute_reply": "2020-10-04T22:24:55.578299Z"
    },
    "papermill": {
     "duration": 12.083835,
     "end_time": "2020-10-04T22:24:55.578429",
     "exception": false,
     "start_time": "2020-10-04T22:24:43.494594",
     "status": "completed"
    },
    "tags": []
   },
   "outputs": [],
   "source": [
    "# Calculate the overall lwlrap using sklearn.metrics function.\n",
    "\n",
    "def calculate_overall_lwlrap_sklearn(truth, scores):\n",
    "  \"\"\"Calculate the overall lwlrap using sklearn.metrics.lrap.\"\"\"\n",
    "  # sklearn doesn't correctly apply weighting to samples with no labels, so just skip them.\n",
    "  sample_weight = np.sum(truth > 0, axis=1)\n",
    "  nonzero_weight_sample_indices = np.flatnonzero(sample_weight > 0)\n",
    "  overall_lwlrap = sklearn.metrics.label_ranking_average_precision_score(\n",
    "      truth[nonzero_weight_sample_indices, :] > 0, \n",
    "      scores[nonzero_weight_sample_indices, :], \n",
    "      sample_weight=sample_weight[nonzero_weight_sample_indices])\n",
    "  return overall_lwlrap"
   ]
  },
  {
   "cell_type": "code",
   "execution_count": 43,
   "metadata": {
    "execution": {
     "iopub.execute_input": "2020-10-04T22:25:19.287339Z",
     "iopub.status.busy": "2020-10-04T22:25:19.286355Z",
     "iopub.status.idle": "2020-10-04T22:25:19.288776Z",
     "shell.execute_reply": "2020-10-04T22:25:19.289219Z"
    },
    "papermill": {
     "duration": 11.751447,
     "end_time": "2020-10-04T22:25:19.289354",
     "exception": false,
     "start_time": "2020-10-04T22:25:07.537907",
     "status": "completed"
    },
    "tags": []
   },
   "outputs": [],
   "source": [
    "# Accumulator object version.\n",
    "\n",
    "class lwlrap_accumulator(object):\n",
    "  \"\"\"Accumulate batches of test samples into per-class and overall lwlrap.\"\"\"  \n",
    "\n",
    "  def __init__(self):\n",
    "    self.num_classes = 0\n",
    "    self.total_num_samples = 0\n",
    "  \n",
    "  def accumulate_samples(self, batch_truth, batch_scores):\n",
    "    \"\"\"Cumulate a new batch of samples into the metric.\n",
    "    \n",
    "    Args:\n",
    "      truth: np.array of (num_samples, num_classes) giving boolean\n",
    "        ground-truth of presence of that class in that sample for this batch.\n",
    "      scores: np.array of (num_samples, num_classes) giving the \n",
    "        classifier-under-test's real-valued score for each class for each\n",
    "        sample.\n",
    "    \"\"\"\n",
    "    assert batch_scores.shape == batch_truth.shape\n",
    "    num_samples, num_classes = batch_truth.shape\n",
    "    if not self.num_classes:\n",
    "      self.num_classes = num_classes\n",
    "      self._per_class_cumulative_precision = np.zeros(self.num_classes)\n",
    "      self._per_class_cumulative_count = np.zeros(self.num_classes, \n",
    "                                                  dtype=np.int)\n",
    "    assert num_classes == self.num_classes\n",
    "    for truth, scores in zip(batch_truth, batch_scores):\n",
    "      pos_class_indices, precision_at_hits = (\n",
    "        _one_sample_positive_class_precisions(scores, truth))\n",
    "      self._per_class_cumulative_precision[pos_class_indices] += (\n",
    "        precision_at_hits)\n",
    "      self._per_class_cumulative_count[pos_class_indices] += 1\n",
    "    self.total_num_samples += num_samples\n",
    "\n",
    "  def per_class_lwlrap(self):\n",
    "    \"\"\"Return a vector of the per-class lwlraps for the accumulated samples.\"\"\"\n",
    "    return (self._per_class_cumulative_precision / \n",
    "            np.maximum(1, self._per_class_cumulative_count))\n",
    "\n",
    "  def per_class_weight(self):\n",
    "    \"\"\"Return a normalized weight vector for the contributions of each class.\"\"\"\n",
    "    return (self._per_class_cumulative_count / \n",
    "            float(np.sum(self._per_class_cumulative_count)))\n",
    "\n",
    "  def overall_lwlrap(self):\n",
    "    \"\"\"Return the scalar overall lwlrap for cumulated samples.\"\"\"\n",
    "    return np.sum(self.per_class_lwlrap() * self.per_class_weight())"
   ]
  },
  {
   "cell_type": "code",
   "execution_count": 44,
   "metadata": {
    "execution": {
     "iopub.execute_input": "2020-10-04T22:25:43.578945Z",
     "iopub.status.busy": "2020-10-04T22:25:43.578021Z",
     "iopub.status.idle": "2020-10-04T22:25:44.433927Z",
     "shell.execute_reply": "2020-10-04T22:25:44.434427Z"
    },
    "papermill": {
     "duration": 13.355561,
     "end_time": "2020-10-04T22:25:44.434600",
     "exception": false,
     "start_time": "2020-10-04T22:25:31.079039",
     "status": "completed"
    },
    "tags": []
   },
   "outputs": [
    {
     "name": "stdout",
     "output_type": "stream",
     "text": [
      "lwlrap from sklearn.metrics = 0.6601132364981707\n"
     ]
    }
   ],
   "source": [
    "#https://www.kaggle.com/voglinio/keras-2d-model-5-fold-log-specgram-curated-only\n",
    "truth = test_lable_bool\n",
    "scores = res_test\n",
    "print(\"lwlrap from sklearn.metrics =\", calculate_overall_lwlrap_sklearn(truth, scores))"
   ]
  },
  {
   "cell_type": "code",
   "execution_count": 45,
   "metadata": {
    "execution": {
     "iopub.execute_input": "2020-10-04T22:26:08.703256Z",
     "iopub.status.busy": "2020-10-04T22:26:08.702323Z",
     "iopub.status.idle": "2020-10-04T22:26:11.320355Z",
     "shell.execute_reply": "2020-10-04T22:26:11.320920Z"
    },
    "papermill": {
     "duration": 14.632688,
     "end_time": "2020-10-04T22:26:11.321086",
     "exception": false,
     "start_time": "2020-10-04T22:25:56.688398",
     "status": "completed"
    },
    "tags": []
   },
   "outputs": [
    {
     "name": "stdout",
     "output_type": "stream",
     "text": [
      "lwlrap from sklearn.metrics = 0.9996456317916776\n"
     ]
    }
   ],
   "source": [
    "truth = train_lable_bool\n",
    "scores = res_train\n",
    "print(\"lwlrap from sklearn.metrics =\", calculate_overall_lwlrap_sklearn(truth, scores))"
   ]
  },
  {
   "cell_type": "code",
   "execution_count": 46,
   "metadata": {
    "execution": {
     "iopub.execute_input": "2020-10-04T22:26:34.833948Z",
     "iopub.status.busy": "2020-10-04T22:26:34.832986Z",
     "iopub.status.idle": "2020-10-04T22:26:35.511211Z",
     "shell.execute_reply": "2020-10-04T22:26:35.510361Z"
    },
    "papermill": {
     "duration": 12.485852,
     "end_time": "2020-10-04T22:26:35.511371",
     "exception": false,
     "start_time": "2020-10-04T22:26:23.025519",
     "status": "completed"
    },
    "tags": []
   },
   "outputs": [
    {
     "name": "stdout",
     "output_type": "stream",
     "text": [
      "lwlrap from sklearn.metrics = 0.6656376919667811\n"
     ]
    }
   ],
   "source": [
    "truth = cv_lable_bool\n",
    "scores = res_cv\n",
    "print(\"lwlrap from sklearn.metrics =\", calculate_overall_lwlrap_sklearn(truth, scores))"
   ]
  },
  {
   "cell_type": "markdown",
   "metadata": {
    "papermill": {
     "duration": 12.2195,
     "end_time": "2020-10-04T22:27:00.043930",
     "exception": false,
     "start_time": "2020-10-04T22:26:47.824430",
     "status": "completed"
    },
    "tags": []
   },
   "source": [
    "## SUBMISSION"
   ]
  },
  {
   "cell_type": "code",
   "execution_count": 47,
   "metadata": {
    "execution": {
     "iopub.execute_input": "2020-10-04T22:27:23.892883Z",
     "iopub.status.busy": "2020-10-04T22:27:23.892095Z",
     "iopub.status.idle": "2020-10-04T22:27:24.432175Z",
     "shell.execute_reply": "2020-10-04T22:27:24.432690Z"
    },
    "papermill": {
     "duration": 12.366936,
     "end_time": "2020-10-04T22:27:24.432832",
     "exception": false,
     "start_time": "2020-10-04T22:27:12.065896",
     "status": "completed"
    },
    "tags": []
   },
   "outputs": [
    {
     "name": "stdout",
     "output_type": "stream",
     "text": [
      "Found 3361 validated image filenames.\n"
     ]
    }
   ],
   "source": [
    "sub_dataframe = pd.DataFrame({'fname':os.listdir('../input/sc2-total-aug-noisy-data/sub2/sub2')})\n",
    "\n",
    "sub_datagen=ImageDataGenerator(rescale=1./255.)\n",
    "sub_generator=sub_datagen.flow_from_dataframe(\n",
    "    dataframe=sub_dataframe,\n",
    "    directory=\"../input/sc2-total-aug-noisy-data/sub2/sub2\",\n",
    "    x_col=\"fname\",\n",
    "    y_col=None,\n",
    "    batch_size=64,\n",
    "    seed=42,\n",
    "    shuffle=False,\n",
    "    class_mode=None,\n",
    "    target_size=(128,128))"
   ]
  },
  {
   "cell_type": "code",
   "execution_count": 48,
   "metadata": {
    "execution": {
     "iopub.execute_input": "2020-10-04T22:27:48.897075Z",
     "iopub.status.busy": "2020-10-04T22:27:48.895298Z",
     "iopub.status.idle": "2020-10-04T22:27:48.897755Z",
     "shell.execute_reply": "2020-10-04T22:27:48.898231Z"
    },
    "papermill": {
     "duration": 12.568996,
     "end_time": "2020-10-04T22:27:48.898356",
     "exception": false,
     "start_time": "2020-10-04T22:27:36.329360",
     "status": "completed"
    },
    "tags": []
   },
   "outputs": [],
   "source": [
    "STEP_SIZE_SUB=sub_generator.n//sub_generator.batch_size"
   ]
  },
  {
   "cell_type": "code",
   "execution_count": 49,
   "metadata": {
    "execution": {
     "iopub.execute_input": "2020-10-04T22:28:12.738995Z",
     "iopub.status.busy": "2020-10-04T22:28:12.737850Z",
     "iopub.status.idle": "2020-10-04T22:28:24.473947Z",
     "shell.execute_reply": "2020-10-04T22:28:24.472900Z"
    },
    "papermill": {
     "duration": 23.677006,
     "end_time": "2020-10-04T22:28:24.474065",
     "exception": false,
     "start_time": "2020-10-04T22:28:00.797059",
     "status": "completed"
    },
    "tags": []
   },
   "outputs": [
    {
     "name": "stdout",
     "output_type": "stream",
     "text": [
      "53/53 [==============================] - 11s 215ms/step\n"
     ]
    }
   ],
   "source": [
    "sub_generator.reset()\n",
    "res_sub=custom_densenet169_model.predict_generator(sub_generator,\n",
    "#steps=STEP_SIZE_TEST,\n",
    "verbose=1)"
   ]
  },
  {
   "cell_type": "code",
   "execution_count": 50,
   "metadata": {
    "execution": {
     "iopub.execute_input": "2020-10-04T22:28:49.019613Z",
     "iopub.status.busy": "2020-10-04T22:28:49.018702Z",
     "iopub.status.idle": "2020-10-04T22:28:49.021614Z",
     "shell.execute_reply": "2020-10-04T22:28:49.022083Z"
    },
    "papermill": {
     "duration": 12.616283,
     "end_time": "2020-10-04T22:28:49.022208",
     "exception": false,
     "start_time": "2020-10-04T22:28:36.405925",
     "status": "completed"
    },
    "tags": []
   },
   "outputs": [
    {
     "data": {
      "text/plain": [
       "(3361, 80)"
      ]
     },
     "execution_count": 50,
     "metadata": {},
     "output_type": "execute_result"
    }
   ],
   "source": [
    "res_sub.shape"
   ]
  },
  {
   "cell_type": "code",
   "execution_count": 51,
   "metadata": {
    "execution": {
     "iopub.execute_input": "2020-10-04T22:29:13.063763Z",
     "iopub.status.busy": "2020-10-04T22:29:13.062928Z",
     "iopub.status.idle": "2020-10-04T22:29:13.070949Z",
     "shell.execute_reply": "2020-10-04T22:29:13.071633Z"
    },
    "papermill": {
     "duration": 11.778954,
     "end_time": "2020-10-04T22:29:13.071810",
     "exception": false,
     "start_time": "2020-10-04T22:29:01.292856",
     "status": "completed"
    },
    "tags": []
   },
   "outputs": [],
   "source": [
    "submit_data=pd.DataFrame(res_sub.astype(\"float64\"), columns=list(mlb_train.classes_))"
   ]
  },
  {
   "cell_type": "code",
   "execution_count": 52,
   "metadata": {
    "execution": {
     "iopub.execute_input": "2020-10-04T22:29:36.556427Z",
     "iopub.status.busy": "2020-10-04T22:29:36.555626Z",
     "iopub.status.idle": "2020-10-04T22:29:36.590807Z",
     "shell.execute_reply": "2020-10-04T22:29:36.590207Z"
    },
    "papermill": {
     "duration": 11.805401,
     "end_time": "2020-10-04T22:29:36.590920",
     "exception": false,
     "start_time": "2020-10-04T22:29:24.785519",
     "status": "completed"
    },
    "tags": []
   },
   "outputs": [
    {
     "data": {
      "text/html": [
       "<div>\n",
       "<style scoped>\n",
       "    .dataframe tbody tr th:only-of-type {\n",
       "        vertical-align: middle;\n",
       "    }\n",
       "\n",
       "    .dataframe tbody tr th {\n",
       "        vertical-align: top;\n",
       "    }\n",
       "\n",
       "    .dataframe thead th {\n",
       "        text-align: right;\n",
       "    }\n",
       "</style>\n",
       "<table border=\"1\" class=\"dataframe\">\n",
       "  <thead>\n",
       "    <tr style=\"text-align: right;\">\n",
       "      <th></th>\n",
       "      <th>fname</th>\n",
       "      <th>Accelerating_and_revving_and_vroom</th>\n",
       "      <th>Accordion</th>\n",
       "      <th>Acoustic_guitar</th>\n",
       "      <th>Applause</th>\n",
       "      <th>Bark</th>\n",
       "      <th>Bass_drum</th>\n",
       "      <th>Bass_guitar</th>\n",
       "      <th>Bathtub_(filling_or_washing)</th>\n",
       "      <th>Bicycle_bell</th>\n",
       "      <th>...</th>\n",
       "      <th>Toilet_flush</th>\n",
       "      <th>Traffic_noise_and_roadway_noise</th>\n",
       "      <th>Trickle_and_dribble</th>\n",
       "      <th>Walk_and_footsteps</th>\n",
       "      <th>Water_tap_and_faucet</th>\n",
       "      <th>Waves_and_surf</th>\n",
       "      <th>Whispering</th>\n",
       "      <th>Writing</th>\n",
       "      <th>Yell</th>\n",
       "      <th>Zipper_(clothing)</th>\n",
       "    </tr>\n",
       "  </thead>\n",
       "  <tbody>\n",
       "    <tr>\n",
       "      <th>0</th>\n",
       "      <td>53cefef0.wav</td>\n",
       "      <td>4.164292e-11</td>\n",
       "      <td>3.842162e-11</td>\n",
       "      <td>1.057597e-06</td>\n",
       "      <td>1.419038e-08</td>\n",
       "      <td>3.112723e-05</td>\n",
       "      <td>1.036865e-11</td>\n",
       "      <td>1.391344e-09</td>\n",
       "      <td>9.340662e-07</td>\n",
       "      <td>8.003759e-09</td>\n",
       "      <td>...</td>\n",
       "      <td>7.000427e-07</td>\n",
       "      <td>6.244907e-11</td>\n",
       "      <td>4.461402e-10</td>\n",
       "      <td>9.466940e-13</td>\n",
       "      <td>3.767372e-07</td>\n",
       "      <td>9.792196e-11</td>\n",
       "      <td>2.782186e-08</td>\n",
       "      <td>2.585983e-06</td>\n",
       "      <td>3.599394e-11</td>\n",
       "      <td>1.392479e-05</td>\n",
       "    </tr>\n",
       "    <tr>\n",
       "      <th>1</th>\n",
       "      <td>63b41f09.wav</td>\n",
       "      <td>1.301420e-09</td>\n",
       "      <td>1.063045e-08</td>\n",
       "      <td>1.483182e-07</td>\n",
       "      <td>3.893390e-10</td>\n",
       "      <td>1.115913e-11</td>\n",
       "      <td>3.358612e-07</td>\n",
       "      <td>7.099551e-01</td>\n",
       "      <td>7.960973e-10</td>\n",
       "      <td>2.457007e-13</td>\n",
       "      <td>...</td>\n",
       "      <td>7.910188e-11</td>\n",
       "      <td>2.892266e-11</td>\n",
       "      <td>1.913704e-10</td>\n",
       "      <td>2.226472e-06</td>\n",
       "      <td>1.777158e-09</td>\n",
       "      <td>4.093830e-11</td>\n",
       "      <td>7.063481e-09</td>\n",
       "      <td>1.133364e-08</td>\n",
       "      <td>1.401612e-13</td>\n",
       "      <td>8.541260e-12</td>\n",
       "    </tr>\n",
       "    <tr>\n",
       "      <th>2</th>\n",
       "      <td>9da3bbc9.wav</td>\n",
       "      <td>4.555047e-10</td>\n",
       "      <td>1.239843e-15</td>\n",
       "      <td>1.696157e-10</td>\n",
       "      <td>1.036508e-12</td>\n",
       "      <td>6.932512e-04</td>\n",
       "      <td>9.979193e-16</td>\n",
       "      <td>1.587214e-12</td>\n",
       "      <td>1.393285e-16</td>\n",
       "      <td>2.572426e-18</td>\n",
       "      <td>...</td>\n",
       "      <td>1.022158e-10</td>\n",
       "      <td>1.009583e-14</td>\n",
       "      <td>1.064332e-12</td>\n",
       "      <td>4.424130e-08</td>\n",
       "      <td>1.516413e-15</td>\n",
       "      <td>1.574384e-13</td>\n",
       "      <td>2.023888e-08</td>\n",
       "      <td>2.622349e-09</td>\n",
       "      <td>2.246732e-19</td>\n",
       "      <td>2.190545e-09</td>\n",
       "    </tr>\n",
       "    <tr>\n",
       "      <th>3</th>\n",
       "      <td>b6e192f8.wav</td>\n",
       "      <td>1.541744e-04</td>\n",
       "      <td>9.912796e-16</td>\n",
       "      <td>2.741905e-09</td>\n",
       "      <td>8.912151e-12</td>\n",
       "      <td>8.045615e-06</td>\n",
       "      <td>4.181872e-16</td>\n",
       "      <td>6.912953e-08</td>\n",
       "      <td>3.177251e-13</td>\n",
       "      <td>1.054430e-13</td>\n",
       "      <td>...</td>\n",
       "      <td>1.435803e-13</td>\n",
       "      <td>2.599765e-16</td>\n",
       "      <td>1.580690e-10</td>\n",
       "      <td>2.441590e-17</td>\n",
       "      <td>2.939508e-17</td>\n",
       "      <td>1.555952e-14</td>\n",
       "      <td>4.476769e-11</td>\n",
       "      <td>7.049466e-14</td>\n",
       "      <td>1.089443e-15</td>\n",
       "      <td>7.817436e-11</td>\n",
       "    </tr>\n",
       "    <tr>\n",
       "      <th>4</th>\n",
       "      <td>f2ebd17a.wav</td>\n",
       "      <td>8.302033e-08</td>\n",
       "      <td>5.168335e-13</td>\n",
       "      <td>4.760595e-05</td>\n",
       "      <td>9.730984e-10</td>\n",
       "      <td>1.570965e-09</td>\n",
       "      <td>2.186351e-12</td>\n",
       "      <td>4.051909e-13</td>\n",
       "      <td>1.028223e-12</td>\n",
       "      <td>1.949609e-12</td>\n",
       "      <td>...</td>\n",
       "      <td>2.656830e-13</td>\n",
       "      <td>3.676894e-12</td>\n",
       "      <td>1.678164e-07</td>\n",
       "      <td>9.915554e-13</td>\n",
       "      <td>9.428723e-12</td>\n",
       "      <td>6.173868e-08</td>\n",
       "      <td>3.560559e-09</td>\n",
       "      <td>1.050822e-14</td>\n",
       "      <td>7.346052e-16</td>\n",
       "      <td>1.574318e-09</td>\n",
       "    </tr>\n",
       "  </tbody>\n",
       "</table>\n",
       "<p>5 rows × 81 columns</p>\n",
       "</div>"
      ],
      "text/plain": [
       "          fname  Accelerating_and_revving_and_vroom     Accordion  \\\n",
       "0  53cefef0.wav                        4.164292e-11  3.842162e-11   \n",
       "1  63b41f09.wav                        1.301420e-09  1.063045e-08   \n",
       "2  9da3bbc9.wav                        4.555047e-10  1.239843e-15   \n",
       "3  b6e192f8.wav                        1.541744e-04  9.912796e-16   \n",
       "4  f2ebd17a.wav                        8.302033e-08  5.168335e-13   \n",
       "\n",
       "   Acoustic_guitar      Applause          Bark     Bass_drum   Bass_guitar  \\\n",
       "0     1.057597e-06  1.419038e-08  3.112723e-05  1.036865e-11  1.391344e-09   \n",
       "1     1.483182e-07  3.893390e-10  1.115913e-11  3.358612e-07  7.099551e-01   \n",
       "2     1.696157e-10  1.036508e-12  6.932512e-04  9.979193e-16  1.587214e-12   \n",
       "3     2.741905e-09  8.912151e-12  8.045615e-06  4.181872e-16  6.912953e-08   \n",
       "4     4.760595e-05  9.730984e-10  1.570965e-09  2.186351e-12  4.051909e-13   \n",
       "\n",
       "   Bathtub_(filling_or_washing)  Bicycle_bell  ...  Toilet_flush  \\\n",
       "0                  9.340662e-07  8.003759e-09  ...  7.000427e-07   \n",
       "1                  7.960973e-10  2.457007e-13  ...  7.910188e-11   \n",
       "2                  1.393285e-16  2.572426e-18  ...  1.022158e-10   \n",
       "3                  3.177251e-13  1.054430e-13  ...  1.435803e-13   \n",
       "4                  1.028223e-12  1.949609e-12  ...  2.656830e-13   \n",
       "\n",
       "   Traffic_noise_and_roadway_noise  Trickle_and_dribble  Walk_and_footsteps  \\\n",
       "0                     6.244907e-11         4.461402e-10        9.466940e-13   \n",
       "1                     2.892266e-11         1.913704e-10        2.226472e-06   \n",
       "2                     1.009583e-14         1.064332e-12        4.424130e-08   \n",
       "3                     2.599765e-16         1.580690e-10        2.441590e-17   \n",
       "4                     3.676894e-12         1.678164e-07        9.915554e-13   \n",
       "\n",
       "   Water_tap_and_faucet  Waves_and_surf    Whispering       Writing  \\\n",
       "0          3.767372e-07    9.792196e-11  2.782186e-08  2.585983e-06   \n",
       "1          1.777158e-09    4.093830e-11  7.063481e-09  1.133364e-08   \n",
       "2          1.516413e-15    1.574384e-13  2.023888e-08  2.622349e-09   \n",
       "3          2.939508e-17    1.555952e-14  4.476769e-11  7.049466e-14   \n",
       "4          9.428723e-12    6.173868e-08  3.560559e-09  1.050822e-14   \n",
       "\n",
       "           Yell  Zipper_(clothing)  \n",
       "0  3.599394e-11       1.392479e-05  \n",
       "1  1.401612e-13       8.541260e-12  \n",
       "2  2.246732e-19       2.190545e-09  \n",
       "3  1.089443e-15       7.817436e-11  \n",
       "4  7.346052e-16       1.574318e-09  \n",
       "\n",
       "[5 rows x 81 columns]"
      ]
     },
     "execution_count": 52,
     "metadata": {},
     "output_type": "execute_result"
    }
   ],
   "source": [
    "submit_data.insert(0, 'fname', os.listdir('../input/sc2-total-aug-noisy-data/sub2/sub2'))\n",
    "submit_data[\"fname\"]=submit_data[\"fname\"].apply(lambda x: x.split(\".\")[0]+\".wav\")\n",
    "submit_data.head()"
   ]
  },
  {
   "cell_type": "code",
   "execution_count": 53,
   "metadata": {
    "execution": {
     "iopub.execute_input": "2020-10-04T22:30:01.155889Z",
     "iopub.status.busy": "2020-10-04T22:30:01.155239Z",
     "iopub.status.idle": "2020-10-04T22:30:02.422187Z",
     "shell.execute_reply": "2020-10-04T22:30:02.421080Z"
    },
    "papermill": {
     "duration": 13.222936,
     "end_time": "2020-10-04T22:30:02.422310",
     "exception": false,
     "start_time": "2020-10-04T22:29:49.199374",
     "status": "completed"
    },
    "tags": []
   },
   "outputs": [],
   "source": [
    "submit_data.to_csv(\"submissionDenseNoisyCV_4.csv\",index=False )"
   ]
  },
  {
   "cell_type": "code",
   "execution_count": null,
   "metadata": {
    "papermill": {
     "duration": 11.899656,
     "end_time": "2020-10-04T22:30:26.101025",
     "exception": false,
     "start_time": "2020-10-04T22:30:14.201369",
     "status": "completed"
    },
    "tags": []
   },
   "outputs": [],
   "source": []
  }
 ],
 "metadata": {
  "kernelspec": {
   "display_name": "Python 3",
   "language": "python",
   "name": "python3"
  },
  "language_info": {
   "codemirror_mode": {
    "name": "ipython",
    "version": 3
   },
   "file_extension": ".py",
   "mimetype": "text/x-python",
   "name": "python",
   "nbconvert_exporter": "python",
   "pygments_lexer": "ipython3",
   "version": "3.7.3"
  },
  "papermill": {
   "duration": 18333.954525,
   "end_time": "2020-10-04T22:30:39.413929",
   "environment_variables": {},
   "exception": null,
   "input_path": "__notebook__.ipynb",
   "output_path": "__notebook__.ipynb",
   "parameters": {},
   "start_time": "2020-10-04T17:25:05.459404",
   "version": "2.1.0"
  }
 },
 "nbformat": 4,
 "nbformat_minor": 4
}
