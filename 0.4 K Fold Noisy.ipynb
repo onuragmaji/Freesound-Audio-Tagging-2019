{
 "cells": [
  {
   "cell_type": "code",
   "execution_count": 1,
   "metadata": {},
   "outputs": [],
   "source": [
    "# This Python 3 environment comes with many helpful analytics libraries installed\n",
    "# It is defined by the kaggle/python Docker image: https://github.com/kaggle/docker-python\n",
    "# For example, here's several helpful packages to load\n",
    "\n",
    "import numpy as np # linear algebra\n",
    "import pandas as pd # data processing, CSV file I/O (e.g. pd.read_csv)\n",
    "import os\n",
    "\n",
    "from sklearn.model_selection import train_test_split\n",
    "from sklearn.model_selection import KFold\n"
   ]
  },
  {
   "cell_type": "code",
   "execution_count": 2,
   "metadata": {},
   "outputs": [],
   "source": [
    "DATA_DIR=\"../Applied AI/SC 2 Final/Freesound data/\""
   ]
  },
  {
   "cell_type": "code",
   "execution_count": 3,
   "metadata": {},
   "outputs": [],
   "source": [
    "traindf_noisy=pd.read_csv(DATA_DIR+'train_noisy.csv',dtype=str)\n",
    "\n",
    "traindf_curated=pd.read_csv(DATA_DIR+'train_curated.csv',dtype=str)"
   ]
  },
  {
   "cell_type": "markdown",
   "metadata": {},
   "source": [
    "## Creating CSV file based on Genereted Spectrograms and labling them from train_noisy.csv and train_curated.csv"
   ]
  },
  {
   "cell_type": "code",
   "execution_count": 4,
   "metadata": {},
   "outputs": [],
   "source": [
    "temp_label=[]\n",
    "temp_fname=[]\n",
    "\n",
    "for file in os.listdir(\"./Total Images bucket Noisy\"):\n",
    "    temp_fname.append(file)\n",
    "    if len(file.split(\"_\"))==1:\n",
    "         temp=file.split(\".\")[0]+\".wav\"\n",
    "    elif len(file.split(\"_\"))==2:  \n",
    "        temp=file.split(\"_\")[0]+\".wav\" \n",
    "    try:   \n",
    "        label=traindf_noisy[traindf_noisy[\"fname\"]==temp].iloc[0][\"labels\"]\n",
    "    except IndexError:    \n",
    "        label=traindf_curated[traindf_curated[\"fname\"]==temp].iloc[0][\"labels\"]\n",
    "    temp_label.append(label)"
   ]
  },
  {
   "cell_type": "code",
   "execution_count": 29,
   "metadata": {},
   "outputs": [
    {
     "data": {
      "text/plain": [
       "(30389, 2)"
      ]
     },
     "execution_count": 29,
     "metadata": {},
     "output_type": "execute_result"
    }
   ],
   "source": [
    "total_noisy_df = pd.DataFrame({'fname':temp_fname, 'labels':temp_label})\n",
    "total_noisy_df.shape"
   ]
  },
  {
   "cell_type": "code",
   "execution_count": 38,
   "metadata": {},
   "outputs": [],
   "source": [
    "X_train, X_test, y_train, y_test = train_test_split(total_noisy_df[\"fname\"], total_noisy_df[\"labels\"], test_size=0.20, random_state=42)"
   ]
  },
  {
   "cell_type": "code",
   "execution_count": 46,
   "metadata": {},
   "outputs": [],
   "source": [
    "pd.DataFrame({\"fname\":X_test,\"labels\": y_test}).to_csv(\"./K_fold_data/Noisy_test.csv\",index=False)    "
   ]
  },
  {
   "cell_type": "code",
   "execution_count": 39,
   "metadata": {},
   "outputs": [],
   "source": [
    "y_train.reset_index(inplace = True, drop = True)\n",
    "X_train.reset_index(inplace = True, drop = True)"
   ]
  },
  {
   "cell_type": "code",
   "execution_count": 40,
   "metadata": {},
   "outputs": [
    {
     "data": {
      "text/plain": [
       "0            161d2bb8.jpg\n",
       "1            abf3a850.jpg\n",
       "2            fd802069.jpg\n",
       "3        0f69e008_aug.jpg\n",
       "4            5c51827a.jpg\n",
       "               ...       \n",
       "24306    fa9dc881_aug.jpg\n",
       "24307        2c6fb8d9.jpg\n",
       "24308        077f6568.jpg\n",
       "24309    8386a24c_aug.jpg\n",
       "24310        c6cbaba6.jpg\n",
       "Name: fname, Length: 24311, dtype: object"
      ]
     },
     "execution_count": 40,
     "metadata": {},
     "output_type": "execute_result"
    }
   ],
   "source": [
    "X_train"
   ]
  },
  {
   "cell_type": "code",
   "execution_count": 41,
   "metadata": {},
   "outputs": [],
   "source": [
    "kf = KFold(n_splits=5,random_state=42,shuffle=True)"
   ]
  },
  {
   "cell_type": "markdown",
   "metadata": {},
   "source": [
    "# Dividing the Train and CV data for different K-Folds"
   ]
  },
  {
   "cell_type": "code",
   "execution_count": 42,
   "metadata": {},
   "outputs": [],
   "source": [
    "X_train_total=[]\n",
    "y_train_total=[]\n",
    "\n",
    "X_test_total=[]\n",
    "y_test_total=[]\n",
    "count=0\n",
    "for train_index, test_index in kf.split(X_train):\n",
    "    #K_fold_data\n",
    "    X_train_total.append(X_train[train_index])\n",
    "    y_train_total.append(y_train[train_index])\n",
    "    pd.DataFrame({\"fname\":X_train[train_index],\"labels\":y_train[train_index]}).to_csv(\"./K_fold_data/Noisy_train_{}.csv\".format(count),index=False)    \n",
    "    X_test.append(X_train[test_index])\n",
    "    y_test_total.append(y_train[test_index])\n",
    "    pd.DataFrame({\"fname\":X_train[test_index],\"labels\":y_train[test_index]}).to_csv(\"./K_fold_data/Noisy_cv_{}.csv\".format(count),index=False)    \n",
    "    count+=1"
   ]
  },
  {
   "cell_type": "code",
   "execution_count": 43,
   "metadata": {},
   "outputs": [
    {
     "data": {
      "text/plain": [
       "(19449,)"
      ]
     },
     "execution_count": 43,
     "metadata": {},
     "output_type": "execute_result"
    }
   ],
   "source": [
    "X_train_total[4].shape"
   ]
  },
  {
   "cell_type": "code",
   "execution_count": 44,
   "metadata": {},
   "outputs": [
    {
     "data": {
      "text/plain": [
       "(4862,)"
      ]
     },
     "execution_count": 44,
     "metadata": {},
     "output_type": "execute_result"
    }
   ],
   "source": [
    "y_test_total[4].shape"
   ]
  },
  {
   "cell_type": "code",
   "execution_count": 45,
   "metadata": {},
   "outputs": [
    {
     "data": {
      "text/plain": [
       "0               Bus,Microwave_oven\n",
       "1                              Bus\n",
       "2                         Cheering\n",
       "3                             Purr\n",
       "4                         Applause\n",
       "                   ...            \n",
       "24304                         Yell\n",
       "24305                   Whispering\n",
       "24306                      Crackle\n",
       "24308                     Cheering\n",
       "24310    Whispering,Squeak,Crackle\n",
       "Name: labels, Length: 19449, dtype: object"
      ]
     },
     "execution_count": 45,
     "metadata": {},
     "output_type": "execute_result"
    }
   ],
   "source": [
    "y_train_total[4]"
   ]
  },
  {
   "cell_type": "code",
   "execution_count": null,
   "metadata": {},
   "outputs": [],
   "source": []
  }
 ],
 "metadata": {
  "kernelspec": {
   "display_name": "Python 3",
   "language": "python",
   "name": "python3"
  },
  "language_info": {
   "codemirror_mode": {
    "name": "ipython",
    "version": 3
   },
   "file_extension": ".py",
   "mimetype": "text/x-python",
   "name": "python",
   "nbconvert_exporter": "python",
   "pygments_lexer": "ipython3",
   "version": "3.7.3"
  }
 },
 "nbformat": 4,
 "nbformat_minor": 2
}
