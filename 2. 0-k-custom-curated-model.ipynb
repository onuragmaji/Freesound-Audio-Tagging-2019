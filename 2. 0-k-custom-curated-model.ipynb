{
 "cells": [
  {
   "cell_type": "code",
   "execution_count": 1,
   "metadata": {
    "execution": {
     "iopub.execute_input": "2020-10-03T12:18:27.586084Z",
     "iopub.status.busy": "2020-10-03T12:18:27.585015Z",
     "iopub.status.idle": "2020-10-03T12:18:27.588339Z",
     "shell.execute_reply": "2020-10-03T12:18:27.587626Z"
    },
    "id": "SQF09QseVK2o",
    "papermill": {
     "duration": 0.051614,
     "end_time": "2020-10-03T12:18:27.588453",
     "exception": false,
     "start_time": "2020-10-03T12:18:27.536839",
     "status": "completed"
    },
    "tags": []
   },
   "outputs": [],
   "source": [
    "import numpy as np # linear algebra\n",
    "import pandas as pd # data processing, CSV file I/O (e.g. pd.read_csv)\n",
    "import os"
   ]
  },
  {
   "cell_type": "code",
   "execution_count": 2,
   "metadata": {
    "execution": {
     "iopub.execute_input": "2020-10-03T12:18:27.677638Z",
     "iopub.status.busy": "2020-10-03T12:18:27.676959Z",
     "iopub.status.idle": "2020-10-03T12:18:27.721890Z",
     "shell.execute_reply": "2020-10-03T12:18:27.721214Z"
    },
    "id": "p7iYDRlSXG6E",
    "papermill": {
     "duration": 0.092738,
     "end_time": "2020-10-03T12:18:27.722003",
     "exception": false,
     "start_time": "2020-10-03T12:18:27.629265",
     "status": "completed"
    },
    "tags": []
   },
   "outputs": [],
   "source": [
    "traindf_noisy=pd.read_csv('../input/freesound-audio-tagging-2019/train_noisy.csv',dtype=str)\n",
    "\n",
    "traindf_curated=pd.read_csv('../input/freesound-audio-tagging-2019/train_curated.csv',dtype=str)"
   ]
  },
  {
   "cell_type": "code",
   "execution_count": 3,
   "metadata": {
    "execution": {
     "iopub.execute_input": "2020-10-03T12:18:27.817962Z",
     "iopub.status.busy": "2020-10-03T12:18:27.817125Z",
     "iopub.status.idle": "2020-10-03T12:18:27.825807Z",
     "shell.execute_reply": "2020-10-03T12:18:27.825226Z"
    },
    "id": "U4bc985UXfC9",
    "outputId": "fc67be4a-3be0-4bfe-faf8-078bdb911416",
    "papermill": {
     "duration": 0.062304,
     "end_time": "2020-10-03T12:18:27.825898",
     "exception": false,
     "start_time": "2020-10-03T12:18:27.763594",
     "status": "completed"
    },
    "tags": []
   },
   "outputs": [
    {
     "data": {
      "text/html": [
       "<div>\n",
       "<style scoped>\n",
       "    .dataframe tbody tr th:only-of-type {\n",
       "        vertical-align: middle;\n",
       "    }\n",
       "\n",
       "    .dataframe tbody tr th {\n",
       "        vertical-align: top;\n",
       "    }\n",
       "\n",
       "    .dataframe thead th {\n",
       "        text-align: right;\n",
       "    }\n",
       "</style>\n",
       "<table border=\"1\" class=\"dataframe\">\n",
       "  <thead>\n",
       "    <tr style=\"text-align: right;\">\n",
       "      <th></th>\n",
       "      <th>fname</th>\n",
       "      <th>labels</th>\n",
       "    </tr>\n",
       "  </thead>\n",
       "  <tbody>\n",
       "    <tr>\n",
       "      <th>0</th>\n",
       "      <td>00097e21.wav</td>\n",
       "      <td>Bathtub_(filling_or_washing)</td>\n",
       "    </tr>\n",
       "    <tr>\n",
       "      <th>1</th>\n",
       "      <td>000b6cfb.wav</td>\n",
       "      <td>Motorcycle</td>\n",
       "    </tr>\n",
       "    <tr>\n",
       "      <th>2</th>\n",
       "      <td>00116cd2.wav</td>\n",
       "      <td>Marimba_and_xylophone,Glockenspiel</td>\n",
       "    </tr>\n",
       "    <tr>\n",
       "      <th>3</th>\n",
       "      <td>00127d14.wav</td>\n",
       "      <td>Water_tap_and_faucet,Sink_(filling_or_washing)</td>\n",
       "    </tr>\n",
       "    <tr>\n",
       "      <th>4</th>\n",
       "      <td>0019adae.wav</td>\n",
       "      <td>Raindrop</td>\n",
       "    </tr>\n",
       "  </tbody>\n",
       "</table>\n",
       "</div>"
      ],
      "text/plain": [
       "          fname                                          labels\n",
       "0  00097e21.wav                    Bathtub_(filling_or_washing)\n",
       "1  000b6cfb.wav                                      Motorcycle\n",
       "2  00116cd2.wav              Marimba_and_xylophone,Glockenspiel\n",
       "3  00127d14.wav  Water_tap_and_faucet,Sink_(filling_or_washing)\n",
       "4  0019adae.wav                                        Raindrop"
      ]
     },
     "execution_count": 3,
     "metadata": {},
     "output_type": "execute_result"
    }
   ],
   "source": [
    "traindf_noisy.head()"
   ]
  },
  {
   "cell_type": "markdown",
   "metadata": {},
   "source": [
    "# Loading 0-K Fold Curated Train, CV and Test data"
   ]
  },
  {
   "cell_type": "code",
   "execution_count": 4,
   "metadata": {
    "execution": {
     "iopub.execute_input": "2020-10-03T12:18:27.923703Z",
     "iopub.status.busy": "2020-10-03T12:18:27.923022Z",
     "iopub.status.idle": "2020-10-03T12:18:27.941425Z",
     "shell.execute_reply": "2020-10-03T12:18:27.940906Z"
    },
    "id": "BED77XJyFvrQ",
    "outputId": "79f2cdec-9af6-4626-ccfd-8e117548ff34",
    "papermill": {
     "duration": 0.073162,
     "end_time": "2020-10-03T12:18:27.941527",
     "exception": false,
     "start_time": "2020-10-03T12:18:27.868365",
     "status": "completed"
    },
    "tags": []
   },
   "outputs": [
    {
     "data": {
      "text/html": [
       "<div>\n",
       "<style scoped>\n",
       "    .dataframe tbody tr th:only-of-type {\n",
       "        vertical-align: middle;\n",
       "    }\n",
       "\n",
       "    .dataframe tbody tr th {\n",
       "        vertical-align: top;\n",
       "    }\n",
       "\n",
       "    .dataframe thead th {\n",
       "        text-align: right;\n",
       "    }\n",
       "</style>\n",
       "<table border=\"1\" class=\"dataframe\">\n",
       "  <thead>\n",
       "    <tr style=\"text-align: right;\">\n",
       "      <th></th>\n",
       "      <th>fname</th>\n",
       "      <th>labels</th>\n",
       "    </tr>\n",
       "  </thead>\n",
       "  <tbody>\n",
       "    <tr>\n",
       "      <th>0</th>\n",
       "      <td>d349d1c7_aug.jpg</td>\n",
       "      <td>Cutlery_and_silverware,Dishes_and_pots_and_pans</td>\n",
       "    </tr>\n",
       "    <tr>\n",
       "      <th>1</th>\n",
       "      <td>e1c41fe6_aug.jpg</td>\n",
       "      <td>Burping_and_eructation</td>\n",
       "    </tr>\n",
       "    <tr>\n",
       "      <th>2</th>\n",
       "      <td>d8b54599.jpg</td>\n",
       "      <td>Accelerating_and_revving_and_vroom</td>\n",
       "    </tr>\n",
       "    <tr>\n",
       "      <th>3</th>\n",
       "      <td>15d94574_aug.jpg</td>\n",
       "      <td>Mechanical_fan</td>\n",
       "    </tr>\n",
       "    <tr>\n",
       "      <th>4</th>\n",
       "      <td>05be25ad.jpg</td>\n",
       "      <td>Shatter</td>\n",
       "    </tr>\n",
       "  </tbody>\n",
       "</table>\n",
       "</div>"
      ],
      "text/plain": [
       "              fname                                           labels\n",
       "0  d349d1c7_aug.jpg  Cutlery_and_silverware,Dishes_and_pots_and_pans\n",
       "1  e1c41fe6_aug.jpg                           Burping_and_eructation\n",
       "2      d8b54599.jpg               Accelerating_and_revving_and_vroom\n",
       "3  15d94574_aug.jpg                                   Mechanical_fan\n",
       "4      05be25ad.jpg                                          Shatter"
      ]
     },
     "execution_count": 4,
     "metadata": {},
     "output_type": "execute_result"
    }
   ],
   "source": [
    "train_df = pd.read_csv(\"../input/sc2-total-aug-noisy-data/K_fold_data/K_fold_data/Curated/Curated_train_0.csv\")\n",
    "train_df.head()"
   ]
  },
  {
   "cell_type": "code",
   "execution_count": 5,
   "metadata": {
    "execution": {
     "iopub.execute_input": "2020-10-03T12:18:28.032107Z",
     "iopub.status.busy": "2020-10-03T12:18:28.031176Z",
     "iopub.status.idle": "2020-10-03T12:18:28.035468Z",
     "shell.execute_reply": "2020-10-03T12:18:28.034954Z"
    },
    "id": "WH505SeqZkQt",
    "outputId": "3f186139-021d-4747-9e8b-7ecdf0043405",
    "papermill": {
     "duration": 0.051871,
     "end_time": "2020-10-03T12:18:28.035569",
     "exception": false,
     "start_time": "2020-10-03T12:18:27.983698",
     "status": "completed"
    },
    "tags": []
   },
   "outputs": [
    {
     "data": {
      "text/plain": [
       "(6251, 2)"
      ]
     },
     "execution_count": 5,
     "metadata": {},
     "output_type": "execute_result"
    }
   ],
   "source": [
    "train_df.shape"
   ]
  },
  {
   "cell_type": "code",
   "execution_count": 6,
   "metadata": {
    "execution": {
     "iopub.execute_input": "2020-10-03T12:18:28.127733Z",
     "iopub.status.busy": "2020-10-03T12:18:28.127113Z",
     "iopub.status.idle": "2020-10-03T12:18:28.137809Z",
     "shell.execute_reply": "2020-10-03T12:18:28.137204Z"
    },
    "id": "CyzXJYqRZw08",
    "outputId": "be29fa6d-abdf-4008-d807-f4e8c3297941",
    "papermill": {
     "duration": 0.059113,
     "end_time": "2020-10-03T12:18:28.137917",
     "exception": false,
     "start_time": "2020-10-03T12:18:28.078804",
     "status": "completed"
    },
    "tags": []
   },
   "outputs": [
    {
     "data": {
      "text/plain": [
       "(1563, 2)"
      ]
     },
     "execution_count": 6,
     "metadata": {},
     "output_type": "execute_result"
    }
   ],
   "source": [
    "cv_df = pd.read_csv(\"../input/sc2-total-aug-noisy-data/K_fold_data/K_fold_data/Curated/Curated_cv_0.csv\")\n",
    "cv_df.shape"
   ]
  },
  {
   "cell_type": "code",
   "execution_count": 7,
   "metadata": {
    "execution": {
     "iopub.execute_input": "2020-10-03T12:18:28.231652Z",
     "iopub.status.busy": "2020-10-03T12:18:28.230833Z",
     "iopub.status.idle": "2020-10-03T12:18:28.240544Z",
     "shell.execute_reply": "2020-10-03T12:18:28.239864Z"
    },
    "id": "PbRmGQZPZ4X8",
    "outputId": "95e57da4-a520-4b4c-f798-7a8499a1bf3a",
    "papermill": {
     "duration": 0.058634,
     "end_time": "2020-10-03T12:18:28.240649",
     "exception": false,
     "start_time": "2020-10-03T12:18:28.182015",
     "status": "completed"
    },
    "tags": []
   },
   "outputs": [
    {
     "data": {
      "text/plain": [
       "(1380, 2)"
      ]
     },
     "execution_count": 7,
     "metadata": {},
     "output_type": "execute_result"
    }
   ],
   "source": [
    "    \n",
    "test_df = pd.read_csv(\"../input/sc2-total-aug-noisy-data/K_fold_data/K_fold_data/Curated/Curated_test.csv\") \n",
    "test_df.shape"
   ]
  },
  {
   "cell_type": "markdown",
   "metadata": {},
   "source": [
    "## Sklearn MultiLabelBinarizer to One-hot encode the multilablles "
   ]
  },
  {
   "cell_type": "code",
   "execution_count": 8,
   "metadata": {
    "execution": {
     "iopub.execute_input": "2020-10-03T12:18:28.336954Z",
     "iopub.status.busy": "2020-10-03T12:18:28.336073Z",
     "iopub.status.idle": "2020-10-03T12:18:29.323690Z",
     "shell.execute_reply": "2020-10-03T12:18:29.322703Z"
    },
    "id": "PhcbdXiAaFg8",
    "papermill": {
     "duration": 1.039068,
     "end_time": "2020-10-03T12:18:29.323812",
     "exception": false,
     "start_time": "2020-10-03T12:18:28.284744",
     "status": "completed"
    },
    "tags": []
   },
   "outputs": [],
   "source": [
    "from sklearn.preprocessing import MultiLabelBinarizer\n",
    "\n",
    "mlb_train = MultiLabelBinarizer()\n",
    "\n",
    "\n",
    "labels_train = mlb_train.fit_transform([ i.split(\",\") for i in list(train_df[\"labels\"])])\n",
    "\n",
    "\n",
    "labels_test = mlb_train.transform([ i.split(\",\") for i in list(test_df[\"labels\"])])\n",
    "\n",
    "\n",
    "#mlb_cv = MultiLabelBinarizer()\n",
    "labels_cv = mlb_train.transform([ i.split(\",\") for i in list(cv_df[\"labels\"])])"
   ]
  },
  {
   "cell_type": "code",
   "execution_count": 9,
   "metadata": {
    "execution": {
     "iopub.execute_input": "2020-10-03T12:18:29.421332Z",
     "iopub.status.busy": "2020-10-03T12:18:29.420661Z",
     "iopub.status.idle": "2020-10-03T12:18:29.426390Z",
     "shell.execute_reply": "2020-10-03T12:18:29.426851Z"
    },
    "id": "SezKbmekzxuZ",
    "outputId": "4d82a251-2985-4bdd-eb6d-97e83646c797",
    "papermill": {
     "duration": 0.05658,
     "end_time": "2020-10-03T12:18:29.426990",
     "exception": false,
     "start_time": "2020-10-03T12:18:29.370410",
     "status": "completed"
    },
    "tags": []
   },
   "outputs": [
    {
     "data": {
      "text/plain": [
       "array([[0, 0, 0, ..., 0, 0, 0],\n",
       "       [0, 0, 0, ..., 0, 0, 0],\n",
       "       [0, 0, 0, ..., 0, 0, 0],\n",
       "       ...,\n",
       "       [0, 0, 0, ..., 0, 0, 0],\n",
       "       [0, 0, 0, ..., 0, 0, 0],\n",
       "       [0, 0, 0, ..., 0, 0, 0]])"
      ]
     },
     "execution_count": 9,
     "metadata": {},
     "output_type": "execute_result"
    }
   ],
   "source": [
    "labels_cv"
   ]
  },
  {
   "cell_type": "code",
   "execution_count": 10,
   "metadata": {
    "execution": {
     "iopub.execute_input": "2020-10-03T12:18:29.528793Z",
     "iopub.status.busy": "2020-10-03T12:18:29.527778Z",
     "iopub.status.idle": "2020-10-03T12:18:29.536527Z",
     "shell.execute_reply": "2020-10-03T12:18:29.535915Z"
    },
    "id": "hNrk7jvNaP6L",
    "papermill": {
     "duration": 0.064732,
     "end_time": "2020-10-03T12:18:29.536637",
     "exception": false,
     "start_time": "2020-10-03T12:18:29.471905",
     "status": "completed"
    },
    "tags": []
   },
   "outputs": [],
   "source": [
    "trainmultidf=pd.DataFrame(data=labels_train,columns=list(mlb_train.classes_))\n",
    "trainmultidf[\"fname\"]=list(train_df[\"fname\"])\n",
    "\n",
    "testmultidf=pd.DataFrame(data=labels_test,columns=list(mlb_train.classes_))\n",
    "testmultidf[\"fname\"]=list(test_df[\"fname\"])\n",
    "\n",
    "\n",
    "cvmultidf=pd.DataFrame(data=labels_cv,columns=list(mlb_train.classes_))\n",
    "cvmultidf[\"fname\"]=list(cv_df[\"fname\"])"
   ]
  },
  {
   "cell_type": "code",
   "execution_count": 11,
   "metadata": {
    "execution": {
     "iopub.execute_input": "2020-10-03T12:18:29.635159Z",
     "iopub.status.busy": "2020-10-03T12:18:29.634194Z",
     "iopub.status.idle": "2020-10-03T12:18:29.638622Z",
     "shell.execute_reply": "2020-10-03T12:18:29.638019Z"
    },
    "id": "ULDTeP4OVRnF",
    "outputId": "d58a1c76-726b-4bec-de07-4b4560452359",
    "papermill": {
     "duration": 0.056403,
     "end_time": "2020-10-03T12:18:29.638727",
     "exception": false,
     "start_time": "2020-10-03T12:18:29.582324",
     "status": "completed"
    },
    "tags": []
   },
   "outputs": [
    {
     "data": {
      "text/plain": [
       "(1563, 81)"
      ]
     },
     "execution_count": 11,
     "metadata": {},
     "output_type": "execute_result"
    }
   ],
   "source": [
    "cvmultidf.shape"
   ]
  },
  {
   "cell_type": "code",
   "execution_count": 12,
   "metadata": {
    "execution": {
     "iopub.execute_input": "2020-10-03T12:18:29.737033Z",
     "iopub.status.busy": "2020-10-03T12:18:29.736044Z",
     "iopub.status.idle": "2020-10-03T12:18:29.754004Z",
     "shell.execute_reply": "2020-10-03T12:18:29.754574Z"
    },
    "id": "6hroRXb30BX3",
    "outputId": "2d3868dd-fd8e-4527-90fe-0ff594e931c0",
    "papermill": {
     "duration": 0.070138,
     "end_time": "2020-10-03T12:18:29.754690",
     "exception": false,
     "start_time": "2020-10-03T12:18:29.684552",
     "status": "completed"
    },
    "tags": []
   },
   "outputs": [
    {
     "data": {
      "text/html": [
       "<div>\n",
       "<style scoped>\n",
       "    .dataframe tbody tr th:only-of-type {\n",
       "        vertical-align: middle;\n",
       "    }\n",
       "\n",
       "    .dataframe tbody tr th {\n",
       "        vertical-align: top;\n",
       "    }\n",
       "\n",
       "    .dataframe thead th {\n",
       "        text-align: right;\n",
       "    }\n",
       "</style>\n",
       "<table border=\"1\" class=\"dataframe\">\n",
       "  <thead>\n",
       "    <tr style=\"text-align: right;\">\n",
       "      <th></th>\n",
       "      <th>Accelerating_and_revving_and_vroom</th>\n",
       "      <th>Accordion</th>\n",
       "      <th>Acoustic_guitar</th>\n",
       "      <th>Applause</th>\n",
       "      <th>Bark</th>\n",
       "      <th>Bass_drum</th>\n",
       "      <th>Bass_guitar</th>\n",
       "      <th>Bathtub_(filling_or_washing)</th>\n",
       "      <th>Bicycle_bell</th>\n",
       "      <th>Burping_and_eructation</th>\n",
       "      <th>...</th>\n",
       "      <th>Traffic_noise_and_roadway_noise</th>\n",
       "      <th>Trickle_and_dribble</th>\n",
       "      <th>Walk_and_footsteps</th>\n",
       "      <th>Water_tap_and_faucet</th>\n",
       "      <th>Waves_and_surf</th>\n",
       "      <th>Whispering</th>\n",
       "      <th>Writing</th>\n",
       "      <th>Yell</th>\n",
       "      <th>Zipper_(clothing)</th>\n",
       "      <th>fname</th>\n",
       "    </tr>\n",
       "  </thead>\n",
       "  <tbody>\n",
       "    <tr>\n",
       "      <th>0</th>\n",
       "      <td>0</td>\n",
       "      <td>0</td>\n",
       "      <td>0</td>\n",
       "      <td>0</td>\n",
       "      <td>0</td>\n",
       "      <td>0</td>\n",
       "      <td>0</td>\n",
       "      <td>0</td>\n",
       "      <td>0</td>\n",
       "      <td>0</td>\n",
       "      <td>...</td>\n",
       "      <td>0</td>\n",
       "      <td>0</td>\n",
       "      <td>0</td>\n",
       "      <td>0</td>\n",
       "      <td>0</td>\n",
       "      <td>0</td>\n",
       "      <td>0</td>\n",
       "      <td>0</td>\n",
       "      <td>0</td>\n",
       "      <td>e9889c78.jpg</td>\n",
       "    </tr>\n",
       "    <tr>\n",
       "      <th>1</th>\n",
       "      <td>0</td>\n",
       "      <td>0</td>\n",
       "      <td>0</td>\n",
       "      <td>0</td>\n",
       "      <td>0</td>\n",
       "      <td>0</td>\n",
       "      <td>0</td>\n",
       "      <td>0</td>\n",
       "      <td>0</td>\n",
       "      <td>0</td>\n",
       "      <td>...</td>\n",
       "      <td>0</td>\n",
       "      <td>1</td>\n",
       "      <td>0</td>\n",
       "      <td>0</td>\n",
       "      <td>0</td>\n",
       "      <td>0</td>\n",
       "      <td>0</td>\n",
       "      <td>0</td>\n",
       "      <td>0</td>\n",
       "      <td>a06afbf0_aug.jpg</td>\n",
       "    </tr>\n",
       "    <tr>\n",
       "      <th>2</th>\n",
       "      <td>0</td>\n",
       "      <td>0</td>\n",
       "      <td>0</td>\n",
       "      <td>0</td>\n",
       "      <td>0</td>\n",
       "      <td>0</td>\n",
       "      <td>0</td>\n",
       "      <td>0</td>\n",
       "      <td>0</td>\n",
       "      <td>0</td>\n",
       "      <td>...</td>\n",
       "      <td>0</td>\n",
       "      <td>0</td>\n",
       "      <td>0</td>\n",
       "      <td>0</td>\n",
       "      <td>0</td>\n",
       "      <td>0</td>\n",
       "      <td>0</td>\n",
       "      <td>0</td>\n",
       "      <td>1</td>\n",
       "      <td>a9e97fb7.jpg</td>\n",
       "    </tr>\n",
       "    <tr>\n",
       "      <th>3</th>\n",
       "      <td>0</td>\n",
       "      <td>0</td>\n",
       "      <td>0</td>\n",
       "      <td>0</td>\n",
       "      <td>0</td>\n",
       "      <td>0</td>\n",
       "      <td>0</td>\n",
       "      <td>0</td>\n",
       "      <td>0</td>\n",
       "      <td>0</td>\n",
       "      <td>...</td>\n",
       "      <td>0</td>\n",
       "      <td>1</td>\n",
       "      <td>0</td>\n",
       "      <td>0</td>\n",
       "      <td>0</td>\n",
       "      <td>0</td>\n",
       "      <td>0</td>\n",
       "      <td>0</td>\n",
       "      <td>0</td>\n",
       "      <td>b855f490_aug.jpg</td>\n",
       "    </tr>\n",
       "    <tr>\n",
       "      <th>4</th>\n",
       "      <td>0</td>\n",
       "      <td>0</td>\n",
       "      <td>0</td>\n",
       "      <td>0</td>\n",
       "      <td>0</td>\n",
       "      <td>0</td>\n",
       "      <td>0</td>\n",
       "      <td>0</td>\n",
       "      <td>0</td>\n",
       "      <td>0</td>\n",
       "      <td>...</td>\n",
       "      <td>0</td>\n",
       "      <td>0</td>\n",
       "      <td>0</td>\n",
       "      <td>0</td>\n",
       "      <td>0</td>\n",
       "      <td>0</td>\n",
       "      <td>0</td>\n",
       "      <td>0</td>\n",
       "      <td>0</td>\n",
       "      <td>ec447208_aug.jpg</td>\n",
       "    </tr>\n",
       "  </tbody>\n",
       "</table>\n",
       "<p>5 rows × 81 columns</p>\n",
       "</div>"
      ],
      "text/plain": [
       "   Accelerating_and_revving_and_vroom  Accordion  Acoustic_guitar  Applause  \\\n",
       "0                                   0          0                0         0   \n",
       "1                                   0          0                0         0   \n",
       "2                                   0          0                0         0   \n",
       "3                                   0          0                0         0   \n",
       "4                                   0          0                0         0   \n",
       "\n",
       "   Bark  Bass_drum  Bass_guitar  Bathtub_(filling_or_washing)  Bicycle_bell  \\\n",
       "0     0          0            0                             0             0   \n",
       "1     0          0            0                             0             0   \n",
       "2     0          0            0                             0             0   \n",
       "3     0          0            0                             0             0   \n",
       "4     0          0            0                             0             0   \n",
       "\n",
       "   Burping_and_eructation  ...  Traffic_noise_and_roadway_noise  \\\n",
       "0                       0  ...                                0   \n",
       "1                       0  ...                                0   \n",
       "2                       0  ...                                0   \n",
       "3                       0  ...                                0   \n",
       "4                       0  ...                                0   \n",
       "\n",
       "   Trickle_and_dribble  Walk_and_footsteps  Water_tap_and_faucet  \\\n",
       "0                    0                   0                     0   \n",
       "1                    1                   0                     0   \n",
       "2                    0                   0                     0   \n",
       "3                    1                   0                     0   \n",
       "4                    0                   0                     0   \n",
       "\n",
       "   Waves_and_surf  Whispering  Writing  Yell  Zipper_(clothing)  \\\n",
       "0               0           0        0     0                  0   \n",
       "1               0           0        0     0                  0   \n",
       "2               0           0        0     0                  1   \n",
       "3               0           0        0     0                  0   \n",
       "4               0           0        0     0                  0   \n",
       "\n",
       "              fname  \n",
       "0      e9889c78.jpg  \n",
       "1  a06afbf0_aug.jpg  \n",
       "2      a9e97fb7.jpg  \n",
       "3  b855f490_aug.jpg  \n",
       "4  ec447208_aug.jpg  \n",
       "\n",
       "[5 rows x 81 columns]"
      ]
     },
     "execution_count": 12,
     "metadata": {},
     "output_type": "execute_result"
    }
   ],
   "source": [
    "testmultidf.head()"
   ]
  },
  {
   "cell_type": "markdown",
   "metadata": {},
   "source": [
    "# Loading Preprocessed Spectrogram Images via ImageDataGenerator and adding augumnetation to train data"
   ]
  },
  {
   "cell_type": "code",
   "execution_count": 13,
   "metadata": {
    "execution": {
     "iopub.execute_input": "2020-10-03T12:18:29.856177Z",
     "iopub.status.busy": "2020-10-03T12:18:29.855541Z",
     "iopub.status.idle": "2020-10-03T12:18:37.340980Z",
     "shell.execute_reply": "2020-10-03T12:18:37.340433Z"
    },
    "id": "6Oskr5b4aVK7",
    "outputId": "a70dc23f-d9dd-48a7-f851-7e7c064c8c7a",
    "papermill": {
     "duration": 7.539312,
     "end_time": "2020-10-03T12:18:37.341090",
     "exception": false,
     "start_time": "2020-10-03T12:18:29.801778",
     "status": "completed"
    },
    "tags": []
   },
   "outputs": [
    {
     "name": "stdout",
     "output_type": "stream",
     "text": [
      "Found 6251 validated image filenames.\n"
     ]
    }
   ],
   "source": [
    "#We change the ids for the images in the csv files to reflect their new status as jpgs\n",
    "#https://medium.com/@vijayabhaskar96/tutorial-on-keras-flow-from-dataframe-1fd4493d237c\n",
    "from keras_preprocessing.image import ImageDataGenerator\n",
    "\n",
    "\n",
    "datagen=ImageDataGenerator(rescale=1./255.,zoom_range=[0.5,1.0],brightness_range=[0.8,1.4])\n",
    "\n",
    "\n",
    "train_generator=datagen.flow_from_dataframe(\n",
    "    dataframe=trainmultidf,\n",
    "    directory=\"../input/sc2-total-aug-noisy-data/Total images Bucket Curated/Total images Bucket Curated\",\n",
    "    x_col=\"fname\",\n",
    "    y_col=list(mlb_train.classes_),\n",
    "    subset=\"training\",\n",
    "    batch_size=64,\n",
    "    seed=42,\n",
    "    shuffle=False,#True,\n",
    "    class_mode=\"raw\",\n",
    "    color_mode=\"grayscale\",\n",
    "    target_size=(128,128))"
   ]
  },
  {
   "cell_type": "code",
   "execution_count": 14,
   "metadata": {
    "execution": {
     "iopub.execute_input": "2020-10-03T12:18:37.442628Z",
     "iopub.status.busy": "2020-10-03T12:18:37.441673Z",
     "iopub.status.idle": "2020-10-03T12:18:37.445931Z",
     "shell.execute_reply": "2020-10-03T12:18:37.445401Z"
    },
    "id": "m9hJ7VZvalMr",
    "outputId": "f24bccc8-b3a6-4af2-baf4-d81fa450dddf",
    "papermill": {
     "duration": 0.05699,
     "end_time": "2020-10-03T12:18:37.446050",
     "exception": false,
     "start_time": "2020-10-03T12:18:37.389060",
     "status": "completed"
    },
    "tags": []
   },
   "outputs": [
    {
     "data": {
      "text/plain": [
       "6251"
      ]
     },
     "execution_count": 14,
     "metadata": {},
     "output_type": "execute_result"
    }
   ],
   "source": [
    "train_generator.n"
   ]
  },
  {
   "cell_type": "code",
   "execution_count": 15,
   "metadata": {
    "execution": {
     "iopub.execute_input": "2020-10-03T12:18:37.543722Z",
     "iopub.status.busy": "2020-10-03T12:18:37.542912Z",
     "iopub.status.idle": "2020-10-03T12:18:37.546959Z",
     "shell.execute_reply": "2020-10-03T12:18:37.546440Z"
    },
    "id": "biqrZ_RkapeK",
    "outputId": "0f9f318a-e34a-40a4-b5a7-e004f5d3ae55",
    "papermill": {
     "duration": 0.054392,
     "end_time": "2020-10-03T12:18:37.547068",
     "exception": false,
     "start_time": "2020-10-03T12:18:37.492676",
     "status": "completed"
    },
    "tags": []
   },
   "outputs": [
    {
     "data": {
      "text/plain": [
       "(1563, 81)"
      ]
     },
     "execution_count": 15,
     "metadata": {},
     "output_type": "execute_result"
    }
   ],
   "source": [
    "cvmultidf.shape"
   ]
  },
  {
   "cell_type": "code",
   "execution_count": 16,
   "metadata": {
    "execution": {
     "iopub.execute_input": "2020-10-03T12:18:37.649451Z",
     "iopub.status.busy": "2020-10-03T12:18:37.648545Z",
     "iopub.status.idle": "2020-10-03T12:18:38.069187Z",
     "shell.execute_reply": "2020-10-03T12:18:38.068578Z"
    },
    "id": "Ml0cOSOEasCK",
    "outputId": "e6060ca3-f9f5-4e8c-a168-8887b04ffc17",
    "papermill": {
     "duration": 0.474913,
     "end_time": "2020-10-03T12:18:38.069323",
     "exception": false,
     "start_time": "2020-10-03T12:18:37.594410",
     "status": "completed"
    },
    "tags": []
   },
   "outputs": [
    {
     "name": "stdout",
     "output_type": "stream",
     "text": [
      "Found 1563 validated image filenames.\n"
     ]
    }
   ],
   "source": [
    "valid_datagen=ImageDataGenerator(rescale=1./255.)\n",
    "\n",
    "valid_generator=valid_datagen.flow_from_dataframe(\n",
    "    dataframe=cvmultidf,\n",
    "    directory=\"../input/sc2-total-aug-noisy-data/Total images Bucket Curated/Total images Bucket Curated\",\n",
    "    x_col=\"fname\",\n",
    "    y_col=list(mlb_train.classes_),\n",
    "   # subset=\"validation\",\n",
    "    batch_size=64,\n",
    "    seed=42,\n",
    "    shuffle=False,#shuffle=True,\n",
    "    class_mode=\"raw\",\n",
    "    color_mode=\"grayscale\",\n",
    "    target_size=(128,128))"
   ]
  },
  {
   "cell_type": "code",
   "execution_count": 17,
   "metadata": {
    "execution": {
     "iopub.execute_input": "2020-10-03T12:18:38.175396Z",
     "iopub.status.busy": "2020-10-03T12:18:38.174520Z",
     "iopub.status.idle": "2020-10-03T12:18:38.537823Z",
     "shell.execute_reply": "2020-10-03T12:18:38.538337Z"
    },
    "id": "vJ9HZWmNay8K",
    "outputId": "1b85a1e9-8927-4008-d7b2-c7e526ce725e",
    "papermill": {
     "duration": 0.418635,
     "end_time": "2020-10-03T12:18:38.538526",
     "exception": false,
     "start_time": "2020-10-03T12:18:38.119891",
     "status": "completed"
    },
    "tags": []
   },
   "outputs": [
    {
     "name": "stdout",
     "output_type": "stream",
     "text": [
      "Found 1380 validated image filenames.\n"
     ]
    }
   ],
   "source": [
    "test_datagen=ImageDataGenerator(rescale=1./255.)\n",
    "test_generator=test_datagen.flow_from_dataframe(\n",
    "    dataframe=testmultidf,\n",
    "    directory=\"../input/sc2-total-aug-noisy-data/Total images Bucket Curated/Total images Bucket Curated\",\n",
    "    x_col=\"fname\",\n",
    "    y_col=None,\n",
    "    batch_size=64,\n",
    "    seed=42,\n",
    "    shuffle=False,#shuffle=False,\n",
    "    class_mode=None,\n",
    "    color_mode=\"grayscale\",\n",
    "    target_size=(128,128))\n",
    "STEP_SIZE_TEST=test_generator.n//test_generator.batch_size"
   ]
  },
  {
   "cell_type": "code",
   "execution_count": 18,
   "metadata": {
    "execution": {
     "iopub.execute_input": "2020-10-03T12:18:38.645348Z",
     "iopub.status.busy": "2020-10-03T12:18:38.644425Z",
     "iopub.status.idle": "2020-10-03T12:18:38.658132Z",
     "shell.execute_reply": "2020-10-03T12:18:38.657552Z"
    },
    "id": "H8D4GwERoIKQ",
    "outputId": "7093389e-1007-4454-b118-7d0076045a0f",
    "papermill": {
     "duration": 0.071292,
     "end_time": "2020-10-03T12:18:38.658252",
     "exception": false,
     "start_time": "2020-10-03T12:18:38.586960",
     "status": "completed"
    },
    "tags": []
   },
   "outputs": [
    {
     "data": {
      "text/html": [
       "<div>\n",
       "<style scoped>\n",
       "    .dataframe tbody tr th:only-of-type {\n",
       "        vertical-align: middle;\n",
       "    }\n",
       "\n",
       "    .dataframe tbody tr th {\n",
       "        vertical-align: top;\n",
       "    }\n",
       "\n",
       "    .dataframe thead th {\n",
       "        text-align: right;\n",
       "    }\n",
       "</style>\n",
       "<table border=\"1\" class=\"dataframe\">\n",
       "  <thead>\n",
       "    <tr style=\"text-align: right;\">\n",
       "      <th></th>\n",
       "      <th>Accelerating_and_revving_and_vroom</th>\n",
       "      <th>Accordion</th>\n",
       "      <th>Acoustic_guitar</th>\n",
       "      <th>Applause</th>\n",
       "      <th>Bark</th>\n",
       "      <th>Bass_drum</th>\n",
       "      <th>Bass_guitar</th>\n",
       "      <th>Bathtub_(filling_or_washing)</th>\n",
       "      <th>Bicycle_bell</th>\n",
       "      <th>Burping_and_eructation</th>\n",
       "      <th>...</th>\n",
       "      <th>Traffic_noise_and_roadway_noise</th>\n",
       "      <th>Trickle_and_dribble</th>\n",
       "      <th>Walk_and_footsteps</th>\n",
       "      <th>Water_tap_and_faucet</th>\n",
       "      <th>Waves_and_surf</th>\n",
       "      <th>Whispering</th>\n",
       "      <th>Writing</th>\n",
       "      <th>Yell</th>\n",
       "      <th>Zipper_(clothing)</th>\n",
       "      <th>fname</th>\n",
       "    </tr>\n",
       "  </thead>\n",
       "  <tbody>\n",
       "    <tr>\n",
       "      <th>0</th>\n",
       "      <td>0</td>\n",
       "      <td>0</td>\n",
       "      <td>0</td>\n",
       "      <td>0</td>\n",
       "      <td>0</td>\n",
       "      <td>0</td>\n",
       "      <td>1</td>\n",
       "      <td>0</td>\n",
       "      <td>0</td>\n",
       "      <td>0</td>\n",
       "      <td>...</td>\n",
       "      <td>0</td>\n",
       "      <td>0</td>\n",
       "      <td>0</td>\n",
       "      <td>0</td>\n",
       "      <td>0</td>\n",
       "      <td>0</td>\n",
       "      <td>0</td>\n",
       "      <td>0</td>\n",
       "      <td>0</td>\n",
       "      <td>9a93c380.jpg</td>\n",
       "    </tr>\n",
       "    <tr>\n",
       "      <th>1</th>\n",
       "      <td>0</td>\n",
       "      <td>0</td>\n",
       "      <td>0</td>\n",
       "      <td>0</td>\n",
       "      <td>0</td>\n",
       "      <td>0</td>\n",
       "      <td>0</td>\n",
       "      <td>0</td>\n",
       "      <td>0</td>\n",
       "      <td>0</td>\n",
       "      <td>...</td>\n",
       "      <td>0</td>\n",
       "      <td>0</td>\n",
       "      <td>0</td>\n",
       "      <td>0</td>\n",
       "      <td>0</td>\n",
       "      <td>0</td>\n",
       "      <td>0</td>\n",
       "      <td>0</td>\n",
       "      <td>0</td>\n",
       "      <td>0ab47a4c.jpg</td>\n",
       "    </tr>\n",
       "    <tr>\n",
       "      <th>2</th>\n",
       "      <td>0</td>\n",
       "      <td>0</td>\n",
       "      <td>0</td>\n",
       "      <td>0</td>\n",
       "      <td>0</td>\n",
       "      <td>0</td>\n",
       "      <td>0</td>\n",
       "      <td>0</td>\n",
       "      <td>0</td>\n",
       "      <td>1</td>\n",
       "      <td>...</td>\n",
       "      <td>0</td>\n",
       "      <td>0</td>\n",
       "      <td>0</td>\n",
       "      <td>0</td>\n",
       "      <td>0</td>\n",
       "      <td>0</td>\n",
       "      <td>0</td>\n",
       "      <td>0</td>\n",
       "      <td>0</td>\n",
       "      <td>8f5bf633_aug.jpg</td>\n",
       "    </tr>\n",
       "    <tr>\n",
       "      <th>3</th>\n",
       "      <td>0</td>\n",
       "      <td>0</td>\n",
       "      <td>0</td>\n",
       "      <td>0</td>\n",
       "      <td>0</td>\n",
       "      <td>0</td>\n",
       "      <td>0</td>\n",
       "      <td>0</td>\n",
       "      <td>0</td>\n",
       "      <td>0</td>\n",
       "      <td>...</td>\n",
       "      <td>0</td>\n",
       "      <td>0</td>\n",
       "      <td>0</td>\n",
       "      <td>0</td>\n",
       "      <td>0</td>\n",
       "      <td>0</td>\n",
       "      <td>0</td>\n",
       "      <td>0</td>\n",
       "      <td>0</td>\n",
       "      <td>e07009c1.jpg</td>\n",
       "    </tr>\n",
       "    <tr>\n",
       "      <th>4</th>\n",
       "      <td>0</td>\n",
       "      <td>0</td>\n",
       "      <td>0</td>\n",
       "      <td>0</td>\n",
       "      <td>0</td>\n",
       "      <td>0</td>\n",
       "      <td>0</td>\n",
       "      <td>0</td>\n",
       "      <td>0</td>\n",
       "      <td>0</td>\n",
       "      <td>...</td>\n",
       "      <td>0</td>\n",
       "      <td>0</td>\n",
       "      <td>0</td>\n",
       "      <td>0</td>\n",
       "      <td>0</td>\n",
       "      <td>0</td>\n",
       "      <td>1</td>\n",
       "      <td>0</td>\n",
       "      <td>0</td>\n",
       "      <td>877562da_aug.jpg</td>\n",
       "    </tr>\n",
       "  </tbody>\n",
       "</table>\n",
       "<p>5 rows × 81 columns</p>\n",
       "</div>"
      ],
      "text/plain": [
       "   Accelerating_and_revving_and_vroom  Accordion  Acoustic_guitar  Applause  \\\n",
       "0                                   0          0                0         0   \n",
       "1                                   0          0                0         0   \n",
       "2                                   0          0                0         0   \n",
       "3                                   0          0                0         0   \n",
       "4                                   0          0                0         0   \n",
       "\n",
       "   Bark  Bass_drum  Bass_guitar  Bathtub_(filling_or_washing)  Bicycle_bell  \\\n",
       "0     0          0            1                             0             0   \n",
       "1     0          0            0                             0             0   \n",
       "2     0          0            0                             0             0   \n",
       "3     0          0            0                             0             0   \n",
       "4     0          0            0                             0             0   \n",
       "\n",
       "   Burping_and_eructation  ...  Traffic_noise_and_roadway_noise  \\\n",
       "0                       0  ...                                0   \n",
       "1                       0  ...                                0   \n",
       "2                       1  ...                                0   \n",
       "3                       0  ...                                0   \n",
       "4                       0  ...                                0   \n",
       "\n",
       "   Trickle_and_dribble  Walk_and_footsteps  Water_tap_and_faucet  \\\n",
       "0                    0                   0                     0   \n",
       "1                    0                   0                     0   \n",
       "2                    0                   0                     0   \n",
       "3                    0                   0                     0   \n",
       "4                    0                   0                     0   \n",
       "\n",
       "   Waves_and_surf  Whispering  Writing  Yell  Zipper_(clothing)  \\\n",
       "0               0           0        0     0                  0   \n",
       "1               0           0        0     0                  0   \n",
       "2               0           0        0     0                  0   \n",
       "3               0           0        0     0                  0   \n",
       "4               0           0        1     0                  0   \n",
       "\n",
       "              fname  \n",
       "0      9a93c380.jpg  \n",
       "1      0ab47a4c.jpg  \n",
       "2  8f5bf633_aug.jpg  \n",
       "3      e07009c1.jpg  \n",
       "4  877562da_aug.jpg  \n",
       "\n",
       "[5 rows x 81 columns]"
      ]
     },
     "execution_count": 18,
     "metadata": {},
     "output_type": "execute_result"
    }
   ],
   "source": [
    "cvmultidf.head()"
   ]
  },
  {
   "cell_type": "markdown",
   "metadata": {},
   "source": [
    "# Loading Custom Model and Training"
   ]
  },
  {
   "cell_type": "code",
   "execution_count": 19,
   "metadata": {
    "execution": {
     "iopub.execute_input": "2020-10-03T12:18:38.767793Z",
     "iopub.status.busy": "2020-10-03T12:18:38.767090Z",
     "iopub.status.idle": "2020-10-03T12:18:38.821553Z",
     "shell.execute_reply": "2020-10-03T12:18:38.820994Z"
    },
    "id": "t5F8tvzLa3SK",
    "papermill": {
     "duration": 0.11387,
     "end_time": "2020-10-03T12:18:38.821658",
     "exception": false,
     "start_time": "2020-10-03T12:18:38.707788",
     "status": "completed"
    },
    "tags": []
   },
   "outputs": [],
   "source": [
    "from sklearn import model_selection\n",
    "from tensorflow.keras.preprocessing.text import Tokenizer\n",
    "from tensorflow.keras.utils import to_categorical\n",
    "from tensorflow.keras.preprocessing.sequence import pad_sequences\n",
    "\n",
    "from tensorflow.keras.optimizers import RMSprop\n",
    "from tensorflow.keras.models import Model\n",
    "from tensorflow.keras.models import load_model\n",
    "\n",
    "import numpy as np\n",
    "from tensorflow.keras.models import Sequential\n",
    "from tensorflow.keras.preprocessing import sequence\n",
    "\n",
    "\n",
    "\n",
    "import tensorflow as tf\n",
    "from tensorflow.keras import models, layers\n",
    "from tensorflow.keras.models import Model\n",
    "from tensorflow.keras.optimizers import Adam\n",
    "\n",
    "from tensorflow.keras.layers import Dense, Flatten, LSTM, Conv2D, MaxPooling2D, Dropout, Activation, Input,BatchNormalization, AveragePooling2D,GlobalMaxPool2D,PReLU\n",
    "\n",
    "from tensorflow.keras.models import model_from_json  \n",
    "from tensorflow.keras.applications import DenseNet169\n",
    "\n",
    "from tensorflow.keras.callbacks import (ModelCheckpoint, LearningRateScheduler,\n",
    "                             EarlyStopping, ReduceLROnPlateau,CSVLogger)"
   ]
  },
  {
   "cell_type": "code",
   "execution_count": 20,
   "metadata": {
    "execution": {
     "iopub.execute_input": "2020-10-03T12:18:38.930422Z",
     "iopub.status.busy": "2020-10-03T12:18:38.929541Z",
     "iopub.status.idle": "2020-10-03T12:18:38.932077Z",
     "shell.execute_reply": "2020-10-03T12:18:38.932638Z"
    },
    "id": "pkma1Jy6a6l5",
    "papermill": {
     "duration": 0.060989,
     "end_time": "2020-10-03T12:18:38.932748",
     "exception": false,
     "start_time": "2020-10-03T12:18:38.871759",
     "status": "completed"
    },
    "tags": []
   },
   "outputs": [],
   "source": [
    "def convBlock(x, num_filter):\n",
    "                                     conv1 = Conv2D(num_filter,1,\n",
    "                                                    kernel_initializer=tf.keras.initializers.GlorotNormal(seed=42))(x)\n",
    "                                                    \n",
    "                                     conv1 = tf.keras.layers.LeakyReLU()(conv1)\n",
    "                                     \n",
    "                                     conv2 = Conv2D(num_filter,1,kernel_initializer=tf.keras.initializers.GlorotNormal(seed=48))(conv1)\n",
    "                                     conv2 = BatchNormalization()(conv2)\n",
    "                                     \n",
    "                                     conv2 = tf.keras.layers.LeakyReLU()(conv2)\n",
    "                                     \n",
    "                                     block_add = layers.add([conv2, conv1])\n",
    "                                     block_add = AveragePooling2D((2,2))(block_add)   \n",
    "\n",
    "\n",
    "                                     return block_add"
   ]
  },
  {
   "cell_type": "code",
   "execution_count": 21,
   "metadata": {
    "execution": {
     "iopub.execute_input": "2020-10-03T12:18:39.048157Z",
     "iopub.status.busy": "2020-10-03T12:18:39.047459Z",
     "iopub.status.idle": "2020-10-03T12:18:42.489404Z",
     "shell.execute_reply": "2020-10-03T12:18:42.488789Z"
    },
    "id": "gCVmZrO7a_qa",
    "papermill": {
     "duration": 3.501694,
     "end_time": "2020-10-03T12:18:42.489526",
     "exception": false,
     "start_time": "2020-10-03T12:18:38.987832",
     "status": "completed"
    },
    "tags": []
   },
   "outputs": [],
   "source": [
    "input = Input(shape=(128,128, 1))\n",
    "\n",
    "x = convBlock(input,32)\n",
    "x = convBlock(x,64)\n",
    "x = convBlock(x,128)\n",
    "x = convBlock(x,256)\n",
    "x = convBlock(x,512)\n",
    "\n",
    "x = BatchNormalization()(x)\n",
    "\n",
    "\n",
    "#https://stackoverflow.com/questions/52934764/keras-adaptive-max-pooling\n",
    "x = GlobalMaxPool2D()(x)\n",
    "x = Dense(1024)(x)\n",
    "x = PReLU()(x)\n",
    "#x= Dropout(0.1)(x)\n",
    "x = Dense(256)(x)\n",
    "#x = Activation('relu')(x)\n",
    "x = PReLU()(x)\n",
    "x= Dense(80)(x)\n",
    "output = Activation('sigmoid')(x)\n",
    "\n",
    "model = Model(inputs=input,outputs=output)\n"
   ]
  },
  {
   "cell_type": "markdown",
   "metadata": {
    "id": "-igFElH419dL",
    "papermill": {
     "duration": 0.050961,
     "end_time": "2020-10-03T12:18:42.591084",
     "exception": false,
     "start_time": "2020-10-03T12:18:42.540123",
     "status": "completed"
    },
    "tags": []
   },
   "source": [
    "## Training"
   ]
  },
  {
   "cell_type": "code",
   "execution_count": 22,
   "metadata": {
    "execution": {
     "iopub.execute_input": "2020-10-03T12:18:42.709192Z",
     "iopub.status.busy": "2020-10-03T12:18:42.708578Z",
     "iopub.status.idle": "2020-10-03T12:18:42.718339Z",
     "shell.execute_reply": "2020-10-03T12:18:42.717760Z"
    },
    "id": "rWRVnx0zz_mG",
    "papermill": {
     "duration": 0.074723,
     "end_time": "2020-10-03T12:18:42.718464",
     "exception": false,
     "start_time": "2020-10-03T12:18:42.643741",
     "status": "completed"
    },
    "tags": []
   },
   "outputs": [],
   "source": [
    "opt = tf.keras.optimizers.Adam(lr=0.0009)#tf.keras.optimizers.RMSprop(lr=0.3, decay=1e-6) \n",
    "model.compile(loss=  tf.keras.losses.BinaryCrossentropy(reduction=tf.keras.losses.Reduction.SUM,\n",
    "                                                        label_smoothing=0.7),#custom_loss_noisy_2,#custom_loss,#'categorical_crossentropy',\n",
    "              optimizer=opt,\n",
    "               metrics=['categorical_accuracy'])"
   ]
  },
  {
   "cell_type": "code",
   "execution_count": 23,
   "metadata": {
    "execution": {
     "iopub.execute_input": "2020-10-03T12:18:42.823998Z",
     "iopub.status.busy": "2020-10-03T12:18:42.823432Z",
     "iopub.status.idle": "2020-10-03T12:18:42.851432Z",
     "shell.execute_reply": "2020-10-03T12:18:42.850573Z"
    },
    "id": "xHHXlmxrBObq",
    "outputId": "28832a2c-2125-41a4-bacf-f6eac45f840c",
    "papermill": {
     "duration": 0.08357,
     "end_time": "2020-10-03T12:18:42.851537",
     "exception": false,
     "start_time": "2020-10-03T12:18:42.767967",
     "status": "completed"
    },
    "tags": []
   },
   "outputs": [
    {
     "data": {
      "text/plain": [
       "(1, 1, 1, 32)"
      ]
     },
     "execution_count": 23,
     "metadata": {},
     "output_type": "execute_result"
    }
   ],
   "source": [
    "model.get_weights()[0].shape"
   ]
  },
  {
   "cell_type": "code",
   "execution_count": 24,
   "metadata": {
    "execution": {
     "iopub.execute_input": "2020-10-03T12:18:42.955460Z",
     "iopub.status.busy": "2020-10-03T12:18:42.954763Z",
     "iopub.status.idle": "2020-10-03T12:18:42.959074Z",
     "shell.execute_reply": "2020-10-03T12:18:42.958613Z"
    },
    "id": "yPvkxuClbEf6",
    "outputId": "986699f6-34b5-483e-9bdf-822bc8c1b8ab",
    "papermill": {
     "duration": 0.057678,
     "end_time": "2020-10-03T12:18:42.959171",
     "exception": false,
     "start_time": "2020-10-03T12:18:42.901493",
     "status": "completed"
    },
    "tags": []
   },
   "outputs": [],
   "source": [
    "#model.summary()"
   ]
  },
  {
   "cell_type": "code",
   "execution_count": 25,
   "metadata": {
    "execution": {
     "iopub.execute_input": "2020-10-03T12:18:43.128005Z",
     "iopub.status.busy": "2020-10-03T12:18:43.126872Z",
     "iopub.status.idle": "2020-10-03T12:18:43.129749Z",
     "shell.execute_reply": "2020-10-03T12:18:43.128906Z"
    },
    "id": "Ny1ELGuV9CLQ",
    "papermill": {
     "duration": 0.090895,
     "end_time": "2020-10-03T12:18:43.129918",
     "exception": false,
     "start_time": "2020-10-03T12:18:43.039023",
     "status": "completed"
    },
    "tags": []
   },
   "outputs": [],
   "source": [
    "#tf.keras.utils.plot_model(model, 'discriminator.png', show_shapes=True)"
   ]
  },
  {
   "cell_type": "code",
   "execution_count": 26,
   "metadata": {
    "execution": {
     "iopub.execute_input": "2020-10-03T12:18:43.292299Z",
     "iopub.status.busy": "2020-10-03T12:18:43.291388Z",
     "iopub.status.idle": "2020-10-03T12:18:43.294051Z",
     "shell.execute_reply": "2020-10-03T12:18:43.295027Z"
    },
    "id": "Hs9u-idqbeiL",
    "papermill": {
     "duration": 0.086314,
     "end_time": "2020-10-03T12:18:43.295302",
     "exception": false,
     "start_time": "2020-10-03T12:18:43.208988",
     "status": "completed"
    },
    "tags": []
   },
   "outputs": [],
   "source": [
    "STEP_SIZE_TRAIN=train_generator.n//train_generator.batch_size\n",
    "STEP_SIZE_VALID=valid_generator.n//valid_generator.batch_size"
   ]
  },
  {
   "cell_type": "code",
   "execution_count": 27,
   "metadata": {
    "execution": {
     "iopub.execute_input": "2020-10-03T12:18:43.487882Z",
     "iopub.status.busy": "2020-10-03T12:18:43.486990Z",
     "iopub.status.idle": "2020-10-03T12:18:43.493598Z",
     "shell.execute_reply": "2020-10-03T12:18:43.492848Z"
    },
    "id": "Jjr_WMybA6XZ",
    "outputId": "a6d0c162-51bc-444b-c8e0-4b9962b1feef",
    "papermill": {
     "duration": 0.115987,
     "end_time": "2020-10-03T12:18:43.493732",
     "exception": false,
     "start_time": "2020-10-03T12:18:43.377745",
     "status": "completed"
    },
    "tags": []
   },
   "outputs": [
    {
     "data": {
      "text/plain": [
       "97"
      ]
     },
     "execution_count": 27,
     "metadata": {},
     "output_type": "execute_result"
    }
   ],
   "source": [
    "STEP_SIZE_TRAIN"
   ]
  },
  {
   "cell_type": "code",
   "execution_count": 28,
   "metadata": {
    "execution": {
     "iopub.execute_input": "2020-10-03T12:18:43.647658Z",
     "iopub.status.busy": "2020-10-03T12:18:43.646924Z",
     "iopub.status.idle": "2020-10-03T12:18:43.719645Z",
     "shell.execute_reply": "2020-10-03T12:18:43.718478Z"
    },
    "papermill": {
     "duration": 0.15123,
     "end_time": "2020-10-03T12:18:43.719770",
     "exception": false,
     "start_time": "2020-10-03T12:18:43.568540",
     "status": "completed"
    },
    "tags": []
   },
   "outputs": [],
   "source": [
    "model.load_weights(\"../input/sc2newfinalweights/Custom_2_total.best_weightsNoisy2BN.hdf5\")"
   ]
  },
  {
   "cell_type": "code",
   "execution_count": 29,
   "metadata": {
    "execution": {
     "iopub.execute_input": "2020-10-03T12:18:43.833656Z",
     "iopub.status.busy": "2020-10-03T12:18:43.832945Z",
     "iopub.status.idle": "2020-10-03T12:18:43.836535Z",
     "shell.execute_reply": "2020-10-03T12:18:43.836997Z"
    },
    "id": "7sBXMkLybjHp",
    "papermill": {
     "duration": 0.063723,
     "end_time": "2020-10-03T12:18:43.837128",
     "exception": false,
     "start_time": "2020-10-03T12:18:43.773405",
     "status": "completed"
    },
    "tags": []
   },
   "outputs": [],
   "source": [
    "csv_logger = CSVLogger(filename='training_log.csv',\n",
    "                       separator=',',\n",
    "                       append=True)\n",
    "#https://www.tensorflow.org/api_docs/python/tf/keras/callbacks/ReduceLROnPlateau\n",
    "reduceLROnPlat = ReduceLROnPlateau(monitor='loss', factor=0.6,\n",
    "                              patience=6, min_lr=0,verbose=1)\n",
    "\n",
    "\n",
    "model_checkpoint = ModelCheckpoint(\"total.best_weightsNoisy2BN.hdf5\", monitor='val_loss', mode='min', verbose=1, save_best_only=True)\n",
    "\n",
    "# fit model\n",
    "\n",
    "#es = tf.keras.callbacks.EarlyStopping(monitor='val_loss', mode='min', verbose=1, patience=20, min_delta=0.001 )\n",
    "es = tf.keras.callbacks.EarlyStopping(monitor='val_categorical_accuracy', mode='max', verbose=1, patience=40, min_delta=0.001 )"
   ]
  },
  {
   "cell_type": "code",
   "execution_count": 30,
   "metadata": {
    "execution": {
     "iopub.execute_input": "2020-10-03T12:18:43.956147Z",
     "iopub.status.busy": "2020-10-03T12:18:43.955365Z",
     "iopub.status.idle": "2020-10-03T12:18:43.958720Z",
     "shell.execute_reply": "2020-10-03T12:18:43.958196Z"
    },
    "id": "Wc40dl_zbvhk",
    "papermill": {
     "duration": 0.068066,
     "end_time": "2020-10-03T12:18:43.958833",
     "exception": false,
     "start_time": "2020-10-03T12:18:43.890767",
     "status": "completed"
    },
    "tags": []
   },
   "outputs": [],
   "source": [
    "import tensorflow as tf\n",
    "import datetime, os\n",
    "\n",
    "logdir = os.path.join(\"logs\", datetime.datetime.now().strftime(\"%Y%m%d-%H%M%S\"))\n",
    "tensorboard_callback = tf.keras.callbacks.TensorBoard(logdir, histogram_freq=1)\n",
    "callbacks_list = [model_checkpoint, csv_logger, reduceLROnPlat,tensorboard_callback,es]#es"
   ]
  },
  {
   "cell_type": "code",
   "execution_count": 31,
   "metadata": {
    "execution": {
     "iopub.execute_input": "2020-10-03T12:18:44.068653Z",
     "iopub.status.busy": "2020-10-03T12:18:44.067955Z",
     "iopub.status.idle": "2020-10-03T12:18:48.616771Z",
     "shell.execute_reply": "2020-10-03T12:18:48.616176Z"
    },
    "id": "OGiAJFTpcmDL",
    "outputId": "061499a4-65c3-4520-924f-05fdc91d06b2",
    "papermill": {
     "duration": 4.605717,
     "end_time": "2020-10-03T12:18:48.616906",
     "exception": false,
     "start_time": "2020-10-03T12:18:44.011189",
     "status": "completed"
    },
    "tags": []
   },
   "outputs": [
    {
     "data": {
      "text/html": [
       "\n",
       "      <iframe id=\"tensorboard-frame-971899cdec53c3d0\" width=\"100%\" height=\"800\" frameborder=\"0\">\n",
       "      </iframe>\n",
       "      <script>\n",
       "        (function() {\n",
       "          const frame = document.getElementById(\"tensorboard-frame-971899cdec53c3d0\");\n",
       "          const url = new URL(\"/\", window.location);\n",
       "          const port = 6006;\n",
       "          if (port) {\n",
       "            url.port = port;\n",
       "          }\n",
       "          frame.src = url;\n",
       "        })();\n",
       "      </script>\n",
       "    "
      ],
      "text/plain": [
       "<IPython.core.display.HTML object>"
      ]
     },
     "metadata": {},
     "output_type": "display_data"
    }
   ],
   "source": [
    "%load_ext tensorboard\n",
    "%tensorboard --logdir logs"
   ]
  },
  {
   "cell_type": "code",
   "execution_count": 32,
   "metadata": {
    "execution": {
     "iopub.execute_input": "2020-10-03T12:18:48.730714Z",
     "iopub.status.busy": "2020-10-03T12:18:48.729480Z",
     "iopub.status.idle": "2020-10-03T12:18:48.734407Z",
     "shell.execute_reply": "2020-10-03T12:18:48.733870Z"
    },
    "id": "ZiFqwN52i5ml",
    "outputId": "dd056941-fb6c-494c-e5f5-9fe279d521c6",
    "papermill": {
     "duration": 0.062453,
     "end_time": "2020-10-03T12:18:48.734514",
     "exception": false,
     "start_time": "2020-10-03T12:18:48.672061",
     "status": "completed"
    },
    "tags": []
   },
   "outputs": [
    {
     "data": {
      "text/plain": [
       "24"
      ]
     },
     "execution_count": 32,
     "metadata": {},
     "output_type": "execute_result"
    }
   ],
   "source": [
    "STEP_SIZE_VALID"
   ]
  },
  {
   "cell_type": "code",
   "execution_count": 33,
   "metadata": {
    "execution": {
     "iopub.execute_input": "2020-10-03T12:18:48.846540Z",
     "iopub.status.busy": "2020-10-03T12:18:48.845773Z",
     "iopub.status.idle": "2020-10-03T14:05:37.231956Z",
     "shell.execute_reply": "2020-10-03T14:05:37.230468Z"
    },
    "id": "ZrGneuQvbrKY",
    "outputId": "8b17a4d1-1b11-45ff-e7d7-c0c6ebfde83f",
    "papermill": {
     "duration": 6408.444349,
     "end_time": "2020-10-03T14:05:37.232083",
     "exception": false,
     "start_time": "2020-10-03T12:18:48.787734",
     "status": "completed"
    },
    "tags": []
   },
   "outputs": [
    {
     "name": "stdout",
     "output_type": "stream",
     "text": [
      "Epoch 1/300\n",
      "97/97 [==============================] - ETA: 0s - loss: 41.5528 - categorical_accuracy: 0.0205\n",
      "Epoch 00001: val_loss improved from inf to 41.67288, saving model to total.best_weightsNoisy2BN.hdf5\n",
      "97/97 [==============================] - 37s 384ms/step - loss: 41.5528 - categorical_accuracy: 0.0205 - val_loss: 41.6729 - val_categorical_accuracy: 0.0176\n",
      "Epoch 2/300\n",
      "97/97 [==============================] - ETA: 0s - loss: 41.5217 - categorical_accuracy: 0.0310\n",
      "Epoch 00002: val_loss did not improve from 41.67288\n",
      "97/97 [==============================] - 26s 266ms/step - loss: 41.5217 - categorical_accuracy: 0.0310 - val_loss: 41.7053 - val_categorical_accuracy: 0.0189\n",
      "Epoch 3/300\n",
      "97/97 [==============================] - ETA: 0s - loss: 41.5189 - categorical_accuracy: 0.0357\n",
      "Epoch 00003: val_loss improved from 41.67288 to 41.64147, saving model to total.best_weightsNoisy2BN.hdf5\n",
      "97/97 [==============================] - 26s 272ms/step - loss: 41.5189 - categorical_accuracy: 0.0357 - val_loss: 41.6415 - val_categorical_accuracy: 0.0267\n",
      "Epoch 4/300\n",
      "97/97 [==============================] - ETA: 0s - loss: 41.5172 - categorical_accuracy: 0.0307\n",
      "Epoch 00004: val_loss improved from 41.64147 to 41.62410, saving model to total.best_weightsNoisy2BN.hdf5\n",
      "97/97 [==============================] - 25s 259ms/step - loss: 41.5172 - categorical_accuracy: 0.0307 - val_loss: 41.6241 - val_categorical_accuracy: 0.0260\n",
      "Epoch 5/300\n",
      "97/97 [==============================] - ETA: 0s - loss: 41.5161 - categorical_accuracy: 0.0394\n",
      "Epoch 00005: val_loss did not improve from 41.62410\n",
      "97/97 [==============================] - 26s 270ms/step - loss: 41.5161 - categorical_accuracy: 0.0394 - val_loss: 41.6367 - val_categorical_accuracy: 0.0286\n",
      "Epoch 6/300\n",
      "97/97 [==============================] - ETA: 0s - loss: 41.5166 - categorical_accuracy: 0.0399\n",
      "Epoch 00006: val_loss improved from 41.62410 to 41.61873, saving model to total.best_weightsNoisy2BN.hdf5\n",
      "97/97 [==============================] - 26s 263ms/step - loss: 41.5166 - categorical_accuracy: 0.0399 - val_loss: 41.6187 - val_categorical_accuracy: 0.0228\n",
      "Epoch 7/300\n",
      "97/97 [==============================] - ETA: 0s - loss: 41.5170 - categorical_accuracy: 0.0419\n",
      "Epoch 00007: val_loss improved from 41.61873 to 41.61361, saving model to total.best_weightsNoisy2BN.hdf5\n",
      "97/97 [==============================] - 27s 276ms/step - loss: 41.5170 - categorical_accuracy: 0.0419 - val_loss: 41.6136 - val_categorical_accuracy: 0.0234\n",
      "Epoch 8/300\n",
      "97/97 [==============================] - ETA: 0s - loss: 41.5162 - categorical_accuracy: 0.0398\n",
      "Epoch 00008: val_loss did not improve from 41.61361\n",
      "97/97 [==============================] - 26s 265ms/step - loss: 41.5162 - categorical_accuracy: 0.0398 - val_loss: 41.6308 - val_categorical_accuracy: 0.0345\n",
      "Epoch 9/300\n",
      "97/97 [==============================] - ETA: 0s - loss: 41.5154 - categorical_accuracy: 0.0451\n",
      "Epoch 00009: val_loss improved from 41.61361 to 41.61276, saving model to total.best_weightsNoisy2BN.hdf5\n",
      "97/97 [==============================] - 27s 275ms/step - loss: 41.5154 - categorical_accuracy: 0.0451 - val_loss: 41.6128 - val_categorical_accuracy: 0.0365\n",
      "Epoch 10/300\n",
      "97/97 [==============================] - ETA: 0s - loss: 41.5144 - categorical_accuracy: 0.0457\n",
      "Epoch 00010: val_loss did not improve from 41.61276\n",
      "97/97 [==============================] - 25s 262ms/step - loss: 41.5144 - categorical_accuracy: 0.0457 - val_loss: 41.6169 - val_categorical_accuracy: 0.0339\n",
      "Epoch 11/300\n",
      "97/97 [==============================] - ETA: 0s - loss: 41.5134 - categorical_accuracy: 0.0469\n",
      "Epoch 00011: val_loss did not improve from 41.61276\n",
      "97/97 [==============================] - 26s 266ms/step - loss: 41.5134 - categorical_accuracy: 0.0469 - val_loss: 41.6227 - val_categorical_accuracy: 0.0365\n",
      "Epoch 12/300\n",
      "97/97 [==============================] - ETA: 0s - loss: 41.5129 - categorical_accuracy: 0.0444\n",
      "Epoch 00012: val_loss did not improve from 41.61276\n",
      "97/97 [==============================] - 26s 269ms/step - loss: 41.5129 - categorical_accuracy: 0.0444 - val_loss: 41.6141 - val_categorical_accuracy: 0.0332\n",
      "Epoch 13/300\n",
      "97/97 [==============================] - ETA: 0s - loss: 41.5128 - categorical_accuracy: 0.0487\n",
      "Epoch 00013: val_loss improved from 41.61276 to 41.61151, saving model to total.best_weightsNoisy2BN.hdf5\n",
      "97/97 [==============================] - 26s 269ms/step - loss: 41.5128 - categorical_accuracy: 0.0487 - val_loss: 41.6115 - val_categorical_accuracy: 0.0391\n",
      "Epoch 14/300\n",
      "97/97 [==============================] - ETA: 0s - loss: 41.5120 - categorical_accuracy: 0.0532\n",
      "Epoch 00014: val_loss did not improve from 41.61151\n",
      "97/97 [==============================] - 27s 277ms/step - loss: 41.5120 - categorical_accuracy: 0.0532 - val_loss: 41.6147 - val_categorical_accuracy: 0.0371\n",
      "Epoch 15/300\n",
      "97/97 [==============================] - ETA: 0s - loss: 41.5121 - categorical_accuracy: 0.0480\n",
      "Epoch 00015: val_loss did not improve from 41.61151\n",
      "97/97 [==============================] - 26s 269ms/step - loss: 41.5121 - categorical_accuracy: 0.0480 - val_loss: 41.6126 - val_categorical_accuracy: 0.0410\n",
      "Epoch 16/300\n",
      "97/97 [==============================] - ETA: 0s - loss: 41.5115 - categorical_accuracy: 0.0587\n",
      "Epoch 00016: val_loss did not improve from 41.61151\n",
      "97/97 [==============================] - 27s 276ms/step - loss: 41.5115 - categorical_accuracy: 0.0587 - val_loss: 41.6116 - val_categorical_accuracy: 0.0345\n",
      "Epoch 17/300\n",
      "97/97 [==============================] - ETA: 0s - loss: 41.5113 - categorical_accuracy: 0.0522\n",
      "Epoch 00017: val_loss did not improve from 41.61151\n",
      "97/97 [==============================] - 26s 266ms/step - loss: 41.5113 - categorical_accuracy: 0.0522 - val_loss: 41.6358 - val_categorical_accuracy: 0.0254\n",
      "Epoch 18/300\n",
      "97/97 [==============================] - ETA: 0s - loss: 41.5112 - categorical_accuracy: 0.0504\n",
      "Epoch 00018: val_loss did not improve from 41.61151\n",
      "97/97 [==============================] - 26s 273ms/step - loss: 41.5112 - categorical_accuracy: 0.0504 - val_loss: 41.6645 - val_categorical_accuracy: 0.0202\n",
      "Epoch 19/300\n",
      "97/97 [==============================] - ETA: 0s - loss: 41.5115 - categorical_accuracy: 0.0537\n",
      "Epoch 00019: val_loss did not improve from 41.61151\n",
      "97/97 [==============================] - 26s 266ms/step - loss: 41.5115 - categorical_accuracy: 0.0537 - val_loss: 41.6136 - val_categorical_accuracy: 0.0312\n",
      "Epoch 20/300\n",
      "97/97 [==============================] - ETA: 0s - loss: 41.6054 - categorical_accuracy: 0.0611\n",
      "Epoch 00020: val_loss did not improve from 41.61151\n",
      "97/97 [==============================] - 26s 267ms/step - loss: 41.6054 - categorical_accuracy: 0.0611 - val_loss: 41.6124 - val_categorical_accuracy: 0.0286\n",
      "Epoch 21/300\n",
      "97/97 [==============================] - ETA: 0s - loss: 41.5114 - categorical_accuracy: 0.0650\n",
      "Epoch 00021: val_loss improved from 41.61151 to 41.61119, saving model to total.best_weightsNoisy2BN.hdf5\n",
      "97/97 [==============================] - 26s 273ms/step - loss: 41.5114 - categorical_accuracy: 0.0650 - val_loss: 41.6112 - val_categorical_accuracy: 0.0456\n",
      "Epoch 22/300\n",
      "97/97 [==============================] - ETA: 0s - loss: 41.5105 - categorical_accuracy: 0.0616\n",
      "Epoch 00022: val_loss did not improve from 41.61119\n",
      "97/97 [==============================] - 26s 264ms/step - loss: 41.5105 - categorical_accuracy: 0.0616 - val_loss: 41.6134 - val_categorical_accuracy: 0.0365\n",
      "Epoch 23/300\n",
      "97/97 [==============================] - ETA: 0s - loss: 41.5095 - categorical_accuracy: 0.0590\n",
      "Epoch 00023: val_loss improved from 41.61119 to 41.60965, saving model to total.best_weightsNoisy2BN.hdf5\n",
      "97/97 [==============================] - 27s 281ms/step - loss: 41.5095 - categorical_accuracy: 0.0590 - val_loss: 41.6097 - val_categorical_accuracy: 0.0378\n",
      "Epoch 24/300\n",
      "97/97 [==============================] - ETA: 0s - loss: 41.5102 - categorical_accuracy: 0.0626\n",
      "Epoch 00024: val_loss did not improve from 41.60965\n",
      "97/97 [==============================] - 25s 256ms/step - loss: 41.5102 - categorical_accuracy: 0.0626 - val_loss: 41.6105 - val_categorical_accuracy: 0.0332\n",
      "Epoch 25/300\n",
      "97/97 [==============================] - ETA: 0s - loss: 41.5090 - categorical_accuracy: 0.0651\n",
      "Epoch 00025: val_loss did not improve from 41.60965\n",
      "97/97 [==============================] - 27s 277ms/step - loss: 41.5090 - categorical_accuracy: 0.0651 - val_loss: 41.6111 - val_categorical_accuracy: 0.0514\n",
      "Epoch 26/300\n",
      "97/97 [==============================] - ETA: 0s - loss: 41.5090 - categorical_accuracy: 0.0680\n",
      "Epoch 00026: val_loss did not improve from 41.60965\n",
      "97/97 [==============================] - 26s 267ms/step - loss: 41.5090 - categorical_accuracy: 0.0680 - val_loss: 41.6138 - val_categorical_accuracy: 0.0404\n",
      "Epoch 27/300\n",
      "97/97 [==============================] - ETA: 0s - loss: 41.5091 - categorical_accuracy: 0.0755\n",
      "Epoch 00027: val_loss did not improve from 41.60965\n",
      "97/97 [==============================] - 26s 263ms/step - loss: 41.5091 - categorical_accuracy: 0.0755 - val_loss: 41.6702 - val_categorical_accuracy: 0.0267\n",
      "Epoch 28/300\n",
      "97/97 [==============================] - ETA: 0s - loss: 41.5093 - categorical_accuracy: 0.0708\n",
      "Epoch 00028: val_loss did not improve from 41.60965\n",
      "97/97 [==============================] - 27s 275ms/step - loss: 41.5093 - categorical_accuracy: 0.0708 - val_loss: 41.6115 - val_categorical_accuracy: 0.0319\n",
      "Epoch 29/300\n",
      "97/97 [==============================] - ETA: 0s - loss: 41.5086 - categorical_accuracy: 0.0698\n",
      "Epoch 00029: val_loss did not improve from 41.60965\n",
      "97/97 [==============================] - 26s 272ms/step - loss: 41.5086 - categorical_accuracy: 0.0698 - val_loss: 41.6108 - val_categorical_accuracy: 0.0469\n",
      "Epoch 30/300\n",
      "97/97 [==============================] - ETA: 0s - loss: 41.5085 - categorical_accuracy: 0.0740\n",
      "Epoch 00030: val_loss did not improve from 41.60965\n",
      "97/97 [==============================] - 28s 284ms/step - loss: 41.5085 - categorical_accuracy: 0.0740 - val_loss: 41.6310 - val_categorical_accuracy: 0.0234\n",
      "Epoch 31/300\n",
      "97/97 [==============================] - ETA: 0s - loss: 41.5094 - categorical_accuracy: 0.0695\n",
      "Epoch 00031: val_loss did not improve from 41.60965\n",
      "97/97 [==============================] - 26s 273ms/step - loss: 41.5094 - categorical_accuracy: 0.0695 - val_loss: 41.6164 - val_categorical_accuracy: 0.0365\n",
      "Epoch 32/300\n",
      "97/97 [==============================] - ETA: 0s - loss: 41.5090 - categorical_accuracy: 0.0705\n",
      "Epoch 00032: val_loss did not improve from 41.60965\n",
      "97/97 [==============================] - 27s 280ms/step - loss: 41.5090 - categorical_accuracy: 0.0705 - val_loss: 41.6120 - val_categorical_accuracy: 0.0482\n",
      "Epoch 33/300\n",
      "97/97 [==============================] - ETA: 0s - loss: 41.5082 - categorical_accuracy: 0.0752\n",
      "Epoch 00033: val_loss did not improve from 41.60965\n",
      "97/97 [==============================] - 26s 269ms/step - loss: 41.5082 - categorical_accuracy: 0.0752 - val_loss: 41.6145 - val_categorical_accuracy: 0.0176\n",
      "Epoch 34/300\n",
      "97/97 [==============================] - ETA: 0s - loss: 41.5094 - categorical_accuracy: 0.0794\n",
      "Epoch 00034: val_loss did not improve from 41.60965\n",
      "97/97 [==============================] - 27s 281ms/step - loss: 41.5094 - categorical_accuracy: 0.0794 - val_loss: 41.8472 - val_categorical_accuracy: 0.0182\n",
      "Epoch 35/300\n",
      "97/97 [==============================] - ETA: 0s - loss: 41.5076 - categorical_accuracy: 0.0731\n",
      "Epoch 00035: val_loss did not improve from 41.60965\n",
      "97/97 [==============================] - 25s 258ms/step - loss: 41.5076 - categorical_accuracy: 0.0731 - val_loss: 41.6156 - val_categorical_accuracy: 0.0332\n",
      "Epoch 36/300\n",
      "97/97 [==============================] - ETA: 0s - loss: 41.5078 - categorical_accuracy: 0.0805\n",
      "Epoch 00036: val_loss did not improve from 41.60965\n",
      "97/97 [==============================] - 25s 262ms/step - loss: 41.5078 - categorical_accuracy: 0.0805 - val_loss: 41.6107 - val_categorical_accuracy: 0.0286\n",
      "Epoch 37/300\n",
      "97/97 [==============================] - ETA: 0s - loss: 41.5078 - categorical_accuracy: 0.0790\n",
      "Epoch 00037: val_loss did not improve from 41.60965\n",
      "97/97 [==============================] - 26s 268ms/step - loss: 41.5078 - categorical_accuracy: 0.0790 - val_loss: 41.6153 - val_categorical_accuracy: 0.0273\n",
      "Epoch 38/300\n",
      "97/97 [==============================] - ETA: 0s - loss: 41.5080 - categorical_accuracy: 0.0810\n",
      "Epoch 00038: val_loss did not improve from 41.60965\n",
      "97/97 [==============================] - 26s 264ms/step - loss: 41.5080 - categorical_accuracy: 0.0810 - val_loss: 41.6654 - val_categorical_accuracy: 0.0247\n",
      "Epoch 39/300\n",
      "97/97 [==============================] - ETA: 0s - loss: 41.5074 - categorical_accuracy: 0.0821\n",
      "Epoch 00039: val_loss did not improve from 41.60965\n",
      "97/97 [==============================] - 26s 271ms/step - loss: 41.5074 - categorical_accuracy: 0.0821 - val_loss: 41.6880 - val_categorical_accuracy: 0.0254\n",
      "Epoch 40/300\n",
      "97/97 [==============================] - ETA: 0s - loss: 41.5081 - categorical_accuracy: 0.0881\n",
      "Epoch 00040: val_loss improved from 41.60965 to 41.60816, saving model to total.best_weightsNoisy2BN.hdf5\n",
      "97/97 [==============================] - 25s 257ms/step - loss: 41.5081 - categorical_accuracy: 0.0881 - val_loss: 41.6082 - val_categorical_accuracy: 0.0358\n",
      "Epoch 41/300\n",
      "97/97 [==============================] - ETA: 0s - loss: 41.5070 - categorical_accuracy: 0.0837\n",
      "Epoch 00041: val_loss did not improve from 41.60816\n",
      "97/97 [==============================] - 26s 267ms/step - loss: 41.5070 - categorical_accuracy: 0.0837 - val_loss: 41.6091 - val_categorical_accuracy: 0.0456\n",
      "Epoch 42/300\n",
      "97/97 [==============================] - ETA: 0s - loss: 41.5076 - categorical_accuracy: 0.0852\n",
      "Epoch 00042: val_loss did not improve from 41.60816\n",
      "97/97 [==============================] - 25s 260ms/step - loss: 41.5076 - categorical_accuracy: 0.0852 - val_loss: 41.6367 - val_categorical_accuracy: 0.0273\n",
      "Epoch 43/300\n",
      "97/97 [==============================] - ETA: 0s - loss: 41.5074 - categorical_accuracy: 0.0886\n",
      "Epoch 00043: val_loss did not improve from 41.60816\n",
      "97/97 [==============================] - 27s 277ms/step - loss: 41.5074 - categorical_accuracy: 0.0886 - val_loss: 41.6107 - val_categorical_accuracy: 0.0521\n",
      "Epoch 44/300\n",
      "97/97 [==============================] - ETA: 0s - loss: 41.5069 - categorical_accuracy: 0.0858\n",
      "Epoch 00044: val_loss did not improve from 41.60816\n",
      "97/97 [==============================] - 26s 263ms/step - loss: 41.5069 - categorical_accuracy: 0.0858 - val_loss: 41.7591 - val_categorical_accuracy: 0.0234\n",
      "Epoch 45/300\n",
      "97/97 [==============================] - ETA: 0s - loss: 41.5063 - categorical_accuracy: 0.0933\n",
      "Epoch 00045: val_loss did not improve from 41.60816\n",
      "97/97 [==============================] - 25s 257ms/step - loss: 41.5063 - categorical_accuracy: 0.0933 - val_loss: 41.6094 - val_categorical_accuracy: 0.0658\n",
      "Epoch 46/300\n",
      "97/97 [==============================] - ETA: 0s - loss: 41.5068 - categorical_accuracy: 0.0895\n",
      "Epoch 00046: val_loss did not improve from 41.60816\n",
      "97/97 [==============================] - 27s 275ms/step - loss: 41.5068 - categorical_accuracy: 0.0895 - val_loss: 41.6103 - val_categorical_accuracy: 0.0540\n",
      "Epoch 47/300\n",
      "97/97 [==============================] - ETA: 0s - loss: 41.5065 - categorical_accuracy: 0.0905\n",
      "Epoch 00047: val_loss did not improve from 41.60816\n",
      "97/97 [==============================] - 26s 263ms/step - loss: 41.5065 - categorical_accuracy: 0.0905 - val_loss: 41.6622 - val_categorical_accuracy: 0.0195\n",
      "Epoch 48/300\n",
      "97/97 [==============================] - ETA: 0s - loss: 41.5205 - categorical_accuracy: 0.0706\n",
      "Epoch 00048: val_loss did not improve from 41.60816\n",
      "97/97 [==============================] - 27s 275ms/step - loss: 41.5205 - categorical_accuracy: 0.0706 - val_loss: 41.7602 - val_categorical_accuracy: 0.0247\n",
      "Epoch 49/300\n",
      "97/97 [==============================] - ETA: 0s - loss: 41.5139 - categorical_accuracy: 0.0422\n",
      "Epoch 00049: val_loss did not improve from 41.60816\n",
      "97/97 [==============================] - 26s 265ms/step - loss: 41.5139 - categorical_accuracy: 0.0422 - val_loss: 41.6201 - val_categorical_accuracy: 0.0306\n",
      "Epoch 50/300\n",
      "97/97 [==============================] - ETA: 0s - loss: 41.5112 - categorical_accuracy: 0.0572\n",
      "Epoch 00050: val_loss did not improve from 41.60816\n",
      "97/97 [==============================] - 26s 268ms/step - loss: 41.5112 - categorical_accuracy: 0.0572 - val_loss: 41.6131 - val_categorical_accuracy: 0.0397\n",
      "Epoch 51/300\n",
      "97/97 [==============================] - ETA: 0s - loss: 41.5104 - categorical_accuracy: 0.0601\n",
      "Epoch 00051: val_loss did not improve from 41.60816\n",
      "\n",
      "Epoch 00051: ReduceLROnPlateau reducing learning rate to 0.0005399999907240271.\n",
      "97/97 [==============================] - 25s 259ms/step - loss: 41.5104 - categorical_accuracy: 0.0601 - val_loss: 41.6104 - val_categorical_accuracy: 0.0417\n",
      "Epoch 52/300\n",
      "97/97 [==============================] - ETA: 0s - loss: 41.5088 - categorical_accuracy: 0.0616\n",
      "Epoch 00052: val_loss did not improve from 41.60816\n",
      "97/97 [==============================] - 26s 268ms/step - loss: 41.5088 - categorical_accuracy: 0.0616 - val_loss: 41.6088 - val_categorical_accuracy: 0.0436\n",
      "Epoch 53/300\n",
      "97/97 [==============================] - ETA: 0s - loss: 41.5080 - categorical_accuracy: 0.0647\n",
      "Epoch 00053: val_loss improved from 41.60816 to 41.60727, saving model to total.best_weightsNoisy2BN.hdf5\n",
      "97/97 [==============================] - 27s 278ms/step - loss: 41.5080 - categorical_accuracy: 0.0647 - val_loss: 41.6073 - val_categorical_accuracy: 0.0339\n",
      "Epoch 54/300\n",
      "97/97 [==============================] - ETA: 0s - loss: 41.5074 - categorical_accuracy: 0.0640\n",
      "Epoch 00054: val_loss did not improve from 41.60727\n",
      "97/97 [==============================] - 26s 268ms/step - loss: 41.5074 - categorical_accuracy: 0.0640 - val_loss: 41.6073 - val_categorical_accuracy: 0.0449\n",
      "Epoch 55/300\n",
      "97/97 [==============================] - ETA: 0s - loss: 41.5080 - categorical_accuracy: 0.0710\n",
      "Epoch 00055: val_loss did not improve from 41.60727\n",
      "97/97 [==============================] - 26s 267ms/step - loss: 41.5080 - categorical_accuracy: 0.0710 - val_loss: 41.6106 - val_categorical_accuracy: 0.0384\n",
      "Epoch 56/300\n",
      "97/97 [==============================] - ETA: 0s - loss: 41.5083 - categorical_accuracy: 0.0674\n",
      "Epoch 00056: val_loss did not improve from 41.60727\n",
      "97/97 [==============================] - 26s 269ms/step - loss: 41.5083 - categorical_accuracy: 0.0674 - val_loss: 41.6090 - val_categorical_accuracy: 0.0423\n",
      "Epoch 57/300\n",
      "97/97 [==============================] - ETA: 0s - loss: 41.5073 - categorical_accuracy: 0.0697\n",
      "Epoch 00057: val_loss did not improve from 41.60727\n",
      "\n",
      "Epoch 00057: ReduceLROnPlateau reducing learning rate to 0.00032399998744949695.\n",
      "97/97 [==============================] - 27s 279ms/step - loss: 41.5073 - categorical_accuracy: 0.0697 - val_loss: 41.6078 - val_categorical_accuracy: 0.0404\n",
      "Epoch 58/300\n",
      "97/97 [==============================] - ETA: 0s - loss: 41.5063 - categorical_accuracy: 0.0766\n",
      "Epoch 00058: val_loss did not improve from 41.60727\n",
      "97/97 [==============================] - 27s 274ms/step - loss: 41.5063 - categorical_accuracy: 0.0766 - val_loss: 41.6075 - val_categorical_accuracy: 0.0391\n",
      "Epoch 59/300\n",
      "97/97 [==============================] - ETA: 0s - loss: 41.5063 - categorical_accuracy: 0.0750\n",
      "Epoch 00059: val_loss did not improve from 41.60727\n",
      "97/97 [==============================] - 27s 276ms/step - loss: 41.5063 - categorical_accuracy: 0.0750 - val_loss: 41.6081 - val_categorical_accuracy: 0.0449\n",
      "Epoch 60/300\n",
      "97/97 [==============================] - ETA: 0s - loss: 41.5065 - categorical_accuracy: 0.0773\n",
      "Epoch 00060: val_loss did not improve from 41.60727\n",
      "97/97 [==============================] - 25s 259ms/step - loss: 41.5065 - categorical_accuracy: 0.0773 - val_loss: 41.6110 - val_categorical_accuracy: 0.0404\n",
      "Epoch 61/300\n",
      "97/97 [==============================] - ETA: 0s - loss: 41.5060 - categorical_accuracy: 0.0797\n",
      "Epoch 00061: val_loss improved from 41.60727 to 41.60634, saving model to total.best_weightsNoisy2BN.hdf5\n",
      "97/97 [==============================] - 27s 278ms/step - loss: 41.5060 - categorical_accuracy: 0.0797 - val_loss: 41.6063 - val_categorical_accuracy: 0.0508\n",
      "Epoch 62/300\n",
      "97/97 [==============================] - ETA: 0s - loss: 41.5059 - categorical_accuracy: 0.0761\n",
      "Epoch 00062: val_loss did not improve from 41.60634\n",
      "97/97 [==============================] - 27s 275ms/step - loss: 41.5059 - categorical_accuracy: 0.0761 - val_loss: 41.6067 - val_categorical_accuracy: 0.0456\n",
      "Epoch 63/300\n",
      "97/97 [==============================] - ETA: 0s - loss: 41.5061 - categorical_accuracy: 0.0816\n",
      "Epoch 00063: val_loss did not improve from 41.60634\n",
      "97/97 [==============================] - 26s 269ms/step - loss: 41.5061 - categorical_accuracy: 0.0816 - val_loss: 41.6069 - val_categorical_accuracy: 0.0397\n",
      "Epoch 64/300\n",
      "97/97 [==============================] - ETA: 0s - loss: 41.5061 - categorical_accuracy: 0.0769\n",
      "Epoch 00064: val_loss did not improve from 41.60634\n",
      "97/97 [==============================] - 26s 266ms/step - loss: 41.5061 - categorical_accuracy: 0.0769 - val_loss: 41.6082 - val_categorical_accuracy: 0.0534\n",
      "Epoch 65/300\n",
      "97/97 [==============================] - ETA: 0s - loss: 41.5058 - categorical_accuracy: 0.0824\n",
      "Epoch 00065: val_loss did not improve from 41.60634\n",
      "97/97 [==============================] - 27s 274ms/step - loss: 41.5058 - categorical_accuracy: 0.0824 - val_loss: 41.6074 - val_categorical_accuracy: 0.0469\n",
      "Epoch 66/300\n",
      "97/97 [==============================] - ETA: 0s - loss: 41.5058 - categorical_accuracy: 0.0928\n",
      "Epoch 00066: val_loss did not improve from 41.60634\n",
      "97/97 [==============================] - 27s 283ms/step - loss: 41.5058 - categorical_accuracy: 0.0928 - val_loss: 41.6094 - val_categorical_accuracy: 0.0384\n",
      "Epoch 67/300\n",
      "97/97 [==============================] - ETA: 0s - loss: 41.5053 - categorical_accuracy: 0.0844\n",
      "Epoch 00067: val_loss did not improve from 41.60634\n",
      "97/97 [==============================] - 27s 274ms/step - loss: 41.5053 - categorical_accuracy: 0.0844 - val_loss: 41.6066 - val_categorical_accuracy: 0.0508\n",
      "Epoch 68/300\n",
      "97/97 [==============================] - ETA: 0s - loss: 41.5055 - categorical_accuracy: 0.0892\n",
      "Epoch 00068: val_loss did not improve from 41.60634\n",
      "97/97 [==============================] - 27s 281ms/step - loss: 41.5055 - categorical_accuracy: 0.0892 - val_loss: 41.6065 - val_categorical_accuracy: 0.0527\n",
      "Epoch 69/300\n",
      "97/97 [==============================] - ETA: 0s - loss: 41.5054 - categorical_accuracy: 0.0915\n",
      "Epoch 00069: val_loss did not improve from 41.60634\n",
      "97/97 [==============================] - 25s 253ms/step - loss: 41.5054 - categorical_accuracy: 0.0915 - val_loss: 41.6071 - val_categorical_accuracy: 0.0508\n",
      "Epoch 70/300\n",
      "97/97 [==============================] - ETA: 0s - loss: 41.5056 - categorical_accuracy: 0.0897\n",
      "Epoch 00070: val_loss did not improve from 41.60634\n",
      "97/97 [==============================] - 27s 279ms/step - loss: 41.5056 - categorical_accuracy: 0.0897 - val_loss: 41.6071 - val_categorical_accuracy: 0.0482\n",
      "Epoch 71/300\n",
      "97/97 [==============================] - ETA: 0s - loss: 41.5053 - categorical_accuracy: 0.0863\n",
      "Epoch 00071: val_loss did not improve from 41.60634\n",
      "97/97 [==============================] - 27s 277ms/step - loss: 41.5053 - categorical_accuracy: 0.0863 - val_loss: 41.6072 - val_categorical_accuracy: 0.0469\n",
      "Epoch 72/300\n",
      "97/97 [==============================] - ETA: 0s - loss: 41.5049 - categorical_accuracy: 0.0983\n",
      "Epoch 00072: val_loss did not improve from 41.60634\n",
      "97/97 [==============================] - 27s 275ms/step - loss: 41.5049 - categorical_accuracy: 0.0983 - val_loss: 41.6068 - val_categorical_accuracy: 0.0508\n",
      "Epoch 73/300\n",
      "97/97 [==============================] - ETA: 0s - loss: 41.5050 - categorical_accuracy: 0.0852\n",
      "Epoch 00073: val_loss did not improve from 41.60634\n",
      "97/97 [==============================] - 26s 268ms/step - loss: 41.5050 - categorical_accuracy: 0.0852 - val_loss: 41.6064 - val_categorical_accuracy: 0.0547\n",
      "Epoch 74/300\n",
      "97/97 [==============================] - ETA: 0s - loss: 41.5053 - categorical_accuracy: 0.0942\n",
      "Epoch 00074: val_loss did not improve from 41.60634\n",
      "97/97 [==============================] - 27s 273ms/step - loss: 41.5053 - categorical_accuracy: 0.0942 - val_loss: 41.6070 - val_categorical_accuracy: 0.0495\n",
      "Epoch 75/300\n",
      "97/97 [==============================] - ETA: 0s - loss: 41.5047 - categorical_accuracy: 0.0931\n",
      "Epoch 00075: val_loss did not improve from 41.60634\n",
      "97/97 [==============================] - 27s 283ms/step - loss: 41.5047 - categorical_accuracy: 0.0931 - val_loss: 41.6099 - val_categorical_accuracy: 0.0430\n",
      "Epoch 76/300\n",
      "97/97 [==============================] - ETA: 0s - loss: 41.5049 - categorical_accuracy: 0.0984\n",
      "Epoch 00076: val_loss did not improve from 41.60634\n",
      "97/97 [==============================] - 27s 275ms/step - loss: 41.5049 - categorical_accuracy: 0.0984 - val_loss: 41.6205 - val_categorical_accuracy: 0.0260\n",
      "Epoch 77/300\n",
      "97/97 [==============================] - ETA: 0s - loss: 41.5048 - categorical_accuracy: 0.1036\n",
      "Epoch 00077: val_loss did not improve from 41.60634\n",
      "97/97 [==============================] - 26s 264ms/step - loss: 41.5048 - categorical_accuracy: 0.1036 - val_loss: 41.6076 - val_categorical_accuracy: 0.0488\n",
      "Epoch 78/300\n",
      "97/97 [==============================] - ETA: 0s - loss: 41.5046 - categorical_accuracy: 0.1000\n",
      "Epoch 00078: val_loss did not improve from 41.60634\n",
      "97/97 [==============================] - 26s 271ms/step - loss: 41.5046 - categorical_accuracy: 0.1000 - val_loss: 41.6063 - val_categorical_accuracy: 0.0716\n",
      "Epoch 79/300\n",
      "97/97 [==============================] - ETA: 0s - loss: 41.5049 - categorical_accuracy: 0.1021\n",
      "Epoch 00079: val_loss did not improve from 41.60634\n",
      "97/97 [==============================] - 28s 284ms/step - loss: 41.5049 - categorical_accuracy: 0.1021 - val_loss: 41.6065 - val_categorical_accuracy: 0.0579\n",
      "Epoch 80/300\n",
      "97/97 [==============================] - ETA: 0s - loss: 41.5045 - categorical_accuracy: 0.0968\n",
      "Epoch 00080: val_loss improved from 41.60634 to 41.60609, saving model to total.best_weightsNoisy2BN.hdf5\n",
      "97/97 [==============================] - 27s 278ms/step - loss: 41.5045 - categorical_accuracy: 0.0968 - val_loss: 41.6061 - val_categorical_accuracy: 0.0566\n",
      "Epoch 81/300\n",
      "97/97 [==============================] - ETA: 0s - loss: 41.5045 - categorical_accuracy: 0.1030\n",
      "Epoch 00081: val_loss did not improve from 41.60609\n",
      "97/97 [==============================] - 25s 257ms/step - loss: 41.5045 - categorical_accuracy: 0.1030 - val_loss: 41.6166 - val_categorical_accuracy: 0.0352\n",
      "Epoch 82/300\n",
      "97/97 [==============================] - ETA: 0s - loss: 41.5043 - categorical_accuracy: 0.0986\n",
      "Epoch 00082: val_loss did not improve from 41.60609\n",
      "97/97 [==============================] - 27s 281ms/step - loss: 41.5043 - categorical_accuracy: 0.0986 - val_loss: 41.6081 - val_categorical_accuracy: 0.0508\n",
      "Epoch 83/300\n",
      "97/97 [==============================] - ETA: 0s - loss: 41.5045 - categorical_accuracy: 0.1051\n",
      "Epoch 00083: val_loss did not improve from 41.60609\n",
      "97/97 [==============================] - 27s 275ms/step - loss: 41.5045 - categorical_accuracy: 0.1051 - val_loss: 41.6148 - val_categorical_accuracy: 0.0397\n",
      "Epoch 84/300\n",
      "97/97 [==============================] - ETA: 0s - loss: 41.5042 - categorical_accuracy: 0.1055\n",
      "Epoch 00084: val_loss did not improve from 41.60609\n",
      "97/97 [==============================] - 27s 282ms/step - loss: 41.5042 - categorical_accuracy: 0.1055 - val_loss: 41.6067 - val_categorical_accuracy: 0.0645\n",
      "Epoch 85/300\n",
      "97/97 [==============================] - ETA: 0s - loss: 41.5042 - categorical_accuracy: 0.1068\n",
      "Epoch 00085: val_loss did not improve from 41.60609\n",
      "97/97 [==============================] - 25s 259ms/step - loss: 41.5042 - categorical_accuracy: 0.1068 - val_loss: 41.6069 - val_categorical_accuracy: 0.0566\n",
      "Epoch 86/300\n",
      "97/97 [==============================] - ETA: 0s - loss: 41.5041 - categorical_accuracy: 0.1046\n",
      "Epoch 00086: val_loss did not improve from 41.60609\n",
      "97/97 [==============================] - 27s 282ms/step - loss: 41.5041 - categorical_accuracy: 0.1046 - val_loss: 41.6150 - val_categorical_accuracy: 0.0391\n",
      "Epoch 87/300\n",
      "97/97 [==============================] - ETA: 0s - loss: 41.5038 - categorical_accuracy: 0.1064\n",
      "Epoch 00087: val_loss did not improve from 41.60609\n",
      "97/97 [==============================] - 26s 271ms/step - loss: 41.5038 - categorical_accuracy: 0.1064 - val_loss: 41.6069 - val_categorical_accuracy: 0.0579\n",
      "Epoch 88/300\n",
      "97/97 [==============================] - ETA: 0s - loss: 41.5040 - categorical_accuracy: 0.1051\n",
      "Epoch 00088: val_loss did not improve from 41.60609\n",
      "97/97 [==============================] - 27s 283ms/step - loss: 41.5040 - categorical_accuracy: 0.1051 - val_loss: 41.6215 - val_categorical_accuracy: 0.0410\n",
      "Epoch 89/300\n",
      "97/97 [==============================] - ETA: 0s - loss: 41.5036 - categorical_accuracy: 0.1072\n",
      "Epoch 00089: val_loss did not improve from 41.60609\n",
      "97/97 [==============================] - 24s 251ms/step - loss: 41.5036 - categorical_accuracy: 0.1072 - val_loss: 41.6104 - val_categorical_accuracy: 0.0430\n",
      "Epoch 90/300\n",
      "97/97 [==============================] - ETA: 0s - loss: 41.5036 - categorical_accuracy: 0.1028\n",
      "Epoch 00090: val_loss did not improve from 41.60609\n",
      "97/97 [==============================] - 27s 280ms/step - loss: 41.5036 - categorical_accuracy: 0.1028 - val_loss: 41.6104 - val_categorical_accuracy: 0.0423\n",
      "Epoch 91/300\n",
      "97/97 [==============================] - ETA: 0s - loss: 41.5037 - categorical_accuracy: 0.1109\n",
      "Epoch 00091: val_loss did not improve from 41.60609\n",
      "97/97 [==============================] - 27s 277ms/step - loss: 41.5037 - categorical_accuracy: 0.1109 - val_loss: 41.6080 - val_categorical_accuracy: 0.0592\n",
      "Epoch 92/300\n",
      "97/97 [==============================] - ETA: 0s - loss: 41.5038 - categorical_accuracy: 0.1128\n",
      "Epoch 00092: val_loss did not improve from 41.60609\n",
      "97/97 [==============================] - 27s 277ms/step - loss: 41.5038 - categorical_accuracy: 0.1128 - val_loss: 41.6088 - val_categorical_accuracy: 0.0690\n",
      "Epoch 93/300\n",
      "97/97 [==============================] - ETA: 0s - loss: 41.5039 - categorical_accuracy: 0.1086\n",
      "Epoch 00093: val_loss did not improve from 41.60609\n",
      "97/97 [==============================] - 25s 262ms/step - loss: 41.5039 - categorical_accuracy: 0.1086 - val_loss: 41.6098 - val_categorical_accuracy: 0.0501\n",
      "Epoch 94/300\n",
      "97/97 [==============================] - ETA: 0s - loss: 41.5036 - categorical_accuracy: 0.1159\n",
      "Epoch 00094: val_loss did not improve from 41.60609\n",
      "97/97 [==============================] - 26s 273ms/step - loss: 41.5036 - categorical_accuracy: 0.1159 - val_loss: 41.6067 - val_categorical_accuracy: 0.0540\n",
      "Epoch 95/300\n",
      "97/97 [==============================] - ETA: 0s - loss: 41.5034 - categorical_accuracy: 0.1109\n",
      "Epoch 00095: val_loss did not improve from 41.60609\n",
      "97/97 [==============================] - 27s 281ms/step - loss: 41.5034 - categorical_accuracy: 0.1109 - val_loss: 41.6085 - val_categorical_accuracy: 0.0579\n",
      "Epoch 96/300\n",
      "97/97 [==============================] - ETA: 0s - loss: 41.5036 - categorical_accuracy: 0.1152\n",
      "Epoch 00096: val_loss did not improve from 41.60609\n",
      "97/97 [==============================] - 27s 275ms/step - loss: 41.5036 - categorical_accuracy: 0.1152 - val_loss: 41.6086 - val_categorical_accuracy: 0.0566\n",
      "Epoch 97/300\n",
      "97/97 [==============================] - ETA: 0s - loss: 41.5032 - categorical_accuracy: 0.1190\n",
      "Epoch 00097: val_loss did not improve from 41.60609\n",
      "97/97 [==============================] - 25s 262ms/step - loss: 41.5032 - categorical_accuracy: 0.1190 - val_loss: 41.6110 - val_categorical_accuracy: 0.0430\n",
      "Epoch 98/300\n",
      "97/97 [==============================] - ETA: 0s - loss: 41.5033 - categorical_accuracy: 0.1178\n",
      "Epoch 00098: val_loss did not improve from 41.60609\n",
      "97/97 [==============================] - 27s 275ms/step - loss: 41.5033 - categorical_accuracy: 0.1178 - val_loss: 41.6154 - val_categorical_accuracy: 0.0423\n",
      "Epoch 99/300\n",
      "97/97 [==============================] - ETA: 0s - loss: 41.5033 - categorical_accuracy: 0.1169\n",
      "Epoch 00099: val_loss did not improve from 41.60609\n",
      "97/97 [==============================] - 27s 279ms/step - loss: 41.5033 - categorical_accuracy: 0.1169 - val_loss: 41.6118 - val_categorical_accuracy: 0.0417\n",
      "Epoch 100/300\n",
      "97/97 [==============================] - ETA: 0s - loss: 41.5032 - categorical_accuracy: 0.1165\n",
      "Epoch 00100: val_loss did not improve from 41.60609\n",
      "97/97 [==============================] - 27s 279ms/step - loss: 41.5032 - categorical_accuracy: 0.1165 - val_loss: 41.6270 - val_categorical_accuracy: 0.0397\n",
      "Epoch 101/300\n",
      "97/97 [==============================] - ETA: 0s - loss: 41.5026 - categorical_accuracy: 0.1172\n",
      "Epoch 00101: val_loss did not improve from 41.60609\n",
      "97/97 [==============================] - 24s 250ms/step - loss: 41.5026 - categorical_accuracy: 0.1172 - val_loss: 41.6157 - val_categorical_accuracy: 0.0456\n",
      "Epoch 102/300\n",
      "97/97 [==============================] - ETA: 0s - loss: 41.5028 - categorical_accuracy: 0.1185\n",
      "Epoch 00102: val_loss did not improve from 41.60609\n",
      "97/97 [==============================] - 28s 284ms/step - loss: 41.5028 - categorical_accuracy: 0.1185 - val_loss: 41.6246 - val_categorical_accuracy: 0.0397\n",
      "Epoch 103/300\n",
      "97/97 [==============================] - ETA: 0s - loss: 41.5029 - categorical_accuracy: 0.1194\n",
      "Epoch 00103: val_loss did not improve from 41.60609\n",
      "97/97 [==============================] - 27s 274ms/step - loss: 41.5029 - categorical_accuracy: 0.1194 - val_loss: 41.6079 - val_categorical_accuracy: 0.0703\n",
      "Epoch 104/300\n",
      "97/97 [==============================] - ETA: 0s - loss: 41.5029 - categorical_accuracy: 0.1193\n",
      "Epoch 00104: val_loss did not improve from 41.60609\n",
      "97/97 [==============================] - 28s 285ms/step - loss: 41.5029 - categorical_accuracy: 0.1193 - val_loss: 41.6818 - val_categorical_accuracy: 0.0378\n",
      "Epoch 105/300\n",
      "97/97 [==============================] - ETA: 0s - loss: 41.5026 - categorical_accuracy: 0.1264\n",
      "Epoch 00105: val_loss did not improve from 41.60609\n",
      "97/97 [==============================] - 24s 251ms/step - loss: 41.5026 - categorical_accuracy: 0.1264 - val_loss: 41.6100 - val_categorical_accuracy: 0.0612\n",
      "Epoch 106/300\n",
      "97/97 [==============================] - ETA: 0s - loss: 41.5025 - categorical_accuracy: 0.1169\n",
      "Epoch 00106: val_loss did not improve from 41.60609\n",
      "97/97 [==============================] - 27s 282ms/step - loss: 41.5025 - categorical_accuracy: 0.1169 - val_loss: 41.6082 - val_categorical_accuracy: 0.0645\n",
      "Epoch 107/300\n",
      "97/97 [==============================] - ETA: 0s - loss: 41.5027 - categorical_accuracy: 0.1207\n",
      "Epoch 00107: val_loss did not improve from 41.60609\n",
      "97/97 [==============================] - 27s 277ms/step - loss: 41.5027 - categorical_accuracy: 0.1207 - val_loss: 41.6203 - val_categorical_accuracy: 0.0534\n",
      "Epoch 108/300\n",
      "97/97 [==============================] - ETA: 0s - loss: 41.5022 - categorical_accuracy: 0.1270\n",
      "Epoch 00108: val_loss did not improve from 41.60609\n",
      "97/97 [==============================] - 25s 253ms/step - loss: 41.5022 - categorical_accuracy: 0.1270 - val_loss: 41.6113 - val_categorical_accuracy: 0.0599\n",
      "Epoch 109/300\n",
      "97/97 [==============================] - ETA: 0s - loss: 41.5027 - categorical_accuracy: 0.1288\n",
      "Epoch 00109: val_loss did not improve from 41.60609\n",
      "97/97 [==============================] - 27s 283ms/step - loss: 41.5027 - categorical_accuracy: 0.1288 - val_loss: 41.6137 - val_categorical_accuracy: 0.0456\n",
      "Epoch 110/300\n",
      "97/97 [==============================] - ETA: 0s - loss: 41.5023 - categorical_accuracy: 0.1196\n",
      "Epoch 00110: val_loss did not improve from 41.60609\n",
      "97/97 [==============================] - 27s 277ms/step - loss: 41.5023 - categorical_accuracy: 0.1196 - val_loss: 41.6071 - val_categorical_accuracy: 0.0553\n",
      "Epoch 111/300\n",
      "97/97 [==============================] - ETA: 0s - loss: 41.5021 - categorical_accuracy: 0.1267\n",
      "Epoch 00111: val_loss did not improve from 41.60609\n",
      "97/97 [==============================] - 28s 288ms/step - loss: 41.5021 - categorical_accuracy: 0.1267 - val_loss: 41.6715 - val_categorical_accuracy: 0.0202\n",
      "Epoch 112/300\n",
      "97/97 [==============================] - ETA: 0s - loss: 41.5018 - categorical_accuracy: 0.1280\n",
      "Epoch 00112: val_loss did not improve from 41.60609\n",
      "97/97 [==============================] - 24s 251ms/step - loss: 41.5018 - categorical_accuracy: 0.1280 - val_loss: 41.6070 - val_categorical_accuracy: 0.0527\n",
      "Epoch 113/300\n",
      "97/97 [==============================] - ETA: 0s - loss: 41.5019 - categorical_accuracy: 0.1324\n",
      "Epoch 00113: val_loss did not improve from 41.60609\n",
      "97/97 [==============================] - 28s 292ms/step - loss: 41.5019 - categorical_accuracy: 0.1324 - val_loss: 41.6161 - val_categorical_accuracy: 0.0482\n",
      "Epoch 114/300\n",
      "97/97 [==============================] - ETA: 0s - loss: 41.5016 - categorical_accuracy: 0.1298\n",
      "Epoch 00114: val_loss did not improve from 41.60609\n",
      "97/97 [==============================] - 28s 286ms/step - loss: 41.5016 - categorical_accuracy: 0.1298 - val_loss: 41.6266 - val_categorical_accuracy: 0.0391\n",
      "Epoch 115/300\n",
      "97/97 [==============================] - ETA: 0s - loss: 41.5021 - categorical_accuracy: 0.1248\n",
      "Epoch 00115: val_loss did not improve from 41.60609\n",
      "97/97 [==============================] - 28s 293ms/step - loss: 41.5021 - categorical_accuracy: 0.1248 - val_loss: 41.6068 - val_categorical_accuracy: 0.0775\n",
      "Epoch 116/300\n",
      "97/97 [==============================] - ETA: 0s - loss: 41.5019 - categorical_accuracy: 0.1319\n",
      "Epoch 00116: val_loss did not improve from 41.60609\n",
      "97/97 [==============================] - 24s 252ms/step - loss: 41.5019 - categorical_accuracy: 0.1319 - val_loss: 41.6082 - val_categorical_accuracy: 0.0599\n",
      "Epoch 117/300\n",
      "97/97 [==============================] - ETA: 0s - loss: 41.5018 - categorical_accuracy: 0.1287\n",
      "Epoch 00117: val_loss did not improve from 41.60609\n",
      "97/97 [==============================] - 28s 288ms/step - loss: 41.5018 - categorical_accuracy: 0.1287 - val_loss: 41.6316 - val_categorical_accuracy: 0.0404\n",
      "Epoch 118/300\n",
      "97/97 [==============================] - ETA: 0s - loss: 41.5019 - categorical_accuracy: 0.1249\n",
      "Epoch 00118: val_loss did not improve from 41.60609\n",
      "97/97 [==============================] - 27s 280ms/step - loss: 41.5019 - categorical_accuracy: 0.1249 - val_loss: 41.6077 - val_categorical_accuracy: 0.0592\n",
      "Epoch 119/300\n",
      "97/97 [==============================] - ETA: 0s - loss: 41.5014 - categorical_accuracy: 0.1342\n",
      "Epoch 00119: val_loss did not improve from 41.60609\n",
      "97/97 [==============================] - 25s 260ms/step - loss: 41.5014 - categorical_accuracy: 0.1342 - val_loss: 41.6094 - val_categorical_accuracy: 0.0599\n",
      "Epoch 120/300\n",
      "97/97 [==============================] - ETA: 0s - loss: 41.5017 - categorical_accuracy: 0.1354\n",
      "Epoch 00120: val_loss improved from 41.60609 to 41.60562, saving model to total.best_weightsNoisy2BN.hdf5\n",
      "97/97 [==============================] - 28s 284ms/step - loss: 41.5017 - categorical_accuracy: 0.1354 - val_loss: 41.6056 - val_categorical_accuracy: 0.0671\n",
      "Epoch 121/300\n",
      "97/97 [==============================] - ETA: 0s - loss: 41.5016 - categorical_accuracy: 0.1295\n",
      "Epoch 00121: val_loss improved from 41.60562 to 41.60548, saving model to total.best_weightsNoisy2BN.hdf5\n",
      "97/97 [==============================] - 28s 289ms/step - loss: 41.5016 - categorical_accuracy: 0.1295 - val_loss: 41.6055 - val_categorical_accuracy: 0.0710\n",
      "Epoch 122/300\n",
      "97/97 [==============================] - ETA: 0s - loss: 41.5014 - categorical_accuracy: 0.1319\n",
      "Epoch 00122: val_loss did not improve from 41.60548\n",
      "97/97 [==============================] - 25s 262ms/step - loss: 41.5014 - categorical_accuracy: 0.1319 - val_loss: 41.6099 - val_categorical_accuracy: 0.0592\n",
      "Epoch 123/300\n",
      "97/97 [==============================] - ETA: 0s - loss: 41.5015 - categorical_accuracy: 0.1343\n",
      "Epoch 00123: val_loss did not improve from 41.60548\n",
      "97/97 [==============================] - 24s 251ms/step - loss: 41.5015 - categorical_accuracy: 0.1343 - val_loss: 41.6065 - val_categorical_accuracy: 0.0612\n",
      "Epoch 124/300\n",
      "97/97 [==============================] - ETA: 0s - loss: 41.5015 - categorical_accuracy: 0.1317\n",
      "Epoch 00124: val_loss did not improve from 41.60548\n",
      "97/97 [==============================] - 28s 291ms/step - loss: 41.5015 - categorical_accuracy: 0.1317 - val_loss: 41.6137 - val_categorical_accuracy: 0.0579\n",
      "Epoch 125/300\n",
      "97/97 [==============================] - ETA: 0s - loss: 41.5013 - categorical_accuracy: 0.1324\n",
      "Epoch 00125: val_loss did not improve from 41.60548\n",
      "97/97 [==============================] - 25s 253ms/step - loss: 41.5013 - categorical_accuracy: 0.1324 - val_loss: 41.6061 - val_categorical_accuracy: 0.0690\n",
      "Epoch 126/300\n",
      "97/97 [==============================] - ETA: 0s - loss: 41.5009 - categorical_accuracy: 0.1358\n",
      "Epoch 00126: val_loss did not improve from 41.60548\n",
      "97/97 [==============================] - 28s 292ms/step - loss: 41.5009 - categorical_accuracy: 0.1358 - val_loss: 41.6075 - val_categorical_accuracy: 0.0671\n",
      "Epoch 127/300\n",
      "97/97 [==============================] - ETA: 0s - loss: 41.5012 - categorical_accuracy: 0.1343\n",
      "Epoch 00127: val_loss did not improve from 41.60548\n",
      "97/97 [==============================] - 25s 253ms/step - loss: 41.5012 - categorical_accuracy: 0.1343 - val_loss: 41.6055 - val_categorical_accuracy: 0.0768\n",
      "Epoch 128/300\n",
      "97/97 [==============================] - ETA: 0s - loss: 41.5009 - categorical_accuracy: 0.1330\n",
      "Epoch 00128: val_loss did not improve from 41.60548\n",
      "97/97 [==============================] - 25s 256ms/step - loss: 41.5009 - categorical_accuracy: 0.1330 - val_loss: 41.6086 - val_categorical_accuracy: 0.0586\n",
      "Epoch 129/300\n",
      "97/97 [==============================] - ETA: 0s - loss: 41.5011 - categorical_accuracy: 0.1367\n",
      "Epoch 00129: val_loss did not improve from 41.60548\n",
      "97/97 [==============================] - 29s 302ms/step - loss: 41.5011 - categorical_accuracy: 0.1367 - val_loss: 41.6221 - val_categorical_accuracy: 0.0462\n",
      "Epoch 130/300\n",
      "97/97 [==============================] - ETA: 0s - loss: 41.5005 - categorical_accuracy: 0.1400\n",
      "Epoch 00130: val_loss did not improve from 41.60548\n",
      "97/97 [==============================] - 26s 268ms/step - loss: 41.5005 - categorical_accuracy: 0.1400 - val_loss: 41.6082 - val_categorical_accuracy: 0.0540\n",
      "Epoch 131/300\n",
      "97/97 [==============================] - ETA: 0s - loss: 41.5008 - categorical_accuracy: 0.1392\n",
      "Epoch 00131: val_loss improved from 41.60548 to 41.60540, saving model to total.best_weightsNoisy2BN.hdf5\n",
      "97/97 [==============================] - 31s 317ms/step - loss: 41.5008 - categorical_accuracy: 0.1392 - val_loss: 41.6054 - val_categorical_accuracy: 0.0677\n",
      "Epoch 132/300\n",
      "97/97 [==============================] - ETA: 0s - loss: 41.5004 - categorical_accuracy: 0.1345\n",
      "Epoch 00132: val_loss did not improve from 41.60540\n",
      "97/97 [==============================] - 26s 267ms/step - loss: 41.5004 - categorical_accuracy: 0.1345 - val_loss: 41.6068 - val_categorical_accuracy: 0.0651\n",
      "Epoch 133/300\n",
      "97/97 [==============================] - ETA: 0s - loss: 41.5008 - categorical_accuracy: 0.1377\n",
      "Epoch 00133: val_loss did not improve from 41.60540\n",
      "97/97 [==============================] - 26s 269ms/step - loss: 41.5008 - categorical_accuracy: 0.1377 - val_loss: 41.6293 - val_categorical_accuracy: 0.0443\n",
      "Epoch 134/300\n",
      "97/97 [==============================] - ETA: 0s - loss: 41.5008 - categorical_accuracy: 0.1406\n",
      "Epoch 00134: val_loss improved from 41.60540 to 41.60520, saving model to total.best_weightsNoisy2BN.hdf5\n",
      "97/97 [==============================] - 29s 300ms/step - loss: 41.5008 - categorical_accuracy: 0.1406 - val_loss: 41.6052 - val_categorical_accuracy: 0.0645\n",
      "Epoch 135/300\n",
      "97/97 [==============================] - ETA: 0s - loss: 41.5002 - categorical_accuracy: 0.1403\n",
      "Epoch 00135: val_loss did not improve from 41.60520\n",
      "97/97 [==============================] - 26s 267ms/step - loss: 41.5002 - categorical_accuracy: 0.1403 - val_loss: 41.6073 - val_categorical_accuracy: 0.0605\n",
      "Epoch 136/300\n",
      "97/97 [==============================] - ETA: 0s - loss: 41.5005 - categorical_accuracy: 0.1447\n",
      "Epoch 00136: val_loss did not improve from 41.60520\n",
      "97/97 [==============================] - 28s 292ms/step - loss: 41.5005 - categorical_accuracy: 0.1447 - val_loss: 41.6098 - val_categorical_accuracy: 0.0605\n",
      "Epoch 137/300\n",
      "97/97 [==============================] - ETA: 0s - loss: 41.5006 - categorical_accuracy: 0.1385\n",
      "Epoch 00137: val_loss did not improve from 41.60520\n",
      "97/97 [==============================] - 26s 265ms/step - loss: 41.5006 - categorical_accuracy: 0.1385 - val_loss: 41.6201 - val_categorical_accuracy: 0.0592\n",
      "Epoch 138/300\n",
      "97/97 [==============================] - ETA: 0s - loss: 41.5002 - categorical_accuracy: 0.1398\n",
      "Epoch 00138: val_loss did not improve from 41.60520\n",
      "97/97 [==============================] - 25s 255ms/step - loss: 41.5002 - categorical_accuracy: 0.1398 - val_loss: 41.6115 - val_categorical_accuracy: 0.0690\n",
      "Epoch 139/300\n",
      "97/97 [==============================] - ETA: 0s - loss: 41.5002 - categorical_accuracy: 0.1466\n",
      "Epoch 00139: val_loss did not improve from 41.60520\n",
      "97/97 [==============================] - 29s 297ms/step - loss: 41.5002 - categorical_accuracy: 0.1466 - val_loss: 41.7642 - val_categorical_accuracy: 0.0423\n",
      "Epoch 140/300\n",
      "97/97 [==============================] - ETA: 0s - loss: 41.5001 - categorical_accuracy: 0.1427\n",
      "Epoch 00140: val_loss did not improve from 41.60520\n",
      "97/97 [==============================] - 25s 261ms/step - loss: 41.5001 - categorical_accuracy: 0.1427 - val_loss: 41.6089 - val_categorical_accuracy: 0.0632\n",
      "Epoch 141/300\n",
      "97/97 [==============================] - ETA: 0s - loss: 41.5007 - categorical_accuracy: 0.1430\n",
      "Epoch 00141: val_loss did not improve from 41.60520\n",
      "97/97 [==============================] - 28s 293ms/step - loss: 41.5007 - categorical_accuracy: 0.1430 - val_loss: 41.6103 - val_categorical_accuracy: 0.0632\n",
      "Epoch 142/300\n",
      "97/97 [==============================] - ETA: 0s - loss: 41.5006 - categorical_accuracy: 0.1406\n",
      "Epoch 00142: val_loss did not improve from 41.60520\n",
      "97/97 [==============================] - 26s 269ms/step - loss: 41.5006 - categorical_accuracy: 0.1406 - val_loss: 41.6084 - val_categorical_accuracy: 0.0599\n",
      "Epoch 143/300\n",
      "97/97 [==============================] - ETA: 0s - loss: 41.5004 - categorical_accuracy: 0.1429\n",
      "Epoch 00143: val_loss did not improve from 41.60520\n",
      "97/97 [==============================] - 25s 257ms/step - loss: 41.5004 - categorical_accuracy: 0.1429 - val_loss: 41.6268 - val_categorical_accuracy: 0.0625\n",
      "Epoch 144/300\n",
      "97/97 [==============================] - ETA: 0s - loss: 41.4998 - categorical_accuracy: 0.1430\n",
      "Epoch 00144: val_loss did not improve from 41.60520\n",
      "97/97 [==============================] - 29s 302ms/step - loss: 41.4998 - categorical_accuracy: 0.1430 - val_loss: 41.6065 - val_categorical_accuracy: 0.0742\n",
      "Epoch 145/300\n",
      "97/97 [==============================] - ETA: 0s - loss: 41.4999 - categorical_accuracy: 0.1451\n",
      "Epoch 00145: val_loss did not improve from 41.60520\n",
      "97/97 [==============================] - 25s 257ms/step - loss: 41.4999 - categorical_accuracy: 0.1451 - val_loss: 41.6058 - val_categorical_accuracy: 0.0775\n",
      "Epoch 146/300\n",
      "97/97 [==============================] - ETA: 0s - loss: 41.4992 - categorical_accuracy: 0.1456\n",
      "Epoch 00146: val_loss did not improve from 41.60520\n",
      "97/97 [==============================] - 28s 291ms/step - loss: 41.4992 - categorical_accuracy: 0.1456 - val_loss: 41.6208 - val_categorical_accuracy: 0.0553\n",
      "Epoch 147/300\n",
      "97/97 [==============================] - ETA: 0s - loss: 41.4997 - categorical_accuracy: 0.1445\n",
      "Epoch 00147: val_loss did not improve from 41.60520\n",
      "97/97 [==============================] - 25s 263ms/step - loss: 41.4997 - categorical_accuracy: 0.1445 - val_loss: 41.6205 - val_categorical_accuracy: 0.0553\n",
      "Epoch 148/300\n",
      "97/97 [==============================] - ETA: 0s - loss: 41.4999 - categorical_accuracy: 0.1440\n",
      "Epoch 00148: val_loss did not improve from 41.60520\n",
      "97/97 [==============================] - 26s 264ms/step - loss: 41.4999 - categorical_accuracy: 0.1440 - val_loss: 41.6441 - val_categorical_accuracy: 0.0397\n",
      "Epoch 149/300\n",
      "97/97 [==============================] - ETA: 0s - loss: 41.4998 - categorical_accuracy: 0.1396\n",
      "Epoch 00149: val_loss did not improve from 41.60520\n",
      "97/97 [==============================] - 29s 295ms/step - loss: 41.4998 - categorical_accuracy: 0.1396 - val_loss: 41.6169 - val_categorical_accuracy: 0.0443\n",
      "Epoch 150/300\n",
      "97/97 [==============================] - ETA: 0s - loss: 41.4996 - categorical_accuracy: 0.1474\n",
      "Epoch 00150: val_loss improved from 41.60520 to 41.60376, saving model to total.best_weightsNoisy2BN.hdf5\n",
      "97/97 [==============================] - 25s 256ms/step - loss: 41.4996 - categorical_accuracy: 0.1474 - val_loss: 41.6038 - val_categorical_accuracy: 0.0801\n",
      "Epoch 151/300\n",
      "97/97 [==============================] - ETA: 0s - loss: 41.4993 - categorical_accuracy: 0.1489\n",
      "Epoch 00151: val_loss did not improve from 41.60376\n",
      "97/97 [==============================] - 26s 265ms/step - loss: 41.4993 - categorical_accuracy: 0.1489 - val_loss: 41.6120 - val_categorical_accuracy: 0.0560\n",
      "Epoch 152/300\n",
      "97/97 [==============================] - ETA: 0s - loss: 41.4996 - categorical_accuracy: 0.1490\n",
      "Epoch 00152: val_loss did not improve from 41.60376\n",
      "\n",
      "Epoch 00152: ReduceLROnPlateau reducing learning rate to 0.00019439999596215785.\n",
      "97/97 [==============================] - 29s 295ms/step - loss: 41.4996 - categorical_accuracy: 0.1490 - val_loss: 41.6073 - val_categorical_accuracy: 0.0671\n",
      "Epoch 153/300\n",
      "97/97 [==============================] - ETA: 0s - loss: 41.4989 - categorical_accuracy: 0.1581\n",
      "Epoch 00153: val_loss did not improve from 41.60376\n",
      "97/97 [==============================] - 26s 266ms/step - loss: 41.4989 - categorical_accuracy: 0.1581 - val_loss: 41.6063 - val_categorical_accuracy: 0.0755\n",
      "Epoch 154/300\n",
      "97/97 [==============================] - ETA: 0s - loss: 41.4985 - categorical_accuracy: 0.1576\n",
      "Epoch 00154: val_loss did not improve from 41.60376\n",
      "97/97 [==============================] - 29s 302ms/step - loss: 41.4985 - categorical_accuracy: 0.1576 - val_loss: 41.6094 - val_categorical_accuracy: 0.0592\n",
      "Epoch 155/300\n",
      "97/97 [==============================] - ETA: 0s - loss: 41.4985 - categorical_accuracy: 0.1558\n",
      "Epoch 00155: val_loss did not improve from 41.60376\n",
      "97/97 [==============================] - 26s 268ms/step - loss: 41.4985 - categorical_accuracy: 0.1558 - val_loss: 41.6055 - val_categorical_accuracy: 0.0788\n",
      "Epoch 156/300\n",
      "97/97 [==============================] - ETA: 0s - loss: 41.4983 - categorical_accuracy: 0.1529\n",
      "Epoch 00156: val_loss did not improve from 41.60376\n",
      "97/97 [==============================] - 25s 257ms/step - loss: 41.4983 - categorical_accuracy: 0.1529 - val_loss: 41.6389 - val_categorical_accuracy: 0.0469\n",
      "Epoch 157/300\n",
      "97/97 [==============================] - ETA: 0s - loss: 41.4985 - categorical_accuracy: 0.1560\n",
      "Epoch 00157: val_loss did not improve from 41.60376\n",
      "97/97 [==============================] - 30s 308ms/step - loss: 41.4985 - categorical_accuracy: 0.1560 - val_loss: 41.6060 - val_categorical_accuracy: 0.0710\n",
      "Epoch 158/300\n",
      "97/97 [==============================] - ETA: 0s - loss: 41.4983 - categorical_accuracy: 0.1502\n",
      "Epoch 00158: val_loss did not improve from 41.60376\n",
      "97/97 [==============================] - 25s 257ms/step - loss: 41.4983 - categorical_accuracy: 0.1502 - val_loss: 41.6091 - val_categorical_accuracy: 0.0566\n",
      "Epoch 159/300\n",
      "97/97 [==============================] - ETA: 0s - loss: 41.4981 - categorical_accuracy: 0.1602\n",
      "Epoch 00159: val_loss did not improve from 41.60376\n",
      "97/97 [==============================] - 29s 300ms/step - loss: 41.4981 - categorical_accuracy: 0.1602 - val_loss: 41.6445 - val_categorical_accuracy: 0.0475\n",
      "Epoch 160/300\n",
      "97/97 [==============================] - ETA: 0s - loss: 41.4980 - categorical_accuracy: 0.1602\n",
      "Epoch 00160: val_loss did not improve from 41.60376\n",
      "97/97 [==============================] - 26s 266ms/step - loss: 41.4980 - categorical_accuracy: 0.1602 - val_loss: 41.6081 - val_categorical_accuracy: 0.0697\n",
      "Epoch 161/300\n",
      "97/97 [==============================] - ETA: 0s - loss: 41.4980 - categorical_accuracy: 0.1539\n",
      "Epoch 00161: val_loss did not improve from 41.60376\n",
      "97/97 [==============================] - 24s 253ms/step - loss: 41.4980 - categorical_accuracy: 0.1539 - val_loss: 41.6051 - val_categorical_accuracy: 0.0807\n",
      "Epoch 162/300\n",
      "97/97 [==============================] - ETA: 0s - loss: 41.4980 - categorical_accuracy: 0.1566\n",
      "Epoch 00162: val_loss did not improve from 41.60376\n",
      "97/97 [==============================] - 29s 299ms/step - loss: 41.4980 - categorical_accuracy: 0.1566 - val_loss: 41.6126 - val_categorical_accuracy: 0.0605\n",
      "Epoch 163/300\n",
      "97/97 [==============================] - ETA: 0s - loss: 41.4978 - categorical_accuracy: 0.1582\n",
      "Epoch 00163: val_loss did not improve from 41.60376\n",
      "97/97 [==============================] - 24s 251ms/step - loss: 41.4978 - categorical_accuracy: 0.1582 - val_loss: 41.6041 - val_categorical_accuracy: 0.0872\n",
      "Epoch 164/300\n",
      "97/97 [==============================] - ETA: 0s - loss: 41.4977 - categorical_accuracy: 0.1613\n",
      "Epoch 00164: val_loss did not improve from 41.60376\n",
      "97/97 [==============================] - 25s 256ms/step - loss: 41.4977 - categorical_accuracy: 0.1613 - val_loss: 41.6052 - val_categorical_accuracy: 0.0768\n",
      "Epoch 165/300\n",
      "97/97 [==============================] - ETA: 0s - loss: 41.4979 - categorical_accuracy: 0.1573\n",
      "Epoch 00165: val_loss did not improve from 41.60376\n",
      "97/97 [==============================] - 28s 290ms/step - loss: 41.4979 - categorical_accuracy: 0.1573 - val_loss: 41.6078 - val_categorical_accuracy: 0.0684\n",
      "Epoch 166/300\n",
      "97/97 [==============================] - ETA: 0s - loss: 41.4979 - categorical_accuracy: 0.1584\n",
      "Epoch 00166: val_loss did not improve from 41.60376\n",
      "97/97 [==============================] - 25s 260ms/step - loss: 41.4979 - categorical_accuracy: 0.1584 - val_loss: 41.6183 - val_categorical_accuracy: 0.0514\n",
      "Epoch 167/300\n",
      "97/97 [==============================] - ETA: 0s - loss: 41.4976 - categorical_accuracy: 0.1607\n",
      "Epoch 00167: val_loss did not improve from 41.60376\n",
      "97/97 [==============================] - 29s 295ms/step - loss: 41.4976 - categorical_accuracy: 0.1607 - val_loss: 41.6056 - val_categorical_accuracy: 0.0775\n",
      "Epoch 168/300\n",
      "97/97 [==============================] - ETA: 0s - loss: 41.4977 - categorical_accuracy: 0.1616\n",
      "Epoch 00168: val_loss did not improve from 41.60376\n",
      "97/97 [==============================] - 25s 255ms/step - loss: 41.4977 - categorical_accuracy: 0.1616 - val_loss: 41.6062 - val_categorical_accuracy: 0.0866\n",
      "Epoch 169/300\n",
      "97/97 [==============================] - ETA: 0s - loss: 41.4974 - categorical_accuracy: 0.1608\n",
      "Epoch 00169: val_loss did not improve from 41.60376\n",
      "97/97 [==============================] - 24s 248ms/step - loss: 41.4974 - categorical_accuracy: 0.1608 - val_loss: 41.6054 - val_categorical_accuracy: 0.0794\n",
      "Epoch 170/300\n",
      "97/97 [==============================] - ETA: 0s - loss: 41.4976 - categorical_accuracy: 0.1615\n",
      "Epoch 00170: val_loss did not improve from 41.60376\n",
      "97/97 [==============================] - 28s 285ms/step - loss: 41.4976 - categorical_accuracy: 0.1615 - val_loss: 41.6047 - val_categorical_accuracy: 0.0885\n",
      "Epoch 171/300\n",
      "97/97 [==============================] - ETA: 0s - loss: 41.4976 - categorical_accuracy: 0.1662\n",
      "Epoch 00171: val_loss did not improve from 41.60376\n",
      "97/97 [==============================] - 25s 253ms/step - loss: 41.4976 - categorical_accuracy: 0.1662 - val_loss: 41.6059 - val_categorical_accuracy: 0.0846\n",
      "Epoch 172/300\n",
      "97/97 [==============================] - ETA: 0s - loss: 41.4976 - categorical_accuracy: 0.1647\n",
      "Epoch 00172: val_loss did not improve from 41.60376\n",
      "97/97 [==============================] - 24s 246ms/step - loss: 41.4976 - categorical_accuracy: 0.1647 - val_loss: 41.6052 - val_categorical_accuracy: 0.0827\n",
      "Epoch 173/300\n",
      "97/97 [==============================] - ETA: 0s - loss: 41.4974 - categorical_accuracy: 0.1623\n",
      "Epoch 00173: val_loss did not improve from 41.60376\n",
      "97/97 [==============================] - 30s 305ms/step - loss: 41.4974 - categorical_accuracy: 0.1623 - val_loss: 41.6051 - val_categorical_accuracy: 0.0853\n",
      "Epoch 174/300\n",
      "97/97 [==============================] - ETA: 0s - loss: 41.4980 - categorical_accuracy: 0.1637\n",
      "Epoch 00174: val_loss did not improve from 41.60376\n",
      "97/97 [==============================] - 24s 251ms/step - loss: 41.4980 - categorical_accuracy: 0.1637 - val_loss: 41.6072 - val_categorical_accuracy: 0.0749\n",
      "Epoch 175/300\n",
      "97/97 [==============================] - ETA: 0s - loss: 41.4973 - categorical_accuracy: 0.1631\n",
      "Epoch 00175: val_loss did not improve from 41.60376\n",
      "\n",
      "Epoch 00175: ReduceLROnPlateau reducing learning rate to 0.0001166399975772947.\n",
      "97/97 [==============================] - 29s 302ms/step - loss: 41.4973 - categorical_accuracy: 0.1631 - val_loss: 41.6077 - val_categorical_accuracy: 0.0664\n",
      "Epoch 176/300\n",
      "97/97 [==============================] - ETA: 0s - loss: 41.4970 - categorical_accuracy: 0.1691\n",
      "Epoch 00176: val_loss did not improve from 41.60376\n",
      "97/97 [==============================] - 25s 254ms/step - loss: 41.4970 - categorical_accuracy: 0.1691 - val_loss: 41.6127 - val_categorical_accuracy: 0.0697\n",
      "Epoch 177/300\n",
      "97/97 [==============================] - ETA: 0s - loss: 41.4970 - categorical_accuracy: 0.1670\n",
      "Epoch 00177: val_loss did not improve from 41.60376\n",
      "97/97 [==============================] - 26s 267ms/step - loss: 41.4970 - categorical_accuracy: 0.1670 - val_loss: 41.6049 - val_categorical_accuracy: 0.0885\n",
      "Epoch 178/300\n",
      "97/97 [==============================] - ETA: 0s - loss: 41.4965 - categorical_accuracy: 0.1715\n",
      "Epoch 00178: val_loss did not improve from 41.60376\n",
      "97/97 [==============================] - 31s 323ms/step - loss: 41.4965 - categorical_accuracy: 0.1715 - val_loss: 41.6045 - val_categorical_accuracy: 0.0820\n",
      "Epoch 179/300\n",
      "97/97 [==============================] - ETA: 0s - loss: 41.4969 - categorical_accuracy: 0.1668\n",
      "Epoch 00179: val_loss did not improve from 41.60376\n",
      "97/97 [==============================] - 26s 273ms/step - loss: 41.4969 - categorical_accuracy: 0.1668 - val_loss: 41.6058 - val_categorical_accuracy: 0.0866\n",
      "Epoch 180/300\n",
      "97/97 [==============================] - ETA: 0s - loss: 41.4967 - categorical_accuracy: 0.1668\n",
      "Epoch 00180: val_loss did not improve from 41.60376\n",
      "97/97 [==============================] - 30s 308ms/step - loss: 41.4967 - categorical_accuracy: 0.1668 - val_loss: 41.6043 - val_categorical_accuracy: 0.0859\n",
      "Epoch 181/300\n",
      "97/97 [==============================] - ETA: 0s - loss: 41.4966 - categorical_accuracy: 0.1642\n",
      "Epoch 00181: val_loss did not improve from 41.60376\n",
      "97/97 [==============================] - 26s 266ms/step - loss: 41.4966 - categorical_accuracy: 0.1642 - val_loss: 41.6077 - val_categorical_accuracy: 0.0827\n",
      "Epoch 182/300\n",
      "97/97 [==============================] - ETA: 0s - loss: 41.4964 - categorical_accuracy: 0.1700\n",
      "Epoch 00182: val_loss did not improve from 41.60376\n",
      "97/97 [==============================] - 26s 271ms/step - loss: 41.4964 - categorical_accuracy: 0.1700 - val_loss: 41.6055 - val_categorical_accuracy: 0.0827\n",
      "Epoch 183/300\n",
      "97/97 [==============================] - ETA: 0s - loss: 41.4966 - categorical_accuracy: 0.1670\n",
      "Epoch 00183: val_loss did not improve from 41.60376\n",
      "97/97 [==============================] - 29s 302ms/step - loss: 41.4966 - categorical_accuracy: 0.1670 - val_loss: 41.6110 - val_categorical_accuracy: 0.0762\n",
      "Epoch 184/300\n",
      "97/97 [==============================] - ETA: 0s - loss: 41.4962 - categorical_accuracy: 0.1738\n",
      "Epoch 00184: val_loss did not improve from 41.60376\n",
      "97/97 [==============================] - 26s 270ms/step - loss: 41.4962 - categorical_accuracy: 0.1738 - val_loss: 41.6072 - val_categorical_accuracy: 0.0781\n",
      "Epoch 185/300\n",
      "97/97 [==============================] - ETA: 0s - loss: 41.4965 - categorical_accuracy: 0.1778\n",
      "Epoch 00185: val_loss did not improve from 41.60376\n",
      "97/97 [==============================] - 25s 261ms/step - loss: 41.4965 - categorical_accuracy: 0.1778 - val_loss: 41.6062 - val_categorical_accuracy: 0.0879\n",
      "Epoch 186/300\n",
      "97/97 [==============================] - ETA: 0s - loss: 41.4966 - categorical_accuracy: 0.1687\n",
      "Epoch 00186: val_loss did not improve from 41.60376\n",
      "97/97 [==============================] - 30s 311ms/step - loss: 41.4966 - categorical_accuracy: 0.1687 - val_loss: 41.6061 - val_categorical_accuracy: 0.0833\n",
      "Epoch 187/300\n",
      "97/97 [==============================] - ETA: 0s - loss: 41.4967 - categorical_accuracy: 0.1741\n",
      "Epoch 00187: val_loss did not improve from 41.60376\n",
      "97/97 [==============================] - 25s 261ms/step - loss: 41.4967 - categorical_accuracy: 0.1741 - val_loss: 41.6232 - val_categorical_accuracy: 0.0592\n",
      "Epoch 188/300\n",
      "97/97 [==============================] - ETA: 0s - loss: 41.4966 - categorical_accuracy: 0.1728\n",
      "Epoch 00188: val_loss did not improve from 41.60376\n",
      "97/97 [==============================] - 31s 318ms/step - loss: 41.4966 - categorical_accuracy: 0.1728 - val_loss: 41.6162 - val_categorical_accuracy: 0.0677\n",
      "Epoch 189/300\n",
      "97/97 [==============================] - ETA: 0s - loss: 41.4965 - categorical_accuracy: 0.1683\n",
      "Epoch 00189: val_loss did not improve from 41.60376\n",
      "97/97 [==============================] - 25s 259ms/step - loss: 41.4965 - categorical_accuracy: 0.1683 - val_loss: 41.6057 - val_categorical_accuracy: 0.0879\n",
      "Epoch 190/300\n",
      "97/97 [==============================] - ETA: 0s - loss: 41.4960 - categorical_accuracy: 0.1718\n",
      "Epoch 00190: val_loss did not improve from 41.60376\n",
      "97/97 [==============================] - 25s 260ms/step - loss: 41.4960 - categorical_accuracy: 0.1718 - val_loss: 41.6044 - val_categorical_accuracy: 0.0892\n",
      "Epoch 191/300\n",
      "97/97 [==============================] - ETA: 0s - loss: 41.4959 - categorical_accuracy: 0.1747\n",
      "Epoch 00191: val_loss did not improve from 41.60376\n",
      "97/97 [==============================] - 30s 309ms/step - loss: 41.4959 - categorical_accuracy: 0.1747 - val_loss: 41.6064 - val_categorical_accuracy: 0.0736\n",
      "Epoch 192/300\n",
      "97/97 [==============================] - ETA: 0s - loss: 41.4958 - categorical_accuracy: 0.1710\n",
      "Epoch 00192: val_loss did not improve from 41.60376\n",
      "97/97 [==============================] - 25s 258ms/step - loss: 41.4958 - categorical_accuracy: 0.1710 - val_loss: 41.6064 - val_categorical_accuracy: 0.0827\n",
      "Epoch 193/300\n",
      "97/97 [==============================] - ETA: 0s - loss: 41.4959 - categorical_accuracy: 0.1687\n",
      "Epoch 00193: val_loss improved from 41.60376 to 41.60360, saving model to total.best_weightsNoisy2BN.hdf5\n",
      "97/97 [==============================] - 30s 306ms/step - loss: 41.4959 - categorical_accuracy: 0.1687 - val_loss: 41.6036 - val_categorical_accuracy: 0.0879\n",
      "Epoch 194/300\n",
      "97/97 [==============================] - ETA: 0s - loss: 41.4961 - categorical_accuracy: 0.1707\n",
      "Epoch 00194: val_loss did not improve from 41.60360\n",
      "97/97 [==============================] - 27s 278ms/step - loss: 41.4961 - categorical_accuracy: 0.1707 - val_loss: 41.6039 - val_categorical_accuracy: 0.0885\n",
      "Epoch 195/300\n",
      "97/97 [==============================] - ETA: 0s - loss: 41.4961 - categorical_accuracy: 0.1796\n",
      "Epoch 00195: val_loss did not improve from 41.60360\n",
      "97/97 [==============================] - 26s 273ms/step - loss: 41.4961 - categorical_accuracy: 0.1796 - val_loss: 41.6083 - val_categorical_accuracy: 0.0762\n",
      "Epoch 196/300\n",
      "97/97 [==============================] - ETA: 0s - loss: 41.4958 - categorical_accuracy: 0.1736\n",
      "Epoch 00196: val_loss did not improve from 41.60360\n",
      "97/97 [==============================] - 30s 306ms/step - loss: 41.4958 - categorical_accuracy: 0.1736 - val_loss: 41.6049 - val_categorical_accuracy: 0.0872\n",
      "Epoch 197/300\n",
      "97/97 [==============================] - ETA: 0s - loss: 41.4958 - categorical_accuracy: 0.1767\n",
      "Epoch 00197: val_loss improved from 41.60360 to 41.60358, saving model to total.best_weightsNoisy2BN.hdf5\n",
      "97/97 [==============================] - 26s 266ms/step - loss: 41.4958 - categorical_accuracy: 0.1767 - val_loss: 41.6036 - val_categorical_accuracy: 0.1022\n",
      "Epoch 198/300\n",
      "97/97 [==============================] - ETA: 0s - loss: 41.4959 - categorical_accuracy: 0.1804\n",
      "Epoch 00198: val_loss did not improve from 41.60358\n",
      "\n",
      "Epoch 00198: ReduceLROnPlateau reducing learning rate to 6.998399767326191e-05.\n",
      "97/97 [==============================] - 25s 256ms/step - loss: 41.4959 - categorical_accuracy: 0.1804 - val_loss: 41.6038 - val_categorical_accuracy: 0.0885\n",
      "Epoch 199/300\n",
      "97/97 [==============================] - ETA: 0s - loss: 41.4956 - categorical_accuracy: 0.1781\n",
      "Epoch 00199: val_loss did not improve from 41.60358\n",
      "97/97 [==============================] - 31s 319ms/step - loss: 41.4956 - categorical_accuracy: 0.1781 - val_loss: 41.6053 - val_categorical_accuracy: 0.0957\n",
      "Epoch 200/300\n",
      "97/97 [==============================] - ETA: 0s - loss: 41.4954 - categorical_accuracy: 0.1783\n",
      "Epoch 00200: val_loss did not improve from 41.60358\n",
      "97/97 [==============================] - 25s 260ms/step - loss: 41.4954 - categorical_accuracy: 0.1783 - val_loss: 41.6042 - val_categorical_accuracy: 0.0833\n",
      "Epoch 201/300\n",
      "97/97 [==============================] - ETA: 0s - loss: 41.4954 - categorical_accuracy: 0.1822\n",
      "Epoch 00201: val_loss did not improve from 41.60358\n",
      "97/97 [==============================] - 30s 311ms/step - loss: 41.4954 - categorical_accuracy: 0.1822 - val_loss: 41.6057 - val_categorical_accuracy: 0.0872\n",
      "Epoch 202/300\n",
      "97/97 [==============================] - ETA: 0s - loss: 41.4954 - categorical_accuracy: 0.1854\n",
      "Epoch 00202: val_loss did not improve from 41.60358\n",
      "97/97 [==============================] - 26s 263ms/step - loss: 41.4954 - categorical_accuracy: 0.1854 - val_loss: 41.6054 - val_categorical_accuracy: 0.0846\n",
      "Epoch 203/300\n",
      "97/97 [==============================] - ETA: 0s - loss: 41.4953 - categorical_accuracy: 0.1831\n",
      "Epoch 00203: val_loss did not improve from 41.60358\n",
      "97/97 [==============================] - 25s 256ms/step - loss: 41.4953 - categorical_accuracy: 0.1831 - val_loss: 41.6068 - val_categorical_accuracy: 0.0827\n",
      "Epoch 204/300\n",
      "97/97 [==============================] - ETA: 0s - loss: 41.4955 - categorical_accuracy: 0.1792\n",
      "Epoch 00204: val_loss did not improve from 41.60358\n",
      "97/97 [==============================] - 30s 314ms/step - loss: 41.4955 - categorical_accuracy: 0.1792 - val_loss: 41.6058 - val_categorical_accuracy: 0.0807\n",
      "Epoch 205/300\n",
      "97/97 [==============================] - ETA: 0s - loss: 41.4949 - categorical_accuracy: 0.1867\n",
      "Epoch 00205: val_loss improved from 41.60358 to 41.60304, saving model to total.best_weightsNoisy2BN.hdf5\n",
      "97/97 [==============================] - 25s 260ms/step - loss: 41.4949 - categorical_accuracy: 0.1867 - val_loss: 41.6030 - val_categorical_accuracy: 0.0951\n",
      "Epoch 206/300\n",
      "97/97 [==============================] - ETA: 0s - loss: 41.4954 - categorical_accuracy: 0.1810\n",
      "Epoch 00206: val_loss improved from 41.60304 to 41.60265, saving model to total.best_weightsNoisy2BN.hdf5\n",
      "97/97 [==============================] - 26s 264ms/step - loss: 41.4954 - categorical_accuracy: 0.1810 - val_loss: 41.6027 - val_categorical_accuracy: 0.0944\n",
      "Epoch 207/300\n",
      "97/97 [==============================] - ETA: 0s - loss: 41.4947 - categorical_accuracy: 0.1809\n",
      "Epoch 00207: val_loss did not improve from 41.60265\n",
      "97/97 [==============================] - 30s 311ms/step - loss: 41.4947 - categorical_accuracy: 0.1809 - val_loss: 41.6082 - val_categorical_accuracy: 0.0872\n",
      "Epoch 208/300\n",
      "97/97 [==============================] - ETA: 0s - loss: 41.5899 - categorical_accuracy: 0.1844\n",
      "Epoch 00208: val_loss did not improve from 41.60265\n",
      "97/97 [==============================] - 26s 266ms/step - loss: 41.5899 - categorical_accuracy: 0.1844 - val_loss: 41.6037 - val_categorical_accuracy: 0.0983\n",
      "Epoch 209/300\n",
      "97/97 [==============================] - ETA: 0s - loss: 41.4956 - categorical_accuracy: 0.1828\n",
      "Epoch 00209: val_loss did not improve from 41.60265\n",
      "97/97 [==============================] - 29s 302ms/step - loss: 41.4956 - categorical_accuracy: 0.1828 - val_loss: 41.6048 - val_categorical_accuracy: 0.0762\n",
      "Epoch 210/300\n",
      "97/97 [==============================] - ETA: 0s - loss: 41.4949 - categorical_accuracy: 0.1809\n",
      "Epoch 00210: val_loss did not improve from 41.60265\n",
      "97/97 [==============================] - 26s 264ms/step - loss: 41.4949 - categorical_accuracy: 0.1809 - val_loss: 41.6042 - val_categorical_accuracy: 0.0866\n",
      "Epoch 211/300\n",
      "97/97 [==============================] - ETA: 0s - loss: 41.4949 - categorical_accuracy: 0.1846\n",
      "Epoch 00211: val_loss did not improve from 41.60265\n",
      "97/97 [==============================] - 25s 263ms/step - loss: 41.4949 - categorical_accuracy: 0.1846 - val_loss: 41.6071 - val_categorical_accuracy: 0.0807\n",
      "Epoch 212/300\n",
      "97/97 [==============================] - ETA: 0s - loss: 41.4946 - categorical_accuracy: 0.1875\n",
      "Epoch 00212: val_loss did not improve from 41.60265\n",
      "97/97 [==============================] - 33s 336ms/step - loss: 41.4946 - categorical_accuracy: 0.1875 - val_loss: 41.6041 - val_categorical_accuracy: 0.0905\n",
      "Epoch 213/300\n",
      "97/97 [==============================] - ETA: 0s - loss: 41.4947 - categorical_accuracy: 0.1925\n",
      "Epoch 00213: val_loss did not improve from 41.60265\n",
      "\n",
      "Epoch 00213: ReduceLROnPlateau reducing learning rate to 4.199039685772732e-05.\n",
      "97/97 [==============================] - 26s 269ms/step - loss: 41.4947 - categorical_accuracy: 0.1925 - val_loss: 41.6056 - val_categorical_accuracy: 0.0846\n",
      "Epoch 214/300\n",
      "97/97 [==============================] - ETA: 0s - loss: 41.4945 - categorical_accuracy: 0.1891\n",
      "Epoch 00214: val_loss did not improve from 41.60265\n",
      "97/97 [==============================] - 30s 304ms/step - loss: 41.4945 - categorical_accuracy: 0.1891 - val_loss: 41.6034 - val_categorical_accuracy: 0.0970\n",
      "Epoch 215/300\n",
      "97/97 [==============================] - ETA: 0s - loss: 41.4945 - categorical_accuracy: 0.1854\n",
      "Epoch 00215: val_loss did not improve from 41.60265\n",
      "97/97 [==============================] - 28s 289ms/step - loss: 41.4945 - categorical_accuracy: 0.1854 - val_loss: 41.6043 - val_categorical_accuracy: 0.0996\n",
      "Epoch 216/300\n",
      "97/97 [==============================] - ETA: 0s - loss: 41.4945 - categorical_accuracy: 0.1885\n",
      "Epoch 00216: val_loss did not improve from 41.60265\n",
      "97/97 [==============================] - 26s 265ms/step - loss: 41.4945 - categorical_accuracy: 0.1885 - val_loss: 41.6036 - val_categorical_accuracy: 0.1009\n",
      "Epoch 217/300\n",
      "97/97 [==============================] - ETA: 0s - loss: 41.4946 - categorical_accuracy: 0.1852\n",
      "Epoch 00217: val_loss did not improve from 41.60265\n",
      "97/97 [==============================] - 30s 312ms/step - loss: 41.4946 - categorical_accuracy: 0.1852 - val_loss: 41.6049 - val_categorical_accuracy: 0.0892\n",
      "Epoch 218/300\n",
      "97/97 [==============================] - ETA: 0s - loss: 41.4944 - categorical_accuracy: 0.1907\n",
      "Epoch 00218: val_loss did not improve from 41.60265\n",
      "97/97 [==============================] - 25s 254ms/step - loss: 41.4944 - categorical_accuracy: 0.1907 - val_loss: 41.6048 - val_categorical_accuracy: 0.0866\n",
      "Epoch 219/300\n",
      "97/97 [==============================] - ETA: 0s - loss: 41.4947 - categorical_accuracy: 0.1868\n",
      "Epoch 00219: val_loss did not improve from 41.60265\n",
      "97/97 [==============================] - 26s 270ms/step - loss: 41.4947 - categorical_accuracy: 0.1868 - val_loss: 41.6042 - val_categorical_accuracy: 0.0879\n",
      "Epoch 220/300\n",
      "97/97 [==============================] - ETA: 0s - loss: 41.4946 - categorical_accuracy: 0.1872\n",
      "Epoch 00220: val_loss improved from 41.60265 to 41.60233, saving model to total.best_weightsNoisy2BN.hdf5\n",
      "\n",
      "Epoch 00220: ReduceLROnPlateau reducing learning rate to 2.519423724152148e-05.\n",
      "97/97 [==============================] - 31s 319ms/step - loss: 41.4946 - categorical_accuracy: 0.1872 - val_loss: 41.6023 - val_categorical_accuracy: 0.1009\n",
      "Epoch 221/300\n",
      "97/97 [==============================] - ETA: 0s - loss: 41.4943 - categorical_accuracy: 0.1910\n",
      "Epoch 00221: val_loss did not improve from 41.60233\n",
      "97/97 [==============================] - 27s 273ms/step - loss: 41.4943 - categorical_accuracy: 0.1910 - val_loss: 41.6026 - val_categorical_accuracy: 0.0957\n",
      "Epoch 222/300\n",
      "97/97 [==============================] - ETA: 0s - loss: 41.5894 - categorical_accuracy: 0.1825\n",
      "Epoch 00222: val_loss did not improve from 41.60233\n",
      "97/97 [==============================] - 29s 296ms/step - loss: 41.5894 - categorical_accuracy: 0.1825 - val_loss: 41.6072 - val_categorical_accuracy: 0.0879\n",
      "Epoch 223/300\n",
      "97/97 [==============================] - ETA: 0s - loss: 41.4941 - categorical_accuracy: 0.1820\n",
      "Epoch 00223: val_loss did not improve from 41.60233\n",
      "97/97 [==============================] - 27s 281ms/step - loss: 41.4941 - categorical_accuracy: 0.1820 - val_loss: 41.6027 - val_categorical_accuracy: 0.0990\n",
      "Epoch 224/300\n",
      "97/97 [==============================] - ETA: 0s - loss: 41.4940 - categorical_accuracy: 0.1891\n",
      "Epoch 00224: val_loss did not improve from 41.60233\n",
      "97/97 [==============================] - 25s 256ms/step - loss: 41.4940 - categorical_accuracy: 0.1891 - val_loss: 41.6029 - val_categorical_accuracy: 0.0970\n",
      "Epoch 225/300\n",
      "97/97 [==============================] - ETA: 0s - loss: 41.4941 - categorical_accuracy: 0.1865\n",
      "Epoch 00225: val_loss did not improve from 41.60233\n",
      "97/97 [==============================] - 31s 320ms/step - loss: 41.4941 - categorical_accuracy: 0.1865 - val_loss: 41.6023 - val_categorical_accuracy: 0.0977\n",
      "Epoch 226/300\n",
      "97/97 [==============================] - ETA: 0s - loss: 41.4941 - categorical_accuracy: 0.1838\n",
      "Epoch 00226: val_loss did not improve from 41.60233\n",
      "97/97 [==============================] - 25s 253ms/step - loss: 41.4941 - categorical_accuracy: 0.1838 - val_loss: 41.6029 - val_categorical_accuracy: 0.0931\n",
      "Epoch 227/300\n",
      "97/97 [==============================] - ETA: 0s - loss: 41.4940 - categorical_accuracy: 0.1930\n",
      "Epoch 00227: val_loss did not improve from 41.60233\n",
      "97/97 [==============================] - 26s 263ms/step - loss: 41.4940 - categorical_accuracy: 0.1930 - val_loss: 41.6025 - val_categorical_accuracy: 0.0996\n",
      "Epoch 228/300\n",
      "97/97 [==============================] - ETA: 0s - loss: 41.4942 - categorical_accuracy: 0.1909\n",
      "Epoch 00228: val_loss did not improve from 41.60233\n",
      "97/97 [==============================] - 30s 310ms/step - loss: 41.4942 - categorical_accuracy: 0.1909 - val_loss: 41.6025 - val_categorical_accuracy: 0.0996\n",
      "Epoch 229/300\n",
      "97/97 [==============================] - ETA: 0s - loss: 41.4939 - categorical_accuracy: 0.1898\n",
      "Epoch 00229: val_loss did not improve from 41.60233\n",
      "97/97 [==============================] - 25s 262ms/step - loss: 41.4939 - categorical_accuracy: 0.1898 - val_loss: 41.6031 - val_categorical_accuracy: 0.0944\n",
      "Epoch 230/300\n",
      "97/97 [==============================] - ETA: 0s - loss: 41.4943 - categorical_accuracy: 0.1889\n",
      "Epoch 00230: val_loss improved from 41.60233 to 41.60230, saving model to total.best_weightsNoisy2BN.hdf5\n",
      "97/97 [==============================] - 27s 280ms/step - loss: 41.4943 - categorical_accuracy: 0.1889 - val_loss: 41.6023 - val_categorical_accuracy: 0.1003\n",
      "Epoch 231/300\n",
      "97/97 [==============================] - ETA: 0s - loss: 41.4942 - categorical_accuracy: 0.1872\n",
      "Epoch 00231: val_loss did not improve from 41.60230\n",
      "97/97 [==============================] - 28s 286ms/step - loss: 41.4942 - categorical_accuracy: 0.1872 - val_loss: 41.6027 - val_categorical_accuracy: 0.0951\n",
      "Epoch 232/300\n",
      "97/97 [==============================] - ETA: 0s - loss: 41.4941 - categorical_accuracy: 0.1864\n",
      "Epoch 00232: val_loss improved from 41.60230 to 41.60196, saving model to total.best_weightsNoisy2BN.hdf5\n",
      "97/97 [==============================] - 26s 265ms/step - loss: 41.4941 - categorical_accuracy: 0.1864 - val_loss: 41.6020 - val_categorical_accuracy: 0.0964\n",
      "Epoch 233/300\n",
      "97/97 [==============================] - ETA: 0s - loss: 41.4940 - categorical_accuracy: 0.1940\n",
      "Epoch 00233: val_loss did not improve from 41.60196\n",
      "97/97 [==============================] - 30s 314ms/step - loss: 41.4940 - categorical_accuracy: 0.1940 - val_loss: 41.6033 - val_categorical_accuracy: 0.0970\n",
      "Epoch 234/300\n",
      "97/97 [==============================] - ETA: 0s - loss: 41.4940 - categorical_accuracy: 0.1948\n",
      "Epoch 00234: val_loss did not improve from 41.60196\n",
      "97/97 [==============================] - 25s 262ms/step - loss: 41.4940 - categorical_accuracy: 0.1948 - val_loss: 41.6035 - val_categorical_accuracy: 0.0996\n",
      "Epoch 235/300\n",
      "97/97 [==============================] - ETA: 0s - loss: 41.4941 - categorical_accuracy: 0.1907\n",
      "Epoch 00235: val_loss did not improve from 41.60196\n",
      "\n",
      "Epoch 00235: ReduceLROnPlateau reducing learning rate to 1.511654190835543e-05.\n",
      "97/97 [==============================] - 25s 254ms/step - loss: 41.4941 - categorical_accuracy: 0.1907 - val_loss: 41.6025 - val_categorical_accuracy: 0.1003\n",
      "Epoch 236/300\n",
      "97/97 [==============================] - ETA: 0s - loss: 41.4938 - categorical_accuracy: 0.1940\n",
      "Epoch 00236: val_loss did not improve from 41.60196\n",
      "97/97 [==============================] - 31s 323ms/step - loss: 41.4938 - categorical_accuracy: 0.1940 - val_loss: 41.6022 - val_categorical_accuracy: 0.0996\n",
      "Epoch 237/300\n",
      "97/97 [==============================] - ETA: 0s - loss: 41.4940 - categorical_accuracy: 0.1936\n",
      "Epoch 00237: val_loss did not improve from 41.60196\n",
      "97/97 [==============================] - 25s 259ms/step - loss: 41.4940 - categorical_accuracy: 0.1936 - val_loss: 41.6025 - val_categorical_accuracy: 0.0970\n",
      "Epoch 00237: early stopping\n"
     ]
    }
   ],
   "source": [
    "history=model.fit(train_generator,\n",
    "                    steps_per_epoch=STEP_SIZE_TRAIN,\n",
    "                    validation_data=valid_generator,\n",
    "                    validation_steps=STEP_SIZE_VALID,\n",
    "                    epochs=300,\n",
    "                    callbacks=callbacks_list\n",
    ")"
   ]
  },
  {
   "cell_type": "code",
   "execution_count": 34,
   "metadata": {
    "execution": {
     "iopub.execute_input": "2020-10-03T14:05:55.122769Z",
     "iopub.status.busy": "2020-10-03T14:05:55.121734Z",
     "iopub.status.idle": "2020-10-03T14:05:55.334118Z",
     "shell.execute_reply": "2020-10-03T14:05:55.334702Z"
    },
    "papermill": {
     "duration": 9.426191,
     "end_time": "2020-10-03T14:05:55.334846",
     "exception": false,
     "start_time": "2020-10-03T14:05:45.908655",
     "status": "completed"
    },
    "tags": []
   },
   "outputs": [
    {
     "data": {
      "image/png": "[encoded data removed]",
      "text/plain": [
       "<Figure size 432x288 with 1 Axes>"
      ]
     },
     "metadata": {
      "needs_background": "light"
     },
     "output_type": "display_data"
    }
   ],
   "source": [
    "import matplotlib.pyplot as plt\n",
    "\n",
    "\n",
    "loss_train = history.history['loss']\n",
    "loss_val = history.history['val_loss']\n",
    "#epochs = np.range(1,1)\n",
    "plt.plot(loss_train, 'g', label='Training loss')\n",
    "plt.plot(loss_val, 'b', label='validation loss')\n",
    "plt.title('Training and Validation loss')\n",
    "plt.xlabel('Epochs')\n",
    "plt.ylabel('Loss')\n",
    "plt.legend()\n",
    "plt.show()"
   ]
  },
  {
   "cell_type": "code",
   "execution_count": 35,
   "metadata": {
    "execution": {
     "iopub.execute_input": "2020-10-03T14:06:13.838684Z",
     "iopub.status.busy": "2020-10-03T14:06:13.831583Z",
     "iopub.status.idle": "2020-10-03T14:06:14.021147Z",
     "shell.execute_reply": "2020-10-03T14:06:14.021718Z"
    },
    "papermill": {
     "duration": 9.247442,
     "end_time": "2020-10-03T14:06:14.021860",
     "exception": false,
     "start_time": "2020-10-03T14:06:04.774418",
     "status": "completed"
    },
    "tags": []
   },
   "outputs": [
    {
     "data": {
      "image/png": "[encoded data removed]",
      "text/plain": [
       "<Figure size 432x288 with 1 Axes>"
      ]
     },
     "metadata": {
      "needs_background": "light"
     },
     "output_type": "display_data"
    }
   ],
   "source": [
    "loss_train = history.history['categorical_accuracy']\n",
    "loss_val = history.history['val_categorical_accuracy']\n",
    "epochs = range(1,41)\n",
    "plt.plot(loss_train, 'g', label='Training accuracy')\n",
    "plt.plot(loss_val, 'b', label='validation accuracy')\n",
    "plt.title('Training and Validation accuracy')\n",
    "plt.xlabel('Epochs')\n",
    "plt.ylabel('Accuracy')\n",
    "plt.legend()\n",
    "plt.show()"
   ]
  },
  {
   "cell_type": "code",
   "execution_count": 36,
   "metadata": {
    "execution": {
     "iopub.execute_input": "2020-10-03T14:06:31.950083Z",
     "iopub.status.busy": "2020-10-03T14:06:31.949384Z",
     "iopub.status.idle": "2020-10-03T14:06:36.777522Z",
     "shell.execute_reply": "2020-10-03T14:06:36.776939Z"
    },
    "id": "t4naHqcUlZwD",
    "outputId": "0436d35b-8809-4574-d9bf-26a36e258087",
    "papermill": {
     "duration": 13.941055,
     "end_time": "2020-10-03T14:06:36.777646",
     "exception": false,
     "start_time": "2020-10-03T14:06:22.836591",
     "status": "completed"
    },
    "tags": []
   },
   "outputs": [
    {
     "name": "stdout",
     "output_type": "stream",
     "text": [
      "22/22 [==============================] - 4s 185ms/step\n"
     ]
    }
   ],
   "source": [
    "test_generator.reset()\n",
    "res_test=model.predict_generator(test_generator,\n",
    "#steps=STEP_SIZE_TEST,\n",
    "verbose=1)"
   ]
  },
  {
   "cell_type": "code",
   "execution_count": 37,
   "metadata": {
    "execution": {
     "iopub.execute_input": "2020-10-03T14:06:54.920405Z",
     "iopub.status.busy": "2020-10-03T14:06:54.919058Z",
     "iopub.status.idle": "2020-10-03T14:06:54.923320Z",
     "shell.execute_reply": "2020-10-03T14:06:54.923940Z"
    },
    "id": "npEpSWh1Xdbi",
    "outputId": "db051e0d-f7e9-4050-a4b3-34b3957420ef",
    "papermill": {
     "duration": 9.253064,
     "end_time": "2020-10-03T14:06:54.924092",
     "exception": false,
     "start_time": "2020-10-03T14:06:45.671028",
     "status": "completed"
    },
    "tags": []
   },
   "outputs": [
    {
     "data": {
      "text/plain": [
       "(1380, 80)"
      ]
     },
     "execution_count": 37,
     "metadata": {},
     "output_type": "execute_result"
    }
   ],
   "source": [
    "res_test.shape"
   ]
  },
  {
   "cell_type": "code",
   "execution_count": 38,
   "metadata": {
    "execution": {
     "iopub.execute_input": "2020-10-03T14:07:13.248536Z",
     "iopub.status.busy": "2020-10-03T14:07:13.247808Z",
     "iopub.status.idle": "2020-10-03T14:07:16.405770Z",
     "shell.execute_reply": "2020-10-03T14:07:16.405198Z"
    },
    "id": "NZSx35J0mP4P",
    "outputId": "d467bca4-e070-4a62-b80e-ac7753eeeb86",
    "papermill": {
     "duration": 11.948517,
     "end_time": "2020-10-03T14:07:16.405924",
     "exception": false,
     "start_time": "2020-10-03T14:07:04.457407",
     "status": "completed"
    },
    "tags": []
   },
   "outputs": [
    {
     "name": "stdout",
     "output_type": "stream",
     "text": [
      "25/25 [==============================] - 3s 109ms/step\n"
     ]
    }
   ],
   "source": [
    "valid_generator.reset()\n",
    "res_cv=model.predict_generator(valid_generator,\n",
    "#steps=STEP_SIZE_TEST,\n",
    "verbose=1)"
   ]
  },
  {
   "cell_type": "code",
   "execution_count": 39,
   "metadata": {
    "execution": {
     "iopub.execute_input": "2020-10-03T14:07:34.176880Z",
     "iopub.status.busy": "2020-10-03T14:07:34.176085Z",
     "iopub.status.idle": "2020-10-03T14:07:55.730555Z",
     "shell.execute_reply": "2020-10-03T14:07:55.731077Z"
    },
    "id": "WoTDEbQ8mWjp",
    "outputId": "a898e571-f235-4905-f5e8-323cfabf2646",
    "papermill": {
     "duration": 30.640527,
     "end_time": "2020-10-03T14:07:55.731229",
     "exception": false,
     "start_time": "2020-10-03T14:07:25.090702",
     "status": "completed"
    },
    "tags": []
   },
   "outputs": [
    {
     "name": "stdout",
     "output_type": "stream",
     "text": [
      "98/98 [==============================] - 21s 215ms/step\n"
     ]
    }
   ],
   "source": [
    "train_generator.reset()\n",
    "res_train=model.predict_generator(train_generator,\n",
    "#steps=STEP_SIZE_TEST,\n",
    "verbose=1)"
   ]
  },
  {
   "cell_type": "code",
   "execution_count": 40,
   "metadata": {
    "execution": {
     "iopub.execute_input": "2020-10-03T14:08:14.393614Z",
     "iopub.status.busy": "2020-10-03T14:08:14.392793Z",
     "iopub.status.idle": "2020-10-03T14:08:14.395952Z",
     "shell.execute_reply": "2020-10-03T14:08:14.396618Z"
    },
    "id": "GF3dag-hmaxo",
    "outputId": "6c3200b8-2a0d-4b8b-9ccb-88a2f93d14be",
    "papermill": {
     "duration": 9.081224,
     "end_time": "2020-10-03T14:08:14.396759",
     "exception": false,
     "start_time": "2020-10-03T14:08:05.315535",
     "status": "completed"
    },
    "tags": []
   },
   "outputs": [
    {
     "data": {
      "text/plain": [
       "(6251, 80)"
      ]
     },
     "execution_count": 40,
     "metadata": {},
     "output_type": "execute_result"
    }
   ],
   "source": [
    "res_train.shape"
   ]
  },
  {
   "cell_type": "code",
   "execution_count": 41,
   "metadata": {
    "execution": {
     "iopub.execute_input": "2020-10-03T14:08:32.204224Z",
     "iopub.status.busy": "2020-10-03T14:08:32.203162Z",
     "iopub.status.idle": "2020-10-03T14:08:32.208891Z",
     "shell.execute_reply": "2020-10-03T14:08:32.209638Z"
    },
    "id": "utPbTWaEunpC",
    "outputId": "a68ccbb0-d116-497e-eb01-c5d19f0b6251",
    "papermill": {
     "duration": 8.937449,
     "end_time": "2020-10-03T14:08:32.209825",
     "exception": false,
     "start_time": "2020-10-03T14:08:23.272376",
     "status": "completed"
    },
    "tags": []
   },
   "outputs": [
    {
     "data": {
      "text/plain": [
       "(6251, 80)"
      ]
     },
     "execution_count": 41,
     "metadata": {},
     "output_type": "execute_result"
    }
   ],
   "source": [
    "res_train.shape"
   ]
  },
  {
   "cell_type": "code",
   "execution_count": 42,
   "metadata": {
    "execution": {
     "iopub.execute_input": "2020-10-03T14:08:50.151997Z",
     "iopub.status.busy": "2020-10-03T14:08:50.151138Z",
     "iopub.status.idle": "2020-10-03T14:08:50.351020Z",
     "shell.execute_reply": "2020-10-03T14:08:50.349851Z"
    },
    "id": "426dRAxkr4pK",
    "outputId": "6b57c86c-4a95-4cbf-d0d4-930568c60d77",
    "papermill": {
     "duration": 9.158607,
     "end_time": "2020-10-03T14:08:50.351187",
     "exception": false,
     "start_time": "2020-10-03T14:08:41.192580",
     "status": "completed"
    },
    "tags": []
   },
   "outputs": [],
   "source": [
    "# Converting taget and identity columns to booleans\n",
    "\n",
    "target_columns=list(trainmultidf.columns)[:-1]\n",
    "\n",
    "def convert_to_bool(df, col_name):\n",
    "    df[col_name] = np.where(df[col_name] >= 0.5, True, False)\n",
    "    \n",
    "def convert_dataframe_to_bool(df):\n",
    "    bool_df = df.copy()\n",
    "    for col in target_columns:\n",
    "        convert_to_bool(bool_df, col)\n",
    "    return bool_df\n",
    "\n",
    "test_bool = convert_dataframe_to_bool(testmultidf) \n",
    "test_lable_bool=test_bool[list(test_bool.columns)[:-1]].to_numpy()\n",
    "\n",
    "train_bool = convert_dataframe_to_bool(trainmultidf) \n",
    "train_lable_bool=train_bool[list(train_bool.columns)[:-1]].to_numpy()\n",
    "\n",
    "cv_bool = convert_dataframe_to_bool(cvmultidf) \n",
    "cv_lable_bool=cv_bool[list(cv_bool.columns)[:-1]].to_numpy()"
   ]
  },
  {
   "cell_type": "markdown",
   "metadata": {
    "id": "TGR3yHWL1RNt",
    "papermill": {
     "duration": 9.316516,
     "end_time": "2020-10-03T14:09:09.871695",
     "exception": false,
     "start_time": "2020-10-03T14:09:00.555179",
     "status": "completed"
    },
    "tags": []
   },
   "source": [
    "# Evaluation Metric"
   ]
  },
  {
   "cell_type": "code",
   "execution_count": 43,
   "metadata": {
    "execution": {
     "iopub.execute_input": "2020-10-03T14:09:27.975482Z",
     "iopub.status.busy": "2020-10-03T14:09:27.974704Z",
     "iopub.status.idle": "2020-10-03T14:09:27.978370Z",
     "shell.execute_reply": "2020-10-03T14:09:27.977743Z"
    },
    "id": "60yDzAaN1NWR",
    "papermill": {
     "duration": 9.092201,
     "end_time": "2020-10-03T14:09:27.978497",
     "exception": false,
     "start_time": "2020-10-03T14:09:18.886296",
     "status": "completed"
    },
    "tags": []
   },
   "outputs": [],
   "source": [
    "import numpy as np\n",
    "import sklearn.metrics\n",
    "\n",
    "\n",
    "def _one_sample_positive_class_precisions(scores, truth):\n",
    "  \"\"\"Calculate precisions for each true class for a single sample.\n",
    "  \n",
    "  Args:\n",
    "    scores: np.array of (num_classes,) giving the individual classifier scores.\n",
    "    truth: np.array of (num_classes,) bools indicating which classes are true.\n",
    "\n",
    "  Returns:\n",
    "    pos_class_indices: np.array of indices of the true classes for this sample.\n",
    "    pos_class_precisions: np.array of precisions corresponding to each of those\n",
    "      classes.\n",
    "  \"\"\"\n",
    "  num_classes = scores.shape[0]\n",
    "  pos_class_indices = np.flatnonzero(truth > 0)\n",
    "  # Only calculate precisions if there are some true classes.\n",
    "  if not len(pos_class_indices):\n",
    "    return pos_class_indices, np.zeros(0)\n",
    "  # Retrieval list of classes for this sample. \n",
    "  retrieved_classes = np.argsort(scores)[::-1]\n",
    "  # class_rankings[top_scoring_class_index] == 0 etc.\n",
    "  class_rankings = np.zeros(num_classes, dtype=np.int)\n",
    "  class_rankings[retrieved_classes] = range(num_classes)\n",
    "  # Which of these is a true label?\n",
    "  retrieved_class_true = np.zeros(num_classes, dtype=np.bool)\n",
    "  retrieved_class_true[class_rankings[pos_class_indices]] = True\n",
    "  # Num hits for every truncated retrieval list.\n",
    "  retrieved_cumulative_hits = np.cumsum(retrieved_class_true)\n",
    "  # Precision of retrieval list truncated at each hit, in order of pos_labels.\n",
    "  precision_at_hits = (\n",
    "      retrieved_cumulative_hits[class_rankings[pos_class_indices]] / \n",
    "      (1 + class_rankings[pos_class_indices].astype(np.float)))\n",
    "  return pos_class_indices, precision_at_hits"
   ]
  },
  {
   "cell_type": "code",
   "execution_count": 44,
   "metadata": {
    "execution": {
     "iopub.execute_input": "2020-10-03T14:09:46.217151Z",
     "iopub.status.busy": "2020-10-03T14:09:46.216125Z",
     "iopub.status.idle": "2020-10-03T14:09:46.221411Z",
     "shell.execute_reply": "2020-10-03T14:09:46.220862Z"
    },
    "id": "p0pSGCCP1a4R",
    "papermill": {
     "duration": 9.335406,
     "end_time": "2020-10-03T14:09:46.221521",
     "exception": false,
     "start_time": "2020-10-03T14:09:36.886115",
     "status": "completed"
    },
    "tags": []
   },
   "outputs": [],
   "source": [
    "def calculate_per_class_lwlrap(truth, scores):\n",
    "  \"\"\"Calculate label-weighted label-ranking average precision.\n",
    "  \n",
    "  Arguments:\n",
    "    truth: np.array of (num_samples, num_classes) giving boolean ground-truth\n",
    "      of presence of that class in that sample.\n",
    "    scores: np.array of (num_samples, num_classes) giving the classifier-under-\n",
    "      test's real-valued score for each class for each sample.\n",
    "  \n",
    "  Returns:\n",
    "    per_class_lwlrap: np.array of (num_classes,) giving the lwlrap for each \n",
    "      class.\n",
    "    weight_per_class: np.array of (num_classes,) giving the prior of each \n",
    "      class within the truth labels.  Then the overall unbalanced lwlrap is \n",
    "      simply np.sum(per_class_lwlrap * weight_per_class)\n",
    "  \"\"\"\n",
    "  assert truth.shape == scores.shape\n",
    "  num_samples, num_classes = scores.shape\n",
    "  # Space to store a distinct precision value for each class on each sample.\n",
    "  # Only the classes that are true for each sample will be filled in.\n",
    "  precisions_for_samples_by_classes = np.zeros((num_samples, num_classes))\n",
    "  for sample_num in range(num_samples):\n",
    "    pos_class_indices, precision_at_hits = (\n",
    "      _one_sample_positive_class_precisions(scores[sample_num, :], \n",
    "                                            truth[sample_num, :]))\n",
    "    precisions_for_samples_by_classes[sample_num, pos_class_indices] = (\n",
    "        precision_at_hits)\n",
    "  labels_per_class = np.sum(truth > 0, axis=0)\n",
    "  weight_per_class = labels_per_class / float(np.sum(labels_per_class))\n",
    "  # Form average of each column, i.e. all the precisions assigned to labels in\n",
    "  # a particular class.\n",
    "  per_class_lwlrap = (np.sum(precisions_for_samples_by_classes, axis=0) / \n",
    "                      np.maximum(1, labels_per_class))\n",
    "  # overall_lwlrap = simple average of all the actual per-class, per-sample precisions\n",
    "  #                = np.sum(precisions_for_samples_by_classes) / np.sum(precisions_for_samples_by_classes > 0)\n",
    "  #           also = weighted mean of per-class lwlraps, weighted by class label prior across samples\n",
    "  #                = np.sum(per_class_lwlrap * weight_per_class)\n",
    "  return per_class_lwlrap, weight_per_class"
   ]
  },
  {
   "cell_type": "code",
   "execution_count": 45,
   "metadata": {
    "execution": {
     "iopub.execute_input": "2020-10-03T14:10:05.240815Z",
     "iopub.status.busy": "2020-10-03T14:10:05.238965Z",
     "iopub.status.idle": "2020-10-03T14:10:05.241601Z",
     "shell.execute_reply": "2020-10-03T14:10:05.242108Z"
    },
    "id": "J4ZZS-k71ffc",
    "papermill": {
     "duration": 9.48151,
     "end_time": "2020-10-03T14:10:05.242276",
     "exception": false,
     "start_time": "2020-10-03T14:09:55.760766",
     "status": "completed"
    },
    "tags": []
   },
   "outputs": [],
   "source": [
    "\n",
    "def calculate_overall_lwlrap_sklearn(truth, scores):\n",
    "  \"\"\"Calculate the overall lwlrap using sklearn.metrics.lrap.\"\"\"\n",
    "  # sklearn doesn't correctly apply weighting to samples with no labels, so just skip them.\n",
    "  sample_weight = np.sum(truth > 0, axis=1)\n",
    "  nonzero_weight_sample_indices = np.flatnonzero(sample_weight > 0)\n",
    "  overall_lwlrap = sklearn.metrics.label_ranking_average_precision_score(\n",
    "      truth[nonzero_weight_sample_indices, :] > 0, \n",
    "      scores[nonzero_weight_sample_indices, :], \n",
    "      sample_weight=sample_weight[nonzero_weight_sample_indices])\n",
    "  return overall_lwlrap"
   ]
  },
  {
   "cell_type": "code",
   "execution_count": 46,
   "metadata": {
    "execution": {
     "iopub.execute_input": "2020-10-03T14:10:23.672089Z",
     "iopub.status.busy": "2020-10-03T14:10:23.671178Z",
     "iopub.status.idle": "2020-10-03T14:10:23.675572Z",
     "shell.execute_reply": "2020-10-03T14:10:23.674992Z"
    },
    "id": "MV5Yu3aL1hPM",
    "papermill": {
     "duration": 9.178814,
     "end_time": "2020-10-03T14:10:23.675684",
     "exception": false,
     "start_time": "2020-10-03T14:10:14.496870",
     "status": "completed"
    },
    "tags": []
   },
   "outputs": [],
   "source": [
    "class lwlrap_accumulator(object):\n",
    "  \"\"\"Accumulate batches of test samples into per-class and overall lwlrap.\"\"\"  \n",
    "\n",
    "  def __init__(self):\n",
    "    self.num_classes = 0\n",
    "    self.total_num_samples = 0\n",
    "  \n",
    "  def accumulate_samples(self, batch_truth, batch_scores):\n",
    "    \"\"\"Cumulate a new batch of samples into the metric.\n",
    "    \n",
    "    Args:\n",
    "      truth: np.array of (num_samples, num_classes) giving boolean\n",
    "        ground-truth of presence of that class in that sample for this batch.\n",
    "      scores: np.array of (num_samples, num_classes) giving the \n",
    "        classifier-under-test's real-valued score for each class for each\n",
    "        sample.\n",
    "    \"\"\"\n",
    "    assert batch_scores.shape == batch_truth.shape\n",
    "    num_samples, num_classes = batch_truth.shape\n",
    "    if not self.num_classes:\n",
    "      self.num_classes = num_classes\n",
    "      self._per_class_cumulative_precision = np.zeros(self.num_classes)\n",
    "      self._per_class_cumulative_count = np.zeros(self.num_classes, \n",
    "                                                  dtype=np.int)\n",
    "    assert num_classes == self.num_classes\n",
    "    for truth, scores in zip(batch_truth, batch_scores):\n",
    "      pos_class_indices, precision_at_hits = (\n",
    "        _one_sample_positive_class_precisions(scores, truth))\n",
    "      self._per_class_cumulative_precision[pos_class_indices] += (\n",
    "        precision_at_hits)\n",
    "      self._per_class_cumulative_count[pos_class_indices] += 1\n",
    "    self.total_num_samples += num_samples\n",
    "\n",
    "  def per_class_lwlrap(self):\n",
    "    \"\"\"Return a vector of the per-class lwlraps for the accumulated samples.\"\"\"\n",
    "    return (self._per_class_cumulative_precision / \n",
    "            np.maximum(1, self._per_class_cumulative_count))\n",
    "\n",
    "  def per_class_weight(self):\n",
    "    \"\"\"Return a normalized weight vector for the contributions of each class.\"\"\"\n",
    "    return (self._per_class_cumulative_count / \n",
    "            float(np.sum(self._per_class_cumulative_count)))\n",
    "\n",
    "  def overall_lwlrap(self):\n",
    "    \"\"\"Return the scalar overall lwlrap for cumulated samples.\"\"\"\n",
    "    return np.sum(self.per_class_lwlrap() * self.per_class_weight())"
   ]
  },
  {
   "cell_type": "code",
   "execution_count": 47,
   "metadata": {
    "execution": {
     "iopub.execute_input": "2020-10-03T14:10:41.626776Z",
     "iopub.status.busy": "2020-10-03T14:10:41.625699Z",
     "iopub.status.idle": "2020-10-03T14:10:41.845483Z",
     "shell.execute_reply": "2020-10-03T14:10:41.846108Z"
    },
    "id": "cmO-oJ5w1mLg",
    "outputId": "79e6cab4-d43b-4a24-a6d0-0c432a2a00cc",
    "papermill": {
     "duration": 9.397227,
     "end_time": "2020-10-03T14:10:41.846308",
     "exception": false,
     "start_time": "2020-10-03T14:10:32.449081",
     "status": "completed"
    },
    "tags": []
   },
   "outputs": [
    {
     "name": "stdout",
     "output_type": "stream",
     "text": [
      "lwlrap from sklearn.metrics = 0.2220629950003967\n"
     ]
    }
   ],
   "source": [
    "#https://www.kaggle.com/voglinio/keras-2d-model-5-fold-log-specgram-curated-only\n",
    "truth = test_lable_bool\n",
    "scores = res_test\n",
    "print(\"lwlrap from sklearn.metrics =\", calculate_overall_lwlrap_sklearn(truth, scores))"
   ]
  },
  {
   "cell_type": "code",
   "execution_count": 48,
   "metadata": {
    "execution": {
     "iopub.execute_input": "2020-10-03T14:11:00.751179Z",
     "iopub.status.busy": "2020-10-03T14:11:00.750162Z",
     "iopub.status.idle": "2020-10-03T14:11:01.674974Z",
     "shell.execute_reply": "2020-10-03T14:11:01.675751Z"
    },
    "id": "MfM47X5u1nxs",
    "outputId": "5993f374-81f6-43c4-b90e-c5ddb695c142",
    "papermill": {
     "duration": 10.644135,
     "end_time": "2020-10-03T14:11:01.675900",
     "exception": false,
     "start_time": "2020-10-03T14:10:51.031765",
     "status": "completed"
    },
    "tags": []
   },
   "outputs": [
    {
     "name": "stdout",
     "output_type": "stream",
     "text": [
      "lwlrap from sklearn.metrics = 0.34433522350224083\n"
     ]
    }
   ],
   "source": [
    "truth = train_lable_bool\n",
    "scores = res_train\n",
    "print(\"lwlrap from sklearn.metrics =\", calculate_overall_lwlrap_sklearn(truth, scores))"
   ]
  },
  {
   "cell_type": "code",
   "execution_count": 49,
   "metadata": {
    "execution": {
     "iopub.execute_input": "2020-10-03T14:11:20.005035Z",
     "iopub.status.busy": "2020-10-03T14:11:20.004103Z",
     "iopub.status.idle": "2020-10-03T14:11:20.231930Z",
     "shell.execute_reply": "2020-10-03T14:11:20.232506Z"
    },
    "id": "nA-xIaLZ1rCM",
    "outputId": "20d2bf94-e109-44d2-f0b4-82d6b408db75",
    "papermill": {
     "duration": 9.470215,
     "end_time": "2020-10-03T14:11:20.232655",
     "exception": false,
     "start_time": "2020-10-03T14:11:10.762440",
     "status": "completed"
    },
    "tags": []
   },
   "outputs": [
    {
     "name": "stdout",
     "output_type": "stream",
     "text": [
      "lwlrap from sklearn.metrics = 0.22868170238282937\n"
     ]
    }
   ],
   "source": [
    "truth = cv_lable_bool\n",
    "scores = res_cv\n",
    "print(\"lwlrap from sklearn.metrics =\", calculate_overall_lwlrap_sklearn(truth, scores))"
   ]
  },
  {
   "cell_type": "markdown",
   "metadata": {
    "id": "EgOoKyzbgtF6",
    "papermill": {
     "duration": 8.711338,
     "end_time": "2020-10-03T14:11:37.880125",
     "exception": false,
     "start_time": "2020-10-03T14:11:29.168787",
     "status": "completed"
    },
    "tags": []
   },
   "source": [
    "# Submission"
   ]
  },
  {
   "cell_type": "code",
   "execution_count": 50,
   "metadata": {
    "execution": {
     "iopub.execute_input": "2020-10-03T14:11:56.648947Z",
     "iopub.status.busy": "2020-10-03T14:11:56.648161Z",
     "iopub.status.idle": "2020-10-03T14:11:56.716184Z",
     "shell.execute_reply": "2020-10-03T14:11:56.714682Z"
    },
    "papermill": {
     "duration": 9.557524,
     "end_time": "2020-10-03T14:11:56.716321",
     "exception": false,
     "start_time": "2020-10-03T14:11:47.158797",
     "status": "completed"
    },
    "tags": []
   },
   "outputs": [],
   "source": [
    "sub_dataframe = pd.DataFrame({'fname':os.listdir('../input/sc2-total-aug-noisy-data/sub2/sub2')})"
   ]
  },
  {
   "cell_type": "code",
   "execution_count": 51,
   "metadata": {
    "execution": {
     "iopub.execute_input": "2020-10-03T14:12:15.415060Z",
     "iopub.status.busy": "2020-10-03T14:12:15.414426Z",
     "iopub.status.idle": "2020-10-03T14:12:16.234151Z",
     "shell.execute_reply": "2020-10-03T14:12:16.233606Z"
    },
    "id": "rxozU-gjkfKI",
    "outputId": "8d0701f6-0c55-46a1-f82e-ab7ae0f8efec",
    "papermill": {
     "duration": 9.829893,
     "end_time": "2020-10-03T14:12:16.234292",
     "exception": false,
     "start_time": "2020-10-03T14:12:06.404399",
     "status": "completed"
    },
    "tags": []
   },
   "outputs": [
    {
     "name": "stdout",
     "output_type": "stream",
     "text": [
      "Found 3361 validated image filenames.\n"
     ]
    }
   ],
   "source": [
    "sub_datagen=ImageDataGenerator(rescale=1./255.)\n",
    "sub_generator=sub_datagen.flow_from_dataframe(\n",
    "    dataframe=sub_dataframe,\n",
    "    directory=\"../input/sc2-total-aug-noisy-data/sub2/sub2\",\n",
    "    x_col=\"fname\",\n",
    "    y_col=None,\n",
    "    batch_size=64,\n",
    "    seed=42,\n",
    "    shuffle=False,#shuffle=False,\n",
    "    class_mode=None,\n",
    "    color_mode=\"grayscale\",\n",
    "    target_size=(128,128))\n",
    "STEP_SIZE_SUB=sub_generator.n//sub_generator.batch_size"
   ]
  },
  {
   "cell_type": "code",
   "execution_count": 52,
   "metadata": {
    "execution": {
     "iopub.execute_input": "2020-10-03T14:12:34.367203Z",
     "iopub.status.busy": "2020-10-03T14:12:34.366211Z",
     "iopub.status.idle": "2020-10-03T14:12:45.708531Z",
     "shell.execute_reply": "2020-10-03T14:12:45.707928Z"
    },
    "id": "OQVBkHHUlzTH",
    "outputId": "5be2f5af-4aa6-4cde-8228-aaeb359e412a",
    "papermill": {
     "duration": 20.305614,
     "end_time": "2020-10-03T14:12:45.708658",
     "exception": false,
     "start_time": "2020-10-03T14:12:25.403044",
     "status": "completed"
    },
    "tags": []
   },
   "outputs": [
    {
     "name": "stdout",
     "output_type": "stream",
     "text": [
      "53/53 [==============================] - 11s 207ms/step\n"
     ]
    }
   ],
   "source": [
    "sub_generator.reset()\n",
    "res_sub=model.predict_generator(sub_generator,\n",
    "#steps=STEP_SIZE_TEST,\n",
    "verbose=1)"
   ]
  },
  {
   "cell_type": "code",
   "execution_count": 53,
   "metadata": {
    "execution": {
     "iopub.execute_input": "2020-10-03T14:13:04.537812Z",
     "iopub.status.busy": "2020-10-03T14:13:04.536821Z",
     "iopub.status.idle": "2020-10-03T14:13:04.541062Z",
     "shell.execute_reply": "2020-10-03T14:13:04.540487Z"
    },
    "id": "h4YRO7V9l2JQ",
    "papermill": {
     "duration": 9.310992,
     "end_time": "2020-10-03T14:13:04.541173",
     "exception": false,
     "start_time": "2020-10-03T14:12:55.230181",
     "status": "completed"
    },
    "tags": []
   },
   "outputs": [],
   "source": [
    "submit_data=pd.DataFrame(res_sub.astype(\"float64\"), columns=list(mlb_train.classes_))"
   ]
  },
  {
   "cell_type": "code",
   "execution_count": 54,
   "metadata": {
    "execution": {
     "iopub.execute_input": "2020-10-03T14:13:22.949201Z",
     "iopub.status.busy": "2020-10-03T14:13:22.948507Z",
     "iopub.status.idle": "2020-10-03T14:13:22.986169Z",
     "shell.execute_reply": "2020-10-03T14:13:22.986998Z"
    },
    "id": "cTwMBIDcl-U_",
    "outputId": "7563a816-3020-4bc1-a006-b3edea85e215",
    "papermill": {
     "duration": 9.434673,
     "end_time": "2020-10-03T14:13:22.987159",
     "exception": false,
     "start_time": "2020-10-03T14:13:13.552486",
     "status": "completed"
    },
    "tags": []
   },
   "outputs": [
    {
     "data": {
      "text/html": [
       "<div>\n",
       "<style scoped>\n",
       "    .dataframe tbody tr th:only-of-type {\n",
       "        vertical-align: middle;\n",
       "    }\n",
       "\n",
       "    .dataframe tbody tr th {\n",
       "        vertical-align: top;\n",
       "    }\n",
       "\n",
       "    .dataframe thead th {\n",
       "        text-align: right;\n",
       "    }\n",
       "</style>\n",
       "<table border=\"1\" class=\"dataframe\">\n",
       "  <thead>\n",
       "    <tr style=\"text-align: right;\">\n",
       "      <th></th>\n",
       "      <th>fname</th>\n",
       "      <th>Accelerating_and_revving_and_vroom</th>\n",
       "      <th>Accordion</th>\n",
       "      <th>Acoustic_guitar</th>\n",
       "      <th>Applause</th>\n",
       "      <th>Bark</th>\n",
       "      <th>Bass_drum</th>\n",
       "      <th>Bass_guitar</th>\n",
       "      <th>Bathtub_(filling_or_washing)</th>\n",
       "      <th>Bicycle_bell</th>\n",
       "      <th>...</th>\n",
       "      <th>Toilet_flush</th>\n",
       "      <th>Traffic_noise_and_roadway_noise</th>\n",
       "      <th>Trickle_and_dribble</th>\n",
       "      <th>Walk_and_footsteps</th>\n",
       "      <th>Water_tap_and_faucet</th>\n",
       "      <th>Waves_and_surf</th>\n",
       "      <th>Whispering</th>\n",
       "      <th>Writing</th>\n",
       "      <th>Yell</th>\n",
       "      <th>Zipper_(clothing)</th>\n",
       "    </tr>\n",
       "  </thead>\n",
       "  <tbody>\n",
       "    <tr>\n",
       "      <th>0</th>\n",
       "      <td>53cefef0.wav</td>\n",
       "      <td>0.346481</td>\n",
       "      <td>0.351873</td>\n",
       "      <td>0.346637</td>\n",
       "      <td>0.352271</td>\n",
       "      <td>0.349168</td>\n",
       "      <td>0.366126</td>\n",
       "      <td>0.347189</td>\n",
       "      <td>0.351332</td>\n",
       "      <td>0.405199</td>\n",
       "      <td>...</td>\n",
       "      <td>0.351133</td>\n",
       "      <td>0.351358</td>\n",
       "      <td>0.350390</td>\n",
       "      <td>0.351016</td>\n",
       "      <td>0.352038</td>\n",
       "      <td>0.346159</td>\n",
       "      <td>0.351702</td>\n",
       "      <td>0.349679</td>\n",
       "      <td>0.349258</td>\n",
       "      <td>0.352273</td>\n",
       "    </tr>\n",
       "    <tr>\n",
       "      <th>1</th>\n",
       "      <td>63b41f09.wav</td>\n",
       "      <td>0.349181</td>\n",
       "      <td>0.354293</td>\n",
       "      <td>0.396450</td>\n",
       "      <td>0.350703</td>\n",
       "      <td>0.352679</td>\n",
       "      <td>0.348850</td>\n",
       "      <td>0.351810</td>\n",
       "      <td>0.364183</td>\n",
       "      <td>0.354378</td>\n",
       "      <td>...</td>\n",
       "      <td>0.352159</td>\n",
       "      <td>0.357297</td>\n",
       "      <td>0.354791</td>\n",
       "      <td>0.349025</td>\n",
       "      <td>0.368260</td>\n",
       "      <td>0.353365</td>\n",
       "      <td>0.342081</td>\n",
       "      <td>0.340141</td>\n",
       "      <td>0.346909</td>\n",
       "      <td>0.350295</td>\n",
       "    </tr>\n",
       "    <tr>\n",
       "      <th>2</th>\n",
       "      <td>9da3bbc9.wav</td>\n",
       "      <td>0.351659</td>\n",
       "      <td>0.349719</td>\n",
       "      <td>0.346252</td>\n",
       "      <td>0.352661</td>\n",
       "      <td>0.349353</td>\n",
       "      <td>0.348353</td>\n",
       "      <td>0.354356</td>\n",
       "      <td>0.353510</td>\n",
       "      <td>0.348553</td>\n",
       "      <td>...</td>\n",
       "      <td>0.355527</td>\n",
       "      <td>0.351215</td>\n",
       "      <td>0.357203</td>\n",
       "      <td>0.354910</td>\n",
       "      <td>0.348584</td>\n",
       "      <td>0.350091</td>\n",
       "      <td>0.349533</td>\n",
       "      <td>0.357303</td>\n",
       "      <td>0.354594</td>\n",
       "      <td>0.346603</td>\n",
       "    </tr>\n",
       "    <tr>\n",
       "      <th>3</th>\n",
       "      <td>b6e192f8.wav</td>\n",
       "      <td>0.360171</td>\n",
       "      <td>0.349143</td>\n",
       "      <td>0.351196</td>\n",
       "      <td>0.351163</td>\n",
       "      <td>0.357307</td>\n",
       "      <td>0.352828</td>\n",
       "      <td>0.350358</td>\n",
       "      <td>0.369143</td>\n",
       "      <td>0.357907</td>\n",
       "      <td>...</td>\n",
       "      <td>0.348489</td>\n",
       "      <td>0.351874</td>\n",
       "      <td>0.357501</td>\n",
       "      <td>0.351153</td>\n",
       "      <td>0.366923</td>\n",
       "      <td>0.346773</td>\n",
       "      <td>0.341868</td>\n",
       "      <td>0.336726</td>\n",
       "      <td>0.350900</td>\n",
       "      <td>0.355026</td>\n",
       "    </tr>\n",
       "    <tr>\n",
       "      <th>4</th>\n",
       "      <td>f2ebd17a.wav</td>\n",
       "      <td>0.351671</td>\n",
       "      <td>0.351150</td>\n",
       "      <td>0.347524</td>\n",
       "      <td>0.351846</td>\n",
       "      <td>0.360044</td>\n",
       "      <td>0.358940</td>\n",
       "      <td>0.350322</td>\n",
       "      <td>0.350472</td>\n",
       "      <td>0.356367</td>\n",
       "      <td>...</td>\n",
       "      <td>0.348898</td>\n",
       "      <td>0.350655</td>\n",
       "      <td>0.349155</td>\n",
       "      <td>0.354011</td>\n",
       "      <td>0.353215</td>\n",
       "      <td>0.350979</td>\n",
       "      <td>0.356401</td>\n",
       "      <td>0.352485</td>\n",
       "      <td>0.349758</td>\n",
       "      <td>0.348032</td>\n",
       "    </tr>\n",
       "  </tbody>\n",
       "</table>\n",
       "<p>5 rows × 81 columns</p>\n",
       "</div>"
      ],
      "text/plain": [
       "          fname  Accelerating_and_revving_and_vroom  Accordion  \\\n",
       "0  53cefef0.wav                            0.346481   0.351873   \n",
       "1  63b41f09.wav                            0.349181   0.354293   \n",
       "2  9da3bbc9.wav                            0.351659   0.349719   \n",
       "3  b6e192f8.wav                            0.360171   0.349143   \n",
       "4  f2ebd17a.wav                            0.351671   0.351150   \n",
       "\n",
       "   Acoustic_guitar  Applause      Bark  Bass_drum  Bass_guitar  \\\n",
       "0         0.346637  0.352271  0.349168   0.366126     0.347189   \n",
       "1         0.396450  0.350703  0.352679   0.348850     0.351810   \n",
       "2         0.346252  0.352661  0.349353   0.348353     0.354356   \n",
       "3         0.351196  0.351163  0.357307   0.352828     0.350358   \n",
       "4         0.347524  0.351846  0.360044   0.358940     0.350322   \n",
       "\n",
       "   Bathtub_(filling_or_washing)  Bicycle_bell  ...  Toilet_flush  \\\n",
       "0                      0.351332      0.405199  ...      0.351133   \n",
       "1                      0.364183      0.354378  ...      0.352159   \n",
       "2                      0.353510      0.348553  ...      0.355527   \n",
       "3                      0.369143      0.357907  ...      0.348489   \n",
       "4                      0.350472      0.356367  ...      0.348898   \n",
       "\n",
       "   Traffic_noise_and_roadway_noise  Trickle_and_dribble  Walk_and_footsteps  \\\n",
       "0                         0.351358             0.350390            0.351016   \n",
       "1                         0.357297             0.354791            0.349025   \n",
       "2                         0.351215             0.357203            0.354910   \n",
       "3                         0.351874             0.357501            0.351153   \n",
       "4                         0.350655             0.349155            0.354011   \n",
       "\n",
       "   Water_tap_and_faucet  Waves_and_surf  Whispering   Writing      Yell  \\\n",
       "0              0.352038        0.346159    0.351702  0.349679  0.349258   \n",
       "1              0.368260        0.353365    0.342081  0.340141  0.346909   \n",
       "2              0.348584        0.350091    0.349533  0.357303  0.354594   \n",
       "3              0.366923        0.346773    0.341868  0.336726  0.350900   \n",
       "4              0.353215        0.350979    0.356401  0.352485  0.349758   \n",
       "\n",
       "   Zipper_(clothing)  \n",
       "0           0.352273  \n",
       "1           0.350295  \n",
       "2           0.346603  \n",
       "3           0.355026  \n",
       "4           0.348032  \n",
       "\n",
       "[5 rows x 81 columns]"
      ]
     },
     "execution_count": 54,
     "metadata": {},
     "output_type": "execute_result"
    }
   ],
   "source": [
    "submit_data.insert(0, 'fname', os.listdir('../input/sc2-total-aug-noisy-data/sub2/sub2'))\n",
    "submit_data[\"fname\"]=submit_data[\"fname\"].apply(lambda x: x.split(\".\")[0]+\".wav\")\n",
    "submit_data.head()"
   ]
  },
  {
   "cell_type": "code",
   "execution_count": 55,
   "metadata": {
    "execution": {
     "iopub.execute_input": "2020-10-03T14:13:40.932618Z",
     "iopub.status.busy": "2020-10-03T14:13:40.931904Z",
     "iopub.status.idle": "2020-10-03T14:13:41.795917Z",
     "shell.execute_reply": "2020-10-03T14:13:41.795277Z"
    },
    "id": "v73id52ZmEWg",
    "papermill": {
     "duration": 9.793335,
     "end_time": "2020-10-03T14:13:41.796063",
     "exception": false,
     "start_time": "2020-10-03T14:13:32.002728",
     "status": "completed"
    },
    "tags": []
   },
   "outputs": [],
   "source": [
    "submit_data.to_csv(\"submission_AugNoisyData_selfNoisy1.csv\",index=False )"
   ]
  },
  {
   "cell_type": "code",
   "execution_count": null,
   "metadata": {
    "papermill": {
     "duration": 9.787653,
     "end_time": "2020-10-03T14:14:00.553587",
     "exception": false,
     "start_time": "2020-10-03T14:13:50.765934",
     "status": "completed"
    },
    "tags": []
   },
   "outputs": [],
   "source": []
  }
 ],
 "metadata": {
  "kernelspec": {
   "display_name": "Python 3",
   "language": "python",
   "name": "python3"
  },
  "language_info": {
   "codemirror_mode": {
    "name": "ipython",
    "version": 3
   },
   "file_extension": ".py",
   "mimetype": "text/x-python",
   "name": "python",
   "nbconvert_exporter": "python",
   "pygments_lexer": "ipython3",
   "version": "3.6.9"
  },
  "papermill": {
   "duration": 6948.07774,
   "end_time": "2020-10-03T14:14:11.108857",
   "environment_variables": {},
   "exception": null,
   "input_path": "__notebook__.ipynb",
   "output_path": "__notebook__.ipynb",
   "parameters": {},
   "start_time": "2020-10-03T12:18:23.031117",
   "version": "2.1.0"
  }
 },
 "nbformat": 4,
 "nbformat_minor": 4
}
