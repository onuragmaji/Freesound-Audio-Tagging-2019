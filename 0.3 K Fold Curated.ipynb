{
 "cells": [
  {
   "cell_type": "code",
   "execution_count": 1,
   "metadata": {},
   "outputs": [],
   "source": [
    "# This Python 3 environment comes with many helpful analytics libraries installed\n",
    "# It is defined by the kaggle/python Docker image: https://github.com/kaggle/docker-python\n",
    "# For example, here's several helpful packages to load\n",
    "\n",
    "import numpy as np # linear algebra\n",
    "import pandas as pd # data processing, CSV file I/O (e.g. pd.read_csv)\n",
    "import os\n",
    "\n",
    "from sklearn.model_selection import train_test_split\n",
    "from sklearn.model_selection import KFold\n"
   ]
  },
  {
   "cell_type": "code",
   "execution_count": 2,
   "metadata": {},
   "outputs": [],
   "source": [
    "DATA_DIR=\"../Applied AI/SC 2 Final/Freesound data/\""
   ]
  },
  {
   "cell_type": "code",
   "execution_count": 3,
   "metadata": {},
   "outputs": [],
   "source": [
    "traindf_noisy=pd.read_csv(DATA_DIR+'train_noisy.csv',dtype=str)\n",
    "\n",
    "traindf_curated=pd.read_csv(DATA_DIR+'train_curated.csv',dtype=str)"
   ]
  },
  {
   "cell_type": "markdown",
   "metadata": {},
   "source": [
    "## Creating CSV file based on Genereted Spectrograms and labling them from  train_curated.csv"
   ]
  },
  {
   "cell_type": "code",
   "execution_count": 5,
   "metadata": {},
   "outputs": [],
   "source": [
    "temp_label=[]\n",
    "temp_fname=[]\n",
    "\n",
    "for file in os.listdir(\"./Total images Bucket Curated\"):\n",
    "    temp_fname.append(file)\n",
    "    if len(file.split(\"_\"))==1:\n",
    "         temp=file.split(\".\")[0]+\".wav\"\n",
    "    elif len(file.split(\"_\"))==2:  \n",
    "        temp=file.split(\"_\")[0]+\".wav\" \n",
    "    try:   \n",
    "        label=traindf_noisy[traindf_noisy[\"fname\"]==temp].iloc[0][\"labels\"]\n",
    "    except IndexError:    \n",
    "        label=traindf_curated[traindf_curated[\"fname\"]==temp].iloc[0][\"labels\"]\n",
    "    temp_label.append(label)"
   ]
  },
  {
   "cell_type": "code",
   "execution_count": 6,
   "metadata": {},
   "outputs": [
    {
     "data": {
      "text/plain": [
       "(9194, 2)"
      ]
     },
     "execution_count": 6,
     "metadata": {},
     "output_type": "execute_result"
    }
   ],
   "source": [
    "total_curated_df = pd.DataFrame({'fname':temp_fname, 'labels':temp_label})\n",
    "total_curated_df.shape"
   ]
  },
  {
   "cell_type": "code",
   "execution_count": 7,
   "metadata": {},
   "outputs": [],
   "source": [
    "X_train, X_test, y_train, y_test = train_test_split(total_curated_df[\"fname\"], total_curated_df[\"labels\"], test_size=0.15, random_state=42)"
   ]
  },
  {
   "cell_type": "code",
   "execution_count": 8,
   "metadata": {},
   "outputs": [],
   "source": [
    "pd.DataFrame({\"fname\":X_test,\"labels\": y_test}).to_csv(\"./K_fold_data/Curated_test.csv\",index=False)    "
   ]
  },
  {
   "cell_type": "code",
   "execution_count": 9,
   "metadata": {},
   "outputs": [],
   "source": [
    "y_train.reset_index(inplace = True, drop = True)\n",
    "X_train.reset_index(inplace = True, drop = True)"
   ]
  },
  {
   "cell_type": "code",
   "execution_count": 10,
   "metadata": {},
   "outputs": [
    {
     "data": {
      "text/plain": [
       "0           9a93c380.jpg\n",
       "1       d349d1c7_aug.jpg\n",
       "2       e1c41fe6_aug.jpg\n",
       "3           d8b54599.jpg\n",
       "4       15d94574_aug.jpg\n",
       "              ...       \n",
       "7809    a0f997f0_aug.jpg\n",
       "7810        9159836a.jpg\n",
       "7811    9796192d_aug.jpg\n",
       "7812        19385668.jpg\n",
       "7813        ca5eebba.jpg\n",
       "Name: fname, Length: 7814, dtype: object"
      ]
     },
     "execution_count": 10,
     "metadata": {},
     "output_type": "execute_result"
    }
   ],
   "source": [
    "X_train"
   ]
  },
  {
   "cell_type": "code",
   "execution_count": null,
   "metadata": {},
   "outputs": [],
   "source": [
    "## "
   ]
  },
  {
   "cell_type": "code",
   "execution_count": 11,
   "metadata": {},
   "outputs": [],
   "source": [
    "kf = KFold(n_splits=5,random_state=42,shuffle=True)"
   ]
  },
  {
   "cell_type": "markdown",
   "metadata": {},
   "source": [
    "# Dividing the Train and CV data for different K-Folds"
   ]
  },
  {
   "cell_type": "code",
   "execution_count": 12,
   "metadata": {},
   "outputs": [],
   "source": [
    "X_train_total=[]\n",
    "y_train_total=[]\n",
    "\n",
    "X_test_total=[]\n",
    "y_test_total=[]\n",
    "count=0\n",
    "for train_index, test_index in kf.split(X_train):\n",
    "    #K_fold_data\n",
    "    X_train_total.append(X_train[train_index])\n",
    "    y_train_total.append(y_train[train_index])\n",
    "    pd.DataFrame({\"fname\":X_train[train_index],\"labels\":y_train[train_index]}).to_csv(\"./K_fold_data/Curated_train_{}.csv\".format(count),index=False)    \n",
    "    X_test.append(X_train[test_index])\n",
    "    y_test_total.append(y_train[test_index])\n",
    "    pd.DataFrame({\"fname\":X_train[test_index],\"labels\":y_train[test_index]}).to_csv(\"./K_fold_data/Curated_cv_{}.csv\".format(count),index=False)    \n",
    "    count+=1"
   ]
  },
  {
   "cell_type": "code",
   "execution_count": 13,
   "metadata": {},
   "outputs": [
    {
     "data": {
      "text/plain": [
       "(6252,)"
      ]
     },
     "execution_count": 13,
     "metadata": {},
     "output_type": "execute_result"
    }
   ],
   "source": [
    "X_train_total[4].shape"
   ]
  },
  {
   "cell_type": "code",
   "execution_count": null,
   "metadata": {},
   "outputs": [],
   "source": []
  }
 ],
 "metadata": {
  "kernelspec": {
   "display_name": "Python 3",
   "language": "python",
   "name": "python3"
  },
  "language_info": {
   "codemirror_mode": {
    "name": "ipython",
    "version": 3
   },
   "file_extension": ".py",
   "mimetype": "text/x-python",
   "name": "python",
   "nbconvert_exporter": "python",
   "pygments_lexer": "ipython3",
   "version": "3.7.3"
  }
 },
 "nbformat": 4,
 "nbformat_minor": 2
}
