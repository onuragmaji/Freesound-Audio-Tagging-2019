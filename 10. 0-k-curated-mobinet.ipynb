{
 "cells": [
  {
   "cell_type": "code",
   "execution_count": 1,
   "metadata": {
    "_cell_guid": "b1076dfc-b9ad-4769-8c92-a6c4dae69d19",
    "_uuid": "8f2839f25d086af736a60e9eeb907d3b93b6e0e5",
    "execution": {
     "iopub.execute_input": "2020-10-05T03:21:15.923990Z",
     "iopub.status.busy": "2020-10-05T03:21:15.923113Z",
     "iopub.status.idle": "2020-10-05T03:21:15.927334Z",
     "shell.execute_reply": "2020-10-05T03:21:15.926736Z"
    },
    "papermill": {
     "duration": 0.057112,
     "end_time": "2020-10-05T03:21:15.927436",
     "exception": false,
     "start_time": "2020-10-05T03:21:15.870324",
     "status": "completed"
    },
    "tags": []
   },
   "outputs": [],
   "source": [
    "import numpy as np # linear algebra\n",
    "import pandas as pd # data processing, CSV file I/O (e.g. pd.read_csv)\n",
    "\n",
    "import os"
   ]
  },
  {
   "cell_type": "code",
   "execution_count": 2,
   "metadata": {
    "execution": {
     "iopub.execute_input": "2020-10-05T03:21:16.026254Z",
     "iopub.status.busy": "2020-10-05T03:21:16.025360Z",
     "iopub.status.idle": "2020-10-05T03:21:16.074861Z",
     "shell.execute_reply": "2020-10-05T03:21:16.073303Z"
    },
    "papermill": {
     "duration": 0.09926,
     "end_time": "2020-10-05T03:21:16.074981",
     "exception": false,
     "start_time": "2020-10-05T03:21:15.975721",
     "status": "completed"
    },
    "tags": []
   },
   "outputs": [],
   "source": [
    "traindf_noisy=pd.read_csv('../input/freesound-audio-tagging-2019/train_noisy.csv',dtype=str)\n",
    "\n",
    "traindf_curated=pd.read_csv('../input/freesound-audio-tagging-2019/train_curated.csv',dtype=str)"
   ]
  },
  {
   "cell_type": "code",
   "execution_count": 3,
   "metadata": {
    "execution": {
     "iopub.execute_input": "2020-10-05T03:21:16.184063Z",
     "iopub.status.busy": "2020-10-05T03:21:16.183276Z",
     "iopub.status.idle": "2020-10-05T03:21:16.192244Z",
     "shell.execute_reply": "2020-10-05T03:21:16.191654Z"
    },
    "papermill": {
     "duration": 0.069183,
     "end_time": "2020-10-05T03:21:16.192341",
     "exception": false,
     "start_time": "2020-10-05T03:21:16.123158",
     "status": "completed"
    },
    "tags": []
   },
   "outputs": [
    {
     "data": {
      "text/html": [
       "<div>\n",
       "<style scoped>\n",
       "    .dataframe tbody tr th:only-of-type {\n",
       "        vertical-align: middle;\n",
       "    }\n",
       "\n",
       "    .dataframe tbody tr th {\n",
       "        vertical-align: top;\n",
       "    }\n",
       "\n",
       "    .dataframe thead th {\n",
       "        text-align: right;\n",
       "    }\n",
       "</style>\n",
       "<table border=\"1\" class=\"dataframe\">\n",
       "  <thead>\n",
       "    <tr style=\"text-align: right;\">\n",
       "      <th></th>\n",
       "      <th>fname</th>\n",
       "      <th>labels</th>\n",
       "    </tr>\n",
       "  </thead>\n",
       "  <tbody>\n",
       "    <tr>\n",
       "      <th>0</th>\n",
       "      <td>00097e21.wav</td>\n",
       "      <td>Bathtub_(filling_or_washing)</td>\n",
       "    </tr>\n",
       "    <tr>\n",
       "      <th>1</th>\n",
       "      <td>000b6cfb.wav</td>\n",
       "      <td>Motorcycle</td>\n",
       "    </tr>\n",
       "    <tr>\n",
       "      <th>2</th>\n",
       "      <td>00116cd2.wav</td>\n",
       "      <td>Marimba_and_xylophone,Glockenspiel</td>\n",
       "    </tr>\n",
       "    <tr>\n",
       "      <th>3</th>\n",
       "      <td>00127d14.wav</td>\n",
       "      <td>Water_tap_and_faucet,Sink_(filling_or_washing)</td>\n",
       "    </tr>\n",
       "    <tr>\n",
       "      <th>4</th>\n",
       "      <td>0019adae.wav</td>\n",
       "      <td>Raindrop</td>\n",
       "    </tr>\n",
       "  </tbody>\n",
       "</table>\n",
       "</div>"
      ],
      "text/plain": [
       "          fname                                          labels\n",
       "0  00097e21.wav                    Bathtub_(filling_or_washing)\n",
       "1  000b6cfb.wav                                      Motorcycle\n",
       "2  00116cd2.wav              Marimba_and_xylophone,Glockenspiel\n",
       "3  00127d14.wav  Water_tap_and_faucet,Sink_(filling_or_washing)\n",
       "4  0019adae.wav                                        Raindrop"
      ]
     },
     "execution_count": 3,
     "metadata": {},
     "output_type": "execute_result"
    }
   ],
   "source": [
    "traindf_noisy.head()"
   ]
  },
  {
   "cell_type": "code",
   "execution_count": 4,
   "metadata": {
    "execution": {
     "iopub.execute_input": "2020-10-05T03:21:16.297317Z",
     "iopub.status.busy": "2020-10-05T03:21:16.296677Z",
     "iopub.status.idle": "2020-10-05T03:21:16.313843Z",
     "shell.execute_reply": "2020-10-05T03:21:16.313320Z"
    },
    "papermill": {
     "duration": 0.074757,
     "end_time": "2020-10-05T03:21:16.313945",
     "exception": false,
     "start_time": "2020-10-05T03:21:16.239188",
     "status": "completed"
    },
    "tags": []
   },
   "outputs": [
    {
     "data": {
      "text/html": [
       "<div>\n",
       "<style scoped>\n",
       "    .dataframe tbody tr th:only-of-type {\n",
       "        vertical-align: middle;\n",
       "    }\n",
       "\n",
       "    .dataframe tbody tr th {\n",
       "        vertical-align: top;\n",
       "    }\n",
       "\n",
       "    .dataframe thead th {\n",
       "        text-align: right;\n",
       "    }\n",
       "</style>\n",
       "<table border=\"1\" class=\"dataframe\">\n",
       "  <thead>\n",
       "    <tr style=\"text-align: right;\">\n",
       "      <th></th>\n",
       "      <th>fname</th>\n",
       "      <th>labels</th>\n",
       "    </tr>\n",
       "  </thead>\n",
       "  <tbody>\n",
       "    <tr>\n",
       "      <th>0</th>\n",
       "      <td>d349d1c7_aug.jpg</td>\n",
       "      <td>Cutlery_and_silverware,Dishes_and_pots_and_pans</td>\n",
       "    </tr>\n",
       "    <tr>\n",
       "      <th>1</th>\n",
       "      <td>e1c41fe6_aug.jpg</td>\n",
       "      <td>Burping_and_eructation</td>\n",
       "    </tr>\n",
       "    <tr>\n",
       "      <th>2</th>\n",
       "      <td>d8b54599.jpg</td>\n",
       "      <td>Accelerating_and_revving_and_vroom</td>\n",
       "    </tr>\n",
       "    <tr>\n",
       "      <th>3</th>\n",
       "      <td>15d94574_aug.jpg</td>\n",
       "      <td>Mechanical_fan</td>\n",
       "    </tr>\n",
       "    <tr>\n",
       "      <th>4</th>\n",
       "      <td>05be25ad.jpg</td>\n",
       "      <td>Shatter</td>\n",
       "    </tr>\n",
       "  </tbody>\n",
       "</table>\n",
       "</div>"
      ],
      "text/plain": [
       "              fname                                           labels\n",
       "0  d349d1c7_aug.jpg  Cutlery_and_silverware,Dishes_and_pots_and_pans\n",
       "1  e1c41fe6_aug.jpg                           Burping_and_eructation\n",
       "2      d8b54599.jpg               Accelerating_and_revving_and_vroom\n",
       "3  15d94574_aug.jpg                                   Mechanical_fan\n",
       "4      05be25ad.jpg                                          Shatter"
      ]
     },
     "execution_count": 4,
     "metadata": {},
     "output_type": "execute_result"
    }
   ],
   "source": [
    "train_df = pd.read_csv(\"../input/sc2-total-aug-noisy-data/K_fold_data/K_fold_data/Curated/Curated_train_0.csv\")\n",
    "train_df.head()"
   ]
  },
  {
   "cell_type": "code",
   "execution_count": 5,
   "metadata": {
    "execution": {
     "iopub.execute_input": "2020-10-05T03:21:16.413092Z",
     "iopub.status.busy": "2020-10-05T03:21:16.412212Z",
     "iopub.status.idle": "2020-10-05T03:21:16.415916Z",
     "shell.execute_reply": "2020-10-05T03:21:16.416518Z"
    },
    "papermill": {
     "duration": 0.055029,
     "end_time": "2020-10-05T03:21:16.416643",
     "exception": false,
     "start_time": "2020-10-05T03:21:16.361614",
     "status": "completed"
    },
    "tags": []
   },
   "outputs": [
    {
     "data": {
      "text/plain": [
       "(6251, 2)"
      ]
     },
     "execution_count": 5,
     "metadata": {},
     "output_type": "execute_result"
    }
   ],
   "source": [
    "train_df.shape"
   ]
  },
  {
   "cell_type": "code",
   "execution_count": 6,
   "metadata": {
    "execution": {
     "iopub.execute_input": "2020-10-05T03:21:16.542331Z",
     "iopub.status.busy": "2020-10-05T03:21:16.541341Z",
     "iopub.status.idle": "2020-10-05T03:21:16.553134Z",
     "shell.execute_reply": "2020-10-05T03:21:16.552557Z"
    },
    "papermill": {
     "duration": 0.07232,
     "end_time": "2020-10-05T03:21:16.553241",
     "exception": false,
     "start_time": "2020-10-05T03:21:16.480921",
     "status": "completed"
    },
    "tags": []
   },
   "outputs": [
    {
     "data": {
      "text/plain": [
       "(1563, 2)"
      ]
     },
     "execution_count": 6,
     "metadata": {},
     "output_type": "execute_result"
    }
   ],
   "source": [
    "cv_df = pd.read_csv(\"../input/sc2-total-aug-noisy-data/K_fold_data/K_fold_data/Curated/Curated_cv_0.csv\")\n",
    "cv_df.shape"
   ]
  },
  {
   "cell_type": "code",
   "execution_count": 7,
   "metadata": {
    "execution": {
     "iopub.execute_input": "2020-10-05T03:21:16.660302Z",
     "iopub.status.busy": "2020-10-05T03:21:16.659655Z",
     "iopub.status.idle": "2020-10-05T03:21:16.669740Z",
     "shell.execute_reply": "2020-10-05T03:21:16.669116Z"
    },
    "papermill": {
     "duration": 0.064136,
     "end_time": "2020-10-05T03:21:16.669837",
     "exception": false,
     "start_time": "2020-10-05T03:21:16.605701",
     "status": "completed"
    },
    "tags": []
   },
   "outputs": [
    {
     "data": {
      "text/plain": [
       "(1380, 2)"
      ]
     },
     "execution_count": 7,
     "metadata": {},
     "output_type": "execute_result"
    }
   ],
   "source": [
    "    \n",
    "test_df = pd.read_csv(\"../input/sc2-total-aug-noisy-data/K_fold_data/K_fold_data/Curated/Curated_test.csv\") \n",
    "test_df.shape"
   ]
  },
  {
   "cell_type": "code",
   "execution_count": 8,
   "metadata": {
    "execution": {
     "iopub.execute_input": "2020-10-05T03:21:16.782170Z",
     "iopub.status.busy": "2020-10-05T03:21:16.781338Z",
     "iopub.status.idle": "2020-10-05T03:21:17.779720Z",
     "shell.execute_reply": "2020-10-05T03:21:17.778976Z"
    },
    "papermill": {
     "duration": 1.058892,
     "end_time": "2020-10-05T03:21:17.779834",
     "exception": false,
     "start_time": "2020-10-05T03:21:16.720942",
     "status": "completed"
    },
    "tags": []
   },
   "outputs": [],
   "source": [
    "from sklearn.preprocessing import MultiLabelBinarizer\n",
    "\n",
    "mlb_train = MultiLabelBinarizer()\n",
    "\n",
    "\n",
    "labels_train = mlb_train.fit_transform([ i.split(\",\") for i in list(train_df[\"labels\"])])\n",
    "\n",
    "\n",
    "labels_test = mlb_train.transform([ i.split(\",\") for i in list(test_df[\"labels\"])])\n",
    "\n",
    "\n",
    "#mlb_cv = MultiLabelBinarizer()\n",
    "labels_cv = mlb_train.transform([ i.split(\",\") for i in list(cv_df[\"labels\"])])\n"
   ]
  },
  {
   "cell_type": "code",
   "execution_count": 9,
   "metadata": {
    "execution": {
     "iopub.execute_input": "2020-10-05T03:21:17.881819Z",
     "iopub.status.busy": "2020-10-05T03:21:17.881118Z",
     "iopub.status.idle": "2020-10-05T03:21:17.886258Z",
     "shell.execute_reply": "2020-10-05T03:21:17.886816Z"
    },
    "papermill": {
     "duration": 0.058821,
     "end_time": "2020-10-05T03:21:17.886945",
     "exception": false,
     "start_time": "2020-10-05T03:21:17.828124",
     "status": "completed"
    },
    "tags": []
   },
   "outputs": [
    {
     "data": {
      "text/plain": [
       "(1380, 80)"
      ]
     },
     "execution_count": 9,
     "metadata": {},
     "output_type": "execute_result"
    }
   ],
   "source": [
    "labels_test.shape"
   ]
  },
  {
   "cell_type": "code",
   "execution_count": 10,
   "metadata": {
    "execution": {
     "iopub.execute_input": "2020-10-05T03:21:17.996145Z",
     "iopub.status.busy": "2020-10-05T03:21:17.995176Z",
     "iopub.status.idle": "2020-10-05T03:21:18.002934Z",
     "shell.execute_reply": "2020-10-05T03:21:18.002279Z"
    },
    "papermill": {
     "duration": 0.065709,
     "end_time": "2020-10-05T03:21:18.003036",
     "exception": false,
     "start_time": "2020-10-05T03:21:17.937327",
     "status": "completed"
    },
    "tags": []
   },
   "outputs": [],
   "source": [
    "trainmultidf=pd.DataFrame(data=labels_train,columns=list(mlb_train.classes_))\n",
    "trainmultidf[\"fname\"]=list(train_df[\"fname\"])\n",
    "\n",
    "testmultidf=pd.DataFrame(data=labels_test,columns=list(mlb_train.classes_))\n",
    "testmultidf[\"fname\"]=list(test_df[\"fname\"])\n",
    "\n",
    "\n",
    "cvmultidf=pd.DataFrame(data=labels_cv,columns=list(mlb_train.classes_))\n",
    "cvmultidf[\"fname\"]=list(cv_df[\"fname\"])\n"
   ]
  },
  {
   "cell_type": "code",
   "execution_count": 11,
   "metadata": {
    "execution": {
     "iopub.execute_input": "2020-10-05T03:21:18.109739Z",
     "iopub.status.busy": "2020-10-05T03:21:18.109083Z",
     "iopub.status.idle": "2020-10-05T03:21:25.712916Z",
     "shell.execute_reply": "2020-10-05T03:21:25.713711Z"
    },
    "papermill": {
     "duration": 7.66154,
     "end_time": "2020-10-05T03:21:25.713862",
     "exception": false,
     "start_time": "2020-10-05T03:21:18.052322",
     "status": "completed"
    },
    "tags": []
   },
   "outputs": [
    {
     "name": "stdout",
     "output_type": "stream",
     "text": [
      "Found 6251 validated image filenames.\n"
     ]
    }
   ],
   "source": [
    "#We change the ids for the images in the csv files to reflect their new status as jpgs\n",
    "#https://medium.com/@vijayabhaskar96/tutorial-on-keras-flow-from-dataframe-1fd4493d237c\n",
    "from keras_preprocessing.image import ImageDataGenerator\n",
    "\n",
    "\n",
    "\n",
    "datagen=ImageDataGenerator(rescale=1./255.,zoom_range=[0.5,1.0],brightness_range=[0.8,1.4])\n",
    "\n",
    "\n",
    "train_generator=datagen.flow_from_dataframe(\n",
    "    dataframe=trainmultidf,\n",
    "    directory=\"../input/sc2-total-aug-noisy-data/Total images Bucket Curated/Total images Bucket Curated\",\n",
    "    x_col=\"fname\",\n",
    "    y_col=list(mlb_train.classes_),\n",
    "    subset=\"training\",\n",
    "    batch_size=64,\n",
    "    seed=42,\n",
    "    shuffle=False,\n",
    "    class_mode=\"raw\",\n",
    "    #color_mode=\"grayscale\",\n",
    "    target_size=(128,128))\n",
    "\n"
   ]
  },
  {
   "cell_type": "code",
   "execution_count": 12,
   "metadata": {
    "execution": {
     "iopub.execute_input": "2020-10-05T03:21:25.836134Z",
     "iopub.status.busy": "2020-10-05T03:21:25.835058Z",
     "iopub.status.idle": "2020-10-05T03:21:25.838799Z",
     "shell.execute_reply": "2020-10-05T03:21:25.839276Z"
    },
    "papermill": {
     "duration": 0.060345,
     "end_time": "2020-10-05T03:21:25.839396",
     "exception": false,
     "start_time": "2020-10-05T03:21:25.779051",
     "status": "completed"
    },
    "tags": []
   },
   "outputs": [
    {
     "data": {
      "text/plain": [
       "6251"
      ]
     },
     "execution_count": 12,
     "metadata": {},
     "output_type": "execute_result"
    }
   ],
   "source": [
    "train_generator.n"
   ]
  },
  {
   "cell_type": "code",
   "execution_count": 13,
   "metadata": {
    "execution": {
     "iopub.execute_input": "2020-10-05T03:21:25.945477Z",
     "iopub.status.busy": "2020-10-05T03:21:25.944397Z",
     "iopub.status.idle": "2020-10-05T03:21:25.948900Z",
     "shell.execute_reply": "2020-10-05T03:21:25.948270Z"
    },
    "papermill": {
     "duration": 0.059834,
     "end_time": "2020-10-05T03:21:25.949009",
     "exception": false,
     "start_time": "2020-10-05T03:21:25.889175",
     "status": "completed"
    },
    "tags": []
   },
   "outputs": [
    {
     "data": {
      "text/plain": [
       "(1563, 81)"
      ]
     },
     "execution_count": 13,
     "metadata": {},
     "output_type": "execute_result"
    }
   ],
   "source": [
    "cvmultidf.shape"
   ]
  },
  {
   "cell_type": "code",
   "execution_count": 14,
   "metadata": {
    "execution": {
     "iopub.execute_input": "2020-10-05T03:21:26.066799Z",
     "iopub.status.busy": "2020-10-05T03:21:26.065839Z",
     "iopub.status.idle": "2020-10-05T03:21:26.069826Z",
     "shell.execute_reply": "2020-10-05T03:21:26.070261Z"
    },
    "papermill": {
     "duration": 0.072614,
     "end_time": "2020-10-05T03:21:26.070377",
     "exception": false,
     "start_time": "2020-10-05T03:21:25.997763",
     "status": "completed"
    },
    "tags": []
   },
   "outputs": [
    {
     "data": {
      "text/html": [
       "<div>\n",
       "<style scoped>\n",
       "    .dataframe tbody tr th:only-of-type {\n",
       "        vertical-align: middle;\n",
       "    }\n",
       "\n",
       "    .dataframe tbody tr th {\n",
       "        vertical-align: top;\n",
       "    }\n",
       "\n",
       "    .dataframe thead th {\n",
       "        text-align: right;\n",
       "    }\n",
       "</style>\n",
       "<table border=\"1\" class=\"dataframe\">\n",
       "  <thead>\n",
       "    <tr style=\"text-align: right;\">\n",
       "      <th></th>\n",
       "      <th>Accelerating_and_revving_and_vroom</th>\n",
       "      <th>Accordion</th>\n",
       "      <th>Acoustic_guitar</th>\n",
       "      <th>Applause</th>\n",
       "      <th>Bark</th>\n",
       "      <th>Bass_drum</th>\n",
       "      <th>Bass_guitar</th>\n",
       "      <th>Bathtub_(filling_or_washing)</th>\n",
       "      <th>Bicycle_bell</th>\n",
       "      <th>Burping_and_eructation</th>\n",
       "      <th>...</th>\n",
       "      <th>Traffic_noise_and_roadway_noise</th>\n",
       "      <th>Trickle_and_dribble</th>\n",
       "      <th>Walk_and_footsteps</th>\n",
       "      <th>Water_tap_and_faucet</th>\n",
       "      <th>Waves_and_surf</th>\n",
       "      <th>Whispering</th>\n",
       "      <th>Writing</th>\n",
       "      <th>Yell</th>\n",
       "      <th>Zipper_(clothing)</th>\n",
       "      <th>fname</th>\n",
       "    </tr>\n",
       "  </thead>\n",
       "  <tbody>\n",
       "    <tr>\n",
       "      <th>0</th>\n",
       "      <td>0</td>\n",
       "      <td>0</td>\n",
       "      <td>0</td>\n",
       "      <td>0</td>\n",
       "      <td>0</td>\n",
       "      <td>0</td>\n",
       "      <td>1</td>\n",
       "      <td>0</td>\n",
       "      <td>0</td>\n",
       "      <td>0</td>\n",
       "      <td>...</td>\n",
       "      <td>0</td>\n",
       "      <td>0</td>\n",
       "      <td>0</td>\n",
       "      <td>0</td>\n",
       "      <td>0</td>\n",
       "      <td>0</td>\n",
       "      <td>0</td>\n",
       "      <td>0</td>\n",
       "      <td>0</td>\n",
       "      <td>9a93c380.jpg</td>\n",
       "    </tr>\n",
       "    <tr>\n",
       "      <th>1</th>\n",
       "      <td>0</td>\n",
       "      <td>0</td>\n",
       "      <td>0</td>\n",
       "      <td>0</td>\n",
       "      <td>0</td>\n",
       "      <td>0</td>\n",
       "      <td>0</td>\n",
       "      <td>0</td>\n",
       "      <td>0</td>\n",
       "      <td>0</td>\n",
       "      <td>...</td>\n",
       "      <td>0</td>\n",
       "      <td>0</td>\n",
       "      <td>0</td>\n",
       "      <td>0</td>\n",
       "      <td>0</td>\n",
       "      <td>0</td>\n",
       "      <td>0</td>\n",
       "      <td>0</td>\n",
       "      <td>0</td>\n",
       "      <td>0ab47a4c.jpg</td>\n",
       "    </tr>\n",
       "    <tr>\n",
       "      <th>2</th>\n",
       "      <td>0</td>\n",
       "      <td>0</td>\n",
       "      <td>0</td>\n",
       "      <td>0</td>\n",
       "      <td>0</td>\n",
       "      <td>0</td>\n",
       "      <td>0</td>\n",
       "      <td>0</td>\n",
       "      <td>0</td>\n",
       "      <td>1</td>\n",
       "      <td>...</td>\n",
       "      <td>0</td>\n",
       "      <td>0</td>\n",
       "      <td>0</td>\n",
       "      <td>0</td>\n",
       "      <td>0</td>\n",
       "      <td>0</td>\n",
       "      <td>0</td>\n",
       "      <td>0</td>\n",
       "      <td>0</td>\n",
       "      <td>8f5bf633_aug.jpg</td>\n",
       "    </tr>\n",
       "    <tr>\n",
       "      <th>3</th>\n",
       "      <td>0</td>\n",
       "      <td>0</td>\n",
       "      <td>0</td>\n",
       "      <td>0</td>\n",
       "      <td>0</td>\n",
       "      <td>0</td>\n",
       "      <td>0</td>\n",
       "      <td>0</td>\n",
       "      <td>0</td>\n",
       "      <td>0</td>\n",
       "      <td>...</td>\n",
       "      <td>0</td>\n",
       "      <td>0</td>\n",
       "      <td>0</td>\n",
       "      <td>0</td>\n",
       "      <td>0</td>\n",
       "      <td>0</td>\n",
       "      <td>0</td>\n",
       "      <td>0</td>\n",
       "      <td>0</td>\n",
       "      <td>e07009c1.jpg</td>\n",
       "    </tr>\n",
       "    <tr>\n",
       "      <th>4</th>\n",
       "      <td>0</td>\n",
       "      <td>0</td>\n",
       "      <td>0</td>\n",
       "      <td>0</td>\n",
       "      <td>0</td>\n",
       "      <td>0</td>\n",
       "      <td>0</td>\n",
       "      <td>0</td>\n",
       "      <td>0</td>\n",
       "      <td>0</td>\n",
       "      <td>...</td>\n",
       "      <td>0</td>\n",
       "      <td>0</td>\n",
       "      <td>0</td>\n",
       "      <td>0</td>\n",
       "      <td>0</td>\n",
       "      <td>0</td>\n",
       "      <td>1</td>\n",
       "      <td>0</td>\n",
       "      <td>0</td>\n",
       "      <td>877562da_aug.jpg</td>\n",
       "    </tr>\n",
       "  </tbody>\n",
       "</table>\n",
       "<p>5 rows × 81 columns</p>\n",
       "</div>"
      ],
      "text/plain": [
       "   Accelerating_and_revving_and_vroom  Accordion  Acoustic_guitar  Applause  \\\n",
       "0                                   0          0                0         0   \n",
       "1                                   0          0                0         0   \n",
       "2                                   0          0                0         0   \n",
       "3                                   0          0                0         0   \n",
       "4                                   0          0                0         0   \n",
       "\n",
       "   Bark  Bass_drum  Bass_guitar  Bathtub_(filling_or_washing)  Bicycle_bell  \\\n",
       "0     0          0            1                             0             0   \n",
       "1     0          0            0                             0             0   \n",
       "2     0          0            0                             0             0   \n",
       "3     0          0            0                             0             0   \n",
       "4     0          0            0                             0             0   \n",
       "\n",
       "   Burping_and_eructation  ...  Traffic_noise_and_roadway_noise  \\\n",
       "0                       0  ...                                0   \n",
       "1                       0  ...                                0   \n",
       "2                       1  ...                                0   \n",
       "3                       0  ...                                0   \n",
       "4                       0  ...                                0   \n",
       "\n",
       "   Trickle_and_dribble  Walk_and_footsteps  Water_tap_and_faucet  \\\n",
       "0                    0                   0                     0   \n",
       "1                    0                   0                     0   \n",
       "2                    0                   0                     0   \n",
       "3                    0                   0                     0   \n",
       "4                    0                   0                     0   \n",
       "\n",
       "   Waves_and_surf  Whispering  Writing  Yell  Zipper_(clothing)  \\\n",
       "0               0           0        0     0                  0   \n",
       "1               0           0        0     0                  0   \n",
       "2               0           0        0     0                  0   \n",
       "3               0           0        0     0                  0   \n",
       "4               0           0        1     0                  0   \n",
       "\n",
       "              fname  \n",
       "0      9a93c380.jpg  \n",
       "1      0ab47a4c.jpg  \n",
       "2  8f5bf633_aug.jpg  \n",
       "3      e07009c1.jpg  \n",
       "4  877562da_aug.jpg  \n",
       "\n",
       "[5 rows x 81 columns]"
      ]
     },
     "execution_count": 14,
     "metadata": {},
     "output_type": "execute_result"
    }
   ],
   "source": [
    "cvmultidf.head()"
   ]
  },
  {
   "cell_type": "code",
   "execution_count": 15,
   "metadata": {
    "execution": {
     "iopub.execute_input": "2020-10-05T03:21:26.180229Z",
     "iopub.status.busy": "2020-10-05T03:21:26.179292Z",
     "iopub.status.idle": "2020-10-05T03:21:26.569344Z",
     "shell.execute_reply": "2020-10-05T03:21:26.569845Z"
    },
    "papermill": {
     "duration": 0.448881,
     "end_time": "2020-10-05T03:21:26.569973",
     "exception": false,
     "start_time": "2020-10-05T03:21:26.121092",
     "status": "completed"
    },
    "tags": []
   },
   "outputs": [
    {
     "name": "stdout",
     "output_type": "stream",
     "text": [
      "Found 1563 validated image filenames.\n"
     ]
    }
   ],
   "source": [
    "\n",
    "valid_datagen=ImageDataGenerator(rescale=1./255.)\n",
    "\n",
    "valid_generator=valid_datagen.flow_from_dataframe(\n",
    "    dataframe=cvmultidf,\n",
    "    directory=\"../input/sc2-total-aug-noisy-data/Total images Bucket Curated/Total images Bucket Curated\",\n",
    "    x_col=\"fname\",\n",
    "    y_col=list(mlb_train.classes_),\n",
    "   # subset=\"validation\",\n",
    "    batch_size=64,\n",
    "    seed=42,\n",
    "    shuffle=False,\n",
    "    class_mode=\"raw\",\n",
    "    #color_mode=\"grayscale\",\n",
    "    target_size=(128,128))\n"
   ]
  },
  {
   "cell_type": "code",
   "execution_count": 16,
   "metadata": {
    "execution": {
     "iopub.execute_input": "2020-10-05T03:21:26.678198Z",
     "iopub.status.busy": "2020-10-05T03:21:26.677336Z",
     "iopub.status.idle": "2020-10-05T03:21:27.011921Z",
     "shell.execute_reply": "2020-10-05T03:21:27.012508Z"
    },
    "papermill": {
     "duration": 0.392445,
     "end_time": "2020-10-05T03:21:27.012653",
     "exception": false,
     "start_time": "2020-10-05T03:21:26.620208",
     "status": "completed"
    },
    "tags": []
   },
   "outputs": [
    {
     "name": "stdout",
     "output_type": "stream",
     "text": [
      "Found 1380 validated image filenames.\n"
     ]
    }
   ],
   "source": [
    "test_datagen=ImageDataGenerator(rescale=1./255.)\n",
    "test_generator=test_datagen.flow_from_dataframe(\n",
    "    dataframe=testmultidf,\n",
    "    directory=\"../input/sc2-total-aug-noisy-data/Total images Bucket Curated/Total images Bucket Curated\",\n",
    "    x_col=\"fname\",\n",
    "    y_col=None,\n",
    "    batch_size=64,\n",
    "    seed=42,\n",
    "    shuffle=False,\n",
    "    class_mode=None,\n",
    "   # color_mode=\"grayscale\",\n",
    "    target_size=(128,128))\n",
    "STEP_SIZE_TEST=test_generator.n//test_generator.batch_size"
   ]
  },
  {
   "cell_type": "code",
   "execution_count": 17,
   "metadata": {
    "execution": {
     "iopub.execute_input": "2020-10-05T03:21:27.124792Z",
     "iopub.status.busy": "2020-10-05T03:21:27.124161Z",
     "iopub.status.idle": "2020-10-05T03:21:27.184411Z",
     "shell.execute_reply": "2020-10-05T03:21:27.183138Z"
    },
    "papermill": {
     "duration": 0.120387,
     "end_time": "2020-10-05T03:21:27.184613",
     "exception": false,
     "start_time": "2020-10-05T03:21:27.064226",
     "status": "completed"
    },
    "tags": []
   },
   "outputs": [],
   "source": [
    "from sklearn import model_selection\n",
    "from tensorflow.keras.preprocessing.text import Tokenizer\n",
    "from tensorflow.keras.utils import to_categorical\n",
    "from tensorflow.keras.preprocessing.sequence import pad_sequences\n",
    "\n",
    "from tensorflow.keras.optimizers import RMSprop\n",
    "from tensorflow.keras.models import Model\n",
    "from tensorflow.keras.models import load_model\n",
    "\n",
    "import numpy as np\n",
    "from tensorflow.keras.models import Sequential\n",
    "from tensorflow.keras.preprocessing import sequence\n",
    "\n",
    "\n",
    "\n",
    "import tensorflow as tf\n",
    "from tensorflow.keras import models, layers\n",
    "from tensorflow.keras.models import Model\n",
    "from tensorflow.keras.optimizers import Adam\n",
    "#from tensorflow.keras.callbacks import ModelCheckpoint,EarlyStopping \n",
    "from tensorflow.keras.layers import Dense, Flatten, LSTM, Conv2D, MaxPooling2D, Dropout, Activation, Input,BatchNormalization, AveragePooling2D,GlobalMaxPool2D,PReLU\n",
    "\n",
    "from tensorflow.keras.models import model_from_json  \n",
    "from tensorflow.keras.applications import DenseNet169\n",
    "\n",
    "from tensorflow.keras.callbacks import (ModelCheckpoint, LearningRateScheduler,\n",
    "                             EarlyStopping, ReduceLROnPlateau,CSVLogger)"
   ]
  },
  {
   "cell_type": "code",
   "execution_count": 18,
   "metadata": {
    "execution": {
     "iopub.execute_input": "2020-10-05T03:21:27.293016Z",
     "iopub.status.busy": "2020-10-05T03:21:27.292306Z",
     "iopub.status.idle": "2020-10-05T03:21:32.280468Z",
     "shell.execute_reply": "2020-10-05T03:21:32.279817Z"
    },
    "papermill": {
     "duration": 5.044362,
     "end_time": "2020-10-05T03:21:32.280634",
     "exception": false,
     "start_time": "2020-10-05T03:21:27.236272",
     "status": "completed"
    },
    "tags": []
   },
   "outputs": [
    {
     "name": "stdout",
     "output_type": "stream",
     "text": [
      "Downloading data from https://storage.googleapis.com/tensorflow/keras-applications/mobilenet/mobilenet_1_0_224_tf.h5\n",
      "17227776/17225924 [==============================] - 0s 0us/step\n"
     ]
    }
   ],
   "source": [
    "#last_layer = model.get_layer('avg_pool').output\n",
    "\n",
    "image_input = Input(shape=(128,128, 3))\n",
    "model = tf.keras.applications.MobileNet(input_tensor=image_input, include_top=True)\n",
    "last_layer = model.layers[-3].output#model.get_layer('avg_pool').output\n",
    "x= Flatten(name='flatten')(last_layer)\n",
    "#model=\n",
    "\n",
    "\n",
    "#output = Dense(80, activation='sigmoid', name='output_layer')(model.layers[-2].output)\n",
    "x= Dense(80)(x)\n",
    "output = Activation('sigmoid')(x)\n",
    "#out = Dense(num_classes, activation='softmax', name='output_layer')(x)"
   ]
  },
  {
   "cell_type": "code",
   "execution_count": 19,
   "metadata": {
    "execution": {
     "iopub.execute_input": "2020-10-05T03:21:32.404124Z",
     "iopub.status.busy": "2020-10-05T03:21:32.403194Z",
     "iopub.status.idle": "2020-10-05T03:21:32.408937Z",
     "shell.execute_reply": "2020-10-05T03:21:32.408370Z"
    },
    "papermill": {
     "duration": 0.069873,
     "end_time": "2020-10-05T03:21:32.409057",
     "exception": false,
     "start_time": "2020-10-05T03:21:32.339184",
     "status": "completed"
    },
    "tags": []
   },
   "outputs": [
    {
     "data": {
      "text/plain": [
       "[<tensorflow.python.keras.layers.core.Dropout at 0x7f5cd811b690>,\n",
       " <tensorflow.python.keras.layers.convolutional.Conv2D at 0x7f5cd812da10>,\n",
       " <tensorflow.python.keras.layers.core.Reshape at 0x7f5cd8140890>,\n",
       " <tensorflow.python.keras.layers.core.Activation at 0x7f5cd814e550>]"
      ]
     },
     "execution_count": 19,
     "metadata": {},
     "output_type": "execute_result"
    }
   ],
   "source": [
    "model.layers[-4:]"
   ]
  },
  {
   "cell_type": "code",
   "execution_count": 20,
   "metadata": {
    "execution": {
     "iopub.execute_input": "2020-10-05T03:21:32.523934Z",
     "iopub.status.busy": "2020-10-05T03:21:32.523307Z",
     "iopub.status.idle": "2020-10-05T03:21:32.528734Z",
     "shell.execute_reply": "2020-10-05T03:21:32.529204Z"
    },
    "papermill": {
     "duration": 0.062334,
     "end_time": "2020-10-05T03:21:32.529359",
     "exception": false,
     "start_time": "2020-10-05T03:21:32.467025",
     "status": "completed"
    },
    "tags": []
   },
   "outputs": [
    {
     "data": {
      "text/plain": [
       "[<tensorflow.python.keras.layers.core.Dropout at 0x7f5cd811b690>,\n",
       " <tensorflow.python.keras.layers.convolutional.Conv2D at 0x7f5cd812da10>,\n",
       " <tensorflow.python.keras.layers.core.Reshape at 0x7f5cd8140890>,\n",
       " <tensorflow.python.keras.layers.core.Activation at 0x7f5cd814e550>]"
      ]
     },
     "execution_count": 20,
     "metadata": {},
     "output_type": "execute_result"
    }
   ],
   "source": [
    "model.layers[-4:]"
   ]
  },
  {
   "cell_type": "code",
   "execution_count": null,
   "metadata": {
    "papermill": {
     "duration": 0.050946,
     "end_time": "2020-10-05T03:21:32.633205",
     "exception": false,
     "start_time": "2020-10-05T03:21:32.582259",
     "status": "completed"
    },
    "tags": []
   },
   "outputs": [],
   "source": []
  },
  {
   "cell_type": "code",
   "execution_count": 21,
   "metadata": {
    "execution": {
     "iopub.execute_input": "2020-10-05T03:21:32.745112Z",
     "iopub.status.busy": "2020-10-05T03:21:32.744040Z",
     "iopub.status.idle": "2020-10-05T03:21:32.764383Z",
     "shell.execute_reply": "2020-10-05T03:21:32.763806Z"
    },
    "papermill": {
     "duration": 0.078287,
     "end_time": "2020-10-05T03:21:32.764477",
     "exception": false,
     "start_time": "2020-10-05T03:21:32.686190",
     "status": "completed"
    },
    "tags": []
   },
   "outputs": [],
   "source": [
    "custom_densenet169_model = Model(inputs=image_input,outputs= output)\n",
    "#custom_densenet169_model.summary()"
   ]
  },
  {
   "cell_type": "code",
   "execution_count": 22,
   "metadata": {
    "execution": {
     "iopub.execute_input": "2020-10-05T03:21:32.914907Z",
     "iopub.status.busy": "2020-10-05T03:21:32.888760Z",
     "iopub.status.idle": "2020-10-05T03:21:33.058283Z",
     "shell.execute_reply": "2020-10-05T03:21:33.057123Z"
    },
    "papermill": {
     "duration": 0.239585,
     "end_time": "2020-10-05T03:21:33.058403",
     "exception": false,
     "start_time": "2020-10-05T03:21:32.818818",
     "status": "completed"
    },
    "tags": []
   },
   "outputs": [],
   "source": [
    "custom_densenet169_model.load_weights(\"../input/sc2weights/MobiNetNoisyTotal.best_weights-128 (2).hdf5\")"
   ]
  },
  {
   "cell_type": "code",
   "execution_count": 23,
   "metadata": {
    "execution": {
     "iopub.execute_input": "2020-10-05T03:21:33.170677Z",
     "iopub.status.busy": "2020-10-05T03:21:33.168885Z",
     "iopub.status.idle": "2020-10-05T03:21:33.171394Z",
     "shell.execute_reply": "2020-10-05T03:21:33.171978Z"
    },
    "papermill": {
     "duration": 0.061431,
     "end_time": "2020-10-05T03:21:33.172130",
     "exception": false,
     "start_time": "2020-10-05T03:21:33.110699",
     "status": "completed"
    },
    "tags": []
   },
   "outputs": [],
   "source": [
    "#from tensorflow.keras.utils import plot_model\n",
    "#plot_model(custom_densenet169_model, 'model_resnet50.png', show_shapes=True)"
   ]
  },
  {
   "cell_type": "code",
   "execution_count": 24,
   "metadata": {
    "execution": {
     "iopub.execute_input": "2020-10-05T03:21:33.296709Z",
     "iopub.status.busy": "2020-10-05T03:21:33.295754Z",
     "iopub.status.idle": "2020-10-05T03:21:33.303052Z",
     "shell.execute_reply": "2020-10-05T03:21:33.303541Z"
    },
    "papermill": {
     "duration": 0.076434,
     "end_time": "2020-10-05T03:21:33.303679",
     "exception": false,
     "start_time": "2020-10-05T03:21:33.227245",
     "status": "completed"
    },
    "tags": []
   },
   "outputs": [],
   "source": [
    "opt = tf.keras.optimizers.Adam(lr=0.0009)#tf.keras.optimizers.RMSprop(lr=0.3, decay=1e-6) \n",
    "#tf.keras.optimizers.Adam(lr=0.001)#RMSprop(lr=0.0001, decay=1e-6)\n",
    "\n",
    "# Let's train the model using RMSprop\n",
    "custom_densenet169_model.compile(loss=tf.keras.losses.BinaryCrossentropy(reduction=tf.keras.losses.Reduction.SUM),#'categorical_crossentropy',\n",
    "              optimizer=opt,\n",
    "               metrics=['categorical_accuracy'])"
   ]
  },
  {
   "cell_type": "code",
   "execution_count": 25,
   "metadata": {
    "execution": {
     "iopub.execute_input": "2020-10-05T03:21:33.417787Z",
     "iopub.status.busy": "2020-10-05T03:21:33.415851Z",
     "iopub.status.idle": "2020-10-05T03:21:33.418437Z",
     "shell.execute_reply": "2020-10-05T03:21:33.418926Z"
    },
    "papermill": {
     "duration": 0.061361,
     "end_time": "2020-10-05T03:21:33.419061",
     "exception": false,
     "start_time": "2020-10-05T03:21:33.357700",
     "status": "completed"
    },
    "tags": []
   },
   "outputs": [],
   "source": [
    "#Fitting keras model, no test gen for now\n",
    "STEP_SIZE_TRAIN=train_generator.n//train_generator.batch_size\n",
    "STEP_SIZE_VALID=valid_generator.n//valid_generator.batch_size\n",
    "#STEP_SIZE_TEST=test_generator.n//test_generator.batch_size"
   ]
  },
  {
   "cell_type": "code",
   "execution_count": 26,
   "metadata": {
    "execution": {
     "iopub.execute_input": "2020-10-05T03:21:33.532637Z",
     "iopub.status.busy": "2020-10-05T03:21:33.531809Z",
     "iopub.status.idle": "2020-10-05T03:21:33.535764Z",
     "shell.execute_reply": "2020-10-05T03:21:33.536297Z"
    },
    "papermill": {
     "duration": 0.064731,
     "end_time": "2020-10-05T03:21:33.536447",
     "exception": false,
     "start_time": "2020-10-05T03:21:33.471716",
     "status": "completed"
    },
    "tags": []
   },
   "outputs": [
    {
     "data": {
      "text/plain": [
       "97"
      ]
     },
     "execution_count": 26,
     "metadata": {},
     "output_type": "execute_result"
    }
   ],
   "source": [
    "STEP_SIZE_TRAIN"
   ]
  },
  {
   "cell_type": "code",
   "execution_count": 27,
   "metadata": {
    "execution": {
     "iopub.execute_input": "2020-10-05T03:21:33.653214Z",
     "iopub.status.busy": "2020-10-05T03:21:33.651380Z",
     "iopub.status.idle": "2020-10-05T03:21:33.653970Z",
     "shell.execute_reply": "2020-10-05T03:21:33.654430Z"
    },
    "papermill": {
     "duration": 0.063762,
     "end_time": "2020-10-05T03:21:33.654556",
     "exception": false,
     "start_time": "2020-10-05T03:21:33.590794",
     "status": "completed"
    },
    "tags": []
   },
   "outputs": [],
   "source": [
    "# simple early stopping\n",
    "#earlyStop = EarlyStopping(monitor='val_loss', mode='min', verbose=1, patience=100,)\n",
    "#https://machinelearningmastery.com/check-point-deep-learning-models-keras/\n",
    "\n",
    "\n",
    "#model_checkpoint = ModelCheckpoint('weights_cnn_lstm.best.hdf5', monitor='val_categorical_accuracy', mode='max', verbose=1, save_best_only=True)\n",
    "#filepath=\"weights-improvement-{epoch:02d}-{val_categorical_accuracy:.2f}.hdf5\"\n",
    "\n",
    "\n",
    "csv_logger = CSVLogger(filename='../working/training_log.csv',\n",
    "                       separator=',',\n",
    "                       append=True)\n",
    "#https://www.tensorflow.org/api_docs/python/tf/keras/callbacks/ReduceLROnPlateau\n",
    "reduceLROnPlat = ReduceLROnPlateau(monitor='val_categorical_accuracy', factor=0.6,\n",
    "                              patience=6, min_lr=0,verbose=1)\n",
    "\n",
    "\n",
    "model_checkpoint = ModelCheckpoint(\"CuratedTotal.best_weights_128.hdf5\", monitor='val_categorical_accuracy', mode='max', verbose=1, save_best_only=True)\n",
    "\n",
    "# fit model\n",
    "\n",
    "#es = tf.keras.callbacks.EarlyStopping(monitor='val_loss', mode='min', verbose=1, patience=20, min_delta=0.001 )\n",
    "es = tf.keras.callbacks.EarlyStopping(monitor='val_categorical_accuracy', mode='max', verbose=1, patience=30, min_delta=0.001 )\n",
    "\n",
    "callbacks_list = [model_checkpoint, csv_logger, reduceLROnPlat,es]"
   ]
  },
  {
   "cell_type": "code",
   "execution_count": 28,
   "metadata": {
    "execution": {
     "iopub.execute_input": "2020-10-05T03:21:33.766981Z",
     "iopub.status.busy": "2020-10-05T03:21:33.766172Z",
     "iopub.status.idle": "2020-10-05T03:21:33.769742Z",
     "shell.execute_reply": "2020-10-05T03:21:33.770174Z"
    },
    "papermill": {
     "duration": 0.062437,
     "end_time": "2020-10-05T03:21:33.770292",
     "exception": false,
     "start_time": "2020-10-05T03:21:33.707855",
     "status": "completed"
    },
    "tags": []
   },
   "outputs": [],
   "source": [
    "\n",
    "#custom_densenet169_model.load_weights(\"../input/sc2weights/total.best_weights.hdf5\")\n",
    "#custom_densenet169_model.load_weights(\"../input/sc2weights/total.best_weights_iter2.hdf5\")"
   ]
  },
  {
   "cell_type": "code",
   "execution_count": 29,
   "metadata": {
    "execution": {
     "iopub.execute_input": "2020-10-05T03:21:33.905912Z",
     "iopub.status.busy": "2020-10-05T03:21:33.905271Z",
     "iopub.status.idle": "2020-10-05T04:18:30.889372Z",
     "shell.execute_reply": "2020-10-05T04:18:30.888778Z"
    },
    "papermill": {
     "duration": 3417.044872,
     "end_time": "2020-10-05T04:18:30.889509",
     "exception": false,
     "start_time": "2020-10-05T03:21:33.844637",
     "status": "completed"
    },
    "tags": []
   },
   "outputs": [
    {
     "name": "stdout",
     "output_type": "stream",
     "text": [
      "Epoch 1/300\n",
      "97/97 [==============================] - ETA: 0s - loss: 4.9873 - categorical_accuracy: 0.1936\n",
      "Epoch 00001: val_categorical_accuracy improved from -inf to 0.26497, saving model to CuratedTotal.best_weights_128.hdf5\n",
      "97/97 [==============================] - 57s 583ms/step - loss: 4.9873 - categorical_accuracy: 0.1936 - val_loss: 5.4669 - val_categorical_accuracy: 0.2650\n",
      "Epoch 2/300\n",
      "97/97 [==============================] - ETA: 0s - loss: 2.7127 - categorical_accuracy: 0.4424\n",
      "Epoch 00002: val_categorical_accuracy improved from 0.26497 to 0.41602, saving model to CuratedTotal.best_weights_128.hdf5\n",
      "97/97 [==============================] - 44s 454ms/step - loss: 2.7127 - categorical_accuracy: 0.4424 - val_loss: 3.1970 - val_categorical_accuracy: 0.4160\n",
      "Epoch 3/300\n",
      "97/97 [==============================] - ETA: 0s - loss: 1.9544 - categorical_accuracy: 0.5954\n",
      "Epoch 00003: val_categorical_accuracy improved from 0.41602 to 0.47331, saving model to CuratedTotal.best_weights_128.hdf5\n",
      "97/97 [==============================] - 44s 455ms/step - loss: 1.9544 - categorical_accuracy: 0.5954 - val_loss: 2.7521 - val_categorical_accuracy: 0.4733\n",
      "Epoch 4/300\n",
      "97/97 [==============================] - ETA: 0s - loss: 1.4339 - categorical_accuracy: 0.7016\n",
      "Epoch 00004: val_categorical_accuracy improved from 0.47331 to 0.50326, saving model to CuratedTotal.best_weights_128.hdf5\n",
      "97/97 [==============================] - 43s 446ms/step - loss: 1.4339 - categorical_accuracy: 0.7016 - val_loss: 2.6136 - val_categorical_accuracy: 0.5033\n",
      "Epoch 5/300\n",
      "97/97 [==============================] - ETA: 0s - loss: 1.0845 - categorical_accuracy: 0.7637\n",
      "Epoch 00005: val_categorical_accuracy improved from 0.50326 to 0.51432, saving model to CuratedTotal.best_weights_128.hdf5\n",
      "97/97 [==============================] - 45s 459ms/step - loss: 1.0845 - categorical_accuracy: 0.7637 - val_loss: 2.4568 - val_categorical_accuracy: 0.5143\n",
      "Epoch 6/300\n",
      "97/97 [==============================] - ETA: 0s - loss: 0.8329 - categorical_accuracy: 0.8109\n",
      "Epoch 00006: val_categorical_accuracy improved from 0.51432 to 0.52930, saving model to CuratedTotal.best_weights_128.hdf5\n",
      "97/97 [==============================] - 44s 450ms/step - loss: 0.8329 - categorical_accuracy: 0.8109 - val_loss: 2.9197 - val_categorical_accuracy: 0.5293\n",
      "Epoch 7/300\n",
      "97/97 [==============================] - ETA: 0s - loss: 0.6591 - categorical_accuracy: 0.8471\n",
      "Epoch 00007: val_categorical_accuracy improved from 0.52930 to 0.54362, saving model to CuratedTotal.best_weights_128.hdf5\n",
      "97/97 [==============================] - 44s 450ms/step - loss: 0.6591 - categorical_accuracy: 0.8471 - val_loss: 2.6783 - val_categorical_accuracy: 0.5436\n",
      "Epoch 8/300\n",
      "97/97 [==============================] - ETA: 0s - loss: 0.5309 - categorical_accuracy: 0.8626\n",
      "Epoch 00008: val_categorical_accuracy improved from 0.54362 to 0.55729, saving model to CuratedTotal.best_weights_128.hdf5\n",
      "97/97 [==============================] - 43s 439ms/step - loss: 0.5309 - categorical_accuracy: 0.8626 - val_loss: 2.9456 - val_categorical_accuracy: 0.5573\n",
      "Epoch 9/300\n",
      "97/97 [==============================] - ETA: 0s - loss: 0.4700 - categorical_accuracy: 0.8799\n",
      "Epoch 00009: val_categorical_accuracy did not improve from 0.55729\n",
      "97/97 [==============================] - 42s 429ms/step - loss: 0.4700 - categorical_accuracy: 0.8799 - val_loss: 2.8292 - val_categorical_accuracy: 0.5521\n",
      "Epoch 10/300\n",
      "97/97 [==============================] - ETA: 0s - loss: 0.4070 - categorical_accuracy: 0.8877\n",
      "Epoch 00010: val_categorical_accuracy did not improve from 0.55729\n",
      "97/97 [==============================] - 41s 425ms/step - loss: 0.4070 - categorical_accuracy: 0.8877 - val_loss: 3.3860 - val_categorical_accuracy: 0.5430\n",
      "Epoch 11/300\n",
      "97/97 [==============================] - ETA: 0s - loss: 0.3616 - categorical_accuracy: 0.8924\n",
      "Epoch 00011: val_categorical_accuracy improved from 0.55729 to 0.55990, saving model to CuratedTotal.best_weights_128.hdf5\n",
      "97/97 [==============================] - 43s 444ms/step - loss: 0.3616 - categorical_accuracy: 0.8924 - val_loss: 3.0982 - val_categorical_accuracy: 0.5599\n",
      "Epoch 12/300\n",
      "97/97 [==============================] - ETA: 0s - loss: 0.3076 - categorical_accuracy: 0.8975\n",
      "Epoch 00012: val_categorical_accuracy improved from 0.55990 to 0.60091, saving model to CuratedTotal.best_weights_128.hdf5\n",
      "97/97 [==============================] - 44s 450ms/step - loss: 0.3076 - categorical_accuracy: 0.8975 - val_loss: 2.6807 - val_categorical_accuracy: 0.6009\n",
      "Epoch 13/300\n",
      "97/97 [==============================] - ETA: 0s - loss: 0.3066 - categorical_accuracy: 0.9009\n",
      "Epoch 00013: val_categorical_accuracy did not improve from 0.60091\n",
      "97/97 [==============================] - 44s 452ms/step - loss: 0.3066 - categorical_accuracy: 0.9009 - val_loss: 2.9408 - val_categorical_accuracy: 0.5781\n",
      "Epoch 14/300\n",
      "97/97 [==============================] - ETA: 0s - loss: 0.2789 - categorical_accuracy: 0.9061\n",
      "Epoch 00014: val_categorical_accuracy did not improve from 0.60091\n",
      "97/97 [==============================] - 43s 438ms/step - loss: 0.2789 - categorical_accuracy: 0.9061 - val_loss: 3.1992 - val_categorical_accuracy: 0.5814\n",
      "Epoch 15/300\n",
      "97/97 [==============================] - ETA: 0s - loss: 0.2723 - categorical_accuracy: 0.9075\n",
      "Epoch 00015: val_categorical_accuracy improved from 0.60091 to 0.60352, saving model to CuratedTotal.best_weights_128.hdf5\n",
      "97/97 [==============================] - 42s 436ms/step - loss: 0.2723 - categorical_accuracy: 0.9075 - val_loss: 3.3135 - val_categorical_accuracy: 0.6035\n",
      "Epoch 16/300\n",
      "97/97 [==============================] - ETA: 0s - loss: 0.2489 - categorical_accuracy: 0.9069\n",
      "Epoch 00016: val_categorical_accuracy did not improve from 0.60352\n",
      "97/97 [==============================] - 42s 436ms/step - loss: 0.2489 - categorical_accuracy: 0.9069 - val_loss: 3.2845 - val_categorical_accuracy: 0.5898\n",
      "Epoch 17/300\n",
      "97/97 [==============================] - ETA: 0s - loss: 0.2601 - categorical_accuracy: 0.9088\n",
      "Epoch 00017: val_categorical_accuracy did not improve from 0.60352\n",
      "97/97 [==============================] - 42s 429ms/step - loss: 0.2601 - categorical_accuracy: 0.9088 - val_loss: 3.5079 - val_categorical_accuracy: 0.5964\n",
      "Epoch 18/300\n",
      "97/97 [==============================] - ETA: 0s - loss: 0.2150 - categorical_accuracy: 0.9132\n",
      "Epoch 00018: val_categorical_accuracy improved from 0.60352 to 0.60482, saving model to CuratedTotal.best_weights_128.hdf5\n",
      "97/97 [==============================] - 44s 450ms/step - loss: 0.2150 - categorical_accuracy: 0.9132 - val_loss: 3.4605 - val_categorical_accuracy: 0.6048\n",
      "Epoch 19/300\n",
      "97/97 [==============================] - ETA: 0s - loss: 0.1935 - categorical_accuracy: 0.9155\n",
      "Epoch 00019: val_categorical_accuracy improved from 0.60482 to 0.61849, saving model to CuratedTotal.best_weights_128.hdf5\n",
      "97/97 [==============================] - 46s 470ms/step - loss: 0.1935 - categorical_accuracy: 0.9155 - val_loss: 3.1832 - val_categorical_accuracy: 0.6185\n",
      "Epoch 20/300\n",
      "97/97 [==============================] - ETA: 0s - loss: 0.1916 - categorical_accuracy: 0.9168\n",
      "Epoch 00020: val_categorical_accuracy did not improve from 0.61849\n",
      "97/97 [==============================] - 44s 455ms/step - loss: 0.1916 - categorical_accuracy: 0.9168 - val_loss: 3.4767 - val_categorical_accuracy: 0.5846\n",
      "Epoch 21/300\n",
      "97/97 [==============================] - ETA: 0s - loss: 0.1995 - categorical_accuracy: 0.9143\n",
      "Epoch 00021: val_categorical_accuracy did not improve from 0.61849\n",
      "97/97 [==============================] - 43s 447ms/step - loss: 0.1995 - categorical_accuracy: 0.9143 - val_loss: 3.4503 - val_categorical_accuracy: 0.5898\n",
      "Epoch 22/300\n",
      "97/97 [==============================] - ETA: 0s - loss: 0.1847 - categorical_accuracy: 0.9176\n",
      "Epoch 00022: val_categorical_accuracy did not improve from 0.61849\n",
      "97/97 [==============================] - 43s 439ms/step - loss: 0.1847 - categorical_accuracy: 0.9176 - val_loss: 3.3722 - val_categorical_accuracy: 0.6100\n",
      "Epoch 23/300\n",
      "97/97 [==============================] - ETA: 0s - loss: 0.1842 - categorical_accuracy: 0.9163\n",
      "Epoch 00023: val_categorical_accuracy did not improve from 0.61849\n",
      "97/97 [==============================] - 44s 449ms/step - loss: 0.1842 - categorical_accuracy: 0.9163 - val_loss: 3.5665 - val_categorical_accuracy: 0.5957\n",
      "Epoch 24/300\n",
      "97/97 [==============================] - ETA: 0s - loss: 0.1698 - categorical_accuracy: 0.9151\n",
      "Epoch 00024: val_categorical_accuracy did not improve from 0.61849\n",
      "97/97 [==============================] - 44s 450ms/step - loss: 0.1698 - categorical_accuracy: 0.9151 - val_loss: 3.5518 - val_categorical_accuracy: 0.5892\n",
      "Epoch 25/300\n",
      "97/97 [==============================] - ETA: 0s - loss: 0.1830 - categorical_accuracy: 0.9187\n",
      "Epoch 00025: val_categorical_accuracy did not improve from 0.61849\n",
      "\n",
      "Epoch 00025: ReduceLROnPlateau reducing learning rate to 0.0005399999907240271.\n",
      "97/97 [==============================] - 44s 457ms/step - loss: 0.1830 - categorical_accuracy: 0.9187 - val_loss: 3.6835 - val_categorical_accuracy: 0.6029\n",
      "Epoch 26/300\n",
      "97/97 [==============================] - ETA: 0s - loss: 0.1077 - categorical_accuracy: 0.9287\n",
      "Epoch 00026: val_categorical_accuracy improved from 0.61849 to 0.63542, saving model to CuratedTotal.best_weights_128.hdf5\n",
      "97/97 [==============================] - 47s 480ms/step - loss: 0.1077 - categorical_accuracy: 0.9287 - val_loss: 3.2376 - val_categorical_accuracy: 0.6354\n",
      "Epoch 27/300\n",
      "97/97 [==============================] - ETA: 0s - loss: 0.0658 - categorical_accuracy: 0.9248\n",
      "Epoch 00027: val_categorical_accuracy improved from 0.63542 to 0.64909, saving model to CuratedTotal.best_weights_128.hdf5\n",
      "97/97 [==============================] - 45s 463ms/step - loss: 0.0658 - categorical_accuracy: 0.9248 - val_loss: 2.9953 - val_categorical_accuracy: 0.6491\n",
      "Epoch 28/300\n",
      "97/97 [==============================] - ETA: 0s - loss: 0.0469 - categorical_accuracy: 0.9255\n",
      "Epoch 00028: val_categorical_accuracy did not improve from 0.64909\n",
      "97/97 [==============================] - 44s 456ms/step - loss: 0.0469 - categorical_accuracy: 0.9255 - val_loss: 3.0646 - val_categorical_accuracy: 0.6380\n",
      "Epoch 29/300\n",
      "97/97 [==============================] - ETA: 0s - loss: 0.0487 - categorical_accuracy: 0.9205\n",
      "Epoch 00029: val_categorical_accuracy did not improve from 0.64909\n",
      "97/97 [==============================] - 45s 467ms/step - loss: 0.0487 - categorical_accuracy: 0.9205 - val_loss: 3.2645 - val_categorical_accuracy: 0.6387\n",
      "Epoch 30/300\n",
      "97/97 [==============================] - ETA: 0s - loss: 0.0391 - categorical_accuracy: 0.9266\n",
      "Epoch 00030: val_categorical_accuracy did not improve from 0.64909\n",
      "97/97 [==============================] - 45s 466ms/step - loss: 0.0391 - categorical_accuracy: 0.9266 - val_loss: 3.2870 - val_categorical_accuracy: 0.6387\n",
      "Epoch 31/300\n",
      "97/97 [==============================] - ETA: 0s - loss: 0.0361 - categorical_accuracy: 0.9269\n",
      "Epoch 00031: val_categorical_accuracy improved from 0.64909 to 0.65169, saving model to CuratedTotal.best_weights_128.hdf5\n",
      "97/97 [==============================] - 47s 485ms/step - loss: 0.0361 - categorical_accuracy: 0.9269 - val_loss: 3.3570 - val_categorical_accuracy: 0.6517\n",
      "Epoch 32/300\n",
      "97/97 [==============================] - ETA: 0s - loss: 0.0378 - categorical_accuracy: 0.9302\n",
      "Epoch 00032: val_categorical_accuracy did not improve from 0.65169\n",
      "97/97 [==============================] - 46s 470ms/step - loss: 0.0378 - categorical_accuracy: 0.9302 - val_loss: 3.3301 - val_categorical_accuracy: 0.6497\n",
      "Epoch 33/300\n",
      "97/97 [==============================] - ETA: 0s - loss: 0.0283 - categorical_accuracy: 0.9315\n",
      "Epoch 00033: val_categorical_accuracy improved from 0.65169 to 0.65495, saving model to CuratedTotal.best_weights_128.hdf5\n",
      "97/97 [==============================] - 46s 476ms/step - loss: 0.0283 - categorical_accuracy: 0.9315 - val_loss: 3.3884 - val_categorical_accuracy: 0.6549\n",
      "Epoch 34/300\n",
      "97/97 [==============================] - ETA: 0s - loss: 0.0444 - categorical_accuracy: 0.9352\n",
      "Epoch 00034: val_categorical_accuracy did not improve from 0.65495\n",
      "97/97 [==============================] - 46s 473ms/step - loss: 0.0444 - categorical_accuracy: 0.9352 - val_loss: 3.6546 - val_categorical_accuracy: 0.6458\n",
      "Epoch 35/300\n",
      "97/97 [==============================] - ETA: 0s - loss: 0.0525 - categorical_accuracy: 0.9315\n",
      "Epoch 00035: val_categorical_accuracy did not improve from 0.65495\n",
      "97/97 [==============================] - 46s 479ms/step - loss: 0.0525 - categorical_accuracy: 0.9315 - val_loss: 3.8709 - val_categorical_accuracy: 0.6380\n",
      "Epoch 36/300\n",
      "97/97 [==============================] - ETA: 0s - loss: 0.0486 - categorical_accuracy: 0.9326\n",
      "Epoch 00036: val_categorical_accuracy did not improve from 0.65495\n",
      "97/97 [==============================] - 45s 468ms/step - loss: 0.0486 - categorical_accuracy: 0.9326 - val_loss: 3.6531 - val_categorical_accuracy: 0.6387\n",
      "Epoch 37/300\n",
      "97/97 [==============================] - ETA: 0s - loss: 0.0648 - categorical_accuracy: 0.9352\n",
      "Epoch 00037: val_categorical_accuracy did not improve from 0.65495\n",
      "97/97 [==============================] - 44s 458ms/step - loss: 0.0648 - categorical_accuracy: 0.9352 - val_loss: 3.8539 - val_categorical_accuracy: 0.6139\n",
      "Epoch 38/300\n",
      "97/97 [==============================] - ETA: 0s - loss: 0.0571 - categorical_accuracy: 0.9347\n",
      "Epoch 00038: val_categorical_accuracy did not improve from 0.65495\n",
      "97/97 [==============================] - 46s 475ms/step - loss: 0.0571 - categorical_accuracy: 0.9347 - val_loss: 3.7448 - val_categorical_accuracy: 0.6309\n",
      "Epoch 39/300\n",
      "97/97 [==============================] - ETA: 0s - loss: 0.0466 - categorical_accuracy: 0.9368\n",
      "Epoch 00039: val_categorical_accuracy did not improve from 0.65495\n",
      "\n",
      "Epoch 00039: ReduceLROnPlateau reducing learning rate to 0.00032399998744949695.\n",
      "97/97 [==============================] - 47s 480ms/step - loss: 0.0466 - categorical_accuracy: 0.9368 - val_loss: 3.6421 - val_categorical_accuracy: 0.6413\n",
      "Epoch 40/300\n",
      "97/97 [==============================] - ETA: 0s - loss: 0.0329 - categorical_accuracy: 0.9287\n",
      "Epoch 00040: val_categorical_accuracy did not improve from 0.65495\n",
      "97/97 [==============================] - 46s 472ms/step - loss: 0.0329 - categorical_accuracy: 0.9287 - val_loss: 3.3277 - val_categorical_accuracy: 0.6504\n",
      "Epoch 41/300\n",
      "97/97 [==============================] - ETA: 0s - loss: 0.0178 - categorical_accuracy: 0.9290\n",
      "Epoch 00041: val_categorical_accuracy improved from 0.65495 to 0.65820, saving model to CuratedTotal.best_weights_128.hdf5\n",
      "97/97 [==============================] - 45s 465ms/step - loss: 0.0178 - categorical_accuracy: 0.9290 - val_loss: 3.2667 - val_categorical_accuracy: 0.6582\n",
      "Epoch 42/300\n",
      "97/97 [==============================] - ETA: 0s - loss: 0.0151 - categorical_accuracy: 0.9355\n",
      "Epoch 00042: val_categorical_accuracy did not improve from 0.65820\n",
      "97/97 [==============================] - 45s 459ms/step - loss: 0.0151 - categorical_accuracy: 0.9355 - val_loss: 3.5773 - val_categorical_accuracy: 0.6582\n",
      "Epoch 43/300\n",
      "97/97 [==============================] - ETA: 0s - loss: 0.0160 - categorical_accuracy: 0.9331\n",
      "Epoch 00043: val_categorical_accuracy improved from 0.65820 to 0.66471, saving model to CuratedTotal.best_weights_128.hdf5\n",
      "97/97 [==============================] - 47s 481ms/step - loss: 0.0160 - categorical_accuracy: 0.9331 - val_loss: 3.6423 - val_categorical_accuracy: 0.6647\n",
      "Epoch 44/300\n",
      "97/97 [==============================] - ETA: 0s - loss: 0.0165 - categorical_accuracy: 0.9292\n",
      "Epoch 00044: val_categorical_accuracy improved from 0.66471 to 0.67708, saving model to CuratedTotal.best_weights_128.hdf5\n",
      "97/97 [==============================] - 46s 476ms/step - loss: 0.0165 - categorical_accuracy: 0.9292 - val_loss: 3.6282 - val_categorical_accuracy: 0.6771\n",
      "Epoch 45/300\n",
      "97/97 [==============================] - ETA: 0s - loss: 0.0280 - categorical_accuracy: 0.9295\n",
      "Epoch 00045: val_categorical_accuracy did not improve from 0.67708\n",
      "97/97 [==============================] - 47s 486ms/step - loss: 0.0280 - categorical_accuracy: 0.9295 - val_loss: 3.7861 - val_categorical_accuracy: 0.6556\n",
      "Epoch 46/300\n",
      "97/97 [==============================] - ETA: 0s - loss: 0.0197 - categorical_accuracy: 0.9276\n",
      "Epoch 00046: val_categorical_accuracy did not improve from 0.67708\n",
      "97/97 [==============================] - 46s 474ms/step - loss: 0.0197 - categorical_accuracy: 0.9276 - val_loss: 3.6860 - val_categorical_accuracy: 0.6504\n",
      "Epoch 47/300\n",
      "97/97 [==============================] - ETA: 0s - loss: 0.0145 - categorical_accuracy: 0.9310\n",
      "Epoch 00047: val_categorical_accuracy did not improve from 0.67708\n",
      "97/97 [==============================] - 47s 483ms/step - loss: 0.0145 - categorical_accuracy: 0.9310 - val_loss: 3.6015 - val_categorical_accuracy: 0.6738\n",
      "Epoch 48/300\n",
      "97/97 [==============================] - ETA: 0s - loss: 0.0181 - categorical_accuracy: 0.9345\n",
      "Epoch 00048: val_categorical_accuracy did not improve from 0.67708\n",
      "97/97 [==============================] - 46s 473ms/step - loss: 0.0181 - categorical_accuracy: 0.9345 - val_loss: 3.4750 - val_categorical_accuracy: 0.6699\n",
      "Epoch 49/300\n",
      "97/97 [==============================] - ETA: 0s - loss: 0.0115 - categorical_accuracy: 0.9345\n",
      "Epoch 00049: val_categorical_accuracy did not improve from 0.67708\n",
      "97/97 [==============================] - 46s 476ms/step - loss: 0.0115 - categorical_accuracy: 0.9345 - val_loss: 3.5345 - val_categorical_accuracy: 0.6712\n",
      "Epoch 50/300\n",
      "97/97 [==============================] - ETA: 0s - loss: 0.0160 - categorical_accuracy: 0.9316\n",
      "Epoch 00050: val_categorical_accuracy did not improve from 0.67708\n",
      "\n",
      "Epoch 00050: ReduceLROnPlateau reducing learning rate to 0.00019439999596215785.\n",
      "97/97 [==============================] - 47s 489ms/step - loss: 0.0160 - categorical_accuracy: 0.9316 - val_loss: 3.7477 - val_categorical_accuracy: 0.6576\n",
      "Epoch 51/300\n",
      "97/97 [==============================] - ETA: 0s - loss: 0.0111 - categorical_accuracy: 0.9350\n",
      "Epoch 00051: val_categorical_accuracy did not improve from 0.67708\n",
      "97/97 [==============================] - 46s 470ms/step - loss: 0.0111 - categorical_accuracy: 0.9350 - val_loss: 3.7213 - val_categorical_accuracy: 0.6556\n",
      "Epoch 52/300\n",
      "97/97 [==============================] - ETA: 0s - loss: 0.0082 - categorical_accuracy: 0.9345\n",
      "Epoch 00052: val_categorical_accuracy did not improve from 0.67708\n",
      "97/97 [==============================] - 48s 492ms/step - loss: 0.0082 - categorical_accuracy: 0.9345 - val_loss: 3.7136 - val_categorical_accuracy: 0.6569\n",
      "Epoch 53/300\n",
      "97/97 [==============================] - ETA: 0s - loss: 0.0065 - categorical_accuracy: 0.9387\n",
      "Epoch 00053: val_categorical_accuracy did not improve from 0.67708\n",
      "97/97 [==============================] - 47s 483ms/step - loss: 0.0065 - categorical_accuracy: 0.9387 - val_loss: 3.7698 - val_categorical_accuracy: 0.6615\n",
      "Epoch 54/300\n",
      "97/97 [==============================] - ETA: 0s - loss: 0.0077 - categorical_accuracy: 0.9347\n",
      "Epoch 00054: val_categorical_accuracy did not improve from 0.67708\n",
      "97/97 [==============================] - 46s 478ms/step - loss: 0.0077 - categorical_accuracy: 0.9347 - val_loss: 3.8244 - val_categorical_accuracy: 0.6615\n",
      "Epoch 55/300\n",
      "97/97 [==============================] - ETA: 0s - loss: 0.0071 - categorical_accuracy: 0.9379\n",
      "Epoch 00055: val_categorical_accuracy did not improve from 0.67708\n",
      "97/97 [==============================] - 48s 492ms/step - loss: 0.0071 - categorical_accuracy: 0.9379 - val_loss: 3.8910 - val_categorical_accuracy: 0.6595\n",
      "Epoch 56/300\n",
      "97/97 [==============================] - ETA: 0s - loss: 0.0047 - categorical_accuracy: 0.9386\n",
      "Epoch 00056: val_categorical_accuracy did not improve from 0.67708\n",
      "\n",
      "Epoch 00056: ReduceLROnPlateau reducing learning rate to 0.0001166399975772947.\n",
      "97/97 [==============================] - 46s 479ms/step - loss: 0.0047 - categorical_accuracy: 0.9386 - val_loss: 3.8275 - val_categorical_accuracy: 0.6719\n",
      "Epoch 57/300\n",
      "97/97 [==============================] - ETA: 0s - loss: 0.0058 - categorical_accuracy: 0.9389\n",
      "Epoch 00057: val_categorical_accuracy did not improve from 0.67708\n",
      "97/97 [==============================] - 48s 490ms/step - loss: 0.0058 - categorical_accuracy: 0.9389 - val_loss: 3.8437 - val_categorical_accuracy: 0.6725\n",
      "Epoch 58/300\n",
      "97/97 [==============================] - ETA: 0s - loss: 0.0039 - categorical_accuracy: 0.9376\n",
      "Epoch 00058: val_categorical_accuracy did not improve from 0.67708\n",
      "97/97 [==============================] - 46s 478ms/step - loss: 0.0039 - categorical_accuracy: 0.9376 - val_loss: 3.8073 - val_categorical_accuracy: 0.6699\n",
      "Epoch 59/300\n",
      "97/97 [==============================] - ETA: 0s - loss: 0.0034 - categorical_accuracy: 0.9358\n",
      "Epoch 00059: val_categorical_accuracy did not improve from 0.67708\n",
      "97/97 [==============================] - 47s 484ms/step - loss: 0.0034 - categorical_accuracy: 0.9358 - val_loss: 3.9459 - val_categorical_accuracy: 0.6647\n",
      "Epoch 60/300\n",
      "97/97 [==============================] - ETA: 0s - loss: 0.0027 - categorical_accuracy: 0.9397\n",
      "Epoch 00060: val_categorical_accuracy did not improve from 0.67708\n",
      "97/97 [==============================] - 46s 479ms/step - loss: 0.0027 - categorical_accuracy: 0.9397 - val_loss: 3.9274 - val_categorical_accuracy: 0.6699\n",
      "Epoch 61/300\n",
      "97/97 [==============================] - ETA: 0s - loss: 0.0046 - categorical_accuracy: 0.9373\n",
      "Epoch 00061: val_categorical_accuracy did not improve from 0.67708\n",
      "97/97 [==============================] - 45s 464ms/step - loss: 0.0046 - categorical_accuracy: 0.9373 - val_loss: 3.9338 - val_categorical_accuracy: 0.6686\n",
      "Epoch 62/300\n",
      "97/97 [==============================] - ETA: 0s - loss: 0.0038 - categorical_accuracy: 0.9363\n",
      "Epoch 00062: val_categorical_accuracy did not improve from 0.67708\n",
      "\n",
      "Epoch 00062: ReduceLROnPlateau reducing learning rate to 6.998399767326191e-05.\n",
      "97/97 [==============================] - 48s 490ms/step - loss: 0.0038 - categorical_accuracy: 0.9363 - val_loss: 4.0079 - val_categorical_accuracy: 0.6562\n",
      "Epoch 63/300\n",
      "97/97 [==============================] - ETA: 0s - loss: 0.0052 - categorical_accuracy: 0.9350\n",
      "Epoch 00063: val_categorical_accuracy did not improve from 0.67708\n",
      "97/97 [==============================] - 47s 481ms/step - loss: 0.0052 - categorical_accuracy: 0.9350 - val_loss: 3.9892 - val_categorical_accuracy: 0.6595\n",
      "Epoch 64/300\n",
      "97/97 [==============================] - ETA: 0s - loss: 0.0030 - categorical_accuracy: 0.9379\n",
      "Epoch 00064: val_categorical_accuracy did not improve from 0.67708\n",
      "97/97 [==============================] - 45s 467ms/step - loss: 0.0030 - categorical_accuracy: 0.9379 - val_loss: 3.9858 - val_categorical_accuracy: 0.6647\n",
      "Epoch 65/300\n",
      "97/97 [==============================] - ETA: 0s - loss: 0.0036 - categorical_accuracy: 0.9389\n",
      "Epoch 00065: val_categorical_accuracy did not improve from 0.67708\n",
      "97/97 [==============================] - 47s 483ms/step - loss: 0.0036 - categorical_accuracy: 0.9389 - val_loss: 3.9852 - val_categorical_accuracy: 0.6699\n",
      "Epoch 66/300\n",
      "97/97 [==============================] - ETA: 0s - loss: 0.0035 - categorical_accuracy: 0.9386\n",
      "Epoch 00066: val_categorical_accuracy did not improve from 0.67708\n",
      "97/97 [==============================] - 46s 474ms/step - loss: 0.0035 - categorical_accuracy: 0.9386 - val_loss: 4.0037 - val_categorical_accuracy: 0.6751\n",
      "Epoch 67/300\n",
      "97/97 [==============================] - ETA: 0s - loss: 0.0024 - categorical_accuracy: 0.9413\n",
      "Epoch 00067: val_categorical_accuracy did not improve from 0.67708\n",
      "97/97 [==============================] - 46s 479ms/step - loss: 0.0024 - categorical_accuracy: 0.9413 - val_loss: 4.0321 - val_categorical_accuracy: 0.6738\n",
      "Epoch 68/300\n",
      "97/97 [==============================] - ETA: 0s - loss: 0.0020 - categorical_accuracy: 0.9423\n",
      "Epoch 00068: val_categorical_accuracy did not improve from 0.67708\n",
      "\n",
      "Epoch 00068: ReduceLROnPlateau reducing learning rate to 4.199039685772732e-05.\n",
      "97/97 [==============================] - 48s 499ms/step - loss: 0.0020 - categorical_accuracy: 0.9423 - val_loss: 4.0792 - val_categorical_accuracy: 0.6738\n",
      "Epoch 69/300\n",
      "97/97 [==============================] - ETA: 0s - loss: 0.0018 - categorical_accuracy: 0.9389\n",
      "Epoch 00069: val_categorical_accuracy improved from 0.67708 to 0.67773, saving model to CuratedTotal.best_weights_128.hdf5\n",
      "97/97 [==============================] - 47s 482ms/step - loss: 0.0018 - categorical_accuracy: 0.9389 - val_loss: 4.0928 - val_categorical_accuracy: 0.6777\n",
      "Epoch 70/300\n",
      "97/97 [==============================] - ETA: 0s - loss: 0.0019 - categorical_accuracy: 0.9417\n",
      "Epoch 00070: val_categorical_accuracy did not improve from 0.67773\n",
      "97/97 [==============================] - 49s 502ms/step - loss: 0.0019 - categorical_accuracy: 0.9417 - val_loss: 4.0787 - val_categorical_accuracy: 0.6725\n",
      "Epoch 71/300\n",
      "97/97 [==============================] - ETA: 0s - loss: 0.0020 - categorical_accuracy: 0.9391\n",
      "Epoch 00071: val_categorical_accuracy did not improve from 0.67773\n",
      "97/97 [==============================] - 47s 488ms/step - loss: 0.0020 - categorical_accuracy: 0.9391 - val_loss: 4.1165 - val_categorical_accuracy: 0.6699\n",
      "Epoch 72/300\n",
      "97/97 [==============================] - ETA: 0s - loss: 0.0037 - categorical_accuracy: 0.9408\n",
      "Epoch 00072: val_categorical_accuracy did not improve from 0.67773\n",
      "97/97 [==============================] - 48s 493ms/step - loss: 0.0037 - categorical_accuracy: 0.9408 - val_loss: 4.0747 - val_categorical_accuracy: 0.6608\n",
      "Epoch 73/300\n",
      "97/97 [==============================] - ETA: 0s - loss: 0.0018 - categorical_accuracy: 0.9384\n",
      "Epoch 00073: val_categorical_accuracy did not improve from 0.67773\n",
      "97/97 [==============================] - 49s 509ms/step - loss: 0.0018 - categorical_accuracy: 0.9384 - val_loss: 4.0934 - val_categorical_accuracy: 0.6615\n",
      "Epoch 74/300\n",
      "97/97 [==============================] - ETA: 0s - loss: 0.0016 - categorical_accuracy: 0.9347\n",
      "Epoch 00074: val_categorical_accuracy did not improve from 0.67773\n",
      "97/97 [==============================] - 47s 483ms/step - loss: 0.0016 - categorical_accuracy: 0.9347 - val_loss: 4.1461 - val_categorical_accuracy: 0.6641\n",
      "Epoch 00074: early stopping\n"
     ]
    }
   ],
   "source": [
    "history=custom_densenet169_model.fit_generator(generator=train_generator,\n",
    "                    steps_per_epoch=STEP_SIZE_TRAIN,\n",
    "                    validation_data=valid_generator,\n",
    "                    validation_steps=STEP_SIZE_VALID,\n",
    "                    epochs=300,\n",
    "                    callbacks=callbacks_list\n",
    ")"
   ]
  },
  {
   "cell_type": "code",
   "execution_count": 30,
   "metadata": {
    "execution": {
     "iopub.execute_input": "2020-10-05T04:18:36.905936Z",
     "iopub.status.busy": "2020-10-05T04:18:36.904995Z",
     "iopub.status.idle": "2020-10-05T04:18:36.906956Z",
     "shell.execute_reply": "2020-10-05T04:18:36.907582Z"
    },
    "papermill": {
     "duration": 2.863262,
     "end_time": "2020-10-05T04:18:36.907714",
     "exception": false,
     "start_time": "2020-10-05T04:18:34.044452",
     "status": "completed"
    },
    "tags": []
   },
   "outputs": [],
   "source": [
    "#history.history"
   ]
  },
  {
   "cell_type": "code",
   "execution_count": 31,
   "metadata": {
    "execution": {
     "iopub.execute_input": "2020-10-05T04:18:42.760062Z",
     "iopub.status.busy": "2020-10-05T04:18:42.758930Z",
     "iopub.status.idle": "2020-10-05T04:18:43.106802Z",
     "shell.execute_reply": "2020-10-05T04:18:43.107676Z"
    },
    "papermill": {
     "duration": 3.408663,
     "end_time": "2020-10-05T04:18:43.107895",
     "exception": false,
     "start_time": "2020-10-05T04:18:39.699232",
     "status": "completed"
    },
    "tags": []
   },
   "outputs": [
    {
     "data": {
      "image/png": "[encoded data removed]",
      "text/plain": [
       "<Figure size 432x288 with 1 Axes>"
      ]
     },
     "metadata": {
      "needs_background": "light"
     },
     "output_type": "display_data"
    }
   ],
   "source": [
    "import matplotlib.pyplot as plt\n",
    "\n",
    "\n",
    "loss_train = history.history['loss']\n",
    "loss_val = history.history['val_loss']\n",
    "#epochs = np.range(1,1)\n",
    "plt.plot(loss_train, 'g', label='Training loss')\n",
    "plt.plot(loss_val, 'b', label='validation loss')\n",
    "plt.title('Training and Validation loss')\n",
    "plt.xlabel('Epochs')\n",
    "plt.ylabel('Loss')\n",
    "plt.legend()\n",
    "plt.show()"
   ]
  },
  {
   "cell_type": "code",
   "execution_count": 32,
   "metadata": {
    "execution": {
     "iopub.execute_input": "2020-10-05T04:18:48.740699Z",
     "iopub.status.busy": "2020-10-05T04:18:48.739226Z",
     "iopub.status.idle": "2020-10-05T04:18:48.935281Z",
     "shell.execute_reply": "2020-10-05T04:18:48.936033Z"
    },
    "papermill": {
     "duration": 2.983164,
     "end_time": "2020-10-05T04:18:48.936199",
     "exception": false,
     "start_time": "2020-10-05T04:18:45.953035",
     "status": "completed"
    },
    "tags": []
   },
   "outputs": [
    {
     "data": {
      "image/png": "[encoded data removed]",
      "text/plain": [
       "<Figure size 432x288 with 1 Axes>"
      ]
     },
     "metadata": {
      "needs_background": "light"
     },
     "output_type": "display_data"
    }
   ],
   "source": [
    "loss_train = history.history['categorical_accuracy']\n",
    "loss_val = history.history['val_categorical_accuracy']\n",
    "epochs = range(1,41)\n",
    "plt.plot(loss_train, 'g', label='Training accuracy')\n",
    "plt.plot(loss_val, 'b', label='validation accuracy')\n",
    "plt.title('Training and Validation accuracy')\n",
    "plt.xlabel('Epochs')\n",
    "plt.ylabel('Accuracy')\n",
    "plt.legend()\n",
    "plt.show()"
   ]
  },
  {
   "cell_type": "code",
   "execution_count": 33,
   "metadata": {
    "execution": {
     "iopub.execute_input": "2020-10-05T04:18:54.763989Z",
     "iopub.status.busy": "2020-10-05T04:18:54.762510Z",
     "iopub.status.idle": "2020-10-05T04:18:58.150879Z",
     "shell.execute_reply": "2020-10-05T04:18:58.150225Z"
    },
    "papermill": {
     "duration": 6.437433,
     "end_time": "2020-10-05T04:18:58.151013",
     "exception": false,
     "start_time": "2020-10-05T04:18:51.713580",
     "status": "completed"
    },
    "tags": []
   },
   "outputs": [
    {
     "name": "stdout",
     "output_type": "stream",
     "text": [
      "25/25 [==============================] - 3s 107ms/step\n"
     ]
    }
   ],
   "source": [
    "res = custom_densenet169_model.predict_generator(valid_generator, verbose=1)\n",
    "\n",
    "    "
   ]
  },
  {
   "cell_type": "code",
   "execution_count": 34,
   "metadata": {
    "execution": {
     "iopub.execute_input": "2020-10-05T04:19:03.735974Z",
     "iopub.status.busy": "2020-10-05T04:19:03.734866Z",
     "iopub.status.idle": "2020-10-05T04:19:08.912843Z",
     "shell.execute_reply": "2020-10-05T04:19:08.912197Z"
    },
    "papermill": {
     "duration": 7.960054,
     "end_time": "2020-10-05T04:19:08.912970",
     "exception": false,
     "start_time": "2020-10-05T04:19:00.952916",
     "status": "completed"
    },
    "tags": []
   },
   "outputs": [
    {
     "name": "stdout",
     "output_type": "stream",
     "text": [
      "22/22 [==============================] - 4s 200ms/step\n"
     ]
    }
   ],
   "source": [
    "test_generator.reset()\n",
    "res_test=custom_densenet169_model.predict_generator(test_generator,\n",
    "#steps=STEP_SIZE_TEST,\n",
    "verbose=1)"
   ]
  },
  {
   "cell_type": "code",
   "execution_count": 35,
   "metadata": {
    "execution": {
     "iopub.execute_input": "2020-10-05T04:19:14.930462Z",
     "iopub.status.busy": "2020-10-05T04:19:14.929454Z",
     "iopub.status.idle": "2020-10-05T04:19:17.838242Z",
     "shell.execute_reply": "2020-10-05T04:19:17.837680Z"
    },
    "papermill": {
     "duration": 5.9124,
     "end_time": "2020-10-05T04:19:17.838361",
     "exception": false,
     "start_time": "2020-10-05T04:19:11.925961",
     "status": "completed"
    },
    "tags": []
   },
   "outputs": [
    {
     "name": "stdout",
     "output_type": "stream",
     "text": [
      "25/25 [==============================] - 3s 103ms/step\n"
     ]
    }
   ],
   "source": [
    "valid_generator.reset()\n",
    "res_cv=custom_densenet169_model.predict_generator(valid_generator,\n",
    "#steps=STEP_SIZE_TEST,\n",
    "verbose=1)"
   ]
  },
  {
   "cell_type": "code",
   "execution_count": 36,
   "metadata": {
    "execution": {
     "iopub.execute_input": "2020-10-05T04:19:23.459517Z",
     "iopub.status.busy": "2020-10-05T04:19:23.457853Z",
     "iopub.status.idle": "2020-10-05T04:20:05.775442Z",
     "shell.execute_reply": "2020-10-05T04:20:05.774721Z"
    },
    "papermill": {
     "duration": 45.150465,
     "end_time": "2020-10-05T04:20:05.775628",
     "exception": false,
     "start_time": "2020-10-05T04:19:20.625163",
     "status": "completed"
    },
    "tags": []
   },
   "outputs": [
    {
     "name": "stdout",
     "output_type": "stream",
     "text": [
      "98/98 [==============================] - 42s 424ms/step\n"
     ]
    }
   ],
   "source": [
    "train_generator.reset()\n",
    "res_train=custom_densenet169_model.predict_generator(train_generator,\n",
    "#steps=STEP_SIZE_TEST,\n",
    "verbose=1)"
   ]
  },
  {
   "cell_type": "code",
   "execution_count": 37,
   "metadata": {
    "execution": {
     "iopub.execute_input": "2020-10-05T04:20:11.844761Z",
     "iopub.status.busy": "2020-10-05T04:20:11.843850Z",
     "iopub.status.idle": "2020-10-05T04:20:11.847359Z",
     "shell.execute_reply": "2020-10-05T04:20:11.847922Z"
    },
    "papermill": {
     "duration": 3.113277,
     "end_time": "2020-10-05T04:20:11.848057",
     "exception": false,
     "start_time": "2020-10-05T04:20:08.734780",
     "status": "completed"
    },
    "tags": []
   },
   "outputs": [
    {
     "data": {
      "text/plain": [
       "(1380, 80)"
      ]
     },
     "execution_count": 37,
     "metadata": {},
     "output_type": "execute_result"
    }
   ],
   "source": [
    "res_test.shape"
   ]
  },
  {
   "cell_type": "code",
   "execution_count": 38,
   "metadata": {
    "execution": {
     "iopub.execute_input": "2020-10-05T04:20:17.771113Z",
     "iopub.status.busy": "2020-10-05T04:20:17.770160Z",
     "iopub.status.idle": "2020-10-05T04:20:17.968110Z",
     "shell.execute_reply": "2020-10-05T04:20:17.967420Z"
    },
    "papermill": {
     "duration": 3.218924,
     "end_time": "2020-10-05T04:20:17.968249",
     "exception": false,
     "start_time": "2020-10-05T04:20:14.749325",
     "status": "completed"
    },
    "tags": []
   },
   "outputs": [],
   "source": [
    "# Converting taget and identity columns to booleans\n",
    "\n",
    "target_columns=list(trainmultidf.columns)[:-1]\n",
    "\n",
    "def convert_to_bool(df, col_name):\n",
    "    df[col_name] = np.where(df[col_name] >= 0.5, True, False)\n",
    "    \n",
    "def convert_dataframe_to_bool(df):\n",
    "    bool_df = df.copy()\n",
    "    for col in target_columns:\n",
    "        convert_to_bool(bool_df, col)\n",
    "    return bool_df\n",
    "\n",
    "test_bool = convert_dataframe_to_bool(testmultidf) \n",
    "test_lable_bool=test_bool[list(test_bool.columns)[:-1]].to_numpy()\n",
    "\n",
    "train_bool = convert_dataframe_to_bool(trainmultidf) \n",
    "train_lable_bool=train_bool[list(train_bool.columns)[:-1]].to_numpy()\n",
    "\n",
    "cv_bool = convert_dataframe_to_bool(cvmultidf) \n",
    "cv_lable_bool=cv_bool[list(cv_bool.columns)[:-1]].to_numpy()"
   ]
  },
  {
   "cell_type": "code",
   "execution_count": 39,
   "metadata": {
    "execution": {
     "iopub.execute_input": "2020-10-05T04:20:23.863366Z",
     "iopub.status.busy": "2020-10-05T04:20:23.862454Z",
     "iopub.status.idle": "2020-10-05T04:20:23.865917Z",
     "shell.execute_reply": "2020-10-05T04:20:23.866444Z"
    },
    "papermill": {
     "duration": 2.94302,
     "end_time": "2020-10-05T04:20:23.866638",
     "exception": false,
     "start_time": "2020-10-05T04:20:20.923618",
     "status": "completed"
    },
    "tags": []
   },
   "outputs": [
    {
     "data": {
      "text/plain": [
       "(1563, 80)"
      ]
     },
     "execution_count": 39,
     "metadata": {},
     "output_type": "execute_result"
    }
   ],
   "source": [
    "cv_lable_bool.shape"
   ]
  },
  {
   "cell_type": "markdown",
   "metadata": {
    "papermill": {
     "duration": 2.90076,
     "end_time": "2020-10-05T04:20:30.203858",
     "exception": false,
     "start_time": "2020-10-05T04:20:27.303098",
     "status": "completed"
    },
    "tags": []
   },
   "source": [
    "# Evaluation Metric"
   ]
  },
  {
   "cell_type": "code",
   "execution_count": 40,
   "metadata": {
    "execution": {
     "iopub.execute_input": "2020-10-05T04:20:36.333994Z",
     "iopub.status.busy": "2020-10-05T04:20:36.333058Z",
     "iopub.status.idle": "2020-10-05T04:20:36.336185Z",
     "shell.execute_reply": "2020-10-05T04:20:36.335697Z"
    },
    "papermill": {
     "duration": 2.875174,
     "end_time": "2020-10-05T04:20:36.336303",
     "exception": false,
     "start_time": "2020-10-05T04:20:33.461129",
     "status": "completed"
    },
    "tags": []
   },
   "outputs": [],
   "source": [
    "import numpy as np\n",
    "import sklearn.metrics"
   ]
  },
  {
   "cell_type": "code",
   "execution_count": 41,
   "metadata": {
    "execution": {
     "iopub.execute_input": "2020-10-05T04:20:42.039896Z",
     "iopub.status.busy": "2020-10-05T04:20:42.038957Z",
     "iopub.status.idle": "2020-10-05T04:20:42.042218Z",
     "shell.execute_reply": "2020-10-05T04:20:42.041679Z"
    },
    "papermill": {
     "duration": 2.864901,
     "end_time": "2020-10-05T04:20:42.042317",
     "exception": false,
     "start_time": "2020-10-05T04:20:39.177416",
     "status": "completed"
    },
    "tags": []
   },
   "outputs": [],
   "source": [
    "# Core calculation of label precisions for one test sample.\n",
    "\n",
    "def _one_sample_positive_class_precisions(scores, truth):\n",
    "  \"\"\"Calculate precisions for each true class for a single sample.\n",
    "  \n",
    "  Args:\n",
    "    scores: np.array of (num_classes,) giving the individual classifier scores.\n",
    "    truth: np.array of (num_classes,) bools indicating which classes are true.\n",
    "\n",
    "  Returns:\n",
    "    pos_class_indices: np.array of indices of the true classes for this sample.\n",
    "    pos_class_precisions: np.array of precisions corresponding to each of those\n",
    "      classes.\n",
    "  \"\"\"\n",
    "  num_classes = scores.shape[0]\n",
    "  pos_class_indices = np.flatnonzero(truth > 0)\n",
    "  # Only calculate precisions if there are some true classes.\n",
    "  if not len(pos_class_indices):\n",
    "    return pos_class_indices, np.zeros(0)\n",
    "  # Retrieval list of classes for this sample. \n",
    "  retrieved_classes = np.argsort(scores)[::-1]\n",
    "  # class_rankings[top_scoring_class_index] == 0 etc.\n",
    "  class_rankings = np.zeros(num_classes, dtype=np.int)\n",
    "  class_rankings[retrieved_classes] = range(num_classes)\n",
    "  # Which of these is a true label?\n",
    "  retrieved_class_true = np.zeros(num_classes, dtype=np.bool)\n",
    "  retrieved_class_true[class_rankings[pos_class_indices]] = True\n",
    "  # Num hits for every truncated retrieval list.\n",
    "  retrieved_cumulative_hits = np.cumsum(retrieved_class_true)\n",
    "  # Precision of retrieval list truncated at each hit, in order of pos_labels.\n",
    "  precision_at_hits = (\n",
    "      retrieved_cumulative_hits[class_rankings[pos_class_indices]] / \n",
    "      (1 + class_rankings[pos_class_indices].astype(np.float)))\n",
    "  return pos_class_indices, precision_at_hits\n"
   ]
  },
  {
   "cell_type": "code",
   "execution_count": 42,
   "metadata": {
    "execution": {
     "iopub.execute_input": "2020-10-05T04:20:48.146538Z",
     "iopub.status.busy": "2020-10-05T04:20:48.145555Z",
     "iopub.status.idle": "2020-10-05T04:20:48.148477Z",
     "shell.execute_reply": "2020-10-05T04:20:48.147972Z"
    },
    "papermill": {
     "duration": 3.004547,
     "end_time": "2020-10-05T04:20:48.148617",
     "exception": false,
     "start_time": "2020-10-05T04:20:45.144070",
     "status": "completed"
    },
    "tags": []
   },
   "outputs": [],
   "source": [
    "# All-in-one calculation of per-class lwlrap.\n",
    "\n",
    "def calculate_per_class_lwlrap(truth, scores):\n",
    "  \"\"\"Calculate label-weighted label-ranking average precision.\n",
    "  \n",
    "  Arguments:\n",
    "    truth: np.array of (num_samples, num_classes) giving boolean ground-truth\n",
    "      of presence of that class in that sample.\n",
    "    scores: np.array of (num_samples, num_classes) giving the classifier-under-\n",
    "      test's real-valued score for each class for each sample.\n",
    "  \n",
    "  Returns:\n",
    "    per_class_lwlrap: np.array of (num_classes,) giving the lwlrap for each \n",
    "      class.\n",
    "    weight_per_class: np.array of (num_classes,) giving the prior of each \n",
    "      class within the truth labels.  Then the overall unbalanced lwlrap is \n",
    "      simply np.sum(per_class_lwlrap * weight_per_class)\n",
    "  \"\"\"\n",
    "  assert truth.shape == scores.shape\n",
    "  num_samples, num_classes = scores.shape\n",
    "  # Space to store a distinct precision value for each class on each sample.\n",
    "  # Only the classes that are true for each sample will be filled in.\n",
    "  precisions_for_samples_by_classes = np.zeros((num_samples, num_classes))\n",
    "  for sample_num in range(num_samples):\n",
    "    pos_class_indices, precision_at_hits = (\n",
    "      _one_sample_positive_class_precisions(scores[sample_num, :], \n",
    "                                            truth[sample_num, :]))\n",
    "    precisions_for_samples_by_classes[sample_num, pos_class_indices] = (\n",
    "        precision_at_hits)\n",
    "  labels_per_class = np.sum(truth > 0, axis=0)\n",
    "  weight_per_class = labels_per_class / float(np.sum(labels_per_class))\n",
    "  # Form average of each column, i.e. all the precisions assigned to labels in\n",
    "  # a particular class.\n",
    "  per_class_lwlrap = (np.sum(precisions_for_samples_by_classes, axis=0) / \n",
    "                      np.maximum(1, labels_per_class))\n",
    "  # overall_lwlrap = simple average of all the actual per-class, per-sample precisions\n",
    "  #                = np.sum(precisions_for_samples_by_classes) / np.sum(precisions_for_samples_by_classes > 0)\n",
    "  #           also = weighted mean of per-class lwlraps, weighted by class label prior across samples\n",
    "  #                = np.sum(per_class_lwlrap * weight_per_class)\n",
    "  return per_class_lwlrap, weight_per_class"
   ]
  },
  {
   "cell_type": "code",
   "execution_count": 43,
   "metadata": {
    "execution": {
     "iopub.execute_input": "2020-10-05T04:20:53.909420Z",
     "iopub.status.busy": "2020-10-05T04:20:53.908093Z",
     "iopub.status.idle": "2020-10-05T04:20:53.914221Z",
     "shell.execute_reply": "2020-10-05T04:20:53.915656Z"
    },
    "papermill": {
     "duration": 2.894867,
     "end_time": "2020-10-05T04:20:53.915866",
     "exception": false,
     "start_time": "2020-10-05T04:20:51.020999",
     "status": "completed"
    },
    "tags": []
   },
   "outputs": [],
   "source": [
    "# Calculate the overall lwlrap using sklearn.metrics function.\n",
    "\n",
    "def calculate_overall_lwlrap_sklearn(truth, scores):\n",
    "  \"\"\"Calculate the overall lwlrap using sklearn.metrics.lrap.\"\"\"\n",
    "  # sklearn doesn't correctly apply weighting to samples with no labels, so just skip them.\n",
    "  sample_weight = np.sum(truth > 0, axis=1)\n",
    "  nonzero_weight_sample_indices = np.flatnonzero(sample_weight > 0)\n",
    "  overall_lwlrap = sklearn.metrics.label_ranking_average_precision_score(\n",
    "      truth[nonzero_weight_sample_indices, :] > 0, \n",
    "      scores[nonzero_weight_sample_indices, :], \n",
    "      sample_weight=sample_weight[nonzero_weight_sample_indices])\n",
    "  return overall_lwlrap"
   ]
  },
  {
   "cell_type": "code",
   "execution_count": 44,
   "metadata": {
    "execution": {
     "iopub.execute_input": "2020-10-05T04:20:59.768777Z",
     "iopub.status.busy": "2020-10-05T04:20:59.767849Z",
     "iopub.status.idle": "2020-10-05T04:20:59.771698Z",
     "shell.execute_reply": "2020-10-05T04:20:59.771128Z"
    },
    "papermill": {
     "duration": 2.855563,
     "end_time": "2020-10-05T04:20:59.771805",
     "exception": false,
     "start_time": "2020-10-05T04:20:56.916242",
     "status": "completed"
    },
    "tags": []
   },
   "outputs": [],
   "source": [
    "# Accumulator object version.\n",
    "\n",
    "class lwlrap_accumulator(object):\n",
    "  \"\"\"Accumulate batches of test samples into per-class and overall lwlrap.\"\"\"  \n",
    "\n",
    "  def __init__(self):\n",
    "    self.num_classes = 0\n",
    "    self.total_num_samples = 0\n",
    "  \n",
    "  def accumulate_samples(self, batch_truth, batch_scores):\n",
    "    \"\"\"Cumulate a new batch of samples into the metric.\n",
    "    \n",
    "    Args:\n",
    "      truth: np.array of (num_samples, num_classes) giving boolean\n",
    "        ground-truth of presence of that class in that sample for this batch.\n",
    "      scores: np.array of (num_samples, num_classes) giving the \n",
    "        classifier-under-test's real-valued score for each class for each\n",
    "        sample.\n",
    "    \"\"\"\n",
    "    assert batch_scores.shape == batch_truth.shape\n",
    "    num_samples, num_classes = batch_truth.shape\n",
    "    if not self.num_classes:\n",
    "      self.num_classes = num_classes\n",
    "      self._per_class_cumulative_precision = np.zeros(self.num_classes)\n",
    "      self._per_class_cumulative_count = np.zeros(self.num_classes, \n",
    "                                                  dtype=np.int)\n",
    "    assert num_classes == self.num_classes\n",
    "    for truth, scores in zip(batch_truth, batch_scores):\n",
    "      pos_class_indices, precision_at_hits = (\n",
    "        _one_sample_positive_class_precisions(scores, truth))\n",
    "      self._per_class_cumulative_precision[pos_class_indices] += (\n",
    "        precision_at_hits)\n",
    "      self._per_class_cumulative_count[pos_class_indices] += 1\n",
    "    self.total_num_samples += num_samples\n",
    "\n",
    "  def per_class_lwlrap(self):\n",
    "    \"\"\"Return a vector of the per-class lwlraps for the accumulated samples.\"\"\"\n",
    "    return (self._per_class_cumulative_precision / \n",
    "            np.maximum(1, self._per_class_cumulative_count))\n",
    "\n",
    "  def per_class_weight(self):\n",
    "    \"\"\"Return a normalized weight vector for the contributions of each class.\"\"\"\n",
    "    return (self._per_class_cumulative_count / \n",
    "            float(np.sum(self._per_class_cumulative_count)))\n",
    "\n",
    "  def overall_lwlrap(self):\n",
    "    \"\"\"Return the scalar overall lwlrap for cumulated samples.\"\"\"\n",
    "    return np.sum(self.per_class_lwlrap() * self.per_class_weight())"
   ]
  },
  {
   "cell_type": "code",
   "execution_count": 45,
   "metadata": {
    "execution": {
     "iopub.execute_input": "2020-10-05T04:21:05.636991Z",
     "iopub.status.busy": "2020-10-05T04:21:05.635948Z",
     "iopub.status.idle": "2020-10-05T04:21:05.844750Z",
     "shell.execute_reply": "2020-10-05T04:21:05.845263Z"
    },
    "papermill": {
     "duration": 3.267736,
     "end_time": "2020-10-05T04:21:05.845397",
     "exception": false,
     "start_time": "2020-10-05T04:21:02.577661",
     "status": "completed"
    },
    "tags": []
   },
   "outputs": [
    {
     "name": "stdout",
     "output_type": "stream",
     "text": [
      "lwlrap from sklearn.metrics = 0.8062018353128418\n"
     ]
    }
   ],
   "source": [
    "#https://www.kaggle.com/voglinio/keras-2d-model-5-fold-log-specgram-curated-only\n",
    "truth = test_lable_bool\n",
    "scores = res_test\n",
    "print(\"lwlrap from sklearn.metrics =\", calculate_overall_lwlrap_sklearn(truth, scores))"
   ]
  },
  {
   "cell_type": "code",
   "execution_count": 46,
   "metadata": {
    "execution": {
     "iopub.execute_input": "2020-10-05T04:21:11.520458Z",
     "iopub.status.busy": "2020-10-05T04:21:11.519541Z",
     "iopub.status.idle": "2020-10-05T04:21:12.437780Z",
     "shell.execute_reply": "2020-10-05T04:21:12.437169Z"
    },
    "papermill": {
     "duration": 3.729706,
     "end_time": "2020-10-05T04:21:12.437900",
     "exception": false,
     "start_time": "2020-10-05T04:21:08.708194",
     "status": "completed"
    },
    "tags": []
   },
   "outputs": [
    {
     "name": "stdout",
     "output_type": "stream",
     "text": [
      "lwlrap from sklearn.metrics = 0.9995621312684365\n"
     ]
    }
   ],
   "source": [
    "truth = train_lable_bool\n",
    "scores = res_train\n",
    "print(\"lwlrap from sklearn.metrics =\", calculate_overall_lwlrap_sklearn(truth, scores))"
   ]
  },
  {
   "cell_type": "code",
   "execution_count": 47,
   "metadata": {
    "execution": {
     "iopub.execute_input": "2020-10-05T04:21:18.463578Z",
     "iopub.status.busy": "2020-10-05T04:21:18.462631Z",
     "iopub.status.idle": "2020-10-05T04:21:18.692974Z",
     "shell.execute_reply": "2020-10-05T04:21:18.693501Z"
    },
    "papermill": {
     "duration": 3.486863,
     "end_time": "2020-10-05T04:21:18.693645",
     "exception": false,
     "start_time": "2020-10-05T04:21:15.206782",
     "status": "completed"
    },
    "tags": []
   },
   "outputs": [
    {
     "name": "stdout",
     "output_type": "stream",
     "text": [
      "lwlrap from sklearn.metrics = 0.7902810906151259\n"
     ]
    }
   ],
   "source": [
    "truth = cv_lable_bool\n",
    "scores = res_cv\n",
    "print(\"lwlrap from sklearn.metrics =\", calculate_overall_lwlrap_sklearn(truth, scores))"
   ]
  },
  {
   "cell_type": "markdown",
   "metadata": {
    "papermill": {
     "duration": 2.799069,
     "end_time": "2020-10-05T04:21:24.325976",
     "exception": false,
     "start_time": "2020-10-05T04:21:21.526907",
     "status": "completed"
    },
    "tags": []
   },
   "source": [
    "## SUBMISSION"
   ]
  },
  {
   "cell_type": "code",
   "execution_count": 48,
   "metadata": {
    "execution": {
     "iopub.execute_input": "2020-10-05T04:21:30.817717Z",
     "iopub.status.busy": "2020-10-05T04:21:30.816747Z",
     "iopub.status.idle": "2020-10-05T04:21:31.447249Z",
     "shell.execute_reply": "2020-10-05T04:21:31.447769Z"
    },
    "papermill": {
     "duration": 3.640558,
     "end_time": "2020-10-05T04:21:31.447928",
     "exception": false,
     "start_time": "2020-10-05T04:21:27.807370",
     "status": "completed"
    },
    "tags": []
   },
   "outputs": [
    {
     "name": "stdout",
     "output_type": "stream",
     "text": [
      "Found 3361 validated image filenames.\n"
     ]
    }
   ],
   "source": [
    "sub_dataframe = pd.DataFrame({'fname':os.listdir('../input/sc2-total-aug-noisy-data/sub2/sub2')})\n",
    "\n",
    "sub_datagen=ImageDataGenerator(rescale=1./255.)\n",
    "sub_generator=sub_datagen.flow_from_dataframe(\n",
    "    dataframe=sub_dataframe,\n",
    "    directory=\"../input/sc2-total-aug-noisy-data/sub2/sub2\",\n",
    "    x_col=\"fname\",\n",
    "    y_col=None,\n",
    "    batch_size=64,\n",
    "    seed=42,\n",
    "    shuffle=False,\n",
    "    class_mode=None,\n",
    "    target_size=(128,128))"
   ]
  },
  {
   "cell_type": "code",
   "execution_count": 49,
   "metadata": {
    "execution": {
     "iopub.execute_input": "2020-10-05T04:21:37.188755Z",
     "iopub.status.busy": "2020-10-05T04:21:37.186719Z",
     "iopub.status.idle": "2020-10-05T04:21:37.189565Z",
     "shell.execute_reply": "2020-10-05T04:21:37.190111Z"
    },
    "papermill": {
     "duration": 2.901925,
     "end_time": "2020-10-05T04:21:37.190255",
     "exception": false,
     "start_time": "2020-10-05T04:21:34.288330",
     "status": "completed"
    },
    "tags": []
   },
   "outputs": [],
   "source": [
    "STEP_SIZE_SUB=sub_generator.n//sub_generator.batch_size"
   ]
  },
  {
   "cell_type": "code",
   "execution_count": 50,
   "metadata": {
    "execution": {
     "iopub.execute_input": "2020-10-05T04:21:43.016057Z",
     "iopub.status.busy": "2020-10-05T04:21:43.014398Z",
     "iopub.status.idle": "2020-10-05T04:21:54.682954Z",
     "shell.execute_reply": "2020-10-05T04:21:54.682298Z"
    },
    "papermill": {
     "duration": 14.445862,
     "end_time": "2020-10-05T04:21:54.683078",
     "exception": false,
     "start_time": "2020-10-05T04:21:40.237216",
     "status": "completed"
    },
    "tags": []
   },
   "outputs": [
    {
     "name": "stdout",
     "output_type": "stream",
     "text": [
      "53/53 [==============================] - 11s 213ms/step\n"
     ]
    }
   ],
   "source": [
    "sub_generator.reset()\n",
    "res_sub=custom_densenet169_model.predict_generator(sub_generator,\n",
    "#steps=STEP_SIZE_TEST,\n",
    "verbose=1)"
   ]
  },
  {
   "cell_type": "code",
   "execution_count": 51,
   "metadata": {
    "execution": {
     "iopub.execute_input": "2020-10-05T04:22:00.638725Z",
     "iopub.status.busy": "2020-10-05T04:22:00.637777Z",
     "iopub.status.idle": "2020-10-05T04:22:00.641166Z",
     "shell.execute_reply": "2020-10-05T04:22:00.641810Z"
    },
    "papermill": {
     "duration": 3.082429,
     "end_time": "2020-10-05T04:22:00.641943",
     "exception": false,
     "start_time": "2020-10-05T04:21:57.559514",
     "status": "completed"
    },
    "tags": []
   },
   "outputs": [
    {
     "data": {
      "text/plain": [
       "(3361, 80)"
      ]
     },
     "execution_count": 51,
     "metadata": {},
     "output_type": "execute_result"
    }
   ],
   "source": [
    "res_sub.shape"
   ]
  },
  {
   "cell_type": "code",
   "execution_count": 52,
   "metadata": {
    "execution": {
     "iopub.execute_input": "2020-10-05T04:22:06.441749Z",
     "iopub.status.busy": "2020-10-05T04:22:06.440926Z",
     "iopub.status.idle": "2020-10-05T04:22:06.444985Z",
     "shell.execute_reply": "2020-10-05T04:22:06.444406Z"
    },
    "papermill": {
     "duration": 2.917078,
     "end_time": "2020-10-05T04:22:06.445085",
     "exception": false,
     "start_time": "2020-10-05T04:22:03.528007",
     "status": "completed"
    },
    "tags": []
   },
   "outputs": [],
   "source": [
    "submit_data=pd.DataFrame(res_sub.astype(\"float64\"), columns=list(mlb_train.classes_))"
   ]
  },
  {
   "cell_type": "code",
   "execution_count": 53,
   "metadata": {
    "execution": {
     "iopub.execute_input": "2020-10-05T04:22:12.431051Z",
     "iopub.status.busy": "2020-10-05T04:22:12.427573Z",
     "iopub.status.idle": "2020-10-05T04:22:12.469073Z",
     "shell.execute_reply": "2020-10-05T04:22:12.469676Z"
    },
    "papermill": {
     "duration": 3.129449,
     "end_time": "2020-10-05T04:22:12.469857",
     "exception": false,
     "start_time": "2020-10-05T04:22:09.340408",
     "status": "completed"
    },
    "tags": []
   },
   "outputs": [
    {
     "data": {
      "text/html": [
       "<div>\n",
       "<style scoped>\n",
       "    .dataframe tbody tr th:only-of-type {\n",
       "        vertical-align: middle;\n",
       "    }\n",
       "\n",
       "    .dataframe tbody tr th {\n",
       "        vertical-align: top;\n",
       "    }\n",
       "\n",
       "    .dataframe thead th {\n",
       "        text-align: right;\n",
       "    }\n",
       "</style>\n",
       "<table border=\"1\" class=\"dataframe\">\n",
       "  <thead>\n",
       "    <tr style=\"text-align: right;\">\n",
       "      <th></th>\n",
       "      <th>fname</th>\n",
       "      <th>Accelerating_and_revving_and_vroom</th>\n",
       "      <th>Accordion</th>\n",
       "      <th>Acoustic_guitar</th>\n",
       "      <th>Applause</th>\n",
       "      <th>Bark</th>\n",
       "      <th>Bass_drum</th>\n",
       "      <th>Bass_guitar</th>\n",
       "      <th>Bathtub_(filling_or_washing)</th>\n",
       "      <th>Bicycle_bell</th>\n",
       "      <th>...</th>\n",
       "      <th>Toilet_flush</th>\n",
       "      <th>Traffic_noise_and_roadway_noise</th>\n",
       "      <th>Trickle_and_dribble</th>\n",
       "      <th>Walk_and_footsteps</th>\n",
       "      <th>Water_tap_and_faucet</th>\n",
       "      <th>Waves_and_surf</th>\n",
       "      <th>Whispering</th>\n",
       "      <th>Writing</th>\n",
       "      <th>Yell</th>\n",
       "      <th>Zipper_(clothing)</th>\n",
       "    </tr>\n",
       "  </thead>\n",
       "  <tbody>\n",
       "    <tr>\n",
       "      <th>0</th>\n",
       "      <td>53cefef0.wav</td>\n",
       "      <td>4.655265e-21</td>\n",
       "      <td>5.883748e-15</td>\n",
       "      <td>4.310705e-15</td>\n",
       "      <td>1.342411e-17</td>\n",
       "      <td>4.029275e-20</td>\n",
       "      <td>9.732029e-20</td>\n",
       "      <td>1.326543e-17</td>\n",
       "      <td>2.627074e-21</td>\n",
       "      <td>1.774477e-22</td>\n",
       "      <td>...</td>\n",
       "      <td>6.578094e-19</td>\n",
       "      <td>1.876823e-17</td>\n",
       "      <td>4.699254e-14</td>\n",
       "      <td>3.831513e-19</td>\n",
       "      <td>7.066564e-10</td>\n",
       "      <td>4.720536e-14</td>\n",
       "      <td>6.265503e-14</td>\n",
       "      <td>2.229921e-18</td>\n",
       "      <td>2.186134e-16</td>\n",
       "      <td>5.488362e-21</td>\n",
       "    </tr>\n",
       "    <tr>\n",
       "      <th>1</th>\n",
       "      <td>63b41f09.wav</td>\n",
       "      <td>6.299832e-06</td>\n",
       "      <td>1.999950e-13</td>\n",
       "      <td>3.885405e-15</td>\n",
       "      <td>3.415531e-14</td>\n",
       "      <td>1.683144e-13</td>\n",
       "      <td>5.552106e-09</td>\n",
       "      <td>9.090112e-08</td>\n",
       "      <td>1.328504e-12</td>\n",
       "      <td>1.052791e-16</td>\n",
       "      <td>...</td>\n",
       "      <td>3.021737e-14</td>\n",
       "      <td>2.942396e-14</td>\n",
       "      <td>3.598855e-13</td>\n",
       "      <td>1.400016e-14</td>\n",
       "      <td>3.099449e-10</td>\n",
       "      <td>8.889631e-14</td>\n",
       "      <td>4.640189e-16</td>\n",
       "      <td>2.634782e-10</td>\n",
       "      <td>4.576217e-14</td>\n",
       "      <td>8.622805e-13</td>\n",
       "    </tr>\n",
       "    <tr>\n",
       "      <th>2</th>\n",
       "      <td>9da3bbc9.wav</td>\n",
       "      <td>2.705651e-11</td>\n",
       "      <td>5.015967e-09</td>\n",
       "      <td>4.241908e-11</td>\n",
       "      <td>2.285282e-13</td>\n",
       "      <td>1.800755e-10</td>\n",
       "      <td>3.516022e-05</td>\n",
       "      <td>7.006285e-08</td>\n",
       "      <td>7.137824e-12</td>\n",
       "      <td>8.527359e-08</td>\n",
       "      <td>...</td>\n",
       "      <td>6.496293e-10</td>\n",
       "      <td>3.874161e-09</td>\n",
       "      <td>8.925707e-09</td>\n",
       "      <td>1.408674e-02</td>\n",
       "      <td>4.212971e-10</td>\n",
       "      <td>1.048889e-06</td>\n",
       "      <td>2.189146e-09</td>\n",
       "      <td>1.552304e-02</td>\n",
       "      <td>1.318025e-11</td>\n",
       "      <td>6.342714e-07</td>\n",
       "    </tr>\n",
       "    <tr>\n",
       "      <th>3</th>\n",
       "      <td>b6e192f8.wav</td>\n",
       "      <td>2.134107e-16</td>\n",
       "      <td>2.028456e-12</td>\n",
       "      <td>9.050153e-15</td>\n",
       "      <td>2.586928e-09</td>\n",
       "      <td>5.963192e-16</td>\n",
       "      <td>9.288743e-12</td>\n",
       "      <td>2.926116e-17</td>\n",
       "      <td>1.286603e-14</td>\n",
       "      <td>7.906359e-18</td>\n",
       "      <td>...</td>\n",
       "      <td>3.015744e-17</td>\n",
       "      <td>2.332278e-19</td>\n",
       "      <td>3.509833e-17</td>\n",
       "      <td>4.423819e-15</td>\n",
       "      <td>1.303146e-16</td>\n",
       "      <td>1.883680e-17</td>\n",
       "      <td>9.064858e-18</td>\n",
       "      <td>2.270238e-16</td>\n",
       "      <td>4.189229e-14</td>\n",
       "      <td>8.793186e-22</td>\n",
       "    </tr>\n",
       "    <tr>\n",
       "      <th>4</th>\n",
       "      <td>f2ebd17a.wav</td>\n",
       "      <td>1.901892e-11</td>\n",
       "      <td>1.462367e-05</td>\n",
       "      <td>2.520075e-07</td>\n",
       "      <td>4.231409e-08</td>\n",
       "      <td>3.127064e-08</td>\n",
       "      <td>3.753923e-04</td>\n",
       "      <td>3.455490e-10</td>\n",
       "      <td>8.763099e-11</td>\n",
       "      <td>3.844207e-11</td>\n",
       "      <td>...</td>\n",
       "      <td>5.273630e-09</td>\n",
       "      <td>1.008814e-09</td>\n",
       "      <td>4.868446e-12</td>\n",
       "      <td>1.666847e-01</td>\n",
       "      <td>2.819900e-11</td>\n",
       "      <td>3.561144e-09</td>\n",
       "      <td>1.594761e-08</td>\n",
       "      <td>6.606881e-07</td>\n",
       "      <td>3.041718e-08</td>\n",
       "      <td>1.713296e-07</td>\n",
       "    </tr>\n",
       "  </tbody>\n",
       "</table>\n",
       "<p>5 rows × 81 columns</p>\n",
       "</div>"
      ],
      "text/plain": [
       "          fname  Accelerating_and_revving_and_vroom     Accordion  \\\n",
       "0  53cefef0.wav                        4.655265e-21  5.883748e-15   \n",
       "1  63b41f09.wav                        6.299832e-06  1.999950e-13   \n",
       "2  9da3bbc9.wav                        2.705651e-11  5.015967e-09   \n",
       "3  b6e192f8.wav                        2.134107e-16  2.028456e-12   \n",
       "4  f2ebd17a.wav                        1.901892e-11  1.462367e-05   \n",
       "\n",
       "   Acoustic_guitar      Applause          Bark     Bass_drum   Bass_guitar  \\\n",
       "0     4.310705e-15  1.342411e-17  4.029275e-20  9.732029e-20  1.326543e-17   \n",
       "1     3.885405e-15  3.415531e-14  1.683144e-13  5.552106e-09  9.090112e-08   \n",
       "2     4.241908e-11  2.285282e-13  1.800755e-10  3.516022e-05  7.006285e-08   \n",
       "3     9.050153e-15  2.586928e-09  5.963192e-16  9.288743e-12  2.926116e-17   \n",
       "4     2.520075e-07  4.231409e-08  3.127064e-08  3.753923e-04  3.455490e-10   \n",
       "\n",
       "   Bathtub_(filling_or_washing)  Bicycle_bell  ...  Toilet_flush  \\\n",
       "0                  2.627074e-21  1.774477e-22  ...  6.578094e-19   \n",
       "1                  1.328504e-12  1.052791e-16  ...  3.021737e-14   \n",
       "2                  7.137824e-12  8.527359e-08  ...  6.496293e-10   \n",
       "3                  1.286603e-14  7.906359e-18  ...  3.015744e-17   \n",
       "4                  8.763099e-11  3.844207e-11  ...  5.273630e-09   \n",
       "\n",
       "   Traffic_noise_and_roadway_noise  Trickle_and_dribble  Walk_and_footsteps  \\\n",
       "0                     1.876823e-17         4.699254e-14        3.831513e-19   \n",
       "1                     2.942396e-14         3.598855e-13        1.400016e-14   \n",
       "2                     3.874161e-09         8.925707e-09        1.408674e-02   \n",
       "3                     2.332278e-19         3.509833e-17        4.423819e-15   \n",
       "4                     1.008814e-09         4.868446e-12        1.666847e-01   \n",
       "\n",
       "   Water_tap_and_faucet  Waves_and_surf    Whispering       Writing  \\\n",
       "0          7.066564e-10    4.720536e-14  6.265503e-14  2.229921e-18   \n",
       "1          3.099449e-10    8.889631e-14  4.640189e-16  2.634782e-10   \n",
       "2          4.212971e-10    1.048889e-06  2.189146e-09  1.552304e-02   \n",
       "3          1.303146e-16    1.883680e-17  9.064858e-18  2.270238e-16   \n",
       "4          2.819900e-11    3.561144e-09  1.594761e-08  6.606881e-07   \n",
       "\n",
       "           Yell  Zipper_(clothing)  \n",
       "0  2.186134e-16       5.488362e-21  \n",
       "1  4.576217e-14       8.622805e-13  \n",
       "2  1.318025e-11       6.342714e-07  \n",
       "3  4.189229e-14       8.793186e-22  \n",
       "4  3.041718e-08       1.713296e-07  \n",
       "\n",
       "[5 rows x 81 columns]"
      ]
     },
     "execution_count": 53,
     "metadata": {},
     "output_type": "execute_result"
    }
   ],
   "source": [
    "submit_data.insert(0, 'fname', os.listdir('../input/sc2-total-aug-noisy-data/sub2/sub2'))\n",
    "submit_data[\"fname\"]=submit_data[\"fname\"].apply(lambda x: x.split(\".\")[0]+\".wav\")\n",
    "submit_data.head()"
   ]
  },
  {
   "cell_type": "code",
   "execution_count": 54,
   "metadata": {
    "execution": {
     "iopub.execute_input": "2020-10-05T04:22:18.383389Z",
     "iopub.status.busy": "2020-10-05T04:22:18.382672Z",
     "iopub.status.idle": "2020-10-05T04:22:19.341696Z",
     "shell.execute_reply": "2020-10-05T04:22:19.340464Z"
    },
    "papermill": {
     "duration": 3.818942,
     "end_time": "2020-10-05T04:22:19.341831",
     "exception": false,
     "start_time": "2020-10-05T04:22:15.522889",
     "status": "completed"
    },
    "tags": []
   },
   "outputs": [],
   "source": [
    "submit_data.to_csv(\"submissionDenseCuratedCV_0_128.csv\",index=False )"
   ]
  },
  {
   "cell_type": "code",
   "execution_count": null,
   "metadata": {
    "papermill": {
     "duration": 3.351297,
     "end_time": "2020-10-05T04:22:26.010174",
     "exception": false,
     "start_time": "2020-10-05T04:22:22.658877",
     "status": "completed"
    },
    "tags": []
   },
   "outputs": [],
   "source": []
  },
  {
   "cell_type": "code",
   "execution_count": null,
   "metadata": {
    "papermill": {
     "duration": 2.965953,
     "end_time": "2020-10-05T04:22:32.118950",
     "exception": false,
     "start_time": "2020-10-05T04:22:29.152997",
     "status": "completed"
    },
    "tags": []
   },
   "outputs": [],
   "source": []
  }
 ],
 "metadata": {
  "kernelspec": {
   "display_name": "Python 3",
   "language": "python",
   "name": "python3"
  },
  "language_info": {
   "codemirror_mode": {
    "name": "ipython",
    "version": 3
   },
   "file_extension": ".py",
   "mimetype": "text/x-python",
   "name": "python",
   "nbconvert_exporter": "python",
   "pygments_lexer": "ipython3",
   "version": "3.7.6"
  },
  "papermill": {
   "duration": 3685.693059,
   "end_time": "2020-10-05T04:22:36.880657",
   "environment_variables": {},
   "exception": null,
   "input_path": "__notebook__.ipynb",
   "output_path": "__notebook__.ipynb",
   "parameters": {},
   "start_time": "2020-10-05T03:21:11.187598",
   "version": "2.1.0"
  }
 },
 "nbformat": 4,
 "nbformat_minor": 4
}
