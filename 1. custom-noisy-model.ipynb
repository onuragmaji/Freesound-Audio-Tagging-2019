{
 "cells": [
  {
   "cell_type": "code",
   "execution_count": 1,
   "metadata": {
    "execution": {
     "iopub.execute_input": "2020-10-03T08:40:34.823129Z",
     "iopub.status.busy": "2020-10-03T08:40:34.821566Z",
     "iopub.status.idle": "2020-10-03T08:40:34.823913Z",
     "shell.execute_reply": "2020-10-03T08:40:34.822320Z"
    },
    "id": "SQF09QseVK2o",
    "papermill": {
     "duration": 0.068732,
     "end_time": "2020-10-03T08:40:34.824056",
     "exception": false,
     "start_time": "2020-10-03T08:40:34.755324",
     "status": "completed"
    },
    "tags": []
   },
   "outputs": [],
   "source": [
    "import numpy as np # linear algebra\n",
    "import pandas as pd # data processing, CSV file I/O (e.g. pd.read_csv)\n",
    "import os"
   ]
  },
  {
   "cell_type": "code",
   "execution_count": 2,
   "metadata": {
    "execution": {
     "iopub.execute_input": "2020-10-03T08:40:34.909085Z",
     "iopub.status.busy": "2020-10-03T08:40:34.908179Z",
     "iopub.status.idle": "2020-10-03T08:40:34.945164Z",
     "shell.execute_reply": "2020-10-03T08:40:34.944613Z"
    },
    "id": "p7iYDRlSXG6E",
    "papermill": {
     "duration": 0.081555,
     "end_time": "2020-10-03T08:40:34.945287",
     "exception": false,
     "start_time": "2020-10-03T08:40:34.863732",
     "status": "completed"
    },
    "tags": []
   },
   "outputs": [],
   "source": [
    "traindf_noisy=pd.read_csv('../input/freesound-audio-tagging-2019/train_noisy.csv',dtype=str)\n",
    "\n",
    "traindf_curated=pd.read_csv('../input/freesound-audio-tagging-2019/train_curated.csv',dtype=str)"
   ]
  },
  {
   "cell_type": "code",
   "execution_count": 3,
   "metadata": {
    "execution": {
     "iopub.execute_input": "2020-10-03T08:40:35.034141Z",
     "iopub.status.busy": "2020-10-03T08:40:35.033289Z",
     "iopub.status.idle": "2020-10-03T08:40:35.043471Z",
     "shell.execute_reply": "2020-10-03T08:40:35.044038Z"
    },
    "id": "U4bc985UXfC9",
    "outputId": "fc67be4a-3be0-4bfe-faf8-078bdb911416",
    "papermill": {
     "duration": 0.060678,
     "end_time": "2020-10-03T08:40:35.044210",
     "exception": false,
     "start_time": "2020-10-03T08:40:34.983532",
     "status": "completed"
    },
    "tags": []
   },
   "outputs": [
    {
     "data": {
      "text/html": [
       "<div>\n",
       "<style scoped>\n",
       "    .dataframe tbody tr th:only-of-type {\n",
       "        vertical-align: middle;\n",
       "    }\n",
       "\n",
       "    .dataframe tbody tr th {\n",
       "        vertical-align: top;\n",
       "    }\n",
       "\n",
       "    .dataframe thead th {\n",
       "        text-align: right;\n",
       "    }\n",
       "</style>\n",
       "<table border=\"1\" class=\"dataframe\">\n",
       "  <thead>\n",
       "    <tr style=\"text-align: right;\">\n",
       "      <th></th>\n",
       "      <th>fname</th>\n",
       "      <th>labels</th>\n",
       "    </tr>\n",
       "  </thead>\n",
       "  <tbody>\n",
       "    <tr>\n",
       "      <th>0</th>\n",
       "      <td>00097e21.wav</td>\n",
       "      <td>Bathtub_(filling_or_washing)</td>\n",
       "    </tr>\n",
       "    <tr>\n",
       "      <th>1</th>\n",
       "      <td>000b6cfb.wav</td>\n",
       "      <td>Motorcycle</td>\n",
       "    </tr>\n",
       "    <tr>\n",
       "      <th>2</th>\n",
       "      <td>00116cd2.wav</td>\n",
       "      <td>Marimba_and_xylophone,Glockenspiel</td>\n",
       "    </tr>\n",
       "    <tr>\n",
       "      <th>3</th>\n",
       "      <td>00127d14.wav</td>\n",
       "      <td>Water_tap_and_faucet,Sink_(filling_or_washing)</td>\n",
       "    </tr>\n",
       "    <tr>\n",
       "      <th>4</th>\n",
       "      <td>0019adae.wav</td>\n",
       "      <td>Raindrop</td>\n",
       "    </tr>\n",
       "  </tbody>\n",
       "</table>\n",
       "</div>"
      ],
      "text/plain": [
       "          fname                                          labels\n",
       "0  00097e21.wav                    Bathtub_(filling_or_washing)\n",
       "1  000b6cfb.wav                                      Motorcycle\n",
       "2  00116cd2.wav              Marimba_and_xylophone,Glockenspiel\n",
       "3  00127d14.wav  Water_tap_and_faucet,Sink_(filling_or_washing)\n",
       "4  0019adae.wav                                        Raindrop"
      ]
     },
     "execution_count": 3,
     "metadata": {},
     "output_type": "execute_result"
    }
   ],
   "source": [
    "traindf_noisy.head()"
   ]
  },
  {
   "cell_type": "markdown",
   "metadata": {},
   "source": [
    "# Loading 4-K Fold Noisy Train, CV and Test data"
   ]
  },
  {
   "cell_type": "code",
   "execution_count": 4,
   "metadata": {
    "execution": {
     "iopub.execute_input": "2020-10-03T08:40:35.133166Z",
     "iopub.status.busy": "2020-10-03T08:40:35.132331Z",
     "iopub.status.idle": "2020-10-03T08:40:35.160017Z",
     "shell.execute_reply": "2020-10-03T08:40:35.160595Z"
    },
    "id": "BED77XJyFvrQ",
    "outputId": "79f2cdec-9af6-4626-ccfd-8e117548ff34",
    "papermill": {
     "duration": 0.074252,
     "end_time": "2020-10-03T08:40:35.160768",
     "exception": false,
     "start_time": "2020-10-03T08:40:35.086516",
     "status": "completed"
    },
    "tags": []
   },
   "outputs": [
    {
     "data": {
      "text/html": [
       "<div>\n",
       "<style scoped>\n",
       "    .dataframe tbody tr th:only-of-type {\n",
       "        vertical-align: middle;\n",
       "    }\n",
       "\n",
       "    .dataframe tbody tr th {\n",
       "        vertical-align: top;\n",
       "    }\n",
       "\n",
       "    .dataframe thead th {\n",
       "        text-align: right;\n",
       "    }\n",
       "</style>\n",
       "<table border=\"1\" class=\"dataframe\">\n",
       "  <thead>\n",
       "    <tr style=\"text-align: right;\">\n",
       "      <th></th>\n",
       "      <th>fname</th>\n",
       "      <th>labels</th>\n",
       "    </tr>\n",
       "  </thead>\n",
       "  <tbody>\n",
       "    <tr>\n",
       "      <th>0</th>\n",
       "      <td>161d2bb8.jpg</td>\n",
       "      <td>Bus,Microwave_oven</td>\n",
       "    </tr>\n",
       "    <tr>\n",
       "      <th>1</th>\n",
       "      <td>abf3a850.jpg</td>\n",
       "      <td>Bus</td>\n",
       "    </tr>\n",
       "    <tr>\n",
       "      <th>2</th>\n",
       "      <td>fd802069.jpg</td>\n",
       "      <td>Cheering</td>\n",
       "    </tr>\n",
       "    <tr>\n",
       "      <th>3</th>\n",
       "      <td>0f69e008_aug.jpg</td>\n",
       "      <td>Purr</td>\n",
       "    </tr>\n",
       "    <tr>\n",
       "      <th>4</th>\n",
       "      <td>5c51827a.jpg</td>\n",
       "      <td>Applause</td>\n",
       "    </tr>\n",
       "  </tbody>\n",
       "</table>\n",
       "</div>"
      ],
      "text/plain": [
       "              fname              labels\n",
       "0      161d2bb8.jpg  Bus,Microwave_oven\n",
       "1      abf3a850.jpg                 Bus\n",
       "2      fd802069.jpg            Cheering\n",
       "3  0f69e008_aug.jpg                Purr\n",
       "4      5c51827a.jpg            Applause"
      ]
     },
     "execution_count": 4,
     "metadata": {},
     "output_type": "execute_result"
    }
   ],
   "source": [
    "train_df = pd.read_csv(\"../input/sc2-total-aug-noisy-data/K_fold_data/K_fold_data/Noisy/Noisy_train_4.csv\")\n",
    "train_df.head()"
   ]
  },
  {
   "cell_type": "markdown",
   "metadata": {
    "execution": {
     "iopub.execute_input": "2020-10-03T08:40:35.255488Z",
     "iopub.status.busy": "2020-10-03T08:40:35.254626Z",
     "iopub.status.idle": "2020-10-03T08:40:35.257916Z",
     "shell.execute_reply": "2020-10-03T08:40:35.258502Z"
    },
    "id": "WH505SeqZkQt",
    "outputId": "3f186139-021d-4747-9e8b-7ecdf0043405",
    "papermill": {
     "duration": 0.05869,
     "end_time": "2020-10-03T08:40:35.258639",
     "exception": false,
     "start_time": "2020-10-03T08:40:35.199949",
     "status": "completed"
    },
    "tags": []
   },
   "source": [
    "train_df.shape"
   ]
  },
  {
   "cell_type": "code",
   "execution_count": 6,
   "metadata": {
    "execution": {
     "iopub.execute_input": "2020-10-03T08:40:35.344287Z",
     "iopub.status.busy": "2020-10-03T08:40:35.343323Z",
     "iopub.status.idle": "2020-10-03T08:40:35.357845Z",
     "shell.execute_reply": "2020-10-03T08:40:35.357288Z"
    },
    "id": "CyzXJYqRZw08",
    "outputId": "be29fa6d-abdf-4008-d807-f4e8c3297941",
    "papermill": {
     "duration": 0.059558,
     "end_time": "2020-10-03T08:40:35.357955",
     "exception": false,
     "start_time": "2020-10-03T08:40:35.298397",
     "status": "completed"
    },
    "tags": []
   },
   "outputs": [
    {
     "data": {
      "text/plain": [
       "(4862, 2)"
      ]
     },
     "execution_count": 6,
     "metadata": {},
     "output_type": "execute_result"
    }
   ],
   "source": [
    "cv_df = pd.read_csv(\"../input/sc2-total-aug-noisy-data/K_fold_data/K_fold_data/Noisy/Noisy_cv_4.csv\")\n",
    "cv_df.shape"
   ]
  },
  {
   "cell_type": "code",
   "execution_count": 7,
   "metadata": {
    "execution": {
     "iopub.execute_input": "2020-10-03T08:40:35.442777Z",
     "iopub.status.busy": "2020-10-03T08:40:35.441874Z",
     "iopub.status.idle": "2020-10-03T08:40:35.453989Z",
     "shell.execute_reply": "2020-10-03T08:40:35.454529Z"
    },
    "id": "PbRmGQZPZ4X8",
    "outputId": "95e57da4-a520-4b4c-f798-7a8499a1bf3a",
    "papermill": {
     "duration": 0.057606,
     "end_time": "2020-10-03T08:40:35.454652",
     "exception": false,
     "start_time": "2020-10-03T08:40:35.397046",
     "status": "completed"
    },
    "tags": []
   },
   "outputs": [
    {
     "data": {
      "text/plain": [
       "(6078, 2)"
      ]
     },
     "execution_count": 7,
     "metadata": {},
     "output_type": "execute_result"
    }
   ],
   "source": [
    "    \n",
    "test_df = pd.read_csv(\"../input/sc2-total-aug-noisy-data/K_fold_data/K_fold_data/Noisy/Noisy_test.csv\") \n",
    "test_df.shape"
   ]
  },
  {
   "cell_type": "markdown",
   "metadata": {},
   "source": [
    "## Sklearn MultiLabelBinarizer to One-hot encode the multilablles "
   ]
  },
  {
   "cell_type": "code",
   "execution_count": 8,
   "metadata": {
    "execution": {
     "iopub.execute_input": "2020-10-03T08:40:35.543703Z",
     "iopub.status.busy": "2020-10-03T08:40:35.543068Z",
     "iopub.status.idle": "2020-10-03T08:40:36.574666Z",
     "shell.execute_reply": "2020-10-03T08:40:36.573793Z"
    },
    "id": "PhcbdXiAaFg8",
    "papermill": {
     "duration": 1.080496,
     "end_time": "2020-10-03T08:40:36.574801",
     "exception": false,
     "start_time": "2020-10-03T08:40:35.494305",
     "status": "completed"
    },
    "tags": []
   },
   "outputs": [],
   "source": [
    "from sklearn.preprocessing import MultiLabelBinarizer\n",
    "\n",
    "mlb_train = MultiLabelBinarizer()\n",
    "\n",
    "\n",
    "labels_train = mlb_train.fit_transform([ i.split(\",\") for i in list(train_df[\"labels\"])])\n",
    "\n",
    "\n",
    "labels_test = mlb_train.transform([ i.split(\",\") for i in list(test_df[\"labels\"])])\n",
    "\n",
    "\n",
    "#mlb_cv = MultiLabelBinarizer()\n",
    "labels_cv = mlb_train.transform([ i.split(\",\") for i in list(cv_df[\"labels\"])])"
   ]
  },
  {
   "cell_type": "code",
   "execution_count": 9,
   "metadata": {
    "execution": {
     "iopub.execute_input": "2020-10-03T08:40:36.661845Z",
     "iopub.status.busy": "2020-10-03T08:40:36.661031Z",
     "iopub.status.idle": "2020-10-03T08:40:36.664418Z",
     "shell.execute_reply": "2020-10-03T08:40:36.665048Z"
    },
    "id": "SezKbmekzxuZ",
    "outputId": "4d82a251-2985-4bdd-eb6d-97e83646c797",
    "papermill": {
     "duration": 0.048735,
     "end_time": "2020-10-03T08:40:36.665217",
     "exception": false,
     "start_time": "2020-10-03T08:40:36.616482",
     "status": "completed"
    },
    "tags": []
   },
   "outputs": [
    {
     "data": {
      "text/plain": [
       "array([[0, 0, 0, ..., 0, 0, 0],\n",
       "       [0, 0, 0, ..., 0, 0, 0],\n",
       "       [0, 0, 0, ..., 0, 0, 0],\n",
       "       ...,\n",
       "       [0, 0, 0, ..., 0, 0, 0],\n",
       "       [0, 0, 1, ..., 0, 0, 0],\n",
       "       [0, 0, 0, ..., 0, 0, 0]])"
      ]
     },
     "execution_count": 9,
     "metadata": {},
     "output_type": "execute_result"
    }
   ],
   "source": [
    "labels_cv"
   ]
  },
  {
   "cell_type": "code",
   "execution_count": 10,
   "metadata": {
    "execution": {
     "iopub.execute_input": "2020-10-03T08:40:36.766615Z",
     "iopub.status.busy": "2020-10-03T08:40:36.765523Z",
     "iopub.status.idle": "2020-10-03T08:40:36.768181Z",
     "shell.execute_reply": "2020-10-03T08:40:36.768617Z"
    },
    "id": "hNrk7jvNaP6L",
    "papermill": {
     "duration": 0.062691,
     "end_time": "2020-10-03T08:40:36.768766",
     "exception": false,
     "start_time": "2020-10-03T08:40:36.706075",
     "status": "completed"
    },
    "tags": []
   },
   "outputs": [],
   "source": [
    "trainmultidf=pd.DataFrame(data=labels_train,columns=list(mlb_train.classes_))\n",
    "trainmultidf[\"fname\"]=list(train_df[\"fname\"])\n",
    "\n",
    "testmultidf=pd.DataFrame(data=labels_test,columns=list(mlb_train.classes_))\n",
    "testmultidf[\"fname\"]=list(test_df[\"fname\"])\n",
    "\n",
    "\n",
    "cvmultidf=pd.DataFrame(data=labels_cv,columns=list(mlb_train.classes_))\n",
    "cvmultidf[\"fname\"]=list(cv_df[\"fname\"])"
   ]
  },
  {
   "cell_type": "code",
   "execution_count": 11,
   "metadata": {
    "execution": {
     "iopub.execute_input": "2020-10-03T08:40:36.856591Z",
     "iopub.status.busy": "2020-10-03T08:40:36.855716Z",
     "iopub.status.idle": "2020-10-03T08:40:36.859103Z",
     "shell.execute_reply": "2020-10-03T08:40:36.859639Z"
    },
    "id": "ULDTeP4OVRnF",
    "outputId": "d58a1c76-726b-4bec-de07-4b4560452359",
    "papermill": {
     "duration": 0.049683,
     "end_time": "2020-10-03T08:40:36.859790",
     "exception": false,
     "start_time": "2020-10-03T08:40:36.810107",
     "status": "completed"
    },
    "tags": []
   },
   "outputs": [
    {
     "data": {
      "text/plain": [
       "(4862, 81)"
      ]
     },
     "execution_count": 11,
     "metadata": {},
     "output_type": "execute_result"
    }
   ],
   "source": [
    "cvmultidf.shape"
   ]
  },
  {
   "cell_type": "code",
   "execution_count": 12,
   "metadata": {
    "execution": {
     "iopub.execute_input": "2020-10-03T08:40:36.967075Z",
     "iopub.status.busy": "2020-10-03T08:40:36.966035Z",
     "iopub.status.idle": "2020-10-03T08:40:36.970000Z",
     "shell.execute_reply": "2020-10-03T08:40:36.970536Z"
    },
    "id": "6hroRXb30BX3",
    "outputId": "2d3868dd-fd8e-4527-90fe-0ff594e931c0",
    "papermill": {
     "duration": 0.068247,
     "end_time": "2020-10-03T08:40:36.970666",
     "exception": false,
     "start_time": "2020-10-03T08:40:36.902419",
     "status": "completed"
    },
    "tags": []
   },
   "outputs": [
    {
     "data": {
      "text/html": [
       "<div>\n",
       "<style scoped>\n",
       "    .dataframe tbody tr th:only-of-type {\n",
       "        vertical-align: middle;\n",
       "    }\n",
       "\n",
       "    .dataframe tbody tr th {\n",
       "        vertical-align: top;\n",
       "    }\n",
       "\n",
       "    .dataframe thead th {\n",
       "        text-align: right;\n",
       "    }\n",
       "</style>\n",
       "<table border=\"1\" class=\"dataframe\">\n",
       "  <thead>\n",
       "    <tr style=\"text-align: right;\">\n",
       "      <th></th>\n",
       "      <th>Accelerating_and_revving_and_vroom</th>\n",
       "      <th>Accordion</th>\n",
       "      <th>Acoustic_guitar</th>\n",
       "      <th>Applause</th>\n",
       "      <th>Bark</th>\n",
       "      <th>Bass_drum</th>\n",
       "      <th>Bass_guitar</th>\n",
       "      <th>Bathtub_(filling_or_washing)</th>\n",
       "      <th>Bicycle_bell</th>\n",
       "      <th>Burping_and_eructation</th>\n",
       "      <th>...</th>\n",
       "      <th>Traffic_noise_and_roadway_noise</th>\n",
       "      <th>Trickle_and_dribble</th>\n",
       "      <th>Walk_and_footsteps</th>\n",
       "      <th>Water_tap_and_faucet</th>\n",
       "      <th>Waves_and_surf</th>\n",
       "      <th>Whispering</th>\n",
       "      <th>Writing</th>\n",
       "      <th>Yell</th>\n",
       "      <th>Zipper_(clothing)</th>\n",
       "      <th>fname</th>\n",
       "    </tr>\n",
       "  </thead>\n",
       "  <tbody>\n",
       "    <tr>\n",
       "      <th>0</th>\n",
       "      <td>0</td>\n",
       "      <td>0</td>\n",
       "      <td>0</td>\n",
       "      <td>0</td>\n",
       "      <td>0</td>\n",
       "      <td>0</td>\n",
       "      <td>0</td>\n",
       "      <td>0</td>\n",
       "      <td>0</td>\n",
       "      <td>0</td>\n",
       "      <td>...</td>\n",
       "      <td>0</td>\n",
       "      <td>0</td>\n",
       "      <td>0</td>\n",
       "      <td>0</td>\n",
       "      <td>0</td>\n",
       "      <td>0</td>\n",
       "      <td>0</td>\n",
       "      <td>0</td>\n",
       "      <td>0</td>\n",
       "      <td>7b21f089_aug.jpg</td>\n",
       "    </tr>\n",
       "    <tr>\n",
       "      <th>1</th>\n",
       "      <td>0</td>\n",
       "      <td>0</td>\n",
       "      <td>0</td>\n",
       "      <td>0</td>\n",
       "      <td>0</td>\n",
       "      <td>0</td>\n",
       "      <td>0</td>\n",
       "      <td>0</td>\n",
       "      <td>0</td>\n",
       "      <td>0</td>\n",
       "      <td>...</td>\n",
       "      <td>0</td>\n",
       "      <td>0</td>\n",
       "      <td>0</td>\n",
       "      <td>0</td>\n",
       "      <td>0</td>\n",
       "      <td>0</td>\n",
       "      <td>0</td>\n",
       "      <td>1</td>\n",
       "      <td>0</td>\n",
       "      <td>1370d048.jpg</td>\n",
       "    </tr>\n",
       "    <tr>\n",
       "      <th>2</th>\n",
       "      <td>0</td>\n",
       "      <td>0</td>\n",
       "      <td>0</td>\n",
       "      <td>0</td>\n",
       "      <td>0</td>\n",
       "      <td>0</td>\n",
       "      <td>0</td>\n",
       "      <td>0</td>\n",
       "      <td>0</td>\n",
       "      <td>0</td>\n",
       "      <td>...</td>\n",
       "      <td>0</td>\n",
       "      <td>0</td>\n",
       "      <td>0</td>\n",
       "      <td>0</td>\n",
       "      <td>0</td>\n",
       "      <td>0</td>\n",
       "      <td>1</td>\n",
       "      <td>0</td>\n",
       "      <td>0</td>\n",
       "      <td>45284ac9_aug.jpg</td>\n",
       "    </tr>\n",
       "    <tr>\n",
       "      <th>3</th>\n",
       "      <td>0</td>\n",
       "      <td>0</td>\n",
       "      <td>0</td>\n",
       "      <td>0</td>\n",
       "      <td>0</td>\n",
       "      <td>0</td>\n",
       "      <td>0</td>\n",
       "      <td>0</td>\n",
       "      <td>0</td>\n",
       "      <td>0</td>\n",
       "      <td>...</td>\n",
       "      <td>0</td>\n",
       "      <td>0</td>\n",
       "      <td>0</td>\n",
       "      <td>0</td>\n",
       "      <td>0</td>\n",
       "      <td>0</td>\n",
       "      <td>0</td>\n",
       "      <td>0</td>\n",
       "      <td>0</td>\n",
       "      <td>9ac984a4_aug.jpg</td>\n",
       "    </tr>\n",
       "    <tr>\n",
       "      <th>4</th>\n",
       "      <td>0</td>\n",
       "      <td>0</td>\n",
       "      <td>0</td>\n",
       "      <td>0</td>\n",
       "      <td>0</td>\n",
       "      <td>0</td>\n",
       "      <td>0</td>\n",
       "      <td>1</td>\n",
       "      <td>0</td>\n",
       "      <td>0</td>\n",
       "      <td>...</td>\n",
       "      <td>0</td>\n",
       "      <td>1</td>\n",
       "      <td>0</td>\n",
       "      <td>1</td>\n",
       "      <td>0</td>\n",
       "      <td>0</td>\n",
       "      <td>0</td>\n",
       "      <td>0</td>\n",
       "      <td>0</td>\n",
       "      <td>4dad3998_aug.jpg</td>\n",
       "    </tr>\n",
       "  </tbody>\n",
       "</table>\n",
       "<p>5 rows × 81 columns</p>\n",
       "</div>"
      ],
      "text/plain": [
       "   Accelerating_and_revving_and_vroom  Accordion  Acoustic_guitar  Applause  \\\n",
       "0                                   0          0                0         0   \n",
       "1                                   0          0                0         0   \n",
       "2                                   0          0                0         0   \n",
       "3                                   0          0                0         0   \n",
       "4                                   0          0                0         0   \n",
       "\n",
       "   Bark  Bass_drum  Bass_guitar  Bathtub_(filling_or_washing)  Bicycle_bell  \\\n",
       "0     0          0            0                             0             0   \n",
       "1     0          0            0                             0             0   \n",
       "2     0          0            0                             0             0   \n",
       "3     0          0            0                             0             0   \n",
       "4     0          0            0                             1             0   \n",
       "\n",
       "   Burping_and_eructation  ...  Traffic_noise_and_roadway_noise  \\\n",
       "0                       0  ...                                0   \n",
       "1                       0  ...                                0   \n",
       "2                       0  ...                                0   \n",
       "3                       0  ...                                0   \n",
       "4                       0  ...                                0   \n",
       "\n",
       "   Trickle_and_dribble  Walk_and_footsteps  Water_tap_and_faucet  \\\n",
       "0                    0                   0                     0   \n",
       "1                    0                   0                     0   \n",
       "2                    0                   0                     0   \n",
       "3                    0                   0                     0   \n",
       "4                    1                   0                     1   \n",
       "\n",
       "   Waves_and_surf  Whispering  Writing  Yell  Zipper_(clothing)  \\\n",
       "0               0           0        0     0                  0   \n",
       "1               0           0        0     1                  0   \n",
       "2               0           0        1     0                  0   \n",
       "3               0           0        0     0                  0   \n",
       "4               0           0        0     0                  0   \n",
       "\n",
       "              fname  \n",
       "0  7b21f089_aug.jpg  \n",
       "1      1370d048.jpg  \n",
       "2  45284ac9_aug.jpg  \n",
       "3  9ac984a4_aug.jpg  \n",
       "4  4dad3998_aug.jpg  \n",
       "\n",
       "[5 rows x 81 columns]"
      ]
     },
     "execution_count": 12,
     "metadata": {},
     "output_type": "execute_result"
    }
   ],
   "source": [
    "testmultidf.head()"
   ]
  },
  {
   "cell_type": "markdown",
   "metadata": {},
   "source": [
    "## Loading Preprocessed Spectrogram Images via ImageDataGenerator and adding augumnetation to train data"
   ]
  },
  {
   "cell_type": "code",
   "execution_count": 13,
   "metadata": {
    "execution": {
     "iopub.execute_input": "2020-10-03T08:40:37.065869Z",
     "iopub.status.busy": "2020-10-03T08:40:37.065175Z",
     "iopub.status.idle": "2020-10-03T08:40:48.646785Z",
     "shell.execute_reply": "2020-10-03T08:40:48.647524Z"
    },
    "id": "6Oskr5b4aVK7",
    "outputId": "a70dc23f-d9dd-48a7-f851-7e7c064c8c7a",
    "papermill": {
     "duration": 11.634107,
     "end_time": "2020-10-03T08:40:48.647708",
     "exception": false,
     "start_time": "2020-10-03T08:40:37.013601",
     "status": "completed"
    },
    "tags": []
   },
   "outputs": [
    {
     "name": "stdout",
     "output_type": "stream",
     "text": [
      "Found 19449 validated image filenames.\n"
     ]
    }
   ],
   "source": [
    "#We change the ids for the images in the csv files to reflect their new status as jpgs\n",
    "#https://medium.com/@vijayabhaskar96/tutorial-on-keras-flow-from-dataframe-1fd4493d237c\n",
    "from keras_preprocessing.image import ImageDataGenerator\n",
    "\n",
    "\n",
    "datagen=ImageDataGenerator(rescale=1./255.,zoom_range=[0.5,1.0],brightness_range=[0.8,1.4])\n",
    "\n",
    "\n",
    "train_generator=datagen.flow_from_dataframe(\n",
    "    dataframe=trainmultidf,\n",
    "    directory=\"../input/sc2-total-aug-noisy-data/Total Images bucket Noisy/Total Images bucket Noisy\",\n",
    "    x_col=\"fname\",\n",
    "    y_col=list(mlb_train.classes_),\n",
    "    subset=\"training\",\n",
    "    batch_size=64,\n",
    "    seed=42,\n",
    "    shuffle=False,#True,\n",
    "    class_mode=\"raw\",\n",
    "    color_mode=\"grayscale\",\n",
    "    target_size=(128,128))"
   ]
  },
  {
   "cell_type": "code",
   "execution_count": 14,
   "metadata": {
    "execution": {
     "iopub.execute_input": "2020-10-03T08:40:48.742157Z",
     "iopub.status.busy": "2020-10-03T08:40:48.741337Z",
     "iopub.status.idle": "2020-10-03T08:40:48.745420Z",
     "shell.execute_reply": "2020-10-03T08:40:48.744923Z"
    },
    "id": "m9hJ7VZvalMr",
    "outputId": "f24bccc8-b3a6-4af2-baf4-d81fa450dddf",
    "papermill": {
     "duration": 0.052749,
     "end_time": "2020-10-03T08:40:48.745526",
     "exception": false,
     "start_time": "2020-10-03T08:40:48.692777",
     "status": "completed"
    },
    "tags": []
   },
   "outputs": [
    {
     "data": {
      "text/plain": [
       "19449"
      ]
     },
     "execution_count": 14,
     "metadata": {},
     "output_type": "execute_result"
    }
   ],
   "source": [
    "train_generator.n"
   ]
  },
  {
   "cell_type": "code",
   "execution_count": 15,
   "metadata": {
    "execution": {
     "iopub.execute_input": "2020-10-03T08:40:48.839793Z",
     "iopub.status.busy": "2020-10-03T08:40:48.838961Z",
     "iopub.status.idle": "2020-10-03T08:40:48.842380Z",
     "shell.execute_reply": "2020-10-03T08:40:48.842981Z"
    },
    "id": "biqrZ_RkapeK",
    "outputId": "0f9f318a-e34a-40a4-b5a7-e004f5d3ae55",
    "papermill": {
     "duration": 0.053824,
     "end_time": "2020-10-03T08:40:48.843118",
     "exception": false,
     "start_time": "2020-10-03T08:40:48.789294",
     "status": "completed"
    },
    "tags": []
   },
   "outputs": [
    {
     "data": {
      "text/plain": [
       "(4862, 81)"
      ]
     },
     "execution_count": 15,
     "metadata": {},
     "output_type": "execute_result"
    }
   ],
   "source": [
    "cvmultidf.shape"
   ]
  },
  {
   "cell_type": "code",
   "execution_count": 16,
   "metadata": {
    "execution": {
     "iopub.execute_input": "2020-10-03T08:40:48.941823Z",
     "iopub.status.busy": "2020-10-03T08:40:48.940628Z",
     "iopub.status.idle": "2020-10-03T08:40:51.002296Z",
     "shell.execute_reply": "2020-10-03T08:40:51.002812Z"
    },
    "id": "Ml0cOSOEasCK",
    "outputId": "e6060ca3-f9f5-4e8c-a168-8887b04ffc17",
    "papermill": {
     "duration": 2.114715,
     "end_time": "2020-10-03T08:40:51.002956",
     "exception": false,
     "start_time": "2020-10-03T08:40:48.888241",
     "status": "completed"
    },
    "tags": []
   },
   "outputs": [
    {
     "name": "stdout",
     "output_type": "stream",
     "text": [
      "Found 4862 validated image filenames.\n"
     ]
    }
   ],
   "source": [
    "valid_datagen=ImageDataGenerator(rescale=1./255.)\n",
    "\n",
    "valid_generator=valid_datagen.flow_from_dataframe(\n",
    "    dataframe=cvmultidf,\n",
    "    directory=\"../input/sc2-total-aug-noisy-data/Total Images bucket Noisy/Total Images bucket Noisy\",\n",
    "    x_col=\"fname\",\n",
    "    y_col=list(mlb_train.classes_),\n",
    "   # subset=\"validation\",\n",
    "    batch_size=64,\n",
    "    seed=42,\n",
    "    shuffle=False,#shuffle=True,\n",
    "    class_mode=\"raw\",\n",
    "    color_mode=\"grayscale\",\n",
    "    target_size=(128,128))"
   ]
  },
  {
   "cell_type": "code",
   "execution_count": 17,
   "metadata": {
    "execution": {
     "iopub.execute_input": "2020-10-03T08:40:51.103697Z",
     "iopub.status.busy": "2020-10-03T08:40:51.102629Z",
     "iopub.status.idle": "2020-10-03T08:40:52.802189Z",
     "shell.execute_reply": "2020-10-03T08:40:52.801646Z"
    },
    "id": "vJ9HZWmNay8K",
    "outputId": "1b85a1e9-8927-4008-d7b2-c7e526ce725e",
    "papermill": {
     "duration": 1.753899,
     "end_time": "2020-10-03T08:40:52.802308",
     "exception": false,
     "start_time": "2020-10-03T08:40:51.048409",
     "status": "completed"
    },
    "tags": []
   },
   "outputs": [
    {
     "name": "stdout",
     "output_type": "stream",
     "text": [
      "Found 6078 validated image filenames.\n"
     ]
    }
   ],
   "source": [
    "test_datagen=ImageDataGenerator(rescale=1./255.)\n",
    "test_generator=test_datagen.flow_from_dataframe(\n",
    "    dataframe=testmultidf,\n",
    "    directory=\"../input/sc2-total-aug-noisy-data/Total Images bucket Noisy/Total Images bucket Noisy\",\n",
    "    x_col=\"fname\",\n",
    "    y_col=None,\n",
    "    batch_size=64,\n",
    "    seed=42,\n",
    "    shuffle=False,#shuffle=False,\n",
    "    class_mode=None,\n",
    "    color_mode=\"grayscale\",\n",
    "    target_size=(128,128))\n",
    "STEP_SIZE_TEST=test_generator.n//test_generator.batch_size"
   ]
  },
  {
   "cell_type": "code",
   "execution_count": 18,
   "metadata": {
    "execution": {
     "iopub.execute_input": "2020-10-03T08:40:52.913041Z",
     "iopub.status.busy": "2020-10-03T08:40:52.912069Z",
     "iopub.status.idle": "2020-10-03T08:40:52.916926Z",
     "shell.execute_reply": "2020-10-03T08:40:52.916261Z"
    },
    "id": "H8D4GwERoIKQ",
    "outputId": "7093389e-1007-4454-b118-7d0076045a0f",
    "papermill": {
     "duration": 0.070147,
     "end_time": "2020-10-03T08:40:52.917044",
     "exception": false,
     "start_time": "2020-10-03T08:40:52.846897",
     "status": "completed"
    },
    "tags": []
   },
   "outputs": [
    {
     "data": {
      "text/html": [
       "<div>\n",
       "<style scoped>\n",
       "    .dataframe tbody tr th:only-of-type {\n",
       "        vertical-align: middle;\n",
       "    }\n",
       "\n",
       "    .dataframe tbody tr th {\n",
       "        vertical-align: top;\n",
       "    }\n",
       "\n",
       "    .dataframe thead th {\n",
       "        text-align: right;\n",
       "    }\n",
       "</style>\n",
       "<table border=\"1\" class=\"dataframe\">\n",
       "  <thead>\n",
       "    <tr style=\"text-align: right;\">\n",
       "      <th></th>\n",
       "      <th>Accelerating_and_revving_and_vroom</th>\n",
       "      <th>Accordion</th>\n",
       "      <th>Acoustic_guitar</th>\n",
       "      <th>Applause</th>\n",
       "      <th>Bark</th>\n",
       "      <th>Bass_drum</th>\n",
       "      <th>Bass_guitar</th>\n",
       "      <th>Bathtub_(filling_or_washing)</th>\n",
       "      <th>Bicycle_bell</th>\n",
       "      <th>Burping_and_eructation</th>\n",
       "      <th>...</th>\n",
       "      <th>Traffic_noise_and_roadway_noise</th>\n",
       "      <th>Trickle_and_dribble</th>\n",
       "      <th>Walk_and_footsteps</th>\n",
       "      <th>Water_tap_and_faucet</th>\n",
       "      <th>Waves_and_surf</th>\n",
       "      <th>Whispering</th>\n",
       "      <th>Writing</th>\n",
       "      <th>Yell</th>\n",
       "      <th>Zipper_(clothing)</th>\n",
       "      <th>fname</th>\n",
       "    </tr>\n",
       "  </thead>\n",
       "  <tbody>\n",
       "    <tr>\n",
       "      <th>0</th>\n",
       "      <td>0</td>\n",
       "      <td>0</td>\n",
       "      <td>0</td>\n",
       "      <td>0</td>\n",
       "      <td>0</td>\n",
       "      <td>0</td>\n",
       "      <td>0</td>\n",
       "      <td>0</td>\n",
       "      <td>0</td>\n",
       "      <td>0</td>\n",
       "      <td>...</td>\n",
       "      <td>0</td>\n",
       "      <td>0</td>\n",
       "      <td>0</td>\n",
       "      <td>0</td>\n",
       "      <td>0</td>\n",
       "      <td>0</td>\n",
       "      <td>0</td>\n",
       "      <td>0</td>\n",
       "      <td>0</td>\n",
       "      <td>663172d7.jpg</td>\n",
       "    </tr>\n",
       "    <tr>\n",
       "      <th>1</th>\n",
       "      <td>0</td>\n",
       "      <td>0</td>\n",
       "      <td>0</td>\n",
       "      <td>1</td>\n",
       "      <td>0</td>\n",
       "      <td>0</td>\n",
       "      <td>0</td>\n",
       "      <td>0</td>\n",
       "      <td>0</td>\n",
       "      <td>0</td>\n",
       "      <td>...</td>\n",
       "      <td>0</td>\n",
       "      <td>0</td>\n",
       "      <td>0</td>\n",
       "      <td>0</td>\n",
       "      <td>0</td>\n",
       "      <td>0</td>\n",
       "      <td>0</td>\n",
       "      <td>0</td>\n",
       "      <td>0</td>\n",
       "      <td>eaa46c62.jpg</td>\n",
       "    </tr>\n",
       "    <tr>\n",
       "      <th>2</th>\n",
       "      <td>0</td>\n",
       "      <td>0</td>\n",
       "      <td>0</td>\n",
       "      <td>0</td>\n",
       "      <td>0</td>\n",
       "      <td>0</td>\n",
       "      <td>0</td>\n",
       "      <td>0</td>\n",
       "      <td>0</td>\n",
       "      <td>0</td>\n",
       "      <td>...</td>\n",
       "      <td>0</td>\n",
       "      <td>0</td>\n",
       "      <td>0</td>\n",
       "      <td>0</td>\n",
       "      <td>0</td>\n",
       "      <td>0</td>\n",
       "      <td>0</td>\n",
       "      <td>0</td>\n",
       "      <td>0</td>\n",
       "      <td>7b5bcb5a_aug.jpg</td>\n",
       "    </tr>\n",
       "    <tr>\n",
       "      <th>3</th>\n",
       "      <td>0</td>\n",
       "      <td>0</td>\n",
       "      <td>0</td>\n",
       "      <td>0</td>\n",
       "      <td>0</td>\n",
       "      <td>0</td>\n",
       "      <td>1</td>\n",
       "      <td>0</td>\n",
       "      <td>0</td>\n",
       "      <td>0</td>\n",
       "      <td>...</td>\n",
       "      <td>0</td>\n",
       "      <td>0</td>\n",
       "      <td>0</td>\n",
       "      <td>0</td>\n",
       "      <td>0</td>\n",
       "      <td>0</td>\n",
       "      <td>0</td>\n",
       "      <td>0</td>\n",
       "      <td>0</td>\n",
       "      <td>deda9c42.jpg</td>\n",
       "    </tr>\n",
       "    <tr>\n",
       "      <th>4</th>\n",
       "      <td>0</td>\n",
       "      <td>0</td>\n",
       "      <td>0</td>\n",
       "      <td>0</td>\n",
       "      <td>0</td>\n",
       "      <td>0</td>\n",
       "      <td>0</td>\n",
       "      <td>0</td>\n",
       "      <td>0</td>\n",
       "      <td>0</td>\n",
       "      <td>...</td>\n",
       "      <td>0</td>\n",
       "      <td>0</td>\n",
       "      <td>0</td>\n",
       "      <td>0</td>\n",
       "      <td>0</td>\n",
       "      <td>0</td>\n",
       "      <td>0</td>\n",
       "      <td>0</td>\n",
       "      <td>0</td>\n",
       "      <td>9b85cccc_aug.jpg</td>\n",
       "    </tr>\n",
       "  </tbody>\n",
       "</table>\n",
       "<p>5 rows × 81 columns</p>\n",
       "</div>"
      ],
      "text/plain": [
       "   Accelerating_and_revving_and_vroom  Accordion  Acoustic_guitar  Applause  \\\n",
       "0                                   0          0                0         0   \n",
       "1                                   0          0                0         1   \n",
       "2                                   0          0                0         0   \n",
       "3                                   0          0                0         0   \n",
       "4                                   0          0                0         0   \n",
       "\n",
       "   Bark  Bass_drum  Bass_guitar  Bathtub_(filling_or_washing)  Bicycle_bell  \\\n",
       "0     0          0            0                             0             0   \n",
       "1     0          0            0                             0             0   \n",
       "2     0          0            0                             0             0   \n",
       "3     0          0            1                             0             0   \n",
       "4     0          0            0                             0             0   \n",
       "\n",
       "   Burping_and_eructation  ...  Traffic_noise_and_roadway_noise  \\\n",
       "0                       0  ...                                0   \n",
       "1                       0  ...                                0   \n",
       "2                       0  ...                                0   \n",
       "3                       0  ...                                0   \n",
       "4                       0  ...                                0   \n",
       "\n",
       "   Trickle_and_dribble  Walk_and_footsteps  Water_tap_and_faucet  \\\n",
       "0                    0                   0                     0   \n",
       "1                    0                   0                     0   \n",
       "2                    0                   0                     0   \n",
       "3                    0                   0                     0   \n",
       "4                    0                   0                     0   \n",
       "\n",
       "   Waves_and_surf  Whispering  Writing  Yell  Zipper_(clothing)  \\\n",
       "0               0           0        0     0                  0   \n",
       "1               0           0        0     0                  0   \n",
       "2               0           0        0     0                  0   \n",
       "3               0           0        0     0                  0   \n",
       "4               0           0        0     0                  0   \n",
       "\n",
       "              fname  \n",
       "0      663172d7.jpg  \n",
       "1      eaa46c62.jpg  \n",
       "2  7b5bcb5a_aug.jpg  \n",
       "3      deda9c42.jpg  \n",
       "4  9b85cccc_aug.jpg  \n",
       "\n",
       "[5 rows x 81 columns]"
      ]
     },
     "execution_count": 18,
     "metadata": {},
     "output_type": "execute_result"
    }
   ],
   "source": [
    "cvmultidf.head()"
   ]
  },
  {
   "cell_type": "markdown",
   "metadata": {},
   "source": [
    "# Loading Custom Model and Training"
   ]
  },
  {
   "cell_type": "code",
   "execution_count": 19,
   "metadata": {
    "execution": {
     "iopub.execute_input": "2020-10-03T08:40:53.021976Z",
     "iopub.status.busy": "2020-10-03T08:40:53.021291Z",
     "iopub.status.idle": "2020-10-03T08:40:53.086829Z",
     "shell.execute_reply": "2020-10-03T08:40:53.086175Z"
    },
    "id": "t5F8tvzLa3SK",
    "papermill": {
     "duration": 0.12382,
     "end_time": "2020-10-03T08:40:53.086971",
     "exception": false,
     "start_time": "2020-10-03T08:40:52.963151",
     "status": "completed"
    },
    "tags": []
   },
   "outputs": [],
   "source": [
    "from sklearn import model_selection\n",
    "from tensorflow.keras.preprocessing.text import Tokenizer\n",
    "from tensorflow.keras.utils import to_categorical\n",
    "from tensorflow.keras.preprocessing.sequence import pad_sequences\n",
    "\n",
    "from tensorflow.keras.optimizers import RMSprop\n",
    "from tensorflow.keras.models import Model\n",
    "from tensorflow.keras.models import load_model\n",
    "\n",
    "import numpy as np\n",
    "from tensorflow.keras.models import Sequential\n",
    "from tensorflow.keras.preprocessing import sequence\n",
    "\n",
    "\n",
    "\n",
    "import tensorflow as tf\n",
    "from tensorflow.keras import models, layers\n",
    "from tensorflow.keras.models import Model\n",
    "from tensorflow.keras.optimizers import Adam\n",
    "\n",
    "from tensorflow.keras.layers import Dense, Flatten, LSTM, Conv2D, MaxPooling2D, Dropout, Activation, Input,BatchNormalization, AveragePooling2D,GlobalMaxPool2D,PReLU\n",
    "\n",
    "from tensorflow.keras.models import model_from_json  \n",
    "from tensorflow.keras.applications import DenseNet169\n",
    "\n",
    "from tensorflow.keras.callbacks import (ModelCheckpoint, LearningRateScheduler,\n",
    "                             EarlyStopping, ReduceLROnPlateau,CSVLogger)"
   ]
  },
  {
   "cell_type": "code",
   "execution_count": 20,
   "metadata": {
    "execution": {
     "iopub.execute_input": "2020-10-03T08:40:53.190576Z",
     "iopub.status.busy": "2020-10-03T08:40:53.189732Z",
     "iopub.status.idle": "2020-10-03T08:40:53.192933Z",
     "shell.execute_reply": "2020-10-03T08:40:53.192378Z"
    },
    "id": "pkma1Jy6a6l5",
    "papermill": {
     "duration": 0.058789,
     "end_time": "2020-10-03T08:40:53.193035",
     "exception": false,
     "start_time": "2020-10-03T08:40:53.134246",
     "status": "completed"
    },
    "tags": []
   },
   "outputs": [],
   "source": [
    "def convBlock(x, num_filter):\n",
    "                                     conv1 = Conv2D(num_filter,1,\n",
    "                                                    kernel_initializer=tf.keras.initializers.GlorotNormal(seed=42))(x)\n",
    "                                                    \n",
    "                                     conv1 = tf.keras.layers.LeakyReLU()(conv1)\n",
    "                                     \n",
    "                                     conv2 = Conv2D(num_filter,1,kernel_initializer=tf.keras.initializers.GlorotNormal(seed=48))(conv1)\n",
    "                                     conv2 = BatchNormalization()(conv2)\n",
    "                                     \n",
    "                                     conv2 = tf.keras.layers.LeakyReLU()(conv2)\n",
    "                                     \n",
    "                                     block_add = layers.add([conv2, conv1])\n",
    "                                     block_add = AveragePooling2D((2,2))(block_add)   \n",
    "\n",
    "\n",
    "                                     return block_add"
   ]
  },
  {
   "cell_type": "code",
   "execution_count": 21,
   "metadata": {
    "execution": {
     "iopub.execute_input": "2020-10-03T08:40:53.300081Z",
     "iopub.status.busy": "2020-10-03T08:40:53.299337Z",
     "iopub.status.idle": "2020-10-03T08:40:56.727657Z",
     "shell.execute_reply": "2020-10-03T08:40:56.726918Z"
    },
    "id": "gCVmZrO7a_qa",
    "papermill": {
     "duration": 3.487319,
     "end_time": "2020-10-03T08:40:56.727791",
     "exception": false,
     "start_time": "2020-10-03T08:40:53.240472",
     "status": "completed"
    },
    "tags": []
   },
   "outputs": [],
   "source": [
    "input = Input(shape=(128,128, 1))\n",
    "\n",
    "x = convBlock(input,32)\n",
    "x = convBlock(x,64)\n",
    "x = convBlock(x,128)\n",
    "x = convBlock(x,256)\n",
    "x = convBlock(x,512)\n",
    "\n",
    "x = BatchNormalization()(x)\n",
    "\n",
    "\n",
    "#https://stackoverflow.com/questions/52934764/keras-adaptive-max-pooling\n",
    "x = GlobalMaxPool2D()(x)\n",
    "x = Dense(1024)(x)\n",
    "x = PReLU()(x)\n",
    "#x= Dropout(0.1)(x)\n",
    "x = Dense(256)(x)\n",
    "#x = Activation('relu')(x)\n",
    "x = PReLU()(x)\n",
    "x= Dense(80)(x)\n",
    "output = Activation('sigmoid')(x)\n",
    "\n",
    "model = Model(inputs=input,outputs=output)\n",
    "\n",
    "\n"
   ]
  },
  {
   "cell_type": "code",
   "execution_count": 22,
   "metadata": {
    "execution": {
     "iopub.execute_input": "2020-10-03T08:40:56.928020Z",
     "iopub.status.busy": "2020-10-03T08:40:56.926963Z",
     "iopub.status.idle": "2020-10-03T08:40:56.934829Z",
     "shell.execute_reply": "2020-10-03T08:40:56.934342Z"
    },
    "id": "rWRVnx0zz_mG",
    "papermill": {
     "duration": 0.067052,
     "end_time": "2020-10-03T08:40:56.934940",
     "exception": false,
     "start_time": "2020-10-03T08:40:56.867888",
     "status": "completed"
    },
    "tags": []
   },
   "outputs": [],
   "source": [
    "opt = tf.keras.optimizers.Adam(lr=0.0009)#tf.keras.optimizers.RMSprop(lr=0.3, decay=1e-6) \n",
    "model.compile(loss=  tf.keras.losses.BinaryCrossentropy(reduction=tf.keras.losses.Reduction.SUM,\n",
    "                                                        label_smoothing=0.7),#custom_loss_noisy_2,#custom_loss,#'categorical_crossentropy',\n",
    "              optimizer=opt,\n",
    "               metrics=['categorical_accuracy'])"
   ]
  },
  {
   "cell_type": "code",
   "execution_count": 23,
   "metadata": {
    "execution": {
     "iopub.execute_input": "2020-10-03T08:40:57.036516Z",
     "iopub.status.busy": "2020-10-03T08:40:57.035878Z",
     "iopub.status.idle": "2020-10-03T08:40:57.063633Z",
     "shell.execute_reply": "2020-10-03T08:40:57.064099Z"
    },
    "id": "xHHXlmxrBObq",
    "outputId": "28832a2c-2125-41a4-bacf-f6eac45f840c",
    "papermill": {
     "duration": 0.082889,
     "end_time": "2020-10-03T08:40:57.064231",
     "exception": false,
     "start_time": "2020-10-03T08:40:56.981342",
     "status": "completed"
    },
    "tags": []
   },
   "outputs": [
    {
     "data": {
      "text/plain": [
       "(1, 1, 1, 32)"
      ]
     },
     "execution_count": 23,
     "metadata": {},
     "output_type": "execute_result"
    }
   ],
   "source": [
    "model.get_weights()[0].shape"
   ]
  },
  {
   "cell_type": "code",
   "execution_count": 24,
   "metadata": {
    "execution": {
     "iopub.execute_input": "2020-10-03T08:40:57.166520Z",
     "iopub.status.busy": "2020-10-03T08:40:57.165833Z",
     "iopub.status.idle": "2020-10-03T08:40:57.170517Z",
     "shell.execute_reply": "2020-10-03T08:40:57.170052Z"
    },
    "id": "yPvkxuClbEf6",
    "outputId": "986699f6-34b5-483e-9bdf-822bc8c1b8ab",
    "papermill": {
     "duration": 0.058216,
     "end_time": "2020-10-03T08:40:57.170621",
     "exception": false,
     "start_time": "2020-10-03T08:40:57.112405",
     "status": "completed"
    },
    "tags": []
   },
   "outputs": [],
   "source": [
    "#model.summary()"
   ]
  },
  {
   "cell_type": "code",
   "execution_count": 25,
   "metadata": {
    "execution": {
     "iopub.execute_input": "2020-10-03T08:40:57.274637Z",
     "iopub.status.busy": "2020-10-03T08:40:57.272731Z",
     "iopub.status.idle": "2020-10-03T08:40:57.275433Z",
     "shell.execute_reply": "2020-10-03T08:40:57.276007Z"
    },
    "id": "Ny1ELGuV9CLQ",
    "papermill": {
     "duration": 0.056643,
     "end_time": "2020-10-03T08:40:57.276141",
     "exception": false,
     "start_time": "2020-10-03T08:40:57.219498",
     "status": "completed"
    },
    "tags": []
   },
   "outputs": [],
   "source": [
    "#tf.keras.utils.plot_model(model, 'discriminator.png', show_shapes=True)"
   ]
  },
  {
   "cell_type": "code",
   "execution_count": 26,
   "metadata": {
    "execution": {
     "iopub.execute_input": "2020-10-03T08:40:57.378328Z",
     "iopub.status.busy": "2020-10-03T08:40:57.376334Z",
     "iopub.status.idle": "2020-10-03T08:40:57.379048Z",
     "shell.execute_reply": "2020-10-03T08:40:57.379502Z"
    },
    "id": "Hs9u-idqbeiL",
    "papermill": {
     "duration": 0.055496,
     "end_time": "2020-10-03T08:40:57.379618",
     "exception": false,
     "start_time": "2020-10-03T08:40:57.324122",
     "status": "completed"
    },
    "tags": []
   },
   "outputs": [],
   "source": [
    "STEP_SIZE_TRAIN=train_generator.n//train_generator.batch_size\n",
    "STEP_SIZE_VALID=valid_generator.n//valid_generator.batch_size"
   ]
  },
  {
   "cell_type": "code",
   "execution_count": 27,
   "metadata": {
    "execution": {
     "iopub.execute_input": "2020-10-03T08:40:57.480420Z",
     "iopub.status.busy": "2020-10-03T08:40:57.479268Z",
     "iopub.status.idle": "2020-10-03T08:40:57.482926Z",
     "shell.execute_reply": "2020-10-03T08:40:57.483508Z"
    },
    "id": "Jjr_WMybA6XZ",
    "outputId": "a6d0c162-51bc-444b-c8e0-4b9962b1feef",
    "papermill": {
     "duration": 0.0574,
     "end_time": "2020-10-03T08:40:57.483631",
     "exception": false,
     "start_time": "2020-10-03T08:40:57.426231",
     "status": "completed"
    },
    "tags": []
   },
   "outputs": [
    {
     "data": {
      "text/plain": [
       "303"
      ]
     },
     "execution_count": 27,
     "metadata": {},
     "output_type": "execute_result"
    }
   ],
   "source": [
    "STEP_SIZE_TRAIN"
   ]
  },
  {
   "cell_type": "code",
   "execution_count": 28,
   "metadata": {
    "execution": {
     "iopub.execute_input": "2020-10-03T08:40:57.590470Z",
     "iopub.status.busy": "2020-10-03T08:40:57.589645Z",
     "iopub.status.idle": "2020-10-03T08:40:57.592905Z",
     "shell.execute_reply": "2020-10-03T08:40:57.593437Z"
    },
    "id": "7sBXMkLybjHp",
    "papermill": {
     "duration": 0.060439,
     "end_time": "2020-10-03T08:40:57.593596",
     "exception": false,
     "start_time": "2020-10-03T08:40:57.533157",
     "status": "completed"
    },
    "tags": []
   },
   "outputs": [],
   "source": [
    "csv_logger = CSVLogger(filename='training_log.csv',\n",
    "                       separator=',',\n",
    "                       append=True)\n",
    "#https://www.tensorflow.org/api_docs/python/tf/keras/callbacks/ReduceLROnPlateau\n",
    "reduceLROnPlat = ReduceLROnPlateau(monitor='val_categorical_accuracy', factor=0.6,\n",
    "                              patience=6, min_lr=0,verbose=1)\n",
    "\n",
    "\n",
    "model_checkpoint = ModelCheckpoint(\"total.best_weightsNoisy2BN.hdf5\", monitor='val_categorical_accuracy', mode='min', verbose=1, save_best_only=True)\n",
    "\n",
    "# fit model\n",
    "\n",
    "#es = tf.keras.callbacks.EarlyStopping(monitor='val_loss', mode='min', verbose=1, patience=20, min_delta=0.001 )\n",
    "es = tf.keras.callbacks.EarlyStopping(monitor='val_categorical_accuracy', mode='max', verbose=1, patience=40, min_delta=0.001 )"
   ]
  },
  {
   "cell_type": "code",
   "execution_count": 29,
   "metadata": {
    "execution": {
     "iopub.execute_input": "2020-10-03T08:40:57.708043Z",
     "iopub.status.busy": "2020-10-03T08:40:57.706573Z",
     "iopub.status.idle": "2020-10-03T08:40:57.711076Z",
     "shell.execute_reply": "2020-10-03T08:40:57.710456Z"
    },
    "id": "Wc40dl_zbvhk",
    "papermill": {
     "duration": 0.069412,
     "end_time": "2020-10-03T08:40:57.711186",
     "exception": false,
     "start_time": "2020-10-03T08:40:57.641774",
     "status": "completed"
    },
    "tags": []
   },
   "outputs": [],
   "source": [
    "import tensorflow as tf\n",
    "import datetime, os\n",
    "\n",
    "logdir = os.path.join(\"logs\", datetime.datetime.now().strftime(\"%Y%m%d-%H%M%S\"))\n",
    "tensorboard_callback = tf.keras.callbacks.TensorBoard(logdir, histogram_freq=1)\n",
    "callbacks_list = [model_checkpoint, csv_logger, reduceLROnPlat,tensorboard_callback,es]#es"
   ]
  },
  {
   "cell_type": "code",
   "execution_count": 30,
   "metadata": {
    "execution": {
     "iopub.execute_input": "2020-10-03T08:40:57.813438Z",
     "iopub.status.busy": "2020-10-03T08:40:57.812783Z",
     "iopub.status.idle": "2020-10-03T08:41:02.362693Z",
     "shell.execute_reply": "2020-10-03T08:41:02.362177Z"
    },
    "id": "OGiAJFTpcmDL",
    "outputId": "061499a4-65c3-4520-924f-05fdc91d06b2",
    "papermill": {
     "duration": 4.60329,
     "end_time": "2020-10-03T08:41:02.362820",
     "exception": false,
     "start_time": "2020-10-03T08:40:57.759530",
     "status": "completed"
    },
    "tags": []
   },
   "outputs": [
    {
     "data": {
      "text/html": [
       "\n",
       "      <iframe id=\"tensorboard-frame-860e0a9a35ce5a28\" width=\"100%\" height=\"800\" frameborder=\"0\">\n",
       "      </iframe>\n",
       "      <script>\n",
       "        (function() {\n",
       "          const frame = document.getElementById(\"tensorboard-frame-860e0a9a35ce5a28\");\n",
       "          const url = new URL(\"/\", window.location);\n",
       "          const port = 6006;\n",
       "          if (port) {\n",
       "            url.port = port;\n",
       "          }\n",
       "          frame.src = url;\n",
       "        })();\n",
       "      </script>\n",
       "    "
      ],
      "text/plain": [
       "<IPython.core.display.HTML object>"
      ]
     },
     "metadata": {},
     "output_type": "display_data"
    }
   ],
   "source": [
    "%load_ext tensorboard\n",
    "%tensorboard --logdir logs"
   ]
  },
  {
   "cell_type": "code",
   "execution_count": 31,
   "metadata": {
    "execution": {
     "iopub.execute_input": "2020-10-03T08:41:02.466935Z",
     "iopub.status.busy": "2020-10-03T08:41:02.465902Z",
     "iopub.status.idle": "2020-10-03T08:41:02.470824Z",
     "shell.execute_reply": "2020-10-03T08:41:02.470341Z"
    },
    "id": "ZiFqwN52i5ml",
    "outputId": "dd056941-fb6c-494c-e5f5-9fe279d521c6",
    "papermill": {
     "duration": 0.058412,
     "end_time": "2020-10-03T08:41:02.470929",
     "exception": false,
     "start_time": "2020-10-03T08:41:02.412517",
     "status": "completed"
    },
    "tags": []
   },
   "outputs": [
    {
     "data": {
      "text/plain": [
       "75"
      ]
     },
     "execution_count": 31,
     "metadata": {},
     "output_type": "execute_result"
    }
   ],
   "source": [
    "STEP_SIZE_VALID"
   ]
  },
  {
   "cell_type": "code",
   "execution_count": 32,
   "metadata": {
    "execution": {
     "iopub.execute_input": "2020-10-03T08:41:02.577709Z",
     "iopub.status.busy": "2020-10-03T08:41:02.576820Z",
     "iopub.status.idle": "2020-10-03T10:49:32.868368Z",
     "shell.execute_reply": "2020-10-03T10:49:32.868936Z"
    },
    "id": "ZrGneuQvbrKY",
    "outputId": "8b17a4d1-1b11-45ff-e7d7-c0c6ebfde83f",
    "papermill": {
     "duration": 7710.349211,
     "end_time": "2020-10-03T10:49:32.869101",
     "exception": false,
     "start_time": "2020-10-03T08:41:02.519890",
     "status": "completed"
    },
    "tags": []
   },
   "outputs": [
    {
     "name": "stdout",
     "output_type": "stream",
     "text": [
      "Epoch 1/300\n",
      "303/303 [==============================] - ETA: 0s - loss: 41.6845 - categorical_accuracy: 0.0162\n",
      "Epoch 00001: val_categorical_accuracy improved from inf to 0.01625, saving model to total.best_weightsNoisy2BN.hdf5\n",
      "303/303 [==============================] - 117s 385ms/step - loss: 41.6845 - categorical_accuracy: 0.0162 - val_loss: 41.6318 - val_categorical_accuracy: 0.0162\n",
      "Epoch 2/300\n",
      "303/303 [==============================] - ETA: 0s - loss: 41.6114 - categorical_accuracy: 0.0202\n",
      "Epoch 00002: val_categorical_accuracy improved from 0.01625 to 0.01042, saving model to total.best_weightsNoisy2BN.hdf5\n",
      "303/303 [==============================] - 80s 265ms/step - loss: 41.6114 - categorical_accuracy: 0.0202 - val_loss: 41.6225 - val_categorical_accuracy: 0.0104\n",
      "Epoch 3/300\n",
      "303/303 [==============================] - ETA: 0s - loss: 41.6094 - categorical_accuracy: 0.0244\n",
      "Epoch 00003: val_categorical_accuracy did not improve from 0.01042\n",
      "303/303 [==============================] - 82s 270ms/step - loss: 41.6094 - categorical_accuracy: 0.0244 - val_loss: 41.6207 - val_categorical_accuracy: 0.0179\n",
      "Epoch 4/300\n",
      "303/303 [==============================] - ETA: 0s - loss: 41.6067 - categorical_accuracy: 0.0214\n",
      "Epoch 00004: val_categorical_accuracy did not improve from 0.01042\n",
      "303/303 [==============================] - 83s 275ms/step - loss: 41.6067 - categorical_accuracy: 0.0214 - val_loss: 41.6191 - val_categorical_accuracy: 0.0213\n",
      "Epoch 5/300\n",
      "303/303 [==============================] - ETA: 0s - loss: 41.6052 - categorical_accuracy: 0.0234\n",
      "Epoch 00005: val_categorical_accuracy did not improve from 0.01042\n",
      "303/303 [==============================] - 88s 289ms/step - loss: 41.6052 - categorical_accuracy: 0.0234 - val_loss: 41.6160 - val_categorical_accuracy: 0.0244\n",
      "Epoch 6/300\n",
      "303/303 [==============================] - ETA: 0s - loss: 41.6043 - categorical_accuracy: 0.0255\n",
      "Epoch 00006: val_categorical_accuracy did not improve from 0.01042\n",
      "303/303 [==============================] - 86s 283ms/step - loss: 41.6043 - categorical_accuracy: 0.0255 - val_loss: 41.6150 - val_categorical_accuracy: 0.0250\n",
      "Epoch 7/300\n",
      "303/303 [==============================] - ETA: 0s - loss: 41.6043 - categorical_accuracy: 0.0265\n",
      "Epoch 00007: val_categorical_accuracy did not improve from 0.01042\n",
      "303/303 [==============================] - 87s 287ms/step - loss: 41.6043 - categorical_accuracy: 0.0265 - val_loss: 41.6202 - val_categorical_accuracy: 0.0208\n",
      "Epoch 8/300\n",
      "303/303 [==============================] - ETA: 0s - loss: 41.6031 - categorical_accuracy: 0.0281\n",
      "Epoch 00008: val_categorical_accuracy did not improve from 0.01042\n",
      "303/303 [==============================] - 85s 279ms/step - loss: 41.6031 - categorical_accuracy: 0.0281 - val_loss: 41.6141 - val_categorical_accuracy: 0.0258\n",
      "Epoch 9/300\n",
      "303/303 [==============================] - ETA: 0s - loss: 41.6028 - categorical_accuracy: 0.0308\n",
      "Epoch 00009: val_categorical_accuracy did not improve from 0.01042\n",
      "303/303 [==============================] - 83s 272ms/step - loss: 41.6028 - categorical_accuracy: 0.0308 - val_loss: 41.6269 - val_categorical_accuracy: 0.0260\n",
      "Epoch 10/300\n",
      "303/303 [==============================] - ETA: 0s - loss: 41.6026 - categorical_accuracy: 0.0322\n",
      "Epoch 00010: val_categorical_accuracy did not improve from 0.01042\n",
      "303/303 [==============================] - 81s 266ms/step - loss: 41.6026 - categorical_accuracy: 0.0322 - val_loss: 41.6148 - val_categorical_accuracy: 0.0129\n",
      "Epoch 11/300\n",
      "303/303 [==============================] - ETA: 0s - loss: 41.6017 - categorical_accuracy: 0.0324\n",
      "Epoch 00011: val_categorical_accuracy did not improve from 0.01042\n",
      "303/303 [==============================] - 82s 270ms/step - loss: 41.6017 - categorical_accuracy: 0.0324 - val_loss: 41.6145 - val_categorical_accuracy: 0.0160\n",
      "Epoch 12/300\n",
      "303/303 [==============================] - ETA: 0s - loss: 41.6014 - categorical_accuracy: 0.0370\n",
      "Epoch 00012: val_categorical_accuracy did not improve from 0.01042\n",
      "303/303 [==============================] - 81s 266ms/step - loss: 41.6014 - categorical_accuracy: 0.0370 - val_loss: 41.6140 - val_categorical_accuracy: 0.0242\n",
      "Epoch 13/300\n",
      "303/303 [==============================] - ETA: 0s - loss: 41.6008 - categorical_accuracy: 0.0353\n",
      "Epoch 00013: val_categorical_accuracy did not improve from 0.01042\n",
      "303/303 [==============================] - 81s 267ms/step - loss: 41.6008 - categorical_accuracy: 0.0353 - val_loss: 41.6131 - val_categorical_accuracy: 0.0277\n",
      "Epoch 14/300\n",
      "303/303 [==============================] - ETA: 0s - loss: 41.6006 - categorical_accuracy: 0.0391\n",
      "Epoch 00014: val_categorical_accuracy did not improve from 0.01042\n",
      "303/303 [==============================] - 80s 263ms/step - loss: 41.6006 - categorical_accuracy: 0.0391 - val_loss: 41.6134 - val_categorical_accuracy: 0.0344\n",
      "Epoch 15/300\n",
      "303/303 [==============================] - ETA: 0s - loss: 41.6007 - categorical_accuracy: 0.0388\n",
      "Epoch 00015: val_categorical_accuracy did not improve from 0.01042\n",
      "303/303 [==============================] - 81s 268ms/step - loss: 41.6007 - categorical_accuracy: 0.0388 - val_loss: 41.6151 - val_categorical_accuracy: 0.0283\n",
      "Epoch 16/300\n",
      "303/303 [==============================] - ETA: 0s - loss: 41.6002 - categorical_accuracy: 0.0423\n",
      "Epoch 00016: val_categorical_accuracy did not improve from 0.01042\n",
      "303/303 [==============================] - 80s 265ms/step - loss: 41.6002 - categorical_accuracy: 0.0423 - val_loss: 41.6144 - val_categorical_accuracy: 0.0244\n",
      "Epoch 17/300\n",
      "303/303 [==============================] - ETA: 0s - loss: 41.6003 - categorical_accuracy: 0.0416\n",
      "Epoch 00017: val_categorical_accuracy did not improve from 0.01042\n",
      "303/303 [==============================] - 80s 264ms/step - loss: 41.6003 - categorical_accuracy: 0.0416 - val_loss: 41.6159 - val_categorical_accuracy: 0.0208\n",
      "Epoch 18/300\n",
      "303/303 [==============================] - ETA: 0s - loss: 41.6003 - categorical_accuracy: 0.0430\n",
      "Epoch 00018: val_categorical_accuracy did not improve from 0.01042\n",
      "303/303 [==============================] - 82s 271ms/step - loss: 41.6003 - categorical_accuracy: 0.0430 - val_loss: 41.6158 - val_categorical_accuracy: 0.0208\n",
      "Epoch 19/300\n",
      "303/303 [==============================] - ETA: 0s - loss: 41.5999 - categorical_accuracy: 0.0443\n",
      "Epoch 00019: val_categorical_accuracy did not improve from 0.01042\n",
      "303/303 [==============================] - 80s 265ms/step - loss: 41.5999 - categorical_accuracy: 0.0443 - val_loss: 41.6143 - val_categorical_accuracy: 0.0254\n",
      "Epoch 20/300\n",
      "303/303 [==============================] - ETA: 0s - loss: 41.5996 - categorical_accuracy: 0.0444\n",
      "Epoch 00020: val_categorical_accuracy did not improve from 0.01042\n",
      "\n",
      "Epoch 00020: ReduceLROnPlateau reducing learning rate to 0.0005399999907240271.\n",
      "303/303 [==============================] - 80s 264ms/step - loss: 41.5996 - categorical_accuracy: 0.0444 - val_loss: 41.6161 - val_categorical_accuracy: 0.0171\n",
      "Epoch 21/300\n",
      "303/303 [==============================] - ETA: 0s - loss: 41.5988 - categorical_accuracy: 0.0486\n",
      "Epoch 00021: val_categorical_accuracy did not improve from 0.01042\n",
      "303/303 [==============================] - 83s 274ms/step - loss: 41.5988 - categorical_accuracy: 0.0486 - val_loss: 41.6143 - val_categorical_accuracy: 0.0208\n",
      "Epoch 22/300\n",
      "303/303 [==============================] - ETA: 0s - loss: 41.5987 - categorical_accuracy: 0.0501\n",
      "Epoch 00022: val_categorical_accuracy did not improve from 0.01042\n",
      "303/303 [==============================] - 81s 266ms/step - loss: 41.5987 - categorical_accuracy: 0.0501 - val_loss: 41.6126 - val_categorical_accuracy: 0.0377\n",
      "Epoch 23/300\n",
      "303/303 [==============================] - ETA: 0s - loss: 41.5988 - categorical_accuracy: 0.0498\n",
      "Epoch 00023: val_categorical_accuracy did not improve from 0.01042\n",
      "303/303 [==============================] - 81s 268ms/step - loss: 41.5988 - categorical_accuracy: 0.0498 - val_loss: 41.6146 - val_categorical_accuracy: 0.0260\n",
      "Epoch 24/300\n",
      "303/303 [==============================] - ETA: 0s - loss: 41.5989 - categorical_accuracy: 0.0497\n",
      "Epoch 00024: val_categorical_accuracy did not improve from 0.01042\n",
      "303/303 [==============================] - 83s 274ms/step - loss: 41.5989 - categorical_accuracy: 0.0497 - val_loss: 41.6125 - val_categorical_accuracy: 0.0404\n",
      "Epoch 25/300\n",
      "303/303 [==============================] - ETA: 0s - loss: 41.5986 - categorical_accuracy: 0.0511\n",
      "Epoch 00025: val_categorical_accuracy did not improve from 0.01042\n",
      "303/303 [==============================] - 82s 269ms/step - loss: 41.5986 - categorical_accuracy: 0.0511 - val_loss: 41.6139 - val_categorical_accuracy: 0.0267\n",
      "Epoch 26/300\n",
      "303/303 [==============================] - ETA: 0s - loss: 41.5990 - categorical_accuracy: 0.0509\n",
      "Epoch 00026: val_categorical_accuracy did not improve from 0.01042\n",
      "303/303 [==============================] - 81s 269ms/step - loss: 41.5990 - categorical_accuracy: 0.0509 - val_loss: 41.6153 - val_categorical_accuracy: 0.0256\n",
      "Epoch 27/300\n",
      "303/303 [==============================] - ETA: 0s - loss: 41.5987 - categorical_accuracy: 0.0523\n",
      "Epoch 00027: val_categorical_accuracy did not improve from 0.01042\n",
      "303/303 [==============================] - 85s 279ms/step - loss: 41.5987 - categorical_accuracy: 0.0523 - val_loss: 41.6153 - val_categorical_accuracy: 0.0260\n",
      "Epoch 28/300\n",
      "303/303 [==============================] - ETA: 0s - loss: 41.5986 - categorical_accuracy: 0.0531\n",
      "Epoch 00028: val_categorical_accuracy did not improve from 0.01042\n",
      "303/303 [==============================] - 81s 267ms/step - loss: 41.5986 - categorical_accuracy: 0.0531 - val_loss: 41.6135 - val_categorical_accuracy: 0.0333\n",
      "Epoch 29/300\n",
      "303/303 [==============================] - ETA: 0s - loss: 41.5984 - categorical_accuracy: 0.0545\n",
      "Epoch 00029: val_categorical_accuracy did not improve from 0.01042\n",
      "303/303 [==============================] - 82s 272ms/step - loss: 41.5984 - categorical_accuracy: 0.0545 - val_loss: 41.6138 - val_categorical_accuracy: 0.0200\n",
      "Epoch 30/300\n",
      "303/303 [==============================] - ETA: 0s - loss: 41.5985 - categorical_accuracy: 0.0544\n",
      "Epoch 00030: val_categorical_accuracy did not improve from 0.01042\n",
      "\n",
      "Epoch 00030: ReduceLROnPlateau reducing learning rate to 0.00032399998744949695.\n",
      "303/303 [==============================] - 84s 277ms/step - loss: 41.5985 - categorical_accuracy: 0.0544 - val_loss: 41.6122 - val_categorical_accuracy: 0.0402\n",
      "Epoch 31/300\n",
      "303/303 [==============================] - ETA: 0s - loss: 41.5979 - categorical_accuracy: 0.0576\n",
      "Epoch 00031: val_categorical_accuracy did not improve from 0.01042\n",
      "303/303 [==============================] - 81s 266ms/step - loss: 41.5979 - categorical_accuracy: 0.0576 - val_loss: 41.6131 - val_categorical_accuracy: 0.0321\n",
      "Epoch 32/300\n",
      "303/303 [==============================] - ETA: 0s - loss: 41.5978 - categorical_accuracy: 0.0592\n",
      "Epoch 00032: val_categorical_accuracy did not improve from 0.01042\n",
      "303/303 [==============================] - 82s 270ms/step - loss: 41.5978 - categorical_accuracy: 0.0592 - val_loss: 41.6141 - val_categorical_accuracy: 0.0258\n",
      "Epoch 33/300\n",
      "303/303 [==============================] - ETA: 0s - loss: 41.5978 - categorical_accuracy: 0.0583\n",
      "Epoch 00033: val_categorical_accuracy did not improve from 0.01042\n",
      "303/303 [==============================] - 81s 268ms/step - loss: 41.5978 - categorical_accuracy: 0.0583 - val_loss: 41.6135 - val_categorical_accuracy: 0.0231\n",
      "Epoch 34/300\n",
      "303/303 [==============================] - ETA: 0s - loss: 41.5978 - categorical_accuracy: 0.0604\n",
      "Epoch 00034: val_categorical_accuracy did not improve from 0.01042\n",
      "303/303 [==============================] - 83s 274ms/step - loss: 41.5978 - categorical_accuracy: 0.0604 - val_loss: 41.6178 - val_categorical_accuracy: 0.0210\n",
      "Epoch 35/300\n",
      "303/303 [==============================] - ETA: 0s - loss: 41.5978 - categorical_accuracy: 0.0586\n",
      "Epoch 00035: val_categorical_accuracy did not improve from 0.01042\n",
      "303/303 [==============================] - 82s 271ms/step - loss: 41.5978 - categorical_accuracy: 0.0586 - val_loss: 41.6170 - val_categorical_accuracy: 0.0240\n",
      "Epoch 36/300\n",
      "303/303 [==============================] - ETA: 0s - loss: 41.5977 - categorical_accuracy: 0.0606\n",
      "Epoch 00036: val_categorical_accuracy did not improve from 0.01042\n",
      "\n",
      "Epoch 00036: ReduceLROnPlateau reducing learning rate to 0.00019439999596215785.\n",
      "303/303 [==============================] - 81s 268ms/step - loss: 41.5977 - categorical_accuracy: 0.0606 - val_loss: 41.6133 - val_categorical_accuracy: 0.0215\n",
      "Epoch 37/300\n",
      "303/303 [==============================] - ETA: 0s - loss: 41.5974 - categorical_accuracy: 0.0634\n",
      "Epoch 00037: val_categorical_accuracy did not improve from 0.01042\n",
      "303/303 [==============================] - 82s 270ms/step - loss: 41.5974 - categorical_accuracy: 0.0634 - val_loss: 41.6121 - val_categorical_accuracy: 0.0429\n",
      "Epoch 38/300\n",
      "303/303 [==============================] - ETA: 0s - loss: 41.5973 - categorical_accuracy: 0.0667\n",
      "Epoch 00038: val_categorical_accuracy did not improve from 0.01042\n",
      "303/303 [==============================] - 80s 264ms/step - loss: 41.5973 - categorical_accuracy: 0.0667 - val_loss: 41.6126 - val_categorical_accuracy: 0.0408\n",
      "Epoch 39/300\n",
      "303/303 [==============================] - ETA: 0s - loss: 41.5973 - categorical_accuracy: 0.0649\n",
      "Epoch 00039: val_categorical_accuracy did not improve from 0.01042\n",
      "303/303 [==============================] - 81s 269ms/step - loss: 41.5973 - categorical_accuracy: 0.0649 - val_loss: 41.6126 - val_categorical_accuracy: 0.0335\n",
      "Epoch 40/300\n",
      "303/303 [==============================] - ETA: 0s - loss: 41.5972 - categorical_accuracy: 0.0670\n",
      "Epoch 00040: val_categorical_accuracy did not improve from 0.01042\n",
      "303/303 [==============================] - 79s 261ms/step - loss: 41.5972 - categorical_accuracy: 0.0670 - val_loss: 41.6171 - val_categorical_accuracy: 0.0219\n",
      "Epoch 41/300\n",
      "303/303 [==============================] - ETA: 0s - loss: 41.5972 - categorical_accuracy: 0.0657\n",
      "Epoch 00041: val_categorical_accuracy did not improve from 0.01042\n",
      "303/303 [==============================] - 79s 260ms/step - loss: 41.5972 - categorical_accuracy: 0.0657 - val_loss: 41.6125 - val_categorical_accuracy: 0.0371\n",
      "Epoch 42/300\n",
      "303/303 [==============================] - ETA: 0s - loss: 41.5971 - categorical_accuracy: 0.0676\n",
      "Epoch 00042: val_categorical_accuracy did not improve from 0.01042\n",
      "303/303 [==============================] - 81s 266ms/step - loss: 41.5971 - categorical_accuracy: 0.0676 - val_loss: 41.6138 - val_categorical_accuracy: 0.0271\n",
      "Epoch 43/300\n",
      "303/303 [==============================] - ETA: 0s - loss: 41.5971 - categorical_accuracy: 0.0689\n",
      "Epoch 00043: val_categorical_accuracy did not improve from 0.01042\n",
      "\n",
      "Epoch 00043: ReduceLROnPlateau reducing learning rate to 0.0001166399975772947.\n",
      "303/303 [==============================] - 80s 264ms/step - loss: 41.5971 - categorical_accuracy: 0.0689 - val_loss: 41.6130 - val_categorical_accuracy: 0.0350\n",
      "Epoch 44/300\n",
      "303/303 [==============================] - ETA: 0s - loss: 41.5968 - categorical_accuracy: 0.0733\n",
      "Epoch 00044: val_categorical_accuracy did not improve from 0.01042\n",
      "303/303 [==============================] - 79s 261ms/step - loss: 41.5968 - categorical_accuracy: 0.0733 - val_loss: 41.6118 - val_categorical_accuracy: 0.0437\n",
      "Epoch 45/300\n",
      "303/303 [==============================] - ETA: 0s - loss: 41.5967 - categorical_accuracy: 0.0749\n",
      "Epoch 00045: val_categorical_accuracy did not improve from 0.01042\n",
      "303/303 [==============================] - 79s 262ms/step - loss: 41.5967 - categorical_accuracy: 0.0749 - val_loss: 41.6118 - val_categorical_accuracy: 0.0381\n",
      "Epoch 46/300\n",
      "303/303 [==============================] - ETA: 0s - loss: 41.5966 - categorical_accuracy: 0.0750\n",
      "Epoch 00046: val_categorical_accuracy did not improve from 0.01042\n",
      "303/303 [==============================] - 80s 263ms/step - loss: 41.5966 - categorical_accuracy: 0.0750 - val_loss: 41.6135 - val_categorical_accuracy: 0.0381\n",
      "Epoch 47/300\n",
      "303/303 [==============================] - ETA: 0s - loss: 41.5966 - categorical_accuracy: 0.0741\n",
      "Epoch 00047: val_categorical_accuracy did not improve from 0.01042\n",
      "303/303 [==============================] - 80s 265ms/step - loss: 41.5966 - categorical_accuracy: 0.0741 - val_loss: 41.6124 - val_categorical_accuracy: 0.0379\n",
      "Epoch 48/300\n",
      "303/303 [==============================] - ETA: 0s - loss: 41.5966 - categorical_accuracy: 0.0762\n",
      "Epoch 00048: val_categorical_accuracy did not improve from 0.01042\n",
      "303/303 [==============================] - 82s 270ms/step - loss: 41.5966 - categorical_accuracy: 0.0762 - val_loss: 41.6118 - val_categorical_accuracy: 0.0477\n",
      "Epoch 49/300\n",
      "303/303 [==============================] - ETA: 0s - loss: 41.5966 - categorical_accuracy: 0.0761\n",
      "Epoch 00049: val_categorical_accuracy did not improve from 0.01042\n",
      "303/303 [==============================] - 81s 266ms/step - loss: 41.5966 - categorical_accuracy: 0.0761 - val_loss: 41.6121 - val_categorical_accuracy: 0.0402\n",
      "Epoch 50/300\n",
      "303/303 [==============================] - ETA: 0s - loss: 41.5966 - categorical_accuracy: 0.0750\n",
      "Epoch 00050: val_categorical_accuracy did not improve from 0.01042\n",
      "303/303 [==============================] - 80s 264ms/step - loss: 41.5966 - categorical_accuracy: 0.0750 - val_loss: 41.6122 - val_categorical_accuracy: 0.0398\n",
      "Epoch 51/300\n",
      "303/303 [==============================] - ETA: 0s - loss: 41.5965 - categorical_accuracy: 0.0762\n",
      "Epoch 00051: val_categorical_accuracy did not improve from 0.01042\n",
      "303/303 [==============================] - 79s 261ms/step - loss: 41.5965 - categorical_accuracy: 0.0762 - val_loss: 41.6114 - val_categorical_accuracy: 0.0435\n",
      "Epoch 52/300\n",
      "303/303 [==============================] - ETA: 0s - loss: 41.5964 - categorical_accuracy: 0.0775\n",
      "Epoch 00052: val_categorical_accuracy did not improve from 0.01042\n",
      "303/303 [==============================] - 80s 264ms/step - loss: 41.5964 - categorical_accuracy: 0.0775 - val_loss: 41.6128 - val_categorical_accuracy: 0.0388\n",
      "Epoch 53/300\n",
      "303/303 [==============================] - ETA: 0s - loss: 41.5965 - categorical_accuracy: 0.0775\n",
      "Epoch 00053: val_categorical_accuracy did not improve from 0.01042\n",
      "303/303 [==============================] - 80s 263ms/step - loss: 41.5965 - categorical_accuracy: 0.0775 - val_loss: 41.6117 - val_categorical_accuracy: 0.0494\n",
      "Epoch 54/300\n",
      "303/303 [==============================] - ETA: 0s - loss: 41.5964 - categorical_accuracy: 0.0763\n",
      "Epoch 00054: val_categorical_accuracy did not improve from 0.01042\n",
      "303/303 [==============================] - 82s 271ms/step - loss: 41.5964 - categorical_accuracy: 0.0763 - val_loss: 41.6117 - val_categorical_accuracy: 0.0471\n",
      "Epoch 55/300\n",
      "303/303 [==============================] - ETA: 0s - loss: 41.5964 - categorical_accuracy: 0.0760\n",
      "Epoch 00055: val_categorical_accuracy did not improve from 0.01042\n",
      "303/303 [==============================] - 80s 265ms/step - loss: 41.5964 - categorical_accuracy: 0.0760 - val_loss: 41.6135 - val_categorical_accuracy: 0.0265\n",
      "Epoch 56/300\n",
      "303/303 [==============================] - ETA: 0s - loss: 41.5964 - categorical_accuracy: 0.0765\n",
      "Epoch 00056: val_categorical_accuracy did not improve from 0.01042\n",
      "303/303 [==============================] - 85s 282ms/step - loss: 41.5964 - categorical_accuracy: 0.0765 - val_loss: 41.6146 - val_categorical_accuracy: 0.0344\n",
      "Epoch 57/300\n",
      "303/303 [==============================] - ETA: 0s - loss: 41.5963 - categorical_accuracy: 0.0810\n",
      "Epoch 00057: val_categorical_accuracy did not improve from 0.01042\n",
      "303/303 [==============================] - 85s 279ms/step - loss: 41.5963 - categorical_accuracy: 0.0810 - val_loss: 41.6137 - val_categorical_accuracy: 0.0296\n",
      "Epoch 58/300\n",
      "303/303 [==============================] - ETA: 0s - loss: 41.5964 - categorical_accuracy: 0.0805\n",
      "Epoch 00058: val_categorical_accuracy did not improve from 0.01042\n",
      "303/303 [==============================] - 82s 271ms/step - loss: 41.5964 - categorical_accuracy: 0.0805 - val_loss: 41.6121 - val_categorical_accuracy: 0.0373\n",
      "Epoch 59/300\n",
      "303/303 [==============================] - ETA: 0s - loss: 41.5963 - categorical_accuracy: 0.0793\n",
      "Epoch 00059: val_categorical_accuracy did not improve from 0.01042\n",
      "\n",
      "Epoch 00059: ReduceLROnPlateau reducing learning rate to 6.998399767326191e-05.\n",
      "303/303 [==============================] - 81s 269ms/step - loss: 41.5963 - categorical_accuracy: 0.0793 - val_loss: 41.6118 - val_categorical_accuracy: 0.0454\n",
      "Epoch 60/300\n",
      "303/303 [==============================] - ETA: 0s - loss: 41.5961 - categorical_accuracy: 0.0802\n",
      "Epoch 00060: val_categorical_accuracy did not improve from 0.01042\n",
      "303/303 [==============================] - 87s 288ms/step - loss: 41.5961 - categorical_accuracy: 0.0802 - val_loss: 41.6117 - val_categorical_accuracy: 0.0429\n",
      "Epoch 61/300\n",
      "303/303 [==============================] - ETA: 0s - loss: 41.5960 - categorical_accuracy: 0.0835\n",
      "Epoch 00061: val_categorical_accuracy did not improve from 0.01042\n",
      "303/303 [==============================] - 86s 283ms/step - loss: 41.5960 - categorical_accuracy: 0.0835 - val_loss: 41.6130 - val_categorical_accuracy: 0.0344\n",
      "Epoch 62/300\n",
      "303/303 [==============================] - ETA: 0s - loss: 41.5960 - categorical_accuracy: 0.0824\n",
      "Epoch 00062: val_categorical_accuracy did not improve from 0.01042\n",
      "303/303 [==============================] - 83s 274ms/step - loss: 41.5960 - categorical_accuracy: 0.0824 - val_loss: 41.6144 - val_categorical_accuracy: 0.0331\n",
      "Epoch 63/300\n",
      "303/303 [==============================] - ETA: 0s - loss: 41.5961 - categorical_accuracy: 0.0820\n",
      "Epoch 00063: val_categorical_accuracy did not improve from 0.01042\n",
      "303/303 [==============================] - 82s 270ms/step - loss: 41.5961 - categorical_accuracy: 0.0820 - val_loss: 41.6120 - val_categorical_accuracy: 0.0437\n",
      "Epoch 64/300\n",
      "303/303 [==============================] - ETA: 0s - loss: 41.5960 - categorical_accuracy: 0.0827\n",
      "Epoch 00064: val_categorical_accuracy did not improve from 0.01042\n",
      "303/303 [==============================] - 82s 272ms/step - loss: 41.5960 - categorical_accuracy: 0.0827 - val_loss: 41.6124 - val_categorical_accuracy: 0.0394\n",
      "Epoch 65/300\n",
      "303/303 [==============================] - ETA: 0s - loss: 41.5959 - categorical_accuracy: 0.0821\n",
      "Epoch 00065: val_categorical_accuracy did not improve from 0.01042\n",
      "\n",
      "Epoch 00065: ReduceLROnPlateau reducing learning rate to 4.199039685772732e-05.\n",
      "303/303 [==============================] - 86s 284ms/step - loss: 41.5959 - categorical_accuracy: 0.0821 - val_loss: 41.6128 - val_categorical_accuracy: 0.0373\n",
      "Epoch 66/300\n",
      "303/303 [==============================] - ETA: 0s - loss: 41.5958 - categorical_accuracy: 0.0814\n",
      "Epoch 00066: val_categorical_accuracy did not improve from 0.01042\n",
      "303/303 [==============================] - 87s 286ms/step - loss: 41.5958 - categorical_accuracy: 0.0814 - val_loss: 41.6128 - val_categorical_accuracy: 0.0362\n",
      "Epoch 67/300\n",
      "303/303 [==============================] - ETA: 0s - loss: 41.5958 - categorical_accuracy: 0.0831\n",
      "Epoch 00067: val_categorical_accuracy did not improve from 0.01042\n",
      "303/303 [==============================] - 83s 274ms/step - loss: 41.5958 - categorical_accuracy: 0.0831 - val_loss: 41.6120 - val_categorical_accuracy: 0.0406\n",
      "Epoch 68/300\n",
      "303/303 [==============================] - ETA: 0s - loss: 41.5957 - categorical_accuracy: 0.0846\n",
      "Epoch 00068: val_categorical_accuracy did not improve from 0.01042\n",
      "303/303 [==============================] - 84s 277ms/step - loss: 41.5957 - categorical_accuracy: 0.0846 - val_loss: 41.6119 - val_categorical_accuracy: 0.0402\n",
      "Epoch 69/300\n",
      "303/303 [==============================] - ETA: 0s - loss: 41.5957 - categorical_accuracy: 0.0862\n",
      "Epoch 00069: val_categorical_accuracy did not improve from 0.01042\n",
      "303/303 [==============================] - 83s 275ms/step - loss: 41.5957 - categorical_accuracy: 0.0862 - val_loss: 41.6121 - val_categorical_accuracy: 0.0388\n",
      "Epoch 70/300\n",
      "303/303 [==============================] - ETA: 0s - loss: 41.5957 - categorical_accuracy: 0.0843\n",
      "Epoch 00070: val_categorical_accuracy did not improve from 0.01042\n",
      "303/303 [==============================] - 83s 275ms/step - loss: 41.5957 - categorical_accuracy: 0.0843 - val_loss: 41.6116 - val_categorical_accuracy: 0.0448\n",
      "Epoch 71/300\n",
      "303/303 [==============================] - ETA: 0s - loss: 41.5958 - categorical_accuracy: 0.0870\n",
      "Epoch 00071: val_categorical_accuracy did not improve from 0.01042\n",
      "\n",
      "Epoch 00071: ReduceLROnPlateau reducing learning rate to 2.519423724152148e-05.\n",
      "303/303 [==============================] - 84s 278ms/step - loss: 41.5958 - categorical_accuracy: 0.0870 - val_loss: 41.6118 - val_categorical_accuracy: 0.0440\n",
      "Epoch 72/300\n",
      "303/303 [==============================] - ETA: 0s - loss: 41.5957 - categorical_accuracy: 0.0869\n",
      "Epoch 00072: val_categorical_accuracy did not improve from 0.01042\n",
      "303/303 [==============================] - 85s 281ms/step - loss: 41.5957 - categorical_accuracy: 0.0869 - val_loss: 41.6116 - val_categorical_accuracy: 0.0413\n",
      "Epoch 73/300\n",
      "303/303 [==============================] - ETA: 0s - loss: 41.5957 - categorical_accuracy: 0.0846\n",
      "Epoch 00073: val_categorical_accuracy did not improve from 0.01042\n",
      "303/303 [==============================] - 88s 291ms/step - loss: 41.5957 - categorical_accuracy: 0.0846 - val_loss: 41.6120 - val_categorical_accuracy: 0.0402\n",
      "Epoch 74/300\n",
      "303/303 [==============================] - ETA: 0s - loss: 41.5957 - categorical_accuracy: 0.0852\n",
      "Epoch 00074: val_categorical_accuracy did not improve from 0.01042\n",
      "303/303 [==============================] - 84s 276ms/step - loss: 41.5957 - categorical_accuracy: 0.0852 - val_loss: 41.6125 - val_categorical_accuracy: 0.0358\n",
      "Epoch 75/300\n",
      "303/303 [==============================] - ETA: 0s - loss: 41.5955 - categorical_accuracy: 0.0883\n",
      "Epoch 00075: val_categorical_accuracy did not improve from 0.01042\n",
      "303/303 [==============================] - 85s 281ms/step - loss: 41.5955 - categorical_accuracy: 0.0883 - val_loss: 41.6125 - val_categorical_accuracy: 0.0383\n",
      "Epoch 76/300\n",
      "303/303 [==============================] - ETA: 0s - loss: 41.5955 - categorical_accuracy: 0.0873\n",
      "Epoch 00076: val_categorical_accuracy did not improve from 0.01042\n",
      "303/303 [==============================] - 85s 280ms/step - loss: 41.5955 - categorical_accuracy: 0.0873 - val_loss: 41.6122 - val_categorical_accuracy: 0.0381\n",
      "Epoch 77/300\n",
      "303/303 [==============================] - ETA: 0s - loss: 41.5956 - categorical_accuracy: 0.0860\n",
      "Epoch 00077: val_categorical_accuracy did not improve from 0.01042\n",
      "\n",
      "Epoch 00077: ReduceLROnPlateau reducing learning rate to 1.511654190835543e-05.\n",
      "303/303 [==============================] - 79s 261ms/step - loss: 41.5956 - categorical_accuracy: 0.0860 - val_loss: 41.6115 - val_categorical_accuracy: 0.0442\n",
      "Epoch 78/300\n",
      "303/303 [==============================] - ETA: 0s - loss: 41.5956 - categorical_accuracy: 0.0869\n",
      "Epoch 00078: val_categorical_accuracy did not improve from 0.01042\n",
      "303/303 [==============================] - 84s 278ms/step - loss: 41.5956 - categorical_accuracy: 0.0869 - val_loss: 41.6118 - val_categorical_accuracy: 0.0456\n",
      "Epoch 79/300\n",
      "303/303 [==============================] - ETA: 0s - loss: 41.5955 - categorical_accuracy: 0.0886\n",
      "Epoch 00079: val_categorical_accuracy did not improve from 0.01042\n",
      "303/303 [==============================] - 85s 282ms/step - loss: 41.5955 - categorical_accuracy: 0.0886 - val_loss: 41.6121 - val_categorical_accuracy: 0.0406\n",
      "Epoch 80/300\n",
      "303/303 [==============================] - ETA: 0s - loss: 41.5955 - categorical_accuracy: 0.0876\n",
      "Epoch 00080: val_categorical_accuracy did not improve from 0.01042\n",
      "303/303 [==============================] - 79s 261ms/step - loss: 41.5955 - categorical_accuracy: 0.0876 - val_loss: 41.6122 - val_categorical_accuracy: 0.0377\n",
      "Epoch 81/300\n",
      "303/303 [==============================] - ETA: 0s - loss: 41.5955 - categorical_accuracy: 0.0892\n",
      "Epoch 00081: val_categorical_accuracy did not improve from 0.01042\n",
      "303/303 [==============================] - 84s 277ms/step - loss: 41.5955 - categorical_accuracy: 0.0892 - val_loss: 41.6116 - val_categorical_accuracy: 0.0450\n",
      "Epoch 82/300\n",
      "303/303 [==============================] - ETA: 0s - loss: 41.5954 - categorical_accuracy: 0.0911\n",
      "Epoch 00082: val_categorical_accuracy did not improve from 0.01042\n",
      "303/303 [==============================] - 79s 261ms/step - loss: 41.5954 - categorical_accuracy: 0.0911 - val_loss: 41.6121 - val_categorical_accuracy: 0.0402\n",
      "Epoch 83/300\n",
      "303/303 [==============================] - ETA: 0s - loss: 41.5954 - categorical_accuracy: 0.0896\n",
      "Epoch 00083: val_categorical_accuracy did not improve from 0.01042\n",
      "\n",
      "Epoch 00083: ReduceLROnPlateau reducing learning rate to 9.069925363291987e-06.\n",
      "303/303 [==============================] - 83s 275ms/step - loss: 41.5954 - categorical_accuracy: 0.0896 - val_loss: 41.6119 - val_categorical_accuracy: 0.0421\n",
      "Epoch 84/300\n",
      "303/303 [==============================] - ETA: 0s - loss: 41.5955 - categorical_accuracy: 0.0886\n",
      "Epoch 00084: val_categorical_accuracy did not improve from 0.01042\n",
      "303/303 [==============================] - 84s 276ms/step - loss: 41.5955 - categorical_accuracy: 0.0886 - val_loss: 41.6117 - val_categorical_accuracy: 0.0452\n",
      "Epoch 85/300\n",
      "303/303 [==============================] - ETA: 0s - loss: 41.5954 - categorical_accuracy: 0.0901\n",
      "Epoch 00085: val_categorical_accuracy did not improve from 0.01042\n",
      "303/303 [==============================] - 78s 258ms/step - loss: 41.5954 - categorical_accuracy: 0.0901 - val_loss: 41.6119 - val_categorical_accuracy: 0.0410\n",
      "Epoch 86/300\n",
      "303/303 [==============================] - ETA: 0s - loss: 41.5954 - categorical_accuracy: 0.0892\n",
      "Epoch 00086: val_categorical_accuracy did not improve from 0.01042\n",
      "303/303 [==============================] - 84s 278ms/step - loss: 41.5954 - categorical_accuracy: 0.0892 - val_loss: 41.6120 - val_categorical_accuracy: 0.0406\n",
      "Epoch 87/300\n",
      "303/303 [==============================] - ETA: 0s - loss: 41.5953 - categorical_accuracy: 0.0871\n",
      "Epoch 00087: val_categorical_accuracy did not improve from 0.01042\n",
      "303/303 [==============================] - 77s 255ms/step - loss: 41.5953 - categorical_accuracy: 0.0871 - val_loss: 41.6120 - val_categorical_accuracy: 0.0425\n",
      "Epoch 88/300\n",
      "303/303 [==============================] - ETA: 0s - loss: 41.5954 - categorical_accuracy: 0.0901\n",
      "Epoch 00088: val_categorical_accuracy did not improve from 0.01042\n",
      "303/303 [==============================] - 85s 279ms/step - loss: 41.5954 - categorical_accuracy: 0.0901 - val_loss: 41.6119 - val_categorical_accuracy: 0.0404\n",
      "Epoch 89/300\n",
      "303/303 [==============================] - ETA: 0s - loss: 41.5954 - categorical_accuracy: 0.0910\n",
      "Epoch 00089: val_categorical_accuracy did not improve from 0.01042\n",
      "\n",
      "Epoch 00089: ReduceLROnPlateau reducing learning rate to 5.441954999696463e-06.\n",
      "303/303 [==============================] - 83s 274ms/step - loss: 41.5954 - categorical_accuracy: 0.0910 - val_loss: 41.6122 - val_categorical_accuracy: 0.0388\n",
      "Epoch 90/300\n",
      "303/303 [==============================] - ETA: 0s - loss: 41.5953 - categorical_accuracy: 0.0908\n",
      "Epoch 00090: val_categorical_accuracy did not improve from 0.01042\n",
      "303/303 [==============================] - 79s 259ms/step - loss: 41.5953 - categorical_accuracy: 0.0908 - val_loss: 41.6119 - val_categorical_accuracy: 0.0433\n",
      "Epoch 91/300\n",
      "303/303 [==============================] - ETA: 0s - loss: 41.5954 - categorical_accuracy: 0.0914\n",
      "Epoch 00091: val_categorical_accuracy did not improve from 0.01042\n",
      "303/303 [==============================] - 85s 281ms/step - loss: 41.5954 - categorical_accuracy: 0.0914 - val_loss: 41.6118 - val_categorical_accuracy: 0.0435\n",
      "Epoch 92/300\n",
      "303/303 [==============================] - ETA: 0s - loss: 41.5954 - categorical_accuracy: 0.0898\n",
      "Epoch 00092: val_categorical_accuracy did not improve from 0.01042\n",
      "303/303 [==============================] - 77s 253ms/step - loss: 41.5954 - categorical_accuracy: 0.0898 - val_loss: 41.6121 - val_categorical_accuracy: 0.0402\n",
      "Epoch 93/300\n",
      "303/303 [==============================] - ETA: 0s - loss: 41.5954 - categorical_accuracy: 0.0898\n",
      "Epoch 00093: val_categorical_accuracy did not improve from 0.01042\n",
      "303/303 [==============================] - 84s 276ms/step - loss: 41.5954 - categorical_accuracy: 0.0898 - val_loss: 41.6120 - val_categorical_accuracy: 0.0413\n",
      "Epoch 00093: early stopping\n"
     ]
    }
   ],
   "source": [
    "history=model.fit(train_generator,\n",
    "                    steps_per_epoch=STEP_SIZE_TRAIN,\n",
    "                    validation_data=valid_generator,\n",
    "                    validation_steps=STEP_SIZE_VALID,\n",
    "                    epochs=300,\n",
    "                    callbacks=callbacks_list\n",
    ")"
   ]
  },
  {
   "cell_type": "markdown",
   "metadata": {},
   "source": [
    "# Prediction based on Trainned model"
   ]
  },
  {
   "cell_type": "code",
   "execution_count": 33,
   "metadata": {
    "execution": {
     "iopub.execute_input": "2020-10-03T10:49:53.981540Z",
     "iopub.status.busy": "2020-10-03T10:49:53.980845Z",
     "iopub.status.idle": "2020-10-03T10:50:13.725366Z",
     "shell.execute_reply": "2020-10-03T10:50:13.724363Z"
    },
    "id": "t4naHqcUlZwD",
    "outputId": "0436d35b-8809-4574-d9bf-26a36e258087",
    "papermill": {
     "duration": 30.233871,
     "end_time": "2020-10-03T10:50:13.725490",
     "exception": false,
     "start_time": "2020-10-03T10:49:43.491619",
     "status": "completed"
    },
    "tags": []
   },
   "outputs": [
    {
     "name": "stdout",
     "output_type": "stream",
     "text": [
      "95/95 [==============================] - 19s 201ms/step\n"
     ]
    }
   ],
   "source": [
    "test_generator.reset()\n",
    "res_test=model.predict_generator(test_generator,\n",
    "#steps=STEP_SIZE_TEST,\n",
    "verbose=1)"
   ]
  },
  {
   "cell_type": "code",
   "execution_count": 34,
   "metadata": {
    "execution": {
     "iopub.execute_input": "2020-10-03T10:50:35.619297Z",
     "iopub.status.busy": "2020-10-03T10:50:35.618485Z",
     "iopub.status.idle": "2020-10-03T10:50:35.621600Z",
     "shell.execute_reply": "2020-10-03T10:50:35.622183Z"
    },
    "id": "npEpSWh1Xdbi",
    "outputId": "db051e0d-f7e9-4050-a4b3-34b3957420ef",
    "papermill": {
     "duration": 11.056621,
     "end_time": "2020-10-03T10:50:35.622384",
     "exception": false,
     "start_time": "2020-10-03T10:50:24.565763",
     "status": "completed"
    },
    "tags": []
   },
   "outputs": [
    {
     "data": {
      "text/plain": [
       "(6078, 80)"
      ]
     },
     "execution_count": 34,
     "metadata": {},
     "output_type": "execute_result"
    }
   ],
   "source": [
    "res_test.shape"
   ]
  },
  {
   "cell_type": "code",
   "execution_count": 35,
   "metadata": {
    "execution": {
     "iopub.execute_input": "2020-10-03T10:50:56.517095Z",
     "iopub.status.busy": "2020-10-03T10:50:56.516379Z",
     "iopub.status.idle": "2020-10-03T10:51:04.999209Z",
     "shell.execute_reply": "2020-10-03T10:51:04.999660Z"
    },
    "id": "NZSx35J0mP4P",
    "outputId": "d467bca4-e070-4a62-b80e-ac7753eeeb86",
    "papermill": {
     "duration": 18.912006,
     "end_time": "2020-10-03T10:51:04.999832",
     "exception": false,
     "start_time": "2020-10-03T10:50:46.087826",
     "status": "completed"
    },
    "tags": []
   },
   "outputs": [
    {
     "name": "stdout",
     "output_type": "stream",
     "text": [
      "76/76 [==============================] - 8s 106ms/step\n"
     ]
    }
   ],
   "source": [
    "valid_generator.reset()\n",
    "res_cv=model.predict_generator(valid_generator,\n",
    "#steps=STEP_SIZE_TEST,\n",
    "verbose=1)"
   ]
  },
  {
   "cell_type": "code",
   "execution_count": 36,
   "metadata": {
    "execution": {
     "iopub.execute_input": "2020-10-03T10:51:25.851159Z",
     "iopub.status.busy": "2020-10-03T10:51:25.850453Z",
     "iopub.status.idle": "2020-10-03T10:52:31.531149Z",
     "shell.execute_reply": "2020-10-03T10:52:31.531700Z"
    },
    "id": "WoTDEbQ8mWjp",
    "outputId": "a898e571-f235-4905-f5e8-323cfabf2646",
    "papermill": {
     "duration": 76.122059,
     "end_time": "2020-10-03T10:52:31.531892",
     "exception": false,
     "start_time": "2020-10-03T10:51:15.409833",
     "status": "completed"
    },
    "tags": []
   },
   "outputs": [
    {
     "name": "stdout",
     "output_type": "stream",
     "text": [
      "304/304 [==============================] - 65s 215ms/step\n"
     ]
    }
   ],
   "source": [
    "train_generator.reset()\n",
    "res_train=model.predict_generator(train_generator,\n",
    "#steps=STEP_SIZE_TEST,\n",
    "verbose=1)"
   ]
  },
  {
   "cell_type": "code",
   "execution_count": 37,
   "metadata": {
    "execution": {
     "iopub.execute_input": "2020-10-03T10:52:52.800416Z",
     "iopub.status.busy": "2020-10-03T10:52:52.799581Z",
     "iopub.status.idle": "2020-10-03T10:52:52.802870Z",
     "shell.execute_reply": "2020-10-03T10:52:52.803626Z"
    },
    "id": "GF3dag-hmaxo",
    "outputId": "6c3200b8-2a0d-4b8b-9ccb-88a2f93d14be",
    "papermill": {
     "duration": 10.478733,
     "end_time": "2020-10-03T10:52:52.803796",
     "exception": false,
     "start_time": "2020-10-03T10:52:42.325063",
     "status": "completed"
    },
    "tags": []
   },
   "outputs": [
    {
     "data": {
      "text/plain": [
       "(19449, 80)"
      ]
     },
     "execution_count": 37,
     "metadata": {},
     "output_type": "execute_result"
    }
   ],
   "source": [
    "res_train.shape"
   ]
  },
  {
   "cell_type": "code",
   "execution_count": 38,
   "metadata": {
    "execution": {
     "iopub.execute_input": "2020-10-03T10:53:13.894195Z",
     "iopub.status.busy": "2020-10-03T10:53:13.893296Z",
     "iopub.status.idle": "2020-10-03T10:53:13.896588Z",
     "shell.execute_reply": "2020-10-03T10:53:13.897204Z"
    },
    "id": "utPbTWaEunpC",
    "outputId": "a68ccbb0-d116-497e-eb01-c5d19f0b6251",
    "papermill": {
     "duration": 10.464384,
     "end_time": "2020-10-03T10:53:13.897343",
     "exception": false,
     "start_time": "2020-10-03T10:53:03.432959",
     "status": "completed"
    },
    "tags": []
   },
   "outputs": [
    {
     "data": {
      "text/plain": [
       "(19449, 80)"
      ]
     },
     "execution_count": 38,
     "metadata": {},
     "output_type": "execute_result"
    }
   ],
   "source": [
    "res_train.shape"
   ]
  },
  {
   "cell_type": "code",
   "execution_count": 39,
   "metadata": {
    "execution": {
     "iopub.execute_input": "2020-10-03T10:53:35.509679Z",
     "iopub.status.busy": "2020-10-03T10:53:35.508713Z",
     "iopub.status.idle": "2020-10-03T10:53:35.794005Z",
     "shell.execute_reply": "2020-10-03T10:53:35.793427Z"
    },
    "id": "426dRAxkr4pK",
    "outputId": "6b57c86c-4a95-4cbf-d0d4-930568c60d77",
    "papermill": {
     "duration": 11.552669,
     "end_time": "2020-10-03T10:53:35.794130",
     "exception": false,
     "start_time": "2020-10-03T10:53:24.241461",
     "status": "completed"
    },
    "tags": []
   },
   "outputs": [],
   "source": [
    "# Converting taget and identity columns to booleans\n",
    "\n",
    "target_columns=list(trainmultidf.columns)[:-1]\n",
    "\n",
    "def convert_to_bool(df, col_name):\n",
    "    df[col_name] = np.where(df[col_name] >= 0.5, True, False)\n",
    "    \n",
    "def convert_dataframe_to_bool(df):\n",
    "    bool_df = df.copy()\n",
    "    for col in target_columns:\n",
    "        convert_to_bool(bool_df, col)\n",
    "    return bool_df\n",
    "\n",
    "test_bool = convert_dataframe_to_bool(testmultidf) \n",
    "test_lable_bool=test_bool[list(test_bool.columns)[:-1]].to_numpy()\n",
    "\n",
    "train_bool = convert_dataframe_to_bool(trainmultidf) \n",
    "train_lable_bool=train_bool[list(train_bool.columns)[:-1]].to_numpy()\n",
    "\n",
    "cv_bool = convert_dataframe_to_bool(cvmultidf) \n",
    "cv_lable_bool=cv_bool[list(cv_bool.columns)[:-1]].to_numpy()"
   ]
  },
  {
   "cell_type": "markdown",
   "metadata": {
    "id": "TGR3yHWL1RNt",
    "papermill": {
     "duration": 10.430771,
     "end_time": "2020-10-03T10:53:56.974402",
     "exception": false,
     "start_time": "2020-10-03T10:53:46.543631",
     "status": "completed"
    },
    "tags": []
   },
   "source": [
    "# Evaluation Metric"
   ]
  },
  {
   "cell_type": "code",
   "execution_count": 40,
   "metadata": {
    "execution": {
     "iopub.execute_input": "2020-10-03T10:54:17.960254Z",
     "iopub.status.busy": "2020-10-03T10:54:17.959371Z",
     "iopub.status.idle": "2020-10-03T10:54:17.962265Z",
     "shell.execute_reply": "2020-10-03T10:54:17.962700Z"
    },
    "id": "60yDzAaN1NWR",
    "papermill": {
     "duration": 10.530369,
     "end_time": "2020-10-03T10:54:17.962857",
     "exception": false,
     "start_time": "2020-10-03T10:54:07.432488",
     "status": "completed"
    },
    "tags": []
   },
   "outputs": [],
   "source": [
    "import numpy as np\n",
    "import sklearn.metrics\n",
    "\n",
    "\n",
    "def _one_sample_positive_class_precisions(scores, truth):\n",
    "  \"\"\"Calculate precisions for each true class for a single sample.\n",
    "  \n",
    "  Args:\n",
    "    scores: np.array of (num_classes,) giving the individual classifier scores.\n",
    "    truth: np.array of (num_classes,) bools indicating which classes are true.\n",
    "\n",
    "  Returns:\n",
    "    pos_class_indices: np.array of indices of the true classes for this sample.\n",
    "    pos_class_precisions: np.array of precisions corresponding to each of those\n",
    "      classes.\n",
    "  \"\"\"\n",
    "  num_classes = scores.shape[0]\n",
    "  pos_class_indices = np.flatnonzero(truth > 0)\n",
    "  # Only calculate precisions if there are some true classes.\n",
    "  if not len(pos_class_indices):\n",
    "    return pos_class_indices, np.zeros(0)\n",
    "  # Retrieval list of classes for this sample. \n",
    "  retrieved_classes = np.argsort(scores)[::-1]\n",
    "  # class_rankings[top_scoring_class_index] == 0 etc.\n",
    "  class_rankings = np.zeros(num_classes, dtype=np.int)\n",
    "  class_rankings[retrieved_classes] = range(num_classes)\n",
    "  # Which of these is a true label?\n",
    "  retrieved_class_true = np.zeros(num_classes, dtype=np.bool)\n",
    "  retrieved_class_true[class_rankings[pos_class_indices]] = True\n",
    "  # Num hits for every truncated retrieval list.\n",
    "  retrieved_cumulative_hits = np.cumsum(retrieved_class_true)\n",
    "  # Precision of retrieval list truncated at each hit, in order of pos_labels.\n",
    "  precision_at_hits = (\n",
    "      retrieved_cumulative_hits[class_rankings[pos_class_indices]] / \n",
    "      (1 + class_rankings[pos_class_indices].astype(np.float)))\n",
    "  return pos_class_indices, precision_at_hits"
   ]
  },
  {
   "cell_type": "code",
   "execution_count": 41,
   "metadata": {
    "execution": {
     "iopub.execute_input": "2020-10-03T10:54:39.938312Z",
     "iopub.status.busy": "2020-10-03T10:54:39.937508Z",
     "iopub.status.idle": "2020-10-03T10:54:39.941522Z",
     "shell.execute_reply": "2020-10-03T10:54:39.941032Z"
    },
    "id": "p0pSGCCP1a4R",
    "papermill": {
     "duration": 11.226292,
     "end_time": "2020-10-03T10:54:39.941623",
     "exception": false,
     "start_time": "2020-10-03T10:54:28.715331",
     "status": "completed"
    },
    "tags": []
   },
   "outputs": [],
   "source": [
    "def calculate_per_class_lwlrap(truth, scores):\n",
    "  \"\"\"Calculate label-weighted label-ranking average precision.\n",
    "  \n",
    "  Arguments:\n",
    "    truth: np.array of (num_samples, num_classes) giving boolean ground-truth\n",
    "      of presence of that class in that sample.\n",
    "    scores: np.array of (num_samples, num_classes) giving the classifier-under-\n",
    "      test's real-valued score for each class for each sample.\n",
    "  \n",
    "  Returns:\n",
    "    per_class_lwlrap: np.array of (num_classes,) giving the lwlrap for each \n",
    "      class.\n",
    "    weight_per_class: np.array of (num_classes,) giving the prior of each \n",
    "      class within the truth labels.  Then the overall unbalanced lwlrap is \n",
    "      simply np.sum(per_class_lwlrap * weight_per_class)\n",
    "  \"\"\"\n",
    "  assert truth.shape == scores.shape\n",
    "  num_samples, num_classes = scores.shape\n",
    "  # Space to store a distinct precision value for each class on each sample.\n",
    "  # Only the classes that are true for each sample will be filled in.\n",
    "  precisions_for_samples_by_classes = np.zeros((num_samples, num_classes))\n",
    "  for sample_num in range(num_samples):\n",
    "    pos_class_indices, precision_at_hits = (\n",
    "      _one_sample_positive_class_precisions(scores[sample_num, :], \n",
    "                                            truth[sample_num, :]))\n",
    "    precisions_for_samples_by_classes[sample_num, pos_class_indices] = (\n",
    "        precision_at_hits)\n",
    "  labels_per_class = np.sum(truth > 0, axis=0)\n",
    "  weight_per_class = labels_per_class / float(np.sum(labels_per_class))\n",
    "  # Form average of each column, i.e. all the precisions assigned to labels in\n",
    "  # a particular class.\n",
    "  per_class_lwlrap = (np.sum(precisions_for_samples_by_classes, axis=0) / \n",
    "                      np.maximum(1, labels_per_class))\n",
    "  # overall_lwlrap = simple average of all the actual per-class, per-sample precisions\n",
    "  #                = np.sum(precisions_for_samples_by_classes) / np.sum(precisions_for_samples_by_classes > 0)\n",
    "  #           also = weighted mean of per-class lwlraps, weighted by class label prior across samples\n",
    "  #                = np.sum(per_class_lwlrap * weight_per_class)\n",
    "  return per_class_lwlrap, weight_per_class"
   ]
  },
  {
   "cell_type": "code",
   "execution_count": 42,
   "metadata": {
    "execution": {
     "iopub.execute_input": "2020-10-03T10:55:00.965604Z",
     "iopub.status.busy": "2020-10-03T10:55:00.964672Z",
     "iopub.status.idle": "2020-10-03T10:55:00.972629Z",
     "shell.execute_reply": "2020-10-03T10:55:00.971940Z"
    },
    "id": "J4ZZS-k71ffc",
    "papermill": {
     "duration": 10.658558,
     "end_time": "2020-10-03T10:55:00.972804",
     "exception": false,
     "start_time": "2020-10-03T10:54:50.314246",
     "status": "completed"
    },
    "tags": []
   },
   "outputs": [],
   "source": [
    "\n",
    "def calculate_overall_lwlrap_sklearn(truth, scores):\n",
    "  \"\"\"Calculate the overall lwlrap using sklearn.metrics.lrap.\"\"\"\n",
    "  # sklearn doesn't correctly apply weighting to samples with no labels, so just skip them.\n",
    "  sample_weight = np.sum(truth > 0, axis=1)\n",
    "  nonzero_weight_sample_indices = np.flatnonzero(sample_weight > 0)\n",
    "  overall_lwlrap = sklearn.metrics.label_ranking_average_precision_score(\n",
    "      truth[nonzero_weight_sample_indices, :] > 0, \n",
    "      scores[nonzero_weight_sample_indices, :], \n",
    "      sample_weight=sample_weight[nonzero_weight_sample_indices])\n",
    "  return overall_lwlrap"
   ]
  },
  {
   "cell_type": "code",
   "execution_count": 43,
   "metadata": {
    "execution": {
     "iopub.execute_input": "2020-10-03T10:55:22.256230Z",
     "iopub.status.busy": "2020-10-03T10:55:22.254465Z",
     "iopub.status.idle": "2020-10-03T10:55:22.257037Z",
     "shell.execute_reply": "2020-10-03T10:55:22.257581Z"
    },
    "id": "MV5Yu3aL1hPM",
    "papermill": {
     "duration": 10.660302,
     "end_time": "2020-10-03T10:55:22.257718",
     "exception": false,
     "start_time": "2020-10-03T10:55:11.597416",
     "status": "completed"
    },
    "tags": []
   },
   "outputs": [],
   "source": [
    "class lwlrap_accumulator(object):\n",
    "  \"\"\"Accumulate batches of test samples into per-class and overall lwlrap.\"\"\"  \n",
    "\n",
    "  def __init__(self):\n",
    "    self.num_classes = 0\n",
    "    self.total_num_samples = 0\n",
    "  \n",
    "  def accumulate_samples(self, batch_truth, batch_scores):\n",
    "    \"\"\"Cumulate a new batch of samples into the metric.\n",
    "    \n",
    "    Args:\n",
    "      truth: np.array of (num_samples, num_classes) giving boolean\n",
    "        ground-truth of presence of that class in that sample for this batch.\n",
    "      scores: np.array of (num_samples, num_classes) giving the \n",
    "        classifier-under-test's real-valued score for each class for each\n",
    "        sample.\n",
    "    \"\"\"\n",
    "    assert batch_scores.shape == batch_truth.shape\n",
    "    num_samples, num_classes = batch_truth.shape\n",
    "    if not self.num_classes:\n",
    "      self.num_classes = num_classes\n",
    "      self._per_class_cumulative_precision = np.zeros(self.num_classes)\n",
    "      self._per_class_cumulative_count = np.zeros(self.num_classes, \n",
    "                                                  dtype=np.int)\n",
    "    assert num_classes == self.num_classes\n",
    "    for truth, scores in zip(batch_truth, batch_scores):\n",
    "      pos_class_indices, precision_at_hits = (\n",
    "        _one_sample_positive_class_precisions(scores, truth))\n",
    "      self._per_class_cumulative_precision[pos_class_indices] += (\n",
    "        precision_at_hits)\n",
    "      self._per_class_cumulative_count[pos_class_indices] += 1\n",
    "    self.total_num_samples += num_samples\n",
    "\n",
    "  def per_class_lwlrap(self):\n",
    "    \"\"\"Return a vector of the per-class lwlraps for the accumulated samples.\"\"\"\n",
    "    return (self._per_class_cumulative_precision / \n",
    "            np.maximum(1, self._per_class_cumulative_count))\n",
    "\n",
    "  def per_class_weight(self):\n",
    "    \"\"\"Return a normalized weight vector for the contributions of each class.\"\"\"\n",
    "    return (self._per_class_cumulative_count / \n",
    "            float(np.sum(self._per_class_cumulative_count)))\n",
    "\n",
    "  def overall_lwlrap(self):\n",
    "    \"\"\"Return the scalar overall lwlrap for cumulated samples.\"\"\"\n",
    "    return np.sum(self.per_class_lwlrap() * self.per_class_weight())"
   ]
  },
  {
   "cell_type": "code",
   "execution_count": 44,
   "metadata": {
    "execution": {
     "iopub.execute_input": "2020-10-03T10:55:44.714929Z",
     "iopub.status.busy": "2020-10-03T10:55:44.714103Z",
     "iopub.status.idle": "2020-10-03T10:55:45.805167Z",
     "shell.execute_reply": "2020-10-03T10:55:45.805618Z"
    },
    "id": "cmO-oJ5w1mLg",
    "outputId": "79e6cab4-d43b-4a24-a6d0-0c432a2a00cc",
    "papermill": {
     "duration": 12.13721,
     "end_time": "2020-10-03T10:55:45.805785",
     "exception": false,
     "start_time": "2020-10-03T10:55:33.668575",
     "status": "completed"
    },
    "tags": []
   },
   "outputs": [
    {
     "name": "stdout",
     "output_type": "stream",
     "text": [
      "lwlrap from sklearn.metrics = 0.13399603860309756\n"
     ]
    }
   ],
   "source": [
    "#https://www.kaggle.com/voglinio/keras-2d-model-5-fold-log-specgram-curated-only\n",
    "truth = test_lable_bool\n",
    "scores = res_test\n",
    "print(\"lwlrap from sklearn.metrics =\", calculate_overall_lwlrap_sklearn(truth, scores))"
   ]
  },
  {
   "cell_type": "code",
   "execution_count": 45,
   "metadata": {
    "execution": {
     "iopub.execute_input": "2020-10-03T10:56:06.592251Z",
     "iopub.status.busy": "2020-10-03T10:56:06.591344Z",
     "iopub.status.idle": "2020-10-03T10:56:09.532798Z",
     "shell.execute_reply": "2020-10-03T10:56:09.532214Z"
    },
    "id": "MfM47X5u1nxs",
    "outputId": "5993f374-81f6-43c4-b90e-c5ddb695c142",
    "papermill": {
     "duration": 13.442233,
     "end_time": "2020-10-03T10:56:09.532912",
     "exception": false,
     "start_time": "2020-10-03T10:55:56.090679",
     "status": "completed"
    },
    "tags": []
   },
   "outputs": [
    {
     "name": "stdout",
     "output_type": "stream",
     "text": [
      "lwlrap from sklearn.metrics = 0.21766069120727907\n"
     ]
    }
   ],
   "source": [
    "truth = train_lable_bool\n",
    "scores = res_train\n",
    "print(\"lwlrap from sklearn.metrics =\", calculate_overall_lwlrap_sklearn(truth, scores))"
   ]
  },
  {
   "cell_type": "code",
   "execution_count": 46,
   "metadata": {
    "execution": {
     "iopub.execute_input": "2020-10-03T10:56:32.122891Z",
     "iopub.status.busy": "2020-10-03T10:56:32.121971Z",
     "iopub.status.idle": "2020-10-03T10:56:32.831119Z",
     "shell.execute_reply": "2020-10-03T10:56:32.830075Z"
    },
    "id": "nA-xIaLZ1rCM",
    "outputId": "20d2bf94-e109-44d2-f0b4-82d6b408db75",
    "papermill": {
     "duration": 12.257917,
     "end_time": "2020-10-03T10:56:32.831268",
     "exception": false,
     "start_time": "2020-10-03T10:56:20.573351",
     "status": "completed"
    },
    "tags": []
   },
   "outputs": [
    {
     "name": "stdout",
     "output_type": "stream",
     "text": [
      "lwlrap from sklearn.metrics = 0.1345967423407084\n"
     ]
    }
   ],
   "source": [
    "truth = cv_lable_bool\n",
    "scores = res_cv\n",
    "print(\"lwlrap from sklearn.metrics =\", calculate_overall_lwlrap_sklearn(truth, scores))"
   ]
  },
  {
   "cell_type": "markdown",
   "metadata": {
    "id": "EgOoKyzbgtF6",
    "papermill": {
     "duration": 11.275743,
     "end_time": "2020-10-03T10:56:55.774916",
     "exception": false,
     "start_time": "2020-10-03T10:56:44.499173",
     "status": "completed"
    },
    "tags": []
   },
   "source": [
    "# Submission"
   ]
  },
  {
   "cell_type": "code",
   "execution_count": 47,
   "metadata": {
    "execution": {
     "iopub.execute_input": "2020-10-03T10:57:18.023650Z",
     "iopub.status.busy": "2020-10-03T10:57:18.022965Z",
     "iopub.status.idle": "2020-10-03T10:57:18.126254Z",
     "shell.execute_reply": "2020-10-03T10:57:18.124897Z"
    },
    "papermill": {
     "duration": 10.94378,
     "end_time": "2020-10-03T10:57:18.126373",
     "exception": false,
     "start_time": "2020-10-03T10:57:07.182593",
     "status": "completed"
    },
    "tags": []
   },
   "outputs": [],
   "source": [
    "sub_dataframe = pd.DataFrame({'fname':os.listdir('../input/sc2-total-aug-noisy-data/sub2/sub2')})"
   ]
  },
  {
   "cell_type": "code",
   "execution_count": 48,
   "metadata": {
    "execution": {
     "iopub.execute_input": "2020-10-03T10:57:41.708390Z",
     "iopub.status.busy": "2020-10-03T10:57:41.707585Z",
     "iopub.status.idle": "2020-10-03T10:57:42.490456Z",
     "shell.execute_reply": "2020-10-03T10:57:42.489968Z"
    },
    "id": "rxozU-gjkfKI",
    "outputId": "8d0701f6-0c55-46a1-f82e-ab7ae0f8efec",
    "papermill": {
     "duration": 12.910741,
     "end_time": "2020-10-03T10:57:42.490565",
     "exception": false,
     "start_time": "2020-10-03T10:57:29.579824",
     "status": "completed"
    },
    "tags": []
   },
   "outputs": [
    {
     "name": "stdout",
     "output_type": "stream",
     "text": [
      "Found 3361 validated image filenames.\n"
     ]
    }
   ],
   "source": [
    "sub_datagen=ImageDataGenerator(rescale=1./255.)\n",
    "sub_generator=sub_datagen.flow_from_dataframe(\n",
    "    dataframe=sub_dataframe,\n",
    "    directory=\"../input/sc2-total-aug-noisy-data/sub2/sub2\",\n",
    "    x_col=\"fname\",\n",
    "    y_col=None,\n",
    "    batch_size=64,\n",
    "    seed=42,\n",
    "    shuffle=False,#shuffle=False,\n",
    "    class_mode=None,\n",
    "    color_mode=\"grayscale\",\n",
    "    target_size=(128,128))\n",
    "STEP_SIZE_SUB=sub_generator.n//sub_generator.batch_size"
   ]
  },
  {
   "cell_type": "code",
   "execution_count": 49,
   "metadata": {
    "execution": {
     "iopub.execute_input": "2020-10-03T10:58:04.050652Z",
     "iopub.status.busy": "2020-10-03T10:58:04.050015Z",
     "iopub.status.idle": "2020-10-03T10:58:14.795077Z",
     "shell.execute_reply": "2020-10-03T10:58:14.794508Z"
    },
    "id": "OQVBkHHUlzTH",
    "outputId": "5be2f5af-4aa6-4cde-8228-aaeb359e412a",
    "papermill": {
     "duration": 21.459924,
     "end_time": "2020-10-03T10:58:14.795198",
     "exception": false,
     "start_time": "2020-10-03T10:57:53.335274",
     "status": "completed"
    },
    "tags": []
   },
   "outputs": [
    {
     "name": "stdout",
     "output_type": "stream",
     "text": [
      "53/53 [==============================] - 10s 196ms/step\n"
     ]
    }
   ],
   "source": [
    "sub_generator.reset()\n",
    "res_sub=model.predict_generator(sub_generator,\n",
    "#steps=STEP_SIZE_TEST,\n",
    "verbose=1)"
   ]
  },
  {
   "cell_type": "code",
   "execution_count": 50,
   "metadata": {
    "execution": {
     "iopub.execute_input": "2020-10-03T10:58:37.178970Z",
     "iopub.status.busy": "2020-10-03T10:58:37.177858Z",
     "iopub.status.idle": "2020-10-03T10:58:37.181468Z",
     "shell.execute_reply": "2020-10-03T10:58:37.181938Z"
    },
    "id": "h4YRO7V9l2JQ",
    "papermill": {
     "duration": 11.574423,
     "end_time": "2020-10-03T10:58:37.182070",
     "exception": false,
     "start_time": "2020-10-03T10:58:25.607647",
     "status": "completed"
    },
    "tags": []
   },
   "outputs": [],
   "source": [
    "submit_data=pd.DataFrame(res_sub.astype(\"float64\"), columns=list(mlb_train.classes_))"
   ]
  },
  {
   "cell_type": "code",
   "execution_count": 51,
   "metadata": {
    "execution": {
     "iopub.execute_input": "2020-10-03T10:58:58.797627Z",
     "iopub.status.busy": "2020-10-03T10:58:58.796794Z",
     "iopub.status.idle": "2020-10-03T10:58:58.830316Z",
     "shell.execute_reply": "2020-10-03T10:58:58.829658Z"
    },
    "id": "cTwMBIDcl-U_",
    "outputId": "7563a816-3020-4bc1-a006-b3edea85e215",
    "papermill": {
     "duration": 10.592961,
     "end_time": "2020-10-03T10:58:58.830437",
     "exception": false,
     "start_time": "2020-10-03T10:58:48.237476",
     "status": "completed"
    },
    "tags": []
   },
   "outputs": [
    {
     "data": {
      "text/html": [
       "<div>\n",
       "<style scoped>\n",
       "    .dataframe tbody tr th:only-of-type {\n",
       "        vertical-align: middle;\n",
       "    }\n",
       "\n",
       "    .dataframe tbody tr th {\n",
       "        vertical-align: top;\n",
       "    }\n",
       "\n",
       "    .dataframe thead th {\n",
       "        text-align: right;\n",
       "    }\n",
       "</style>\n",
       "<table border=\"1\" class=\"dataframe\">\n",
       "  <thead>\n",
       "    <tr style=\"text-align: right;\">\n",
       "      <th></th>\n",
       "      <th>fname</th>\n",
       "      <th>Accelerating_and_revving_and_vroom</th>\n",
       "      <th>Accordion</th>\n",
       "      <th>Acoustic_guitar</th>\n",
       "      <th>Applause</th>\n",
       "      <th>Bark</th>\n",
       "      <th>Bass_drum</th>\n",
       "      <th>Bass_guitar</th>\n",
       "      <th>Bathtub_(filling_or_washing)</th>\n",
       "      <th>Bicycle_bell</th>\n",
       "      <th>...</th>\n",
       "      <th>Toilet_flush</th>\n",
       "      <th>Traffic_noise_and_roadway_noise</th>\n",
       "      <th>Trickle_and_dribble</th>\n",
       "      <th>Walk_and_footsteps</th>\n",
       "      <th>Water_tap_and_faucet</th>\n",
       "      <th>Waves_and_surf</th>\n",
       "      <th>Whispering</th>\n",
       "      <th>Writing</th>\n",
       "      <th>Yell</th>\n",
       "      <th>Zipper_(clothing)</th>\n",
       "    </tr>\n",
       "  </thead>\n",
       "  <tbody>\n",
       "    <tr>\n",
       "      <th>0</th>\n",
       "      <td>53cefef0.wav</td>\n",
       "      <td>0.349800</td>\n",
       "      <td>0.350282</td>\n",
       "      <td>0.352212</td>\n",
       "      <td>0.350760</td>\n",
       "      <td>0.379122</td>\n",
       "      <td>0.348194</td>\n",
       "      <td>0.355492</td>\n",
       "      <td>0.362672</td>\n",
       "      <td>0.355915</td>\n",
       "      <td>...</td>\n",
       "      <td>0.350886</td>\n",
       "      <td>0.348838</td>\n",
       "      <td>0.350556</td>\n",
       "      <td>0.349413</td>\n",
       "      <td>0.353205</td>\n",
       "      <td>0.351608</td>\n",
       "      <td>0.368761</td>\n",
       "      <td>0.355241</td>\n",
       "      <td>0.352814</td>\n",
       "      <td>0.361039</td>\n",
       "    </tr>\n",
       "    <tr>\n",
       "      <th>1</th>\n",
       "      <td>63b41f09.wav</td>\n",
       "      <td>0.349011</td>\n",
       "      <td>0.354485</td>\n",
       "      <td>0.357052</td>\n",
       "      <td>0.354969</td>\n",
       "      <td>0.353539</td>\n",
       "      <td>0.350259</td>\n",
       "      <td>0.351835</td>\n",
       "      <td>0.356673</td>\n",
       "      <td>0.350843</td>\n",
       "      <td>...</td>\n",
       "      <td>0.358425</td>\n",
       "      <td>0.348898</td>\n",
       "      <td>0.359367</td>\n",
       "      <td>0.356716</td>\n",
       "      <td>0.364781</td>\n",
       "      <td>0.352275</td>\n",
       "      <td>0.355803</td>\n",
       "      <td>0.354801</td>\n",
       "      <td>0.347129</td>\n",
       "      <td>0.353989</td>\n",
       "    </tr>\n",
       "    <tr>\n",
       "      <th>2</th>\n",
       "      <td>9da3bbc9.wav</td>\n",
       "      <td>0.352779</td>\n",
       "      <td>0.348551</td>\n",
       "      <td>0.353524</td>\n",
       "      <td>0.350599</td>\n",
       "      <td>0.358862</td>\n",
       "      <td>0.351535</td>\n",
       "      <td>0.352526</td>\n",
       "      <td>0.354621</td>\n",
       "      <td>0.354177</td>\n",
       "      <td>...</td>\n",
       "      <td>0.351184</td>\n",
       "      <td>0.348863</td>\n",
       "      <td>0.350388</td>\n",
       "      <td>0.359503</td>\n",
       "      <td>0.349447</td>\n",
       "      <td>0.350052</td>\n",
       "      <td>0.367343</td>\n",
       "      <td>0.360666</td>\n",
       "      <td>0.349943</td>\n",
       "      <td>0.359367</td>\n",
       "    </tr>\n",
       "    <tr>\n",
       "      <th>3</th>\n",
       "      <td>b6e192f8.wav</td>\n",
       "      <td>0.348151</td>\n",
       "      <td>0.351242</td>\n",
       "      <td>0.351697</td>\n",
       "      <td>0.351261</td>\n",
       "      <td>0.353596</td>\n",
       "      <td>0.347914</td>\n",
       "      <td>0.346676</td>\n",
       "      <td>0.357439</td>\n",
       "      <td>0.349824</td>\n",
       "      <td>...</td>\n",
       "      <td>0.359927</td>\n",
       "      <td>0.348804</td>\n",
       "      <td>0.362897</td>\n",
       "      <td>0.353391</td>\n",
       "      <td>0.374283</td>\n",
       "      <td>0.351796</td>\n",
       "      <td>0.359084</td>\n",
       "      <td>0.356155</td>\n",
       "      <td>0.349824</td>\n",
       "      <td>0.354241</td>\n",
       "    </tr>\n",
       "    <tr>\n",
       "      <th>4</th>\n",
       "      <td>f2ebd17a.wav</td>\n",
       "      <td>0.350064</td>\n",
       "      <td>0.350650</td>\n",
       "      <td>0.352839</td>\n",
       "      <td>0.351375</td>\n",
       "      <td>0.369944</td>\n",
       "      <td>0.347781</td>\n",
       "      <td>0.355040</td>\n",
       "      <td>0.359389</td>\n",
       "      <td>0.352474</td>\n",
       "      <td>...</td>\n",
       "      <td>0.353150</td>\n",
       "      <td>0.351594</td>\n",
       "      <td>0.354555</td>\n",
       "      <td>0.352429</td>\n",
       "      <td>0.361847</td>\n",
       "      <td>0.351476</td>\n",
       "      <td>0.363507</td>\n",
       "      <td>0.364751</td>\n",
       "      <td>0.357114</td>\n",
       "      <td>0.358099</td>\n",
       "    </tr>\n",
       "  </tbody>\n",
       "</table>\n",
       "<p>5 rows × 81 columns</p>\n",
       "</div>"
      ],
      "text/plain": [
       "          fname  Accelerating_and_revving_and_vroom  Accordion  \\\n",
       "0  53cefef0.wav                            0.349800   0.350282   \n",
       "1  63b41f09.wav                            0.349011   0.354485   \n",
       "2  9da3bbc9.wav                            0.352779   0.348551   \n",
       "3  b6e192f8.wav                            0.348151   0.351242   \n",
       "4  f2ebd17a.wav                            0.350064   0.350650   \n",
       "\n",
       "   Acoustic_guitar  Applause      Bark  Bass_drum  Bass_guitar  \\\n",
       "0         0.352212  0.350760  0.379122   0.348194     0.355492   \n",
       "1         0.357052  0.354969  0.353539   0.350259     0.351835   \n",
       "2         0.353524  0.350599  0.358862   0.351535     0.352526   \n",
       "3         0.351697  0.351261  0.353596   0.347914     0.346676   \n",
       "4         0.352839  0.351375  0.369944   0.347781     0.355040   \n",
       "\n",
       "   Bathtub_(filling_or_washing)  Bicycle_bell  ...  Toilet_flush  \\\n",
       "0                      0.362672      0.355915  ...      0.350886   \n",
       "1                      0.356673      0.350843  ...      0.358425   \n",
       "2                      0.354621      0.354177  ...      0.351184   \n",
       "3                      0.357439      0.349824  ...      0.359927   \n",
       "4                      0.359389      0.352474  ...      0.353150   \n",
       "\n",
       "   Traffic_noise_and_roadway_noise  Trickle_and_dribble  Walk_and_footsteps  \\\n",
       "0                         0.348838             0.350556            0.349413   \n",
       "1                         0.348898             0.359367            0.356716   \n",
       "2                         0.348863             0.350388            0.359503   \n",
       "3                         0.348804             0.362897            0.353391   \n",
       "4                         0.351594             0.354555            0.352429   \n",
       "\n",
       "   Water_tap_and_faucet  Waves_and_surf  Whispering   Writing      Yell  \\\n",
       "0              0.353205        0.351608    0.368761  0.355241  0.352814   \n",
       "1              0.364781        0.352275    0.355803  0.354801  0.347129   \n",
       "2              0.349447        0.350052    0.367343  0.360666  0.349943   \n",
       "3              0.374283        0.351796    0.359084  0.356155  0.349824   \n",
       "4              0.361847        0.351476    0.363507  0.364751  0.357114   \n",
       "\n",
       "   Zipper_(clothing)  \n",
       "0           0.361039  \n",
       "1           0.353989  \n",
       "2           0.359367  \n",
       "3           0.354241  \n",
       "4           0.358099  \n",
       "\n",
       "[5 rows x 81 columns]"
      ]
     },
     "execution_count": 51,
     "metadata": {},
     "output_type": "execute_result"
    }
   ],
   "source": [
    "submit_data.insert(0, 'fname', os.listdir('../input/sc2-total-aug-noisy-data/sub2/sub2'))\n",
    "submit_data[\"fname\"]=submit_data[\"fname\"].apply(lambda x: x.split(\".\")[0]+\".wav\")\n",
    "submit_data.head()"
   ]
  },
  {
   "cell_type": "code",
   "execution_count": 52,
   "metadata": {
    "execution": {
     "iopub.execute_input": "2020-10-03T10:59:20.275072Z",
     "iopub.status.busy": "2020-10-03T10:59:20.274404Z",
     "iopub.status.idle": "2020-10-03T10:59:21.119803Z",
     "shell.execute_reply": "2020-10-03T10:59:21.119219Z"
    },
    "id": "v73id52ZmEWg",
    "papermill": {
     "duration": 11.605197,
     "end_time": "2020-10-03T10:59:21.119923",
     "exception": false,
     "start_time": "2020-10-03T10:59:09.514726",
     "status": "completed"
    },
    "tags": []
   },
   "outputs": [],
   "source": [
    "submit_data.to_csv(\"submission_AugNoisyData_selfNoisy1.csv\",index=False )"
   ]
  },
  {
   "cell_type": "code",
   "execution_count": null,
   "metadata": {
    "papermill": {
     "duration": 11.07685,
     "end_time": "2020-10-03T10:59:43.320125",
     "exception": false,
     "start_time": "2020-10-03T10:59:32.243275",
     "status": "completed"
    },
    "tags": []
   },
   "outputs": [],
   "source": []
  }
 ],
 "metadata": {
  "kernelspec": {
   "display_name": "Python 3",
   "language": "python",
   "name": "python3"
  },
  "language_info": {
   "codemirror_mode": {
    "name": "ipython",
    "version": 3
   },
   "file_extension": ".py",
   "mimetype": "text/x-python",
   "name": "python",
   "nbconvert_exporter": "python",
   "pygments_lexer": "ipython3",
   "version": "3.6.9"
  },
  "papermill": {
   "duration": 8365.450632,
   "end_time": "2020-10-03T10:59:55.570126",
   "environment_variables": {},
   "exception": null,
   "input_path": "__notebook__.ipynb",
   "output_path": "__notebook__.ipynb",
   "parameters": {},
   "start_time": "2020-10-03T08:40:30.119494",
   "version": "2.1.0"
  }
 },
 "nbformat": 4,
 "nbformat_minor": 4
}
