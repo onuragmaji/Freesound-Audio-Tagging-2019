{
 "cells": [
  {
   "cell_type": "code",
   "execution_count": 1,
   "metadata": {
    "_cell_guid": "b1076dfc-b9ad-4769-8c92-a6c4dae69d19",
    "_uuid": "8f2839f25d086af736a60e9eeb907d3b93b6e0e5",
    "execution": {
     "iopub.execute_input": "2020-10-04T17:38:39.713348Z",
     "iopub.status.busy": "2020-10-04T17:38:39.712450Z",
     "iopub.status.idle": "2020-10-04T17:38:39.716200Z",
     "shell.execute_reply": "2020-10-04T17:38:39.715610Z"
    },
    "papermill": {
     "duration": 0.055168,
     "end_time": "2020-10-04T17:38:39.716311",
     "exception": false,
     "start_time": "2020-10-04T17:38:39.661143",
     "status": "completed"
    },
    "tags": []
   },
   "outputs": [],
   "source": [
    "\n",
    "import numpy as np # linear algebra\n",
    "import pandas as pd # data processing, CSV file I/O (e.g. pd.read_csv)\n",
    "\n",
    "import os"
   ]
  },
  {
   "cell_type": "code",
   "execution_count": 2,
   "metadata": {
    "execution": {
     "iopub.execute_input": "2020-10-04T17:38:39.807975Z",
     "iopub.status.busy": "2020-10-04T17:38:39.807379Z",
     "iopub.status.idle": "2020-10-04T17:38:39.850053Z",
     "shell.execute_reply": "2020-10-04T17:38:39.849418Z"
    },
    "papermill": {
     "duration": 0.091316,
     "end_time": "2020-10-04T17:38:39.850204",
     "exception": false,
     "start_time": "2020-10-04T17:38:39.758888",
     "status": "completed"
    },
    "tags": []
   },
   "outputs": [],
   "source": [
    "traindf_noisy=pd.read_csv('../input/freesound-audio-tagging-2019/train_noisy.csv',dtype=str)\n",
    "\n",
    "traindf_curated=pd.read_csv('../input/freesound-audio-tagging-2019/train_curated.csv',dtype=str)"
   ]
  },
  {
   "cell_type": "code",
   "execution_count": 3,
   "metadata": {
    "execution": {
     "iopub.execute_input": "2020-10-04T17:38:39.952722Z",
     "iopub.status.busy": "2020-10-04T17:38:39.952067Z",
     "iopub.status.idle": "2020-10-04T17:38:39.961333Z",
     "shell.execute_reply": "2020-10-04T17:38:39.961777Z"
    },
    "papermill": {
     "duration": 0.067956,
     "end_time": "2020-10-04T17:38:39.961911",
     "exception": false,
     "start_time": "2020-10-04T17:38:39.893955",
     "status": "completed"
    },
    "tags": []
   },
   "outputs": [
    {
     "data": {
      "text/html": [
       "<div>\n",
       "<style scoped>\n",
       "    .dataframe tbody tr th:only-of-type {\n",
       "        vertical-align: middle;\n",
       "    }\n",
       "\n",
       "    .dataframe tbody tr th {\n",
       "        vertical-align: top;\n",
       "    }\n",
       "\n",
       "    .dataframe thead th {\n",
       "        text-align: right;\n",
       "    }\n",
       "</style>\n",
       "<table border=\"1\" class=\"dataframe\">\n",
       "  <thead>\n",
       "    <tr style=\"text-align: right;\">\n",
       "      <th></th>\n",
       "      <th>fname</th>\n",
       "      <th>labels</th>\n",
       "    </tr>\n",
       "  </thead>\n",
       "  <tbody>\n",
       "    <tr>\n",
       "      <th>0</th>\n",
       "      <td>00097e21.wav</td>\n",
       "      <td>Bathtub_(filling_or_washing)</td>\n",
       "    </tr>\n",
       "    <tr>\n",
       "      <th>1</th>\n",
       "      <td>000b6cfb.wav</td>\n",
       "      <td>Motorcycle</td>\n",
       "    </tr>\n",
       "    <tr>\n",
       "      <th>2</th>\n",
       "      <td>00116cd2.wav</td>\n",
       "      <td>Marimba_and_xylophone,Glockenspiel</td>\n",
       "    </tr>\n",
       "    <tr>\n",
       "      <th>3</th>\n",
       "      <td>00127d14.wav</td>\n",
       "      <td>Water_tap_and_faucet,Sink_(filling_or_washing)</td>\n",
       "    </tr>\n",
       "    <tr>\n",
       "      <th>4</th>\n",
       "      <td>0019adae.wav</td>\n",
       "      <td>Raindrop</td>\n",
       "    </tr>\n",
       "  </tbody>\n",
       "</table>\n",
       "</div>"
      ],
      "text/plain": [
       "          fname                                          labels\n",
       "0  00097e21.wav                    Bathtub_(filling_or_washing)\n",
       "1  000b6cfb.wav                                      Motorcycle\n",
       "2  00116cd2.wav              Marimba_and_xylophone,Glockenspiel\n",
       "3  00127d14.wav  Water_tap_and_faucet,Sink_(filling_or_washing)\n",
       "4  0019adae.wav                                        Raindrop"
      ]
     },
     "execution_count": 3,
     "metadata": {},
     "output_type": "execute_result"
    }
   ],
   "source": [
    "traindf_noisy.head()"
   ]
  },
  {
   "cell_type": "code",
   "execution_count": 4,
   "metadata": {
    "execution": {
     "iopub.execute_input": "2020-10-04T17:38:40.057106Z",
     "iopub.status.busy": "2020-10-04T17:38:40.056318Z",
     "iopub.status.idle": "2020-10-04T17:38:40.089136Z",
     "shell.execute_reply": "2020-10-04T17:38:40.088496Z"
    },
    "papermill": {
     "duration": 0.084459,
     "end_time": "2020-10-04T17:38:40.089243",
     "exception": false,
     "start_time": "2020-10-04T17:38:40.004784",
     "status": "completed"
    },
    "tags": []
   },
   "outputs": [
    {
     "data": {
      "text/html": [
       "<div>\n",
       "<style scoped>\n",
       "    .dataframe tbody tr th:only-of-type {\n",
       "        vertical-align: middle;\n",
       "    }\n",
       "\n",
       "    .dataframe tbody tr th {\n",
       "        vertical-align: top;\n",
       "    }\n",
       "\n",
       "    .dataframe thead th {\n",
       "        text-align: right;\n",
       "    }\n",
       "</style>\n",
       "<table border=\"1\" class=\"dataframe\">\n",
       "  <thead>\n",
       "    <tr style=\"text-align: right;\">\n",
       "      <th></th>\n",
       "      <th>fname</th>\n",
       "      <th>labels</th>\n",
       "    </tr>\n",
       "  </thead>\n",
       "  <tbody>\n",
       "    <tr>\n",
       "      <th>0</th>\n",
       "      <td>161d2bb8.jpg</td>\n",
       "      <td>Bus,Microwave_oven</td>\n",
       "    </tr>\n",
       "    <tr>\n",
       "      <th>1</th>\n",
       "      <td>abf3a850.jpg</td>\n",
       "      <td>Bus</td>\n",
       "    </tr>\n",
       "    <tr>\n",
       "      <th>2</th>\n",
       "      <td>fd802069.jpg</td>\n",
       "      <td>Cheering</td>\n",
       "    </tr>\n",
       "    <tr>\n",
       "      <th>3</th>\n",
       "      <td>0f69e008_aug.jpg</td>\n",
       "      <td>Purr</td>\n",
       "    </tr>\n",
       "    <tr>\n",
       "      <th>4</th>\n",
       "      <td>5c51827a.jpg</td>\n",
       "      <td>Applause</td>\n",
       "    </tr>\n",
       "  </tbody>\n",
       "</table>\n",
       "</div>"
      ],
      "text/plain": [
       "              fname              labels\n",
       "0      161d2bb8.jpg  Bus,Microwave_oven\n",
       "1      abf3a850.jpg                 Bus\n",
       "2      fd802069.jpg            Cheering\n",
       "3  0f69e008_aug.jpg                Purr\n",
       "4      5c51827a.jpg            Applause"
      ]
     },
     "execution_count": 4,
     "metadata": {},
     "output_type": "execute_result"
    }
   ],
   "source": [
    "train_df = pd.read_csv(\"../input/sc2-total-aug-noisy-data/K_fold_data/K_fold_data/Noisy/Noisy_train_4.csv\")\n",
    "train_df.head()"
   ]
  },
  {
   "cell_type": "code",
   "execution_count": 5,
   "metadata": {
    "execution": {
     "iopub.execute_input": "2020-10-04T17:38:40.188003Z",
     "iopub.status.busy": "2020-10-04T17:38:40.187166Z",
     "iopub.status.idle": "2020-10-04T17:38:40.190940Z",
     "shell.execute_reply": "2020-10-04T17:38:40.191415Z"
    },
    "papermill": {
     "duration": 0.056654,
     "end_time": "2020-10-04T17:38:40.191542",
     "exception": false,
     "start_time": "2020-10-04T17:38:40.134888",
     "status": "completed"
    },
    "tags": []
   },
   "outputs": [
    {
     "data": {
      "text/plain": [
       "(19449, 2)"
      ]
     },
     "execution_count": 5,
     "metadata": {},
     "output_type": "execute_result"
    }
   ],
   "source": [
    "train_df.shape"
   ]
  },
  {
   "cell_type": "code",
   "execution_count": 6,
   "metadata": {
    "execution": {
     "iopub.execute_input": "2020-10-04T17:38:40.285190Z",
     "iopub.status.busy": "2020-10-04T17:38:40.284550Z",
     "iopub.status.idle": "2020-10-04T17:38:40.297783Z",
     "shell.execute_reply": "2020-10-04T17:38:40.297280Z"
    },
    "papermill": {
     "duration": 0.061862,
     "end_time": "2020-10-04T17:38:40.297886",
     "exception": false,
     "start_time": "2020-10-04T17:38:40.236024",
     "status": "completed"
    },
    "tags": []
   },
   "outputs": [
    {
     "data": {
      "text/plain": [
       "(4862, 2)"
      ]
     },
     "execution_count": 6,
     "metadata": {},
     "output_type": "execute_result"
    }
   ],
   "source": [
    "cv_df = pd.read_csv(\"../input/sc2-total-aug-noisy-data/K_fold_data/K_fold_data/Noisy/Noisy_cv_4.csv\")\n",
    "cv_df.shape"
   ]
  },
  {
   "cell_type": "code",
   "execution_count": 7,
   "metadata": {
    "execution": {
     "iopub.execute_input": "2020-10-04T17:38:40.396630Z",
     "iopub.status.busy": "2020-10-04T17:38:40.395919Z",
     "iopub.status.idle": "2020-10-04T17:38:40.410706Z",
     "shell.execute_reply": "2020-10-04T17:38:40.410237Z"
    },
    "papermill": {
     "duration": 0.065406,
     "end_time": "2020-10-04T17:38:40.410809",
     "exception": false,
     "start_time": "2020-10-04T17:38:40.345403",
     "status": "completed"
    },
    "tags": []
   },
   "outputs": [
    {
     "data": {
      "text/plain": [
       "(6078, 2)"
      ]
     },
     "execution_count": 7,
     "metadata": {},
     "output_type": "execute_result"
    }
   ],
   "source": [
    "    \n",
    "test_df = pd.read_csv(\"../input/sc2-total-aug-noisy-data/K_fold_data/K_fold_data/Noisy/Noisy_test.csv\") \n",
    "test_df.shape"
   ]
  },
  {
   "cell_type": "code",
   "execution_count": 8,
   "metadata": {
    "execution": {
     "iopub.execute_input": "2020-10-04T17:38:40.510895Z",
     "iopub.status.busy": "2020-10-04T17:38:40.510068Z",
     "iopub.status.idle": "2020-10-04T17:38:41.477157Z",
     "shell.execute_reply": "2020-10-04T17:38:41.476226Z"
    },
    "papermill": {
     "duration": 1.020334,
     "end_time": "2020-10-04T17:38:41.477292",
     "exception": false,
     "start_time": "2020-10-04T17:38:40.456958",
     "status": "completed"
    },
    "tags": []
   },
   "outputs": [],
   "source": [
    "from sklearn.preprocessing import MultiLabelBinarizer\n",
    "\n",
    "mlb_train = MultiLabelBinarizer()\n",
    "\n",
    "\n",
    "labels_train = mlb_train.fit_transform([ i.split(\",\") for i in list(train_df[\"labels\"])])\n",
    "\n",
    "\n",
    "labels_test = mlb_train.transform([ i.split(\",\") for i in list(test_df[\"labels\"])])\n",
    "\n",
    "\n",
    "#mlb_cv = MultiLabelBinarizer()\n",
    "labels_cv = mlb_train.transform([ i.split(\",\") for i in list(cv_df[\"labels\"])])\n"
   ]
  },
  {
   "cell_type": "code",
   "execution_count": 9,
   "metadata": {
    "execution": {
     "iopub.execute_input": "2020-10-04T17:38:41.576836Z",
     "iopub.status.busy": "2020-10-04T17:38:41.575935Z",
     "iopub.status.idle": "2020-10-04T17:38:41.581070Z",
     "shell.execute_reply": "2020-10-04T17:38:41.580580Z"
    },
    "papermill": {
     "duration": 0.055011,
     "end_time": "2020-10-04T17:38:41.581233",
     "exception": false,
     "start_time": "2020-10-04T17:38:41.526222",
     "status": "completed"
    },
    "tags": []
   },
   "outputs": [
    {
     "data": {
      "text/plain": [
       "(6078, 80)"
      ]
     },
     "execution_count": 9,
     "metadata": {},
     "output_type": "execute_result"
    }
   ],
   "source": [
    "labels_test.shape"
   ]
  },
  {
   "cell_type": "code",
   "execution_count": 10,
   "metadata": {
    "execution": {
     "iopub.execute_input": "2020-10-04T17:38:41.690580Z",
     "iopub.status.busy": "2020-10-04T17:38:41.687374Z",
     "iopub.status.idle": "2020-10-04T17:38:41.693710Z",
     "shell.execute_reply": "2020-10-04T17:38:41.693030Z"
    },
    "papermill": {
     "duration": 0.066962,
     "end_time": "2020-10-04T17:38:41.693817",
     "exception": false,
     "start_time": "2020-10-04T17:38:41.626855",
     "status": "completed"
    },
    "tags": []
   },
   "outputs": [],
   "source": [
    "trainmultidf=pd.DataFrame(data=labels_train,columns=list(mlb_train.classes_))\n",
    "trainmultidf[\"fname\"]=list(train_df[\"fname\"])\n",
    "\n",
    "testmultidf=pd.DataFrame(data=labels_test,columns=list(mlb_train.classes_))\n",
    "testmultidf[\"fname\"]=list(test_df[\"fname\"])\n",
    "\n",
    "\n",
    "cvmultidf=pd.DataFrame(data=labels_cv,columns=list(mlb_train.classes_))\n",
    "cvmultidf[\"fname\"]=list(cv_df[\"fname\"])\n"
   ]
  },
  {
   "cell_type": "code",
   "execution_count": 11,
   "metadata": {
    "execution": {
     "iopub.execute_input": "2020-10-04T17:38:41.792747Z",
     "iopub.status.busy": "2020-10-04T17:38:41.791971Z",
     "iopub.status.idle": "2020-10-04T17:38:52.494315Z",
     "shell.execute_reply": "2020-10-04T17:38:52.494994Z"
    },
    "papermill": {
     "duration": 10.755781,
     "end_time": "2020-10-04T17:38:52.495209",
     "exception": false,
     "start_time": "2020-10-04T17:38:41.739428",
     "status": "completed"
    },
    "tags": []
   },
   "outputs": [
    {
     "name": "stdout",
     "output_type": "stream",
     "text": [
      "Found 19449 validated image filenames.\n"
     ]
    }
   ],
   "source": [
    "#We change the ids for the images in the csv files to reflect their new status as jpgs\n",
    "#https://medium.com/@vijayabhaskar96/tutorial-on-keras-flow-from-dataframe-1fd4493d237c\n",
    "from keras_preprocessing.image import ImageDataGenerator\n",
    "\n",
    "\n",
    "\n",
    "datagen=ImageDataGenerator(rescale=1./255.,zoom_range=[0.5,1.0],brightness_range=[0.8,1.4])\n",
    "\n",
    "\n",
    "train_generator=datagen.flow_from_dataframe(\n",
    "    dataframe=trainmultidf,\n",
    "    directory=\"../input/sc2-total-aug-noisy-data/Total Images bucket Noisy/Total Images bucket Noisy\",\n",
    "    x_col=\"fname\",\n",
    "    y_col=list(mlb_train.classes_),\n",
    "    subset=\"training\",\n",
    "    batch_size=64,\n",
    "    seed=42,\n",
    "    shuffle=False,\n",
    "    class_mode=\"raw\",\n",
    "    #color_mode=\"grayscale\",\n",
    "    target_size=(128,128))\n",
    "\n"
   ]
  },
  {
   "cell_type": "code",
   "execution_count": 12,
   "metadata": {
    "execution": {
     "iopub.execute_input": "2020-10-04T17:38:52.592886Z",
     "iopub.status.busy": "2020-10-04T17:38:52.592052Z",
     "iopub.status.idle": "2020-10-04T17:38:52.595693Z",
     "shell.execute_reply": "2020-10-04T17:38:52.596301Z"
    },
    "papermill": {
     "duration": 0.05455,
     "end_time": "2020-10-04T17:38:52.596428",
     "exception": false,
     "start_time": "2020-10-04T17:38:52.541878",
     "status": "completed"
    },
    "tags": []
   },
   "outputs": [
    {
     "data": {
      "text/plain": [
       "19449"
      ]
     },
     "execution_count": 12,
     "metadata": {},
     "output_type": "execute_result"
    }
   ],
   "source": [
    "train_generator.n"
   ]
  },
  {
   "cell_type": "code",
   "execution_count": 13,
   "metadata": {
    "execution": {
     "iopub.execute_input": "2020-10-04T17:38:52.693171Z",
     "iopub.status.busy": "2020-10-04T17:38:52.692292Z",
     "iopub.status.idle": "2020-10-04T17:38:52.696260Z",
     "shell.execute_reply": "2020-10-04T17:38:52.695715Z"
    },
    "papermill": {
     "duration": 0.05435,
     "end_time": "2020-10-04T17:38:52.696388",
     "exception": false,
     "start_time": "2020-10-04T17:38:52.642038",
     "status": "completed"
    },
    "tags": []
   },
   "outputs": [
    {
     "data": {
      "text/plain": [
       "(4862, 81)"
      ]
     },
     "execution_count": 13,
     "metadata": {},
     "output_type": "execute_result"
    }
   ],
   "source": [
    "cvmultidf.shape"
   ]
  },
  {
   "cell_type": "code",
   "execution_count": 14,
   "metadata": {
    "execution": {
     "iopub.execute_input": "2020-10-04T17:38:52.808942Z",
     "iopub.status.busy": "2020-10-04T17:38:52.807958Z",
     "iopub.status.idle": "2020-10-04T17:38:52.811543Z",
     "shell.execute_reply": "2020-10-04T17:38:52.812158Z"
    },
    "papermill": {
     "duration": 0.069634,
     "end_time": "2020-10-04T17:38:52.812291",
     "exception": false,
     "start_time": "2020-10-04T17:38:52.742657",
     "status": "completed"
    },
    "tags": []
   },
   "outputs": [
    {
     "data": {
      "text/html": [
       "<div>\n",
       "<style scoped>\n",
       "    .dataframe tbody tr th:only-of-type {\n",
       "        vertical-align: middle;\n",
       "    }\n",
       "\n",
       "    .dataframe tbody tr th {\n",
       "        vertical-align: top;\n",
       "    }\n",
       "\n",
       "    .dataframe thead th {\n",
       "        text-align: right;\n",
       "    }\n",
       "</style>\n",
       "<table border=\"1\" class=\"dataframe\">\n",
       "  <thead>\n",
       "    <tr style=\"text-align: right;\">\n",
       "      <th></th>\n",
       "      <th>Accelerating_and_revving_and_vroom</th>\n",
       "      <th>Accordion</th>\n",
       "      <th>Acoustic_guitar</th>\n",
       "      <th>Applause</th>\n",
       "      <th>Bark</th>\n",
       "      <th>Bass_drum</th>\n",
       "      <th>Bass_guitar</th>\n",
       "      <th>Bathtub_(filling_or_washing)</th>\n",
       "      <th>Bicycle_bell</th>\n",
       "      <th>Burping_and_eructation</th>\n",
       "      <th>...</th>\n",
       "      <th>Traffic_noise_and_roadway_noise</th>\n",
       "      <th>Trickle_and_dribble</th>\n",
       "      <th>Walk_and_footsteps</th>\n",
       "      <th>Water_tap_and_faucet</th>\n",
       "      <th>Waves_and_surf</th>\n",
       "      <th>Whispering</th>\n",
       "      <th>Writing</th>\n",
       "      <th>Yell</th>\n",
       "      <th>Zipper_(clothing)</th>\n",
       "      <th>fname</th>\n",
       "    </tr>\n",
       "  </thead>\n",
       "  <tbody>\n",
       "    <tr>\n",
       "      <th>0</th>\n",
       "      <td>0</td>\n",
       "      <td>0</td>\n",
       "      <td>0</td>\n",
       "      <td>0</td>\n",
       "      <td>0</td>\n",
       "      <td>0</td>\n",
       "      <td>0</td>\n",
       "      <td>0</td>\n",
       "      <td>0</td>\n",
       "      <td>0</td>\n",
       "      <td>...</td>\n",
       "      <td>0</td>\n",
       "      <td>0</td>\n",
       "      <td>0</td>\n",
       "      <td>0</td>\n",
       "      <td>0</td>\n",
       "      <td>0</td>\n",
       "      <td>0</td>\n",
       "      <td>0</td>\n",
       "      <td>0</td>\n",
       "      <td>663172d7.jpg</td>\n",
       "    </tr>\n",
       "    <tr>\n",
       "      <th>1</th>\n",
       "      <td>0</td>\n",
       "      <td>0</td>\n",
       "      <td>0</td>\n",
       "      <td>1</td>\n",
       "      <td>0</td>\n",
       "      <td>0</td>\n",
       "      <td>0</td>\n",
       "      <td>0</td>\n",
       "      <td>0</td>\n",
       "      <td>0</td>\n",
       "      <td>...</td>\n",
       "      <td>0</td>\n",
       "      <td>0</td>\n",
       "      <td>0</td>\n",
       "      <td>0</td>\n",
       "      <td>0</td>\n",
       "      <td>0</td>\n",
       "      <td>0</td>\n",
       "      <td>0</td>\n",
       "      <td>0</td>\n",
       "      <td>eaa46c62.jpg</td>\n",
       "    </tr>\n",
       "    <tr>\n",
       "      <th>2</th>\n",
       "      <td>0</td>\n",
       "      <td>0</td>\n",
       "      <td>0</td>\n",
       "      <td>0</td>\n",
       "      <td>0</td>\n",
       "      <td>0</td>\n",
       "      <td>0</td>\n",
       "      <td>0</td>\n",
       "      <td>0</td>\n",
       "      <td>0</td>\n",
       "      <td>...</td>\n",
       "      <td>0</td>\n",
       "      <td>0</td>\n",
       "      <td>0</td>\n",
       "      <td>0</td>\n",
       "      <td>0</td>\n",
       "      <td>0</td>\n",
       "      <td>0</td>\n",
       "      <td>0</td>\n",
       "      <td>0</td>\n",
       "      <td>7b5bcb5a_aug.jpg</td>\n",
       "    </tr>\n",
       "    <tr>\n",
       "      <th>3</th>\n",
       "      <td>0</td>\n",
       "      <td>0</td>\n",
       "      <td>0</td>\n",
       "      <td>0</td>\n",
       "      <td>0</td>\n",
       "      <td>0</td>\n",
       "      <td>1</td>\n",
       "      <td>0</td>\n",
       "      <td>0</td>\n",
       "      <td>0</td>\n",
       "      <td>...</td>\n",
       "      <td>0</td>\n",
       "      <td>0</td>\n",
       "      <td>0</td>\n",
       "      <td>0</td>\n",
       "      <td>0</td>\n",
       "      <td>0</td>\n",
       "      <td>0</td>\n",
       "      <td>0</td>\n",
       "      <td>0</td>\n",
       "      <td>deda9c42.jpg</td>\n",
       "    </tr>\n",
       "    <tr>\n",
       "      <th>4</th>\n",
       "      <td>0</td>\n",
       "      <td>0</td>\n",
       "      <td>0</td>\n",
       "      <td>0</td>\n",
       "      <td>0</td>\n",
       "      <td>0</td>\n",
       "      <td>0</td>\n",
       "      <td>0</td>\n",
       "      <td>0</td>\n",
       "      <td>0</td>\n",
       "      <td>...</td>\n",
       "      <td>0</td>\n",
       "      <td>0</td>\n",
       "      <td>0</td>\n",
       "      <td>0</td>\n",
       "      <td>0</td>\n",
       "      <td>0</td>\n",
       "      <td>0</td>\n",
       "      <td>0</td>\n",
       "      <td>0</td>\n",
       "      <td>9b85cccc_aug.jpg</td>\n",
       "    </tr>\n",
       "  </tbody>\n",
       "</table>\n",
       "<p>5 rows × 81 columns</p>\n",
       "</div>"
      ],
      "text/plain": [
       "   Accelerating_and_revving_and_vroom  Accordion  Acoustic_guitar  Applause  \\\n",
       "0                                   0          0                0         0   \n",
       "1                                   0          0                0         1   \n",
       "2                                   0          0                0         0   \n",
       "3                                   0          0                0         0   \n",
       "4                                   0          0                0         0   \n",
       "\n",
       "   Bark  Bass_drum  Bass_guitar  Bathtub_(filling_or_washing)  Bicycle_bell  \\\n",
       "0     0          0            0                             0             0   \n",
       "1     0          0            0                             0             0   \n",
       "2     0          0            0                             0             0   \n",
       "3     0          0            1                             0             0   \n",
       "4     0          0            0                             0             0   \n",
       "\n",
       "   Burping_and_eructation  ...  Traffic_noise_and_roadway_noise  \\\n",
       "0                       0  ...                                0   \n",
       "1                       0  ...                                0   \n",
       "2                       0  ...                                0   \n",
       "3                       0  ...                                0   \n",
       "4                       0  ...                                0   \n",
       "\n",
       "   Trickle_and_dribble  Walk_and_footsteps  Water_tap_and_faucet  \\\n",
       "0                    0                   0                     0   \n",
       "1                    0                   0                     0   \n",
       "2                    0                   0                     0   \n",
       "3                    0                   0                     0   \n",
       "4                    0                   0                     0   \n",
       "\n",
       "   Waves_and_surf  Whispering  Writing  Yell  Zipper_(clothing)  \\\n",
       "0               0           0        0     0                  0   \n",
       "1               0           0        0     0                  0   \n",
       "2               0           0        0     0                  0   \n",
       "3               0           0        0     0                  0   \n",
       "4               0           0        0     0                  0   \n",
       "\n",
       "              fname  \n",
       "0      663172d7.jpg  \n",
       "1      eaa46c62.jpg  \n",
       "2  7b5bcb5a_aug.jpg  \n",
       "3      deda9c42.jpg  \n",
       "4  9b85cccc_aug.jpg  \n",
       "\n",
       "[5 rows x 81 columns]"
      ]
     },
     "execution_count": 14,
     "metadata": {},
     "output_type": "execute_result"
    }
   ],
   "source": [
    "cvmultidf.head()"
   ]
  },
  {
   "cell_type": "code",
   "execution_count": 15,
   "metadata": {
    "execution": {
     "iopub.execute_input": "2020-10-04T17:38:52.918592Z",
     "iopub.status.busy": "2020-10-04T17:38:52.917240Z",
     "iopub.status.idle": "2020-10-04T17:38:54.108701Z",
     "shell.execute_reply": "2020-10-04T17:38:54.109850Z"
    },
    "papermill": {
     "duration": 1.248828,
     "end_time": "2020-10-04T17:38:54.110112",
     "exception": false,
     "start_time": "2020-10-04T17:38:52.861284",
     "status": "completed"
    },
    "tags": []
   },
   "outputs": [
    {
     "name": "stdout",
     "output_type": "stream",
     "text": [
      "Found 4862 validated image filenames.\n"
     ]
    }
   ],
   "source": [
    "\n",
    "valid_datagen=ImageDataGenerator(rescale=1./255.)\n",
    "\n",
    "valid_generator=valid_datagen.flow_from_dataframe(\n",
    "    dataframe=cvmultidf,\n",
    "    directory=\"../input/sc2-total-aug-noisy-data/Total Images bucket Noisy/Total Images bucket Noisy\",\n",
    "    x_col=\"fname\",\n",
    "    y_col=list(mlb_train.classes_),\n",
    "   # subset=\"validation\",\n",
    "    batch_size=64,\n",
    "    seed=42,\n",
    "    shuffle=False,\n",
    "    class_mode=\"raw\",\n",
    "    #color_mode=\"grayscale\",\n",
    "    target_size=(128,128))\n"
   ]
  },
  {
   "cell_type": "code",
   "execution_count": 16,
   "metadata": {
    "execution": {
     "iopub.execute_input": "2020-10-04T17:38:54.218165Z",
     "iopub.status.busy": "2020-10-04T17:38:54.217179Z",
     "iopub.status.idle": "2020-10-04T17:38:55.613121Z",
     "shell.execute_reply": "2020-10-04T17:38:55.613866Z"
    },
    "papermill": {
     "duration": 1.451784,
     "end_time": "2020-10-04T17:38:55.614055",
     "exception": false,
     "start_time": "2020-10-04T17:38:54.162271",
     "status": "completed"
    },
    "tags": []
   },
   "outputs": [
    {
     "name": "stdout",
     "output_type": "stream",
     "text": [
      "Found 6078 validated image filenames.\n"
     ]
    }
   ],
   "source": [
    "test_datagen=ImageDataGenerator(rescale=1./255.)\n",
    "test_generator=test_datagen.flow_from_dataframe(\n",
    "    dataframe=testmultidf,\n",
    "    directory=\"../input/sc2-total-aug-noisy-data/Total Images bucket Noisy/Total Images bucket Noisy\",\n",
    "    x_col=\"fname\",\n",
    "    y_col=None,\n",
    "    batch_size=64,\n",
    "    seed=42,\n",
    "    shuffle=False,\n",
    "    class_mode=None,\n",
    "   # color_mode=\"grayscale\",\n",
    "    target_size=(128,128))\n",
    "STEP_SIZE_TEST=test_generator.n//test_generator.batch_size"
   ]
  },
  {
   "cell_type": "code",
   "execution_count": 17,
   "metadata": {
    "execution": {
     "iopub.execute_input": "2020-10-04T17:38:55.723685Z",
     "iopub.status.busy": "2020-10-04T17:38:55.723014Z",
     "iopub.status.idle": "2020-10-04T17:38:55.779710Z",
     "shell.execute_reply": "2020-10-04T17:38:55.779162Z"
    },
    "papermill": {
     "duration": 0.117484,
     "end_time": "2020-10-04T17:38:55.779836",
     "exception": false,
     "start_time": "2020-10-04T17:38:55.662352",
     "status": "completed"
    },
    "tags": []
   },
   "outputs": [],
   "source": [
    "from sklearn import model_selection\n",
    "from tensorflow.keras.preprocessing.text import Tokenizer\n",
    "from tensorflow.keras.utils import to_categorical\n",
    "from tensorflow.keras.preprocessing.sequence import pad_sequences\n",
    "\n",
    "from tensorflow.keras.optimizers import RMSprop\n",
    "from tensorflow.keras.models import Model\n",
    "from tensorflow.keras.models import load_model\n",
    "\n",
    "import numpy as np\n",
    "from tensorflow.keras.models import Sequential\n",
    "from tensorflow.keras.preprocessing import sequence\n",
    "\n",
    "\n",
    "\n",
    "import tensorflow as tf\n",
    "from tensorflow.keras import models, layers\n",
    "from tensorflow.keras.models import Model\n",
    "from tensorflow.keras.optimizers import Adam\n",
    "#from tensorflow.keras.callbacks import ModelCheckpoint,EarlyStopping \n",
    "from tensorflow.keras.layers import Dense, Flatten, LSTM, Conv2D, MaxPooling2D, Dropout, Activation, Input,BatchNormalization, AveragePooling2D,GlobalMaxPool2D,PReLU\n",
    "\n",
    "from tensorflow.keras.applications.resnet50 import ResNet50\n",
    "\n",
    "from tensorflow.keras.callbacks import (ModelCheckpoint, LearningRateScheduler,\n",
    "                             EarlyStopping, ReduceLROnPlateau,CSVLogger)"
   ]
  },
  {
   "cell_type": "code",
   "execution_count": 18,
   "metadata": {
    "execution": {
     "iopub.execute_input": "2020-10-04T17:38:55.885346Z",
     "iopub.status.busy": "2020-10-04T17:38:55.884743Z",
     "iopub.status.idle": "2020-10-04T17:39:00.930625Z",
     "shell.execute_reply": "2020-10-04T17:39:00.929555Z"
    },
    "papermill": {
     "duration": 5.101495,
     "end_time": "2020-10-04T17:39:00.930765",
     "exception": false,
     "start_time": "2020-10-04T17:38:55.829270",
     "status": "completed"
    },
    "tags": []
   },
   "outputs": [
    {
     "name": "stdout",
     "output_type": "stream",
     "text": [
      "Downloading data from https://storage.googleapis.com/tensorflow/keras-applications/mobilenet/mobilenet_1_0_224_tf.h5\n",
      "17227776/17225924 [==============================] - 0s 0us/step\n"
     ]
    }
   ],
   "source": [
    "#last_layer = model.get_layer('avg_pool').output\n",
    "\n",
    "image_input = Input(shape=(128,128, 3))\n",
    "model = tf.keras.applications.MobileNet(input_tensor=image_input, include_top=True)\n",
    "last_layer = model.layers[-3].output#model.get_layer('avg_pool').output\n",
    "x= Flatten(name='flatten')(last_layer)\n",
    "#model=\n",
    "\n",
    "\n",
    "#output = Dense(80, activation='sigmoid', name='output_layer')(model.layers[-2].output)\n",
    "x= Dense(80)(x)\n",
    "output = Activation('sigmoid')(x)\n",
    "#out = Dense(num_classes, activation='softmax', name='output_layer')(x)"
   ]
  },
  {
   "cell_type": "code",
   "execution_count": 19,
   "metadata": {
    "execution": {
     "iopub.execute_input": "2020-10-04T17:39:01.036441Z",
     "iopub.status.busy": "2020-10-04T17:39:01.035410Z",
     "iopub.status.idle": "2020-10-04T17:39:01.101748Z",
     "shell.execute_reply": "2020-10-04T17:39:01.100520Z"
    },
    "papermill": {
     "duration": 0.121602,
     "end_time": "2020-10-04T17:39:01.101916",
     "exception": false,
     "start_time": "2020-10-04T17:39:00.980314",
     "status": "completed"
    },
    "tags": []
   },
   "outputs": [
    {
     "name": "stdout",
     "output_type": "stream",
     "text": [
      "Model: \"functional_1\"\n",
      "_________________________________________________________________\n",
      "Layer (type)                 Output Shape              Param #   \n",
      "=================================================================\n",
      "input_1 (InputLayer)         [(None, 128, 128, 3)]     0         \n",
      "_________________________________________________________________\n",
      "conv1_pad (ZeroPadding2D)    (None, 129, 129, 3)       0         \n",
      "_________________________________________________________________\n",
      "conv1 (Conv2D)               (None, 64, 64, 32)        864       \n",
      "_________________________________________________________________\n",
      "conv1_bn (BatchNormalization (None, 64, 64, 32)        128       \n",
      "_________________________________________________________________\n",
      "conv1_relu (ReLU)            (None, 64, 64, 32)        0         \n",
      "_________________________________________________________________\n",
      "conv_dw_1 (DepthwiseConv2D)  (None, 64, 64, 32)        288       \n",
      "_________________________________________________________________\n",
      "conv_dw_1_bn (BatchNormaliza (None, 64, 64, 32)        128       \n",
      "_________________________________________________________________\n",
      "conv_dw_1_relu (ReLU)        (None, 64, 64, 32)        0         \n",
      "_________________________________________________________________\n",
      "conv_pw_1 (Conv2D)           (None, 64, 64, 64)        2048      \n",
      "_________________________________________________________________\n",
      "conv_pw_1_bn (BatchNormaliza (None, 64, 64, 64)        256       \n",
      "_________________________________________________________________\n",
      "conv_pw_1_relu (ReLU)        (None, 64, 64, 64)        0         \n",
      "_________________________________________________________________\n",
      "conv_pad_2 (ZeroPadding2D)   (None, 65, 65, 64)        0         \n",
      "_________________________________________________________________\n",
      "conv_dw_2 (DepthwiseConv2D)  (None, 32, 32, 64)        576       \n",
      "_________________________________________________________________\n",
      "conv_dw_2_bn (BatchNormaliza (None, 32, 32, 64)        256       \n",
      "_________________________________________________________________\n",
      "conv_dw_2_relu (ReLU)        (None, 32, 32, 64)        0         \n",
      "_________________________________________________________________\n",
      "conv_pw_2 (Conv2D)           (None, 32, 32, 128)       8192      \n",
      "_________________________________________________________________\n",
      "conv_pw_2_bn (BatchNormaliza (None, 32, 32, 128)       512       \n",
      "_________________________________________________________________\n",
      "conv_pw_2_relu (ReLU)        (None, 32, 32, 128)       0         \n",
      "_________________________________________________________________\n",
      "conv_dw_3 (DepthwiseConv2D)  (None, 32, 32, 128)       1152      \n",
      "_________________________________________________________________\n",
      "conv_dw_3_bn (BatchNormaliza (None, 32, 32, 128)       512       \n",
      "_________________________________________________________________\n",
      "conv_dw_3_relu (ReLU)        (None, 32, 32, 128)       0         \n",
      "_________________________________________________________________\n",
      "conv_pw_3 (Conv2D)           (None, 32, 32, 128)       16384     \n",
      "_________________________________________________________________\n",
      "conv_pw_3_bn (BatchNormaliza (None, 32, 32, 128)       512       \n",
      "_________________________________________________________________\n",
      "conv_pw_3_relu (ReLU)        (None, 32, 32, 128)       0         \n",
      "_________________________________________________________________\n",
      "conv_pad_4 (ZeroPadding2D)   (None, 33, 33, 128)       0         \n",
      "_________________________________________________________________\n",
      "conv_dw_4 (DepthwiseConv2D)  (None, 16, 16, 128)       1152      \n",
      "_________________________________________________________________\n",
      "conv_dw_4_bn (BatchNormaliza (None, 16, 16, 128)       512       \n",
      "_________________________________________________________________\n",
      "conv_dw_4_relu (ReLU)        (None, 16, 16, 128)       0         \n",
      "_________________________________________________________________\n",
      "conv_pw_4 (Conv2D)           (None, 16, 16, 256)       32768     \n",
      "_________________________________________________________________\n",
      "conv_pw_4_bn (BatchNormaliza (None, 16, 16, 256)       1024      \n",
      "_________________________________________________________________\n",
      "conv_pw_4_relu (ReLU)        (None, 16, 16, 256)       0         \n",
      "_________________________________________________________________\n",
      "conv_dw_5 (DepthwiseConv2D)  (None, 16, 16, 256)       2304      \n",
      "_________________________________________________________________\n",
      "conv_dw_5_bn (BatchNormaliza (None, 16, 16, 256)       1024      \n",
      "_________________________________________________________________\n",
      "conv_dw_5_relu (ReLU)        (None, 16, 16, 256)       0         \n",
      "_________________________________________________________________\n",
      "conv_pw_5 (Conv2D)           (None, 16, 16, 256)       65536     \n",
      "_________________________________________________________________\n",
      "conv_pw_5_bn (BatchNormaliza (None, 16, 16, 256)       1024      \n",
      "_________________________________________________________________\n",
      "conv_pw_5_relu (ReLU)        (None, 16, 16, 256)       0         \n",
      "_________________________________________________________________\n",
      "conv_pad_6 (ZeroPadding2D)   (None, 17, 17, 256)       0         \n",
      "_________________________________________________________________\n",
      "conv_dw_6 (DepthwiseConv2D)  (None, 8, 8, 256)         2304      \n",
      "_________________________________________________________________\n",
      "conv_dw_6_bn (BatchNormaliza (None, 8, 8, 256)         1024      \n",
      "_________________________________________________________________\n",
      "conv_dw_6_relu (ReLU)        (None, 8, 8, 256)         0         \n",
      "_________________________________________________________________\n",
      "conv_pw_6 (Conv2D)           (None, 8, 8, 512)         131072    \n",
      "_________________________________________________________________\n",
      "conv_pw_6_bn (BatchNormaliza (None, 8, 8, 512)         2048      \n",
      "_________________________________________________________________\n",
      "conv_pw_6_relu (ReLU)        (None, 8, 8, 512)         0         \n",
      "_________________________________________________________________\n",
      "conv_dw_7 (DepthwiseConv2D)  (None, 8, 8, 512)         4608      \n",
      "_________________________________________________________________\n",
      "conv_dw_7_bn (BatchNormaliza (None, 8, 8, 512)         2048      \n",
      "_________________________________________________________________\n",
      "conv_dw_7_relu (ReLU)        (None, 8, 8, 512)         0         \n",
      "_________________________________________________________________\n",
      "conv_pw_7 (Conv2D)           (None, 8, 8, 512)         262144    \n",
      "_________________________________________________________________\n",
      "conv_pw_7_bn (BatchNormaliza (None, 8, 8, 512)         2048      \n",
      "_________________________________________________________________\n",
      "conv_pw_7_relu (ReLU)        (None, 8, 8, 512)         0         \n",
      "_________________________________________________________________\n",
      "conv_dw_8 (DepthwiseConv2D)  (None, 8, 8, 512)         4608      \n",
      "_________________________________________________________________\n",
      "conv_dw_8_bn (BatchNormaliza (None, 8, 8, 512)         2048      \n",
      "_________________________________________________________________\n",
      "conv_dw_8_relu (ReLU)        (None, 8, 8, 512)         0         \n",
      "_________________________________________________________________\n",
      "conv_pw_8 (Conv2D)           (None, 8, 8, 512)         262144    \n",
      "_________________________________________________________________\n",
      "conv_pw_8_bn (BatchNormaliza (None, 8, 8, 512)         2048      \n",
      "_________________________________________________________________\n",
      "conv_pw_8_relu (ReLU)        (None, 8, 8, 512)         0         \n",
      "_________________________________________________________________\n",
      "conv_dw_9 (DepthwiseConv2D)  (None, 8, 8, 512)         4608      \n",
      "_________________________________________________________________\n",
      "conv_dw_9_bn (BatchNormaliza (None, 8, 8, 512)         2048      \n",
      "_________________________________________________________________\n",
      "conv_dw_9_relu (ReLU)        (None, 8, 8, 512)         0         \n",
      "_________________________________________________________________\n",
      "conv_pw_9 (Conv2D)           (None, 8, 8, 512)         262144    \n",
      "_________________________________________________________________\n",
      "conv_pw_9_bn (BatchNormaliza (None, 8, 8, 512)         2048      \n",
      "_________________________________________________________________\n",
      "conv_pw_9_relu (ReLU)        (None, 8, 8, 512)         0         \n",
      "_________________________________________________________________\n",
      "conv_dw_10 (DepthwiseConv2D) (None, 8, 8, 512)         4608      \n",
      "_________________________________________________________________\n",
      "conv_dw_10_bn (BatchNormaliz (None, 8, 8, 512)         2048      \n",
      "_________________________________________________________________\n",
      "conv_dw_10_relu (ReLU)       (None, 8, 8, 512)         0         \n",
      "_________________________________________________________________\n",
      "conv_pw_10 (Conv2D)          (None, 8, 8, 512)         262144    \n",
      "_________________________________________________________________\n",
      "conv_pw_10_bn (BatchNormaliz (None, 8, 8, 512)         2048      \n",
      "_________________________________________________________________\n",
      "conv_pw_10_relu (ReLU)       (None, 8, 8, 512)         0         \n",
      "_________________________________________________________________\n",
      "conv_dw_11 (DepthwiseConv2D) (None, 8, 8, 512)         4608      \n",
      "_________________________________________________________________\n",
      "conv_dw_11_bn (BatchNormaliz (None, 8, 8, 512)         2048      \n",
      "_________________________________________________________________\n",
      "conv_dw_11_relu (ReLU)       (None, 8, 8, 512)         0         \n",
      "_________________________________________________________________\n",
      "conv_pw_11 (Conv2D)          (None, 8, 8, 512)         262144    \n",
      "_________________________________________________________________\n",
      "conv_pw_11_bn (BatchNormaliz (None, 8, 8, 512)         2048      \n",
      "_________________________________________________________________\n",
      "conv_pw_11_relu (ReLU)       (None, 8, 8, 512)         0         \n",
      "_________________________________________________________________\n",
      "conv_pad_12 (ZeroPadding2D)  (None, 9, 9, 512)         0         \n",
      "_________________________________________________________________\n",
      "conv_dw_12 (DepthwiseConv2D) (None, 4, 4, 512)         4608      \n",
      "_________________________________________________________________\n",
      "conv_dw_12_bn (BatchNormaliz (None, 4, 4, 512)         2048      \n",
      "_________________________________________________________________\n",
      "conv_dw_12_relu (ReLU)       (None, 4, 4, 512)         0         \n",
      "_________________________________________________________________\n",
      "conv_pw_12 (Conv2D)          (None, 4, 4, 1024)        524288    \n",
      "_________________________________________________________________\n",
      "conv_pw_12_bn (BatchNormaliz (None, 4, 4, 1024)        4096      \n",
      "_________________________________________________________________\n",
      "conv_pw_12_relu (ReLU)       (None, 4, 4, 1024)        0         \n",
      "_________________________________________________________________\n",
      "conv_dw_13 (DepthwiseConv2D) (None, 4, 4, 1024)        9216      \n",
      "_________________________________________________________________\n",
      "conv_dw_13_bn (BatchNormaliz (None, 4, 4, 1024)        4096      \n",
      "_________________________________________________________________\n",
      "conv_dw_13_relu (ReLU)       (None, 4, 4, 1024)        0         \n",
      "_________________________________________________________________\n",
      "conv_pw_13 (Conv2D)          (None, 4, 4, 1024)        1048576   \n",
      "_________________________________________________________________\n",
      "conv_pw_13_bn (BatchNormaliz (None, 4, 4, 1024)        4096      \n",
      "_________________________________________________________________\n",
      "conv_pw_13_relu (ReLU)       (None, 4, 4, 1024)        0         \n",
      "_________________________________________________________________\n",
      "global_average_pooling2d (Gl (None, 1024)              0         \n",
      "_________________________________________________________________\n",
      "reshape_1 (Reshape)          (None, 1, 1, 1024)        0         \n",
      "_________________________________________________________________\n",
      "dropout (Dropout)            (None, 1, 1, 1024)        0         \n",
      "_________________________________________________________________\n",
      "conv_preds (Conv2D)          (None, 1, 1, 1000)        1025000   \n",
      "_________________________________________________________________\n",
      "flatten (Flatten)            (None, 1000)              0         \n",
      "_________________________________________________________________\n",
      "dense (Dense)                (None, 80)                80080     \n",
      "_________________________________________________________________\n",
      "activation (Activation)      (None, 80)                0         \n",
      "=================================================================\n",
      "Total params: 4,333,944\n",
      "Trainable params: 4,312,056\n",
      "Non-trainable params: 21,888\n",
      "_________________________________________________________________\n"
     ]
    }
   ],
   "source": [
    "custom_densenet169_model = Model(inputs=image_input,outputs= output)\n",
    "custom_densenet169_model.summary()"
   ]
  },
  {
   "cell_type": "code",
   "execution_count": 20,
   "metadata": {
    "execution": {
     "iopub.execute_input": "2020-10-04T17:39:01.224244Z",
     "iopub.status.busy": "2020-10-04T17:39:01.223230Z",
     "iopub.status.idle": "2020-10-04T17:39:01.225864Z",
     "shell.execute_reply": "2020-10-04T17:39:01.225289Z"
    },
    "papermill": {
     "duration": 0.057311,
     "end_time": "2020-10-04T17:39:01.225960",
     "exception": false,
     "start_time": "2020-10-04T17:39:01.168649",
     "status": "completed"
    },
    "tags": []
   },
   "outputs": [],
   "source": [
    "#from tensorflow.keras.utils import plot_model\n",
    "#plot_model(custom_densenet169_model, 'model_resnet50.png', show_shapes=True)"
   ]
  },
  {
   "cell_type": "code",
   "execution_count": 21,
   "metadata": {
    "execution": {
     "iopub.execute_input": "2020-10-04T17:39:01.343114Z",
     "iopub.status.busy": "2020-10-04T17:39:01.340973Z",
     "iopub.status.idle": "2020-10-04T17:39:01.350492Z",
     "shell.execute_reply": "2020-10-04T17:39:01.349982Z"
    },
    "papermill": {
     "duration": 0.074601,
     "end_time": "2020-10-04T17:39:01.350596",
     "exception": false,
     "start_time": "2020-10-04T17:39:01.275995",
     "status": "completed"
    },
    "tags": []
   },
   "outputs": [],
   "source": [
    "opt = tf.keras.optimizers.Adam(lr=0.0009)#tf.keras.optimizers.RMSprop(lr=0.3, decay=1e-6) \n",
    "#tf.keras.optimizers.Adam(lr=0.001)#RMSprop(lr=0.0001, decay=1e-6)\n",
    "\n",
    "# Let's train the model using RMSprop\n",
    "custom_densenet169_model.compile(loss=tf.keras.losses.BinaryCrossentropy(reduction=tf.keras.losses.Reduction.SUM),#,label_smoothing=0.7#'categorical_crossentropy',\n",
    "              optimizer=opt,\n",
    "               metrics=['categorical_accuracy'])"
   ]
  },
  {
   "cell_type": "code",
   "execution_count": 22,
   "metadata": {
    "execution": {
     "iopub.execute_input": "2020-10-04T17:39:01.455837Z",
     "iopub.status.busy": "2020-10-04T17:39:01.455160Z",
     "iopub.status.idle": "2020-10-04T17:39:01.459115Z",
     "shell.execute_reply": "2020-10-04T17:39:01.459692Z"
    },
    "papermill": {
     "duration": 0.059984,
     "end_time": "2020-10-04T17:39:01.459822",
     "exception": false,
     "start_time": "2020-10-04T17:39:01.399838",
     "status": "completed"
    },
    "tags": []
   },
   "outputs": [],
   "source": [
    "#Fitting keras model, no test gen for now\n",
    "STEP_SIZE_TRAIN=train_generator.n//train_generator.batch_size\n",
    "STEP_SIZE_VALID=valid_generator.n//valid_generator.batch_size\n",
    "#STEP_SIZE_TEST=test_generator.n//test_generator.batch_size"
   ]
  },
  {
   "cell_type": "code",
   "execution_count": 23,
   "metadata": {
    "execution": {
     "iopub.execute_input": "2020-10-04T17:39:01.563327Z",
     "iopub.status.busy": "2020-10-04T17:39:01.562651Z",
     "iopub.status.idle": "2020-10-04T17:39:01.568860Z",
     "shell.execute_reply": "2020-10-04T17:39:01.567945Z"
    },
    "papermill": {
     "duration": 0.059769,
     "end_time": "2020-10-04T17:39:01.568960",
     "exception": false,
     "start_time": "2020-10-04T17:39:01.509191",
     "status": "completed"
    },
    "tags": []
   },
   "outputs": [
    {
     "data": {
      "text/plain": [
       "303"
      ]
     },
     "execution_count": 23,
     "metadata": {},
     "output_type": "execute_result"
    }
   ],
   "source": [
    "STEP_SIZE_TRAIN"
   ]
  },
  {
   "cell_type": "code",
   "execution_count": 24,
   "metadata": {
    "execution": {
     "iopub.execute_input": "2020-10-04T17:39:01.680034Z",
     "iopub.status.busy": "2020-10-04T17:39:01.678241Z",
     "iopub.status.idle": "2020-10-04T17:39:01.680833Z",
     "shell.execute_reply": "2020-10-04T17:39:01.681357Z"
    },
    "papermill": {
     "duration": 0.06167,
     "end_time": "2020-10-04T17:39:01.681482",
     "exception": false,
     "start_time": "2020-10-04T17:39:01.619812",
     "status": "completed"
    },
    "tags": []
   },
   "outputs": [],
   "source": [
    "# simple early stopping\n",
    "#earlyStop = EarlyStopping(monitor='val_loss', mode='min', verbose=1, patience=100,)\n",
    "#https://machinelearningmastery.com/check-point-deep-learning-models-keras/\n",
    "\n",
    "\n",
    "#model_checkpoint = ModelCheckpoint('weights_cnn_lstm.best.hdf5', monitor='val_categorical_accuracy', mode='max', verbose=1, save_best_only=True)\n",
    "#filepath=\"weights-improvement-{epoch:02d}-{val_categorical_accuracy:.2f}.hdf5\"\n",
    "\n",
    "\n",
    "csv_logger = CSVLogger(filename='../working/training_log.csv',\n",
    "                       separator=',',\n",
    "                       append=True)\n",
    "#https://www.tensorflow.org/api_docs/python/tf/keras/callbacks/ReduceLROnPlateau\n",
    "reduceLROnPlat = ReduceLROnPlateau(monitor='val_categorical_accuracy', factor=0.6,\n",
    "                              patience=6, min_lr=0,verbose=1)\n",
    "\n",
    "\n",
    "model_checkpoint = ModelCheckpoint(\"ResNetNoisyTotal.best_weights-128.hdf5\", monitor='val_categorical_accuracy', mode='max', verbose=1, save_best_only=True)\n",
    "\n",
    "# fit model\n",
    "\n",
    "#es = tf.keras.callbacks.EarlyStopping(monitor='val_loss', mode='min', verbose=1, patience=20, min_delta=0.001 )\n",
    "es = tf.keras.callbacks.EarlyStopping(monitor='val_categorical_accuracy', mode='max', verbose=1, patience=30, min_delta=0.001 )\n",
    "\n",
    "callbacks_list = [model_checkpoint, csv_logger, reduceLROnPlat,es]"
   ]
  },
  {
   "cell_type": "code",
   "execution_count": 25,
   "metadata": {
    "execution": {
     "iopub.execute_input": "2020-10-04T17:39:01.786468Z",
     "iopub.status.busy": "2020-10-04T17:39:01.784533Z",
     "iopub.status.idle": "2020-10-04T17:39:01.787266Z",
     "shell.execute_reply": "2020-10-04T17:39:01.787783Z"
    },
    "papermill": {
     "duration": 0.057037,
     "end_time": "2020-10-04T17:39:01.787903",
     "exception": false,
     "start_time": "2020-10-04T17:39:01.730866",
     "status": "completed"
    },
    "tags": []
   },
   "outputs": [],
   "source": [
    "\n",
    "#custom_densenet169_model.load_weights(\"../input/sc2weights/total.best_weights.hdf5\")\n",
    "#custom_densenet169_model.load_weights(\"../input/sc2weights/total.best_weights_iter2.hdf5\")"
   ]
  },
  {
   "cell_type": "code",
   "execution_count": 26,
   "metadata": {
    "execution": {
     "iopub.execute_input": "2020-10-04T17:39:01.895854Z",
     "iopub.status.busy": "2020-10-04T17:39:01.894975Z",
     "iopub.status.idle": "2020-10-04T23:42:17.331252Z",
     "shell.execute_reply": "2020-10-04T23:42:17.332020Z"
    },
    "papermill": {
     "duration": 21795.493956,
     "end_time": "2020-10-04T23:42:17.332208",
     "exception": false,
     "start_time": "2020-10-04T17:39:01.838252",
     "status": "completed"
    },
    "tags": []
   },
   "outputs": [
    {
     "name": "stdout",
     "output_type": "stream",
     "text": [
      "Epoch 1/300\n",
      "303/303 [==============================] - ETA: 0s - loss: 5.6924 - categorical_accuracy: 0.1057\n",
      "Epoch 00001: val_categorical_accuracy improved from -inf to 0.08292, saving model to ResNetNoisyTotal.best_weights-128.hdf5\n",
      "303/303 [==============================] - 176s 580ms/step - loss: 5.6924 - categorical_accuracy: 0.1057 - val_loss: 7.9042 - val_categorical_accuracy: 0.0829\n",
      "Epoch 2/300\n",
      "303/303 [==============================] - ETA: 0s - loss: 3.8759 - categorical_accuracy: 0.1968\n",
      "Epoch 00002: val_categorical_accuracy improved from 0.08292 to 0.16667, saving model to ResNetNoisyTotal.best_weights-128.hdf5\n",
      "303/303 [==============================] - 137s 453ms/step - loss: 3.8759 - categorical_accuracy: 0.1968 - val_loss: 4.7462 - val_categorical_accuracy: 0.1667\n",
      "Epoch 3/300\n",
      "303/303 [==============================] - ETA: 0s - loss: 3.6019 - categorical_accuracy: 0.2518\n",
      "Epoch 00003: val_categorical_accuracy improved from 0.16667 to 0.23354, saving model to ResNetNoisyTotal.best_weights-128.hdf5\n",
      "303/303 [==============================] - 139s 459ms/step - loss: 3.6019 - categorical_accuracy: 0.2518 - val_loss: 4.0509 - val_categorical_accuracy: 0.2335\n",
      "Epoch 4/300\n",
      "303/303 [==============================] - ETA: 0s - loss: 3.4308 - categorical_accuracy: 0.2843\n",
      "Epoch 00004: val_categorical_accuracy did not improve from 0.23354\n",
      "303/303 [==============================] - 137s 453ms/step - loss: 3.4308 - categorical_accuracy: 0.2843 - val_loss: 4.0183 - val_categorical_accuracy: 0.2244\n",
      "Epoch 5/300\n",
      "303/303 [==============================] - ETA: 0s - loss: 3.2798 - categorical_accuracy: 0.3165\n",
      "Epoch 00005: val_categorical_accuracy improved from 0.23354 to 0.24000, saving model to ResNetNoisyTotal.best_weights-128.hdf5\n",
      "303/303 [==============================] - 139s 458ms/step - loss: 3.2798 - categorical_accuracy: 0.3165 - val_loss: 4.0777 - val_categorical_accuracy: 0.2400\n",
      "Epoch 6/300\n",
      "303/303 [==============================] - ETA: 0s - loss: 3.1408 - categorical_accuracy: 0.3409\n",
      "Epoch 00006: val_categorical_accuracy improved from 0.24000 to 0.24833, saving model to ResNetNoisyTotal.best_weights-128.hdf5\n",
      "303/303 [==============================] - 139s 459ms/step - loss: 3.1408 - categorical_accuracy: 0.3409 - val_loss: 3.9995 - val_categorical_accuracy: 0.2483\n",
      "Epoch 7/300\n",
      "303/303 [==============================] - ETA: 0s - loss: 3.0106 - categorical_accuracy: 0.3667\n",
      "Epoch 00007: val_categorical_accuracy improved from 0.24833 to 0.25208, saving model to ResNetNoisyTotal.best_weights-128.hdf5\n",
      "303/303 [==============================] - 139s 459ms/step - loss: 3.0106 - categorical_accuracy: 0.3667 - val_loss: 3.8266 - val_categorical_accuracy: 0.2521\n",
      "Epoch 8/300\n",
      "303/303 [==============================] - ETA: 0s - loss: 2.8786 - categorical_accuracy: 0.3899\n",
      "Epoch 00008: val_categorical_accuracy improved from 0.25208 to 0.27042, saving model to ResNetNoisyTotal.best_weights-128.hdf5\n",
      "303/303 [==============================] - 139s 457ms/step - loss: 2.8786 - categorical_accuracy: 0.3899 - val_loss: 3.8263 - val_categorical_accuracy: 0.2704\n",
      "Epoch 9/300\n",
      "303/303 [==============================] - ETA: 0s - loss: 2.7632 - categorical_accuracy: 0.4090\n",
      "Epoch 00009: val_categorical_accuracy improved from 0.27042 to 0.28250, saving model to ResNetNoisyTotal.best_weights-128.hdf5\n",
      "303/303 [==============================] - 139s 460ms/step - loss: 2.7632 - categorical_accuracy: 0.4090 - val_loss: 3.6004 - val_categorical_accuracy: 0.2825\n",
      "Epoch 10/300\n",
      "303/303 [==============================] - ETA: 0s - loss: 2.6279 - categorical_accuracy: 0.4403\n",
      "Epoch 00010: val_categorical_accuracy did not improve from 0.28250\n",
      "303/303 [==============================] - 140s 463ms/step - loss: 2.6279 - categorical_accuracy: 0.4403 - val_loss: 3.9611 - val_categorical_accuracy: 0.2750\n",
      "Epoch 11/300\n",
      "303/303 [==============================] - ETA: 0s - loss: 2.5145 - categorical_accuracy: 0.4625\n",
      "Epoch 00011: val_categorical_accuracy did not improve from 0.28250\n",
      "303/303 [==============================] - 139s 459ms/step - loss: 2.5145 - categorical_accuracy: 0.4625 - val_loss: 3.8964 - val_categorical_accuracy: 0.2733\n",
      "Epoch 12/300\n",
      "303/303 [==============================] - ETA: 0s - loss: 2.3868 - categorical_accuracy: 0.4873\n",
      "Epoch 00012: val_categorical_accuracy did not improve from 0.28250\n",
      "303/303 [==============================] - 141s 465ms/step - loss: 2.3868 - categorical_accuracy: 0.4873 - val_loss: 3.8342 - val_categorical_accuracy: 0.2685\n",
      "Epoch 13/300\n",
      "303/303 [==============================] - ETA: 0s - loss: 2.2339 - categorical_accuracy: 0.5168\n",
      "Epoch 00013: val_categorical_accuracy did not improve from 0.28250\n",
      "303/303 [==============================] - 140s 462ms/step - loss: 2.2339 - categorical_accuracy: 0.5168 - val_loss: 4.1620 - val_categorical_accuracy: 0.2733\n",
      "Epoch 14/300\n",
      "303/303 [==============================] - ETA: 0s - loss: 2.0953 - categorical_accuracy: 0.5489\n",
      "Epoch 00014: val_categorical_accuracy improved from 0.28250 to 0.29458, saving model to ResNetNoisyTotal.best_weights-128.hdf5\n",
      "303/303 [==============================] - 142s 469ms/step - loss: 2.0953 - categorical_accuracy: 0.5489 - val_loss: 4.0594 - val_categorical_accuracy: 0.2946\n",
      "Epoch 15/300\n",
      "303/303 [==============================] - ETA: 0s - loss: 1.9531 - categorical_accuracy: 0.5802\n",
      "Epoch 00015: val_categorical_accuracy did not improve from 0.29458\n",
      "303/303 [==============================] - 143s 473ms/step - loss: 1.9531 - categorical_accuracy: 0.5802 - val_loss: 4.2004 - val_categorical_accuracy: 0.2756\n",
      "Epoch 16/300\n",
      "303/303 [==============================] - ETA: 0s - loss: 1.8146 - categorical_accuracy: 0.6107\n",
      "Epoch 00016: val_categorical_accuracy improved from 0.29458 to 0.30167, saving model to ResNetNoisyTotal.best_weights-128.hdf5\n",
      "303/303 [==============================] - 142s 470ms/step - loss: 1.8146 - categorical_accuracy: 0.6107 - val_loss: 4.1858 - val_categorical_accuracy: 0.3017\n",
      "Epoch 17/300\n",
      "303/303 [==============================] - ETA: 0s - loss: 1.6834 - categorical_accuracy: 0.6343\n",
      "Epoch 00017: val_categorical_accuracy did not improve from 0.30167\n",
      "303/303 [==============================] - 142s 467ms/step - loss: 1.6834 - categorical_accuracy: 0.6343 - val_loss: 4.4495 - val_categorical_accuracy: 0.2917\n",
      "Epoch 18/300\n",
      "303/303 [==============================] - ETA: 0s - loss: 1.5395 - categorical_accuracy: 0.6635\n",
      "Epoch 00018: val_categorical_accuracy improved from 0.30167 to 0.31229, saving model to ResNetNoisyTotal.best_weights-128.hdf5\n",
      "303/303 [==============================] - 144s 474ms/step - loss: 1.5395 - categorical_accuracy: 0.6635 - val_loss: 4.3260 - val_categorical_accuracy: 0.3123\n",
      "Epoch 19/300\n",
      "303/303 [==============================] - ETA: 0s - loss: 1.4151 - categorical_accuracy: 0.6941\n",
      "Epoch 00019: val_categorical_accuracy did not improve from 0.31229\n",
      "303/303 [==============================] - 143s 473ms/step - loss: 1.4151 - categorical_accuracy: 0.6941 - val_loss: 4.3661 - val_categorical_accuracy: 0.3031\n",
      "Epoch 20/300\n",
      "303/303 [==============================] - ETA: 0s - loss: 1.3081 - categorical_accuracy: 0.7150\n",
      "Epoch 00020: val_categorical_accuracy improved from 0.31229 to 0.32146, saving model to ResNetNoisyTotal.best_weights-128.hdf5\n",
      "303/303 [==============================] - 145s 478ms/step - loss: 1.3081 - categorical_accuracy: 0.7150 - val_loss: 4.3664 - val_categorical_accuracy: 0.3215\n",
      "Epoch 21/300\n",
      "303/303 [==============================] - ETA: 0s - loss: 1.2035 - categorical_accuracy: 0.7394\n",
      "Epoch 00021: val_categorical_accuracy did not improve from 0.32146\n",
      "303/303 [==============================] - 143s 472ms/step - loss: 1.2035 - categorical_accuracy: 0.7394 - val_loss: 4.2081 - val_categorical_accuracy: 0.3200\n",
      "Epoch 22/300\n",
      "303/303 [==============================] - ETA: 0s - loss: 1.1052 - categorical_accuracy: 0.7565\n",
      "Epoch 00022: val_categorical_accuracy improved from 0.32146 to 0.34021, saving model to ResNetNoisyTotal.best_weights-128.hdf5\n",
      "303/303 [==============================] - 143s 471ms/step - loss: 1.1052 - categorical_accuracy: 0.7565 - val_loss: 4.3699 - val_categorical_accuracy: 0.3402\n",
      "Epoch 23/300\n",
      "303/303 [==============================] - ETA: 0s - loss: 1.0337 - categorical_accuracy: 0.7751\n",
      "Epoch 00023: val_categorical_accuracy did not improve from 0.34021\n",
      "303/303 [==============================] - 145s 478ms/step - loss: 1.0337 - categorical_accuracy: 0.7751 - val_loss: 4.4235 - val_categorical_accuracy: 0.3154\n",
      "Epoch 24/300\n",
      "303/303 [==============================] - ETA: 0s - loss: 0.9552 - categorical_accuracy: 0.7883\n",
      "Epoch 00024: val_categorical_accuracy did not improve from 0.34021\n",
      "303/303 [==============================] - 142s 470ms/step - loss: 0.9552 - categorical_accuracy: 0.7883 - val_loss: 4.6162 - val_categorical_accuracy: 0.3302\n",
      "Epoch 25/300\n",
      "303/303 [==============================] - ETA: 0s - loss: 0.8736 - categorical_accuracy: 0.8015\n",
      "Epoch 00025: val_categorical_accuracy did not improve from 0.34021\n",
      "303/303 [==============================] - 145s 477ms/step - loss: 0.8736 - categorical_accuracy: 0.8015 - val_loss: 4.7251 - val_categorical_accuracy: 0.3344\n",
      "Epoch 26/300\n",
      "303/303 [==============================] - ETA: 0s - loss: 0.8124 - categorical_accuracy: 0.8148\n",
      "Epoch 00026: val_categorical_accuracy improved from 0.34021 to 0.36667, saving model to ResNetNoisyTotal.best_weights-128.hdf5\n",
      "303/303 [==============================] - 144s 475ms/step - loss: 0.8124 - categorical_accuracy: 0.8148 - val_loss: 4.9778 - val_categorical_accuracy: 0.3667\n",
      "Epoch 27/300\n",
      "303/303 [==============================] - ETA: 0s - loss: 0.7645 - categorical_accuracy: 0.8252\n",
      "Epoch 00027: val_categorical_accuracy improved from 0.36667 to 0.37250, saving model to ResNetNoisyTotal.best_weights-128.hdf5\n",
      "303/303 [==============================] - 145s 478ms/step - loss: 0.7645 - categorical_accuracy: 0.8252 - val_loss: 4.8054 - val_categorical_accuracy: 0.3725\n",
      "Epoch 28/300\n",
      "303/303 [==============================] - ETA: 0s - loss: 0.7281 - categorical_accuracy: 0.8323\n",
      "Epoch 00028: val_categorical_accuracy did not improve from 0.37250\n",
      "303/303 [==============================] - 143s 473ms/step - loss: 0.7281 - categorical_accuracy: 0.8323 - val_loss: 4.6433 - val_categorical_accuracy: 0.3327\n",
      "Epoch 29/300\n",
      "303/303 [==============================] - ETA: 0s - loss: 0.7066 - categorical_accuracy: 0.8306\n",
      "Epoch 00029: val_categorical_accuracy did not improve from 0.37250\n",
      "303/303 [==============================] - 144s 474ms/step - loss: 0.7066 - categorical_accuracy: 0.8306 - val_loss: 4.9688 - val_categorical_accuracy: 0.3415\n",
      "Epoch 30/300\n",
      "303/303 [==============================] - ETA: 0s - loss: 0.6509 - categorical_accuracy: 0.8420\n",
      "Epoch 00030: val_categorical_accuracy did not improve from 0.37250\n",
      "303/303 [==============================] - 144s 475ms/step - loss: 0.6509 - categorical_accuracy: 0.8420 - val_loss: 5.5817 - val_categorical_accuracy: 0.3290\n",
      "Epoch 31/300\n",
      "303/303 [==============================] - ETA: 0s - loss: 0.6238 - categorical_accuracy: 0.8508\n",
      "Epoch 00031: val_categorical_accuracy did not improve from 0.37250\n",
      "303/303 [==============================] - 144s 476ms/step - loss: 0.6238 - categorical_accuracy: 0.8508 - val_loss: 5.4790 - val_categorical_accuracy: 0.3383\n",
      "Epoch 32/300\n",
      "303/303 [==============================] - ETA: 0s - loss: 0.5944 - categorical_accuracy: 0.8501\n",
      "Epoch 00032: val_categorical_accuracy did not improve from 0.37250\n",
      "303/303 [==============================] - 145s 479ms/step - loss: 0.5944 - categorical_accuracy: 0.8501 - val_loss: 5.4496 - val_categorical_accuracy: 0.3698\n",
      "Epoch 33/300\n",
      "303/303 [==============================] - ETA: 0s - loss: 0.5660 - categorical_accuracy: 0.8608\n",
      "Epoch 00033: val_categorical_accuracy did not improve from 0.37250\n",
      "\n",
      "Epoch 00033: ReduceLROnPlateau reducing learning rate to 0.0005399999907240271.\n",
      "303/303 [==============================] - 145s 478ms/step - loss: 0.5660 - categorical_accuracy: 0.8608 - val_loss: 5.5323 - val_categorical_accuracy: 0.3485\n",
      "Epoch 34/300\n",
      "303/303 [==============================] - ETA: 0s - loss: 0.3262 - categorical_accuracy: 0.8890\n",
      "Epoch 00034: val_categorical_accuracy improved from 0.37250 to 0.40333, saving model to ResNetNoisyTotal.best_weights-128.hdf5\n",
      "303/303 [==============================] - 145s 478ms/step - loss: 0.3262 - categorical_accuracy: 0.8890 - val_loss: 4.9451 - val_categorical_accuracy: 0.4033\n",
      "Epoch 35/300\n",
      "303/303 [==============================] - ETA: 0s - loss: 0.2381 - categorical_accuracy: 0.8987\n",
      "Epoch 00035: val_categorical_accuracy improved from 0.40333 to 0.41792, saving model to ResNetNoisyTotal.best_weights-128.hdf5\n",
      "303/303 [==============================] - 146s 480ms/step - loss: 0.2381 - categorical_accuracy: 0.8987 - val_loss: 4.9909 - val_categorical_accuracy: 0.4179\n",
      "Epoch 36/300\n",
      "303/303 [==============================] - ETA: 0s - loss: 0.2110 - categorical_accuracy: 0.9025\n",
      "Epoch 00036: val_categorical_accuracy improved from 0.41792 to 0.42479, saving model to ResNetNoisyTotal.best_weights-128.hdf5\n",
      "303/303 [==============================] - 145s 480ms/step - loss: 0.2110 - categorical_accuracy: 0.9025 - val_loss: 5.1611 - val_categorical_accuracy: 0.4248\n",
      "Epoch 37/300\n",
      "303/303 [==============================] - ETA: 0s - loss: 0.2241 - categorical_accuracy: 0.9018\n",
      "Epoch 00037: val_categorical_accuracy did not improve from 0.42479\n",
      "303/303 [==============================] - 145s 479ms/step - loss: 0.2241 - categorical_accuracy: 0.9018 - val_loss: 5.8408 - val_categorical_accuracy: 0.4146\n",
      "Epoch 38/300\n",
      "303/303 [==============================] - ETA: 0s - loss: 0.2316 - categorical_accuracy: 0.8994\n",
      "Epoch 00038: val_categorical_accuracy did not improve from 0.42479\n",
      "303/303 [==============================] - 144s 475ms/step - loss: 0.2316 - categorical_accuracy: 0.8994 - val_loss: 5.5471 - val_categorical_accuracy: 0.4052\n",
      "Epoch 39/300\n",
      "303/303 [==============================] - ETA: 0s - loss: 0.2303 - categorical_accuracy: 0.8990\n",
      "Epoch 00039: val_categorical_accuracy did not improve from 0.42479\n",
      "303/303 [==============================] - 141s 465ms/step - loss: 0.2303 - categorical_accuracy: 0.8990 - val_loss: 6.0706 - val_categorical_accuracy: 0.3963\n",
      "Epoch 40/300\n",
      "303/303 [==============================] - ETA: 0s - loss: 0.2327 - categorical_accuracy: 0.8981\n",
      "Epoch 00040: val_categorical_accuracy did not improve from 0.42479\n",
      "303/303 [==============================] - 141s 465ms/step - loss: 0.2327 - categorical_accuracy: 0.8981 - val_loss: 5.8415 - val_categorical_accuracy: 0.4058\n",
      "Epoch 41/300\n",
      "303/303 [==============================] - ETA: 0s - loss: 0.2323 - categorical_accuracy: 0.8981\n",
      "Epoch 00041: val_categorical_accuracy did not improve from 0.42479\n",
      "303/303 [==============================] - 140s 461ms/step - loss: 0.2323 - categorical_accuracy: 0.8981 - val_loss: 5.2986 - val_categorical_accuracy: 0.4215\n",
      "Epoch 42/300\n",
      "303/303 [==============================] - ETA: 0s - loss: 0.2349 - categorical_accuracy: 0.8982\n",
      "Epoch 00042: val_categorical_accuracy did not improve from 0.42479\n",
      "\n",
      "Epoch 00042: ReduceLROnPlateau reducing learning rate to 0.00032399998744949695.\n",
      "303/303 [==============================] - 141s 467ms/step - loss: 0.2349 - categorical_accuracy: 0.8982 - val_loss: 5.8431 - val_categorical_accuracy: 0.4060\n",
      "Epoch 43/300\n",
      "303/303 [==============================] - ETA: 0s - loss: 0.1383 - categorical_accuracy: 0.9074\n",
      "Epoch 00043: val_categorical_accuracy improved from 0.42479 to 0.44771, saving model to ResNetNoisyTotal.best_weights-128.hdf5\n",
      "303/303 [==============================] - 141s 464ms/step - loss: 0.1383 - categorical_accuracy: 0.9074 - val_loss: 5.5285 - val_categorical_accuracy: 0.4477\n",
      "Epoch 44/300\n",
      "303/303 [==============================] - ETA: 0s - loss: 0.1043 - categorical_accuracy: 0.9105\n",
      "Epoch 00044: val_categorical_accuracy improved from 0.44771 to 0.46000, saving model to ResNetNoisyTotal.best_weights-128.hdf5\n",
      "303/303 [==============================] - 141s 464ms/step - loss: 0.1043 - categorical_accuracy: 0.9105 - val_loss: 5.5169 - val_categorical_accuracy: 0.4600\n",
      "Epoch 45/300\n",
      "303/303 [==============================] - ETA: 0s - loss: 0.0939 - categorical_accuracy: 0.9120\n",
      "Epoch 00045: val_categorical_accuracy did not improve from 0.46000\n",
      "303/303 [==============================] - 142s 468ms/step - loss: 0.0939 - categorical_accuracy: 0.9120 - val_loss: 6.0961 - val_categorical_accuracy: 0.4548\n",
      "Epoch 46/300\n",
      "303/303 [==============================] - ETA: 0s - loss: 0.0891 - categorical_accuracy: 0.9100\n",
      "Epoch 00046: val_categorical_accuracy did not improve from 0.46000\n",
      "303/303 [==============================] - 141s 465ms/step - loss: 0.0891 - categorical_accuracy: 0.9100 - val_loss: 5.9668 - val_categorical_accuracy: 0.4542\n",
      "Epoch 47/300\n",
      "303/303 [==============================] - ETA: 0s - loss: 0.0934 - categorical_accuracy: 0.9095\n",
      "Epoch 00047: val_categorical_accuracy did not improve from 0.46000\n",
      "303/303 [==============================] - 141s 466ms/step - loss: 0.0934 - categorical_accuracy: 0.9095 - val_loss: 6.4152 - val_categorical_accuracy: 0.4240\n",
      "Epoch 48/300\n",
      "303/303 [==============================] - ETA: 0s - loss: 0.0983 - categorical_accuracy: 0.9056\n",
      "Epoch 00048: val_categorical_accuracy did not improve from 0.46000\n",
      "303/303 [==============================] - 143s 472ms/step - loss: 0.0983 - categorical_accuracy: 0.9056 - val_loss: 6.1362 - val_categorical_accuracy: 0.4477\n",
      "Epoch 49/300\n",
      "303/303 [==============================] - ETA: 0s - loss: 0.0957 - categorical_accuracy: 0.9118\n",
      "Epoch 00049: val_categorical_accuracy did not improve from 0.46000\n",
      "303/303 [==============================] - 143s 470ms/step - loss: 0.0957 - categorical_accuracy: 0.9118 - val_loss: 6.7663 - val_categorical_accuracy: 0.4308\n",
      "Epoch 50/300\n",
      "303/303 [==============================] - ETA: 0s - loss: 0.0964 - categorical_accuracy: 0.9111\n",
      "Epoch 00050: val_categorical_accuracy did not improve from 0.46000\n",
      "\n",
      "Epoch 00050: ReduceLROnPlateau reducing learning rate to 0.00019439999596215785.\n",
      "303/303 [==============================] - 146s 480ms/step - loss: 0.0964 - categorical_accuracy: 0.9111 - val_loss: 6.1751 - val_categorical_accuracy: 0.4440\n",
      "Epoch 51/300\n",
      "303/303 [==============================] - ETA: 0s - loss: 0.0666 - categorical_accuracy: 0.9105\n",
      "Epoch 00051: val_categorical_accuracy did not improve from 0.46000\n",
      "303/303 [==============================] - 143s 471ms/step - loss: 0.0666 - categorical_accuracy: 0.9105 - val_loss: 6.1666 - val_categorical_accuracy: 0.4579\n",
      "Epoch 52/300\n",
      "303/303 [==============================] - ETA: 0s - loss: 0.0527 - categorical_accuracy: 0.9125\n",
      "Epoch 00052: val_categorical_accuracy did not improve from 0.46000\n",
      "303/303 [==============================] - 142s 467ms/step - loss: 0.0527 - categorical_accuracy: 0.9125 - val_loss: 6.1685 - val_categorical_accuracy: 0.4569\n",
      "Epoch 53/300\n",
      "303/303 [==============================] - ETA: 0s - loss: 0.0447 - categorical_accuracy: 0.9119\n",
      "Epoch 00053: val_categorical_accuracy improved from 0.46000 to 0.46187, saving model to ResNetNoisyTotal.best_weights-128.hdf5\n",
      "303/303 [==============================] - 144s 475ms/step - loss: 0.0447 - categorical_accuracy: 0.9119 - val_loss: 6.2722 - val_categorical_accuracy: 0.4619\n",
      "Epoch 54/300\n",
      "303/303 [==============================] - ETA: 0s - loss: 0.0431 - categorical_accuracy: 0.9123\n",
      "Epoch 00054: val_categorical_accuracy did not improve from 0.46187\n",
      "303/303 [==============================] - 142s 469ms/step - loss: 0.0431 - categorical_accuracy: 0.9123 - val_loss: 6.9044 - val_categorical_accuracy: 0.4504\n",
      "Epoch 55/300\n",
      "303/303 [==============================] - ETA: 0s - loss: 0.0474 - categorical_accuracy: 0.9133\n",
      "Epoch 00055: val_categorical_accuracy did not improve from 0.46187\n",
      "303/303 [==============================] - 143s 473ms/step - loss: 0.0474 - categorical_accuracy: 0.9133 - val_loss: 6.9967 - val_categorical_accuracy: 0.4546\n",
      "Epoch 56/300\n",
      "303/303 [==============================] - ETA: 0s - loss: 0.0437 - categorical_accuracy: 0.9134\n",
      "Epoch 00056: val_categorical_accuracy did not improve from 0.46187\n",
      "303/303 [==============================] - 143s 474ms/step - loss: 0.0437 - categorical_accuracy: 0.9134 - val_loss: 6.7057 - val_categorical_accuracy: 0.4483\n",
      "Epoch 57/300\n",
      "303/303 [==============================] - ETA: 0s - loss: 0.0466 - categorical_accuracy: 0.9109\n",
      "Epoch 00057: val_categorical_accuracy improved from 0.46187 to 0.46292, saving model to ResNetNoisyTotal.best_weights-128.hdf5\n",
      "303/303 [==============================] - 143s 472ms/step - loss: 0.0466 - categorical_accuracy: 0.9109 - val_loss: 7.1546 - val_categorical_accuracy: 0.4629\n",
      "Epoch 58/300\n",
      "303/303 [==============================] - ETA: 0s - loss: 0.0446 - categorical_accuracy: 0.9116\n",
      "Epoch 00058: val_categorical_accuracy improved from 0.46292 to 0.46333, saving model to ResNetNoisyTotal.best_weights-128.hdf5\n",
      "303/303 [==============================] - 144s 475ms/step - loss: 0.0446 - categorical_accuracy: 0.9116 - val_loss: 6.8111 - val_categorical_accuracy: 0.4633\n",
      "Epoch 59/300\n",
      "303/303 [==============================] - ETA: 0s - loss: 0.0424 - categorical_accuracy: 0.9130\n",
      "Epoch 00059: val_categorical_accuracy did not improve from 0.46333\n",
      "303/303 [==============================] - 142s 470ms/step - loss: 0.0424 - categorical_accuracy: 0.9130 - val_loss: 6.8668 - val_categorical_accuracy: 0.4544\n",
      "Epoch 60/300\n",
      "303/303 [==============================] - ETA: 0s - loss: 0.0400 - categorical_accuracy: 0.9148\n",
      "Epoch 00060: val_categorical_accuracy did not improve from 0.46333\n",
      "303/303 [==============================] - 144s 477ms/step - loss: 0.0400 - categorical_accuracy: 0.9148 - val_loss: 7.0336 - val_categorical_accuracy: 0.4544\n",
      "Epoch 61/300\n",
      "303/303 [==============================] - ETA: 0s - loss: 0.0486 - categorical_accuracy: 0.9127\n",
      "Epoch 00061: val_categorical_accuracy did not improve from 0.46333\n",
      "303/303 [==============================] - 143s 472ms/step - loss: 0.0486 - categorical_accuracy: 0.9127 - val_loss: 7.1628 - val_categorical_accuracy: 0.4448\n",
      "Epoch 62/300\n",
      "303/303 [==============================] - ETA: 0s - loss: 0.0396 - categorical_accuracy: 0.9130\n",
      "Epoch 00062: val_categorical_accuracy did not improve from 0.46333\n",
      "303/303 [==============================] - 142s 470ms/step - loss: 0.0396 - categorical_accuracy: 0.9130 - val_loss: 6.7759 - val_categorical_accuracy: 0.4613\n",
      "Epoch 63/300\n",
      "303/303 [==============================] - ETA: 0s - loss: 0.0438 - categorical_accuracy: 0.9124\n",
      "Epoch 00063: val_categorical_accuracy did not improve from 0.46333\n",
      "303/303 [==============================] - 143s 473ms/step - loss: 0.0438 - categorical_accuracy: 0.9124 - val_loss: 6.9553 - val_categorical_accuracy: 0.4494\n",
      "Epoch 64/300\n",
      "303/303 [==============================] - ETA: 0s - loss: 0.0410 - categorical_accuracy: 0.9152\n",
      "Epoch 00064: val_categorical_accuracy did not improve from 0.46333\n",
      "\n",
      "Epoch 00064: ReduceLROnPlateau reducing learning rate to 0.0001166399975772947.\n",
      "303/303 [==============================] - 143s 472ms/step - loss: 0.0410 - categorical_accuracy: 0.9152 - val_loss: 6.9488 - val_categorical_accuracy: 0.4521\n",
      "Epoch 65/300\n",
      "303/303 [==============================] - ETA: 0s - loss: 0.0333 - categorical_accuracy: 0.9117\n",
      "Epoch 00065: val_categorical_accuracy improved from 0.46333 to 0.46729, saving model to ResNetNoisyTotal.best_weights-128.hdf5\n",
      "303/303 [==============================] - 144s 475ms/step - loss: 0.0333 - categorical_accuracy: 0.9117 - val_loss: 6.9428 - val_categorical_accuracy: 0.4673\n",
      "Epoch 66/300\n",
      "303/303 [==============================] - ETA: 0s - loss: 0.0255 - categorical_accuracy: 0.9124\n",
      "Epoch 00066: val_categorical_accuracy did not improve from 0.46729\n",
      "303/303 [==============================] - 143s 472ms/step - loss: 0.0255 - categorical_accuracy: 0.9124 - val_loss: 7.1246 - val_categorical_accuracy: 0.4627\n",
      "Epoch 67/300\n",
      "303/303 [==============================] - ETA: 0s - loss: 0.0237 - categorical_accuracy: 0.9116\n",
      "Epoch 00067: val_categorical_accuracy improved from 0.46729 to 0.47271, saving model to ResNetNoisyTotal.best_weights-128.hdf5\n",
      "303/303 [==============================] - 143s 472ms/step - loss: 0.0237 - categorical_accuracy: 0.9116 - val_loss: 7.0897 - val_categorical_accuracy: 0.4727\n",
      "Epoch 68/300\n",
      "303/303 [==============================] - ETA: 0s - loss: 0.0229 - categorical_accuracy: 0.9109\n",
      "Epoch 00068: val_categorical_accuracy did not improve from 0.47271\n",
      "303/303 [==============================] - 145s 480ms/step - loss: 0.0229 - categorical_accuracy: 0.9109 - val_loss: 7.1578 - val_categorical_accuracy: 0.4694\n",
      "Epoch 69/300\n",
      "303/303 [==============================] - ETA: 0s - loss: 0.0245 - categorical_accuracy: 0.9146\n",
      "Epoch 00069: val_categorical_accuracy improved from 0.47271 to 0.47604, saving model to ResNetNoisyTotal.best_weights-128.hdf5\n",
      "303/303 [==============================] - 145s 477ms/step - loss: 0.0245 - categorical_accuracy: 0.9146 - val_loss: 7.1986 - val_categorical_accuracy: 0.4760\n",
      "Epoch 70/300\n",
      "303/303 [==============================] - ETA: 0s - loss: 0.0219 - categorical_accuracy: 0.9135\n",
      "Epoch 00070: val_categorical_accuracy did not improve from 0.47604\n",
      "303/303 [==============================] - 146s 481ms/step - loss: 0.0219 - categorical_accuracy: 0.9135 - val_loss: 7.1032 - val_categorical_accuracy: 0.4648\n",
      "Epoch 71/300\n",
      "303/303 [==============================] - ETA: 0s - loss: 0.0242 - categorical_accuracy: 0.9148\n",
      "Epoch 00071: val_categorical_accuracy did not improve from 0.47604\n",
      "303/303 [==============================] - 145s 478ms/step - loss: 0.0242 - categorical_accuracy: 0.9148 - val_loss: 7.0876 - val_categorical_accuracy: 0.4696\n",
      "Epoch 72/300\n",
      "303/303 [==============================] - ETA: 0s - loss: 0.0229 - categorical_accuracy: 0.9144\n",
      "Epoch 00072: val_categorical_accuracy did not improve from 0.47604\n",
      "303/303 [==============================] - 146s 481ms/step - loss: 0.0229 - categorical_accuracy: 0.9144 - val_loss: 7.0101 - val_categorical_accuracy: 0.4719\n",
      "Epoch 73/300\n",
      "303/303 [==============================] - ETA: 0s - loss: 0.0204 - categorical_accuracy: 0.9136\n",
      "Epoch 00073: val_categorical_accuracy did not improve from 0.47604\n",
      "303/303 [==============================] - 145s 479ms/step - loss: 0.0204 - categorical_accuracy: 0.9136 - val_loss: 7.3272 - val_categorical_accuracy: 0.4748\n",
      "Epoch 74/300\n",
      "303/303 [==============================] - ETA: 0s - loss: 0.0190 - categorical_accuracy: 0.9135\n",
      "Epoch 00074: val_categorical_accuracy did not improve from 0.47604\n",
      "303/303 [==============================] - 146s 482ms/step - loss: 0.0190 - categorical_accuracy: 0.9135 - val_loss: 7.2336 - val_categorical_accuracy: 0.4756\n",
      "Epoch 75/300\n",
      "303/303 [==============================] - ETA: 0s - loss: 0.0196 - categorical_accuracy: 0.9101\n",
      "Epoch 00075: val_categorical_accuracy did not improve from 0.47604\n",
      "\n",
      "Epoch 00075: ReduceLROnPlateau reducing learning rate to 6.998399767326191e-05.\n",
      "303/303 [==============================] - 146s 483ms/step - loss: 0.0196 - categorical_accuracy: 0.9101 - val_loss: 7.4798 - val_categorical_accuracy: 0.4683\n",
      "Epoch 76/300\n",
      "303/303 [==============================] - ETA: 0s - loss: 0.0174 - categorical_accuracy: 0.9131\n",
      "Epoch 00076: val_categorical_accuracy did not improve from 0.47604\n",
      "303/303 [==============================] - 146s 480ms/step - loss: 0.0174 - categorical_accuracy: 0.9131 - val_loss: 7.4273 - val_categorical_accuracy: 0.4756\n",
      "Epoch 77/300\n",
      "303/303 [==============================] - ETA: 0s - loss: 0.0162 - categorical_accuracy: 0.9118\n",
      "Epoch 00077: val_categorical_accuracy did not improve from 0.47604\n",
      "303/303 [==============================] - 141s 465ms/step - loss: 0.0162 - categorical_accuracy: 0.9118 - val_loss: 7.5167 - val_categorical_accuracy: 0.4723\n",
      "Epoch 78/300\n",
      "303/303 [==============================] - ETA: 0s - loss: 0.0142 - categorical_accuracy: 0.9133\n",
      "Epoch 00078: val_categorical_accuracy improved from 0.47604 to 0.48021, saving model to ResNetNoisyTotal.best_weights-128.hdf5\n",
      "303/303 [==============================] - 140s 461ms/step - loss: 0.0142 - categorical_accuracy: 0.9133 - val_loss: 7.4527 - val_categorical_accuracy: 0.4802\n",
      "Epoch 79/300\n",
      "303/303 [==============================] - ETA: 0s - loss: 0.0137 - categorical_accuracy: 0.9172\n",
      "Epoch 00079: val_categorical_accuracy did not improve from 0.48021\n",
      "303/303 [==============================] - 139s 460ms/step - loss: 0.0137 - categorical_accuracy: 0.9172 - val_loss: 7.5869 - val_categorical_accuracy: 0.4796\n",
      "Epoch 80/300\n",
      "303/303 [==============================] - ETA: 0s - loss: 0.0154 - categorical_accuracy: 0.9133\n",
      "Epoch 00080: val_categorical_accuracy did not improve from 0.48021\n",
      "303/303 [==============================] - 140s 463ms/step - loss: 0.0154 - categorical_accuracy: 0.9133 - val_loss: 7.5725 - val_categorical_accuracy: 0.4781\n",
      "Epoch 81/300\n",
      "303/303 [==============================] - ETA: 0s - loss: 0.0114 - categorical_accuracy: 0.9142\n",
      "Epoch 00081: val_categorical_accuracy did not improve from 0.48021\n",
      "303/303 [==============================] - 138s 457ms/step - loss: 0.0114 - categorical_accuracy: 0.9142 - val_loss: 7.5667 - val_categorical_accuracy: 0.4754\n",
      "Epoch 82/300\n",
      "303/303 [==============================] - ETA: 0s - loss: 0.0125 - categorical_accuracy: 0.9112\n",
      "Epoch 00082: val_categorical_accuracy improved from 0.48021 to 0.48271, saving model to ResNetNoisyTotal.best_weights-128.hdf5\n",
      "303/303 [==============================] - 139s 458ms/step - loss: 0.0125 - categorical_accuracy: 0.9112 - val_loss: 7.6293 - val_categorical_accuracy: 0.4827\n",
      "Epoch 83/300\n",
      "303/303 [==============================] - ETA: 0s - loss: 0.0109 - categorical_accuracy: 0.9142\n",
      "Epoch 00083: val_categorical_accuracy did not improve from 0.48271\n",
      "303/303 [==============================] - 139s 458ms/step - loss: 0.0109 - categorical_accuracy: 0.9142 - val_loss: 7.5358 - val_categorical_accuracy: 0.4802\n",
      "Epoch 84/300\n",
      "303/303 [==============================] - ETA: 0s - loss: 0.0119 - categorical_accuracy: 0.9121\n",
      "Epoch 00084: val_categorical_accuracy did not improve from 0.48271\n",
      "303/303 [==============================] - 137s 453ms/step - loss: 0.0119 - categorical_accuracy: 0.9121 - val_loss: 7.6578 - val_categorical_accuracy: 0.4808\n",
      "Epoch 85/300\n",
      "303/303 [==============================] - ETA: 0s - loss: 0.0143 - categorical_accuracy: 0.9151\n",
      "Epoch 00085: val_categorical_accuracy did not improve from 0.48271\n",
      "303/303 [==============================] - 138s 454ms/step - loss: 0.0143 - categorical_accuracy: 0.9151 - val_loss: 7.7283 - val_categorical_accuracy: 0.4771\n",
      "Epoch 86/300\n",
      "303/303 [==============================] - ETA: 0s - loss: 0.0123 - categorical_accuracy: 0.9126\n",
      "Epoch 00086: val_categorical_accuracy did not improve from 0.48271\n",
      "303/303 [==============================] - 139s 457ms/step - loss: 0.0123 - categorical_accuracy: 0.9126 - val_loss: 7.6525 - val_categorical_accuracy: 0.4773\n",
      "Epoch 87/300\n",
      "303/303 [==============================] - ETA: 0s - loss: 0.0120 - categorical_accuracy: 0.9115\n",
      "Epoch 00087: val_categorical_accuracy improved from 0.48271 to 0.48896, saving model to ResNetNoisyTotal.best_weights-128.hdf5\n",
      "303/303 [==============================] - 137s 454ms/step - loss: 0.0120 - categorical_accuracy: 0.9115 - val_loss: 7.8633 - val_categorical_accuracy: 0.4890\n",
      "Epoch 88/300\n",
      "303/303 [==============================] - ETA: 0s - loss: 0.0134 - categorical_accuracy: 0.9148\n",
      "Epoch 00088: val_categorical_accuracy did not improve from 0.48896\n",
      "303/303 [==============================] - 138s 454ms/step - loss: 0.0134 - categorical_accuracy: 0.9148 - val_loss: 7.8270 - val_categorical_accuracy: 0.4831\n",
      "Epoch 89/300\n",
      "303/303 [==============================] - ETA: 0s - loss: 0.0109 - categorical_accuracy: 0.9148\n",
      "Epoch 00089: val_categorical_accuracy did not improve from 0.48896\n",
      "303/303 [==============================] - 137s 453ms/step - loss: 0.0109 - categorical_accuracy: 0.9148 - val_loss: 7.6365 - val_categorical_accuracy: 0.4842\n",
      "Epoch 90/300\n",
      "303/303 [==============================] - ETA: 0s - loss: 0.0109 - categorical_accuracy: 0.9148\n",
      "Epoch 00090: val_categorical_accuracy did not improve from 0.48896\n",
      "303/303 [==============================] - 137s 452ms/step - loss: 0.0109 - categorical_accuracy: 0.9148 - val_loss: 7.8970 - val_categorical_accuracy: 0.4752\n",
      "Epoch 91/300\n",
      "303/303 [==============================] - ETA: 0s - loss: 0.0121 - categorical_accuracy: 0.9152\n",
      "Epoch 00091: val_categorical_accuracy did not improve from 0.48896\n",
      "303/303 [==============================] - 136s 448ms/step - loss: 0.0121 - categorical_accuracy: 0.9152 - val_loss: 7.9846 - val_categorical_accuracy: 0.4712\n",
      "Epoch 92/300\n",
      "303/303 [==============================] - ETA: 0s - loss: 0.0135 - categorical_accuracy: 0.9116\n",
      "Epoch 00092: val_categorical_accuracy did not improve from 0.48896\n",
      "303/303 [==============================] - 136s 449ms/step - loss: 0.0135 - categorical_accuracy: 0.9116 - val_loss: 7.9064 - val_categorical_accuracy: 0.4754\n",
      "Epoch 93/300\n",
      "303/303 [==============================] - ETA: 0s - loss: 0.0127 - categorical_accuracy: 0.9158\n",
      "Epoch 00093: val_categorical_accuracy did not improve from 0.48896\n",
      "\n",
      "Epoch 00093: ReduceLROnPlateau reducing learning rate to 4.199039685772732e-05.\n",
      "303/303 [==============================] - 137s 452ms/step - loss: 0.0127 - categorical_accuracy: 0.9158 - val_loss: 7.8674 - val_categorical_accuracy: 0.4790\n",
      "Epoch 94/300\n",
      "303/303 [==============================] - ETA: 0s - loss: 0.0105 - categorical_accuracy: 0.9145\n",
      "Epoch 00094: val_categorical_accuracy did not improve from 0.48896\n",
      "303/303 [==============================] - 137s 453ms/step - loss: 0.0105 - categorical_accuracy: 0.9145 - val_loss: 7.7780 - val_categorical_accuracy: 0.4798\n",
      "Epoch 95/300\n",
      "303/303 [==============================] - ETA: 0s - loss: 0.0087 - categorical_accuracy: 0.9159\n",
      "Epoch 00095: val_categorical_accuracy did not improve from 0.48896\n",
      "303/303 [==============================] - 137s 452ms/step - loss: 0.0087 - categorical_accuracy: 0.9159 - val_loss: 7.9825 - val_categorical_accuracy: 0.4779\n",
      "Epoch 96/300\n",
      "303/303 [==============================] - ETA: 0s - loss: 0.0089 - categorical_accuracy: 0.9193\n",
      "Epoch 00096: val_categorical_accuracy did not improve from 0.48896\n",
      "303/303 [==============================] - 138s 457ms/step - loss: 0.0089 - categorical_accuracy: 0.9193 - val_loss: 8.0677 - val_categorical_accuracy: 0.4821\n",
      "Epoch 97/300\n",
      "303/303 [==============================] - ETA: 0s - loss: 0.0087 - categorical_accuracy: 0.9190\n",
      "Epoch 00097: val_categorical_accuracy did not improve from 0.48896\n",
      "303/303 [==============================] - 139s 458ms/step - loss: 0.0087 - categorical_accuracy: 0.9190 - val_loss: 7.8992 - val_categorical_accuracy: 0.4873\n",
      "Epoch 98/300\n",
      "303/303 [==============================] - ETA: 0s - loss: 0.0073 - categorical_accuracy: 0.9181\n",
      "Epoch 00098: val_categorical_accuracy did not improve from 0.48896\n",
      "303/303 [==============================] - 138s 457ms/step - loss: 0.0073 - categorical_accuracy: 0.9181 - val_loss: 7.9989 - val_categorical_accuracy: 0.4815\n",
      "Epoch 99/300\n",
      "303/303 [==============================] - ETA: 0s - loss: 0.0073 - categorical_accuracy: 0.9176\n",
      "Epoch 00099: val_categorical_accuracy did not improve from 0.48896\n",
      "\n",
      "Epoch 00099: ReduceLROnPlateau reducing learning rate to 2.519423724152148e-05.\n",
      "303/303 [==============================] - 139s 460ms/step - loss: 0.0073 - categorical_accuracy: 0.9176 - val_loss: 8.1025 - val_categorical_accuracy: 0.4840\n",
      "Epoch 100/300\n",
      "303/303 [==============================] - ETA: 0s - loss: 0.0071 - categorical_accuracy: 0.9142\n",
      "Epoch 00100: val_categorical_accuracy did not improve from 0.48896\n",
      "303/303 [==============================] - 139s 458ms/step - loss: 0.0071 - categorical_accuracy: 0.9142 - val_loss: 8.0562 - val_categorical_accuracy: 0.4829\n",
      "Epoch 101/300\n",
      "303/303 [==============================] - ETA: 0s - loss: 0.0067 - categorical_accuracy: 0.9131\n",
      "Epoch 00101: val_categorical_accuracy did not improve from 0.48896\n",
      "303/303 [==============================] - 140s 462ms/step - loss: 0.0067 - categorical_accuracy: 0.9131 - val_loss: 8.0232 - val_categorical_accuracy: 0.4835\n",
      "Epoch 102/300\n",
      "303/303 [==============================] - ETA: 0s - loss: 0.0066 - categorical_accuracy: 0.9143\n",
      "Epoch 00102: val_categorical_accuracy did not improve from 0.48896\n",
      "303/303 [==============================] - 139s 460ms/step - loss: 0.0066 - categorical_accuracy: 0.9143 - val_loss: 7.9808 - val_categorical_accuracy: 0.4835\n",
      "Epoch 103/300\n",
      "303/303 [==============================] - ETA: 0s - loss: 0.0078 - categorical_accuracy: 0.9131\n",
      "Epoch 00103: val_categorical_accuracy did not improve from 0.48896\n",
      "303/303 [==============================] - 139s 458ms/step - loss: 0.0078 - categorical_accuracy: 0.9131 - val_loss: 8.0986 - val_categorical_accuracy: 0.4819\n",
      "Epoch 104/300\n",
      "303/303 [==============================] - ETA: 0s - loss: 0.0072 - categorical_accuracy: 0.9156\n",
      "Epoch 00104: val_categorical_accuracy did not improve from 0.48896\n",
      "303/303 [==============================] - 140s 461ms/step - loss: 0.0072 - categorical_accuracy: 0.9156 - val_loss: 8.0680 - val_categorical_accuracy: 0.4858\n",
      "Epoch 105/300\n",
      "303/303 [==============================] - ETA: 0s - loss: 0.0062 - categorical_accuracy: 0.9108\n",
      "Epoch 00105: val_categorical_accuracy did not improve from 0.48896\n",
      "\n",
      "Epoch 00105: ReduceLROnPlateau reducing learning rate to 1.511654190835543e-05.\n",
      "303/303 [==============================] - 138s 456ms/step - loss: 0.0062 - categorical_accuracy: 0.9108 - val_loss: 7.9328 - val_categorical_accuracy: 0.4846\n",
      "Epoch 106/300\n",
      "303/303 [==============================] - ETA: 0s - loss: 0.0053 - categorical_accuracy: 0.9129\n",
      "Epoch 00106: val_categorical_accuracy did not improve from 0.48896\n",
      "303/303 [==============================] - 138s 457ms/step - loss: 0.0053 - categorical_accuracy: 0.9129 - val_loss: 8.0111 - val_categorical_accuracy: 0.4856\n",
      "Epoch 107/300\n",
      "303/303 [==============================] - ETA: 0s - loss: 0.0061 - categorical_accuracy: 0.9136\n",
      "Epoch 00107: val_categorical_accuracy did not improve from 0.48896\n",
      "303/303 [==============================] - 137s 451ms/step - loss: 0.0061 - categorical_accuracy: 0.9136 - val_loss: 8.0640 - val_categorical_accuracy: 0.4877\n",
      "Epoch 108/300\n",
      "303/303 [==============================] - ETA: 0s - loss: 0.0051 - categorical_accuracy: 0.9145\n",
      "Epoch 00108: val_categorical_accuracy improved from 0.48896 to 0.48937, saving model to ResNetNoisyTotal.best_weights-128.hdf5\n",
      "303/303 [==============================] - 138s 456ms/step - loss: 0.0051 - categorical_accuracy: 0.9145 - val_loss: 8.1026 - val_categorical_accuracy: 0.4894\n",
      "Epoch 109/300\n",
      "303/303 [==============================] - ETA: 0s - loss: 0.0059 - categorical_accuracy: 0.9146\n",
      "Epoch 00109: val_categorical_accuracy did not improve from 0.48937\n",
      "303/303 [==============================] - 139s 457ms/step - loss: 0.0059 - categorical_accuracy: 0.9146 - val_loss: 8.2215 - val_categorical_accuracy: 0.4860\n",
      "Epoch 110/300\n",
      "303/303 [==============================] - ETA: 0s - loss: 0.0055 - categorical_accuracy: 0.9147\n",
      "Epoch 00110: val_categorical_accuracy did not improve from 0.48937\n",
      "303/303 [==============================] - 138s 455ms/step - loss: 0.0055 - categorical_accuracy: 0.9147 - val_loss: 8.1631 - val_categorical_accuracy: 0.4877\n",
      "Epoch 111/300\n",
      "303/303 [==============================] - ETA: 0s - loss: 0.0049 - categorical_accuracy: 0.9146\n",
      "Epoch 00111: val_categorical_accuracy did not improve from 0.48937\n",
      "303/303 [==============================] - 139s 458ms/step - loss: 0.0049 - categorical_accuracy: 0.9146 - val_loss: 8.1614 - val_categorical_accuracy: 0.4894\n",
      "Epoch 112/300\n",
      "303/303 [==============================] - ETA: 0s - loss: 0.0056 - categorical_accuracy: 0.9153\n",
      "Epoch 00112: val_categorical_accuracy improved from 0.48937 to 0.49187, saving model to ResNetNoisyTotal.best_weights-128.hdf5\n",
      "303/303 [==============================] - 140s 461ms/step - loss: 0.0056 - categorical_accuracy: 0.9153 - val_loss: 8.1834 - val_categorical_accuracy: 0.4919\n",
      "Epoch 113/300\n",
      "303/303 [==============================] - ETA: 0s - loss: 0.0054 - categorical_accuracy: 0.9165\n",
      "Epoch 00113: val_categorical_accuracy did not improve from 0.49187\n",
      "303/303 [==============================] - 139s 458ms/step - loss: 0.0054 - categorical_accuracy: 0.9165 - val_loss: 8.1715 - val_categorical_accuracy: 0.4910\n",
      "Epoch 114/300\n",
      "303/303 [==============================] - ETA: 0s - loss: 0.0057 - categorical_accuracy: 0.9152\n",
      "Epoch 00114: val_categorical_accuracy did not improve from 0.49187\n",
      "303/303 [==============================] - 139s 458ms/step - loss: 0.0057 - categorical_accuracy: 0.9152 - val_loss: 8.2102 - val_categorical_accuracy: 0.4875\n",
      "Epoch 115/300\n",
      "303/303 [==============================] - ETA: 0s - loss: 0.0042 - categorical_accuracy: 0.9131\n",
      "Epoch 00115: val_categorical_accuracy did not improve from 0.49187\n",
      "303/303 [==============================] - 141s 466ms/step - loss: 0.0042 - categorical_accuracy: 0.9131 - val_loss: 8.2495 - val_categorical_accuracy: 0.4885\n",
      "Epoch 116/300\n",
      "303/303 [==============================] - ETA: 0s - loss: 0.0057 - categorical_accuracy: 0.9149\n",
      "Epoch 00116: val_categorical_accuracy did not improve from 0.49187\n",
      "303/303 [==============================] - 140s 461ms/step - loss: 0.0057 - categorical_accuracy: 0.9149 - val_loss: 8.1539 - val_categorical_accuracy: 0.4917\n",
      "Epoch 117/300\n",
      "303/303 [==============================] - ETA: 0s - loss: 0.0048 - categorical_accuracy: 0.9158\n",
      "Epoch 00117: val_categorical_accuracy did not improve from 0.49187\n",
      "303/303 [==============================] - 141s 464ms/step - loss: 0.0048 - categorical_accuracy: 0.9158 - val_loss: 8.1762 - val_categorical_accuracy: 0.4919\n",
      "Epoch 118/300\n",
      "303/303 [==============================] - ETA: 0s - loss: 0.0056 - categorical_accuracy: 0.9160\n",
      "Epoch 00118: val_categorical_accuracy did not improve from 0.49187\n",
      "\n",
      "Epoch 00118: ReduceLROnPlateau reducing learning rate to 9.069925363291987e-06.\n",
      "303/303 [==============================] - 141s 464ms/step - loss: 0.0056 - categorical_accuracy: 0.9160 - val_loss: 8.3270 - val_categorical_accuracy: 0.4890\n",
      "Epoch 119/300\n",
      "303/303 [==============================] - ETA: 0s - loss: 0.0049 - categorical_accuracy: 0.9179\n",
      "Epoch 00119: val_categorical_accuracy did not improve from 0.49187\n",
      "303/303 [==============================] - 140s 462ms/step - loss: 0.0049 - categorical_accuracy: 0.9179 - val_loss: 8.2793 - val_categorical_accuracy: 0.4906\n",
      "Epoch 120/300\n",
      "303/303 [==============================] - ETA: 0s - loss: 0.0049 - categorical_accuracy: 0.9157\n",
      "Epoch 00120: val_categorical_accuracy did not improve from 0.49187\n",
      "303/303 [==============================] - 139s 460ms/step - loss: 0.0049 - categorical_accuracy: 0.9157 - val_loss: 8.2732 - val_categorical_accuracy: 0.4906\n",
      "Epoch 121/300\n",
      "303/303 [==============================] - ETA: 0s - loss: 0.0044 - categorical_accuracy: 0.9175\n",
      "Epoch 00121: val_categorical_accuracy did not improve from 0.49187\n",
      "303/303 [==============================] - 140s 462ms/step - loss: 0.0044 - categorical_accuracy: 0.9175 - val_loss: 8.2977 - val_categorical_accuracy: 0.4904\n",
      "Epoch 122/300\n",
      "303/303 [==============================] - ETA: 0s - loss: 0.0046 - categorical_accuracy: 0.9167\n",
      "Epoch 00122: val_categorical_accuracy did not improve from 0.49187\n",
      "303/303 [==============================] - 139s 460ms/step - loss: 0.0046 - categorical_accuracy: 0.9167 - val_loss: 8.2319 - val_categorical_accuracy: 0.4908\n",
      "Epoch 123/300\n",
      "303/303 [==============================] - ETA: 0s - loss: 0.0044 - categorical_accuracy: 0.9147\n",
      "Epoch 00123: val_categorical_accuracy did not improve from 0.49187\n",
      "303/303 [==============================] - 141s 464ms/step - loss: 0.0044 - categorical_accuracy: 0.9147 - val_loss: 8.2338 - val_categorical_accuracy: 0.4908\n",
      "Epoch 124/300\n",
      "303/303 [==============================] - ETA: 0s - loss: 0.0049 - categorical_accuracy: 0.9163\n",
      "Epoch 00124: val_categorical_accuracy improved from 0.49187 to 0.49396, saving model to ResNetNoisyTotal.best_weights-128.hdf5\n",
      "303/303 [==============================] - 140s 461ms/step - loss: 0.0049 - categorical_accuracy: 0.9163 - val_loss: 8.2031 - val_categorical_accuracy: 0.4940\n",
      "Epoch 125/300\n",
      "303/303 [==============================] - ETA: 0s - loss: 0.0046 - categorical_accuracy: 0.9150\n",
      "Epoch 00125: val_categorical_accuracy did not improve from 0.49396\n",
      "303/303 [==============================] - 139s 457ms/step - loss: 0.0046 - categorical_accuracy: 0.9150 - val_loss: 8.2744 - val_categorical_accuracy: 0.4906\n",
      "Epoch 126/300\n",
      "303/303 [==============================] - ETA: 0s - loss: 0.0043 - categorical_accuracy: 0.9179\n",
      "Epoch 00126: val_categorical_accuracy did not improve from 0.49396\n",
      "303/303 [==============================] - 139s 460ms/step - loss: 0.0043 - categorical_accuracy: 0.9179 - val_loss: 8.2956 - val_categorical_accuracy: 0.4898\n",
      "Epoch 127/300\n",
      "303/303 [==============================] - ETA: 0s - loss: 0.0039 - categorical_accuracy: 0.9168\n",
      "Epoch 00127: val_categorical_accuracy did not improve from 0.49396\n",
      "303/303 [==============================] - 140s 461ms/step - loss: 0.0039 - categorical_accuracy: 0.9168 - val_loss: 8.3229 - val_categorical_accuracy: 0.4910\n",
      "Epoch 128/300\n",
      "303/303 [==============================] - ETA: 0s - loss: 0.0044 - categorical_accuracy: 0.9163\n",
      "Epoch 00128: val_categorical_accuracy did not improve from 0.49396\n",
      "303/303 [==============================] - 139s 459ms/step - loss: 0.0044 - categorical_accuracy: 0.9163 - val_loss: 8.3334 - val_categorical_accuracy: 0.4913\n",
      "Epoch 129/300\n",
      "303/303 [==============================] - ETA: 0s - loss: 0.0046 - categorical_accuracy: 0.9183\n",
      "Epoch 00129: val_categorical_accuracy did not improve from 0.49396\n",
      "303/303 [==============================] - 138s 456ms/step - loss: 0.0046 - categorical_accuracy: 0.9183 - val_loss: 8.3480 - val_categorical_accuracy: 0.4904\n",
      "Epoch 130/300\n",
      "303/303 [==============================] - ETA: 0s - loss: 0.0034 - categorical_accuracy: 0.9140\n",
      "Epoch 00130: val_categorical_accuracy did not improve from 0.49396\n",
      "\n",
      "Epoch 00130: ReduceLROnPlateau reducing learning rate to 5.441954999696463e-06.\n",
      "303/303 [==============================] - 140s 461ms/step - loss: 0.0034 - categorical_accuracy: 0.9140 - val_loss: 8.3758 - val_categorical_accuracy: 0.4921\n",
      "Epoch 131/300\n",
      "303/303 [==============================] - ETA: 0s - loss: 0.0038 - categorical_accuracy: 0.9159\n",
      "Epoch 00131: val_categorical_accuracy did not improve from 0.49396\n",
      "303/303 [==============================] - 137s 453ms/step - loss: 0.0038 - categorical_accuracy: 0.9159 - val_loss: 8.4169 - val_categorical_accuracy: 0.4921\n",
      "Epoch 132/300\n",
      "303/303 [==============================] - ETA: 0s - loss: 0.0042 - categorical_accuracy: 0.9156\n",
      "Epoch 00132: val_categorical_accuracy did not improve from 0.49396\n",
      "303/303 [==============================] - 138s 456ms/step - loss: 0.0042 - categorical_accuracy: 0.9156 - val_loss: 8.4599 - val_categorical_accuracy: 0.4925\n",
      "Epoch 133/300\n",
      "303/303 [==============================] - ETA: 0s - loss: 0.0036 - categorical_accuracy: 0.9173\n",
      "Epoch 00133: val_categorical_accuracy did not improve from 0.49396\n",
      "303/303 [==============================] - 138s 456ms/step - loss: 0.0036 - categorical_accuracy: 0.9173 - val_loss: 8.4007 - val_categorical_accuracy: 0.4894\n",
      "Epoch 134/300\n",
      "303/303 [==============================] - ETA: 0s - loss: 0.0040 - categorical_accuracy: 0.9162\n",
      "Epoch 00134: val_categorical_accuracy did not improve from 0.49396\n",
      "303/303 [==============================] - 138s 456ms/step - loss: 0.0040 - categorical_accuracy: 0.9162 - val_loss: 8.3780 - val_categorical_accuracy: 0.4921\n",
      "Epoch 135/300\n",
      "303/303 [==============================] - ETA: 0s - loss: 0.0040 - categorical_accuracy: 0.9151\n",
      "Epoch 00135: val_categorical_accuracy did not improve from 0.49396\n",
      "303/303 [==============================] - 138s 456ms/step - loss: 0.0040 - categorical_accuracy: 0.9151 - val_loss: 8.3567 - val_categorical_accuracy: 0.4915\n",
      "Epoch 136/300\n",
      "303/303 [==============================] - ETA: 0s - loss: 0.0044 - categorical_accuracy: 0.9160\n",
      "Epoch 00136: val_categorical_accuracy did not improve from 0.49396\n",
      "\n",
      "Epoch 00136: ReduceLROnPlateau reducing learning rate to 3.265173108957242e-06.\n",
      "303/303 [==============================] - 138s 455ms/step - loss: 0.0044 - categorical_accuracy: 0.9160 - val_loss: 8.3511 - val_categorical_accuracy: 0.4913\n",
      "Epoch 137/300\n",
      "303/303 [==============================] - ETA: 0s - loss: 0.0044 - categorical_accuracy: 0.9153\n",
      "Epoch 00137: val_categorical_accuracy did not improve from 0.49396\n",
      "303/303 [==============================] - 139s 459ms/step - loss: 0.0044 - categorical_accuracy: 0.9153 - val_loss: 8.4020 - val_categorical_accuracy: 0.4906\n",
      "Epoch 138/300\n",
      "303/303 [==============================] - ETA: 0s - loss: 0.0045 - categorical_accuracy: 0.9158\n",
      "Epoch 00138: val_categorical_accuracy did not improve from 0.49396\n",
      "303/303 [==============================] - 138s 457ms/step - loss: 0.0045 - categorical_accuracy: 0.9158 - val_loss: 8.3571 - val_categorical_accuracy: 0.4915\n",
      "Epoch 139/300\n",
      "303/303 [==============================] - ETA: 0s - loss: 0.0043 - categorical_accuracy: 0.9163\n",
      "Epoch 00139: val_categorical_accuracy did not improve from 0.49396\n",
      "303/303 [==============================] - 139s 459ms/step - loss: 0.0043 - categorical_accuracy: 0.9163 - val_loss: 8.4041 - val_categorical_accuracy: 0.4917\n",
      "Epoch 140/300\n",
      "303/303 [==============================] - ETA: 0s - loss: 0.0042 - categorical_accuracy: 0.9180\n",
      "Epoch 00140: val_categorical_accuracy did not improve from 0.49396\n",
      "303/303 [==============================] - 138s 457ms/step - loss: 0.0042 - categorical_accuracy: 0.9180 - val_loss: 8.3971 - val_categorical_accuracy: 0.4906\n",
      "Epoch 141/300\n",
      "303/303 [==============================] - ETA: 0s - loss: 0.0043 - categorical_accuracy: 0.9167\n",
      "Epoch 00141: val_categorical_accuracy did not improve from 0.49396\n",
      "303/303 [==============================] - 139s 460ms/step - loss: 0.0043 - categorical_accuracy: 0.9167 - val_loss: 8.4073 - val_categorical_accuracy: 0.4906\n",
      "Epoch 142/300\n",
      "303/303 [==============================] - ETA: 0s - loss: 0.0041 - categorical_accuracy: 0.9166\n",
      "Epoch 00142: val_categorical_accuracy did not improve from 0.49396\n",
      "\n",
      "Epoch 00142: ReduceLROnPlateau reducing learning rate to 1.959103838089504e-06.\n",
      "303/303 [==============================] - 138s 456ms/step - loss: 0.0041 - categorical_accuracy: 0.9166 - val_loss: 8.3176 - val_categorical_accuracy: 0.4927\n",
      "Epoch 143/300\n",
      "303/303 [==============================] - ETA: 0s - loss: 0.0040 - categorical_accuracy: 0.9156\n",
      "Epoch 00143: val_categorical_accuracy did not improve from 0.49396\n",
      "303/303 [==============================] - 140s 461ms/step - loss: 0.0040 - categorical_accuracy: 0.9156 - val_loss: 8.4120 - val_categorical_accuracy: 0.4927\n",
      "Epoch 144/300\n",
      "303/303 [==============================] - ETA: 0s - loss: 0.0040 - categorical_accuracy: 0.9159\n",
      "Epoch 00144: val_categorical_accuracy did not improve from 0.49396\n",
      "303/303 [==============================] - 138s 456ms/step - loss: 0.0040 - categorical_accuracy: 0.9159 - val_loss: 8.4140 - val_categorical_accuracy: 0.4913\n",
      "Epoch 145/300\n",
      "303/303 [==============================] - ETA: 0s - loss: 0.0035 - categorical_accuracy: 0.9164\n",
      "Epoch 00145: val_categorical_accuracy did not improve from 0.49396\n",
      "303/303 [==============================] - 138s 455ms/step - loss: 0.0035 - categorical_accuracy: 0.9164 - val_loss: 8.4056 - val_categorical_accuracy: 0.4917\n",
      "Epoch 146/300\n",
      "303/303 [==============================] - ETA: 0s - loss: 0.0040 - categorical_accuracy: 0.9145\n",
      "Epoch 00146: val_categorical_accuracy did not improve from 0.49396\n",
      "303/303 [==============================] - 140s 461ms/step - loss: 0.0040 - categorical_accuracy: 0.9145 - val_loss: 8.4307 - val_categorical_accuracy: 0.4915\n",
      "Epoch 147/300\n",
      "303/303 [==============================] - ETA: 0s - loss: 0.0033 - categorical_accuracy: 0.9159\n",
      "Epoch 00147: val_categorical_accuracy did not improve from 0.49396\n",
      "303/303 [==============================] - 138s 456ms/step - loss: 0.0033 - categorical_accuracy: 0.9159 - val_loss: 8.4608 - val_categorical_accuracy: 0.4906\n",
      "Epoch 148/300\n",
      "303/303 [==============================] - ETA: 0s - loss: 0.0042 - categorical_accuracy: 0.9154\n",
      "Epoch 00148: val_categorical_accuracy did not improve from 0.49396\n",
      "\n",
      "Epoch 00148: ReduceLROnPlateau reducing learning rate to 1.1754623301385436e-06.\n",
      "303/303 [==============================] - 138s 455ms/step - loss: 0.0042 - categorical_accuracy: 0.9154 - val_loss: 8.3904 - val_categorical_accuracy: 0.4919\n",
      "Epoch 149/300\n",
      "303/303 [==============================] - ETA: 0s - loss: 0.0040 - categorical_accuracy: 0.9153\n",
      "Epoch 00149: val_categorical_accuracy did not improve from 0.49396\n",
      "303/303 [==============================] - 135s 446ms/step - loss: 0.0040 - categorical_accuracy: 0.9153 - val_loss: 8.4025 - val_categorical_accuracy: 0.4927\n",
      "Epoch 150/300\n",
      "303/303 [==============================] - ETA: 0s - loss: 0.0037 - categorical_accuracy: 0.9173\n",
      "Epoch 00150: val_categorical_accuracy did not improve from 0.49396\n",
      "303/303 [==============================] - 132s 434ms/step - loss: 0.0037 - categorical_accuracy: 0.9173 - val_loss: 8.4400 - val_categorical_accuracy: 0.4921\n",
      "Epoch 151/300\n",
      "303/303 [==============================] - ETA: 0s - loss: 0.0035 - categorical_accuracy: 0.9137\n",
      "Epoch 00151: val_categorical_accuracy did not improve from 0.49396\n",
      "303/303 [==============================] - 138s 456ms/step - loss: 0.0035 - categorical_accuracy: 0.9137 - val_loss: 8.4029 - val_categorical_accuracy: 0.4919\n",
      "Epoch 152/300\n",
      "303/303 [==============================] - ETA: 0s - loss: 0.0036 - categorical_accuracy: 0.9156\n",
      "Epoch 00152: val_categorical_accuracy did not improve from 0.49396\n",
      "303/303 [==============================] - 140s 462ms/step - loss: 0.0036 - categorical_accuracy: 0.9156 - val_loss: 8.4145 - val_categorical_accuracy: 0.4921\n",
      "Epoch 153/300\n",
      "303/303 [==============================] - ETA: 0s - loss: 0.0041 - categorical_accuracy: 0.9143\n",
      "Epoch 00153: val_categorical_accuracy did not improve from 0.49396\n",
      "303/303 [==============================] - 140s 462ms/step - loss: 0.0041 - categorical_accuracy: 0.9143 - val_loss: 8.4327 - val_categorical_accuracy: 0.4904\n",
      "Epoch 154/300\n",
      "303/303 [==============================] - ETA: 0s - loss: 0.0040 - categorical_accuracy: 0.9149\n",
      "Epoch 00154: val_categorical_accuracy did not improve from 0.49396\n",
      "\n",
      "Epoch 00154: ReduceLROnPlateau reducing learning rate to 7.052773980831261e-07.\n",
      "303/303 [==============================] - 138s 457ms/step - loss: 0.0040 - categorical_accuracy: 0.9149 - val_loss: 8.4284 - val_categorical_accuracy: 0.4925\n",
      "Epoch 00154: early stopping\n"
     ]
    }
   ],
   "source": [
    "history=custom_densenet169_model.fit_generator(generator=train_generator,\n",
    "                    steps_per_epoch=STEP_SIZE_TRAIN,\n",
    "                    validation_data=valid_generator,\n",
    "                    validation_steps=STEP_SIZE_VALID,\n",
    "                    epochs=300,\n",
    "                    callbacks=callbacks_list\n",
    ")"
   ]
  },
  {
   "cell_type": "code",
   "execution_count": 27,
   "metadata": {
    "execution": {
     "iopub.execute_input": "2020-10-04T23:42:51.501531Z",
     "iopub.status.busy": "2020-10-04T23:42:51.500759Z",
     "iopub.status.idle": "2020-10-04T23:42:51.504855Z",
     "shell.execute_reply": "2020-10-04T23:42:51.505547Z"
    },
    "papermill": {
     "duration": 17.296946,
     "end_time": "2020-10-04T23:42:51.505728",
     "exception": false,
     "start_time": "2020-10-04T23:42:34.208782",
     "status": "completed"
    },
    "tags": []
   },
   "outputs": [],
   "source": [
    "#history.history"
   ]
  },
  {
   "cell_type": "code",
   "execution_count": 28,
   "metadata": {
    "execution": {
     "iopub.execute_input": "2020-10-04T23:43:24.115333Z",
     "iopub.status.busy": "2020-10-04T23:43:24.113879Z",
     "iopub.status.idle": "2020-10-04T23:43:24.347763Z",
     "shell.execute_reply": "2020-10-04T23:43:24.348702Z"
    },
    "papermill": {
     "duration": 16.472024,
     "end_time": "2020-10-04T23:43:24.348938",
     "exception": false,
     "start_time": "2020-10-04T23:43:07.876914",
     "status": "completed"
    },
    "tags": []
   },
   "outputs": [
    {
     "data": {
      "image/png": "[encoded data removed]",
      "text/plain": [
       "<Figure size 432x288 with 1 Axes>"
      ]
     },
     "metadata": {
      "needs_background": "light"
     },
     "output_type": "display_data"
    }
   ],
   "source": [
    "import matplotlib.pyplot as plt\n",
    "\n",
    "\n",
    "loss_train = history.history['loss']\n",
    "loss_val = history.history['val_loss']\n",
    "#epochs = np.range(1,1)\n",
    "plt.plot(loss_train, 'g', label='Training loss')\n",
    "plt.plot(loss_val, 'b', label='validation loss')\n",
    "plt.title('Training and Validation loss')\n",
    "plt.xlabel('Epochs')\n",
    "plt.ylabel('Loss')\n",
    "plt.legend()\n",
    "plt.show()"
   ]
  },
  {
   "cell_type": "code",
   "execution_count": 29,
   "metadata": {
    "execution": {
     "iopub.execute_input": "2020-10-04T23:43:58.092770Z",
     "iopub.status.busy": "2020-10-04T23:43:58.091742Z",
     "iopub.status.idle": "2020-10-04T23:43:58.266153Z",
     "shell.execute_reply": "2020-10-04T23:43:58.265647Z"
    },
    "papermill": {
     "duration": 16.935736,
     "end_time": "2020-10-04T23:43:58.266299",
     "exception": false,
     "start_time": "2020-10-04T23:43:41.330563",
     "status": "completed"
    },
    "tags": []
   },
   "outputs": [
    {
     "data": {
      "image/png": "[encoded data removed]",
      "text/plain": [
       "<Figure size 432x288 with 1 Axes>"
      ]
     },
     "metadata": {
      "needs_background": "light"
     },
     "output_type": "display_data"
    }
   ],
   "source": [
    "loss_train = history.history['categorical_accuracy']\n",
    "loss_val = history.history['val_categorical_accuracy']\n",
    "epochs = range(1,41)\n",
    "plt.plot(loss_train, 'g', label='Training accuracy')\n",
    "plt.plot(loss_val, 'b', label='validation accuracy')\n",
    "plt.title('Training and Validation accuracy')\n",
    "plt.xlabel('Epochs')\n",
    "plt.ylabel('Accuracy')\n",
    "plt.legend()\n",
    "plt.show()"
   ]
  },
  {
   "cell_type": "code",
   "execution_count": 30,
   "metadata": {
    "execution": {
     "iopub.execute_input": "2020-10-04T23:44:30.982638Z",
     "iopub.status.busy": "2020-10-04T23:44:30.981407Z",
     "iopub.status.idle": "2020-10-04T23:44:40.152218Z",
     "shell.execute_reply": "2020-10-04T23:44:40.151603Z"
    },
    "papermill": {
     "duration": 25.819507,
     "end_time": "2020-10-04T23:44:40.152362",
     "exception": false,
     "start_time": "2020-10-04T23:44:14.332855",
     "status": "completed"
    },
    "tags": []
   },
   "outputs": [
    {
     "name": "stdout",
     "output_type": "stream",
     "text": [
      "76/76 [==============================] - 8s 112ms/step\n"
     ]
    }
   ],
   "source": [
    "res = custom_densenet169_model.predict_generator(valid_generator, verbose=1)\n",
    "\n",
    "    "
   ]
  },
  {
   "cell_type": "code",
   "execution_count": 31,
   "metadata": {
    "execution": {
     "iopub.execute_input": "2020-10-04T23:45:13.114437Z",
     "iopub.status.busy": "2020-10-04T23:45:13.113012Z",
     "iopub.status.idle": "2020-10-04T23:45:27.436250Z",
     "shell.execute_reply": "2020-10-04T23:45:27.435712Z"
    },
    "papermill": {
     "duration": 30.665703,
     "end_time": "2020-10-04T23:45:27.436370",
     "exception": false,
     "start_time": "2020-10-04T23:44:56.770667",
     "status": "completed"
    },
    "tags": []
   },
   "outputs": [
    {
     "name": "stdout",
     "output_type": "stream",
     "text": [
      "95/95 [==============================] - 14s 144ms/step\n"
     ]
    }
   ],
   "source": [
    "test_generator.reset()\n",
    "res_test=custom_densenet169_model.predict_generator(test_generator,\n",
    "#steps=STEP_SIZE_TEST,\n",
    "verbose=1)"
   ]
  },
  {
   "cell_type": "code",
   "execution_count": 32,
   "metadata": {
    "execution": {
     "iopub.execute_input": "2020-10-04T23:46:01.011328Z",
     "iopub.status.busy": "2020-10-04T23:46:01.009851Z",
     "iopub.status.idle": "2020-10-04T23:46:09.119001Z",
     "shell.execute_reply": "2020-10-04T23:46:09.118475Z"
    },
    "papermill": {
     "duration": 24.79711,
     "end_time": "2020-10-04T23:46:09.119161",
     "exception": false,
     "start_time": "2020-10-04T23:45:44.322051",
     "status": "completed"
    },
    "tags": []
   },
   "outputs": [
    {
     "name": "stdout",
     "output_type": "stream",
     "text": [
      "76/76 [==============================] - 8s 103ms/step\n"
     ]
    }
   ],
   "source": [
    "valid_generator.reset()\n",
    "res_cv=custom_densenet169_model.predict_generator(valid_generator,\n",
    "#steps=STEP_SIZE_TEST,\n",
    "verbose=1)"
   ]
  },
  {
   "cell_type": "code",
   "execution_count": 33,
   "metadata": {
    "execution": {
     "iopub.execute_input": "2020-10-04T23:46:44.875447Z",
     "iopub.status.busy": "2020-10-04T23:46:44.874008Z",
     "iopub.status.idle": "2020-10-04T23:48:43.338324Z",
     "shell.execute_reply": "2020-10-04T23:48:43.337696Z"
    },
    "papermill": {
     "duration": 136.549901,
     "end_time": "2020-10-04T23:48:43.338460",
     "exception": false,
     "start_time": "2020-10-04T23:46:26.788559",
     "status": "completed"
    },
    "tags": []
   },
   "outputs": [
    {
     "name": "stdout",
     "output_type": "stream",
     "text": [
      "304/304 [==============================] - 118s 387ms/step\n"
     ]
    }
   ],
   "source": [
    "train_generator.reset()\n",
    "res_train=custom_densenet169_model.predict_generator(train_generator,\n",
    "#steps=STEP_SIZE_TEST,\n",
    "verbose=1)"
   ]
  },
  {
   "cell_type": "code",
   "execution_count": 34,
   "metadata": {
    "execution": {
     "iopub.execute_input": "2020-10-04T23:49:17.263997Z",
     "iopub.status.busy": "2020-10-04T23:49:17.263109Z",
     "iopub.status.idle": "2020-10-04T23:49:17.266448Z",
     "shell.execute_reply": "2020-10-04T23:49:17.267148Z"
    },
    "papermill": {
     "duration": 16.903522,
     "end_time": "2020-10-04T23:49:17.267315",
     "exception": false,
     "start_time": "2020-10-04T23:49:00.363793",
     "status": "completed"
    },
    "tags": []
   },
   "outputs": [
    {
     "data": {
      "text/plain": [
       "(6078, 80)"
      ]
     },
     "execution_count": 34,
     "metadata": {},
     "output_type": "execute_result"
    }
   ],
   "source": [
    "res_test.shape"
   ]
  },
  {
   "cell_type": "code",
   "execution_count": 35,
   "metadata": {
    "execution": {
     "iopub.execute_input": "2020-10-04T23:49:51.559374Z",
     "iopub.status.busy": "2020-10-04T23:49:51.558418Z",
     "iopub.status.idle": "2020-10-04T23:49:51.830128Z",
     "shell.execute_reply": "2020-10-04T23:49:51.829361Z"
    },
    "papermill": {
     "duration": 17.39195,
     "end_time": "2020-10-04T23:49:51.830256",
     "exception": false,
     "start_time": "2020-10-04T23:49:34.438306",
     "status": "completed"
    },
    "tags": []
   },
   "outputs": [],
   "source": [
    "# Converting taget and identity columns to booleans\n",
    "\n",
    "target_columns=list(trainmultidf.columns)[:-1]\n",
    "\n",
    "def convert_to_bool(df, col_name):\n",
    "    df[col_name] = np.where(df[col_name] >= 0.5, True, False)\n",
    "    \n",
    "def convert_dataframe_to_bool(df):\n",
    "    bool_df = df.copy()\n",
    "    for col in target_columns:\n",
    "        convert_to_bool(bool_df, col)\n",
    "    return bool_df\n",
    "\n",
    "test_bool = convert_dataframe_to_bool(testmultidf) \n",
    "test_lable_bool=test_bool[list(test_bool.columns)[:-1]].to_numpy()\n",
    "\n",
    "train_bool = convert_dataframe_to_bool(trainmultidf) \n",
    "train_lable_bool=train_bool[list(train_bool.columns)[:-1]].to_numpy()\n",
    "\n",
    "cv_bool = convert_dataframe_to_bool(cvmultidf) \n",
    "cv_lable_bool=cv_bool[list(cv_bool.columns)[:-1]].to_numpy()"
   ]
  },
  {
   "cell_type": "code",
   "execution_count": 36,
   "metadata": {
    "execution": {
     "iopub.execute_input": "2020-10-04T23:50:25.379386Z",
     "iopub.status.busy": "2020-10-04T23:50:25.378450Z",
     "iopub.status.idle": "2020-10-04T23:50:25.381499Z",
     "shell.execute_reply": "2020-10-04T23:50:25.382069Z"
    },
    "papermill": {
     "duration": 16.825097,
     "end_time": "2020-10-04T23:50:25.382241",
     "exception": false,
     "start_time": "2020-10-04T23:50:08.557144",
     "status": "completed"
    },
    "tags": []
   },
   "outputs": [
    {
     "data": {
      "text/plain": [
       "(4862, 80)"
      ]
     },
     "execution_count": 36,
     "metadata": {},
     "output_type": "execute_result"
    }
   ],
   "source": [
    "cv_lable_bool.shape"
   ]
  },
  {
   "cell_type": "markdown",
   "metadata": {
    "papermill": {
     "duration": 17.018794,
     "end_time": "2020-10-04T23:50:59.727279",
     "exception": false,
     "start_time": "2020-10-04T23:50:42.708485",
     "status": "completed"
    },
    "tags": []
   },
   "source": [
    "# Evaluation Metric"
   ]
  },
  {
   "cell_type": "code",
   "execution_count": 37,
   "metadata": {
    "execution": {
     "iopub.execute_input": "2020-10-04T23:51:33.082123Z",
     "iopub.status.busy": "2020-10-04T23:51:33.080522Z",
     "iopub.status.idle": "2020-10-04T23:51:33.082814Z",
     "shell.execute_reply": "2020-10-04T23:51:33.083325Z"
    },
    "papermill": {
     "duration": 16.608409,
     "end_time": "2020-10-04T23:51:33.083458",
     "exception": false,
     "start_time": "2020-10-04T23:51:16.475049",
     "status": "completed"
    },
    "tags": []
   },
   "outputs": [],
   "source": [
    "import numpy as np\n",
    "import sklearn.metrics"
   ]
  },
  {
   "cell_type": "code",
   "execution_count": 38,
   "metadata": {
    "execution": {
     "iopub.execute_input": "2020-10-04T23:52:07.613794Z",
     "iopub.status.busy": "2020-10-04T23:52:07.611870Z",
     "iopub.status.idle": "2020-10-04T23:52:07.614517Z",
     "shell.execute_reply": "2020-10-04T23:52:07.614981Z"
    },
    "papermill": {
     "duration": 16.404318,
     "end_time": "2020-10-04T23:52:07.615122",
     "exception": false,
     "start_time": "2020-10-04T23:51:51.210804",
     "status": "completed"
    },
    "tags": []
   },
   "outputs": [],
   "source": [
    "# Core calculation of label precisions for one test sample.\n",
    "\n",
    "def _one_sample_positive_class_precisions(scores, truth):\n",
    "  \"\"\"Calculate precisions for each true class for a single sample.\n",
    "  \n",
    "  Args:\n",
    "    scores: np.array of (num_classes,) giving the individual classifier scores.\n",
    "    truth: np.array of (num_classes,) bools indicating which classes are true.\n",
    "\n",
    "  Returns:\n",
    "    pos_class_indices: np.array of indices of the true classes for this sample.\n",
    "    pos_class_precisions: np.array of precisions corresponding to each of those\n",
    "      classes.\n",
    "  \"\"\"\n",
    "  num_classes = scores.shape[0]\n",
    "  pos_class_indices = np.flatnonzero(truth > 0)\n",
    "  # Only calculate precisions if there are some true classes.\n",
    "  if not len(pos_class_indices):\n",
    "    return pos_class_indices, np.zeros(0)\n",
    "  # Retrieval list of classes for this sample. \n",
    "  retrieved_classes = np.argsort(scores)[::-1]\n",
    "  # class_rankings[top_scoring_class_index] == 0 etc.\n",
    "  class_rankings = np.zeros(num_classes, dtype=np.int)\n",
    "  class_rankings[retrieved_classes] = range(num_classes)\n",
    "  # Which of these is a true label?\n",
    "  retrieved_class_true = np.zeros(num_classes, dtype=np.bool)\n",
    "  retrieved_class_true[class_rankings[pos_class_indices]] = True\n",
    "  # Num hits for every truncated retrieval list.\n",
    "  retrieved_cumulative_hits = np.cumsum(retrieved_class_true)\n",
    "  # Precision of retrieval list truncated at each hit, in order of pos_labels.\n",
    "  precision_at_hits = (\n",
    "      retrieved_cumulative_hits[class_rankings[pos_class_indices]] / \n",
    "      (1 + class_rankings[pos_class_indices].astype(np.float)))\n",
    "  return pos_class_indices, precision_at_hits\n"
   ]
  },
  {
   "cell_type": "code",
   "execution_count": 39,
   "metadata": {
    "execution": {
     "iopub.execute_input": "2020-10-04T23:52:41.873053Z",
     "iopub.status.busy": "2020-10-04T23:52:41.871036Z",
     "iopub.status.idle": "2020-10-04T23:52:41.873720Z",
     "shell.execute_reply": "2020-10-04T23:52:41.874208Z"
    },
    "papermill": {
     "duration": 17.139932,
     "end_time": "2020-10-04T23:52:41.874343",
     "exception": false,
     "start_time": "2020-10-04T23:52:24.734411",
     "status": "completed"
    },
    "tags": []
   },
   "outputs": [],
   "source": [
    "# All-in-one calculation of per-class lwlrap.\n",
    "\n",
    "def calculate_per_class_lwlrap(truth, scores):\n",
    "  \"\"\"Calculate label-weighted label-ranking average precision.\n",
    "  \n",
    "  Arguments:\n",
    "    truth: np.array of (num_samples, num_classes) giving boolean ground-truth\n",
    "      of presence of that class in that sample.\n",
    "    scores: np.array of (num_samples, num_classes) giving the classifier-under-\n",
    "      test's real-valued score for each class for each sample.\n",
    "  \n",
    "  Returns:\n",
    "    per_class_lwlrap: np.array of (num_classes,) giving the lwlrap for each \n",
    "      class.\n",
    "    weight_per_class: np.array of (num_classes,) giving the prior of each \n",
    "      class within the truth labels.  Then the overall unbalanced lwlrap is \n",
    "      simply np.sum(per_class_lwlrap * weight_per_class)\n",
    "  \"\"\"\n",
    "  assert truth.shape == scores.shape\n",
    "  num_samples, num_classes = scores.shape\n",
    "  # Space to store a distinct precision value for each class on each sample.\n",
    "  # Only the classes that are true for each sample will be filled in.\n",
    "  precisions_for_samples_by_classes = np.zeros((num_samples, num_classes))\n",
    "  for sample_num in range(num_samples):\n",
    "    pos_class_indices, precision_at_hits = (\n",
    "      _one_sample_positive_class_precisions(scores[sample_num, :], \n",
    "                                            truth[sample_num, :]))\n",
    "    precisions_for_samples_by_classes[sample_num, pos_class_indices] = (\n",
    "        precision_at_hits)\n",
    "  labels_per_class = np.sum(truth > 0, axis=0)\n",
    "  weight_per_class = labels_per_class / float(np.sum(labels_per_class))\n",
    "  # Form average of each column, i.e. all the precisions assigned to labels in\n",
    "  # a particular class.\n",
    "  per_class_lwlrap = (np.sum(precisions_for_samples_by_classes, axis=0) / \n",
    "                      np.maximum(1, labels_per_class))\n",
    "  # overall_lwlrap = simple average of all the actual per-class, per-sample precisions\n",
    "  #                = np.sum(precisions_for_samples_by_classes) / np.sum(precisions_for_samples_by_classes > 0)\n",
    "  #           also = weighted mean of per-class lwlraps, weighted by class label prior across samples\n",
    "  #                = np.sum(per_class_lwlrap * weight_per_class)\n",
    "  return per_class_lwlrap, weight_per_class"
   ]
  },
  {
   "cell_type": "code",
   "execution_count": 40,
   "metadata": {
    "execution": {
     "iopub.execute_input": "2020-10-04T23:53:16.008829Z",
     "iopub.status.busy": "2020-10-04T23:53:16.007721Z",
     "iopub.status.idle": "2020-10-04T23:53:16.010466Z",
     "shell.execute_reply": "2020-10-04T23:53:16.011146Z"
    },
    "papermill": {
     "duration": 16.944748,
     "end_time": "2020-10-04T23:53:16.011296",
     "exception": false,
     "start_time": "2020-10-04T23:52:59.066548",
     "status": "completed"
    },
    "tags": []
   },
   "outputs": [],
   "source": [
    "# Calculate the overall lwlrap using sklearn.metrics function.\n",
    "\n",
    "def calculate_overall_lwlrap_sklearn(truth, scores):\n",
    "  \"\"\"Calculate the overall lwlrap using sklearn.metrics.lrap.\"\"\"\n",
    "  # sklearn doesn't correctly apply weighting to samples with no labels, so just skip them.\n",
    "  sample_weight = np.sum(truth > 0, axis=1)\n",
    "  nonzero_weight_sample_indices = np.flatnonzero(sample_weight > 0)\n",
    "  overall_lwlrap = sklearn.metrics.label_ranking_average_precision_score(\n",
    "      truth[nonzero_weight_sample_indices, :] > 0, \n",
    "      scores[nonzero_weight_sample_indices, :], \n",
    "      sample_weight=sample_weight[nonzero_weight_sample_indices])\n",
    "  return overall_lwlrap"
   ]
  },
  {
   "cell_type": "code",
   "execution_count": 41,
   "metadata": {
    "execution": {
     "iopub.execute_input": "2020-10-04T23:53:50.485919Z",
     "iopub.status.busy": "2020-10-04T23:53:50.484946Z",
     "iopub.status.idle": "2020-10-04T23:53:50.487762Z",
     "shell.execute_reply": "2020-10-04T23:53:50.487291Z"
    },
    "papermill": {
     "duration": 17.589181,
     "end_time": "2020-10-04T23:53:50.487866",
     "exception": false,
     "start_time": "2020-10-04T23:53:32.898685",
     "status": "completed"
    },
    "tags": []
   },
   "outputs": [],
   "source": [
    "# Accumulator object version.\n",
    "\n",
    "class lwlrap_accumulator(object):\n",
    "  \"\"\"Accumulate batches of test samples into per-class and overall lwlrap.\"\"\"  \n",
    "\n",
    "  def __init__(self):\n",
    "    self.num_classes = 0\n",
    "    self.total_num_samples = 0\n",
    "  \n",
    "  def accumulate_samples(self, batch_truth, batch_scores):\n",
    "    \"\"\"Cumulate a new batch of samples into the metric.\n",
    "    \n",
    "    Args:\n",
    "      truth: np.array of (num_samples, num_classes) giving boolean\n",
    "        ground-truth of presence of that class in that sample for this batch.\n",
    "      scores: np.array of (num_samples, num_classes) giving the \n",
    "        classifier-under-test's real-valued score for each class for each\n",
    "        sample.\n",
    "    \"\"\"\n",
    "    assert batch_scores.shape == batch_truth.shape\n",
    "    num_samples, num_classes = batch_truth.shape\n",
    "    if not self.num_classes:\n",
    "      self.num_classes = num_classes\n",
    "      self._per_class_cumulative_precision = np.zeros(self.num_classes)\n",
    "      self._per_class_cumulative_count = np.zeros(self.num_classes, \n",
    "                                                  dtype=np.int)\n",
    "    assert num_classes == self.num_classes\n",
    "    for truth, scores in zip(batch_truth, batch_scores):\n",
    "      pos_class_indices, precision_at_hits = (\n",
    "        _one_sample_positive_class_precisions(scores, truth))\n",
    "      self._per_class_cumulative_precision[pos_class_indices] += (\n",
    "        precision_at_hits)\n",
    "      self._per_class_cumulative_count[pos_class_indices] += 1\n",
    "    self.total_num_samples += num_samples\n",
    "\n",
    "  def per_class_lwlrap(self):\n",
    "    \"\"\"Return a vector of the per-class lwlraps for the accumulated samples.\"\"\"\n",
    "    return (self._per_class_cumulative_precision / \n",
    "            np.maximum(1, self._per_class_cumulative_count))\n",
    "\n",
    "  def per_class_weight(self):\n",
    "    \"\"\"Return a normalized weight vector for the contributions of each class.\"\"\"\n",
    "    return (self._per_class_cumulative_count / \n",
    "            float(np.sum(self._per_class_cumulative_count)))\n",
    "\n",
    "  def overall_lwlrap(self):\n",
    "    \"\"\"Return the scalar overall lwlrap for cumulated samples.\"\"\"\n",
    "    return np.sum(self.per_class_lwlrap() * self.per_class_weight())"
   ]
  },
  {
   "cell_type": "code",
   "execution_count": 42,
   "metadata": {
    "execution": {
     "iopub.execute_input": "2020-10-04T23:54:23.965570Z",
     "iopub.status.busy": "2020-10-04T23:54:23.964701Z",
     "iopub.status.idle": "2020-10-04T23:54:25.023422Z",
     "shell.execute_reply": "2020-10-04T23:54:25.021584Z"
    },
    "papermill": {
     "duration": 18.000191,
     "end_time": "2020-10-04T23:54:25.023603",
     "exception": false,
     "start_time": "2020-10-04T23:54:07.023412",
     "status": "completed"
    },
    "tags": []
   },
   "outputs": [
    {
     "name": "stdout",
     "output_type": "stream",
     "text": [
      "lwlrap from sklearn.metrics = 0.628707937381019\n"
     ]
    }
   ],
   "source": [
    "#https://www.kaggle.com/voglinio/keras-2d-model-5-fold-log-specgram-curated-only\n",
    "truth = test_lable_bool\n",
    "scores = res_test\n",
    "print(\"lwlrap from sklearn.metrics =\", calculate_overall_lwlrap_sklearn(truth, scores))"
   ]
  },
  {
   "cell_type": "code",
   "execution_count": 43,
   "metadata": {
    "execution": {
     "iopub.execute_input": "2020-10-04T23:54:59.247197Z",
     "iopub.status.busy": "2020-10-04T23:54:59.246083Z",
     "iopub.status.idle": "2020-10-04T23:55:01.869922Z",
     "shell.execute_reply": "2020-10-04T23:55:01.869086Z"
    },
    "papermill": {
     "duration": 19.71049,
     "end_time": "2020-10-04T23:55:01.870031",
     "exception": false,
     "start_time": "2020-10-04T23:54:42.159541",
     "status": "completed"
    },
    "tags": []
   },
   "outputs": [
    {
     "name": "stdout",
     "output_type": "stream",
     "text": [
      "lwlrap from sklearn.metrics = 0.9991618872893256\n"
     ]
    }
   ],
   "source": [
    "truth = train_lable_bool\n",
    "scores = res_train\n",
    "print(\"lwlrap from sklearn.metrics =\", calculate_overall_lwlrap_sklearn(truth, scores))"
   ]
  },
  {
   "cell_type": "code",
   "execution_count": 44,
   "metadata": {
    "execution": {
     "iopub.execute_input": "2020-10-04T23:55:36.168692Z",
     "iopub.status.busy": "2020-10-04T23:55:36.167603Z",
     "iopub.status.idle": "2020-10-04T23:55:36.840808Z",
     "shell.execute_reply": "2020-10-04T23:55:36.841341Z"
    },
    "papermill": {
     "duration": 18.571895,
     "end_time": "2020-10-04T23:55:36.841487",
     "exception": false,
     "start_time": "2020-10-04T23:55:18.269592",
     "status": "completed"
    },
    "tags": []
   },
   "outputs": [
    {
     "name": "stdout",
     "output_type": "stream",
     "text": [
      "lwlrap from sklearn.metrics = 0.6367549828556083\n"
     ]
    }
   ],
   "source": [
    "truth = cv_lable_bool\n",
    "scores = res_cv\n",
    "print(\"lwlrap from sklearn.metrics =\", calculate_overall_lwlrap_sklearn(truth, scores))"
   ]
  },
  {
   "cell_type": "markdown",
   "metadata": {
    "papermill": {
     "duration": 16.79572,
     "end_time": "2020-10-04T23:56:11.458350",
     "exception": false,
     "start_time": "2020-10-04T23:55:54.662630",
     "status": "completed"
    },
    "tags": []
   },
   "source": [
    "## SUBMISSION"
   ]
  },
  {
   "cell_type": "code",
   "execution_count": 45,
   "metadata": {
    "execution": {
     "iopub.execute_input": "2020-10-04T23:56:45.938793Z",
     "iopub.status.busy": "2020-10-04T23:56:45.938162Z",
     "iopub.status.idle": "2020-10-04T23:56:46.442638Z",
     "shell.execute_reply": "2020-10-04T23:56:46.443453Z"
    },
    "papermill": {
     "duration": 17.887848,
     "end_time": "2020-10-04T23:56:46.443609",
     "exception": false,
     "start_time": "2020-10-04T23:56:28.555761",
     "status": "completed"
    },
    "tags": []
   },
   "outputs": [
    {
     "name": "stdout",
     "output_type": "stream",
     "text": [
      "Found 3361 validated image filenames.\n"
     ]
    }
   ],
   "source": [
    "sub_dataframe = pd.DataFrame({'fname':os.listdir('../input/sc2-total-aug-noisy-data/sub2/sub2')})\n",
    "\n",
    "sub_datagen=ImageDataGenerator(rescale=1./255.)\n",
    "sub_generator=sub_datagen.flow_from_dataframe(\n",
    "    dataframe=sub_dataframe,\n",
    "    directory=\"../input/sc2-total-aug-noisy-data/sub2/sub2\",\n",
    "    x_col=\"fname\",\n",
    "    y_col=None,\n",
    "    batch_size=64,\n",
    "    seed=42,\n",
    "    shuffle=False,\n",
    "    class_mode=None,\n",
    "    target_size=(128,128))"
   ]
  },
  {
   "cell_type": "code",
   "execution_count": 46,
   "metadata": {
    "execution": {
     "iopub.execute_input": "2020-10-04T23:57:23.246468Z",
     "iopub.status.busy": "2020-10-04T23:57:23.244708Z",
     "iopub.status.idle": "2020-10-04T23:57:23.247161Z",
     "shell.execute_reply": "2020-10-04T23:57:23.247642Z"
    },
    "papermill": {
     "duration": 17.317079,
     "end_time": "2020-10-04T23:57:23.247765",
     "exception": false,
     "start_time": "2020-10-04T23:57:05.930686",
     "status": "completed"
    },
    "tags": []
   },
   "outputs": [],
   "source": [
    "STEP_SIZE_SUB=sub_generator.n//sub_generator.batch_size"
   ]
  },
  {
   "cell_type": "code",
   "execution_count": 47,
   "metadata": {
    "execution": {
     "iopub.execute_input": "2020-10-04T23:57:57.817139Z",
     "iopub.status.busy": "2020-10-04T23:57:57.815229Z",
     "iopub.status.idle": "2020-10-04T23:58:06.068615Z",
     "shell.execute_reply": "2020-10-04T23:58:06.067576Z"
    },
    "papermill": {
     "duration": 25.179248,
     "end_time": "2020-10-04T23:58:06.068755",
     "exception": false,
     "start_time": "2020-10-04T23:57:40.889507",
     "status": "completed"
    },
    "tags": []
   },
   "outputs": [
    {
     "name": "stdout",
     "output_type": "stream",
     "text": [
      "53/53 [==============================] - 8s 150ms/step\n"
     ]
    }
   ],
   "source": [
    "sub_generator.reset()\n",
    "res_sub=custom_densenet169_model.predict_generator(sub_generator,\n",
    "#steps=STEP_SIZE_TEST,\n",
    "verbose=1)"
   ]
  },
  {
   "cell_type": "code",
   "execution_count": 48,
   "metadata": {
    "execution": {
     "iopub.execute_input": "2020-10-04T23:58:41.081626Z",
     "iopub.status.busy": "2020-10-04T23:58:41.080797Z",
     "iopub.status.idle": "2020-10-04T23:58:41.084162Z",
     "shell.execute_reply": "2020-10-04T23:58:41.084660Z"
    },
    "papermill": {
     "duration": 17.992502,
     "end_time": "2020-10-04T23:58:41.084800",
     "exception": false,
     "start_time": "2020-10-04T23:58:23.092298",
     "status": "completed"
    },
    "tags": []
   },
   "outputs": [
    {
     "data": {
      "text/plain": [
       "(3361, 80)"
      ]
     },
     "execution_count": 48,
     "metadata": {},
     "output_type": "execute_result"
    }
   ],
   "source": [
    "res_sub.shape"
   ]
  },
  {
   "cell_type": "code",
   "execution_count": 49,
   "metadata": {
    "execution": {
     "iopub.execute_input": "2020-10-04T23:59:14.780791Z",
     "iopub.status.busy": "2020-10-04T23:59:14.779571Z",
     "iopub.status.idle": "2020-10-04T23:59:14.784080Z",
     "shell.execute_reply": "2020-10-04T23:59:14.783513Z"
    },
    "papermill": {
     "duration": 16.954386,
     "end_time": "2020-10-04T23:59:14.784199",
     "exception": false,
     "start_time": "2020-10-04T23:58:57.829813",
     "status": "completed"
    },
    "tags": []
   },
   "outputs": [],
   "source": [
    "submit_data=pd.DataFrame(res_sub.astype(\"float64\"), columns=list(mlb_train.classes_))"
   ]
  },
  {
   "cell_type": "code",
   "execution_count": 50,
   "metadata": {
    "execution": {
     "iopub.execute_input": "2020-10-04T23:59:49.522639Z",
     "iopub.status.busy": "2020-10-04T23:59:49.521719Z",
     "iopub.status.idle": "2020-10-04T23:59:49.560387Z",
     "shell.execute_reply": "2020-10-04T23:59:49.560963Z"
    },
    "papermill": {
     "duration": 18.068246,
     "end_time": "2020-10-04T23:59:49.561120",
     "exception": false,
     "start_time": "2020-10-04T23:59:31.492874",
     "status": "completed"
    },
    "tags": []
   },
   "outputs": [
    {
     "data": {
      "text/html": [
       "<div>\n",
       "<style scoped>\n",
       "    .dataframe tbody tr th:only-of-type {\n",
       "        vertical-align: middle;\n",
       "    }\n",
       "\n",
       "    .dataframe tbody tr th {\n",
       "        vertical-align: top;\n",
       "    }\n",
       "\n",
       "    .dataframe thead th {\n",
       "        text-align: right;\n",
       "    }\n",
       "</style>\n",
       "<table border=\"1\" class=\"dataframe\">\n",
       "  <thead>\n",
       "    <tr style=\"text-align: right;\">\n",
       "      <th></th>\n",
       "      <th>fname</th>\n",
       "      <th>Accelerating_and_revving_and_vroom</th>\n",
       "      <th>Accordion</th>\n",
       "      <th>Acoustic_guitar</th>\n",
       "      <th>Applause</th>\n",
       "      <th>Bark</th>\n",
       "      <th>Bass_drum</th>\n",
       "      <th>Bass_guitar</th>\n",
       "      <th>Bathtub_(filling_or_washing)</th>\n",
       "      <th>Bicycle_bell</th>\n",
       "      <th>...</th>\n",
       "      <th>Toilet_flush</th>\n",
       "      <th>Traffic_noise_and_roadway_noise</th>\n",
       "      <th>Trickle_and_dribble</th>\n",
       "      <th>Walk_and_footsteps</th>\n",
       "      <th>Water_tap_and_faucet</th>\n",
       "      <th>Waves_and_surf</th>\n",
       "      <th>Whispering</th>\n",
       "      <th>Writing</th>\n",
       "      <th>Yell</th>\n",
       "      <th>Zipper_(clothing)</th>\n",
       "    </tr>\n",
       "  </thead>\n",
       "  <tbody>\n",
       "    <tr>\n",
       "      <th>0</th>\n",
       "      <td>dce682d5.wav</td>\n",
       "      <td>5.730987e-15</td>\n",
       "      <td>9.297583e-17</td>\n",
       "      <td>3.279241e-06</td>\n",
       "      <td>8.872753e-19</td>\n",
       "      <td>6.554262e-15</td>\n",
       "      <td>2.387395e-19</td>\n",
       "      <td>7.403584e-16</td>\n",
       "      <td>1.723197e-16</td>\n",
       "      <td>1.002512e-18</td>\n",
       "      <td>...</td>\n",
       "      <td>7.196863e-13</td>\n",
       "      <td>3.465371e-17</td>\n",
       "      <td>2.934479e-16</td>\n",
       "      <td>6.879211e-13</td>\n",
       "      <td>1.561486e-13</td>\n",
       "      <td>1.100793e-12</td>\n",
       "      <td>7.204430e-17</td>\n",
       "      <td>6.590480e-18</td>\n",
       "      <td>1.547443e-14</td>\n",
       "      <td>4.221208e-10</td>\n",
       "    </tr>\n",
       "    <tr>\n",
       "      <th>1</th>\n",
       "      <td>98b6c051.wav</td>\n",
       "      <td>5.662477e-20</td>\n",
       "      <td>1.435986e-13</td>\n",
       "      <td>1.553826e-14</td>\n",
       "      <td>1.375089e-18</td>\n",
       "      <td>6.786780e-14</td>\n",
       "      <td>2.554613e-15</td>\n",
       "      <td>2.712666e-16</td>\n",
       "      <td>3.253147e-11</td>\n",
       "      <td>1.248831e-19</td>\n",
       "      <td>...</td>\n",
       "      <td>3.010778e-13</td>\n",
       "      <td>4.566103e-14</td>\n",
       "      <td>3.962353e-16</td>\n",
       "      <td>8.873012e-14</td>\n",
       "      <td>2.995393e-09</td>\n",
       "      <td>9.360318e-14</td>\n",
       "      <td>1.277546e-09</td>\n",
       "      <td>4.165294e-14</td>\n",
       "      <td>3.220084e-14</td>\n",
       "      <td>6.793979e-11</td>\n",
       "    </tr>\n",
       "    <tr>\n",
       "      <th>2</th>\n",
       "      <td>8f3daeef.wav</td>\n",
       "      <td>8.970521e-21</td>\n",
       "      <td>2.089177e-16</td>\n",
       "      <td>2.977664e-11</td>\n",
       "      <td>1.570246e-16</td>\n",
       "      <td>2.276006e-11</td>\n",
       "      <td>3.062208e-16</td>\n",
       "      <td>6.863171e-09</td>\n",
       "      <td>1.577773e-12</td>\n",
       "      <td>6.111666e-07</td>\n",
       "      <td>...</td>\n",
       "      <td>3.268169e-17</td>\n",
       "      <td>1.138158e-13</td>\n",
       "      <td>3.499766e-13</td>\n",
       "      <td>3.267921e-16</td>\n",
       "      <td>2.931201e-16</td>\n",
       "      <td>2.962258e-13</td>\n",
       "      <td>1.885434e-10</td>\n",
       "      <td>1.725785e-09</td>\n",
       "      <td>2.752008e-19</td>\n",
       "      <td>7.757146e-15</td>\n",
       "    </tr>\n",
       "    <tr>\n",
       "      <th>3</th>\n",
       "      <td>6c1fb4b7.wav</td>\n",
       "      <td>4.763176e-12</td>\n",
       "      <td>1.619729e-13</td>\n",
       "      <td>1.035228e-13</td>\n",
       "      <td>7.678837e-10</td>\n",
       "      <td>9.903440e-09</td>\n",
       "      <td>1.715329e-14</td>\n",
       "      <td>2.763547e-20</td>\n",
       "      <td>4.212813e-20</td>\n",
       "      <td>5.449853e-12</td>\n",
       "      <td>...</td>\n",
       "      <td>1.095158e-18</td>\n",
       "      <td>3.601410e-17</td>\n",
       "      <td>1.280072e-14</td>\n",
       "      <td>1.005011e-09</td>\n",
       "      <td>9.354880e-13</td>\n",
       "      <td>4.078082e-14</td>\n",
       "      <td>7.287244e-16</td>\n",
       "      <td>3.909026e-24</td>\n",
       "      <td>1.904695e-22</td>\n",
       "      <td>5.269240e-19</td>\n",
       "    </tr>\n",
       "    <tr>\n",
       "      <th>4</th>\n",
       "      <td>762b355c.wav</td>\n",
       "      <td>2.077772e-16</td>\n",
       "      <td>4.470286e-14</td>\n",
       "      <td>1.947915e-11</td>\n",
       "      <td>1.084258e-13</td>\n",
       "      <td>6.309459e-20</td>\n",
       "      <td>1.629802e-19</td>\n",
       "      <td>1.517463e-19</td>\n",
       "      <td>5.275290e-13</td>\n",
       "      <td>9.267797e-18</td>\n",
       "      <td>...</td>\n",
       "      <td>2.302121e-13</td>\n",
       "      <td>8.410641e-22</td>\n",
       "      <td>9.339671e-17</td>\n",
       "      <td>1.109320e-17</td>\n",
       "      <td>7.253606e-15</td>\n",
       "      <td>6.002670e-14</td>\n",
       "      <td>2.870801e-17</td>\n",
       "      <td>9.908444e-17</td>\n",
       "      <td>4.233334e-14</td>\n",
       "      <td>3.803254e-16</td>\n",
       "    </tr>\n",
       "  </tbody>\n",
       "</table>\n",
       "<p>5 rows × 81 columns</p>\n",
       "</div>"
      ],
      "text/plain": [
       "          fname  Accelerating_and_revving_and_vroom     Accordion  \\\n",
       "0  dce682d5.wav                        5.730987e-15  9.297583e-17   \n",
       "1  98b6c051.wav                        5.662477e-20  1.435986e-13   \n",
       "2  8f3daeef.wav                        8.970521e-21  2.089177e-16   \n",
       "3  6c1fb4b7.wav                        4.763176e-12  1.619729e-13   \n",
       "4  762b355c.wav                        2.077772e-16  4.470286e-14   \n",
       "\n",
       "   Acoustic_guitar      Applause          Bark     Bass_drum   Bass_guitar  \\\n",
       "0     3.279241e-06  8.872753e-19  6.554262e-15  2.387395e-19  7.403584e-16   \n",
       "1     1.553826e-14  1.375089e-18  6.786780e-14  2.554613e-15  2.712666e-16   \n",
       "2     2.977664e-11  1.570246e-16  2.276006e-11  3.062208e-16  6.863171e-09   \n",
       "3     1.035228e-13  7.678837e-10  9.903440e-09  1.715329e-14  2.763547e-20   \n",
       "4     1.947915e-11  1.084258e-13  6.309459e-20  1.629802e-19  1.517463e-19   \n",
       "\n",
       "   Bathtub_(filling_or_washing)  Bicycle_bell  ...  Toilet_flush  \\\n",
       "0                  1.723197e-16  1.002512e-18  ...  7.196863e-13   \n",
       "1                  3.253147e-11  1.248831e-19  ...  3.010778e-13   \n",
       "2                  1.577773e-12  6.111666e-07  ...  3.268169e-17   \n",
       "3                  4.212813e-20  5.449853e-12  ...  1.095158e-18   \n",
       "4                  5.275290e-13  9.267797e-18  ...  2.302121e-13   \n",
       "\n",
       "   Traffic_noise_and_roadway_noise  Trickle_and_dribble  Walk_and_footsteps  \\\n",
       "0                     3.465371e-17         2.934479e-16        6.879211e-13   \n",
       "1                     4.566103e-14         3.962353e-16        8.873012e-14   \n",
       "2                     1.138158e-13         3.499766e-13        3.267921e-16   \n",
       "3                     3.601410e-17         1.280072e-14        1.005011e-09   \n",
       "4                     8.410641e-22         9.339671e-17        1.109320e-17   \n",
       "\n",
       "   Water_tap_and_faucet  Waves_and_surf    Whispering       Writing  \\\n",
       "0          1.561486e-13    1.100793e-12  7.204430e-17  6.590480e-18   \n",
       "1          2.995393e-09    9.360318e-14  1.277546e-09  4.165294e-14   \n",
       "2          2.931201e-16    2.962258e-13  1.885434e-10  1.725785e-09   \n",
       "3          9.354880e-13    4.078082e-14  7.287244e-16  3.909026e-24   \n",
       "4          7.253606e-15    6.002670e-14  2.870801e-17  9.908444e-17   \n",
       "\n",
       "           Yell  Zipper_(clothing)  \n",
       "0  1.547443e-14       4.221208e-10  \n",
       "1  3.220084e-14       6.793979e-11  \n",
       "2  2.752008e-19       7.757146e-15  \n",
       "3  1.904695e-22       5.269240e-19  \n",
       "4  4.233334e-14       3.803254e-16  \n",
       "\n",
       "[5 rows x 81 columns]"
      ]
     },
     "execution_count": 50,
     "metadata": {},
     "output_type": "execute_result"
    }
   ],
   "source": [
    "submit_data.insert(0, 'fname', os.listdir('../input/sc2-total-aug-noisy-data/sub2/sub2'))\n",
    "submit_data[\"fname\"]=submit_data[\"fname\"].apply(lambda x: x.split(\".\")[0]+\".wav\")\n",
    "submit_data.head()"
   ]
  },
  {
   "cell_type": "code",
   "execution_count": 51,
   "metadata": {
    "execution": {
     "iopub.execute_input": "2020-10-05T00:00:23.493447Z",
     "iopub.status.busy": "2020-10-05T00:00:23.492823Z",
     "iopub.status.idle": "2020-10-05T00:00:24.373682Z",
     "shell.execute_reply": "2020-10-05T00:00:24.372577Z"
    },
    "papermill": {
     "duration": 17.684695,
     "end_time": "2020-10-05T00:00:24.373810",
     "exception": false,
     "start_time": "2020-10-05T00:00:06.689115",
     "status": "completed"
    },
    "tags": []
   },
   "outputs": [],
   "source": [
    "submit_data.to_csv(\"submissionDenseNoisyCV_4.csv\",index=False )"
   ]
  },
  {
   "cell_type": "code",
   "execution_count": null,
   "metadata": {
    "papermill": {
     "duration": 16.677472,
     "end_time": "2020-10-05T00:00:58.558415",
     "exception": false,
     "start_time": "2020-10-05T00:00:41.880943",
     "status": "completed"
    },
    "tags": []
   },
   "outputs": [],
   "source": []
  }
 ],
 "metadata": {
  "kernelspec": {
   "display_name": "Python 3",
   "language": "python",
   "name": "python3"
  },
  "language_info": {
   "codemirror_mode": {
    "name": "ipython",
    "version": 3
   },
   "file_extension": ".py",
   "mimetype": "text/x-python",
   "name": "python",
   "nbconvert_exporter": "python",
   "pygments_lexer": "ipython3",
   "version": "3.7.6"
  },
  "papermill": {
   "duration": 22962.572894,
   "end_time": "2020-10-05T00:01:17.701721",
   "environment_variables": {},
   "exception": null,
   "input_path": "__notebook__.ipynb",
   "output_path": "__notebook__.ipynb",
   "parameters": {},
   "start_time": "2020-10-04T17:38:35.128827",
   "version": "2.1.0"
  }
 },
 "nbformat": 4,
 "nbformat_minor": 4
}
