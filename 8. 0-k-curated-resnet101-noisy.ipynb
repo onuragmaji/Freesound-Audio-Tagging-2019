{
 "cells": [
  {
   "cell_type": "code",
   "execution_count": 1,
   "metadata": {
    "_cell_guid": "b1076dfc-b9ad-4769-8c92-a6c4dae69d19",
    "_uuid": "8f2839f25d086af736a60e9eeb907d3b93b6e0e5",
    "execution": {
     "iopub.execute_input": "2020-10-05T03:10:45.372945Z",
     "iopub.status.busy": "2020-10-05T03:10:45.372046Z",
     "iopub.status.idle": "2020-10-05T03:10:45.374991Z",
     "shell.execute_reply": "2020-10-05T03:10:45.374430Z"
    },
    "papermill": {
     "duration": 0.055089,
     "end_time": "2020-10-05T03:10:45.375089",
     "exception": false,
     "start_time": "2020-10-05T03:10:45.320000",
     "status": "completed"
    },
    "tags": []
   },
   "outputs": [],
   "source": [
    "import numpy as np # linear algebra\n",
    "import pandas as pd # data processing, CSV file I/O (e.g. pd.read_csv)\n",
    "\n",
    "import os"
   ]
  },
  {
   "cell_type": "code",
   "execution_count": 2,
   "metadata": {
    "execution": {
     "iopub.execute_input": "2020-10-05T03:10:45.473495Z",
     "iopub.status.busy": "2020-10-05T03:10:45.472843Z",
     "iopub.status.idle": "2020-10-05T03:10:45.512654Z",
     "shell.execute_reply": "2020-10-05T03:10:45.512109Z"
    },
    "papermill": {
     "duration": 0.091859,
     "end_time": "2020-10-05T03:10:45.512763",
     "exception": false,
     "start_time": "2020-10-05T03:10:45.420904",
     "status": "completed"
    },
    "tags": []
   },
   "outputs": [],
   "source": [
    "traindf_noisy=pd.read_csv('../input/freesound-audio-tagging-2019/train_noisy.csv',dtype=str)\n",
    "\n",
    "traindf_curated=pd.read_csv('../input/freesound-audio-tagging-2019/train_curated.csv',dtype=str)"
   ]
  },
  {
   "cell_type": "code",
   "execution_count": 3,
   "metadata": {
    "execution": {
     "iopub.execute_input": "2020-10-05T03:10:45.615927Z",
     "iopub.status.busy": "2020-10-05T03:10:45.615326Z",
     "iopub.status.idle": "2020-10-05T03:10:45.622990Z",
     "shell.execute_reply": "2020-10-05T03:10:45.623585Z"
    },
    "papermill": {
     "duration": 0.065377,
     "end_time": "2020-10-05T03:10:45.623709",
     "exception": false,
     "start_time": "2020-10-05T03:10:45.558332",
     "status": "completed"
    },
    "tags": []
   },
   "outputs": [
    {
     "data": {
      "text/html": [
       "<div>\n",
       "<style scoped>\n",
       "    .dataframe tbody tr th:only-of-type {\n",
       "        vertical-align: middle;\n",
       "    }\n",
       "\n",
       "    .dataframe tbody tr th {\n",
       "        vertical-align: top;\n",
       "    }\n",
       "\n",
       "    .dataframe thead th {\n",
       "        text-align: right;\n",
       "    }\n",
       "</style>\n",
       "<table border=\"1\" class=\"dataframe\">\n",
       "  <thead>\n",
       "    <tr style=\"text-align: right;\">\n",
       "      <th></th>\n",
       "      <th>fname</th>\n",
       "      <th>labels</th>\n",
       "    </tr>\n",
       "  </thead>\n",
       "  <tbody>\n",
       "    <tr>\n",
       "      <th>0</th>\n",
       "      <td>00097e21.wav</td>\n",
       "      <td>Bathtub_(filling_or_washing)</td>\n",
       "    </tr>\n",
       "    <tr>\n",
       "      <th>1</th>\n",
       "      <td>000b6cfb.wav</td>\n",
       "      <td>Motorcycle</td>\n",
       "    </tr>\n",
       "    <tr>\n",
       "      <th>2</th>\n",
       "      <td>00116cd2.wav</td>\n",
       "      <td>Marimba_and_xylophone,Glockenspiel</td>\n",
       "    </tr>\n",
       "    <tr>\n",
       "      <th>3</th>\n",
       "      <td>00127d14.wav</td>\n",
       "      <td>Water_tap_and_faucet,Sink_(filling_or_washing)</td>\n",
       "    </tr>\n",
       "    <tr>\n",
       "      <th>4</th>\n",
       "      <td>0019adae.wav</td>\n",
       "      <td>Raindrop</td>\n",
       "    </tr>\n",
       "  </tbody>\n",
       "</table>\n",
       "</div>"
      ],
      "text/plain": [
       "          fname                                          labels\n",
       "0  00097e21.wav                    Bathtub_(filling_or_washing)\n",
       "1  000b6cfb.wav                                      Motorcycle\n",
       "2  00116cd2.wav              Marimba_and_xylophone,Glockenspiel\n",
       "3  00127d14.wav  Water_tap_and_faucet,Sink_(filling_or_washing)\n",
       "4  0019adae.wav                                        Raindrop"
      ]
     },
     "execution_count": 3,
     "metadata": {},
     "output_type": "execute_result"
    }
   ],
   "source": [
    "traindf_noisy.head()"
   ]
  },
  {
   "cell_type": "markdown",
   "metadata": {},
   "source": [
    "# Loading 0-K Fold Curated Train, CV and Test data"
   ]
  },
  {
   "cell_type": "code",
   "execution_count": 4,
   "metadata": {
    "execution": {
     "iopub.execute_input": "2020-10-05T03:10:45.728103Z",
     "iopub.status.busy": "2020-10-05T03:10:45.727483Z",
     "iopub.status.idle": "2020-10-05T03:10:45.745910Z",
     "shell.execute_reply": "2020-10-05T03:10:45.745442Z"
    },
    "papermill": {
     "duration": 0.076059,
     "end_time": "2020-10-05T03:10:45.746012",
     "exception": false,
     "start_time": "2020-10-05T03:10:45.669953",
     "status": "completed"
    },
    "tags": []
   },
   "outputs": [
    {
     "data": {
      "text/html": [
       "<div>\n",
       "<style scoped>\n",
       "    .dataframe tbody tr th:only-of-type {\n",
       "        vertical-align: middle;\n",
       "    }\n",
       "\n",
       "    .dataframe tbody tr th {\n",
       "        vertical-align: top;\n",
       "    }\n",
       "\n",
       "    .dataframe thead th {\n",
       "        text-align: right;\n",
       "    }\n",
       "</style>\n",
       "<table border=\"1\" class=\"dataframe\">\n",
       "  <thead>\n",
       "    <tr style=\"text-align: right;\">\n",
       "      <th></th>\n",
       "      <th>fname</th>\n",
       "      <th>labels</th>\n",
       "    </tr>\n",
       "  </thead>\n",
       "  <tbody>\n",
       "    <tr>\n",
       "      <th>0</th>\n",
       "      <td>d349d1c7_aug.jpg</td>\n",
       "      <td>Cutlery_and_silverware,Dishes_and_pots_and_pans</td>\n",
       "    </tr>\n",
       "    <tr>\n",
       "      <th>1</th>\n",
       "      <td>e1c41fe6_aug.jpg</td>\n",
       "      <td>Burping_and_eructation</td>\n",
       "    </tr>\n",
       "    <tr>\n",
       "      <th>2</th>\n",
       "      <td>d8b54599.jpg</td>\n",
       "      <td>Accelerating_and_revving_and_vroom</td>\n",
       "    </tr>\n",
       "    <tr>\n",
       "      <th>3</th>\n",
       "      <td>15d94574_aug.jpg</td>\n",
       "      <td>Mechanical_fan</td>\n",
       "    </tr>\n",
       "    <tr>\n",
       "      <th>4</th>\n",
       "      <td>05be25ad.jpg</td>\n",
       "      <td>Shatter</td>\n",
       "    </tr>\n",
       "  </tbody>\n",
       "</table>\n",
       "</div>"
      ],
      "text/plain": [
       "              fname                                           labels\n",
       "0  d349d1c7_aug.jpg  Cutlery_and_silverware,Dishes_and_pots_and_pans\n",
       "1  e1c41fe6_aug.jpg                           Burping_and_eructation\n",
       "2      d8b54599.jpg               Accelerating_and_revving_and_vroom\n",
       "3  15d94574_aug.jpg                                   Mechanical_fan\n",
       "4      05be25ad.jpg                                          Shatter"
      ]
     },
     "execution_count": 4,
     "metadata": {},
     "output_type": "execute_result"
    }
   ],
   "source": [
    "train_df = pd.read_csv(\"../input/sc2-total-aug-noisy-data/K_fold_data/K_fold_data/Curated/Curated_train_0.csv\")\n",
    "train_df.head()"
   ]
  },
  {
   "cell_type": "code",
   "execution_count": 5,
   "metadata": {
    "execution": {
     "iopub.execute_input": "2020-10-05T03:10:45.845077Z",
     "iopub.status.busy": "2020-10-05T03:10:45.844265Z",
     "iopub.status.idle": "2020-10-05T03:10:45.848034Z",
     "shell.execute_reply": "2020-10-05T03:10:45.847579Z"
    },
    "papermill": {
     "duration": 0.054802,
     "end_time": "2020-10-05T03:10:45.848129",
     "exception": false,
     "start_time": "2020-10-05T03:10:45.793327",
     "status": "completed"
    },
    "tags": []
   },
   "outputs": [
    {
     "data": {
      "text/plain": [
       "(6251, 2)"
      ]
     },
     "execution_count": 5,
     "metadata": {},
     "output_type": "execute_result"
    }
   ],
   "source": [
    "train_df.shape"
   ]
  },
  {
   "cell_type": "code",
   "execution_count": 6,
   "metadata": {
    "execution": {
     "iopub.execute_input": "2020-10-05T03:10:45.950971Z",
     "iopub.status.busy": "2020-10-05T03:10:45.949937Z",
     "iopub.status.idle": "2020-10-05T03:10:45.959699Z",
     "shell.execute_reply": "2020-10-05T03:10:45.959068Z"
    },
    "papermill": {
     "duration": 0.064222,
     "end_time": "2020-10-05T03:10:45.959812",
     "exception": false,
     "start_time": "2020-10-05T03:10:45.895590",
     "status": "completed"
    },
    "tags": []
   },
   "outputs": [
    {
     "data": {
      "text/plain": [
       "(1563, 2)"
      ]
     },
     "execution_count": 6,
     "metadata": {},
     "output_type": "execute_result"
    }
   ],
   "source": [
    "cv_df = pd.read_csv(\"../input/sc2-total-aug-noisy-data/K_fold_data/K_fold_data/Curated/Curated_cv_0.csv\")\n",
    "cv_df.shape"
   ]
  },
  {
   "cell_type": "code",
   "execution_count": 7,
   "metadata": {
    "execution": {
     "iopub.execute_input": "2020-10-05T03:10:46.066624Z",
     "iopub.status.busy": "2020-10-05T03:10:46.065728Z",
     "iopub.status.idle": "2020-10-05T03:10:46.074164Z",
     "shell.execute_reply": "2020-10-05T03:10:46.074729Z"
    },
    "papermill": {
     "duration": 0.062342,
     "end_time": "2020-10-05T03:10:46.074857",
     "exception": false,
     "start_time": "2020-10-05T03:10:46.012515",
     "status": "completed"
    },
    "tags": []
   },
   "outputs": [
    {
     "data": {
      "text/plain": [
       "(1380, 2)"
      ]
     },
     "execution_count": 7,
     "metadata": {},
     "output_type": "execute_result"
    }
   ],
   "source": [
    "    \n",
    "test_df = pd.read_csv(\"../input/sc2-total-aug-noisy-data/K_fold_data/K_fold_data/Curated/Curated_test.csv\") \n",
    "test_df.shape"
   ]
  },
  {
   "cell_type": "markdown",
   "metadata": {},
   "source": [
    "# Sklearn MultiLabelBinarizer to One-hot encode the multilablles"
   ]
  },
  {
   "cell_type": "code",
   "execution_count": 8,
   "metadata": {
    "execution": {
     "iopub.execute_input": "2020-10-05T03:10:46.182723Z",
     "iopub.status.busy": "2020-10-05T03:10:46.181903Z",
     "iopub.status.idle": "2020-10-05T03:10:47.040375Z",
     "shell.execute_reply": "2020-10-05T03:10:47.039731Z"
    },
    "papermill": {
     "duration": 0.914607,
     "end_time": "2020-10-05T03:10:47.040509",
     "exception": false,
     "start_time": "2020-10-05T03:10:46.125902",
     "status": "completed"
    },
    "tags": []
   },
   "outputs": [],
   "source": [
    "from sklearn.preprocessing import MultiLabelBinarizer\n",
    "\n",
    "mlb_train = MultiLabelBinarizer()\n",
    "\n",
    "\n",
    "labels_train = mlb_train.fit_transform([ i.split(\",\") for i in list(train_df[\"labels\"])])\n",
    "\n",
    "\n",
    "labels_test = mlb_train.transform([ i.split(\",\") for i in list(test_df[\"labels\"])])\n",
    "\n",
    "\n",
    "#mlb_cv = MultiLabelBinarizer()\n",
    "labels_cv = mlb_train.transform([ i.split(\",\") for i in list(cv_df[\"labels\"])])\n"
   ]
  },
  {
   "cell_type": "code",
   "execution_count": 9,
   "metadata": {
    "execution": {
     "iopub.execute_input": "2020-10-05T03:10:47.144008Z",
     "iopub.status.busy": "2020-10-05T03:10:47.143180Z",
     "iopub.status.idle": "2020-10-05T03:10:47.146422Z",
     "shell.execute_reply": "2020-10-05T03:10:47.146996Z"
    },
    "papermill": {
     "duration": 0.057047,
     "end_time": "2020-10-05T03:10:47.147116",
     "exception": false,
     "start_time": "2020-10-05T03:10:47.090069",
     "status": "completed"
    },
    "tags": []
   },
   "outputs": [
    {
     "data": {
      "text/plain": [
       "(1380, 80)"
      ]
     },
     "execution_count": 9,
     "metadata": {},
     "output_type": "execute_result"
    }
   ],
   "source": [
    "labels_test.shape"
   ]
  },
  {
   "cell_type": "code",
   "execution_count": 10,
   "metadata": {
    "execution": {
     "iopub.execute_input": "2020-10-05T03:10:47.269892Z",
     "iopub.status.busy": "2020-10-05T03:10:47.268264Z",
     "iopub.status.idle": "2020-10-05T03:10:47.270735Z",
     "shell.execute_reply": "2020-10-05T03:10:47.271224Z"
    },
    "papermill": {
     "duration": 0.074563,
     "end_time": "2020-10-05T03:10:47.271347",
     "exception": false,
     "start_time": "2020-10-05T03:10:47.196784",
     "status": "completed"
    },
    "tags": []
   },
   "outputs": [],
   "source": [
    "trainmultidf=pd.DataFrame(data=labels_train,columns=list(mlb_train.classes_))\n",
    "trainmultidf[\"fname\"]=list(train_df[\"fname\"])\n",
    "\n",
    "testmultidf=pd.DataFrame(data=labels_test,columns=list(mlb_train.classes_))\n",
    "testmultidf[\"fname\"]=list(test_df[\"fname\"])\n",
    "\n",
    "\n",
    "cvmultidf=pd.DataFrame(data=labels_cv,columns=list(mlb_train.classes_))\n",
    "cvmultidf[\"fname\"]=list(cv_df[\"fname\"])\n"
   ]
  },
  {
   "cell_type": "code",
   "execution_count": 11,
   "metadata": {
    "execution": {
     "iopub.execute_input": "2020-10-05T03:10:47.373937Z",
     "iopub.status.busy": "2020-10-05T03:10:47.373282Z",
     "iopub.status.idle": "2020-10-05T03:10:54.126169Z",
     "shell.execute_reply": "2020-10-05T03:10:54.126946Z"
    },
    "papermill": {
     "duration": 6.808114,
     "end_time": "2020-10-05T03:10:54.127092",
     "exception": false,
     "start_time": "2020-10-05T03:10:47.318978",
     "status": "completed"
    },
    "tags": []
   },
   "outputs": [
    {
     "name": "stdout",
     "output_type": "stream",
     "text": [
      "Found 6251 validated image filenames.\n"
     ]
    }
   ],
   "source": [
    "#We change the ids for the images in the csv files to reflect their new status as jpgs\n",
    "#https://medium.com/@vijayabhaskar96/tutorial-on-keras-flow-from-dataframe-1fd4493d237c\n",
    "from keras_preprocessing.image import ImageDataGenerator\n",
    "\n",
    "\n",
    "\n",
    "datagen=ImageDataGenerator(rescale=1./255.,zoom_range=[0.5,1.0],brightness_range=[0.8,1.4])\n",
    "\n",
    "\n",
    "train_generator=datagen.flow_from_dataframe(\n",
    "    dataframe=trainmultidf,\n",
    "    directory=\"../input/sc2-total-aug-noisy-data/Total images Bucket Curated/Total images Bucket Curated\",\n",
    "    x_col=\"fname\",\n",
    "    y_col=list(mlb_train.classes_),\n",
    "    subset=\"training\",\n",
    "    batch_size=64,\n",
    "    seed=42,\n",
    "    shuffle=False,\n",
    "    class_mode=\"raw\",\n",
    "    #color_mode=\"grayscale\",\n",
    "    target_size=(128,128))\n",
    "\n"
   ]
  },
  {
   "cell_type": "code",
   "execution_count": 12,
   "metadata": {
    "execution": {
     "iopub.execute_input": "2020-10-05T03:10:54.227538Z",
     "iopub.status.busy": "2020-10-05T03:10:54.226916Z",
     "iopub.status.idle": "2020-10-05T03:10:54.233119Z",
     "shell.execute_reply": "2020-10-05T03:10:54.232583Z"
    },
    "papermill": {
     "duration": 0.058312,
     "end_time": "2020-10-05T03:10:54.233230",
     "exception": false,
     "start_time": "2020-10-05T03:10:54.174918",
     "status": "completed"
    },
    "tags": []
   },
   "outputs": [
    {
     "data": {
      "text/plain": [
       "6251"
      ]
     },
     "execution_count": 12,
     "metadata": {},
     "output_type": "execute_result"
    }
   ],
   "source": [
    "train_generator.n"
   ]
  },
  {
   "cell_type": "code",
   "execution_count": 13,
   "metadata": {
    "execution": {
     "iopub.execute_input": "2020-10-05T03:10:54.332589Z",
     "iopub.status.busy": "2020-10-05T03:10:54.331955Z",
     "iopub.status.idle": "2020-10-05T03:10:54.337168Z",
     "shell.execute_reply": "2020-10-05T03:10:54.336674Z"
    },
    "papermill": {
     "duration": 0.056636,
     "end_time": "2020-10-05T03:10:54.337304",
     "exception": false,
     "start_time": "2020-10-05T03:10:54.280668",
     "status": "completed"
    },
    "tags": []
   },
   "outputs": [
    {
     "data": {
      "text/plain": [
       "(1563, 81)"
      ]
     },
     "execution_count": 13,
     "metadata": {},
     "output_type": "execute_result"
    }
   ],
   "source": [
    "cvmultidf.shape"
   ]
  },
  {
   "cell_type": "code",
   "execution_count": 14,
   "metadata": {
    "execution": {
     "iopub.execute_input": "2020-10-05T03:10:54.446958Z",
     "iopub.status.busy": "2020-10-05T03:10:54.446085Z",
     "iopub.status.idle": "2020-10-05T03:10:54.456727Z",
     "shell.execute_reply": "2020-10-05T03:10:54.456159Z"
    },
    "papermill": {
     "duration": 0.072051,
     "end_time": "2020-10-05T03:10:54.456826",
     "exception": false,
     "start_time": "2020-10-05T03:10:54.384775",
     "status": "completed"
    },
    "tags": []
   },
   "outputs": [
    {
     "data": {
      "text/html": [
       "<div>\n",
       "<style scoped>\n",
       "    .dataframe tbody tr th:only-of-type {\n",
       "        vertical-align: middle;\n",
       "    }\n",
       "\n",
       "    .dataframe tbody tr th {\n",
       "        vertical-align: top;\n",
       "    }\n",
       "\n",
       "    .dataframe thead th {\n",
       "        text-align: right;\n",
       "    }\n",
       "</style>\n",
       "<table border=\"1\" class=\"dataframe\">\n",
       "  <thead>\n",
       "    <tr style=\"text-align: right;\">\n",
       "      <th></th>\n",
       "      <th>Accelerating_and_revving_and_vroom</th>\n",
       "      <th>Accordion</th>\n",
       "      <th>Acoustic_guitar</th>\n",
       "      <th>Applause</th>\n",
       "      <th>Bark</th>\n",
       "      <th>Bass_drum</th>\n",
       "      <th>Bass_guitar</th>\n",
       "      <th>Bathtub_(filling_or_washing)</th>\n",
       "      <th>Bicycle_bell</th>\n",
       "      <th>Burping_and_eructation</th>\n",
       "      <th>...</th>\n",
       "      <th>Traffic_noise_and_roadway_noise</th>\n",
       "      <th>Trickle_and_dribble</th>\n",
       "      <th>Walk_and_footsteps</th>\n",
       "      <th>Water_tap_and_faucet</th>\n",
       "      <th>Waves_and_surf</th>\n",
       "      <th>Whispering</th>\n",
       "      <th>Writing</th>\n",
       "      <th>Yell</th>\n",
       "      <th>Zipper_(clothing)</th>\n",
       "      <th>fname</th>\n",
       "    </tr>\n",
       "  </thead>\n",
       "  <tbody>\n",
       "    <tr>\n",
       "      <th>0</th>\n",
       "      <td>0</td>\n",
       "      <td>0</td>\n",
       "      <td>0</td>\n",
       "      <td>0</td>\n",
       "      <td>0</td>\n",
       "      <td>0</td>\n",
       "      <td>1</td>\n",
       "      <td>0</td>\n",
       "      <td>0</td>\n",
       "      <td>0</td>\n",
       "      <td>...</td>\n",
       "      <td>0</td>\n",
       "      <td>0</td>\n",
       "      <td>0</td>\n",
       "      <td>0</td>\n",
       "      <td>0</td>\n",
       "      <td>0</td>\n",
       "      <td>0</td>\n",
       "      <td>0</td>\n",
       "      <td>0</td>\n",
       "      <td>9a93c380.jpg</td>\n",
       "    </tr>\n",
       "    <tr>\n",
       "      <th>1</th>\n",
       "      <td>0</td>\n",
       "      <td>0</td>\n",
       "      <td>0</td>\n",
       "      <td>0</td>\n",
       "      <td>0</td>\n",
       "      <td>0</td>\n",
       "      <td>0</td>\n",
       "      <td>0</td>\n",
       "      <td>0</td>\n",
       "      <td>0</td>\n",
       "      <td>...</td>\n",
       "      <td>0</td>\n",
       "      <td>0</td>\n",
       "      <td>0</td>\n",
       "      <td>0</td>\n",
       "      <td>0</td>\n",
       "      <td>0</td>\n",
       "      <td>0</td>\n",
       "      <td>0</td>\n",
       "      <td>0</td>\n",
       "      <td>0ab47a4c.jpg</td>\n",
       "    </tr>\n",
       "    <tr>\n",
       "      <th>2</th>\n",
       "      <td>0</td>\n",
       "      <td>0</td>\n",
       "      <td>0</td>\n",
       "      <td>0</td>\n",
       "      <td>0</td>\n",
       "      <td>0</td>\n",
       "      <td>0</td>\n",
       "      <td>0</td>\n",
       "      <td>0</td>\n",
       "      <td>1</td>\n",
       "      <td>...</td>\n",
       "      <td>0</td>\n",
       "      <td>0</td>\n",
       "      <td>0</td>\n",
       "      <td>0</td>\n",
       "      <td>0</td>\n",
       "      <td>0</td>\n",
       "      <td>0</td>\n",
       "      <td>0</td>\n",
       "      <td>0</td>\n",
       "      <td>8f5bf633_aug.jpg</td>\n",
       "    </tr>\n",
       "    <tr>\n",
       "      <th>3</th>\n",
       "      <td>0</td>\n",
       "      <td>0</td>\n",
       "      <td>0</td>\n",
       "      <td>0</td>\n",
       "      <td>0</td>\n",
       "      <td>0</td>\n",
       "      <td>0</td>\n",
       "      <td>0</td>\n",
       "      <td>0</td>\n",
       "      <td>0</td>\n",
       "      <td>...</td>\n",
       "      <td>0</td>\n",
       "      <td>0</td>\n",
       "      <td>0</td>\n",
       "      <td>0</td>\n",
       "      <td>0</td>\n",
       "      <td>0</td>\n",
       "      <td>0</td>\n",
       "      <td>0</td>\n",
       "      <td>0</td>\n",
       "      <td>e07009c1.jpg</td>\n",
       "    </tr>\n",
       "    <tr>\n",
       "      <th>4</th>\n",
       "      <td>0</td>\n",
       "      <td>0</td>\n",
       "      <td>0</td>\n",
       "      <td>0</td>\n",
       "      <td>0</td>\n",
       "      <td>0</td>\n",
       "      <td>0</td>\n",
       "      <td>0</td>\n",
       "      <td>0</td>\n",
       "      <td>0</td>\n",
       "      <td>...</td>\n",
       "      <td>0</td>\n",
       "      <td>0</td>\n",
       "      <td>0</td>\n",
       "      <td>0</td>\n",
       "      <td>0</td>\n",
       "      <td>0</td>\n",
       "      <td>1</td>\n",
       "      <td>0</td>\n",
       "      <td>0</td>\n",
       "      <td>877562da_aug.jpg</td>\n",
       "    </tr>\n",
       "  </tbody>\n",
       "</table>\n",
       "<p>5 rows × 81 columns</p>\n",
       "</div>"
      ],
      "text/plain": [
       "   Accelerating_and_revving_and_vroom  Accordion  Acoustic_guitar  Applause  \\\n",
       "0                                   0          0                0         0   \n",
       "1                                   0          0                0         0   \n",
       "2                                   0          0                0         0   \n",
       "3                                   0          0                0         0   \n",
       "4                                   0          0                0         0   \n",
       "\n",
       "   Bark  Bass_drum  Bass_guitar  Bathtub_(filling_or_washing)  Bicycle_bell  \\\n",
       "0     0          0            1                             0             0   \n",
       "1     0          0            0                             0             0   \n",
       "2     0          0            0                             0             0   \n",
       "3     0          0            0                             0             0   \n",
       "4     0          0            0                             0             0   \n",
       "\n",
       "   Burping_and_eructation  ...  Traffic_noise_and_roadway_noise  \\\n",
       "0                       0  ...                                0   \n",
       "1                       0  ...                                0   \n",
       "2                       1  ...                                0   \n",
       "3                       0  ...                                0   \n",
       "4                       0  ...                                0   \n",
       "\n",
       "   Trickle_and_dribble  Walk_and_footsteps  Water_tap_and_faucet  \\\n",
       "0                    0                   0                     0   \n",
       "1                    0                   0                     0   \n",
       "2                    0                   0                     0   \n",
       "3                    0                   0                     0   \n",
       "4                    0                   0                     0   \n",
       "\n",
       "   Waves_and_surf  Whispering  Writing  Yell  Zipper_(clothing)  \\\n",
       "0               0           0        0     0                  0   \n",
       "1               0           0        0     0                  0   \n",
       "2               0           0        0     0                  0   \n",
       "3               0           0        0     0                  0   \n",
       "4               0           0        1     0                  0   \n",
       "\n",
       "              fname  \n",
       "0      9a93c380.jpg  \n",
       "1      0ab47a4c.jpg  \n",
       "2  8f5bf633_aug.jpg  \n",
       "3      e07009c1.jpg  \n",
       "4  877562da_aug.jpg  \n",
       "\n",
       "[5 rows x 81 columns]"
      ]
     },
     "execution_count": 14,
     "metadata": {},
     "output_type": "execute_result"
    }
   ],
   "source": [
    "cvmultidf.head()"
   ]
  },
  {
   "cell_type": "code",
   "execution_count": 15,
   "metadata": {
    "execution": {
     "iopub.execute_input": "2020-10-05T03:10:54.561343Z",
     "iopub.status.busy": "2020-10-05T03:10:54.560505Z",
     "iopub.status.idle": "2020-10-05T03:10:54.898921Z",
     "shell.execute_reply": "2020-10-05T03:10:54.899657Z"
    },
    "papermill": {
     "duration": 0.394251,
     "end_time": "2020-10-05T03:10:54.899811",
     "exception": false,
     "start_time": "2020-10-05T03:10:54.505560",
     "status": "completed"
    },
    "tags": []
   },
   "outputs": [
    {
     "name": "stdout",
     "output_type": "stream",
     "text": [
      "Found 1563 validated image filenames.\n"
     ]
    }
   ],
   "source": [
    "\n",
    "valid_datagen=ImageDataGenerator(rescale=1./255.)\n",
    "\n",
    "valid_generator=valid_datagen.flow_from_dataframe(\n",
    "    dataframe=cvmultidf,\n",
    "    directory=\"../input/sc2-total-aug-noisy-data/Total images Bucket Curated/Total images Bucket Curated\",\n",
    "    x_col=\"fname\",\n",
    "    y_col=list(mlb_train.classes_),\n",
    "   # subset=\"validation\",\n",
    "    batch_size=64,\n",
    "    seed=42,\n",
    "    shuffle=False,\n",
    "    class_mode=\"raw\",\n",
    "    #color_mode=\"grayscale\",\n",
    "    target_size=(128,128))\n"
   ]
  },
  {
   "cell_type": "code",
   "execution_count": 16,
   "metadata": {
    "execution": {
     "iopub.execute_input": "2020-10-05T03:10:55.005963Z",
     "iopub.status.busy": "2020-10-05T03:10:55.005117Z",
     "iopub.status.idle": "2020-10-05T03:10:55.331871Z",
     "shell.execute_reply": "2020-10-05T03:10:55.332583Z"
    },
    "papermill": {
     "duration": 0.383436,
     "end_time": "2020-10-05T03:10:55.332767",
     "exception": false,
     "start_time": "2020-10-05T03:10:54.949331",
     "status": "completed"
    },
    "tags": []
   },
   "outputs": [
    {
     "name": "stdout",
     "output_type": "stream",
     "text": [
      "Found 1380 validated image filenames.\n"
     ]
    }
   ],
   "source": [
    "test_datagen=ImageDataGenerator(rescale=1./255.)\n",
    "test_generator=test_datagen.flow_from_dataframe(\n",
    "    dataframe=testmultidf,\n",
    "    directory=\"../input/sc2-total-aug-noisy-data/Total images Bucket Curated/Total images Bucket Curated\",\n",
    "    x_col=\"fname\",\n",
    "    y_col=None,\n",
    "    batch_size=64,\n",
    "    seed=42,\n",
    "    shuffle=False,\n",
    "    class_mode=None,\n",
    "   # color_mode=\"grayscale\",\n",
    "    target_size=(128,128))\n",
    "STEP_SIZE_TEST=test_generator.n//test_generator.batch_size"
   ]
  },
  {
   "cell_type": "markdown",
   "metadata": {},
   "source": [
    "# Loading Preprocessed Spectrogram Images via ImageDataGenerator and adding augumnetation to train data"
   ]
  },
  {
   "cell_type": "code",
   "execution_count": 17,
   "metadata": {
    "execution": {
     "iopub.execute_input": "2020-10-05T03:10:55.443513Z",
     "iopub.status.busy": "2020-10-05T03:10:55.442896Z",
     "iopub.status.idle": "2020-10-05T03:10:55.490494Z",
     "shell.execute_reply": "2020-10-05T03:10:55.490937Z"
    },
    "papermill": {
     "duration": 0.107793,
     "end_time": "2020-10-05T03:10:55.491065",
     "exception": false,
     "start_time": "2020-10-05T03:10:55.383272",
     "status": "completed"
    },
    "tags": []
   },
   "outputs": [],
   "source": [
    "from sklearn import model_selection\n",
    "from tensorflow.keras.preprocessing.text import Tokenizer\n",
    "from tensorflow.keras.utils import to_categorical\n",
    "from tensorflow.keras.preprocessing.sequence import pad_sequences\n",
    "\n",
    "from tensorflow.keras.optimizers import RMSprop\n",
    "from tensorflow.keras.models import Model\n",
    "from tensorflow.keras.models import load_model\n",
    "\n",
    "import numpy as np\n",
    "from tensorflow.keras.models import Sequential\n",
    "from tensorflow.keras.preprocessing import sequence\n",
    "\n",
    "\n",
    "\n",
    "import tensorflow as tf\n",
    "from tensorflow.keras import models, layers\n",
    "from tensorflow.keras.models import Model\n",
    "from tensorflow.keras.optimizers import Adam\n",
    "#from tensorflow.keras.callbacks import ModelCheckpoint,EarlyStopping \n",
    "from tensorflow.keras.layers import Dense, Flatten, LSTM, Conv2D, MaxPooling2D, Dropout, Activation, Input,BatchNormalization, AveragePooling2D,GlobalMaxPool2D,PReLU\n",
    "\n",
    "from tensorflow.keras.models import model_from_json  \n",
    "from tensorflow.keras.applications import DenseNet169\n",
    "\n",
    "from tensorflow.keras.callbacks import (ModelCheckpoint, LearningRateScheduler,\n",
    "                             EarlyStopping, ReduceLROnPlateau,CSVLogger)"
   ]
  },
  {
   "cell_type": "code",
   "execution_count": 18,
   "metadata": {
    "execution": {
     "iopub.execute_input": "2020-10-05T03:10:55.597333Z",
     "iopub.status.busy": "2020-10-05T03:10:55.596722Z",
     "iopub.status.idle": "2020-10-05T03:11:05.391989Z",
     "shell.execute_reply": "2020-10-05T03:11:05.392926Z"
    },
    "papermill": {
     "duration": 9.851857,
     "end_time": "2020-10-05T03:11:05.393187",
     "exception": false,
     "start_time": "2020-10-05T03:10:55.541330",
     "status": "completed"
    },
    "tags": []
   },
   "outputs": [
    {
     "name": "stdout",
     "output_type": "stream",
     "text": [
      "Downloading data from https://storage.googleapis.com/tensorflow/keras-applications/resnet/resnet101_weights_tf_dim_ordering_tf_kernels.h5\n",
      "179650560/179648224 [==============================] - 3s 0us/step\n"
     ]
    }
   ],
   "source": [
    "#last_layer = model.get_layer('avg_pool').output\n",
    "\n",
    "image_input = Input(shape=(128,128, 3))\n",
    "model = tf.keras.applications.ResNet101(input_tensor=image_input, include_top=True)\n",
    "last_layer = model.get_layer('avg_pool').output\n",
    "x= Flatten(name='flatten')(last_layer)\n",
    "#model=\n",
    "\n",
    "\n",
    "#output = Dense(80, activation='sigmoid', name='output_layer')(model.layers[-2].output)\n",
    "x= Dense(80)(x)\n",
    "output = Activation('sigmoid')(x)\n",
    "#out = Dense(num_classes, activation='softmax', name='output_layer')(x)"
   ]
  },
  {
   "cell_type": "code",
   "execution_count": 19,
   "metadata": {
    "execution": {
     "iopub.execute_input": "2020-10-05T03:11:05.583371Z",
     "iopub.status.busy": "2020-10-05T03:11:05.582363Z",
     "iopub.status.idle": "2020-10-05T03:11:05.586408Z",
     "shell.execute_reply": "2020-10-05T03:11:05.584075Z"
    },
    "papermill": {
     "duration": 0.099212,
     "end_time": "2020-10-05T03:11:05.586572",
     "exception": false,
     "start_time": "2020-10-05T03:11:05.487360",
     "status": "completed"
    },
    "tags": []
   },
   "outputs": [
    {
     "data": {
      "text/plain": [
       "[<tensorflow.python.keras.layers.merge.Add at 0x7fe1101873d0>,\n",
       " <tensorflow.python.keras.layers.core.Activation at 0x7fe110187b10>,\n",
       " <tensorflow.python.keras.layers.pooling.GlobalAveragePooling2D at 0x7fe18830c790>,\n",
       " <tensorflow.python.keras.layers.core.Dense at 0x7fe110195390>]"
      ]
     },
     "execution_count": 19,
     "metadata": {},
     "output_type": "execute_result"
    }
   ],
   "source": [
    "model.layers[-4:]"
   ]
  },
  {
   "cell_type": "code",
   "execution_count": 20,
   "metadata": {
    "execution": {
     "iopub.execute_input": "2020-10-05T03:11:05.771520Z",
     "iopub.status.busy": "2020-10-05T03:11:05.770746Z",
     "iopub.status.idle": "2020-10-05T03:11:05.776408Z",
     "shell.execute_reply": "2020-10-05T03:11:05.775910Z"
    },
    "papermill": {
     "duration": 0.10307,
     "end_time": "2020-10-05T03:11:05.776514",
     "exception": false,
     "start_time": "2020-10-05T03:11:05.673444",
     "status": "completed"
    },
    "tags": []
   },
   "outputs": [
    {
     "data": {
      "text/plain": [
       "[<tensorflow.python.keras.layers.merge.Add at 0x7fe1101873d0>,\n",
       " <tensorflow.python.keras.layers.core.Activation at 0x7fe110187b10>,\n",
       " <tensorflow.python.keras.layers.pooling.GlobalAveragePooling2D at 0x7fe18830c790>,\n",
       " <tensorflow.python.keras.layers.core.Dense at 0x7fe110195390>]"
      ]
     },
     "execution_count": 20,
     "metadata": {},
     "output_type": "execute_result"
    }
   ],
   "source": [
    "model.layers[-4:]"
   ]
  },
  {
   "cell_type": "code",
   "execution_count": null,
   "metadata": {
    "papermill": {
     "duration": 0.058411,
     "end_time": "2020-10-05T03:11:05.893166",
     "exception": false,
     "start_time": "2020-10-05T03:11:05.834755",
     "status": "completed"
    },
    "tags": []
   },
   "outputs": [],
   "source": []
  },
  {
   "cell_type": "code",
   "execution_count": 21,
   "metadata": {
    "execution": {
     "iopub.execute_input": "2020-10-05T03:11:06.018819Z",
     "iopub.status.busy": "2020-10-05T03:11:06.017742Z",
     "iopub.status.idle": "2020-10-05T03:11:06.064775Z",
     "shell.execute_reply": "2020-10-05T03:11:06.064108Z"
    },
    "papermill": {
     "duration": 0.11334,
     "end_time": "2020-10-05T03:11:06.064884",
     "exception": false,
     "start_time": "2020-10-05T03:11:05.951544",
     "status": "completed"
    },
    "tags": []
   },
   "outputs": [],
   "source": [
    "custom_densenet169_model = Model(inputs=image_input,outputs= output)\n",
    "#custom_densenet169_model.summary()"
   ]
  },
  {
   "cell_type": "code",
   "execution_count": 22,
   "metadata": {
    "execution": {
     "iopub.execute_input": "2020-10-05T03:11:06.201574Z",
     "iopub.status.busy": "2020-10-05T03:11:06.196168Z",
     "iopub.status.idle": "2020-10-05T03:11:06.961450Z",
     "shell.execute_reply": "2020-10-05T03:11:06.960355Z"
    },
    "papermill": {
     "duration": 0.837928,
     "end_time": "2020-10-05T03:11:06.961576",
     "exception": false,
     "start_time": "2020-10-05T03:11:06.123648",
     "status": "completed"
    },
    "tags": []
   },
   "outputs": [],
   "source": [
    "custom_densenet169_model.load_weights(\"../input/sc2weights/ResNet101NoisyTotal.best_weights-128.hdf5\")"
   ]
  },
  {
   "cell_type": "code",
   "execution_count": 23,
   "metadata": {
    "execution": {
     "iopub.execute_input": "2020-10-05T03:11:07.091563Z",
     "iopub.status.busy": "2020-10-05T03:11:07.089720Z",
     "iopub.status.idle": "2020-10-05T03:11:07.092290Z",
     "shell.execute_reply": "2020-10-05T03:11:07.092771Z"
    },
    "papermill": {
     "duration": 0.069046,
     "end_time": "2020-10-05T03:11:07.092894",
     "exception": false,
     "start_time": "2020-10-05T03:11:07.023848",
     "status": "completed"
    },
    "tags": []
   },
   "outputs": [],
   "source": [
    "#from tensorflow.keras.utils import plot_model\n",
    "#plot_model(custom_densenet169_model, 'model_resnet50.png', show_shapes=True)"
   ]
  },
  {
   "cell_type": "code",
   "execution_count": 24,
   "metadata": {
    "execution": {
     "iopub.execute_input": "2020-10-05T03:11:07.242014Z",
     "iopub.status.busy": "2020-10-05T03:11:07.241139Z",
     "iopub.status.idle": "2020-10-05T03:11:07.261652Z",
     "shell.execute_reply": "2020-10-05T03:11:07.260429Z"
    },
    "papermill": {
     "duration": 0.106197,
     "end_time": "2020-10-05T03:11:07.261770",
     "exception": false,
     "start_time": "2020-10-05T03:11:07.155573",
     "status": "completed"
    },
    "tags": []
   },
   "outputs": [],
   "source": [
    "opt = tf.keras.optimizers.Adam(lr=0.0009)#tf.keras.optimizers.RMSprop(lr=0.3, decay=1e-6) \n",
    "#tf.keras.optimizers.Adam(lr=0.001)#RMSprop(lr=0.0001, decay=1e-6)\n",
    "\n",
    "# Let's train the model using RMSprop\n",
    "custom_densenet169_model.compile(loss=tf.keras.losses.BinaryCrossentropy(reduction=tf.keras.losses.Reduction.SUM),#'categorical_crossentropy',\n",
    "              optimizer=opt,\n",
    "               metrics=['categorical_accuracy'])"
   ]
  },
  {
   "cell_type": "code",
   "execution_count": 25,
   "metadata": {
    "execution": {
     "iopub.execute_input": "2020-10-05T03:11:07.388240Z",
     "iopub.status.busy": "2020-10-05T03:11:07.386461Z",
     "iopub.status.idle": "2020-10-05T03:11:07.388930Z",
     "shell.execute_reply": "2020-10-05T03:11:07.389577Z"
    },
    "papermill": {
     "duration": 0.066265,
     "end_time": "2020-10-05T03:11:07.389708",
     "exception": false,
     "start_time": "2020-10-05T03:11:07.323443",
     "status": "completed"
    },
    "tags": []
   },
   "outputs": [],
   "source": [
    "#Fitting keras model, no test gen for now\n",
    "STEP_SIZE_TRAIN=train_generator.n//train_generator.batch_size\n",
    "STEP_SIZE_VALID=valid_generator.n//valid_generator.batch_size\n",
    "#STEP_SIZE_TEST=test_generator.n//test_generator.batch_size"
   ]
  },
  {
   "cell_type": "code",
   "execution_count": 26,
   "metadata": {
    "execution": {
     "iopub.execute_input": "2020-10-05T03:11:07.510983Z",
     "iopub.status.busy": "2020-10-05T03:11:07.510057Z",
     "iopub.status.idle": "2020-10-05T03:11:07.514374Z",
     "shell.execute_reply": "2020-10-05T03:11:07.514849Z"
    },
    "papermill": {
     "duration": 0.066569,
     "end_time": "2020-10-05T03:11:07.514965",
     "exception": false,
     "start_time": "2020-10-05T03:11:07.448396",
     "status": "completed"
    },
    "tags": []
   },
   "outputs": [
    {
     "data": {
      "text/plain": [
       "97"
      ]
     },
     "execution_count": 26,
     "metadata": {},
     "output_type": "execute_result"
    }
   ],
   "source": [
    "STEP_SIZE_TRAIN"
   ]
  },
  {
   "cell_type": "code",
   "execution_count": 27,
   "metadata": {
    "execution": {
     "iopub.execute_input": "2020-10-05T03:11:07.643382Z",
     "iopub.status.busy": "2020-10-05T03:11:07.641650Z",
     "iopub.status.idle": "2020-10-05T03:11:07.644047Z",
     "shell.execute_reply": "2020-10-05T03:11:07.644529Z"
    },
    "papermill": {
     "duration": 0.071045,
     "end_time": "2020-10-05T03:11:07.644652",
     "exception": false,
     "start_time": "2020-10-05T03:11:07.573607",
     "status": "completed"
    },
    "tags": []
   },
   "outputs": [],
   "source": [
    "# simple early stopping\n",
    "#earlyStop = EarlyStopping(monitor='val_loss', mode='min', verbose=1, patience=100,)\n",
    "#https://machinelearningmastery.com/check-point-deep-learning-models-keras/\n",
    "\n",
    "\n",
    "#model_checkpoint = ModelCheckpoint('weights_cnn_lstm.best.hdf5', monitor='val_categorical_accuracy', mode='max', verbose=1, save_best_only=True)\n",
    "#filepath=\"weights-improvement-{epoch:02d}-{val_categorical_accuracy:.2f}.hdf5\"\n",
    "\n",
    "\n",
    "csv_logger = CSVLogger(filename='../working/training_log.csv',\n",
    "                       separator=',',\n",
    "                       append=True)\n",
    "#https://www.tensorflow.org/api_docs/python/tf/keras/callbacks/ReduceLROnPlateau\n",
    "reduceLROnPlat = ReduceLROnPlateau(monitor='val_categorical_accuracy', factor=0.6,\n",
    "                              patience=6, min_lr=0,verbose=1)\n",
    "\n",
    "\n",
    "model_checkpoint = ModelCheckpoint(\"CuratedTotal.best_weights_128.hdf5\", monitor='val_categorical_accuracy', mode='max', verbose=1, save_best_only=True)\n",
    "\n",
    "# fit model\n",
    "\n",
    "#es = tf.keras.callbacks.EarlyStopping(monitor='val_loss', mode='min', verbose=1, patience=20, min_delta=0.001 )\n",
    "es = tf.keras.callbacks.EarlyStopping(monitor='val_categorical_accuracy', mode='max', verbose=1, patience=30, min_delta=0.001 )\n",
    "\n",
    "callbacks_list = [model_checkpoint, csv_logger, reduceLROnPlat,es]"
   ]
  },
  {
   "cell_type": "code",
   "execution_count": 28,
   "metadata": {
    "execution": {
     "iopub.execute_input": "2020-10-05T03:11:07.772328Z",
     "iopub.status.busy": "2020-10-05T03:11:07.771594Z",
     "iopub.status.idle": "2020-10-05T03:11:07.775840Z",
     "shell.execute_reply": "2020-10-05T03:11:07.775374Z"
    },
    "papermill": {
     "duration": 0.070262,
     "end_time": "2020-10-05T03:11:07.775940",
     "exception": false,
     "start_time": "2020-10-05T03:11:07.705678",
     "status": "completed"
    },
    "tags": []
   },
   "outputs": [],
   "source": [
    "\n",
    "#custom_densenet169_model.load_weights(\"../input/sc2weights/total.best_weights.hdf5\")\n",
    "#custom_densenet169_model.load_weights(\"../input/sc2weights/total.best_weights_iter2.hdf5\")"
   ]
  },
  {
   "cell_type": "code",
   "execution_count": 29,
   "metadata": {
    "execution": {
     "iopub.execute_input": "2020-10-05T03:11:07.900945Z",
     "iopub.status.busy": "2020-10-05T03:11:07.900370Z",
     "iopub.status.idle": "2020-10-05T05:56:03.364447Z",
     "shell.execute_reply": "2020-10-05T05:56:03.363857Z"
    },
    "papermill": {
     "duration": 9895.529826,
     "end_time": "2020-10-05T05:56:03.364591",
     "exception": false,
     "start_time": "2020-10-05T03:11:07.834765",
     "status": "completed"
    },
    "tags": []
   },
   "outputs": [
    {
     "name": "stdout",
     "output_type": "stream",
     "text": [
      "Epoch 1/300\n",
      "97/97 [==============================] - ETA: 0s - loss: 4.7662 - categorical_accuracy: 0.2877\n",
      "Epoch 00001: val_categorical_accuracy improved from -inf to 0.29362, saving model to CuratedTotal.best_weights_128.hdf5\n",
      "97/97 [==============================] - 61s 626ms/step - loss: 4.7662 - categorical_accuracy: 0.2877 - val_loss: 4.0215 - val_categorical_accuracy: 0.2936\n",
      "Epoch 2/300\n",
      "97/97 [==============================] - ETA: 0s - loss: 1.9717 - categorical_accuracy: 0.5843\n",
      "Epoch 00002: val_categorical_accuracy improved from 0.29362 to 0.42839, saving model to CuratedTotal.best_weights_128.hdf5\n",
      "97/97 [==============================] - 49s 509ms/step - loss: 1.9717 - categorical_accuracy: 0.5843 - val_loss: 3.0242 - val_categorical_accuracy: 0.4284\n",
      "Epoch 3/300\n",
      "97/97 [==============================] - ETA: 0s - loss: 1.2919 - categorical_accuracy: 0.7296\n",
      "Epoch 00003: val_categorical_accuracy improved from 0.42839 to 0.46159, saving model to CuratedTotal.best_weights_128.hdf5\n",
      "97/97 [==============================] - 49s 509ms/step - loss: 1.2919 - categorical_accuracy: 0.7296 - val_loss: 2.9151 - val_categorical_accuracy: 0.4616\n",
      "Epoch 4/300\n",
      "97/97 [==============================] - ETA: 0s - loss: 0.8245 - categorical_accuracy: 0.8138\n",
      "Epoch 00004: val_categorical_accuracy improved from 0.46159 to 0.53581, saving model to CuratedTotal.best_weights_128.hdf5\n",
      "97/97 [==============================] - 50s 517ms/step - loss: 0.8245 - categorical_accuracy: 0.8138 - val_loss: 2.6027 - val_categorical_accuracy: 0.5358\n",
      "Epoch 5/300\n",
      "97/97 [==============================] - ETA: 0s - loss: 0.5702 - categorical_accuracy: 0.8652\n",
      "Epoch 00005: val_categorical_accuracy did not improve from 0.53581\n",
      "97/97 [==============================] - 46s 479ms/step - loss: 0.5702 - categorical_accuracy: 0.8652 - val_loss: 2.7812 - val_categorical_accuracy: 0.5299\n",
      "Epoch 6/300\n",
      "97/97 [==============================] - ETA: 0s - loss: 0.4414 - categorical_accuracy: 0.8701\n",
      "Epoch 00006: val_categorical_accuracy did not improve from 0.53581\n",
      "97/97 [==============================] - 47s 483ms/step - loss: 0.4414 - categorical_accuracy: 0.8701 - val_loss: 3.2604 - val_categorical_accuracy: 0.4740\n",
      "Epoch 7/300\n",
      "97/97 [==============================] - ETA: 0s - loss: 0.3575 - categorical_accuracy: 0.8890\n",
      "Epoch 00007: val_categorical_accuracy did not improve from 0.53581\n",
      "97/97 [==============================] - 46s 469ms/step - loss: 0.3575 - categorical_accuracy: 0.8890 - val_loss: 3.1092 - val_categorical_accuracy: 0.5293\n",
      "Epoch 8/300\n",
      "97/97 [==============================] - ETA: 0s - loss: 0.2862 - categorical_accuracy: 0.9067\n",
      "Epoch 00008: val_categorical_accuracy did not improve from 0.53581\n",
      "97/97 [==============================] - 47s 485ms/step - loss: 0.2862 - categorical_accuracy: 0.9067 - val_loss: 3.1248 - val_categorical_accuracy: 0.5117\n",
      "Epoch 9/300\n",
      "97/97 [==============================] - ETA: 0s - loss: 0.2692 - categorical_accuracy: 0.8987\n",
      "Epoch 00009: val_categorical_accuracy improved from 0.53581 to 0.56185, saving model to CuratedTotal.best_weights_128.hdf5\n",
      "97/97 [==============================] - 50s 511ms/step - loss: 0.2692 - categorical_accuracy: 0.8987 - val_loss: 2.8501 - val_categorical_accuracy: 0.5618\n",
      "Epoch 10/300\n",
      "97/97 [==============================] - ETA: 0s - loss: 0.2428 - categorical_accuracy: 0.9101\n",
      "Epoch 00010: val_categorical_accuracy did not improve from 0.56185\n",
      "97/97 [==============================] - 47s 489ms/step - loss: 0.2428 - categorical_accuracy: 0.9101 - val_loss: 4.6197 - val_categorical_accuracy: 0.3978\n",
      "Epoch 11/300\n",
      "97/97 [==============================] - ETA: 0s - loss: 0.2127 - categorical_accuracy: 0.9082\n",
      "Epoch 00011: val_categorical_accuracy did not improve from 0.56185\n",
      "97/97 [==============================] - 48s 495ms/step - loss: 0.2127 - categorical_accuracy: 0.9082 - val_loss: 3.5544 - val_categorical_accuracy: 0.5026\n",
      "Epoch 12/300\n",
      "97/97 [==============================] - ETA: 0s - loss: 0.1840 - categorical_accuracy: 0.9084\n",
      "Epoch 00012: val_categorical_accuracy did not improve from 0.56185\n",
      "97/97 [==============================] - 47s 482ms/step - loss: 0.1840 - categorical_accuracy: 0.9084 - val_loss: 3.9797 - val_categorical_accuracy: 0.4642\n",
      "Epoch 13/300\n",
      "97/97 [==============================] - ETA: 0s - loss: 0.1988 - categorical_accuracy: 0.9109\n",
      "Epoch 00013: val_categorical_accuracy did not improve from 0.56185\n",
      "97/97 [==============================] - 48s 491ms/step - loss: 0.1988 - categorical_accuracy: 0.9109 - val_loss: 4.2379 - val_categorical_accuracy: 0.4010\n",
      "Epoch 14/300\n",
      "97/97 [==============================] - ETA: 0s - loss: 0.2227 - categorical_accuracy: 0.9063\n",
      "Epoch 00014: val_categorical_accuracy did not improve from 0.56185\n",
      "97/97 [==============================] - 47s 488ms/step - loss: 0.2227 - categorical_accuracy: 0.9063 - val_loss: 6.4677 - val_categorical_accuracy: 0.2839\n",
      "Epoch 15/300\n",
      "97/97 [==============================] - ETA: 0s - loss: 0.2217 - categorical_accuracy: 0.9088\n",
      "Epoch 00015: val_categorical_accuracy did not improve from 0.56185\n",
      "\n",
      "Epoch 00015: ReduceLROnPlateau reducing learning rate to 0.0005399999907240271.\n",
      "97/97 [==============================] - 48s 493ms/step - loss: 0.2217 - categorical_accuracy: 0.9088 - val_loss: 3.3502 - val_categorical_accuracy: 0.5254\n",
      "Epoch 16/300\n",
      "97/97 [==============================] - ETA: 0s - loss: 0.0975 - categorical_accuracy: 0.9281\n",
      "Epoch 00016: val_categorical_accuracy improved from 0.56185 to 0.63281, saving model to CuratedTotal.best_weights_128.hdf5\n",
      "97/97 [==============================] - 50s 511ms/step - loss: 0.0975 - categorical_accuracy: 0.9281 - val_loss: 2.5679 - val_categorical_accuracy: 0.6328\n",
      "Epoch 17/300\n",
      "97/97 [==============================] - ETA: 0s - loss: 0.0561 - categorical_accuracy: 0.9313\n",
      "Epoch 00017: val_categorical_accuracy improved from 0.63281 to 0.63607, saving model to CuratedTotal.best_weights_128.hdf5\n",
      "97/97 [==============================] - 50s 511ms/step - loss: 0.0561 - categorical_accuracy: 0.9313 - val_loss: 2.6301 - val_categorical_accuracy: 0.6361\n",
      "Epoch 18/300\n",
      "97/97 [==============================] - ETA: 0s - loss: 0.0458 - categorical_accuracy: 0.9349\n",
      "Epoch 00018: val_categorical_accuracy did not improve from 0.63607\n",
      "97/97 [==============================] - 47s 486ms/step - loss: 0.0458 - categorical_accuracy: 0.9349 - val_loss: 2.8563 - val_categorical_accuracy: 0.6348\n",
      "Epoch 19/300\n",
      "97/97 [==============================] - ETA: 0s - loss: 0.0384 - categorical_accuracy: 0.9328\n",
      "Epoch 00019: val_categorical_accuracy did not improve from 0.63607\n",
      "97/97 [==============================] - 48s 491ms/step - loss: 0.0384 - categorical_accuracy: 0.9328 - val_loss: 3.3152 - val_categorical_accuracy: 0.5794\n",
      "Epoch 20/300\n",
      "97/97 [==============================] - ETA: 0s - loss: 0.0323 - categorical_accuracy: 0.9323\n",
      "Epoch 00020: val_categorical_accuracy did not improve from 0.63607\n",
      "97/97 [==============================] - 48s 491ms/step - loss: 0.0323 - categorical_accuracy: 0.9323 - val_loss: 2.8357 - val_categorical_accuracy: 0.6348\n",
      "Epoch 21/300\n",
      "97/97 [==============================] - ETA: 0s - loss: 0.0255 - categorical_accuracy: 0.9386\n",
      "Epoch 00021: val_categorical_accuracy did not improve from 0.63607\n",
      "97/97 [==============================] - 48s 491ms/step - loss: 0.0255 - categorical_accuracy: 0.9386 - val_loss: 2.8538 - val_categorical_accuracy: 0.6283\n",
      "Epoch 22/300\n",
      "97/97 [==============================] - ETA: 0s - loss: 0.0256 - categorical_accuracy: 0.9318\n",
      "Epoch 00022: val_categorical_accuracy did not improve from 0.63607\n",
      "97/97 [==============================] - 47s 486ms/step - loss: 0.0256 - categorical_accuracy: 0.9318 - val_loss: 3.0717 - val_categorical_accuracy: 0.6068\n",
      "Epoch 23/300\n",
      "97/97 [==============================] - ETA: 0s - loss: 0.0335 - categorical_accuracy: 0.9221\n",
      "Epoch 00023: val_categorical_accuracy improved from 0.63607 to 0.63932, saving model to CuratedTotal.best_weights_128.hdf5\n",
      "97/97 [==============================] - 49s 504ms/step - loss: 0.0335 - categorical_accuracy: 0.9221 - val_loss: 2.7887 - val_categorical_accuracy: 0.6393\n",
      "Epoch 24/300\n",
      "97/97 [==============================] - ETA: 0s - loss: 0.0395 - categorical_accuracy: 0.9214\n",
      "Epoch 00024: val_categorical_accuracy did not improve from 0.63932\n",
      "97/97 [==============================] - 48s 495ms/step - loss: 0.0395 - categorical_accuracy: 0.9214 - val_loss: 3.2178 - val_categorical_accuracy: 0.5990\n",
      "Epoch 25/300\n",
      "97/97 [==============================] - ETA: 0s - loss: 0.0448 - categorical_accuracy: 0.9187\n",
      "Epoch 00025: val_categorical_accuracy did not improve from 0.63932\n",
      "97/97 [==============================] - 47s 485ms/step - loss: 0.0448 - categorical_accuracy: 0.9187 - val_loss: 3.4263 - val_categorical_accuracy: 0.5566\n",
      "Epoch 26/300\n",
      "97/97 [==============================] - ETA: 0s - loss: 0.0659 - categorical_accuracy: 0.9140\n",
      "Epoch 00026: val_categorical_accuracy did not improve from 0.63932\n",
      "97/97 [==============================] - 48s 491ms/step - loss: 0.0659 - categorical_accuracy: 0.9140 - val_loss: 3.3868 - val_categorical_accuracy: 0.5781\n",
      "Epoch 27/300\n",
      "97/97 [==============================] - ETA: 0s - loss: 0.0577 - categorical_accuracy: 0.9284\n",
      "Epoch 00027: val_categorical_accuracy did not improve from 0.63932\n",
      "97/97 [==============================] - 47s 484ms/step - loss: 0.0577 - categorical_accuracy: 0.9284 - val_loss: 8.1467 - val_categorical_accuracy: 0.2441\n",
      "Epoch 28/300\n",
      "97/97 [==============================] - ETA: 0s - loss: 0.0627 - categorical_accuracy: 0.9208\n",
      "Epoch 00028: val_categorical_accuracy did not improve from 0.63932\n",
      "97/97 [==============================] - 47s 485ms/step - loss: 0.0627 - categorical_accuracy: 0.9208 - val_loss: 3.0465 - val_categorical_accuracy: 0.6087\n",
      "Epoch 29/300\n",
      "97/97 [==============================] - ETA: 0s - loss: 0.0401 - categorical_accuracy: 0.9287\n",
      "Epoch 00029: val_categorical_accuracy did not improve from 0.63932\n",
      "\n",
      "Epoch 00029: ReduceLROnPlateau reducing learning rate to 0.00032399998744949695.\n",
      "97/97 [==============================] - 47s 487ms/step - loss: 0.0401 - categorical_accuracy: 0.9287 - val_loss: 3.9008 - val_categorical_accuracy: 0.5306\n",
      "Epoch 30/300\n",
      "97/97 [==============================] - ETA: 0s - loss: 0.0247 - categorical_accuracy: 0.9261\n",
      "Epoch 00030: val_categorical_accuracy did not improve from 0.63932\n",
      "97/97 [==============================] - 48s 492ms/step - loss: 0.0247 - categorical_accuracy: 0.9261 - val_loss: 2.8279 - val_categorical_accuracy: 0.6257\n",
      "Epoch 31/300\n",
      "97/97 [==============================] - ETA: 0s - loss: 0.0147 - categorical_accuracy: 0.9281\n",
      "Epoch 00031: val_categorical_accuracy improved from 0.63932 to 0.63997, saving model to CuratedTotal.best_weights_128.hdf5\n",
      "97/97 [==============================] - 49s 509ms/step - loss: 0.0147 - categorical_accuracy: 0.9281 - val_loss: 2.9489 - val_categorical_accuracy: 0.6400\n",
      "Epoch 32/300\n",
      "97/97 [==============================] - ETA: 0s - loss: 0.0137 - categorical_accuracy: 0.9268\n",
      "Epoch 00032: val_categorical_accuracy improved from 0.63997 to 0.64974, saving model to CuratedTotal.best_weights_128.hdf5\n",
      "97/97 [==============================] - 50s 518ms/step - loss: 0.0137 - categorical_accuracy: 0.9268 - val_loss: 2.7269 - val_categorical_accuracy: 0.6497\n",
      "Epoch 33/300\n",
      "97/97 [==============================] - ETA: 0s - loss: 0.0121 - categorical_accuracy: 0.9278\n",
      "Epoch 00033: val_categorical_accuracy improved from 0.64974 to 0.65039, saving model to CuratedTotal.best_weights_128.hdf5\n",
      "97/97 [==============================] - 49s 505ms/step - loss: 0.0121 - categorical_accuracy: 0.9278 - val_loss: 2.8966 - val_categorical_accuracy: 0.6504\n",
      "Epoch 34/300\n",
      "97/97 [==============================] - ETA: 0s - loss: 0.0111 - categorical_accuracy: 0.9218\n",
      "Epoch 00034: val_categorical_accuracy improved from 0.65039 to 0.65430, saving model to CuratedTotal.best_weights_128.hdf5\n",
      "97/97 [==============================] - 49s 508ms/step - loss: 0.0111 - categorical_accuracy: 0.9218 - val_loss: 2.7012 - val_categorical_accuracy: 0.6543\n",
      "Epoch 35/300\n",
      "97/97 [==============================] - ETA: 0s - loss: 0.0096 - categorical_accuracy: 0.9210\n",
      "Epoch 00035: val_categorical_accuracy did not improve from 0.65430\n",
      "97/97 [==============================] - 48s 490ms/step - loss: 0.0096 - categorical_accuracy: 0.9210 - val_loss: 2.9170 - val_categorical_accuracy: 0.6413\n",
      "Epoch 36/300\n",
      "97/97 [==============================] - ETA: 0s - loss: 0.0071 - categorical_accuracy: 0.9219\n",
      "Epoch 00036: val_categorical_accuracy improved from 0.65430 to 0.66536, saving model to CuratedTotal.best_weights_128.hdf5\n",
      "97/97 [==============================] - 51s 531ms/step - loss: 0.0071 - categorical_accuracy: 0.9219 - val_loss: 2.7750 - val_categorical_accuracy: 0.6654\n",
      "Epoch 37/300\n",
      "97/97 [==============================] - ETA: 0s - loss: 0.0072 - categorical_accuracy: 0.9287\n",
      "Epoch 00037: val_categorical_accuracy did not improve from 0.66536\n",
      "97/97 [==============================] - 52s 537ms/step - loss: 0.0072 - categorical_accuracy: 0.9287 - val_loss: 2.7667 - val_categorical_accuracy: 0.6615\n",
      "Epoch 38/300\n",
      "97/97 [==============================] - ETA: 0s - loss: 0.0088 - categorical_accuracy: 0.9310\n",
      "Epoch 00038: val_categorical_accuracy improved from 0.66536 to 0.67448, saving model to CuratedTotal.best_weights_128.hdf5\n",
      "97/97 [==============================] - 52s 531ms/step - loss: 0.0088 - categorical_accuracy: 0.9310 - val_loss: 2.8187 - val_categorical_accuracy: 0.6745\n",
      "Epoch 39/300\n",
      "97/97 [==============================] - ETA: 0s - loss: 0.0101 - categorical_accuracy: 0.9271\n",
      "Epoch 00039: val_categorical_accuracy did not improve from 0.67448\n",
      "97/97 [==============================] - 48s 497ms/step - loss: 0.0101 - categorical_accuracy: 0.9271 - val_loss: 3.1609 - val_categorical_accuracy: 0.6393\n",
      "Epoch 40/300\n",
      "97/97 [==============================] - ETA: 0s - loss: 0.0108 - categorical_accuracy: 0.9300\n",
      "Epoch 00040: val_categorical_accuracy did not improve from 0.67448\n",
      "97/97 [==============================] - 47s 484ms/step - loss: 0.0108 - categorical_accuracy: 0.9300 - val_loss: 3.0588 - val_categorical_accuracy: 0.6302\n",
      "Epoch 41/300\n",
      "97/97 [==============================] - ETA: 0s - loss: 0.0106 - categorical_accuracy: 0.9303\n",
      "Epoch 00041: val_categorical_accuracy did not improve from 0.67448\n",
      "97/97 [==============================] - 49s 503ms/step - loss: 0.0106 - categorical_accuracy: 0.9303 - val_loss: 2.9887 - val_categorical_accuracy: 0.6406\n",
      "Epoch 42/300\n",
      "97/97 [==============================] - ETA: 0s - loss: 0.0223 - categorical_accuracy: 0.9302\n",
      "Epoch 00042: val_categorical_accuracy did not improve from 0.67448\n",
      "97/97 [==============================] - 48s 490ms/step - loss: 0.0223 - categorical_accuracy: 0.9302 - val_loss: 3.0276 - val_categorical_accuracy: 0.6419\n",
      "Epoch 43/300\n",
      "97/97 [==============================] - ETA: 0s - loss: 0.0219 - categorical_accuracy: 0.9210\n",
      "Epoch 00043: val_categorical_accuracy did not improve from 0.67448\n",
      "97/97 [==============================] - 49s 503ms/step - loss: 0.0219 - categorical_accuracy: 0.9210 - val_loss: 4.0029 - val_categorical_accuracy: 0.5462\n",
      "Epoch 44/300\n",
      "97/97 [==============================] - ETA: 0s - loss: 0.0332 - categorical_accuracy: 0.9213\n",
      "Epoch 00044: val_categorical_accuracy did not improve from 0.67448\n",
      "\n",
      "Epoch 00044: ReduceLROnPlateau reducing learning rate to 0.00019439999596215785.\n",
      "97/97 [==============================] - 47s 490ms/step - loss: 0.0332 - categorical_accuracy: 0.9213 - val_loss: 4.2122 - val_categorical_accuracy: 0.5293\n",
      "Epoch 45/300\n",
      "97/97 [==============================] - ETA: 0s - loss: 0.0193 - categorical_accuracy: 0.9239\n",
      "Epoch 00045: val_categorical_accuracy did not improve from 0.67448\n",
      "97/97 [==============================] - 48s 499ms/step - loss: 0.0193 - categorical_accuracy: 0.9239 - val_loss: 3.0640 - val_categorical_accuracy: 0.6328\n",
      "Epoch 46/300\n",
      "97/97 [==============================] - ETA: 0s - loss: 0.0086 - categorical_accuracy: 0.9273\n",
      "Epoch 00046: val_categorical_accuracy did not improve from 0.67448\n",
      "97/97 [==============================] - 48s 496ms/step - loss: 0.0086 - categorical_accuracy: 0.9273 - val_loss: 2.9546 - val_categorical_accuracy: 0.6549\n",
      "Epoch 47/300\n",
      "97/97 [==============================] - ETA: 0s - loss: 0.0065 - categorical_accuracy: 0.9245\n",
      "Epoch 00047: val_categorical_accuracy did not improve from 0.67448\n",
      "97/97 [==============================] - 49s 506ms/step - loss: 0.0065 - categorical_accuracy: 0.9245 - val_loss: 2.8603 - val_categorical_accuracy: 0.6615\n",
      "Epoch 48/300\n",
      "97/97 [==============================] - ETA: 0s - loss: 0.0056 - categorical_accuracy: 0.9250\n",
      "Epoch 00048: val_categorical_accuracy did not improve from 0.67448\n",
      "97/97 [==============================] - 48s 493ms/step - loss: 0.0056 - categorical_accuracy: 0.9250 - val_loss: 2.9400 - val_categorical_accuracy: 0.6556\n",
      "Epoch 49/300\n",
      "97/97 [==============================] - ETA: 0s - loss: 0.0038 - categorical_accuracy: 0.9255\n",
      "Epoch 00049: val_categorical_accuracy improved from 0.67448 to 0.67578, saving model to CuratedTotal.best_weights_128.hdf5\n",
      "97/97 [==============================] - 52s 534ms/step - loss: 0.0038 - categorical_accuracy: 0.9255 - val_loss: 2.8537 - val_categorical_accuracy: 0.6758\n",
      "Epoch 50/300\n",
      "97/97 [==============================] - ETA: 0s - loss: 0.0031 - categorical_accuracy: 0.9250\n",
      "Epoch 00050: val_categorical_accuracy did not improve from 0.67578\n",
      "97/97 [==============================] - 48s 493ms/step - loss: 0.0031 - categorical_accuracy: 0.9250 - val_loss: 2.9715 - val_categorical_accuracy: 0.6602\n",
      "Epoch 51/300\n",
      "97/97 [==============================] - ETA: 0s - loss: 0.0032 - categorical_accuracy: 0.9243\n",
      "Epoch 00051: val_categorical_accuracy did not improve from 0.67578\n",
      "97/97 [==============================] - 49s 509ms/step - loss: 0.0032 - categorical_accuracy: 0.9243 - val_loss: 3.0558 - val_categorical_accuracy: 0.6497\n",
      "Epoch 52/300\n",
      "97/97 [==============================] - ETA: 0s - loss: 0.0047 - categorical_accuracy: 0.9257\n",
      "Epoch 00052: val_categorical_accuracy did not improve from 0.67578\n",
      "97/97 [==============================] - 48s 496ms/step - loss: 0.0047 - categorical_accuracy: 0.9257 - val_loss: 3.1136 - val_categorical_accuracy: 0.6523\n",
      "Epoch 53/300\n",
      "97/97 [==============================] - ETA: 0s - loss: 0.0071 - categorical_accuracy: 0.9286\n",
      "Epoch 00053: val_categorical_accuracy did not improve from 0.67578\n",
      "97/97 [==============================] - 50s 512ms/step - loss: 0.0071 - categorical_accuracy: 0.9286 - val_loss: 3.1352 - val_categorical_accuracy: 0.6530\n",
      "Epoch 54/300\n",
      "97/97 [==============================] - ETA: 0s - loss: 0.0041 - categorical_accuracy: 0.9266\n",
      "Epoch 00054: val_categorical_accuracy did not improve from 0.67578\n",
      "97/97 [==============================] - 48s 496ms/step - loss: 0.0041 - categorical_accuracy: 0.9266 - val_loss: 3.2657 - val_categorical_accuracy: 0.6419\n",
      "Epoch 55/300\n",
      "97/97 [==============================] - ETA: 0s - loss: 0.0037 - categorical_accuracy: 0.9266\n",
      "Epoch 00055: val_categorical_accuracy did not improve from 0.67578\n",
      "\n",
      "Epoch 00055: ReduceLROnPlateau reducing learning rate to 0.0001166399975772947.\n",
      "97/97 [==============================] - 50s 518ms/step - loss: 0.0037 - categorical_accuracy: 0.9266 - val_loss: 3.0777 - val_categorical_accuracy: 0.6608\n",
      "Epoch 56/300\n",
      "97/97 [==============================] - ETA: 0s - loss: 0.0041 - categorical_accuracy: 0.9286\n",
      "Epoch 00056: val_categorical_accuracy did not improve from 0.67578\n",
      "97/97 [==============================] - 47s 486ms/step - loss: 0.0041 - categorical_accuracy: 0.9286 - val_loss: 3.0570 - val_categorical_accuracy: 0.6589\n",
      "Epoch 57/300\n",
      "97/97 [==============================] - ETA: 0s - loss: 0.0033 - categorical_accuracy: 0.9307\n",
      "Epoch 00057: val_categorical_accuracy did not improve from 0.67578\n",
      "97/97 [==============================] - 50s 514ms/step - loss: 0.0033 - categorical_accuracy: 0.9307 - val_loss: 2.9915 - val_categorical_accuracy: 0.6641\n",
      "Epoch 58/300\n",
      "97/97 [==============================] - ETA: 0s - loss: 0.0027 - categorical_accuracy: 0.9292\n",
      "Epoch 00058: val_categorical_accuracy did not improve from 0.67578\n",
      "97/97 [==============================] - 49s 508ms/step - loss: 0.0027 - categorical_accuracy: 0.9292 - val_loss: 2.9442 - val_categorical_accuracy: 0.6634\n",
      "Epoch 59/300\n",
      "97/97 [==============================] - ETA: 0s - loss: 0.0033 - categorical_accuracy: 0.9313\n",
      "Epoch 00059: val_categorical_accuracy did not improve from 0.67578\n",
      "97/97 [==============================] - 52s 534ms/step - loss: 0.0033 - categorical_accuracy: 0.9313 - val_loss: 2.9483 - val_categorical_accuracy: 0.6751\n",
      "Epoch 60/300\n",
      "97/97 [==============================] - ETA: 0s - loss: 0.0020 - categorical_accuracy: 0.9318\n",
      "Epoch 00060: val_categorical_accuracy did not improve from 0.67578\n",
      "97/97 [==============================] - 51s 527ms/step - loss: 0.0020 - categorical_accuracy: 0.9318 - val_loss: 2.9006 - val_categorical_accuracy: 0.6699\n",
      "Epoch 61/300\n",
      "97/97 [==============================] - ETA: 0s - loss: 0.0024 - categorical_accuracy: 0.9271\n",
      "Epoch 00061: val_categorical_accuracy did not improve from 0.67578\n",
      "\n",
      "Epoch 00061: ReduceLROnPlateau reducing learning rate to 6.998399767326191e-05.\n",
      "97/97 [==============================] - 51s 531ms/step - loss: 0.0024 - categorical_accuracy: 0.9271 - val_loss: 2.9614 - val_categorical_accuracy: 0.6732\n",
      "Epoch 62/300\n",
      "97/97 [==============================] - ETA: 0s - loss: 0.0028 - categorical_accuracy: 0.9292\n",
      "Epoch 00062: val_categorical_accuracy did not improve from 0.67578\n",
      "97/97 [==============================] - 49s 501ms/step - loss: 0.0028 - categorical_accuracy: 0.9292 - val_loss: 2.9020 - val_categorical_accuracy: 0.6738\n",
      "Epoch 63/300\n",
      "97/97 [==============================] - ETA: 0s - loss: 0.0014 - categorical_accuracy: 0.9252\n",
      "Epoch 00063: val_categorical_accuracy did not improve from 0.67578\n",
      "97/97 [==============================] - 49s 509ms/step - loss: 0.0014 - categorical_accuracy: 0.9252 - val_loss: 2.9585 - val_categorical_accuracy: 0.6725\n",
      "Epoch 64/300\n",
      "97/97 [==============================] - ETA: 0s - loss: 0.0012 - categorical_accuracy: 0.9311\n",
      "Epoch 00064: val_categorical_accuracy improved from 0.67578 to 0.68034, saving model to CuratedTotal.best_weights_128.hdf5\n",
      "97/97 [==============================] - 51s 524ms/step - loss: 0.0012 - categorical_accuracy: 0.9311 - val_loss: 2.9014 - val_categorical_accuracy: 0.6803\n",
      "Epoch 65/300\n",
      "97/97 [==============================] - ETA: 0s - loss: 0.0020 - categorical_accuracy: 0.9297\n",
      "Epoch 00065: val_categorical_accuracy did not improve from 0.68034\n",
      "97/97 [==============================] - 49s 510ms/step - loss: 0.0020 - categorical_accuracy: 0.9297 - val_loss: 2.8738 - val_categorical_accuracy: 0.6803\n",
      "Epoch 66/300\n",
      "97/97 [==============================] - ETA: 0s - loss: 8.2750e-04 - categorical_accuracy: 0.9299\n",
      "Epoch 00066: val_categorical_accuracy did not improve from 0.68034\n",
      "97/97 [==============================] - 47s 489ms/step - loss: 8.2750e-04 - categorical_accuracy: 0.9299 - val_loss: 2.8853 - val_categorical_accuracy: 0.6797\n",
      "Epoch 67/300\n",
      "97/97 [==============================] - ETA: 0s - loss: 0.0014 - categorical_accuracy: 0.9318\n",
      "Epoch 00067: val_categorical_accuracy did not improve from 0.68034\n",
      "97/97 [==============================] - 48s 499ms/step - loss: 0.0014 - categorical_accuracy: 0.9318 - val_loss: 2.9599 - val_categorical_accuracy: 0.6693\n",
      "Epoch 68/300\n",
      "97/97 [==============================] - ETA: 0s - loss: 0.0026 - categorical_accuracy: 0.9279\n",
      "Epoch 00068: val_categorical_accuracy did not improve from 0.68034\n",
      "97/97 [==============================] - 50s 511ms/step - loss: 0.0026 - categorical_accuracy: 0.9279 - val_loss: 2.9430 - val_categorical_accuracy: 0.6751\n",
      "Epoch 69/300\n",
      "97/97 [==============================] - ETA: 0s - loss: 0.0013 - categorical_accuracy: 0.9320\n",
      "Epoch 00069: val_categorical_accuracy did not improve from 0.68034\n",
      "97/97 [==============================] - 47s 487ms/step - loss: 0.0013 - categorical_accuracy: 0.9320 - val_loss: 2.9397 - val_categorical_accuracy: 0.6771\n",
      "Epoch 70/300\n",
      "97/97 [==============================] - ETA: 0s - loss: 0.0014 - categorical_accuracy: 0.9352\n",
      "Epoch 00070: val_categorical_accuracy did not improve from 0.68034\n",
      "\n",
      "Epoch 00070: ReduceLROnPlateau reducing learning rate to 4.199039685772732e-05.\n",
      "97/97 [==============================] - 50s 511ms/step - loss: 0.0014 - categorical_accuracy: 0.9352 - val_loss: 2.9581 - val_categorical_accuracy: 0.6764\n",
      "Epoch 71/300\n",
      "97/97 [==============================] - ETA: 0s - loss: 0.0016 - categorical_accuracy: 0.9252\n",
      "Epoch 00071: val_categorical_accuracy did not improve from 0.68034\n",
      "97/97 [==============================] - 47s 488ms/step - loss: 0.0016 - categorical_accuracy: 0.9252 - val_loss: 2.9266 - val_categorical_accuracy: 0.6738\n",
      "Epoch 72/300\n",
      "97/97 [==============================] - ETA: 0s - loss: 0.0018 - categorical_accuracy: 0.9287\n",
      "Epoch 00072: val_categorical_accuracy did not improve from 0.68034\n",
      "97/97 [==============================] - 48s 495ms/step - loss: 0.0018 - categorical_accuracy: 0.9287 - val_loss: 2.9475 - val_categorical_accuracy: 0.6725\n",
      "Epoch 73/300\n",
      "97/97 [==============================] - ETA: 0s - loss: 0.0013 - categorical_accuracy: 0.9273\n",
      "Epoch 00073: val_categorical_accuracy did not improve from 0.68034\n",
      "97/97 [==============================] - 49s 500ms/step - loss: 0.0013 - categorical_accuracy: 0.9273 - val_loss: 2.9430 - val_categorical_accuracy: 0.6738\n",
      "Epoch 74/300\n",
      "97/97 [==============================] - ETA: 0s - loss: 0.0013 - categorical_accuracy: 0.9323\n",
      "Epoch 00074: val_categorical_accuracy did not improve from 0.68034\n",
      "97/97 [==============================] - 48s 491ms/step - loss: 0.0013 - categorical_accuracy: 0.9323 - val_loss: 2.9438 - val_categorical_accuracy: 0.6771\n",
      "Epoch 75/300\n",
      "97/97 [==============================] - ETA: 0s - loss: 8.7476e-04 - categorical_accuracy: 0.9303\n",
      "Epoch 00075: val_categorical_accuracy did not improve from 0.68034\n",
      "97/97 [==============================] - 49s 509ms/step - loss: 8.7476e-04 - categorical_accuracy: 0.9303 - val_loss: 2.9305 - val_categorical_accuracy: 0.6732\n",
      "Epoch 76/300\n",
      "97/97 [==============================] - ETA: 0s - loss: 7.6744e-04 - categorical_accuracy: 0.9337\n",
      "Epoch 00076: val_categorical_accuracy did not improve from 0.68034\n",
      "\n",
      "Epoch 00076: ReduceLROnPlateau reducing learning rate to 2.519423724152148e-05.\n",
      "97/97 [==============================] - 49s 501ms/step - loss: 7.6744e-04 - categorical_accuracy: 0.9337 - val_loss: 2.9776 - val_categorical_accuracy: 0.6771\n",
      "Epoch 77/300\n",
      "97/97 [==============================] - ETA: 0s - loss: 7.6568e-04 - categorical_accuracy: 0.9320\n",
      "Epoch 00077: val_categorical_accuracy did not improve from 0.68034\n",
      "97/97 [==============================] - 50s 519ms/step - loss: 7.6568e-04 - categorical_accuracy: 0.9320 - val_loss: 2.9681 - val_categorical_accuracy: 0.6790\n",
      "Epoch 78/300\n",
      "97/97 [==============================] - ETA: 0s - loss: 0.0021 - categorical_accuracy: 0.9336\n",
      "Epoch 00078: val_categorical_accuracy did not improve from 0.68034\n",
      "97/97 [==============================] - 49s 504ms/step - loss: 0.0021 - categorical_accuracy: 0.9336 - val_loss: 3.0101 - val_categorical_accuracy: 0.6758\n",
      "Epoch 79/300\n",
      "97/97 [==============================] - ETA: 0s - loss: 0.0011 - categorical_accuracy: 0.9313\n",
      "Epoch 00079: val_categorical_accuracy improved from 0.68034 to 0.68099, saving model to CuratedTotal.best_weights_128.hdf5\n",
      "97/97 [==============================] - 51s 528ms/step - loss: 0.0011 - categorical_accuracy: 0.9313 - val_loss: 2.9754 - val_categorical_accuracy: 0.6810\n",
      "Epoch 80/300\n",
      "97/97 [==============================] - ETA: 0s - loss: 4.5814e-04 - categorical_accuracy: 0.9328\n",
      "Epoch 00080: val_categorical_accuracy improved from 0.68099 to 0.68294, saving model to CuratedTotal.best_weights_128.hdf5\n",
      "97/97 [==============================] - 51s 528ms/step - loss: 4.5814e-04 - categorical_accuracy: 0.9328 - val_loss: 2.9701 - val_categorical_accuracy: 0.6829\n",
      "Epoch 81/300\n",
      "97/97 [==============================] - ETA: 0s - loss: 5.2112e-04 - categorical_accuracy: 0.9323\n",
      "Epoch 00081: val_categorical_accuracy did not improve from 0.68294\n",
      "97/97 [==============================] - 49s 506ms/step - loss: 5.2112e-04 - categorical_accuracy: 0.9323 - val_loss: 2.9626 - val_categorical_accuracy: 0.6797\n",
      "Epoch 82/300\n",
      "97/97 [==============================] - ETA: 0s - loss: 8.1096e-04 - categorical_accuracy: 0.9341\n",
      "Epoch 00082: val_categorical_accuracy did not improve from 0.68294\n",
      "97/97 [==============================] - 50s 520ms/step - loss: 8.1096e-04 - categorical_accuracy: 0.9341 - val_loss: 2.9757 - val_categorical_accuracy: 0.6797\n",
      "Epoch 83/300\n",
      "97/97 [==============================] - ETA: 0s - loss: 9.2962e-04 - categorical_accuracy: 0.9313\n",
      "Epoch 00083: val_categorical_accuracy did not improve from 0.68294\n",
      "97/97 [==============================] - 49s 505ms/step - loss: 9.2962e-04 - categorical_accuracy: 0.9313 - val_loss: 2.9384 - val_categorical_accuracy: 0.6810\n",
      "Epoch 84/300\n",
      "97/97 [==============================] - ETA: 0s - loss: 4.4099e-04 - categorical_accuracy: 0.9332\n",
      "Epoch 00084: val_categorical_accuracy did not improve from 0.68294\n",
      "97/97 [==============================] - 51s 526ms/step - loss: 4.4099e-04 - categorical_accuracy: 0.9332 - val_loss: 2.9334 - val_categorical_accuracy: 0.6823\n",
      "Epoch 85/300\n",
      "97/97 [==============================] - ETA: 0s - loss: 7.0976e-04 - categorical_accuracy: 0.9290\n",
      "Epoch 00085: val_categorical_accuracy did not improve from 0.68294\n",
      "97/97 [==============================] - 49s 501ms/step - loss: 7.0976e-04 - categorical_accuracy: 0.9290 - val_loss: 2.9388 - val_categorical_accuracy: 0.6829\n",
      "Epoch 86/300\n",
      "97/97 [==============================] - ETA: 0s - loss: 7.6485e-04 - categorical_accuracy: 0.9341\n",
      "Epoch 00086: val_categorical_accuracy did not improve from 0.68294\n",
      "\n",
      "Epoch 00086: ReduceLROnPlateau reducing learning rate to 1.511654190835543e-05.\n",
      "97/97 [==============================] - 51s 523ms/step - loss: 7.6485e-04 - categorical_accuracy: 0.9341 - val_loss: 2.9507 - val_categorical_accuracy: 0.6777\n",
      "Epoch 87/300\n",
      "97/97 [==============================] - ETA: 0s - loss: 6.3566e-04 - categorical_accuracy: 0.9318\n",
      "Epoch 00087: val_categorical_accuracy did not improve from 0.68294\n",
      "97/97 [==============================] - 49s 508ms/step - loss: 6.3566e-04 - categorical_accuracy: 0.9318 - val_loss: 2.9485 - val_categorical_accuracy: 0.6810\n",
      "Epoch 88/300\n",
      "97/97 [==============================] - ETA: 0s - loss: 7.7411e-04 - categorical_accuracy: 0.9315\n",
      "Epoch 00088: val_categorical_accuracy did not improve from 0.68294\n",
      "97/97 [==============================] - 49s 510ms/step - loss: 7.7411e-04 - categorical_accuracy: 0.9315 - val_loss: 2.9324 - val_categorical_accuracy: 0.6797\n",
      "Epoch 89/300\n",
      "97/97 [==============================] - ETA: 0s - loss: 4.3186e-04 - categorical_accuracy: 0.9311\n",
      "Epoch 00089: val_categorical_accuracy did not improve from 0.68294\n",
      "97/97 [==============================] - 52s 538ms/step - loss: 4.3186e-04 - categorical_accuracy: 0.9311 - val_loss: 2.9389 - val_categorical_accuracy: 0.6829\n",
      "Epoch 90/300\n",
      "97/97 [==============================] - ETA: 0s - loss: 6.4547e-04 - categorical_accuracy: 0.9295\n",
      "Epoch 00090: val_categorical_accuracy did not improve from 0.68294\n",
      "97/97 [==============================] - 49s 509ms/step - loss: 6.4547e-04 - categorical_accuracy: 0.9295 - val_loss: 2.9378 - val_categorical_accuracy: 0.6823\n",
      "Epoch 91/300\n",
      "97/97 [==============================] - ETA: 0s - loss: 3.3931e-04 - categorical_accuracy: 0.9341\n",
      "Epoch 00091: val_categorical_accuracy did not improve from 0.68294\n",
      "97/97 [==============================] - 52s 532ms/step - loss: 3.3931e-04 - categorical_accuracy: 0.9341 - val_loss: 2.9340 - val_categorical_accuracy: 0.6810\n",
      "Epoch 92/300\n",
      "97/97 [==============================] - ETA: 0s - loss: 3.9081e-04 - categorical_accuracy: 0.9321\n",
      "Epoch 00092: val_categorical_accuracy did not improve from 0.68294\n",
      "\n",
      "Epoch 00092: ReduceLROnPlateau reducing learning rate to 9.069925363291987e-06.\n",
      "97/97 [==============================] - 50s 512ms/step - loss: 3.9081e-04 - categorical_accuracy: 0.9321 - val_loss: 2.9455 - val_categorical_accuracy: 0.6771\n",
      "Epoch 93/300\n",
      "97/97 [==============================] - ETA: 0s - loss: 4.1692e-04 - categorical_accuracy: 0.9349\n",
      "Epoch 00093: val_categorical_accuracy did not improve from 0.68294\n",
      "97/97 [==============================] - 50s 514ms/step - loss: 4.1692e-04 - categorical_accuracy: 0.9349 - val_loss: 2.9543 - val_categorical_accuracy: 0.6771\n",
      "Epoch 94/300\n",
      "97/97 [==============================] - ETA: 0s - loss: 4.2799e-04 - categorical_accuracy: 0.9342\n",
      "Epoch 00094: val_categorical_accuracy did not improve from 0.68294\n",
      "97/97 [==============================] - 50s 515ms/step - loss: 4.2799e-04 - categorical_accuracy: 0.9342 - val_loss: 2.9541 - val_categorical_accuracy: 0.6771\n",
      "Epoch 95/300\n",
      "97/97 [==============================] - ETA: 0s - loss: 7.3368e-04 - categorical_accuracy: 0.9300\n",
      "Epoch 00095: val_categorical_accuracy did not improve from 0.68294\n",
      "97/97 [==============================] - 50s 511ms/step - loss: 7.3368e-04 - categorical_accuracy: 0.9300 - val_loss: 2.9605 - val_categorical_accuracy: 0.6797\n",
      "Epoch 96/300\n",
      "97/97 [==============================] - ETA: 0s - loss: 5.5607e-04 - categorical_accuracy: 0.9308\n",
      "Epoch 00096: val_categorical_accuracy improved from 0.68294 to 0.68359, saving model to CuratedTotal.best_weights_128.hdf5\n",
      "97/97 [==============================] - 54s 556ms/step - loss: 5.5607e-04 - categorical_accuracy: 0.9308 - val_loss: 2.9465 - val_categorical_accuracy: 0.6836\n",
      "Epoch 97/300\n",
      "97/97 [==============================] - ETA: 0s - loss: 3.6117e-04 - categorical_accuracy: 0.9323\n",
      "Epoch 00097: val_categorical_accuracy did not improve from 0.68359\n",
      "97/97 [==============================] - 49s 506ms/step - loss: 3.6117e-04 - categorical_accuracy: 0.9323 - val_loss: 2.9391 - val_categorical_accuracy: 0.6823\n",
      "Epoch 98/300\n",
      "97/97 [==============================] - ETA: 0s - loss: 3.3678e-04 - categorical_accuracy: 0.9334\n",
      "Epoch 00098: val_categorical_accuracy did not improve from 0.68359\n",
      "97/97 [==============================] - 51s 528ms/step - loss: 3.3678e-04 - categorical_accuracy: 0.9334 - val_loss: 2.9442 - val_categorical_accuracy: 0.6790\n",
      "Epoch 99/300\n",
      "97/97 [==============================] - ETA: 0s - loss: 5.2558e-04 - categorical_accuracy: 0.9339\n",
      "Epoch 00099: val_categorical_accuracy did not improve from 0.68359\n",
      "97/97 [==============================] - 50s 512ms/step - loss: 5.2558e-04 - categorical_accuracy: 0.9339 - val_loss: 2.9474 - val_categorical_accuracy: 0.6758\n",
      "Epoch 100/300\n",
      "97/97 [==============================] - ETA: 0s - loss: 5.7364e-04 - categorical_accuracy: 0.9326\n",
      "Epoch 00100: val_categorical_accuracy did not improve from 0.68359\n",
      "97/97 [==============================] - 49s 503ms/step - loss: 5.7364e-04 - categorical_accuracy: 0.9326 - val_loss: 2.9487 - val_categorical_accuracy: 0.6810\n",
      "Epoch 101/300\n",
      "97/97 [==============================] - ETA: 0s - loss: 2.9909e-04 - categorical_accuracy: 0.9302\n",
      "Epoch 00101: val_categorical_accuracy did not improve from 0.68359\n",
      "97/97 [==============================] - 51s 527ms/step - loss: 2.9909e-04 - categorical_accuracy: 0.9302 - val_loss: 2.9499 - val_categorical_accuracy: 0.6810\n",
      "Epoch 102/300\n",
      "97/97 [==============================] - ETA: 0s - loss: 3.2547e-04 - categorical_accuracy: 0.9297\n",
      "Epoch 00102: val_categorical_accuracy did not improve from 0.68359\n",
      "\n",
      "Epoch 00102: ReduceLROnPlateau reducing learning rate to 5.441954999696463e-06.\n",
      "97/97 [==============================] - 49s 509ms/step - loss: 3.2547e-04 - categorical_accuracy: 0.9297 - val_loss: 2.9425 - val_categorical_accuracy: 0.6823\n",
      "Epoch 103/300\n",
      "97/97 [==============================] - ETA: 0s - loss: 4.0746e-04 - categorical_accuracy: 0.9297\n",
      "Epoch 00103: val_categorical_accuracy did not improve from 0.68359\n",
      "97/97 [==============================] - 51s 522ms/step - loss: 4.0746e-04 - categorical_accuracy: 0.9297 - val_loss: 2.9417 - val_categorical_accuracy: 0.6810\n",
      "Epoch 104/300\n",
      "97/97 [==============================] - ETA: 0s - loss: 3.2684e-04 - categorical_accuracy: 0.9321\n",
      "Epoch 00104: val_categorical_accuracy did not improve from 0.68359\n",
      "97/97 [==============================] - 49s 505ms/step - loss: 3.2684e-04 - categorical_accuracy: 0.9321 - val_loss: 2.9494 - val_categorical_accuracy: 0.6829\n",
      "Epoch 105/300\n",
      "97/97 [==============================] - ETA: 0s - loss: 4.4408e-04 - categorical_accuracy: 0.9305\n",
      "Epoch 00105: val_categorical_accuracy did not improve from 0.68359\n",
      "97/97 [==============================] - 49s 502ms/step - loss: 4.4408e-04 - categorical_accuracy: 0.9305 - val_loss: 2.9542 - val_categorical_accuracy: 0.6797\n",
      "Epoch 106/300\n",
      "97/97 [==============================] - ETA: 0s - loss: 4.0845e-04 - categorical_accuracy: 0.9310\n",
      "Epoch 00106: val_categorical_accuracy did not improve from 0.68359\n",
      "97/97 [==============================] - 51s 523ms/step - loss: 4.0845e-04 - categorical_accuracy: 0.9310 - val_loss: 2.9558 - val_categorical_accuracy: 0.6829\n",
      "Epoch 107/300\n",
      "97/97 [==============================] - ETA: 0s - loss: 2.9051e-04 - categorical_accuracy: 0.9294\n",
      "Epoch 00107: val_categorical_accuracy did not improve from 0.68359\n",
      "97/97 [==============================] - 49s 507ms/step - loss: 2.9051e-04 - categorical_accuracy: 0.9294 - val_loss: 2.9484 - val_categorical_accuracy: 0.6823\n",
      "Epoch 108/300\n",
      "97/97 [==============================] - ETA: 0s - loss: 3.2929e-04 - categorical_accuracy: 0.9321\n",
      "Epoch 00108: val_categorical_accuracy did not improve from 0.68359\n",
      "\n",
      "Epoch 00108: ReduceLROnPlateau reducing learning rate to 3.265173108957242e-06.\n",
      "97/97 [==============================] - 50s 510ms/step - loss: 3.2929e-04 - categorical_accuracy: 0.9321 - val_loss: 2.9471 - val_categorical_accuracy: 0.6829\n",
      "Epoch 109/300\n",
      "97/97 [==============================] - ETA: 0s - loss: 6.5710e-04 - categorical_accuracy: 0.9311\n",
      "Epoch 00109: val_categorical_accuracy did not improve from 0.68359\n",
      "97/97 [==============================] - 52s 538ms/step - loss: 6.5710e-04 - categorical_accuracy: 0.9311 - val_loss: 2.9564 - val_categorical_accuracy: 0.6829\n",
      "Epoch 110/300\n",
      "97/97 [==============================] - ETA: 0s - loss: 3.3742e-04 - categorical_accuracy: 0.9311\n",
      "Epoch 00110: val_categorical_accuracy improved from 0.68359 to 0.68424, saving model to CuratedTotal.best_weights_128.hdf5\n",
      "97/97 [==============================] - 53s 549ms/step - loss: 3.3742e-04 - categorical_accuracy: 0.9311 - val_loss: 2.9546 - val_categorical_accuracy: 0.6842\n",
      "Epoch 111/300\n",
      "97/97 [==============================] - ETA: 0s - loss: 2.6811e-04 - categorical_accuracy: 0.9360\n",
      "Epoch 00111: val_categorical_accuracy did not improve from 0.68424\n",
      "97/97 [==============================] - 56s 575ms/step - loss: 2.6811e-04 - categorical_accuracy: 0.9360 - val_loss: 2.9569 - val_categorical_accuracy: 0.6836\n",
      "Epoch 112/300\n",
      "97/97 [==============================] - ETA: 0s - loss: 2.7800e-04 - categorical_accuracy: 0.9323\n",
      "Epoch 00112: val_categorical_accuracy did not improve from 0.68424\n",
      "97/97 [==============================] - 53s 550ms/step - loss: 2.7800e-04 - categorical_accuracy: 0.9323 - val_loss: 2.9623 - val_categorical_accuracy: 0.6810\n",
      "Epoch 113/300\n",
      "97/97 [==============================] - ETA: 0s - loss: 4.0175e-04 - categorical_accuracy: 0.9332\n",
      "Epoch 00113: val_categorical_accuracy did not improve from 0.68424\n",
      "97/97 [==============================] - 51s 524ms/step - loss: 4.0175e-04 - categorical_accuracy: 0.9332 - val_loss: 2.9607 - val_categorical_accuracy: 0.6829\n",
      "Epoch 114/300\n",
      "97/97 [==============================] - ETA: 0s - loss: 2.5870e-04 - categorical_accuracy: 0.9303\n",
      "Epoch 00114: val_categorical_accuracy did not improve from 0.68424\n",
      "97/97 [==============================] - 47s 489ms/step - loss: 2.5870e-04 - categorical_accuracy: 0.9303 - val_loss: 2.9554 - val_categorical_accuracy: 0.6836\n",
      "Epoch 115/300\n",
      "97/97 [==============================] - ETA: 0s - loss: 3.4406e-04 - categorical_accuracy: 0.9334\n",
      "Epoch 00115: val_categorical_accuracy did not improve from 0.68424\n",
      "97/97 [==============================] - 52s 536ms/step - loss: 3.4406e-04 - categorical_accuracy: 0.9334 - val_loss: 2.9577 - val_categorical_accuracy: 0.6829\n",
      "Epoch 116/300\n",
      "97/97 [==============================] - ETA: 0s - loss: 3.0892e-04 - categorical_accuracy: 0.9324\n",
      "Epoch 00116: val_categorical_accuracy did not improve from 0.68424\n",
      "\n",
      "Epoch 00116: ReduceLROnPlateau reducing learning rate to 1.959103838089504e-06.\n",
      "97/97 [==============================] - 55s 572ms/step - loss: 3.0892e-04 - categorical_accuracy: 0.9324 - val_loss: 2.9568 - val_categorical_accuracy: 0.6829\n",
      "Epoch 117/300\n",
      "97/97 [==============================] - ETA: 0s - loss: 4.3955e-04 - categorical_accuracy: 0.9324\n",
      "Epoch 00117: val_categorical_accuracy improved from 0.68424 to 0.68490, saving model to CuratedTotal.best_weights_128.hdf5\n",
      "97/97 [==============================] - 56s 582ms/step - loss: 4.3955e-04 - categorical_accuracy: 0.9324 - val_loss: 2.9539 - val_categorical_accuracy: 0.6849\n",
      "Epoch 118/300\n",
      "97/97 [==============================] - ETA: 0s - loss: 3.2058e-04 - categorical_accuracy: 0.9308\n",
      "Epoch 00118: val_categorical_accuracy did not improve from 0.68490\n",
      "97/97 [==============================] - 53s 549ms/step - loss: 3.2058e-04 - categorical_accuracy: 0.9308 - val_loss: 2.9524 - val_categorical_accuracy: 0.6823\n",
      "Epoch 119/300\n",
      "97/97 [==============================] - ETA: 0s - loss: 3.3247e-04 - categorical_accuracy: 0.9308\n",
      "Epoch 00119: val_categorical_accuracy did not improve from 0.68490\n",
      "97/97 [==============================] - 49s 510ms/step - loss: 3.3247e-04 - categorical_accuracy: 0.9308 - val_loss: 2.9491 - val_categorical_accuracy: 0.6836\n",
      "Epoch 120/300\n",
      "97/97 [==============================] - ETA: 0s - loss: 3.2056e-04 - categorical_accuracy: 0.9326\n",
      "Epoch 00120: val_categorical_accuracy did not improve from 0.68490\n",
      "97/97 [==============================] - 53s 544ms/step - loss: 3.2056e-04 - categorical_accuracy: 0.9326 - val_loss: 2.9543 - val_categorical_accuracy: 0.6829\n",
      "Epoch 121/300\n",
      "97/97 [==============================] - ETA: 0s - loss: 3.1214e-04 - categorical_accuracy: 0.9341\n",
      "Epoch 00121: val_categorical_accuracy did not improve from 0.68490\n",
      "97/97 [==============================] - 53s 542ms/step - loss: 3.1214e-04 - categorical_accuracy: 0.9341 - val_loss: 2.9650 - val_categorical_accuracy: 0.6810\n",
      "Epoch 122/300\n",
      "97/97 [==============================] - ETA: 0s - loss: 2.9029e-04 - categorical_accuracy: 0.9349\n",
      "Epoch 00122: val_categorical_accuracy did not improve from 0.68490\n",
      "97/97 [==============================] - 53s 542ms/step - loss: 2.9029e-04 - categorical_accuracy: 0.9349 - val_loss: 2.9602 - val_categorical_accuracy: 0.6810\n",
      "Epoch 123/300\n",
      "97/97 [==============================] - ETA: 0s - loss: 2.9626e-04 - categorical_accuracy: 0.9292\n",
      "Epoch 00123: val_categorical_accuracy did not improve from 0.68490\n",
      "\n",
      "Epoch 00123: ReduceLROnPlateau reducing learning rate to 1.1754623301385436e-06.\n",
      "97/97 [==============================] - 48s 499ms/step - loss: 2.9626e-04 - categorical_accuracy: 0.9292 - val_loss: 2.9597 - val_categorical_accuracy: 0.6823\n",
      "Epoch 124/300\n",
      "97/97 [==============================] - ETA: 0s - loss: 3.3641e-04 - categorical_accuracy: 0.9347\n",
      "Epoch 00124: val_categorical_accuracy did not improve from 0.68490\n",
      "97/97 [==============================] - 53s 543ms/step - loss: 3.3641e-04 - categorical_accuracy: 0.9347 - val_loss: 2.9591 - val_categorical_accuracy: 0.6823\n",
      "Epoch 125/300\n",
      "97/97 [==============================] - ETA: 0s - loss: 3.8675e-04 - categorical_accuracy: 0.9303\n",
      "Epoch 00125: val_categorical_accuracy did not improve from 0.68490\n",
      "97/97 [==============================] - 54s 560ms/step - loss: 3.8675e-04 - categorical_accuracy: 0.9303 - val_loss: 2.9605 - val_categorical_accuracy: 0.6816\n",
      "Epoch 126/300\n",
      "97/97 [==============================] - ETA: 0s - loss: 2.6951e-04 - categorical_accuracy: 0.9328\n",
      "Epoch 00126: val_categorical_accuracy did not improve from 0.68490\n",
      "97/97 [==============================] - 52s 539ms/step - loss: 2.6951e-04 - categorical_accuracy: 0.9328 - val_loss: 2.9584 - val_categorical_accuracy: 0.6816\n",
      "Epoch 127/300\n",
      "97/97 [==============================] - ETA: 0s - loss: 4.0464e-04 - categorical_accuracy: 0.9315\n",
      "Epoch 00127: val_categorical_accuracy did not improve from 0.68490\n",
      "97/97 [==============================] - 53s 547ms/step - loss: 4.0464e-04 - categorical_accuracy: 0.9315 - val_loss: 2.9598 - val_categorical_accuracy: 0.6823\n",
      "Epoch 128/300\n",
      "97/97 [==============================] - ETA: 0s - loss: 3.0959e-04 - categorical_accuracy: 0.9316\n",
      "Epoch 00128: val_categorical_accuracy did not improve from 0.68490\n",
      "97/97 [==============================] - 50s 512ms/step - loss: 3.0959e-04 - categorical_accuracy: 0.9316 - val_loss: 2.9582 - val_categorical_accuracy: 0.6829\n",
      "Epoch 129/300\n",
      "97/97 [==============================] - ETA: 0s - loss: 2.6309e-04 - categorical_accuracy: 0.9299\n",
      "Epoch 00129: val_categorical_accuracy did not improve from 0.68490\n",
      "\n",
      "Epoch 00129: ReduceLROnPlateau reducing learning rate to 7.052773980831261e-07.\n",
      "97/97 [==============================] - 52s 532ms/step - loss: 2.6309e-04 - categorical_accuracy: 0.9299 - val_loss: 2.9635 - val_categorical_accuracy: 0.6823\n",
      "Epoch 130/300\n",
      "97/97 [==============================] - ETA: 0s - loss: 2.7635e-04 - categorical_accuracy: 0.9320\n",
      "Epoch 00130: val_categorical_accuracy did not improve from 0.68490\n",
      "97/97 [==============================] - 51s 530ms/step - loss: 2.7635e-04 - categorical_accuracy: 0.9320 - val_loss: 2.9570 - val_categorical_accuracy: 0.6829\n",
      "Epoch 131/300\n",
      "97/97 [==============================] - ETA: 0s - loss: 2.7472e-04 - categorical_accuracy: 0.9337\n",
      "Epoch 00131: val_categorical_accuracy did not improve from 0.68490\n",
      "97/97 [==============================] - 51s 526ms/step - loss: 2.7472e-04 - categorical_accuracy: 0.9337 - val_loss: 2.9583 - val_categorical_accuracy: 0.6823\n",
      "Epoch 132/300\n",
      "97/97 [==============================] - ETA: 0s - loss: 3.4695e-04 - categorical_accuracy: 0.9302\n",
      "Epoch 00132: val_categorical_accuracy did not improve from 0.68490\n",
      "97/97 [==============================] - 48s 494ms/step - loss: 3.4695e-04 - categorical_accuracy: 0.9302 - val_loss: 2.9578 - val_categorical_accuracy: 0.6849\n",
      "Epoch 133/300\n",
      "97/97 [==============================] - ETA: 0s - loss: 2.9177e-04 - categorical_accuracy: 0.9337\n",
      "Epoch 00133: val_categorical_accuracy did not improve from 0.68490\n",
      "97/97 [==============================] - 52s 534ms/step - loss: 2.9177e-04 - categorical_accuracy: 0.9337 - val_loss: 2.9612 - val_categorical_accuracy: 0.6849\n",
      "Epoch 134/300\n",
      "97/97 [==============================] - ETA: 0s - loss: 3.3073e-04 - categorical_accuracy: 0.9300\n",
      "Epoch 00134: val_categorical_accuracy did not improve from 0.68490\n",
      "97/97 [==============================] - 52s 538ms/step - loss: 3.3073e-04 - categorical_accuracy: 0.9300 - val_loss: 2.9602 - val_categorical_accuracy: 0.6829\n",
      "Epoch 135/300\n",
      "97/97 [==============================] - ETA: 0s - loss: 3.5157e-04 - categorical_accuracy: 0.9321\n",
      "Epoch 00135: val_categorical_accuracy did not improve from 0.68490\n",
      "\n",
      "Epoch 00135: ReduceLROnPlateau reducing learning rate to 4.231664320286654e-07.\n",
      "97/97 [==============================] - 51s 527ms/step - loss: 3.5157e-04 - categorical_accuracy: 0.9321 - val_loss: 2.9578 - val_categorical_accuracy: 0.6842\n",
      "Epoch 136/300\n",
      "97/97 [==============================] - ETA: 0s - loss: 2.6232e-04 - categorical_accuracy: 0.9318\n",
      "Epoch 00136: val_categorical_accuracy improved from 0.68490 to 0.68555, saving model to CuratedTotal.best_weights_128.hdf5\n",
      "97/97 [==============================] - 51s 528ms/step - loss: 2.6232e-04 - categorical_accuracy: 0.9318 - val_loss: 2.9576 - val_categorical_accuracy: 0.6855\n",
      "Epoch 137/300\n",
      "97/97 [==============================] - ETA: 0s - loss: 3.3384e-04 - categorical_accuracy: 0.9336\n",
      "Epoch 00137: val_categorical_accuracy did not improve from 0.68555\n",
      "97/97 [==============================] - 52s 536ms/step - loss: 3.3384e-04 - categorical_accuracy: 0.9336 - val_loss: 2.9594 - val_categorical_accuracy: 0.6842\n",
      "Epoch 138/300\n",
      "97/97 [==============================] - ETA: 0s - loss: 3.8935e-04 - categorical_accuracy: 0.9323\n",
      "Epoch 00138: val_categorical_accuracy did not improve from 0.68555\n",
      "97/97 [==============================] - 51s 530ms/step - loss: 3.8935e-04 - categorical_accuracy: 0.9323 - val_loss: 2.9645 - val_categorical_accuracy: 0.6842\n",
      "Epoch 139/300\n",
      "97/97 [==============================] - ETA: 0s - loss: 5.9298e-04 - categorical_accuracy: 0.9324\n",
      "Epoch 00139: val_categorical_accuracy did not improve from 0.68555\n",
      "97/97 [==============================] - 52s 532ms/step - loss: 5.9298e-04 - categorical_accuracy: 0.9324 - val_loss: 2.9590 - val_categorical_accuracy: 0.6842\n",
      "Epoch 140/300\n",
      "97/97 [==============================] - ETA: 0s - loss: 2.9663e-04 - categorical_accuracy: 0.9320\n",
      "Epoch 00140: val_categorical_accuracy did not improve from 0.68555\n",
      "97/97 [==============================] - 49s 503ms/step - loss: 2.9663e-04 - categorical_accuracy: 0.9320 - val_loss: 2.9669 - val_categorical_accuracy: 0.6849\n",
      "Epoch 141/300\n",
      "97/97 [==============================] - ETA: 0s - loss: 2.8377e-04 - categorical_accuracy: 0.9341\n",
      "Epoch 00141: val_categorical_accuracy did not improve from 0.68555\n",
      "97/97 [==============================] - 55s 562ms/step - loss: 2.8377e-04 - categorical_accuracy: 0.9341 - val_loss: 2.9609 - val_categorical_accuracy: 0.6823\n",
      "Epoch 142/300\n",
      "97/97 [==============================] - ETA: 0s - loss: 3.2259e-04 - categorical_accuracy: 0.9342\n",
      "Epoch 00142: val_categorical_accuracy did not improve from 0.68555\n",
      "\n",
      "Epoch 00142: ReduceLROnPlateau reducing learning rate to 2.5389985580659413e-07.\n",
      "97/97 [==============================] - 55s 569ms/step - loss: 3.2259e-04 - categorical_accuracy: 0.9342 - val_loss: 2.9649 - val_categorical_accuracy: 0.6823\n",
      "Epoch 143/300\n",
      "97/97 [==============================] - ETA: 0s - loss: 6.4545e-04 - categorical_accuracy: 0.9329\n",
      "Epoch 00143: val_categorical_accuracy did not improve from 0.68555\n",
      "97/97 [==============================] - 54s 553ms/step - loss: 6.4545e-04 - categorical_accuracy: 0.9329 - val_loss: 2.9585 - val_categorical_accuracy: 0.6836\n",
      "Epoch 144/300\n",
      "97/97 [==============================] - ETA: 0s - loss: 2.7153e-04 - categorical_accuracy: 0.9318\n",
      "Epoch 00144: val_categorical_accuracy did not improve from 0.68555\n",
      "97/97 [==============================] - 49s 507ms/step - loss: 2.7153e-04 - categorical_accuracy: 0.9318 - val_loss: 2.9628 - val_categorical_accuracy: 0.6816\n",
      "Epoch 145/300\n",
      "97/97 [==============================] - ETA: 0s - loss: 2.6415e-04 - categorical_accuracy: 0.9292\n",
      "Epoch 00145: val_categorical_accuracy did not improve from 0.68555\n",
      "97/97 [==============================] - 53s 548ms/step - loss: 2.6415e-04 - categorical_accuracy: 0.9292 - val_loss: 2.9640 - val_categorical_accuracy: 0.6836\n",
      "Epoch 146/300\n",
      "97/97 [==============================] - ETA: 0s - loss: 3.4918e-04 - categorical_accuracy: 0.9362\n",
      "Epoch 00146: val_categorical_accuracy improved from 0.68555 to 0.68620, saving model to CuratedTotal.best_weights_128.hdf5\n",
      "97/97 [==============================] - 55s 571ms/step - loss: 3.4918e-04 - categorical_accuracy: 0.9362 - val_loss: 2.9578 - val_categorical_accuracy: 0.6862\n",
      "Epoch 147/300\n",
      "97/97 [==============================] - ETA: 0s - loss: 2.7180e-04 - categorical_accuracy: 0.9308\n",
      "Epoch 00147: val_categorical_accuracy did not improve from 0.68620\n",
      "97/97 [==============================] - 53s 546ms/step - loss: 2.7180e-04 - categorical_accuracy: 0.9308 - val_loss: 2.9645 - val_categorical_accuracy: 0.6842\n",
      "Epoch 148/300\n",
      "97/97 [==============================] - ETA: 0s - loss: 4.2738e-04 - categorical_accuracy: 0.9307\n",
      "Epoch 00148: val_categorical_accuracy did not improve from 0.68620\n",
      "97/97 [==============================] - 52s 532ms/step - loss: 4.2738e-04 - categorical_accuracy: 0.9307 - val_loss: 2.9590 - val_categorical_accuracy: 0.6842\n",
      "Epoch 149/300\n",
      "97/97 [==============================] - ETA: 0s - loss: 2.6651e-04 - categorical_accuracy: 0.9313\n",
      "Epoch 00149: val_categorical_accuracy did not improve from 0.68620\n",
      "97/97 [==============================] - 50s 520ms/step - loss: 2.6651e-04 - categorical_accuracy: 0.9313 - val_loss: 2.9649 - val_categorical_accuracy: 0.6836\n",
      "Epoch 150/300\n",
      "97/97 [==============================] - ETA: 0s - loss: 2.7553e-04 - categorical_accuracy: 0.9323\n",
      "Epoch 00150: val_categorical_accuracy did not improve from 0.68620\n",
      "97/97 [==============================] - 53s 549ms/step - loss: 2.7553e-04 - categorical_accuracy: 0.9323 - val_loss: 2.9642 - val_categorical_accuracy: 0.6849\n",
      "Epoch 151/300\n",
      "97/97 [==============================] - ETA: 0s - loss: 3.2312e-04 - categorical_accuracy: 0.9337\n",
      "Epoch 00151: val_categorical_accuracy did not improve from 0.68620\n",
      "97/97 [==============================] - 53s 549ms/step - loss: 3.2312e-04 - categorical_accuracy: 0.9337 - val_loss: 2.9630 - val_categorical_accuracy: 0.6842\n",
      "Epoch 152/300\n",
      "97/97 [==============================] - ETA: 0s - loss: 3.4295e-04 - categorical_accuracy: 0.9310\n",
      "Epoch 00152: val_categorical_accuracy did not improve from 0.68620\n",
      "\n",
      "Epoch 00152: ReduceLROnPlateau reducing learning rate to 1.5233991348395648e-07.\n",
      "97/97 [==============================] - 53s 548ms/step - loss: 3.4295e-04 - categorical_accuracy: 0.9310 - val_loss: 2.9646 - val_categorical_accuracy: 0.6849\n",
      "Epoch 153/300\n",
      "97/97 [==============================] - ETA: 0s - loss: 3.5543e-04 - categorical_accuracy: 0.9308\n",
      "Epoch 00153: val_categorical_accuracy did not improve from 0.68620\n",
      "97/97 [==============================] - 50s 515ms/step - loss: 3.5543e-04 - categorical_accuracy: 0.9308 - val_loss: 2.9658 - val_categorical_accuracy: 0.6862\n",
      "Epoch 154/300\n",
      "97/97 [==============================] - ETA: 0s - loss: 3.6973e-04 - categorical_accuracy: 0.9337\n",
      "Epoch 00154: val_categorical_accuracy did not improve from 0.68620\n",
      "97/97 [==============================] - 53s 551ms/step - loss: 3.6973e-04 - categorical_accuracy: 0.9337 - val_loss: 2.9642 - val_categorical_accuracy: 0.6842\n",
      "Epoch 155/300\n",
      "97/97 [==============================] - ETA: 0s - loss: 2.7303e-04 - categorical_accuracy: 0.9297\n",
      "Epoch 00155: val_categorical_accuracy did not improve from 0.68620\n",
      "97/97 [==============================] - 53s 545ms/step - loss: 2.7303e-04 - categorical_accuracy: 0.9297 - val_loss: 2.9726 - val_categorical_accuracy: 0.6855\n",
      "Epoch 156/300\n",
      "97/97 [==============================] - ETA: 0s - loss: 2.1728e-04 - categorical_accuracy: 0.9308\n",
      "Epoch 00156: val_categorical_accuracy did not improve from 0.68620\n",
      "97/97 [==============================] - 54s 560ms/step - loss: 2.1728e-04 - categorical_accuracy: 0.9308 - val_loss: 2.9752 - val_categorical_accuracy: 0.6836\n",
      "Epoch 157/300\n",
      "97/97 [==============================] - ETA: 0s - loss: 4.1209e-04 - categorical_accuracy: 0.9336\n",
      "Epoch 00157: val_categorical_accuracy did not improve from 0.68620\n",
      "97/97 [==============================] - 50s 511ms/step - loss: 4.1209e-04 - categorical_accuracy: 0.9336 - val_loss: 2.9645 - val_categorical_accuracy: 0.6829\n",
      "Epoch 158/300\n",
      "97/97 [==============================] - ETA: 0s - loss: 3.2790e-04 - categorical_accuracy: 0.9332\n",
      "Epoch 00158: val_categorical_accuracy did not improve from 0.68620\n",
      "\n",
      "Epoch 00158: ReduceLROnPlateau reducing learning rate to 9.140394467976875e-08.\n",
      "97/97 [==============================] - 54s 555ms/step - loss: 3.2790e-04 - categorical_accuracy: 0.9332 - val_loss: 2.9635 - val_categorical_accuracy: 0.6842\n",
      "Epoch 159/300\n",
      "97/97 [==============================] - ETA: 0s - loss: 9.2241e-04 - categorical_accuracy: 0.9310\n",
      "Epoch 00159: val_categorical_accuracy did not improve from 0.68620\n",
      "97/97 [==============================] - 54s 559ms/step - loss: 9.2241e-04 - categorical_accuracy: 0.9310 - val_loss: 2.9708 - val_categorical_accuracy: 0.6849\n",
      "Epoch 160/300\n",
      "97/97 [==============================] - ETA: 0s - loss: 2.7331e-04 - categorical_accuracy: 0.9345\n",
      "Epoch 00160: val_categorical_accuracy did not improve from 0.68620\n",
      "97/97 [==============================] - 54s 557ms/step - loss: 2.7331e-04 - categorical_accuracy: 0.9345 - val_loss: 2.9708 - val_categorical_accuracy: 0.6842\n",
      "Epoch 161/300\n",
      "97/97 [==============================] - ETA: 0s - loss: 3.0913e-04 - categorical_accuracy: 0.9292\n",
      "Epoch 00161: val_categorical_accuracy did not improve from 0.68620\n",
      "97/97 [==============================] - 50s 511ms/step - loss: 3.0913e-04 - categorical_accuracy: 0.9292 - val_loss: 2.9567 - val_categorical_accuracy: 0.6849\n",
      "Epoch 162/300\n",
      "97/97 [==============================] - ETA: 0s - loss: 2.6041e-04 - categorical_accuracy: 0.9310\n",
      "Epoch 00162: val_categorical_accuracy improved from 0.68620 to 0.68685, saving model to CuratedTotal.best_weights_128.hdf5\n",
      "97/97 [==============================] - 56s 581ms/step - loss: 2.6041e-04 - categorical_accuracy: 0.9310 - val_loss: 2.9588 - val_categorical_accuracy: 0.6868\n",
      "Epoch 163/300\n",
      "97/97 [==============================] - ETA: 0s - loss: 2.7834e-04 - categorical_accuracy: 0.9321\n",
      "Epoch 00163: val_categorical_accuracy did not improve from 0.68685\n",
      "97/97 [==============================] - 55s 566ms/step - loss: 2.7834e-04 - categorical_accuracy: 0.9321 - val_loss: 2.9633 - val_categorical_accuracy: 0.6849\n",
      "Epoch 164/300\n",
      "97/97 [==============================] - ETA: 0s - loss: 2.9214e-04 - categorical_accuracy: 0.9332\n",
      "Epoch 00164: val_categorical_accuracy did not improve from 0.68685\n",
      "97/97 [==============================] - 54s 557ms/step - loss: 2.9214e-04 - categorical_accuracy: 0.9332 - val_loss: 2.9619 - val_categorical_accuracy: 0.6868\n",
      "Epoch 165/300\n",
      "97/97 [==============================] - ETA: 0s - loss: 3.1018e-04 - categorical_accuracy: 0.9318\n",
      "Epoch 00165: val_categorical_accuracy did not improve from 0.68685\n",
      "97/97 [==============================] - 50s 516ms/step - loss: 3.1018e-04 - categorical_accuracy: 0.9318 - val_loss: 2.9608 - val_categorical_accuracy: 0.6868\n",
      "Epoch 166/300\n",
      "97/97 [==============================] - ETA: 0s - loss: 2.9991e-04 - categorical_accuracy: 0.9331\n",
      "Epoch 00166: val_categorical_accuracy did not improve from 0.68685\n",
      "97/97 [==============================] - 54s 562ms/step - loss: 2.9991e-04 - categorical_accuracy: 0.9331 - val_loss: 2.9613 - val_categorical_accuracy: 0.6849\n",
      "Epoch 167/300\n",
      "97/97 [==============================] - ETA: 0s - loss: 5.3870e-04 - categorical_accuracy: 0.9315\n",
      "Epoch 00167: val_categorical_accuracy did not improve from 0.68685\n",
      "97/97 [==============================] - 55s 567ms/step - loss: 5.3870e-04 - categorical_accuracy: 0.9315 - val_loss: 2.9624 - val_categorical_accuracy: 0.6855\n",
      "Epoch 168/300\n",
      "97/97 [==============================] - ETA: 0s - loss: 2.7374e-04 - categorical_accuracy: 0.9342\n",
      "Epoch 00168: val_categorical_accuracy did not improve from 0.68685\n",
      "\n",
      "Epoch 00168: ReduceLROnPlateau reducing learning rate to 5.4842368513163814e-08.\n",
      "97/97 [==============================] - 55s 563ms/step - loss: 2.7374e-04 - categorical_accuracy: 0.9342 - val_loss: 2.9625 - val_categorical_accuracy: 0.6855\n",
      "Epoch 169/300\n",
      "97/97 [==============================] - ETA: 0s - loss: 2.7298e-04 - categorical_accuracy: 0.9345\n",
      "Epoch 00169: val_categorical_accuracy did not improve from 0.68685\n",
      "97/97 [==============================] - 52s 541ms/step - loss: 2.7298e-04 - categorical_accuracy: 0.9345 - val_loss: 2.9627 - val_categorical_accuracy: 0.6849\n",
      "Epoch 170/300\n",
      "97/97 [==============================] - ETA: 0s - loss: 3.6104e-04 - categorical_accuracy: 0.9326\n",
      "Epoch 00170: val_categorical_accuracy did not improve from 0.68685\n",
      "97/97 [==============================] - 53s 543ms/step - loss: 3.6104e-04 - categorical_accuracy: 0.9326 - val_loss: 2.9658 - val_categorical_accuracy: 0.6842\n",
      "Epoch 171/300\n",
      "97/97 [==============================] - ETA: 0s - loss: 3.2926e-04 - categorical_accuracy: 0.9328\n",
      "Epoch 00171: val_categorical_accuracy did not improve from 0.68685\n",
      "97/97 [==============================] - 55s 568ms/step - loss: 3.2926e-04 - categorical_accuracy: 0.9328 - val_loss: 2.9619 - val_categorical_accuracy: 0.6862\n",
      "Epoch 172/300\n",
      "97/97 [==============================] - ETA: 0s - loss: 2.4164e-04 - categorical_accuracy: 0.9326\n",
      "Epoch 00172: val_categorical_accuracy did not improve from 0.68685\n",
      "97/97 [==============================] - 55s 571ms/step - loss: 2.4164e-04 - categorical_accuracy: 0.9326 - val_loss: 2.9631 - val_categorical_accuracy: 0.6836\n",
      "Epoch 173/300\n",
      "97/97 [==============================] - ETA: 0s - loss: 2.4955e-04 - categorical_accuracy: 0.9321\n",
      "Epoch 00173: val_categorical_accuracy did not improve from 0.68685\n",
      "97/97 [==============================] - 55s 565ms/step - loss: 2.4955e-04 - categorical_accuracy: 0.9321 - val_loss: 2.9668 - val_categorical_accuracy: 0.6836\n",
      "Epoch 174/300\n",
      "97/97 [==============================] - ETA: 0s - loss: 2.8092e-04 - categorical_accuracy: 0.9307\n",
      "Epoch 00174: val_categorical_accuracy did not improve from 0.68685\n",
      "\n",
      "Epoch 00174: ReduceLROnPlateau reducing learning rate to 3.290542025524701e-08.\n",
      "97/97 [==============================] - 51s 523ms/step - loss: 2.8092e-04 - categorical_accuracy: 0.9307 - val_loss: 2.9662 - val_categorical_accuracy: 0.6849\n",
      "Epoch 175/300\n",
      "97/97 [==============================] - ETA: 0s - loss: 3.0410e-04 - categorical_accuracy: 0.9332\n",
      "Epoch 00175: val_categorical_accuracy did not improve from 0.68685\n",
      "97/97 [==============================] - 55s 565ms/step - loss: 3.0410e-04 - categorical_accuracy: 0.9332 - val_loss: 2.9697 - val_categorical_accuracy: 0.6842\n",
      "Epoch 176/300\n",
      "97/97 [==============================] - ETA: 0s - loss: 3.0259e-04 - categorical_accuracy: 0.9329\n",
      "Epoch 00176: val_categorical_accuracy did not improve from 0.68685\n",
      "97/97 [==============================] - 56s 573ms/step - loss: 3.0259e-04 - categorical_accuracy: 0.9329 - val_loss: 2.9733 - val_categorical_accuracy: 0.6842\n",
      "Epoch 177/300\n",
      "97/97 [==============================] - ETA: 0s - loss: 2.3974e-04 - categorical_accuracy: 0.9337\n",
      "Epoch 00177: val_categorical_accuracy did not improve from 0.68685\n",
      "97/97 [==============================] - 55s 568ms/step - loss: 2.3974e-04 - categorical_accuracy: 0.9337 - val_loss: 2.9630 - val_categorical_accuracy: 0.6862\n",
      "Epoch 178/300\n",
      "97/97 [==============================] - ETA: 0s - loss: 2.5752e-04 - categorical_accuracy: 0.9324\n",
      "Epoch 00178: val_categorical_accuracy did not improve from 0.68685\n",
      "97/97 [==============================] - 51s 525ms/step - loss: 2.5752e-04 - categorical_accuracy: 0.9324 - val_loss: 2.9629 - val_categorical_accuracy: 0.6868\n",
      "Epoch 179/300\n",
      "97/97 [==============================] - ETA: 0s - loss: 2.3411e-04 - categorical_accuracy: 0.9339\n",
      "Epoch 00179: val_categorical_accuracy did not improve from 0.68685\n",
      "97/97 [==============================] - 56s 574ms/step - loss: 2.3411e-04 - categorical_accuracy: 0.9339 - val_loss: 2.9616 - val_categorical_accuracy: 0.6862\n",
      "Epoch 180/300\n",
      "97/97 [==============================] - ETA: 0s - loss: 3.1330e-04 - categorical_accuracy: 0.9347\n",
      "Epoch 00180: val_categorical_accuracy did not improve from 0.68685\n",
      "\n",
      "Epoch 00180: ReduceLROnPlateau reducing learning rate to 1.9743251300496923e-08.\n",
      "97/97 [==============================] - 56s 579ms/step - loss: 3.1330e-04 - categorical_accuracy: 0.9347 - val_loss: 2.9582 - val_categorical_accuracy: 0.6862\n",
      "Epoch 181/300\n",
      "97/97 [==============================] - ETA: 0s - loss: 2.6726e-04 - categorical_accuracy: 0.9300\n",
      "Epoch 00181: val_categorical_accuracy did not improve from 0.68685\n",
      "97/97 [==============================] - 56s 574ms/step - loss: 2.6726e-04 - categorical_accuracy: 0.9300 - val_loss: 2.9596 - val_categorical_accuracy: 0.6855\n",
      "Epoch 182/300\n",
      "97/97 [==============================] - ETA: 0s - loss: 7.6108e-04 - categorical_accuracy: 0.9353\n",
      "Epoch 00182: val_categorical_accuracy did not improve from 0.68685\n",
      "97/97 [==============================] - 51s 523ms/step - loss: 7.6108e-04 - categorical_accuracy: 0.9353 - val_loss: 2.9641 - val_categorical_accuracy: 0.6855\n",
      "Epoch 183/300\n",
      "97/97 [==============================] - ETA: 0s - loss: 3.5377e-04 - categorical_accuracy: 0.9336\n",
      "Epoch 00183: val_categorical_accuracy did not improve from 0.68685\n",
      "97/97 [==============================] - 56s 575ms/step - loss: 3.5377e-04 - categorical_accuracy: 0.9336 - val_loss: 2.9629 - val_categorical_accuracy: 0.6849\n",
      "Epoch 184/300\n",
      "97/97 [==============================] - ETA: 0s - loss: 2.8088e-04 - categorical_accuracy: 0.9308\n",
      "Epoch 00184: val_categorical_accuracy did not improve from 0.68685\n",
      "97/97 [==============================] - 56s 580ms/step - loss: 2.8088e-04 - categorical_accuracy: 0.9308 - val_loss: 2.9696 - val_categorical_accuracy: 0.6823\n",
      "Epoch 185/300\n",
      "97/97 [==============================] - ETA: 0s - loss: 7.4208e-04 - categorical_accuracy: 0.9299\n",
      "Epoch 00185: val_categorical_accuracy did not improve from 0.68685\n",
      "97/97 [==============================] - 56s 578ms/step - loss: 7.4208e-04 - categorical_accuracy: 0.9299 - val_loss: 2.9663 - val_categorical_accuracy: 0.6849\n",
      "Epoch 186/300\n",
      "97/97 [==============================] - ETA: 0s - loss: 2.3410e-04 - categorical_accuracy: 0.9326\n",
      "Epoch 00186: val_categorical_accuracy did not improve from 0.68685\n",
      "\n",
      "Epoch 00186: ReduceLROnPlateau reducing learning rate to 1.1845950353972512e-08.\n",
      "97/97 [==============================] - 51s 524ms/step - loss: 2.3410e-04 - categorical_accuracy: 0.9326 - val_loss: 2.9654 - val_categorical_accuracy: 0.6836\n",
      "Epoch 187/300\n",
      "97/97 [==============================] - ETA: 0s - loss: 5.3784e-04 - categorical_accuracy: 0.9308\n",
      "Epoch 00187: val_categorical_accuracy did not improve from 0.68685\n",
      "97/97 [==============================] - 55s 564ms/step - loss: 5.3784e-04 - categorical_accuracy: 0.9308 - val_loss: 2.9711 - val_categorical_accuracy: 0.6842\n",
      "Epoch 188/300\n",
      "97/97 [==============================] - ETA: 0s - loss: 3.9734e-04 - categorical_accuracy: 0.9310\n",
      "Epoch 00188: val_categorical_accuracy did not improve from 0.68685\n",
      "97/97 [==============================] - 56s 576ms/step - loss: 3.9734e-04 - categorical_accuracy: 0.9310 - val_loss: 2.9726 - val_categorical_accuracy: 0.6849\n",
      "Epoch 189/300\n",
      "97/97 [==============================] - ETA: 0s - loss: 3.1445e-04 - categorical_accuracy: 0.9353\n",
      "Epoch 00189: val_categorical_accuracy did not improve from 0.68685\n",
      "97/97 [==============================] - 56s 573ms/step - loss: 3.1445e-04 - categorical_accuracy: 0.9353 - val_loss: 2.9645 - val_categorical_accuracy: 0.6855\n",
      "Epoch 190/300\n",
      "97/97 [==============================] - ETA: 0s - loss: 2.8904e-04 - categorical_accuracy: 0.9284\n",
      "Epoch 00190: val_categorical_accuracy did not improve from 0.68685\n",
      "97/97 [==============================] - 51s 521ms/step - loss: 2.8904e-04 - categorical_accuracy: 0.9284 - val_loss: 2.9631 - val_categorical_accuracy: 0.6862\n",
      "Epoch 191/300\n",
      "97/97 [==============================] - ETA: 0s - loss: 4.5510e-04 - categorical_accuracy: 0.9318\n",
      "Epoch 00191: val_categorical_accuracy did not improve from 0.68685\n",
      "97/97 [==============================] - 56s 576ms/step - loss: 4.5510e-04 - categorical_accuracy: 0.9318 - val_loss: 2.9651 - val_categorical_accuracy: 0.6862\n",
      "Epoch 192/300\n",
      "97/97 [==============================] - ETA: 0s - loss: 4.3196e-04 - categorical_accuracy: 0.9315\n",
      "Epoch 00192: val_categorical_accuracy did not improve from 0.68685\n",
      "\n",
      "Epoch 00192: ReduceLROnPlateau reducing learning rate to 7.107569999220686e-09.\n",
      "97/97 [==============================] - 56s 579ms/step - loss: 4.3196e-04 - categorical_accuracy: 0.9315 - val_loss: 2.9656 - val_categorical_accuracy: 0.6849\n",
      "Epoch 00192: early stopping\n"
     ]
    }
   ],
   "source": [
    "history=custom_densenet169_model.fit_generator(generator=train_generator,\n",
    "                    steps_per_epoch=STEP_SIZE_TRAIN,\n",
    "                    validation_data=valid_generator,\n",
    "                    validation_steps=STEP_SIZE_VALID,\n",
    "                    epochs=300,\n",
    "                    callbacks=callbacks_list\n",
    ")"
   ]
  },
  {
   "cell_type": "code",
   "execution_count": 30,
   "metadata": {
    "execution": {
     "iopub.execute_input": "2020-10-05T05:56:18.310367Z",
     "iopub.status.busy": "2020-10-05T05:56:18.308945Z",
     "iopub.status.idle": "2020-10-05T05:56:18.311087Z",
     "shell.execute_reply": "2020-10-05T05:56:18.311648Z"
    },
    "papermill": {
     "duration": 7.711521,
     "end_time": "2020-10-05T05:56:18.311787",
     "exception": false,
     "start_time": "2020-10-05T05:56:10.600266",
     "status": "completed"
    },
    "tags": []
   },
   "outputs": [],
   "source": [
    "#history.history"
   ]
  },
  {
   "cell_type": "code",
   "execution_count": 31,
   "metadata": {
    "execution": {
     "iopub.execute_input": "2020-10-05T05:56:34.340480Z",
     "iopub.status.busy": "2020-10-05T05:56:34.339559Z",
     "iopub.status.idle": "2020-10-05T05:56:34.601769Z",
     "shell.execute_reply": "2020-10-05T05:56:34.601095Z"
    },
    "papermill": {
     "duration": 8.247458,
     "end_time": "2020-10-05T05:56:34.601906",
     "exception": false,
     "start_time": "2020-10-05T05:56:26.354448",
     "status": "completed"
    },
    "tags": []
   },
   "outputs": [
    {
     "data": {
      "image/png": "[encoded data removed]",
      "text/plain": [
       "<Figure size 432x288 with 1 Axes>"
      ]
     },
     "metadata": {
      "needs_background": "light"
     },
     "output_type": "display_data"
    }
   ],
   "source": [
    "import matplotlib.pyplot as plt\n",
    "\n",
    "\n",
    "loss_train = history.history['loss']\n",
    "loss_val = history.history['val_loss']\n",
    "#epochs = np.range(1,1)\n",
    "plt.plot(loss_train, 'g', label='Training loss')\n",
    "plt.plot(loss_val, 'b', label='validation loss')\n",
    "plt.title('Training and Validation loss')\n",
    "plt.xlabel('Epochs')\n",
    "plt.ylabel('Loss')\n",
    "plt.legend()\n",
    "plt.show()"
   ]
  },
  {
   "cell_type": "code",
   "execution_count": 32,
   "metadata": {
    "execution": {
     "iopub.execute_input": "2020-10-05T05:56:49.631915Z",
     "iopub.status.busy": "2020-10-05T05:56:49.630267Z",
     "iopub.status.idle": "2020-10-05T05:56:49.827874Z",
     "shell.execute_reply": "2020-10-05T05:56:49.827216Z"
    },
    "papermill": {
     "duration": 7.843934,
     "end_time": "2020-10-05T05:56:49.827986",
     "exception": false,
     "start_time": "2020-10-05T05:56:41.984052",
     "status": "completed"
    },
    "tags": []
   },
   "outputs": [
    {
     "data": {
      "image/png": "[encoded data removed]",
      "text/plain": [
       "<Figure size 432x288 with 1 Axes>"
      ]
     },
     "metadata": {
      "needs_background": "light"
     },
     "output_type": "display_data"
    }
   ],
   "source": [
    "loss_train = history.history['categorical_accuracy']\n",
    "loss_val = history.history['val_categorical_accuracy']\n",
    "epochs = range(1,41)\n",
    "plt.plot(loss_train, 'g', label='Training accuracy')\n",
    "plt.plot(loss_val, 'b', label='validation accuracy')\n",
    "plt.title('Training and Validation accuracy')\n",
    "plt.xlabel('Epochs')\n",
    "plt.ylabel('Accuracy')\n",
    "plt.legend()\n",
    "plt.show()"
   ]
  },
  {
   "cell_type": "code",
   "execution_count": 33,
   "metadata": {
    "execution": {
     "iopub.execute_input": "2020-10-05T05:57:04.840780Z",
     "iopub.status.busy": "2020-10-05T05:57:04.839268Z",
     "iopub.status.idle": "2020-10-05T05:57:10.288247Z",
     "shell.execute_reply": "2020-10-05T05:57:10.288771Z"
    },
    "papermill": {
     "duration": 12.823526,
     "end_time": "2020-10-05T05:57:10.288918",
     "exception": false,
     "start_time": "2020-10-05T05:56:57.465392",
     "status": "completed"
    },
    "tags": []
   },
   "outputs": [
    {
     "name": "stdout",
     "output_type": "stream",
     "text": [
      "25/25 [==============================] - 3s 136ms/step\n"
     ]
    }
   ],
   "source": [
    "res = custom_densenet169_model.predict_generator(valid_generator, verbose=1)\n",
    "\n",
    "    "
   ]
  },
  {
   "cell_type": "code",
   "execution_count": 34,
   "metadata": {
    "execution": {
     "iopub.execute_input": "2020-10-05T05:57:25.924481Z",
     "iopub.status.busy": "2020-10-05T05:57:25.923323Z",
     "iopub.status.idle": "2020-10-05T05:57:33.567125Z",
     "shell.execute_reply": "2020-10-05T05:57:33.567677Z"
    },
    "papermill": {
     "duration": 15.686375,
     "end_time": "2020-10-05T05:57:33.567865",
     "exception": false,
     "start_time": "2020-10-05T05:57:17.881490",
     "status": "completed"
    },
    "tags": []
   },
   "outputs": [
    {
     "name": "stdout",
     "output_type": "stream",
     "text": [
      "22/22 [==============================] - 5s 236ms/step\n"
     ]
    }
   ],
   "source": [
    "test_generator.reset()\n",
    "res_test=custom_densenet169_model.predict_generator(test_generator,\n",
    "#steps=STEP_SIZE_TEST,\n",
    "verbose=1)"
   ]
  },
  {
   "cell_type": "code",
   "execution_count": 35,
   "metadata": {
    "execution": {
     "iopub.execute_input": "2020-10-05T05:57:48.632484Z",
     "iopub.status.busy": "2020-10-05T05:57:48.631125Z",
     "iopub.status.idle": "2020-10-05T05:57:52.191377Z",
     "shell.execute_reply": "2020-10-05T05:57:52.190166Z"
    },
    "papermill": {
     "duration": 11.060648,
     "end_time": "2020-10-05T05:57:52.191514",
     "exception": false,
     "start_time": "2020-10-05T05:57:41.130866",
     "status": "completed"
    },
    "tags": []
   },
   "outputs": [
    {
     "name": "stdout",
     "output_type": "stream",
     "text": [
      "25/25 [==============================] - 3s 131ms/step\n"
     ]
    }
   ],
   "source": [
    "valid_generator.reset()\n",
    "res_cv=custom_densenet169_model.predict_generator(valid_generator,\n",
    "#steps=STEP_SIZE_TEST,\n",
    "verbose=1)"
   ]
  },
  {
   "cell_type": "code",
   "execution_count": 36,
   "metadata": {
    "execution": {
     "iopub.execute_input": "2020-10-05T05:58:06.998589Z",
     "iopub.status.busy": "2020-10-05T05:58:06.997298Z",
     "iopub.status.idle": "2020-10-05T05:58:50.997841Z",
     "shell.execute_reply": "2020-10-05T05:58:50.997241Z"
    },
    "papermill": {
     "duration": 51.520325,
     "end_time": "2020-10-05T05:58:50.997969",
     "exception": false,
     "start_time": "2020-10-05T05:57:59.477644",
     "status": "completed"
    },
    "tags": []
   },
   "outputs": [
    {
     "name": "stdout",
     "output_type": "stream",
     "text": [
      "98/98 [==============================] - 43s 440ms/step\n"
     ]
    }
   ],
   "source": [
    "train_generator.reset()\n",
    "res_train=custom_densenet169_model.predict_generator(train_generator,\n",
    "#steps=STEP_SIZE_TEST,\n",
    "verbose=1)"
   ]
  },
  {
   "cell_type": "code",
   "execution_count": 37,
   "metadata": {
    "execution": {
     "iopub.execute_input": "2020-10-05T05:59:05.920708Z",
     "iopub.status.busy": "2020-10-05T05:59:05.919098Z",
     "iopub.status.idle": "2020-10-05T05:59:05.923053Z",
     "shell.execute_reply": "2020-10-05T05:59:05.923571Z"
    },
    "papermill": {
     "duration": 7.277165,
     "end_time": "2020-10-05T05:59:05.923732",
     "exception": false,
     "start_time": "2020-10-05T05:58:58.646567",
     "status": "completed"
    },
    "tags": []
   },
   "outputs": [
    {
     "data": {
      "text/plain": [
       "(1380, 80)"
      ]
     },
     "execution_count": 37,
     "metadata": {},
     "output_type": "execute_result"
    }
   ],
   "source": [
    "res_test.shape"
   ]
  },
  {
   "cell_type": "code",
   "execution_count": 38,
   "metadata": {
    "execution": {
     "iopub.execute_input": "2020-10-05T05:59:21.198428Z",
     "iopub.status.busy": "2020-10-05T05:59:21.197494Z",
     "iopub.status.idle": "2020-10-05T05:59:21.392453Z",
     "shell.execute_reply": "2020-10-05T05:59:21.390958Z"
    },
    "papermill": {
     "duration": 7.864984,
     "end_time": "2020-10-05T05:59:21.392580",
     "exception": false,
     "start_time": "2020-10-05T05:59:13.527596",
     "status": "completed"
    },
    "tags": []
   },
   "outputs": [],
   "source": [
    "# Converting taget and identity columns to booleans\n",
    "\n",
    "target_columns=list(trainmultidf.columns)[:-1]\n",
    "\n",
    "def convert_to_bool(df, col_name):\n",
    "    df[col_name] = np.where(df[col_name] >= 0.5, True, False)\n",
    "    \n",
    "def convert_dataframe_to_bool(df):\n",
    "    bool_df = df.copy()\n",
    "    for col in target_columns:\n",
    "        convert_to_bool(bool_df, col)\n",
    "    return bool_df\n",
    "\n",
    "test_bool = convert_dataframe_to_bool(testmultidf) \n",
    "test_lable_bool=test_bool[list(test_bool.columns)[:-1]].to_numpy()\n",
    "\n",
    "train_bool = convert_dataframe_to_bool(trainmultidf) \n",
    "train_lable_bool=train_bool[list(train_bool.columns)[:-1]].to_numpy()\n",
    "\n",
    "cv_bool = convert_dataframe_to_bool(cvmultidf) \n",
    "cv_lable_bool=cv_bool[list(cv_bool.columns)[:-1]].to_numpy()"
   ]
  },
  {
   "cell_type": "code",
   "execution_count": 39,
   "metadata": {
    "execution": {
     "iopub.execute_input": "2020-10-05T05:59:38.031317Z",
     "iopub.status.busy": "2020-10-05T05:59:38.029931Z",
     "iopub.status.idle": "2020-10-05T05:59:38.034230Z",
     "shell.execute_reply": "2020-10-05T05:59:38.034778Z"
    },
    "papermill": {
     "duration": 7.596574,
     "end_time": "2020-10-05T05:59:38.034915",
     "exception": false,
     "start_time": "2020-10-05T05:59:30.438341",
     "status": "completed"
    },
    "tags": []
   },
   "outputs": [
    {
     "data": {
      "text/plain": [
       "(1563, 80)"
      ]
     },
     "execution_count": 39,
     "metadata": {},
     "output_type": "execute_result"
    }
   ],
   "source": [
    "cv_lable_bool.shape"
   ]
  },
  {
   "cell_type": "markdown",
   "metadata": {
    "papermill": {
     "duration": 7.610993,
     "end_time": "2020-10-05T05:59:53.169361",
     "exception": false,
     "start_time": "2020-10-05T05:59:45.558368",
     "status": "completed"
    },
    "tags": []
   },
   "source": [
    "# Evaluation Metric"
   ]
  },
  {
   "cell_type": "code",
   "execution_count": 40,
   "metadata": {
    "execution": {
     "iopub.execute_input": "2020-10-05T06:00:08.382874Z",
     "iopub.status.busy": "2020-10-05T06:00:08.381852Z",
     "iopub.status.idle": "2020-10-05T06:00:08.383913Z",
     "shell.execute_reply": "2020-10-05T06:00:08.384461Z"
    },
    "papermill": {
     "duration": 7.613975,
     "end_time": "2020-10-05T06:00:08.384594",
     "exception": false,
     "start_time": "2020-10-05T06:00:00.770619",
     "status": "completed"
    },
    "tags": []
   },
   "outputs": [],
   "source": [
    "import numpy as np\n",
    "import sklearn.metrics"
   ]
  },
  {
   "cell_type": "code",
   "execution_count": 41,
   "metadata": {
    "execution": {
     "iopub.execute_input": "2020-10-05T06:00:23.764369Z",
     "iopub.status.busy": "2020-10-05T06:00:23.763219Z",
     "iopub.status.idle": "2020-10-05T06:00:23.766644Z",
     "shell.execute_reply": "2020-10-05T06:00:23.766007Z"
    },
    "papermill": {
     "duration": 7.802339,
     "end_time": "2020-10-05T06:00:23.766760",
     "exception": false,
     "start_time": "2020-10-05T06:00:15.964421",
     "status": "completed"
    },
    "tags": []
   },
   "outputs": [],
   "source": [
    "# Core calculation of label precisions for one test sample.\n",
    "\n",
    "def _one_sample_positive_class_precisions(scores, truth):\n",
    "  \"\"\"Calculate precisions for each true class for a single sample.\n",
    "  \n",
    "  Args:\n",
    "    scores: np.array of (num_classes,) giving the individual classifier scores.\n",
    "    truth: np.array of (num_classes,) bools indicating which classes are true.\n",
    "\n",
    "  Returns:\n",
    "    pos_class_indices: np.array of indices of the true classes for this sample.\n",
    "    pos_class_precisions: np.array of precisions corresponding to each of those\n",
    "      classes.\n",
    "  \"\"\"\n",
    "  num_classes = scores.shape[0]\n",
    "  pos_class_indices = np.flatnonzero(truth > 0)\n",
    "  # Only calculate precisions if there are some true classes.\n",
    "  if not len(pos_class_indices):\n",
    "    return pos_class_indices, np.zeros(0)\n",
    "  # Retrieval list of classes for this sample. \n",
    "  retrieved_classes = np.argsort(scores)[::-1]\n",
    "  # class_rankings[top_scoring_class_index] == 0 etc.\n",
    "  class_rankings = np.zeros(num_classes, dtype=np.int)\n",
    "  class_rankings[retrieved_classes] = range(num_classes)\n",
    "  # Which of these is a true label?\n",
    "  retrieved_class_true = np.zeros(num_classes, dtype=np.bool)\n",
    "  retrieved_class_true[class_rankings[pos_class_indices]] = True\n",
    "  # Num hits for every truncated retrieval list.\n",
    "  retrieved_cumulative_hits = np.cumsum(retrieved_class_true)\n",
    "  # Precision of retrieval list truncated at each hit, in order of pos_labels.\n",
    "  precision_at_hits = (\n",
    "      retrieved_cumulative_hits[class_rankings[pos_class_indices]] / \n",
    "      (1 + class_rankings[pos_class_indices].astype(np.float)))\n",
    "  return pos_class_indices, precision_at_hits\n"
   ]
  },
  {
   "cell_type": "code",
   "execution_count": 42,
   "metadata": {
    "execution": {
     "iopub.execute_input": "2020-10-05T06:00:39.955217Z",
     "iopub.status.busy": "2020-10-05T06:00:39.954176Z",
     "iopub.status.idle": "2020-10-05T06:00:39.956468Z",
     "shell.execute_reply": "2020-10-05T06:00:39.957025Z"
    },
    "papermill": {
     "duration": 7.594517,
     "end_time": "2020-10-05T06:00:39.957164",
     "exception": false,
     "start_time": "2020-10-05T06:00:32.362647",
     "status": "completed"
    },
    "tags": []
   },
   "outputs": [],
   "source": [
    "# All-in-one calculation of per-class lwlrap.\n",
    "\n",
    "def calculate_per_class_lwlrap(truth, scores):\n",
    "  \"\"\"Calculate label-weighted label-ranking average precision.\n",
    "  \n",
    "  Arguments:\n",
    "    truth: np.array of (num_samples, num_classes) giving boolean ground-truth\n",
    "      of presence of that class in that sample.\n",
    "    scores: np.array of (num_samples, num_classes) giving the classifier-under-\n",
    "      test's real-valued score for each class for each sample.\n",
    "  \n",
    "  Returns:\n",
    "    per_class_lwlrap: np.array of (num_classes,) giving the lwlrap for each \n",
    "      class.\n",
    "    weight_per_class: np.array of (num_classes,) giving the prior of each \n",
    "      class within the truth labels.  Then the overall unbalanced lwlrap is \n",
    "      simply np.sum(per_class_lwlrap * weight_per_class)\n",
    "  \"\"\"\n",
    "  assert truth.shape == scores.shape\n",
    "  num_samples, num_classes = scores.shape\n",
    "  # Space to store a distinct precision value for each class on each sample.\n",
    "  # Only the classes that are true for each sample will be filled in.\n",
    "  precisions_for_samples_by_classes = np.zeros((num_samples, num_classes))\n",
    "  for sample_num in range(num_samples):\n",
    "    pos_class_indices, precision_at_hits = (\n",
    "      _one_sample_positive_class_precisions(scores[sample_num, :], \n",
    "                                            truth[sample_num, :]))\n",
    "    precisions_for_samples_by_classes[sample_num, pos_class_indices] = (\n",
    "        precision_at_hits)\n",
    "  labels_per_class = np.sum(truth > 0, axis=0)\n",
    "  weight_per_class = labels_per_class / float(np.sum(labels_per_class))\n",
    "  # Form average of each column, i.e. all the precisions assigned to labels in\n",
    "  # a particular class.\n",
    "  per_class_lwlrap = (np.sum(precisions_for_samples_by_classes, axis=0) / \n",
    "                      np.maximum(1, labels_per_class))\n",
    "  # overall_lwlrap = simple average of all the actual per-class, per-sample precisions\n",
    "  #                = np.sum(precisions_for_samples_by_classes) / np.sum(precisions_for_samples_by_classes > 0)\n",
    "  #           also = weighted mean of per-class lwlraps, weighted by class label prior across samples\n",
    "  #                = np.sum(per_class_lwlrap * weight_per_class)\n",
    "  return per_class_lwlrap, weight_per_class"
   ]
  },
  {
   "cell_type": "code",
   "execution_count": 43,
   "metadata": {
    "execution": {
     "iopub.execute_input": "2020-10-05T06:00:54.865055Z",
     "iopub.status.busy": "2020-10-05T06:00:54.863969Z",
     "iopub.status.idle": "2020-10-05T06:00:54.866571Z",
     "shell.execute_reply": "2020-10-05T06:00:54.867187Z"
    },
    "papermill": {
     "duration": 7.496813,
     "end_time": "2020-10-05T06:00:54.867353",
     "exception": false,
     "start_time": "2020-10-05T06:00:47.370540",
     "status": "completed"
    },
    "tags": []
   },
   "outputs": [],
   "source": [
    "# Calculate the overall lwlrap using sklearn.metrics function.\n",
    "\n",
    "def calculate_overall_lwlrap_sklearn(truth, scores):\n",
    "  \"\"\"Calculate the overall lwlrap using sklearn.metrics.lrap.\"\"\"\n",
    "  # sklearn doesn't correctly apply weighting to samples with no labels, so just skip them.\n",
    "  sample_weight = np.sum(truth > 0, axis=1)\n",
    "  nonzero_weight_sample_indices = np.flatnonzero(sample_weight > 0)\n",
    "  overall_lwlrap = sklearn.metrics.label_ranking_average_precision_score(\n",
    "      truth[nonzero_weight_sample_indices, :] > 0, \n",
    "      scores[nonzero_weight_sample_indices, :], \n",
    "      sample_weight=sample_weight[nonzero_weight_sample_indices])\n",
    "  return overall_lwlrap"
   ]
  },
  {
   "cell_type": "code",
   "execution_count": 44,
   "metadata": {
    "execution": {
     "iopub.execute_input": "2020-10-05T06:01:10.211905Z",
     "iopub.status.busy": "2020-10-05T06:01:10.205585Z",
     "iopub.status.idle": "2020-10-05T06:01:10.214958Z",
     "shell.execute_reply": "2020-10-05T06:01:10.214273Z"
    },
    "papermill": {
     "duration": 7.634604,
     "end_time": "2020-10-05T06:01:10.215063",
     "exception": false,
     "start_time": "2020-10-05T06:01:02.580459",
     "status": "completed"
    },
    "tags": []
   },
   "outputs": [],
   "source": [
    "# Accumulator object version.\n",
    "\n",
    "class lwlrap_accumulator(object):\n",
    "  \"\"\"Accumulate batches of test samples into per-class and overall lwlrap.\"\"\"  \n",
    "\n",
    "  def __init__(self):\n",
    "    self.num_classes = 0\n",
    "    self.total_num_samples = 0\n",
    "  \n",
    "  def accumulate_samples(self, batch_truth, batch_scores):\n",
    "    \"\"\"Cumulate a new batch of samples into the metric.\n",
    "    \n",
    "    Args:\n",
    "      truth: np.array of (num_samples, num_classes) giving boolean\n",
    "        ground-truth of presence of that class in that sample for this batch.\n",
    "      scores: np.array of (num_samples, num_classes) giving the \n",
    "        classifier-under-test's real-valued score for each class for each\n",
    "        sample.\n",
    "    \"\"\"\n",
    "    assert batch_scores.shape == batch_truth.shape\n",
    "    num_samples, num_classes = batch_truth.shape\n",
    "    if not self.num_classes:\n",
    "      self.num_classes = num_classes\n",
    "      self._per_class_cumulative_precision = np.zeros(self.num_classes)\n",
    "      self._per_class_cumulative_count = np.zeros(self.num_classes, \n",
    "                                                  dtype=np.int)\n",
    "    assert num_classes == self.num_classes\n",
    "    for truth, scores in zip(batch_truth, batch_scores):\n",
    "      pos_class_indices, precision_at_hits = (\n",
    "        _one_sample_positive_class_precisions(scores, truth))\n",
    "      self._per_class_cumulative_precision[pos_class_indices] += (\n",
    "        precision_at_hits)\n",
    "      self._per_class_cumulative_count[pos_class_indices] += 1\n",
    "    self.total_num_samples += num_samples\n",
    "\n",
    "  def per_class_lwlrap(self):\n",
    "    \"\"\"Return a vector of the per-class lwlraps for the accumulated samples.\"\"\"\n",
    "    return (self._per_class_cumulative_precision / \n",
    "            np.maximum(1, self._per_class_cumulative_count))\n",
    "\n",
    "  def per_class_weight(self):\n",
    "    \"\"\"Return a normalized weight vector for the contributions of each class.\"\"\"\n",
    "    return (self._per_class_cumulative_count / \n",
    "            float(np.sum(self._per_class_cumulative_count)))\n",
    "\n",
    "  def overall_lwlrap(self):\n",
    "    \"\"\"Return the scalar overall lwlrap for cumulated samples.\"\"\"\n",
    "    return np.sum(self.per_class_lwlrap() * self.per_class_weight())"
   ]
  },
  {
   "cell_type": "code",
   "execution_count": 45,
   "metadata": {
    "execution": {
     "iopub.execute_input": "2020-10-05T06:01:25.848941Z",
     "iopub.status.busy": "2020-10-05T06:01:25.847996Z",
     "iopub.status.idle": "2020-10-05T06:01:26.057362Z",
     "shell.execute_reply": "2020-10-05T06:01:26.057910Z"
    },
    "papermill": {
     "duration": 8.556131,
     "end_time": "2020-10-05T06:01:26.058051",
     "exception": false,
     "start_time": "2020-10-05T06:01:17.501920",
     "status": "completed"
    },
    "tags": []
   },
   "outputs": [
    {
     "name": "stdout",
     "output_type": "stream",
     "text": [
      "lwlrap from sklearn.metrics = 0.8033492197195768\n"
     ]
    }
   ],
   "source": [
    "#https://www.kaggle.com/voglinio/keras-2d-model-5-fold-log-specgram-curated-only\n",
    "truth = test_lable_bool\n",
    "scores = res_test\n",
    "print(\"lwlrap from sklearn.metrics =\", calculate_overall_lwlrap_sklearn(truth, scores))"
   ]
  },
  {
   "cell_type": "code",
   "execution_count": 46,
   "metadata": {
    "execution": {
     "iopub.execute_input": "2020-10-05T06:01:41.833013Z",
     "iopub.status.busy": "2020-10-05T06:01:41.832069Z",
     "iopub.status.idle": "2020-10-05T06:01:42.799393Z",
     "shell.execute_reply": "2020-10-05T06:01:42.800006Z"
    },
    "papermill": {
     "duration": 8.576814,
     "end_time": "2020-10-05T06:01:42.800171",
     "exception": false,
     "start_time": "2020-10-05T06:01:34.223357",
     "status": "completed"
    },
    "tags": []
   },
   "outputs": [
    {
     "name": "stdout",
     "output_type": "stream",
     "text": [
      "lwlrap from sklearn.metrics = 0.9999308628318584\n"
     ]
    }
   ],
   "source": [
    "truth = train_lable_bool\n",
    "scores = res_train\n",
    "print(\"lwlrap from sklearn.metrics =\", calculate_overall_lwlrap_sklearn(truth, scores))"
   ]
  },
  {
   "cell_type": "code",
   "execution_count": 47,
   "metadata": {
    "execution": {
     "iopub.execute_input": "2020-10-05T06:01:57.876768Z",
     "iopub.status.busy": "2020-10-05T06:01:57.875695Z",
     "iopub.status.idle": "2020-10-05T06:01:58.118740Z",
     "shell.execute_reply": "2020-10-05T06:01:58.117945Z"
    },
    "papermill": {
     "duration": 7.890645,
     "end_time": "2020-10-05T06:01:58.118916",
     "exception": false,
     "start_time": "2020-10-05T06:01:50.228271",
     "status": "completed"
    },
    "tags": []
   },
   "outputs": [
    {
     "name": "stdout",
     "output_type": "stream",
     "text": [
      "lwlrap from sklearn.metrics = 0.8098030160933243\n"
     ]
    }
   ],
   "source": [
    "truth = cv_lable_bool\n",
    "scores = res_cv\n",
    "print(\"lwlrap from sklearn.metrics =\", calculate_overall_lwlrap_sklearn(truth, scores))"
   ]
  },
  {
   "cell_type": "markdown",
   "metadata": {
    "papermill": {
     "duration": 7.431792,
     "end_time": "2020-10-05T06:02:13.255909",
     "exception": false,
     "start_time": "2020-10-05T06:02:05.824117",
     "status": "completed"
    },
    "tags": []
   },
   "source": [
    "## SUBMISSION"
   ]
  },
  {
   "cell_type": "code",
   "execution_count": 48,
   "metadata": {
    "execution": {
     "iopub.execute_input": "2020-10-05T06:02:29.601528Z",
     "iopub.status.busy": "2020-10-05T06:02:29.600653Z",
     "iopub.status.idle": "2020-10-05T06:02:30.205912Z",
     "shell.execute_reply": "2020-10-05T06:02:30.205122Z"
    },
    "papermill": {
     "duration": 9.377962,
     "end_time": "2020-10-05T06:02:30.206032",
     "exception": false,
     "start_time": "2020-10-05T06:02:20.828070",
     "status": "completed"
    },
    "tags": []
   },
   "outputs": [
    {
     "name": "stdout",
     "output_type": "stream",
     "text": [
      "Found 3361 validated image filenames.\n"
     ]
    }
   ],
   "source": [
    "sub_dataframe = pd.DataFrame({'fname':os.listdir('../input/sc2-total-aug-noisy-data/sub2/sub2')})\n",
    "\n",
    "sub_datagen=ImageDataGenerator(rescale=1./255.)\n",
    "sub_generator=sub_datagen.flow_from_dataframe(\n",
    "    dataframe=sub_dataframe,\n",
    "    directory=\"../input/sc2-total-aug-noisy-data/sub2/sub2\",\n",
    "    x_col=\"fname\",\n",
    "    y_col=None,\n",
    "    batch_size=64,\n",
    "    seed=42,\n",
    "    shuffle=False,\n",
    "    class_mode=None,\n",
    "    target_size=(128,128))"
   ]
  },
  {
   "cell_type": "code",
   "execution_count": 49,
   "metadata": {
    "execution": {
     "iopub.execute_input": "2020-10-05T06:02:45.529065Z",
     "iopub.status.busy": "2020-10-05T06:02:45.527915Z",
     "iopub.status.idle": "2020-10-05T06:02:45.530056Z",
     "shell.execute_reply": "2020-10-05T06:02:45.530785Z"
    },
    "papermill": {
     "duration": 7.375781,
     "end_time": "2020-10-05T06:02:45.530928",
     "exception": false,
     "start_time": "2020-10-05T06:02:38.155147",
     "status": "completed"
    },
    "tags": []
   },
   "outputs": [],
   "source": [
    "STEP_SIZE_SUB=sub_generator.n//sub_generator.batch_size"
   ]
  },
  {
   "cell_type": "code",
   "execution_count": 50,
   "metadata": {
    "execution": {
     "iopub.execute_input": "2020-10-05T06:03:00.750676Z",
     "iopub.status.busy": "2020-10-05T06:03:00.748906Z",
     "iopub.status.idle": "2020-10-05T06:03:12.293188Z",
     "shell.execute_reply": "2020-10-05T06:03:12.291813Z"
    },
    "papermill": {
     "duration": 19.180674,
     "end_time": "2020-10-05T06:03:12.293340",
     "exception": false,
     "start_time": "2020-10-05T06:02:53.112666",
     "status": "completed"
    },
    "tags": []
   },
   "outputs": [
    {
     "name": "stdout",
     "output_type": "stream",
     "text": [
      "53/53 [==============================] - 11s 211ms/step\n"
     ]
    }
   ],
   "source": [
    "sub_generator.reset()\n",
    "res_sub=custom_densenet169_model.predict_generator(sub_generator,\n",
    "#steps=STEP_SIZE_TEST,\n",
    "verbose=1)"
   ]
  },
  {
   "cell_type": "code",
   "execution_count": 51,
   "metadata": {
    "execution": {
     "iopub.execute_input": "2020-10-05T06:03:28.225328Z",
     "iopub.status.busy": "2020-10-05T06:03:28.224165Z",
     "iopub.status.idle": "2020-10-05T06:03:28.231782Z",
     "shell.execute_reply": "2020-10-05T06:03:28.232478Z"
    },
    "papermill": {
     "duration": 8.590995,
     "end_time": "2020-10-05T06:03:28.232662",
     "exception": false,
     "start_time": "2020-10-05T06:03:19.641667",
     "status": "completed"
    },
    "tags": []
   },
   "outputs": [
    {
     "data": {
      "text/plain": [
       "(3361, 80)"
      ]
     },
     "execution_count": 51,
     "metadata": {},
     "output_type": "execute_result"
    }
   ],
   "source": [
    "res_sub.shape"
   ]
  },
  {
   "cell_type": "code",
   "execution_count": 52,
   "metadata": {
    "execution": {
     "iopub.execute_input": "2020-10-05T06:03:44.131584Z",
     "iopub.status.busy": "2020-10-05T06:03:44.130699Z",
     "iopub.status.idle": "2020-10-05T06:03:44.134285Z",
     "shell.execute_reply": "2020-10-05T06:03:44.134791Z"
    },
    "papermill": {
     "duration": 7.666927,
     "end_time": "2020-10-05T06:03:44.134933",
     "exception": false,
     "start_time": "2020-10-05T06:03:36.468006",
     "status": "completed"
    },
    "tags": []
   },
   "outputs": [],
   "source": [
    "submit_data=pd.DataFrame(res_sub.astype(\"float64\"), columns=list(mlb_train.classes_))"
   ]
  },
  {
   "cell_type": "code",
   "execution_count": 53,
   "metadata": {
    "execution": {
     "iopub.execute_input": "2020-10-05T06:03:59.070381Z",
     "iopub.status.busy": "2020-10-05T06:03:59.069488Z",
     "iopub.status.idle": "2020-10-05T06:03:59.109725Z",
     "shell.execute_reply": "2020-10-05T06:03:59.110241Z"
    },
    "papermill": {
     "duration": 7.62372,
     "end_time": "2020-10-05T06:03:59.110377",
     "exception": false,
     "start_time": "2020-10-05T06:03:51.486657",
     "status": "completed"
    },
    "tags": []
   },
   "outputs": [
    {
     "data": {
      "text/html": [
       "<div>\n",
       "<style scoped>\n",
       "    .dataframe tbody tr th:only-of-type {\n",
       "        vertical-align: middle;\n",
       "    }\n",
       "\n",
       "    .dataframe tbody tr th {\n",
       "        vertical-align: top;\n",
       "    }\n",
       "\n",
       "    .dataframe thead th {\n",
       "        text-align: right;\n",
       "    }\n",
       "</style>\n",
       "<table border=\"1\" class=\"dataframe\">\n",
       "  <thead>\n",
       "    <tr style=\"text-align: right;\">\n",
       "      <th></th>\n",
       "      <th>fname</th>\n",
       "      <th>Accelerating_and_revving_and_vroom</th>\n",
       "      <th>Accordion</th>\n",
       "      <th>Acoustic_guitar</th>\n",
       "      <th>Applause</th>\n",
       "      <th>Bark</th>\n",
       "      <th>Bass_drum</th>\n",
       "      <th>Bass_guitar</th>\n",
       "      <th>Bathtub_(filling_or_washing)</th>\n",
       "      <th>Bicycle_bell</th>\n",
       "      <th>...</th>\n",
       "      <th>Toilet_flush</th>\n",
       "      <th>Traffic_noise_and_roadway_noise</th>\n",
       "      <th>Trickle_and_dribble</th>\n",
       "      <th>Walk_and_footsteps</th>\n",
       "      <th>Water_tap_and_faucet</th>\n",
       "      <th>Waves_and_surf</th>\n",
       "      <th>Whispering</th>\n",
       "      <th>Writing</th>\n",
       "      <th>Yell</th>\n",
       "      <th>Zipper_(clothing)</th>\n",
       "    </tr>\n",
       "  </thead>\n",
       "  <tbody>\n",
       "    <tr>\n",
       "      <th>0</th>\n",
       "      <td>a03b1880.wav</td>\n",
       "      <td>2.066120e-10</td>\n",
       "      <td>9.073612e-14</td>\n",
       "      <td>3.116300e-11</td>\n",
       "      <td>4.331670e-09</td>\n",
       "      <td>3.090687e-11</td>\n",
       "      <td>3.554704e-09</td>\n",
       "      <td>1.502645e-11</td>\n",
       "      <td>5.157228e-09</td>\n",
       "      <td>1.727431e-10</td>\n",
       "      <td>...</td>\n",
       "      <td>2.979947e-05</td>\n",
       "      <td>4.324300e-12</td>\n",
       "      <td>2.891639e-10</td>\n",
       "      <td>1.030480e-10</td>\n",
       "      <td>8.189989e-12</td>\n",
       "      <td>8.434886e-14</td>\n",
       "      <td>4.330703e-13</td>\n",
       "      <td>4.382064e-07</td>\n",
       "      <td>5.718627e-11</td>\n",
       "      <td>6.367670e-09</td>\n",
       "    </tr>\n",
       "    <tr>\n",
       "      <th>1</th>\n",
       "      <td>5174dbec.wav</td>\n",
       "      <td>6.163763e-11</td>\n",
       "      <td>5.975327e-09</td>\n",
       "      <td>4.111234e-04</td>\n",
       "      <td>2.862017e-08</td>\n",
       "      <td>1.063559e-08</td>\n",
       "      <td>8.913444e-08</td>\n",
       "      <td>5.344788e-13</td>\n",
       "      <td>3.827138e-07</td>\n",
       "      <td>2.928821e-12</td>\n",
       "      <td>...</td>\n",
       "      <td>1.092051e-13</td>\n",
       "      <td>6.894312e-11</td>\n",
       "      <td>4.634189e-10</td>\n",
       "      <td>5.849059e-06</td>\n",
       "      <td>1.161947e-10</td>\n",
       "      <td>3.567348e-10</td>\n",
       "      <td>3.290443e-09</td>\n",
       "      <td>7.262529e-06</td>\n",
       "      <td>1.319164e-08</td>\n",
       "      <td>2.931922e-09</td>\n",
       "    </tr>\n",
       "    <tr>\n",
       "      <th>2</th>\n",
       "      <td>6b5abad8.wav</td>\n",
       "      <td>3.122427e-08</td>\n",
       "      <td>5.167559e-08</td>\n",
       "      <td>1.492112e-07</td>\n",
       "      <td>2.522035e-11</td>\n",
       "      <td>7.545906e-12</td>\n",
       "      <td>9.313833e-11</td>\n",
       "      <td>2.314485e-08</td>\n",
       "      <td>1.622298e-07</td>\n",
       "      <td>7.739206e-11</td>\n",
       "      <td>...</td>\n",
       "      <td>3.627720e-12</td>\n",
       "      <td>3.351453e-12</td>\n",
       "      <td>3.099695e-04</td>\n",
       "      <td>5.810098e-12</td>\n",
       "      <td>1.566215e-05</td>\n",
       "      <td>1.012247e-08</td>\n",
       "      <td>7.018914e-11</td>\n",
       "      <td>7.901389e-13</td>\n",
       "      <td>1.481654e-09</td>\n",
       "      <td>2.792298e-06</td>\n",
       "    </tr>\n",
       "    <tr>\n",
       "      <th>3</th>\n",
       "      <td>736076e5.wav</td>\n",
       "      <td>1.141034e-08</td>\n",
       "      <td>7.159413e-05</td>\n",
       "      <td>1.651013e-10</td>\n",
       "      <td>1.099256e-10</td>\n",
       "      <td>1.357565e-08</td>\n",
       "      <td>2.156091e-08</td>\n",
       "      <td>4.035999e-12</td>\n",
       "      <td>1.672884e-12</td>\n",
       "      <td>2.842612e-08</td>\n",
       "      <td>...</td>\n",
       "      <td>1.706725e-11</td>\n",
       "      <td>3.068726e-04</td>\n",
       "      <td>8.793378e-09</td>\n",
       "      <td>2.424513e-07</td>\n",
       "      <td>1.747008e-09</td>\n",
       "      <td>4.069689e-11</td>\n",
       "      <td>8.771752e-09</td>\n",
       "      <td>8.956232e-09</td>\n",
       "      <td>2.025515e-07</td>\n",
       "      <td>1.879380e-10</td>\n",
       "    </tr>\n",
       "    <tr>\n",
       "      <th>4</th>\n",
       "      <td>c6b7e823.wav</td>\n",
       "      <td>6.714241e-07</td>\n",
       "      <td>1.991242e-08</td>\n",
       "      <td>2.338109e-07</td>\n",
       "      <td>4.477004e-04</td>\n",
       "      <td>3.597702e-06</td>\n",
       "      <td>7.460189e-11</td>\n",
       "      <td>2.403094e-11</td>\n",
       "      <td>8.392799e-07</td>\n",
       "      <td>8.483270e-11</td>\n",
       "      <td>...</td>\n",
       "      <td>1.883659e-09</td>\n",
       "      <td>3.625394e-04</td>\n",
       "      <td>1.560885e-09</td>\n",
       "      <td>2.691992e-03</td>\n",
       "      <td>1.145084e-13</td>\n",
       "      <td>1.600527e-04</td>\n",
       "      <td>2.680148e-08</td>\n",
       "      <td>3.698680e-11</td>\n",
       "      <td>1.961652e-06</td>\n",
       "      <td>6.856694e-09</td>\n",
       "    </tr>\n",
       "  </tbody>\n",
       "</table>\n",
       "<p>5 rows × 81 columns</p>\n",
       "</div>"
      ],
      "text/plain": [
       "          fname  Accelerating_and_revving_and_vroom     Accordion  \\\n",
       "0  a03b1880.wav                        2.066120e-10  9.073612e-14   \n",
       "1  5174dbec.wav                        6.163763e-11  5.975327e-09   \n",
       "2  6b5abad8.wav                        3.122427e-08  5.167559e-08   \n",
       "3  736076e5.wav                        1.141034e-08  7.159413e-05   \n",
       "4  c6b7e823.wav                        6.714241e-07  1.991242e-08   \n",
       "\n",
       "   Acoustic_guitar      Applause          Bark     Bass_drum   Bass_guitar  \\\n",
       "0     3.116300e-11  4.331670e-09  3.090687e-11  3.554704e-09  1.502645e-11   \n",
       "1     4.111234e-04  2.862017e-08  1.063559e-08  8.913444e-08  5.344788e-13   \n",
       "2     1.492112e-07  2.522035e-11  7.545906e-12  9.313833e-11  2.314485e-08   \n",
       "3     1.651013e-10  1.099256e-10  1.357565e-08  2.156091e-08  4.035999e-12   \n",
       "4     2.338109e-07  4.477004e-04  3.597702e-06  7.460189e-11  2.403094e-11   \n",
       "\n",
       "   Bathtub_(filling_or_washing)  Bicycle_bell  ...  Toilet_flush  \\\n",
       "0                  5.157228e-09  1.727431e-10  ...  2.979947e-05   \n",
       "1                  3.827138e-07  2.928821e-12  ...  1.092051e-13   \n",
       "2                  1.622298e-07  7.739206e-11  ...  3.627720e-12   \n",
       "3                  1.672884e-12  2.842612e-08  ...  1.706725e-11   \n",
       "4                  8.392799e-07  8.483270e-11  ...  1.883659e-09   \n",
       "\n",
       "   Traffic_noise_and_roadway_noise  Trickle_and_dribble  Walk_and_footsteps  \\\n",
       "0                     4.324300e-12         2.891639e-10        1.030480e-10   \n",
       "1                     6.894312e-11         4.634189e-10        5.849059e-06   \n",
       "2                     3.351453e-12         3.099695e-04        5.810098e-12   \n",
       "3                     3.068726e-04         8.793378e-09        2.424513e-07   \n",
       "4                     3.625394e-04         1.560885e-09        2.691992e-03   \n",
       "\n",
       "   Water_tap_and_faucet  Waves_and_surf    Whispering       Writing  \\\n",
       "0          8.189989e-12    8.434886e-14  4.330703e-13  4.382064e-07   \n",
       "1          1.161947e-10    3.567348e-10  3.290443e-09  7.262529e-06   \n",
       "2          1.566215e-05    1.012247e-08  7.018914e-11  7.901389e-13   \n",
       "3          1.747008e-09    4.069689e-11  8.771752e-09  8.956232e-09   \n",
       "4          1.145084e-13    1.600527e-04  2.680148e-08  3.698680e-11   \n",
       "\n",
       "           Yell  Zipper_(clothing)  \n",
       "0  5.718627e-11       6.367670e-09  \n",
       "1  1.319164e-08       2.931922e-09  \n",
       "2  1.481654e-09       2.792298e-06  \n",
       "3  2.025515e-07       1.879380e-10  \n",
       "4  1.961652e-06       6.856694e-09  \n",
       "\n",
       "[5 rows x 81 columns]"
      ]
     },
     "execution_count": 53,
     "metadata": {},
     "output_type": "execute_result"
    }
   ],
   "source": [
    "submit_data.insert(0, 'fname', os.listdir('../input/sc2-total-aug-noisy-data/sub2/sub2'))\n",
    "submit_data[\"fname\"]=submit_data[\"fname\"].apply(lambda x: x.split(\".\")[0]+\".wav\")\n",
    "submit_data.head()"
   ]
  },
  {
   "cell_type": "code",
   "execution_count": 54,
   "metadata": {
    "execution": {
     "iopub.execute_input": "2020-10-05T06:04:14.409815Z",
     "iopub.status.busy": "2020-10-05T06:04:14.408941Z",
     "iopub.status.idle": "2020-10-05T06:04:15.379158Z",
     "shell.execute_reply": "2020-10-05T06:04:15.377754Z"
    },
    "papermill": {
     "duration": 8.403124,
     "end_time": "2020-10-05T06:04:15.379345",
     "exception": false,
     "start_time": "2020-10-05T06:04:06.976221",
     "status": "completed"
    },
    "tags": []
   },
   "outputs": [],
   "source": [
    "submit_data.to_csv(\"submissionDenseCuratedCV_0_128.csv\",index=False )"
   ]
  },
  {
   "cell_type": "code",
   "execution_count": null,
   "metadata": {
    "papermill": {
     "duration": 8.632728,
     "end_time": "2020-10-05T06:04:31.864884",
     "exception": false,
     "start_time": "2020-10-05T06:04:23.232156",
     "status": "completed"
    },
    "tags": []
   },
   "outputs": [],
   "source": []
  },
  {
   "cell_type": "code",
   "execution_count": null,
   "metadata": {
    "papermill": {
     "duration": 7.23106,
     "end_time": "2020-10-05T06:04:47.068565",
     "exception": false,
     "start_time": "2020-10-05T06:04:39.837505",
     "status": "completed"
    },
    "tags": []
   },
   "outputs": [],
   "source": []
  }
 ],
 "metadata": {
  "kernelspec": {
   "display_name": "Python 3",
   "language": "python",
   "name": "python3"
  },
  "language_info": {
   "codemirror_mode": {
    "name": "ipython",
    "version": 3
   },
   "file_extension": ".py",
   "mimetype": "text/x-python",
   "name": "python",
   "nbconvert_exporter": "python",
   "pygments_lexer": "ipython3",
   "version": "3.7.3"
  },
  "papermill": {
   "duration": 10454.752339,
   "end_time": "2020-10-05T06:04:55.893428",
   "environment_variables": {},
   "exception": null,
   "input_path": "__notebook__.ipynb",
   "output_path": "__notebook__.ipynb",
   "parameters": {},
   "start_time": "2020-10-05T03:10:41.141089",
   "version": "2.1.0"
  }
 },
 "nbformat": 4,
 "nbformat_minor": 4
}
