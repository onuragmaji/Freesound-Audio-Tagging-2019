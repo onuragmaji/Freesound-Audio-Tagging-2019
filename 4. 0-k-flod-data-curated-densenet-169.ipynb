{
 "cells": [
  {
   "cell_type": "code",
   "execution_count": 1,
   "metadata": {
    "_cell_guid": "b1076dfc-b9ad-4769-8c92-a6c4dae69d19",
    "_uuid": "8f2839f25d086af736a60e9eeb907d3b93b6e0e5",
    "execution": {
     "iopub.execute_input": "2020-10-01T06:32:02.368432Z",
     "iopub.status.busy": "2020-10-01T06:32:02.367263Z",
     "iopub.status.idle": "2020-10-01T06:32:02.370576Z",
     "shell.execute_reply": "2020-10-01T06:32:02.369902Z"
    },
    "papermill": {
     "duration": 0.062891,
     "end_time": "2020-10-01T06:32:02.370704",
     "exception": false,
     "start_time": "2020-10-01T06:32:02.307813",
     "status": "completed"
    },
    "tags": []
   },
   "outputs": [],
   "source": [
    "import numpy as np # linear algebra\n",
    "import pandas as pd # data processing, CSV file I/O (e.g. pd.read_csv)\n",
    "\n",
    "import os"
   ]
  },
  {
   "cell_type": "code",
   "execution_count": 2,
   "metadata": {
    "execution": {
     "iopub.execute_input": "2020-10-01T06:32:02.483282Z",
     "iopub.status.busy": "2020-10-01T06:32:02.482463Z",
     "iopub.status.idle": "2020-10-01T06:32:02.526340Z",
     "shell.execute_reply": "2020-10-01T06:32:02.524635Z"
    },
    "papermill": {
     "duration": 0.103745,
     "end_time": "2020-10-01T06:32:02.526474",
     "exception": false,
     "start_time": "2020-10-01T06:32:02.422729",
     "status": "completed"
    },
    "tags": []
   },
   "outputs": [],
   "source": [
    "traindf_noisy=pd.read_csv('../input/freesound-audio-tagging-2019/train_noisy.csv',dtype=str)\n",
    "\n",
    "traindf_curated=pd.read_csv('../input/freesound-audio-tagging-2019/train_curated.csv',dtype=str)"
   ]
  },
  {
   "cell_type": "code",
   "execution_count": 3,
   "metadata": {
    "execution": {
     "iopub.execute_input": "2020-10-01T06:32:02.640640Z",
     "iopub.status.busy": "2020-10-01T06:32:02.639777Z",
     "iopub.status.idle": "2020-10-01T06:32:02.653673Z",
     "shell.execute_reply": "2020-10-01T06:32:02.654305Z"
    },
    "papermill": {
     "duration": 0.074725,
     "end_time": "2020-10-01T06:32:02.654460",
     "exception": false,
     "start_time": "2020-10-01T06:32:02.579735",
     "status": "completed"
    },
    "tags": []
   },
   "outputs": [
    {
     "data": {
      "text/html": [
       "<div>\n",
       "<style scoped>\n",
       "    .dataframe tbody tr th:only-of-type {\n",
       "        vertical-align: middle;\n",
       "    }\n",
       "\n",
       "    .dataframe tbody tr th {\n",
       "        vertical-align: top;\n",
       "    }\n",
       "\n",
       "    .dataframe thead th {\n",
       "        text-align: right;\n",
       "    }\n",
       "</style>\n",
       "<table border=\"1\" class=\"dataframe\">\n",
       "  <thead>\n",
       "    <tr style=\"text-align: right;\">\n",
       "      <th></th>\n",
       "      <th>fname</th>\n",
       "      <th>labels</th>\n",
       "    </tr>\n",
       "  </thead>\n",
       "  <tbody>\n",
       "    <tr>\n",
       "      <th>0</th>\n",
       "      <td>00097e21.wav</td>\n",
       "      <td>Bathtub_(filling_or_washing)</td>\n",
       "    </tr>\n",
       "    <tr>\n",
       "      <th>1</th>\n",
       "      <td>000b6cfb.wav</td>\n",
       "      <td>Motorcycle</td>\n",
       "    </tr>\n",
       "    <tr>\n",
       "      <th>2</th>\n",
       "      <td>00116cd2.wav</td>\n",
       "      <td>Marimba_and_xylophone,Glockenspiel</td>\n",
       "    </tr>\n",
       "    <tr>\n",
       "      <th>3</th>\n",
       "      <td>00127d14.wav</td>\n",
       "      <td>Water_tap_and_faucet,Sink_(filling_or_washing)</td>\n",
       "    </tr>\n",
       "    <tr>\n",
       "      <th>4</th>\n",
       "      <td>0019adae.wav</td>\n",
       "      <td>Raindrop</td>\n",
       "    </tr>\n",
       "  </tbody>\n",
       "</table>\n",
       "</div>"
      ],
      "text/plain": [
       "          fname                                          labels\n",
       "0  00097e21.wav                    Bathtub_(filling_or_washing)\n",
       "1  000b6cfb.wav                                      Motorcycle\n",
       "2  00116cd2.wav              Marimba_and_xylophone,Glockenspiel\n",
       "3  00127d14.wav  Water_tap_and_faucet,Sink_(filling_or_washing)\n",
       "4  0019adae.wav                                        Raindrop"
      ]
     },
     "execution_count": 3,
     "metadata": {},
     "output_type": "execute_result"
    }
   ],
   "source": [
    "traindf_noisy.head()"
   ]
  },
  {
   "cell_type": "markdown",
   "metadata": {},
   "source": [
    "# Loading 0-K Fold Curated Train, CV and Test data"
   ]
  },
  {
   "cell_type": "code",
   "execution_count": 4,
   "metadata": {
    "execution": {
     "iopub.execute_input": "2020-10-01T06:32:02.770148Z",
     "iopub.status.busy": "2020-10-01T06:32:02.769086Z",
     "iopub.status.idle": "2020-10-01T06:32:02.788239Z",
     "shell.execute_reply": "2020-10-01T06:32:02.788899Z"
    },
    "papermill": {
     "duration": 0.082197,
     "end_time": "2020-10-01T06:32:02.789063",
     "exception": false,
     "start_time": "2020-10-01T06:32:02.706866",
     "status": "completed"
    },
    "tags": []
   },
   "outputs": [
    {
     "data": {
      "text/html": [
       "<div>\n",
       "<style scoped>\n",
       "    .dataframe tbody tr th:only-of-type {\n",
       "        vertical-align: middle;\n",
       "    }\n",
       "\n",
       "    .dataframe tbody tr th {\n",
       "        vertical-align: top;\n",
       "    }\n",
       "\n",
       "    .dataframe thead th {\n",
       "        text-align: right;\n",
       "    }\n",
       "</style>\n",
       "<table border=\"1\" class=\"dataframe\">\n",
       "  <thead>\n",
       "    <tr style=\"text-align: right;\">\n",
       "      <th></th>\n",
       "      <th>fname</th>\n",
       "      <th>labels</th>\n",
       "    </tr>\n",
       "  </thead>\n",
       "  <tbody>\n",
       "    <tr>\n",
       "      <th>0</th>\n",
       "      <td>d349d1c7_aug.jpg</td>\n",
       "      <td>Cutlery_and_silverware,Dishes_and_pots_and_pans</td>\n",
       "    </tr>\n",
       "    <tr>\n",
       "      <th>1</th>\n",
       "      <td>e1c41fe6_aug.jpg</td>\n",
       "      <td>Burping_and_eructation</td>\n",
       "    </tr>\n",
       "    <tr>\n",
       "      <th>2</th>\n",
       "      <td>d8b54599.jpg</td>\n",
       "      <td>Accelerating_and_revving_and_vroom</td>\n",
       "    </tr>\n",
       "    <tr>\n",
       "      <th>3</th>\n",
       "      <td>15d94574_aug.jpg</td>\n",
       "      <td>Mechanical_fan</td>\n",
       "    </tr>\n",
       "    <tr>\n",
       "      <th>4</th>\n",
       "      <td>05be25ad.jpg</td>\n",
       "      <td>Shatter</td>\n",
       "    </tr>\n",
       "  </tbody>\n",
       "</table>\n",
       "</div>"
      ],
      "text/plain": [
       "              fname                                           labels\n",
       "0  d349d1c7_aug.jpg  Cutlery_and_silverware,Dishes_and_pots_and_pans\n",
       "1  e1c41fe6_aug.jpg                           Burping_and_eructation\n",
       "2      d8b54599.jpg               Accelerating_and_revving_and_vroom\n",
       "3  15d94574_aug.jpg                                   Mechanical_fan\n",
       "4      05be25ad.jpg                                          Shatter"
      ]
     },
     "execution_count": 4,
     "metadata": {},
     "output_type": "execute_result"
    }
   ],
   "source": [
    "train_df = pd.read_csv(\"../input/sc2-total-aug-noisy-data/K_fold_data/K_fold_data/Curated/Curated_train_0.csv\")\n",
    "train_df.head()"
   ]
  },
  {
   "cell_type": "code",
   "execution_count": 5,
   "metadata": {
    "execution": {
     "iopub.execute_input": "2020-10-01T06:32:02.901249Z",
     "iopub.status.busy": "2020-10-01T06:32:02.900439Z",
     "iopub.status.idle": "2020-10-01T06:32:02.906073Z",
     "shell.execute_reply": "2020-10-01T06:32:02.906649Z"
    },
    "papermill": {
     "duration": 0.064206,
     "end_time": "2020-10-01T06:32:02.906784",
     "exception": false,
     "start_time": "2020-10-01T06:32:02.842578",
     "status": "completed"
    },
    "tags": []
   },
   "outputs": [
    {
     "data": {
      "text/plain": [
       "(6251, 2)"
      ]
     },
     "execution_count": 5,
     "metadata": {},
     "output_type": "execute_result"
    }
   ],
   "source": [
    "train_df.shape"
   ]
  },
  {
   "cell_type": "code",
   "execution_count": 6,
   "metadata": {
    "execution": {
     "iopub.execute_input": "2020-10-01T06:32:03.027247Z",
     "iopub.status.busy": "2020-10-01T06:32:03.026206Z",
     "iopub.status.idle": "2020-10-01T06:32:03.037367Z",
     "shell.execute_reply": "2020-10-01T06:32:03.038247Z"
    },
    "papermill": {
     "duration": 0.078721,
     "end_time": "2020-10-01T06:32:03.038443",
     "exception": false,
     "start_time": "2020-10-01T06:32:02.959722",
     "status": "completed"
    },
    "tags": []
   },
   "outputs": [
    {
     "data": {
      "text/plain": [
       "(1563, 2)"
      ]
     },
     "execution_count": 6,
     "metadata": {},
     "output_type": "execute_result"
    }
   ],
   "source": [
    "cv_df = pd.read_csv(\"../input/sc2-total-aug-noisy-data/K_fold_data/K_fold_data/Curated/Curated_cv_0.csv\")\n",
    "cv_df.shape"
   ]
  },
  {
   "cell_type": "code",
   "execution_count": 7,
   "metadata": {
    "execution": {
     "iopub.execute_input": "2020-10-01T06:32:03.163555Z",
     "iopub.status.busy": "2020-10-01T06:32:03.162343Z",
     "iopub.status.idle": "2020-10-01T06:32:03.171753Z",
     "shell.execute_reply": "2020-10-01T06:32:03.172335Z"
    },
    "papermill": {
     "duration": 0.073131,
     "end_time": "2020-10-01T06:32:03.172498",
     "exception": false,
     "start_time": "2020-10-01T06:32:03.099367",
     "status": "completed"
    },
    "tags": []
   },
   "outputs": [
    {
     "data": {
      "text/plain": [
       "(1380, 2)"
      ]
     },
     "execution_count": 7,
     "metadata": {},
     "output_type": "execute_result"
    }
   ],
   "source": [
    "    \n",
    "test_df = pd.read_csv(\"../input/sc2-total-aug-noisy-data/K_fold_data/K_fold_data/Curated/Curated_test.csv\") \n",
    "test_df.shape"
   ]
  },
  {
   "cell_type": "markdown",
   "metadata": {},
   "source": [
    "# Sklearn MultiLabelBinarizer to One-hot encode the multilablles"
   ]
  },
  {
   "cell_type": "code",
   "execution_count": 8,
   "metadata": {
    "execution": {
     "iopub.execute_input": "2020-10-01T06:32:03.291337Z",
     "iopub.status.busy": "2020-10-01T06:32:03.290401Z",
     "iopub.status.idle": "2020-10-01T06:32:04.192307Z",
     "shell.execute_reply": "2020-10-01T06:32:04.191479Z"
    },
    "papermill": {
     "duration": 0.964311,
     "end_time": "2020-10-01T06:32:04.192435",
     "exception": false,
     "start_time": "2020-10-01T06:32:03.228124",
     "status": "completed"
    },
    "tags": []
   },
   "outputs": [],
   "source": [
    "from sklearn.preprocessing import MultiLabelBinarizer\n",
    "\n",
    "mlb_train = MultiLabelBinarizer()\n",
    "\n",
    "\n",
    "labels_train = mlb_train.fit_transform([ i.split(\",\") for i in list(train_df[\"labels\"])])\n",
    "\n",
    "\n",
    "labels_test = mlb_train.transform([ i.split(\",\") for i in list(test_df[\"labels\"])])\n",
    "\n",
    "\n",
    "#mlb_cv = MultiLabelBinarizer()\n",
    "labels_cv = mlb_train.transform([ i.split(\",\") for i in list(cv_df[\"labels\"])])\n"
   ]
  },
  {
   "cell_type": "code",
   "execution_count": 9,
   "metadata": {
    "execution": {
     "iopub.execute_input": "2020-10-01T06:32:04.309210Z",
     "iopub.status.busy": "2020-10-01T06:32:04.308225Z",
     "iopub.status.idle": "2020-10-01T06:32:04.311995Z",
     "shell.execute_reply": "2020-10-01T06:32:04.312700Z"
    },
    "papermill": {
     "duration": 0.065541,
     "end_time": "2020-10-01T06:32:04.312853",
     "exception": false,
     "start_time": "2020-10-01T06:32:04.247312",
     "status": "completed"
    },
    "tags": []
   },
   "outputs": [
    {
     "data": {
      "text/plain": [
       "(1380, 80)"
      ]
     },
     "execution_count": 9,
     "metadata": {},
     "output_type": "execute_result"
    }
   ],
   "source": [
    "labels_test.shape"
   ]
  },
  {
   "cell_type": "code",
   "execution_count": 10,
   "metadata": {
    "execution": {
     "iopub.execute_input": "2020-10-01T06:32:04.435230Z",
     "iopub.status.busy": "2020-10-01T06:32:04.434026Z",
     "iopub.status.idle": "2020-10-01T06:32:04.442745Z",
     "shell.execute_reply": "2020-10-01T06:32:04.443411Z"
    },
    "papermill": {
     "duration": 0.074672,
     "end_time": "2020-10-01T06:32:04.443565",
     "exception": false,
     "start_time": "2020-10-01T06:32:04.368893",
     "status": "completed"
    },
    "tags": []
   },
   "outputs": [],
   "source": [
    "trainmultidf=pd.DataFrame(data=labels_train,columns=list(mlb_train.classes_))\n",
    "trainmultidf[\"fname\"]=list(train_df[\"fname\"])\n",
    "\n",
    "testmultidf=pd.DataFrame(data=labels_test,columns=list(mlb_train.classes_))\n",
    "testmultidf[\"fname\"]=list(test_df[\"fname\"])\n",
    "\n",
    "\n",
    "cvmultidf=pd.DataFrame(data=labels_cv,columns=list(mlb_train.classes_))\n",
    "cvmultidf[\"fname\"]=list(cv_df[\"fname\"])\n"
   ]
  },
  {
   "cell_type": "markdown",
   "metadata": {},
   "source": [
    "# Loading Preprocessed Spectrogram Images via ImageDataGenerator and adding augumnetation to train data\n"
   ]
  },
  {
   "cell_type": "code",
   "execution_count": 11,
   "metadata": {
    "execution": {
     "iopub.execute_input": "2020-10-01T06:32:04.563675Z",
     "iopub.status.busy": "2020-10-01T06:32:04.562783Z",
     "iopub.status.idle": "2020-10-01T06:32:11.785355Z",
     "shell.execute_reply": "2020-10-01T06:32:11.785941Z"
    },
    "papermill": {
     "duration": 7.28728,
     "end_time": "2020-10-01T06:32:11.786115",
     "exception": false,
     "start_time": "2020-10-01T06:32:04.498835",
     "status": "completed"
    },
    "tags": []
   },
   "outputs": [
    {
     "name": "stdout",
     "output_type": "stream",
     "text": [
      "Found 6251 validated image filenames.\n"
     ]
    }
   ],
   "source": [
    "#We change the ids for the images in the csv files to reflect their new status as jpgs\n",
    "#https://medium.com/@vijayabhaskar96/tutorial-on-keras-flow-from-dataframe-1fd4493d237c\n",
    "from keras_preprocessing.image import ImageDataGenerator\n",
    "\n",
    "\n",
    "\n",
    "datagen=ImageDataGenerator(rescale=1./255.,zoom_range=[0.5,1.0],brightness_range=[0.8,1.4])\n",
    "\n",
    "\n",
    "train_generator=datagen.flow_from_dataframe(\n",
    "    dataframe=trainmultidf,\n",
    "    directory=\"../input/sc2-total-aug-noisy-data/Total images Bucket Curated/Total images Bucket Curated\",\n",
    "    x_col=\"fname\",\n",
    "    y_col=list(mlb_train.classes_),\n",
    "    subset=\"training\",\n",
    "    batch_size=64,\n",
    "    seed=42,\n",
    "    shuffle=False,\n",
    "    class_mode=\"raw\",\n",
    "    #color_mode=\"grayscale\",\n",
    "    target_size=(128,128))\n",
    "\n"
   ]
  },
  {
   "cell_type": "code",
   "execution_count": 12,
   "metadata": {
    "execution": {
     "iopub.execute_input": "2020-10-01T06:32:11.904374Z",
     "iopub.status.busy": "2020-10-01T06:32:11.903383Z",
     "iopub.status.idle": "2020-10-01T06:32:11.907276Z",
     "shell.execute_reply": "2020-10-01T06:32:11.907898Z"
    },
    "papermill": {
     "duration": 0.065924,
     "end_time": "2020-10-01T06:32:11.908067",
     "exception": false,
     "start_time": "2020-10-01T06:32:11.842143",
     "status": "completed"
    },
    "tags": []
   },
   "outputs": [
    {
     "data": {
      "text/plain": [
       "6251"
      ]
     },
     "execution_count": 12,
     "metadata": {},
     "output_type": "execute_result"
    }
   ],
   "source": [
    "train_generator.n"
   ]
  },
  {
   "cell_type": "code",
   "execution_count": 13,
   "metadata": {
    "execution": {
     "iopub.execute_input": "2020-10-01T06:32:12.026692Z",
     "iopub.status.busy": "2020-10-01T06:32:12.025774Z",
     "iopub.status.idle": "2020-10-01T06:32:12.029308Z",
     "shell.execute_reply": "2020-10-01T06:32:12.030003Z"
    },
    "papermill": {
     "duration": 0.06644,
     "end_time": "2020-10-01T06:32:12.030151",
     "exception": false,
     "start_time": "2020-10-01T06:32:11.963711",
     "status": "completed"
    },
    "tags": []
   },
   "outputs": [
    {
     "data": {
      "text/plain": [
       "(1563, 81)"
      ]
     },
     "execution_count": 13,
     "metadata": {},
     "output_type": "execute_result"
    }
   ],
   "source": [
    "cvmultidf.shape"
   ]
  },
  {
   "cell_type": "code",
   "execution_count": 14,
   "metadata": {
    "execution": {
     "iopub.execute_input": "2020-10-01T06:32:12.166397Z",
     "iopub.status.busy": "2020-10-01T06:32:12.165308Z",
     "iopub.status.idle": "2020-10-01T06:32:12.169659Z",
     "shell.execute_reply": "2020-10-01T06:32:12.170247Z"
    },
    "papermill": {
     "duration": 0.083724,
     "end_time": "2020-10-01T06:32:12.170404",
     "exception": false,
     "start_time": "2020-10-01T06:32:12.086680",
     "status": "completed"
    },
    "tags": []
   },
   "outputs": [
    {
     "data": {
      "text/html": [
       "<div>\n",
       "<style scoped>\n",
       "    .dataframe tbody tr th:only-of-type {\n",
       "        vertical-align: middle;\n",
       "    }\n",
       "\n",
       "    .dataframe tbody tr th {\n",
       "        vertical-align: top;\n",
       "    }\n",
       "\n",
       "    .dataframe thead th {\n",
       "        text-align: right;\n",
       "    }\n",
       "</style>\n",
       "<table border=\"1\" class=\"dataframe\">\n",
       "  <thead>\n",
       "    <tr style=\"text-align: right;\">\n",
       "      <th></th>\n",
       "      <th>Accelerating_and_revving_and_vroom</th>\n",
       "      <th>Accordion</th>\n",
       "      <th>Acoustic_guitar</th>\n",
       "      <th>Applause</th>\n",
       "      <th>Bark</th>\n",
       "      <th>Bass_drum</th>\n",
       "      <th>Bass_guitar</th>\n",
       "      <th>Bathtub_(filling_or_washing)</th>\n",
       "      <th>Bicycle_bell</th>\n",
       "      <th>Burping_and_eructation</th>\n",
       "      <th>...</th>\n",
       "      <th>Traffic_noise_and_roadway_noise</th>\n",
       "      <th>Trickle_and_dribble</th>\n",
       "      <th>Walk_and_footsteps</th>\n",
       "      <th>Water_tap_and_faucet</th>\n",
       "      <th>Waves_and_surf</th>\n",
       "      <th>Whispering</th>\n",
       "      <th>Writing</th>\n",
       "      <th>Yell</th>\n",
       "      <th>Zipper_(clothing)</th>\n",
       "      <th>fname</th>\n",
       "    </tr>\n",
       "  </thead>\n",
       "  <tbody>\n",
       "    <tr>\n",
       "      <th>0</th>\n",
       "      <td>0</td>\n",
       "      <td>0</td>\n",
       "      <td>0</td>\n",
       "      <td>0</td>\n",
       "      <td>0</td>\n",
       "      <td>0</td>\n",
       "      <td>1</td>\n",
       "      <td>0</td>\n",
       "      <td>0</td>\n",
       "      <td>0</td>\n",
       "      <td>...</td>\n",
       "      <td>0</td>\n",
       "      <td>0</td>\n",
       "      <td>0</td>\n",
       "      <td>0</td>\n",
       "      <td>0</td>\n",
       "      <td>0</td>\n",
       "      <td>0</td>\n",
       "      <td>0</td>\n",
       "      <td>0</td>\n",
       "      <td>9a93c380.jpg</td>\n",
       "    </tr>\n",
       "    <tr>\n",
       "      <th>1</th>\n",
       "      <td>0</td>\n",
       "      <td>0</td>\n",
       "      <td>0</td>\n",
       "      <td>0</td>\n",
       "      <td>0</td>\n",
       "      <td>0</td>\n",
       "      <td>0</td>\n",
       "      <td>0</td>\n",
       "      <td>0</td>\n",
       "      <td>0</td>\n",
       "      <td>...</td>\n",
       "      <td>0</td>\n",
       "      <td>0</td>\n",
       "      <td>0</td>\n",
       "      <td>0</td>\n",
       "      <td>0</td>\n",
       "      <td>0</td>\n",
       "      <td>0</td>\n",
       "      <td>0</td>\n",
       "      <td>0</td>\n",
       "      <td>0ab47a4c.jpg</td>\n",
       "    </tr>\n",
       "    <tr>\n",
       "      <th>2</th>\n",
       "      <td>0</td>\n",
       "      <td>0</td>\n",
       "      <td>0</td>\n",
       "      <td>0</td>\n",
       "      <td>0</td>\n",
       "      <td>0</td>\n",
       "      <td>0</td>\n",
       "      <td>0</td>\n",
       "      <td>0</td>\n",
       "      <td>1</td>\n",
       "      <td>...</td>\n",
       "      <td>0</td>\n",
       "      <td>0</td>\n",
       "      <td>0</td>\n",
       "      <td>0</td>\n",
       "      <td>0</td>\n",
       "      <td>0</td>\n",
       "      <td>0</td>\n",
       "      <td>0</td>\n",
       "      <td>0</td>\n",
       "      <td>8f5bf633_aug.jpg</td>\n",
       "    </tr>\n",
       "    <tr>\n",
       "      <th>3</th>\n",
       "      <td>0</td>\n",
       "      <td>0</td>\n",
       "      <td>0</td>\n",
       "      <td>0</td>\n",
       "      <td>0</td>\n",
       "      <td>0</td>\n",
       "      <td>0</td>\n",
       "      <td>0</td>\n",
       "      <td>0</td>\n",
       "      <td>0</td>\n",
       "      <td>...</td>\n",
       "      <td>0</td>\n",
       "      <td>0</td>\n",
       "      <td>0</td>\n",
       "      <td>0</td>\n",
       "      <td>0</td>\n",
       "      <td>0</td>\n",
       "      <td>0</td>\n",
       "      <td>0</td>\n",
       "      <td>0</td>\n",
       "      <td>e07009c1.jpg</td>\n",
       "    </tr>\n",
       "    <tr>\n",
       "      <th>4</th>\n",
       "      <td>0</td>\n",
       "      <td>0</td>\n",
       "      <td>0</td>\n",
       "      <td>0</td>\n",
       "      <td>0</td>\n",
       "      <td>0</td>\n",
       "      <td>0</td>\n",
       "      <td>0</td>\n",
       "      <td>0</td>\n",
       "      <td>0</td>\n",
       "      <td>...</td>\n",
       "      <td>0</td>\n",
       "      <td>0</td>\n",
       "      <td>0</td>\n",
       "      <td>0</td>\n",
       "      <td>0</td>\n",
       "      <td>0</td>\n",
       "      <td>1</td>\n",
       "      <td>0</td>\n",
       "      <td>0</td>\n",
       "      <td>877562da_aug.jpg</td>\n",
       "    </tr>\n",
       "  </tbody>\n",
       "</table>\n",
       "<p>5 rows × 81 columns</p>\n",
       "</div>"
      ],
      "text/plain": [
       "   Accelerating_and_revving_and_vroom  Accordion  Acoustic_guitar  Applause  \\\n",
       "0                                   0          0                0         0   \n",
       "1                                   0          0                0         0   \n",
       "2                                   0          0                0         0   \n",
       "3                                   0          0                0         0   \n",
       "4                                   0          0                0         0   \n",
       "\n",
       "   Bark  Bass_drum  Bass_guitar  Bathtub_(filling_or_washing)  Bicycle_bell  \\\n",
       "0     0          0            1                             0             0   \n",
       "1     0          0            0                             0             0   \n",
       "2     0          0            0                             0             0   \n",
       "3     0          0            0                             0             0   \n",
       "4     0          0            0                             0             0   \n",
       "\n",
       "   Burping_and_eructation  ...  Traffic_noise_and_roadway_noise  \\\n",
       "0                       0  ...                                0   \n",
       "1                       0  ...                                0   \n",
       "2                       1  ...                                0   \n",
       "3                       0  ...                                0   \n",
       "4                       0  ...                                0   \n",
       "\n",
       "   Trickle_and_dribble  Walk_and_footsteps  Water_tap_and_faucet  \\\n",
       "0                    0                   0                     0   \n",
       "1                    0                   0                     0   \n",
       "2                    0                   0                     0   \n",
       "3                    0                   0                     0   \n",
       "4                    0                   0                     0   \n",
       "\n",
       "   Waves_and_surf  Whispering  Writing  Yell  Zipper_(clothing)  \\\n",
       "0               0           0        0     0                  0   \n",
       "1               0           0        0     0                  0   \n",
       "2               0           0        0     0                  0   \n",
       "3               0           0        0     0                  0   \n",
       "4               0           0        1     0                  0   \n",
       "\n",
       "              fname  \n",
       "0      9a93c380.jpg  \n",
       "1      0ab47a4c.jpg  \n",
       "2  8f5bf633_aug.jpg  \n",
       "3      e07009c1.jpg  \n",
       "4  877562da_aug.jpg  \n",
       "\n",
       "[5 rows x 81 columns]"
      ]
     },
     "execution_count": 14,
     "metadata": {},
     "output_type": "execute_result"
    }
   ],
   "source": [
    "cvmultidf.head()"
   ]
  },
  {
   "cell_type": "code",
   "execution_count": 15,
   "metadata": {
    "execution": {
     "iopub.execute_input": "2020-10-01T06:32:12.294578Z",
     "iopub.status.busy": "2020-10-01T06:32:12.293497Z",
     "iopub.status.idle": "2020-10-01T06:32:12.640796Z",
     "shell.execute_reply": "2020-10-01T06:32:12.639511Z"
    },
    "papermill": {
     "duration": 0.412696,
     "end_time": "2020-10-01T06:32:12.640997",
     "exception": false,
     "start_time": "2020-10-01T06:32:12.228301",
     "status": "completed"
    },
    "tags": []
   },
   "outputs": [
    {
     "name": "stdout",
     "output_type": "stream",
     "text": [
      "Found 1563 validated image filenames.\n"
     ]
    }
   ],
   "source": [
    "\n",
    "valid_datagen=ImageDataGenerator(rescale=1./255.)\n",
    "\n",
    "valid_generator=valid_datagen.flow_from_dataframe(\n",
    "    dataframe=cvmultidf,\n",
    "    directory=\"../input/sc2-total-aug-noisy-data/Total images Bucket Curated/Total images Bucket Curated\",\n",
    "    x_col=\"fname\",\n",
    "    y_col=list(mlb_train.classes_),\n",
    "   # subset=\"validation\",\n",
    "    batch_size=64,\n",
    "    seed=42,\n",
    "    shuffle=False,\n",
    "    class_mode=\"raw\",\n",
    "    #color_mode=\"grayscale\",\n",
    "    target_size=(128,128))\n"
   ]
  },
  {
   "cell_type": "code",
   "execution_count": 16,
   "metadata": {
    "execution": {
     "iopub.execute_input": "2020-10-01T06:32:12.765369Z",
     "iopub.status.busy": "2020-10-01T06:32:12.764272Z",
     "iopub.status.idle": "2020-10-01T06:32:13.076867Z",
     "shell.execute_reply": "2020-10-01T06:32:13.078174Z"
    },
    "papermill": {
     "duration": 0.378817,
     "end_time": "2020-10-01T06:32:13.078402",
     "exception": false,
     "start_time": "2020-10-01T06:32:12.699585",
     "status": "completed"
    },
    "tags": []
   },
   "outputs": [
    {
     "name": "stdout",
     "output_type": "stream",
     "text": [
      "Found 1380 validated image filenames.\n"
     ]
    }
   ],
   "source": [
    "test_datagen=ImageDataGenerator(rescale=1./255.)\n",
    "test_generator=test_datagen.flow_from_dataframe(\n",
    "    dataframe=testmultidf,\n",
    "    directory=\"../input/sc2-total-aug-noisy-data/Total images Bucket Curated/Total images Bucket Curated\",\n",
    "    x_col=\"fname\",\n",
    "    y_col=None,\n",
    "    batch_size=64,\n",
    "    seed=42,\n",
    "    shuffle=False,\n",
    "    class_mode=None,\n",
    "   # color_mode=\"grayscale\",\n",
    "    target_size=(128,128))\n",
    "STEP_SIZE_TEST=test_generator.n//test_generator.batch_size"
   ]
  },
  {
   "cell_type": "markdown",
   "metadata": {},
   "source": [
    "# Loading Model and Training"
   ]
  },
  {
   "cell_type": "code",
   "execution_count": 17,
   "metadata": {
    "execution": {
     "iopub.execute_input": "2020-10-01T06:32:13.209303Z",
     "iopub.status.busy": "2020-10-01T06:32:13.208473Z",
     "iopub.status.idle": "2020-10-01T06:32:13.267812Z",
     "shell.execute_reply": "2020-10-01T06:32:13.267185Z"
    },
    "papermill": {
     "duration": 0.130852,
     "end_time": "2020-10-01T06:32:13.267942",
     "exception": false,
     "start_time": "2020-10-01T06:32:13.137090",
     "status": "completed"
    },
    "tags": []
   },
   "outputs": [],
   "source": [
    "from sklearn import model_selection\n",
    "from tensorflow.keras.preprocessing.text import Tokenizer\n",
    "from tensorflow.keras.utils import to_categorical\n",
    "from tensorflow.keras.preprocessing.sequence import pad_sequences\n",
    "\n",
    "from tensorflow.keras.optimizers import RMSprop\n",
    "from tensorflow.keras.models import Model\n",
    "from tensorflow.keras.models import load_model\n",
    "\n",
    "import numpy as np\n",
    "from tensorflow.keras.models import Sequential\n",
    "from tensorflow.keras.preprocessing import sequence\n",
    "\n",
    "\n",
    "\n",
    "import tensorflow as tf\n",
    "from tensorflow.keras import models, layers\n",
    "from tensorflow.keras.models import Model\n",
    "from tensorflow.keras.optimizers import Adam\n",
    "#from tensorflow.keras.callbacks import ModelCheckpoint,EarlyStopping \n",
    "from tensorflow.keras.layers import Dense, Flatten, LSTM, Conv2D, MaxPooling2D, Dropout, Activation, Input,BatchNormalization, AveragePooling2D,GlobalMaxPool2D,PReLU\n",
    "\n",
    "from tensorflow.keras.models import model_from_json  \n",
    "from tensorflow.keras.applications import DenseNet169\n",
    "\n",
    "from tensorflow.keras.callbacks import (ModelCheckpoint, LearningRateScheduler,\n",
    "                             EarlyStopping, ReduceLROnPlateau,CSVLogger)"
   ]
  },
  {
   "cell_type": "code",
   "execution_count": 18,
   "metadata": {
    "execution": {
     "iopub.execute_input": "2020-10-01T06:32:13.393767Z",
     "iopub.status.busy": "2020-10-01T06:32:13.393001Z",
     "iopub.status.idle": "2020-10-01T06:32:23.807636Z",
     "shell.execute_reply": "2020-10-01T06:32:23.806504Z"
    },
    "papermill": {
     "duration": 10.481151,
     "end_time": "2020-10-01T06:32:23.807787",
     "exception": false,
     "start_time": "2020-10-01T06:32:13.326636",
     "status": "completed"
    },
    "tags": []
   },
   "outputs": [
    {
     "name": "stdout",
     "output_type": "stream",
     "text": [
      "Downloading data from https://storage.googleapis.com/tensorflow/keras-applications/densenet/densenet169_weights_tf_dim_ordering_tf_kernels.h5\n",
      "58548224/58541896 [==============================] - 1s 0us/step\n"
     ]
    }
   ],
   "source": [
    "#last_layer = model.get_layer('avg_pool').output\n",
    "\n",
    "image_input = Input(shape=(128,128, 3))\n",
    "model = DenseNet169(input_tensor=image_input, include_top=True)\n",
    "last_layer = model.get_layer('avg_pool').output\n",
    "x= Flatten(name='flatten')(last_layer)\n",
    "#model=\n",
    "\n",
    "\n",
    "#output = Dense(80, activation='sigmoid', name='output_layer')(model.layers[-2].output)\n",
    "x= Dense(80)(x)\n",
    "output = Activation('sigmoid')(x)\n",
    "#out = Dense(num_classes, activation='softmax', name='output_layer')(x)"
   ]
  },
  {
   "cell_type": "code",
   "execution_count": 19,
   "metadata": {
    "execution": {
     "iopub.execute_input": "2020-10-01T06:32:23.940155Z",
     "iopub.status.busy": "2020-10-01T06:32:23.938958Z",
     "iopub.status.idle": "2020-10-01T06:32:23.944604Z",
     "shell.execute_reply": "2020-10-01T06:32:23.944026Z"
    },
    "papermill": {
     "duration": 0.074421,
     "end_time": "2020-10-01T06:32:23.944717",
     "exception": false,
     "start_time": "2020-10-01T06:32:23.870296",
     "status": "completed"
    },
    "tags": []
   },
   "outputs": [
    {
     "data": {
      "text/plain": [
       "[<tensorflow.python.keras.layers.normalization_v2.BatchNormalization at 0x7fda70187310>,\n",
       " <tensorflow.python.keras.layers.core.Activation at 0x7fda701a7290>,\n",
       " <tensorflow.python.keras.layers.pooling.GlobalAveragePooling2D at 0x7fda701a7490>,\n",
       " <tensorflow.python.keras.layers.core.Dense at 0x7fda701a7dd0>]"
      ]
     },
     "execution_count": 19,
     "metadata": {},
     "output_type": "execute_result"
    }
   ],
   "source": [
    "model.layers[-4:]"
   ]
  },
  {
   "cell_type": "code",
   "execution_count": 21,
   "metadata": {
    "execution": {
     "iopub.execute_input": "2020-10-01T06:32:24.365018Z",
     "iopub.status.busy": "2020-10-01T06:32:24.363810Z",
     "iopub.status.idle": "2020-10-01T06:32:24.459624Z",
     "shell.execute_reply": "2020-10-01T06:32:24.458870Z"
    },
    "papermill": {
     "duration": 0.166563,
     "end_time": "2020-10-01T06:32:24.459761",
     "exception": false,
     "start_time": "2020-10-01T06:32:24.293198",
     "status": "completed"
    },
    "tags": []
   },
   "outputs": [],
   "source": [
    "custom_densenet169_model = Model(inputs=image_input,outputs= output)\n",
    "#custom_densenet169_model.summary()"
   ]
  },
  {
   "cell_type": "markdown",
   "metadata": {
    "papermill": {
     "duration": 0.063037,
     "end_time": "2020-10-01T06:32:24.229541",
     "exception": false,
     "start_time": "2020-10-01T06:32:24.166504",
     "status": "completed"
    },
    "tags": []
   },
   "source": [
    "# Loading Custom noisy model trained weights"
   ]
  },
  {
   "cell_type": "code",
   "execution_count": 22,
   "metadata": {
    "execution": {
     "iopub.execute_input": "2020-10-01T06:32:24.601917Z",
     "iopub.status.busy": "2020-10-01T06:32:24.597434Z",
     "iopub.status.idle": "2020-10-01T06:32:25.589015Z",
     "shell.execute_reply": "2020-10-01T06:32:25.587696Z"
    },
    "papermill": {
     "duration": 1.065828,
     "end_time": "2020-10-01T06:32:25.589161",
     "exception": false,
     "start_time": "2020-10-01T06:32:24.523333",
     "status": "completed"
    },
    "tags": []
   },
   "outputs": [],
   "source": [
    "custom_densenet169_model.load_weights(\"../input/sc2weights/NoisyTotal.best_weights-128.hdf5\")"
   ]
  },
  {
   "cell_type": "code",
   "execution_count": 23,
   "metadata": {
    "execution": {
     "iopub.execute_input": "2020-10-01T06:32:25.723783Z",
     "iopub.status.busy": "2020-10-01T06:32:25.722399Z",
     "iopub.status.idle": "2020-10-01T06:32:25.724538Z",
     "shell.execute_reply": "2020-10-01T06:32:25.725115Z"
    },
    "papermill": {
     "duration": 0.071873,
     "end_time": "2020-10-01T06:32:25.725263",
     "exception": false,
     "start_time": "2020-10-01T06:32:25.653390",
     "status": "completed"
    },
    "tags": []
   },
   "outputs": [],
   "source": [
    "#from tensorflow.keras.utils import plot_model\n",
    "#plot_model(custom_densenet169_model, 'model_resnet50.png', show_shapes=True)"
   ]
  },
  {
   "cell_type": "code",
   "execution_count": 24,
   "metadata": {
    "execution": {
     "iopub.execute_input": "2020-10-01T06:32:25.937823Z",
     "iopub.status.busy": "2020-10-01T06:32:25.927579Z",
     "iopub.status.idle": "2020-10-01T06:32:25.975513Z",
     "shell.execute_reply": "2020-10-01T06:32:25.976460Z"
    },
    "papermill": {
     "duration": 0.160382,
     "end_time": "2020-10-01T06:32:25.976700",
     "exception": false,
     "start_time": "2020-10-01T06:32:25.816318",
     "status": "completed"
    },
    "tags": []
   },
   "outputs": [],
   "source": [
    "opt = tf.keras.optimizers.Adam(lr=0.0009)#tf.keras.optimizers.RMSprop(lr=0.3, decay=1e-6) \n",
    "#tf.keras.optimizers.Adam(lr=0.001)#RMSprop(lr=0.0001, decay=1e-6)\n",
    "\n",
    "# Let's train the model using RMSprop\n",
    "custom_densenet169_model.compile(loss=tf.keras.losses.BinaryCrossentropy(reduction=tf.keras.losses.Reduction.SUM),#'categorical_crossentropy',\n",
    "              optimizer=opt,\n",
    "               metrics=['categorical_accuracy'])"
   ]
  },
  {
   "cell_type": "code",
   "execution_count": 25,
   "metadata": {
    "execution": {
     "iopub.execute_input": "2020-10-01T06:32:26.163813Z",
     "iopub.status.busy": "2020-10-01T06:32:26.160468Z",
     "iopub.status.idle": "2020-10-01T06:32:26.164897Z",
     "shell.execute_reply": "2020-10-01T06:32:26.165715Z"
    },
    "papermill": {
     "duration": 0.10045,
     "end_time": "2020-10-01T06:32:26.165916",
     "exception": false,
     "start_time": "2020-10-01T06:32:26.065466",
     "status": "completed"
    },
    "tags": []
   },
   "outputs": [],
   "source": [
    "#Fitting keras model, no test gen for now\n",
    "STEP_SIZE_TRAIN=train_generator.n//train_generator.batch_size\n",
    "STEP_SIZE_VALID=valid_generator.n//valid_generator.batch_size\n",
    "#STEP_SIZE_TEST=test_generator.n//test_generator.batch_size"
   ]
  },
  {
   "cell_type": "code",
   "execution_count": 26,
   "metadata": {
    "execution": {
     "iopub.execute_input": "2020-10-01T06:32:26.368818Z",
     "iopub.status.busy": "2020-10-01T06:32:26.367368Z",
     "iopub.status.idle": "2020-10-01T06:32:26.372434Z",
     "shell.execute_reply": "2020-10-01T06:32:26.371821Z"
    },
    "papermill": {
     "duration": 0.098185,
     "end_time": "2020-10-01T06:32:26.372546",
     "exception": false,
     "start_time": "2020-10-01T06:32:26.274361",
     "status": "completed"
    },
    "tags": []
   },
   "outputs": [
    {
     "data": {
      "text/plain": [
       "97"
      ]
     },
     "execution_count": 26,
     "metadata": {},
     "output_type": "execute_result"
    }
   ],
   "source": [
    "STEP_SIZE_TRAIN"
   ]
  },
  {
   "cell_type": "code",
   "execution_count": 27,
   "metadata": {
    "execution": {
     "iopub.execute_input": "2020-10-01T06:32:26.518660Z",
     "iopub.status.busy": "2020-10-01T06:32:26.516336Z",
     "iopub.status.idle": "2020-10-01T06:32:26.519558Z",
     "shell.execute_reply": "2020-10-01T06:32:26.520126Z"
    },
    "papermill": {
     "duration": 0.081116,
     "end_time": "2020-10-01T06:32:26.520272",
     "exception": false,
     "start_time": "2020-10-01T06:32:26.439156",
     "status": "completed"
    },
    "tags": []
   },
   "outputs": [],
   "source": [
    "# simple early stopping\n",
    "#earlyStop = EarlyStopping(monitor='val_loss', mode='min', verbose=1, patience=100,)\n",
    "#https://machinelearningmastery.com/check-point-deep-learning-models-keras/\n",
    "\n",
    "\n",
    "csv_logger = CSVLogger(filename='../working/training_log.csv',\n",
    "                       separator=',',\n",
    "                       append=True)\n",
    "#https://www.tensorflow.org/api_docs/python/tf/keras/callbacks/ReduceLROnPlateau\n",
    "reduceLROnPlat = ReduceLROnPlateau(monitor='val_categorical_accuracy', factor=0.6,\n",
    "                              patience=6, min_lr=0,verbose=1)\n",
    "\n",
    "\n",
    "model_checkpoint = ModelCheckpoint(\"CuratedTotal.best_weights_128.hdf5\", monitor='val_categorical_accuracy', mode='max', verbose=1, save_best_only=True)\n",
    "\n",
    "# fit model\n",
    "\n",
    "es = tf.keras.callbacks.EarlyStopping(monitor='val_categorical_accuracy', mode='max', verbose=1, patience=30, min_delta=0.001 )\n",
    "\n",
    "callbacks_list = [model_checkpoint, csv_logger, reduceLROnPlat,es]"
   ]
  },
  {
   "cell_type": "code",
   "execution_count": 28,
   "metadata": {
    "execution": {
     "iopub.execute_input": "2020-10-01T06:32:26.663577Z",
     "iopub.status.busy": "2020-10-01T06:32:26.662039Z",
     "iopub.status.idle": "2020-10-01T06:32:26.664372Z",
     "shell.execute_reply": "2020-10-01T06:32:26.664925Z"
    },
    "papermill": {
     "duration": 0.078379,
     "end_time": "2020-10-01T06:32:26.665219",
     "exception": false,
     "start_time": "2020-10-01T06:32:26.586840",
     "status": "completed"
    },
    "tags": []
   },
   "outputs": [],
   "source": [
    "\n",
    "#custom_densenet169_model.load_weights(\"../input/sc2weights/total.best_weights.hdf5\")\n",
    "#custom_densenet169_model.load_weights(\"../input/sc2weights/total.best_weights_iter2.hdf5\")"
   ]
  },
  {
   "cell_type": "code",
   "execution_count": 29,
   "metadata": {
    "execution": {
     "iopub.execute_input": "2020-10-01T06:32:26.809872Z",
     "iopub.status.busy": "2020-10-01T06:32:26.809157Z",
     "iopub.status.idle": "2020-10-01T07:44:35.397439Z",
     "shell.execute_reply": "2020-10-01T07:44:35.396767Z"
    },
    "papermill": {
     "duration": 4328.666315,
     "end_time": "2020-10-01T07:44:35.397574",
     "exception": false,
     "start_time": "2020-10-01T06:32:26.731259",
     "status": "completed"
    },
    "tags": []
   },
   "outputs": [
    {
     "name": "stdout",
     "output_type": "stream",
     "text": [
      "Epoch 1/300\n",
      "97/97 [==============================] - ETA: 0s - loss: 6.0520 - categorical_accuracy: 0.3108\n",
      "Epoch 00001: val_categorical_accuracy improved from -inf to 0.33919, saving model to CuratedTotal.best_weights_128.hdf5\n",
      "97/97 [==============================] - 69s 710ms/step - loss: 6.0520 - categorical_accuracy: 0.3108 - val_loss: 7.0675 - val_categorical_accuracy: 0.3392\n",
      "Epoch 2/300\n",
      "97/97 [==============================] - ETA: 0s - loss: 2.2920 - categorical_accuracy: 0.5610\n",
      "Epoch 00002: val_categorical_accuracy improved from 0.33919 to 0.49805, saving model to CuratedTotal.best_weights_128.hdf5\n",
      "97/97 [==============================] - 55s 567ms/step - loss: 2.2920 - categorical_accuracy: 0.5610 - val_loss: 3.0272 - val_categorical_accuracy: 0.4980\n",
      "Epoch 3/300\n",
      "97/97 [==============================] - ETA: 0s - loss: 1.4403 - categorical_accuracy: 0.7079\n",
      "Epoch 00003: val_categorical_accuracy did not improve from 0.49805\n",
      "97/97 [==============================] - 53s 548ms/step - loss: 1.4403 - categorical_accuracy: 0.7079 - val_loss: 2.8687 - val_categorical_accuracy: 0.4746\n",
      "Epoch 4/300\n",
      "97/97 [==============================] - ETA: 0s - loss: 0.9930 - categorical_accuracy: 0.7849\n",
      "Epoch 00004: val_categorical_accuracy improved from 0.49805 to 0.53646, saving model to CuratedTotal.best_weights_128.hdf5\n",
      "97/97 [==============================] - 55s 565ms/step - loss: 0.9930 - categorical_accuracy: 0.7849 - val_loss: 2.5567 - val_categorical_accuracy: 0.5365\n",
      "Epoch 5/300\n",
      "97/97 [==============================] - ETA: 0s - loss: 0.6832 - categorical_accuracy: 0.8414\n",
      "Epoch 00005: val_categorical_accuracy improved from 0.53646 to 0.57617, saving model to CuratedTotal.best_weights_128.hdf5\n",
      "97/97 [==============================] - 55s 564ms/step - loss: 0.6832 - categorical_accuracy: 0.8414 - val_loss: 2.4630 - val_categorical_accuracy: 0.5762\n",
      "Epoch 6/300\n",
      "97/97 [==============================] - ETA: 0s - loss: 0.5043 - categorical_accuracy: 0.8694\n",
      "Epoch 00006: val_categorical_accuracy did not improve from 0.57617\n",
      "97/97 [==============================] - 52s 538ms/step - loss: 0.5043 - categorical_accuracy: 0.8694 - val_loss: 2.6407 - val_categorical_accuracy: 0.5605\n",
      "Epoch 7/300\n",
      "97/97 [==============================] - ETA: 0s - loss: 0.3750 - categorical_accuracy: 0.8864\n",
      "Epoch 00007: val_categorical_accuracy improved from 0.57617 to 0.58919, saving model to CuratedTotal.best_weights_128.hdf5\n",
      "97/97 [==============================] - 55s 568ms/step - loss: 0.3750 - categorical_accuracy: 0.8864 - val_loss: 2.5261 - val_categorical_accuracy: 0.5892\n",
      "Epoch 8/300\n",
      "97/97 [==============================] - ETA: 0s - loss: 0.3063 - categorical_accuracy: 0.8967\n",
      "Epoch 00008: val_categorical_accuracy did not improve from 0.58919\n",
      "97/97 [==============================] - 53s 550ms/step - loss: 0.3063 - categorical_accuracy: 0.8967 - val_loss: 2.9971 - val_categorical_accuracy: 0.5586\n",
      "Epoch 9/300\n",
      "97/97 [==============================] - ETA: 0s - loss: 0.2803 - categorical_accuracy: 0.9051\n",
      "Epoch 00009: val_categorical_accuracy improved from 0.58919 to 0.58984, saving model to CuratedTotal.best_weights_128.hdf5\n",
      "97/97 [==============================] - 56s 575ms/step - loss: 0.2803 - categorical_accuracy: 0.9051 - val_loss: 2.7769 - val_categorical_accuracy: 0.5898\n",
      "Epoch 10/300\n",
      "97/97 [==============================] - ETA: 0s - loss: 0.2767 - categorical_accuracy: 0.9085\n",
      "Epoch 00010: val_categorical_accuracy did not improve from 0.58984\n",
      "97/97 [==============================] - 53s 549ms/step - loss: 0.2767 - categorical_accuracy: 0.9085 - val_loss: 2.7754 - val_categorical_accuracy: 0.5879\n",
      "Epoch 11/300\n",
      "97/97 [==============================] - ETA: 0s - loss: 0.2033 - categorical_accuracy: 0.9084\n",
      "Epoch 00011: val_categorical_accuracy improved from 0.58984 to 0.59896, saving model to CuratedTotal.best_weights_128.hdf5\n",
      "97/97 [==============================] - 56s 574ms/step - loss: 0.2033 - categorical_accuracy: 0.9084 - val_loss: 2.7398 - val_categorical_accuracy: 0.5990\n",
      "Epoch 12/300\n",
      "97/97 [==============================] - ETA: 0s - loss: 0.1886 - categorical_accuracy: 0.9174\n",
      "Epoch 00012: val_categorical_accuracy improved from 0.59896 to 0.61003, saving model to CuratedTotal.best_weights_128.hdf5\n",
      "97/97 [==============================] - 56s 577ms/step - loss: 0.1886 - categorical_accuracy: 0.9174 - val_loss: 2.8964 - val_categorical_accuracy: 0.6100\n",
      "Epoch 13/300\n",
      "97/97 [==============================] - ETA: 0s - loss: 0.1856 - categorical_accuracy: 0.9185\n",
      "Epoch 00013: val_categorical_accuracy improved from 0.61003 to 0.61068, saving model to CuratedTotal.best_weights_128.hdf5\n",
      "97/97 [==============================] - 56s 578ms/step - loss: 0.1856 - categorical_accuracy: 0.9185 - val_loss: 2.8731 - val_categorical_accuracy: 0.6107\n",
      "Epoch 14/300\n",
      "97/97 [==============================] - ETA: 0s - loss: 0.1739 - categorical_accuracy: 0.9232\n",
      "Epoch 00014: val_categorical_accuracy improved from 0.61068 to 0.62305, saving model to CuratedTotal.best_weights_128.hdf5\n",
      "97/97 [==============================] - 56s 575ms/step - loss: 0.1739 - categorical_accuracy: 0.9232 - val_loss: 2.6994 - val_categorical_accuracy: 0.6230\n",
      "Epoch 15/300\n",
      "97/97 [==============================] - ETA: 0s - loss: 0.1661 - categorical_accuracy: 0.9160\n",
      "Epoch 00015: val_categorical_accuracy improved from 0.62305 to 0.62826, saving model to CuratedTotal.best_weights_128.hdf5\n",
      "97/97 [==============================] - 56s 575ms/step - loss: 0.1661 - categorical_accuracy: 0.9160 - val_loss: 2.8391 - val_categorical_accuracy: 0.6283\n",
      "Epoch 16/300\n",
      "97/97 [==============================] - ETA: 0s - loss: 0.1801 - categorical_accuracy: 0.9126\n",
      "Epoch 00016: val_categorical_accuracy did not improve from 0.62826\n",
      "97/97 [==============================] - 53s 550ms/step - loss: 0.1801 - categorical_accuracy: 0.9126 - val_loss: 2.9419 - val_categorical_accuracy: 0.6250\n",
      "Epoch 17/300\n",
      "97/97 [==============================] - ETA: 0s - loss: 0.1668 - categorical_accuracy: 0.9182\n",
      "Epoch 00017: val_categorical_accuracy did not improve from 0.62826\n",
      "97/97 [==============================] - 53s 542ms/step - loss: 0.1668 - categorical_accuracy: 0.9182 - val_loss: 2.8323 - val_categorical_accuracy: 0.6185\n",
      "Epoch 18/300\n",
      "97/97 [==============================] - ETA: 0s - loss: 0.1877 - categorical_accuracy: 0.9119\n",
      "Epoch 00018: val_categorical_accuracy did not improve from 0.62826\n",
      "97/97 [==============================] - 53s 548ms/step - loss: 0.1877 - categorical_accuracy: 0.9119 - val_loss: 3.1885 - val_categorical_accuracy: 0.6087\n",
      "Epoch 19/300\n",
      "97/97 [==============================] - ETA: 0s - loss: 0.1800 - categorical_accuracy: 0.9151\n",
      "Epoch 00019: val_categorical_accuracy did not improve from 0.62826\n",
      "97/97 [==============================] - 53s 551ms/step - loss: 0.1800 - categorical_accuracy: 0.9151 - val_loss: 3.1541 - val_categorical_accuracy: 0.6048\n",
      "Epoch 20/300\n",
      "97/97 [==============================] - ETA: 0s - loss: 0.1972 - categorical_accuracy: 0.9127\n",
      "Epoch 00020: val_categorical_accuracy did not improve from 0.62826\n",
      "97/97 [==============================] - 54s 557ms/step - loss: 0.1972 - categorical_accuracy: 0.9127 - val_loss: 3.2397 - val_categorical_accuracy: 0.6061\n",
      "Epoch 21/300\n",
      "97/97 [==============================] - ETA: 0s - loss: 0.1955 - categorical_accuracy: 0.9129\n",
      "Epoch 00021: val_categorical_accuracy improved from 0.62826 to 0.62891, saving model to CuratedTotal.best_weights_128.hdf5\n",
      "97/97 [==============================] - 56s 574ms/step - loss: 0.1955 - categorical_accuracy: 0.9129 - val_loss: 3.0741 - val_categorical_accuracy: 0.6289\n",
      "Epoch 22/300\n",
      "97/97 [==============================] - ETA: 0s - loss: 0.1753 - categorical_accuracy: 0.9189\n",
      "Epoch 00022: val_categorical_accuracy did not improve from 0.62891\n",
      "97/97 [==============================] - 53s 547ms/step - loss: 0.1753 - categorical_accuracy: 0.9189 - val_loss: 3.0078 - val_categorical_accuracy: 0.6100\n",
      "Epoch 23/300\n",
      "97/97 [==============================] - ETA: 0s - loss: 0.1717 - categorical_accuracy: 0.9177\n",
      "Epoch 00023: val_categorical_accuracy did not improve from 0.62891\n",
      "97/97 [==============================] - 54s 553ms/step - loss: 0.1717 - categorical_accuracy: 0.9177 - val_loss: 3.0722 - val_categorical_accuracy: 0.6178\n",
      "Epoch 24/300\n",
      "97/97 [==============================] - ETA: 0s - loss: 0.1574 - categorical_accuracy: 0.9250\n",
      "Epoch 00024: val_categorical_accuracy did not improve from 0.62891\n",
      "97/97 [==============================] - 54s 556ms/step - loss: 0.1574 - categorical_accuracy: 0.9250 - val_loss: 3.7106 - val_categorical_accuracy: 0.5677\n",
      "Epoch 25/300\n",
      "97/97 [==============================] - ETA: 0s - loss: 0.1466 - categorical_accuracy: 0.9150\n",
      "Epoch 00025: val_categorical_accuracy did not improve from 0.62891\n",
      "97/97 [==============================] - 53s 546ms/step - loss: 0.1466 - categorical_accuracy: 0.9150 - val_loss: 3.5012 - val_categorical_accuracy: 0.5820\n",
      "Epoch 26/300\n",
      "97/97 [==============================] - ETA: 0s - loss: 0.1763 - categorical_accuracy: 0.9082\n",
      "Epoch 00026: val_categorical_accuracy did not improve from 0.62891\n",
      "97/97 [==============================] - 54s 557ms/step - loss: 0.1763 - categorical_accuracy: 0.9082 - val_loss: 3.4011 - val_categorical_accuracy: 0.5990\n",
      "Epoch 27/300\n",
      "97/97 [==============================] - ETA: 0s - loss: 0.1464 - categorical_accuracy: 0.9245\n",
      "Epoch 00027: val_categorical_accuracy did not improve from 0.62891\n",
      "\n",
      "Epoch 00027: ReduceLROnPlateau reducing learning rate to 0.0005399999907240271.\n",
      "97/97 [==============================] - 54s 560ms/step - loss: 0.1464 - categorical_accuracy: 0.9245 - val_loss: 3.2582 - val_categorical_accuracy: 0.6257\n",
      "Epoch 28/300\n",
      "97/97 [==============================] - ETA: 0s - loss: 0.0857 - categorical_accuracy: 0.9329\n",
      "Epoch 00028: val_categorical_accuracy improved from 0.62891 to 0.67122, saving model to CuratedTotal.best_weights_128.hdf5\n",
      "97/97 [==============================] - 56s 574ms/step - loss: 0.0857 - categorical_accuracy: 0.9329 - val_loss: 2.6931 - val_categorical_accuracy: 0.6712\n",
      "Epoch 29/300\n",
      "97/97 [==============================] - ETA: 0s - loss: 0.0423 - categorical_accuracy: 0.9313\n",
      "Epoch 00029: val_categorical_accuracy improved from 0.67122 to 0.68490, saving model to CuratedTotal.best_weights_128.hdf5\n",
      "97/97 [==============================] - 54s 561ms/step - loss: 0.0423 - categorical_accuracy: 0.9313 - val_loss: 2.5668 - val_categorical_accuracy: 0.6849\n",
      "Epoch 30/300\n",
      "97/97 [==============================] - ETA: 0s - loss: 0.0266 - categorical_accuracy: 0.9337\n",
      "Epoch 00030: val_categorical_accuracy improved from 0.68490 to 0.71615, saving model to CuratedTotal.best_weights_128.hdf5\n",
      "97/97 [==============================] - 56s 580ms/step - loss: 0.0266 - categorical_accuracy: 0.9337 - val_loss: 2.2825 - val_categorical_accuracy: 0.7161\n",
      "Epoch 31/300\n",
      "97/97 [==============================] - ETA: 0s - loss: 0.0172 - categorical_accuracy: 0.9341\n",
      "Epoch 00031: val_categorical_accuracy did not improve from 0.71615\n",
      "97/97 [==============================] - 55s 567ms/step - loss: 0.0172 - categorical_accuracy: 0.9341 - val_loss: 2.3574 - val_categorical_accuracy: 0.7051\n",
      "Epoch 32/300\n",
      "97/97 [==============================] - ETA: 0s - loss: 0.0111 - categorical_accuracy: 0.9358\n",
      "Epoch 00032: val_categorical_accuracy improved from 0.71615 to 0.72201, saving model to CuratedTotal.best_weights_128.hdf5\n",
      "97/97 [==============================] - 55s 571ms/step - loss: 0.0111 - categorical_accuracy: 0.9358 - val_loss: 2.2737 - val_categorical_accuracy: 0.7220\n",
      "Epoch 33/300\n",
      "97/97 [==============================] - ETA: 0s - loss: 0.0123 - categorical_accuracy: 0.9321\n",
      "Epoch 00033: val_categorical_accuracy did not improve from 0.72201\n",
      "97/97 [==============================] - 54s 562ms/step - loss: 0.0123 - categorical_accuracy: 0.9321 - val_loss: 2.3252 - val_categorical_accuracy: 0.7129\n",
      "Epoch 34/300\n",
      "97/97 [==============================] - ETA: 0s - loss: 0.0113 - categorical_accuracy: 0.9300\n",
      "Epoch 00034: val_categorical_accuracy did not improve from 0.72201\n",
      "97/97 [==============================] - 54s 561ms/step - loss: 0.0113 - categorical_accuracy: 0.9300 - val_loss: 2.3973 - val_categorical_accuracy: 0.7116\n",
      "Epoch 35/300\n",
      "97/97 [==============================] - ETA: 0s - loss: 0.0094 - categorical_accuracy: 0.9316\n",
      "Epoch 00035: val_categorical_accuracy did not improve from 0.72201\n",
      "97/97 [==============================] - 54s 552ms/step - loss: 0.0094 - categorical_accuracy: 0.9316 - val_loss: 2.3713 - val_categorical_accuracy: 0.7096\n",
      "Epoch 36/300\n",
      "97/97 [==============================] - ETA: 0s - loss: 0.0126 - categorical_accuracy: 0.9350\n",
      "Epoch 00036: val_categorical_accuracy did not improve from 0.72201\n",
      "97/97 [==============================] - 55s 564ms/step - loss: 0.0126 - categorical_accuracy: 0.9350 - val_loss: 2.4178 - val_categorical_accuracy: 0.7064\n",
      "Epoch 37/300\n",
      "97/97 [==============================] - ETA: 0s - loss: 0.0121 - categorical_accuracy: 0.9334\n",
      "Epoch 00037: val_categorical_accuracy did not improve from 0.72201\n",
      "97/97 [==============================] - 55s 565ms/step - loss: 0.0121 - categorical_accuracy: 0.9334 - val_loss: 2.4619 - val_categorical_accuracy: 0.7116\n",
      "Epoch 38/300\n",
      "97/97 [==============================] - ETA: 0s - loss: 0.0153 - categorical_accuracy: 0.9341\n",
      "Epoch 00038: val_categorical_accuracy did not improve from 0.72201\n",
      "\n",
      "Epoch 00038: ReduceLROnPlateau reducing learning rate to 0.00032399998744949695.\n",
      "97/97 [==============================] - 53s 549ms/step - loss: 0.0153 - categorical_accuracy: 0.9341 - val_loss: 2.8235 - val_categorical_accuracy: 0.6719\n",
      "Epoch 39/300\n",
      "97/97 [==============================] - ETA: 0s - loss: 0.0137 - categorical_accuracy: 0.9326\n",
      "Epoch 00039: val_categorical_accuracy did not improve from 0.72201\n",
      "97/97 [==============================] - 55s 569ms/step - loss: 0.0137 - categorical_accuracy: 0.9326 - val_loss: 2.4266 - val_categorical_accuracy: 0.7168\n",
      "Epoch 40/300\n",
      "97/97 [==============================] - ETA: 0s - loss: 0.0063 - categorical_accuracy: 0.9320\n",
      "Epoch 00040: val_categorical_accuracy improved from 0.72201 to 0.72526, saving model to CuratedTotal.best_weights_128.hdf5\n",
      "97/97 [==============================] - 58s 602ms/step - loss: 0.0063 - categorical_accuracy: 0.9320 - val_loss: 2.3823 - val_categorical_accuracy: 0.7253\n",
      "Epoch 41/300\n",
      "97/97 [==============================] - ETA: 0s - loss: 0.0058 - categorical_accuracy: 0.9363\n",
      "Epoch 00041: val_categorical_accuracy improved from 0.72526 to 0.73242, saving model to CuratedTotal.best_weights_128.hdf5\n",
      "97/97 [==============================] - 55s 572ms/step - loss: 0.0058 - categorical_accuracy: 0.9363 - val_loss: 2.3443 - val_categorical_accuracy: 0.7324\n",
      "Epoch 42/300\n",
      "97/97 [==============================] - ETA: 0s - loss: 0.0052 - categorical_accuracy: 0.9381\n",
      "Epoch 00042: val_categorical_accuracy did not improve from 0.73242\n",
      "97/97 [==============================] - 54s 559ms/step - loss: 0.0052 - categorical_accuracy: 0.9381 - val_loss: 2.4141 - val_categorical_accuracy: 0.7266\n",
      "Epoch 43/300\n",
      "97/97 [==============================] - ETA: 0s - loss: 0.0050 - categorical_accuracy: 0.9368\n",
      "Epoch 00043: val_categorical_accuracy did not improve from 0.73242\n",
      "97/97 [==============================] - 55s 565ms/step - loss: 0.0050 - categorical_accuracy: 0.9368 - val_loss: 2.4101 - val_categorical_accuracy: 0.7220\n",
      "Epoch 44/300\n",
      "97/97 [==============================] - ETA: 0s - loss: 0.0039 - categorical_accuracy: 0.9353\n",
      "Epoch 00044: val_categorical_accuracy did not improve from 0.73242\n",
      "97/97 [==============================] - 54s 560ms/step - loss: 0.0039 - categorical_accuracy: 0.9353 - val_loss: 2.3874 - val_categorical_accuracy: 0.7272\n",
      "Epoch 45/300\n",
      "97/97 [==============================] - ETA: 0s - loss: 0.0049 - categorical_accuracy: 0.9396\n",
      "Epoch 00045: val_categorical_accuracy did not improve from 0.73242\n",
      "97/97 [==============================] - 55s 566ms/step - loss: 0.0049 - categorical_accuracy: 0.9396 - val_loss: 2.3683 - val_categorical_accuracy: 0.7266\n",
      "Epoch 46/300\n",
      "97/97 [==============================] - ETA: 0s - loss: 0.0043 - categorical_accuracy: 0.9365\n",
      "Epoch 00046: val_categorical_accuracy did not improve from 0.73242\n",
      "97/97 [==============================] - 55s 570ms/step - loss: 0.0043 - categorical_accuracy: 0.9365 - val_loss: 2.4023 - val_categorical_accuracy: 0.7272\n",
      "Epoch 47/300\n",
      "97/97 [==============================] - ETA: 0s - loss: 0.0043 - categorical_accuracy: 0.9362\n",
      "Epoch 00047: val_categorical_accuracy improved from 0.73242 to 0.73438, saving model to CuratedTotal.best_weights_128.hdf5\n",
      "97/97 [==============================] - 56s 581ms/step - loss: 0.0043 - categorical_accuracy: 0.9362 - val_loss: 2.4071 - val_categorical_accuracy: 0.7344\n",
      "Epoch 48/300\n",
      "97/97 [==============================] - ETA: 0s - loss: 0.0047 - categorical_accuracy: 0.9350\n",
      "Epoch 00048: val_categorical_accuracy did not improve from 0.73438\n",
      "97/97 [==============================] - 55s 569ms/step - loss: 0.0047 - categorical_accuracy: 0.9350 - val_loss: 2.4884 - val_categorical_accuracy: 0.7259\n",
      "Epoch 49/300\n",
      "97/97 [==============================] - ETA: 0s - loss: 0.0047 - categorical_accuracy: 0.9381\n",
      "Epoch 00049: val_categorical_accuracy improved from 0.73438 to 0.73503, saving model to CuratedTotal.best_weights_128.hdf5\n",
      "97/97 [==============================] - 58s 602ms/step - loss: 0.0047 - categorical_accuracy: 0.9381 - val_loss: 2.3845 - val_categorical_accuracy: 0.7350\n",
      "Epoch 50/300\n",
      "97/97 [==============================] - ETA: 0s - loss: 0.0034 - categorical_accuracy: 0.9366\n",
      "Epoch 00050: val_categorical_accuracy did not improve from 0.73503\n",
      "97/97 [==============================] - 54s 559ms/step - loss: 0.0034 - categorical_accuracy: 0.9366 - val_loss: 2.4388 - val_categorical_accuracy: 0.7266\n",
      "Epoch 51/300\n",
      "97/97 [==============================] - ETA: 0s - loss: 0.0047 - categorical_accuracy: 0.9332\n",
      "Epoch 00051: val_categorical_accuracy did not improve from 0.73503\n",
      "97/97 [==============================] - 55s 566ms/step - loss: 0.0047 - categorical_accuracy: 0.9332 - val_loss: 2.4603 - val_categorical_accuracy: 0.7253\n",
      "Epoch 52/300\n",
      "97/97 [==============================] - ETA: 0s - loss: 0.0041 - categorical_accuracy: 0.9379\n",
      "Epoch 00052: val_categorical_accuracy did not improve from 0.73503\n",
      "97/97 [==============================] - 56s 573ms/step - loss: 0.0041 - categorical_accuracy: 0.9379 - val_loss: 2.4807 - val_categorical_accuracy: 0.7246\n",
      "Epoch 53/300\n",
      "97/97 [==============================] - ETA: 0s - loss: 0.0029 - categorical_accuracy: 0.9345\n",
      "Epoch 00053: val_categorical_accuracy did not improve from 0.73503\n",
      "97/97 [==============================] - 54s 557ms/step - loss: 0.0029 - categorical_accuracy: 0.9345 - val_loss: 2.4327 - val_categorical_accuracy: 0.7233\n",
      "Epoch 54/300\n",
      "97/97 [==============================] - ETA: 0s - loss: 0.0028 - categorical_accuracy: 0.9331\n",
      "Epoch 00054: val_categorical_accuracy did not improve from 0.73503\n",
      "97/97 [==============================] - 55s 572ms/step - loss: 0.0028 - categorical_accuracy: 0.9331 - val_loss: 2.4319 - val_categorical_accuracy: 0.7227\n",
      "Epoch 55/300\n",
      "97/97 [==============================] - ETA: 0s - loss: 0.0037 - categorical_accuracy: 0.9326\n",
      "Epoch 00055: val_categorical_accuracy did not improve from 0.73503\n",
      "\n",
      "Epoch 00055: ReduceLROnPlateau reducing learning rate to 0.00019439999596215785.\n",
      "97/97 [==============================] - 56s 576ms/step - loss: 0.0037 - categorical_accuracy: 0.9326 - val_loss: 2.6382 - val_categorical_accuracy: 0.7051\n",
      "Epoch 56/300\n",
      "97/97 [==============================] - ETA: 0s - loss: 0.0036 - categorical_accuracy: 0.9365\n",
      "Epoch 00056: val_categorical_accuracy did not improve from 0.73503\n",
      "97/97 [==============================] - 53s 550ms/step - loss: 0.0036 - categorical_accuracy: 0.9365 - val_loss: 2.5315 - val_categorical_accuracy: 0.7214\n",
      "Epoch 57/300\n",
      "97/97 [==============================] - ETA: 0s - loss: 0.0046 - categorical_accuracy: 0.9355\n",
      "Epoch 00057: val_categorical_accuracy did not improve from 0.73503\n",
      "97/97 [==============================] - 55s 571ms/step - loss: 0.0046 - categorical_accuracy: 0.9355 - val_loss: 2.4817 - val_categorical_accuracy: 0.7227\n",
      "Epoch 58/300\n",
      "97/97 [==============================] - ETA: 0s - loss: 0.0026 - categorical_accuracy: 0.9366\n",
      "Epoch 00058: val_categorical_accuracy did not improve from 0.73503\n",
      "97/97 [==============================] - 54s 557ms/step - loss: 0.0026 - categorical_accuracy: 0.9366 - val_loss: 2.4762 - val_categorical_accuracy: 0.7253\n",
      "Epoch 59/300\n",
      "97/97 [==============================] - ETA: 0s - loss: 0.0023 - categorical_accuracy: 0.9383\n",
      "Epoch 00059: val_categorical_accuracy did not improve from 0.73503\n",
      "97/97 [==============================] - 56s 575ms/step - loss: 0.0023 - categorical_accuracy: 0.9383 - val_loss: 2.4402 - val_categorical_accuracy: 0.7337\n",
      "Epoch 60/300\n",
      "97/97 [==============================] - ETA: 0s - loss: 0.0040 - categorical_accuracy: 0.9365\n",
      "Epoch 00060: val_categorical_accuracy did not improve from 0.73503\n",
      "97/97 [==============================] - 56s 576ms/step - loss: 0.0040 - categorical_accuracy: 0.9365 - val_loss: 2.5464 - val_categorical_accuracy: 0.7188\n",
      "Epoch 61/300\n",
      "97/97 [==============================] - ETA: 0s - loss: 0.0043 - categorical_accuracy: 0.9363\n",
      "Epoch 00061: val_categorical_accuracy did not improve from 0.73503\n",
      "\n",
      "Epoch 00061: ReduceLROnPlateau reducing learning rate to 0.0001166399975772947.\n",
      "97/97 [==============================] - 55s 566ms/step - loss: 0.0043 - categorical_accuracy: 0.9363 - val_loss: 2.6011 - val_categorical_accuracy: 0.7188\n",
      "Epoch 62/300\n",
      "97/97 [==============================] - ETA: 0s - loss: 0.0032 - categorical_accuracy: 0.9363\n",
      "Epoch 00062: val_categorical_accuracy did not improve from 0.73503\n",
      "97/97 [==============================] - 57s 585ms/step - loss: 0.0032 - categorical_accuracy: 0.9363 - val_loss: 2.4531 - val_categorical_accuracy: 0.7298\n",
      "Epoch 63/300\n",
      "97/97 [==============================] - ETA: 0s - loss: 0.0018 - categorical_accuracy: 0.9378\n",
      "Epoch 00063: val_categorical_accuracy did not improve from 0.73503\n",
      "97/97 [==============================] - 55s 568ms/step - loss: 0.0018 - categorical_accuracy: 0.9378 - val_loss: 2.4797 - val_categorical_accuracy: 0.7324\n",
      "Epoch 64/300\n",
      "97/97 [==============================] - ETA: 0s - loss: 0.0022 - categorical_accuracy: 0.9355\n",
      "Epoch 00064: val_categorical_accuracy did not improve from 0.73503\n",
      "97/97 [==============================] - 56s 579ms/step - loss: 0.0022 - categorical_accuracy: 0.9355 - val_loss: 2.4862 - val_categorical_accuracy: 0.7240\n",
      "Epoch 65/300\n",
      "97/97 [==============================] - ETA: 0s - loss: 0.0015 - categorical_accuracy: 0.9365\n",
      "Epoch 00065: val_categorical_accuracy did not improve from 0.73503\n",
      "97/97 [==============================] - 56s 580ms/step - loss: 0.0015 - categorical_accuracy: 0.9365 - val_loss: 2.5080 - val_categorical_accuracy: 0.7279\n",
      "Epoch 66/300\n",
      "97/97 [==============================] - ETA: 0s - loss: 0.0014 - categorical_accuracy: 0.9363\n",
      "Epoch 00066: val_categorical_accuracy did not improve from 0.73503\n",
      "97/97 [==============================] - 55s 569ms/step - loss: 0.0014 - categorical_accuracy: 0.9363 - val_loss: 2.4857 - val_categorical_accuracy: 0.7246\n",
      "Epoch 67/300\n",
      "97/97 [==============================] - ETA: 0s - loss: 0.0017 - categorical_accuracy: 0.9353\n",
      "Epoch 00067: val_categorical_accuracy did not improve from 0.73503\n",
      "\n",
      "Epoch 00067: ReduceLROnPlateau reducing learning rate to 6.998399767326191e-05.\n",
      "97/97 [==============================] - 57s 587ms/step - loss: 0.0017 - categorical_accuracy: 0.9353 - val_loss: 2.4789 - val_categorical_accuracy: 0.7259\n",
      "Epoch 68/300\n",
      "97/97 [==============================] - ETA: 0s - loss: 0.0013 - categorical_accuracy: 0.9365\n",
      "Epoch 00068: val_categorical_accuracy did not improve from 0.73503\n",
      "97/97 [==============================] - 55s 567ms/step - loss: 0.0013 - categorical_accuracy: 0.9365 - val_loss: 2.4750 - val_categorical_accuracy: 0.7253\n",
      "Epoch 69/300\n",
      "97/97 [==============================] - ETA: 0s - loss: 0.0012 - categorical_accuracy: 0.9300\n",
      "Epoch 00069: val_categorical_accuracy did not improve from 0.73503\n",
      "97/97 [==============================] - 57s 585ms/step - loss: 0.0012 - categorical_accuracy: 0.9300 - val_loss: 2.4937 - val_categorical_accuracy: 0.7266\n",
      "Epoch 70/300\n",
      "97/97 [==============================] - ETA: 0s - loss: 0.0012 - categorical_accuracy: 0.9311\n",
      "Epoch 00070: val_categorical_accuracy did not improve from 0.73503\n",
      "97/97 [==============================] - 57s 584ms/step - loss: 0.0012 - categorical_accuracy: 0.9311 - val_loss: 2.4743 - val_categorical_accuracy: 0.7279\n",
      "Epoch 71/300\n",
      "97/97 [==============================] - ETA: 0s - loss: 0.0019 - categorical_accuracy: 0.9350\n",
      "Epoch 00071: val_categorical_accuracy did not improve from 0.73503\n",
      "97/97 [==============================] - 55s 565ms/step - loss: 0.0019 - categorical_accuracy: 0.9350 - val_loss: 2.5003 - val_categorical_accuracy: 0.7174\n",
      "Epoch 72/300\n",
      "97/97 [==============================] - ETA: 0s - loss: 0.0012 - categorical_accuracy: 0.9281\n",
      "Epoch 00072: val_categorical_accuracy did not improve from 0.73503\n",
      "97/97 [==============================] - 58s 594ms/step - loss: 0.0012 - categorical_accuracy: 0.9281 - val_loss: 2.4701 - val_categorical_accuracy: 0.7214\n",
      "Epoch 73/300\n",
      "97/97 [==============================] - ETA: 0s - loss: 9.9092e-04 - categorical_accuracy: 0.9331\n",
      "Epoch 00073: val_categorical_accuracy did not improve from 0.73503\n",
      "\n",
      "Epoch 00073: ReduceLROnPlateau reducing learning rate to 4.199039685772732e-05.\n",
      "97/97 [==============================] - 55s 563ms/step - loss: 9.9092e-04 - categorical_accuracy: 0.9331 - val_loss: 2.5205 - val_categorical_accuracy: 0.7194\n",
      "Epoch 74/300\n",
      "97/97 [==============================] - ETA: 0s - loss: 0.0015 - categorical_accuracy: 0.9308\n",
      "Epoch 00074: val_categorical_accuracy did not improve from 0.73503\n",
      "97/97 [==============================] - 56s 580ms/step - loss: 0.0015 - categorical_accuracy: 0.9308 - val_loss: 2.4952 - val_categorical_accuracy: 0.7220\n",
      "Epoch 75/300\n",
      "97/97 [==============================] - ETA: 0s - loss: 0.0012 - categorical_accuracy: 0.9328\n",
      "Epoch 00075: val_categorical_accuracy did not improve from 0.73503\n",
      "97/97 [==============================] - 57s 589ms/step - loss: 0.0012 - categorical_accuracy: 0.9328 - val_loss: 2.4969 - val_categorical_accuracy: 0.7240\n",
      "Epoch 76/300\n",
      "97/97 [==============================] - ETA: 0s - loss: 0.0016 - categorical_accuracy: 0.9326\n",
      "Epoch 00076: val_categorical_accuracy did not improve from 0.73503\n",
      "97/97 [==============================] - 55s 562ms/step - loss: 0.0016 - categorical_accuracy: 0.9326 - val_loss: 2.4618 - val_categorical_accuracy: 0.7246\n",
      "Epoch 77/300\n",
      "97/97 [==============================] - ETA: 0s - loss: 7.7489e-04 - categorical_accuracy: 0.9363\n",
      "Epoch 00077: val_categorical_accuracy did not improve from 0.73503\n",
      "97/97 [==============================] - 58s 593ms/step - loss: 7.7489e-04 - categorical_accuracy: 0.9363 - val_loss: 2.4696 - val_categorical_accuracy: 0.7285\n",
      "Epoch 00077: early stopping\n"
     ]
    }
   ],
   "source": [
    "history=custom_densenet169_model.fit_generator(generator=train_generator,\n",
    "                    steps_per_epoch=STEP_SIZE_TRAIN,\n",
    "                    validation_data=valid_generator,\n",
    "                    validation_steps=STEP_SIZE_VALID,\n",
    "                    epochs=300,\n",
    "                    callbacks=callbacks_list\n",
    ")"
   ]
  },
  {
   "cell_type": "code",
   "execution_count": 30,
   "metadata": {
    "execution": {
     "iopub.execute_input": "2020-10-01T07:44:42.182698Z",
     "iopub.status.busy": "2020-10-01T07:44:42.181682Z",
     "iopub.status.idle": "2020-10-01T07:44:42.199849Z",
     "shell.execute_reply": "2020-10-01T07:44:42.201007Z"
    },
    "papermill": {
     "duration": 3.634704,
     "end_time": "2020-10-01T07:44:42.201244",
     "exception": false,
     "start_time": "2020-10-01T07:44:38.566540",
     "status": "completed"
    },
    "tags": []
   },
   "outputs": [],
   "source": [
    "#history.history"
   ]
  },
  {
   "cell_type": "code",
   "execution_count": 31,
   "metadata": {
    "execution": {
     "iopub.execute_input": "2020-10-01T07:44:49.136913Z",
     "iopub.status.busy": "2020-10-01T07:44:49.135645Z",
     "iopub.status.idle": "2020-10-01T07:44:49.378154Z",
     "shell.execute_reply": "2020-10-01T07:44:49.378747Z"
    },
    "papermill": {
     "duration": 3.784095,
     "end_time": "2020-10-01T07:44:49.378905",
     "exception": false,
     "start_time": "2020-10-01T07:44:45.594810",
     "status": "completed"
    },
    "tags": []
   },
   "outputs": [
    {
     "data": {
      "image/png": "[encoded data removed]",
      "text/plain": [
       "<Figure size 432x288 with 1 Axes>"
      ]
     },
     "metadata": {
      "needs_background": "light"
     },
     "output_type": "display_data"
    }
   ],
   "source": [
    "import matplotlib.pyplot as plt\n",
    "\n",
    "\n",
    "loss_train = history.history['loss']\n",
    "loss_val = history.history['val_loss']\n",
    "#epochs = np.range(1,1)\n",
    "plt.plot(loss_train, 'g', label='Training loss')\n",
    "plt.plot(loss_val, 'b', label='validation loss')\n",
    "plt.title('Training and Validation loss')\n",
    "plt.xlabel('Epochs')\n",
    "plt.ylabel('Loss')\n",
    "plt.legend()\n",
    "plt.show()"
   ]
  },
  {
   "cell_type": "code",
   "execution_count": 32,
   "metadata": {
    "execution": {
     "iopub.execute_input": "2020-10-01T07:44:56.267803Z",
     "iopub.status.busy": "2020-10-01T07:44:56.266571Z",
     "iopub.status.idle": "2020-10-01T07:44:56.477063Z",
     "shell.execute_reply": "2020-10-01T07:44:56.477642Z"
    },
    "papermill": {
     "duration": 3.756154,
     "end_time": "2020-10-01T07:44:56.477794",
     "exception": false,
     "start_time": "2020-10-01T07:44:52.721640",
     "status": "completed"
    },
    "tags": []
   },
   "outputs": [
    {
     "data": {
      "image/png": "[encoded data removed]",
      "text/plain": [
       "<Figure size 432x288 with 1 Axes>"
      ]
     },
     "metadata": {
      "needs_background": "light"
     },
     "output_type": "display_data"
    }
   ],
   "source": [
    "loss_train = history.history['categorical_accuracy']\n",
    "loss_val = history.history['val_categorical_accuracy']\n",
    "epochs = range(1,41)\n",
    "plt.plot(loss_train, 'g', label='Training accuracy')\n",
    "plt.plot(loss_val, 'b', label='validation accuracy')\n",
    "plt.title('Training and Validation accuracy')\n",
    "plt.xlabel('Epochs')\n",
    "plt.ylabel('Accuracy')\n",
    "plt.legend()\n",
    "plt.show()"
   ]
  },
  {
   "cell_type": "code",
   "execution_count": 33,
   "metadata": {
    "execution": {
     "iopub.execute_input": "2020-10-01T07:45:02.751933Z",
     "iopub.status.busy": "2020-10-01T07:45:02.750622Z",
     "iopub.status.idle": "2020-10-01T07:45:09.657958Z",
     "shell.execute_reply": "2020-10-01T07:45:09.657346Z"
    },
    "papermill": {
     "duration": 10.023519,
     "end_time": "2020-10-01T07:45:09.658136",
     "exception": false,
     "start_time": "2020-10-01T07:44:59.634617",
     "status": "completed"
    },
    "tags": []
   },
   "outputs": [
    {
     "name": "stdout",
     "output_type": "stream",
     "text": [
      "25/25 [==============================] - 4s 141ms/step\n"
     ]
    }
   ],
   "source": [
    "res = custom_densenet169_model.predict_generator(valid_generator, verbose=1)\n",
    "\n",
    "    "
   ]
  },
  {
   "cell_type": "code",
   "execution_count": 34,
   "metadata": {
    "execution": {
     "iopub.execute_input": "2020-10-01T07:45:16.216165Z",
     "iopub.status.busy": "2020-10-01T07:45:16.215030Z",
     "iopub.status.idle": "2020-10-01T07:45:24.299460Z",
     "shell.execute_reply": "2020-10-01T07:45:24.298808Z"
    },
    "papermill": {
     "duration": 11.544049,
     "end_time": "2020-10-01T07:45:24.299592",
     "exception": false,
     "start_time": "2020-10-01T07:45:12.755543",
     "status": "completed"
    },
    "tags": []
   },
   "outputs": [
    {
     "name": "stdout",
     "output_type": "stream",
     "text": [
      "22/22 [==============================] - 5s 223ms/step\n"
     ]
    }
   ],
   "source": [
    "test_generator.reset()\n",
    "res_test=custom_densenet169_model.predict_generator(test_generator,\n",
    "#steps=STEP_SIZE_TEST,\n",
    "verbose=1)"
   ]
  },
  {
   "cell_type": "code",
   "execution_count": 35,
   "metadata": {
    "execution": {
     "iopub.execute_input": "2020-10-01T07:45:30.973162Z",
     "iopub.status.busy": "2020-10-01T07:45:30.971894Z",
     "iopub.status.idle": "2020-10-01T07:45:34.300646Z",
     "shell.execute_reply": "2020-10-01T07:45:34.300029Z"
    },
    "papermill": {
     "duration": 6.474163,
     "end_time": "2020-10-01T07:45:34.300775",
     "exception": false,
     "start_time": "2020-10-01T07:45:27.826612",
     "status": "completed"
    },
    "tags": []
   },
   "outputs": [
    {
     "name": "stdout",
     "output_type": "stream",
     "text": [
      "25/25 [==============================] - 3s 121ms/step\n"
     ]
    }
   ],
   "source": [
    "valid_generator.reset()\n",
    "res_cv=custom_densenet169_model.predict_generator(valid_generator,\n",
    "#steps=STEP_SIZE_TEST,\n",
    "verbose=1)"
   ]
  },
  {
   "cell_type": "code",
   "execution_count": 36,
   "metadata": {
    "execution": {
     "iopub.execute_input": "2020-10-01T07:45:40.876293Z",
     "iopub.status.busy": "2020-10-01T07:45:40.875202Z",
     "iopub.status.idle": "2020-10-01T07:46:29.141933Z",
     "shell.execute_reply": "2020-10-01T07:46:29.141288Z"
    },
    "papermill": {
     "duration": 51.402996,
     "end_time": "2020-10-01T07:46:29.142098",
     "exception": false,
     "start_time": "2020-10-01T07:45:37.739102",
     "status": "completed"
    },
    "tags": []
   },
   "outputs": [
    {
     "name": "stdout",
     "output_type": "stream",
     "text": [
      "98/98 [==============================] - 47s 479ms/step\n"
     ]
    }
   ],
   "source": [
    "train_generator.reset()\n",
    "res_train=custom_densenet169_model.predict_generator(train_generator,\n",
    "#steps=STEP_SIZE_TEST,\n",
    "verbose=1)"
   ]
  },
  {
   "cell_type": "code",
   "execution_count": 37,
   "metadata": {
    "execution": {
     "iopub.execute_input": "2020-10-01T07:46:35.818110Z",
     "iopub.status.busy": "2020-10-01T07:46:35.817178Z",
     "iopub.status.idle": "2020-10-01T07:46:35.820664Z",
     "shell.execute_reply": "2020-10-01T07:46:35.821230Z"
    },
    "papermill": {
     "duration": 3.209553,
     "end_time": "2020-10-01T07:46:35.821384",
     "exception": false,
     "start_time": "2020-10-01T07:46:32.611831",
     "status": "completed"
    },
    "tags": []
   },
   "outputs": [
    {
     "data": {
      "text/plain": [
       "(1380, 80)"
      ]
     },
     "execution_count": 37,
     "metadata": {},
     "output_type": "execute_result"
    }
   ],
   "source": [
    "res_test.shape"
   ]
  },
  {
   "cell_type": "code",
   "execution_count": 38,
   "metadata": {
    "execution": {
     "iopub.execute_input": "2020-10-01T07:46:42.643888Z",
     "iopub.status.busy": "2020-10-01T07:46:42.642929Z",
     "iopub.status.idle": "2020-10-01T07:46:42.984600Z",
     "shell.execute_reply": "2020-10-01T07:46:42.985909Z"
    },
    "papermill": {
     "duration": 3.978524,
     "end_time": "2020-10-01T07:46:42.986141",
     "exception": false,
     "start_time": "2020-10-01T07:46:39.007617",
     "status": "completed"
    },
    "tags": []
   },
   "outputs": [],
   "source": [
    "# Converting taget and identity columns to booleans\n",
    "\n",
    "target_columns=list(trainmultidf.columns)[:-1]\n",
    "\n",
    "def convert_to_bool(df, col_name):\n",
    "    df[col_name] = np.where(df[col_name] >= 0.5, True, False)\n",
    "    \n",
    "def convert_dataframe_to_bool(df):\n",
    "    bool_df = df.copy()\n",
    "    for col in target_columns:\n",
    "        convert_to_bool(bool_df, col)\n",
    "    return bool_df\n",
    "\n",
    "test_bool = convert_dataframe_to_bool(testmultidf) \n",
    "test_lable_bool=test_bool[list(test_bool.columns)[:-1]].to_numpy()\n",
    "\n",
    "train_bool = convert_dataframe_to_bool(trainmultidf) \n",
    "train_lable_bool=train_bool[list(train_bool.columns)[:-1]].to_numpy()\n",
    "\n",
    "cv_bool = convert_dataframe_to_bool(cvmultidf) \n",
    "cv_lable_bool=cv_bool[list(cv_bool.columns)[:-1]].to_numpy()"
   ]
  },
  {
   "cell_type": "code",
   "execution_count": 39,
   "metadata": {
    "execution": {
     "iopub.execute_input": "2020-10-01T07:46:49.868288Z",
     "iopub.status.busy": "2020-10-01T07:46:49.866790Z",
     "iopub.status.idle": "2020-10-01T07:46:49.871561Z",
     "shell.execute_reply": "2020-10-01T07:46:49.872170Z"
    },
    "papermill": {
     "duration": 3.544746,
     "end_time": "2020-10-01T07:46:49.872425",
     "exception": false,
     "start_time": "2020-10-01T07:46:46.327679",
     "status": "completed"
    },
    "tags": []
   },
   "outputs": [
    {
     "data": {
      "text/plain": [
       "(1563, 80)"
      ]
     },
     "execution_count": 39,
     "metadata": {},
     "output_type": "execute_result"
    }
   ],
   "source": [
    "cv_lable_bool.shape"
   ]
  },
  {
   "cell_type": "markdown",
   "metadata": {
    "papermill": {
     "duration": 3.461765,
     "end_time": "2020-10-01T07:46:56.663835",
     "exception": false,
     "start_time": "2020-10-01T07:46:53.202070",
     "status": "completed"
    },
    "tags": []
   },
   "source": [
    "# Evaluation Metric"
   ]
  },
  {
   "cell_type": "code",
   "execution_count": 40,
   "metadata": {
    "execution": {
     "iopub.execute_input": "2020-10-01T07:47:03.257497Z",
     "iopub.status.busy": "2020-10-01T07:47:03.256402Z",
     "iopub.status.idle": "2020-10-01T07:47:03.259347Z",
     "shell.execute_reply": "2020-10-01T07:47:03.258747Z"
    },
    "papermill": {
     "duration": 3.235666,
     "end_time": "2020-10-01T07:47:03.259472",
     "exception": false,
     "start_time": "2020-10-01T07:47:00.023806",
     "status": "completed"
    },
    "tags": []
   },
   "outputs": [],
   "source": [
    "import numpy as np\n",
    "import sklearn.metrics"
   ]
  },
  {
   "cell_type": "code",
   "execution_count": 41,
   "metadata": {
    "execution": {
     "iopub.execute_input": "2020-10-01T07:47:09.915754Z",
     "iopub.status.busy": "2020-10-01T07:47:09.914666Z",
     "iopub.status.idle": "2020-10-01T07:47:09.917529Z",
     "shell.execute_reply": "2020-10-01T07:47:09.918070Z"
    },
    "papermill": {
     "duration": 3.182292,
     "end_time": "2020-10-01T07:47:09.918223",
     "exception": false,
     "start_time": "2020-10-01T07:47:06.735931",
     "status": "completed"
    },
    "tags": []
   },
   "outputs": [],
   "source": [
    "# Core calculation of label precisions for one test sample.\n",
    "\n",
    "def _one_sample_positive_class_precisions(scores, truth):\n",
    "  \"\"\"Calculate precisions for each true class for a single sample.\n",
    "  \n",
    "  Args:\n",
    "    scores: np.array of (num_classes,) giving the individual classifier scores.\n",
    "    truth: np.array of (num_classes,) bools indicating which classes are true.\n",
    "\n",
    "  Returns:\n",
    "    pos_class_indices: np.array of indices of the true classes for this sample.\n",
    "    pos_class_precisions: np.array of precisions corresponding to each of those\n",
    "      classes.\n",
    "  \"\"\"\n",
    "  num_classes = scores.shape[0]\n",
    "  pos_class_indices = np.flatnonzero(truth > 0)\n",
    "  # Only calculate precisions if there are some true classes.\n",
    "  if not len(pos_class_indices):\n",
    "    return pos_class_indices, np.zeros(0)\n",
    "  # Retrieval list of classes for this sample. \n",
    "  retrieved_classes = np.argsort(scores)[::-1]\n",
    "  # class_rankings[top_scoring_class_index] == 0 etc.\n",
    "  class_rankings = np.zeros(num_classes, dtype=np.int)\n",
    "  class_rankings[retrieved_classes] = range(num_classes)\n",
    "  # Which of these is a true label?\n",
    "  retrieved_class_true = np.zeros(num_classes, dtype=np.bool)\n",
    "  retrieved_class_true[class_rankings[pos_class_indices]] = True\n",
    "  # Num hits for every truncated retrieval list.\n",
    "  retrieved_cumulative_hits = np.cumsum(retrieved_class_true)\n",
    "  # Precision of retrieval list truncated at each hit, in order of pos_labels.\n",
    "  precision_at_hits = (\n",
    "      retrieved_cumulative_hits[class_rankings[pos_class_indices]] / \n",
    "      (1 + class_rankings[pos_class_indices].astype(np.float)))\n",
    "  return pos_class_indices, precision_at_hits\n"
   ]
  },
  {
   "cell_type": "code",
   "execution_count": 42,
   "metadata": {
    "execution": {
     "iopub.execute_input": "2020-10-01T07:47:16.555249Z",
     "iopub.status.busy": "2020-10-01T07:47:16.554313Z",
     "iopub.status.idle": "2020-10-01T07:47:16.559519Z",
     "shell.execute_reply": "2020-10-01T07:47:16.558900Z"
    },
    "papermill": {
     "duration": 3.483538,
     "end_time": "2020-10-01T07:47:16.559640",
     "exception": false,
     "start_time": "2020-10-01T07:47:13.076102",
     "status": "completed"
    },
    "tags": []
   },
   "outputs": [],
   "source": [
    "# All-in-one calculation of per-class lwlrap.\n",
    "\n",
    "def calculate_per_class_lwlrap(truth, scores):\n",
    "  \"\"\"Calculate label-weighted label-ranking average precision.\n",
    "  \n",
    "  Arguments:\n",
    "    truth: np.array of (num_samples, num_classes) giving boolean ground-truth\n",
    "      of presence of that class in that sample.\n",
    "    scores: np.array of (num_samples, num_classes) giving the classifier-under-\n",
    "      test's real-valued score for each class for each sample.\n",
    "  \n",
    "  Returns:\n",
    "    per_class_lwlrap: np.array of (num_classes,) giving the lwlrap for each \n",
    "      class.\n",
    "    weight_per_class: np.array of (num_classes,) giving the prior of each \n",
    "      class within the truth labels.  Then the overall unbalanced lwlrap is \n",
    "      simply np.sum(per_class_lwlrap * weight_per_class)\n",
    "  \"\"\"\n",
    "  assert truth.shape == scores.shape\n",
    "  num_samples, num_classes = scores.shape\n",
    "  # Space to store a distinct precision value for each class on each sample.\n",
    "  # Only the classes that are true for each sample will be filled in.\n",
    "  precisions_for_samples_by_classes = np.zeros((num_samples, num_classes))\n",
    "  for sample_num in range(num_samples):\n",
    "    pos_class_indices, precision_at_hits = (\n",
    "      _one_sample_positive_class_precisions(scores[sample_num, :], \n",
    "                                            truth[sample_num, :]))\n",
    "    precisions_for_samples_by_classes[sample_num, pos_class_indices] = (\n",
    "        precision_at_hits)\n",
    "  labels_per_class = np.sum(truth > 0, axis=0)\n",
    "  weight_per_class = labels_per_class / float(np.sum(labels_per_class))\n",
    "  # Form average of each column, i.e. all the precisions assigned to labels in\n",
    "  # a particular class.\n",
    "  per_class_lwlrap = (np.sum(precisions_for_samples_by_classes, axis=0) / \n",
    "                      np.maximum(1, labels_per_class))\n",
    "  # overall_lwlrap = simple average of all the actual per-class, per-sample precisions\n",
    "  #                = np.sum(precisions_for_samples_by_classes) / np.sum(precisions_for_samples_by_classes > 0)\n",
    "  #           also = weighted mean of per-class lwlraps, weighted by class label prior across samples\n",
    "  #                = np.sum(per_class_lwlrap * weight_per_class)\n",
    "  return per_class_lwlrap, weight_per_class"
   ]
  },
  {
   "cell_type": "code",
   "execution_count": 43,
   "metadata": {
    "execution": {
     "iopub.execute_input": "2020-10-01T07:47:23.008369Z",
     "iopub.status.busy": "2020-10-01T07:47:23.005084Z",
     "iopub.status.idle": "2020-10-01T07:47:23.011459Z",
     "shell.execute_reply": "2020-10-01T07:47:23.013667Z"
    },
    "papermill": {
     "duration": 3.18461,
     "end_time": "2020-10-01T07:47:23.013888",
     "exception": false,
     "start_time": "2020-10-01T07:47:19.829278",
     "status": "completed"
    },
    "tags": []
   },
   "outputs": [],
   "source": [
    "# Calculate the overall lwlrap using sklearn.metrics function.\n",
    "\n",
    "def calculate_overall_lwlrap_sklearn(truth, scores):\n",
    "  \"\"\"Calculate the overall lwlrap using sklearn.metrics.lrap.\"\"\"\n",
    "  # sklearn doesn't correctly apply weighting to samples with no labels, so just skip them.\n",
    "  sample_weight = np.sum(truth > 0, axis=1)\n",
    "  nonzero_weight_sample_indices = np.flatnonzero(sample_weight > 0)\n",
    "  overall_lwlrap = sklearn.metrics.label_ranking_average_precision_score(\n",
    "      truth[nonzero_weight_sample_indices, :] > 0, \n",
    "      scores[nonzero_weight_sample_indices, :], \n",
    "      sample_weight=sample_weight[nonzero_weight_sample_indices])\n",
    "  return overall_lwlrap"
   ]
  },
  {
   "cell_type": "code",
   "execution_count": 44,
   "metadata": {
    "execution": {
     "iopub.execute_input": "2020-10-01T07:47:29.718609Z",
     "iopub.status.busy": "2020-10-01T07:47:29.717468Z",
     "iopub.status.idle": "2020-10-01T07:47:29.720842Z",
     "shell.execute_reply": "2020-10-01T07:47:29.720242Z"
    },
    "papermill": {
     "duration": 3.472504,
     "end_time": "2020-10-01T07:47:29.720987",
     "exception": false,
     "start_time": "2020-10-01T07:47:26.248483",
     "status": "completed"
    },
    "tags": []
   },
   "outputs": [],
   "source": [
    "# Accumulator object version.\n",
    "\n",
    "class lwlrap_accumulator(object):\n",
    "  \"\"\"Accumulate batches of test samples into per-class and overall lwlrap.\"\"\"  \n",
    "\n",
    "  def __init__(self):\n",
    "    self.num_classes = 0\n",
    "    self.total_num_samples = 0\n",
    "  \n",
    "  def accumulate_samples(self, batch_truth, batch_scores):\n",
    "    \"\"\"Cumulate a new batch of samples into the metric.\n",
    "    \n",
    "    Args:\n",
    "      truth: np.array of (num_samples, num_classes) giving boolean\n",
    "        ground-truth of presence of that class in that sample for this batch.\n",
    "      scores: np.array of (num_samples, num_classes) giving the \n",
    "        classifier-under-test's real-valued score for each class for each\n",
    "        sample.\n",
    "    \"\"\"\n",
    "    assert batch_scores.shape == batch_truth.shape\n",
    "    num_samples, num_classes = batch_truth.shape\n",
    "    if not self.num_classes:\n",
    "      self.num_classes = num_classes\n",
    "      self._per_class_cumulative_precision = np.zeros(self.num_classes)\n",
    "      self._per_class_cumulative_count = np.zeros(self.num_classes, \n",
    "                                                  dtype=np.int)\n",
    "    assert num_classes == self.num_classes\n",
    "    for truth, scores in zip(batch_truth, batch_scores):\n",
    "      pos_class_indices, precision_at_hits = (\n",
    "        _one_sample_positive_class_precisions(scores, truth))\n",
    "      self._per_class_cumulative_precision[pos_class_indices] += (\n",
    "        precision_at_hits)\n",
    "      self._per_class_cumulative_count[pos_class_indices] += 1\n",
    "    self.total_num_samples += num_samples\n",
    "\n",
    "  def per_class_lwlrap(self):\n",
    "    \"\"\"Return a vector of the per-class lwlraps for the accumulated samples.\"\"\"\n",
    "    return (self._per_class_cumulative_precision / \n",
    "            np.maximum(1, self._per_class_cumulative_count))\n",
    "\n",
    "  def per_class_weight(self):\n",
    "    \"\"\"Return a normalized weight vector for the contributions of each class.\"\"\"\n",
    "    return (self._per_class_cumulative_count / \n",
    "            float(np.sum(self._per_class_cumulative_count)))\n",
    "\n",
    "  def overall_lwlrap(self):\n",
    "    \"\"\"Return the scalar overall lwlrap for cumulated samples.\"\"\"\n",
    "    return np.sum(self.per_class_lwlrap() * self.per_class_weight())"
   ]
  },
  {
   "cell_type": "code",
   "execution_count": 45,
   "metadata": {
    "execution": {
     "iopub.execute_input": "2020-10-01T07:47:36.269783Z",
     "iopub.status.busy": "2020-10-01T07:47:36.268739Z",
     "iopub.status.idle": "2020-10-01T07:47:36.492790Z",
     "shell.execute_reply": "2020-10-01T07:47:36.493509Z"
    },
    "papermill": {
     "duration": 3.442994,
     "end_time": "2020-10-01T07:47:36.493681",
     "exception": false,
     "start_time": "2020-10-01T07:47:33.050687",
     "status": "completed"
    },
    "tags": []
   },
   "outputs": [
    {
     "name": "stdout",
     "output_type": "stream",
     "text": [
      "lwlrap from sklearn.metrics = 0.8273372156940174\n"
     ]
    }
   ],
   "source": [
    "#https://www.kaggle.com/voglinio/keras-2d-model-5-fold-log-specgram-curated-only\n",
    "truth = test_lable_bool\n",
    "scores = res_test\n",
    "print(\"lwlrap from sklearn.metrics =\", calculate_overall_lwlrap_sklearn(truth, scores))"
   ]
  },
  {
   "cell_type": "code",
   "execution_count": 46,
   "metadata": {
    "execution": {
     "iopub.execute_input": "2020-10-01T07:47:43.566896Z",
     "iopub.status.busy": "2020-10-01T07:47:43.565860Z",
     "iopub.status.idle": "2020-10-01T07:47:44.557043Z",
     "shell.execute_reply": "2020-10-01T07:47:44.557625Z"
    },
    "papermill": {
     "duration": 4.632655,
     "end_time": "2020-10-01T07:47:44.557783",
     "exception": false,
     "start_time": "2020-10-01T07:47:39.925128",
     "status": "completed"
    },
    "tags": []
   },
   "outputs": [
    {
     "name": "stdout",
     "output_type": "stream",
     "text": [
      "lwlrap from sklearn.metrics = 0.9999308628318584\n"
     ]
    }
   ],
   "source": [
    "truth = train_lable_bool\n",
    "scores = res_train\n",
    "print(\"lwlrap from sklearn.metrics =\", calculate_overall_lwlrap_sklearn(truth, scores))"
   ]
  },
  {
   "cell_type": "code",
   "execution_count": 47,
   "metadata": {
    "execution": {
     "iopub.execute_input": "2020-10-01T07:47:51.549167Z",
     "iopub.status.busy": "2020-10-01T07:47:51.548119Z",
     "iopub.status.idle": "2020-10-01T07:47:51.798218Z",
     "shell.execute_reply": "2020-10-01T07:47:51.799285Z"
    },
    "papermill": {
     "duration": 3.766221,
     "end_time": "2020-10-01T07:47:51.799504",
     "exception": false,
     "start_time": "2020-10-01T07:47:48.033283",
     "status": "completed"
    },
    "tags": []
   },
   "outputs": [
    {
     "name": "stdout",
     "output_type": "stream",
     "text": [
      "lwlrap from sklearn.metrics = 0.8396215678044643\n"
     ]
    }
   ],
   "source": [
    "truth = cv_lable_bool\n",
    "scores = res_cv\n",
    "print(\"lwlrap from sklearn.metrics =\", calculate_overall_lwlrap_sklearn(truth, scores))"
   ]
  },
  {
   "cell_type": "markdown",
   "metadata": {
    "papermill": {
     "duration": 3.217821,
     "end_time": "2020-10-01T07:47:58.263611",
     "exception": false,
     "start_time": "2020-10-01T07:47:55.045790",
     "status": "completed"
    },
    "tags": []
   },
   "source": [
    "## SUBMISSION"
   ]
  },
  {
   "cell_type": "code",
   "execution_count": 48,
   "metadata": {
    "execution": {
     "iopub.execute_input": "2020-10-01T07:48:05.118314Z",
     "iopub.status.busy": "2020-10-01T07:48:05.117478Z",
     "iopub.status.idle": "2020-10-01T07:48:05.649533Z",
     "shell.execute_reply": "2020-10-01T07:48:05.650181Z"
    },
    "papermill": {
     "duration": 3.915075,
     "end_time": "2020-10-01T07:48:05.650397",
     "exception": false,
     "start_time": "2020-10-01T07:48:01.735322",
     "status": "completed"
    },
    "tags": []
   },
   "outputs": [
    {
     "name": "stdout",
     "output_type": "stream",
     "text": [
      "Found 3361 validated image filenames.\n"
     ]
    }
   ],
   "source": [
    "sub_dataframe = pd.DataFrame({'fname':os.listdir('../input/sc2-total-aug-noisy-data/sub2/sub2')})\n",
    "\n",
    "sub_datagen=ImageDataGenerator(rescale=1./255.)\n",
    "sub_generator=sub_datagen.flow_from_dataframe(\n",
    "    dataframe=sub_dataframe,\n",
    "    directory=\"../input/sc2-total-aug-noisy-data/sub2/sub2\",\n",
    "    x_col=\"fname\",\n",
    "    y_col=None,\n",
    "    batch_size=64,\n",
    "    seed=42,\n",
    "    shuffle=False,\n",
    "    class_mode=None,\n",
    "    target_size=(128,128))"
   ]
  },
  {
   "cell_type": "code",
   "execution_count": 49,
   "metadata": {
    "execution": {
     "iopub.execute_input": "2020-10-01T07:48:12.373681Z",
     "iopub.status.busy": "2020-10-01T07:48:12.372442Z",
     "iopub.status.idle": "2020-10-01T07:48:12.374622Z",
     "shell.execute_reply": "2020-10-01T07:48:12.375193Z"
    },
    "papermill": {
     "duration": 3.493284,
     "end_time": "2020-10-01T07:48:12.375339",
     "exception": false,
     "start_time": "2020-10-01T07:48:08.882055",
     "status": "completed"
    },
    "tags": []
   },
   "outputs": [],
   "source": [
    "STEP_SIZE_SUB=sub_generator.n//sub_generator.batch_size"
   ]
  },
  {
   "cell_type": "code",
   "execution_count": 50,
   "metadata": {
    "execution": {
     "iopub.execute_input": "2020-10-01T07:48:18.754561Z",
     "iopub.status.busy": "2020-10-01T07:48:18.753110Z",
     "iopub.status.idle": "2020-10-01T07:48:31.002046Z",
     "shell.execute_reply": "2020-10-01T07:48:31.001219Z"
    },
    "papermill": {
     "duration": 15.421447,
     "end_time": "2020-10-01T07:48:31.002177",
     "exception": false,
     "start_time": "2020-10-01T07:48:15.580730",
     "status": "completed"
    },
    "tags": []
   },
   "outputs": [
    {
     "name": "stdout",
     "output_type": "stream",
     "text": [
      "53/53 [==============================] - 12s 224ms/step\n"
     ]
    }
   ],
   "source": [
    "sub_generator.reset()\n",
    "res_sub=custom_densenet169_model.predict_generator(sub_generator,\n",
    "#steps=STEP_SIZE_TEST,\n",
    "verbose=1)"
   ]
  },
  {
   "cell_type": "code",
   "execution_count": 51,
   "metadata": {
    "execution": {
     "iopub.execute_input": "2020-10-01T07:48:37.899492Z",
     "iopub.status.busy": "2020-10-01T07:48:37.898013Z",
     "iopub.status.idle": "2020-10-01T07:48:37.901924Z",
     "shell.execute_reply": "2020-10-01T07:48:37.902516Z"
    },
    "papermill": {
     "duration": 3.205614,
     "end_time": "2020-10-01T07:48:37.902659",
     "exception": false,
     "start_time": "2020-10-01T07:48:34.697045",
     "status": "completed"
    },
    "tags": []
   },
   "outputs": [
    {
     "data": {
      "text/plain": [
       "(3361, 80)"
      ]
     },
     "execution_count": 51,
     "metadata": {},
     "output_type": "execute_result"
    }
   ],
   "source": [
    "res_sub.shape"
   ]
  },
  {
   "cell_type": "code",
   "execution_count": 52,
   "metadata": {
    "execution": {
     "iopub.execute_input": "2020-10-01T07:48:45.000570Z",
     "iopub.status.busy": "2020-10-01T07:48:44.999492Z",
     "iopub.status.idle": "2020-10-01T07:48:45.004494Z",
     "shell.execute_reply": "2020-10-01T07:48:45.003906Z"
    },
    "papermill": {
     "duration": 3.917111,
     "end_time": "2020-10-01T07:48:45.004626",
     "exception": false,
     "start_time": "2020-10-01T07:48:41.087515",
     "status": "completed"
    },
    "tags": []
   },
   "outputs": [],
   "source": [
    "submit_data=pd.DataFrame(res_sub.astype(\"float64\"), columns=list(mlb_train.classes_))"
   ]
  },
  {
   "cell_type": "code",
   "execution_count": 53,
   "metadata": {
    "execution": {
     "iopub.execute_input": "2020-10-01T07:48:51.946910Z",
     "iopub.status.busy": "2020-10-01T07:48:51.945862Z",
     "iopub.status.idle": "2020-10-01T07:48:52.005488Z",
     "shell.execute_reply": "2020-10-01T07:48:52.006307Z"
    },
    "papermill": {
     "duration": 3.441645,
     "end_time": "2020-10-01T07:48:52.006529",
     "exception": false,
     "start_time": "2020-10-01T07:48:48.564884",
     "status": "completed"
    },
    "tags": []
   },
   "outputs": [
    {
     "data": {
      "text/html": [
       "<div>\n",
       "<style scoped>\n",
       "    .dataframe tbody tr th:only-of-type {\n",
       "        vertical-align: middle;\n",
       "    }\n",
       "\n",
       "    .dataframe tbody tr th {\n",
       "        vertical-align: top;\n",
       "    }\n",
       "\n",
       "    .dataframe thead th {\n",
       "        text-align: right;\n",
       "    }\n",
       "</style>\n",
       "<table border=\"1\" class=\"dataframe\">\n",
       "  <thead>\n",
       "    <tr style=\"text-align: right;\">\n",
       "      <th></th>\n",
       "      <th>fname</th>\n",
       "      <th>Accelerating_and_revving_and_vroom</th>\n",
       "      <th>Accordion</th>\n",
       "      <th>Acoustic_guitar</th>\n",
       "      <th>Applause</th>\n",
       "      <th>Bark</th>\n",
       "      <th>Bass_drum</th>\n",
       "      <th>Bass_guitar</th>\n",
       "      <th>Bathtub_(filling_or_washing)</th>\n",
       "      <th>Bicycle_bell</th>\n",
       "      <th>...</th>\n",
       "      <th>Toilet_flush</th>\n",
       "      <th>Traffic_noise_and_roadway_noise</th>\n",
       "      <th>Trickle_and_dribble</th>\n",
       "      <th>Walk_and_footsteps</th>\n",
       "      <th>Water_tap_and_faucet</th>\n",
       "      <th>Waves_and_surf</th>\n",
       "      <th>Whispering</th>\n",
       "      <th>Writing</th>\n",
       "      <th>Yell</th>\n",
       "      <th>Zipper_(clothing)</th>\n",
       "    </tr>\n",
       "  </thead>\n",
       "  <tbody>\n",
       "    <tr>\n",
       "      <th>0</th>\n",
       "      <td>f308ee9f.wav</td>\n",
       "      <td>4.878687e-09</td>\n",
       "      <td>9.396793e-10</td>\n",
       "      <td>7.962507e-10</td>\n",
       "      <td>2.560590e-10</td>\n",
       "      <td>2.091687e-05</td>\n",
       "      <td>1.910168e-09</td>\n",
       "      <td>2.336984e-12</td>\n",
       "      <td>1.550747e-13</td>\n",
       "      <td>3.173418e-09</td>\n",
       "      <td>...</td>\n",
       "      <td>3.472660e-11</td>\n",
       "      <td>2.178504e-08</td>\n",
       "      <td>3.290795e-12</td>\n",
       "      <td>3.893656e-02</td>\n",
       "      <td>1.468148e-10</td>\n",
       "      <td>3.397994e-10</td>\n",
       "      <td>1.206683e-06</td>\n",
       "      <td>1.431337e-04</td>\n",
       "      <td>1.270181e-06</td>\n",
       "      <td>9.864309e-05</td>\n",
       "    </tr>\n",
       "    <tr>\n",
       "      <th>1</th>\n",
       "      <td>57e25987.wav</td>\n",
       "      <td>1.349311e-09</td>\n",
       "      <td>3.133817e-08</td>\n",
       "      <td>1.880417e-06</td>\n",
       "      <td>6.201201e-08</td>\n",
       "      <td>1.387500e-06</td>\n",
       "      <td>6.384212e-07</td>\n",
       "      <td>7.024214e-08</td>\n",
       "      <td>1.040685e-07</td>\n",
       "      <td>2.596985e-08</td>\n",
       "      <td>...</td>\n",
       "      <td>9.375012e-09</td>\n",
       "      <td>3.267841e-08</td>\n",
       "      <td>6.001171e-10</td>\n",
       "      <td>4.052569e-05</td>\n",
       "      <td>5.270354e-08</td>\n",
       "      <td>3.418103e-08</td>\n",
       "      <td>2.426440e-06</td>\n",
       "      <td>3.641962e-05</td>\n",
       "      <td>5.741081e-09</td>\n",
       "      <td>6.363846e-09</td>\n",
       "    </tr>\n",
       "    <tr>\n",
       "      <th>2</th>\n",
       "      <td>85965288.wav</td>\n",
       "      <td>2.197660e-03</td>\n",
       "      <td>3.505247e-11</td>\n",
       "      <td>8.175653e-10</td>\n",
       "      <td>3.713784e-08</td>\n",
       "      <td>1.814070e-08</td>\n",
       "      <td>1.065906e-06</td>\n",
       "      <td>3.136116e-10</td>\n",
       "      <td>1.574572e-11</td>\n",
       "      <td>3.207443e-11</td>\n",
       "      <td>...</td>\n",
       "      <td>2.120034e-12</td>\n",
       "      <td>1.495647e-05</td>\n",
       "      <td>1.522617e-08</td>\n",
       "      <td>5.406195e-12</td>\n",
       "      <td>9.912041e-08</td>\n",
       "      <td>1.037644e-08</td>\n",
       "      <td>1.408174e-13</td>\n",
       "      <td>1.847754e-13</td>\n",
       "      <td>2.584308e-14</td>\n",
       "      <td>4.921355e-08</td>\n",
       "    </tr>\n",
       "    <tr>\n",
       "      <th>3</th>\n",
       "      <td>f0d764ff.wav</td>\n",
       "      <td>1.600812e-10</td>\n",
       "      <td>3.987715e-08</td>\n",
       "      <td>4.153466e-04</td>\n",
       "      <td>2.317691e-09</td>\n",
       "      <td>1.189969e-07</td>\n",
       "      <td>1.221525e-08</td>\n",
       "      <td>4.268592e-08</td>\n",
       "      <td>6.930747e-13</td>\n",
       "      <td>2.613285e-10</td>\n",
       "      <td>...</td>\n",
       "      <td>1.358044e-08</td>\n",
       "      <td>7.056924e-09</td>\n",
       "      <td>7.552765e-11</td>\n",
       "      <td>1.680562e-09</td>\n",
       "      <td>2.890382e-14</td>\n",
       "      <td>5.264118e-11</td>\n",
       "      <td>5.486145e-09</td>\n",
       "      <td>3.398227e-10</td>\n",
       "      <td>9.023042e-11</td>\n",
       "      <td>1.019201e-10</td>\n",
       "    </tr>\n",
       "    <tr>\n",
       "      <th>4</th>\n",
       "      <td>d337d98e.wav</td>\n",
       "      <td>2.368118e-10</td>\n",
       "      <td>3.012998e-07</td>\n",
       "      <td>9.913271e-12</td>\n",
       "      <td>5.619916e-11</td>\n",
       "      <td>3.452158e-09</td>\n",
       "      <td>4.377603e-04</td>\n",
       "      <td>2.383559e-08</td>\n",
       "      <td>1.540835e-13</td>\n",
       "      <td>3.897041e-08</td>\n",
       "      <td>...</td>\n",
       "      <td>8.804731e-15</td>\n",
       "      <td>6.102225e-10</td>\n",
       "      <td>1.454252e-10</td>\n",
       "      <td>1.112701e-05</td>\n",
       "      <td>4.640524e-09</td>\n",
       "      <td>4.495246e-06</td>\n",
       "      <td>3.996960e-08</td>\n",
       "      <td>3.291378e-06</td>\n",
       "      <td>3.799731e-08</td>\n",
       "      <td>6.896096e-06</td>\n",
       "    </tr>\n",
       "  </tbody>\n",
       "</table>\n",
       "<p>5 rows × 81 columns</p>\n",
       "</div>"
      ],
      "text/plain": [
       "          fname  Accelerating_and_revving_and_vroom     Accordion  \\\n",
       "0  f308ee9f.wav                        4.878687e-09  9.396793e-10   \n",
       "1  57e25987.wav                        1.349311e-09  3.133817e-08   \n",
       "2  85965288.wav                        2.197660e-03  3.505247e-11   \n",
       "3  f0d764ff.wav                        1.600812e-10  3.987715e-08   \n",
       "4  d337d98e.wav                        2.368118e-10  3.012998e-07   \n",
       "\n",
       "   Acoustic_guitar      Applause          Bark     Bass_drum   Bass_guitar  \\\n",
       "0     7.962507e-10  2.560590e-10  2.091687e-05  1.910168e-09  2.336984e-12   \n",
       "1     1.880417e-06  6.201201e-08  1.387500e-06  6.384212e-07  7.024214e-08   \n",
       "2     8.175653e-10  3.713784e-08  1.814070e-08  1.065906e-06  3.136116e-10   \n",
       "3     4.153466e-04  2.317691e-09  1.189969e-07  1.221525e-08  4.268592e-08   \n",
       "4     9.913271e-12  5.619916e-11  3.452158e-09  4.377603e-04  2.383559e-08   \n",
       "\n",
       "   Bathtub_(filling_or_washing)  Bicycle_bell  ...  Toilet_flush  \\\n",
       "0                  1.550747e-13  3.173418e-09  ...  3.472660e-11   \n",
       "1                  1.040685e-07  2.596985e-08  ...  9.375012e-09   \n",
       "2                  1.574572e-11  3.207443e-11  ...  2.120034e-12   \n",
       "3                  6.930747e-13  2.613285e-10  ...  1.358044e-08   \n",
       "4                  1.540835e-13  3.897041e-08  ...  8.804731e-15   \n",
       "\n",
       "   Traffic_noise_and_roadway_noise  Trickle_and_dribble  Walk_and_footsteps  \\\n",
       "0                     2.178504e-08         3.290795e-12        3.893656e-02   \n",
       "1                     3.267841e-08         6.001171e-10        4.052569e-05   \n",
       "2                     1.495647e-05         1.522617e-08        5.406195e-12   \n",
       "3                     7.056924e-09         7.552765e-11        1.680562e-09   \n",
       "4                     6.102225e-10         1.454252e-10        1.112701e-05   \n",
       "\n",
       "   Water_tap_and_faucet  Waves_and_surf    Whispering       Writing  \\\n",
       "0          1.468148e-10    3.397994e-10  1.206683e-06  1.431337e-04   \n",
       "1          5.270354e-08    3.418103e-08  2.426440e-06  3.641962e-05   \n",
       "2          9.912041e-08    1.037644e-08  1.408174e-13  1.847754e-13   \n",
       "3          2.890382e-14    5.264118e-11  5.486145e-09  3.398227e-10   \n",
       "4          4.640524e-09    4.495246e-06  3.996960e-08  3.291378e-06   \n",
       "\n",
       "           Yell  Zipper_(clothing)  \n",
       "0  1.270181e-06       9.864309e-05  \n",
       "1  5.741081e-09       6.363846e-09  \n",
       "2  2.584308e-14       4.921355e-08  \n",
       "3  9.023042e-11       1.019201e-10  \n",
       "4  3.799731e-08       6.896096e-06  \n",
       "\n",
       "[5 rows x 81 columns]"
      ]
     },
     "execution_count": 53,
     "metadata": {},
     "output_type": "execute_result"
    }
   ],
   "source": [
    "submit_data.insert(0, 'fname', os.listdir('../input/sc2-total-aug-noisy-data/sub2/sub2'))\n",
    "submit_data[\"fname\"]=submit_data[\"fname\"].apply(lambda x: x.split(\".\")[0]+\".wav\")\n",
    "submit_data.head()"
   ]
  },
  {
   "cell_type": "code",
   "execution_count": 54,
   "metadata": {
    "execution": {
     "iopub.execute_input": "2020-10-01T07:48:58.937171Z",
     "iopub.status.busy": "2020-10-01T07:48:58.936406Z",
     "iopub.status.idle": "2020-10-01T07:48:59.936503Z",
     "shell.execute_reply": "2020-10-01T07:48:59.934838Z"
    },
    "papermill": {
     "duration": 4.19387,
     "end_time": "2020-10-01T07:48:59.936636",
     "exception": false,
     "start_time": "2020-10-01T07:48:55.742766",
     "status": "completed"
    },
    "tags": []
   },
   "outputs": [],
   "source": [
    "submit_data.to_csv(\"submissionDenseCuratedCV_0_128.csv\",index=False )"
   ]
  },
  {
   "cell_type": "code",
   "execution_count": null,
   "metadata": {
    "papermill": {
     "duration": 3.73562,
     "end_time": "2020-10-01T07:49:06.864321",
     "exception": false,
     "start_time": "2020-10-01T07:49:03.128701",
     "status": "completed"
    },
    "tags": []
   },
   "outputs": [],
   "source": []
  },
  {
   "cell_type": "code",
   "execution_count": null,
   "metadata": {
    "papermill": {
     "duration": 3.208682,
     "end_time": "2020-10-01T07:49:13.276663",
     "exception": false,
     "start_time": "2020-10-01T07:49:10.067981",
     "status": "completed"
    },
    "tags": []
   },
   "outputs": [],
   "source": []
  }
 ],
 "metadata": {
  "kernelspec": {
   "display_name": "Python 3",
   "language": "python",
   "name": "python3"
  },
  "language_info": {
   "codemirror_mode": {
    "name": "ipython",
    "version": 3
   },
   "file_extension": ".py",
   "mimetype": "text/x-python",
   "name": "python",
   "nbconvert_exporter": "python",
   "pygments_lexer": "ipython3",
   "version": "3.6.9"
  },
  "papermill": {
   "duration": 4640.498136,
   "end_time": "2020-10-01T07:49:17.761803",
   "environment_variables": {},
   "exception": null,
   "input_path": "__notebook__.ipynb",
   "output_path": "__notebook__.ipynb",
   "parameters": {},
   "start_time": "2020-10-01T06:31:57.263667",
   "version": "2.1.0"
  }
 },
 "nbformat": 4,
 "nbformat_minor": 4
}
