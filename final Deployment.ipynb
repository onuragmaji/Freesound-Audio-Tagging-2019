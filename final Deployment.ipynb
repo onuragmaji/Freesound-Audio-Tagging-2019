{
 "cells": [
  {
   "cell_type": "code",
   "execution_count": 1,
   "metadata": {
    "execution": {
     "iopub.execute_input": "2020-10-05T19:45:50.513059Z",
     "iopub.status.busy": "2020-10-05T19:45:50.511925Z",
     "iopub.status.idle": "2020-10-05T19:46:00.277839Z",
     "shell.execute_reply": "2020-10-05T19:46:00.276720Z"
    },
    "papermill": {
     "duration": 9.817892,
     "end_time": "2020-10-05T19:46:00.278035",
     "exception": false,
     "start_time": "2020-10-05T19:45:50.460143",
     "status": "completed"
    },
    "tags": []
   },
   "outputs": [],
   "source": [
    "#https://www.kaggle.com/daisukelab/creating-fat2019-preprocessed-data/output\n",
    "\n",
    "import numpy as np # linear algebra\n",
    "import pandas as pd # data processing, CSV file I/O (e.g. pd.read_csv)\n",
    "\n",
    "import librosa\n",
    "import librosa.display\n",
    "import random\n",
    "import os\n",
    "from tqdm import tqdm \n",
    "\n",
    "from tensorflow.keras.optimizers import RMSprop\n",
    "from tensorflow.keras.models import Model\n",
    "from tensorflow.keras.models import load_model\n",
    "\n",
    "from tensorflow.keras.models import Sequential\n",
    "from tensorflow.keras.preprocessing import sequence\n",
    "\n",
    "\n",
    "from pathlib import Path\n",
    "import matplotlib.pyplot as plt\n",
    "from tqdm import tqdm_notebook\n",
    "import tensorflow as tf\n",
    "from tensorflow.keras import models, layers\n",
    "from tensorflow.keras.models import Model\n",
    "from tensorflow.keras.optimizers import Adam\n",
    "#from tensorflow.keras.callbacks import ModelCheckpoint,EarlyStopping \n",
    "from tensorflow.keras.layers import Dense, Flatten, LSTM, Conv2D, MaxPooling2D, Dropout, Activation, Input,BatchNormalization, AveragePooling2D,GlobalMaxPool2D,PReLU\n",
    "\n",
    "from tensorflow.keras.models import model_from_json  \n",
    "from tensorflow.keras.applications import DenseNet169\n",
    "\n",
    "\n",
    "from keras_preprocessing.image import ImageDataGenerator"
   ]
  },
  {
   "cell_type": "code",
   "execution_count": 2,
   "metadata": {
    "execution": {
     "iopub.execute_input": "2020-10-05T19:46:00.352679Z",
     "iopub.status.busy": "2020-10-05T19:46:00.351683Z",
     "iopub.status.idle": "2020-10-05T19:46:00.374513Z",
     "shell.execute_reply": "2020-10-05T19:46:00.373597Z"
    },
    "papermill": {
     "duration": 0.066015,
     "end_time": "2020-10-05T19:46:00.374757",
     "exception": false,
     "start_time": "2020-10-05T19:46:00.308742",
     "status": "completed"
    },
    "tags": []
   },
   "outputs": [],
   "source": [
    "curated_data = pd.read_csv(\"../input/sc2finalsub/train_curated.csv\")"
   ]
  },
  {
   "cell_type": "code",
   "execution_count": 3,
   "metadata": {
    "execution": {
     "iopub.execute_input": "2020-10-05T19:46:00.454307Z",
     "iopub.status.busy": "2020-10-05T19:46:00.453278Z",
     "iopub.status.idle": "2020-10-05T19:46:00.458084Z",
     "shell.execute_reply": "2020-10-05T19:46:00.458931Z"
    },
    "papermill": {
     "duration": 0.050908,
     "end_time": "2020-10-05T19:46:00.459133",
     "exception": false,
     "start_time": "2020-10-05T19:46:00.408225",
     "status": "completed"
    },
    "tags": []
   },
   "outputs": [
    {
     "data": {
      "text/plain": [
       "(4970, 2)"
      ]
     },
     "execution_count": 3,
     "metadata": {},
     "output_type": "execute_result"
    }
   ],
   "source": [
    "curated_data.shape"
   ]
  },
  {
   "cell_type": "markdown",
   "metadata": {
    "papermill": {
     "duration": 0.031033,
     "end_time": "2020-10-05T19:46:00.521086",
     "exception": false,
     "start_time": "2020-10-05T19:46:00.490053",
     "status": "completed"
    },
    "tags": []
   },
   "source": [
    "# Creating CSV data based on input .wav file"
   ]
  },
  {
   "cell_type": "code",
   "execution_count": 4,
   "metadata": {
    "execution": {
     "iopub.execute_input": "2020-10-05T19:46:00.596640Z",
     "iopub.status.busy": "2020-10-05T19:46:00.595654Z",
     "iopub.status.idle": "2020-10-05T19:46:00.761218Z",
     "shell.execute_reply": "2020-10-05T19:46:00.760545Z"
    },
    "papermill": {
     "duration": 0.20917,
     "end_time": "2020-10-05T19:46:00.761365",
     "exception": false,
     "start_time": "2020-10-05T19:46:00.552195",
     "status": "completed"
    },
    "tags": []
   },
   "outputs": [],
   "source": [
    "temp_label=[]\n",
    "temp_fname=[]\n",
    "\n",
    "for file in os.listdir(\"../input/sc2finalsub/train_curated 100/train_curated\"):\n",
    "   \n",
    "    if file==\"desktop.ini\":\n",
    "       continue\n",
    "    temp_fname.append(file)\n",
    "    if len(file.split(\"_\"))==1:\n",
    "         temp=file.split(\".\")[0]+\".wav\"\n",
    "    elif len(file.split(\"_\"))==2:  \n",
    "        temp=file.split(\"_\")[0]+\".wav\" \n",
    "    try:   \n",
    "        label=curated_data[curated_data[\"fname\"]==temp].iloc[0][\"labels\"]\n",
    "    except IndexError:    \n",
    "        label=curated_data[curated_data[\"fname\"]==temp].iloc[0][\"labels\"]\n",
    "    temp_label.append(label)"
   ]
  },
  {
   "cell_type": "code",
   "execution_count": 5,
   "metadata": {
    "execution": {
     "iopub.execute_input": "2020-10-05T19:46:00.828635Z",
     "iopub.status.busy": "2020-10-05T19:46:00.827518Z",
     "iopub.status.idle": "2020-10-05T19:46:00.831151Z",
     "shell.execute_reply": "2020-10-05T19:46:00.830523Z"
    },
    "papermill": {
     "duration": 0.040581,
     "end_time": "2020-10-05T19:46:00.831291",
     "exception": false,
     "start_time": "2020-10-05T19:46:00.790710",
     "status": "completed"
    },
    "tags": []
   },
   "outputs": [],
   "source": [
    "data=pd.DataFrame({\"fname\":temp_fname,\"labels\":temp_label})"
   ]
  },
  {
   "cell_type": "markdown",
   "metadata": {
    "papermill": {
     "duration": 0.032459,
     "end_time": "2020-10-05T19:46:00.893766",
     "exception": false,
     "start_time": "2020-10-05T19:46:00.861307",
     "status": "completed"
    },
    "tags": []
   },
   "source": [
    "## Setting the paarameters for Spectrogaram"
   ]
  },
  {
   "cell_type": "code",
   "execution_count": 6,
   "metadata": {
    "execution": {
     "iopub.execute_input": "2020-10-05T19:46:00.962873Z",
     "iopub.status.busy": "2020-10-05T19:46:00.962122Z",
     "iopub.status.idle": "2020-10-05T19:46:01.756971Z",
     "shell.execute_reply": "2020-10-05T19:46:01.756282Z"
    },
    "papermill": {
     "duration": 0.832033,
     "end_time": "2020-10-05T19:46:01.757136",
     "exception": false,
     "start_time": "2020-10-05T19:46:00.925103",
     "status": "completed"
    },
    "tags": []
   },
   "outputs": [],
   "source": [
    "!mkdir ./sub"
   ]
  },
  {
   "cell_type": "markdown",
   "metadata": {
    "papermill": {
     "duration": 0.029967,
     "end_time": "2020-10-05T19:46:01.817836",
     "exception": false,
     "start_time": "2020-10-05T19:46:01.787869",
     "status": "completed"
    },
    "tags": []
   },
   "source": [
    "## Functions for loading .wav files and converting to Specrogram images"
   ]
  },
  {
   "cell_type": "code",
   "execution_count": 7,
   "metadata": {
    "execution": {
     "iopub.execute_input": "2020-10-05T19:46:01.894666Z",
     "iopub.status.busy": "2020-10-05T19:46:01.893847Z",
     "iopub.status.idle": "2020-10-05T19:46:01.897283Z",
     "shell.execute_reply": "2020-10-05T19:46:01.896499Z"
    },
    "papermill": {
     "duration": 0.045261,
     "end_time": "2020-10-05T19:46:01.897421",
     "exception": false,
     "start_time": "2020-10-05T19:46:01.852160",
     "status": "completed"
    },
    "tags": []
   },
   "outputs": [],
   "source": [
    "\n",
    "#Top Notebook in cometition to preprocess:https://www.kaggle.com/daisukelab/cnn-2d-basic-solution-powered-by-fast-ai\n",
    "\n",
    "class conf:\n",
    "    sampling_rate = 44100\n",
    "    duration = 2 # sec\n",
    "    hop_length = 347*duration # to make time steps 128\n",
    "    fmin = 20\n",
    "    fmax = sampling_rate // 2\n",
    "    n_mels = 128\n",
    "    n_fft = n_mels * 20\n",
    "    padmode = 'constant'\n",
    "    samples = sampling_rate * duration"
   ]
  },
  {
   "cell_type": "code",
   "execution_count": 8,
   "metadata": {
    "execution": {
     "iopub.execute_input": "2020-10-05T19:46:01.985844Z",
     "iopub.status.busy": "2020-10-05T19:46:01.970616Z",
     "iopub.status.idle": "2020-10-05T19:46:01.989753Z",
     "shell.execute_reply": "2020-10-05T19:46:01.989113Z"
    },
    "papermill": {
     "duration": 0.058856,
     "end_time": "2020-10-05T19:46:01.989894",
     "exception": false,
     "start_time": "2020-10-05T19:46:01.931038",
     "status": "completed"
    },
    "tags": []
   },
   "outputs": [],
   "source": [
    "def read_audio(conf, pathname, trim_long_data):\n",
    "    y, sr = librosa.load(pathname, sr=conf.sampling_rate)\n",
    "    # trim silence\n",
    "    if 0 < len(y): # workaround: 0 length causes error\n",
    "        y, _ = librosa.effects.trim(y) # trim, top_db=default(60)\n",
    "    # make it unified length to conf.samples\n",
    "    if len(y) > conf.samples: # long enough\n",
    "        if trim_long_data:\n",
    "            y = y[0:0+conf.samples]\n",
    "    else: # pad blank\n",
    "        padding = conf.samples - len(y)    # add padding at both ends\n",
    "        offset = padding // 2\n",
    "        y = np.pad(y, (offset, conf.samples - len(y) - offset), conf.padmode)\n",
    "    return y\n",
    "\n",
    "\n",
    "\n",
    "def audio_to_melspectrogram(conf, audio):\n",
    "    spectrogram = librosa.feature.melspectrogram(audio, \n",
    "                                                 sr=conf.sampling_rate,\n",
    "                                                 n_mels=conf.n_mels,\n",
    "                                                 hop_length=conf.hop_length,\n",
    "                                                 n_fft=conf.n_fft,\n",
    "                                                 fmin=conf.fmin,\n",
    "                                                 fmax=conf.fmax)\n",
    "    spectrogram = librosa.power_to_db(spectrogram)\n",
    "    spectrogram = spectrogram.astype(np.float32)\n",
    "    return spectrogram\n",
    "\n",
    "\n",
    "def show_melspectrogram(conf, mels, title='Log-frequency power spectrogram'):\n",
    "    librosa.display.specshow(mels, x_axis='time', y_axis='mel', \n",
    "                             sr=conf.sampling_rate, hop_length=conf.hop_length,\n",
    "                            fmin=conf.fmin, fmax=conf.fmax)\n",
    "    plt.colorbar(format='%+2.0f dB')\n",
    "    plt.title(title)\n",
    "    plt.show()\n",
    "\n",
    "\n",
    "def read_as_melspectrogram(conf, pathname, trim_long_data, debug_display=False):\n",
    "    x = read_audio(conf, pathname, trim_long_data)\n",
    "    mels = audio_to_melspectrogram(conf, x)\n",
    "    if debug_display:\n",
    "        IPython.display.display(IPython.display.Audio(x, rate=conf.sampling_rate))\n",
    "        show_melspectrogram(conf, mels)\n",
    "    return mels\n",
    "\n",
    "def convert_wav_to_image(df, source):\n",
    "    X = []\n",
    "    for i, row in tqdm_notebook(df.iterrows()):\n",
    "        x = read_as_melspectrogram(conf, source/str(row.fname), trim_long_data=False)\n",
    "        x_color = mono_to_color(x)\n",
    "        X.append(x_color)\n",
    "    return X\n",
    "\n",
    "def get_default_conf():\n",
    "    return conf\n"
   ]
  },
  {
   "cell_type": "code",
   "execution_count": 9,
   "metadata": {
    "execution": {
     "iopub.execute_input": "2020-10-05T19:46:02.065268Z",
     "iopub.status.busy": "2020-10-05T19:46:02.064378Z",
     "iopub.status.idle": "2020-10-05T19:46:02.072613Z",
     "shell.execute_reply": "2020-10-05T19:46:02.071815Z"
    },
    "papermill": {
     "duration": 0.04765,
     "end_time": "2020-10-05T19:46:02.072742",
     "exception": false,
     "start_time": "2020-10-05T19:46:02.025092",
     "status": "completed"
    },
    "tags": []
   },
   "outputs": [],
   "source": [
    "def create_spectrogram(x,name,data_type):\n",
    "    plt.interactive(False)\n",
    "    #clip, sample_rate = librosa.load(filename, sr=None)\n",
    "    fig = plt.figure(figsize=[0.72,0.72])\n",
    "    ax = fig.add_subplot(111)\n",
    "    ax.axes.get_xaxis().set_visible(False)\n",
    "    ax.axes.get_yaxis().set_visible(False)\n",
    "    ax.set_frame_on(False)\n",
    "    librosa.display.specshow(x, x_axis='time', y_axis='mel', \n",
    "                             sr=conf.sampling_rate, hop_length=conf.hop_length,\n",
    "                            fmin=conf.fmin, fmax=conf.fmax)\n",
    "    #show_melspectrogram(conf, x)\n",
    "    filename  = Path('./'+data_type+'/' + name + '.jpg')\n",
    "    fig.savefig(filename, dpi=400, bbox_inches='tight',pad_inches=0)\n",
    "    plt.close()    \n",
    "    fig.clf()\n",
    "    plt.close(fig)\n",
    "    plt.close('all')\n",
    "    del name,fig,ax "
   ]
  },
  {
   "cell_type": "markdown",
   "metadata": {
    "papermill": {
     "duration": 0.031108,
     "end_time": "2020-10-05T19:46:02.135902",
     "exception": false,
     "start_time": "2020-10-05T19:46:02.104794",
     "status": "completed"
    },
    "tags": []
   },
   "source": [
    "## final_fun_1 defination which will return predictions of input .wav files"
   ]
  },
  {
   "cell_type": "code",
   "execution_count": 10,
   "metadata": {
    "execution": {
     "iopub.execute_input": "2020-10-05T19:46:02.216403Z",
     "iopub.status.busy": "2020-10-05T19:46:02.215232Z",
     "iopub.status.idle": "2020-10-05T19:46:02.218474Z",
     "shell.execute_reply": "2020-10-05T19:46:02.219406Z"
    },
    "papermill": {
     "duration": 0.053474,
     "end_time": "2020-10-05T19:46:02.219749",
     "exception": false,
     "start_time": "2020-10-05T19:46:02.166275",
     "status": "completed"
    },
    "tags": []
   },
   "outputs": [],
   "source": [
    "def final_fun_1(DIR):\n",
    "    \n",
    "    raw_data=os.listdir(DIR)\n",
    "\n",
    "    conf = get_default_conf()\n",
    "    \n",
    "    \n",
    "    for fileName in tqdm(raw_data):\n",
    "             if fileName==\"desktop.ini\":\n",
    "                continue\n",
    "             x=read_as_melspectrogram(conf, DIR+fileName, trim_long_data=True,debug_display=False)\n",
    "             create_spectrogram(x,fileName.split(\".\")[0],\"./sub/\")\n",
    "    \n",
    "    \n",
    "    ## Loading Images\n",
    "    test_datagen=ImageDataGenerator(rescale=1./255.)\n",
    "    test_generator=test_datagen.flow_from_dataframe(\n",
    "        dataframe=pd.DataFrame({\"fname\":[i.split(\".\")[0]+\".jpg\"for i in os.listdir(DIR)]}),\n",
    "        directory=\"./sub/\",\n",
    "        x_col=\"fname\",\n",
    "        y_col=None,\n",
    "        batch_size=64,\n",
    "        seed=42,\n",
    "        shuffle=False,\n",
    "        class_mode=None,\n",
    "        target_size=(128,128))\n",
    "    STEP_SIZE_TEST=test_generator.n//test_generator.batch_size\n",
    "    \n",
    "    \n",
    "    \n",
    "    \n",
    "    \n",
    "    # Loading Model\n",
    "    image_input = Input(shape=(128,128, 3))\n",
    "    model = DenseNet169(input_tensor=image_input, include_top=True)\n",
    "    last_layer = model.get_layer('avg_pool').output\n",
    "    x= Flatten(name='flatten')(last_layer)\n",
    "    x= Dense(80)(x)\n",
    "    output = Activation('sigmoid')(x)\n",
    "    Final_model = Model(inputs=image_input,outputs= output)\n",
    "    Final_model.load_weights(\"../input/sc2finalsub/DenseNetTotal.best_weights.hdf5\")\n",
    "    \n",
    "    test_generator.reset()\n",
    "    res_test=Final_model.predict_generator(test_generator,verbose=1)\n",
    "    \n",
    "    return res_test\n",
    "    "
   ]
  },
  {
   "cell_type": "code",
   "execution_count": 11,
   "metadata": {
    "execution": {
     "iopub.execute_input": "2020-10-05T19:46:02.291240Z",
     "iopub.status.busy": "2020-10-05T19:46:02.290412Z",
     "iopub.status.idle": "2020-10-05T19:46:33.974168Z",
     "shell.execute_reply": "2020-10-05T19:46:33.973346Z"
    },
    "papermill": {
     "duration": 31.722485,
     "end_time": "2020-10-05T19:46:33.974307",
     "exception": false,
     "start_time": "2020-10-05T19:46:02.251822",
     "status": "completed"
    },
    "tags": []
   },
   "outputs": [
    {
     "name": "stderr",
     "output_type": "stream",
     "text": [
      "100%|██████████| 101/101 [00:11<00:00,  9.10it/s]\n",
      "/opt/conda/lib/python3.7/site-packages/keras_preprocessing/image/dataframe_iterator.py:282: UserWarning: Found 1 invalid image filename(s) in x_col=\"fname\". These filename(s) will be ignored.\n",
      "  .format(n_invalid, x_col)\n"
     ]
    },
    {
     "name": "stdout",
     "output_type": "stream",
     "text": [
      "Found 100 validated image filenames.\n",
      "Downloading data from https://storage.googleapis.com/tensorflow/keras-applications/densenet/densenet169_weights_tf_dim_ordering_tf_kernels.h5\n",
      "58548224/58541896 [==============================] - 3s 0us/step\n",
      "2/2 [==============================] - 1s 536ms/step\n"
     ]
    }
   ],
   "source": [
    "DIR=\"../input/sc2finalsub/train_curated 100/train_curated/\"\n",
    "result=final_fun_1(DIR)"
   ]
  },
  {
   "cell_type": "code",
   "execution_count": 12,
   "metadata": {
    "execution": {
     "iopub.execute_input": "2020-10-05T19:46:34.118317Z",
     "iopub.status.busy": "2020-10-05T19:46:34.117259Z",
     "iopub.status.idle": "2020-10-05T19:46:34.122529Z",
     "shell.execute_reply": "2020-10-05T19:46:34.121810Z"
    },
    "papermill": {
     "duration": 0.079001,
     "end_time": "2020-10-05T19:46:34.122659",
     "exception": false,
     "start_time": "2020-10-05T19:46:34.043658",
     "status": "completed"
    },
    "tags": []
   },
   "outputs": [
    {
     "data": {
      "text/plain": [
       "(100, 80)"
      ]
     },
     "execution_count": 12,
     "metadata": {},
     "output_type": "execute_result"
    }
   ],
   "source": [
    "result.shape"
   ]
  },
  {
   "cell_type": "code",
   "execution_count": 13,
   "metadata": {
    "execution": {
     "iopub.execute_input": "2020-10-05T19:46:34.273011Z",
     "iopub.status.busy": "2020-10-05T19:46:34.272101Z",
     "iopub.status.idle": "2020-10-05T19:46:34.279751Z",
     "shell.execute_reply": "2020-10-05T19:46:34.279120Z"
    },
    "papermill": {
     "duration": 0.08696,
     "end_time": "2020-10-05T19:46:34.279900",
     "exception": false,
     "start_time": "2020-10-05T19:46:34.192940",
     "status": "completed"
    },
    "tags": []
   },
   "outputs": [],
   "source": [
    "import pickle\n",
    "labels = pickle.load( open( \"../input/sc2finalsub/labels.pkl\", \"rb\" ) )"
   ]
  },
  {
   "cell_type": "code",
   "execution_count": 14,
   "metadata": {
    "execution": {
     "iopub.execute_input": "2020-10-05T19:46:34.435975Z",
     "iopub.status.busy": "2020-10-05T19:46:34.435062Z",
     "iopub.status.idle": "2020-10-05T19:46:34.438502Z",
     "shell.execute_reply": "2020-10-05T19:46:34.439411Z"
    },
    "papermill": {
     "duration": 0.086545,
     "end_time": "2020-10-05T19:46:34.439624",
     "exception": false,
     "start_time": "2020-10-05T19:46:34.353079",
     "status": "completed"
    },
    "tags": []
   },
   "outputs": [
    {
     "name": "stdout",
     "output_type": "stream",
     "text": [
      "['Drip', 'Raindrop']\n"
     ]
    }
   ],
   "source": [
    "index=82\n",
    "temp_labels=[labels[\"labels\"][j] for j,i in enumerate(list(result[index])) if i>=0.5]\n",
    "if len(temp_labels)==0:\n",
    "   temp=labels[\"labels\"][np.argmax(result[index])]\n",
    "   print(temp)\n",
    "else:\n",
    "    print(temp_labels)"
   ]
  },
  {
   "cell_type": "markdown",
   "metadata": {
    "papermill": {
     "duration": 0.070687,
     "end_time": "2020-10-05T19:46:34.584125",
     "exception": false,
     "start_time": "2020-10-05T19:46:34.513438",
     "status": "completed"
    },
    "tags": []
   },
   "source": [
    "## Result of final_fun_1"
   ]
  },
  {
   "cell_type": "code",
   "execution_count": 15,
   "metadata": {
    "execution": {
     "iopub.execute_input": "2020-10-05T19:46:34.737762Z",
     "iopub.status.busy": "2020-10-05T19:46:34.736896Z",
     "iopub.status.idle": "2020-10-05T19:46:34.741134Z",
     "shell.execute_reply": "2020-10-05T19:46:34.740481Z"
    },
    "papermill": {
     "duration": 0.085784,
     "end_time": "2020-10-05T19:46:34.741279",
     "exception": false,
     "start_time": "2020-10-05T19:46:34.655495",
     "status": "completed"
    },
    "tags": []
   },
   "outputs": [
    {
     "name": "stdout",
     "output_type": "stream",
     "text": [
      "['Cupboard_open_or_close', 'Squeak']\n"
     ]
    }
   ],
   "source": [
    "index=74\n",
    "temp_labels=[labels[\"labels\"][j] for j,i in enumerate(list(result[index])) if i>=0.5]\n",
    "if len(temp_labels)==0:\n",
    "   temp=labels[\"labels\"][np.argmax(result[index])]\n",
    "   print(temp)\n",
    "else:\n",
    "    print(temp_labels)"
   ]
  },
  {
   "cell_type": "code",
   "execution_count": 16,
   "metadata": {
    "execution": {
     "iopub.execute_input": "2020-10-05T19:46:34.895749Z",
     "iopub.status.busy": "2020-10-05T19:46:34.894665Z",
     "iopub.status.idle": "2020-10-05T19:46:34.900102Z",
     "shell.execute_reply": "2020-10-05T19:46:34.899228Z"
    },
    "papermill": {
     "duration": 0.0879,
     "end_time": "2020-10-05T19:46:34.900250",
     "exception": false,
     "start_time": "2020-10-05T19:46:34.812350",
     "status": "completed"
    },
    "tags": []
   },
   "outputs": [
    {
     "name": "stdout",
     "output_type": "stream",
     "text": [
      "['Fill_(with_liquid)', 'Sink_(filling_or_washing)']\n"
     ]
    }
   ],
   "source": [
    "index=71\n",
    "temp_labels=[labels[\"labels\"][j] for j,i in enumerate(list(result[index])) if i>=0.5]\n",
    "if len(temp_labels)==0:\n",
    "   temp=labels[\"labels\"][np.argmax(result[index])]\n",
    "   print(temp)\n",
    "else:\n",
    "    print(temp_labels)"
   ]
  },
  {
   "cell_type": "code",
   "execution_count": 17,
   "metadata": {
    "execution": {
     "iopub.execute_input": "2020-10-05T19:46:35.060498Z",
     "iopub.status.busy": "2020-10-05T19:46:35.059337Z",
     "iopub.status.idle": "2020-10-05T19:46:35.062789Z",
     "shell.execute_reply": "2020-10-05T19:46:35.062017Z"
    },
    "papermill": {
     "duration": 0.087082,
     "end_time": "2020-10-05T19:46:35.062948",
     "exception": false,
     "start_time": "2020-10-05T19:46:34.975866",
     "status": "completed"
    },
    "tags": []
   },
   "outputs": [],
   "source": [
    "\n",
    "def convert_to_bool(df, col_name):\n",
    "    df[col_name] = np.where(df[col_name] >= 0.5, True, False)\n",
    "    \n",
    "def convert_dataframe_to_bool(df):\n",
    "    bool_df = df.copy()\n",
    "    for col in target_columns:\n",
    "        convert_to_bool(bool_df, col)\n",
    "    return bool_df"
   ]
  },
  {
   "cell_type": "code",
   "execution_count": 18,
   "metadata": {
    "execution": {
     "iopub.execute_input": "2020-10-05T19:46:35.228818Z",
     "iopub.status.busy": "2020-10-05T19:46:35.228040Z",
     "iopub.status.idle": "2020-10-05T19:46:35.232660Z",
     "shell.execute_reply": "2020-10-05T19:46:35.232038Z"
    },
    "papermill": {
     "duration": 0.0923,
     "end_time": "2020-10-05T19:46:35.232800",
     "exception": false,
     "start_time": "2020-10-05T19:46:35.140500",
     "status": "completed"
    },
    "tags": []
   },
   "outputs": [],
   "source": [
    "from sklearn.preprocessing import MultiLabelBinarizer\n",
    "\n",
    "mlb_train = labels[\"mlb_train\"]\n",
    "labels_test = mlb_train.transform([ i.split(\",\") for i in list(data[\"labels\"])])\n"
   ]
  },
  {
   "cell_type": "code",
   "execution_count": 19,
   "metadata": {
    "execution": {
     "iopub.execute_input": "2020-10-05T19:46:35.394139Z",
     "iopub.status.busy": "2020-10-05T19:46:35.392965Z",
     "iopub.status.idle": "2020-10-05T19:46:35.397973Z",
     "shell.execute_reply": "2020-10-05T19:46:35.397187Z"
    },
    "papermill": {
     "duration": 0.08824,
     "end_time": "2020-10-05T19:46:35.398108",
     "exception": false,
     "start_time": "2020-10-05T19:46:35.309868",
     "status": "completed"
    },
    "tags": []
   },
   "outputs": [
    {
     "data": {
      "text/plain": [
       "array([0, 0, 0, 0, 0, 0, 0, 0, 0, 0, 0, 0, 0, 0, 0, 0, 0, 0, 0, 0, 0, 0,\n",
       "       0, 0, 0, 0, 0, 0, 0, 0, 0, 0, 0, 0, 0, 0, 0, 0, 0, 0, 0, 0, 1, 0,\n",
       "       0, 0, 0, 0, 0, 0, 0, 0, 0, 0, 0, 0, 0, 0, 0, 0, 0, 0, 0, 0, 0, 0,\n",
       "       0, 0, 0, 0, 0, 0, 0, 0, 0, 0, 0, 0, 0, 0])"
      ]
     },
     "execution_count": 19,
     "metadata": {},
     "output_type": "execute_result"
    }
   ],
   "source": [
    "labels_test[0]"
   ]
  },
  {
   "cell_type": "code",
   "execution_count": 20,
   "metadata": {
    "execution": {
     "iopub.execute_input": "2020-10-05T19:46:35.566347Z",
     "iopub.status.busy": "2020-10-05T19:46:35.565277Z",
     "iopub.status.idle": "2020-10-05T19:46:35.568723Z",
     "shell.execute_reply": "2020-10-05T19:46:35.568061Z"
    },
    "papermill": {
     "duration": 0.090766,
     "end_time": "2020-10-05T19:46:35.568854",
     "exception": false,
     "start_time": "2020-10-05T19:46:35.478088",
     "status": "completed"
    },
    "tags": []
   },
   "outputs": [],
   "source": [
    "testmultidf=pd.DataFrame(data=labels_test,columns=list(mlb_train.classes_))\n",
    "testmultidf[\"fname\"]=list(data[\"fname\"])"
   ]
  },
  {
   "cell_type": "code",
   "execution_count": 21,
   "metadata": {
    "execution": {
     "iopub.execute_input": "2020-10-05T19:46:35.728029Z",
     "iopub.status.busy": "2020-10-05T19:46:35.727220Z",
     "iopub.status.idle": "2020-10-05T19:46:35.804517Z",
     "shell.execute_reply": "2020-10-05T19:46:35.803633Z"
    },
    "papermill": {
     "duration": 0.159464,
     "end_time": "2020-10-05T19:46:35.804658",
     "exception": false,
     "start_time": "2020-10-05T19:46:35.645194",
     "status": "completed"
    },
    "tags": []
   },
   "outputs": [],
   "source": [
    "target_columns=list(testmultidf.columns)[:-1]\n",
    "train_bool = convert_dataframe_to_bool(testmultidf) \n",
    "train_lable_bool=train_bool[list(train_bool.columns)[:-1]].to_numpy()"
   ]
  },
  {
   "cell_type": "code",
   "execution_count": 22,
   "metadata": {
    "execution": {
     "iopub.execute_input": "2020-10-05T19:46:35.959156Z",
     "iopub.status.busy": "2020-10-05T19:46:35.958044Z",
     "iopub.status.idle": "2020-10-05T19:46:35.963100Z",
     "shell.execute_reply": "2020-10-05T19:46:35.962307Z"
    },
    "papermill": {
     "duration": 0.084202,
     "end_time": "2020-10-05T19:46:35.963235",
     "exception": false,
     "start_time": "2020-10-05T19:46:35.879033",
     "status": "completed"
    },
    "tags": []
   },
   "outputs": [
    {
     "data": {
      "text/plain": [
       "array([[False, False, False, ..., False, False, False],\n",
       "       [False, False, False, ..., False, False, False],\n",
       "       [False,  True, False, ..., False, False, False],\n",
       "       ...,\n",
       "       [False, False, False, ..., False, False, False],\n",
       "       [False, False, False, ..., False, False, False],\n",
       "       [False, False, False, ..., False, False, False]])"
      ]
     },
     "execution_count": 22,
     "metadata": {},
     "output_type": "execute_result"
    }
   ],
   "source": [
    "train_lable_bool"
   ]
  },
  {
   "cell_type": "markdown",
   "metadata": {
    "papermill": {
     "duration": 0.075129,
     "end_time": "2020-10-05T19:46:36.115148",
     "exception": false,
     "start_time": "2020-10-05T19:46:36.040019",
     "status": "completed"
    },
    "tags": []
   },
   "source": [
    "# Evaluation Metric"
   ]
  },
  {
   "cell_type": "code",
   "execution_count": 23,
   "metadata": {
    "execution": {
     "iopub.execute_input": "2020-10-05T19:46:36.272512Z",
     "iopub.status.busy": "2020-10-05T19:46:36.271518Z",
     "iopub.status.idle": "2020-10-05T19:46:36.274952Z",
     "shell.execute_reply": "2020-10-05T19:46:36.274331Z"
    },
    "papermill": {
     "duration": 0.085439,
     "end_time": "2020-10-05T19:46:36.275086",
     "exception": false,
     "start_time": "2020-10-05T19:46:36.189647",
     "status": "completed"
    },
    "tags": []
   },
   "outputs": [],
   "source": [
    "import numpy as np\n",
    "import sklearn.metrics"
   ]
  },
  {
   "cell_type": "code",
   "execution_count": 24,
   "metadata": {
    "execution": {
     "iopub.execute_input": "2020-10-05T19:46:36.436776Z",
     "iopub.status.busy": "2020-10-05T19:46:36.435993Z",
     "iopub.status.idle": "2020-10-05T19:46:36.439581Z",
     "shell.execute_reply": "2020-10-05T19:46:36.438812Z"
    },
    "papermill": {
     "duration": 0.090282,
     "end_time": "2020-10-05T19:46:36.439706",
     "exception": false,
     "start_time": "2020-10-05T19:46:36.349424",
     "status": "completed"
    },
    "tags": []
   },
   "outputs": [],
   "source": [
    "# All-in-one calculation of per-class lwlrap.\n",
    "\n",
    "def calculate_per_class_lwlrap(truth, scores):\n",
    "  \"\"\"Calculate label-weighted label-ranking average precision.\n",
    "  \n",
    "  Arguments:\n",
    "    truth: np.array of (num_samples, num_classes) giving boolean ground-truth\n",
    "      of presence of that class in that sample.\n",
    "    scores: np.array of (num_samples, num_classes) giving the classifier-under-\n",
    "      test's real-valued score for each class for each sample.\n",
    "  \n",
    "  Returns:\n",
    "    per_class_lwlrap: np.array of (num_classes,) giving the lwlrap for each \n",
    "      class.\n",
    "    weight_per_class: np.array of (num_classes,) giving the prior of each \n",
    "      class within the truth labels.  Then the overall unbalanced lwlrap is \n",
    "      simply np.sum(per_class_lwlrap * weight_per_class)\n",
    "  \"\"\"\n",
    "  assert truth.shape == scores.shape\n",
    "  num_samples, num_classes = scores.shape\n",
    "  # Space to store a distinct precision value for each class on each sample.\n",
    "  # Only the classes that are true for each sample will be filled in.\n",
    "  precisions_for_samples_by_classes = np.zeros((num_samples, num_classes))\n",
    "  for sample_num in range(num_samples):\n",
    "    pos_class_indices, precision_at_hits = (\n",
    "      _one_sample_positive_class_precisions(scores[sample_num, :], \n",
    "                                            truth[sample_num, :]))\n",
    "    precisions_for_samples_by_classes[sample_num, pos_class_indices] = (\n",
    "        precision_at_hits)\n",
    "  labels_per_class = np.sum(truth > 0, axis=0)\n",
    "  weight_per_class = labels_per_class / float(np.sum(labels_per_class))\n",
    "  # Form average of each column, i.e. all the precisions assigned to labels in\n",
    "  # a particular class.\n",
    "  per_class_lwlrap = (np.sum(precisions_for_samples_by_classes, axis=0) / \n",
    "                      np.maximum(1, labels_per_class))\n",
    "  # overall_lwlrap = simple average of all the actual per-class, per-sample precisions\n",
    "  #                = np.sum(precisions_for_samples_by_classes) / np.sum(precisions_for_samples_by_classes > 0)\n",
    "  #           also = weighted mean of per-class lwlraps, weighted by class label prior across samples\n",
    "  #                = np.sum(per_class_lwlrap * weight_per_class)\n",
    "  return per_class_lwlrap, weight_per_class"
   ]
  },
  {
   "cell_type": "code",
   "execution_count": 25,
   "metadata": {
    "execution": {
     "iopub.execute_input": "2020-10-05T19:46:36.612566Z",
     "iopub.status.busy": "2020-10-05T19:46:36.611560Z",
     "iopub.status.idle": "2020-10-05T19:46:36.615411Z",
     "shell.execute_reply": "2020-10-05T19:46:36.614641Z"
    },
    "papermill": {
     "duration": 0.097864,
     "end_time": "2020-10-05T19:46:36.615548",
     "exception": false,
     "start_time": "2020-10-05T19:46:36.517684",
     "status": "completed"
    },
    "tags": []
   },
   "outputs": [],
   "source": [
    "# Calculate the overall lwlrap using sklearn.metrics function.\n",
    "\n",
    "def calculate_overall_lwlrap_sklearn(truth, scores):\n",
    "  \"\"\"Calculate the overall lwlrap using sklearn.metrics.lrap.\"\"\"\n",
    "  # sklearn doesn't correctly apply weighting to samples with no labels, so just skip them.\n",
    "  sample_weight = np.sum(truth > 0, axis=1)\n",
    "  nonzero_weight_sample_indices = np.flatnonzero(sample_weight > 0)\n",
    "  overall_lwlrap = sklearn.metrics.label_ranking_average_precision_score(\n",
    "      truth[nonzero_weight_sample_indices, :] > 0, \n",
    "      scores[nonzero_weight_sample_indices, :], \n",
    "      sample_weight=sample_weight[nonzero_weight_sample_indices])\n",
    "  return overall_lwlrap"
   ]
  },
  {
   "cell_type": "code",
   "execution_count": 26,
   "metadata": {
    "execution": {
     "iopub.execute_input": "2020-10-05T19:46:36.788771Z",
     "iopub.status.busy": "2020-10-05T19:46:36.783435Z",
     "iopub.status.idle": "2020-10-05T19:46:36.795984Z",
     "shell.execute_reply": "2020-10-05T19:46:36.795182Z"
    },
    "papermill": {
     "duration": 0.101852,
     "end_time": "2020-10-05T19:46:36.796134",
     "exception": false,
     "start_time": "2020-10-05T19:46:36.694282",
     "status": "completed"
    },
    "tags": []
   },
   "outputs": [],
   "source": [
    "# Accumulator object version.\n",
    "\n",
    "class lwlrap_accumulator(object):\n",
    "  \"\"\"Accumulate batches of test samples into per-class and overall lwlrap.\"\"\"  \n",
    "\n",
    "  def __init__(self):\n",
    "    self.num_classes = 0\n",
    "    self.total_num_samples = 0\n",
    "  \n",
    "  def accumulate_samples(self, batch_truth, batch_scores):\n",
    "    \"\"\"Cumulate a new batch of samples into the metric.\n",
    "    \n",
    "    Args:\n",
    "      truth: np.array of (num_samples, num_classes) giving boolean\n",
    "        ground-truth of presence of that class in that sample for this batch.\n",
    "      scores: np.array of (num_samples, num_classes) giving the \n",
    "        classifier-under-test's real-valued score for each class for each\n",
    "        sample.\n",
    "    \"\"\"\n",
    "    assert batch_scores.shape == batch_truth.shape\n",
    "    num_samples, num_classes = batch_truth.shape\n",
    "    if not self.num_classes:\n",
    "      self.num_classes = num_classes\n",
    "      self._per_class_cumulative_precision = np.zeros(self.num_classes)\n",
    "      self._per_class_cumulative_count = np.zeros(self.num_classes, \n",
    "                                                  dtype=np.int)\n",
    "    assert num_classes == self.num_classes\n",
    "    for truth, scores in zip(batch_truth, batch_scores):\n",
    "      pos_class_indices, precision_at_hits = (\n",
    "        _one_sample_positive_class_precisions(scores, truth))\n",
    "      self._per_class_cumulative_precision[pos_class_indices] += (\n",
    "        precision_at_hits)\n",
    "      self._per_class_cumulative_count[pos_class_indices] += 1\n",
    "    self.total_num_samples += num_samples\n",
    "\n",
    "  def per_class_lwlrap(self):\n",
    "    \"\"\"Return a vector of the per-class lwlraps for the accumulated samples.\"\"\"\n",
    "    return (self._per_class_cumulative_precision / \n",
    "            np.maximum(1, self._per_class_cumulative_count))\n",
    "\n",
    "  def per_class_weight(self):\n",
    "    \"\"\"Return a normalized weight vector for the contributions of each class.\"\"\"\n",
    "    return (self._per_class_cumulative_count / \n",
    "            float(np.sum(self._per_class_cumulative_count)))\n",
    "\n",
    "  def overall_lwlrap(self):\n",
    "    \"\"\"Return the scalar overall lwlrap for cumulated samples.\"\"\"\n",
    "    return np.sum(self.per_class_lwlrap() * self.per_class_weight())"
   ]
  },
  {
   "cell_type": "markdown",
   "metadata": {
    "papermill": {
     "duration": 0.084348,
     "end_time": "2020-10-05T19:46:36.959746",
     "exception": false,
     "start_time": "2020-10-05T19:46:36.875398",
     "status": "completed"
    },
    "tags": []
   },
   "source": [
    "## final_fun_2 defination which will return Scores of input .wav files"
   ]
  },
  {
   "cell_type": "code",
   "execution_count": 27,
   "metadata": {
    "execution": {
     "iopub.execute_input": "2020-10-05T19:46:37.121030Z",
     "iopub.status.busy": "2020-10-05T19:46:37.119977Z",
     "iopub.status.idle": "2020-10-05T19:46:37.123569Z",
     "shell.execute_reply": "2020-10-05T19:46:37.122973Z"
    },
    "papermill": {
     "duration": 0.086174,
     "end_time": "2020-10-05T19:46:37.123715",
     "exception": false,
     "start_time": "2020-10-05T19:46:37.037541",
     "status": "completed"
    },
    "tags": []
   },
   "outputs": [],
   "source": [
    "def final_fun_2(DIR,Y):\n",
    "    truth = Y\n",
    "    scores = final_fun_1(DIR)\n",
    "    return calculate_overall_lwlrap_sklearn(truth, scores)"
   ]
  },
  {
   "cell_type": "code",
   "execution_count": 28,
   "metadata": {
    "execution": {
     "iopub.execute_input": "2020-10-05T19:46:37.284607Z",
     "iopub.status.busy": "2020-10-05T19:46:37.283538Z",
     "iopub.status.idle": "2020-10-05T19:47:03.910095Z",
     "shell.execute_reply": "2020-10-05T19:47:03.909206Z"
    },
    "papermill": {
     "duration": 26.708523,
     "end_time": "2020-10-05T19:47:03.910249",
     "exception": false,
     "start_time": "2020-10-05T19:46:37.201726",
     "status": "completed"
    },
    "tags": []
   },
   "outputs": [
    {
     "name": "stderr",
     "output_type": "stream",
     "text": [
      "100%|██████████| 101/101 [00:10<00:00,  9.94it/s]\n",
      "/opt/conda/lib/python3.7/site-packages/keras_preprocessing/image/dataframe_iterator.py:282: UserWarning: Found 1 invalid image filename(s) in x_col=\"fname\". These filename(s) will be ignored.\n",
      "  .format(n_invalid, x_col)\n"
     ]
    },
    {
     "name": "stdout",
     "output_type": "stream",
     "text": [
      "Found 100 validated image filenames.\n",
      "2/2 [==============================] - 1s 707ms/step\n"
     ]
    }
   ],
   "source": [
    "DIR=\"../input/sc2finalsub/train_curated 100/train_curated/\"\n",
    "scores=final_fun_2(DIR,train_lable_bool)"
   ]
  },
  {
   "cell_type": "markdown",
   "metadata": {
    "papermill": {
     "duration": 0.109413,
     "end_time": "2020-10-05T19:47:04.139706",
     "exception": false,
     "start_time": "2020-10-05T19:47:04.030293",
     "status": "completed"
    },
    "tags": []
   },
   "source": [
    "## Result of final_fun_2  "
   ]
  },
  {
   "cell_type": "code",
   "execution_count": 29,
   "metadata": {
    "execution": {
     "iopub.execute_input": "2020-10-05T19:47:04.378870Z",
     "iopub.status.busy": "2020-10-05T19:47:04.376777Z",
     "iopub.status.idle": "2020-10-05T19:47:04.388942Z",
     "shell.execute_reply": "2020-10-05T19:47:04.387935Z"
    },
    "papermill": {
     "duration": 0.137374,
     "end_time": "2020-10-05T19:47:04.389105",
     "exception": false,
     "start_time": "2020-10-05T19:47:04.251731",
     "status": "completed"
    },
    "tags": []
   },
   "outputs": [
    {
     "data": {
      "text/plain": [
       "0.9443311766841179"
      ]
     },
     "execution_count": 29,
     "metadata": {},
     "output_type": "execute_result"
    }
   ],
   "source": [
    "scores"
   ]
  },
  {
   "cell_type": "code",
   "execution_count": null,
   "metadata": {
    "papermill": {
     "duration": 0.115268,
     "end_time": "2020-10-05T19:47:04.623104",
     "exception": false,
     "start_time": "2020-10-05T19:47:04.507836",
     "status": "completed"
    },
    "tags": []
   },
   "outputs": [],
   "source": []
  }
 ],
 "metadata": {
  "kernelspec": {
   "display_name": "Python 3",
   "language": "python",
   "name": "python3"
  },
  "language_info": {
   "codemirror_mode": {
    "name": "ipython",
    "version": 3
   },
   "file_extension": ".py",
   "mimetype": "text/x-python",
   "name": "python",
   "nbconvert_exporter": "python",
   "pygments_lexer": "ipython3",
   "version": "3.7.6"
  },
  "papermill": {
   "duration": 80.109238,
   "end_time": "2020-10-05T19:47:04.849049",
   "environment_variables": {},
   "exception": null,
   "input_path": "__notebook__.ipynb",
   "output_path": "__notebook__.ipynb",
   "parameters": {},
   "start_time": "2020-10-05T19:45:44.739811",
   "version": "2.1.0"
  }
 },
 "nbformat": 4,
 "nbformat_minor": 4
}
