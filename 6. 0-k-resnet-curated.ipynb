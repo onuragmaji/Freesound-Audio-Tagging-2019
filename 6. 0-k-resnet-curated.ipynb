{
 "cells": [
  {
   "cell_type": "code",
   "execution_count": 1,
   "metadata": {
    "_cell_guid": "b1076dfc-b9ad-4769-8c92-a6c4dae69d19",
    "_uuid": "8f2839f25d086af736a60e9eeb907d3b93b6e0e5",
    "execution": {
     "iopub.execute_input": "2020-10-02T05:40:04.019970Z",
     "iopub.status.busy": "2020-10-02T05:40:04.018984Z",
     "iopub.status.idle": "2020-10-02T05:40:04.021473Z",
     "shell.execute_reply": "2020-10-02T05:40:04.021916Z"
    },
    "papermill": {
     "duration": 0.054007,
     "end_time": "2020-10-02T05:40:04.022077",
     "exception": false,
     "start_time": "2020-10-02T05:40:03.968070",
     "status": "completed"
    },
    "tags": []
   },
   "outputs": [],
   "source": [
    "import numpy as np # linear algebra\n",
    "import pandas as pd # data processing, CSV file I/O (e.g. pd.read_csv)\n",
    "\n",
    "import os"
   ]
  },
  {
   "cell_type": "code",
   "execution_count": 2,
   "metadata": {
    "execution": {
     "iopub.execute_input": "2020-10-02T05:40:04.118939Z",
     "iopub.status.busy": "2020-10-02T05:40:04.118229Z",
     "iopub.status.idle": "2020-10-02T05:40:04.155750Z",
     "shell.execute_reply": "2020-10-02T05:40:04.155123Z"
    },
    "papermill": {
     "duration": 0.088895,
     "end_time": "2020-10-02T05:40:04.155873",
     "exception": false,
     "start_time": "2020-10-02T05:40:04.066978",
     "status": "completed"
    },
    "tags": []
   },
   "outputs": [],
   "source": [
    "traindf_noisy=pd.read_csv('../input/freesound-audio-tagging-2019/train_noisy.csv',dtype=str)\n",
    "\n",
    "traindf_curated=pd.read_csv('../input/freesound-audio-tagging-2019/train_curated.csv',dtype=str)"
   ]
  },
  {
   "cell_type": "code",
   "execution_count": 3,
   "metadata": {
    "execution": {
     "iopub.execute_input": "2020-10-02T05:40:04.258472Z",
     "iopub.status.busy": "2020-10-02T05:40:04.257792Z",
     "iopub.status.idle": "2020-10-02T05:40:04.265104Z",
     "shell.execute_reply": "2020-10-02T05:40:04.265688Z"
    },
    "papermill": {
     "duration": 0.064719,
     "end_time": "2020-10-02T05:40:04.265810",
     "exception": false,
     "start_time": "2020-10-02T05:40:04.201091",
     "status": "completed"
    },
    "tags": []
   },
   "outputs": [
    {
     "data": {
      "text/html": [
       "<div>\n",
       "<style scoped>\n",
       "    .dataframe tbody tr th:only-of-type {\n",
       "        vertical-align: middle;\n",
       "    }\n",
       "\n",
       "    .dataframe tbody tr th {\n",
       "        vertical-align: top;\n",
       "    }\n",
       "\n",
       "    .dataframe thead th {\n",
       "        text-align: right;\n",
       "    }\n",
       "</style>\n",
       "<table border=\"1\" class=\"dataframe\">\n",
       "  <thead>\n",
       "    <tr style=\"text-align: right;\">\n",
       "      <th></th>\n",
       "      <th>fname</th>\n",
       "      <th>labels</th>\n",
       "    </tr>\n",
       "  </thead>\n",
       "  <tbody>\n",
       "    <tr>\n",
       "      <th>0</th>\n",
       "      <td>00097e21.wav</td>\n",
       "      <td>Bathtub_(filling_or_washing)</td>\n",
       "    </tr>\n",
       "    <tr>\n",
       "      <th>1</th>\n",
       "      <td>000b6cfb.wav</td>\n",
       "      <td>Motorcycle</td>\n",
       "    </tr>\n",
       "    <tr>\n",
       "      <th>2</th>\n",
       "      <td>00116cd2.wav</td>\n",
       "      <td>Marimba_and_xylophone,Glockenspiel</td>\n",
       "    </tr>\n",
       "    <tr>\n",
       "      <th>3</th>\n",
       "      <td>00127d14.wav</td>\n",
       "      <td>Water_tap_and_faucet,Sink_(filling_or_washing)</td>\n",
       "    </tr>\n",
       "    <tr>\n",
       "      <th>4</th>\n",
       "      <td>0019adae.wav</td>\n",
       "      <td>Raindrop</td>\n",
       "    </tr>\n",
       "  </tbody>\n",
       "</table>\n",
       "</div>"
      ],
      "text/plain": [
       "          fname                                          labels\n",
       "0  00097e21.wav                    Bathtub_(filling_or_washing)\n",
       "1  000b6cfb.wav                                      Motorcycle\n",
       "2  00116cd2.wav              Marimba_and_xylophone,Glockenspiel\n",
       "3  00127d14.wav  Water_tap_and_faucet,Sink_(filling_or_washing)\n",
       "4  0019adae.wav                                        Raindrop"
      ]
     },
     "execution_count": 3,
     "metadata": {},
     "output_type": "execute_result"
    }
   ],
   "source": [
    "traindf_noisy.head()"
   ]
  },
  {
   "cell_type": "markdown",
   "metadata": {},
   "source": [
    "# Loading 0-K Fold Curated Train, CV and Test data"
   ]
  },
  {
   "cell_type": "code",
   "execution_count": 4,
   "metadata": {
    "execution": {
     "iopub.execute_input": "2020-10-02T05:40:04.362941Z",
     "iopub.status.busy": "2020-10-02T05:40:04.361955Z",
     "iopub.status.idle": "2020-10-02T05:40:04.377888Z",
     "shell.execute_reply": "2020-10-02T05:40:04.377425Z"
    },
    "papermill": {
     "duration": 0.067187,
     "end_time": "2020-10-02T05:40:04.377988",
     "exception": false,
     "start_time": "2020-10-02T05:40:04.310801",
     "status": "completed"
    },
    "tags": []
   },
   "outputs": [
    {
     "data": {
      "text/html": [
       "<div>\n",
       "<style scoped>\n",
       "    .dataframe tbody tr th:only-of-type {\n",
       "        vertical-align: middle;\n",
       "    }\n",
       "\n",
       "    .dataframe tbody tr th {\n",
       "        vertical-align: top;\n",
       "    }\n",
       "\n",
       "    .dataframe thead th {\n",
       "        text-align: right;\n",
       "    }\n",
       "</style>\n",
       "<table border=\"1\" class=\"dataframe\">\n",
       "  <thead>\n",
       "    <tr style=\"text-align: right;\">\n",
       "      <th></th>\n",
       "      <th>fname</th>\n",
       "      <th>labels</th>\n",
       "    </tr>\n",
       "  </thead>\n",
       "  <tbody>\n",
       "    <tr>\n",
       "      <th>0</th>\n",
       "      <td>d349d1c7_aug.jpg</td>\n",
       "      <td>Cutlery_and_silverware,Dishes_and_pots_and_pans</td>\n",
       "    </tr>\n",
       "    <tr>\n",
       "      <th>1</th>\n",
       "      <td>e1c41fe6_aug.jpg</td>\n",
       "      <td>Burping_and_eructation</td>\n",
       "    </tr>\n",
       "    <tr>\n",
       "      <th>2</th>\n",
       "      <td>d8b54599.jpg</td>\n",
       "      <td>Accelerating_and_revving_and_vroom</td>\n",
       "    </tr>\n",
       "    <tr>\n",
       "      <th>3</th>\n",
       "      <td>15d94574_aug.jpg</td>\n",
       "      <td>Mechanical_fan</td>\n",
       "    </tr>\n",
       "    <tr>\n",
       "      <th>4</th>\n",
       "      <td>05be25ad.jpg</td>\n",
       "      <td>Shatter</td>\n",
       "    </tr>\n",
       "  </tbody>\n",
       "</table>\n",
       "</div>"
      ],
      "text/plain": [
       "              fname                                           labels\n",
       "0  d349d1c7_aug.jpg  Cutlery_and_silverware,Dishes_and_pots_and_pans\n",
       "1  e1c41fe6_aug.jpg                           Burping_and_eructation\n",
       "2      d8b54599.jpg               Accelerating_and_revving_and_vroom\n",
       "3  15d94574_aug.jpg                                   Mechanical_fan\n",
       "4      05be25ad.jpg                                          Shatter"
      ]
     },
     "execution_count": 4,
     "metadata": {},
     "output_type": "execute_result"
    }
   ],
   "source": [
    "train_df = pd.read_csv(\"../input/sc2-total-aug-noisy-data/K_fold_data/K_fold_data/Curated/Curated_train_0.csv\")\n",
    "train_df.head()"
   ]
  },
  {
   "cell_type": "code",
   "execution_count": 5,
   "metadata": {
    "execution": {
     "iopub.execute_input": "2020-10-02T05:40:04.474449Z",
     "iopub.status.busy": "2020-10-02T05:40:04.473623Z",
     "iopub.status.idle": "2020-10-02T05:40:04.477532Z",
     "shell.execute_reply": "2020-10-02T05:40:04.476993Z"
    },
    "papermill": {
     "duration": 0.054165,
     "end_time": "2020-10-02T05:40:04.477627",
     "exception": false,
     "start_time": "2020-10-02T05:40:04.423462",
     "status": "completed"
    },
    "tags": []
   },
   "outputs": [
    {
     "data": {
      "text/plain": [
       "(6251, 2)"
      ]
     },
     "execution_count": 5,
     "metadata": {},
     "output_type": "execute_result"
    }
   ],
   "source": [
    "train_df.shape"
   ]
  },
  {
   "cell_type": "code",
   "execution_count": 6,
   "metadata": {
    "execution": {
     "iopub.execute_input": "2020-10-02T05:40:04.576575Z",
     "iopub.status.busy": "2020-10-02T05:40:04.575704Z",
     "iopub.status.idle": "2020-10-02T05:40:04.583887Z",
     "shell.execute_reply": "2020-10-02T05:40:04.583302Z"
    },
    "papermill": {
     "duration": 0.059236,
     "end_time": "2020-10-02T05:40:04.583987",
     "exception": false,
     "start_time": "2020-10-02T05:40:04.524751",
     "status": "completed"
    },
    "tags": []
   },
   "outputs": [
    {
     "data": {
      "text/plain": [
       "(1563, 2)"
      ]
     },
     "execution_count": 6,
     "metadata": {},
     "output_type": "execute_result"
    }
   ],
   "source": [
    "cv_df = pd.read_csv(\"../input/sc2-total-aug-noisy-data/K_fold_data/K_fold_data/Curated/Curated_cv_0.csv\")\n",
    "cv_df.shape"
   ]
  },
  {
   "cell_type": "code",
   "execution_count": 7,
   "metadata": {
    "execution": {
     "iopub.execute_input": "2020-10-02T05:40:04.683453Z",
     "iopub.status.busy": "2020-10-02T05:40:04.682704Z",
     "iopub.status.idle": "2020-10-02T05:40:04.691713Z",
     "shell.execute_reply": "2020-10-02T05:40:04.691208Z"
    },
    "papermill": {
     "duration": 0.060526,
     "end_time": "2020-10-02T05:40:04.691812",
     "exception": false,
     "start_time": "2020-10-02T05:40:04.631286",
     "status": "completed"
    },
    "tags": []
   },
   "outputs": [
    {
     "data": {
      "text/plain": [
       "(1380, 2)"
      ]
     },
     "execution_count": 7,
     "metadata": {},
     "output_type": "execute_result"
    }
   ],
   "source": [
    "    \n",
    "test_df = pd.read_csv(\"../input/sc2-total-aug-noisy-data/K_fold_data/K_fold_data/Curated/Curated_test.csv\") \n",
    "test_df.shape"
   ]
  },
  {
   "cell_type": "markdown",
   "metadata": {},
   "source": [
    "# Sklearn MultiLabelBinarizer to One-hot encode the multilablles"
   ]
  },
  {
   "cell_type": "code",
   "execution_count": 8,
   "metadata": {
    "execution": {
     "iopub.execute_input": "2020-10-02T05:40:04.795875Z",
     "iopub.status.busy": "2020-10-02T05:40:04.795147Z",
     "iopub.status.idle": "2020-10-02T05:40:05.721685Z",
     "shell.execute_reply": "2020-10-02T05:40:05.721115Z"
    },
    "papermill": {
     "duration": 0.982781,
     "end_time": "2020-10-02T05:40:05.721802",
     "exception": false,
     "start_time": "2020-10-02T05:40:04.739021",
     "status": "completed"
    },
    "tags": []
   },
   "outputs": [],
   "source": [
    "from sklearn.preprocessing import MultiLabelBinarizer\n",
    "\n",
    "mlb_train = MultiLabelBinarizer()\n",
    "\n",
    "\n",
    "labels_train = mlb_train.fit_transform([ i.split(\",\") for i in list(train_df[\"labels\"])])\n",
    "\n",
    "\n",
    "labels_test = mlb_train.transform([ i.split(\",\") for i in list(test_df[\"labels\"])])\n",
    "\n",
    "\n",
    "#mlb_cv = MultiLabelBinarizer()\n",
    "labels_cv = mlb_train.transform([ i.split(\",\") for i in list(cv_df[\"labels\"])])\n"
   ]
  },
  {
   "cell_type": "code",
   "execution_count": 9,
   "metadata": {
    "execution": {
     "iopub.execute_input": "2020-10-02T05:40:05.822552Z",
     "iopub.status.busy": "2020-10-02T05:40:05.821853Z",
     "iopub.status.idle": "2020-10-02T05:40:05.827296Z",
     "shell.execute_reply": "2020-10-02T05:40:05.826796Z"
    },
    "papermill": {
     "duration": 0.056071,
     "end_time": "2020-10-02T05:40:05.827401",
     "exception": false,
     "start_time": "2020-10-02T05:40:05.771330",
     "status": "completed"
    },
    "tags": []
   },
   "outputs": [
    {
     "data": {
      "text/plain": [
       "(1380, 80)"
      ]
     },
     "execution_count": 9,
     "metadata": {},
     "output_type": "execute_result"
    }
   ],
   "source": [
    "labels_test.shape"
   ]
  },
  {
   "cell_type": "code",
   "execution_count": 10,
   "metadata": {
    "execution": {
     "iopub.execute_input": "2020-10-02T05:40:05.933887Z",
     "iopub.status.busy": "2020-10-02T05:40:05.928925Z",
     "iopub.status.idle": "2020-10-02T05:40:05.936977Z",
     "shell.execute_reply": "2020-10-02T05:40:05.936498Z"
    },
    "papermill": {
     "duration": 0.063004,
     "end_time": "2020-10-02T05:40:05.937098",
     "exception": false,
     "start_time": "2020-10-02T05:40:05.874094",
     "status": "completed"
    },
    "tags": []
   },
   "outputs": [],
   "source": [
    "trainmultidf=pd.DataFrame(data=labels_train,columns=list(mlb_train.classes_))\n",
    "trainmultidf[\"fname\"]=list(train_df[\"fname\"])\n",
    "\n",
    "testmultidf=pd.DataFrame(data=labels_test,columns=list(mlb_train.classes_))\n",
    "testmultidf[\"fname\"]=list(test_df[\"fname\"])\n",
    "\n",
    "\n",
    "cvmultidf=pd.DataFrame(data=labels_cv,columns=list(mlb_train.classes_))\n",
    "cvmultidf[\"fname\"]=list(cv_df[\"fname\"])\n"
   ]
  },
  {
   "cell_type": "markdown",
   "metadata": {},
   "source": [
    "# Loading Preprocessed Spectrogram Images via ImageDataGenerator and adding augumnetation to train data"
   ]
  },
  {
   "cell_type": "code",
   "execution_count": 11,
   "metadata": {
    "execution": {
     "iopub.execute_input": "2020-10-02T05:40:06.042337Z",
     "iopub.status.busy": "2020-10-02T05:40:06.041589Z",
     "iopub.status.idle": "2020-10-02T05:40:13.477654Z",
     "shell.execute_reply": "2020-10-02T05:40:13.478126Z"
    },
    "papermill": {
     "duration": 7.493363,
     "end_time": "2020-10-02T05:40:13.478267",
     "exception": false,
     "start_time": "2020-10-02T05:40:05.984904",
     "status": "completed"
    },
    "tags": []
   },
   "outputs": [
    {
     "name": "stdout",
     "output_type": "stream",
     "text": [
      "Found 6251 validated image filenames.\n"
     ]
    }
   ],
   "source": [
    "#We change the ids for the images in the csv files to reflect their new status as jpgs\n",
    "#https://medium.com/@vijayabhaskar96/tutorial-on-keras-flow-from-dataframe-1fd4493d237c\n",
    "from keras_preprocessing.image import ImageDataGenerator\n",
    "\n",
    "\n",
    "\n",
    "datagen=ImageDataGenerator(rescale=1./255.,zoom_range=[0.5,1.0],brightness_range=[0.8,1.4])\n",
    "\n",
    "\n",
    "train_generator=datagen.flow_from_dataframe(\n",
    "    dataframe=trainmultidf,\n",
    "    directory=\"../input/sc2-total-aug-noisy-data/Total images Bucket Curated/Total images Bucket Curated\",\n",
    "    x_col=\"fname\",\n",
    "    y_col=list(mlb_train.classes_),\n",
    "    subset=\"training\",\n",
    "    batch_size=64,\n",
    "    seed=42,\n",
    "    shuffle=False,\n",
    "    class_mode=\"raw\",\n",
    "    #color_mode=\"grayscale\",\n",
    "    target_size=(128,128))\n",
    "\n"
   ]
  },
  {
   "cell_type": "code",
   "execution_count": 12,
   "metadata": {
    "execution": {
     "iopub.execute_input": "2020-10-02T05:40:13.581591Z",
     "iopub.status.busy": "2020-10-02T05:40:13.580846Z",
     "iopub.status.idle": "2020-10-02T05:40:13.586693Z",
     "shell.execute_reply": "2020-10-02T05:40:13.586174Z"
    },
    "papermill": {
     "duration": 0.059106,
     "end_time": "2020-10-02T05:40:13.586801",
     "exception": false,
     "start_time": "2020-10-02T05:40:13.527695",
     "status": "completed"
    },
    "tags": []
   },
   "outputs": [
    {
     "data": {
      "text/plain": [
       "6251"
      ]
     },
     "execution_count": 12,
     "metadata": {},
     "output_type": "execute_result"
    }
   ],
   "source": [
    "train_generator.n"
   ]
  },
  {
   "cell_type": "code",
   "execution_count": 13,
   "metadata": {
    "execution": {
     "iopub.execute_input": "2020-10-02T05:40:13.690353Z",
     "iopub.status.busy": "2020-10-02T05:40:13.689438Z",
     "iopub.status.idle": "2020-10-02T05:40:13.692889Z",
     "shell.execute_reply": "2020-10-02T05:40:13.693426Z"
    },
    "papermill": {
     "duration": 0.05633,
     "end_time": "2020-10-02T05:40:13.693547",
     "exception": false,
     "start_time": "2020-10-02T05:40:13.637217",
     "status": "completed"
    },
    "tags": []
   },
   "outputs": [
    {
     "data": {
      "text/plain": [
       "(1563, 81)"
      ]
     },
     "execution_count": 13,
     "metadata": {},
     "output_type": "execute_result"
    }
   ],
   "source": [
    "cvmultidf.shape"
   ]
  },
  {
   "cell_type": "code",
   "execution_count": 14,
   "metadata": {
    "execution": {
     "iopub.execute_input": "2020-10-02T05:40:13.812599Z",
     "iopub.status.busy": "2020-10-02T05:40:13.811708Z",
     "iopub.status.idle": "2020-10-02T05:40:13.815747Z",
     "shell.execute_reply": "2020-10-02T05:40:13.815249Z"
    },
    "papermill": {
     "duration": 0.072856,
     "end_time": "2020-10-02T05:40:13.815843",
     "exception": false,
     "start_time": "2020-10-02T05:40:13.742987",
     "status": "completed"
    },
    "tags": []
   },
   "outputs": [
    {
     "data": {
      "text/html": [
       "<div>\n",
       "<style scoped>\n",
       "    .dataframe tbody tr th:only-of-type {\n",
       "        vertical-align: middle;\n",
       "    }\n",
       "\n",
       "    .dataframe tbody tr th {\n",
       "        vertical-align: top;\n",
       "    }\n",
       "\n",
       "    .dataframe thead th {\n",
       "        text-align: right;\n",
       "    }\n",
       "</style>\n",
       "<table border=\"1\" class=\"dataframe\">\n",
       "  <thead>\n",
       "    <tr style=\"text-align: right;\">\n",
       "      <th></th>\n",
       "      <th>Accelerating_and_revving_and_vroom</th>\n",
       "      <th>Accordion</th>\n",
       "      <th>Acoustic_guitar</th>\n",
       "      <th>Applause</th>\n",
       "      <th>Bark</th>\n",
       "      <th>Bass_drum</th>\n",
       "      <th>Bass_guitar</th>\n",
       "      <th>Bathtub_(filling_or_washing)</th>\n",
       "      <th>Bicycle_bell</th>\n",
       "      <th>Burping_and_eructation</th>\n",
       "      <th>...</th>\n",
       "      <th>Traffic_noise_and_roadway_noise</th>\n",
       "      <th>Trickle_and_dribble</th>\n",
       "      <th>Walk_and_footsteps</th>\n",
       "      <th>Water_tap_and_faucet</th>\n",
       "      <th>Waves_and_surf</th>\n",
       "      <th>Whispering</th>\n",
       "      <th>Writing</th>\n",
       "      <th>Yell</th>\n",
       "      <th>Zipper_(clothing)</th>\n",
       "      <th>fname</th>\n",
       "    </tr>\n",
       "  </thead>\n",
       "  <tbody>\n",
       "    <tr>\n",
       "      <th>0</th>\n",
       "      <td>0</td>\n",
       "      <td>0</td>\n",
       "      <td>0</td>\n",
       "      <td>0</td>\n",
       "      <td>0</td>\n",
       "      <td>0</td>\n",
       "      <td>1</td>\n",
       "      <td>0</td>\n",
       "      <td>0</td>\n",
       "      <td>0</td>\n",
       "      <td>...</td>\n",
       "      <td>0</td>\n",
       "      <td>0</td>\n",
       "      <td>0</td>\n",
       "      <td>0</td>\n",
       "      <td>0</td>\n",
       "      <td>0</td>\n",
       "      <td>0</td>\n",
       "      <td>0</td>\n",
       "      <td>0</td>\n",
       "      <td>9a93c380.jpg</td>\n",
       "    </tr>\n",
       "    <tr>\n",
       "      <th>1</th>\n",
       "      <td>0</td>\n",
       "      <td>0</td>\n",
       "      <td>0</td>\n",
       "      <td>0</td>\n",
       "      <td>0</td>\n",
       "      <td>0</td>\n",
       "      <td>0</td>\n",
       "      <td>0</td>\n",
       "      <td>0</td>\n",
       "      <td>0</td>\n",
       "      <td>...</td>\n",
       "      <td>0</td>\n",
       "      <td>0</td>\n",
       "      <td>0</td>\n",
       "      <td>0</td>\n",
       "      <td>0</td>\n",
       "      <td>0</td>\n",
       "      <td>0</td>\n",
       "      <td>0</td>\n",
       "      <td>0</td>\n",
       "      <td>0ab47a4c.jpg</td>\n",
       "    </tr>\n",
       "    <tr>\n",
       "      <th>2</th>\n",
       "      <td>0</td>\n",
       "      <td>0</td>\n",
       "      <td>0</td>\n",
       "      <td>0</td>\n",
       "      <td>0</td>\n",
       "      <td>0</td>\n",
       "      <td>0</td>\n",
       "      <td>0</td>\n",
       "      <td>0</td>\n",
       "      <td>1</td>\n",
       "      <td>...</td>\n",
       "      <td>0</td>\n",
       "      <td>0</td>\n",
       "      <td>0</td>\n",
       "      <td>0</td>\n",
       "      <td>0</td>\n",
       "      <td>0</td>\n",
       "      <td>0</td>\n",
       "      <td>0</td>\n",
       "      <td>0</td>\n",
       "      <td>8f5bf633_aug.jpg</td>\n",
       "    </tr>\n",
       "    <tr>\n",
       "      <th>3</th>\n",
       "      <td>0</td>\n",
       "      <td>0</td>\n",
       "      <td>0</td>\n",
       "      <td>0</td>\n",
       "      <td>0</td>\n",
       "      <td>0</td>\n",
       "      <td>0</td>\n",
       "      <td>0</td>\n",
       "      <td>0</td>\n",
       "      <td>0</td>\n",
       "      <td>...</td>\n",
       "      <td>0</td>\n",
       "      <td>0</td>\n",
       "      <td>0</td>\n",
       "      <td>0</td>\n",
       "      <td>0</td>\n",
       "      <td>0</td>\n",
       "      <td>0</td>\n",
       "      <td>0</td>\n",
       "      <td>0</td>\n",
       "      <td>e07009c1.jpg</td>\n",
       "    </tr>\n",
       "    <tr>\n",
       "      <th>4</th>\n",
       "      <td>0</td>\n",
       "      <td>0</td>\n",
       "      <td>0</td>\n",
       "      <td>0</td>\n",
       "      <td>0</td>\n",
       "      <td>0</td>\n",
       "      <td>0</td>\n",
       "      <td>0</td>\n",
       "      <td>0</td>\n",
       "      <td>0</td>\n",
       "      <td>...</td>\n",
       "      <td>0</td>\n",
       "      <td>0</td>\n",
       "      <td>0</td>\n",
       "      <td>0</td>\n",
       "      <td>0</td>\n",
       "      <td>0</td>\n",
       "      <td>1</td>\n",
       "      <td>0</td>\n",
       "      <td>0</td>\n",
       "      <td>877562da_aug.jpg</td>\n",
       "    </tr>\n",
       "  </tbody>\n",
       "</table>\n",
       "<p>5 rows × 81 columns</p>\n",
       "</div>"
      ],
      "text/plain": [
       "   Accelerating_and_revving_and_vroom  Accordion  Acoustic_guitar  Applause  \\\n",
       "0                                   0          0                0         0   \n",
       "1                                   0          0                0         0   \n",
       "2                                   0          0                0         0   \n",
       "3                                   0          0                0         0   \n",
       "4                                   0          0                0         0   \n",
       "\n",
       "   Bark  Bass_drum  Bass_guitar  Bathtub_(filling_or_washing)  Bicycle_bell  \\\n",
       "0     0          0            1                             0             0   \n",
       "1     0          0            0                             0             0   \n",
       "2     0          0            0                             0             0   \n",
       "3     0          0            0                             0             0   \n",
       "4     0          0            0                             0             0   \n",
       "\n",
       "   Burping_and_eructation  ...  Traffic_noise_and_roadway_noise  \\\n",
       "0                       0  ...                                0   \n",
       "1                       0  ...                                0   \n",
       "2                       1  ...                                0   \n",
       "3                       0  ...                                0   \n",
       "4                       0  ...                                0   \n",
       "\n",
       "   Trickle_and_dribble  Walk_and_footsteps  Water_tap_and_faucet  \\\n",
       "0                    0                   0                     0   \n",
       "1                    0                   0                     0   \n",
       "2                    0                   0                     0   \n",
       "3                    0                   0                     0   \n",
       "4                    0                   0                     0   \n",
       "\n",
       "   Waves_and_surf  Whispering  Writing  Yell  Zipper_(clothing)  \\\n",
       "0               0           0        0     0                  0   \n",
       "1               0           0        0     0                  0   \n",
       "2               0           0        0     0                  0   \n",
       "3               0           0        0     0                  0   \n",
       "4               0           0        1     0                  0   \n",
       "\n",
       "              fname  \n",
       "0      9a93c380.jpg  \n",
       "1      0ab47a4c.jpg  \n",
       "2  8f5bf633_aug.jpg  \n",
       "3      e07009c1.jpg  \n",
       "4  877562da_aug.jpg  \n",
       "\n",
       "[5 rows x 81 columns]"
      ]
     },
     "execution_count": 14,
     "metadata": {},
     "output_type": "execute_result"
    }
   ],
   "source": [
    "cvmultidf.head()"
   ]
  },
  {
   "cell_type": "code",
   "execution_count": 15,
   "metadata": {
    "execution": {
     "iopub.execute_input": "2020-10-02T05:40:13.921437Z",
     "iopub.status.busy": "2020-10-02T05:40:13.920532Z",
     "iopub.status.idle": "2020-10-02T05:40:14.278632Z",
     "shell.execute_reply": "2020-10-02T05:40:14.279449Z"
    },
    "papermill": {
     "duration": 0.415005,
     "end_time": "2020-10-02T05:40:14.279633",
     "exception": false,
     "start_time": "2020-10-02T05:40:13.864628",
     "status": "completed"
    },
    "tags": []
   },
   "outputs": [
    {
     "name": "stdout",
     "output_type": "stream",
     "text": [
      "Found 1563 validated image filenames.\n"
     ]
    }
   ],
   "source": [
    "\n",
    "valid_datagen=ImageDataGenerator(rescale=1./255.)\n",
    "\n",
    "valid_generator=valid_datagen.flow_from_dataframe(\n",
    "    dataframe=cvmultidf,\n",
    "    directory=\"../input/sc2-total-aug-noisy-data/Total images Bucket Curated/Total images Bucket Curated\",\n",
    "    x_col=\"fname\",\n",
    "    y_col=list(mlb_train.classes_),\n",
    "   # subset=\"validation\",\n",
    "    batch_size=64,\n",
    "    seed=42,\n",
    "    shuffle=False,\n",
    "    class_mode=\"raw\",\n",
    "    #color_mode=\"grayscale\",\n",
    "    target_size=(128,128))\n"
   ]
  },
  {
   "cell_type": "code",
   "execution_count": 16,
   "metadata": {
    "execution": {
     "iopub.execute_input": "2020-10-02T05:40:14.386171Z",
     "iopub.status.busy": "2020-10-02T05:40:14.385307Z",
     "iopub.status.idle": "2020-10-02T05:40:14.699349Z",
     "shell.execute_reply": "2020-10-02T05:40:14.699998Z"
    },
    "papermill": {
     "duration": 0.370396,
     "end_time": "2020-10-02T05:40:14.700188",
     "exception": false,
     "start_time": "2020-10-02T05:40:14.329792",
     "status": "completed"
    },
    "tags": []
   },
   "outputs": [
    {
     "name": "stdout",
     "output_type": "stream",
     "text": [
      "Found 1380 validated image filenames.\n"
     ]
    }
   ],
   "source": [
    "test_datagen=ImageDataGenerator(rescale=1./255.)\n",
    "test_generator=test_datagen.flow_from_dataframe(\n",
    "    dataframe=testmultidf,\n",
    "    directory=\"../input/sc2-total-aug-noisy-data/Total images Bucket Curated/Total images Bucket Curated\",\n",
    "    x_col=\"fname\",\n",
    "    y_col=None,\n",
    "    batch_size=64,\n",
    "    seed=42,\n",
    "    shuffle=False,\n",
    "    class_mode=None,\n",
    "   # color_mode=\"grayscale\",\n",
    "    target_size=(128,128))\n",
    "STEP_SIZE_TEST=test_generator.n//test_generator.batch_size"
   ]
  },
  {
   "cell_type": "markdown",
   "metadata": {},
   "source": [
    "# Loading Model and Training"
   ]
  },
  {
   "cell_type": "code",
   "execution_count": 17,
   "metadata": {
    "execution": {
     "iopub.execute_input": "2020-10-02T05:40:14.816939Z",
     "iopub.status.busy": "2020-10-02T05:40:14.816310Z",
     "iopub.status.idle": "2020-10-02T05:40:14.875852Z",
     "shell.execute_reply": "2020-10-02T05:40:14.875298Z"
    },
    "papermill": {
     "duration": 0.123319,
     "end_time": "2020-10-02T05:40:14.875957",
     "exception": false,
     "start_time": "2020-10-02T05:40:14.752638",
     "status": "completed"
    },
    "tags": []
   },
   "outputs": [],
   "source": [
    "from sklearn import model_selection\n",
    "from tensorflow.keras.preprocessing.text import Tokenizer\n",
    "from tensorflow.keras.utils import to_categorical\n",
    "from tensorflow.keras.preprocessing.sequence import pad_sequences\n",
    "\n",
    "from tensorflow.keras.optimizers import RMSprop\n",
    "from tensorflow.keras.models import Model\n",
    "from tensorflow.keras.models import load_model\n",
    "\n",
    "import numpy as np\n",
    "from tensorflow.keras.models import Sequential\n",
    "from tensorflow.keras.preprocessing import sequence\n",
    "\n",
    "\n",
    "\n",
    "import tensorflow as tf\n",
    "from tensorflow.keras import models, layers\n",
    "from tensorflow.keras.models import Model\n",
    "from tensorflow.keras.optimizers import Adam\n",
    "#from tensorflow.keras.callbacks import ModelCheckpoint,EarlyStopping \n",
    "from tensorflow.keras.layers import Dense, Flatten, LSTM, Conv2D, MaxPooling2D, Dropout, Activation, Input,BatchNormalization, AveragePooling2D,GlobalMaxPool2D,PReLU\n",
    "\n",
    "from tensorflow.keras.models import model_from_json  \n",
    "from tensorflow.keras.applications import DenseNet169\n",
    "from tensorflow.keras.applications.resnet50 import ResNet50\n",
    "\n",
    "from tensorflow.keras.callbacks import (ModelCheckpoint, LearningRateScheduler,\n",
    "                             EarlyStopping, ReduceLROnPlateau,CSVLogger)"
   ]
  },
  {
   "cell_type": "code",
   "execution_count": 18,
   "metadata": {
    "execution": {
     "iopub.execute_input": "2020-10-02T05:40:14.984259Z",
     "iopub.status.busy": "2020-10-02T05:40:14.983634Z",
     "iopub.status.idle": "2020-10-02T05:40:21.086974Z",
     "shell.execute_reply": "2020-10-02T05:40:21.085829Z"
    },
    "papermill": {
     "duration": 6.160004,
     "end_time": "2020-10-02T05:40:21.087155",
     "exception": false,
     "start_time": "2020-10-02T05:40:14.927151",
     "status": "completed"
    },
    "tags": []
   },
   "outputs": [
    {
     "name": "stdout",
     "output_type": "stream",
     "text": [
      "Downloading data from https://storage.googleapis.com/tensorflow/keras-applications/resnet/resnet50_weights_tf_dim_ordering_tf_kernels.h5\n",
      "102973440/102967424 [==============================] - 1s 0us/step\n"
     ]
    }
   ],
   "source": [
    "#last_layer = model.get_layer('avg_pool').output\n",
    "\n",
    "image_input = Input(shape=(128,128, 3))\n",
    "model = ResNet50(input_tensor=image_input, include_top=True)\n",
    "last_layer = model.get_layer('avg_pool').output\n",
    "x= Flatten(name='flatten')(last_layer)\n",
    "#model=\n",
    "\n",
    "\n",
    "#output = Dense(80, activation='sigmoid', name='output_layer')(model.layers[-2].output)\n",
    "x= Dense(80)(x)\n",
    "output = Activation('sigmoid')(x)\n",
    "#out = Dense(num_classes, activation='softmax', name='output_layer')(x)"
   ]
  },
  {
   "cell_type": "code",
   "execution_count": 19,
   "metadata": {
    "execution": {
     "iopub.execute_input": "2020-10-02T05:40:21.205856Z",
     "iopub.status.busy": "2020-10-02T05:40:21.204920Z",
     "iopub.status.idle": "2020-10-02T05:40:21.208265Z",
     "shell.execute_reply": "2020-10-02T05:40:21.208795Z"
    },
    "papermill": {
     "duration": 0.065913,
     "end_time": "2020-10-02T05:40:21.208942",
     "exception": false,
     "start_time": "2020-10-02T05:40:21.143029",
     "status": "completed"
    },
    "tags": []
   },
   "outputs": [
    {
     "data": {
      "text/plain": [
       "[<tensorflow.python.keras.layers.merge.Add at 0x7f9e2817a610>,\n",
       " <tensorflow.python.keras.layers.core.Activation at 0x7f9e2817a950>,\n",
       " <tensorflow.python.keras.layers.pooling.GlobalAveragePooling2D at 0x7f9e3428f810>,\n",
       " <tensorflow.python.keras.layers.core.Dense at 0x7f9e28117a50>]"
      ]
     },
     "execution_count": 19,
     "metadata": {},
     "output_type": "execute_result"
    }
   ],
   "source": [
    "model.layers[-4:]"
   ]
  },
  {
   "cell_type": "code",
   "execution_count": 20,
   "metadata": {
    "execution": {
     "iopub.execute_input": "2020-10-02T05:40:21.325974Z",
     "iopub.status.busy": "2020-10-02T05:40:21.325253Z",
     "iopub.status.idle": "2020-10-02T05:40:21.329139Z",
     "shell.execute_reply": "2020-10-02T05:40:21.329669Z"
    },
    "papermill": {
     "duration": 0.065637,
     "end_time": "2020-10-02T05:40:21.329809",
     "exception": false,
     "start_time": "2020-10-02T05:40:21.264172",
     "status": "completed"
    },
    "tags": []
   },
   "outputs": [
    {
     "data": {
      "text/plain": [
       "[<tensorflow.python.keras.layers.merge.Add at 0x7f9e2817a610>,\n",
       " <tensorflow.python.keras.layers.core.Activation at 0x7f9e2817a950>,\n",
       " <tensorflow.python.keras.layers.pooling.GlobalAveragePooling2D at 0x7f9e3428f810>,\n",
       " <tensorflow.python.keras.layers.core.Dense at 0x7f9e28117a50>]"
      ]
     },
     "execution_count": 20,
     "metadata": {},
     "output_type": "execute_result"
    }
   ],
   "source": [
    "model.layers[-4:]"
   ]
  },
  {
   "cell_type": "code",
   "execution_count": null,
   "metadata": {
    "papermill": {
     "duration": 0.055042,
     "end_time": "2020-10-02T05:40:21.439896",
     "exception": false,
     "start_time": "2020-10-02T05:40:21.384854",
     "status": "completed"
    },
    "tags": []
   },
   "outputs": [],
   "source": []
  },
  {
   "cell_type": "code",
   "execution_count": 21,
   "metadata": {
    "execution": {
     "iopub.execute_input": "2020-10-02T05:40:21.558367Z",
     "iopub.status.busy": "2020-10-02T05:40:21.557425Z",
     "iopub.status.idle": "2020-10-02T05:40:21.585381Z",
     "shell.execute_reply": "2020-10-02T05:40:21.584749Z"
    },
    "papermill": {
     "duration": 0.090234,
     "end_time": "2020-10-02T05:40:21.585501",
     "exception": false,
     "start_time": "2020-10-02T05:40:21.495267",
     "status": "completed"
    },
    "tags": []
   },
   "outputs": [],
   "source": [
    "custom_densenet169_model = Model(inputs=image_input,outputs= output)\n",
    "#custom_densenet169_model.summary()"
   ]
  },
  {
   "cell_type": "code",
   "execution_count": 22,
   "metadata": {
    "execution": {
     "iopub.execute_input": "2020-10-02T05:40:21.720798Z",
     "iopub.status.busy": "2020-10-02T05:40:21.709038Z",
     "iopub.status.idle": "2020-10-02T05:40:22.157998Z",
     "shell.execute_reply": "2020-10-02T05:40:22.156767Z"
    },
    "papermill": {
     "duration": 0.517281,
     "end_time": "2020-10-02T05:40:22.158150",
     "exception": false,
     "start_time": "2020-10-02T05:40:21.640869",
     "status": "completed"
    },
    "tags": []
   },
   "outputs": [],
   "source": [
    "custom_densenet169_model.load_weights(\"../input/sc2-total-aug-noisy-data/ResNetNoisyTotal.best_weights-128.hdf5\")"
   ]
  },
  {
   "cell_type": "code",
   "execution_count": 23,
   "metadata": {
    "execution": {
     "iopub.execute_input": "2020-10-02T05:40:22.278818Z",
     "iopub.status.busy": "2020-10-02T05:40:22.276981Z",
     "iopub.status.idle": "2020-10-02T05:40:22.279592Z",
     "shell.execute_reply": "2020-10-02T05:40:22.280146Z"
    },
    "papermill": {
     "duration": 0.064787,
     "end_time": "2020-10-02T05:40:22.280284",
     "exception": false,
     "start_time": "2020-10-02T05:40:22.215497",
     "status": "completed"
    },
    "tags": []
   },
   "outputs": [],
   "source": [
    "#from tensorflow.keras.utils import plot_model\n",
    "#plot_model(custom_densenet169_model, 'model_resnet50.png', show_shapes=True)"
   ]
  },
  {
   "cell_type": "code",
   "execution_count": 24,
   "metadata": {
    "execution": {
     "iopub.execute_input": "2020-10-02T05:40:22.411457Z",
     "iopub.status.busy": "2020-10-02T05:40:22.401337Z",
     "iopub.status.idle": "2020-10-02T05:40:22.419476Z",
     "shell.execute_reply": "2020-10-02T05:40:22.418518Z"
    },
    "papermill": {
     "duration": 0.083023,
     "end_time": "2020-10-02T05:40:22.419577",
     "exception": false,
     "start_time": "2020-10-02T05:40:22.336554",
     "status": "completed"
    },
    "tags": []
   },
   "outputs": [],
   "source": [
    "opt = tf.keras.optimizers.Adam(lr=0.0009)#tf.keras.optimizers.RMSprop(lr=0.3, decay=1e-6) \n",
    "#tf.keras.optimizers.Adam(lr=0.001)#RMSprop(lr=0.0001, decay=1e-6)\n",
    "\n",
    "# Let's train the model using RMSprop\n",
    "custom_densenet169_model.compile(loss=tf.keras.losses.BinaryCrossentropy(reduction=tf.keras.losses.Reduction.SUM),#'categorical_crossentropy',\n",
    "              optimizer=opt,\n",
    "               metrics=['categorical_accuracy'])"
   ]
  },
  {
   "cell_type": "code",
   "execution_count": 25,
   "metadata": {
    "execution": {
     "iopub.execute_input": "2020-10-02T05:40:22.537671Z",
     "iopub.status.busy": "2020-10-02T05:40:22.537038Z",
     "iopub.status.idle": "2020-10-02T05:40:22.540896Z",
     "shell.execute_reply": "2020-10-02T05:40:22.541342Z"
    },
    "papermill": {
     "duration": 0.065706,
     "end_time": "2020-10-02T05:40:22.541490",
     "exception": false,
     "start_time": "2020-10-02T05:40:22.475784",
     "status": "completed"
    },
    "tags": []
   },
   "outputs": [],
   "source": [
    "#Fitting keras model, no test gen for now\n",
    "STEP_SIZE_TRAIN=train_generator.n//train_generator.batch_size\n",
    "STEP_SIZE_VALID=valid_generator.n//valid_generator.batch_size\n",
    "#STEP_SIZE_TEST=test_generator.n//test_generator.batch_size"
   ]
  },
  {
   "cell_type": "code",
   "execution_count": 26,
   "metadata": {
    "execution": {
     "iopub.execute_input": "2020-10-02T05:40:22.663938Z",
     "iopub.status.busy": "2020-10-02T05:40:22.662936Z",
     "iopub.status.idle": "2020-10-02T05:40:22.667174Z",
     "shell.execute_reply": "2020-10-02T05:40:22.666604Z"
    },
    "papermill": {
     "duration": 0.066783,
     "end_time": "2020-10-02T05:40:22.667292",
     "exception": false,
     "start_time": "2020-10-02T05:40:22.600509",
     "status": "completed"
    },
    "tags": []
   },
   "outputs": [
    {
     "data": {
      "text/plain": [
       "97"
      ]
     },
     "execution_count": 26,
     "metadata": {},
     "output_type": "execute_result"
    }
   ],
   "source": [
    "STEP_SIZE_TRAIN"
   ]
  },
  {
   "cell_type": "code",
   "execution_count": 27,
   "metadata": {
    "execution": {
     "iopub.execute_input": "2020-10-02T05:40:22.793626Z",
     "iopub.status.busy": "2020-10-02T05:40:22.792769Z",
     "iopub.status.idle": "2020-10-02T05:40:22.796751Z",
     "shell.execute_reply": "2020-10-02T05:40:22.797370Z"
    },
    "papermill": {
     "duration": 0.072112,
     "end_time": "2020-10-02T05:40:22.797550",
     "exception": false,
     "start_time": "2020-10-02T05:40:22.725438",
     "status": "completed"
    },
    "tags": []
   },
   "outputs": [],
   "source": [
    "# simple early stopping\n",
    "#earlyStop = EarlyStopping(monitor='val_loss', mode='min', verbose=1, patience=100,)\n",
    "#https://machinelearningmastery.com/check-point-deep-learning-models-keras/\n",
    "\n",
    "\n",
    "#model_checkpoint = ModelCheckpoint('weights_cnn_lstm.best.hdf5', monitor='val_categorical_accuracy', mode='max', verbose=1, save_best_only=True)\n",
    "#filepath=\"weights-improvement-{epoch:02d}-{val_categorical_accuracy:.2f}.hdf5\"\n",
    "\n",
    "\n",
    "csv_logger = CSVLogger(filename='../working/training_log.csv',\n",
    "                       separator=',',\n",
    "                       append=True)\n",
    "#https://www.tensorflow.org/api_docs/python/tf/keras/callbacks/ReduceLROnPlateau\n",
    "reduceLROnPlat = ReduceLROnPlateau(monitor='val_categorical_accuracy', factor=0.6,\n",
    "                              patience=6, min_lr=0,verbose=1)\n",
    "\n",
    "\n",
    "model_checkpoint = ModelCheckpoint(\"CuratedTotal.best_weights_128.hdf5\", monitor='val_categorical_accuracy', mode='max', verbose=1, save_best_only=True)\n",
    "\n",
    "# fit model\n",
    "\n",
    "#es = tf.keras.callbacks.EarlyStopping(monitor='val_loss', mode='min', verbose=1, patience=20, min_delta=0.001 )\n",
    "es = tf.keras.callbacks.EarlyStopping(monitor='val_categorical_accuracy', mode='max', verbose=1, patience=30, min_delta=0.001 )\n",
    "\n",
    "callbacks_list = [model_checkpoint, csv_logger, reduceLROnPlat,es]"
   ]
  },
  {
   "cell_type": "code",
   "execution_count": 28,
   "metadata": {
    "execution": {
     "iopub.execute_input": "2020-10-02T05:40:22.916470Z",
     "iopub.status.busy": "2020-10-02T05:40:22.914674Z",
     "iopub.status.idle": "2020-10-02T05:40:22.917221Z",
     "shell.execute_reply": "2020-10-02T05:40:22.917737Z"
    },
    "papermill": {
     "duration": 0.062732,
     "end_time": "2020-10-02T05:40:22.917858",
     "exception": false,
     "start_time": "2020-10-02T05:40:22.855126",
     "status": "completed"
    },
    "tags": []
   },
   "outputs": [],
   "source": [
    "\n",
    "#custom_densenet169_model.load_weights(\"../input/sc2weights/total.best_weights.hdf5\")\n",
    "#custom_densenet169_model.load_weights(\"../input/sc2weights/total.best_weights_iter2.hdf5\")"
   ]
  },
  {
   "cell_type": "code",
   "execution_count": 29,
   "metadata": {
    "execution": {
     "iopub.execute_input": "2020-10-02T05:40:23.058243Z",
     "iopub.status.busy": "2020-10-02T05:40:23.057570Z",
     "iopub.status.idle": "2020-10-02T07:10:28.702903Z",
     "shell.execute_reply": "2020-10-02T07:10:28.703447Z"
    },
    "papermill": {
     "duration": 5405.715352,
     "end_time": "2020-10-02T07:10:28.703641",
     "exception": false,
     "start_time": "2020-10-02T05:40:22.988289",
     "status": "completed"
    },
    "tags": []
   },
   "outputs": [
    {
     "name": "stdout",
     "output_type": "stream",
     "text": [
      "Epoch 1/300\n",
      "97/97 [==============================] - ETA: 0s - loss: 4.5033 - categorical_accuracy: 0.2977\n",
      "Epoch 00001: val_categorical_accuracy improved from -inf to 0.32031, saving model to CuratedTotal.best_weights_128.hdf5\n",
      "97/97 [==============================] - 52s 534ms/step - loss: 4.5033 - categorical_accuracy: 0.2977 - val_loss: 3.5840 - val_categorical_accuracy: 0.3203\n",
      "Epoch 2/300\n",
      "97/97 [==============================] - ETA: 0s - loss: 2.0032 - categorical_accuracy: 0.5832\n",
      "Epoch 00002: val_categorical_accuracy did not improve from 0.32031\n",
      "97/97 [==============================] - 45s 466ms/step - loss: 2.0032 - categorical_accuracy: 0.5832 - val_loss: 3.9234 - val_categorical_accuracy: 0.2780\n",
      "Epoch 3/300\n",
      "97/97 [==============================] - ETA: 0s - loss: 1.3171 - categorical_accuracy: 0.7146\n",
      "Epoch 00003: val_categorical_accuracy improved from 0.32031 to 0.37630, saving model to CuratedTotal.best_weights_128.hdf5\n",
      "97/97 [==============================] - 45s 469ms/step - loss: 1.3171 - categorical_accuracy: 0.7146 - val_loss: 3.5966 - val_categorical_accuracy: 0.3763\n",
      "Epoch 4/300\n",
      "97/97 [==============================] - ETA: 0s - loss: 0.9464 - categorical_accuracy: 0.7899\n",
      "Epoch 00004: val_categorical_accuracy improved from 0.37630 to 0.50195, saving model to CuratedTotal.best_weights_128.hdf5\n",
      "97/97 [==============================] - 46s 478ms/step - loss: 0.9464 - categorical_accuracy: 0.7899 - val_loss: 2.6517 - val_categorical_accuracy: 0.5020\n",
      "Epoch 5/300\n",
      "97/97 [==============================] - ETA: 0s - loss: 0.6584 - categorical_accuracy: 0.8477\n",
      "Epoch 00005: val_categorical_accuracy did not improve from 0.50195\n",
      "97/97 [==============================] - 45s 462ms/step - loss: 0.6584 - categorical_accuracy: 0.8477 - val_loss: 3.1443 - val_categorical_accuracy: 0.4727\n",
      "Epoch 6/300\n",
      "97/97 [==============================] - ETA: 0s - loss: 0.5544 - categorical_accuracy: 0.8620\n",
      "Epoch 00006: val_categorical_accuracy did not improve from 0.50195\n",
      "97/97 [==============================] - 45s 465ms/step - loss: 0.5544 - categorical_accuracy: 0.8620 - val_loss: 3.5741 - val_categorical_accuracy: 0.4453\n",
      "Epoch 7/300\n",
      "97/97 [==============================] - ETA: 0s - loss: 0.4290 - categorical_accuracy: 0.8830\n",
      "Epoch 00007: val_categorical_accuracy did not improve from 0.50195\n",
      "97/97 [==============================] - 46s 470ms/step - loss: 0.4290 - categorical_accuracy: 0.8830 - val_loss: 3.7906 - val_categorical_accuracy: 0.4199\n",
      "Epoch 8/300\n",
      "97/97 [==============================] - ETA: 0s - loss: 0.3764 - categorical_accuracy: 0.8861\n",
      "Epoch 00008: val_categorical_accuracy improved from 0.50195 to 0.58333, saving model to CuratedTotal.best_weights_128.hdf5\n",
      "97/97 [==============================] - 47s 479ms/step - loss: 0.3764 - categorical_accuracy: 0.8861 - val_loss: 2.5482 - val_categorical_accuracy: 0.5833\n",
      "Epoch 9/300\n",
      "97/97 [==============================] - ETA: 0s - loss: 0.3382 - categorical_accuracy: 0.9025\n",
      "Epoch 00009: val_categorical_accuracy did not improve from 0.58333\n",
      "97/97 [==============================] - 45s 462ms/step - loss: 0.3382 - categorical_accuracy: 0.9025 - val_loss: 3.5718 - val_categorical_accuracy: 0.4609\n",
      "Epoch 10/300\n",
      "97/97 [==============================] - ETA: 0s - loss: 0.3025 - categorical_accuracy: 0.8996\n",
      "Epoch 00010: val_categorical_accuracy did not improve from 0.58333\n",
      "97/97 [==============================] - 46s 470ms/step - loss: 0.3025 - categorical_accuracy: 0.8996 - val_loss: 3.2771 - val_categorical_accuracy: 0.5397\n",
      "Epoch 11/300\n",
      "97/97 [==============================] - ETA: 0s - loss: 0.2860 - categorical_accuracy: 0.9017\n",
      "Epoch 00011: val_categorical_accuracy did not improve from 0.58333\n",
      "97/97 [==============================] - 46s 472ms/step - loss: 0.2860 - categorical_accuracy: 0.9017 - val_loss: 3.2412 - val_categorical_accuracy: 0.5163\n",
      "Epoch 12/300\n",
      "97/97 [==============================] - ETA: 0s - loss: 0.2702 - categorical_accuracy: 0.9014\n",
      "Epoch 00012: val_categorical_accuracy did not improve from 0.58333\n",
      "97/97 [==============================] - 46s 470ms/step - loss: 0.2702 - categorical_accuracy: 0.9014 - val_loss: 3.6681 - val_categorical_accuracy: 0.4863\n",
      "Epoch 13/300\n",
      "97/97 [==============================] - ETA: 0s - loss: 0.2042 - categorical_accuracy: 0.9132\n",
      "Epoch 00013: val_categorical_accuracy did not improve from 0.58333\n",
      "97/97 [==============================] - 45s 463ms/step - loss: 0.2042 - categorical_accuracy: 0.9132 - val_loss: 2.8525 - val_categorical_accuracy: 0.5618\n",
      "Epoch 14/300\n",
      "97/97 [==============================] - ETA: 0s - loss: 0.1979 - categorical_accuracy: 0.9118\n",
      "Epoch 00014: val_categorical_accuracy did not improve from 0.58333\n",
      "\n",
      "Epoch 00014: ReduceLROnPlateau reducing learning rate to 0.0005399999907240271.\n",
      "97/97 [==============================] - 46s 477ms/step - loss: 0.1979 - categorical_accuracy: 0.9118 - val_loss: 3.2608 - val_categorical_accuracy: 0.5579\n",
      "Epoch 15/300\n",
      "97/97 [==============================] - ETA: 0s - loss: 0.1186 - categorical_accuracy: 0.9223\n",
      "Epoch 00015: val_categorical_accuracy did not improve from 0.58333\n",
      "97/97 [==============================] - 45s 463ms/step - loss: 0.1186 - categorical_accuracy: 0.9223 - val_loss: 2.7831 - val_categorical_accuracy: 0.5820\n",
      "Epoch 16/300\n",
      "97/97 [==============================] - ETA: 0s - loss: 0.0607 - categorical_accuracy: 0.9198\n",
      "Epoch 00016: val_categorical_accuracy improved from 0.58333 to 0.61328, saving model to CuratedTotal.best_weights_128.hdf5\n",
      "97/97 [==============================] - 47s 488ms/step - loss: 0.0607 - categorical_accuracy: 0.9198 - val_loss: 2.5847 - val_categorical_accuracy: 0.6133\n",
      "Epoch 17/300\n",
      "97/97 [==============================] - ETA: 0s - loss: 0.0489 - categorical_accuracy: 0.9242\n",
      "Epoch 00017: val_categorical_accuracy improved from 0.61328 to 0.62630, saving model to CuratedTotal.best_weights_128.hdf5\n",
      "97/97 [==============================] - 47s 486ms/step - loss: 0.0489 - categorical_accuracy: 0.9242 - val_loss: 2.7435 - val_categorical_accuracy: 0.6263\n",
      "Epoch 18/300\n",
      "97/97 [==============================] - ETA: 0s - loss: 0.0569 - categorical_accuracy: 0.9226\n",
      "Epoch 00018: val_categorical_accuracy did not improve from 0.62630\n",
      "97/97 [==============================] - 46s 472ms/step - loss: 0.0569 - categorical_accuracy: 0.9226 - val_loss: 3.5312 - val_categorical_accuracy: 0.5547\n",
      "Epoch 19/300\n",
      "97/97 [==============================] - ETA: 0s - loss: 0.0518 - categorical_accuracy: 0.9261\n",
      "Epoch 00019: val_categorical_accuracy improved from 0.62630 to 0.65039, saving model to CuratedTotal.best_weights_128.hdf5\n",
      "97/97 [==============================] - 48s 494ms/step - loss: 0.0518 - categorical_accuracy: 0.9261 - val_loss: 2.6308 - val_categorical_accuracy: 0.6504\n",
      "Epoch 20/300\n",
      "97/97 [==============================] - ETA: 0s - loss: 0.0396 - categorical_accuracy: 0.9284\n",
      "Epoch 00020: val_categorical_accuracy did not improve from 0.65039\n",
      "97/97 [==============================] - 46s 478ms/step - loss: 0.0396 - categorical_accuracy: 0.9284 - val_loss: 2.8901 - val_categorical_accuracy: 0.6204\n",
      "Epoch 21/300\n",
      "97/97 [==============================] - ETA: 0s - loss: 0.0436 - categorical_accuracy: 0.9261\n",
      "Epoch 00021: val_categorical_accuracy did not improve from 0.65039\n",
      "97/97 [==============================] - 46s 471ms/step - loss: 0.0436 - categorical_accuracy: 0.9261 - val_loss: 3.7016 - val_categorical_accuracy: 0.5697\n",
      "Epoch 22/300\n",
      "97/97 [==============================] - ETA: 0s - loss: 0.0499 - categorical_accuracy: 0.9214\n",
      "Epoch 00022: val_categorical_accuracy did not improve from 0.65039\n",
      "97/97 [==============================] - 45s 465ms/step - loss: 0.0499 - categorical_accuracy: 0.9214 - val_loss: 3.3481 - val_categorical_accuracy: 0.5853\n",
      "Epoch 23/300\n",
      "97/97 [==============================] - ETA: 0s - loss: 0.0400 - categorical_accuracy: 0.9260\n",
      "Epoch 00023: val_categorical_accuracy did not improve from 0.65039\n",
      "97/97 [==============================] - 45s 467ms/step - loss: 0.0400 - categorical_accuracy: 0.9260 - val_loss: 2.9926 - val_categorical_accuracy: 0.6126\n",
      "Epoch 24/300\n",
      "97/97 [==============================] - ETA: 0s - loss: 0.0419 - categorical_accuracy: 0.9252\n",
      "Epoch 00024: val_categorical_accuracy did not improve from 0.65039\n",
      "97/97 [==============================] - 46s 472ms/step - loss: 0.0419 - categorical_accuracy: 0.9252 - val_loss: 2.9327 - val_categorical_accuracy: 0.6380\n",
      "Epoch 25/300\n",
      "97/97 [==============================] - ETA: 0s - loss: 0.0545 - categorical_accuracy: 0.9274\n",
      "Epoch 00025: val_categorical_accuracy did not improve from 0.65039\n",
      "\n",
      "Epoch 00025: ReduceLROnPlateau reducing learning rate to 0.00032399998744949695.\n",
      "97/97 [==============================] - 46s 473ms/step - loss: 0.0545 - categorical_accuracy: 0.9274 - val_loss: 3.3071 - val_categorical_accuracy: 0.6029\n",
      "Epoch 26/300\n",
      "97/97 [==============================] - ETA: 0s - loss: 0.0384 - categorical_accuracy: 0.9305\n",
      "Epoch 00026: val_categorical_accuracy did not improve from 0.65039\n",
      "97/97 [==============================] - 47s 480ms/step - loss: 0.0384 - categorical_accuracy: 0.9305 - val_loss: 2.7220 - val_categorical_accuracy: 0.6478\n",
      "Epoch 27/300\n",
      "97/97 [==============================] - ETA: 0s - loss: 0.0235 - categorical_accuracy: 0.9274\n",
      "Epoch 00027: val_categorical_accuracy did not improve from 0.65039\n",
      "97/97 [==============================] - 46s 476ms/step - loss: 0.0235 - categorical_accuracy: 0.9274 - val_loss: 3.0308 - val_categorical_accuracy: 0.6289\n",
      "Epoch 28/300\n",
      "97/97 [==============================] - ETA: 0s - loss: 0.0148 - categorical_accuracy: 0.9273\n",
      "Epoch 00028: val_categorical_accuracy improved from 0.65039 to 0.65560, saving model to CuratedTotal.best_weights_128.hdf5\n",
      "97/97 [==============================] - 48s 499ms/step - loss: 0.0148 - categorical_accuracy: 0.9273 - val_loss: 2.8365 - val_categorical_accuracy: 0.6556\n",
      "Epoch 29/300\n",
      "97/97 [==============================] - ETA: 0s - loss: 0.0146 - categorical_accuracy: 0.9321\n",
      "Epoch 00029: val_categorical_accuracy did not improve from 0.65560\n",
      "97/97 [==============================] - 47s 483ms/step - loss: 0.0146 - categorical_accuracy: 0.9321 - val_loss: 3.1670 - val_categorical_accuracy: 0.6230\n",
      "Epoch 30/300\n",
      "97/97 [==============================] - ETA: 0s - loss: 0.0205 - categorical_accuracy: 0.9347\n",
      "Epoch 00030: val_categorical_accuracy did not improve from 0.65560\n",
      "97/97 [==============================] - 47s 483ms/step - loss: 0.0205 - categorical_accuracy: 0.9347 - val_loss: 3.0490 - val_categorical_accuracy: 0.6348\n",
      "Epoch 31/300\n",
      "97/97 [==============================] - ETA: 0s - loss: 0.0142 - categorical_accuracy: 0.9263\n",
      "Epoch 00031: val_categorical_accuracy improved from 0.65560 to 0.65690, saving model to CuratedTotal.best_weights_128.hdf5\n",
      "97/97 [==============================] - 48s 491ms/step - loss: 0.0142 - categorical_accuracy: 0.9263 - val_loss: 2.8921 - val_categorical_accuracy: 0.6569\n",
      "Epoch 32/300\n",
      "97/97 [==============================] - ETA: 0s - loss: 0.0198 - categorical_accuracy: 0.9295\n",
      "Epoch 00032: val_categorical_accuracy did not improve from 0.65690\n",
      "97/97 [==============================] - 47s 485ms/step - loss: 0.0198 - categorical_accuracy: 0.9295 - val_loss: 3.0959 - val_categorical_accuracy: 0.6328\n",
      "Epoch 33/300\n",
      "97/97 [==============================] - ETA: 0s - loss: 0.0124 - categorical_accuracy: 0.9286\n",
      "Epoch 00033: val_categorical_accuracy improved from 0.65690 to 0.66016, saving model to CuratedTotal.best_weights_128.hdf5\n",
      "97/97 [==============================] - 49s 503ms/step - loss: 0.0124 - categorical_accuracy: 0.9286 - val_loss: 2.7975 - val_categorical_accuracy: 0.6602\n",
      "Epoch 34/300\n",
      "97/97 [==============================] - ETA: 0s - loss: 0.0119 - categorical_accuracy: 0.9303\n",
      "Epoch 00034: val_categorical_accuracy did not improve from 0.66016\n",
      "97/97 [==============================] - 47s 490ms/step - loss: 0.0119 - categorical_accuracy: 0.9303 - val_loss: 2.8481 - val_categorical_accuracy: 0.6426\n",
      "Epoch 35/300\n",
      "97/97 [==============================] - ETA: 0s - loss: 0.0139 - categorical_accuracy: 0.9287\n",
      "Epoch 00035: val_categorical_accuracy did not improve from 0.66016\n",
      "97/97 [==============================] - 46s 474ms/step - loss: 0.0139 - categorical_accuracy: 0.9287 - val_loss: 3.1486 - val_categorical_accuracy: 0.6387\n",
      "Epoch 36/300\n",
      "97/97 [==============================] - ETA: 0s - loss: 0.0157 - categorical_accuracy: 0.9273\n",
      "Epoch 00036: val_categorical_accuracy did not improve from 0.66016\n",
      "97/97 [==============================] - 46s 472ms/step - loss: 0.0157 - categorical_accuracy: 0.9273 - val_loss: 3.0326 - val_categorical_accuracy: 0.6419\n",
      "Epoch 37/300\n",
      "97/97 [==============================] - ETA: 0s - loss: 0.0214 - categorical_accuracy: 0.9315\n",
      "Epoch 00037: val_categorical_accuracy did not improve from 0.66016\n",
      "97/97 [==============================] - 47s 485ms/step - loss: 0.0214 - categorical_accuracy: 0.9315 - val_loss: 3.8970 - val_categorical_accuracy: 0.5690\n",
      "Epoch 38/300\n",
      "97/97 [==============================] - ETA: 0s - loss: 0.0207 - categorical_accuracy: 0.9273\n",
      "Epoch 00038: val_categorical_accuracy did not improve from 0.66016\n",
      "97/97 [==============================] - 46s 477ms/step - loss: 0.0207 - categorical_accuracy: 0.9273 - val_loss: 2.9061 - val_categorical_accuracy: 0.6445\n",
      "Epoch 39/300\n",
      "97/97 [==============================] - ETA: 0s - loss: 0.0238 - categorical_accuracy: 0.9263\n",
      "Epoch 00039: val_categorical_accuracy did not improve from 0.66016\n",
      "\n",
      "Epoch 00039: ReduceLROnPlateau reducing learning rate to 0.00019439999596215785.\n",
      "97/97 [==============================] - 48s 493ms/step - loss: 0.0238 - categorical_accuracy: 0.9263 - val_loss: 3.2482 - val_categorical_accuracy: 0.6191\n",
      "Epoch 40/300\n",
      "97/97 [==============================] - ETA: 0s - loss: 0.0157 - categorical_accuracy: 0.9260\n",
      "Epoch 00040: val_categorical_accuracy did not improve from 0.66016\n",
      "97/97 [==============================] - 48s 494ms/step - loss: 0.0157 - categorical_accuracy: 0.9260 - val_loss: 2.8692 - val_categorical_accuracy: 0.6484\n",
      "Epoch 41/300\n",
      "97/97 [==============================] - ETA: 0s - loss: 0.0083 - categorical_accuracy: 0.9278\n",
      "Epoch 00041: val_categorical_accuracy did not improve from 0.66016\n",
      "97/97 [==============================] - 47s 488ms/step - loss: 0.0083 - categorical_accuracy: 0.9278 - val_loss: 2.9258 - val_categorical_accuracy: 0.6549\n",
      "Epoch 42/300\n",
      "97/97 [==============================] - ETA: 0s - loss: 0.0105 - categorical_accuracy: 0.9281\n",
      "Epoch 00042: val_categorical_accuracy did not improve from 0.66016\n",
      "97/97 [==============================] - 46s 479ms/step - loss: 0.0105 - categorical_accuracy: 0.9281 - val_loss: 3.0197 - val_categorical_accuracy: 0.6406\n",
      "Epoch 43/300\n",
      "97/97 [==============================] - ETA: 0s - loss: 0.0151 - categorical_accuracy: 0.9310\n",
      "Epoch 00043: val_categorical_accuracy did not improve from 0.66016\n",
      "97/97 [==============================] - 48s 495ms/step - loss: 0.0151 - categorical_accuracy: 0.9310 - val_loss: 3.0557 - val_categorical_accuracy: 0.6328\n",
      "Epoch 44/300\n",
      "97/97 [==============================] - ETA: 0s - loss: 0.0121 - categorical_accuracy: 0.9295\n",
      "Epoch 00044: val_categorical_accuracy did not improve from 0.66016\n",
      "97/97 [==============================] - 48s 491ms/step - loss: 0.0121 - categorical_accuracy: 0.9295 - val_loss: 3.2698 - val_categorical_accuracy: 0.6172\n",
      "Epoch 45/300\n",
      "97/97 [==============================] - ETA: 0s - loss: 0.0073 - categorical_accuracy: 0.9295\n",
      "Epoch 00045: val_categorical_accuracy improved from 0.66016 to 0.67448, saving model to CuratedTotal.best_weights_128.hdf5\n",
      "97/97 [==============================] - 48s 496ms/step - loss: 0.0073 - categorical_accuracy: 0.9295 - val_loss: 2.6989 - val_categorical_accuracy: 0.6745\n",
      "Epoch 46/300\n",
      "97/97 [==============================] - ETA: 0s - loss: 0.0122 - categorical_accuracy: 0.9311\n",
      "Epoch 00046: val_categorical_accuracy did not improve from 0.67448\n",
      "97/97 [==============================] - 48s 490ms/step - loss: 0.0122 - categorical_accuracy: 0.9311 - val_loss: 2.8330 - val_categorical_accuracy: 0.6628\n",
      "Epoch 47/300\n",
      "97/97 [==============================] - ETA: 0s - loss: 0.0090 - categorical_accuracy: 0.9300\n",
      "Epoch 00047: val_categorical_accuracy did not improve from 0.67448\n",
      "97/97 [==============================] - 46s 475ms/step - loss: 0.0090 - categorical_accuracy: 0.9300 - val_loss: 2.9204 - val_categorical_accuracy: 0.6523\n",
      "Epoch 48/300\n",
      "97/97 [==============================] - ETA: 0s - loss: 0.0061 - categorical_accuracy: 0.9284\n",
      "Epoch 00048: val_categorical_accuracy did not improve from 0.67448\n",
      "97/97 [==============================] - 49s 505ms/step - loss: 0.0061 - categorical_accuracy: 0.9284 - val_loss: 2.8780 - val_categorical_accuracy: 0.6621\n",
      "Epoch 49/300\n",
      "97/97 [==============================] - ETA: 0s - loss: 0.0052 - categorical_accuracy: 0.9278\n",
      "Epoch 00049: val_categorical_accuracy did not improve from 0.67448\n",
      "97/97 [==============================] - 47s 488ms/step - loss: 0.0052 - categorical_accuracy: 0.9278 - val_loss: 3.0165 - val_categorical_accuracy: 0.6439\n",
      "Epoch 50/300\n",
      "97/97 [==============================] - ETA: 0s - loss: 0.0114 - categorical_accuracy: 0.9223\n",
      "Epoch 00050: val_categorical_accuracy did not improve from 0.67448\n",
      "97/97 [==============================] - 49s 506ms/step - loss: 0.0114 - categorical_accuracy: 0.9223 - val_loss: 3.2926 - val_categorical_accuracy: 0.6198\n",
      "Epoch 51/300\n",
      "97/97 [==============================] - ETA: 0s - loss: 0.0068 - categorical_accuracy: 0.9278\n",
      "Epoch 00051: val_categorical_accuracy did not improve from 0.67448\n",
      "\n",
      "Epoch 00051: ReduceLROnPlateau reducing learning rate to 0.0001166399975772947.\n",
      "97/97 [==============================] - 47s 481ms/step - loss: 0.0068 - categorical_accuracy: 0.9278 - val_loss: 3.0086 - val_categorical_accuracy: 0.6523\n",
      "Epoch 52/300\n",
      "97/97 [==============================] - ETA: 0s - loss: 0.0059 - categorical_accuracy: 0.9221\n",
      "Epoch 00052: val_categorical_accuracy did not improve from 0.67448\n",
      "97/97 [==============================] - 48s 495ms/step - loss: 0.0059 - categorical_accuracy: 0.9221 - val_loss: 2.8883 - val_categorical_accuracy: 0.6680\n",
      "Epoch 53/300\n",
      "97/97 [==============================] - ETA: 0s - loss: 0.0030 - categorical_accuracy: 0.9289\n",
      "Epoch 00053: val_categorical_accuracy did not improve from 0.67448\n",
      "97/97 [==============================] - 48s 497ms/step - loss: 0.0030 - categorical_accuracy: 0.9289 - val_loss: 2.8305 - val_categorical_accuracy: 0.6660\n",
      "Epoch 54/300\n",
      "97/97 [==============================] - ETA: 0s - loss: 0.0028 - categorical_accuracy: 0.9263\n",
      "Epoch 00054: val_categorical_accuracy did not improve from 0.67448\n",
      "97/97 [==============================] - 48s 492ms/step - loss: 0.0028 - categorical_accuracy: 0.9263 - val_loss: 2.8596 - val_categorical_accuracy: 0.6732\n",
      "Epoch 55/300\n",
      "97/97 [==============================] - ETA: 0s - loss: 0.0022 - categorical_accuracy: 0.9263\n",
      "Epoch 00055: val_categorical_accuracy did not improve from 0.67448\n",
      "97/97 [==============================] - 49s 503ms/step - loss: 0.0022 - categorical_accuracy: 0.9263 - val_loss: 3.0062 - val_categorical_accuracy: 0.6654\n",
      "Epoch 56/300\n",
      "97/97 [==============================] - ETA: 0s - loss: 0.0043 - categorical_accuracy: 0.9303\n",
      "Epoch 00056: val_categorical_accuracy did not improve from 0.67448\n",
      "97/97 [==============================] - 48s 495ms/step - loss: 0.0043 - categorical_accuracy: 0.9303 - val_loss: 2.9990 - val_categorical_accuracy: 0.6647\n",
      "Epoch 57/300\n",
      "97/97 [==============================] - ETA: 0s - loss: 0.0049 - categorical_accuracy: 0.9284\n",
      "Epoch 00057: val_categorical_accuracy improved from 0.67448 to 0.68229, saving model to CuratedTotal.best_weights_128.hdf5\n",
      "97/97 [==============================] - 50s 514ms/step - loss: 0.0049 - categorical_accuracy: 0.9284 - val_loss: 2.9183 - val_categorical_accuracy: 0.6823\n",
      "Epoch 58/300\n",
      "97/97 [==============================] - ETA: 0s - loss: 0.0039 - categorical_accuracy: 0.9326\n",
      "Epoch 00058: val_categorical_accuracy did not improve from 0.68229\n",
      "97/97 [==============================] - 48s 490ms/step - loss: 0.0039 - categorical_accuracy: 0.9326 - val_loss: 2.9192 - val_categorical_accuracy: 0.6680\n",
      "Epoch 59/300\n",
      "97/97 [==============================] - ETA: 0s - loss: 0.0029 - categorical_accuracy: 0.9295\n",
      "Epoch 00059: val_categorical_accuracy did not improve from 0.68229\n",
      "97/97 [==============================] - 49s 510ms/step - loss: 0.0029 - categorical_accuracy: 0.9295 - val_loss: 2.9946 - val_categorical_accuracy: 0.6693\n",
      "Epoch 60/300\n",
      "97/97 [==============================] - ETA: 0s - loss: 0.0023 - categorical_accuracy: 0.9274\n",
      "Epoch 00060: val_categorical_accuracy did not improve from 0.68229\n",
      "97/97 [==============================] - 48s 490ms/step - loss: 0.0023 - categorical_accuracy: 0.9274 - val_loss: 2.9118 - val_categorical_accuracy: 0.6816\n",
      "Epoch 61/300\n",
      "97/97 [==============================] - ETA: 0s - loss: 0.0015 - categorical_accuracy: 0.9274\n",
      "Epoch 00061: val_categorical_accuracy improved from 0.68229 to 0.68424, saving model to CuratedTotal.best_weights_128.hdf5\n",
      "97/97 [==============================] - 48s 498ms/step - loss: 0.0015 - categorical_accuracy: 0.9274 - val_loss: 2.8906 - val_categorical_accuracy: 0.6842\n",
      "Epoch 62/300\n",
      "97/97 [==============================] - ETA: 0s - loss: 0.0017 - categorical_accuracy: 0.9292\n",
      "Epoch 00062: val_categorical_accuracy did not improve from 0.68424\n",
      "97/97 [==============================] - 47s 480ms/step - loss: 0.0017 - categorical_accuracy: 0.9292 - val_loss: 3.0069 - val_categorical_accuracy: 0.6784\n",
      "Epoch 63/300\n",
      "97/97 [==============================] - ETA: 0s - loss: 0.0060 - categorical_accuracy: 0.9290\n",
      "Epoch 00063: val_categorical_accuracy did not improve from 0.68424\n",
      "97/97 [==============================] - 46s 479ms/step - loss: 0.0060 - categorical_accuracy: 0.9290 - val_loss: 3.1745 - val_categorical_accuracy: 0.6615\n",
      "Epoch 64/300\n",
      "97/97 [==============================] - ETA: 0s - loss: 0.0036 - categorical_accuracy: 0.9295\n",
      "Epoch 00064: val_categorical_accuracy did not improve from 0.68424\n",
      "97/97 [==============================] - 48s 493ms/step - loss: 0.0036 - categorical_accuracy: 0.9295 - val_loss: 3.0968 - val_categorical_accuracy: 0.6706\n",
      "Epoch 65/300\n",
      "97/97 [==============================] - ETA: 0s - loss: 0.0027 - categorical_accuracy: 0.9368\n",
      "Epoch 00065: val_categorical_accuracy did not improve from 0.68424\n",
      "97/97 [==============================] - 47s 484ms/step - loss: 0.0027 - categorical_accuracy: 0.9368 - val_loss: 3.0163 - val_categorical_accuracy: 0.6777\n",
      "Epoch 66/300\n",
      "97/97 [==============================] - ETA: 0s - loss: 0.0054 - categorical_accuracy: 0.9307\n",
      "Epoch 00066: val_categorical_accuracy did not improve from 0.68424\n",
      "97/97 [==============================] - 46s 476ms/step - loss: 0.0054 - categorical_accuracy: 0.9307 - val_loss: 3.3956 - val_categorical_accuracy: 0.6354\n",
      "Epoch 67/300\n",
      "97/97 [==============================] - ETA: 0s - loss: 0.0073 - categorical_accuracy: 0.9315\n",
      "Epoch 00067: val_categorical_accuracy did not improve from 0.68424\n",
      "\n",
      "Epoch 00067: ReduceLROnPlateau reducing learning rate to 6.998399767326191e-05.\n",
      "97/97 [==============================] - 47s 486ms/step - loss: 0.0073 - categorical_accuracy: 0.9315 - val_loss: 3.2610 - val_categorical_accuracy: 0.6556\n",
      "Epoch 68/300\n",
      "97/97 [==============================] - ETA: 0s - loss: 0.0034 - categorical_accuracy: 0.9305\n",
      "Epoch 00068: val_categorical_accuracy did not improve from 0.68424\n",
      "97/97 [==============================] - 47s 485ms/step - loss: 0.0034 - categorical_accuracy: 0.9305 - val_loss: 3.1414 - val_categorical_accuracy: 0.6621\n",
      "Epoch 69/300\n",
      "97/97 [==============================] - ETA: 0s - loss: 0.0014 - categorical_accuracy: 0.9268\n",
      "Epoch 00069: val_categorical_accuracy did not improve from 0.68424\n",
      "97/97 [==============================] - 48s 498ms/step - loss: 0.0014 - categorical_accuracy: 0.9268 - val_loss: 3.0207 - val_categorical_accuracy: 0.6777\n",
      "Epoch 70/300\n",
      "97/97 [==============================] - ETA: 0s - loss: 0.0018 - categorical_accuracy: 0.9289\n",
      "Epoch 00070: val_categorical_accuracy did not improve from 0.68424\n",
      "97/97 [==============================] - 48s 490ms/step - loss: 0.0018 - categorical_accuracy: 0.9289 - val_loss: 2.9519 - val_categorical_accuracy: 0.6790\n",
      "Epoch 71/300\n",
      "97/97 [==============================] - ETA: 0s - loss: 0.0013 - categorical_accuracy: 0.9332\n",
      "Epoch 00071: val_categorical_accuracy did not improve from 0.68424\n",
      "97/97 [==============================] - 48s 494ms/step - loss: 0.0013 - categorical_accuracy: 0.9332 - val_loss: 2.9768 - val_categorical_accuracy: 0.6823\n",
      "Epoch 72/300\n",
      "97/97 [==============================] - ETA: 0s - loss: 0.0012 - categorical_accuracy: 0.9287\n",
      "Epoch 00072: val_categorical_accuracy did not improve from 0.68424\n",
      "97/97 [==============================] - 49s 503ms/step - loss: 0.0012 - categorical_accuracy: 0.9287 - val_loss: 3.0189 - val_categorical_accuracy: 0.6803\n",
      "Epoch 73/300\n",
      "97/97 [==============================] - ETA: 0s - loss: 0.0015 - categorical_accuracy: 0.9320\n",
      "Epoch 00073: val_categorical_accuracy did not improve from 0.68424\n",
      "\n",
      "Epoch 00073: ReduceLROnPlateau reducing learning rate to 4.199039685772732e-05.\n",
      "97/97 [==============================] - 48s 494ms/step - loss: 0.0015 - categorical_accuracy: 0.9320 - val_loss: 2.9966 - val_categorical_accuracy: 0.6738\n",
      "Epoch 74/300\n",
      "97/97 [==============================] - ETA: 0s - loss: 0.0011 - categorical_accuracy: 0.9334\n",
      "Epoch 00074: val_categorical_accuracy did not improve from 0.68424\n",
      "97/97 [==============================] - 50s 515ms/step - loss: 0.0011 - categorical_accuracy: 0.9334 - val_loss: 2.9907 - val_categorical_accuracy: 0.6797\n",
      "Epoch 75/300\n",
      "97/97 [==============================] - ETA: 0s - loss: 0.0013 - categorical_accuracy: 0.9347\n",
      "Epoch 00075: val_categorical_accuracy did not improve from 0.68424\n",
      "97/97 [==============================] - 48s 499ms/step - loss: 0.0013 - categorical_accuracy: 0.9347 - val_loss: 3.0186 - val_categorical_accuracy: 0.6758\n",
      "Epoch 76/300\n",
      "97/97 [==============================] - ETA: 0s - loss: 9.7568e-04 - categorical_accuracy: 0.9386\n",
      "Epoch 00076: val_categorical_accuracy did not improve from 0.68424\n",
      "97/97 [==============================] - 48s 499ms/step - loss: 9.7568e-04 - categorical_accuracy: 0.9386 - val_loss: 3.0569 - val_categorical_accuracy: 0.6777\n",
      "Epoch 77/300\n",
      "97/97 [==============================] - ETA: 0s - loss: 8.7661e-04 - categorical_accuracy: 0.9350\n",
      "Epoch 00077: val_categorical_accuracy did not improve from 0.68424\n",
      "97/97 [==============================] - 50s 516ms/step - loss: 8.7661e-04 - categorical_accuracy: 0.9350 - val_loss: 3.0475 - val_categorical_accuracy: 0.6751\n",
      "Epoch 78/300\n",
      "97/97 [==============================] - ETA: 0s - loss: 0.0010 - categorical_accuracy: 0.9324\n",
      "Epoch 00078: val_categorical_accuracy did not improve from 0.68424\n",
      "97/97 [==============================] - 47s 489ms/step - loss: 0.0010 - categorical_accuracy: 0.9324 - val_loss: 3.0493 - val_categorical_accuracy: 0.6784\n",
      "Epoch 79/300\n",
      "97/97 [==============================] - ETA: 0s - loss: 0.0012 - categorical_accuracy: 0.9336\n",
      "Epoch 00079: val_categorical_accuracy improved from 0.68424 to 0.68555, saving model to CuratedTotal.best_weights_128.hdf5\n",
      "97/97 [==============================] - 52s 532ms/step - loss: 0.0012 - categorical_accuracy: 0.9336 - val_loss: 3.0174 - val_categorical_accuracy: 0.6855\n",
      "Epoch 80/300\n",
      "97/97 [==============================] - ETA: 0s - loss: 9.2000e-04 - categorical_accuracy: 0.9366\n",
      "Epoch 00080: val_categorical_accuracy did not improve from 0.68555\n",
      "97/97 [==============================] - 48s 498ms/step - loss: 9.2000e-04 - categorical_accuracy: 0.9366 - val_loss: 3.0366 - val_categorical_accuracy: 0.6790\n",
      "Epoch 81/300\n",
      "97/97 [==============================] - ETA: 0s - loss: 6.6872e-04 - categorical_accuracy: 0.9347\n",
      "Epoch 00081: val_categorical_accuracy did not improve from 0.68555\n",
      "97/97 [==============================] - 48s 499ms/step - loss: 6.6872e-04 - categorical_accuracy: 0.9347 - val_loss: 3.0125 - val_categorical_accuracy: 0.6855\n",
      "Epoch 82/300\n",
      "97/97 [==============================] - ETA: 0s - loss: 6.3771e-04 - categorical_accuracy: 0.9337\n",
      "Epoch 00082: val_categorical_accuracy improved from 0.68555 to 0.68880, saving model to CuratedTotal.best_weights_128.hdf5\n",
      "97/97 [==============================] - 51s 524ms/step - loss: 6.3771e-04 - categorical_accuracy: 0.9337 - val_loss: 2.9944 - val_categorical_accuracy: 0.6888\n",
      "Epoch 83/300\n",
      "97/97 [==============================] - ETA: 0s - loss: 7.1872e-04 - categorical_accuracy: 0.9360\n",
      "Epoch 00083: val_categorical_accuracy did not improve from 0.68880\n",
      "97/97 [==============================] - 49s 506ms/step - loss: 7.1872e-04 - categorical_accuracy: 0.9360 - val_loss: 3.0098 - val_categorical_accuracy: 0.6868\n",
      "Epoch 84/300\n",
      "97/97 [==============================] - ETA: 0s - loss: 7.2943e-04 - categorical_accuracy: 0.9341\n",
      "Epoch 00084: val_categorical_accuracy did not improve from 0.68880\n",
      "97/97 [==============================] - 49s 506ms/step - loss: 7.2943e-04 - categorical_accuracy: 0.9341 - val_loss: 3.0117 - val_categorical_accuracy: 0.6882\n",
      "Epoch 85/300\n",
      "97/97 [==============================] - ETA: 0s - loss: 4.4465e-04 - categorical_accuracy: 0.9308\n",
      "Epoch 00085: val_categorical_accuracy did not improve from 0.68880\n",
      "97/97 [==============================] - 49s 500ms/step - loss: 4.4465e-04 - categorical_accuracy: 0.9308 - val_loss: 3.0232 - val_categorical_accuracy: 0.6836\n",
      "Epoch 86/300\n",
      "97/97 [==============================] - ETA: 0s - loss: 5.4925e-04 - categorical_accuracy: 0.9347\n",
      "Epoch 00086: val_categorical_accuracy did not improve from 0.68880\n",
      "97/97 [==============================] - 48s 495ms/step - loss: 5.4925e-04 - categorical_accuracy: 0.9347 - val_loss: 3.0510 - val_categorical_accuracy: 0.6810\n",
      "Epoch 87/300\n",
      "97/97 [==============================] - ETA: 0s - loss: 6.6864e-04 - categorical_accuracy: 0.9300\n",
      "Epoch 00087: val_categorical_accuracy did not improve from 0.68880\n",
      "97/97 [==============================] - 50s 517ms/step - loss: 6.6864e-04 - categorical_accuracy: 0.9300 - val_loss: 3.0723 - val_categorical_accuracy: 0.6777\n",
      "Epoch 88/300\n",
      "97/97 [==============================] - ETA: 0s - loss: 6.7510e-04 - categorical_accuracy: 0.9341\n",
      "Epoch 00088: val_categorical_accuracy did not improve from 0.68880\n",
      "\n",
      "Epoch 00088: ReduceLROnPlateau reducing learning rate to 2.519423724152148e-05.\n",
      "97/97 [==============================] - 47s 489ms/step - loss: 6.7510e-04 - categorical_accuracy: 0.9341 - val_loss: 3.0548 - val_categorical_accuracy: 0.6810\n",
      "Epoch 89/300\n",
      "97/97 [==============================] - ETA: 0s - loss: 0.0011 - categorical_accuracy: 0.9331\n",
      "Epoch 00089: val_categorical_accuracy did not improve from 0.68880\n",
      "97/97 [==============================] - 50s 518ms/step - loss: 0.0011 - categorical_accuracy: 0.9331 - val_loss: 3.0156 - val_categorical_accuracy: 0.6862\n",
      "Epoch 90/300\n",
      "97/97 [==============================] - ETA: 0s - loss: 4.9369e-04 - categorical_accuracy: 0.9323\n",
      "Epoch 00090: val_categorical_accuracy did not improve from 0.68880\n",
      "97/97 [==============================] - 47s 486ms/step - loss: 4.9369e-04 - categorical_accuracy: 0.9323 - val_loss: 3.0029 - val_categorical_accuracy: 0.6882\n",
      "Epoch 91/300\n",
      "97/97 [==============================] - ETA: 0s - loss: 4.5462e-04 - categorical_accuracy: 0.9297\n",
      "Epoch 00091: val_categorical_accuracy did not improve from 0.68880\n",
      "97/97 [==============================] - 49s 505ms/step - loss: 4.5462e-04 - categorical_accuracy: 0.9297 - val_loss: 3.0273 - val_categorical_accuracy: 0.6862\n",
      "Epoch 92/300\n",
      "97/97 [==============================] - ETA: 0s - loss: 5.7332e-04 - categorical_accuracy: 0.9342\n",
      "Epoch 00092: val_categorical_accuracy did not improve from 0.68880\n",
      "97/97 [==============================] - 51s 522ms/step - loss: 5.7332e-04 - categorical_accuracy: 0.9342 - val_loss: 3.0320 - val_categorical_accuracy: 0.6862\n",
      "Epoch 93/300\n",
      "97/97 [==============================] - ETA: 0s - loss: 5.3776e-04 - categorical_accuracy: 0.9373\n",
      "Epoch 00093: val_categorical_accuracy did not improve from 0.68880\n",
      "97/97 [==============================] - 49s 509ms/step - loss: 5.3776e-04 - categorical_accuracy: 0.9373 - val_loss: 3.0521 - val_categorical_accuracy: 0.6823\n",
      "Epoch 94/300\n",
      "97/97 [==============================] - ETA: 0s - loss: 4.5571e-04 - categorical_accuracy: 0.9344\n",
      "Epoch 00094: val_categorical_accuracy did not improve from 0.68880\n",
      "\n",
      "Epoch 00094: ReduceLROnPlateau reducing learning rate to 1.511654190835543e-05.\n",
      "97/97 [==============================] - 48s 498ms/step - loss: 4.5571e-04 - categorical_accuracy: 0.9344 - val_loss: 3.0755 - val_categorical_accuracy: 0.6836\n",
      "Epoch 95/300\n",
      "97/97 [==============================] - ETA: 0s - loss: 6.3654e-04 - categorical_accuracy: 0.9339\n",
      "Epoch 00095: val_categorical_accuracy did not improve from 0.68880\n",
      "97/97 [==============================] - 50s 520ms/step - loss: 6.3654e-04 - categorical_accuracy: 0.9339 - val_loss: 3.0911 - val_categorical_accuracy: 0.6875\n",
      "Epoch 96/300\n",
      "97/97 [==============================] - ETA: 0s - loss: 3.9952e-04 - categorical_accuracy: 0.9321\n",
      "Epoch 00096: val_categorical_accuracy did not improve from 0.68880\n",
      "97/97 [==============================] - 48s 496ms/step - loss: 3.9952e-04 - categorical_accuracy: 0.9321 - val_loss: 3.0785 - val_categorical_accuracy: 0.6849\n",
      "Epoch 97/300\n",
      "97/97 [==============================] - ETA: 0s - loss: 3.4377e-04 - categorical_accuracy: 0.9308\n",
      "Epoch 00097: val_categorical_accuracy did not improve from 0.68880\n",
      "97/97 [==============================] - 51s 526ms/step - loss: 3.4377e-04 - categorical_accuracy: 0.9308 - val_loss: 3.0750 - val_categorical_accuracy: 0.6829\n",
      "Epoch 98/300\n",
      "97/97 [==============================] - ETA: 0s - loss: 6.6165e-04 - categorical_accuracy: 0.9316\n",
      "Epoch 00098: val_categorical_accuracy did not improve from 0.68880\n",
      "97/97 [==============================] - 47s 489ms/step - loss: 6.6165e-04 - categorical_accuracy: 0.9316 - val_loss: 3.0523 - val_categorical_accuracy: 0.6888\n",
      "Epoch 99/300\n",
      "97/97 [==============================] - ETA: 0s - loss: 3.7088e-04 - categorical_accuracy: 0.9324\n",
      "Epoch 00099: val_categorical_accuracy did not improve from 0.68880\n",
      "97/97 [==============================] - 47s 485ms/step - loss: 3.7088e-04 - categorical_accuracy: 0.9324 - val_loss: 3.0545 - val_categorical_accuracy: 0.6888\n",
      "Epoch 100/300\n",
      "97/97 [==============================] - ETA: 0s - loss: 5.1797e-04 - categorical_accuracy: 0.9347\n",
      "Epoch 00100: val_categorical_accuracy did not improve from 0.68880\n",
      "\n",
      "Epoch 00100: ReduceLROnPlateau reducing learning rate to 9.069925363291987e-06.\n",
      "97/97 [==============================] - 49s 508ms/step - loss: 5.1797e-04 - categorical_accuracy: 0.9347 - val_loss: 3.0800 - val_categorical_accuracy: 0.6842\n",
      "Epoch 101/300\n",
      "97/97 [==============================] - ETA: 0s - loss: 3.7417e-04 - categorical_accuracy: 0.9358\n",
      "Epoch 00101: val_categorical_accuracy did not improve from 0.68880\n",
      "97/97 [==============================] - 47s 485ms/step - loss: 3.7417e-04 - categorical_accuracy: 0.9358 - val_loss: 3.0626 - val_categorical_accuracy: 0.6888\n",
      "Epoch 102/300\n",
      "97/97 [==============================] - ETA: 0s - loss: 4.4976e-04 - categorical_accuracy: 0.9349\n",
      "Epoch 00102: val_categorical_accuracy did not improve from 0.68880\n",
      "97/97 [==============================] - 48s 492ms/step - loss: 4.4976e-04 - categorical_accuracy: 0.9349 - val_loss: 3.0569 - val_categorical_accuracy: 0.6810\n",
      "Epoch 103/300\n",
      "97/97 [==============================] - ETA: 0s - loss: 3.4087e-04 - categorical_accuracy: 0.9378\n",
      "Epoch 00103: val_categorical_accuracy did not improve from 0.68880\n",
      "97/97 [==============================] - 50s 512ms/step - loss: 3.4087e-04 - categorical_accuracy: 0.9378 - val_loss: 3.0614 - val_categorical_accuracy: 0.6836\n",
      "Epoch 104/300\n",
      "97/97 [==============================] - ETA: 0s - loss: 4.3986e-04 - categorical_accuracy: 0.9303\n",
      "Epoch 00104: val_categorical_accuracy did not improve from 0.68880\n",
      "97/97 [==============================] - 48s 490ms/step - loss: 4.3986e-04 - categorical_accuracy: 0.9303 - val_loss: 3.0667 - val_categorical_accuracy: 0.6829\n",
      "Epoch 105/300\n",
      "97/97 [==============================] - ETA: 0s - loss: 3.9178e-04 - categorical_accuracy: 0.9297\n",
      "Epoch 00105: val_categorical_accuracy did not improve from 0.68880\n",
      "97/97 [==============================] - 46s 479ms/step - loss: 3.9178e-04 - categorical_accuracy: 0.9297 - val_loss: 3.0606 - val_categorical_accuracy: 0.6862\n",
      "Epoch 106/300\n",
      "97/97 [==============================] - ETA: 0s - loss: 3.1779e-04 - categorical_accuracy: 0.9324\n",
      "Epoch 00106: val_categorical_accuracy did not improve from 0.68880\n",
      "\n",
      "Epoch 00106: ReduceLROnPlateau reducing learning rate to 5.441954999696463e-06.\n",
      "97/97 [==============================] - 49s 503ms/step - loss: 3.1779e-04 - categorical_accuracy: 0.9324 - val_loss: 3.0633 - val_categorical_accuracy: 0.6868\n",
      "Epoch 107/300\n",
      "97/97 [==============================] - ETA: 0s - loss: 7.0134e-04 - categorical_accuracy: 0.9318\n",
      "Epoch 00107: val_categorical_accuracy did not improve from 0.68880\n",
      "97/97 [==============================] - 47s 484ms/step - loss: 7.0134e-04 - categorical_accuracy: 0.9318 - val_loss: 3.0839 - val_categorical_accuracy: 0.6862\n",
      "Epoch 108/300\n",
      "97/97 [==============================] - ETA: 0s - loss: 4.0470e-04 - categorical_accuracy: 0.9315\n",
      "Epoch 00108: val_categorical_accuracy did not improve from 0.68880\n",
      "97/97 [==============================] - 51s 521ms/step - loss: 4.0470e-04 - categorical_accuracy: 0.9315 - val_loss: 3.0727 - val_categorical_accuracy: 0.6882\n",
      "Epoch 109/300\n",
      "97/97 [==============================] - ETA: 0s - loss: 2.9057e-04 - categorical_accuracy: 0.9328\n",
      "Epoch 00109: val_categorical_accuracy did not improve from 0.68880\n",
      "97/97 [==============================] - 50s 518ms/step - loss: 2.9057e-04 - categorical_accuracy: 0.9328 - val_loss: 3.0824 - val_categorical_accuracy: 0.6829\n",
      "Epoch 110/300\n",
      "97/97 [==============================] - ETA: 0s - loss: 4.1431e-04 - categorical_accuracy: 0.9321\n",
      "Epoch 00110: val_categorical_accuracy did not improve from 0.68880\n",
      "97/97 [==============================] - 48s 498ms/step - loss: 4.1431e-04 - categorical_accuracy: 0.9321 - val_loss: 3.0816 - val_categorical_accuracy: 0.6862\n",
      "Epoch 111/300\n",
      "97/97 [==============================] - ETA: 0s - loss: 3.3825e-04 - categorical_accuracy: 0.9318\n",
      "Epoch 00111: val_categorical_accuracy did not improve from 0.68880\n",
      "97/97 [==============================] - 45s 461ms/step - loss: 3.3825e-04 - categorical_accuracy: 0.9318 - val_loss: 3.0798 - val_categorical_accuracy: 0.6875\n",
      "Epoch 112/300\n",
      "97/97 [==============================] - ETA: 0s - loss: 3.6999e-04 - categorical_accuracy: 0.9287\n",
      "Epoch 00112: val_categorical_accuracy did not improve from 0.68880\n",
      "\n",
      "Epoch 00112: ReduceLROnPlateau reducing learning rate to 3.265173108957242e-06.\n",
      "97/97 [==============================] - 47s 487ms/step - loss: 3.6999e-04 - categorical_accuracy: 0.9287 - val_loss: 3.0796 - val_categorical_accuracy: 0.6868\n",
      "Epoch 00112: early stopping\n"
     ]
    }
   ],
   "source": [
    "history=custom_densenet169_model.fit_generator(generator=train_generator,\n",
    "                    steps_per_epoch=STEP_SIZE_TRAIN,\n",
    "                    validation_data=valid_generator,\n",
    "                    validation_steps=STEP_SIZE_VALID,\n",
    "                    epochs=300,\n",
    "                    callbacks=callbacks_list\n",
    ")"
   ]
  },
  {
   "cell_type": "code",
   "execution_count": 30,
   "metadata": {
    "execution": {
     "iopub.execute_input": "2020-10-02T07:10:36.903109Z",
     "iopub.status.busy": "2020-10-02T07:10:36.900993Z",
     "iopub.status.idle": "2020-10-02T07:10:36.903826Z",
     "shell.execute_reply": "2020-10-02T07:10:36.904347Z"
    },
    "papermill": {
     "duration": 3.993503,
     "end_time": "2020-10-02T07:10:36.904484",
     "exception": false,
     "start_time": "2020-10-02T07:10:32.910981",
     "status": "completed"
    },
    "tags": []
   },
   "outputs": [],
   "source": [
    "#history.history"
   ]
  },
  {
   "cell_type": "code",
   "execution_count": 31,
   "metadata": {
    "execution": {
     "iopub.execute_input": "2020-10-02T07:10:46.197841Z",
     "iopub.status.busy": "2020-10-02T07:10:46.196707Z",
     "iopub.status.idle": "2020-10-02T07:10:46.400384Z",
     "shell.execute_reply": "2020-10-02T07:10:46.401036Z"
    },
    "papermill": {
     "duration": 5.07321,
     "end_time": "2020-10-02T07:10:46.401199",
     "exception": false,
     "start_time": "2020-10-02T07:10:41.327989",
     "status": "completed"
    },
    "tags": []
   },
   "outputs": [
    {
     "data": {
      "image/png": "[encoded data removed]",
      "text/plain": [
       "<Figure size 432x288 with 1 Axes>"
      ]
     },
     "metadata": {
      "needs_background": "light"
     },
     "output_type": "display_data"
    }
   ],
   "source": [
    "import matplotlib.pyplot as plt\n",
    "\n",
    "\n",
    "loss_train = history.history['loss']\n",
    "loss_val = history.history['val_loss']\n",
    "#epochs = np.range(1,1)\n",
    "plt.plot(loss_train, 'g', label='Training loss')\n",
    "plt.plot(loss_val, 'b', label='validation loss')\n",
    "plt.title('Training and Validation loss')\n",
    "plt.xlabel('Epochs')\n",
    "plt.ylabel('Loss')\n",
    "plt.legend()\n",
    "plt.show()"
   ]
  },
  {
   "cell_type": "code",
   "execution_count": 32,
   "metadata": {
    "execution": {
     "iopub.execute_input": "2020-10-02T07:10:55.083552Z",
     "iopub.status.busy": "2020-10-02T07:10:55.082177Z",
     "iopub.status.idle": "2020-10-02T07:10:55.262197Z",
     "shell.execute_reply": "2020-10-02T07:10:55.262724Z"
    },
    "papermill": {
     "duration": 4.641404,
     "end_time": "2020-10-02T07:10:55.262873",
     "exception": false,
     "start_time": "2020-10-02T07:10:50.621469",
     "status": "completed"
    },
    "tags": []
   },
   "outputs": [
    {
     "data": {
      "image/png": "[encoded data removed]",
      "text/plain": [
       "<Figure size 432x288 with 1 Axes>"
      ]
     },
     "metadata": {
      "needs_background": "light"
     },
     "output_type": "display_data"
    }
   ],
   "source": [
    "loss_train = history.history['categorical_accuracy']\n",
    "loss_val = history.history['val_categorical_accuracy']\n",
    "epochs = range(1,41)\n",
    "plt.plot(loss_train, 'g', label='Training accuracy')\n",
    "plt.plot(loss_val, 'b', label='validation accuracy')\n",
    "plt.title('Training and Validation accuracy')\n",
    "plt.xlabel('Epochs')\n",
    "plt.ylabel('Accuracy')\n",
    "plt.legend()\n",
    "plt.show()"
   ]
  },
  {
   "cell_type": "code",
   "execution_count": 33,
   "metadata": {
    "execution": {
     "iopub.execute_input": "2020-10-02T07:11:03.531189Z",
     "iopub.status.busy": "2020-10-02T07:11:03.530461Z",
     "iopub.status.idle": "2020-10-02T07:11:07.760386Z",
     "shell.execute_reply": "2020-10-02T07:11:07.759424Z"
    },
    "papermill": {
     "duration": 8.456601,
     "end_time": "2020-10-02T07:11:07.760505",
     "exception": false,
     "start_time": "2020-10-02T07:10:59.303904",
     "status": "completed"
    },
    "tags": []
   },
   "outputs": [
    {
     "name": "stdout",
     "output_type": "stream",
     "text": [
      "25/25 [==============================] - 3s 113ms/step\n"
     ]
    }
   ],
   "source": [
    "res = custom_densenet169_model.predict_generator(valid_generator, verbose=1)\n",
    "\n",
    "    "
   ]
  },
  {
   "cell_type": "code",
   "execution_count": 34,
   "metadata": {
    "execution": {
     "iopub.execute_input": "2020-10-02T07:11:16.319331Z",
     "iopub.status.busy": "2020-10-02T07:11:16.318182Z",
     "iopub.status.idle": "2020-10-02T07:11:21.830488Z",
     "shell.execute_reply": "2020-10-02T07:11:21.829948Z"
    },
    "papermill": {
     "duration": 10.064323,
     "end_time": "2020-10-02T07:11:21.830601",
     "exception": false,
     "start_time": "2020-10-02T07:11:11.766278",
     "status": "completed"
    },
    "tags": []
   },
   "outputs": [
    {
     "name": "stdout",
     "output_type": "stream",
     "text": [
      "22/22 [==============================] - 4s 196ms/step\n"
     ]
    }
   ],
   "source": [
    "test_generator.reset()\n",
    "res_test=custom_densenet169_model.predict_generator(test_generator,\n",
    "#steps=STEP_SIZE_TEST,\n",
    "verbose=1)"
   ]
  },
  {
   "cell_type": "code",
   "execution_count": 35,
   "metadata": {
    "execution": {
     "iopub.execute_input": "2020-10-02T07:11:30.072637Z",
     "iopub.status.busy": "2020-10-02T07:11:30.071565Z",
     "iopub.status.idle": "2020-10-02T07:11:33.045584Z",
     "shell.execute_reply": "2020-10-02T07:11:33.045072Z"
    },
    "papermill": {
     "duration": 7.063192,
     "end_time": "2020-10-02T07:11:33.045699",
     "exception": false,
     "start_time": "2020-10-02T07:11:25.982507",
     "status": "completed"
    },
    "tags": []
   },
   "outputs": [
    {
     "name": "stdout",
     "output_type": "stream",
     "text": [
      "25/25 [==============================] - 3s 108ms/step\n"
     ]
    }
   ],
   "source": [
    "valid_generator.reset()\n",
    "res_cv=custom_densenet169_model.predict_generator(valid_generator,\n",
    "#steps=STEP_SIZE_TEST,\n",
    "verbose=1)"
   ]
  },
  {
   "cell_type": "code",
   "execution_count": 36,
   "metadata": {
    "execution": {
     "iopub.execute_input": "2020-10-02T07:11:41.841043Z",
     "iopub.status.busy": "2020-10-02T07:11:41.839946Z",
     "iopub.status.idle": "2020-10-02T07:12:21.868904Z",
     "shell.execute_reply": "2020-10-02T07:12:21.868400Z"
    },
    "papermill": {
     "duration": 44.573144,
     "end_time": "2020-10-02T07:12:21.869043",
     "exception": false,
     "start_time": "2020-10-02T07:11:37.295899",
     "status": "completed"
    },
    "tags": []
   },
   "outputs": [
    {
     "name": "stdout",
     "output_type": "stream",
     "text": [
      "98/98 [==============================] - 39s 400ms/step\n"
     ]
    }
   ],
   "source": [
    "train_generator.reset()\n",
    "res_train=custom_densenet169_model.predict_generator(train_generator,\n",
    "#steps=STEP_SIZE_TEST,\n",
    "verbose=1)"
   ]
  },
  {
   "cell_type": "code",
   "execution_count": 37,
   "metadata": {
    "execution": {
     "iopub.execute_input": "2020-10-02T07:12:30.045532Z",
     "iopub.status.busy": "2020-10-02T07:12:30.044660Z",
     "iopub.status.idle": "2020-10-02T07:12:30.047887Z",
     "shell.execute_reply": "2020-10-02T07:12:30.048400Z"
    },
    "papermill": {
     "duration": 4.039999,
     "end_time": "2020-10-02T07:12:30.048536",
     "exception": false,
     "start_time": "2020-10-02T07:12:26.008537",
     "status": "completed"
    },
    "tags": []
   },
   "outputs": [
    {
     "data": {
      "text/plain": [
       "(1380, 80)"
      ]
     },
     "execution_count": 37,
     "metadata": {},
     "output_type": "execute_result"
    }
   ],
   "source": [
    "res_test.shape"
   ]
  },
  {
   "cell_type": "code",
   "execution_count": 38,
   "metadata": {
    "execution": {
     "iopub.execute_input": "2020-10-02T07:12:38.325823Z",
     "iopub.status.busy": "2020-10-02T07:12:38.325040Z",
     "iopub.status.idle": "2020-10-02T07:12:38.513215Z",
     "shell.execute_reply": "2020-10-02T07:12:38.512521Z"
    },
    "papermill": {
     "duration": 4.171769,
     "end_time": "2020-10-02T07:12:38.513331",
     "exception": false,
     "start_time": "2020-10-02T07:12:34.341562",
     "status": "completed"
    },
    "tags": []
   },
   "outputs": [],
   "source": [
    "# Converting taget and identity columns to booleans\n",
    "\n",
    "target_columns=list(trainmultidf.columns)[:-1]\n",
    "\n",
    "def convert_to_bool(df, col_name):\n",
    "    df[col_name] = np.where(df[col_name] >= 0.5, True, False)\n",
    "    \n",
    "def convert_dataframe_to_bool(df):\n",
    "    bool_df = df.copy()\n",
    "    for col in target_columns:\n",
    "        convert_to_bool(bool_df, col)\n",
    "    return bool_df\n",
    "\n",
    "test_bool = convert_dataframe_to_bool(testmultidf) \n",
    "test_lable_bool=test_bool[list(test_bool.columns)[:-1]].to_numpy()\n",
    "\n",
    "train_bool = convert_dataframe_to_bool(trainmultidf) \n",
    "train_lable_bool=train_bool[list(train_bool.columns)[:-1]].to_numpy()\n",
    "\n",
    "cv_bool = convert_dataframe_to_bool(cvmultidf) \n",
    "cv_lable_bool=cv_bool[list(cv_bool.columns)[:-1]].to_numpy()"
   ]
  },
  {
   "cell_type": "code",
   "execution_count": 39,
   "metadata": {
    "execution": {
     "iopub.execute_input": "2020-10-02T07:12:47.736752Z",
     "iopub.status.busy": "2020-10-02T07:12:47.735639Z",
     "iopub.status.idle": "2020-10-02T07:12:47.740063Z",
     "shell.execute_reply": "2020-10-02T07:12:47.737684Z"
    },
    "papermill": {
     "duration": 4.697632,
     "end_time": "2020-10-02T07:12:47.740227",
     "exception": false,
     "start_time": "2020-10-02T07:12:43.042595",
     "status": "completed"
    },
    "tags": []
   },
   "outputs": [
    {
     "data": {
      "text/plain": [
       "(1563, 80)"
      ]
     },
     "execution_count": 39,
     "metadata": {},
     "output_type": "execute_result"
    }
   ],
   "source": [
    "cv_lable_bool.shape"
   ]
  },
  {
   "cell_type": "markdown",
   "metadata": {
    "papermill": {
     "duration": 4.307535,
     "end_time": "2020-10-02T07:12:56.433291",
     "exception": false,
     "start_time": "2020-10-02T07:12:52.125756",
     "status": "completed"
    },
    "tags": []
   },
   "source": [
    "# Evaluation Metric"
   ]
  },
  {
   "cell_type": "code",
   "execution_count": 40,
   "metadata": {
    "execution": {
     "iopub.execute_input": "2020-10-02T07:13:04.880804Z",
     "iopub.status.busy": "2020-10-02T07:13:04.879680Z",
     "iopub.status.idle": "2020-10-02T07:13:04.882446Z",
     "shell.execute_reply": "2020-10-02T07:13:04.881579Z"
    },
    "papermill": {
     "duration": 4.32151,
     "end_time": "2020-10-02T07:13:04.882607",
     "exception": false,
     "start_time": "2020-10-02T07:13:00.561097",
     "status": "completed"
    },
    "tags": []
   },
   "outputs": [],
   "source": [
    "import numpy as np\n",
    "import sklearn.metrics"
   ]
  },
  {
   "cell_type": "code",
   "execution_count": 41,
   "metadata": {
    "execution": {
     "iopub.execute_input": "2020-10-02T07:13:13.278165Z",
     "iopub.status.busy": "2020-10-02T07:13:13.276153Z",
     "iopub.status.idle": "2020-10-02T07:13:13.278918Z",
     "shell.execute_reply": "2020-10-02T07:13:13.279464Z"
    },
    "papermill": {
     "duration": 4.072428,
     "end_time": "2020-10-02T07:13:13.279597",
     "exception": false,
     "start_time": "2020-10-02T07:13:09.207169",
     "status": "completed"
    },
    "tags": []
   },
   "outputs": [],
   "source": [
    "# Core calculation of label precisions for one test sample.\n",
    "\n",
    "def _one_sample_positive_class_precisions(scores, truth):\n",
    "  \"\"\"Calculate precisions for each true class for a single sample.\n",
    "  \n",
    "  Args:\n",
    "    scores: np.array of (num_classes,) giving the individual classifier scores.\n",
    "    truth: np.array of (num_classes,) bools indicating which classes are true.\n",
    "\n",
    "  Returns:\n",
    "    pos_class_indices: np.array of indices of the true classes for this sample.\n",
    "    pos_class_precisions: np.array of precisions corresponding to each of those\n",
    "      classes.\n",
    "  \"\"\"\n",
    "  num_classes = scores.shape[0]\n",
    "  pos_class_indices = np.flatnonzero(truth > 0)\n",
    "  # Only calculate precisions if there are some true classes.\n",
    "  if not len(pos_class_indices):\n",
    "    return pos_class_indices, np.zeros(0)\n",
    "  # Retrieval list of classes for this sample. \n",
    "  retrieved_classes = np.argsort(scores)[::-1]\n",
    "  # class_rankings[top_scoring_class_index] == 0 etc.\n",
    "  class_rankings = np.zeros(num_classes, dtype=np.int)\n",
    "  class_rankings[retrieved_classes] = range(num_classes)\n",
    "  # Which of these is a true label?\n",
    "  retrieved_class_true = np.zeros(num_classes, dtype=np.bool)\n",
    "  retrieved_class_true[class_rankings[pos_class_indices]] = True\n",
    "  # Num hits for every truncated retrieval list.\n",
    "  retrieved_cumulative_hits = np.cumsum(retrieved_class_true)\n",
    "  # Precision of retrieval list truncated at each hit, in order of pos_labels.\n",
    "  precision_at_hits = (\n",
    "      retrieved_cumulative_hits[class_rankings[pos_class_indices]] / \n",
    "      (1 + class_rankings[pos_class_indices].astype(np.float)))\n",
    "  return pos_class_indices, precision_at_hits\n"
   ]
  },
  {
   "cell_type": "code",
   "execution_count": 42,
   "metadata": {
    "execution": {
     "iopub.execute_input": "2020-10-02T07:13:21.906096Z",
     "iopub.status.busy": "2020-10-02T07:13:21.905096Z",
     "iopub.status.idle": "2020-10-02T07:13:21.907632Z",
     "shell.execute_reply": "2020-10-02T07:13:21.908164Z"
    },
    "papermill": {
     "duration": 4.2999,
     "end_time": "2020-10-02T07:13:21.908305",
     "exception": false,
     "start_time": "2020-10-02T07:13:17.608405",
     "status": "completed"
    },
    "tags": []
   },
   "outputs": [],
   "source": [
    "# All-in-one calculation of per-class lwlrap.\n",
    "\n",
    "def calculate_per_class_lwlrap(truth, scores):\n",
    "  \"\"\"Calculate label-weighted label-ranking average precision.\n",
    "  \n",
    "  Arguments:\n",
    "    truth: np.array of (num_samples, num_classes) giving boolean ground-truth\n",
    "      of presence of that class in that sample.\n",
    "    scores: np.array of (num_samples, num_classes) giving the classifier-under-\n",
    "      test's real-valued score for each class for each sample.\n",
    "  \n",
    "  Returns:\n",
    "    per_class_lwlrap: np.array of (num_classes,) giving the lwlrap for each \n",
    "      class.\n",
    "    weight_per_class: np.array of (num_classes,) giving the prior of each \n",
    "      class within the truth labels.  Then the overall unbalanced lwlrap is \n",
    "      simply np.sum(per_class_lwlrap * weight_per_class)\n",
    "  \"\"\"\n",
    "  assert truth.shape == scores.shape\n",
    "  num_samples, num_classes = scores.shape\n",
    "  # Space to store a distinct precision value for each class on each sample.\n",
    "  # Only the classes that are true for each sample will be filled in.\n",
    "  precisions_for_samples_by_classes = np.zeros((num_samples, num_classes))\n",
    "  for sample_num in range(num_samples):\n",
    "    pos_class_indices, precision_at_hits = (\n",
    "      _one_sample_positive_class_precisions(scores[sample_num, :], \n",
    "                                            truth[sample_num, :]))\n",
    "    precisions_for_samples_by_classes[sample_num, pos_class_indices] = (\n",
    "        precision_at_hits)\n",
    "  labels_per_class = np.sum(truth > 0, axis=0)\n",
    "  weight_per_class = labels_per_class / float(np.sum(labels_per_class))\n",
    "  # Form average of each column, i.e. all the precisions assigned to labels in\n",
    "  # a particular class.\n",
    "  per_class_lwlrap = (np.sum(precisions_for_samples_by_classes, axis=0) / \n",
    "                      np.maximum(1, labels_per_class))\n",
    "  # overall_lwlrap = simple average of all the actual per-class, per-sample precisions\n",
    "  #                = np.sum(precisions_for_samples_by_classes) / np.sum(precisions_for_samples_by_classes > 0)\n",
    "  #           also = weighted mean of per-class lwlraps, weighted by class label prior across samples\n",
    "  #                = np.sum(per_class_lwlrap * weight_per_class)\n",
    "  return per_class_lwlrap, weight_per_class"
   ]
  },
  {
   "cell_type": "code",
   "execution_count": 43,
   "metadata": {
    "execution": {
     "iopub.execute_input": "2020-10-02T07:13:30.365060Z",
     "iopub.status.busy": "2020-10-02T07:13:30.363974Z",
     "iopub.status.idle": "2020-10-02T07:13:30.366448Z",
     "shell.execute_reply": "2020-10-02T07:13:30.366877Z"
    },
    "papermill": {
     "duration": 4.300556,
     "end_time": "2020-10-02T07:13:30.367024",
     "exception": false,
     "start_time": "2020-10-02T07:13:26.066468",
     "status": "completed"
    },
    "tags": []
   },
   "outputs": [],
   "source": [
    "# Calculate the overall lwlrap using sklearn.metrics function.\n",
    "\n",
    "def calculate_overall_lwlrap_sklearn(truth, scores):\n",
    "  \"\"\"Calculate the overall lwlrap using sklearn.metrics.lrap.\"\"\"\n",
    "  # sklearn doesn't correctly apply weighting to samples with no labels, so just skip them.\n",
    "  sample_weight = np.sum(truth > 0, axis=1)\n",
    "  nonzero_weight_sample_indices = np.flatnonzero(sample_weight > 0)\n",
    "  overall_lwlrap = sklearn.metrics.label_ranking_average_precision_score(\n",
    "      truth[nonzero_weight_sample_indices, :] > 0, \n",
    "      scores[nonzero_weight_sample_indices, :], \n",
    "      sample_weight=sample_weight[nonzero_weight_sample_indices])\n",
    "  return overall_lwlrap"
   ]
  },
  {
   "cell_type": "code",
   "execution_count": 44,
   "metadata": {
    "execution": {
     "iopub.execute_input": "2020-10-02T07:13:38.830366Z",
     "iopub.status.busy": "2020-10-02T07:13:38.829266Z",
     "iopub.status.idle": "2020-10-02T07:13:38.831847Z",
     "shell.execute_reply": "2020-10-02T07:13:38.832339Z"
    },
    "papermill": {
     "duration": 4.356292,
     "end_time": "2020-10-02T07:13:38.832498",
     "exception": false,
     "start_time": "2020-10-02T07:13:34.476206",
     "status": "completed"
    },
    "tags": []
   },
   "outputs": [],
   "source": [
    "# Accumulator object version.\n",
    "\n",
    "class lwlrap_accumulator(object):\n",
    "  \"\"\"Accumulate batches of test samples into per-class and overall lwlrap.\"\"\"  \n",
    "\n",
    "  def __init__(self):\n",
    "    self.num_classes = 0\n",
    "    self.total_num_samples = 0\n",
    "  \n",
    "  def accumulate_samples(self, batch_truth, batch_scores):\n",
    "    \"\"\"Cumulate a new batch of samples into the metric.\n",
    "    \n",
    "    Args:\n",
    "      truth: np.array of (num_samples, num_classes) giving boolean\n",
    "        ground-truth of presence of that class in that sample for this batch.\n",
    "      scores: np.array of (num_samples, num_classes) giving the \n",
    "        classifier-under-test's real-valued score for each class for each\n",
    "        sample.\n",
    "    \"\"\"\n",
    "    assert batch_scores.shape == batch_truth.shape\n",
    "    num_samples, num_classes = batch_truth.shape\n",
    "    if not self.num_classes:\n",
    "      self.num_classes = num_classes\n",
    "      self._per_class_cumulative_precision = np.zeros(self.num_classes)\n",
    "      self._per_class_cumulative_count = np.zeros(self.num_classes, \n",
    "                                                  dtype=np.int)\n",
    "    assert num_classes == self.num_classes\n",
    "    for truth, scores in zip(batch_truth, batch_scores):\n",
    "      pos_class_indices, precision_at_hits = (\n",
    "        _one_sample_positive_class_precisions(scores, truth))\n",
    "      self._per_class_cumulative_precision[pos_class_indices] += (\n",
    "        precision_at_hits)\n",
    "      self._per_class_cumulative_count[pos_class_indices] += 1\n",
    "    self.total_num_samples += num_samples\n",
    "\n",
    "  def per_class_lwlrap(self):\n",
    "    \"\"\"Return a vector of the per-class lwlraps for the accumulated samples.\"\"\"\n",
    "    return (self._per_class_cumulative_precision / \n",
    "            np.maximum(1, self._per_class_cumulative_count))\n",
    "\n",
    "  def per_class_weight(self):\n",
    "    \"\"\"Return a normalized weight vector for the contributions of each class.\"\"\"\n",
    "    return (self._per_class_cumulative_count / \n",
    "            float(np.sum(self._per_class_cumulative_count)))\n",
    "\n",
    "  def overall_lwlrap(self):\n",
    "    \"\"\"Return the scalar overall lwlrap for cumulated samples.\"\"\"\n",
    "    return np.sum(self.per_class_lwlrap() * self.per_class_weight())"
   ]
  },
  {
   "cell_type": "code",
   "execution_count": 45,
   "metadata": {
    "execution": {
     "iopub.execute_input": "2020-10-02T07:13:47.677248Z",
     "iopub.status.busy": "2020-10-02T07:13:47.676096Z",
     "iopub.status.idle": "2020-10-02T07:13:47.920099Z",
     "shell.execute_reply": "2020-10-02T07:13:47.919444Z"
    },
    "papermill": {
     "duration": 4.448961,
     "end_time": "2020-10-02T07:13:47.920239",
     "exception": false,
     "start_time": "2020-10-02T07:13:43.471278",
     "status": "completed"
    },
    "tags": []
   },
   "outputs": [
    {
     "name": "stdout",
     "output_type": "stream",
     "text": [
      "lwlrap from sklearn.metrics = 0.8074724721460631\n"
     ]
    }
   ],
   "source": [
    "#https://www.kaggle.com/voglinio/keras-2d-model-5-fold-log-specgram-curated-only\n",
    "truth = test_lable_bool\n",
    "scores = res_test\n",
    "print(\"lwlrap from sklearn.metrics =\", calculate_overall_lwlrap_sklearn(truth, scores))"
   ]
  },
  {
   "cell_type": "code",
   "execution_count": 46,
   "metadata": {
    "execution": {
     "iopub.execute_input": "2020-10-02T07:13:56.940503Z",
     "iopub.status.busy": "2020-10-02T07:13:56.939586Z",
     "iopub.status.idle": "2020-10-02T07:13:57.838754Z",
     "shell.execute_reply": "2020-10-02T07:13:57.837847Z"
    },
    "papermill": {
     "duration": 5.090663,
     "end_time": "2020-10-02T07:13:57.838885",
     "exception": false,
     "start_time": "2020-10-02T07:13:52.748222",
     "status": "completed"
    },
    "tags": []
   },
   "outputs": [
    {
     "name": "stdout",
     "output_type": "stream",
     "text": [
      "lwlrap from sklearn.metrics = 0.9999308628318584\n"
     ]
    }
   ],
   "source": [
    "truth = train_lable_bool\n",
    "scores = res_train\n",
    "print(\"lwlrap from sklearn.metrics =\", calculate_overall_lwlrap_sklearn(truth, scores))"
   ]
  },
  {
   "cell_type": "code",
   "execution_count": 47,
   "metadata": {
    "execution": {
     "iopub.execute_input": "2020-10-02T07:14:06.366986Z",
     "iopub.status.busy": "2020-10-02T07:14:06.366111Z",
     "iopub.status.idle": "2020-10-02T07:14:06.584666Z",
     "shell.execute_reply": "2020-10-02T07:14:06.584135Z"
    },
    "papermill": {
     "duration": 4.294959,
     "end_time": "2020-10-02T07:14:06.584790",
     "exception": false,
     "start_time": "2020-10-02T07:14:02.289831",
     "status": "completed"
    },
    "tags": []
   },
   "outputs": [
    {
     "name": "stdout",
     "output_type": "stream",
     "text": [
      "lwlrap from sklearn.metrics = 0.8049703875164653\n"
     ]
    }
   ],
   "source": [
    "truth = cv_lable_bool\n",
    "scores = res_cv\n",
    "print(\"lwlrap from sklearn.metrics =\", calculate_overall_lwlrap_sklearn(truth, scores))"
   ]
  },
  {
   "cell_type": "markdown",
   "metadata": {
    "papermill": {
     "duration": 4.294708,
     "end_time": "2020-10-02T07:14:15.058602",
     "exception": false,
     "start_time": "2020-10-02T07:14:10.763894",
     "status": "completed"
    },
    "tags": []
   },
   "source": [
    "## SUBMISSION"
   ]
  },
  {
   "cell_type": "code",
   "execution_count": 48,
   "metadata": {
    "execution": {
     "iopub.execute_input": "2020-10-02T07:14:23.823740Z",
     "iopub.status.busy": "2020-10-02T07:14:23.823029Z",
     "iopub.status.idle": "2020-10-02T07:14:24.455361Z",
     "shell.execute_reply": "2020-10-02T07:14:24.454651Z"
    },
    "papermill": {
     "duration": 5.196637,
     "end_time": "2020-10-02T07:14:24.455495",
     "exception": false,
     "start_time": "2020-10-02T07:14:19.258858",
     "status": "completed"
    },
    "tags": []
   },
   "outputs": [
    {
     "name": "stdout",
     "output_type": "stream",
     "text": [
      "Found 3361 validated image filenames.\n"
     ]
    }
   ],
   "source": [
    "sub_dataframe = pd.DataFrame({'fname':os.listdir('../input/sc2-total-aug-noisy-data/sub2/sub2')})\n",
    "\n",
    "sub_datagen=ImageDataGenerator(rescale=1./255.)\n",
    "sub_generator=sub_datagen.flow_from_dataframe(\n",
    "    dataframe=sub_dataframe,\n",
    "    directory=\"../input/sc2-total-aug-noisy-data/sub2/sub2\",\n",
    "    x_col=\"fname\",\n",
    "    y_col=None,\n",
    "    batch_size=64,\n",
    "    seed=42,\n",
    "    shuffle=False,\n",
    "    class_mode=None,\n",
    "    target_size=(128,128))"
   ]
  },
  {
   "cell_type": "code",
   "execution_count": 49,
   "metadata": {
    "execution": {
     "iopub.execute_input": "2020-10-02T07:14:32.776080Z",
     "iopub.status.busy": "2020-10-02T07:14:32.774267Z",
     "iopub.status.idle": "2020-10-02T07:14:32.776733Z",
     "shell.execute_reply": "2020-10-02T07:14:32.777299Z"
    },
    "papermill": {
     "duration": 4.16352,
     "end_time": "2020-10-02T07:14:32.777453",
     "exception": false,
     "start_time": "2020-10-02T07:14:28.613933",
     "status": "completed"
    },
    "tags": []
   },
   "outputs": [],
   "source": [
    "STEP_SIZE_SUB=sub_generator.n//sub_generator.batch_size"
   ]
  },
  {
   "cell_type": "code",
   "execution_count": 50,
   "metadata": {
    "execution": {
     "iopub.execute_input": "2020-10-02T07:14:41.557745Z",
     "iopub.status.busy": "2020-10-02T07:14:41.556446Z",
     "iopub.status.idle": "2020-10-02T07:14:53.069382Z",
     "shell.execute_reply": "2020-10-02T07:14:53.069887Z"
    },
    "papermill": {
     "duration": 15.920632,
     "end_time": "2020-10-02T07:14:53.070077",
     "exception": false,
     "start_time": "2020-10-02T07:14:37.149445",
     "status": "completed"
    },
    "tags": []
   },
   "outputs": [
    {
     "name": "stdout",
     "output_type": "stream",
     "text": [
      "53/53 [==============================] - 11s 210ms/step\n"
     ]
    }
   ],
   "source": [
    "sub_generator.reset()\n",
    "res_sub=custom_densenet169_model.predict_generator(sub_generator,\n",
    "#steps=STEP_SIZE_TEST,\n",
    "verbose=1)"
   ]
  },
  {
   "cell_type": "code",
   "execution_count": 51,
   "metadata": {
    "execution": {
     "iopub.execute_input": "2020-10-02T07:15:01.943304Z",
     "iopub.status.busy": "2020-10-02T07:15:01.942289Z",
     "iopub.status.idle": "2020-10-02T07:15:01.946047Z",
     "shell.execute_reply": "2020-10-02T07:15:01.946708Z"
    },
    "papermill": {
     "duration": 4.224631,
     "end_time": "2020-10-02T07:15:01.946859",
     "exception": false,
     "start_time": "2020-10-02T07:14:57.722228",
     "status": "completed"
    },
    "tags": []
   },
   "outputs": [
    {
     "data": {
      "text/plain": [
       "(3361, 80)"
      ]
     },
     "execution_count": 51,
     "metadata": {},
     "output_type": "execute_result"
    }
   ],
   "source": [
    "res_sub.shape"
   ]
  },
  {
   "cell_type": "code",
   "execution_count": 52,
   "metadata": {
    "execution": {
     "iopub.execute_input": "2020-10-02T07:15:10.545544Z",
     "iopub.status.busy": "2020-10-02T07:15:10.544749Z",
     "iopub.status.idle": "2020-10-02T07:15:10.547827Z",
     "shell.execute_reply": "2020-10-02T07:15:10.548454Z"
    },
    "papermill": {
     "duration": 4.354228,
     "end_time": "2020-10-02T07:15:10.548587",
     "exception": false,
     "start_time": "2020-10-02T07:15:06.194359",
     "status": "completed"
    },
    "tags": []
   },
   "outputs": [],
   "source": [
    "submit_data=pd.DataFrame(res_sub.astype(\"float64\"), columns=list(mlb_train.classes_))"
   ]
  },
  {
   "cell_type": "code",
   "execution_count": 53,
   "metadata": {
    "execution": {
     "iopub.execute_input": "2020-10-02T07:15:19.037237Z",
     "iopub.status.busy": "2020-10-02T07:15:19.036225Z",
     "iopub.status.idle": "2020-10-02T07:15:19.078109Z",
     "shell.execute_reply": "2020-10-02T07:15:19.078871Z"
    },
    "papermill": {
     "duration": 4.462273,
     "end_time": "2020-10-02T07:15:19.079068",
     "exception": false,
     "start_time": "2020-10-02T07:15:14.616795",
     "status": "completed"
    },
    "tags": []
   },
   "outputs": [
    {
     "data": {
      "text/html": [
       "<div>\n",
       "<style scoped>\n",
       "    .dataframe tbody tr th:only-of-type {\n",
       "        vertical-align: middle;\n",
       "    }\n",
       "\n",
       "    .dataframe tbody tr th {\n",
       "        vertical-align: top;\n",
       "    }\n",
       "\n",
       "    .dataframe thead th {\n",
       "        text-align: right;\n",
       "    }\n",
       "</style>\n",
       "<table border=\"1\" class=\"dataframe\">\n",
       "  <thead>\n",
       "    <tr style=\"text-align: right;\">\n",
       "      <th></th>\n",
       "      <th>fname</th>\n",
       "      <th>Accelerating_and_revving_and_vroom</th>\n",
       "      <th>Accordion</th>\n",
       "      <th>Acoustic_guitar</th>\n",
       "      <th>Applause</th>\n",
       "      <th>Bark</th>\n",
       "      <th>Bass_drum</th>\n",
       "      <th>Bass_guitar</th>\n",
       "      <th>Bathtub_(filling_or_washing)</th>\n",
       "      <th>Bicycle_bell</th>\n",
       "      <th>...</th>\n",
       "      <th>Toilet_flush</th>\n",
       "      <th>Traffic_noise_and_roadway_noise</th>\n",
       "      <th>Trickle_and_dribble</th>\n",
       "      <th>Walk_and_footsteps</th>\n",
       "      <th>Water_tap_and_faucet</th>\n",
       "      <th>Waves_and_surf</th>\n",
       "      <th>Whispering</th>\n",
       "      <th>Writing</th>\n",
       "      <th>Yell</th>\n",
       "      <th>Zipper_(clothing)</th>\n",
       "    </tr>\n",
       "  </thead>\n",
       "  <tbody>\n",
       "    <tr>\n",
       "      <th>0</th>\n",
       "      <td>53cefef0.wav</td>\n",
       "      <td>5.553702e-14</td>\n",
       "      <td>1.957025e-14</td>\n",
       "      <td>6.743435e-11</td>\n",
       "      <td>1.637716e-13</td>\n",
       "      <td>1.960598e-13</td>\n",
       "      <td>4.215897e-14</td>\n",
       "      <td>4.743796e-14</td>\n",
       "      <td>1.206324e-09</td>\n",
       "      <td>5.753498e-10</td>\n",
       "      <td>...</td>\n",
       "      <td>4.853393e-14</td>\n",
       "      <td>3.862015e-14</td>\n",
       "      <td>6.351180e-11</td>\n",
       "      <td>3.308965e-09</td>\n",
       "      <td>1.753048e-11</td>\n",
       "      <td>4.936781e-12</td>\n",
       "      <td>1.272402e-02</td>\n",
       "      <td>3.018206e-10</td>\n",
       "      <td>1.728585e-09</td>\n",
       "      <td>3.275658e-09</td>\n",
       "    </tr>\n",
       "    <tr>\n",
       "      <th>1</th>\n",
       "      <td>63b41f09.wav</td>\n",
       "      <td>5.898257e-10</td>\n",
       "      <td>6.431027e-10</td>\n",
       "      <td>1.933045e-10</td>\n",
       "      <td>7.318753e-12</td>\n",
       "      <td>2.102204e-12</td>\n",
       "      <td>5.823422e-12</td>\n",
       "      <td>9.261959e-08</td>\n",
       "      <td>1.335083e-09</td>\n",
       "      <td>3.818755e-10</td>\n",
       "      <td>...</td>\n",
       "      <td>4.014626e-11</td>\n",
       "      <td>6.230891e-11</td>\n",
       "      <td>9.212090e-10</td>\n",
       "      <td>2.650722e-08</td>\n",
       "      <td>2.771883e-09</td>\n",
       "      <td>8.950511e-13</td>\n",
       "      <td>2.278138e-12</td>\n",
       "      <td>1.299587e-08</td>\n",
       "      <td>8.417408e-16</td>\n",
       "      <td>1.767357e-10</td>\n",
       "    </tr>\n",
       "    <tr>\n",
       "      <th>2</th>\n",
       "      <td>9da3bbc9.wav</td>\n",
       "      <td>3.745905e-08</td>\n",
       "      <td>2.141320e-06</td>\n",
       "      <td>1.063218e-08</td>\n",
       "      <td>2.040909e-09</td>\n",
       "      <td>9.174256e-09</td>\n",
       "      <td>3.883961e-11</td>\n",
       "      <td>3.059084e-09</td>\n",
       "      <td>1.325925e-11</td>\n",
       "      <td>1.258961e-09</td>\n",
       "      <td>...</td>\n",
       "      <td>3.811850e-07</td>\n",
       "      <td>3.046223e-09</td>\n",
       "      <td>2.864792e-07</td>\n",
       "      <td>2.343874e-03</td>\n",
       "      <td>2.278811e-08</td>\n",
       "      <td>1.640941e-07</td>\n",
       "      <td>1.388952e-06</td>\n",
       "      <td>2.576881e-02</td>\n",
       "      <td>8.644134e-12</td>\n",
       "      <td>3.582381e-04</td>\n",
       "    </tr>\n",
       "    <tr>\n",
       "      <th>3</th>\n",
       "      <td>b6e192f8.wav</td>\n",
       "      <td>1.229282e-08</td>\n",
       "      <td>9.442545e-08</td>\n",
       "      <td>1.453655e-07</td>\n",
       "      <td>3.162507e-07</td>\n",
       "      <td>1.917082e-08</td>\n",
       "      <td>2.993225e-05</td>\n",
       "      <td>4.983318e-12</td>\n",
       "      <td>1.435291e-12</td>\n",
       "      <td>1.010546e-10</td>\n",
       "      <td>...</td>\n",
       "      <td>3.748635e-12</td>\n",
       "      <td>2.988703e-10</td>\n",
       "      <td>2.054388e-12</td>\n",
       "      <td>1.419871e-07</td>\n",
       "      <td>7.832487e-13</td>\n",
       "      <td>8.370399e-13</td>\n",
       "      <td>3.544139e-11</td>\n",
       "      <td>4.617150e-11</td>\n",
       "      <td>2.557907e-09</td>\n",
       "      <td>4.194332e-13</td>\n",
       "    </tr>\n",
       "    <tr>\n",
       "      <th>4</th>\n",
       "      <td>f2ebd17a.wav</td>\n",
       "      <td>1.953242e-08</td>\n",
       "      <td>1.350349e-06</td>\n",
       "      <td>2.354166e-10</td>\n",
       "      <td>2.297919e-09</td>\n",
       "      <td>1.134428e-02</td>\n",
       "      <td>1.269929e-05</td>\n",
       "      <td>3.557583e-11</td>\n",
       "      <td>2.062491e-09</td>\n",
       "      <td>9.091920e-11</td>\n",
       "      <td>...</td>\n",
       "      <td>1.303446e-10</td>\n",
       "      <td>1.994699e-10</td>\n",
       "      <td>1.415572e-12</td>\n",
       "      <td>2.081544e-03</td>\n",
       "      <td>1.119802e-14</td>\n",
       "      <td>5.798615e-09</td>\n",
       "      <td>5.208335e-09</td>\n",
       "      <td>1.763615e-06</td>\n",
       "      <td>7.500867e-11</td>\n",
       "      <td>3.177143e-06</td>\n",
       "    </tr>\n",
       "  </tbody>\n",
       "</table>\n",
       "<p>5 rows × 81 columns</p>\n",
       "</div>"
      ],
      "text/plain": [
       "          fname  Accelerating_and_revving_and_vroom     Accordion  \\\n",
       "0  53cefef0.wav                        5.553702e-14  1.957025e-14   \n",
       "1  63b41f09.wav                        5.898257e-10  6.431027e-10   \n",
       "2  9da3bbc9.wav                        3.745905e-08  2.141320e-06   \n",
       "3  b6e192f8.wav                        1.229282e-08  9.442545e-08   \n",
       "4  f2ebd17a.wav                        1.953242e-08  1.350349e-06   \n",
       "\n",
       "   Acoustic_guitar      Applause          Bark     Bass_drum   Bass_guitar  \\\n",
       "0     6.743435e-11  1.637716e-13  1.960598e-13  4.215897e-14  4.743796e-14   \n",
       "1     1.933045e-10  7.318753e-12  2.102204e-12  5.823422e-12  9.261959e-08   \n",
       "2     1.063218e-08  2.040909e-09  9.174256e-09  3.883961e-11  3.059084e-09   \n",
       "3     1.453655e-07  3.162507e-07  1.917082e-08  2.993225e-05  4.983318e-12   \n",
       "4     2.354166e-10  2.297919e-09  1.134428e-02  1.269929e-05  3.557583e-11   \n",
       "\n",
       "   Bathtub_(filling_or_washing)  Bicycle_bell  ...  Toilet_flush  \\\n",
       "0                  1.206324e-09  5.753498e-10  ...  4.853393e-14   \n",
       "1                  1.335083e-09  3.818755e-10  ...  4.014626e-11   \n",
       "2                  1.325925e-11  1.258961e-09  ...  3.811850e-07   \n",
       "3                  1.435291e-12  1.010546e-10  ...  3.748635e-12   \n",
       "4                  2.062491e-09  9.091920e-11  ...  1.303446e-10   \n",
       "\n",
       "   Traffic_noise_and_roadway_noise  Trickle_and_dribble  Walk_and_footsteps  \\\n",
       "0                     3.862015e-14         6.351180e-11        3.308965e-09   \n",
       "1                     6.230891e-11         9.212090e-10        2.650722e-08   \n",
       "2                     3.046223e-09         2.864792e-07        2.343874e-03   \n",
       "3                     2.988703e-10         2.054388e-12        1.419871e-07   \n",
       "4                     1.994699e-10         1.415572e-12        2.081544e-03   \n",
       "\n",
       "   Water_tap_and_faucet  Waves_and_surf    Whispering       Writing  \\\n",
       "0          1.753048e-11    4.936781e-12  1.272402e-02  3.018206e-10   \n",
       "1          2.771883e-09    8.950511e-13  2.278138e-12  1.299587e-08   \n",
       "2          2.278811e-08    1.640941e-07  1.388952e-06  2.576881e-02   \n",
       "3          7.832487e-13    8.370399e-13  3.544139e-11  4.617150e-11   \n",
       "4          1.119802e-14    5.798615e-09  5.208335e-09  1.763615e-06   \n",
       "\n",
       "           Yell  Zipper_(clothing)  \n",
       "0  1.728585e-09       3.275658e-09  \n",
       "1  8.417408e-16       1.767357e-10  \n",
       "2  8.644134e-12       3.582381e-04  \n",
       "3  2.557907e-09       4.194332e-13  \n",
       "4  7.500867e-11       3.177143e-06  \n",
       "\n",
       "[5 rows x 81 columns]"
      ]
     },
     "execution_count": 53,
     "metadata": {},
     "output_type": "execute_result"
    }
   ],
   "source": [
    "submit_data.insert(0, 'fname', os.listdir('../input/sc2-total-aug-noisy-data/sub2/sub2'))\n",
    "submit_data[\"fname\"]=submit_data[\"fname\"].apply(lambda x: x.split(\".\")[0]+\".wav\")\n",
    "submit_data.head()"
   ]
  },
  {
   "cell_type": "code",
   "execution_count": 54,
   "metadata": {
    "execution": {
     "iopub.execute_input": "2020-10-02T07:15:27.531743Z",
     "iopub.status.busy": "2020-10-02T07:15:27.531118Z",
     "iopub.status.idle": "2020-10-02T07:15:28.667869Z",
     "shell.execute_reply": "2020-10-02T07:15:28.666997Z"
    },
    "papermill": {
     "duration": 5.476091,
     "end_time": "2020-10-02T07:15:28.667996",
     "exception": false,
     "start_time": "2020-10-02T07:15:23.191905",
     "status": "completed"
    },
    "tags": []
   },
   "outputs": [],
   "source": [
    "submit_data.to_csv(\"ResNet50submissionDenseCuratedCV_0_128.csv\",index=False )"
   ]
  },
  {
   "cell_type": "code",
   "execution_count": null,
   "metadata": {
    "papermill": {
     "duration": 4.112684,
     "end_time": "2020-10-02T07:15:36.873901",
     "exception": false,
     "start_time": "2020-10-02T07:15:32.761217",
     "status": "completed"
    },
    "tags": []
   },
   "outputs": [],
   "source": []
  },
  {
   "cell_type": "code",
   "execution_count": null,
   "metadata": {
    "papermill": {
     "duration": 4.571133,
     "end_time": "2020-10-02T07:15:46.137365",
     "exception": false,
     "start_time": "2020-10-02T07:15:41.566232",
     "status": "completed"
    },
    "tags": []
   },
   "outputs": [],
   "source": []
  }
 ],
 "metadata": {
  "kernelspec": {
   "display_name": "Python 3",
   "language": "python",
   "name": "python3"
  },
  "language_info": {
   "codemirror_mode": {
    "name": "ipython",
    "version": 3
   },
   "file_extension": ".py",
   "mimetype": "text/x-python",
   "name": "python",
   "nbconvert_exporter": "python",
   "pygments_lexer": "ipython3",
   "version": "3.7.3"
  },
  "papermill": {
   "duration": 5751.981542,
   "end_time": "2020-10-02T07:15:51.653248",
   "environment_variables": {},
   "exception": null,
   "input_path": "__notebook__.ipynb",
   "output_path": "__notebook__.ipynb",
   "parameters": {},
   "start_time": "2020-10-02T05:39:59.671706",
   "version": "2.1.0"
  }
 },
 "nbformat": 4,
 "nbformat_minor": 4
}
