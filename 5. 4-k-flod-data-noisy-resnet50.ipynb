{
 "cells": [
  {
   "cell_type": "code",
   "execution_count": 1,
   "metadata": {
    "_cell_guid": "b1076dfc-b9ad-4769-8c92-a6c4dae69d19",
    "_uuid": "8f2839f25d086af736a60e9eeb907d3b93b6e0e5",
    "execution": {
     "iopub.execute_input": "2020-10-01T17:58:46.479670Z",
     "iopub.status.busy": "2020-10-01T17:58:46.478861Z",
     "iopub.status.idle": "2020-10-01T17:58:46.481853Z",
     "shell.execute_reply": "2020-10-01T17:58:46.481362Z"
    },
    "papermill": {
     "duration": 0.050623,
     "end_time": "2020-10-01T17:58:46.481972",
     "exception": false,
     "start_time": "2020-10-01T17:58:46.431349",
     "status": "completed"
    },
    "tags": []
   },
   "outputs": [],
   "source": [
    "\n",
    "import numpy as np # linear algebra\n",
    "import pandas as pd # data processing, CSV file I/O (e.g. pd.read_csv)\n",
    "\n",
    "import os"
   ]
  },
  {
   "cell_type": "code",
   "execution_count": 2,
   "metadata": {
    "execution": {
     "iopub.execute_input": "2020-10-01T17:58:46.573849Z",
     "iopub.status.busy": "2020-10-01T17:58:46.573250Z",
     "iopub.status.idle": "2020-10-01T17:58:46.612665Z",
     "shell.execute_reply": "2020-10-01T17:58:46.612184Z"
    },
    "papermill": {
     "duration": 0.087572,
     "end_time": "2020-10-01T17:58:46.612762",
     "exception": false,
     "start_time": "2020-10-01T17:58:46.525190",
     "status": "completed"
    },
    "tags": []
   },
   "outputs": [],
   "source": [
    "traindf_noisy=pd.read_csv('../input/freesound-audio-tagging-2019/train_noisy.csv',dtype=str)\n",
    "\n",
    "traindf_curated=pd.read_csv('../input/freesound-audio-tagging-2019/train_curated.csv',dtype=str)"
   ]
  },
  {
   "cell_type": "code",
   "execution_count": 3,
   "metadata": {
    "execution": {
     "iopub.execute_input": "2020-10-01T17:58:46.707049Z",
     "iopub.status.busy": "2020-10-01T17:58:46.706344Z",
     "iopub.status.idle": "2020-10-01T17:58:46.714106Z",
     "shell.execute_reply": "2020-10-01T17:58:46.714675Z"
    },
    "papermill": {
     "duration": 0.059896,
     "end_time": "2020-10-01T17:58:46.714784",
     "exception": false,
     "start_time": "2020-10-01T17:58:46.654888",
     "status": "completed"
    },
    "tags": []
   },
   "outputs": [
    {
     "data": {
      "text/html": [
       "<div>\n",
       "<style scoped>\n",
       "    .dataframe tbody tr th:only-of-type {\n",
       "        vertical-align: middle;\n",
       "    }\n",
       "\n",
       "    .dataframe tbody tr th {\n",
       "        vertical-align: top;\n",
       "    }\n",
       "\n",
       "    .dataframe thead th {\n",
       "        text-align: right;\n",
       "    }\n",
       "</style>\n",
       "<table border=\"1\" class=\"dataframe\">\n",
       "  <thead>\n",
       "    <tr style=\"text-align: right;\">\n",
       "      <th></th>\n",
       "      <th>fname</th>\n",
       "      <th>labels</th>\n",
       "    </tr>\n",
       "  </thead>\n",
       "  <tbody>\n",
       "    <tr>\n",
       "      <th>0</th>\n",
       "      <td>00097e21.wav</td>\n",
       "      <td>Bathtub_(filling_or_washing)</td>\n",
       "    </tr>\n",
       "    <tr>\n",
       "      <th>1</th>\n",
       "      <td>000b6cfb.wav</td>\n",
       "      <td>Motorcycle</td>\n",
       "    </tr>\n",
       "    <tr>\n",
       "      <th>2</th>\n",
       "      <td>00116cd2.wav</td>\n",
       "      <td>Marimba_and_xylophone,Glockenspiel</td>\n",
       "    </tr>\n",
       "    <tr>\n",
       "      <th>3</th>\n",
       "      <td>00127d14.wav</td>\n",
       "      <td>Water_tap_and_faucet,Sink_(filling_or_washing)</td>\n",
       "    </tr>\n",
       "    <tr>\n",
       "      <th>4</th>\n",
       "      <td>0019adae.wav</td>\n",
       "      <td>Raindrop</td>\n",
       "    </tr>\n",
       "  </tbody>\n",
       "</table>\n",
       "</div>"
      ],
      "text/plain": [
       "          fname                                          labels\n",
       "0  00097e21.wav                    Bathtub_(filling_or_washing)\n",
       "1  000b6cfb.wav                                      Motorcycle\n",
       "2  00116cd2.wav              Marimba_and_xylophone,Glockenspiel\n",
       "3  00127d14.wav  Water_tap_and_faucet,Sink_(filling_or_washing)\n",
       "4  0019adae.wav                                        Raindrop"
      ]
     },
     "execution_count": 3,
     "metadata": {},
     "output_type": "execute_result"
    }
   ],
   "source": [
    "traindf_noisy.head()"
   ]
  },
  {
   "cell_type": "markdown",
   "metadata": {},
   "source": [
    "# Loading 4-K Fold Noisy Train, CV and Test data"
   ]
  },
  {
   "cell_type": "code",
   "execution_count": 4,
   "metadata": {
    "execution": {
     "iopub.execute_input": "2020-10-01T17:58:46.807991Z",
     "iopub.status.busy": "2020-10-01T17:58:46.807369Z",
     "iopub.status.idle": "2020-10-01T17:58:46.837278Z",
     "shell.execute_reply": "2020-10-01T17:58:46.836684Z"
    },
    "papermill": {
     "duration": 0.079614,
     "end_time": "2020-10-01T17:58:46.837374",
     "exception": false,
     "start_time": "2020-10-01T17:58:46.757760",
     "status": "completed"
    },
    "tags": []
   },
   "outputs": [
    {
     "data": {
      "text/html": [
       "<div>\n",
       "<style scoped>\n",
       "    .dataframe tbody tr th:only-of-type {\n",
       "        vertical-align: middle;\n",
       "    }\n",
       "\n",
       "    .dataframe tbody tr th {\n",
       "        vertical-align: top;\n",
       "    }\n",
       "\n",
       "    .dataframe thead th {\n",
       "        text-align: right;\n",
       "    }\n",
       "</style>\n",
       "<table border=\"1\" class=\"dataframe\">\n",
       "  <thead>\n",
       "    <tr style=\"text-align: right;\">\n",
       "      <th></th>\n",
       "      <th>fname</th>\n",
       "      <th>labels</th>\n",
       "    </tr>\n",
       "  </thead>\n",
       "  <tbody>\n",
       "    <tr>\n",
       "      <th>0</th>\n",
       "      <td>161d2bb8.jpg</td>\n",
       "      <td>Bus,Microwave_oven</td>\n",
       "    </tr>\n",
       "    <tr>\n",
       "      <th>1</th>\n",
       "      <td>abf3a850.jpg</td>\n",
       "      <td>Bus</td>\n",
       "    </tr>\n",
       "    <tr>\n",
       "      <th>2</th>\n",
       "      <td>fd802069.jpg</td>\n",
       "      <td>Cheering</td>\n",
       "    </tr>\n",
       "    <tr>\n",
       "      <th>3</th>\n",
       "      <td>0f69e008_aug.jpg</td>\n",
       "      <td>Purr</td>\n",
       "    </tr>\n",
       "    <tr>\n",
       "      <th>4</th>\n",
       "      <td>5c51827a.jpg</td>\n",
       "      <td>Applause</td>\n",
       "    </tr>\n",
       "  </tbody>\n",
       "</table>\n",
       "</div>"
      ],
      "text/plain": [
       "              fname              labels\n",
       "0      161d2bb8.jpg  Bus,Microwave_oven\n",
       "1      abf3a850.jpg                 Bus\n",
       "2      fd802069.jpg            Cheering\n",
       "3  0f69e008_aug.jpg                Purr\n",
       "4      5c51827a.jpg            Applause"
      ]
     },
     "execution_count": 4,
     "metadata": {},
     "output_type": "execute_result"
    }
   ],
   "source": [
    "train_df = pd.read_csv(\"../input/sc2-total-aug-noisy-data/K_fold_data/K_fold_data/Noisy/Noisy_train_4.csv\")\n",
    "train_df.head()"
   ]
  },
  {
   "cell_type": "code",
   "execution_count": 5,
   "metadata": {
    "execution": {
     "iopub.execute_input": "2020-10-01T17:58:46.928225Z",
     "iopub.status.busy": "2020-10-01T17:58:46.927359Z",
     "iopub.status.idle": "2020-10-01T17:58:46.931281Z",
     "shell.execute_reply": "2020-10-01T17:58:46.930649Z"
    },
    "papermill": {
     "duration": 0.051031,
     "end_time": "2020-10-01T17:58:46.931376",
     "exception": false,
     "start_time": "2020-10-01T17:58:46.880345",
     "status": "completed"
    },
    "tags": []
   },
   "outputs": [
    {
     "data": {
      "text/plain": [
       "(19449, 2)"
      ]
     },
     "execution_count": 5,
     "metadata": {},
     "output_type": "execute_result"
    }
   ],
   "source": [
    "train_df.shape"
   ]
  },
  {
   "cell_type": "code",
   "execution_count": 6,
   "metadata": {
    "execution": {
     "iopub.execute_input": "2020-10-01T17:58:47.024198Z",
     "iopub.status.busy": "2020-10-01T17:58:47.023318Z",
     "iopub.status.idle": "2020-10-01T17:58:47.035246Z",
     "shell.execute_reply": "2020-10-01T17:58:47.035682Z"
    },
    "papermill": {
     "duration": 0.061133,
     "end_time": "2020-10-01T17:58:47.035815",
     "exception": false,
     "start_time": "2020-10-01T17:58:46.974682",
     "status": "completed"
    },
    "tags": []
   },
   "outputs": [
    {
     "data": {
      "text/plain": [
       "(4862, 2)"
      ]
     },
     "execution_count": 6,
     "metadata": {},
     "output_type": "execute_result"
    }
   ],
   "source": [
    "cv_df = pd.read_csv(\"../input/sc2-total-aug-noisy-data/K_fold_data/K_fold_data/Noisy/Noisy_cv_4.csv\")\n",
    "cv_df.shape"
   ]
  },
  {
   "cell_type": "code",
   "execution_count": 7,
   "metadata": {
    "execution": {
     "iopub.execute_input": "2020-10-01T17:58:47.132073Z",
     "iopub.status.busy": "2020-10-01T17:58:47.131428Z",
     "iopub.status.idle": "2020-10-01T17:58:47.145153Z",
     "shell.execute_reply": "2020-10-01T17:58:47.145668Z"
    },
    "papermill": {
     "duration": 0.065332,
     "end_time": "2020-10-01T17:58:47.145804",
     "exception": false,
     "start_time": "2020-10-01T17:58:47.080472",
     "status": "completed"
    },
    "tags": []
   },
   "outputs": [
    {
     "data": {
      "text/plain": [
       "(6078, 2)"
      ]
     },
     "execution_count": 7,
     "metadata": {},
     "output_type": "execute_result"
    }
   ],
   "source": [
    "    \n",
    "test_df = pd.read_csv(\"../input/sc2-total-aug-noisy-data/K_fold_data/K_fold_data/Noisy/Noisy_test.csv\") \n",
    "test_df.shape"
   ]
  },
  {
   "cell_type": "markdown",
   "metadata": {},
   "source": [
    "# Sklearn MultiLabelBinarizer to One-hot encode the multilablles"
   ]
  },
  {
   "cell_type": "code",
   "execution_count": 8,
   "metadata": {
    "execution": {
     "iopub.execute_input": "2020-10-01T17:58:47.242210Z",
     "iopub.status.busy": "2020-10-01T17:58:47.241535Z",
     "iopub.status.idle": "2020-10-01T17:58:48.146167Z",
     "shell.execute_reply": "2020-10-01T17:58:48.145553Z"
    },
    "papermill": {
     "duration": 0.956086,
     "end_time": "2020-10-01T17:58:48.146307",
     "exception": false,
     "start_time": "2020-10-01T17:58:47.190221",
     "status": "completed"
    },
    "tags": []
   },
   "outputs": [],
   "source": [
    "from sklearn.preprocessing import MultiLabelBinarizer\n",
    "\n",
    "mlb_train = MultiLabelBinarizer()\n",
    "\n",
    "\n",
    "labels_train = mlb_train.fit_transform([ i.split(\",\") for i in list(train_df[\"labels\"])])\n",
    "\n",
    "\n",
    "labels_test = mlb_train.transform([ i.split(\",\") for i in list(test_df[\"labels\"])])\n",
    "\n",
    "\n",
    "#mlb_cv = MultiLabelBinarizer()\n",
    "labels_cv = mlb_train.transform([ i.split(\",\") for i in list(cv_df[\"labels\"])])\n"
   ]
  },
  {
   "cell_type": "code",
   "execution_count": 9,
   "metadata": {
    "execution": {
     "iopub.execute_input": "2020-10-01T17:58:48.241575Z",
     "iopub.status.busy": "2020-10-01T17:58:48.240689Z",
     "iopub.status.idle": "2020-10-01T17:58:48.244377Z",
     "shell.execute_reply": "2020-10-01T17:58:48.245043Z"
    },
    "papermill": {
     "duration": 0.053738,
     "end_time": "2020-10-01T17:58:48.245166",
     "exception": false,
     "start_time": "2020-10-01T17:58:48.191428",
     "status": "completed"
    },
    "tags": []
   },
   "outputs": [
    {
     "data": {
      "text/plain": [
       "(6078, 80)"
      ]
     },
     "execution_count": 9,
     "metadata": {},
     "output_type": "execute_result"
    }
   ],
   "source": [
    "labels_test.shape"
   ]
  },
  {
   "cell_type": "code",
   "execution_count": 10,
   "metadata": {
    "execution": {
     "iopub.execute_input": "2020-10-01T17:58:48.351399Z",
     "iopub.status.busy": "2020-10-01T17:58:48.345766Z",
     "iopub.status.idle": "2020-10-01T17:58:48.354096Z",
     "shell.execute_reply": "2020-10-01T17:58:48.353607Z"
    },
    "papermill": {
     "duration": 0.064004,
     "end_time": "2020-10-01T17:58:48.354194",
     "exception": false,
     "start_time": "2020-10-01T17:58:48.290190",
     "status": "completed"
    },
    "tags": []
   },
   "outputs": [],
   "source": [
    "trainmultidf=pd.DataFrame(data=labels_train,columns=list(mlb_train.classes_))\n",
    "trainmultidf[\"fname\"]=list(train_df[\"fname\"])\n",
    "\n",
    "testmultidf=pd.DataFrame(data=labels_test,columns=list(mlb_train.classes_))\n",
    "testmultidf[\"fname\"]=list(test_df[\"fname\"])\n",
    "\n",
    "\n",
    "cvmultidf=pd.DataFrame(data=labels_cv,columns=list(mlb_train.classes_))\n",
    "cvmultidf[\"fname\"]=list(cv_df[\"fname\"])\n"
   ]
  },
  {
   "cell_type": "markdown",
   "metadata": {},
   "source": [
    "# Loading Preprocessed Spectrogram Images via ImageDataGenerator and adding augumnetation to train data"
   ]
  },
  {
   "cell_type": "code",
   "execution_count": 11,
   "metadata": {
    "execution": {
     "iopub.execute_input": "2020-10-01T17:58:48.450852Z",
     "iopub.status.busy": "2020-10-01T17:58:48.450138Z",
     "iopub.status.idle": "2020-10-01T17:58:58.106681Z",
     "shell.execute_reply": "2020-10-01T17:58:58.107707Z"
    },
    "papermill": {
     "duration": 9.708989,
     "end_time": "2020-10-01T17:58:58.107897",
     "exception": false,
     "start_time": "2020-10-01T17:58:48.398908",
     "status": "completed"
    },
    "tags": []
   },
   "outputs": [
    {
     "name": "stdout",
     "output_type": "stream",
     "text": [
      "Found 19449 validated image filenames.\n"
     ]
    }
   ],
   "source": [
    "#We change the ids for the images in the csv files to reflect their new status as jpgs\n",
    "#https://medium.com/@vijayabhaskar96/tutorial-on-keras-flow-from-dataframe-1fd4493d237c\n",
    "from keras_preprocessing.image import ImageDataGenerator\n",
    "\n",
    "\n",
    "\n",
    "datagen=ImageDataGenerator(rescale=1./255.,zoom_range=[0.5,1.0],brightness_range=[0.8,1.4])\n",
    "\n",
    "\n",
    "train_generator=datagen.flow_from_dataframe(\n",
    "    dataframe=trainmultidf,\n",
    "    directory=\"../input/sc2-total-aug-noisy-data/Total Images bucket Noisy/Total Images bucket Noisy\",\n",
    "    x_col=\"fname\",\n",
    "    y_col=list(mlb_train.classes_),\n",
    "    subset=\"training\",\n",
    "    batch_size=64,\n",
    "    seed=42,\n",
    "    shuffle=False,\n",
    "    class_mode=\"raw\",\n",
    "    #color_mode=\"grayscale\",\n",
    "    target_size=(128,128))\n",
    "\n"
   ]
  },
  {
   "cell_type": "code",
   "execution_count": 12,
   "metadata": {
    "execution": {
     "iopub.execute_input": "2020-10-01T17:58:58.216655Z",
     "iopub.status.busy": "2020-10-01T17:58:58.215625Z",
     "iopub.status.idle": "2020-10-01T17:58:58.220360Z",
     "shell.execute_reply": "2020-10-01T17:58:58.219783Z"
    },
    "papermill": {
     "duration": 0.062667,
     "end_time": "2020-10-01T17:58:58.220480",
     "exception": false,
     "start_time": "2020-10-01T17:58:58.157813",
     "status": "completed"
    },
    "tags": []
   },
   "outputs": [
    {
     "data": {
      "text/plain": [
       "19449"
      ]
     },
     "execution_count": 12,
     "metadata": {},
     "output_type": "execute_result"
    }
   ],
   "source": [
    "train_generator.n"
   ]
  },
  {
   "cell_type": "code",
   "execution_count": 13,
   "metadata": {
    "execution": {
     "iopub.execute_input": "2020-10-01T17:58:58.326641Z",
     "iopub.status.busy": "2020-10-01T17:58:58.325792Z",
     "iopub.status.idle": "2020-10-01T17:58:58.329322Z",
     "shell.execute_reply": "2020-10-01T17:58:58.329857Z"
    },
    "papermill": {
     "duration": 0.056514,
     "end_time": "2020-10-01T17:58:58.330003",
     "exception": false,
     "start_time": "2020-10-01T17:58:58.273489",
     "status": "completed"
    },
    "tags": []
   },
   "outputs": [
    {
     "data": {
      "text/plain": [
       "(4862, 81)"
      ]
     },
     "execution_count": 13,
     "metadata": {},
     "output_type": "execute_result"
    }
   ],
   "source": [
    "cvmultidf.shape"
   ]
  },
  {
   "cell_type": "code",
   "execution_count": 14,
   "metadata": {
    "execution": {
     "iopub.execute_input": "2020-10-01T17:58:58.441210Z",
     "iopub.status.busy": "2020-10-01T17:58:58.440232Z",
     "iopub.status.idle": "2020-10-01T17:58:58.444498Z",
     "shell.execute_reply": "2020-10-01T17:58:58.444029Z"
    },
    "papermill": {
     "duration": 0.067215,
     "end_time": "2020-10-01T17:58:58.444596",
     "exception": false,
     "start_time": "2020-10-01T17:58:58.377381",
     "status": "completed"
    },
    "tags": []
   },
   "outputs": [
    {
     "data": {
      "text/html": [
       "<div>\n",
       "<style scoped>\n",
       "    .dataframe tbody tr th:only-of-type {\n",
       "        vertical-align: middle;\n",
       "    }\n",
       "\n",
       "    .dataframe tbody tr th {\n",
       "        vertical-align: top;\n",
       "    }\n",
       "\n",
       "    .dataframe thead th {\n",
       "        text-align: right;\n",
       "    }\n",
       "</style>\n",
       "<table border=\"1\" class=\"dataframe\">\n",
       "  <thead>\n",
       "    <tr style=\"text-align: right;\">\n",
       "      <th></th>\n",
       "      <th>Accelerating_and_revving_and_vroom</th>\n",
       "      <th>Accordion</th>\n",
       "      <th>Acoustic_guitar</th>\n",
       "      <th>Applause</th>\n",
       "      <th>Bark</th>\n",
       "      <th>Bass_drum</th>\n",
       "      <th>Bass_guitar</th>\n",
       "      <th>Bathtub_(filling_or_washing)</th>\n",
       "      <th>Bicycle_bell</th>\n",
       "      <th>Burping_and_eructation</th>\n",
       "      <th>...</th>\n",
       "      <th>Traffic_noise_and_roadway_noise</th>\n",
       "      <th>Trickle_and_dribble</th>\n",
       "      <th>Walk_and_footsteps</th>\n",
       "      <th>Water_tap_and_faucet</th>\n",
       "      <th>Waves_and_surf</th>\n",
       "      <th>Whispering</th>\n",
       "      <th>Writing</th>\n",
       "      <th>Yell</th>\n",
       "      <th>Zipper_(clothing)</th>\n",
       "      <th>fname</th>\n",
       "    </tr>\n",
       "  </thead>\n",
       "  <tbody>\n",
       "    <tr>\n",
       "      <th>0</th>\n",
       "      <td>0</td>\n",
       "      <td>0</td>\n",
       "      <td>0</td>\n",
       "      <td>0</td>\n",
       "      <td>0</td>\n",
       "      <td>0</td>\n",
       "      <td>0</td>\n",
       "      <td>0</td>\n",
       "      <td>0</td>\n",
       "      <td>0</td>\n",
       "      <td>...</td>\n",
       "      <td>0</td>\n",
       "      <td>0</td>\n",
       "      <td>0</td>\n",
       "      <td>0</td>\n",
       "      <td>0</td>\n",
       "      <td>0</td>\n",
       "      <td>0</td>\n",
       "      <td>0</td>\n",
       "      <td>0</td>\n",
       "      <td>663172d7.jpg</td>\n",
       "    </tr>\n",
       "    <tr>\n",
       "      <th>1</th>\n",
       "      <td>0</td>\n",
       "      <td>0</td>\n",
       "      <td>0</td>\n",
       "      <td>1</td>\n",
       "      <td>0</td>\n",
       "      <td>0</td>\n",
       "      <td>0</td>\n",
       "      <td>0</td>\n",
       "      <td>0</td>\n",
       "      <td>0</td>\n",
       "      <td>...</td>\n",
       "      <td>0</td>\n",
       "      <td>0</td>\n",
       "      <td>0</td>\n",
       "      <td>0</td>\n",
       "      <td>0</td>\n",
       "      <td>0</td>\n",
       "      <td>0</td>\n",
       "      <td>0</td>\n",
       "      <td>0</td>\n",
       "      <td>eaa46c62.jpg</td>\n",
       "    </tr>\n",
       "    <tr>\n",
       "      <th>2</th>\n",
       "      <td>0</td>\n",
       "      <td>0</td>\n",
       "      <td>0</td>\n",
       "      <td>0</td>\n",
       "      <td>0</td>\n",
       "      <td>0</td>\n",
       "      <td>0</td>\n",
       "      <td>0</td>\n",
       "      <td>0</td>\n",
       "      <td>0</td>\n",
       "      <td>...</td>\n",
       "      <td>0</td>\n",
       "      <td>0</td>\n",
       "      <td>0</td>\n",
       "      <td>0</td>\n",
       "      <td>0</td>\n",
       "      <td>0</td>\n",
       "      <td>0</td>\n",
       "      <td>0</td>\n",
       "      <td>0</td>\n",
       "      <td>7b5bcb5a_aug.jpg</td>\n",
       "    </tr>\n",
       "    <tr>\n",
       "      <th>3</th>\n",
       "      <td>0</td>\n",
       "      <td>0</td>\n",
       "      <td>0</td>\n",
       "      <td>0</td>\n",
       "      <td>0</td>\n",
       "      <td>0</td>\n",
       "      <td>1</td>\n",
       "      <td>0</td>\n",
       "      <td>0</td>\n",
       "      <td>0</td>\n",
       "      <td>...</td>\n",
       "      <td>0</td>\n",
       "      <td>0</td>\n",
       "      <td>0</td>\n",
       "      <td>0</td>\n",
       "      <td>0</td>\n",
       "      <td>0</td>\n",
       "      <td>0</td>\n",
       "      <td>0</td>\n",
       "      <td>0</td>\n",
       "      <td>deda9c42.jpg</td>\n",
       "    </tr>\n",
       "    <tr>\n",
       "      <th>4</th>\n",
       "      <td>0</td>\n",
       "      <td>0</td>\n",
       "      <td>0</td>\n",
       "      <td>0</td>\n",
       "      <td>0</td>\n",
       "      <td>0</td>\n",
       "      <td>0</td>\n",
       "      <td>0</td>\n",
       "      <td>0</td>\n",
       "      <td>0</td>\n",
       "      <td>...</td>\n",
       "      <td>0</td>\n",
       "      <td>0</td>\n",
       "      <td>0</td>\n",
       "      <td>0</td>\n",
       "      <td>0</td>\n",
       "      <td>0</td>\n",
       "      <td>0</td>\n",
       "      <td>0</td>\n",
       "      <td>0</td>\n",
       "      <td>9b85cccc_aug.jpg</td>\n",
       "    </tr>\n",
       "  </tbody>\n",
       "</table>\n",
       "<p>5 rows × 81 columns</p>\n",
       "</div>"
      ],
      "text/plain": [
       "   Accelerating_and_revving_and_vroom  Accordion  Acoustic_guitar  Applause  \\\n",
       "0                                   0          0                0         0   \n",
       "1                                   0          0                0         1   \n",
       "2                                   0          0                0         0   \n",
       "3                                   0          0                0         0   \n",
       "4                                   0          0                0         0   \n",
       "\n",
       "   Bark  Bass_drum  Bass_guitar  Bathtub_(filling_or_washing)  Bicycle_bell  \\\n",
       "0     0          0            0                             0             0   \n",
       "1     0          0            0                             0             0   \n",
       "2     0          0            0                             0             0   \n",
       "3     0          0            1                             0             0   \n",
       "4     0          0            0                             0             0   \n",
       "\n",
       "   Burping_and_eructation  ...  Traffic_noise_and_roadway_noise  \\\n",
       "0                       0  ...                                0   \n",
       "1                       0  ...                                0   \n",
       "2                       0  ...                                0   \n",
       "3                       0  ...                                0   \n",
       "4                       0  ...                                0   \n",
       "\n",
       "   Trickle_and_dribble  Walk_and_footsteps  Water_tap_and_faucet  \\\n",
       "0                    0                   0                     0   \n",
       "1                    0                   0                     0   \n",
       "2                    0                   0                     0   \n",
       "3                    0                   0                     0   \n",
       "4                    0                   0                     0   \n",
       "\n",
       "   Waves_and_surf  Whispering  Writing  Yell  Zipper_(clothing)  \\\n",
       "0               0           0        0     0                  0   \n",
       "1               0           0        0     0                  0   \n",
       "2               0           0        0     0                  0   \n",
       "3               0           0        0     0                  0   \n",
       "4               0           0        0     0                  0   \n",
       "\n",
       "              fname  \n",
       "0      663172d7.jpg  \n",
       "1      eaa46c62.jpg  \n",
       "2  7b5bcb5a_aug.jpg  \n",
       "3      deda9c42.jpg  \n",
       "4  9b85cccc_aug.jpg  \n",
       "\n",
       "[5 rows x 81 columns]"
      ]
     },
     "execution_count": 14,
     "metadata": {},
     "output_type": "execute_result"
    }
   ],
   "source": [
    "cvmultidf.head()"
   ]
  },
  {
   "cell_type": "code",
   "execution_count": 15,
   "metadata": {
    "execution": {
     "iopub.execute_input": "2020-10-01T17:58:58.543674Z",
     "iopub.status.busy": "2020-10-01T17:58:58.542569Z",
     "iopub.status.idle": "2020-10-01T17:58:59.766422Z",
     "shell.execute_reply": "2020-10-01T17:58:59.767099Z"
    },
    "papermill": {
     "duration": 1.276784,
     "end_time": "2020-10-01T17:58:59.767291",
     "exception": false,
     "start_time": "2020-10-01T17:58:58.490507",
     "status": "completed"
    },
    "tags": []
   },
   "outputs": [
    {
     "name": "stdout",
     "output_type": "stream",
     "text": [
      "Found 4862 validated image filenames.\n"
     ]
    }
   ],
   "source": [
    "\n",
    "valid_datagen=ImageDataGenerator(rescale=1./255.)\n",
    "\n",
    "valid_generator=valid_datagen.flow_from_dataframe(\n",
    "    dataframe=cvmultidf,\n",
    "    directory=\"../input/sc2-total-aug-noisy-data/Total Images bucket Noisy/Total Images bucket Noisy\",\n",
    "    x_col=\"fname\",\n",
    "    y_col=list(mlb_train.classes_),\n",
    "   # subset=\"validation\",\n",
    "    batch_size=64,\n",
    "    seed=42,\n",
    "    shuffle=False,\n",
    "    class_mode=\"raw\",\n",
    "    #color_mode=\"grayscale\",\n",
    "    target_size=(128,128))\n"
   ]
  },
  {
   "cell_type": "code",
   "execution_count": 16,
   "metadata": {
    "execution": {
     "iopub.execute_input": "2020-10-01T17:58:59.868043Z",
     "iopub.status.busy": "2020-10-01T17:58:59.866988Z",
     "iopub.status.idle": "2020-10-01T17:59:04.494501Z",
     "shell.execute_reply": "2020-10-01T17:59:04.495378Z"
    },
    "papermill": {
     "duration": 4.681264,
     "end_time": "2020-10-01T17:59:04.495548",
     "exception": false,
     "start_time": "2020-10-01T17:58:59.814284",
     "status": "completed"
    },
    "tags": []
   },
   "outputs": [
    {
     "name": "stdout",
     "output_type": "stream",
     "text": [
      "Found 6078 validated image filenames.\n"
     ]
    }
   ],
   "source": [
    "test_datagen=ImageDataGenerator(rescale=1./255.)\n",
    "test_generator=test_datagen.flow_from_dataframe(\n",
    "    dataframe=testmultidf,\n",
    "    directory=\"../input/sc2-total-aug-noisy-data/Total Images bucket Noisy/Total Images bucket Noisy\",\n",
    "    x_col=\"fname\",\n",
    "    y_col=None,\n",
    "    batch_size=64,\n",
    "    seed=42,\n",
    "    shuffle=False,\n",
    "    class_mode=None,\n",
    "   # color_mode=\"grayscale\",\n",
    "    target_size=(128,128))\n",
    "STEP_SIZE_TEST=test_generator.n//test_generator.batch_size"
   ]
  },
  {
   "cell_type": "markdown",
   "metadata": {},
   "source": [
    "# Loading  Model and Training"
   ]
  },
  {
   "cell_type": "code",
   "execution_count": 17,
   "metadata": {
    "execution": {
     "iopub.execute_input": "2020-10-01T17:59:04.602304Z",
     "iopub.status.busy": "2020-10-01T17:59:04.601697Z",
     "iopub.status.idle": "2020-10-01T17:59:04.653907Z",
     "shell.execute_reply": "2020-10-01T17:59:04.653424Z"
    },
    "papermill": {
     "duration": 0.109338,
     "end_time": "2020-10-01T17:59:04.654038",
     "exception": false,
     "start_time": "2020-10-01T17:59:04.544700",
     "status": "completed"
    },
    "tags": []
   },
   "outputs": [],
   "source": [
    "from sklearn import model_selection\n",
    "from tensorflow.keras.preprocessing.text import Tokenizer\n",
    "from tensorflow.keras.utils import to_categorical\n",
    "from tensorflow.keras.preprocessing.sequence import pad_sequences\n",
    "\n",
    "from tensorflow.keras.optimizers import RMSprop\n",
    "from tensorflow.keras.models import Model\n",
    "from tensorflow.keras.models import load_model\n",
    "\n",
    "import numpy as np\n",
    "from tensorflow.keras.models import Sequential\n",
    "from tensorflow.keras.preprocessing import sequence\n",
    "\n",
    "\n",
    "\n",
    "import tensorflow as tf\n",
    "from tensorflow.keras import models, layers\n",
    "from tensorflow.keras.models import Model\n",
    "from tensorflow.keras.optimizers import Adam\n",
    "#from tensorflow.keras.callbacks import ModelCheckpoint,EarlyStopping \n",
    "from tensorflow.keras.layers import Dense, Flatten, LSTM, Conv2D, MaxPooling2D, Dropout, Activation, Input,BatchNormalization, AveragePooling2D,GlobalMaxPool2D,PReLU\n",
    "\n",
    "from tensorflow.keras.applications.resnet50 import ResNet50\n",
    "\n",
    "from tensorflow.keras.callbacks import (ModelCheckpoint, LearningRateScheduler,\n",
    "                             EarlyStopping, ReduceLROnPlateau,CSVLogger)"
   ]
  },
  {
   "cell_type": "code",
   "execution_count": 18,
   "metadata": {
    "execution": {
     "iopub.execute_input": "2020-10-01T17:59:04.753420Z",
     "iopub.status.busy": "2020-10-01T17:59:04.752817Z",
     "iopub.status.idle": "2020-10-01T17:59:10.776826Z",
     "shell.execute_reply": "2020-10-01T17:59:10.776200Z"
    },
    "papermill": {
     "duration": 6.076369,
     "end_time": "2020-10-01T17:59:10.776969",
     "exception": false,
     "start_time": "2020-10-01T17:59:04.700600",
     "status": "completed"
    },
    "tags": []
   },
   "outputs": [
    {
     "name": "stdout",
     "output_type": "stream",
     "text": [
      "Downloading data from https://storage.googleapis.com/tensorflow/keras-applications/resnet/resnet50_weights_tf_dim_ordering_tf_kernels.h5\n",
      "102973440/102967424 [==============================] - 1s 0us/step\n"
     ]
    }
   ],
   "source": [
    "#last_layer = model.get_layer('avg_pool').output\n",
    "\n",
    "image_input = Input(shape=(128,128, 3))\n",
    "model = ResNet50(input_tensor=image_input, include_top=True)\n",
    "last_layer = model.get_layer('avg_pool').output\n",
    "x= Flatten(name='flatten')(last_layer)\n",
    "#model=\n",
    "\n",
    "\n",
    "#output = Dense(80, activation='sigmoid', name='output_layer')(model.layers[-2].output)\n",
    "x= Dense(80)(x)\n",
    "output = Activation('sigmoid')(x)\n",
    "#out = Dense(num_classes, activation='softmax', name='output_layer')(x)"
   ]
  },
  {
   "cell_type": "code",
   "execution_count": 19,
   "metadata": {
    "execution": {
     "iopub.execute_input": "2020-10-01T17:59:10.886196Z",
     "iopub.status.busy": "2020-10-01T17:59:10.885393Z",
     "iopub.status.idle": "2020-10-01T17:59:10.889028Z",
     "shell.execute_reply": "2020-10-01T17:59:10.889498Z"
    },
    "papermill": {
     "duration": 0.061119,
     "end_time": "2020-10-01T17:59:10.889613",
     "exception": false,
     "start_time": "2020-10-01T17:59:10.828494",
     "status": "completed"
    },
    "tags": []
   },
   "outputs": [
    {
     "data": {
      "text/plain": [
       "[<tensorflow.python.keras.layers.merge.Add at 0x7fdb486cb710>,\n",
       " <tensorflow.python.keras.layers.core.Activation at 0x7fdb486cb610>,\n",
       " <tensorflow.python.keras.layers.pooling.GlobalAveragePooling2D at 0x7fdb486cbf10>,\n",
       " <tensorflow.python.keras.layers.core.Dense at 0x7fdb486d0b50>]"
      ]
     },
     "execution_count": 19,
     "metadata": {},
     "output_type": "execute_result"
    }
   ],
   "source": [
    "model.layers[-4:]"
   ]
  },
  {
   "cell_type": "code",
   "execution_count": 20,
   "metadata": {
    "execution": {
     "iopub.execute_input": "2020-10-01T17:59:10.997195Z",
     "iopub.status.busy": "2020-10-01T17:59:10.996574Z",
     "iopub.status.idle": "2020-10-01T17:59:11.002488Z",
     "shell.execute_reply": "2020-10-01T17:59:11.002019Z"
    },
    "papermill": {
     "duration": 0.061586,
     "end_time": "2020-10-01T17:59:11.002585",
     "exception": false,
     "start_time": "2020-10-01T17:59:10.940999",
     "status": "completed"
    },
    "tags": []
   },
   "outputs": [
    {
     "data": {
      "text/plain": [
       "[<tensorflow.python.keras.layers.merge.Add at 0x7fdb486cb710>,\n",
       " <tensorflow.python.keras.layers.core.Activation at 0x7fdb486cb610>,\n",
       " <tensorflow.python.keras.layers.pooling.GlobalAveragePooling2D at 0x7fdb486cbf10>,\n",
       " <tensorflow.python.keras.layers.core.Dense at 0x7fdb486d0b50>]"
      ]
     },
     "execution_count": 20,
     "metadata": {},
     "output_type": "execute_result"
    }
   ],
   "source": [
    "model.layers[-4:]"
   ]
  },
  {
   "cell_type": "code",
   "execution_count": 21,
   "metadata": {
    "execution": {
     "iopub.execute_input": "2020-10-01T17:59:11.112446Z",
     "iopub.status.busy": "2020-10-01T17:59:11.111502Z",
     "iopub.status.idle": "2020-10-01T17:59:11.200787Z",
     "shell.execute_reply": "2020-10-01T17:59:11.201497Z"
    },
    "papermill": {
     "duration": 0.14738,
     "end_time": "2020-10-01T17:59:11.201670",
     "exception": false,
     "start_time": "2020-10-01T17:59:11.054290",
     "status": "completed"
    },
    "tags": []
   },
   "outputs": [
    {
     "name": "stdout",
     "output_type": "stream",
     "text": [
      "Model: \"functional_1\"\n",
      "__________________________________________________________________________________________________\n",
      "Layer (type)                    Output Shape         Param #     Connected to                     \n",
      "==================================================================================================\n",
      "input_1 (InputLayer)            [(None, 128, 128, 3) 0                                            \n",
      "__________________________________________________________________________________________________\n",
      "conv1_pad (ZeroPadding2D)       (None, 134, 134, 3)  0           input_1[0][0]                    \n",
      "__________________________________________________________________________________________________\n",
      "conv1_conv (Conv2D)             (None, 64, 64, 64)   9472        conv1_pad[0][0]                  \n",
      "__________________________________________________________________________________________________\n",
      "conv1_bn (BatchNormalization)   (None, 64, 64, 64)   256         conv1_conv[0][0]                 \n",
      "__________________________________________________________________________________________________\n",
      "conv1_relu (Activation)         (None, 64, 64, 64)   0           conv1_bn[0][0]                   \n",
      "__________________________________________________________________________________________________\n",
      "pool1_pad (ZeroPadding2D)       (None, 66, 66, 64)   0           conv1_relu[0][0]                 \n",
      "__________________________________________________________________________________________________\n",
      "pool1_pool (MaxPooling2D)       (None, 32, 32, 64)   0           pool1_pad[0][0]                  \n",
      "__________________________________________________________________________________________________\n",
      "conv2_block1_1_conv (Conv2D)    (None, 32, 32, 64)   4160        pool1_pool[0][0]                 \n",
      "__________________________________________________________________________________________________\n",
      "conv2_block1_1_bn (BatchNormali (None, 32, 32, 64)   256         conv2_block1_1_conv[0][0]        \n",
      "__________________________________________________________________________________________________\n",
      "conv2_block1_1_relu (Activation (None, 32, 32, 64)   0           conv2_block1_1_bn[0][0]          \n",
      "__________________________________________________________________________________________________\n",
      "conv2_block1_2_conv (Conv2D)    (None, 32, 32, 64)   36928       conv2_block1_1_relu[0][0]        \n",
      "__________________________________________________________________________________________________\n",
      "conv2_block1_2_bn (BatchNormali (None, 32, 32, 64)   256         conv2_block1_2_conv[0][0]        \n",
      "__________________________________________________________________________________________________\n",
      "conv2_block1_2_relu (Activation (None, 32, 32, 64)   0           conv2_block1_2_bn[0][0]          \n",
      "__________________________________________________________________________________________________\n",
      "conv2_block1_0_conv (Conv2D)    (None, 32, 32, 256)  16640       pool1_pool[0][0]                 \n",
      "__________________________________________________________________________________________________\n",
      "conv2_block1_3_conv (Conv2D)    (None, 32, 32, 256)  16640       conv2_block1_2_relu[0][0]        \n",
      "__________________________________________________________________________________________________\n",
      "conv2_block1_0_bn (BatchNormali (None, 32, 32, 256)  1024        conv2_block1_0_conv[0][0]        \n",
      "__________________________________________________________________________________________________\n",
      "conv2_block1_3_bn (BatchNormali (None, 32, 32, 256)  1024        conv2_block1_3_conv[0][0]        \n",
      "__________________________________________________________________________________________________\n",
      "conv2_block1_add (Add)          (None, 32, 32, 256)  0           conv2_block1_0_bn[0][0]          \n",
      "                                                                 conv2_block1_3_bn[0][0]          \n",
      "__________________________________________________________________________________________________\n",
      "conv2_block1_out (Activation)   (None, 32, 32, 256)  0           conv2_block1_add[0][0]           \n",
      "__________________________________________________________________________________________________\n",
      "conv2_block2_1_conv (Conv2D)    (None, 32, 32, 64)   16448       conv2_block1_out[0][0]           \n",
      "__________________________________________________________________________________________________\n",
      "conv2_block2_1_bn (BatchNormali (None, 32, 32, 64)   256         conv2_block2_1_conv[0][0]        \n",
      "__________________________________________________________________________________________________\n",
      "conv2_block2_1_relu (Activation (None, 32, 32, 64)   0           conv2_block2_1_bn[0][0]          \n",
      "__________________________________________________________________________________________________\n",
      "conv2_block2_2_conv (Conv2D)    (None, 32, 32, 64)   36928       conv2_block2_1_relu[0][0]        \n",
      "__________________________________________________________________________________________________\n",
      "conv2_block2_2_bn (BatchNormali (None, 32, 32, 64)   256         conv2_block2_2_conv[0][0]        \n",
      "__________________________________________________________________________________________________\n",
      "conv2_block2_2_relu (Activation (None, 32, 32, 64)   0           conv2_block2_2_bn[0][0]          \n",
      "__________________________________________________________________________________________________\n",
      "conv2_block2_3_conv (Conv2D)    (None, 32, 32, 256)  16640       conv2_block2_2_relu[0][0]        \n",
      "__________________________________________________________________________________________________\n",
      "conv2_block2_3_bn (BatchNormali (None, 32, 32, 256)  1024        conv2_block2_3_conv[0][0]        \n",
      "__________________________________________________________________________________________________\n",
      "conv2_block2_add (Add)          (None, 32, 32, 256)  0           conv2_block1_out[0][0]           \n",
      "                                                                 conv2_block2_3_bn[0][0]          \n",
      "__________________________________________________________________________________________________\n",
      "conv2_block2_out (Activation)   (None, 32, 32, 256)  0           conv2_block2_add[0][0]           \n",
      "__________________________________________________________________________________________________\n",
      "conv2_block3_1_conv (Conv2D)    (None, 32, 32, 64)   16448       conv2_block2_out[0][0]           \n",
      "__________________________________________________________________________________________________\n",
      "conv2_block3_1_bn (BatchNormali (None, 32, 32, 64)   256         conv2_block3_1_conv[0][0]        \n",
      "__________________________________________________________________________________________________\n",
      "conv2_block3_1_relu (Activation (None, 32, 32, 64)   0           conv2_block3_1_bn[0][0]          \n",
      "__________________________________________________________________________________________________\n",
      "conv2_block3_2_conv (Conv2D)    (None, 32, 32, 64)   36928       conv2_block3_1_relu[0][0]        \n",
      "__________________________________________________________________________________________________\n",
      "conv2_block3_2_bn (BatchNormali (None, 32, 32, 64)   256         conv2_block3_2_conv[0][0]        \n",
      "__________________________________________________________________________________________________\n",
      "conv2_block3_2_relu (Activation (None, 32, 32, 64)   0           conv2_block3_2_bn[0][0]          \n",
      "__________________________________________________________________________________________________\n",
      "conv2_block3_3_conv (Conv2D)    (None, 32, 32, 256)  16640       conv2_block3_2_relu[0][0]        \n",
      "__________________________________________________________________________________________________\n",
      "conv2_block3_3_bn (BatchNormali (None, 32, 32, 256)  1024        conv2_block3_3_conv[0][0]        \n",
      "__________________________________________________________________________________________________\n",
      "conv2_block3_add (Add)          (None, 32, 32, 256)  0           conv2_block2_out[0][0]           \n",
      "                                                                 conv2_block3_3_bn[0][0]          \n",
      "__________________________________________________________________________________________________\n",
      "conv2_block3_out (Activation)   (None, 32, 32, 256)  0           conv2_block3_add[0][0]           \n",
      "__________________________________________________________________________________________________\n",
      "conv3_block1_1_conv (Conv2D)    (None, 16, 16, 128)  32896       conv2_block3_out[0][0]           \n",
      "__________________________________________________________________________________________________\n",
      "conv3_block1_1_bn (BatchNormali (None, 16, 16, 128)  512         conv3_block1_1_conv[0][0]        \n",
      "__________________________________________________________________________________________________\n",
      "conv3_block1_1_relu (Activation (None, 16, 16, 128)  0           conv3_block1_1_bn[0][0]          \n",
      "__________________________________________________________________________________________________\n",
      "conv3_block1_2_conv (Conv2D)    (None, 16, 16, 128)  147584      conv3_block1_1_relu[0][0]        \n",
      "__________________________________________________________________________________________________\n",
      "conv3_block1_2_bn (BatchNormali (None, 16, 16, 128)  512         conv3_block1_2_conv[0][0]        \n",
      "__________________________________________________________________________________________________\n",
      "conv3_block1_2_relu (Activation (None, 16, 16, 128)  0           conv3_block1_2_bn[0][0]          \n",
      "__________________________________________________________________________________________________\n",
      "conv3_block1_0_conv (Conv2D)    (None, 16, 16, 512)  131584      conv2_block3_out[0][0]           \n",
      "__________________________________________________________________________________________________\n",
      "conv3_block1_3_conv (Conv2D)    (None, 16, 16, 512)  66048       conv3_block1_2_relu[0][0]        \n",
      "__________________________________________________________________________________________________\n",
      "conv3_block1_0_bn (BatchNormali (None, 16, 16, 512)  2048        conv3_block1_0_conv[0][0]        \n",
      "__________________________________________________________________________________________________\n",
      "conv3_block1_3_bn (BatchNormali (None, 16, 16, 512)  2048        conv3_block1_3_conv[0][0]        \n",
      "__________________________________________________________________________________________________\n",
      "conv3_block1_add (Add)          (None, 16, 16, 512)  0           conv3_block1_0_bn[0][0]          \n",
      "                                                                 conv3_block1_3_bn[0][0]          \n",
      "__________________________________________________________________________________________________\n",
      "conv3_block1_out (Activation)   (None, 16, 16, 512)  0           conv3_block1_add[0][0]           \n",
      "__________________________________________________________________________________________________\n",
      "conv3_block2_1_conv (Conv2D)    (None, 16, 16, 128)  65664       conv3_block1_out[0][0]           \n",
      "__________________________________________________________________________________________________\n",
      "conv3_block2_1_bn (BatchNormali (None, 16, 16, 128)  512         conv3_block2_1_conv[0][0]        \n",
      "__________________________________________________________________________________________________\n",
      "conv3_block2_1_relu (Activation (None, 16, 16, 128)  0           conv3_block2_1_bn[0][0]          \n",
      "__________________________________________________________________________________________________\n",
      "conv3_block2_2_conv (Conv2D)    (None, 16, 16, 128)  147584      conv3_block2_1_relu[0][0]        \n",
      "__________________________________________________________________________________________________\n",
      "conv3_block2_2_bn (BatchNormali (None, 16, 16, 128)  512         conv3_block2_2_conv[0][0]        \n",
      "__________________________________________________________________________________________________\n",
      "conv3_block2_2_relu (Activation (None, 16, 16, 128)  0           conv3_block2_2_bn[0][0]          \n",
      "__________________________________________________________________________________________________\n",
      "conv3_block2_3_conv (Conv2D)    (None, 16, 16, 512)  66048       conv3_block2_2_relu[0][0]        \n",
      "__________________________________________________________________________________________________\n",
      "conv3_block2_3_bn (BatchNormali (None, 16, 16, 512)  2048        conv3_block2_3_conv[0][0]        \n",
      "__________________________________________________________________________________________________\n",
      "conv3_block2_add (Add)          (None, 16, 16, 512)  0           conv3_block1_out[0][0]           \n",
      "                                                                 conv3_block2_3_bn[0][0]          \n",
      "__________________________________________________________________________________________________\n",
      "conv3_block2_out (Activation)   (None, 16, 16, 512)  0           conv3_block2_add[0][0]           \n",
      "__________________________________________________________________________________________________\n",
      "conv3_block3_1_conv (Conv2D)    (None, 16, 16, 128)  65664       conv3_block2_out[0][0]           \n",
      "__________________________________________________________________________________________________\n",
      "conv3_block3_1_bn (BatchNormali (None, 16, 16, 128)  512         conv3_block3_1_conv[0][0]        \n",
      "__________________________________________________________________________________________________\n",
      "conv3_block3_1_relu (Activation (None, 16, 16, 128)  0           conv3_block3_1_bn[0][0]          \n",
      "__________________________________________________________________________________________________\n",
      "conv3_block3_2_conv (Conv2D)    (None, 16, 16, 128)  147584      conv3_block3_1_relu[0][0]        \n",
      "__________________________________________________________________________________________________\n",
      "conv3_block3_2_bn (BatchNormali (None, 16, 16, 128)  512         conv3_block3_2_conv[0][0]        \n",
      "__________________________________________________________________________________________________\n",
      "conv3_block3_2_relu (Activation (None, 16, 16, 128)  0           conv3_block3_2_bn[0][0]          \n",
      "__________________________________________________________________________________________________\n",
      "conv3_block3_3_conv (Conv2D)    (None, 16, 16, 512)  66048       conv3_block3_2_relu[0][0]        \n",
      "__________________________________________________________________________________________________\n",
      "conv3_block3_3_bn (BatchNormali (None, 16, 16, 512)  2048        conv3_block3_3_conv[0][0]        \n",
      "__________________________________________________________________________________________________\n",
      "conv3_block3_add (Add)          (None, 16, 16, 512)  0           conv3_block2_out[0][0]           \n",
      "                                                                 conv3_block3_3_bn[0][0]          \n",
      "__________________________________________________________________________________________________\n",
      "conv3_block3_out (Activation)   (None, 16, 16, 512)  0           conv3_block3_add[0][0]           \n",
      "__________________________________________________________________________________________________\n",
      "conv3_block4_1_conv (Conv2D)    (None, 16, 16, 128)  65664       conv3_block3_out[0][0]           \n",
      "__________________________________________________________________________________________________\n",
      "conv3_block4_1_bn (BatchNormali (None, 16, 16, 128)  512         conv3_block4_1_conv[0][0]        \n",
      "__________________________________________________________________________________________________\n",
      "conv3_block4_1_relu (Activation (None, 16, 16, 128)  0           conv3_block4_1_bn[0][0]          \n",
      "__________________________________________________________________________________________________\n",
      "conv3_block4_2_conv (Conv2D)    (None, 16, 16, 128)  147584      conv3_block4_1_relu[0][0]        \n",
      "__________________________________________________________________________________________________\n",
      "conv3_block4_2_bn (BatchNormali (None, 16, 16, 128)  512         conv3_block4_2_conv[0][0]        \n",
      "__________________________________________________________________________________________________\n",
      "conv3_block4_2_relu (Activation (None, 16, 16, 128)  0           conv3_block4_2_bn[0][0]          \n",
      "__________________________________________________________________________________________________\n",
      "conv3_block4_3_conv (Conv2D)    (None, 16, 16, 512)  66048       conv3_block4_2_relu[0][0]        \n",
      "__________________________________________________________________________________________________\n",
      "conv3_block4_3_bn (BatchNormali (None, 16, 16, 512)  2048        conv3_block4_3_conv[0][0]        \n",
      "__________________________________________________________________________________________________\n",
      "conv3_block4_add (Add)          (None, 16, 16, 512)  0           conv3_block3_out[0][0]           \n",
      "                                                                 conv3_block4_3_bn[0][0]          \n",
      "__________________________________________________________________________________________________\n",
      "conv3_block4_out (Activation)   (None, 16, 16, 512)  0           conv3_block4_add[0][0]           \n",
      "__________________________________________________________________________________________________\n",
      "conv4_block1_1_conv (Conv2D)    (None, 8, 8, 256)    131328      conv3_block4_out[0][0]           \n",
      "__________________________________________________________________________________________________\n",
      "conv4_block1_1_bn (BatchNormali (None, 8, 8, 256)    1024        conv4_block1_1_conv[0][0]        \n",
      "__________________________________________________________________________________________________\n",
      "conv4_block1_1_relu (Activation (None, 8, 8, 256)    0           conv4_block1_1_bn[0][0]          \n",
      "__________________________________________________________________________________________________\n",
      "conv4_block1_2_conv (Conv2D)    (None, 8, 8, 256)    590080      conv4_block1_1_relu[0][0]        \n",
      "__________________________________________________________________________________________________\n",
      "conv4_block1_2_bn (BatchNormali (None, 8, 8, 256)    1024        conv4_block1_2_conv[0][0]        \n",
      "__________________________________________________________________________________________________\n",
      "conv4_block1_2_relu (Activation (None, 8, 8, 256)    0           conv4_block1_2_bn[0][0]          \n",
      "__________________________________________________________________________________________________\n",
      "conv4_block1_0_conv (Conv2D)    (None, 8, 8, 1024)   525312      conv3_block4_out[0][0]           \n",
      "__________________________________________________________________________________________________\n",
      "conv4_block1_3_conv (Conv2D)    (None, 8, 8, 1024)   263168      conv4_block1_2_relu[0][0]        \n",
      "__________________________________________________________________________________________________\n",
      "conv4_block1_0_bn (BatchNormali (None, 8, 8, 1024)   4096        conv4_block1_0_conv[0][0]        \n",
      "__________________________________________________________________________________________________\n",
      "conv4_block1_3_bn (BatchNormali (None, 8, 8, 1024)   4096        conv4_block1_3_conv[0][0]        \n",
      "__________________________________________________________________________________________________\n",
      "conv4_block1_add (Add)          (None, 8, 8, 1024)   0           conv4_block1_0_bn[0][0]          \n",
      "                                                                 conv4_block1_3_bn[0][0]          \n",
      "__________________________________________________________________________________________________\n",
      "conv4_block1_out (Activation)   (None, 8, 8, 1024)   0           conv4_block1_add[0][0]           \n",
      "__________________________________________________________________________________________________\n",
      "conv4_block2_1_conv (Conv2D)    (None, 8, 8, 256)    262400      conv4_block1_out[0][0]           \n",
      "__________________________________________________________________________________________________\n",
      "conv4_block2_1_bn (BatchNormali (None, 8, 8, 256)    1024        conv4_block2_1_conv[0][0]        \n",
      "__________________________________________________________________________________________________\n",
      "conv4_block2_1_relu (Activation (None, 8, 8, 256)    0           conv4_block2_1_bn[0][0]          \n",
      "__________________________________________________________________________________________________\n",
      "conv4_block2_2_conv (Conv2D)    (None, 8, 8, 256)    590080      conv4_block2_1_relu[0][0]        \n",
      "__________________________________________________________________________________________________\n",
      "conv4_block2_2_bn (BatchNormali (None, 8, 8, 256)    1024        conv4_block2_2_conv[0][0]        \n",
      "__________________________________________________________________________________________________\n",
      "conv4_block2_2_relu (Activation (None, 8, 8, 256)    0           conv4_block2_2_bn[0][0]          \n",
      "__________________________________________________________________________________________________\n",
      "conv4_block2_3_conv (Conv2D)    (None, 8, 8, 1024)   263168      conv4_block2_2_relu[0][0]        \n",
      "__________________________________________________________________________________________________\n",
      "conv4_block2_3_bn (BatchNormali (None, 8, 8, 1024)   4096        conv4_block2_3_conv[0][0]        \n",
      "__________________________________________________________________________________________________\n",
      "conv4_block2_add (Add)          (None, 8, 8, 1024)   0           conv4_block1_out[0][0]           \n",
      "                                                                 conv4_block2_3_bn[0][0]          \n",
      "__________________________________________________________________________________________________\n",
      "conv4_block2_out (Activation)   (None, 8, 8, 1024)   0           conv4_block2_add[0][0]           \n",
      "__________________________________________________________________________________________________\n",
      "conv4_block3_1_conv (Conv2D)    (None, 8, 8, 256)    262400      conv4_block2_out[0][0]           \n",
      "__________________________________________________________________________________________________\n",
      "conv4_block3_1_bn (BatchNormali (None, 8, 8, 256)    1024        conv4_block3_1_conv[0][0]        \n",
      "__________________________________________________________________________________________________\n",
      "conv4_block3_1_relu (Activation (None, 8, 8, 256)    0           conv4_block3_1_bn[0][0]          \n",
      "__________________________________________________________________________________________________\n",
      "conv4_block3_2_conv (Conv2D)    (None, 8, 8, 256)    590080      conv4_block3_1_relu[0][0]        \n",
      "__________________________________________________________________________________________________\n",
      "conv4_block3_2_bn (BatchNormali (None, 8, 8, 256)    1024        conv4_block3_2_conv[0][0]        \n",
      "__________________________________________________________________________________________________\n",
      "conv4_block3_2_relu (Activation (None, 8, 8, 256)    0           conv4_block3_2_bn[0][0]          \n",
      "__________________________________________________________________________________________________\n",
      "conv4_block3_3_conv (Conv2D)    (None, 8, 8, 1024)   263168      conv4_block3_2_relu[0][0]        \n",
      "__________________________________________________________________________________________________\n",
      "conv4_block3_3_bn (BatchNormali (None, 8, 8, 1024)   4096        conv4_block3_3_conv[0][0]        \n",
      "__________________________________________________________________________________________________\n",
      "conv4_block3_add (Add)          (None, 8, 8, 1024)   0           conv4_block2_out[0][0]           \n",
      "                                                                 conv4_block3_3_bn[0][0]          \n",
      "__________________________________________________________________________________________________\n",
      "conv4_block3_out (Activation)   (None, 8, 8, 1024)   0           conv4_block3_add[0][0]           \n",
      "__________________________________________________________________________________________________\n",
      "conv4_block4_1_conv (Conv2D)    (None, 8, 8, 256)    262400      conv4_block3_out[0][0]           \n",
      "__________________________________________________________________________________________________\n",
      "conv4_block4_1_bn (BatchNormali (None, 8, 8, 256)    1024        conv4_block4_1_conv[0][0]        \n",
      "__________________________________________________________________________________________________\n",
      "conv4_block4_1_relu (Activation (None, 8, 8, 256)    0           conv4_block4_1_bn[0][0]          \n",
      "__________________________________________________________________________________________________\n",
      "conv4_block4_2_conv (Conv2D)    (None, 8, 8, 256)    590080      conv4_block4_1_relu[0][0]        \n",
      "__________________________________________________________________________________________________\n",
      "conv4_block4_2_bn (BatchNormali (None, 8, 8, 256)    1024        conv4_block4_2_conv[0][0]        \n",
      "__________________________________________________________________________________________________\n",
      "conv4_block4_2_relu (Activation (None, 8, 8, 256)    0           conv4_block4_2_bn[0][0]          \n",
      "__________________________________________________________________________________________________\n",
      "conv4_block4_3_conv (Conv2D)    (None, 8, 8, 1024)   263168      conv4_block4_2_relu[0][0]        \n",
      "__________________________________________________________________________________________________\n",
      "conv4_block4_3_bn (BatchNormali (None, 8, 8, 1024)   4096        conv4_block4_3_conv[0][0]        \n",
      "__________________________________________________________________________________________________\n",
      "conv4_block4_add (Add)          (None, 8, 8, 1024)   0           conv4_block3_out[0][0]           \n",
      "                                                                 conv4_block4_3_bn[0][0]          \n",
      "__________________________________________________________________________________________________\n",
      "conv4_block4_out (Activation)   (None, 8, 8, 1024)   0           conv4_block4_add[0][0]           \n",
      "__________________________________________________________________________________________________\n",
      "conv4_block5_1_conv (Conv2D)    (None, 8, 8, 256)    262400      conv4_block4_out[0][0]           \n",
      "__________________________________________________________________________________________________\n",
      "conv4_block5_1_bn (BatchNormali (None, 8, 8, 256)    1024        conv4_block5_1_conv[0][0]        \n",
      "__________________________________________________________________________________________________\n",
      "conv4_block5_1_relu (Activation (None, 8, 8, 256)    0           conv4_block5_1_bn[0][0]          \n",
      "__________________________________________________________________________________________________\n",
      "conv4_block5_2_conv (Conv2D)    (None, 8, 8, 256)    590080      conv4_block5_1_relu[0][0]        \n",
      "__________________________________________________________________________________________________\n",
      "conv4_block5_2_bn (BatchNormali (None, 8, 8, 256)    1024        conv4_block5_2_conv[0][0]        \n",
      "__________________________________________________________________________________________________\n",
      "conv4_block5_2_relu (Activation (None, 8, 8, 256)    0           conv4_block5_2_bn[0][0]          \n",
      "__________________________________________________________________________________________________\n",
      "conv4_block5_3_conv (Conv2D)    (None, 8, 8, 1024)   263168      conv4_block5_2_relu[0][0]        \n",
      "__________________________________________________________________________________________________\n",
      "conv4_block5_3_bn (BatchNormali (None, 8, 8, 1024)   4096        conv4_block5_3_conv[0][0]        \n",
      "__________________________________________________________________________________________________\n",
      "conv4_block5_add (Add)          (None, 8, 8, 1024)   0           conv4_block4_out[0][0]           \n",
      "                                                                 conv4_block5_3_bn[0][0]          \n",
      "__________________________________________________________________________________________________\n",
      "conv4_block5_out (Activation)   (None, 8, 8, 1024)   0           conv4_block5_add[0][0]           \n",
      "__________________________________________________________________________________________________\n",
      "conv4_block6_1_conv (Conv2D)    (None, 8, 8, 256)    262400      conv4_block5_out[0][0]           \n",
      "__________________________________________________________________________________________________\n",
      "conv4_block6_1_bn (BatchNormali (None, 8, 8, 256)    1024        conv4_block6_1_conv[0][0]        \n",
      "__________________________________________________________________________________________________\n",
      "conv4_block6_1_relu (Activation (None, 8, 8, 256)    0           conv4_block6_1_bn[0][0]          \n",
      "__________________________________________________________________________________________________\n",
      "conv4_block6_2_conv (Conv2D)    (None, 8, 8, 256)    590080      conv4_block6_1_relu[0][0]        \n",
      "__________________________________________________________________________________________________\n",
      "conv4_block6_2_bn (BatchNormali (None, 8, 8, 256)    1024        conv4_block6_2_conv[0][0]        \n",
      "__________________________________________________________________________________________________\n",
      "conv4_block6_2_relu (Activation (None, 8, 8, 256)    0           conv4_block6_2_bn[0][0]          \n",
      "__________________________________________________________________________________________________\n",
      "conv4_block6_3_conv (Conv2D)    (None, 8, 8, 1024)   263168      conv4_block6_2_relu[0][0]        \n",
      "__________________________________________________________________________________________________\n",
      "conv4_block6_3_bn (BatchNormali (None, 8, 8, 1024)   4096        conv4_block6_3_conv[0][0]        \n",
      "__________________________________________________________________________________________________\n",
      "conv4_block6_add (Add)          (None, 8, 8, 1024)   0           conv4_block5_out[0][0]           \n",
      "                                                                 conv4_block6_3_bn[0][0]          \n",
      "__________________________________________________________________________________________________\n",
      "conv4_block6_out (Activation)   (None, 8, 8, 1024)   0           conv4_block6_add[0][0]           \n",
      "__________________________________________________________________________________________________\n",
      "conv5_block1_1_conv (Conv2D)    (None, 4, 4, 512)    524800      conv4_block6_out[0][0]           \n",
      "__________________________________________________________________________________________________\n",
      "conv5_block1_1_bn (BatchNormali (None, 4, 4, 512)    2048        conv5_block1_1_conv[0][0]        \n",
      "__________________________________________________________________________________________________\n",
      "conv5_block1_1_relu (Activation (None, 4, 4, 512)    0           conv5_block1_1_bn[0][0]          \n",
      "__________________________________________________________________________________________________\n",
      "conv5_block1_2_conv (Conv2D)    (None, 4, 4, 512)    2359808     conv5_block1_1_relu[0][0]        \n",
      "__________________________________________________________________________________________________\n",
      "conv5_block1_2_bn (BatchNormali (None, 4, 4, 512)    2048        conv5_block1_2_conv[0][0]        \n",
      "__________________________________________________________________________________________________\n",
      "conv5_block1_2_relu (Activation (None, 4, 4, 512)    0           conv5_block1_2_bn[0][0]          \n",
      "__________________________________________________________________________________________________\n",
      "conv5_block1_0_conv (Conv2D)    (None, 4, 4, 2048)   2099200     conv4_block6_out[0][0]           \n",
      "__________________________________________________________________________________________________\n",
      "conv5_block1_3_conv (Conv2D)    (None, 4, 4, 2048)   1050624     conv5_block1_2_relu[0][0]        \n",
      "__________________________________________________________________________________________________\n",
      "conv5_block1_0_bn (BatchNormali (None, 4, 4, 2048)   8192        conv5_block1_0_conv[0][0]        \n",
      "__________________________________________________________________________________________________\n",
      "conv5_block1_3_bn (BatchNormali (None, 4, 4, 2048)   8192        conv5_block1_3_conv[0][0]        \n",
      "__________________________________________________________________________________________________\n",
      "conv5_block1_add (Add)          (None, 4, 4, 2048)   0           conv5_block1_0_bn[0][0]          \n",
      "                                                                 conv5_block1_3_bn[0][0]          \n",
      "__________________________________________________________________________________________________\n",
      "conv5_block1_out (Activation)   (None, 4, 4, 2048)   0           conv5_block1_add[0][0]           \n",
      "__________________________________________________________________________________________________\n",
      "conv5_block2_1_conv (Conv2D)    (None, 4, 4, 512)    1049088     conv5_block1_out[0][0]           \n",
      "__________________________________________________________________________________________________\n",
      "conv5_block2_1_bn (BatchNormali (None, 4, 4, 512)    2048        conv5_block2_1_conv[0][0]        \n",
      "__________________________________________________________________________________________________\n",
      "conv5_block2_1_relu (Activation (None, 4, 4, 512)    0           conv5_block2_1_bn[0][0]          \n",
      "__________________________________________________________________________________________________\n",
      "conv5_block2_2_conv (Conv2D)    (None, 4, 4, 512)    2359808     conv5_block2_1_relu[0][0]        \n",
      "__________________________________________________________________________________________________\n",
      "conv5_block2_2_bn (BatchNormali (None, 4, 4, 512)    2048        conv5_block2_2_conv[0][0]        \n",
      "__________________________________________________________________________________________________\n",
      "conv5_block2_2_relu (Activation (None, 4, 4, 512)    0           conv5_block2_2_bn[0][0]          \n",
      "__________________________________________________________________________________________________\n",
      "conv5_block2_3_conv (Conv2D)    (None, 4, 4, 2048)   1050624     conv5_block2_2_relu[0][0]        \n",
      "__________________________________________________________________________________________________\n",
      "conv5_block2_3_bn (BatchNormali (None, 4, 4, 2048)   8192        conv5_block2_3_conv[0][0]        \n",
      "__________________________________________________________________________________________________\n",
      "conv5_block2_add (Add)          (None, 4, 4, 2048)   0           conv5_block1_out[0][0]           \n",
      "                                                                 conv5_block2_3_bn[0][0]          \n",
      "__________________________________________________________________________________________________\n",
      "conv5_block2_out (Activation)   (None, 4, 4, 2048)   0           conv5_block2_add[0][0]           \n",
      "__________________________________________________________________________________________________\n",
      "conv5_block3_1_conv (Conv2D)    (None, 4, 4, 512)    1049088     conv5_block2_out[0][0]           \n",
      "__________________________________________________________________________________________________\n",
      "conv5_block3_1_bn (BatchNormali (None, 4, 4, 512)    2048        conv5_block3_1_conv[0][0]        \n",
      "__________________________________________________________________________________________________\n",
      "conv5_block3_1_relu (Activation (None, 4, 4, 512)    0           conv5_block3_1_bn[0][0]          \n",
      "__________________________________________________________________________________________________\n",
      "conv5_block3_2_conv (Conv2D)    (None, 4, 4, 512)    2359808     conv5_block3_1_relu[0][0]        \n",
      "__________________________________________________________________________________________________\n",
      "conv5_block3_2_bn (BatchNormali (None, 4, 4, 512)    2048        conv5_block3_2_conv[0][0]        \n",
      "__________________________________________________________________________________________________\n",
      "conv5_block3_2_relu (Activation (None, 4, 4, 512)    0           conv5_block3_2_bn[0][0]          \n",
      "__________________________________________________________________________________________________\n",
      "conv5_block3_3_conv (Conv2D)    (None, 4, 4, 2048)   1050624     conv5_block3_2_relu[0][0]        \n",
      "__________________________________________________________________________________________________\n",
      "conv5_block3_3_bn (BatchNormali (None, 4, 4, 2048)   8192        conv5_block3_3_conv[0][0]        \n",
      "__________________________________________________________________________________________________\n",
      "conv5_block3_add (Add)          (None, 4, 4, 2048)   0           conv5_block2_out[0][0]           \n",
      "                                                                 conv5_block3_3_bn[0][0]          \n",
      "__________________________________________________________________________________________________\n",
      "conv5_block3_out (Activation)   (None, 4, 4, 2048)   0           conv5_block3_add[0][0]           \n",
      "__________________________________________________________________________________________________\n",
      "avg_pool (GlobalAveragePooling2 (None, 2048)         0           conv5_block3_out[0][0]           \n",
      "__________________________________________________________________________________________________\n",
      "flatten (Flatten)               (None, 2048)         0           avg_pool[0][0]                   \n",
      "__________________________________________________________________________________________________\n",
      "dense (Dense)                   (None, 80)           163920      flatten[0][0]                    \n",
      "__________________________________________________________________________________________________\n",
      "activation (Activation)         (None, 80)           0           dense[0][0]                      \n",
      "==================================================================================================\n",
      "Total params: 23,751,632\n",
      "Trainable params: 23,698,512\n",
      "Non-trainable params: 53,120\n",
      "__________________________________________________________________________________________________\n"
     ]
    }
   ],
   "source": [
    "custom_densenet169_model = Model(inputs=image_input,outputs= output)\n",
    "custom_densenet169_model.summary()"
   ]
  },
  {
   "cell_type": "code",
   "execution_count": 22,
   "metadata": {
    "execution": {
     "iopub.execute_input": "2020-10-01T17:59:11.325314Z",
     "iopub.status.busy": "2020-10-01T17:59:11.324707Z",
     "iopub.status.idle": "2020-10-01T17:59:11.329169Z",
     "shell.execute_reply": "2020-10-01T17:59:11.328332Z"
    },
    "papermill": {
     "duration": 0.060999,
     "end_time": "2020-10-01T17:59:11.329271",
     "exception": false,
     "start_time": "2020-10-01T17:59:11.268272",
     "status": "completed"
    },
    "tags": []
   },
   "outputs": [],
   "source": [
    "#from tensorflow.keras.utils import plot_model\n",
    "#plot_model(custom_densenet169_model, 'model_resnet50.png', show_shapes=True)"
   ]
  },
  {
   "cell_type": "code",
   "execution_count": 23,
   "metadata": {
    "execution": {
     "iopub.execute_input": "2020-10-01T17:59:11.452981Z",
     "iopub.status.busy": "2020-10-01T17:59:11.451650Z",
     "iopub.status.idle": "2020-10-01T17:59:11.459753Z",
     "shell.execute_reply": "2020-10-01T17:59:11.459249Z"
    },
    "papermill": {
     "duration": 0.077473,
     "end_time": "2020-10-01T17:59:11.459866",
     "exception": false,
     "start_time": "2020-10-01T17:59:11.382393",
     "status": "completed"
    },
    "tags": []
   },
   "outputs": [],
   "source": [
    "opt = tf.keras.optimizers.Adam(lr=0.0009)#tf.keras.optimizers.RMSprop(lr=0.3, decay=1e-6) \n",
    "#tf.keras.optimizers.Adam(lr=0.001)#RMSprop(lr=0.0001, decay=1e-6)\n",
    "\n",
    "# Let's train the model using RMSprop\n",
    "custom_densenet169_model.compile(loss=tf.keras.losses.BinaryCrossentropy(reduction=tf.keras.losses.Reduction.SUM),#,label_smoothing=0.7#'categorical_crossentropy',\n",
    "              optimizer=opt,\n",
    "               metrics=['categorical_accuracy'])"
   ]
  },
  {
   "cell_type": "code",
   "execution_count": 24,
   "metadata": {
    "execution": {
     "iopub.execute_input": "2020-10-01T17:59:11.570743Z",
     "iopub.status.busy": "2020-10-01T17:59:11.570146Z",
     "iopub.status.idle": "2020-10-01T17:59:11.574442Z",
     "shell.execute_reply": "2020-10-01T17:59:11.573940Z"
    },
    "papermill": {
     "duration": 0.061266,
     "end_time": "2020-10-01T17:59:11.574534",
     "exception": false,
     "start_time": "2020-10-01T17:59:11.513268",
     "status": "completed"
    },
    "tags": []
   },
   "outputs": [],
   "source": [
    "#Fitting keras model, no test gen for now\n",
    "STEP_SIZE_TRAIN=train_generator.n//train_generator.batch_size\n",
    "STEP_SIZE_VALID=valid_generator.n//valid_generator.batch_size\n",
    "#STEP_SIZE_TEST=test_generator.n//test_generator.batch_size"
   ]
  },
  {
   "cell_type": "code",
   "execution_count": 25,
   "metadata": {
    "execution": {
     "iopub.execute_input": "2020-10-01T17:59:11.686345Z",
     "iopub.status.busy": "2020-10-01T17:59:11.685552Z",
     "iopub.status.idle": "2020-10-01T17:59:11.689496Z",
     "shell.execute_reply": "2020-10-01T17:59:11.689995Z"
    },
    "papermill": {
     "duration": 0.062703,
     "end_time": "2020-10-01T17:59:11.690113",
     "exception": false,
     "start_time": "2020-10-01T17:59:11.627410",
     "status": "completed"
    },
    "tags": []
   },
   "outputs": [
    {
     "data": {
      "text/plain": [
       "303"
      ]
     },
     "execution_count": 25,
     "metadata": {},
     "output_type": "execute_result"
    }
   ],
   "source": [
    "STEP_SIZE_TRAIN"
   ]
  },
  {
   "cell_type": "code",
   "execution_count": 26,
   "metadata": {
    "execution": {
     "iopub.execute_input": "2020-10-01T17:59:11.804830Z",
     "iopub.status.busy": "2020-10-01T17:59:11.804253Z",
     "iopub.status.idle": "2020-10-01T17:59:11.808442Z",
     "shell.execute_reply": "2020-10-01T17:59:11.807968Z"
    },
    "papermill": {
     "duration": 0.065018,
     "end_time": "2020-10-01T17:59:11.808537",
     "exception": false,
     "start_time": "2020-10-01T17:59:11.743519",
     "status": "completed"
    },
    "tags": []
   },
   "outputs": [],
   "source": [
    "# simple early stopping\n",
    "#earlyStop = EarlyStopping(monitor='val_loss', mode='min', verbose=1, patience=100,)\n",
    "#https://machinelearningmastery.com/check-point-deep-learning-models-keras/\n",
    "\n",
    "\n",
    "#model_checkpoint = ModelCheckpoint('weights_cnn_lstm.best.hdf5', monitor='val_categorical_accuracy', mode='max', verbose=1, save_best_only=True)\n",
    "#filepath=\"weights-improvement-{epoch:02d}-{val_categorical_accuracy:.2f}.hdf5\"\n",
    "\n",
    "\n",
    "csv_logger = CSVLogger(filename='../working/training_log.csv',\n",
    "                       separator=',',\n",
    "                       append=True)\n",
    "#https://www.tensorflow.org/api_docs/python/tf/keras/callbacks/ReduceLROnPlateau\n",
    "reduceLROnPlat = ReduceLROnPlateau(monitor='val_categorical_accuracy', factor=0.6,\n",
    "                              patience=6, min_lr=0,verbose=1)\n",
    "\n",
    "\n",
    "model_checkpoint = ModelCheckpoint(\"ResNetNoisyTotal.best_weights-128.hdf5\", monitor='val_categorical_accuracy', mode='max', verbose=1, save_best_only=True)\n",
    "\n",
    "# fit model\n",
    "\n",
    "#es = tf.keras.callbacks.EarlyStopping(monitor='val_loss', mode='min', verbose=1, patience=20, min_delta=0.001 )\n",
    "es = tf.keras.callbacks.EarlyStopping(monitor='val_categorical_accuracy', mode='max', verbose=1, patience=30, min_delta=0.001 )\n",
    "\n",
    "callbacks_list = [model_checkpoint, csv_logger, reduceLROnPlat,es]"
   ]
  },
  {
   "cell_type": "code",
   "execution_count": 27,
   "metadata": {
    "execution": {
     "iopub.execute_input": "2020-10-01T17:59:11.920217Z",
     "iopub.status.busy": "2020-10-01T17:59:11.918797Z",
     "iopub.status.idle": "2020-10-01T17:59:11.921809Z",
     "shell.execute_reply": "2020-10-01T17:59:11.921336Z"
    },
    "papermill": {
     "duration": 0.059827,
     "end_time": "2020-10-01T17:59:11.921902",
     "exception": false,
     "start_time": "2020-10-01T17:59:11.862075",
     "status": "completed"
    },
    "tags": []
   },
   "outputs": [],
   "source": [
    "\n",
    "#custom_densenet169_model.load_weights(\"../input/sc2weights/total.best_weights.hdf5\")\n",
    "#custom_densenet169_model.load_weights(\"../input/sc2weights/total.best_weights_iter2.hdf5\")"
   ]
  },
  {
   "cell_type": "code",
   "execution_count": 28,
   "metadata": {
    "execution": {
     "iopub.execute_input": "2020-10-01T17:59:12.034887Z",
     "iopub.status.busy": "2020-10-01T17:59:12.034314Z",
     "iopub.status.idle": "2020-10-01T22:04:11.039336Z",
     "shell.execute_reply": "2020-10-01T22:04:11.040205Z"
    },
    "papermill": {
     "duration": 14699.065293,
     "end_time": "2020-10-01T22:04:11.040386",
     "exception": false,
     "start_time": "2020-10-01T17:59:11.975093",
     "status": "completed"
    },
    "tags": []
   },
   "outputs": [
    {
     "name": "stdout",
     "output_type": "stream",
     "text": [
      "Epoch 1/300\n",
      "303/303 [==============================] - ETA: 0s - loss: 4.6226 - categorical_accuracy: 0.1213\n",
      "Epoch 00001: val_categorical_accuracy improved from -inf to 0.01354, saving model to ResNetNoisyTotal.best_weights-128.hdf5\n",
      "303/303 [==============================] - 196s 647ms/step - loss: 4.6226 - categorical_accuracy: 0.1213 - val_loss: 5.9727 - val_categorical_accuracy: 0.0135\n",
      "Epoch 2/300\n",
      "303/303 [==============================] - ETA: 0s - loss: 3.8092 - categorical_accuracy: 0.2113\n",
      "Epoch 00002: val_categorical_accuracy improved from 0.01354 to 0.02458, saving model to ResNetNoisyTotal.best_weights-128.hdf5\n",
      "303/303 [==============================] - 151s 497ms/step - loss: 3.8092 - categorical_accuracy: 0.2113 - val_loss: 5.8467 - val_categorical_accuracy: 0.0246\n",
      "Epoch 3/300\n",
      "303/303 [==============================] - ETA: 0s - loss: 3.5718 - categorical_accuracy: 0.2514\n",
      "Epoch 00003: val_categorical_accuracy improved from 0.02458 to 0.12271, saving model to ResNetNoisyTotal.best_weights-128.hdf5\n",
      "303/303 [==============================] - 172s 568ms/step - loss: 3.5718 - categorical_accuracy: 0.2514 - val_loss: 4.4319 - val_categorical_accuracy: 0.1227\n",
      "Epoch 4/300\n",
      "303/303 [==============================] - ETA: 0s - loss: 3.3864 - categorical_accuracy: 0.2886\n",
      "Epoch 00004: val_categorical_accuracy improved from 0.12271 to 0.19938, saving model to ResNetNoisyTotal.best_weights-128.hdf5\n",
      "303/303 [==============================] - 153s 504ms/step - loss: 3.3864 - categorical_accuracy: 0.2886 - val_loss: 4.0773 - val_categorical_accuracy: 0.1994\n",
      "Epoch 5/300\n",
      "303/303 [==============================] - ETA: 0s - loss: 3.1972 - categorical_accuracy: 0.3264\n",
      "Epoch 00005: val_categorical_accuracy improved from 0.19938 to 0.23479, saving model to ResNetNoisyTotal.best_weights-128.hdf5\n",
      "303/303 [==============================] - 149s 493ms/step - loss: 3.1972 - categorical_accuracy: 0.3264 - val_loss: 3.8148 - val_categorical_accuracy: 0.2348\n",
      "Epoch 6/300\n",
      "303/303 [==============================] - ETA: 0s - loss: 3.0304 - categorical_accuracy: 0.3560\n",
      "Epoch 00006: val_categorical_accuracy did not improve from 0.23479\n",
      "303/303 [==============================] - 142s 468ms/step - loss: 3.0304 - categorical_accuracy: 0.3560 - val_loss: 4.3573 - val_categorical_accuracy: 0.1767\n",
      "Epoch 7/300\n",
      "303/303 [==============================] - ETA: 0s - loss: 2.8551 - categorical_accuracy: 0.3914\n",
      "Epoch 00007: val_categorical_accuracy did not improve from 0.23479\n",
      "303/303 [==============================] - 136s 447ms/step - loss: 2.8551 - categorical_accuracy: 0.3914 - val_loss: 4.3482 - val_categorical_accuracy: 0.1817\n",
      "Epoch 8/300\n",
      "303/303 [==============================] - ETA: 0s - loss: 2.6789 - categorical_accuracy: 0.4283\n",
      "Epoch 00008: val_categorical_accuracy did not improve from 0.23479\n",
      "303/303 [==============================] - 136s 447ms/step - loss: 2.6789 - categorical_accuracy: 0.4283 - val_loss: 4.0652 - val_categorical_accuracy: 0.2163\n",
      "Epoch 9/300\n",
      "303/303 [==============================] - ETA: 0s - loss: 2.4760 - categorical_accuracy: 0.4716\n",
      "Epoch 00009: val_categorical_accuracy did not improve from 0.23479\n",
      "303/303 [==============================] - 165s 543ms/step - loss: 2.4760 - categorical_accuracy: 0.4716 - val_loss: 4.1973 - val_categorical_accuracy: 0.2004\n",
      "Epoch 10/300\n",
      "303/303 [==============================] - ETA: 0s - loss: 2.2648 - categorical_accuracy: 0.5090\n",
      "Epoch 00010: val_categorical_accuracy did not improve from 0.23479\n",
      "303/303 [==============================] - 149s 492ms/step - loss: 2.2648 - categorical_accuracy: 0.5090 - val_loss: 4.5082 - val_categorical_accuracy: 0.2150\n",
      "Epoch 11/300\n",
      "303/303 [==============================] - ETA: 0s - loss: 2.0382 - categorical_accuracy: 0.5610\n",
      "Epoch 00011: val_categorical_accuracy did not improve from 0.23479\n",
      "\n",
      "Epoch 00011: ReduceLROnPlateau reducing learning rate to 0.0005399999907240271.\n",
      "303/303 [==============================] - 164s 542ms/step - loss: 2.0382 - categorical_accuracy: 0.5610 - val_loss: 5.4329 - val_categorical_accuracy: 0.1617\n",
      "Epoch 12/300\n",
      "303/303 [==============================] - ETA: 0s - loss: 1.4980 - categorical_accuracy: 0.6758\n",
      "Epoch 00012: val_categorical_accuracy improved from 0.23479 to 0.29688, saving model to ResNetNoisyTotal.best_weights-128.hdf5\n",
      "303/303 [==============================] - 149s 493ms/step - loss: 1.4980 - categorical_accuracy: 0.6758 - val_loss: 3.8834 - val_categorical_accuracy: 0.2969\n",
      "Epoch 13/300\n",
      "303/303 [==============================] - ETA: 0s - loss: 1.2180 - categorical_accuracy: 0.7365\n",
      "Epoch 00013: val_categorical_accuracy improved from 0.29688 to 0.37104, saving model to ResNetNoisyTotal.best_weights-128.hdf5\n",
      "303/303 [==============================] - 141s 467ms/step - loss: 1.2180 - categorical_accuracy: 0.7365 - val_loss: 3.5433 - val_categorical_accuracy: 0.3710\n",
      "Epoch 14/300\n",
      "303/303 [==============================] - ETA: 0s - loss: 1.0298 - categorical_accuracy: 0.7726\n",
      "Epoch 00014: val_categorical_accuracy did not improve from 0.37104\n",
      "303/303 [==============================] - 146s 481ms/step - loss: 1.0298 - categorical_accuracy: 0.7726 - val_loss: 4.0359 - val_categorical_accuracy: 0.3208\n",
      "Epoch 15/300\n",
      "303/303 [==============================] - ETA: 0s - loss: 0.8863 - categorical_accuracy: 0.7970\n",
      "Epoch 00015: val_categorical_accuracy did not improve from 0.37104\n",
      "303/303 [==============================] - 142s 468ms/step - loss: 0.8863 - categorical_accuracy: 0.7970 - val_loss: 3.7585 - val_categorical_accuracy: 0.3558\n",
      "Epoch 16/300\n",
      "303/303 [==============================] - ETA: 0s - loss: 0.7505 - categorical_accuracy: 0.8221\n",
      "Epoch 00016: val_categorical_accuracy did not improve from 0.37104\n",
      "303/303 [==============================] - 133s 438ms/step - loss: 0.7505 - categorical_accuracy: 0.8221 - val_loss: 4.3018 - val_categorical_accuracy: 0.3319\n",
      "Epoch 17/300\n",
      "303/303 [==============================] - ETA: 0s - loss: 0.6294 - categorical_accuracy: 0.8469\n",
      "Epoch 00017: val_categorical_accuracy did not improve from 0.37104\n",
      "303/303 [==============================] - 132s 436ms/step - loss: 0.6294 - categorical_accuracy: 0.8469 - val_loss: 4.9328 - val_categorical_accuracy: 0.3050\n",
      "Epoch 18/300\n",
      "303/303 [==============================] - ETA: 0s - loss: 0.5636 - categorical_accuracy: 0.8529\n",
      "Epoch 00018: val_categorical_accuracy did not improve from 0.37104\n",
      "303/303 [==============================] - 133s 438ms/step - loss: 0.5636 - categorical_accuracy: 0.8529 - val_loss: 4.2874 - val_categorical_accuracy: 0.3500\n",
      "Epoch 19/300\n",
      "303/303 [==============================] - ETA: 0s - loss: 0.4987 - categorical_accuracy: 0.8623\n",
      "Epoch 00019: val_categorical_accuracy did not improve from 0.37104\n",
      "\n",
      "Epoch 00019: ReduceLROnPlateau reducing learning rate to 0.00032399998744949695.\n",
      "303/303 [==============================] - 135s 444ms/step - loss: 0.4987 - categorical_accuracy: 0.8623 - val_loss: 4.8458 - val_categorical_accuracy: 0.3298\n",
      "Epoch 20/300\n",
      "303/303 [==============================] - ETA: 0s - loss: 0.2993 - categorical_accuracy: 0.8922\n",
      "Epoch 00020: val_categorical_accuracy improved from 0.37104 to 0.44167, saving model to ResNetNoisyTotal.best_weights-128.hdf5\n",
      "303/303 [==============================] - 135s 444ms/step - loss: 0.2993 - categorical_accuracy: 0.8922 - val_loss: 3.9375 - val_categorical_accuracy: 0.4417\n",
      "Epoch 21/300\n",
      "303/303 [==============================] - ETA: 0s - loss: 0.2252 - categorical_accuracy: 0.8972\n",
      "Epoch 00021: val_categorical_accuracy did not improve from 0.44167\n",
      "303/303 [==============================] - 134s 443ms/step - loss: 0.2252 - categorical_accuracy: 0.8972 - val_loss: 4.5496 - val_categorical_accuracy: 0.4108\n",
      "Epoch 22/300\n",
      "303/303 [==============================] - ETA: 0s - loss: 0.1946 - categorical_accuracy: 0.9007\n",
      "Epoch 00022: val_categorical_accuracy did not improve from 0.44167\n",
      "303/303 [==============================] - 135s 446ms/step - loss: 0.1946 - categorical_accuracy: 0.9007 - val_loss: 4.4045 - val_categorical_accuracy: 0.4367\n",
      "Epoch 23/300\n",
      "303/303 [==============================] - ETA: 0s - loss: 0.1843 - categorical_accuracy: 0.9001\n",
      "Epoch 00023: val_categorical_accuracy did not improve from 0.44167\n",
      "303/303 [==============================] - 136s 449ms/step - loss: 0.1843 - categorical_accuracy: 0.9001 - val_loss: 4.5841 - val_categorical_accuracy: 0.4310\n",
      "Epoch 24/300\n",
      "303/303 [==============================] - ETA: 0s - loss: 0.1737 - categorical_accuracy: 0.9007\n",
      "Epoch 00024: val_categorical_accuracy did not improve from 0.44167\n",
      "303/303 [==============================] - 135s 445ms/step - loss: 0.1737 - categorical_accuracy: 0.9007 - val_loss: 5.8259 - val_categorical_accuracy: 0.3092\n",
      "Epoch 25/300\n",
      "303/303 [==============================] - ETA: 0s - loss: 0.1686 - categorical_accuracy: 0.9045\n",
      "Epoch 00025: val_categorical_accuracy did not improve from 0.44167\n",
      "303/303 [==============================] - 136s 448ms/step - loss: 0.1686 - categorical_accuracy: 0.9045 - val_loss: 5.0907 - val_categorical_accuracy: 0.3900\n",
      "Epoch 26/300\n",
      "303/303 [==============================] - ETA: 0s - loss: 0.1559 - categorical_accuracy: 0.9038\n",
      "Epoch 00026: val_categorical_accuracy did not improve from 0.44167\n",
      "\n",
      "Epoch 00026: ReduceLROnPlateau reducing learning rate to 0.00019439999596215785.\n",
      "303/303 [==============================] - 138s 454ms/step - loss: 0.1559 - categorical_accuracy: 0.9038 - val_loss: 5.7443 - val_categorical_accuracy: 0.3292\n",
      "Epoch 27/300\n",
      "303/303 [==============================] - ETA: 0s - loss: 0.1002 - categorical_accuracy: 0.9087\n",
      "Epoch 00027: val_categorical_accuracy improved from 0.44167 to 0.45458, saving model to ResNetNoisyTotal.best_weights-128.hdf5\n",
      "303/303 [==============================] - 138s 456ms/step - loss: 0.1002 - categorical_accuracy: 0.9087 - val_loss: 4.7096 - val_categorical_accuracy: 0.4546\n",
      "Epoch 28/300\n",
      "303/303 [==============================] - ETA: 0s - loss: 0.0842 - categorical_accuracy: 0.9122\n",
      "Epoch 00028: val_categorical_accuracy did not improve from 0.45458\n",
      "303/303 [==============================] - 136s 448ms/step - loss: 0.0842 - categorical_accuracy: 0.9122 - val_loss: 5.1813 - val_categorical_accuracy: 0.3983\n",
      "Epoch 29/300\n",
      "303/303 [==============================] - ETA: 0s - loss: 0.0730 - categorical_accuracy: 0.9110\n",
      "Epoch 00029: val_categorical_accuracy did not improve from 0.45458\n",
      "303/303 [==============================] - 136s 448ms/step - loss: 0.0730 - categorical_accuracy: 0.9110 - val_loss: 4.6876 - val_categorical_accuracy: 0.4515\n",
      "Epoch 30/300\n",
      "303/303 [==============================] - ETA: 0s - loss: 0.0677 - categorical_accuracy: 0.9088\n",
      "Epoch 00030: val_categorical_accuracy improved from 0.45458 to 0.47042, saving model to ResNetNoisyTotal.best_weights-128.hdf5\n",
      "303/303 [==============================] - 139s 459ms/step - loss: 0.0677 - categorical_accuracy: 0.9088 - val_loss: 4.6189 - val_categorical_accuracy: 0.4704\n",
      "Epoch 31/300\n",
      "303/303 [==============================] - ETA: 0s - loss: 0.0619 - categorical_accuracy: 0.9087\n",
      "Epoch 00031: val_categorical_accuracy did not improve from 0.47042\n",
      "303/303 [==============================] - 136s 450ms/step - loss: 0.0619 - categorical_accuracy: 0.9087 - val_loss: 6.9986 - val_categorical_accuracy: 0.3212\n",
      "Epoch 32/300\n",
      "303/303 [==============================] - ETA: 0s - loss: 0.0646 - categorical_accuracy: 0.9067\n",
      "Epoch 00032: val_categorical_accuracy did not improve from 0.47042\n",
      "303/303 [==============================] - 136s 448ms/step - loss: 0.0646 - categorical_accuracy: 0.9067 - val_loss: 5.8320 - val_categorical_accuracy: 0.3817\n",
      "Epoch 33/300\n",
      "303/303 [==============================] - ETA: 0s - loss: 0.0641 - categorical_accuracy: 0.9082\n",
      "Epoch 00033: val_categorical_accuracy did not improve from 0.47042\n",
      "303/303 [==============================] - 138s 454ms/step - loss: 0.0641 - categorical_accuracy: 0.9082 - val_loss: 5.4453 - val_categorical_accuracy: 0.3935\n",
      "Epoch 34/300\n",
      "303/303 [==============================] - ETA: 0s - loss: 0.0596 - categorical_accuracy: 0.9064\n",
      "Epoch 00034: val_categorical_accuracy did not improve from 0.47042\n",
      "303/303 [==============================] - 137s 451ms/step - loss: 0.0596 - categorical_accuracy: 0.9064 - val_loss: 5.6696 - val_categorical_accuracy: 0.4335\n",
      "Epoch 35/300\n",
      "303/303 [==============================] - ETA: 0s - loss: 0.0643 - categorical_accuracy: 0.9092\n",
      "Epoch 00035: val_categorical_accuracy did not improve from 0.47042\n",
      "303/303 [==============================] - 138s 455ms/step - loss: 0.0643 - categorical_accuracy: 0.9092 - val_loss: 6.2728 - val_categorical_accuracy: 0.3808\n",
      "Epoch 36/300\n",
      "303/303 [==============================] - ETA: 0s - loss: 0.0567 - categorical_accuracy: 0.9105\n",
      "Epoch 00036: val_categorical_accuracy did not improve from 0.47042\n",
      "\n",
      "Epoch 00036: ReduceLROnPlateau reducing learning rate to 0.0001166399975772947.\n",
      "303/303 [==============================] - 138s 456ms/step - loss: 0.0567 - categorical_accuracy: 0.9105 - val_loss: 5.7609 - val_categorical_accuracy: 0.4194\n",
      "Epoch 37/300\n",
      "303/303 [==============================] - ETA: 0s - loss: 0.0402 - categorical_accuracy: 0.9103\n",
      "Epoch 00037: val_categorical_accuracy did not improve from 0.47042\n",
      "303/303 [==============================] - 137s 451ms/step - loss: 0.0402 - categorical_accuracy: 0.9103 - val_loss: 5.1762 - val_categorical_accuracy: 0.4650\n",
      "Epoch 38/300\n",
      "303/303 [==============================] - ETA: 0s - loss: 0.0338 - categorical_accuracy: 0.9114\n",
      "Epoch 00038: val_categorical_accuracy did not improve from 0.47042\n",
      "303/303 [==============================] - 137s 454ms/step - loss: 0.0338 - categorical_accuracy: 0.9114 - val_loss: 5.5126 - val_categorical_accuracy: 0.4440\n",
      "Epoch 39/300\n",
      "303/303 [==============================] - ETA: 0s - loss: 0.0271 - categorical_accuracy: 0.9117\n",
      "Epoch 00039: val_categorical_accuracy did not improve from 0.47042\n",
      "303/303 [==============================] - 138s 457ms/step - loss: 0.0271 - categorical_accuracy: 0.9117 - val_loss: 5.7919 - val_categorical_accuracy: 0.4331\n",
      "Epoch 40/300\n",
      "303/303 [==============================] - ETA: 0s - loss: 0.0301 - categorical_accuracy: 0.9116\n",
      "Epoch 00040: val_categorical_accuracy did not improve from 0.47042\n",
      "303/303 [==============================] - 139s 460ms/step - loss: 0.0301 - categorical_accuracy: 0.9116 - val_loss: 5.4576 - val_categorical_accuracy: 0.4477\n",
      "Epoch 41/300\n",
      "303/303 [==============================] - ETA: 0s - loss: 0.0243 - categorical_accuracy: 0.9126\n",
      "Epoch 00041: val_categorical_accuracy did not improve from 0.47042\n",
      "303/303 [==============================] - 136s 449ms/step - loss: 0.0243 - categorical_accuracy: 0.9126 - val_loss: 5.2999 - val_categorical_accuracy: 0.4694\n",
      "Epoch 42/300\n",
      "303/303 [==============================] - ETA: 0s - loss: 0.0228 - categorical_accuracy: 0.9135\n",
      "Epoch 00042: val_categorical_accuracy improved from 0.47042 to 0.47729, saving model to ResNetNoisyTotal.best_weights-128.hdf5\n",
      "303/303 [==============================] - 139s 458ms/step - loss: 0.0228 - categorical_accuracy: 0.9135 - val_loss: 5.3312 - val_categorical_accuracy: 0.4773\n",
      "Epoch 43/300\n",
      "303/303 [==============================] - ETA: 0s - loss: 0.0270 - categorical_accuracy: 0.9120\n",
      "Epoch 00043: val_categorical_accuracy did not improve from 0.47729\n",
      "303/303 [==============================] - 134s 442ms/step - loss: 0.0270 - categorical_accuracy: 0.9120 - val_loss: 5.3896 - val_categorical_accuracy: 0.4623\n",
      "Epoch 44/300\n",
      "303/303 [==============================] - ETA: 0s - loss: 0.0294 - categorical_accuracy: 0.9107\n",
      "Epoch 00044: val_categorical_accuracy did not improve from 0.47729\n",
      "303/303 [==============================] - 136s 450ms/step - loss: 0.0294 - categorical_accuracy: 0.9107 - val_loss: 5.9095 - val_categorical_accuracy: 0.3990\n",
      "Epoch 45/300\n",
      "303/303 [==============================] - ETA: 0s - loss: 0.0245 - categorical_accuracy: 0.9127\n",
      "Epoch 00045: val_categorical_accuracy improved from 0.47729 to 0.47875, saving model to ResNetNoisyTotal.best_weights-128.hdf5\n",
      "303/303 [==============================] - 135s 447ms/step - loss: 0.0245 - categorical_accuracy: 0.9127 - val_loss: 5.3044 - val_categorical_accuracy: 0.4787\n",
      "Epoch 46/300\n",
      "303/303 [==============================] - ETA: 0s - loss: 0.0256 - categorical_accuracy: 0.9139\n",
      "Epoch 00046: val_categorical_accuracy did not improve from 0.47875\n",
      "303/303 [==============================] - 134s 441ms/step - loss: 0.0256 - categorical_accuracy: 0.9139 - val_loss: 6.4817 - val_categorical_accuracy: 0.4060\n",
      "Epoch 47/300\n",
      "303/303 [==============================] - ETA: 0s - loss: 0.0232 - categorical_accuracy: 0.9119\n",
      "Epoch 00047: val_categorical_accuracy did not improve from 0.47875\n",
      "303/303 [==============================] - 135s 444ms/step - loss: 0.0232 - categorical_accuracy: 0.9119 - val_loss: 5.9838 - val_categorical_accuracy: 0.4215\n",
      "Epoch 48/300\n",
      "303/303 [==============================] - ETA: 0s - loss: 0.0247 - categorical_accuracy: 0.9124\n",
      "Epoch 00048: val_categorical_accuracy did not improve from 0.47875\n",
      "303/303 [==============================] - 134s 443ms/step - loss: 0.0247 - categorical_accuracy: 0.9124 - val_loss: 5.8931 - val_categorical_accuracy: 0.4404\n",
      "Epoch 49/300\n",
      "303/303 [==============================] - ETA: 0s - loss: 0.0249 - categorical_accuracy: 0.9103\n",
      "Epoch 00049: val_categorical_accuracy did not improve from 0.47875\n",
      "303/303 [==============================] - 134s 444ms/step - loss: 0.0249 - categorical_accuracy: 0.9103 - val_loss: 6.4119 - val_categorical_accuracy: 0.3913\n",
      "Epoch 50/300\n",
      "303/303 [==============================] - ETA: 0s - loss: 0.0250 - categorical_accuracy: 0.9149\n",
      "Epoch 00050: val_categorical_accuracy did not improve from 0.47875\n",
      "303/303 [==============================] - 134s 444ms/step - loss: 0.0250 - categorical_accuracy: 0.9149 - val_loss: 6.0249 - val_categorical_accuracy: 0.4223\n",
      "Epoch 51/300\n",
      "303/303 [==============================] - ETA: 0s - loss: 0.0239 - categorical_accuracy: 0.9152\n",
      "Epoch 00051: val_categorical_accuracy did not improve from 0.47875\n",
      "\n",
      "Epoch 00051: ReduceLROnPlateau reducing learning rate to 6.998399767326191e-05.\n",
      "303/303 [==============================] - 135s 446ms/step - loss: 0.0239 - categorical_accuracy: 0.9152 - val_loss: 5.8714 - val_categorical_accuracy: 0.4581\n",
      "Epoch 52/300\n",
      "303/303 [==============================] - ETA: 0s - loss: 0.0163 - categorical_accuracy: 0.9128\n",
      "Epoch 00052: val_categorical_accuracy did not improve from 0.47875\n",
      "303/303 [==============================] - 135s 446ms/step - loss: 0.0163 - categorical_accuracy: 0.9128 - val_loss: 5.5359 - val_categorical_accuracy: 0.4577\n",
      "Epoch 53/300\n",
      "303/303 [==============================] - ETA: 0s - loss: 0.0125 - categorical_accuracy: 0.9105\n",
      "Epoch 00053: val_categorical_accuracy improved from 0.47875 to 0.48271, saving model to ResNetNoisyTotal.best_weights-128.hdf5\n",
      "303/303 [==============================] - 136s 449ms/step - loss: 0.0125 - categorical_accuracy: 0.9105 - val_loss: 5.4733 - val_categorical_accuracy: 0.4827\n",
      "Epoch 54/300\n",
      "303/303 [==============================] - ETA: 0s - loss: 0.0136 - categorical_accuracy: 0.9137\n",
      "Epoch 00054: val_categorical_accuracy did not improve from 0.48271\n",
      "303/303 [==============================] - 135s 445ms/step - loss: 0.0136 - categorical_accuracy: 0.9137 - val_loss: 5.8084 - val_categorical_accuracy: 0.4598\n",
      "Epoch 55/300\n",
      "303/303 [==============================] - ETA: 0s - loss: 0.0107 - categorical_accuracy: 0.9148\n",
      "Epoch 00055: val_categorical_accuracy improved from 0.48271 to 0.48313, saving model to ResNetNoisyTotal.best_weights-128.hdf5\n",
      "303/303 [==============================] - 137s 452ms/step - loss: 0.0107 - categorical_accuracy: 0.9148 - val_loss: 5.5312 - val_categorical_accuracy: 0.4831\n",
      "Epoch 56/300\n",
      "303/303 [==============================] - ETA: 0s - loss: 0.0107 - categorical_accuracy: 0.9151\n",
      "Epoch 00056: val_categorical_accuracy improved from 0.48313 to 0.49604, saving model to ResNetNoisyTotal.best_weights-128.hdf5\n",
      "303/303 [==============================] - 136s 447ms/step - loss: 0.0107 - categorical_accuracy: 0.9151 - val_loss: 5.4881 - val_categorical_accuracy: 0.4960\n",
      "Epoch 57/300\n",
      "303/303 [==============================] - ETA: 0s - loss: 0.0129 - categorical_accuracy: 0.9134\n",
      "Epoch 00057: val_categorical_accuracy did not improve from 0.49604\n",
      "303/303 [==============================] - 135s 447ms/step - loss: 0.0129 - categorical_accuracy: 0.9134 - val_loss: 5.5275 - val_categorical_accuracy: 0.4881\n",
      "Epoch 58/300\n",
      "303/303 [==============================] - ETA: 0s - loss: 0.0093 - categorical_accuracy: 0.9131\n",
      "Epoch 00058: val_categorical_accuracy did not improve from 0.49604\n",
      "303/303 [==============================] - 135s 444ms/step - loss: 0.0093 - categorical_accuracy: 0.9131 - val_loss: 5.7581 - val_categorical_accuracy: 0.4727\n",
      "Epoch 59/300\n",
      "303/303 [==============================] - ETA: 0s - loss: 0.0099 - categorical_accuracy: 0.9125\n",
      "Epoch 00059: val_categorical_accuracy did not improve from 0.49604\n",
      "303/303 [==============================] - 135s 446ms/step - loss: 0.0099 - categorical_accuracy: 0.9125 - val_loss: 5.5943 - val_categorical_accuracy: 0.4848\n",
      "Epoch 60/300\n",
      "303/303 [==============================] - ETA: 0s - loss: 0.0093 - categorical_accuracy: 0.9102\n",
      "Epoch 00060: val_categorical_accuracy did not improve from 0.49604\n",
      "303/303 [==============================] - 135s 444ms/step - loss: 0.0093 - categorical_accuracy: 0.9102 - val_loss: 5.8959 - val_categorical_accuracy: 0.4633\n",
      "Epoch 61/300\n",
      "303/303 [==============================] - ETA: 0s - loss: 0.0083 - categorical_accuracy: 0.9104\n",
      "Epoch 00061: val_categorical_accuracy did not improve from 0.49604\n",
      "303/303 [==============================] - 134s 444ms/step - loss: 0.0083 - categorical_accuracy: 0.9104 - val_loss: 5.7492 - val_categorical_accuracy: 0.4804\n",
      "Epoch 62/300\n",
      "303/303 [==============================] - ETA: 0s - loss: 0.0089 - categorical_accuracy: 0.9140\n",
      "Epoch 00062: val_categorical_accuracy did not improve from 0.49604\n",
      "\n",
      "Epoch 00062: ReduceLROnPlateau reducing learning rate to 4.199039685772732e-05.\n",
      "303/303 [==============================] - 136s 448ms/step - loss: 0.0089 - categorical_accuracy: 0.9140 - val_loss: 7.0409 - val_categorical_accuracy: 0.4100\n",
      "Epoch 63/300\n",
      "303/303 [==============================] - ETA: 0s - loss: 0.0075 - categorical_accuracy: 0.9173\n",
      "Epoch 00063: val_categorical_accuracy improved from 0.49604 to 0.49917, saving model to ResNetNoisyTotal.best_weights-128.hdf5\n",
      "303/303 [==============================] - 137s 451ms/step - loss: 0.0075 - categorical_accuracy: 0.9173 - val_loss: 5.6097 - val_categorical_accuracy: 0.4992\n",
      "Epoch 64/300\n",
      "303/303 [==============================] - ETA: 0s - loss: 0.0065 - categorical_accuracy: 0.9127\n",
      "Epoch 00064: val_categorical_accuracy did not improve from 0.49917\n",
      "303/303 [==============================] - 135s 447ms/step - loss: 0.0065 - categorical_accuracy: 0.9127 - val_loss: 5.9333 - val_categorical_accuracy: 0.4752\n",
      "Epoch 65/300\n",
      "303/303 [==============================] - ETA: 0s - loss: 0.0067 - categorical_accuracy: 0.9133\n",
      "Epoch 00065: val_categorical_accuracy did not improve from 0.49917\n",
      "303/303 [==============================] - 131s 434ms/step - loss: 0.0067 - categorical_accuracy: 0.9133 - val_loss: 6.2392 - val_categorical_accuracy: 0.4338\n",
      "Epoch 66/300\n",
      "303/303 [==============================] - ETA: 0s - loss: 0.0056 - categorical_accuracy: 0.9137\n",
      "Epoch 00066: val_categorical_accuracy did not improve from 0.49917\n",
      "303/303 [==============================] - 135s 445ms/step - loss: 0.0056 - categorical_accuracy: 0.9137 - val_loss: 5.8622 - val_categorical_accuracy: 0.4871\n",
      "Epoch 67/300\n",
      "303/303 [==============================] - ETA: 0s - loss: 0.0061 - categorical_accuracy: 0.9119\n",
      "Epoch 00067: val_categorical_accuracy did not improve from 0.49917\n",
      "303/303 [==============================] - 136s 450ms/step - loss: 0.0061 - categorical_accuracy: 0.9119 - val_loss: 5.8760 - val_categorical_accuracy: 0.4856\n",
      "Epoch 68/300\n",
      "303/303 [==============================] - ETA: 0s - loss: 0.0057 - categorical_accuracy: 0.9150\n",
      "Epoch 00068: val_categorical_accuracy did not improve from 0.49917\n",
      "303/303 [==============================] - 135s 445ms/step - loss: 0.0057 - categorical_accuracy: 0.9150 - val_loss: 6.2867 - val_categorical_accuracy: 0.4335\n",
      "Epoch 69/300\n",
      "303/303 [==============================] - ETA: 0s - loss: 0.0061 - categorical_accuracy: 0.9158\n",
      "Epoch 00069: val_categorical_accuracy did not improve from 0.49917\n",
      "\n",
      "Epoch 00069: ReduceLROnPlateau reducing learning rate to 2.519423724152148e-05.\n",
      "303/303 [==============================] - 137s 451ms/step - loss: 0.0061 - categorical_accuracy: 0.9158 - val_loss: 6.1739 - val_categorical_accuracy: 0.4752\n",
      "Epoch 70/300\n",
      "303/303 [==============================] - ETA: 0s - loss: 0.0049 - categorical_accuracy: 0.9136\n",
      "Epoch 00070: val_categorical_accuracy improved from 0.49917 to 0.50271, saving model to ResNetNoisyTotal.best_weights-128.hdf5\n",
      "303/303 [==============================] - 139s 459ms/step - loss: 0.0049 - categorical_accuracy: 0.9136 - val_loss: 5.6629 - val_categorical_accuracy: 0.5027\n",
      "Epoch 71/300\n",
      "303/303 [==============================] - ETA: 0s - loss: 0.0041 - categorical_accuracy: 0.9115\n",
      "Epoch 00071: val_categorical_accuracy did not improve from 0.50271\n",
      "303/303 [==============================] - 137s 452ms/step - loss: 0.0041 - categorical_accuracy: 0.9115 - val_loss: 5.8105 - val_categorical_accuracy: 0.4977\n",
      "Epoch 72/300\n",
      "303/303 [==============================] - ETA: 0s - loss: 0.0044 - categorical_accuracy: 0.9102\n",
      "Epoch 00072: val_categorical_accuracy did not improve from 0.50271\n",
      "303/303 [==============================] - 137s 451ms/step - loss: 0.0044 - categorical_accuracy: 0.9102 - val_loss: 5.9019 - val_categorical_accuracy: 0.4904\n",
      "Epoch 73/300\n",
      "303/303 [==============================] - ETA: 0s - loss: 0.0045 - categorical_accuracy: 0.9104\n",
      "Epoch 00073: val_categorical_accuracy did not improve from 0.50271\n",
      "303/303 [==============================] - 138s 455ms/step - loss: 0.0045 - categorical_accuracy: 0.9104 - val_loss: 5.9211 - val_categorical_accuracy: 0.4919\n",
      "Epoch 74/300\n",
      "303/303 [==============================] - ETA: 0s - loss: 0.0036 - categorical_accuracy: 0.9140\n",
      "Epoch 00074: val_categorical_accuracy did not improve from 0.50271\n",
      "303/303 [==============================] - 138s 455ms/step - loss: 0.0036 - categorical_accuracy: 0.9140 - val_loss: 5.8759 - val_categorical_accuracy: 0.4975\n",
      "Epoch 75/300\n",
      "303/303 [==============================] - ETA: 0s - loss: 0.0042 - categorical_accuracy: 0.9147\n",
      "Epoch 00075: val_categorical_accuracy did not improve from 0.50271\n",
      "303/303 [==============================] - 133s 437ms/step - loss: 0.0042 - categorical_accuracy: 0.9147 - val_loss: 5.7960 - val_categorical_accuracy: 0.5002\n",
      "Epoch 76/300\n",
      "303/303 [==============================] - ETA: 0s - loss: 0.0040 - categorical_accuracy: 0.9122\n",
      "Epoch 00076: val_categorical_accuracy improved from 0.50271 to 0.51542, saving model to ResNetNoisyTotal.best_weights-128.hdf5\n",
      "303/303 [==============================] - 139s 458ms/step - loss: 0.0040 - categorical_accuracy: 0.9122 - val_loss: 5.7085 - val_categorical_accuracy: 0.5154\n",
      "Epoch 77/300\n",
      "303/303 [==============================] - ETA: 0s - loss: 0.0037 - categorical_accuracy: 0.9131\n",
      "Epoch 00077: val_categorical_accuracy did not improve from 0.51542\n",
      "303/303 [==============================] - 140s 462ms/step - loss: 0.0037 - categorical_accuracy: 0.9131 - val_loss: 5.7832 - val_categorical_accuracy: 0.5092\n",
      "Epoch 78/300\n",
      "303/303 [==============================] - ETA: 0s - loss: 0.0037 - categorical_accuracy: 0.9141\n",
      "Epoch 00078: val_categorical_accuracy did not improve from 0.51542\n",
      "303/303 [==============================] - 138s 456ms/step - loss: 0.0037 - categorical_accuracy: 0.9141 - val_loss: 6.0297 - val_categorical_accuracy: 0.4900\n",
      "Epoch 79/300\n",
      "303/303 [==============================] - ETA: 0s - loss: 0.0041 - categorical_accuracy: 0.9145\n",
      "Epoch 00079: val_categorical_accuracy did not improve from 0.51542\n",
      "303/303 [==============================] - 137s 452ms/step - loss: 0.0041 - categorical_accuracy: 0.9145 - val_loss: 6.2925 - val_categorical_accuracy: 0.4760\n",
      "Epoch 80/300\n",
      "303/303 [==============================] - ETA: 0s - loss: 0.0035 - categorical_accuracy: 0.9120\n",
      "Epoch 00080: val_categorical_accuracy did not improve from 0.51542\n",
      "303/303 [==============================] - 138s 457ms/step - loss: 0.0035 - categorical_accuracy: 0.9120 - val_loss: 6.0191 - val_categorical_accuracy: 0.4925\n",
      "Epoch 81/300\n",
      "303/303 [==============================] - ETA: 0s - loss: 0.0037 - categorical_accuracy: 0.9098\n",
      "Epoch 00081: val_categorical_accuracy did not improve from 0.51542\n",
      "303/303 [==============================] - 137s 452ms/step - loss: 0.0037 - categorical_accuracy: 0.9098 - val_loss: 5.7738 - val_categorical_accuracy: 0.5085\n",
      "Epoch 82/300\n",
      "303/303 [==============================] - ETA: 0s - loss: 0.0028 - categorical_accuracy: 0.9125\n",
      "Epoch 00082: val_categorical_accuracy did not improve from 0.51542\n",
      "\n",
      "Epoch 00082: ReduceLROnPlateau reducing learning rate to 1.511654190835543e-05.\n",
      "303/303 [==============================] - 138s 455ms/step - loss: 0.0028 - categorical_accuracy: 0.9125 - val_loss: 5.9442 - val_categorical_accuracy: 0.4998\n",
      "Epoch 83/300\n",
      "303/303 [==============================] - ETA: 0s - loss: 0.0029 - categorical_accuracy: 0.9113\n",
      "Epoch 00083: val_categorical_accuracy did not improve from 0.51542\n",
      "303/303 [==============================] - 138s 455ms/step - loss: 0.0029 - categorical_accuracy: 0.9113 - val_loss: 5.7996 - val_categorical_accuracy: 0.5079\n",
      "Epoch 84/300\n",
      "303/303 [==============================] - ETA: 0s - loss: 0.0029 - categorical_accuracy: 0.9110\n",
      "Epoch 00084: val_categorical_accuracy did not improve from 0.51542\n",
      "303/303 [==============================] - 134s 442ms/step - loss: 0.0029 - categorical_accuracy: 0.9110 - val_loss: 5.8797 - val_categorical_accuracy: 0.5015\n",
      "Epoch 85/300\n",
      "303/303 [==============================] - ETA: 0s - loss: 0.0026 - categorical_accuracy: 0.9093\n",
      "Epoch 00085: val_categorical_accuracy did not improve from 0.51542\n",
      "303/303 [==============================] - 139s 457ms/step - loss: 0.0026 - categorical_accuracy: 0.9093 - val_loss: 5.9940 - val_categorical_accuracy: 0.4944\n",
      "Epoch 86/300\n",
      "303/303 [==============================] - ETA: 0s - loss: 0.0027 - categorical_accuracy: 0.9109\n",
      "Epoch 00086: val_categorical_accuracy did not improve from 0.51542\n",
      "303/303 [==============================] - 139s 457ms/step - loss: 0.0027 - categorical_accuracy: 0.9109 - val_loss: 6.0727 - val_categorical_accuracy: 0.4892\n",
      "Epoch 87/300\n",
      "303/303 [==============================] - ETA: 0s - loss: 0.0023 - categorical_accuracy: 0.9105\n",
      "Epoch 00087: val_categorical_accuracy did not improve from 0.51542\n",
      "303/303 [==============================] - 139s 460ms/step - loss: 0.0023 - categorical_accuracy: 0.9105 - val_loss: 5.8852 - val_categorical_accuracy: 0.5038\n",
      "Epoch 88/300\n",
      "303/303 [==============================] - ETA: 0s - loss: 0.0031 - categorical_accuracy: 0.9116\n",
      "Epoch 00088: val_categorical_accuracy did not improve from 0.51542\n",
      "\n",
      "Epoch 00088: ReduceLROnPlateau reducing learning rate to 9.069925363291987e-06.\n",
      "303/303 [==============================] - 138s 456ms/step - loss: 0.0031 - categorical_accuracy: 0.9116 - val_loss: 5.9251 - val_categorical_accuracy: 0.5002\n",
      "Epoch 89/300\n",
      "303/303 [==============================] - ETA: 0s - loss: 0.0030 - categorical_accuracy: 0.9102\n",
      "Epoch 00089: val_categorical_accuracy did not improve from 0.51542\n",
      "303/303 [==============================] - 139s 458ms/step - loss: 0.0030 - categorical_accuracy: 0.9102 - val_loss: 5.9224 - val_categorical_accuracy: 0.5015\n",
      "Epoch 90/300\n",
      "303/303 [==============================] - ETA: 0s - loss: 0.0028 - categorical_accuracy: 0.9114\n",
      "Epoch 00090: val_categorical_accuracy did not improve from 0.51542\n",
      "303/303 [==============================] - 138s 455ms/step - loss: 0.0028 - categorical_accuracy: 0.9114 - val_loss: 5.9226 - val_categorical_accuracy: 0.5017\n",
      "Epoch 91/300\n",
      "303/303 [==============================] - ETA: 0s - loss: 0.0028 - categorical_accuracy: 0.9128\n",
      "Epoch 00091: val_categorical_accuracy did not improve from 0.51542\n",
      "303/303 [==============================] - 132s 436ms/step - loss: 0.0028 - categorical_accuracy: 0.9128 - val_loss: 5.9505 - val_categorical_accuracy: 0.5013\n",
      "Epoch 92/300\n",
      "303/303 [==============================] - ETA: 0s - loss: 0.0022 - categorical_accuracy: 0.9125\n",
      "Epoch 00092: val_categorical_accuracy did not improve from 0.51542\n",
      "303/303 [==============================] - 126s 416ms/step - loss: 0.0022 - categorical_accuracy: 0.9125 - val_loss: 5.9927 - val_categorical_accuracy: 0.4981\n",
      "Epoch 93/300\n",
      "303/303 [==============================] - ETA: 0s - loss: 0.0023 - categorical_accuracy: 0.9122\n",
      "Epoch 00093: val_categorical_accuracy did not improve from 0.51542\n",
      "303/303 [==============================] - 132s 437ms/step - loss: 0.0023 - categorical_accuracy: 0.9122 - val_loss: 5.9508 - val_categorical_accuracy: 0.5035\n",
      "Epoch 94/300\n",
      "303/303 [==============================] - ETA: 0s - loss: 0.0019 - categorical_accuracy: 0.9139\n",
      "Epoch 00094: val_categorical_accuracy did not improve from 0.51542\n",
      "\n",
      "Epoch 00094: ReduceLROnPlateau reducing learning rate to 5.441954999696463e-06.\n",
      "303/303 [==============================] - 133s 438ms/step - loss: 0.0019 - categorical_accuracy: 0.9139 - val_loss: 6.0291 - val_categorical_accuracy: 0.4985\n",
      "Epoch 95/300\n",
      "303/303 [==============================] - ETA: 0s - loss: 0.0018 - categorical_accuracy: 0.9135\n",
      "Epoch 00095: val_categorical_accuracy did not improve from 0.51542\n",
      "303/303 [==============================] - 134s 443ms/step - loss: 0.0018 - categorical_accuracy: 0.9135 - val_loss: 5.9742 - val_categorical_accuracy: 0.5013\n",
      "Epoch 96/300\n",
      "303/303 [==============================] - ETA: 0s - loss: 0.0022 - categorical_accuracy: 0.9128\n",
      "Epoch 00096: val_categorical_accuracy did not improve from 0.51542\n",
      "303/303 [==============================] - 134s 443ms/step - loss: 0.0022 - categorical_accuracy: 0.9128 - val_loss: 5.9026 - val_categorical_accuracy: 0.5038\n",
      "Epoch 97/300\n",
      "303/303 [==============================] - ETA: 0s - loss: 0.0024 - categorical_accuracy: 0.9117\n",
      "Epoch 00097: val_categorical_accuracy did not improve from 0.51542\n",
      "303/303 [==============================] - 134s 441ms/step - loss: 0.0024 - categorical_accuracy: 0.9117 - val_loss: 5.9282 - val_categorical_accuracy: 0.5054\n",
      "Epoch 98/300\n",
      "303/303 [==============================] - ETA: 0s - loss: 0.0018 - categorical_accuracy: 0.9116\n",
      "Epoch 00098: val_categorical_accuracy did not improve from 0.51542\n",
      "303/303 [==============================] - 134s 444ms/step - loss: 0.0018 - categorical_accuracy: 0.9116 - val_loss: 5.9599 - val_categorical_accuracy: 0.5046\n",
      "Epoch 99/300\n",
      "303/303 [==============================] - ETA: 0s - loss: 0.0016 - categorical_accuracy: 0.9113\n",
      "Epoch 00099: val_categorical_accuracy did not improve from 0.51542\n",
      "303/303 [==============================] - 134s 443ms/step - loss: 0.0016 - categorical_accuracy: 0.9113 - val_loss: 5.9718 - val_categorical_accuracy: 0.5048\n",
      "Epoch 100/300\n",
      "303/303 [==============================] - ETA: 0s - loss: 0.0020 - categorical_accuracy: 0.9135\n",
      "Epoch 00100: val_categorical_accuracy did not improve from 0.51542\n",
      "\n",
      "Epoch 00100: ReduceLROnPlateau reducing learning rate to 3.265173108957242e-06.\n",
      "303/303 [==============================] - 134s 441ms/step - loss: 0.0020 - categorical_accuracy: 0.9135 - val_loss: 5.9913 - val_categorical_accuracy: 0.5040\n",
      "Epoch 101/300\n",
      "303/303 [==============================] - ETA: 0s - loss: 0.0016 - categorical_accuracy: 0.9130\n",
      "Epoch 00101: val_categorical_accuracy did not improve from 0.51542\n",
      "303/303 [==============================] - 133s 439ms/step - loss: 0.0016 - categorical_accuracy: 0.9130 - val_loss: 6.0013 - val_categorical_accuracy: 0.5042\n",
      "Epoch 102/300\n",
      "303/303 [==============================] - ETA: 0s - loss: 0.0020 - categorical_accuracy: 0.9118\n",
      "Epoch 00102: val_categorical_accuracy did not improve from 0.51542\n",
      "303/303 [==============================] - 133s 440ms/step - loss: 0.0020 - categorical_accuracy: 0.9118 - val_loss: 5.9651 - val_categorical_accuracy: 0.5081\n",
      "Epoch 103/300\n",
      "303/303 [==============================] - ETA: 0s - loss: 0.0020 - categorical_accuracy: 0.9144\n",
      "Epoch 00103: val_categorical_accuracy did not improve from 0.51542\n",
      "303/303 [==============================] - 134s 443ms/step - loss: 0.0020 - categorical_accuracy: 0.9144 - val_loss: 5.9496 - val_categorical_accuracy: 0.5081\n",
      "Epoch 104/300\n",
      "303/303 [==============================] - ETA: 0s - loss: 0.0022 - categorical_accuracy: 0.9130\n",
      "Epoch 00104: val_categorical_accuracy did not improve from 0.51542\n",
      "303/303 [==============================] - 133s 439ms/step - loss: 0.0022 - categorical_accuracy: 0.9130 - val_loss: 5.9519 - val_categorical_accuracy: 0.5090\n",
      "Epoch 105/300\n",
      "303/303 [==============================] - ETA: 0s - loss: 0.0018 - categorical_accuracy: 0.9147\n",
      "Epoch 00105: val_categorical_accuracy did not improve from 0.51542\n",
      "303/303 [==============================] - 133s 440ms/step - loss: 0.0018 - categorical_accuracy: 0.9147 - val_loss: 5.9650 - val_categorical_accuracy: 0.5065\n",
      "Epoch 106/300\n",
      "303/303 [==============================] - ETA: 0s - loss: 0.0017 - categorical_accuracy: 0.9133\n",
      "Epoch 00106: val_categorical_accuracy did not improve from 0.51542\n",
      "\n",
      "Epoch 00106: ReduceLROnPlateau reducing learning rate to 1.959103838089504e-06.\n",
      "303/303 [==============================] - 133s 441ms/step - loss: 0.0017 - categorical_accuracy: 0.9133 - val_loss: 5.9703 - val_categorical_accuracy: 0.5090\n",
      "Epoch 00106: early stopping\n"
     ]
    }
   ],
   "source": [
    "history=custom_densenet169_model.fit_generator(generator=train_generator,\n",
    "                    steps_per_epoch=STEP_SIZE_TRAIN,\n",
    "                    validation_data=valid_generator,\n",
    "                    validation_steps=STEP_SIZE_VALID,\n",
    "                    epochs=300,\n",
    "                    callbacks=callbacks_list\n",
    ")"
   ]
  },
  {
   "cell_type": "code",
   "execution_count": 29,
   "metadata": {
    "execution": {
     "iopub.execute_input": "2020-10-01T22:04:34.396512Z",
     "iopub.status.busy": "2020-10-01T22:04:34.394899Z",
     "iopub.status.idle": "2020-10-01T22:04:34.397183Z",
     "shell.execute_reply": "2020-10-01T22:04:34.397656Z"
    },
    "papermill": {
     "duration": 11.696471,
     "end_time": "2020-10-01T22:04:34.397786",
     "exception": false,
     "start_time": "2020-10-01T22:04:22.701315",
     "status": "completed"
    },
    "tags": []
   },
   "outputs": [],
   "source": [
    "#history.history"
   ]
  },
  {
   "cell_type": "code",
   "execution_count": 30,
   "metadata": {
    "execution": {
     "iopub.execute_input": "2020-10-01T22:04:57.293242Z",
     "iopub.status.busy": "2020-10-01T22:04:57.288509Z",
     "iopub.status.idle": "2020-10-01T22:04:57.484411Z",
     "shell.execute_reply": "2020-10-01T22:04:57.484884Z"
    },
    "papermill": {
     "duration": 11.848017,
     "end_time": "2020-10-01T22:04:57.485054",
     "exception": false,
     "start_time": "2020-10-01T22:04:45.637037",
     "status": "completed"
    },
    "tags": []
   },
   "outputs": [
    {
     "data": {
      "image/png": "[encoded data removed]",
      "text/plain": [
       "<Figure size 432x288 with 1 Axes>"
      ]
     },
     "metadata": {
      "needs_background": "light"
     },
     "output_type": "display_data"
    }
   ],
   "source": [
    "import matplotlib.pyplot as plt\n",
    "\n",
    "\n",
    "loss_train = history.history['loss']\n",
    "loss_val = history.history['val_loss']\n",
    "#epochs = np.range(1,1)\n",
    "plt.plot(loss_train, 'g', label='Training loss')\n",
    "plt.plot(loss_val, 'b', label='validation loss')\n",
    "plt.title('Training and Validation loss')\n",
    "plt.xlabel('Epochs')\n",
    "plt.ylabel('Loss')\n",
    "plt.legend()\n",
    "plt.show()"
   ]
  },
  {
   "cell_type": "code",
   "execution_count": 31,
   "metadata": {
    "execution": {
     "iopub.execute_input": "2020-10-01T22:05:19.993001Z",
     "iopub.status.busy": "2020-10-01T22:05:19.986995Z",
     "iopub.status.idle": "2020-10-01T22:05:20.143704Z",
     "shell.execute_reply": "2020-10-01T22:05:20.143222Z"
    },
    "papermill": {
     "duration": 11.42123,
     "end_time": "2020-10-01T22:05:20.143820",
     "exception": false,
     "start_time": "2020-10-01T22:05:08.722590",
     "status": "completed"
    },
    "tags": []
   },
   "outputs": [
    {
     "data": {
      "image/png": "[encoded data removed]",
      "text/plain": [
       "<Figure size 432x288 with 1 Axes>"
      ]
     },
     "metadata": {
      "needs_background": "light"
     },
     "output_type": "display_data"
    }
   ],
   "source": [
    "loss_train = history.history['categorical_accuracy']\n",
    "loss_val = history.history['val_categorical_accuracy']\n",
    "epochs = range(1,41)\n",
    "plt.plot(loss_train, 'g', label='Training accuracy')\n",
    "plt.plot(loss_val, 'b', label='validation accuracy')\n",
    "plt.title('Training and Validation accuracy')\n",
    "plt.xlabel('Epochs')\n",
    "plt.ylabel('Accuracy')\n",
    "plt.legend()\n",
    "plt.show()"
   ]
  },
  {
   "cell_type": "code",
   "execution_count": 32,
   "metadata": {
    "execution": {
     "iopub.execute_input": "2020-10-01T22:05:43.447210Z",
     "iopub.status.busy": "2020-10-01T22:05:43.445980Z",
     "iopub.status.idle": "2020-10-01T22:05:53.500137Z",
     "shell.execute_reply": "2020-10-01T22:05:53.499197Z"
    },
    "papermill": {
     "duration": 21.412515,
     "end_time": "2020-10-01T22:05:53.500260",
     "exception": false,
     "start_time": "2020-10-01T22:05:32.087745",
     "status": "completed"
    },
    "tags": []
   },
   "outputs": [
    {
     "name": "stdout",
     "output_type": "stream",
     "text": [
      "76/76 [==============================] - 9s 118ms/step\n"
     ]
    }
   ],
   "source": [
    "res = custom_densenet169_model.predict_generator(valid_generator, verbose=1)\n",
    "\n",
    "    "
   ]
  },
  {
   "cell_type": "code",
   "execution_count": 33,
   "metadata": {
    "execution": {
     "iopub.execute_input": "2020-10-01T22:06:16.192006Z",
     "iopub.status.busy": "2020-10-01T22:06:16.190711Z",
     "iopub.status.idle": "2020-10-01T22:06:37.538154Z",
     "shell.execute_reply": "2020-10-01T22:06:37.538648Z"
    },
    "papermill": {
     "duration": 32.748842,
     "end_time": "2020-10-01T22:06:37.538792",
     "exception": false,
     "start_time": "2020-10-01T22:06:04.789950",
     "status": "completed"
    },
    "tags": []
   },
   "outputs": [
    {
     "name": "stdout",
     "output_type": "stream",
     "text": [
      "95/95 [==============================] - 20s 213ms/step\n"
     ]
    }
   ],
   "source": [
    "test_generator.reset()\n",
    "res_test=custom_densenet169_model.predict_generator(test_generator,\n",
    "#steps=STEP_SIZE_TEST,\n",
    "verbose=1)"
   ]
  },
  {
   "cell_type": "code",
   "execution_count": 34,
   "metadata": {
    "execution": {
     "iopub.execute_input": "2020-10-01T22:07:00.573422Z",
     "iopub.status.busy": "2020-10-01T22:07:00.572294Z",
     "iopub.status.idle": "2020-10-01T22:07:09.494885Z",
     "shell.execute_reply": "2020-10-01T22:07:09.494007Z"
    },
    "papermill": {
     "duration": 20.525117,
     "end_time": "2020-10-01T22:07:09.495061",
     "exception": false,
     "start_time": "2020-10-01T22:06:48.969944",
     "status": "completed"
    },
    "tags": []
   },
   "outputs": [
    {
     "name": "stdout",
     "output_type": "stream",
     "text": [
      "76/76 [==============================] - 9s 114ms/step\n"
     ]
    }
   ],
   "source": [
    "valid_generator.reset()\n",
    "res_cv=custom_densenet169_model.predict_generator(valid_generator,\n",
    "#steps=STEP_SIZE_TEST,\n",
    "verbose=1)"
   ]
  },
  {
   "cell_type": "code",
   "execution_count": 35,
   "metadata": {
    "execution": {
     "iopub.execute_input": "2020-10-01T22:07:33.058710Z",
     "iopub.status.busy": "2020-10-01T22:07:33.057388Z",
     "iopub.status.idle": "2020-10-01T22:09:21.540009Z",
     "shell.execute_reply": "2020-10-01T22:09:21.538959Z"
    },
    "papermill": {
     "duration": 120.686403,
     "end_time": "2020-10-01T22:09:21.540168",
     "exception": false,
     "start_time": "2020-10-01T22:07:20.853765",
     "status": "completed"
    },
    "tags": []
   },
   "outputs": [
    {
     "name": "stdout",
     "output_type": "stream",
     "text": [
      "304/304 [==============================] - 108s 355ms/step\n"
     ]
    }
   ],
   "source": [
    "train_generator.reset()\n",
    "res_train=custom_densenet169_model.predict_generator(train_generator,\n",
    "#steps=STEP_SIZE_TEST,\n",
    "verbose=1)"
   ]
  },
  {
   "cell_type": "code",
   "execution_count": 36,
   "metadata": {
    "execution": {
     "iopub.execute_input": "2020-10-01T22:09:45.325236Z",
     "iopub.status.busy": "2020-10-01T22:09:45.324381Z",
     "iopub.status.idle": "2020-10-01T22:09:45.327838Z",
     "shell.execute_reply": "2020-10-01T22:09:45.328393Z"
    },
    "papermill": {
     "duration": 11.773355,
     "end_time": "2020-10-01T22:09:45.328534",
     "exception": false,
     "start_time": "2020-10-01T22:09:33.555179",
     "status": "completed"
    },
    "tags": []
   },
   "outputs": [
    {
     "data": {
      "text/plain": [
       "(6078, 80)"
      ]
     },
     "execution_count": 36,
     "metadata": {},
     "output_type": "execute_result"
    }
   ],
   "source": [
    "res_test.shape"
   ]
  },
  {
   "cell_type": "code",
   "execution_count": 37,
   "metadata": {
    "execution": {
     "iopub.execute_input": "2020-10-01T22:10:08.233481Z",
     "iopub.status.busy": "2020-10-01T22:10:08.232145Z",
     "iopub.status.idle": "2020-10-01T22:10:08.513872Z",
     "shell.execute_reply": "2020-10-01T22:10:08.512493Z"
    },
    "papermill": {
     "duration": 11.801299,
     "end_time": "2020-10-01T22:10:08.514042",
     "exception": false,
     "start_time": "2020-10-01T22:09:56.712743",
     "status": "completed"
    },
    "tags": []
   },
   "outputs": [],
   "source": [
    "# Converting taget and identity columns to booleans\n",
    "\n",
    "target_columns=list(trainmultidf.columns)[:-1]\n",
    "\n",
    "def convert_to_bool(df, col_name):\n",
    "    df[col_name] = np.where(df[col_name] >= 0.5, True, False)\n",
    "    \n",
    "def convert_dataframe_to_bool(df):\n",
    "    bool_df = df.copy()\n",
    "    for col in target_columns:\n",
    "        convert_to_bool(bool_df, col)\n",
    "    return bool_df\n",
    "\n",
    "test_bool = convert_dataframe_to_bool(testmultidf) \n",
    "test_lable_bool=test_bool[list(test_bool.columns)[:-1]].to_numpy()\n",
    "\n",
    "train_bool = convert_dataframe_to_bool(trainmultidf) \n",
    "train_lable_bool=train_bool[list(train_bool.columns)[:-1]].to_numpy()\n",
    "\n",
    "cv_bool = convert_dataframe_to_bool(cvmultidf) \n",
    "cv_lable_bool=cv_bool[list(cv_bool.columns)[:-1]].to_numpy()"
   ]
  },
  {
   "cell_type": "code",
   "execution_count": 38,
   "metadata": {
    "execution": {
     "iopub.execute_input": "2020-10-01T22:10:32.048956Z",
     "iopub.status.busy": "2020-10-01T22:10:32.047164Z",
     "iopub.status.idle": "2020-10-01T22:10:32.051312Z",
     "shell.execute_reply": "2020-10-01T22:10:32.050781Z"
    },
    "papermill": {
     "duration": 12.070587,
     "end_time": "2020-10-01T22:10:32.051418",
     "exception": false,
     "start_time": "2020-10-01T22:10:19.980831",
     "status": "completed"
    },
    "tags": []
   },
   "outputs": [
    {
     "data": {
      "text/plain": [
       "(4862, 80)"
      ]
     },
     "execution_count": 38,
     "metadata": {},
     "output_type": "execute_result"
    }
   ],
   "source": [
    "cv_lable_bool.shape"
   ]
  },
  {
   "cell_type": "markdown",
   "metadata": {
    "papermill": {
     "duration": 11.433374,
     "end_time": "2020-10-01T22:10:55.247346",
     "exception": false,
     "start_time": "2020-10-01T22:10:43.813972",
     "status": "completed"
    },
    "tags": []
   },
   "source": [
    "# Evaluation Metric"
   ]
  },
  {
   "cell_type": "code",
   "execution_count": 39,
   "metadata": {
    "execution": {
     "iopub.execute_input": "2020-10-01T22:11:18.133441Z",
     "iopub.status.busy": "2020-10-01T22:11:18.131771Z",
     "iopub.status.idle": "2020-10-01T22:11:18.134757Z",
     "shell.execute_reply": "2020-10-01T22:11:18.134192Z"
    },
    "papermill": {
     "duration": 11.547494,
     "end_time": "2020-10-01T22:11:18.134871",
     "exception": false,
     "start_time": "2020-10-01T22:11:06.587377",
     "status": "completed"
    },
    "tags": []
   },
   "outputs": [],
   "source": [
    "import numpy as np\n",
    "import sklearn.metrics"
   ]
  },
  {
   "cell_type": "code",
   "execution_count": 40,
   "metadata": {
    "execution": {
     "iopub.execute_input": "2020-10-01T22:11:42.056417Z",
     "iopub.status.busy": "2020-10-01T22:11:42.054630Z",
     "iopub.status.idle": "2020-10-01T22:11:42.057133Z",
     "shell.execute_reply": "2020-10-01T22:11:42.057613Z"
    },
    "papermill": {
     "duration": 11.784506,
     "end_time": "2020-10-01T22:11:42.057742",
     "exception": false,
     "start_time": "2020-10-01T22:11:30.273236",
     "status": "completed"
    },
    "tags": []
   },
   "outputs": [],
   "source": [
    "# Core calculation of label precisions for one test sample.\n",
    "\n",
    "def _one_sample_positive_class_precisions(scores, truth):\n",
    "  \"\"\"Calculate precisions for each true class for a single sample.\n",
    "  \n",
    "  Args:\n",
    "    scores: np.array of (num_classes,) giving the individual classifier scores.\n",
    "    truth: np.array of (num_classes,) bools indicating which classes are true.\n",
    "\n",
    "  Returns:\n",
    "    pos_class_indices: np.array of indices of the true classes for this sample.\n",
    "    pos_class_precisions: np.array of precisions corresponding to each of those\n",
    "      classes.\n",
    "  \"\"\"\n",
    "  num_classes = scores.shape[0]\n",
    "  pos_class_indices = np.flatnonzero(truth > 0)\n",
    "  # Only calculate precisions if there are some true classes.\n",
    "  if not len(pos_class_indices):\n",
    "    return pos_class_indices, np.zeros(0)\n",
    "  # Retrieval list of classes for this sample. \n",
    "  retrieved_classes = np.argsort(scores)[::-1]\n",
    "  # class_rankings[top_scoring_class_index] == 0 etc.\n",
    "  class_rankings = np.zeros(num_classes, dtype=np.int)\n",
    "  class_rankings[retrieved_classes] = range(num_classes)\n",
    "  # Which of these is a true label?\n",
    "  retrieved_class_true = np.zeros(num_classes, dtype=np.bool)\n",
    "  retrieved_class_true[class_rankings[pos_class_indices]] = True\n",
    "  # Num hits for every truncated retrieval list.\n",
    "  retrieved_cumulative_hits = np.cumsum(retrieved_class_true)\n",
    "  # Precision of retrieval list truncated at each hit, in order of pos_labels.\n",
    "  precision_at_hits = (\n",
    "      retrieved_cumulative_hits[class_rankings[pos_class_indices]] / \n",
    "      (1 + class_rankings[pos_class_indices].astype(np.float)))\n",
    "  return pos_class_indices, precision_at_hits\n"
   ]
  },
  {
   "cell_type": "code",
   "execution_count": 41,
   "metadata": {
    "execution": {
     "iopub.execute_input": "2020-10-01T22:12:04.959336Z",
     "iopub.status.busy": "2020-10-01T22:12:04.957518Z",
     "iopub.status.idle": "2020-10-01T22:12:04.960117Z",
     "shell.execute_reply": "2020-10-01T22:12:04.960589Z"
    },
    "papermill": {
     "duration": 11.46111,
     "end_time": "2020-10-01T22:12:04.960719",
     "exception": false,
     "start_time": "2020-10-01T22:11:53.499609",
     "status": "completed"
    },
    "tags": []
   },
   "outputs": [],
   "source": [
    "# All-in-one calculation of per-class lwlrap.\n",
    "\n",
    "def calculate_per_class_lwlrap(truth, scores):\n",
    "  \"\"\"Calculate label-weighted label-ranking average precision.\n",
    "  \n",
    "  Arguments:\n",
    "    truth: np.array of (num_samples, num_classes) giving boolean ground-truth\n",
    "      of presence of that class in that sample.\n",
    "    scores: np.array of (num_samples, num_classes) giving the classifier-under-\n",
    "      test's real-valued score for each class for each sample.\n",
    "  \n",
    "  Returns:\n",
    "    per_class_lwlrap: np.array of (num_classes,) giving the lwlrap for each \n",
    "      class.\n",
    "    weight_per_class: np.array of (num_classes,) giving the prior of each \n",
    "      class within the truth labels.  Then the overall unbalanced lwlrap is \n",
    "      simply np.sum(per_class_lwlrap * weight_per_class)\n",
    "  \"\"\"\n",
    "  assert truth.shape == scores.shape\n",
    "  num_samples, num_classes = scores.shape\n",
    "  # Space to store a distinct precision value for each class on each sample.\n",
    "  # Only the classes that are true for each sample will be filled in.\n",
    "  precisions_for_samples_by_classes = np.zeros((num_samples, num_classes))\n",
    "  for sample_num in range(num_samples):\n",
    "    pos_class_indices, precision_at_hits = (\n",
    "      _one_sample_positive_class_precisions(scores[sample_num, :], \n",
    "                                            truth[sample_num, :]))\n",
    "    precisions_for_samples_by_classes[sample_num, pos_class_indices] = (\n",
    "        precision_at_hits)\n",
    "  labels_per_class = np.sum(truth > 0, axis=0)\n",
    "  weight_per_class = labels_per_class / float(np.sum(labels_per_class))\n",
    "  # Form average of each column, i.e. all the precisions assigned to labels in\n",
    "  # a particular class.\n",
    "  per_class_lwlrap = (np.sum(precisions_for_samples_by_classes, axis=0) / \n",
    "                      np.maximum(1, labels_per_class))\n",
    "  # overall_lwlrap = simple average of all the actual per-class, per-sample precisions\n",
    "  #                = np.sum(precisions_for_samples_by_classes) / np.sum(precisions_for_samples_by_classes > 0)\n",
    "  #           also = weighted mean of per-class lwlraps, weighted by class label prior across samples\n",
    "  #                = np.sum(per_class_lwlrap * weight_per_class)\n",
    "  return per_class_lwlrap, weight_per_class"
   ]
  },
  {
   "cell_type": "code",
   "execution_count": 42,
   "metadata": {
    "execution": {
     "iopub.execute_input": "2020-10-01T22:12:28.507884Z",
     "iopub.status.busy": "2020-10-01T22:12:28.506947Z",
     "iopub.status.idle": "2020-10-01T22:12:28.511701Z",
     "shell.execute_reply": "2020-10-01T22:12:28.511200Z"
    },
    "papermill": {
     "duration": 12.029413,
     "end_time": "2020-10-01T22:12:28.511807",
     "exception": false,
     "start_time": "2020-10-01T22:12:16.482394",
     "status": "completed"
    },
    "tags": []
   },
   "outputs": [],
   "source": [
    "# Calculate the overall lwlrap using sklearn.metrics function.\n",
    "\n",
    "def calculate_overall_lwlrap_sklearn(truth, scores):\n",
    "  \"\"\"Calculate the overall lwlrap using sklearn.metrics.lrap.\"\"\"\n",
    "  # sklearn doesn't correctly apply weighting to samples with no labels, so just skip them.\n",
    "  sample_weight = np.sum(truth > 0, axis=1)\n",
    "  nonzero_weight_sample_indices = np.flatnonzero(sample_weight > 0)\n",
    "  overall_lwlrap = sklearn.metrics.label_ranking_average_precision_score(\n",
    "      truth[nonzero_weight_sample_indices, :] > 0, \n",
    "      scores[nonzero_weight_sample_indices, :], \n",
    "      sample_weight=sample_weight[nonzero_weight_sample_indices])\n",
    "  return overall_lwlrap"
   ]
  },
  {
   "cell_type": "code",
   "execution_count": 43,
   "metadata": {
    "execution": {
     "iopub.execute_input": "2020-10-01T22:12:51.586821Z",
     "iopub.status.busy": "2020-10-01T22:12:51.585936Z",
     "iopub.status.idle": "2020-10-01T22:12:51.588953Z",
     "shell.execute_reply": "2020-10-01T22:12:51.588444Z"
    },
    "papermill": {
     "duration": 11.551943,
     "end_time": "2020-10-01T22:12:51.589088",
     "exception": false,
     "start_time": "2020-10-01T22:12:40.037145",
     "status": "completed"
    },
    "tags": []
   },
   "outputs": [],
   "source": [
    "# Accumulator object version.\n",
    "\n",
    "class lwlrap_accumulator(object):\n",
    "  \"\"\"Accumulate batches of test samples into per-class and overall lwlrap.\"\"\"  \n",
    "\n",
    "  def __init__(self):\n",
    "    self.num_classes = 0\n",
    "    self.total_num_samples = 0\n",
    "  \n",
    "  def accumulate_samples(self, batch_truth, batch_scores):\n",
    "    \"\"\"Cumulate a new batch of samples into the metric.\n",
    "    \n",
    "    Args:\n",
    "      truth: np.array of (num_samples, num_classes) giving boolean\n",
    "        ground-truth of presence of that class in that sample for this batch.\n",
    "      scores: np.array of (num_samples, num_classes) giving the \n",
    "        classifier-under-test's real-valued score for each class for each\n",
    "        sample.\n",
    "    \"\"\"\n",
    "    assert batch_scores.shape == batch_truth.shape\n",
    "    num_samples, num_classes = batch_truth.shape\n",
    "    if not self.num_classes:\n",
    "      self.num_classes = num_classes\n",
    "      self._per_class_cumulative_precision = np.zeros(self.num_classes)\n",
    "      self._per_class_cumulative_count = np.zeros(self.num_classes, \n",
    "                                                  dtype=np.int)\n",
    "    assert num_classes == self.num_classes\n",
    "    for truth, scores in zip(batch_truth, batch_scores):\n",
    "      pos_class_indices, precision_at_hits = (\n",
    "        _one_sample_positive_class_precisions(scores, truth))\n",
    "      self._per_class_cumulative_precision[pos_class_indices] += (\n",
    "        precision_at_hits)\n",
    "      self._per_class_cumulative_count[pos_class_indices] += 1\n",
    "    self.total_num_samples += num_samples\n",
    "\n",
    "  def per_class_lwlrap(self):\n",
    "    \"\"\"Return a vector of the per-class lwlraps for the accumulated samples.\"\"\"\n",
    "    return (self._per_class_cumulative_precision / \n",
    "            np.maximum(1, self._per_class_cumulative_count))\n",
    "\n",
    "  def per_class_weight(self):\n",
    "    \"\"\"Return a normalized weight vector for the contributions of each class.\"\"\"\n",
    "    return (self._per_class_cumulative_count / \n",
    "            float(np.sum(self._per_class_cumulative_count)))\n",
    "\n",
    "  def overall_lwlrap(self):\n",
    "    \"\"\"Return the scalar overall lwlrap for cumulated samples.\"\"\"\n",
    "    return np.sum(self.per_class_lwlrap() * self.per_class_weight())"
   ]
  },
  {
   "cell_type": "code",
   "execution_count": 44,
   "metadata": {
    "execution": {
     "iopub.execute_input": "2020-10-01T22:13:14.703497Z",
     "iopub.status.busy": "2020-10-01T22:13:14.702651Z",
     "iopub.status.idle": "2020-10-01T22:13:15.512311Z",
     "shell.execute_reply": "2020-10-01T22:13:15.511750Z"
    },
    "papermill": {
     "duration": 12.483205,
     "end_time": "2020-10-01T22:13:15.512426",
     "exception": false,
     "start_time": "2020-10-01T22:13:03.029221",
     "status": "completed"
    },
    "tags": []
   },
   "outputs": [
    {
     "name": "stdout",
     "output_type": "stream",
     "text": [
      "lwlrap from sklearn.metrics = 0.6428735613161083\n"
     ]
    }
   ],
   "source": [
    "#https://www.kaggle.com/voglinio/keras-2d-model-5-fold-log-specgram-curated-only\n",
    "truth = test_lable_bool\n",
    "scores = res_test\n",
    "print(\"lwlrap from sklearn.metrics =\", calculate_overall_lwlrap_sklearn(truth, scores))"
   ]
  },
  {
   "cell_type": "code",
   "execution_count": 45,
   "metadata": {
    "execution": {
     "iopub.execute_input": "2020-10-01T22:13:38.939257Z",
     "iopub.status.busy": "2020-10-01T22:13:38.938310Z",
     "iopub.status.idle": "2020-10-01T22:13:41.531419Z",
     "shell.execute_reply": "2020-10-01T22:13:41.531936Z"
    },
    "papermill": {
     "duration": 14.109009,
     "end_time": "2020-10-01T22:13:41.532088",
     "exception": false,
     "start_time": "2020-10-01T22:13:27.423079",
     "status": "completed"
    },
    "tags": []
   },
   "outputs": [
    {
     "name": "stdout",
     "output_type": "stream",
     "text": [
      "lwlrap from sklearn.metrics = 0.9995227481324419\n"
     ]
    }
   ],
   "source": [
    "truth = train_lable_bool\n",
    "scores = res_train\n",
    "print(\"lwlrap from sklearn.metrics =\", calculate_overall_lwlrap_sklearn(truth, scores))"
   ]
  },
  {
   "cell_type": "code",
   "execution_count": 46,
   "metadata": {
    "execution": {
     "iopub.execute_input": "2020-10-01T22:14:04.605328Z",
     "iopub.status.busy": "2020-10-01T22:14:04.604368Z",
     "iopub.status.idle": "2020-10-01T22:14:05.253481Z",
     "shell.execute_reply": "2020-10-01T22:14:05.252969Z"
    },
    "papermill": {
     "duration": 12.024911,
     "end_time": "2020-10-01T22:14:05.253591",
     "exception": false,
     "start_time": "2020-10-01T22:13:53.228680",
     "status": "completed"
    },
    "tags": []
   },
   "outputs": [
    {
     "name": "stdout",
     "output_type": "stream",
     "text": [
      "lwlrap from sklearn.metrics = 0.6477429531130476\n"
     ]
    }
   ],
   "source": [
    "truth = cv_lable_bool\n",
    "scores = res_cv\n",
    "print(\"lwlrap from sklearn.metrics =\", calculate_overall_lwlrap_sklearn(truth, scores))"
   ]
  },
  {
   "cell_type": "markdown",
   "metadata": {
    "papermill": {
     "duration": 12.302324,
     "end_time": "2020-10-01T22:14:28.902912",
     "exception": false,
     "start_time": "2020-10-01T22:14:16.600588",
     "status": "completed"
    },
    "tags": []
   },
   "source": [
    "## SUBMISSION"
   ]
  },
  {
   "cell_type": "code",
   "execution_count": 47,
   "metadata": {
    "execution": {
     "iopub.execute_input": "2020-10-01T22:14:51.995072Z",
     "iopub.status.busy": "2020-10-01T22:14:51.994388Z",
     "iopub.status.idle": "2020-10-01T22:14:52.645609Z",
     "shell.execute_reply": "2020-10-01T22:14:52.646363Z"
    },
    "papermill": {
     "duration": 12.191275,
     "end_time": "2020-10-01T22:14:52.646575",
     "exception": false,
     "start_time": "2020-10-01T22:14:40.455300",
     "status": "completed"
    },
    "tags": []
   },
   "outputs": [
    {
     "name": "stdout",
     "output_type": "stream",
     "text": [
      "Found 3361 validated image filenames.\n"
     ]
    }
   ],
   "source": [
    "sub_dataframe = pd.DataFrame({'fname':os.listdir('../input/sc2-total-aug-noisy-data/sub2/sub2')})\n",
    "\n",
    "sub_datagen=ImageDataGenerator(rescale=1./255.)\n",
    "sub_generator=sub_datagen.flow_from_dataframe(\n",
    "    dataframe=sub_dataframe,\n",
    "    directory=\"../input/sc2-total-aug-noisy-data/sub2/sub2\",\n",
    "    x_col=\"fname\",\n",
    "    y_col=None,\n",
    "    batch_size=64,\n",
    "    seed=42,\n",
    "    shuffle=False,\n",
    "    class_mode=None,\n",
    "    target_size=(128,128))"
   ]
  },
  {
   "cell_type": "code",
   "execution_count": 48,
   "metadata": {
    "execution": {
     "iopub.execute_input": "2020-10-01T22:15:15.308044Z",
     "iopub.status.busy": "2020-10-01T22:15:15.307104Z",
     "iopub.status.idle": "2020-10-01T22:15:15.309046Z",
     "shell.execute_reply": "2020-10-01T22:15:15.309535Z"
    },
    "papermill": {
     "duration": 11.340857,
     "end_time": "2020-10-01T22:15:15.309665",
     "exception": false,
     "start_time": "2020-10-01T22:15:03.968808",
     "status": "completed"
    },
    "tags": []
   },
   "outputs": [],
   "source": [
    "STEP_SIZE_SUB=sub_generator.n//sub_generator.batch_size"
   ]
  },
  {
   "cell_type": "code",
   "execution_count": 49,
   "metadata": {
    "execution": {
     "iopub.execute_input": "2020-10-01T22:15:38.944137Z",
     "iopub.status.busy": "2020-10-01T22:15:38.942688Z",
     "iopub.status.idle": "2020-10-01T22:15:49.946727Z",
     "shell.execute_reply": "2020-10-01T22:15:49.946215Z"
    },
    "papermill": {
     "duration": 22.556427,
     "end_time": "2020-10-01T22:15:49.946841",
     "exception": false,
     "start_time": "2020-10-01T22:15:27.390414",
     "status": "completed"
    },
    "tags": []
   },
   "outputs": [
    {
     "name": "stdout",
     "output_type": "stream",
     "text": [
      "53/53 [==============================] - 11s 200ms/step\n"
     ]
    }
   ],
   "source": [
    "sub_generator.reset()\n",
    "res_sub=custom_densenet169_model.predict_generator(sub_generator,\n",
    "#steps=STEP_SIZE_TEST,\n",
    "verbose=1)"
   ]
  },
  {
   "cell_type": "code",
   "execution_count": 50,
   "metadata": {
    "execution": {
     "iopub.execute_input": "2020-10-01T22:16:12.888018Z",
     "iopub.status.busy": "2020-10-01T22:16:12.886281Z",
     "iopub.status.idle": "2020-10-01T22:16:12.890515Z",
     "shell.execute_reply": "2020-10-01T22:16:12.889986Z"
    },
    "papermill": {
     "duration": 11.388322,
     "end_time": "2020-10-01T22:16:12.890617",
     "exception": false,
     "start_time": "2020-10-01T22:16:01.502295",
     "status": "completed"
    },
    "tags": []
   },
   "outputs": [
    {
     "data": {
      "text/plain": [
       "(3361, 80)"
      ]
     },
     "execution_count": 50,
     "metadata": {},
     "output_type": "execute_result"
    }
   ],
   "source": [
    "res_sub.shape"
   ]
  },
  {
   "cell_type": "code",
   "execution_count": 51,
   "metadata": {
    "execution": {
     "iopub.execute_input": "2020-10-01T22:16:36.619533Z",
     "iopub.status.busy": "2020-10-01T22:16:36.618767Z",
     "iopub.status.idle": "2020-10-01T22:16:36.622686Z",
     "shell.execute_reply": "2020-10-01T22:16:36.622201Z"
    },
    "papermill": {
     "duration": 11.924663,
     "end_time": "2020-10-01T22:16:36.622795",
     "exception": false,
     "start_time": "2020-10-01T22:16:24.698132",
     "status": "completed"
    },
    "tags": []
   },
   "outputs": [],
   "source": [
    "submit_data=pd.DataFrame(res_sub.astype(\"float64\"), columns=list(mlb_train.classes_))"
   ]
  },
  {
   "cell_type": "code",
   "execution_count": 52,
   "metadata": {
    "execution": {
     "iopub.execute_input": "2020-10-01T22:16:59.667767Z",
     "iopub.status.busy": "2020-10-01T22:16:59.667041Z",
     "iopub.status.idle": "2020-10-01T22:16:59.707190Z",
     "shell.execute_reply": "2020-10-01T22:16:59.706331Z"
    },
    "papermill": {
     "duration": 11.604084,
     "end_time": "2020-10-01T22:16:59.707302",
     "exception": false,
     "start_time": "2020-10-01T22:16:48.103218",
     "status": "completed"
    },
    "tags": []
   },
   "outputs": [
    {
     "data": {
      "text/html": [
       "<div>\n",
       "<style scoped>\n",
       "    .dataframe tbody tr th:only-of-type {\n",
       "        vertical-align: middle;\n",
       "    }\n",
       "\n",
       "    .dataframe tbody tr th {\n",
       "        vertical-align: top;\n",
       "    }\n",
       "\n",
       "    .dataframe thead th {\n",
       "        text-align: right;\n",
       "    }\n",
       "</style>\n",
       "<table border=\"1\" class=\"dataframe\">\n",
       "  <thead>\n",
       "    <tr style=\"text-align: right;\">\n",
       "      <th></th>\n",
       "      <th>fname</th>\n",
       "      <th>Accelerating_and_revving_and_vroom</th>\n",
       "      <th>Accordion</th>\n",
       "      <th>Acoustic_guitar</th>\n",
       "      <th>Applause</th>\n",
       "      <th>Bark</th>\n",
       "      <th>Bass_drum</th>\n",
       "      <th>Bass_guitar</th>\n",
       "      <th>Bathtub_(filling_or_washing)</th>\n",
       "      <th>Bicycle_bell</th>\n",
       "      <th>...</th>\n",
       "      <th>Toilet_flush</th>\n",
       "      <th>Traffic_noise_and_roadway_noise</th>\n",
       "      <th>Trickle_and_dribble</th>\n",
       "      <th>Walk_and_footsteps</th>\n",
       "      <th>Water_tap_and_faucet</th>\n",
       "      <th>Waves_and_surf</th>\n",
       "      <th>Whispering</th>\n",
       "      <th>Writing</th>\n",
       "      <th>Yell</th>\n",
       "      <th>Zipper_(clothing)</th>\n",
       "    </tr>\n",
       "  </thead>\n",
       "  <tbody>\n",
       "    <tr>\n",
       "      <th>0</th>\n",
       "      <td>a03b1880.wav</td>\n",
       "      <td>2.676255e-12</td>\n",
       "      <td>2.557473e-12</td>\n",
       "      <td>6.344345e-09</td>\n",
       "      <td>6.398005e-07</td>\n",
       "      <td>7.998481e-04</td>\n",
       "      <td>1.041710e-07</td>\n",
       "      <td>3.208605e-08</td>\n",
       "      <td>1.055844e-07</td>\n",
       "      <td>4.050351e-07</td>\n",
       "      <td>...</td>\n",
       "      <td>1.503480e-03</td>\n",
       "      <td>5.704957e-14</td>\n",
       "      <td>1.763405e-13</td>\n",
       "      <td>3.063764e-15</td>\n",
       "      <td>1.197099e-07</td>\n",
       "      <td>1.153946e-17</td>\n",
       "      <td>1.356551e-10</td>\n",
       "      <td>1.578656e-10</td>\n",
       "      <td>3.488122e-10</td>\n",
       "      <td>1.058231e-11</td>\n",
       "    </tr>\n",
       "    <tr>\n",
       "      <th>1</th>\n",
       "      <td>5174dbec.wav</td>\n",
       "      <td>4.252839e-07</td>\n",
       "      <td>1.489427e-12</td>\n",
       "      <td>8.569572e-08</td>\n",
       "      <td>2.420401e-13</td>\n",
       "      <td>1.736778e-02</td>\n",
       "      <td>3.171175e-15</td>\n",
       "      <td>3.826359e-14</td>\n",
       "      <td>4.642245e-08</td>\n",
       "      <td>1.406111e-15</td>\n",
       "      <td>...</td>\n",
       "      <td>1.434259e-12</td>\n",
       "      <td>3.504844e-16</td>\n",
       "      <td>9.701665e-10</td>\n",
       "      <td>2.792732e-13</td>\n",
       "      <td>4.690578e-10</td>\n",
       "      <td>8.960758e-17</td>\n",
       "      <td>1.961656e-09</td>\n",
       "      <td>9.358146e-09</td>\n",
       "      <td>1.859349e-14</td>\n",
       "      <td>5.171565e-11</td>\n",
       "    </tr>\n",
       "    <tr>\n",
       "      <th>2</th>\n",
       "      <td>6b5abad8.wav</td>\n",
       "      <td>7.462505e-12</td>\n",
       "      <td>3.786568e-13</td>\n",
       "      <td>4.336802e-05</td>\n",
       "      <td>4.200215e-21</td>\n",
       "      <td>4.437189e-03</td>\n",
       "      <td>1.479094e-16</td>\n",
       "      <td>4.734089e-07</td>\n",
       "      <td>5.719202e-12</td>\n",
       "      <td>8.883665e-14</td>\n",
       "      <td>...</td>\n",
       "      <td>3.674631e-15</td>\n",
       "      <td>1.225065e-17</td>\n",
       "      <td>6.019078e-21</td>\n",
       "      <td>8.623137e-16</td>\n",
       "      <td>1.647816e-11</td>\n",
       "      <td>2.411850e-15</td>\n",
       "      <td>3.259008e-08</td>\n",
       "      <td>7.864436e-06</td>\n",
       "      <td>4.404482e-14</td>\n",
       "      <td>1.502313e-05</td>\n",
       "    </tr>\n",
       "    <tr>\n",
       "      <th>3</th>\n",
       "      <td>736076e5.wav</td>\n",
       "      <td>1.638102e-10</td>\n",
       "      <td>2.825236e-14</td>\n",
       "      <td>1.113510e-07</td>\n",
       "      <td>2.836617e-19</td>\n",
       "      <td>3.336435e-11</td>\n",
       "      <td>2.161413e-10</td>\n",
       "      <td>5.364975e-11</td>\n",
       "      <td>3.062221e-15</td>\n",
       "      <td>1.334607e-08</td>\n",
       "      <td>...</td>\n",
       "      <td>1.286375e-09</td>\n",
       "      <td>4.607589e-14</td>\n",
       "      <td>2.319478e-16</td>\n",
       "      <td>1.177995e-17</td>\n",
       "      <td>2.089207e-18</td>\n",
       "      <td>3.479374e-16</td>\n",
       "      <td>2.163873e-08</td>\n",
       "      <td>8.929229e-17</td>\n",
       "      <td>2.101647e-15</td>\n",
       "      <td>1.294032e-15</td>\n",
       "    </tr>\n",
       "    <tr>\n",
       "      <th>4</th>\n",
       "      <td>c6b7e823.wav</td>\n",
       "      <td>2.422013e-09</td>\n",
       "      <td>1.200689e-04</td>\n",
       "      <td>8.815995e-10</td>\n",
       "      <td>1.133512e-06</td>\n",
       "      <td>4.720523e-08</td>\n",
       "      <td>1.404115e-19</td>\n",
       "      <td>5.019611e-10</td>\n",
       "      <td>7.228587e-13</td>\n",
       "      <td>1.299574e-09</td>\n",
       "      <td>...</td>\n",
       "      <td>1.510843e-12</td>\n",
       "      <td>6.494363e-09</td>\n",
       "      <td>7.838802e-11</td>\n",
       "      <td>7.636771e-10</td>\n",
       "      <td>4.107396e-13</td>\n",
       "      <td>4.723813e-11</td>\n",
       "      <td>3.210784e-08</td>\n",
       "      <td>2.022372e-12</td>\n",
       "      <td>3.453682e-15</td>\n",
       "      <td>6.678987e-10</td>\n",
       "    </tr>\n",
       "  </tbody>\n",
       "</table>\n",
       "<p>5 rows × 81 columns</p>\n",
       "</div>"
      ],
      "text/plain": [
       "          fname  Accelerating_and_revving_and_vroom     Accordion  \\\n",
       "0  a03b1880.wav                        2.676255e-12  2.557473e-12   \n",
       "1  5174dbec.wav                        4.252839e-07  1.489427e-12   \n",
       "2  6b5abad8.wav                        7.462505e-12  3.786568e-13   \n",
       "3  736076e5.wav                        1.638102e-10  2.825236e-14   \n",
       "4  c6b7e823.wav                        2.422013e-09  1.200689e-04   \n",
       "\n",
       "   Acoustic_guitar      Applause          Bark     Bass_drum   Bass_guitar  \\\n",
       "0     6.344345e-09  6.398005e-07  7.998481e-04  1.041710e-07  3.208605e-08   \n",
       "1     8.569572e-08  2.420401e-13  1.736778e-02  3.171175e-15  3.826359e-14   \n",
       "2     4.336802e-05  4.200215e-21  4.437189e-03  1.479094e-16  4.734089e-07   \n",
       "3     1.113510e-07  2.836617e-19  3.336435e-11  2.161413e-10  5.364975e-11   \n",
       "4     8.815995e-10  1.133512e-06  4.720523e-08  1.404115e-19  5.019611e-10   \n",
       "\n",
       "   Bathtub_(filling_or_washing)  Bicycle_bell  ...  Toilet_flush  \\\n",
       "0                  1.055844e-07  4.050351e-07  ...  1.503480e-03   \n",
       "1                  4.642245e-08  1.406111e-15  ...  1.434259e-12   \n",
       "2                  5.719202e-12  8.883665e-14  ...  3.674631e-15   \n",
       "3                  3.062221e-15  1.334607e-08  ...  1.286375e-09   \n",
       "4                  7.228587e-13  1.299574e-09  ...  1.510843e-12   \n",
       "\n",
       "   Traffic_noise_and_roadway_noise  Trickle_and_dribble  Walk_and_footsteps  \\\n",
       "0                     5.704957e-14         1.763405e-13        3.063764e-15   \n",
       "1                     3.504844e-16         9.701665e-10        2.792732e-13   \n",
       "2                     1.225065e-17         6.019078e-21        8.623137e-16   \n",
       "3                     4.607589e-14         2.319478e-16        1.177995e-17   \n",
       "4                     6.494363e-09         7.838802e-11        7.636771e-10   \n",
       "\n",
       "   Water_tap_and_faucet  Waves_and_surf    Whispering       Writing  \\\n",
       "0          1.197099e-07    1.153946e-17  1.356551e-10  1.578656e-10   \n",
       "1          4.690578e-10    8.960758e-17  1.961656e-09  9.358146e-09   \n",
       "2          1.647816e-11    2.411850e-15  3.259008e-08  7.864436e-06   \n",
       "3          2.089207e-18    3.479374e-16  2.163873e-08  8.929229e-17   \n",
       "4          4.107396e-13    4.723813e-11  3.210784e-08  2.022372e-12   \n",
       "\n",
       "           Yell  Zipper_(clothing)  \n",
       "0  3.488122e-10       1.058231e-11  \n",
       "1  1.859349e-14       5.171565e-11  \n",
       "2  4.404482e-14       1.502313e-05  \n",
       "3  2.101647e-15       1.294032e-15  \n",
       "4  3.453682e-15       6.678987e-10  \n",
       "\n",
       "[5 rows x 81 columns]"
      ]
     },
     "execution_count": 52,
     "metadata": {},
     "output_type": "execute_result"
    }
   ],
   "source": [
    "submit_data.insert(0, 'fname', os.listdir('../input/sc2-total-aug-noisy-data/sub2/sub2'))\n",
    "submit_data[\"fname\"]=submit_data[\"fname\"].apply(lambda x: x.split(\".\")[0]+\".wav\")\n",
    "submit_data.head()"
   ]
  },
  {
   "cell_type": "code",
   "execution_count": 53,
   "metadata": {
    "execution": {
     "iopub.execute_input": "2020-10-01T22:17:23.566361Z",
     "iopub.status.busy": "2020-10-01T22:17:23.565452Z",
     "iopub.status.idle": "2020-10-01T22:17:24.436857Z",
     "shell.execute_reply": "2020-10-01T22:17:24.435416Z"
    },
    "papermill": {
     "duration": 12.797031,
     "end_time": "2020-10-01T22:17:24.437006",
     "exception": false,
     "start_time": "2020-10-01T22:17:11.639975",
     "status": "completed"
    },
    "tags": []
   },
   "outputs": [],
   "source": [
    "submit_data.to_csv(\"submissionResNetNoisyCV_4.csv\",index=False )"
   ]
  },
  {
   "cell_type": "code",
   "execution_count": null,
   "metadata": {
    "papermill": {
     "duration": 11.493309,
     "end_time": "2020-10-01T22:17:48.019173",
     "exception": false,
     "start_time": "2020-10-01T22:17:36.525864",
     "status": "completed"
    },
    "tags": []
   },
   "outputs": [],
   "source": []
  }
 ],
 "metadata": {
  "kernelspec": {
   "display_name": "Python 3",
   "language": "python",
   "name": "python3"
  },
  "language_info": {
   "codemirror_mode": {
    "name": "ipython",
    "version": 3
   },
   "file_extension": ".py",
   "mimetype": "text/x-python",
   "name": "python",
   "nbconvert_exporter": "python",
   "pygments_lexer": "ipython3",
   "version": "3.7.3"
  },
  "papermill": {
   "duration": 15558.400803,
   "end_time": "2020-10-01T22:18:00.751083",
   "environment_variables": {},
   "exception": null,
   "input_path": "__notebook__.ipynb",
   "output_path": "__notebook__.ipynb",
   "parameters": {},
   "start_time": "2020-10-01T17:58:42.350280",
   "version": "2.1.0"
  }
 },
 "nbformat": 4,
 "nbformat_minor": 4
}
