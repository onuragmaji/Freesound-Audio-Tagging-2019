{
 "cells": [
  {
   "cell_type": "code",
   "execution_count": 3,
   "metadata": {},
   "outputs": [
    {
     "data": {
      "text/plain": [
       "['0.1 EDA_Preprocess - Jupyter Notebook.pdf',\n",
       " '0.2 Preprocessing NoteBook - Jupyter Notebook.pdf',\n",
       " '0.3 K Fold Curated - Jupyter Notebook.pdf',\n",
       " '0.4 K Fold Noisy - Jupyter Notebook.pdf',\n",
       " '1. custom-noisy-model - Jupyter Notebook.pdf',\n",
       " '10. 0-k-curated-mobinet - Jupyter Notebook.pdf',\n",
       " '11. 4-k-flod-data-Noisy-densenet121-128-ipynb - Jupyter Notebook.pdf',\n",
       " '12. 0-k-flod-data-curated-densenet121-128-ipynb - Jupyter Notebook.pdf',\n",
       " '2. 0-k-custom-curated-model - Jupyter Notebook.pdf',\n",
       " '3. 4-k-flod-data-noisy-densenet169 - Jupyter Notebook.pdf',\n",
       " '4. 0-k-flod-data-curated-densenet-169 - Jupyter Notebook.pdf',\n",
       " '5. 4-k-flod-data-noisy-resnet50 - Jupyter Notebook.pdf',\n",
       " '6. 0-k-resnet-curated - Jupyter Notebook.pdf',\n",
       " '7. 4-k-Noisy-resnet101-noisy - Jupyter Notebook.pdf',\n",
       " '8. 0-k-curated-resnet101-noisy - Jupyter Notebook.pdf',\n",
       " '9. 4-k-Dense-mobinet - Jupyter Notebook.pdf',\n",
       " 'final.pdf']"
      ]
     },
     "execution_count": 3,
     "metadata": {},
     "output_type": "execute_result"
    }
   ],
   "source": [
    "import os\n",
    "\n",
    "os.listdir(\"../SUB pdf\")"
   ]
  },
  {
   "cell_type": "code",
   "execution_count": 1,
   "metadata": {
    "_cell_guid": "b1076dfc-b9ad-4769-8c92-a6c4dae69d19",
    "_uuid": "8f2839f25d086af736a60e9eeb907d3b93b6e0e5",
    "execution": {
     "iopub.execute_input": "2020-10-05T03:14:00.988954Z",
     "iopub.status.busy": "2020-10-05T03:14:00.988076Z",
     "iopub.status.idle": "2020-10-05T03:14:00.990594Z",
     "shell.execute_reply": "2020-10-05T03:14:00.991022Z"
    },
    "papermill": {
     "duration": 0.053236,
     "end_time": "2020-10-05T03:14:00.991186",
     "exception": false,
     "start_time": "2020-10-05T03:14:00.937950",
     "status": "completed"
    },
    "tags": []
   },
   "outputs": [],
   "source": [
    "import numpy as np # linear algebra\n",
    "import pandas as pd # data processing, CSV file I/O (e.g. pd.read_csv)\n",
    "\n",
    "import os"
   ]
  },
  {
   "cell_type": "code",
   "execution_count": 2,
   "metadata": {
    "execution": {
     "iopub.execute_input": "2020-10-05T03:14:01.087173Z",
     "iopub.status.busy": "2020-10-05T03:14:01.086542Z",
     "iopub.status.idle": "2020-10-05T03:14:01.125789Z",
     "shell.execute_reply": "2020-10-05T03:14:01.124512Z"
    },
    "papermill": {
     "duration": 0.090237,
     "end_time": "2020-10-05T03:14:01.125901",
     "exception": false,
     "start_time": "2020-10-05T03:14:01.035664",
     "status": "completed"
    },
    "tags": []
   },
   "outputs": [],
   "source": [
    "traindf_noisy=pd.read_csv('../input/freesound-audio-tagging-2019/train_noisy.csv',dtype=str)\n",
    "\n",
    "traindf_curated=pd.read_csv('../input/freesound-audio-tagging-2019/train_curated.csv',dtype=str)"
   ]
  },
  {
   "cell_type": "code",
   "execution_count": 3,
   "metadata": {
    "execution": {
     "iopub.execute_input": "2020-10-05T03:14:01.227034Z",
     "iopub.status.busy": "2020-10-05T03:14:01.226207Z",
     "iopub.status.idle": "2020-10-05T03:14:01.233545Z",
     "shell.execute_reply": "2020-10-05T03:14:01.234085Z"
    },
    "papermill": {
     "duration": 0.064182,
     "end_time": "2020-10-05T03:14:01.234210",
     "exception": false,
     "start_time": "2020-10-05T03:14:01.170028",
     "status": "completed"
    },
    "tags": []
   },
   "outputs": [
    {
     "data": {
      "text/html": [
       "<div>\n",
       "<style scoped>\n",
       "    .dataframe tbody tr th:only-of-type {\n",
       "        vertical-align: middle;\n",
       "    }\n",
       "\n",
       "    .dataframe tbody tr th {\n",
       "        vertical-align: top;\n",
       "    }\n",
       "\n",
       "    .dataframe thead th {\n",
       "        text-align: right;\n",
       "    }\n",
       "</style>\n",
       "<table border=\"1\" class=\"dataframe\">\n",
       "  <thead>\n",
       "    <tr style=\"text-align: right;\">\n",
       "      <th></th>\n",
       "      <th>fname</th>\n",
       "      <th>labels</th>\n",
       "    </tr>\n",
       "  </thead>\n",
       "  <tbody>\n",
       "    <tr>\n",
       "      <th>0</th>\n",
       "      <td>00097e21.wav</td>\n",
       "      <td>Bathtub_(filling_or_washing)</td>\n",
       "    </tr>\n",
       "    <tr>\n",
       "      <th>1</th>\n",
       "      <td>000b6cfb.wav</td>\n",
       "      <td>Motorcycle</td>\n",
       "    </tr>\n",
       "    <tr>\n",
       "      <th>2</th>\n",
       "      <td>00116cd2.wav</td>\n",
       "      <td>Marimba_and_xylophone,Glockenspiel</td>\n",
       "    </tr>\n",
       "    <tr>\n",
       "      <th>3</th>\n",
       "      <td>00127d14.wav</td>\n",
       "      <td>Water_tap_and_faucet,Sink_(filling_or_washing)</td>\n",
       "    </tr>\n",
       "    <tr>\n",
       "      <th>4</th>\n",
       "      <td>0019adae.wav</td>\n",
       "      <td>Raindrop</td>\n",
       "    </tr>\n",
       "  </tbody>\n",
       "</table>\n",
       "</div>"
      ],
      "text/plain": [
       "          fname                                          labels\n",
       "0  00097e21.wav                    Bathtub_(filling_or_washing)\n",
       "1  000b6cfb.wav                                      Motorcycle\n",
       "2  00116cd2.wav              Marimba_and_xylophone,Glockenspiel\n",
       "3  00127d14.wav  Water_tap_and_faucet,Sink_(filling_or_washing)\n",
       "4  0019adae.wav                                        Raindrop"
      ]
     },
     "execution_count": 3,
     "metadata": {},
     "output_type": "execute_result"
    }
   ],
   "source": [
    "traindf_noisy.head()"
   ]
  },
  {
   "cell_type": "code",
   "execution_count": 4,
   "metadata": {
    "execution": {
     "iopub.execute_input": "2020-10-05T03:14:01.332067Z",
     "iopub.status.busy": "2020-10-05T03:14:01.331369Z",
     "iopub.status.idle": "2020-10-05T03:14:01.348106Z",
     "shell.execute_reply": "2020-10-05T03:14:01.347625Z"
    },
    "papermill": {
     "duration": 0.067819,
     "end_time": "2020-10-05T03:14:01.348209",
     "exception": false,
     "start_time": "2020-10-05T03:14:01.280390",
     "status": "completed"
    },
    "tags": []
   },
   "outputs": [
    {
     "data": {
      "text/html": [
       "<div>\n",
       "<style scoped>\n",
       "    .dataframe tbody tr th:only-of-type {\n",
       "        vertical-align: middle;\n",
       "    }\n",
       "\n",
       "    .dataframe tbody tr th {\n",
       "        vertical-align: top;\n",
       "    }\n",
       "\n",
       "    .dataframe thead th {\n",
       "        text-align: right;\n",
       "    }\n",
       "</style>\n",
       "<table border=\"1\" class=\"dataframe\">\n",
       "  <thead>\n",
       "    <tr style=\"text-align: right;\">\n",
       "      <th></th>\n",
       "      <th>fname</th>\n",
       "      <th>labels</th>\n",
       "    </tr>\n",
       "  </thead>\n",
       "  <tbody>\n",
       "    <tr>\n",
       "      <th>0</th>\n",
       "      <td>d349d1c7_aug.jpg</td>\n",
       "      <td>Cutlery_and_silverware,Dishes_and_pots_and_pans</td>\n",
       "    </tr>\n",
       "    <tr>\n",
       "      <th>1</th>\n",
       "      <td>e1c41fe6_aug.jpg</td>\n",
       "      <td>Burping_and_eructation</td>\n",
       "    </tr>\n",
       "    <tr>\n",
       "      <th>2</th>\n",
       "      <td>d8b54599.jpg</td>\n",
       "      <td>Accelerating_and_revving_and_vroom</td>\n",
       "    </tr>\n",
       "    <tr>\n",
       "      <th>3</th>\n",
       "      <td>15d94574_aug.jpg</td>\n",
       "      <td>Mechanical_fan</td>\n",
       "    </tr>\n",
       "    <tr>\n",
       "      <th>4</th>\n",
       "      <td>05be25ad.jpg</td>\n",
       "      <td>Shatter</td>\n",
       "    </tr>\n",
       "  </tbody>\n",
       "</table>\n",
       "</div>"
      ],
      "text/plain": [
       "              fname                                           labels\n",
       "0  d349d1c7_aug.jpg  Cutlery_and_silverware,Dishes_and_pots_and_pans\n",
       "1  e1c41fe6_aug.jpg                           Burping_and_eructation\n",
       "2      d8b54599.jpg               Accelerating_and_revving_and_vroom\n",
       "3  15d94574_aug.jpg                                   Mechanical_fan\n",
       "4      05be25ad.jpg                                          Shatter"
      ]
     },
     "execution_count": 4,
     "metadata": {},
     "output_type": "execute_result"
    }
   ],
   "source": [
    "train_df = pd.read_csv(\"../input/sc2-total-aug-noisy-data/K_fold_data/K_fold_data/Curated/Curated_train_0.csv\")\n",
    "train_df.head()"
   ]
  },
  {
   "cell_type": "code",
   "execution_count": 5,
   "metadata": {
    "execution": {
     "iopub.execute_input": "2020-10-05T03:14:01.445680Z",
     "iopub.status.busy": "2020-10-05T03:14:01.444929Z",
     "iopub.status.idle": "2020-10-05T03:14:01.447964Z",
     "shell.execute_reply": "2020-10-05T03:14:01.448543Z"
    },
    "papermill": {
     "duration": 0.055111,
     "end_time": "2020-10-05T03:14:01.448679",
     "exception": false,
     "start_time": "2020-10-05T03:14:01.393568",
     "status": "completed"
    },
    "tags": []
   },
   "outputs": [
    {
     "data": {
      "text/plain": [
       "(6251, 2)"
      ]
     },
     "execution_count": 5,
     "metadata": {},
     "output_type": "execute_result"
    }
   ],
   "source": [
    "train_df.shape"
   ]
  },
  {
   "cell_type": "code",
   "execution_count": 6,
   "metadata": {
    "execution": {
     "iopub.execute_input": "2020-10-05T03:14:01.551953Z",
     "iopub.status.busy": "2020-10-05T03:14:01.550849Z",
     "iopub.status.idle": "2020-10-05T03:14:01.560689Z",
     "shell.execute_reply": "2020-10-05T03:14:01.560211Z"
    },
    "papermill": {
     "duration": 0.064728,
     "end_time": "2020-10-05T03:14:01.560801",
     "exception": false,
     "start_time": "2020-10-05T03:14:01.496073",
     "status": "completed"
    },
    "tags": []
   },
   "outputs": [
    {
     "data": {
      "text/plain": [
       "(1563, 2)"
      ]
     },
     "execution_count": 6,
     "metadata": {},
     "output_type": "execute_result"
    }
   ],
   "source": [
    "cv_df = pd.read_csv(\"../input/sc2-total-aug-noisy-data/K_fold_data/K_fold_data/Curated/Curated_cv_0.csv\")\n",
    "cv_df.shape"
   ]
  },
  {
   "cell_type": "code",
   "execution_count": 7,
   "metadata": {
    "execution": {
     "iopub.execute_input": "2020-10-05T03:14:01.659454Z",
     "iopub.status.busy": "2020-10-05T03:14:01.658471Z",
     "iopub.status.idle": "2020-10-05T03:14:01.666947Z",
     "shell.execute_reply": "2020-10-05T03:14:01.667508Z"
    },
    "papermill": {
     "duration": 0.060434,
     "end_time": "2020-10-05T03:14:01.667644",
     "exception": false,
     "start_time": "2020-10-05T03:14:01.607210",
     "status": "completed"
    },
    "tags": []
   },
   "outputs": [
    {
     "data": {
      "text/plain": [
       "(1380, 2)"
      ]
     },
     "execution_count": 7,
     "metadata": {},
     "output_type": "execute_result"
    }
   ],
   "source": [
    "    \n",
    "test_df = pd.read_csv(\"../input/sc2-total-aug-noisy-data/K_fold_data/K_fold_data/Curated/Curated_test.csv\") \n",
    "test_df.shape"
   ]
  },
  {
   "cell_type": "code",
   "execution_count": 8,
   "metadata": {
    "execution": {
     "iopub.execute_input": "2020-10-05T03:14:01.769263Z",
     "iopub.status.busy": "2020-10-05T03:14:01.768498Z",
     "iopub.status.idle": "2020-10-05T03:14:02.768759Z",
     "shell.execute_reply": "2020-10-05T03:14:02.768228Z"
    },
    "papermill": {
     "duration": 1.053886,
     "end_time": "2020-10-05T03:14:02.768877",
     "exception": false,
     "start_time": "2020-10-05T03:14:01.714991",
     "status": "completed"
    },
    "tags": []
   },
   "outputs": [],
   "source": [
    "from sklearn.preprocessing import MultiLabelBinarizer\n",
    "\n",
    "mlb_train = MultiLabelBinarizer()\n",
    "\n",
    "\n",
    "labels_train = mlb_train.fit_transform([ i.split(\",\") for i in list(train_df[\"labels\"])])\n",
    "\n",
    "\n",
    "labels_test = mlb_train.transform([ i.split(\",\") for i in list(test_df[\"labels\"])])\n",
    "\n",
    "\n",
    "#mlb_cv = MultiLabelBinarizer()\n",
    "labels_cv = mlb_train.transform([ i.split(\",\") for i in list(cv_df[\"labels\"])])\n"
   ]
  },
  {
   "cell_type": "code",
   "execution_count": 9,
   "metadata": {
    "execution": {
     "iopub.execute_input": "2020-10-05T03:14:02.871914Z",
     "iopub.status.busy": "2020-10-05T03:14:02.871134Z",
     "iopub.status.idle": "2020-10-05T03:14:02.875201Z",
     "shell.execute_reply": "2020-10-05T03:14:02.874622Z"
    },
    "papermill": {
     "duration": 0.057529,
     "end_time": "2020-10-05T03:14:02.875315",
     "exception": false,
     "start_time": "2020-10-05T03:14:02.817786",
     "status": "completed"
    },
    "tags": []
   },
   "outputs": [
    {
     "data": {
      "text/plain": [
       "(1380, 80)"
      ]
     },
     "execution_count": 9,
     "metadata": {},
     "output_type": "execute_result"
    }
   ],
   "source": [
    "labels_test.shape"
   ]
  },
  {
   "cell_type": "code",
   "execution_count": 10,
   "metadata": {
    "execution": {
     "iopub.execute_input": "2020-10-05T03:14:02.982806Z",
     "iopub.status.busy": "2020-10-05T03:14:02.977951Z",
     "iopub.status.idle": "2020-10-05T03:14:02.986422Z",
     "shell.execute_reply": "2020-10-05T03:14:02.985799Z"
    },
    "papermill": {
     "duration": 0.063831,
     "end_time": "2020-10-05T03:14:02.986547",
     "exception": false,
     "start_time": "2020-10-05T03:14:02.922716",
     "status": "completed"
    },
    "tags": []
   },
   "outputs": [],
   "source": [
    "trainmultidf=pd.DataFrame(data=labels_train,columns=list(mlb_train.classes_))\n",
    "trainmultidf[\"fname\"]=list(train_df[\"fname\"])\n",
    "\n",
    "testmultidf=pd.DataFrame(data=labels_test,columns=list(mlb_train.classes_))\n",
    "testmultidf[\"fname\"]=list(test_df[\"fname\"])\n",
    "\n",
    "\n",
    "cvmultidf=pd.DataFrame(data=labels_cv,columns=list(mlb_train.classes_))\n",
    "cvmultidf[\"fname\"]=list(cv_df[\"fname\"])\n"
   ]
  },
  {
   "cell_type": "code",
   "execution_count": 11,
   "metadata": {
    "execution": {
     "iopub.execute_input": "2020-10-05T03:14:03.088188Z",
     "iopub.status.busy": "2020-10-05T03:14:03.087446Z",
     "iopub.status.idle": "2020-10-05T03:14:10.354833Z",
     "shell.execute_reply": "2020-10-05T03:14:10.354336Z"
    },
    "papermill": {
     "duration": 7.321107,
     "end_time": "2020-10-05T03:14:10.354940",
     "exception": false,
     "start_time": "2020-10-05T03:14:03.033833",
     "status": "completed"
    },
    "tags": []
   },
   "outputs": [
    {
     "name": "stdout",
     "output_type": "stream",
     "text": [
      "Found 6251 validated image filenames.\n"
     ]
    }
   ],
   "source": [
    "#We change the ids for the images in the csv files to reflect their new status as jpgs\n",
    "#https://medium.com/@vijayabhaskar96/tutorial-on-keras-flow-from-dataframe-1fd4493d237c\n",
    "from keras_preprocessing.image import ImageDataGenerator\n",
    "\n",
    "\n",
    "\n",
    "datagen=ImageDataGenerator(rescale=1./255.,zoom_range=[0.5,1.0],brightness_range=[0.8,1.4])\n",
    "\n",
    "\n",
    "train_generator=datagen.flow_from_dataframe(\n",
    "    dataframe=trainmultidf,\n",
    "    directory=\"../input/sc2-total-aug-noisy-data/Total images Bucket Curated/Total images Bucket Curated\",\n",
    "    x_col=\"fname\",\n",
    "    y_col=list(mlb_train.classes_),\n",
    "    subset=\"training\",\n",
    "    batch_size=64,\n",
    "    seed=42,\n",
    "    shuffle=False,\n",
    "    class_mode=\"raw\",\n",
    "    #color_mode=\"grayscale\",\n",
    "    target_size=(128,128))\n",
    "\n"
   ]
  },
  {
   "cell_type": "code",
   "execution_count": 12,
   "metadata": {
    "execution": {
     "iopub.execute_input": "2020-10-05T03:14:10.459538Z",
     "iopub.status.busy": "2020-10-05T03:14:10.458673Z",
     "iopub.status.idle": "2020-10-05T03:14:10.462705Z",
     "shell.execute_reply": "2020-10-05T03:14:10.462225Z"
    },
    "papermill": {
     "duration": 0.059633,
     "end_time": "2020-10-05T03:14:10.462809",
     "exception": false,
     "start_time": "2020-10-05T03:14:10.403176",
     "status": "completed"
    },
    "tags": []
   },
   "outputs": [
    {
     "data": {
      "text/plain": [
       "6251"
      ]
     },
     "execution_count": 12,
     "metadata": {},
     "output_type": "execute_result"
    }
   ],
   "source": [
    "train_generator.n"
   ]
  },
  {
   "cell_type": "code",
   "execution_count": 13,
   "metadata": {
    "execution": {
     "iopub.execute_input": "2020-10-05T03:14:10.563381Z",
     "iopub.status.busy": "2020-10-05T03:14:10.562549Z",
     "iopub.status.idle": "2020-10-05T03:14:10.565858Z",
     "shell.execute_reply": "2020-10-05T03:14:10.566387Z"
    },
    "papermill": {
     "duration": 0.055578,
     "end_time": "2020-10-05T03:14:10.566506",
     "exception": false,
     "start_time": "2020-10-05T03:14:10.510928",
     "status": "completed"
    },
    "tags": []
   },
   "outputs": [
    {
     "data": {
      "text/plain": [
       "(1563, 81)"
      ]
     },
     "execution_count": 13,
     "metadata": {},
     "output_type": "execute_result"
    }
   ],
   "source": [
    "cvmultidf.shape"
   ]
  },
  {
   "cell_type": "code",
   "execution_count": 14,
   "metadata": {
    "execution": {
     "iopub.execute_input": "2020-10-05T03:14:10.681383Z",
     "iopub.status.busy": "2020-10-05T03:14:10.680426Z",
     "iopub.status.idle": "2020-10-05T03:14:10.684824Z",
     "shell.execute_reply": "2020-10-05T03:14:10.684362Z"
    },
    "papermill": {
     "duration": 0.071015,
     "end_time": "2020-10-05T03:14:10.684925",
     "exception": false,
     "start_time": "2020-10-05T03:14:10.613910",
     "status": "completed"
    },
    "tags": []
   },
   "outputs": [
    {
     "data": {
      "text/html": [
       "<div>\n",
       "<style scoped>\n",
       "    .dataframe tbody tr th:only-of-type {\n",
       "        vertical-align: middle;\n",
       "    }\n",
       "\n",
       "    .dataframe tbody tr th {\n",
       "        vertical-align: top;\n",
       "    }\n",
       "\n",
       "    .dataframe thead th {\n",
       "        text-align: right;\n",
       "    }\n",
       "</style>\n",
       "<table border=\"1\" class=\"dataframe\">\n",
       "  <thead>\n",
       "    <tr style=\"text-align: right;\">\n",
       "      <th></th>\n",
       "      <th>Accelerating_and_revving_and_vroom</th>\n",
       "      <th>Accordion</th>\n",
       "      <th>Acoustic_guitar</th>\n",
       "      <th>Applause</th>\n",
       "      <th>Bark</th>\n",
       "      <th>Bass_drum</th>\n",
       "      <th>Bass_guitar</th>\n",
       "      <th>Bathtub_(filling_or_washing)</th>\n",
       "      <th>Bicycle_bell</th>\n",
       "      <th>Burping_and_eructation</th>\n",
       "      <th>...</th>\n",
       "      <th>Traffic_noise_and_roadway_noise</th>\n",
       "      <th>Trickle_and_dribble</th>\n",
       "      <th>Walk_and_footsteps</th>\n",
       "      <th>Water_tap_and_faucet</th>\n",
       "      <th>Waves_and_surf</th>\n",
       "      <th>Whispering</th>\n",
       "      <th>Writing</th>\n",
       "      <th>Yell</th>\n",
       "      <th>Zipper_(clothing)</th>\n",
       "      <th>fname</th>\n",
       "    </tr>\n",
       "  </thead>\n",
       "  <tbody>\n",
       "    <tr>\n",
       "      <th>0</th>\n",
       "      <td>0</td>\n",
       "      <td>0</td>\n",
       "      <td>0</td>\n",
       "      <td>0</td>\n",
       "      <td>0</td>\n",
       "      <td>0</td>\n",
       "      <td>1</td>\n",
       "      <td>0</td>\n",
       "      <td>0</td>\n",
       "      <td>0</td>\n",
       "      <td>...</td>\n",
       "      <td>0</td>\n",
       "      <td>0</td>\n",
       "      <td>0</td>\n",
       "      <td>0</td>\n",
       "      <td>0</td>\n",
       "      <td>0</td>\n",
       "      <td>0</td>\n",
       "      <td>0</td>\n",
       "      <td>0</td>\n",
       "      <td>9a93c380.jpg</td>\n",
       "    </tr>\n",
       "    <tr>\n",
       "      <th>1</th>\n",
       "      <td>0</td>\n",
       "      <td>0</td>\n",
       "      <td>0</td>\n",
       "      <td>0</td>\n",
       "      <td>0</td>\n",
       "      <td>0</td>\n",
       "      <td>0</td>\n",
       "      <td>0</td>\n",
       "      <td>0</td>\n",
       "      <td>0</td>\n",
       "      <td>...</td>\n",
       "      <td>0</td>\n",
       "      <td>0</td>\n",
       "      <td>0</td>\n",
       "      <td>0</td>\n",
       "      <td>0</td>\n",
       "      <td>0</td>\n",
       "      <td>0</td>\n",
       "      <td>0</td>\n",
       "      <td>0</td>\n",
       "      <td>0ab47a4c.jpg</td>\n",
       "    </tr>\n",
       "    <tr>\n",
       "      <th>2</th>\n",
       "      <td>0</td>\n",
       "      <td>0</td>\n",
       "      <td>0</td>\n",
       "      <td>0</td>\n",
       "      <td>0</td>\n",
       "      <td>0</td>\n",
       "      <td>0</td>\n",
       "      <td>0</td>\n",
       "      <td>0</td>\n",
       "      <td>1</td>\n",
       "      <td>...</td>\n",
       "      <td>0</td>\n",
       "      <td>0</td>\n",
       "      <td>0</td>\n",
       "      <td>0</td>\n",
       "      <td>0</td>\n",
       "      <td>0</td>\n",
       "      <td>0</td>\n",
       "      <td>0</td>\n",
       "      <td>0</td>\n",
       "      <td>8f5bf633_aug.jpg</td>\n",
       "    </tr>\n",
       "    <tr>\n",
       "      <th>3</th>\n",
       "      <td>0</td>\n",
       "      <td>0</td>\n",
       "      <td>0</td>\n",
       "      <td>0</td>\n",
       "      <td>0</td>\n",
       "      <td>0</td>\n",
       "      <td>0</td>\n",
       "      <td>0</td>\n",
       "      <td>0</td>\n",
       "      <td>0</td>\n",
       "      <td>...</td>\n",
       "      <td>0</td>\n",
       "      <td>0</td>\n",
       "      <td>0</td>\n",
       "      <td>0</td>\n",
       "      <td>0</td>\n",
       "      <td>0</td>\n",
       "      <td>0</td>\n",
       "      <td>0</td>\n",
       "      <td>0</td>\n",
       "      <td>e07009c1.jpg</td>\n",
       "    </tr>\n",
       "    <tr>\n",
       "      <th>4</th>\n",
       "      <td>0</td>\n",
       "      <td>0</td>\n",
       "      <td>0</td>\n",
       "      <td>0</td>\n",
       "      <td>0</td>\n",
       "      <td>0</td>\n",
       "      <td>0</td>\n",
       "      <td>0</td>\n",
       "      <td>0</td>\n",
       "      <td>0</td>\n",
       "      <td>...</td>\n",
       "      <td>0</td>\n",
       "      <td>0</td>\n",
       "      <td>0</td>\n",
       "      <td>0</td>\n",
       "      <td>0</td>\n",
       "      <td>0</td>\n",
       "      <td>1</td>\n",
       "      <td>0</td>\n",
       "      <td>0</td>\n",
       "      <td>877562da_aug.jpg</td>\n",
       "    </tr>\n",
       "  </tbody>\n",
       "</table>\n",
       "<p>5 rows × 81 columns</p>\n",
       "</div>"
      ],
      "text/plain": [
       "   Accelerating_and_revving_and_vroom  Accordion  Acoustic_guitar  Applause  \\\n",
       "0                                   0          0                0         0   \n",
       "1                                   0          0                0         0   \n",
       "2                                   0          0                0         0   \n",
       "3                                   0          0                0         0   \n",
       "4                                   0          0                0         0   \n",
       "\n",
       "   Bark  Bass_drum  Bass_guitar  Bathtub_(filling_or_washing)  Bicycle_bell  \\\n",
       "0     0          0            1                             0             0   \n",
       "1     0          0            0                             0             0   \n",
       "2     0          0            0                             0             0   \n",
       "3     0          0            0                             0             0   \n",
       "4     0          0            0                             0             0   \n",
       "\n",
       "   Burping_and_eructation  ...  Traffic_noise_and_roadway_noise  \\\n",
       "0                       0  ...                                0   \n",
       "1                       0  ...                                0   \n",
       "2                       1  ...                                0   \n",
       "3                       0  ...                                0   \n",
       "4                       0  ...                                0   \n",
       "\n",
       "   Trickle_and_dribble  Walk_and_footsteps  Water_tap_and_faucet  \\\n",
       "0                    0                   0                     0   \n",
       "1                    0                   0                     0   \n",
       "2                    0                   0                     0   \n",
       "3                    0                   0                     0   \n",
       "4                    0                   0                     0   \n",
       "\n",
       "   Waves_and_surf  Whispering  Writing  Yell  Zipper_(clothing)  \\\n",
       "0               0           0        0     0                  0   \n",
       "1               0           0        0     0                  0   \n",
       "2               0           0        0     0                  0   \n",
       "3               0           0        0     0                  0   \n",
       "4               0           0        1     0                  0   \n",
       "\n",
       "              fname  \n",
       "0      9a93c380.jpg  \n",
       "1      0ab47a4c.jpg  \n",
       "2  8f5bf633_aug.jpg  \n",
       "3      e07009c1.jpg  \n",
       "4  877562da_aug.jpg  \n",
       "\n",
       "[5 rows x 81 columns]"
      ]
     },
     "execution_count": 14,
     "metadata": {},
     "output_type": "execute_result"
    }
   ],
   "source": [
    "cvmultidf.head()"
   ]
  },
  {
   "cell_type": "code",
   "execution_count": 15,
   "metadata": {
    "execution": {
     "iopub.execute_input": "2020-10-05T03:14:10.788037Z",
     "iopub.status.busy": "2020-10-05T03:14:10.787223Z",
     "iopub.status.idle": "2020-10-05T03:14:11.152099Z",
     "shell.execute_reply": "2020-10-05T03:14:11.150990Z"
    },
    "papermill": {
     "duration": 0.419266,
     "end_time": "2020-10-05T03:14:11.152214",
     "exception": false,
     "start_time": "2020-10-05T03:14:10.732948",
     "status": "completed"
    },
    "tags": []
   },
   "outputs": [
    {
     "name": "stdout",
     "output_type": "stream",
     "text": [
      "Found 1563 validated image filenames.\n"
     ]
    }
   ],
   "source": [
    "\n",
    "valid_datagen=ImageDataGenerator(rescale=1./255.)\n",
    "\n",
    "valid_generator=valid_datagen.flow_from_dataframe(\n",
    "    dataframe=cvmultidf,\n",
    "    directory=\"../input/sc2-total-aug-noisy-data/Total images Bucket Curated/Total images Bucket Curated\",\n",
    "    x_col=\"fname\",\n",
    "    y_col=list(mlb_train.classes_),\n",
    "   # subset=\"validation\",\n",
    "    batch_size=64,\n",
    "    seed=42,\n",
    "    shuffle=False,\n",
    "    class_mode=\"raw\",\n",
    "    #color_mode=\"grayscale\",\n",
    "    target_size=(128,128))\n"
   ]
  },
  {
   "cell_type": "code",
   "execution_count": 16,
   "metadata": {
    "execution": {
     "iopub.execute_input": "2020-10-05T03:14:11.257286Z",
     "iopub.status.busy": "2020-10-05T03:14:11.256407Z",
     "iopub.status.idle": "2020-10-05T03:14:11.592082Z",
     "shell.execute_reply": "2020-10-05T03:14:11.592814Z"
    },
    "papermill": {
     "duration": 0.391749,
     "end_time": "2020-10-05T03:14:11.592951",
     "exception": false,
     "start_time": "2020-10-05T03:14:11.201202",
     "status": "completed"
    },
    "tags": []
   },
   "outputs": [
    {
     "name": "stdout",
     "output_type": "stream",
     "text": [
      "Found 1380 validated image filenames.\n"
     ]
    }
   ],
   "source": [
    "test_datagen=ImageDataGenerator(rescale=1./255.)\n",
    "test_generator=test_datagen.flow_from_dataframe(\n",
    "    dataframe=testmultidf,\n",
    "    directory=\"../input/sc2-total-aug-noisy-data/Total images Bucket Curated/Total images Bucket Curated\",\n",
    "    x_col=\"fname\",\n",
    "    y_col=None,\n",
    "    batch_size=64,\n",
    "    seed=42,\n",
    "    shuffle=False,\n",
    "    class_mode=None,\n",
    "   # color_mode=\"grayscale\",\n",
    "    target_size=(128,128))\n",
    "STEP_SIZE_TEST=test_generator.n//test_generator.batch_size"
   ]
  },
  {
   "cell_type": "code",
   "execution_count": 17,
   "metadata": {
    "execution": {
     "iopub.execute_input": "2020-10-05T03:14:11.701502Z",
     "iopub.status.busy": "2020-10-05T03:14:11.700879Z",
     "iopub.status.idle": "2020-10-05T03:14:11.760240Z",
     "shell.execute_reply": "2020-10-05T03:14:11.759417Z"
    },
    "papermill": {
     "duration": 0.118531,
     "end_time": "2020-10-05T03:14:11.760352",
     "exception": false,
     "start_time": "2020-10-05T03:14:11.641821",
     "status": "completed"
    },
    "tags": []
   },
   "outputs": [],
   "source": [
    "from sklearn import model_selection\n",
    "from tensorflow.keras.preprocessing.text import Tokenizer\n",
    "from tensorflow.keras.utils import to_categorical\n",
    "from tensorflow.keras.preprocessing.sequence import pad_sequences\n",
    "\n",
    "from tensorflow.keras.optimizers import RMSprop\n",
    "from tensorflow.keras.models import Model\n",
    "from tensorflow.keras.models import load_model\n",
    "\n",
    "import numpy as np\n",
    "from tensorflow.keras.models import Sequential\n",
    "from tensorflow.keras.preprocessing import sequence\n",
    "\n",
    "\n",
    "\n",
    "import tensorflow as tf\n",
    "from tensorflow.keras import models, layers\n",
    "from tensorflow.keras.models import Model\n",
    "from tensorflow.keras.optimizers import Adam\n",
    "#from tensorflow.keras.callbacks import ModelCheckpoint,EarlyStopping \n",
    "from tensorflow.keras.layers import Dense, Flatten, LSTM, Conv2D, MaxPooling2D, Dropout, Activation, Input,BatchNormalization, AveragePooling2D,GlobalMaxPool2D,PReLU\n",
    "\n",
    "from tensorflow.keras.models import model_from_json  \n",
    "from tensorflow.keras.applications import DenseNet169\n",
    "\n",
    "from tensorflow.keras.callbacks import (ModelCheckpoint, LearningRateScheduler,\n",
    "                             EarlyStopping, ReduceLROnPlateau,CSVLogger)"
   ]
  },
  {
   "cell_type": "code",
   "execution_count": 18,
   "metadata": {
    "execution": {
     "iopub.execute_input": "2020-10-05T03:14:11.865384Z",
     "iopub.status.busy": "2020-10-05T03:14:11.864770Z",
     "iopub.status.idle": "2020-10-05T03:14:19.743924Z",
     "shell.execute_reply": "2020-10-05T03:14:19.743405Z"
    },
    "papermill": {
     "duration": 7.934512,
     "end_time": "2020-10-05T03:14:19.744037",
     "exception": false,
     "start_time": "2020-10-05T03:14:11.809525",
     "status": "completed"
    },
    "tags": []
   },
   "outputs": [
    {
     "name": "stdout",
     "output_type": "stream",
     "text": [
      "Downloading data from https://storage.googleapis.com/tensorflow/keras-applications/densenet/densenet121_weights_tf_dim_ordering_tf_kernels.h5\n",
      "33193984/33188688 [==============================] - 0s 0us/step\n"
     ]
    }
   ],
   "source": [
    "#last_layer = model.get_layer('avg_pool').output\n",
    "\n",
    "image_input = Input(shape=(128,128, 3))\n",
    "model =  tf.keras.applications.DenseNet121(input_tensor=image_input, include_top=True)\n",
    "last_layer = model.get_layer('avg_pool').output\n",
    "x= Flatten(name='flatten')(last_layer)\n",
    "#model=\n",
    "\n",
    "\n",
    "#output = Dense(80, activation='sigmoid', name='output_layer')(model.layers[-2].output)\n",
    "x= Dense(80)(x)\n",
    "output = Activation('sigmoid')(x)\n",
    "#out = Dense(num_classes, activation='softmax', name='output_layer')(x)"
   ]
  },
  {
   "cell_type": "code",
   "execution_count": 19,
   "metadata": {
    "execution": {
     "iopub.execute_input": "2020-10-05T03:14:19.857240Z",
     "iopub.status.busy": "2020-10-05T03:14:19.856429Z",
     "iopub.status.idle": "2020-10-05T03:14:19.859995Z",
     "shell.execute_reply": "2020-10-05T03:14:19.860483Z"
    },
    "papermill": {
     "duration": 0.062436,
     "end_time": "2020-10-05T03:14:19.860603",
     "exception": false,
     "start_time": "2020-10-05T03:14:19.798167",
     "status": "completed"
    },
    "tags": []
   },
   "outputs": [
    {
     "data": {
      "text/plain": [
       "[<tensorflow.python.keras.layers.normalization_v2.BatchNormalization at 0x7f377808ac90>,\n",
       " <tensorflow.python.keras.layers.core.Activation at 0x7f37603df9d0>,\n",
       " <tensorflow.python.keras.layers.pooling.GlobalAveragePooling2D at 0x7f37603eb190>,\n",
       " <tensorflow.python.keras.layers.core.Dense at 0x7f37603eb050>]"
      ]
     },
     "execution_count": 19,
     "metadata": {},
     "output_type": "execute_result"
    }
   ],
   "source": [
    "model.layers[-4:]"
   ]
  },
  {
   "cell_type": "code",
   "execution_count": 20,
   "metadata": {
    "execution": {
     "iopub.execute_input": "2020-10-05T03:14:19.972291Z",
     "iopub.status.busy": "2020-10-05T03:14:19.971595Z",
     "iopub.status.idle": "2020-10-05T03:14:19.976756Z",
     "shell.execute_reply": "2020-10-05T03:14:19.977411Z"
    },
    "papermill": {
     "duration": 0.063888,
     "end_time": "2020-10-05T03:14:19.977548",
     "exception": false,
     "start_time": "2020-10-05T03:14:19.913660",
     "status": "completed"
    },
    "tags": []
   },
   "outputs": [
    {
     "data": {
      "text/plain": [
       "[<tensorflow.python.keras.layers.normalization_v2.BatchNormalization at 0x7f377808ac90>,\n",
       " <tensorflow.python.keras.layers.core.Activation at 0x7f37603df9d0>,\n",
       " <tensorflow.python.keras.layers.pooling.GlobalAveragePooling2D at 0x7f37603eb190>,\n",
       " <tensorflow.python.keras.layers.core.Dense at 0x7f37603eb050>]"
      ]
     },
     "execution_count": 20,
     "metadata": {},
     "output_type": "execute_result"
    }
   ],
   "source": [
    "model.layers[-4:]"
   ]
  },
  {
   "cell_type": "code",
   "execution_count": null,
   "metadata": {
    "papermill": {
     "duration": 0.051892,
     "end_time": "2020-10-05T03:14:20.081878",
     "exception": false,
     "start_time": "2020-10-05T03:14:20.029986",
     "status": "completed"
    },
    "tags": []
   },
   "outputs": [],
   "source": []
  },
  {
   "cell_type": "code",
   "execution_count": 21,
   "metadata": {
    "execution": {
     "iopub.execute_input": "2020-10-05T03:14:20.194883Z",
     "iopub.status.busy": "2020-10-05T03:14:20.193934Z",
     "iopub.status.idle": "2020-10-05T03:14:20.252686Z",
     "shell.execute_reply": "2020-10-05T03:14:20.252000Z"
    },
    "papermill": {
     "duration": 0.118019,
     "end_time": "2020-10-05T03:14:20.252803",
     "exception": false,
     "start_time": "2020-10-05T03:14:20.134784",
     "status": "completed"
    },
    "tags": []
   },
   "outputs": [],
   "source": [
    "custom_densenet169_model = Model(inputs=image_input,outputs= output)\n",
    "#custom_densenet169_model.summary()"
   ]
  },
  {
   "cell_type": "code",
   "execution_count": 22,
   "metadata": {
    "execution": {
     "iopub.execute_input": "2020-10-05T03:14:20.450916Z",
     "iopub.status.busy": "2020-10-05T03:14:20.409377Z",
     "iopub.status.idle": "2020-10-05T03:14:21.236478Z",
     "shell.execute_reply": "2020-10-05T03:14:21.235682Z"
    },
    "papermill": {
     "duration": 0.931028,
     "end_time": "2020-10-05T03:14:21.236592",
     "exception": false,
     "start_time": "2020-10-05T03:14:20.305564",
     "status": "completed"
    },
    "tags": []
   },
   "outputs": [],
   "source": [
    "custom_densenet169_model.load_weights(\"../input/sc2weights/DenseNet201.best_weights-128.hdf5\")"
   ]
  },
  {
   "cell_type": "code",
   "execution_count": 23,
   "metadata": {
    "execution": {
     "iopub.execute_input": "2020-10-05T03:14:21.346280Z",
     "iopub.status.busy": "2020-10-05T03:14:21.345614Z",
     "iopub.status.idle": "2020-10-05T03:14:21.349433Z",
     "shell.execute_reply": "2020-10-05T03:14:21.349914Z"
    },
    "papermill": {
     "duration": 0.060604,
     "end_time": "2020-10-05T03:14:21.350035",
     "exception": false,
     "start_time": "2020-10-05T03:14:21.289431",
     "status": "completed"
    },
    "tags": []
   },
   "outputs": [],
   "source": [
    "#from tensorflow.keras.utils import plot_model\n",
    "#plot_model(custom_densenet169_model, 'model_resnet50.png', show_shapes=True)"
   ]
  },
  {
   "cell_type": "code",
   "execution_count": 24,
   "metadata": {
    "execution": {
     "iopub.execute_input": "2020-10-05T03:14:21.497452Z",
     "iopub.status.busy": "2020-10-05T03:14:21.490721Z",
     "iopub.status.idle": "2020-10-05T03:14:21.510219Z",
     "shell.execute_reply": "2020-10-05T03:14:21.510708Z"
    },
    "papermill": {
     "duration": 0.087364,
     "end_time": "2020-10-05T03:14:21.510836",
     "exception": false,
     "start_time": "2020-10-05T03:14:21.423472",
     "status": "completed"
    },
    "tags": []
   },
   "outputs": [],
   "source": [
    "opt = tf.keras.optimizers.Adam(lr=0.0009)#tf.keras.optimizers.RMSprop(lr=0.3, decay=1e-6) \n",
    "#tf.keras.optimizers.Adam(lr=0.001)#RMSprop(lr=0.0001, decay=1e-6)\n",
    "\n",
    "# Let's train the model using RMSprop\n",
    "custom_densenet169_model.compile(loss=tf.keras.losses.BinaryCrossentropy(reduction=tf.keras.losses.Reduction.SUM),#'categorical_crossentropy',\n",
    "              optimizer=opt,\n",
    "               metrics=['categorical_accuracy'])"
   ]
  },
  {
   "cell_type": "code",
   "execution_count": 25,
   "metadata": {
    "execution": {
     "iopub.execute_input": "2020-10-05T03:14:21.655147Z",
     "iopub.status.busy": "2020-10-05T03:14:21.654224Z",
     "iopub.status.idle": "2020-10-05T03:14:21.658244Z",
     "shell.execute_reply": "2020-10-05T03:14:21.658881Z"
    },
    "papermill": {
     "duration": 0.089073,
     "end_time": "2020-10-05T03:14:21.659083",
     "exception": false,
     "start_time": "2020-10-05T03:14:21.570010",
     "status": "completed"
    },
    "tags": []
   },
   "outputs": [],
   "source": [
    "#Fitting keras model, no test gen for now\n",
    "STEP_SIZE_TRAIN=train_generator.n//train_generator.batch_size\n",
    "STEP_SIZE_VALID=valid_generator.n//valid_generator.batch_size\n",
    "#STEP_SIZE_TEST=test_generator.n//test_generator.batch_size"
   ]
  },
  {
   "cell_type": "code",
   "execution_count": 26,
   "metadata": {
    "execution": {
     "iopub.execute_input": "2020-10-05T03:14:21.787681Z",
     "iopub.status.busy": "2020-10-05T03:14:21.786901Z",
     "iopub.status.idle": "2020-10-05T03:14:21.790972Z",
     "shell.execute_reply": "2020-10-05T03:14:21.790501Z"
    },
    "papermill": {
     "duration": 0.061956,
     "end_time": "2020-10-05T03:14:21.791094",
     "exception": false,
     "start_time": "2020-10-05T03:14:21.729138",
     "status": "completed"
    },
    "tags": []
   },
   "outputs": [
    {
     "data": {
      "text/plain": [
       "97"
      ]
     },
     "execution_count": 26,
     "metadata": {},
     "output_type": "execute_result"
    }
   ],
   "source": [
    "STEP_SIZE_TRAIN"
   ]
  },
  {
   "cell_type": "code",
   "execution_count": 27,
   "metadata": {
    "execution": {
     "iopub.execute_input": "2020-10-05T03:14:21.907760Z",
     "iopub.status.busy": "2020-10-05T03:14:21.906969Z",
     "iopub.status.idle": "2020-10-05T03:14:21.910768Z",
     "shell.execute_reply": "2020-10-05T03:14:21.910295Z"
    },
    "papermill": {
     "duration": 0.066363,
     "end_time": "2020-10-05T03:14:21.910871",
     "exception": false,
     "start_time": "2020-10-05T03:14:21.844508",
     "status": "completed"
    },
    "tags": []
   },
   "outputs": [],
   "source": [
    "# simple early stopping\n",
    "#earlyStop = EarlyStopping(monitor='val_loss', mode='min', verbose=1, patience=100,)\n",
    "#https://machinelearningmastery.com/check-point-deep-learning-models-keras/\n",
    "\n",
    "\n",
    "#model_checkpoint = ModelCheckpoint('weights_cnn_lstm.best.hdf5', monitor='val_categorical_accuracy', mode='max', verbose=1, save_best_only=True)\n",
    "#filepath=\"weights-improvement-{epoch:02d}-{val_categorical_accuracy:.2f}.hdf5\"\n",
    "\n",
    "\n",
    "csv_logger = CSVLogger(filename='../working/training_log.csv',\n",
    "                       separator=',',\n",
    "                       append=True)\n",
    "#https://www.tensorflow.org/api_docs/python/tf/keras/callbacks/ReduceLROnPlateau\n",
    "reduceLROnPlat = ReduceLROnPlateau(monitor='val_categorical_accuracy', factor=0.6,\n",
    "                              patience=6, min_lr=0,verbose=1)\n",
    "\n",
    "\n",
    "model_checkpoint = ModelCheckpoint(\"CuratedTotal.best_weights_128.hdf5\", monitor='val_categorical_accuracy', mode='max', verbose=1, save_best_only=True)\n",
    "\n",
    "# fit model\n",
    "\n",
    "#es = tf.keras.callbacks.EarlyStopping(monitor='val_loss', mode='min', verbose=1, patience=20, min_delta=0.001 )\n",
    "es = tf.keras.callbacks.EarlyStopping(monitor='val_categorical_accuracy', mode='max', verbose=1, patience=30, min_delta=0.001 )\n",
    "\n",
    "callbacks_list = [model_checkpoint, csv_logger, reduceLROnPlat,es]"
   ]
  },
  {
   "cell_type": "code",
   "execution_count": 28,
   "metadata": {
    "execution": {
     "iopub.execute_input": "2020-10-05T03:14:22.022263Z",
     "iopub.status.busy": "2020-10-05T03:14:22.021480Z",
     "iopub.status.idle": "2020-10-05T03:14:22.025469Z",
     "shell.execute_reply": "2020-10-05T03:14:22.025906Z"
    },
    "papermill": {
     "duration": 0.06125,
     "end_time": "2020-10-05T03:14:22.026032",
     "exception": false,
     "start_time": "2020-10-05T03:14:21.964782",
     "status": "completed"
    },
    "tags": []
   },
   "outputs": [],
   "source": [
    "\n",
    "#custom_densenet169_model.load_weights(\"../input/sc2weights/total.best_weights.hdf5\")\n",
    "#custom_densenet169_model.load_weights(\"../input/sc2weights/total.best_weights_iter2.hdf5\")"
   ]
  },
  {
   "cell_type": "code",
   "execution_count": 29,
   "metadata": {
    "execution": {
     "iopub.execute_input": "2020-10-05T03:14:22.141335Z",
     "iopub.status.busy": "2020-10-05T03:14:22.140717Z",
     "iopub.status.idle": "2020-10-05T04:41:12.856723Z",
     "shell.execute_reply": "2020-10-05T04:41:12.856241Z"
    },
    "papermill": {
     "duration": 5210.777326,
     "end_time": "2020-10-05T04:41:12.856833",
     "exception": false,
     "start_time": "2020-10-05T03:14:22.079507",
     "status": "completed"
    },
    "tags": []
   },
   "outputs": [
    {
     "name": "stdout",
     "output_type": "stream",
     "text": [
      "Epoch 1/300\n",
      "97/97 [==============================] - ETA: 0s - loss: 5.4966 - categorical_accuracy: 0.2853\n",
      "Epoch 00001: val_categorical_accuracy improved from -inf to 0.31445, saving model to CuratedTotal.best_weights_128.hdf5\n",
      "97/97 [==============================] - 57s 584ms/step - loss: 5.4966 - categorical_accuracy: 0.2853 - val_loss: 5.4389 - val_categorical_accuracy: 0.3145\n",
      "Epoch 2/300\n",
      "97/97 [==============================] - ETA: 0s - loss: 2.5066 - categorical_accuracy: 0.5101\n",
      "Epoch 00002: val_categorical_accuracy improved from 0.31445 to 0.46289, saving model to CuratedTotal.best_weights_128.hdf5\n",
      "97/97 [==============================] - 45s 465ms/step - loss: 2.5066 - categorical_accuracy: 0.5101 - val_loss: 3.8815 - val_categorical_accuracy: 0.4629\n",
      "Epoch 3/300\n",
      "97/97 [==============================] - ETA: 0s - loss: 1.8099 - categorical_accuracy: 0.6299\n",
      "Epoch 00003: val_categorical_accuracy improved from 0.46289 to 0.53711, saving model to CuratedTotal.best_weights_128.hdf5\n",
      "97/97 [==============================] - 45s 463ms/step - loss: 1.8099 - categorical_accuracy: 0.6299 - val_loss: 2.3742 - val_categorical_accuracy: 0.5371\n",
      "Epoch 4/300\n",
      "97/97 [==============================] - ETA: 0s - loss: 1.3041 - categorical_accuracy: 0.7212\n",
      "Epoch 00004: val_categorical_accuracy did not improve from 0.53711\n",
      "97/97 [==============================] - 45s 462ms/step - loss: 1.3041 - categorical_accuracy: 0.7212 - val_loss: 2.3682 - val_categorical_accuracy: 0.5312\n",
      "Epoch 5/300\n",
      "97/97 [==============================] - ETA: 0s - loss: 0.9674 - categorical_accuracy: 0.7876\n",
      "Epoch 00005: val_categorical_accuracy improved from 0.53711 to 0.56380, saving model to CuratedTotal.best_weights_128.hdf5\n",
      "97/97 [==============================] - 46s 476ms/step - loss: 0.9674 - categorical_accuracy: 0.7876 - val_loss: 2.3650 - val_categorical_accuracy: 0.5638\n",
      "Epoch 6/300\n",
      "97/97 [==============================] - ETA: 0s - loss: 0.7738 - categorical_accuracy: 0.8241\n",
      "Epoch 00006: val_categorical_accuracy improved from 0.56380 to 0.57552, saving model to CuratedTotal.best_weights_128.hdf5\n",
      "97/97 [==============================] - 46s 474ms/step - loss: 0.7738 - categorical_accuracy: 0.8241 - val_loss: 2.6839 - val_categorical_accuracy: 0.5755\n",
      "Epoch 7/300\n",
      "97/97 [==============================] - ETA: 0s - loss: 0.6318 - categorical_accuracy: 0.8526\n",
      "Epoch 00007: val_categorical_accuracy did not improve from 0.57552\n",
      "97/97 [==============================] - 44s 456ms/step - loss: 0.6318 - categorical_accuracy: 0.8526 - val_loss: 2.7334 - val_categorical_accuracy: 0.5410\n",
      "Epoch 8/300\n",
      "97/97 [==============================] - ETA: 0s - loss: 0.4826 - categorical_accuracy: 0.8773\n",
      "Epoch 00008: val_categorical_accuracy improved from 0.57552 to 0.61393, saving model to CuratedTotal.best_weights_128.hdf5\n",
      "97/97 [==============================] - 47s 486ms/step - loss: 0.4826 - categorical_accuracy: 0.8773 - val_loss: 2.4937 - val_categorical_accuracy: 0.6139\n",
      "Epoch 9/300\n",
      "97/97 [==============================] - ETA: 0s - loss: 0.4150 - categorical_accuracy: 0.8904\n",
      "Epoch 00009: val_categorical_accuracy did not improve from 0.61393\n",
      "97/97 [==============================] - 46s 473ms/step - loss: 0.4150 - categorical_accuracy: 0.8904 - val_loss: 2.8168 - val_categorical_accuracy: 0.5840\n",
      "Epoch 10/300\n",
      "97/97 [==============================] - ETA: 0s - loss: 0.3742 - categorical_accuracy: 0.8936\n",
      "Epoch 00010: val_categorical_accuracy did not improve from 0.61393\n",
      "97/97 [==============================] - 45s 468ms/step - loss: 0.3742 - categorical_accuracy: 0.8936 - val_loss: 3.1553 - val_categorical_accuracy: 0.5651\n",
      "Epoch 11/300\n",
      "97/97 [==============================] - ETA: 0s - loss: 0.3648 - categorical_accuracy: 0.8949\n",
      "Epoch 00011: val_categorical_accuracy did not improve from 0.61393\n",
      "97/97 [==============================] - 45s 466ms/step - loss: 0.3648 - categorical_accuracy: 0.8949 - val_loss: 3.2496 - val_categorical_accuracy: 0.5488\n",
      "Epoch 12/300\n",
      "97/97 [==============================] - ETA: 0s - loss: 0.3093 - categorical_accuracy: 0.8987\n",
      "Epoch 00012: val_categorical_accuracy did not improve from 0.61393\n",
      "97/97 [==============================] - 45s 467ms/step - loss: 0.3093 - categorical_accuracy: 0.8987 - val_loss: 3.0265 - val_categorical_accuracy: 0.5781\n",
      "Epoch 13/300\n",
      "97/97 [==============================] - ETA: 0s - loss: 0.3052 - categorical_accuracy: 0.9012\n",
      "Epoch 00013: val_categorical_accuracy did not improve from 0.61393\n",
      "97/97 [==============================] - 46s 474ms/step - loss: 0.3052 - categorical_accuracy: 0.9012 - val_loss: 3.2086 - val_categorical_accuracy: 0.5697\n",
      "Epoch 14/300\n",
      "97/97 [==============================] - ETA: 0s - loss: 0.2747 - categorical_accuracy: 0.8991\n",
      "Epoch 00014: val_categorical_accuracy did not improve from 0.61393\n",
      "\n",
      "Epoch 00014: ReduceLROnPlateau reducing learning rate to 0.0005399999907240271.\n",
      "97/97 [==============================] - 45s 468ms/step - loss: 0.2747 - categorical_accuracy: 0.8991 - val_loss: 3.0827 - val_categorical_accuracy: 0.5768\n",
      "Epoch 15/300\n",
      "97/97 [==============================] - ETA: 0s - loss: 0.1537 - categorical_accuracy: 0.9245\n",
      "Epoch 00015: val_categorical_accuracy improved from 0.61393 to 0.67448, saving model to CuratedTotal.best_weights_128.hdf5\n",
      "97/97 [==============================] - 47s 489ms/step - loss: 0.1537 - categorical_accuracy: 0.9245 - val_loss: 2.3210 - val_categorical_accuracy: 0.6745\n",
      "Epoch 16/300\n",
      "97/97 [==============================] - ETA: 0s - loss: 0.0806 - categorical_accuracy: 0.9310\n",
      "Epoch 00016: val_categorical_accuracy improved from 0.67448 to 0.68750, saving model to CuratedTotal.best_weights_128.hdf5\n",
      "97/97 [==============================] - 46s 474ms/step - loss: 0.0806 - categorical_accuracy: 0.9310 - val_loss: 2.2425 - val_categorical_accuracy: 0.6875\n",
      "Epoch 17/300\n",
      "97/97 [==============================] - ETA: 0s - loss: 0.0651 - categorical_accuracy: 0.9311\n",
      "Epoch 00017: val_categorical_accuracy did not improve from 0.68750\n",
      "97/97 [==============================] - 46s 473ms/step - loss: 0.0651 - categorical_accuracy: 0.9311 - val_loss: 2.3862 - val_categorical_accuracy: 0.6784\n",
      "Epoch 18/300\n",
      "97/97 [==============================] - ETA: 0s - loss: 0.0534 - categorical_accuracy: 0.9303\n",
      "Epoch 00018: val_categorical_accuracy improved from 0.68750 to 0.69076, saving model to CuratedTotal.best_weights_128.hdf5\n",
      "97/97 [==============================] - 47s 486ms/step - loss: 0.0534 - categorical_accuracy: 0.9303 - val_loss: 2.3365 - val_categorical_accuracy: 0.6908\n",
      "Epoch 19/300\n",
      "97/97 [==============================] - ETA: 0s - loss: 0.0526 - categorical_accuracy: 0.9316\n",
      "Epoch 00019: val_categorical_accuracy did not improve from 0.69076\n",
      "97/97 [==============================] - 46s 476ms/step - loss: 0.0526 - categorical_accuracy: 0.9316 - val_loss: 2.5464 - val_categorical_accuracy: 0.6602\n",
      "Epoch 20/300\n",
      "97/97 [==============================] - ETA: 0s - loss: 0.0360 - categorical_accuracy: 0.9329\n",
      "Epoch 00020: val_categorical_accuracy did not improve from 0.69076\n",
      "97/97 [==============================] - 45s 469ms/step - loss: 0.0360 - categorical_accuracy: 0.9329 - val_loss: 2.5205 - val_categorical_accuracy: 0.6895\n",
      "Epoch 21/300\n",
      "97/97 [==============================] - ETA: 0s - loss: 0.0344 - categorical_accuracy: 0.9286\n",
      "Epoch 00021: val_categorical_accuracy did not improve from 0.69076\n",
      "97/97 [==============================] - 46s 476ms/step - loss: 0.0344 - categorical_accuracy: 0.9286 - val_loss: 2.3744 - val_categorical_accuracy: 0.6875\n",
      "Epoch 22/300\n",
      "97/97 [==============================] - ETA: 0s - loss: 0.0300 - categorical_accuracy: 0.9394\n",
      "Epoch 00022: val_categorical_accuracy improved from 0.69076 to 0.70117, saving model to CuratedTotal.best_weights_128.hdf5\n",
      "97/97 [==============================] - 47s 489ms/step - loss: 0.0300 - categorical_accuracy: 0.9394 - val_loss: 2.4461 - val_categorical_accuracy: 0.7012\n",
      "Epoch 23/300\n",
      "97/97 [==============================] - ETA: 0s - loss: 0.0345 - categorical_accuracy: 0.9345\n",
      "Epoch 00023: val_categorical_accuracy did not improve from 0.70117\n",
      "97/97 [==============================] - 48s 492ms/step - loss: 0.0345 - categorical_accuracy: 0.9345 - val_loss: 2.5756 - val_categorical_accuracy: 0.6882\n",
      "Epoch 24/300\n",
      "97/97 [==============================] - ETA: 0s - loss: 0.0374 - categorical_accuracy: 0.9320\n",
      "Epoch 00024: val_categorical_accuracy did not improve from 0.70117\n",
      "97/97 [==============================] - 47s 485ms/step - loss: 0.0374 - categorical_accuracy: 0.9320 - val_loss: 2.7093 - val_categorical_accuracy: 0.6667\n",
      "Epoch 25/300\n",
      "97/97 [==============================] - ETA: 0s - loss: 0.0377 - categorical_accuracy: 0.9345\n",
      "Epoch 00025: val_categorical_accuracy did not improve from 0.70117\n",
      "97/97 [==============================] - 47s 481ms/step - loss: 0.0377 - categorical_accuracy: 0.9345 - val_loss: 2.6787 - val_categorical_accuracy: 0.6582\n",
      "Epoch 26/300\n",
      "97/97 [==============================] - ETA: 0s - loss: 0.0418 - categorical_accuracy: 0.9286\n",
      "Epoch 00026: val_categorical_accuracy did not improve from 0.70117\n",
      "97/97 [==============================] - 47s 480ms/step - loss: 0.0418 - categorical_accuracy: 0.9286 - val_loss: 2.8188 - val_categorical_accuracy: 0.6589\n",
      "Epoch 27/300\n",
      "97/97 [==============================] - ETA: 0s - loss: 0.0508 - categorical_accuracy: 0.9269\n",
      "Epoch 00027: val_categorical_accuracy did not improve from 0.70117\n",
      "97/97 [==============================] - 47s 487ms/step - loss: 0.0508 - categorical_accuracy: 0.9269 - val_loss: 2.5631 - val_categorical_accuracy: 0.6706\n",
      "Epoch 28/300\n",
      "97/97 [==============================] - ETA: 0s - loss: 0.0457 - categorical_accuracy: 0.9308\n",
      "Epoch 00028: val_categorical_accuracy did not improve from 0.70117\n",
      "\n",
      "Epoch 00028: ReduceLROnPlateau reducing learning rate to 0.00032399998744949695.\n",
      "97/97 [==============================] - 47s 488ms/step - loss: 0.0457 - categorical_accuracy: 0.9308 - val_loss: 2.7127 - val_categorical_accuracy: 0.6680\n",
      "Epoch 29/300\n",
      "97/97 [==============================] - ETA: 0s - loss: 0.0302 - categorical_accuracy: 0.9321\n",
      "Epoch 00029: val_categorical_accuracy improved from 0.70117 to 0.70182, saving model to CuratedTotal.best_weights_128.hdf5\n",
      "97/97 [==============================] - 49s 506ms/step - loss: 0.0302 - categorical_accuracy: 0.9321 - val_loss: 2.4559 - val_categorical_accuracy: 0.7018\n",
      "Epoch 30/300\n",
      "97/97 [==============================] - ETA: 0s - loss: 0.0219 - categorical_accuracy: 0.9279\n",
      "Epoch 00030: val_categorical_accuracy did not improve from 0.70182\n",
      "97/97 [==============================] - 46s 476ms/step - loss: 0.0219 - categorical_accuracy: 0.9279 - val_loss: 2.5435 - val_categorical_accuracy: 0.6875\n",
      "Epoch 31/300\n",
      "97/97 [==============================] - ETA: 0s - loss: 0.0185 - categorical_accuracy: 0.9342\n",
      "Epoch 00031: val_categorical_accuracy improved from 0.70182 to 0.70508, saving model to CuratedTotal.best_weights_128.hdf5\n",
      "97/97 [==============================] - 48s 494ms/step - loss: 0.0185 - categorical_accuracy: 0.9342 - val_loss: 2.5122 - val_categorical_accuracy: 0.7051\n",
      "Epoch 32/300\n",
      "97/97 [==============================] - ETA: 0s - loss: 0.0146 - categorical_accuracy: 0.9332\n",
      "Epoch 00032: val_categorical_accuracy did not improve from 0.70508\n",
      "97/97 [==============================] - 46s 476ms/step - loss: 0.0146 - categorical_accuracy: 0.9332 - val_loss: 2.5463 - val_categorical_accuracy: 0.6986\n",
      "Epoch 33/300\n",
      "97/97 [==============================] - ETA: 0s - loss: 0.0133 - categorical_accuracy: 0.9313\n",
      "Epoch 00033: val_categorical_accuracy did not improve from 0.70508\n",
      "97/97 [==============================] - 47s 484ms/step - loss: 0.0133 - categorical_accuracy: 0.9313 - val_loss: 2.6617 - val_categorical_accuracy: 0.6868\n",
      "Epoch 34/300\n",
      "97/97 [==============================] - ETA: 0s - loss: 0.0105 - categorical_accuracy: 0.9265\n",
      "Epoch 00034: val_categorical_accuracy did not improve from 0.70508\n",
      "97/97 [==============================] - 47s 485ms/step - loss: 0.0105 - categorical_accuracy: 0.9265 - val_loss: 2.5045 - val_categorical_accuracy: 0.6927\n",
      "Epoch 35/300\n",
      "97/97 [==============================] - ETA: 0s - loss: 0.0088 - categorical_accuracy: 0.9292\n",
      "Epoch 00035: val_categorical_accuracy did not improve from 0.70508\n",
      "97/97 [==============================] - 50s 511ms/step - loss: 0.0088 - categorical_accuracy: 0.9292 - val_loss: 2.5118 - val_categorical_accuracy: 0.6999\n",
      "Epoch 36/300\n",
      "97/97 [==============================] - ETA: 0s - loss: 0.0097 - categorical_accuracy: 0.9276\n",
      "Epoch 00036: val_categorical_accuracy did not improve from 0.70508\n",
      "97/97 [==============================] - 48s 500ms/step - loss: 0.0097 - categorical_accuracy: 0.9276 - val_loss: 2.6173 - val_categorical_accuracy: 0.6934\n",
      "Epoch 37/300\n",
      "97/97 [==============================] - ETA: 0s - loss: 0.0129 - categorical_accuracy: 0.9276\n",
      "Epoch 00037: val_categorical_accuracy did not improve from 0.70508\n",
      "\n",
      "Epoch 00037: ReduceLROnPlateau reducing learning rate to 0.00019439999596215785.\n",
      "97/97 [==============================] - 50s 515ms/step - loss: 0.0129 - categorical_accuracy: 0.9276 - val_loss: 2.6054 - val_categorical_accuracy: 0.6966\n",
      "Epoch 38/300\n",
      "97/97 [==============================] - ETA: 0s - loss: 0.0110 - categorical_accuracy: 0.9323\n",
      "Epoch 00038: val_categorical_accuracy improved from 0.70508 to 0.70703, saving model to CuratedTotal.best_weights_128.hdf5\n",
      "97/97 [==============================] - 49s 506ms/step - loss: 0.0110 - categorical_accuracy: 0.9323 - val_loss: 2.4887 - val_categorical_accuracy: 0.7070\n",
      "Epoch 39/300\n",
      "97/97 [==============================] - ETA: 0s - loss: 0.0069 - categorical_accuracy: 0.9334\n",
      "Epoch 00039: val_categorical_accuracy did not improve from 0.70703\n",
      "97/97 [==============================] - 49s 505ms/step - loss: 0.0069 - categorical_accuracy: 0.9334 - val_loss: 2.4867 - val_categorical_accuracy: 0.7012\n",
      "Epoch 40/300\n",
      "97/97 [==============================] - ETA: 0s - loss: 0.0072 - categorical_accuracy: 0.9332\n",
      "Epoch 00040: val_categorical_accuracy did not improve from 0.70703\n",
      "97/97 [==============================] - 47s 489ms/step - loss: 0.0072 - categorical_accuracy: 0.9332 - val_loss: 2.5991 - val_categorical_accuracy: 0.7038\n",
      "Epoch 41/300\n",
      "97/97 [==============================] - ETA: 0s - loss: 0.0057 - categorical_accuracy: 0.9342\n",
      "Epoch 00041: val_categorical_accuracy did not improve from 0.70703\n",
      "97/97 [==============================] - 49s 506ms/step - loss: 0.0057 - categorical_accuracy: 0.9342 - val_loss: 2.5616 - val_categorical_accuracy: 0.7044\n",
      "Epoch 42/300\n",
      "97/97 [==============================] - ETA: 0s - loss: 0.0057 - categorical_accuracy: 0.9308\n",
      "Epoch 00042: val_categorical_accuracy did not improve from 0.70703\n",
      "97/97 [==============================] - 48s 492ms/step - loss: 0.0057 - categorical_accuracy: 0.9308 - val_loss: 2.5561 - val_categorical_accuracy: 0.7018\n",
      "Epoch 43/300\n",
      "97/97 [==============================] - ETA: 0s - loss: 0.0051 - categorical_accuracy: 0.9318\n",
      "Epoch 00043: val_categorical_accuracy improved from 0.70703 to 0.71029, saving model to CuratedTotal.best_weights_128.hdf5\n",
      "97/97 [==============================] - 51s 527ms/step - loss: 0.0051 - categorical_accuracy: 0.9318 - val_loss: 2.5135 - val_categorical_accuracy: 0.7103\n",
      "Epoch 44/300\n",
      "97/97 [==============================] - ETA: 0s - loss: 0.0066 - categorical_accuracy: 0.9365\n",
      "Epoch 00044: val_categorical_accuracy improved from 0.71029 to 0.71549, saving model to CuratedTotal.best_weights_128.hdf5\n",
      "97/97 [==============================] - 50s 511ms/step - loss: 0.0066 - categorical_accuracy: 0.9365 - val_loss: 2.5195 - val_categorical_accuracy: 0.7155\n",
      "Epoch 45/300\n",
      "97/97 [==============================] - ETA: 0s - loss: 0.0062 - categorical_accuracy: 0.9334\n",
      "Epoch 00045: val_categorical_accuracy did not improve from 0.71549\n",
      "97/97 [==============================] - 48s 498ms/step - loss: 0.0062 - categorical_accuracy: 0.9334 - val_loss: 2.4805 - val_categorical_accuracy: 0.7122\n",
      "Epoch 46/300\n",
      "97/97 [==============================] - ETA: 0s - loss: 0.0054 - categorical_accuracy: 0.9345\n",
      "Epoch 00046: val_categorical_accuracy did not improve from 0.71549\n",
      "97/97 [==============================] - 47s 488ms/step - loss: 0.0054 - categorical_accuracy: 0.9345 - val_loss: 2.5723 - val_categorical_accuracy: 0.7044\n",
      "Epoch 47/300\n",
      "97/97 [==============================] - ETA: 0s - loss: 0.0061 - categorical_accuracy: 0.9355\n",
      "Epoch 00047: val_categorical_accuracy did not improve from 0.71549\n",
      "97/97 [==============================] - 48s 493ms/step - loss: 0.0061 - categorical_accuracy: 0.9355 - val_loss: 2.5566 - val_categorical_accuracy: 0.7129\n",
      "Epoch 48/300\n",
      "97/97 [==============================] - ETA: 0s - loss: 0.0050 - categorical_accuracy: 0.9329\n",
      "Epoch 00048: val_categorical_accuracy did not improve from 0.71549\n",
      "97/97 [==============================] - 48s 499ms/step - loss: 0.0050 - categorical_accuracy: 0.9329 - val_loss: 2.6092 - val_categorical_accuracy: 0.7038\n",
      "Epoch 49/300\n",
      "97/97 [==============================] - ETA: 0s - loss: 0.0049 - categorical_accuracy: 0.9324\n",
      "Epoch 00049: val_categorical_accuracy did not improve from 0.71549\n",
      "97/97 [==============================] - 49s 502ms/step - loss: 0.0049 - categorical_accuracy: 0.9324 - val_loss: 2.5767 - val_categorical_accuracy: 0.7057\n",
      "Epoch 50/300\n",
      "97/97 [==============================] - ETA: 0s - loss: 0.0039 - categorical_accuracy: 0.9350\n",
      "Epoch 00050: val_categorical_accuracy did not improve from 0.71549\n",
      "\n",
      "Epoch 00050: ReduceLROnPlateau reducing learning rate to 0.0001166399975772947.\n",
      "97/97 [==============================] - 47s 482ms/step - loss: 0.0039 - categorical_accuracy: 0.9350 - val_loss: 2.5434 - val_categorical_accuracy: 0.7051\n",
      "Epoch 51/300\n",
      "97/97 [==============================] - ETA: 0s - loss: 0.0037 - categorical_accuracy: 0.9332\n",
      "Epoch 00051: val_categorical_accuracy did not improve from 0.71549\n",
      "97/97 [==============================] - 49s 501ms/step - loss: 0.0037 - categorical_accuracy: 0.9332 - val_loss: 2.5660 - val_categorical_accuracy: 0.7051\n",
      "Epoch 52/300\n",
      "97/97 [==============================] - ETA: 0s - loss: 0.0042 - categorical_accuracy: 0.9303\n",
      "Epoch 00052: val_categorical_accuracy did not improve from 0.71549\n",
      "97/97 [==============================] - 47s 483ms/step - loss: 0.0042 - categorical_accuracy: 0.9303 - val_loss: 2.5684 - val_categorical_accuracy: 0.7129\n",
      "Epoch 53/300\n",
      "97/97 [==============================] - ETA: 0s - loss: 0.0031 - categorical_accuracy: 0.9274\n",
      "Epoch 00053: val_categorical_accuracy did not improve from 0.71549\n",
      "97/97 [==============================] - 47s 489ms/step - loss: 0.0031 - categorical_accuracy: 0.9274 - val_loss: 2.5486 - val_categorical_accuracy: 0.7070\n",
      "Epoch 54/300\n",
      "97/97 [==============================] - ETA: 0s - loss: 0.0033 - categorical_accuracy: 0.9276\n",
      "Epoch 00054: val_categorical_accuracy improved from 0.71549 to 0.71615, saving model to CuratedTotal.best_weights_128.hdf5\n",
      "97/97 [==============================] - 50s 520ms/step - loss: 0.0033 - categorical_accuracy: 0.9276 - val_loss: 2.5075 - val_categorical_accuracy: 0.7161\n",
      "Epoch 55/300\n",
      "97/97 [==============================] - ETA: 0s - loss: 0.0029 - categorical_accuracy: 0.9289\n",
      "Epoch 00055: val_categorical_accuracy did not improve from 0.71615\n",
      "97/97 [==============================] - 48s 495ms/step - loss: 0.0029 - categorical_accuracy: 0.9289 - val_loss: 2.5794 - val_categorical_accuracy: 0.7064\n",
      "Epoch 56/300\n",
      "97/97 [==============================] - ETA: 0s - loss: 0.0027 - categorical_accuracy: 0.9294\n",
      "Epoch 00056: val_categorical_accuracy did not improve from 0.71615\n",
      "97/97 [==============================] - 50s 515ms/step - loss: 0.0027 - categorical_accuracy: 0.9294 - val_loss: 2.6933 - val_categorical_accuracy: 0.7096\n",
      "Epoch 57/300\n",
      "97/97 [==============================] - ETA: 0s - loss: 0.0025 - categorical_accuracy: 0.9294\n",
      "Epoch 00057: val_categorical_accuracy did not improve from 0.71615\n",
      "97/97 [==============================] - 47s 487ms/step - loss: 0.0025 - categorical_accuracy: 0.9294 - val_loss: 2.6052 - val_categorical_accuracy: 0.7129\n",
      "Epoch 58/300\n",
      "97/97 [==============================] - ETA: 0s - loss: 0.0024 - categorical_accuracy: 0.9307\n",
      "Epoch 00058: val_categorical_accuracy improved from 0.71615 to 0.71875, saving model to CuratedTotal.best_weights_128.hdf5\n",
      "97/97 [==============================] - 51s 521ms/step - loss: 0.0024 - categorical_accuracy: 0.9307 - val_loss: 2.5474 - val_categorical_accuracy: 0.7188\n",
      "Epoch 59/300\n",
      "97/97 [==============================] - ETA: 0s - loss: 0.0025 - categorical_accuracy: 0.9295\n",
      "Epoch 00059: val_categorical_accuracy did not improve from 0.71875\n",
      "97/97 [==============================] - 48s 495ms/step - loss: 0.0025 - categorical_accuracy: 0.9295 - val_loss: 2.5885 - val_categorical_accuracy: 0.6992\n",
      "Epoch 60/300\n",
      "97/97 [==============================] - ETA: 0s - loss: 0.0034 - categorical_accuracy: 0.9299\n",
      "Epoch 00060: val_categorical_accuracy did not improve from 0.71875\n",
      "97/97 [==============================] - 50s 513ms/step - loss: 0.0034 - categorical_accuracy: 0.9299 - val_loss: 2.6081 - val_categorical_accuracy: 0.7044\n",
      "Epoch 61/300\n",
      "97/97 [==============================] - ETA: 0s - loss: 0.0031 - categorical_accuracy: 0.9316\n",
      "Epoch 00061: val_categorical_accuracy did not improve from 0.71875\n",
      "97/97 [==============================] - 48s 497ms/step - loss: 0.0031 - categorical_accuracy: 0.9316 - val_loss: 2.6323 - val_categorical_accuracy: 0.7038\n",
      "Epoch 62/300\n",
      "97/97 [==============================] - ETA: 0s - loss: 0.0028 - categorical_accuracy: 0.9318\n",
      "Epoch 00062: val_categorical_accuracy did not improve from 0.71875\n",
      "97/97 [==============================] - 48s 490ms/step - loss: 0.0028 - categorical_accuracy: 0.9318 - val_loss: 2.5725 - val_categorical_accuracy: 0.7070\n",
      "Epoch 63/300\n",
      "97/97 [==============================] - ETA: 0s - loss: 0.0021 - categorical_accuracy: 0.9332\n",
      "Epoch 00063: val_categorical_accuracy did not improve from 0.71875\n",
      "97/97 [==============================] - 48s 500ms/step - loss: 0.0021 - categorical_accuracy: 0.9332 - val_loss: 2.5928 - val_categorical_accuracy: 0.7090\n",
      "Epoch 64/300\n",
      "97/97 [==============================] - ETA: 0s - loss: 0.0017 - categorical_accuracy: 0.9328\n",
      "Epoch 00064: val_categorical_accuracy did not improve from 0.71875\n",
      "\n",
      "Epoch 00064: ReduceLROnPlateau reducing learning rate to 6.998399767326191e-05.\n",
      "97/97 [==============================] - 48s 491ms/step - loss: 0.0017 - categorical_accuracy: 0.9328 - val_loss: 2.6300 - val_categorical_accuracy: 0.7103\n",
      "Epoch 65/300\n",
      "97/97 [==============================] - ETA: 0s - loss: 0.0021 - categorical_accuracy: 0.9342\n",
      "Epoch 00065: val_categorical_accuracy did not improve from 0.71875\n",
      "97/97 [==============================] - 49s 506ms/step - loss: 0.0021 - categorical_accuracy: 0.9342 - val_loss: 2.6292 - val_categorical_accuracy: 0.7109\n",
      "Epoch 66/300\n",
      "97/97 [==============================] - ETA: 0s - loss: 0.0021 - categorical_accuracy: 0.9320\n",
      "Epoch 00066: val_categorical_accuracy did not improve from 0.71875\n",
      "97/97 [==============================] - 48s 493ms/step - loss: 0.0021 - categorical_accuracy: 0.9320 - val_loss: 2.6819 - val_categorical_accuracy: 0.7077\n",
      "Epoch 67/300\n",
      "97/97 [==============================] - ETA: 0s - loss: 0.0022 - categorical_accuracy: 0.9324\n",
      "Epoch 00067: val_categorical_accuracy did not improve from 0.71875\n",
      "97/97 [==============================] - 50s 511ms/step - loss: 0.0022 - categorical_accuracy: 0.9324 - val_loss: 2.6181 - val_categorical_accuracy: 0.7077\n",
      "Epoch 68/300\n",
      "97/97 [==============================] - ETA: 0s - loss: 0.0018 - categorical_accuracy: 0.9337\n",
      "Epoch 00068: val_categorical_accuracy did not improve from 0.71875\n",
      "97/97 [==============================] - 50s 518ms/step - loss: 0.0018 - categorical_accuracy: 0.9337 - val_loss: 2.6170 - val_categorical_accuracy: 0.7090\n",
      "Epoch 69/300\n",
      "97/97 [==============================] - ETA: 0s - loss: 0.0020 - categorical_accuracy: 0.9334\n",
      "Epoch 00069: val_categorical_accuracy did not improve from 0.71875\n",
      "97/97 [==============================] - 49s 509ms/step - loss: 0.0020 - categorical_accuracy: 0.9334 - val_loss: 2.6082 - val_categorical_accuracy: 0.7122\n",
      "Epoch 70/300\n",
      "97/97 [==============================] - ETA: 0s - loss: 0.0017 - categorical_accuracy: 0.9310\n",
      "Epoch 00070: val_categorical_accuracy did not improve from 0.71875\n",
      "\n",
      "Epoch 00070: ReduceLROnPlateau reducing learning rate to 4.199039685772732e-05.\n",
      "97/97 [==============================] - 51s 524ms/step - loss: 0.0017 - categorical_accuracy: 0.9310 - val_loss: 2.6544 - val_categorical_accuracy: 0.7051\n",
      "Epoch 71/300\n",
      "97/97 [==============================] - ETA: 0s - loss: 0.0018 - categorical_accuracy: 0.9292\n",
      "Epoch 00071: val_categorical_accuracy did not improve from 0.71875\n",
      "97/97 [==============================] - 49s 503ms/step - loss: 0.0018 - categorical_accuracy: 0.9292 - val_loss: 2.6458 - val_categorical_accuracy: 0.7083\n",
      "Epoch 72/300\n",
      "97/97 [==============================] - ETA: 0s - loss: 0.0023 - categorical_accuracy: 0.9326\n",
      "Epoch 00072: val_categorical_accuracy did not improve from 0.71875\n",
      "97/97 [==============================] - 51s 530ms/step - loss: 0.0023 - categorical_accuracy: 0.9326 - val_loss: 2.6381 - val_categorical_accuracy: 0.7083\n",
      "Epoch 73/300\n",
      "97/97 [==============================] - ETA: 0s - loss: 0.0029 - categorical_accuracy: 0.9337\n",
      "Epoch 00073: val_categorical_accuracy did not improve from 0.71875\n",
      "97/97 [==============================] - 49s 500ms/step - loss: 0.0029 - categorical_accuracy: 0.9337 - val_loss: 2.6321 - val_categorical_accuracy: 0.7155\n",
      "Epoch 74/300\n",
      "97/97 [==============================] - ETA: 0s - loss: 0.0017 - categorical_accuracy: 0.9300\n",
      "Epoch 00074: val_categorical_accuracy did not improve from 0.71875\n",
      "97/97 [==============================] - 51s 527ms/step - loss: 0.0017 - categorical_accuracy: 0.9300 - val_loss: 2.6085 - val_categorical_accuracy: 0.7116\n",
      "Epoch 75/300\n",
      "97/97 [==============================] - ETA: 0s - loss: 0.0015 - categorical_accuracy: 0.9303\n",
      "Epoch 00075: val_categorical_accuracy did not improve from 0.71875\n",
      "97/97 [==============================] - 49s 505ms/step - loss: 0.0015 - categorical_accuracy: 0.9303 - val_loss: 2.5851 - val_categorical_accuracy: 0.7188\n",
      "Epoch 76/300\n",
      "97/97 [==============================] - ETA: 0s - loss: 0.0015 - categorical_accuracy: 0.9302\n",
      "Epoch 00076: val_categorical_accuracy did not improve from 0.71875\n",
      "\n",
      "Epoch 00076: ReduceLROnPlateau reducing learning rate to 2.519423724152148e-05.\n",
      "97/97 [==============================] - 49s 505ms/step - loss: 0.0015 - categorical_accuracy: 0.9302 - val_loss: 2.6074 - val_categorical_accuracy: 0.7155\n",
      "Epoch 77/300\n",
      "97/97 [==============================] - ETA: 0s - loss: 0.0015 - categorical_accuracy: 0.9326\n",
      "Epoch 00077: val_categorical_accuracy did not improve from 0.71875\n",
      "97/97 [==============================] - 51s 528ms/step - loss: 0.0015 - categorical_accuracy: 0.9326 - val_loss: 2.5945 - val_categorical_accuracy: 0.7155\n",
      "Epoch 78/300\n",
      "97/97 [==============================] - ETA: 0s - loss: 0.0015 - categorical_accuracy: 0.9308\n",
      "Epoch 00078: val_categorical_accuracy improved from 0.71875 to 0.72070, saving model to CuratedTotal.best_weights_128.hdf5\n",
      "97/97 [==============================] - 51s 522ms/step - loss: 0.0015 - categorical_accuracy: 0.9308 - val_loss: 2.6187 - val_categorical_accuracy: 0.7207\n",
      "Epoch 79/300\n",
      "97/97 [==============================] - ETA: 0s - loss: 0.0013 - categorical_accuracy: 0.9295\n",
      "Epoch 00079: val_categorical_accuracy did not improve from 0.72070\n",
      "97/97 [==============================] - 51s 529ms/step - loss: 0.0013 - categorical_accuracy: 0.9295 - val_loss: 2.6115 - val_categorical_accuracy: 0.7201\n",
      "Epoch 80/300\n",
      "97/97 [==============================] - ETA: 0s - loss: 0.0011 - categorical_accuracy: 0.9328\n",
      "Epoch 00080: val_categorical_accuracy did not improve from 0.72070\n",
      "97/97 [==============================] - 49s 510ms/step - loss: 0.0011 - categorical_accuracy: 0.9328 - val_loss: 2.6147 - val_categorical_accuracy: 0.7207\n",
      "Epoch 81/300\n",
      "97/97 [==============================] - ETA: 0s - loss: 0.0011 - categorical_accuracy: 0.9303\n",
      "Epoch 00081: val_categorical_accuracy did not improve from 0.72070\n",
      "97/97 [==============================] - 51s 521ms/step - loss: 0.0011 - categorical_accuracy: 0.9303 - val_loss: 2.6129 - val_categorical_accuracy: 0.7201\n",
      "Epoch 82/300\n",
      "97/97 [==============================] - ETA: 0s - loss: 0.0015 - categorical_accuracy: 0.9331\n",
      "Epoch 00082: val_categorical_accuracy did not improve from 0.72070\n",
      "97/97 [==============================] - 48s 494ms/step - loss: 0.0015 - categorical_accuracy: 0.9331 - val_loss: 2.6512 - val_categorical_accuracy: 0.7148\n",
      "Epoch 83/300\n",
      "97/97 [==============================] - ETA: 0s - loss: 0.0012 - categorical_accuracy: 0.9323\n",
      "Epoch 00083: val_categorical_accuracy did not improve from 0.72070\n",
      "97/97 [==============================] - 49s 504ms/step - loss: 0.0012 - categorical_accuracy: 0.9323 - val_loss: 2.6482 - val_categorical_accuracy: 0.7181\n",
      "Epoch 84/300\n",
      "97/97 [==============================] - ETA: 0s - loss: 0.0014 - categorical_accuracy: 0.9328\n",
      "Epoch 00084: val_categorical_accuracy did not improve from 0.72070\n",
      "\n",
      "Epoch 00084: ReduceLROnPlateau reducing learning rate to 1.511654190835543e-05.\n",
      "97/97 [==============================] - 51s 525ms/step - loss: 0.0014 - categorical_accuracy: 0.9328 - val_loss: 2.6057 - val_categorical_accuracy: 0.7188\n",
      "Epoch 85/300\n",
      "97/97 [==============================] - ETA: 0s - loss: 0.0011 - categorical_accuracy: 0.9318\n",
      "Epoch 00085: val_categorical_accuracy did not improve from 0.72070\n",
      "97/97 [==============================] - 49s 510ms/step - loss: 0.0011 - categorical_accuracy: 0.9318 - val_loss: 2.6289 - val_categorical_accuracy: 0.7188\n",
      "Epoch 86/300\n",
      "97/97 [==============================] - ETA: 0s - loss: 0.0012 - categorical_accuracy: 0.9292\n",
      "Epoch 00086: val_categorical_accuracy did not improve from 0.72070\n",
      "97/97 [==============================] - 51s 524ms/step - loss: 0.0012 - categorical_accuracy: 0.9292 - val_loss: 2.6343 - val_categorical_accuracy: 0.7194\n",
      "Epoch 87/300\n",
      "97/97 [==============================] - ETA: 0s - loss: 0.0018 - categorical_accuracy: 0.9284\n",
      "Epoch 00087: val_categorical_accuracy did not improve from 0.72070\n",
      "97/97 [==============================] - 46s 474ms/step - loss: 0.0018 - categorical_accuracy: 0.9284 - val_loss: 2.7103 - val_categorical_accuracy: 0.7103\n",
      "Epoch 88/300\n",
      "97/97 [==============================] - ETA: 0s - loss: 0.0011 - categorical_accuracy: 0.9292\n",
      "Epoch 00088: val_categorical_accuracy did not improve from 0.72070\n",
      "97/97 [==============================] - 45s 467ms/step - loss: 0.0011 - categorical_accuracy: 0.9292 - val_loss: 2.6651 - val_categorical_accuracy: 0.7174\n",
      "Epoch 89/300\n",
      "97/97 [==============================] - ETA: 0s - loss: 0.0013 - categorical_accuracy: 0.9328\n",
      "Epoch 00089: val_categorical_accuracy did not improve from 0.72070\n",
      "97/97 [==============================] - 46s 473ms/step - loss: 0.0013 - categorical_accuracy: 0.9328 - val_loss: 2.6514 - val_categorical_accuracy: 0.7207\n",
      "Epoch 90/300\n",
      "97/97 [==============================] - ETA: 0s - loss: 9.9308e-04 - categorical_accuracy: 0.9303\n",
      "Epoch 00090: val_categorical_accuracy did not improve from 0.72070\n",
      "\n",
      "Epoch 00090: ReduceLROnPlateau reducing learning rate to 9.069925363291987e-06.\n",
      "97/97 [==============================] - 45s 460ms/step - loss: 9.9308e-04 - categorical_accuracy: 0.9303 - val_loss: 2.6494 - val_categorical_accuracy: 0.7168\n",
      "Epoch 91/300\n",
      "97/97 [==============================] - ETA: 0s - loss: 9.8234e-04 - categorical_accuracy: 0.9316\n",
      "Epoch 00091: val_categorical_accuracy did not improve from 0.72070\n",
      "97/97 [==============================] - 44s 455ms/step - loss: 9.8234e-04 - categorical_accuracy: 0.9316 - val_loss: 2.6520 - val_categorical_accuracy: 0.7201\n",
      "Epoch 92/300\n",
      "97/97 [==============================] - ETA: 0s - loss: 0.0012 - categorical_accuracy: 0.9303\n",
      "Epoch 00092: val_categorical_accuracy did not improve from 0.72070\n",
      "97/97 [==============================] - 44s 450ms/step - loss: 0.0012 - categorical_accuracy: 0.9303 - val_loss: 2.6439 - val_categorical_accuracy: 0.7194\n",
      "Epoch 93/300\n",
      "97/97 [==============================] - ETA: 0s - loss: 0.0010 - categorical_accuracy: 0.9311\n",
      "Epoch 00093: val_categorical_accuracy did not improve from 0.72070\n",
      "97/97 [==============================] - 47s 480ms/step - loss: 0.0010 - categorical_accuracy: 0.9311 - val_loss: 2.6460 - val_categorical_accuracy: 0.7168\n",
      "Epoch 94/300\n",
      "97/97 [==============================] - ETA: 0s - loss: 8.5422e-04 - categorical_accuracy: 0.9326\n",
      "Epoch 00094: val_categorical_accuracy did not improve from 0.72070\n",
      "97/97 [==============================] - 44s 453ms/step - loss: 8.5422e-04 - categorical_accuracy: 0.9326 - val_loss: 2.6524 - val_categorical_accuracy: 0.7194\n",
      "Epoch 95/300\n",
      "97/97 [==============================] - ETA: 0s - loss: 9.7772e-04 - categorical_accuracy: 0.9303\n",
      "Epoch 00095: val_categorical_accuracy did not improve from 0.72070\n",
      "97/97 [==============================] - 43s 448ms/step - loss: 9.7772e-04 - categorical_accuracy: 0.9303 - val_loss: 2.6533 - val_categorical_accuracy: 0.7188\n",
      "Epoch 96/300\n",
      "97/97 [==============================] - ETA: 0s - loss: 9.8971e-04 - categorical_accuracy: 0.9337\n",
      "Epoch 00096: val_categorical_accuracy did not improve from 0.72070\n",
      "\n",
      "Epoch 00096: ReduceLROnPlateau reducing learning rate to 5.441954999696463e-06.\n",
      "97/97 [==============================] - 44s 459ms/step - loss: 9.8971e-04 - categorical_accuracy: 0.9337 - val_loss: 2.6694 - val_categorical_accuracy: 0.7174\n",
      "Epoch 97/300\n",
      "97/97 [==============================] - ETA: 0s - loss: 9.5768e-04 - categorical_accuracy: 0.9305\n",
      "Epoch 00097: val_categorical_accuracy did not improve from 0.72070\n",
      "97/97 [==============================] - 48s 492ms/step - loss: 9.5768e-04 - categorical_accuracy: 0.9305 - val_loss: 2.6660 - val_categorical_accuracy: 0.7181\n",
      "Epoch 98/300\n",
      "97/97 [==============================] - ETA: 0s - loss: 0.0011 - categorical_accuracy: 0.9320\n",
      "Epoch 00098: val_categorical_accuracy did not improve from 0.72070\n",
      "97/97 [==============================] - 45s 467ms/step - loss: 0.0011 - categorical_accuracy: 0.9320 - val_loss: 2.6701 - val_categorical_accuracy: 0.7174\n",
      "Epoch 99/300\n",
      "97/97 [==============================] - ETA: 0s - loss: 9.5636e-04 - categorical_accuracy: 0.9286\n",
      "Epoch 00099: val_categorical_accuracy did not improve from 0.72070\n",
      "97/97 [==============================] - 45s 468ms/step - loss: 9.5636e-04 - categorical_accuracy: 0.9286 - val_loss: 2.6667 - val_categorical_accuracy: 0.7174\n",
      "Epoch 100/300\n",
      "97/97 [==============================] - ETA: 0s - loss: 8.7712e-04 - categorical_accuracy: 0.9295\n",
      "Epoch 00100: val_categorical_accuracy did not improve from 0.72070\n",
      "97/97 [==============================] - 46s 473ms/step - loss: 8.7712e-04 - categorical_accuracy: 0.9295 - val_loss: 2.6667 - val_categorical_accuracy: 0.7168\n",
      "Epoch 101/300\n",
      "97/97 [==============================] - ETA: 0s - loss: 8.2758e-04 - categorical_accuracy: 0.9282\n",
      "Epoch 00101: val_categorical_accuracy did not improve from 0.72070\n",
      "97/97 [==============================] - 46s 471ms/step - loss: 8.2758e-04 - categorical_accuracy: 0.9282 - val_loss: 2.6659 - val_categorical_accuracy: 0.7174\n",
      "Epoch 102/300\n",
      "97/97 [==============================] - ETA: 0s - loss: 9.0623e-04 - categorical_accuracy: 0.9310\n",
      "Epoch 00102: val_categorical_accuracy did not improve from 0.72070\n",
      "\n",
      "Epoch 00102: ReduceLROnPlateau reducing learning rate to 3.265173108957242e-06.\n",
      "97/97 [==============================] - 46s 471ms/step - loss: 9.0623e-04 - categorical_accuracy: 0.9310 - val_loss: 2.6635 - val_categorical_accuracy: 0.7155\n",
      "Epoch 103/300\n",
      "97/97 [==============================] - ETA: 0s - loss: 9.2323e-04 - categorical_accuracy: 0.9326\n",
      "Epoch 00103: val_categorical_accuracy did not improve from 0.72070\n",
      "97/97 [==============================] - 45s 462ms/step - loss: 9.2323e-04 - categorical_accuracy: 0.9326 - val_loss: 2.6624 - val_categorical_accuracy: 0.7168\n",
      "Epoch 104/300\n",
      "97/97 [==============================] - ETA: 0s - loss: 8.7141e-04 - categorical_accuracy: 0.9307\n",
      "Epoch 00104: val_categorical_accuracy did not improve from 0.72070\n",
      "97/97 [==============================] - 46s 474ms/step - loss: 8.7141e-04 - categorical_accuracy: 0.9307 - val_loss: 2.6631 - val_categorical_accuracy: 0.7168\n",
      "Epoch 105/300\n",
      "97/97 [==============================] - ETA: 0s - loss: 9.8470e-04 - categorical_accuracy: 0.9303\n",
      "Epoch 00105: val_categorical_accuracy did not improve from 0.72070\n",
      "97/97 [==============================] - 44s 456ms/step - loss: 9.8470e-04 - categorical_accuracy: 0.9303 - val_loss: 2.6610 - val_categorical_accuracy: 0.7161\n",
      "Epoch 106/300\n",
      "97/97 [==============================] - ETA: 0s - loss: 9.8500e-04 - categorical_accuracy: 0.9328\n",
      "Epoch 00106: val_categorical_accuracy did not improve from 0.72070\n",
      "97/97 [==============================] - 45s 466ms/step - loss: 9.8500e-04 - categorical_accuracy: 0.9328 - val_loss: 2.6584 - val_categorical_accuracy: 0.7155\n",
      "Epoch 107/300\n",
      "97/97 [==============================] - ETA: 0s - loss: 8.9613e-04 - categorical_accuracy: 0.9316\n",
      "Epoch 00107: val_categorical_accuracy did not improve from 0.72070\n",
      "97/97 [==============================] - 45s 464ms/step - loss: 8.9613e-04 - categorical_accuracy: 0.9316 - val_loss: 2.6630 - val_categorical_accuracy: 0.7168\n",
      "Epoch 108/300\n",
      "97/97 [==============================] - ETA: 0s - loss: 0.0011 - categorical_accuracy: 0.9282\n",
      "Epoch 00108: val_categorical_accuracy did not improve from 0.72070\n",
      "\n",
      "Epoch 00108: ReduceLROnPlateau reducing learning rate to 1.959103838089504e-06.\n",
      "97/97 [==============================] - 48s 490ms/step - loss: 0.0011 - categorical_accuracy: 0.9282 - val_loss: 2.6578 - val_categorical_accuracy: 0.7161\n",
      "Epoch 00108: early stopping\n"
     ]
    }
   ],
   "source": [
    "history=custom_densenet169_model.fit_generator(generator=train_generator,\n",
    "                    steps_per_epoch=STEP_SIZE_TRAIN,\n",
    "                    validation_data=valid_generator,\n",
    "                    validation_steps=STEP_SIZE_VALID,\n",
    "                    epochs=300,\n",
    "                    callbacks=callbacks_list\n",
    ")"
   ]
  },
  {
   "cell_type": "code",
   "execution_count": 30,
   "metadata": {
    "execution": {
     "iopub.execute_input": "2020-10-05T04:41:20.767503Z",
     "iopub.status.busy": "2020-10-05T04:41:20.766570Z",
     "iopub.status.idle": "2020-10-05T04:41:20.769151Z",
     "shell.execute_reply": "2020-10-05T04:41:20.768548Z"
    },
    "papermill": {
     "duration": 3.840953,
     "end_time": "2020-10-05T04:41:20.769253",
     "exception": false,
     "start_time": "2020-10-05T04:41:16.928300",
     "status": "completed"
    },
    "tags": []
   },
   "outputs": [],
   "source": [
    "#history.history"
   ]
  },
  {
   "cell_type": "code",
   "execution_count": 31,
   "metadata": {
    "execution": {
     "iopub.execute_input": "2020-10-05T04:41:28.496983Z",
     "iopub.status.busy": "2020-10-05T04:41:28.496065Z",
     "iopub.status.idle": "2020-10-05T04:41:28.675175Z",
     "shell.execute_reply": "2020-10-05T04:41:28.675698Z"
    },
    "papermill": {
     "duration": 3.884776,
     "end_time": "2020-10-05T04:41:28.675862",
     "exception": false,
     "start_time": "2020-10-05T04:41:24.791086",
     "status": "completed"
    },
    "tags": []
   },
   "outputs": [
    {
     "data": {
      "image/png": "[encoded data removed]",
      "text/plain": [
       "<Figure size 432x288 with 1 Axes>"
      ]
     },
     "metadata": {
      "needs_background": "light"
     },
     "output_type": "display_data"
    }
   ],
   "source": [
    "import matplotlib.pyplot as plt\n",
    "\n",
    "\n",
    "loss_train = history.history['loss']\n",
    "loss_val = history.history['val_loss']\n",
    "#epochs = np.range(1,1)\n",
    "plt.plot(loss_train, 'g', label='Training loss')\n",
    "plt.plot(loss_val, 'b', label='validation loss')\n",
    "plt.title('Training and Validation loss')\n",
    "plt.xlabel('Epochs')\n",
    "plt.ylabel('Loss')\n",
    "plt.legend()\n",
    "plt.show()"
   ]
  },
  {
   "cell_type": "code",
   "execution_count": 32,
   "metadata": {
    "execution": {
     "iopub.execute_input": "2020-10-05T04:41:36.334665Z",
     "iopub.status.busy": "2020-10-05T04:41:36.333243Z",
     "iopub.status.idle": "2020-10-05T04:41:36.492019Z",
     "shell.execute_reply": "2020-10-05T04:41:36.492512Z"
    },
    "papermill": {
     "duration": 3.866687,
     "end_time": "2020-10-05T04:41:36.492656",
     "exception": false,
     "start_time": "2020-10-05T04:41:32.625969",
     "status": "completed"
    },
    "tags": []
   },
   "outputs": [
    {
     "data": {
      "image/png": "[encoded data removed]",
      "text/plain": [
       "<Figure size 432x288 with 1 Axes>"
      ]
     },
     "metadata": {
      "needs_background": "light"
     },
     "output_type": "display_data"
    }
   ],
   "source": [
    "loss_train = history.history['categorical_accuracy']\n",
    "loss_val = history.history['val_categorical_accuracy']\n",
    "epochs = range(1,41)\n",
    "plt.plot(loss_train, 'g', label='Training accuracy')\n",
    "plt.plot(loss_val, 'b', label='validation accuracy')\n",
    "plt.title('Training and Validation accuracy')\n",
    "plt.xlabel('Epochs')\n",
    "plt.ylabel('Accuracy')\n",
    "plt.legend()\n",
    "plt.show()"
   ]
  },
  {
   "cell_type": "code",
   "execution_count": 33,
   "metadata": {
    "execution": {
     "iopub.execute_input": "2020-10-05T04:41:44.376082Z",
     "iopub.status.busy": "2020-10-05T04:41:44.374985Z",
     "iopub.status.idle": "2020-10-05T04:41:49.105626Z",
     "shell.execute_reply": "2020-10-05T04:41:49.104781Z"
    },
    "papermill": {
     "duration": 8.848196,
     "end_time": "2020-10-05T04:41:49.105745",
     "exception": false,
     "start_time": "2020-10-05T04:41:40.257549",
     "status": "completed"
    },
    "tags": []
   },
   "outputs": [
    {
     "name": "stdout",
     "output_type": "stream",
     "text": [
      "25/25 [==============================] - 3s 114ms/step\n"
     ]
    }
   ],
   "source": [
    "res = custom_densenet169_model.predict_generator(valid_generator, verbose=1)\n",
    "\n",
    "    "
   ]
  },
  {
   "cell_type": "code",
   "execution_count": 34,
   "metadata": {
    "execution": {
     "iopub.execute_input": "2020-10-05T04:41:56.836094Z",
     "iopub.status.busy": "2020-10-05T04:41:56.835004Z",
     "iopub.status.idle": "2020-10-05T04:42:03.029085Z",
     "shell.execute_reply": "2020-10-05T04:42:03.028514Z"
    },
    "papermill": {
     "duration": 10.112958,
     "end_time": "2020-10-05T04:42:03.029206",
     "exception": false,
     "start_time": "2020-10-05T04:41:52.916248",
     "status": "completed"
    },
    "tags": []
   },
   "outputs": [
    {
     "name": "stdout",
     "output_type": "stream",
     "text": [
      "22/22 [==============================] - 4s 194ms/step\n"
     ]
    }
   ],
   "source": [
    "test_generator.reset()\n",
    "res_test=custom_densenet169_model.predict_generator(test_generator,\n",
    "#steps=STEP_SIZE_TEST,\n",
    "verbose=1)"
   ]
  },
  {
   "cell_type": "code",
   "execution_count": 35,
   "metadata": {
    "execution": {
     "iopub.execute_input": "2020-10-05T04:42:11.003584Z",
     "iopub.status.busy": "2020-10-05T04:42:11.002420Z",
     "iopub.status.idle": "2020-10-05T04:42:13.841418Z",
     "shell.execute_reply": "2020-10-05T04:42:13.840801Z"
    },
    "papermill": {
     "duration": 6.848379,
     "end_time": "2020-10-05T04:42:13.841529",
     "exception": false,
     "start_time": "2020-10-05T04:42:06.993150",
     "status": "completed"
    },
    "tags": []
   },
   "outputs": [
    {
     "name": "stdout",
     "output_type": "stream",
     "text": [
      "25/25 [==============================] - 3s 103ms/step\n"
     ]
    }
   ],
   "source": [
    "valid_generator.reset()\n",
    "res_cv=custom_densenet169_model.predict_generator(valid_generator,\n",
    "#steps=STEP_SIZE_TEST,\n",
    "verbose=1)"
   ]
  },
  {
   "cell_type": "code",
   "execution_count": 36,
   "metadata": {
    "execution": {
     "iopub.execute_input": "2020-10-05T04:42:22.089402Z",
     "iopub.status.busy": "2020-10-05T04:42:22.088325Z",
     "iopub.status.idle": "2020-10-05T04:42:59.899831Z",
     "shell.execute_reply": "2020-10-05T04:42:59.899344Z"
    },
    "papermill": {
     "duration": 41.662037,
     "end_time": "2020-10-05T04:42:59.899949",
     "exception": false,
     "start_time": "2020-10-05T04:42:18.237912",
     "status": "completed"
    },
    "tags": []
   },
   "outputs": [
    {
     "name": "stdout",
     "output_type": "stream",
     "text": [
      "98/98 [==============================] - 37s 378ms/step\n"
     ]
    }
   ],
   "source": [
    "train_generator.reset()\n",
    "res_train=custom_densenet169_model.predict_generator(train_generator,\n",
    "#steps=STEP_SIZE_TEST,\n",
    "verbose=1)"
   ]
  },
  {
   "cell_type": "code",
   "execution_count": 37,
   "metadata": {
    "execution": {
     "iopub.execute_input": "2020-10-05T04:43:07.895091Z",
     "iopub.status.busy": "2020-10-05T04:43:07.894250Z",
     "iopub.status.idle": "2020-10-05T04:43:07.897481Z",
     "shell.execute_reply": "2020-10-05T04:43:07.897969Z"
    },
    "papermill": {
     "duration": 3.875765,
     "end_time": "2020-10-05T04:43:07.898110",
     "exception": false,
     "start_time": "2020-10-05T04:43:04.022345",
     "status": "completed"
    },
    "tags": []
   },
   "outputs": [
    {
     "data": {
      "text/plain": [
       "(1380, 80)"
      ]
     },
     "execution_count": 37,
     "metadata": {},
     "output_type": "execute_result"
    }
   ],
   "source": [
    "res_test.shape"
   ]
  },
  {
   "cell_type": "code",
   "execution_count": 38,
   "metadata": {
    "execution": {
     "iopub.execute_input": "2020-10-05T04:43:16.336162Z",
     "iopub.status.busy": "2020-10-05T04:43:16.335337Z",
     "iopub.status.idle": "2020-10-05T04:43:16.526552Z",
     "shell.execute_reply": "2020-10-05T04:43:16.526001Z"
    },
    "papermill": {
     "duration": 4.26076,
     "end_time": "2020-10-05T04:43:16.526666",
     "exception": false,
     "start_time": "2020-10-05T04:43:12.265906",
     "status": "completed"
    },
    "tags": []
   },
   "outputs": [],
   "source": [
    "# Converting taget and identity columns to booleans\n",
    "\n",
    "target_columns=list(trainmultidf.columns)[:-1]\n",
    "\n",
    "def convert_to_bool(df, col_name):\n",
    "    df[col_name] = np.where(df[col_name] >= 0.5, True, False)\n",
    "    \n",
    "def convert_dataframe_to_bool(df):\n",
    "    bool_df = df.copy()\n",
    "    for col in target_columns:\n",
    "        convert_to_bool(bool_df, col)\n",
    "    return bool_df\n",
    "\n",
    "test_bool = convert_dataframe_to_bool(testmultidf) \n",
    "test_lable_bool=test_bool[list(test_bool.columns)[:-1]].to_numpy()\n",
    "\n",
    "train_bool = convert_dataframe_to_bool(trainmultidf) \n",
    "train_lable_bool=train_bool[list(train_bool.columns)[:-1]].to_numpy()\n",
    "\n",
    "cv_bool = convert_dataframe_to_bool(cvmultidf) \n",
    "cv_lable_bool=cv_bool[list(cv_bool.columns)[:-1]].to_numpy()"
   ]
  },
  {
   "cell_type": "code",
   "execution_count": 39,
   "metadata": {
    "execution": {
     "iopub.execute_input": "2020-10-05T04:43:24.546627Z",
     "iopub.status.busy": "2020-10-05T04:43:24.545531Z",
     "iopub.status.idle": "2020-10-05T04:43:24.549643Z",
     "shell.execute_reply": "2020-10-05T04:43:24.547483Z"
    },
    "papermill": {
     "duration": 4.105191,
     "end_time": "2020-10-05T04:43:24.549756",
     "exception": false,
     "start_time": "2020-10-05T04:43:20.444565",
     "status": "completed"
    },
    "tags": []
   },
   "outputs": [
    {
     "data": {
      "text/plain": [
       "(1563, 80)"
      ]
     },
     "execution_count": 39,
     "metadata": {},
     "output_type": "execute_result"
    }
   ],
   "source": [
    "cv_lable_bool.shape"
   ]
  },
  {
   "cell_type": "markdown",
   "metadata": {
    "papermill": {
     "duration": 3.833739,
     "end_time": "2020-10-05T04:43:32.254259",
     "exception": false,
     "start_time": "2020-10-05T04:43:28.420520",
     "status": "completed"
    },
    "tags": []
   },
   "source": [
    "# Evaluation Metric"
   ]
  },
  {
   "cell_type": "code",
   "execution_count": 40,
   "metadata": {
    "execution": {
     "iopub.execute_input": "2020-10-05T04:43:40.154109Z",
     "iopub.status.busy": "2020-10-05T04:43:40.153150Z",
     "iopub.status.idle": "2020-10-05T04:43:40.154867Z",
     "shell.execute_reply": "2020-10-05T04:43:40.155352Z"
    },
    "papermill": {
     "duration": 3.793823,
     "end_time": "2020-10-05T04:43:40.155480",
     "exception": false,
     "start_time": "2020-10-05T04:43:36.361657",
     "status": "completed"
    },
    "tags": []
   },
   "outputs": [],
   "source": [
    "import numpy as np\n",
    "import sklearn.metrics"
   ]
  },
  {
   "cell_type": "code",
   "execution_count": 41,
   "metadata": {
    "execution": {
     "iopub.execute_input": "2020-10-05T04:43:47.895360Z",
     "iopub.status.busy": "2020-10-05T04:43:47.893483Z",
     "iopub.status.idle": "2020-10-05T04:43:47.896134Z",
     "shell.execute_reply": "2020-10-05T04:43:47.896747Z"
    },
    "papermill": {
     "duration": 3.981112,
     "end_time": "2020-10-05T04:43:47.896897",
     "exception": false,
     "start_time": "2020-10-05T04:43:43.915785",
     "status": "completed"
    },
    "tags": []
   },
   "outputs": [],
   "source": [
    "# Core calculation of label precisions for one test sample.\n",
    "\n",
    "def _one_sample_positive_class_precisions(scores, truth):\n",
    "  \"\"\"Calculate precisions for each true class for a single sample.\n",
    "  \n",
    "  Args:\n",
    "    scores: np.array of (num_classes,) giving the individual classifier scores.\n",
    "    truth: np.array of (num_classes,) bools indicating which classes are true.\n",
    "\n",
    "  Returns:\n",
    "    pos_class_indices: np.array of indices of the true classes for this sample.\n",
    "    pos_class_precisions: np.array of precisions corresponding to each of those\n",
    "      classes.\n",
    "  \"\"\"\n",
    "  num_classes = scores.shape[0]\n",
    "  pos_class_indices = np.flatnonzero(truth > 0)\n",
    "  # Only calculate precisions if there are some true classes.\n",
    "  if not len(pos_class_indices):\n",
    "    return pos_class_indices, np.zeros(0)\n",
    "  # Retrieval list of classes for this sample. \n",
    "  retrieved_classes = np.argsort(scores)[::-1]\n",
    "  # class_rankings[top_scoring_class_index] == 0 etc.\n",
    "  class_rankings = np.zeros(num_classes, dtype=np.int)\n",
    "  class_rankings[retrieved_classes] = range(num_classes)\n",
    "  # Which of these is a true label?\n",
    "  retrieved_class_true = np.zeros(num_classes, dtype=np.bool)\n",
    "  retrieved_class_true[class_rankings[pos_class_indices]] = True\n",
    "  # Num hits for every truncated retrieval list.\n",
    "  retrieved_cumulative_hits = np.cumsum(retrieved_class_true)\n",
    "  # Precision of retrieval list truncated at each hit, in order of pos_labels.\n",
    "  precision_at_hits = (\n",
    "      retrieved_cumulative_hits[class_rankings[pos_class_indices]] / \n",
    "      (1 + class_rankings[pos_class_indices].astype(np.float)))\n",
    "  return pos_class_indices, precision_at_hits\n"
   ]
  },
  {
   "cell_type": "code",
   "execution_count": 42,
   "metadata": {
    "execution": {
     "iopub.execute_input": "2020-10-05T04:43:55.790566Z",
     "iopub.status.busy": "2020-10-05T04:43:55.789589Z",
     "iopub.status.idle": "2020-10-05T04:43:55.796393Z",
     "shell.execute_reply": "2020-10-05T04:43:55.797441Z"
    },
    "papermill": {
     "duration": 4.010615,
     "end_time": "2020-10-05T04:43:55.797610",
     "exception": false,
     "start_time": "2020-10-05T04:43:51.786995",
     "status": "completed"
    },
    "tags": []
   },
   "outputs": [],
   "source": [
    "# All-in-one calculation of per-class lwlrap.\n",
    "\n",
    "def calculate_per_class_lwlrap(truth, scores):\n",
    "  \"\"\"Calculate label-weighted label-ranking average precision.\n",
    "  \n",
    "  Arguments:\n",
    "    truth: np.array of (num_samples, num_classes) giving boolean ground-truth\n",
    "      of presence of that class in that sample.\n",
    "    scores: np.array of (num_samples, num_classes) giving the classifier-under-\n",
    "      test's real-valued score for each class for each sample.\n",
    "  \n",
    "  Returns:\n",
    "    per_class_lwlrap: np.array of (num_classes,) giving the lwlrap for each \n",
    "      class.\n",
    "    weight_per_class: np.array of (num_classes,) giving the prior of each \n",
    "      class within the truth labels.  Then the overall unbalanced lwlrap is \n",
    "      simply np.sum(per_class_lwlrap * weight_per_class)\n",
    "  \"\"\"\n",
    "  assert truth.shape == scores.shape\n",
    "  num_samples, num_classes = scores.shape\n",
    "  # Space to store a distinct precision value for each class on each sample.\n",
    "  # Only the classes that are true for each sample will be filled in.\n",
    "  precisions_for_samples_by_classes = np.zeros((num_samples, num_classes))\n",
    "  for sample_num in range(num_samples):\n",
    "    pos_class_indices, precision_at_hits = (\n",
    "      _one_sample_positive_class_precisions(scores[sample_num, :], \n",
    "                                            truth[sample_num, :]))\n",
    "    precisions_for_samples_by_classes[sample_num, pos_class_indices] = (\n",
    "        precision_at_hits)\n",
    "  labels_per_class = np.sum(truth > 0, axis=0)\n",
    "  weight_per_class = labels_per_class / float(np.sum(labels_per_class))\n",
    "  # Form average of each column, i.e. all the precisions assigned to labels in\n",
    "  # a particular class.\n",
    "  per_class_lwlrap = (np.sum(precisions_for_samples_by_classes, axis=0) / \n",
    "                      np.maximum(1, labels_per_class))\n",
    "  # overall_lwlrap = simple average of all the actual per-class, per-sample precisions\n",
    "  #                = np.sum(precisions_for_samples_by_classes) / np.sum(precisions_for_samples_by_classes > 0)\n",
    "  #           also = weighted mean of per-class lwlraps, weighted by class label prior across samples\n",
    "  #                = np.sum(per_class_lwlrap * weight_per_class)\n",
    "  return per_class_lwlrap, weight_per_class"
   ]
  },
  {
   "cell_type": "code",
   "execution_count": 43,
   "metadata": {
    "execution": {
     "iopub.execute_input": "2020-10-05T04:44:03.385645Z",
     "iopub.status.busy": "2020-10-05T04:44:03.383901Z",
     "iopub.status.idle": "2020-10-05T04:44:03.386314Z",
     "shell.execute_reply": "2020-10-05T04:44:03.386843Z"
    },
    "papermill": {
     "duration": 3.822509,
     "end_time": "2020-10-05T04:44:03.386979",
     "exception": false,
     "start_time": "2020-10-05T04:43:59.564470",
     "status": "completed"
    },
    "tags": []
   },
   "outputs": [],
   "source": [
    "# Calculate the overall lwlrap using sklearn.metrics function.\n",
    "\n",
    "def calculate_overall_lwlrap_sklearn(truth, scores):\n",
    "  \"\"\"Calculate the overall lwlrap using sklearn.metrics.lrap.\"\"\"\n",
    "  # sklearn doesn't correctly apply weighting to samples with no labels, so just skip them.\n",
    "  sample_weight = np.sum(truth > 0, axis=1)\n",
    "  nonzero_weight_sample_indices = np.flatnonzero(sample_weight > 0)\n",
    "  overall_lwlrap = sklearn.metrics.label_ranking_average_precision_score(\n",
    "      truth[nonzero_weight_sample_indices, :] > 0, \n",
    "      scores[nonzero_weight_sample_indices, :], \n",
    "      sample_weight=sample_weight[nonzero_weight_sample_indices])\n",
    "  return overall_lwlrap"
   ]
  },
  {
   "cell_type": "code",
   "execution_count": 44,
   "metadata": {
    "execution": {
     "iopub.execute_input": "2020-10-05T04:44:11.628074Z",
     "iopub.status.busy": "2020-10-05T04:44:11.626997Z",
     "iopub.status.idle": "2020-10-05T04:44:11.629370Z",
     "shell.execute_reply": "2020-10-05T04:44:11.629880Z"
    },
    "papermill": {
     "duration": 4.244263,
     "end_time": "2020-10-05T04:44:11.630003",
     "exception": false,
     "start_time": "2020-10-05T04:44:07.385740",
     "status": "completed"
    },
    "tags": []
   },
   "outputs": [],
   "source": [
    "# Accumulator object version.\n",
    "\n",
    "class lwlrap_accumulator(object):\n",
    "  \"\"\"Accumulate batches of test samples into per-class and overall lwlrap.\"\"\"  \n",
    "\n",
    "  def __init__(self):\n",
    "    self.num_classes = 0\n",
    "    self.total_num_samples = 0\n",
    "  \n",
    "  def accumulate_samples(self, batch_truth, batch_scores):\n",
    "    \"\"\"Cumulate a new batch of samples into the metric.\n",
    "    \n",
    "    Args:\n",
    "      truth: np.array of (num_samples, num_classes) giving boolean\n",
    "        ground-truth of presence of that class in that sample for this batch.\n",
    "      scores: np.array of (num_samples, num_classes) giving the \n",
    "        classifier-under-test's real-valued score for each class for each\n",
    "        sample.\n",
    "    \"\"\"\n",
    "    assert batch_scores.shape == batch_truth.shape\n",
    "    num_samples, num_classes = batch_truth.shape\n",
    "    if not self.num_classes:\n",
    "      self.num_classes = num_classes\n",
    "      self._per_class_cumulative_precision = np.zeros(self.num_classes)\n",
    "      self._per_class_cumulative_count = np.zeros(self.num_classes, \n",
    "                                                  dtype=np.int)\n",
    "    assert num_classes == self.num_classes\n",
    "    for truth, scores in zip(batch_truth, batch_scores):\n",
    "      pos_class_indices, precision_at_hits = (\n",
    "        _one_sample_positive_class_precisions(scores, truth))\n",
    "      self._per_class_cumulative_precision[pos_class_indices] += (\n",
    "        precision_at_hits)\n",
    "      self._per_class_cumulative_count[pos_class_indices] += 1\n",
    "    self.total_num_samples += num_samples\n",
    "\n",
    "  def per_class_lwlrap(self):\n",
    "    \"\"\"Return a vector of the per-class lwlraps for the accumulated samples.\"\"\"\n",
    "    return (self._per_class_cumulative_precision / \n",
    "            np.maximum(1, self._per_class_cumulative_count))\n",
    "\n",
    "  def per_class_weight(self):\n",
    "    \"\"\"Return a normalized weight vector for the contributions of each class.\"\"\"\n",
    "    return (self._per_class_cumulative_count / \n",
    "            float(np.sum(self._per_class_cumulative_count)))\n",
    "\n",
    "  def overall_lwlrap(self):\n",
    "    \"\"\"Return the scalar overall lwlrap for cumulated samples.\"\"\"\n",
    "    return np.sum(self.per_class_lwlrap() * self.per_class_weight())"
   ]
  },
  {
   "cell_type": "code",
   "execution_count": 45,
   "metadata": {
    "execution": {
     "iopub.execute_input": "2020-10-05T04:44:19.779115Z",
     "iopub.status.busy": "2020-10-05T04:44:19.778261Z",
     "iopub.status.idle": "2020-10-05T04:44:19.973284Z",
     "shell.execute_reply": "2020-10-05T04:44:19.973764Z"
    },
    "papermill": {
     "duration": 4.365855,
     "end_time": "2020-10-05T04:44:19.973923",
     "exception": false,
     "start_time": "2020-10-05T04:44:15.608068",
     "status": "completed"
    },
    "tags": []
   },
   "outputs": [
    {
     "name": "stdout",
     "output_type": "stream",
     "text": [
      "lwlrap from sklearn.metrics = 0.8320447136759421\n"
     ]
    }
   ],
   "source": [
    "#https://www.kaggle.com/voglinio/keras-2d-model-5-fold-log-specgram-curated-only\n",
    "truth = test_lable_bool\n",
    "scores = res_test\n",
    "print(\"lwlrap from sklearn.metrics =\", calculate_overall_lwlrap_sklearn(truth, scores))"
   ]
  },
  {
   "cell_type": "code",
   "execution_count": 46,
   "metadata": {
    "execution": {
     "iopub.execute_input": "2020-10-05T04:44:28.131381Z",
     "iopub.status.busy": "2020-10-05T04:44:28.130508Z",
     "iopub.status.idle": "2020-10-05T04:44:29.207501Z",
     "shell.execute_reply": "2020-10-05T04:44:29.206584Z"
    },
    "papermill": {
     "duration": 4.967968,
     "end_time": "2020-10-05T04:44:29.207626",
     "exception": false,
     "start_time": "2020-10-05T04:44:24.239658",
     "status": "completed"
    },
    "tags": []
   },
   "outputs": [
    {
     "name": "stdout",
     "output_type": "stream",
     "text": [
      "lwlrap from sklearn.metrics = 0.9999308628318584\n"
     ]
    }
   ],
   "source": [
    "truth = train_lable_bool\n",
    "scores = res_train\n",
    "print(\"lwlrap from sklearn.metrics =\", calculate_overall_lwlrap_sklearn(truth, scores))"
   ]
  },
  {
   "cell_type": "code",
   "execution_count": 47,
   "metadata": {
    "execution": {
     "iopub.execute_input": "2020-10-05T04:44:36.807852Z",
     "iopub.status.busy": "2020-10-05T04:44:36.807008Z",
     "iopub.status.idle": "2020-10-05T04:44:37.021438Z",
     "shell.execute_reply": "2020-10-05T04:44:37.022080Z"
    },
    "papermill": {
     "duration": 3.984692,
     "end_time": "2020-10-05T04:44:37.022226",
     "exception": false,
     "start_time": "2020-10-05T04:44:33.037534",
     "status": "completed"
    },
    "tags": []
   },
   "outputs": [
    {
     "name": "stdout",
     "output_type": "stream",
     "text": [
      "lwlrap from sklearn.metrics = 0.8218595492900727\n"
     ]
    }
   ],
   "source": [
    "truth = cv_lable_bool\n",
    "scores = res_cv\n",
    "print(\"lwlrap from sklearn.metrics =\", calculate_overall_lwlrap_sklearn(truth, scores))"
   ]
  },
  {
   "cell_type": "markdown",
   "metadata": {
    "papermill": {
     "duration": 3.757014,
     "end_time": "2020-10-05T04:44:44.826495",
     "exception": false,
     "start_time": "2020-10-05T04:44:41.069481",
     "status": "completed"
    },
    "tags": []
   },
   "source": [
    "## SUBMISSION"
   ]
  },
  {
   "cell_type": "code",
   "execution_count": 48,
   "metadata": {
    "execution": {
     "iopub.execute_input": "2020-10-05T04:44:52.783371Z",
     "iopub.status.busy": "2020-10-05T04:44:52.782613Z",
     "iopub.status.idle": "2020-10-05T04:44:53.381861Z",
     "shell.execute_reply": "2020-10-05T04:44:53.382497Z"
    },
    "papermill": {
     "duration": 4.785226,
     "end_time": "2020-10-05T04:44:53.382658",
     "exception": false,
     "start_time": "2020-10-05T04:44:48.597432",
     "status": "completed"
    },
    "tags": []
   },
   "outputs": [
    {
     "name": "stdout",
     "output_type": "stream",
     "text": [
      "Found 3361 validated image filenames.\n"
     ]
    }
   ],
   "source": [
    "sub_dataframe = pd.DataFrame({'fname':os.listdir('../input/sc2-total-aug-noisy-data/sub2/sub2')})\n",
    "\n",
    "sub_datagen=ImageDataGenerator(rescale=1./255.)\n",
    "sub_generator=sub_datagen.flow_from_dataframe(\n",
    "    dataframe=sub_dataframe,\n",
    "    directory=\"../input/sc2-total-aug-noisy-data/sub2/sub2\",\n",
    "    x_col=\"fname\",\n",
    "    y_col=None,\n",
    "    batch_size=64,\n",
    "    seed=42,\n",
    "    shuffle=False,\n",
    "    class_mode=None,\n",
    "    target_size=(128,128))"
   ]
  },
  {
   "cell_type": "code",
   "execution_count": 49,
   "metadata": {
    "execution": {
     "iopub.execute_input": "2020-10-05T04:45:01.012482Z",
     "iopub.status.busy": "2020-10-05T04:45:01.011533Z",
     "iopub.status.idle": "2020-10-05T04:45:01.013550Z",
     "shell.execute_reply": "2020-10-05T04:45:01.014018Z"
    },
    "papermill": {
     "duration": 3.795124,
     "end_time": "2020-10-05T04:45:01.014161",
     "exception": false,
     "start_time": "2020-10-05T04:44:57.219037",
     "status": "completed"
    },
    "tags": []
   },
   "outputs": [],
   "source": [
    "STEP_SIZE_SUB=sub_generator.n//sub_generator.batch_size"
   ]
  },
  {
   "cell_type": "code",
   "execution_count": 50,
   "metadata": {
    "execution": {
     "iopub.execute_input": "2020-10-05T04:45:08.860364Z",
     "iopub.status.busy": "2020-10-05T04:45:08.859214Z",
     "iopub.status.idle": "2020-10-05T04:45:20.540664Z",
     "shell.execute_reply": "2020-10-05T04:45:20.539819Z"
    },
    "papermill": {
     "duration": 15.462201,
     "end_time": "2020-10-05T04:45:20.540788",
     "exception": false,
     "start_time": "2020-10-05T04:45:05.078587",
     "status": "completed"
    },
    "tags": []
   },
   "outputs": [
    {
     "name": "stdout",
     "output_type": "stream",
     "text": [
      "53/53 [==============================] - 11s 214ms/step\n"
     ]
    }
   ],
   "source": [
    "sub_generator.reset()\n",
    "res_sub=custom_densenet169_model.predict_generator(sub_generator,\n",
    "#steps=STEP_SIZE_TEST,\n",
    "verbose=1)"
   ]
  },
  {
   "cell_type": "code",
   "execution_count": 51,
   "metadata": {
    "execution": {
     "iopub.execute_input": "2020-10-05T04:45:28.754193Z",
     "iopub.status.busy": "2020-10-05T04:45:28.753269Z",
     "iopub.status.idle": "2020-10-05T04:45:28.756237Z",
     "shell.execute_reply": "2020-10-05T04:45:28.756703Z"
    },
    "papermill": {
     "duration": 3.851575,
     "end_time": "2020-10-05T04:45:28.756824",
     "exception": false,
     "start_time": "2020-10-05T04:45:24.905249",
     "status": "completed"
    },
    "tags": []
   },
   "outputs": [
    {
     "data": {
      "text/plain": [
       "(3361, 80)"
      ]
     },
     "execution_count": 51,
     "metadata": {},
     "output_type": "execute_result"
    }
   ],
   "source": [
    "res_sub.shape"
   ]
  },
  {
   "cell_type": "code",
   "execution_count": 52,
   "metadata": {
    "execution": {
     "iopub.execute_input": "2020-10-05T04:45:36.581930Z",
     "iopub.status.busy": "2020-10-05T04:45:36.581188Z",
     "iopub.status.idle": "2020-10-05T04:45:36.584148Z",
     "shell.execute_reply": "2020-10-05T04:45:36.584581Z"
    },
    "papermill": {
     "duration": 4.071607,
     "end_time": "2020-10-05T04:45:36.584710",
     "exception": false,
     "start_time": "2020-10-05T04:45:32.513103",
     "status": "completed"
    },
    "tags": []
   },
   "outputs": [],
   "source": [
    "submit_data=pd.DataFrame(res_sub.astype(\"float64\"), columns=list(mlb_train.classes_))"
   ]
  },
  {
   "cell_type": "code",
   "execution_count": 53,
   "metadata": {
    "execution": {
     "iopub.execute_input": "2020-10-05T04:45:44.217678Z",
     "iopub.status.busy": "2020-10-05T04:45:44.217070Z",
     "iopub.status.idle": "2020-10-05T04:45:44.254229Z",
     "shell.execute_reply": "2020-10-05T04:45:44.253564Z"
    },
    "papermill": {
     "duration": 3.876658,
     "end_time": "2020-10-05T04:45:44.254374",
     "exception": false,
     "start_time": "2020-10-05T04:45:40.377716",
     "status": "completed"
    },
    "tags": []
   },
   "outputs": [
    {
     "data": {
      "text/html": [
       "<div>\n",
       "<style scoped>\n",
       "    .dataframe tbody tr th:only-of-type {\n",
       "        vertical-align: middle;\n",
       "    }\n",
       "\n",
       "    .dataframe tbody tr th {\n",
       "        vertical-align: top;\n",
       "    }\n",
       "\n",
       "    .dataframe thead th {\n",
       "        text-align: right;\n",
       "    }\n",
       "</style>\n",
       "<table border=\"1\" class=\"dataframe\">\n",
       "  <thead>\n",
       "    <tr style=\"text-align: right;\">\n",
       "      <th></th>\n",
       "      <th>fname</th>\n",
       "      <th>Accelerating_and_revving_and_vroom</th>\n",
       "      <th>Accordion</th>\n",
       "      <th>Acoustic_guitar</th>\n",
       "      <th>Applause</th>\n",
       "      <th>Bark</th>\n",
       "      <th>Bass_drum</th>\n",
       "      <th>Bass_guitar</th>\n",
       "      <th>Bathtub_(filling_or_washing)</th>\n",
       "      <th>Bicycle_bell</th>\n",
       "      <th>...</th>\n",
       "      <th>Toilet_flush</th>\n",
       "      <th>Traffic_noise_and_roadway_noise</th>\n",
       "      <th>Trickle_and_dribble</th>\n",
       "      <th>Walk_and_footsteps</th>\n",
       "      <th>Water_tap_and_faucet</th>\n",
       "      <th>Waves_and_surf</th>\n",
       "      <th>Whispering</th>\n",
       "      <th>Writing</th>\n",
       "      <th>Yell</th>\n",
       "      <th>Zipper_(clothing)</th>\n",
       "    </tr>\n",
       "  </thead>\n",
       "  <tbody>\n",
       "    <tr>\n",
       "      <th>0</th>\n",
       "      <td>f308ee9f.wav</td>\n",
       "      <td>4.471439e-06</td>\n",
       "      <td>4.316949e-08</td>\n",
       "      <td>5.823090e-06</td>\n",
       "      <td>7.316105e-11</td>\n",
       "      <td>3.007721e-08</td>\n",
       "      <td>1.292125e-08</td>\n",
       "      <td>4.765659e-11</td>\n",
       "      <td>1.526320e-10</td>\n",
       "      <td>8.883165e-08</td>\n",
       "      <td>...</td>\n",
       "      <td>1.769290e-14</td>\n",
       "      <td>1.171853e-06</td>\n",
       "      <td>3.831479e-10</td>\n",
       "      <td>2.233764e-05</td>\n",
       "      <td>1.642860e-08</td>\n",
       "      <td>1.195578e-10</td>\n",
       "      <td>7.125212e-09</td>\n",
       "      <td>8.395816e-05</td>\n",
       "      <td>1.142902e-10</td>\n",
       "      <td>1.368231e-06</td>\n",
       "    </tr>\n",
       "    <tr>\n",
       "      <th>1</th>\n",
       "      <td>57e25987.wav</td>\n",
       "      <td>1.065797e-11</td>\n",
       "      <td>1.003058e-08</td>\n",
       "      <td>1.891505e-08</td>\n",
       "      <td>6.182001e-11</td>\n",
       "      <td>1.182101e-06</td>\n",
       "      <td>4.709669e-08</td>\n",
       "      <td>2.540667e-11</td>\n",
       "      <td>4.210964e-07</td>\n",
       "      <td>9.355826e-09</td>\n",
       "      <td>...</td>\n",
       "      <td>3.549069e-07</td>\n",
       "      <td>5.974715e-07</td>\n",
       "      <td>4.817446e-09</td>\n",
       "      <td>3.523593e-08</td>\n",
       "      <td>6.272824e-09</td>\n",
       "      <td>8.496252e-12</td>\n",
       "      <td>8.595527e-10</td>\n",
       "      <td>2.362627e-10</td>\n",
       "      <td>1.365850e-08</td>\n",
       "      <td>1.053679e-04</td>\n",
       "    </tr>\n",
       "    <tr>\n",
       "      <th>2</th>\n",
       "      <td>85965288.wav</td>\n",
       "      <td>1.178867e-02</td>\n",
       "      <td>3.402996e-09</td>\n",
       "      <td>8.771033e-09</td>\n",
       "      <td>6.911026e-09</td>\n",
       "      <td>8.911034e-04</td>\n",
       "      <td>1.106438e-09</td>\n",
       "      <td>1.783589e-13</td>\n",
       "      <td>1.472241e-07</td>\n",
       "      <td>1.063112e-08</td>\n",
       "      <td>...</td>\n",
       "      <td>5.036910e-11</td>\n",
       "      <td>7.463105e-06</td>\n",
       "      <td>2.173926e-05</td>\n",
       "      <td>6.662994e-10</td>\n",
       "      <td>2.721039e-07</td>\n",
       "      <td>2.835660e-11</td>\n",
       "      <td>1.781896e-16</td>\n",
       "      <td>4.964787e-13</td>\n",
       "      <td>2.949225e-12</td>\n",
       "      <td>8.898747e-09</td>\n",
       "    </tr>\n",
       "    <tr>\n",
       "      <th>3</th>\n",
       "      <td>f0d764ff.wav</td>\n",
       "      <td>7.497752e-10</td>\n",
       "      <td>4.836820e-06</td>\n",
       "      <td>3.056871e-04</td>\n",
       "      <td>1.726756e-10</td>\n",
       "      <td>1.259501e-07</td>\n",
       "      <td>1.718508e-06</td>\n",
       "      <td>2.365811e-05</td>\n",
       "      <td>2.791579e-11</td>\n",
       "      <td>9.120449e-13</td>\n",
       "      <td>...</td>\n",
       "      <td>5.559089e-06</td>\n",
       "      <td>1.408131e-07</td>\n",
       "      <td>1.483608e-09</td>\n",
       "      <td>5.045070e-08</td>\n",
       "      <td>1.186742e-11</td>\n",
       "      <td>5.181462e-13</td>\n",
       "      <td>6.537847e-10</td>\n",
       "      <td>1.718971e-10</td>\n",
       "      <td>2.094859e-08</td>\n",
       "      <td>1.535430e-11</td>\n",
       "    </tr>\n",
       "    <tr>\n",
       "      <th>4</th>\n",
       "      <td>d337d98e.wav</td>\n",
       "      <td>3.684507e-10</td>\n",
       "      <td>1.053894e-07</td>\n",
       "      <td>1.527448e-07</td>\n",
       "      <td>9.717518e-10</td>\n",
       "      <td>2.708803e-06</td>\n",
       "      <td>4.339337e-01</td>\n",
       "      <td>4.168693e-08</td>\n",
       "      <td>8.435557e-06</td>\n",
       "      <td>6.412660e-08</td>\n",
       "      <td>...</td>\n",
       "      <td>8.510522e-09</td>\n",
       "      <td>2.818864e-06</td>\n",
       "      <td>9.697868e-07</td>\n",
       "      <td>1.024795e-05</td>\n",
       "      <td>3.753812e-05</td>\n",
       "      <td>1.489047e-07</td>\n",
       "      <td>3.839227e-07</td>\n",
       "      <td>1.036688e-06</td>\n",
       "      <td>1.861059e-10</td>\n",
       "      <td>2.018679e-09</td>\n",
       "    </tr>\n",
       "  </tbody>\n",
       "</table>\n",
       "<p>5 rows × 81 columns</p>\n",
       "</div>"
      ],
      "text/plain": [
       "          fname  Accelerating_and_revving_and_vroom     Accordion  \\\n",
       "0  f308ee9f.wav                        4.471439e-06  4.316949e-08   \n",
       "1  57e25987.wav                        1.065797e-11  1.003058e-08   \n",
       "2  85965288.wav                        1.178867e-02  3.402996e-09   \n",
       "3  f0d764ff.wav                        7.497752e-10  4.836820e-06   \n",
       "4  d337d98e.wav                        3.684507e-10  1.053894e-07   \n",
       "\n",
       "   Acoustic_guitar      Applause          Bark     Bass_drum   Bass_guitar  \\\n",
       "0     5.823090e-06  7.316105e-11  3.007721e-08  1.292125e-08  4.765659e-11   \n",
       "1     1.891505e-08  6.182001e-11  1.182101e-06  4.709669e-08  2.540667e-11   \n",
       "2     8.771033e-09  6.911026e-09  8.911034e-04  1.106438e-09  1.783589e-13   \n",
       "3     3.056871e-04  1.726756e-10  1.259501e-07  1.718508e-06  2.365811e-05   \n",
       "4     1.527448e-07  9.717518e-10  2.708803e-06  4.339337e-01  4.168693e-08   \n",
       "\n",
       "   Bathtub_(filling_or_washing)  Bicycle_bell  ...  Toilet_flush  \\\n",
       "0                  1.526320e-10  8.883165e-08  ...  1.769290e-14   \n",
       "1                  4.210964e-07  9.355826e-09  ...  3.549069e-07   \n",
       "2                  1.472241e-07  1.063112e-08  ...  5.036910e-11   \n",
       "3                  2.791579e-11  9.120449e-13  ...  5.559089e-06   \n",
       "4                  8.435557e-06  6.412660e-08  ...  8.510522e-09   \n",
       "\n",
       "   Traffic_noise_and_roadway_noise  Trickle_and_dribble  Walk_and_footsteps  \\\n",
       "0                     1.171853e-06         3.831479e-10        2.233764e-05   \n",
       "1                     5.974715e-07         4.817446e-09        3.523593e-08   \n",
       "2                     7.463105e-06         2.173926e-05        6.662994e-10   \n",
       "3                     1.408131e-07         1.483608e-09        5.045070e-08   \n",
       "4                     2.818864e-06         9.697868e-07        1.024795e-05   \n",
       "\n",
       "   Water_tap_and_faucet  Waves_and_surf    Whispering       Writing  \\\n",
       "0          1.642860e-08    1.195578e-10  7.125212e-09  8.395816e-05   \n",
       "1          6.272824e-09    8.496252e-12  8.595527e-10  2.362627e-10   \n",
       "2          2.721039e-07    2.835660e-11  1.781896e-16  4.964787e-13   \n",
       "3          1.186742e-11    5.181462e-13  6.537847e-10  1.718971e-10   \n",
       "4          3.753812e-05    1.489047e-07  3.839227e-07  1.036688e-06   \n",
       "\n",
       "           Yell  Zipper_(clothing)  \n",
       "0  1.142902e-10       1.368231e-06  \n",
       "1  1.365850e-08       1.053679e-04  \n",
       "2  2.949225e-12       8.898747e-09  \n",
       "3  2.094859e-08       1.535430e-11  \n",
       "4  1.861059e-10       2.018679e-09  \n",
       "\n",
       "[5 rows x 81 columns]"
      ]
     },
     "execution_count": 53,
     "metadata": {},
     "output_type": "execute_result"
    }
   ],
   "source": [
    "submit_data.insert(0, 'fname', os.listdir('../input/sc2-total-aug-noisy-data/sub2/sub2'))\n",
    "submit_data[\"fname\"]=submit_data[\"fname\"].apply(lambda x: x.split(\".\")[0]+\".wav\")\n",
    "submit_data.head()"
   ]
  },
  {
   "cell_type": "code",
   "execution_count": 54,
   "metadata": {
    "execution": {
     "iopub.execute_input": "2020-10-05T04:45:52.221713Z",
     "iopub.status.busy": "2020-10-05T04:45:52.221107Z",
     "iopub.status.idle": "2020-10-05T04:45:53.115317Z",
     "shell.execute_reply": "2020-10-05T04:45:53.114439Z"
    },
    "papermill": {
     "duration": 4.720867,
     "end_time": "2020-10-05T04:45:53.115430",
     "exception": false,
     "start_time": "2020-10-05T04:45:48.394563",
     "status": "completed"
    },
    "tags": []
   },
   "outputs": [],
   "source": [
    "submit_data.to_csv(\"submissionDenseCuratedCV_0_128.csv\",index=False )"
   ]
  },
  {
   "cell_type": "code",
   "execution_count": null,
   "metadata": {
    "papermill": {
     "duration": 3.78579,
     "end_time": "2020-10-05T04:46:01.095028",
     "exception": false,
     "start_time": "2020-10-05T04:45:57.309238",
     "status": "completed"
    },
    "tags": []
   },
   "outputs": [],
   "source": []
  },
  {
   "cell_type": "code",
   "execution_count": null,
   "metadata": {
    "papermill": {
     "duration": 3.966579,
     "end_time": "2020-10-05T04:46:08.900210",
     "exception": false,
     "start_time": "2020-10-05T04:46:04.933631",
     "status": "completed"
    },
    "tags": []
   },
   "outputs": [],
   "source": []
  }
 ],
 "metadata": {
  "kernelspec": {
   "display_name": "Python 3",
   "language": "python",
   "name": "python3"
  },
  "language_info": {
   "codemirror_mode": {
    "name": "ipython",
    "version": 3
   },
   "file_extension": ".py",
   "mimetype": "text/x-python",
   "name": "python",
   "nbconvert_exporter": "python",
   "pygments_lexer": "ipython3",
   "version": "3.7.3"
  },
  "papermill": {
   "duration": 5538.009427,
   "end_time": "2020-10-05T04:46:14.510443",
   "environment_variables": {},
   "exception": null,
   "input_path": "__notebook__.ipynb",
   "output_path": "__notebook__.ipynb",
   "parameters": {},
   "start_time": "2020-10-05T03:13:56.501016",
   "version": "2.1.0"
  }
 },
 "nbformat": 4,
 "nbformat_minor": 4
}
